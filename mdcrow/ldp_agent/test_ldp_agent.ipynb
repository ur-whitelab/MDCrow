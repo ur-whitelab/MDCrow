{
 "cells": [
  {
   "cell_type": "code",
   "execution_count": 10,
   "metadata": {},
   "outputs": [],
   "source": [
    "from typing import Self\n",
    "\n",
    "from aviary.core import (\n",
    "    Environment,\n",
    "    Frame,\n",
    "    Message,\n",
    "    Messages,\n",
    "    TaskDataset,\n",
    "    Tool,\n",
    "    ToolRequestMessage,\n",
    "    ToolResponseMessage,\n",
    ")\n",
    "from pydantic import BaseModel, Field, ConfigDict\n",
    "from typing import List, Dict, Any, Optional, Literal\n",
    "\n",
    "from ldp.agent import Agent\n",
    "from ldp.graph import OpResult\n"
   ]
  },
  {
   "cell_type": "code",
   "execution_count": 2,
   "metadata": {},
   "outputs": [],
   "source": [
    "class MySimpleAgentState(BaseModel):\n",
    "    \"\"\"Simple bucket to store available tools and previous messages.\"\"\"\n",
    "\n",
    "    tools: list[Tool] = Field(default_factory=list)\n",
    "    messages: list[Message] = Field(default_factory=list)\n",
    "\n",
    "    def get_next_state(\n",
    "        self,\n",
    "        obs: list[Message] | None = None,\n",
    "    ) -> Self:\n",
    "        \"\"\"\n",
    "        Return the next agent state based on current state and optional messages.\n",
    "\n",
    "        Args:\n",
    "            obs: Optional observation messages to use in creating the next state.\n",
    "\n",
    "        Returns:\n",
    "            The next agent state.\n",
    "        \"\"\"\n",
    "        return type(self)(\n",
    "            tools=self.tools,\n",
    "            messages=self.messages + (obs or []),\n",
    "        )"
   ]
  },
  {
   "cell_type": "code",
   "execution_count": null,
   "metadata": {},
   "outputs": [],
   "source": [
    "import os \n",
    "os.environ['OPENAI_API_KEY']='<secret>'"
   ]
  },
  {
   "cell_type": "code",
   "execution_count": 111,
   "metadata": {},
   "outputs": [],
   "source": [
    "from typing import Any\n",
    "\n",
    "from ldp.graph import LLMCallOp, compute_graph\n",
    "\n",
    "\n",
    "class MySimpleAgent(BaseModel, Agent[MySimpleAgentState]):\n",
    "    \"\"\"Simple agent that can invoke tools with a language model.\"\"\"\n",
    "\n",
    "    llm_model: dict[str, Any] = Field(\n",
    "        default={\n",
    "            \"name\": \"gpt-4o-2024-08-06\",\n",
    "            \"temperature\": 0.1,\n",
    "        },\n",
    "        description=\"Configuration for the LLM object.\",\n",
    "    )\n",
    "\n",
    "    def __init__(self, **kwargs):\n",
    "        super().__init__(**kwargs)\n",
    "\n",
    "        # Create a Op that the agent will use to call the LLM API\n",
    "        self._llm_call_op = LLMCallOp()\n",
    "\n",
    "    async def init_state(self, tools: list[Tool]) -> MySimpleAgentState:\n",
    "        return MySimpleAgentState(tools=tools)\n",
    "\n",
    "    @compute_graph()\n",
    "    async def get_asv(\n",
    "        self, agent_state: MySimpleAgentState, obs: list[Message]\n",
    "    ) -> tuple[OpResult[ToolRequestMessage], MySimpleAgentState, float]:\n",
    "        # Obtain the next agent state, given the environment observation\n",
    "        next_state = agent_state.get_next_state(obs)\n",
    "        result = await self._llm_call_op(\n",
    "            self.llm_model, msgs=next_state.messages, tools=next_state.tools\n",
    "        )\n",
    "\n",
    "        # Extend the the agent state with the new ToolRequestMessage\n",
    "        next_state.messages = [*next_state.messages, result.value]\n",
    "\n",
    "        # Agent returns an OpResult, the next agent state and the value, which we set to 0.0\n",
    "        return result, next_state, 0.0"
   ]
  },
  {
   "cell_type": "code",
   "execution_count": 15,
   "metadata": {},
   "outputs": [],
   "source": [
    "class MDCrowEnvConfig(BaseModel):\n",
    "    model_config = ConfigDict(extra=\"forbid\")\n",
    "\n",
    "    correct_reward: float = 1.0\n",
    "    incorrect_reward: float = 0.0\n",
    "    tool_failure_reward: float = -1.0\n",
    "    tool_success_reward: float = 0.0\n",
    "    rel_tol: float = 1e-4\n",
    "\n",
    "    done_on_failure: bool = True\n",
    "\n",
    "\n"
   ]
  },
  {
   "cell_type": "code",
   "execution_count": 121,
   "metadata": {},
   "outputs": [],
   "source": [
    "import requests \n",
    "import contextlib\n",
    "import json \n",
    "from typing import Dict, Optional\n",
    "\n",
    "\n",
    "class MDCrowEnv(Environment[None]):\n",
    "    def __init__(\n",
    "        self,\n",
    "        problem_id: str,\n",
    "        problem: str,\n",
    "        answer: float,\n",
    "        config: MDCrowEnvConfig | None = None,\n",
    "    ):\n",
    "        # The problem is not part of the state because it is always the same.\n",
    "        # Putting it in the state would imply it is somehow affected by .step()\n",
    "        # or re-initialized by .reset().\n",
    "        self.problem_id = problem_id\n",
    "        self.problem = problem\n",
    "        self.answer = float(answer)  # If passed in as a 0d tensor  # noqa: FURB123\n",
    "\n",
    "        self.config = config if config is not None else MDCrowEnvConfig()\n",
    "\n",
    "    @classmethod\n",
    "    def from_task(cls, task: str) -> \"MDCrowEnv\":\n",
    "        return cls(problem_id=\"task\", problem=task, answer=0.0)\n",
    "\n",
    "    async def reset(self) -> tuple[Messages, list[Tool]]:\n",
    "        self.state = None  # this environment is effectively stateless\n",
    "        self.tools = [\n",
    "            Tool.from_function(self.download_pdb_file),\n",
    "            Tool.from_function(self.submit_answer),\n",
    "        ]\n",
    "        return [Message(content=self.problem)], self.tools\n",
    "\n",
    "    async def step(\n",
    "        self, action: ToolRequestMessage\n",
    "    ) -> tuple[Messages, float, bool, bool]:\n",
    "        if not action.tool_calls:\n",
    "            return (\n",
    "                [\n",
    "                    Message(\n",
    "                        content=(\n",
    "                            \"Must call one of the provided tools\"\n",
    "                            f\" ({self.download_pdb_file.__name__} or\"\n",
    "                            f\" {self.submit_answer.__name__}).\"\n",
    "                        )\n",
    "                    )\n",
    "                ],\n",
    "                self.config.tool_failure_reward,\n",
    "                self.config.done_on_failure,\n",
    "                False,\n",
    "            )\n",
    "\n",
    "        valid_action, invalid_action = self.filter_invalid_tool_calls(action)\n",
    "\n",
    "        invalid_response_msgs = [\n",
    "            ToolResponseMessage.from_call(tool_call, content=\"\")\n",
    "            for tool_call in invalid_action.tool_calls\n",
    "        ]\n",
    "\n",
    "        if valid_action.tool_calls:\n",
    "            # TODO: Just let exec_tool_calls handle invalid tool calls\n",
    "            # once someone can take a closer look at what response, reward, done\n",
    "            # would be in that case.\n",
    "            results = await self.exec_tool_calls(\n",
    "                valid_action, handle_invalid_tool_calls=False\n",
    "            )\n",
    "            response_msgs = []\n",
    "            total_reward = 0.0\n",
    "            any_done = False\n",
    "\n",
    "            for tool_call, result in zip(valid_action.tool_calls, results, strict=True):\n",
    "                response, reward, done = json.loads(result.content)\n",
    "\n",
    "                response_msgs.append(\n",
    "                    ToolResponseMessage.from_call(tool_call, content=str(response))\n",
    "                )\n",
    "\n",
    "                total_reward += reward\n",
    "                any_done |= done\n",
    "\n",
    "            return (  # type: ignore[return-value]\n",
    "                response_msgs + invalid_response_msgs,\n",
    "                total_reward,\n",
    "                any_done,\n",
    "                False,\n",
    "            )\n",
    "\n",
    "        return (  # type: ignore[return-value]\n",
    "            invalid_response_msgs,\n",
    "            self.config.tool_failure_reward * len(invalid_response_msgs),\n",
    "            self.config.done_on_failure,\n",
    "            False,\n",
    "        )\n",
    "\n",
    "    def submit_answer(self, answer: str) -> tuple[bool, float, Literal[True]]:\n",
    "        \"\"\"Submit the proposed answer and check if it is correct. This action is terminal.\n",
    "\n",
    "        Args:\n",
    "            answer: Proposed answer.\n",
    "\n",
    "        Returns:\n",
    "            Three-tuple of if correct, associated reward (correct_reward if correct,\n",
    "                tool_failure_reward if tool failure, otherwise incorrect_reward), and\n",
    "                True indicating done.\n",
    "        \"\"\"\n",
    "        try:\n",
    "            correct: bool = (\n",
    "                abs(float(answer) - self.answer)\n",
    "                / (abs(self.answer) + self.config.rel_tol)\n",
    "                < self.config.rel_tol\n",
    "            )\n",
    "            reward = (\n",
    "                self.config.correct_reward if correct else self.config.incorrect_reward\n",
    "            )\n",
    "        except ValueError:\n",
    "            return False, self.config.tool_failure_reward, True\n",
    "        else:\n",
    "            return correct, reward, True\n",
    "\n",
    "    def calculator(self, expr: str) -> tuple[float | str, float, bool]:\n",
    "        \"\"\"Calculate a mathematical expression.\n",
    "\n",
    "        Args:\n",
    "            expr: A valid Python expression.\n",
    "\n",
    "        Returns:\n",
    "            A three-tuple where the first element is the float evaluation if successful,\n",
    "                or a string containing the failure cause if unsuccessful, the second\n",
    "                element is the reward associated with success or failure, and the third\n",
    "                element is a boolean indicating if this action is terminal.\n",
    "        \"\"\"\n",
    "        try:\n",
    "            expr = expr.strip()\n",
    "            result = eval(expr)  # noqa: S307  # pylint: disable=eval-used\n",
    "            with contextlib.suppress(ValueError):  # If possible, downcast float to int\n",
    "                if int(result) == result:\n",
    "                    result = int(result)\n",
    "        except Exception as exc:\n",
    "            return (\n",
    "                f\"Error using calculator: {exc!r}.\",\n",
    "                self.config.tool_failure_reward,\n",
    "                self.config.done_on_failure,\n",
    "            )\n",
    "        return result, self.config.tool_success_reward, False\n",
    "    \n",
    "    def download_pdb_file(\n",
    "            self,\n",
    "            query_string: str, \n",
    "            # path_registry: Optional[PathRegistry] = None\n",
    "        ) -> Dict[str, Optional[str]]:\n",
    "        \"\"\"\n",
    "        Searches RCSB's Protein Data Bank using the given query string and downloads the corresponding PDB or CIF file.\n",
    "\n",
    "        Args:\n",
    "            query_string (str): The search term for querying the PDB database.\n",
    "            path_registry (Optional[PathRegistry]): An instance of PathRegistry to manage file paths.\n",
    "\n",
    "        Returns:\n",
    "            Dict[str, Optional[str]]: A dictionary containing the filename and file ID if successful, otherwise None.\n",
    "        \"\"\"\n",
    "        # if path_registry is None:\n",
    "        #     path_registry = PathRegistry.get_instance()\n",
    "        \n",
    "        url = \"https://search.rcsb.org/rcsbsearch/v2/query?json={search-request}\"\n",
    "        query = {\n",
    "            \"query\": {\"type\": \"terminal\", \"service\": \"full_text\", \"parameters\": {\"value\": query_string}},\n",
    "            \"return_type\": \"entry\"\n",
    "        }\n",
    "        response = requests.post(url, json=query)\n",
    "        \n",
    "        if response.status_code == 204:\n",
    "            return {\"filename\": None, \"file_id\": None}\n",
    "        \n",
    "        filetype = \"cif\" if \"cif\" in query_string.lower() else \"pdb\"\n",
    "        \n",
    "        results = response.json().get(\"result_set\", [])\n",
    "        if results:\n",
    "            pdbid = max(results, key=lambda x: x[\"score\"])[\"identifier\"]\n",
    "            download_url = f\"https://files.rcsb.org/download/{pdbid}.{filetype}\"\n",
    "            pdb_response = requests.get(download_url)\n",
    "            \n",
    "            # filename = path_registry.write_file_name(\"PROTEIN\", protein_name=pdbid, description=\"raw\", file_format=filetype)\n",
    "            # file_id = path_registry.get_fileid(filename, \"PROTEIN\")\n",
    "            # directory = path_registry.ckpt_pdb\n",
    "        #get current directory\n",
    "            filename = f\"{pdbid}.{filetype}\"\n",
    "            directory = \"pdb_files\"\n",
    "            file_id = f\"{pdbid}.{filetype}\"\n",
    "            # Write the PDB file to disk, if file not already exists\n",
    "            if not os.path.exists(directory):\n",
    "                os.makedirs(directory)\n",
    "            with open(f\"{directory}/{filename}\", \"w\") as file:\n",
    "                file.write(pdb_response.text)\n",
    "            \n",
    "            # path_registry.map_path(file_id, f\"{directory}/{filename}\", \"PDB file downloaded from RSCB\")\n",
    "            \n",
    "            return \"downloaded! \" + filename, self.config.tool_success_reward, False\n",
    "        \n",
    "        return \"Failed! \" +filename, self.config.tool_failure_reward, False\n",
    "    \n",
    "    def export_frame(self) -> Frame:\n",
    "        return Frame(\n",
    "            state={\n",
    "                \"problem_id\": self.problem_id,\n",
    "                \"problem\": self.problem,\n",
    "                \"answer\": self.answer,\n",
    "            }\n",
    "        )\n",
    "\n"
   ]
  },
  {
   "cell_type": "code",
   "execution_count": 122,
   "metadata": {},
   "outputs": [
    {
     "name": "stderr",
     "output_type": "stream",
     "text": [
      "\u001b[92m21:08:10 - LiteLLM:WARNING\u001b[0m: logging_callback_manager.py:125 - Cannot add callback - would exceed MAX_CALLBACKS limit of 30. Current callbacks: 30\n",
      "\u001b[92m21:08:10 - LiteLLM:WARNING\u001b[0m: logging_callback_manager.py:125 - Cannot add callback - would exceed MAX_CALLBACKS limit of 30. Current callbacks: 30\n",
      "\u001b[92m21:08:10 - LiteLLM:WARNING\u001b[0m: logging_callback_manager.py:125 - Cannot add callback - would exceed MAX_CALLBACKS limit of 30. Current callbacks: 30\n",
      "\u001b[92m21:08:10 - LiteLLM:WARNING\u001b[0m: logging_callback_manager.py:125 - Cannot add callback - would exceed MAX_CALLBACKS limit of 30. Current callbacks: 30\n"
     ]
    },
    {
     "name": "stdout",
     "output_type": "stream",
     "text": [
      "Question: Download fibronectin structure from PDB.\n",
      "tools=[Tool(type='function', info=FunctionInfo(name='download_pdb_file', description=\"Searches RCSB's Protein Data Bank using the given query string and downloads the corresponding PDB or CIF file.\", parameters=Parameters(type='object', properties={'query_string': {'description': 'The search term for querying the PDB database.', 'title': 'Query String', 'type': 'string'}}, required=['query_string']))), Tool(type='function', info=FunctionInfo(name='submit_answer', description='Submit the proposed answer and check if it is correct. This action is terminal.', parameters=Parameters(type='object', properties={'answer': {'description': 'Proposed answer.', 'title': 'Answer', 'type': 'string'}}, required=['answer'])))] messages=[] \n",
      " []\n",
      "tools=[Tool(type='function', info=FunctionInfo(name='download_pdb_file', description=\"Searches RCSB's Protein Data Bank using the given query string and downloads the corresponding PDB or CIF file.\", parameters=Parameters(type='object', properties={'query_string': {'description': 'The search term for querying the PDB database.', 'title': 'Query String', 'type': 'string'}}, required=['query_string']))), Tool(type='function', info=FunctionInfo(name='submit_answer', description='Submit the proposed answer and check if it is correct. This action is terminal.', parameters=Parameters(type='object', properties={'answer': {'description': 'Proposed answer.', 'title': 'Answer', 'type': 'string'}}, required=['answer'])))] messages=[Message(role='user', content='Download fibronectin structure from PDB.'), ToolRequestMessage(role='assistant', content=None, function_call=None, tool_calls=[ToolCall(id='call_In6tugbsgGDWyOsH4oRQfniy', type='function', function=ToolCallFunction(arguments={'query_string': 'fibronectin'}, name='download_pdb_file'))])] \n",
      " [Message(role='user', content='Download fibronectin structure from PDB.'), ToolRequestMessage(role='assistant', content=None, function_call=None, tool_calls=[ToolCall(id='call_In6tugbsgGDWyOsH4oRQfniy', type='function', function=ToolCallFunction(arguments={'query_string': 'fibronectin'}, name='download_pdb_file'))])]\n"
     ]
    },
    {
     "name": "stderr",
     "output_type": "stream",
     "text": [
      "\u001b[92m21:08:11 - LiteLLM:WARNING\u001b[0m: logging_callback_manager.py:125 - Cannot add callback - would exceed MAX_CALLBACKS limit of 30. Current callbacks: 30\n",
      "\u001b[92m21:08:11 - LiteLLM:WARNING\u001b[0m: logging_callback_manager.py:125 - Cannot add callback - would exceed MAX_CALLBACKS limit of 30. Current callbacks: 30\n",
      "\u001b[92m21:08:11 - LiteLLM:WARNING\u001b[0m: logging_callback_manager.py:125 - Cannot add callback - would exceed MAX_CALLBACKS limit of 30. Current callbacks: 30\n",
      "\u001b[92m21:08:11 - LiteLLM:WARNING\u001b[0m: logging_callback_manager.py:125 - Cannot add callback - would exceed MAX_CALLBACKS limit of 30. Current callbacks: 30\n"
     ]
    },
    {
     "name": "stdout",
     "output_type": "stream",
     "text": [
      "Step 1 - agent action: download_pdb_file({'query_string': 'fibronectin'}), environment answer: downloaded! 5TFY.pdb , environment reward 0.0\n"
     ]
    },
    {
     "name": "stderr",
     "output_type": "stream",
     "text": [
      "/var/folders/cm/sn2bpgln3zdc0lh8s2384hr40000gn/T/ipykernel_83566/1681745266.py:25: RuntimeWarning: coroutine 'MySimpleAgent.get_asv' was never awaited\n",
      "  agent.get_asv(agent_state,obs)\n",
      "RuntimeWarning: Enable tracemalloc to get the object allocation traceback\n",
      "\u001b[92m21:08:12 - LiteLLM:WARNING\u001b[0m: logging_callback_manager.py:125 - Cannot add callback - would exceed MAX_CALLBACKS limit of 30. Current callbacks: 30\n",
      "\u001b[92m21:08:12 - LiteLLM:WARNING\u001b[0m: logging_callback_manager.py:125 - Cannot add callback - would exceed MAX_CALLBACKS limit of 30. Current callbacks: 30\n",
      "\u001b[92m21:08:12 - LiteLLM:WARNING\u001b[0m: logging_callback_manager.py:125 - Cannot add callback - would exceed MAX_CALLBACKS limit of 30. Current callbacks: 30\n",
      "\u001b[92m21:08:12 - LiteLLM:WARNING\u001b[0m: logging_callback_manager.py:125 - Cannot add callback - would exceed MAX_CALLBACKS limit of 30. Current callbacks: 30\n"
     ]
    },
    {
     "name": "stdout",
     "output_type": "stream",
     "text": [
      "tools=[Tool(type='function', info=FunctionInfo(name='download_pdb_file', description=\"Searches RCSB's Protein Data Bank using the given query string and downloads the corresponding PDB or CIF file.\", parameters=Parameters(type='object', properties={'query_string': {'description': 'The search term for querying the PDB database.', 'title': 'Query String', 'type': 'string'}}, required=['query_string']))), Tool(type='function', info=FunctionInfo(name='submit_answer', description='Submit the proposed answer and check if it is correct. This action is terminal.', parameters=Parameters(type='object', properties={'answer': {'description': 'Proposed answer.', 'title': 'Answer', 'type': 'string'}}, required=['answer'])))] messages=[Message(role='user', content='Download fibronectin structure from PDB.'), ToolRequestMessage(role='assistant', content=None, function_call=None, tool_calls=[ToolCall(id='call_In6tugbsgGDWyOsH4oRQfniy', type='function', function=ToolCallFunction(arguments={'query_string': 'fibronectin'}, name='download_pdb_file'))]), ToolResponseMessage(role='tool', content='downloaded! 5TFY.pdb', name='download_pdb_file', tool_call_id='call_In6tugbsgGDWyOsH4oRQfniy'), ToolRequestMessage(role='assistant', content=None, function_call=None, tool_calls=[ToolCall(id='call_73kBtxofuaiRyN8YNZ84Vh5w', type='function', function=ToolCallFunction(arguments={'answer': '5TFY.pdb'}, name='submit_answer'))])] \n",
      " [Message(role='user', content='Download fibronectin structure from PDB.'), ToolRequestMessage(role='assistant', content=None, function_call=None, tool_calls=[ToolCall(id='call_In6tugbsgGDWyOsH4oRQfniy', type='function', function=ToolCallFunction(arguments={'query_string': 'fibronectin'}, name='download_pdb_file'))]), ToolResponseMessage(role='tool', content='downloaded! 5TFY.pdb', name='download_pdb_file', tool_call_id='call_In6tugbsgGDWyOsH4oRQfniy'), ToolRequestMessage(role='assistant', content=None, function_call=None, tool_calls=[ToolCall(id='call_73kBtxofuaiRyN8YNZ84Vh5w', type='function', function=ToolCallFunction(arguments={'answer': '5TFY.pdb'}, name='submit_answer'))])]\n",
      "Step 2 - agent action: submit_answer({'answer': '5TFY.pdb'}), environment answer: False , environment reward -1.0\n",
      "Finished! \n",
      "\n",
      "Question: Download fibronectin structure from PDB.\n",
      "tools=[Tool(type='function', info=FunctionInfo(name='download_pdb_file', description=\"Searches RCSB's Protein Data Bank using the given query string and downloads the corresponding PDB or CIF file.\", parameters=Parameters(type='object', properties={'query_string': {'description': 'The search term for querying the PDB database.', 'title': 'Query String', 'type': 'string'}}, required=['query_string']))), Tool(type='function', info=FunctionInfo(name='submit_answer', description='Submit the proposed answer and check if it is correct. This action is terminal.', parameters=Parameters(type='object', properties={'answer': {'description': 'Proposed answer.', 'title': 'Answer', 'type': 'string'}}, required=['answer'])))] messages=[] \n",
      " []\n",
      "tools=[Tool(type='function', info=FunctionInfo(name='download_pdb_file', description=\"Searches RCSB's Protein Data Bank using the given query string and downloads the corresponding PDB or CIF file.\", parameters=Parameters(type='object', properties={'query_string': {'description': 'The search term for querying the PDB database.', 'title': 'Query String', 'type': 'string'}}, required=['query_string']))), Tool(type='function', info=FunctionInfo(name='submit_answer', description='Submit the proposed answer and check if it is correct. This action is terminal.', parameters=Parameters(type='object', properties={'answer': {'description': 'Proposed answer.', 'title': 'Answer', 'type': 'string'}}, required=['answer'])))] messages=[Message(role='user', content='Download fibronectin structure from PDB.'), ToolRequestMessage(role='assistant', content=None, function_call=None, tool_calls=[ToolCall(id='call_9stqlXPs8visyoNaBKiXOGJK', type='function', function=ToolCallFunction(arguments={'query_string': 'fibronectin'}, name='download_pdb_file'))])] \n",
      " [Message(role='user', content='Download fibronectin structure from PDB.'), ToolRequestMessage(role='assistant', content=None, function_call=None, tool_calls=[ToolCall(id='call_9stqlXPs8visyoNaBKiXOGJK', type='function', function=ToolCallFunction(arguments={'query_string': 'fibronectin'}, name='download_pdb_file'))])]\n"
     ]
    },
    {
     "name": "stderr",
     "output_type": "stream",
     "text": [
      "\u001b[92m21:08:14 - LiteLLM:WARNING\u001b[0m: logging_callback_manager.py:125 - Cannot add callback - would exceed MAX_CALLBACKS limit of 30. Current callbacks: 30\n",
      "\u001b[92m21:08:14 - LiteLLM:WARNING\u001b[0m: logging_callback_manager.py:125 - Cannot add callback - would exceed MAX_CALLBACKS limit of 30. Current callbacks: 30\n",
      "\u001b[92m21:08:14 - LiteLLM:WARNING\u001b[0m: logging_callback_manager.py:125 - Cannot add callback - would exceed MAX_CALLBACKS limit of 30. Current callbacks: 30\n",
      "\u001b[92m21:08:14 - LiteLLM:WARNING\u001b[0m: logging_callback_manager.py:125 - Cannot add callback - would exceed MAX_CALLBACKS limit of 30. Current callbacks: 30\n"
     ]
    },
    {
     "name": "stdout",
     "output_type": "stream",
     "text": [
      "Step 1 - agent action: download_pdb_file({'query_string': 'fibronectin'}), environment answer: downloaded! 5TFY.pdb , environment reward 0.0\n"
     ]
    },
    {
     "name": "stderr",
     "output_type": "stream",
     "text": [
      "\u001b[92m21:08:15 - LiteLLM:WARNING\u001b[0m: logging_callback_manager.py:125 - Cannot add callback - would exceed MAX_CALLBACKS limit of 30. Current callbacks: 30\n",
      "\u001b[92m21:08:15 - LiteLLM:WARNING\u001b[0m: logging_callback_manager.py:125 - Cannot add callback - would exceed MAX_CALLBACKS limit of 30. Current callbacks: 30\n",
      "\u001b[92m21:08:15 - LiteLLM:WARNING\u001b[0m: logging_callback_manager.py:125 - Cannot add callback - would exceed MAX_CALLBACKS limit of 30. Current callbacks: 30\n",
      "\u001b[92m21:08:15 - LiteLLM:WARNING\u001b[0m: logging_callback_manager.py:125 - Cannot add callback - would exceed MAX_CALLBACKS limit of 30. Current callbacks: 30\n"
     ]
    },
    {
     "name": "stdout",
     "output_type": "stream",
     "text": [
      "tools=[Tool(type='function', info=FunctionInfo(name='download_pdb_file', description=\"Searches RCSB's Protein Data Bank using the given query string and downloads the corresponding PDB or CIF file.\", parameters=Parameters(type='object', properties={'query_string': {'description': 'The search term for querying the PDB database.', 'title': 'Query String', 'type': 'string'}}, required=['query_string']))), Tool(type='function', info=FunctionInfo(name='submit_answer', description='Submit the proposed answer and check if it is correct. This action is terminal.', parameters=Parameters(type='object', properties={'answer': {'description': 'Proposed answer.', 'title': 'Answer', 'type': 'string'}}, required=['answer'])))] messages=[Message(role='user', content='Download fibronectin structure from PDB.'), ToolRequestMessage(role='assistant', content=None, function_call=None, tool_calls=[ToolCall(id='call_9stqlXPs8visyoNaBKiXOGJK', type='function', function=ToolCallFunction(arguments={'query_string': 'fibronectin'}, name='download_pdb_file'))]), ToolResponseMessage(role='tool', content='downloaded! 5TFY.pdb', name='download_pdb_file', tool_call_id='call_9stqlXPs8visyoNaBKiXOGJK'), ToolRequestMessage(role='assistant', content=None, function_call=None, tool_calls=[ToolCall(id='call_l4ctCwBnmITQ7KZYW47cITLh', type='function', function=ToolCallFunction(arguments={'answer': '5TFY.pdb'}, name='submit_answer'))])] \n",
      " [Message(role='user', content='Download fibronectin structure from PDB.'), ToolRequestMessage(role='assistant', content=None, function_call=None, tool_calls=[ToolCall(id='call_9stqlXPs8visyoNaBKiXOGJK', type='function', function=ToolCallFunction(arguments={'query_string': 'fibronectin'}, name='download_pdb_file'))]), ToolResponseMessage(role='tool', content='downloaded! 5TFY.pdb', name='download_pdb_file', tool_call_id='call_9stqlXPs8visyoNaBKiXOGJK'), ToolRequestMessage(role='assistant', content=None, function_call=None, tool_calls=[ToolCall(id='call_l4ctCwBnmITQ7KZYW47cITLh', type='function', function=ToolCallFunction(arguments={'answer': '5TFY.pdb'}, name='submit_answer'))])]\n",
      "Step 2 - agent action: submit_answer({'answer': '5TFY.pdb'}), environment answer: False , environment reward -1.0\n",
      "Finished! \n",
      "\n",
      "Question: Download fibronectin structure from PDB.\n",
      "tools=[Tool(type='function', info=FunctionInfo(name='download_pdb_file', description=\"Searches RCSB's Protein Data Bank using the given query string and downloads the corresponding PDB or CIF file.\", parameters=Parameters(type='object', properties={'query_string': {'description': 'The search term for querying the PDB database.', 'title': 'Query String', 'type': 'string'}}, required=['query_string']))), Tool(type='function', info=FunctionInfo(name='submit_answer', description='Submit the proposed answer and check if it is correct. This action is terminal.', parameters=Parameters(type='object', properties={'answer': {'description': 'Proposed answer.', 'title': 'Answer', 'type': 'string'}}, required=['answer'])))] messages=[] \n",
      " []\n",
      "tools=[Tool(type='function', info=FunctionInfo(name='download_pdb_file', description=\"Searches RCSB's Protein Data Bank using the given query string and downloads the corresponding PDB or CIF file.\", parameters=Parameters(type='object', properties={'query_string': {'description': 'The search term for querying the PDB database.', 'title': 'Query String', 'type': 'string'}}, required=['query_string']))), Tool(type='function', info=FunctionInfo(name='submit_answer', description='Submit the proposed answer and check if it is correct. This action is terminal.', parameters=Parameters(type='object', properties={'answer': {'description': 'Proposed answer.', 'title': 'Answer', 'type': 'string'}}, required=['answer'])))] messages=[Message(role='user', content='Download fibronectin structure from PDB.'), ToolRequestMessage(role='assistant', content=None, function_call=None, tool_calls=[ToolCall(id='call_U7sW6qTYQTBvsKnrdzevUDZX', type='function', function=ToolCallFunction(arguments={'query_string': 'fibronectin'}, name='download_pdb_file'))])] \n",
      " [Message(role='user', content='Download fibronectin structure from PDB.'), ToolRequestMessage(role='assistant', content=None, function_call=None, tool_calls=[ToolCall(id='call_U7sW6qTYQTBvsKnrdzevUDZX', type='function', function=ToolCallFunction(arguments={'query_string': 'fibronectin'}, name='download_pdb_file'))])]\n"
     ]
    },
    {
     "name": "stderr",
     "output_type": "stream",
     "text": [
      "\u001b[92m21:08:16 - LiteLLM:WARNING\u001b[0m: logging_callback_manager.py:125 - Cannot add callback - would exceed MAX_CALLBACKS limit of 30. Current callbacks: 30\n",
      "\u001b[92m21:08:16 - LiteLLM:WARNING\u001b[0m: logging_callback_manager.py:125 - Cannot add callback - would exceed MAX_CALLBACKS limit of 30. Current callbacks: 30\n",
      "\u001b[92m21:08:16 - LiteLLM:WARNING\u001b[0m: logging_callback_manager.py:125 - Cannot add callback - would exceed MAX_CALLBACKS limit of 30. Current callbacks: 30\n",
      "\u001b[92m21:08:16 - LiteLLM:WARNING\u001b[0m: logging_callback_manager.py:125 - Cannot add callback - would exceed MAX_CALLBACKS limit of 30. Current callbacks: 30\n"
     ]
    },
    {
     "name": "stdout",
     "output_type": "stream",
     "text": [
      "Step 1 - agent action: download_pdb_file({'query_string': 'fibronectin'}), environment answer: downloaded! 5TFY.pdb , environment reward 0.0\n",
      "tools=[Tool(type='function', info=FunctionInfo(name='download_pdb_file', description=\"Searches RCSB's Protein Data Bank using the given query string and downloads the corresponding PDB or CIF file.\", parameters=Parameters(type='object', properties={'query_string': {'description': 'The search term for querying the PDB database.', 'title': 'Query String', 'type': 'string'}}, required=['query_string']))), Tool(type='function', info=FunctionInfo(name='submit_answer', description='Submit the proposed answer and check if it is correct. This action is terminal.', parameters=Parameters(type='object', properties={'answer': {'description': 'Proposed answer.', 'title': 'Answer', 'type': 'string'}}, required=['answer'])))] messages=[Message(role='user', content='Download fibronectin structure from PDB.'), ToolRequestMessage(role='assistant', content=None, function_call=None, tool_calls=[ToolCall(id='call_U7sW6qTYQTBvsKnrdzevUDZX', type='function', function=ToolCallFunction(arguments={'query_string': 'fibronectin'}, name='download_pdb_file'))]), ToolResponseMessage(role='tool', content='downloaded! 5TFY.pdb', name='download_pdb_file', tool_call_id='call_U7sW6qTYQTBvsKnrdzevUDZX'), ToolRequestMessage(role='assistant', content=None, function_call=None, tool_calls=[ToolCall(id='call_Ratd1206eJAklqbNJwQzhKeH', type='function', function=ToolCallFunction(arguments={'answer': '5TFY.pdb'}, name='submit_answer'))])] \n",
      " [Message(role='user', content='Download fibronectin structure from PDB.'), ToolRequestMessage(role='assistant', content=None, function_call=None, tool_calls=[ToolCall(id='call_U7sW6qTYQTBvsKnrdzevUDZX', type='function', function=ToolCallFunction(arguments={'query_string': 'fibronectin'}, name='download_pdb_file'))]), ToolResponseMessage(role='tool', content='downloaded! 5TFY.pdb', name='download_pdb_file', tool_call_id='call_U7sW6qTYQTBvsKnrdzevUDZX'), ToolRequestMessage(role='assistant', content=None, function_call=None, tool_calls=[ToolCall(id='call_Ratd1206eJAklqbNJwQzhKeH', type='function', function=ToolCallFunction(arguments={'answer': '5TFY.pdb'}, name='submit_answer'))])]\n",
      "Step 2 - agent action: submit_answer({'answer': '5TFY.pdb'}), environment answer: False , environment reward -1.0\n",
      "Finished! \n",
      "\n"
     ]
    }
   ],
   "source": [
    "\n",
    "env = MDCrowEnv.from_task(\"Download fibronectin structure from PDB.\")\n",
    "agent = MySimpleAgent()\n",
    "\n",
    "async def main(idx: int = 0):\n",
    "    # env = GSM8kDataset(split=\"train\").get_new_env_by_idx(idx)\n",
    "    # agent = MySimpleAgent()\n",
    "\n",
    "    # Get initial question, available tools from the environment\n",
    "    obs, tools = await env.reset()\n",
    "    print(f\"Question: {obs[0].content}\")\n",
    "\n",
    "    # Get initial agent state\n",
    "    agent_state = await agent.init_state(tools=tools)\n",
    "    print(agent_state, \"\\n\",agent_state.messages)\n",
    "    step = 1\n",
    "    done = False\n",
    "    while not done:\n",
    "        action, agent_state, _ = await agent.get_asv(agent_state, obs)\n",
    "        print(agent_state, \"\\n\",agent_state.messages)\n",
    "        obs, reward, done, _ = await env.step(action.value)\n",
    "        print(\n",
    "            f\"Step {step} - {print_action_obs(action, obs)}, environment reward {reward}\"\n",
    "        )\n",
    "        step += 1\n",
    "    agent.get_asv(agent_state,obs)\n",
    "    print(\"Finished! \\n\")\n",
    "    return agent_state\n",
    "\n",
    "\n",
    "def print_action_obs(action: ToolRequestMessage, obs: list[ToolResponseMessage]):\n",
    "    tool_calls = action.value.tool_calls\n",
    "    msg = \"\"\n",
    "    for tool_call, tool_answer in zip(tool_calls, obs, strict=True):\n",
    "        tool_name = tool_call.function.name\n",
    "        tool_args = tool_call.function.arguments\n",
    "        msg += f\"agent action: {tool_name}({tool_args}), environment answer: {tool_answer.content} \"\n",
    "    return msg\n",
    "\n",
    "\n",
    "for i in range(3):\n",
    "    agent_state = await main(i)"
   ]
  },
  {
   "cell_type": "code",
   "execution_count": 123,
   "metadata": {},
   "outputs": [
    {
     "data": {
      "text/plain": [
       "[Message(role='user', content='Download fibronectin structure from PDB.'),\n",
       " ToolRequestMessage(role='assistant', content=None, function_call=None, tool_calls=[ToolCall(id='call_U7sW6qTYQTBvsKnrdzevUDZX', type='function', function=ToolCallFunction(arguments={'query_string': 'fibronectin'}, name='download_pdb_file'))]),\n",
       " ToolResponseMessage(role='tool', content='downloaded! 5TFY.pdb', name='download_pdb_file', tool_call_id='call_U7sW6qTYQTBvsKnrdzevUDZX'),\n",
       " ToolRequestMessage(role='assistant', content=None, function_call=None, tool_calls=[ToolCall(id='call_Ratd1206eJAklqbNJwQzhKeH', type='function', function=ToolCallFunction(arguments={'answer': '5TFY.pdb'}, name='submit_answer'))])]"
      ]
     },
     "execution_count": 123,
     "metadata": {},
     "output_type": "execute_result"
    }
   ],
   "source": [
    "agent_state.messages"
   ]
  },
  {
   "cell_type": "code",
   "execution_count": 53,
   "metadata": {},
   "outputs": [
    {
     "data": {
      "text/plain": [
       "{'model': 'gpt-4o-2024-08-06'}"
      ]
     },
     "execution_count": 53,
     "metadata": {},
     "output_type": "execute_result"
    }
   ],
   "source": [
    "agent.llm_model"
   ]
  },
  {
   "cell_type": "code",
   "execution_count": 52,
   "metadata": {},
   "outputs": [
    {
     "ename": "TypeError",
     "evalue": "ldp.graph.common_ops.LLMCallOp._call_single_and_maybe_validate() got multiple values for keyword argument 'model'",
     "output_type": "error",
     "traceback": [
      "\u001b[0;31m---------------------------------------------------------------------------\u001b[0m",
      "\u001b[0;31mTypeError\u001b[0m                                 Traceback (most recent call last)",
      "Cell \u001b[0;32mIn[52], line 3\u001b[0m\n\u001b[1;32m      1\u001b[0m \u001b[38;5;28;01mfrom\u001b[39;00m\u001b[38;5;250m \u001b[39m\u001b[38;5;21;01mlmi\u001b[39;00m\u001b[38;5;250m \u001b[39m\u001b[38;5;28;01mimport\u001b[39;00m LiteLLMModel \u001b[38;5;28;01mas\u001b[39;00m LLMModel\n\u001b[1;32m      2\u001b[0m llm__ops \u001b[38;5;241m=\u001b[39m LLMCallOp()\n\u001b[0;32m----> 3\u001b[0m ans \u001b[38;5;241m=\u001b[39m \u001b[38;5;28;01mawait\u001b[39;00m llm__ops(agent\u001b[38;5;241m.\u001b[39mllm_model, msgs\u001b[38;5;241m=\u001b[39magent_state\u001b[38;5;241m.\u001b[39mmessages, tools\u001b[38;5;241m=\u001b[39magent_state\u001b[38;5;241m.\u001b[39mtools)\n",
      "File \u001b[0;32m~/miniforge3/envs/ldp_env_v1/lib/python3.11/contextlib.py:97\u001b[0m, in \u001b[0;36mAsyncContextDecorator.__call__.<locals>.inner\u001b[0;34m(*args, **kwds)\u001b[0m\n\u001b[1;32m     94\u001b[0m \u001b[38;5;129m@wraps\u001b[39m(func)\n\u001b[1;32m     95\u001b[0m \u001b[38;5;28;01masync\u001b[39;00m \u001b[38;5;28;01mdef\u001b[39;00m\u001b[38;5;250m \u001b[39m\u001b[38;5;21minner\u001b[39m(\u001b[38;5;241m*\u001b[39margs, \u001b[38;5;241m*\u001b[39m\u001b[38;5;241m*\u001b[39mkwds):\n\u001b[1;32m     96\u001b[0m     \u001b[38;5;28;01masync\u001b[39;00m \u001b[38;5;28;01mwith\u001b[39;00m \u001b[38;5;28mself\u001b[39m\u001b[38;5;241m.\u001b[39m_recreate_cm():\n\u001b[0;32m---> 97\u001b[0m         \u001b[38;5;28;01mreturn\u001b[39;00m \u001b[38;5;28;01mawait\u001b[39;00m func(\u001b[38;5;241m*\u001b[39margs, \u001b[38;5;241m*\u001b[39m\u001b[38;5;241m*\u001b[39mkwds)\n",
      "File \u001b[0;32m~/miniforge3/envs/ldp_env_v1/lib/python3.11/contextlib.py:97\u001b[0m, in \u001b[0;36mAsyncContextDecorator.__call__.<locals>.inner\u001b[0;34m(*args, **kwds)\u001b[0m\n\u001b[1;32m     94\u001b[0m \u001b[38;5;129m@wraps\u001b[39m(func)\n\u001b[1;32m     95\u001b[0m \u001b[38;5;28;01masync\u001b[39;00m \u001b[38;5;28;01mdef\u001b[39;00m\u001b[38;5;250m \u001b[39m\u001b[38;5;21minner\u001b[39m(\u001b[38;5;241m*\u001b[39margs, \u001b[38;5;241m*\u001b[39m\u001b[38;5;241m*\u001b[39mkwds):\n\u001b[1;32m     96\u001b[0m     \u001b[38;5;28;01masync\u001b[39;00m \u001b[38;5;28;01mwith\u001b[39;00m \u001b[38;5;28mself\u001b[39m\u001b[38;5;241m.\u001b[39m_recreate_cm():\n\u001b[0;32m---> 97\u001b[0m         \u001b[38;5;28;01mreturn\u001b[39;00m \u001b[38;5;28;01mawait\u001b[39;00m func(\u001b[38;5;241m*\u001b[39margs, \u001b[38;5;241m*\u001b[39m\u001b[38;5;241m*\u001b[39mkwds)\n",
      "File \u001b[0;32m~/miniforge3/envs/ldp_env_v1/lib/python3.11/site-packages/ldp/graph/ops.py:564\u001b[0m, in \u001b[0;36mOp.__call__\u001b[0;34m(self, *args, **kwargs)\u001b[0m\n\u001b[1;32m    561\u001b[0m     \u001b[38;5;28mself\u001b[39m\u001b[38;5;241m.\u001b[39mctx\u001b[38;5;241m.\u001b[39mupdate(call_id, \u001b[38;5;124m\"\u001b[39m\u001b[38;5;124minput\u001b[39m\u001b[38;5;124m\"\u001b[39m, (var_args, kwargs))\n\u001b[1;32m    563\u001b[0m \u001b[38;5;66;03m# actually call forward pass with unpacked args and kwargs\u001b[39;00m\n\u001b[0;32m--> 564\u001b[0m result \u001b[38;5;241m=\u001b[39m \u001b[38;5;28;01mawait\u001b[39;00m \u001b[38;5;28mself\u001b[39m\u001b[38;5;241m.\u001b[39mforward(\u001b[38;5;241m*\u001b[39munpacked_args, \u001b[38;5;241m*\u001b[39m\u001b[38;5;241m*\u001b[39munpacked_kwargs)\n\u001b[1;32m    565\u001b[0m t_output: \u001b[38;5;28mtype\u001b[39m[TOutput_co] \u001b[38;5;241m=\u001b[39m \u001b[38;5;28mtype\u001b[39m(result)\n\u001b[1;32m    567\u001b[0m \u001b[38;5;66;03m# Now package up my result so it can be consumed by other calls.\u001b[39;00m\n\u001b[1;32m    568\u001b[0m \u001b[38;5;66;03m# Explicitly specify t_output. OpResult[TOutput] returns a generic object\u001b[39;00m\n",
      "File \u001b[0;32m~/miniforge3/envs/ldp_env_v1/lib/python3.11/site-packages/ldp/graph/common_ops.py:279\u001b[0m, in \u001b[0;36mLLMCallOp.forward\u001b[0;34m(self, config, msgs, tools, tool_choice)\u001b[0m\n\u001b[1;32m    275\u001b[0m \u001b[38;5;28;01mif\u001b[39;00m \u001b[38;5;129;01mnot\u001b[39;00m tools:\n\u001b[1;32m    276\u001b[0m     \u001b[38;5;66;03m# if no tools are provided, tool_choice must be 'none'\u001b[39;00m\n\u001b[1;32m    277\u001b[0m     tool_choice \u001b[38;5;241m=\u001b[39m \u001b[38;5;124m\"\u001b[39m\u001b[38;5;124mnone\u001b[39m\u001b[38;5;124m\"\u001b[39m\n\u001b[0;32m--> 279\u001b[0m result \u001b[38;5;241m=\u001b[39m \u001b[38;5;28;01mawait\u001b[39;00m \u001b[38;5;28mself\u001b[39m\u001b[38;5;241m.\u001b[39m_call_single_and_maybe_validate(\n\u001b[1;32m    280\u001b[0m     model\u001b[38;5;241m=\u001b[39mmodel,\n\u001b[1;32m    281\u001b[0m     messages\u001b[38;5;241m=\u001b[39mmsgs,\n\u001b[1;32m    282\u001b[0m     tools\u001b[38;5;241m=\u001b[39mtools,\n\u001b[1;32m    283\u001b[0m     tool_choice\u001b[38;5;241m=\u001b[39mtool_choice,\n\u001b[1;32m    284\u001b[0m     \u001b[38;5;241m*\u001b[39m\u001b[38;5;241m*\u001b[39mconfig,\n\u001b[1;32m    285\u001b[0m )\n\u001b[1;32m    286\u001b[0m \u001b[38;5;28;01mif\u001b[39;00m result\u001b[38;5;241m.\u001b[39mmessages \u001b[38;5;129;01mis\u001b[39;00m \u001b[38;5;28;01mNone\u001b[39;00m:\n\u001b[1;32m    287\u001b[0m     \u001b[38;5;28;01mraise\u001b[39;00m \u001b[38;5;167;01mValueError\u001b[39;00m(\u001b[38;5;124m\"\u001b[39m\u001b[38;5;124mNo messages returned\u001b[39m\u001b[38;5;124m\"\u001b[39m)\n",
      "\u001b[0;31mTypeError\u001b[0m: ldp.graph.common_ops.LLMCallOp._call_single_and_maybe_validate() got multiple values for keyword argument 'model'"
     ]
    }
   ],
   "source": [
    "from lmi import LiteLLMModel as LLMModel\n",
    "llm__ops = LLMCallOp()\n",
    "ans = await llm__ops(agent.llm_model, msgs=agent_state.messages, tools=agent_state.tools)"
   ]
  },
  {
   "cell_type": "code",
   "execution_count": 63,
   "metadata": {},
   "outputs": [
    {
     "data": {
      "text/plain": [
       "{'tools': [Tool(type='function', info=FunctionInfo(name='download_pdb_file', description=\"Searches RCSB's Protein Data Bank using the given query string and downloads the corresponding PDB or CIF file.\", parameters=Parameters(type='object', properties={'query_string': {'description': 'The search term for querying the PDB database.', 'title': 'Query String', 'type': 'string'}}, required=['query_string']))),\n",
       "  Tool(type='function', info=FunctionInfo(name='submit_answer', description='Submit the proposed answer and check if it is correct. This action is terminal.', parameters=Parameters(type='object', properties={'answer': {'description': 'Proposed answer.', 'title': 'Answer', 'type': 'string'}}, required=['answer'])))],\n",
       " 'messages': []}"
      ]
     },
     "execution_count": 63,
     "metadata": {},
     "output_type": "execute_result"
    }
   ],
   "source": [
    "agent_state = await agent.init_state(tools=tools)\n",
    "\n",
    "# agent_state.messages, agent_state.tools\n",
    "agent_state.__dict__\n"
   ]
  },
  {
   "cell_type": "code",
   "execution_count": 106,
   "metadata": {},
   "outputs": [
    {
     "name": "stdout",
     "output_type": "stream",
     "text": [
      "tools=[Tool(type='function', info=FunctionInfo(name='download_pdb_file', description=\"Searches RCSB's Protein Data Bank using the given query string and downloads the corresponding PDB or CIF file.\", parameters=Parameters(type='object', properties={'query_string': {'description': 'The search term for querying the PDB database.', 'title': 'Query String', 'type': 'string'}}, required=['query_string']))), Tool(type='function', info=FunctionInfo(name='submit_answer', description='Submit the proposed answer and check if it is correct. This action is terminal.', parameters=Parameters(type='object', properties={'answer': {'description': 'Proposed answer.', 'title': 'Answer', 'type': 'string'}}, required=['answer'])))] messages=[]\n",
      "----------------------------------------------------------------------------------------------------\n",
      "tools=[Tool(type='function', info=FunctionInfo(name='download_pdb_file', description=\"Searches RCSB's Protein Data Bank using the given query string and downloads the corresponding PDB or CIF file.\", parameters=Parameters(type='object', properties={'query_string': {'description': 'The search term for querying the PDB database.', 'title': 'Query String', 'type': 'string'}}, required=['query_string']))), Tool(type='function', info=FunctionInfo(name='submit_answer', description='Submit the proposed answer and check if it is correct. This action is terminal.', parameters=Parameters(type='object', properties={'answer': {'description': 'Proposed answer.', 'title': 'Answer', 'type': 'string'}}, required=['answer'])))] messages=[Message(role='user', content='Download fibronectin structure from PDB.')]\n",
      "----------------------------------------------------------------------------------------------------\n",
      "ERROR! Session/line number was not unique in database. History logging moved to new session 3452\n"
     ]
    },
    {
     "ename": "TypeError",
     "evalue": "LLMCallOp._call_single_and_maybe_validate() got multiple values for argument 'model'",
     "output_type": "error",
     "traceback": [
      "\u001b[0;31m---------------------------------------------------------------------------\u001b[0m",
      "\u001b[0;31mTypeError\u001b[0m                                 Traceback (most recent call last)",
      "Cell \u001b[0;32mIn[106], line 15\u001b[0m\n\u001b[1;32m     13\u001b[0m llm__ops \u001b[38;5;241m=\u001b[39m agent\u001b[38;5;241m.\u001b[39m_llm_call_op\n\u001b[1;32m     14\u001b[0m model \u001b[38;5;241m=\u001b[39m LLMModel(config\u001b[38;5;241m=\u001b[39magent\u001b[38;5;241m.\u001b[39mllm_model)\n\u001b[0;32m---> 15\u001b[0m answ \u001b[38;5;241m=\u001b[39m \u001b[38;5;28;01mawait\u001b[39;00m \u001b[43mllm__ops\u001b[49m\u001b[38;5;241;43m.\u001b[39;49m\u001b[43m_call_single_and_maybe_validate\u001b[49m\u001b[43m(\u001b[49m\u001b[43mmodel\u001b[49m\u001b[43m,\u001b[49m\u001b[43m \u001b[49m\u001b[43mmessages\u001b[49m\u001b[38;5;241;43m=\u001b[39;49m\u001b[43magent_state\u001b[49m\u001b[38;5;241;43m.\u001b[39;49m\u001b[43mmessages\u001b[49m\u001b[43m,\u001b[49m\u001b[43m \u001b[49m\u001b[43mtools\u001b[49m\u001b[38;5;241;43m=\u001b[39;49m\u001b[43magent_state\u001b[49m\u001b[38;5;241;43m.\u001b[39;49m\u001b[43mtools\u001b[49m\u001b[43m,\u001b[49m\u001b[43m \u001b[49m\u001b[38;5;241;43m*\u001b[39;49m\u001b[38;5;241;43m*\u001b[39;49m\u001b[43magent\u001b[49m\u001b[38;5;241;43m.\u001b[39;49m\u001b[43mllm_model\u001b[49m\u001b[43m)\u001b[49m\n\u001b[1;32m     16\u001b[0m \u001b[38;5;66;03m# ans = await llm__ops(agent.llm_model, msgs=agent_state.messages, tools=agent_state.tools)\u001b[39;00m\n\u001b[1;32m     17\u001b[0m \u001b[38;5;66;03m# print(result)\u001b[39;00m\n\u001b[1;32m     18\u001b[0m \u001b[38;5;28mprint\u001b[39m(\u001b[38;5;124m\"\u001b[39m\u001b[38;5;124mthis Ran\u001b[39m\u001b[38;5;124m\"\u001b[39m)\n",
      "\u001b[0;31mTypeError\u001b[0m: LLMCallOp._call_single_and_maybe_validate() got multiple values for argument 'model'"
     ]
    }
   ],
   "source": [
    "env = MDCrowEnv.from_task(\"Download fibronectin structure from PDB.\")\n",
    "agent = MySimpleAgent()\n",
    "obs, tools = await env.reset()\n",
    "agent_state = await agent.init_state(tools=tools)\n",
    "print(agent_state)\n",
    "print(100*'-')\n",
    "agent_state = agent_state.get_next_state(obs)\n",
    "print(agent_state)\n",
    "print(100*'-')\n",
    "#get asv\n",
    "# result, agent_state, _ = await agent.get_asv(agent_state, obs)\n",
    "#get LLM model\n",
    "llm__ops = agent._llm_call_op\n",
    "model = LLMModel(config=agent.llm_model)\n",
    "answ = await llm__ops._call_single_and_maybe_validate(model, messages=agent_state.messages, tools=agent_state.tools, **agent.llm_model)\n",
    "# ans = await llm__ops(agent.llm_model, msgs=agent_state.messages, tools=agent_state.tools)\n",
    "# print(result)\n",
    "print(\"this Ran\")\n",
    "\n",
    "agent_state = await agent.init_state(tools=tools)\n",
    "print(100*'-')\n",
    "print(agent_state)\n",
    "print(100*'-')\n",
    "obs, tools = await env.reset()\n",
    "print(100*'-')\n",
    "print(obs)\n",
    "print(100*'-')\n",
    "print(tools)\n",
    "\n",
    "\n",
    "print(f\"Before 1st call: {agent._llm_call_op}\")\n",
    "try:\n",
    "    values = await agent.get_asv(agent_state, obs)\n",
    "except:\n",
    "     continue\n",
    "print(f\"After 1st call: {agent._llm_call_op}\")\n",
    "\n",
    "print(f\"Before 2nd call: {agent._llm_call_op}\")\n",
    "await agent.get_asv(agent_state, obs)\n",
    "\n",
    "# agent."
   ]
  },
  {
   "cell_type": "code",
   "execution_count": 80,
   "metadata": {},
   "outputs": [
    {
     "data": {
      "text/plain": [
       "LLMResult(id=UUID('953e7eb5-6702-424e-9f42-97400845ca8e'), session_id=None, name=None, config=None, prompt=[Message(role='user', content='Download fibronectin structure from PDB.')], text=None, messages=[ToolRequestMessage(role='assistant', content=None, function_call=None, tool_calls=[ToolCall(id='call_SiraiHeDb8V0ulgDq6bX4KLW', type='function', function=ToolCallFunction(arguments={'query_string': 'fibronectin'}, name='download_pdb_file'))])], prompt_count=124, completion_count=20, model='gpt-4o-2024-11-20', date='2025-03-04T12:12:10.790708', seconds_to_first_token=0.0, seconds_to_last_token=1.2406637079984648, logprob=None, reasoning_content=None, cost=0.00051)"
      ]
     },
     "execution_count": 80,
     "metadata": {},
     "output_type": "execute_result"
    }
   ],
   "source": [
    "answ"
   ]
  },
  {
   "cell_type": "code",
   "execution_count": 70,
   "metadata": {},
   "outputs": [],
   "source": [
    "llm_model = LLMModel(config={\"model\":\"gpt-4o-2024-08-06\", \"temperature\":0.1})\n",
    "answ = await llm__ops._call_single_and_maybe_validate(llm_model, messages=agent_state.messages, tools=agent_state.tools)"
   ]
  },
  {
   "cell_type": "code",
   "execution_count": 71,
   "metadata": {},
   "outputs": [
    {
     "data": {
      "text/plain": [
       "LLMResult(id=UUID('3e5d1c3d-05f0-41bd-b1ab-0a707f997dd9'), session_id=None, name=None, config=None, prompt=[Message(role='user', content='Download fibronectin structure from PDB.')], text=None, messages=[ToolRequestMessage(role='assistant', content=None, function_call=None, tool_calls=[ToolCall(id='call_3vm31H5iE1advfdxJalglWTO', type='function', function=ToolCallFunction(arguments={'query_string': 'fibronectin'}, name='download_pdb_file'))])], prompt_count=124, completion_count=20, model='gpt-4o-2024-11-20', date='2025-03-04T12:12:10.790708', seconds_to_first_token=0.0, seconds_to_last_token=0.9108512500024517, logprob=None, reasoning_content=None, cost=0.00051)"
      ]
     },
     "execution_count": 71,
     "metadata": {},
     "output_type": "execute_result"
    }
   ],
   "source": [
    "answ"
   ]
  },
  {
   "cell_type": "code",
   "execution_count": 50,
   "metadata": {},
   "outputs": [
    {
     "data": {
      "text/plain": [
       "3"
      ]
     },
     "execution_count": 50,
     "metadata": {},
     "output_type": "execute_result"
    }
   ],
   "source": [
    "len((agent.llm_model,agent_state.messages,agent_state.tools))"
   ]
  },
  {
   "cell_type": "code",
   "execution_count": 46,
   "metadata": {},
   "outputs": [],
   "source": [
    "config = {\n",
    "            \"model\": \"gpt-4o-2024-08-06\",\n",
    "            \"temperature\": 0.1,\n",
    "        }\n",
    "model = LLMModel(config=config)\n"
   ]
  },
  {
   "cell_type": "code",
   "execution_count": 40,
   "metadata": {},
   "outputs": [
    {
     "data": {
      "text/plain": [
       "([Message(role='user', content='Download fibronectin structure from PDB.')],\n",
       " [Tool(type='function', info=FunctionInfo(name='download_pdb_file', description=\"Searches RCSB's Protein Data Bank using the given query string and downloads the corresponding PDB or CIF file.\", parameters=Parameters(type='object', properties={'query_string': {'description': 'The search term for querying the PDB database.', 'title': 'Query String', 'type': 'string'}}, required=['query_string']))),\n",
       "  Tool(type='function', info=FunctionInfo(name='submit_answer', description='Submit the proposed answer and check if it is correct. This action is terminal.', parameters=Parameters(type='object', properties={'answer': {'description': 'Proposed answer.', 'title': 'Answer', 'type': 'string'}}, required=['answer'])))])"
      ]
     },
     "execution_count": 40,
     "metadata": {},
     "output_type": "execute_result"
    }
   ],
   "source": [
    "a, tools = await env.reset()\n",
    "a, tools"
   ]
  },
  {
   "cell_type": "code",
   "execution_count": 47,
   "metadata": {},
   "outputs": [
    {
     "data": {
      "text/plain": [
       "{'model': 'gpt-4o-2024-08-06'}"
      ]
     },
     "execution_count": 47,
     "metadata": {},
     "output_type": "execute_result"
    }
   ],
   "source": [
    "agent.llm_model"
   ]
  },
  {
   "cell_type": "code",
   "execution_count": 64,
   "metadata": {},
   "outputs": [
    {
     "data": {
      "text/plain": [
       "MySimpleAgentState(tools=[Tool(type='function', info=FunctionInfo(name='download_pdb_file', description=\"Searches RCSB's Protein Data Bank using the given query string and downloads the corresponding PDB or CIF file.\", parameters=Parameters(type='object', properties={'query_string': {'description': 'The search term for querying the PDB database.', 'title': 'Query String', 'type': 'string'}}, required=['query_string']))), Tool(type='function', info=FunctionInfo(name='submit_answer', description='Submit the proposed answer and check if it is correct. This action is terminal.', parameters=Parameters(type='object', properties={'answer': {'description': 'Proposed answer.', 'title': 'Answer', 'type': 'string'}}, required=['answer'])))], messages=[])"
      ]
     },
     "execution_count": 64,
     "metadata": {},
     "output_type": "execute_result"
    }
   ],
   "source": [
    "agent = MySimpleAgent()\n",
    "\n",
    "agent_state = await agent.init_state(tools=tools)\n",
    "agent_state"
   ]
  },
  {
   "cell_type": "code",
   "execution_count": 65,
   "metadata": {},
   "outputs": [
    {
     "data": {
      "text/plain": [
       "{'llm_model': {'model': 'gpt-4o-2024-08-06'},\n",
       " '_llm_call_op': LLMCallOp (name=_llm_call_op, id=5273353424)}"
      ]
     },
     "execution_count": 65,
     "metadata": {},
     "output_type": "execute_result"
    }
   ],
   "source": [
    "agent.__dict__"
   ]
  },
  {
   "cell_type": "code",
   "execution_count": 35,
   "metadata": {},
   "outputs": [
    {
     "ename": "TypeError",
     "evalue": "ldp.graph.common_ops.LLMCallOp._call_single_and_maybe_validate() got multiple values for keyword argument 'model'",
     "output_type": "error",
     "traceback": [
      "\u001b[0;31m---------------------------------------------------------------------------\u001b[0m",
      "\u001b[0;31mTypeError\u001b[0m                                 Traceback (most recent call last)",
      "Cell \u001b[0;32mIn[35], line 1\u001b[0m\n\u001b[0;32m----> 1\u001b[0m ans \u001b[38;5;241m=\u001b[39m \u001b[38;5;28;01mawait\u001b[39;00m agent\u001b[38;5;241m.\u001b[39mget_asv(agent_state, a)\n",
      "File \u001b[0;32m~/miniforge3/envs/ldp_env_v1/lib/python3.11/contextlib.py:97\u001b[0m, in \u001b[0;36mAsyncContextDecorator.__call__.<locals>.inner\u001b[0;34m(*args, **kwds)\u001b[0m\n\u001b[1;32m     94\u001b[0m \u001b[38;5;129m@wraps\u001b[39m(func)\n\u001b[1;32m     95\u001b[0m \u001b[38;5;28;01masync\u001b[39;00m \u001b[38;5;28;01mdef\u001b[39;00m\u001b[38;5;250m \u001b[39m\u001b[38;5;21minner\u001b[39m(\u001b[38;5;241m*\u001b[39margs, \u001b[38;5;241m*\u001b[39m\u001b[38;5;241m*\u001b[39mkwds):\n\u001b[1;32m     96\u001b[0m     \u001b[38;5;28;01masync\u001b[39;00m \u001b[38;5;28;01mwith\u001b[39;00m \u001b[38;5;28mself\u001b[39m\u001b[38;5;241m.\u001b[39m_recreate_cm():\n\u001b[0;32m---> 97\u001b[0m         \u001b[38;5;28;01mreturn\u001b[39;00m \u001b[38;5;28;01mawait\u001b[39;00m func(\u001b[38;5;241m*\u001b[39margs, \u001b[38;5;241m*\u001b[39m\u001b[38;5;241m*\u001b[39mkwds)\n",
      "Cell \u001b[0;32mIn[3], line 34\u001b[0m, in \u001b[0;36mMySimpleAgent.get_asv\u001b[0;34m(self, agent_state, obs)\u001b[0m\n\u001b[1;32m     31\u001b[0m next_state \u001b[38;5;241m=\u001b[39m agent_state\u001b[38;5;241m.\u001b[39mget_next_state(obs)\n\u001b[1;32m     33\u001b[0m \u001b[38;5;66;03m# Call agent language model to ask for the next tool to use\u001b[39;00m\n\u001b[0;32m---> 34\u001b[0m result \u001b[38;5;241m=\u001b[39m \u001b[38;5;28;01mawait\u001b[39;00m \u001b[38;5;28mself\u001b[39m\u001b[38;5;241m.\u001b[39m_llm_call_op(\n\u001b[1;32m     35\u001b[0m     \u001b[38;5;28mself\u001b[39m\u001b[38;5;241m.\u001b[39mllm_model, msgs\u001b[38;5;241m=\u001b[39mnext_state\u001b[38;5;241m.\u001b[39mmessages, tools\u001b[38;5;241m=\u001b[39mnext_state\u001b[38;5;241m.\u001b[39mtools\n\u001b[1;32m     36\u001b[0m )\n\u001b[1;32m     38\u001b[0m \u001b[38;5;66;03m# Extend the the agent state with the new ToolRequestMessage\u001b[39;00m\n\u001b[1;32m     39\u001b[0m next_state\u001b[38;5;241m.\u001b[39mmessages \u001b[38;5;241m=\u001b[39m [\u001b[38;5;241m*\u001b[39mnext_state\u001b[38;5;241m.\u001b[39mmessages, result\u001b[38;5;241m.\u001b[39mvalue]\n",
      "File \u001b[0;32m~/miniforge3/envs/ldp_env_v1/lib/python3.11/contextlib.py:97\u001b[0m, in \u001b[0;36mAsyncContextDecorator.__call__.<locals>.inner\u001b[0;34m(*args, **kwds)\u001b[0m\n\u001b[1;32m     94\u001b[0m \u001b[38;5;129m@wraps\u001b[39m(func)\n\u001b[1;32m     95\u001b[0m \u001b[38;5;28;01masync\u001b[39;00m \u001b[38;5;28;01mdef\u001b[39;00m\u001b[38;5;250m \u001b[39m\u001b[38;5;21minner\u001b[39m(\u001b[38;5;241m*\u001b[39margs, \u001b[38;5;241m*\u001b[39m\u001b[38;5;241m*\u001b[39mkwds):\n\u001b[1;32m     96\u001b[0m     \u001b[38;5;28;01masync\u001b[39;00m \u001b[38;5;28;01mwith\u001b[39;00m \u001b[38;5;28mself\u001b[39m\u001b[38;5;241m.\u001b[39m_recreate_cm():\n\u001b[0;32m---> 97\u001b[0m         \u001b[38;5;28;01mreturn\u001b[39;00m \u001b[38;5;28;01mawait\u001b[39;00m func(\u001b[38;5;241m*\u001b[39margs, \u001b[38;5;241m*\u001b[39m\u001b[38;5;241m*\u001b[39mkwds)\n",
      "File \u001b[0;32m~/miniforge3/envs/ldp_env_v1/lib/python3.11/contextlib.py:97\u001b[0m, in \u001b[0;36mAsyncContextDecorator.__call__.<locals>.inner\u001b[0;34m(*args, **kwds)\u001b[0m\n\u001b[1;32m     94\u001b[0m \u001b[38;5;129m@wraps\u001b[39m(func)\n\u001b[1;32m     95\u001b[0m \u001b[38;5;28;01masync\u001b[39;00m \u001b[38;5;28;01mdef\u001b[39;00m\u001b[38;5;250m \u001b[39m\u001b[38;5;21minner\u001b[39m(\u001b[38;5;241m*\u001b[39margs, \u001b[38;5;241m*\u001b[39m\u001b[38;5;241m*\u001b[39mkwds):\n\u001b[1;32m     96\u001b[0m     \u001b[38;5;28;01masync\u001b[39;00m \u001b[38;5;28;01mwith\u001b[39;00m \u001b[38;5;28mself\u001b[39m\u001b[38;5;241m.\u001b[39m_recreate_cm():\n\u001b[0;32m---> 97\u001b[0m         \u001b[38;5;28;01mreturn\u001b[39;00m \u001b[38;5;28;01mawait\u001b[39;00m func(\u001b[38;5;241m*\u001b[39margs, \u001b[38;5;241m*\u001b[39m\u001b[38;5;241m*\u001b[39mkwds)\n",
      "File \u001b[0;32m~/miniforge3/envs/ldp_env_v1/lib/python3.11/site-packages/ldp/graph/ops.py:564\u001b[0m, in \u001b[0;36mOp.__call__\u001b[0;34m(self, *args, **kwargs)\u001b[0m\n\u001b[1;32m    561\u001b[0m     \u001b[38;5;28mself\u001b[39m\u001b[38;5;241m.\u001b[39mctx\u001b[38;5;241m.\u001b[39mupdate(call_id, \u001b[38;5;124m\"\u001b[39m\u001b[38;5;124minput\u001b[39m\u001b[38;5;124m\"\u001b[39m, (var_args, kwargs))\n\u001b[1;32m    563\u001b[0m \u001b[38;5;66;03m# actually call forward pass with unpacked args and kwargs\u001b[39;00m\n\u001b[0;32m--> 564\u001b[0m result \u001b[38;5;241m=\u001b[39m \u001b[38;5;28;01mawait\u001b[39;00m \u001b[38;5;28mself\u001b[39m\u001b[38;5;241m.\u001b[39mforward(\u001b[38;5;241m*\u001b[39munpacked_args, \u001b[38;5;241m*\u001b[39m\u001b[38;5;241m*\u001b[39munpacked_kwargs)\n\u001b[1;32m    565\u001b[0m t_output: \u001b[38;5;28mtype\u001b[39m[TOutput_co] \u001b[38;5;241m=\u001b[39m \u001b[38;5;28mtype\u001b[39m(result)\n\u001b[1;32m    567\u001b[0m \u001b[38;5;66;03m# Now package up my result so it can be consumed by other calls.\u001b[39;00m\n\u001b[1;32m    568\u001b[0m \u001b[38;5;66;03m# Explicitly specify t_output. OpResult[TOutput] returns a generic object\u001b[39;00m\n",
      "File \u001b[0;32m~/miniforge3/envs/ldp_env_v1/lib/python3.11/site-packages/ldp/graph/common_ops.py:279\u001b[0m, in \u001b[0;36mLLMCallOp.forward\u001b[0;34m(self, config, msgs, tools, tool_choice)\u001b[0m\n\u001b[1;32m    275\u001b[0m \u001b[38;5;28;01mif\u001b[39;00m \u001b[38;5;129;01mnot\u001b[39;00m tools:\n\u001b[1;32m    276\u001b[0m     \u001b[38;5;66;03m# if no tools are provided, tool_choice must be 'none'\u001b[39;00m\n\u001b[1;32m    277\u001b[0m     tool_choice \u001b[38;5;241m=\u001b[39m \u001b[38;5;124m\"\u001b[39m\u001b[38;5;124mnone\u001b[39m\u001b[38;5;124m\"\u001b[39m\n\u001b[0;32m--> 279\u001b[0m result \u001b[38;5;241m=\u001b[39m \u001b[38;5;28;01mawait\u001b[39;00m \u001b[38;5;28mself\u001b[39m\u001b[38;5;241m.\u001b[39m_call_single_and_maybe_validate(\n\u001b[1;32m    280\u001b[0m     model\u001b[38;5;241m=\u001b[39mmodel,\n\u001b[1;32m    281\u001b[0m     messages\u001b[38;5;241m=\u001b[39mmsgs,\n\u001b[1;32m    282\u001b[0m     tools\u001b[38;5;241m=\u001b[39mtools,\n\u001b[1;32m    283\u001b[0m     tool_choice\u001b[38;5;241m=\u001b[39mtool_choice,\n\u001b[1;32m    284\u001b[0m     \u001b[38;5;241m*\u001b[39m\u001b[38;5;241m*\u001b[39mconfig,\n\u001b[1;32m    285\u001b[0m )\n\u001b[1;32m    286\u001b[0m \u001b[38;5;28;01mif\u001b[39;00m result\u001b[38;5;241m.\u001b[39mmessages \u001b[38;5;129;01mis\u001b[39;00m \u001b[38;5;28;01mNone\u001b[39;00m:\n\u001b[1;32m    287\u001b[0m     \u001b[38;5;28;01mraise\u001b[39;00m \u001b[38;5;167;01mValueError\u001b[39;00m(\u001b[38;5;124m\"\u001b[39m\u001b[38;5;124mNo messages returned\u001b[39m\u001b[38;5;124m\"\u001b[39m)\n",
      "\u001b[0;31mTypeError\u001b[0m: ldp.graph.common_ops.LLMCallOp._call_single_and_maybe_validate() got multiple values for keyword argument 'model'"
     ]
    }
   ],
   "source": [
    "ans = await agent.get_asv(agent_state, a)"
   ]
  },
  {
   "cell_type": "code",
   "execution_count": 22,
   "metadata": {},
   "outputs": [
    {
     "data": {
      "text/plain": [
       "{'problem_id': 'task',\n",
       " 'problem': 'Download fibronectin structure from PDB.',\n",
       " 'answer': 0.0,\n",
       " 'config': MDCrowEnvConfig(correct_reward=1.0, incorrect_reward=0.0, tool_failure_reward=-1.0, tool_success_reward=0.0, rel_tol=0.0001, done_on_failure=True),\n",
       " 'state': None,\n",
       " 'tools': [Tool(type='function', info=FunctionInfo(name='download_pdb_file', description=\"Searches RCSB's Protein Data Bank using the given query string and downloads the corresponding PDB or CIF file.\", parameters=Parameters(type='object', properties={'query_string': {'description': 'The search term for querying the PDB database.', 'title': 'Query String', 'type': 'string'}}, required=['query_string']))),\n",
       "  Tool(type='function', info=FunctionInfo(name='submit_answer', description='Submit the proposed answer and check if it is correct. This action is terminal.', parameters=Parameters(type='object', properties={'answer': {'description': 'Proposed answer.', 'title': 'Answer', 'type': 'string'}}, required=['answer'])))]}"
      ]
     },
     "execution_count": 22,
     "metadata": {},
     "output_type": "execute_result"
    }
   ],
   "source": [
    "env.__dict__"
   ]
  },
  {
   "cell_type": "code",
   "execution_count": null,
   "metadata": {},
   "outputs": [],
   "source": []
  }
 ],
 "metadata": {
  "kernelspec": {
   "display_name": "ldp_env_v1",
   "language": "python",
   "name": "python3"
  },
  "language_info": {
   "codemirror_mode": {
    "name": "ipython",
    "version": 3
   },
   "file_extension": ".py",
   "mimetype": "text/x-python",
   "name": "python",
   "nbconvert_exporter": "python",
   "pygments_lexer": "ipython3",
   "version": "3.11.11"
  }
 },
 "nbformat": 4,
 "nbformat_minor": 2
}
