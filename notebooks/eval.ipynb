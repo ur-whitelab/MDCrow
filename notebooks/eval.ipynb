{
 "cells": [
  {
   "cell_type": "code",
   "execution_count": 1,
   "metadata": {},
   "outputs": [
    {
     "name": "stdout",
     "output_type": "stream",
     "text": [
      "Thought: To visualize fibronectin, I need to first download the PDB file for it and then create a visualization of that file.\n",
      "\n",
      "Action:\n",
      "```\n",
      "{\n",
      "  \"action\": \"PDBFileDownloader\",\n",
      "  \"action_input\": {\n",
      "    \"query\": \"fibronectin\"\n",
      "  }\n",
      "}\n",
      "```PDB file found with this ID: 5TFY\n"
     ]
    },
    {
     "name": "stderr",
     "output_type": "stream",
     "text": [
      "2024-03-06 07:54:09.123 \n",
      "  \u001b[33m\u001b[1mWarning:\u001b[0m to view this Streamlit app on a browser, run it with the following\n",
      "  command:\n",
      "\n",
      "    streamlit run /opt/anaconda3/envs/mdagent/lib/python3.11/site-packages/ipykernel_launcher.py [ARGUMENTS]\n"
     ]
    },
    {
     "name": "stdout",
     "output_type": "stream",
     "text": [
      "Action:\n",
      "```\n",
      "{\n",
      "  \"action\": \"PDBVisualization\",\n",
      "  \"action_input\": {\n",
      "    \"cif_file_name\": \"5TFY_075409.cif\"\n",
      "  }\n",
      "}\n",
      "```Error running molrender: [Errno 2] No such file or directory: 'molrender'. Using NGLView instead.\n",
      "Action:\n",
      "```json\n",
      "{\n",
      "  \"action\": \"Final Answer\",\n",
      "  \"action_input\": \"The PDB file for fibronectin has been downloaded and visualized. You can view the visualization in the provided notebook.\"\n",
      "}\n",
      "```\n",
      "----- Evaluation Summary -----\n",
      "Total Steps: 3\n",
      "Total Time: 11.98 seconds (0.20 minutes)\n"
     ]
    },
    {
     "data": {
      "text/plain": [
       "'The PDB file for fibronectin has been downloaded and visualized. You can view the visualization in the provided notebook.'"
      ]
     },
     "execution_count": 1,
     "metadata": {},
     "output_type": "execute_result"
    }
   ],
   "source": [
    "from mdagent import MDAgent\n",
    "\n",
    "agent = MDAgent(\n",
    "    agent_type='Structured',\n",
    "    tools_model = 'gpt-3.5-turbo',\n",
    "    subagents_model='gpt-3.5-turbo',\n",
    ")\n",
    "agent.run_and_eval('Download and visualize fibronectin.')"
   ]
  }
 ],
 "metadata": {
  "kernelspec": {
   "display_name": "mdagent",
   "language": "python",
   "name": "mdagent"
  },
  "language_info": {
   "codemirror_mode": {
    "name": "ipython",
    "version": 3
   },
   "file_extension": ".py",
   "mimetype": "text/x-python",
   "name": "python",
   "nbconvert_exporter": "python",
   "pygments_lexer": "ipython3",
   "version": "3.11.4"
  }
 },
 "nbformat": 4,
 "nbformat_minor": 2
}
