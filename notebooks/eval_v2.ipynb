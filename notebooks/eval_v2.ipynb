{
 "cells": [
  {
   "cell_type": "code",
   "execution_count": 1,
   "metadata": {},
   "outputs": [
    {
     "name": "stderr",
     "output_type": "stream",
     "text": [
      "/opt/anaconda3/envs/mdagent/lib/python3.11/site-packages/tqdm/auto.py:21: TqdmWarning: IProgress not found. Please update jupyter and ipywidgets. See https://ipywidgets.readthedocs.io/en/stable/user_install.html\n",
      "  from .autonotebook import tqdm as notebook_tqdm\n"
     ]
    },
    {
     "name": "stdout",
     "output_type": "stream",
     "text": [
      "Evaluating prompt: Download and clean fibronectin.\n",
      "Thought: The user's main task is to download and clean the fibronectin protein structure. The first subtask is to download the fibronectin PDB file. I will use the PDBFileDownloader tool to download the PDB file for fibronectin.\n",
      "\n",
      "Action:\n",
      "```\n",
      "{\n",
      "  \"action\": \"PDBFileDownloader\",\n",
      "  \"action_input\": {\n",
      "    \"query\": \"fibronectin\"\n",
      "  }\n",
      "}\n",
      "```"
     ]
    },
    {
     "name": "stderr",
     "output_type": "stream",
     "text": [
      "2024-04-04 00:20:59.499 \n",
      "  \u001b[33m\u001b[1mWarning:\u001b[0m to view this Streamlit app on a browser, run it with the following\n",
      "  command:\n",
      "\n",
      "    streamlit run /opt/anaconda3/envs/mdagent/lib/python3.11/site-packages/ipykernel_launcher.py [ARGUMENTS]\n"
     ]
    },
    {
     "name": "stdout",
     "output_type": "stream",
     "text": [
      "PDB file found with this ID: 5TFY\n",
      "No names found. The JSON file is empty or does not contain name mappings.\n",
      "The next subtask is to clean and preprocess the downloaded fibronectin PDB file. This typically involves removing heterogens, adding missing atoms and hydrogens, replacing nonstandard residues, and/or removing water. I will use the CleaningToolFunction to perform these tasks on the downloaded PDB file.\n",
      "\n",
      "Action:\n",
      "```\n",
      "{\n",
      "  \"action\": \"CleaningToolFunction\",\n",
      "  \"action_input\": {\n",
      "    \"pdb_id\": \"5TFY_002059\",\n",
      "    \"replace_nonstandard_residues\": true,\n",
      "    \"add_missing_atoms\": true,\n",
      "    \"remove_heterogens\": true,\n",
      "    \"remove_water\": true,\n",
      "    \"add_hydrogens\": true,\n",
      "    \"add_hydrogens_ph\": 7.0\n",
      "  }\n",
      "}\n",
      "```file path: /Users/quinny/repos/md-agent_eval/ckpt/ckpt_11/pdb/5TFY_raw_20240404_002059.pdb\n",
      "Names found in registry: 5TFY_002059\n",
      "Now that the fibronectin PDB file has been downloaded and cleaned, the preprocessing step is complete. The user's initial plan does not specify further steps, so I will provide the cleaned PDB file information as the final answer.\n",
      "\n",
      "Action:\n",
      "```\n",
      "{\n",
      "  \"action\": \"Final Answer\",\n",
      "  \"action_input\": \"The fibronectin PDB file has been successfully downloaded and cleaned. You can find the cleaned file with the following details:\\nFile ID: {file_id}\\nPath: {directory}/{file_name}\"\n",
      "}\n",
      "```Run ID: 6410a4c6-e1bd-4a16-9eae-af4e8c7933a3\n",
      "\n",
      "----- Evaluation Summary -----\n",
      "Total Steps: 3\n",
      "Total Time: 33.38 seconds (0.56 minutes)\n",
      "Evaluating prompt: Download and clean 1A3N.\n",
      "Thought: The user's main task is to download and clean the fibronectin protein structure. The first subtask is to download the fibronectin PDB file. I will use the PDBFileDownloader tool to download the PDB file for fibronectin.\n",
      "\n",
      "Action:\n",
      "```json\n",
      "{\n",
      "  \"action\": \"PDBFileDownloader\",\n",
      "  \"action_input\": {\n",
      "    \"query\": \"fibronectin\"\n",
      "  }\n",
      "}\n",
      "```PDB file found with this ID: 5TFY\n",
      "Names found in registry: 5TFY_002059, 5TFY_002115\n",
      "The next subtask is to clean and preprocess the downloaded fibronectin PDB file. This involves removing heterogens, adding missing atoms and hydrogens, replacing nonstandard residues, and removing water. I will use the CleaningToolFunction to perform these tasks on the downloaded PDB file.\n",
      "\n",
      "Action:\n",
      "```json\n",
      "{\n",
      "  \"action\": \"CleaningToolFunction\",\n",
      "  \"action_input\": {\n",
      "    \"pdb_id\": \"5TFY_002127\",\n",
      "    \"replace_nonstandard_residues\": true,\n",
      "    \"add_missing_atoms\": true,\n",
      "    \"remove_heterogens\": true,\n",
      "    \"remove_water\": true,\n",
      "    \"add_hydrogens\": true,\n",
      "    \"add_hydrogens_ph\": 7.0\n",
      "  }\n",
      "}\n",
      "```file path: /Users/quinny/repos/md-agent_eval/ckpt/ckpt_11/pdb/5TFY_raw_20240404_002127.pdb\n",
      "Names found in registry: 5TFY_002059, 5TFY_002115, 5TFY_002127\n",
      "Now that the fibronectin PDB file has been downloaded and cleaned, the preprocessing step is complete. The user has not specified any further tasks, so I will provide the cleaned PDB file information as the final answer.\n",
      "\n",
      "Action:\n",
      "```json\n",
      "{\n",
      "  \"action\": \"Final Answer\",\n",
      "  \"action_input\": \"The fibronectin PDB file has been successfully downloaded and cleaned. You can find the cleaned file with the ID provided in the observation.\"\n",
      "}\n",
      "```Run ID: 77bb1fa9-15bd-413c-9c27-a4663b678520\n",
      "\n",
      "----- Evaluation Summary -----\n",
      "Total Steps: 3\n",
      "Total Time: 25.34 seconds (0.42 minutes)\n",
      "All evaluations saved to evaluation_results/mega_eval_20240404-002147.json.\n",
      "Summary table saved to evaluation_results/eval_table_20240404-002147.json.\n"
     ]
    }
   ],
   "source": [
    "from mdagent.utils.evaluate import Evaluator\n",
    "\n",
    "evaluator = Evaluator(base_dir=\"evaluation_results\") # that's the default - change base_dir if desired\n",
    "\n",
    "# to do it manually\n",
    "agent_params = {\n",
    "    \"agent_type\": \"Structured\",\n",
    "    \"learn\": False,\n",
    "}\n",
    "prompts = [\n",
    "    'Download and clean fibronectin.',\n",
    "    'Download and clean 1A3N.',\n",
    "]\n",
    "evaluator.run_evaluation(prompts, agent_params=agent_params)\n",
    "evaluator.summarize_and_save()\n",
    "df = evaluator.create_prompt_table()\n",
    "# edit the dataframe at this step if desired\n",
    "evaluator.table_to_latex(df, \"prompt_table.tex\")"
   ]
  }
 ],
 "metadata": {
  "kernelspec": {
   "display_name": "mdagent",
   "language": "python",
   "name": "mdagent"
  },
  "language_info": {
   "codemirror_mode": {
    "name": "ipython",
    "version": 3
   },
   "file_extension": ".py",
   "mimetype": "text/x-python",
   "name": "python",
   "nbconvert_exporter": "python",
   "pygments_lexer": "ipython3",
   "version": "3.11.8"
  }
 },
 "nbformat": 4,
 "nbformat_minor": 2
}
