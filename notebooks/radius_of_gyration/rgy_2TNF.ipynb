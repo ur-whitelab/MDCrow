{
 "cells": [
  {
   "cell_type": "code",
   "execution_count": 1,
   "metadata": {},
   "outputs": [
    {
     "name": "stderr",
     "output_type": "stream",
     "text": [
      "/Users/samcox/anaconda3/envs/mda_feb21/lib/python3.11/site-packages/tqdm/auto.py:21: TqdmWarning: IProgress not found. Please update jupyter and ipywidgets. See https://ipywidgets.readthedocs.io/en/stable/user_install.html\n",
      "  from .autonotebook import tqdm as notebook_tqdm\n"
     ]
    }
   ],
   "source": [
    "from mdagent import MDAgent"
   ]
  },
  {
   "cell_type": "code",
   "execution_count": 2,
   "metadata": {},
   "outputs": [],
   "source": [
    "agent = MDAgent(resume=False, learn=False, agent_type=\"Structured\")"
   ]
  },
  {
   "cell_type": "code",
   "execution_count": 3,
   "metadata": {},
   "outputs": [
    {
     "data": {
      "text/plain": [
       "'Simulate protein 2TNF and calculate the average radius of gyration.'"
      ]
     },
     "execution_count": 3,
     "metadata": {},
     "output_type": "execute_result"
    }
   ],
   "source": [
    "#get the second line from proteins.txt\n",
    "with open('proteins.txt') as f:\n",
    "    proteins = f.readlines()\n",
    "    protein = proteins[8].strip()\n",
    "\n",
    "prompt = f\"Simulate protein {protein} and calculate the average radius of gyration.\"\n",
    "prompt"
   ]
  },
  {
   "cell_type": "code",
   "execution_count": 4,
   "metadata": {},
   "outputs": [
    {
     "name": "stdout",
     "output_type": "stream",
     "text": [
      "Thought: To simulate the protein 2TNF and calculate the average radius of gyration, I need to perform two main tasks. First, I need to set up and run a simulation for the protein 2TNF. After the simulation is complete, I can then calculate the average radius of gyration using the trajectory file generated from the simulation. I will start by setting up and running the simulation using the SetUpandRunFunction tool.\n",
      "\n",
      "Action:\n",
      "```json\n",
      "{\n",
      "  \"action\": \"SetUpandRunFunction\",\n",
      "  \"action_input\": {\n",
      "    \"pdb_id\": \"2TNF\",\n",
      "    \"forcefield_files\": [],\n",
      "    \"save\": true,\n",
      "    \"system_params\": {\n",
      "      \"nonbondedMethod\": \"NoCutoff\",\n",
      "      \"constraints\": \"None\",\n",
      "      \"rigidWater\": false\n",
      "    },\n",
      "    \"integrator_params\": {\n",
      "      \"integrator_type\": \"LangevinMiddle\",\n",
      "      \"Temperature\": \"300 * kelvin\",\n",
      "      \"Friction\": \"1.0 / picoseconds\",\n",
      "      \"Timestep\": \"0.002 * picoseconds\"\n",
      "    },\n",
      "    \"simulation_params\": {\n",
      "      \"Ensemble\": \"NVT\",\n",
      "      \"Number of Steps\": 5000,\n",
      "      \"record_interval_steps\": 50,\n",
      "      \"record_params\": [\"step\", \"potentialEnergy\", \"temperature\"]\n",
      "    }\n",
      "  }\n",
      "}\n",
      "```Setting default forcefields v2\n"
     ]
    },
    {
     "name": "stderr",
     "output_type": "stream",
     "text": [
      "2024-02-23 00:09:38.472 \n",
      "  \u001b[33m\u001b[1mWarning:\u001b[0m to view this Streamlit app on a browser, run it with the following\n",
      "  command:\n",
      "\n",
      "    streamlit run /Users/samcox/anaconda3/envs/mda_feb21/lib/python3.11/site-packages/ipykernel_launcher.py [ARGUMENTS]\n"
     ]
    },
    {
     "name": "stdout",
     "output_type": "stream",
     "text": [
      "Thought: The previous action attempted to run a simulation using the SetUpandRunFunction tool but failed because the PDB ID was not recognized. It seems that the tool requires a file ID rather than the PDB ID. To resolve this, I will first download the PDB file for protein 2TNF using the PDBFileDownloader tool. Once I have the file, I can proceed with the simulation setup and run.\n",
      "\n",
      "Action:\n",
      "```json\n",
      "{\n",
      "  \"action\": \"PDBFileDownloader\",\n",
      "  \"action_input\": {\n",
      "    \"query\": \"2TNF\"\n",
      "  }\n",
      "}\n",
      "```PDB file found with this ID: 2TNF\n",
      "Now that I have successfully downloaded the PDB file for protein 2TNF, I can proceed with setting up and running the simulation using the SetUpandRunFunction tool. I will use the file ID obtained from the download in the previous step to ensure the tool recognizes the input.\n",
      "\n",
      "Action:\n",
      "```json\n",
      "{\n",
      "  \"action\": \"SetUpandRunFunction\",\n",
      "  \"action_input\": {\n",
      "    \"pdb_id\": \"2TNF_000944\",\n",
      "    \"forcefield_files\": [],\n",
      "    \"save\": true,\n",
      "    \"system_params\": {\n",
      "      \"nonbondedMethod\": \"NoCutoff\",\n",
      "      \"constraints\": \"None\",\n",
      "      \"rigidWater\": false\n",
      "    },\n",
      "    \"integrator_params\": {\n",
      "      \"integrator_type\": \"LangevinMiddle\",\n",
      "      \"Temperature\": \"300 * kelvin\",\n",
      "      \"Friction\": \"1.0 / picoseconds\",\n",
      "      \"Timestep\": \"0.002 * picoseconds\"\n",
      "    },\n",
      "    \"simulation_params\": {\n",
      "      \"Ensemble\": \"NVT\",\n",
      "      \"Number of Steps\": 5000,\n",
      "      \"record_interval_steps\": 50,\n",
      "      \"record_params\": [\"step\", \"potentialEnergy\", \"temperature\"]\n",
      "    }\n",
      "  }\n",
      "}\n",
      "```Setting default forcefields v2\n",
      "Building system...\n",
      "The simulation setup failed because the PDB file for protein 2TNF is missing hydrogen atoms, which are necessary for the forcefield to recognize the residues correctly. To fix this issue, I will use the CleaningToolFunction to add the missing hydrogen atoms to the PDB file. This should prepare the file for a successful simulation setup.\n",
      "\n",
      "Action:\n",
      "```json\n",
      "{\n",
      "  \"action\": \"CleaningToolFunction\",\n",
      "  \"action_input\": {\n",
      "    \"pdb_id\": \"2TNF_000944\",\n",
      "    \"replace_nonstandard_residues\": true,\n",
      "    \"add_missing_atoms\": true,\n",
      "    \"remove_heterogens\": true,\n",
      "    \"remove_water\": true,\n",
      "    \"add_hydrogens\": true,\n",
      "    \"add_hydrogens_ph\": 7.0\n",
      "  }\n",
      "}\n",
      "```Now that the PDB file for protein 2TNF has been cleaned and the missing hydrogen atoms have been added, I can proceed with setting up and running the simulation again using the SetUpandRunFunction tool. This time, I will use the cleaned file ID to ensure the simulation can be set up correctly.\n",
      "\n",
      "Action:\n",
      "```json\n",
      "{\n",
      "  \"action\": \"SetUpandRunFunction\",\n",
      "  \"action_input\": {\n",
      "    \"pdb_id\": \"2TNF_001016\",\n",
      "    \"forcefield_files\": [],\n",
      "    \"save\": true,\n",
      "    \"system_params\": {\n",
      "      \"nonbondedMethod\": \"NoCutoff\",\n",
      "      \"constraints\": \"None\",\n",
      "      \"rigidWater\": false\n",
      "    },\n",
      "    \"integrator_params\": {\n",
      "      \"integrator_type\": \"LangevinMiddle\",\n",
      "      \"Temperature\": \"300 * kelvin\",\n",
      "      \"Friction\": \"1.0 / picoseconds\",\n",
      "      \"Timestep\": \"0.002 * picoseconds\"\n",
      "    },\n",
      "    \"simulation_params\": {\n",
      "      \"Ensemble\": \"NVT\",\n",
      "      \"Number of Steps\": 5000,\n",
      "      \"record_interval_steps\": 50,\n",
      "      \"record_params\": [\"step\", \"potentialEnergy\", \"temperature\"]\n",
      "    }\n",
      "  }\n",
      "}\n",
      "```Setting default forcefields v2\n",
      "Building system...\n",
      "Setting up integrator...\n",
      "Creating simulation...\n",
      "simulation set!\n",
      "Performing energy minimization...\n",
      "Minimization complete!\n",
      "Initial Positions saved to initial_positions.pdb\n",
      "Equilibrating...\n",
      "Simulating...\n",
      "Done!\n",
      "Standalone simulation script written to files/simulations/NVT_2TNF_001016_20240223_001031.py\n",
      "['TOP_sim0_001031_2TNF_001016_20240223_001032.pdb', 'rgy_2TNF.ipynb', 'rgy_1PQ2.ipynb', 'proteins.txt', 'rgy_2RH1.ipynb', 'TRAJ_sim0_224125_1BR1_224108_20240222_224129.dcd', 'LOG_sim0_224125_1BR1_224108_20240222_224129.txt', 'ckpt', 'rgy_1ATN.ipynb', 'rgy_1BR1.ipynb', 'rgy_1BO9.ipynb', 'TOP_sim0_224125_1BR1_224108_20240222_224129.pdb', 'paths_registry.json', 'rgy_1TUP.ipynb', 'files', 'rgy_1TRZ.ipynb', 'TRAJ_sim0_001031_2TNF_001016_20240223_001032.dcd', 'LOG_sim0_001031_2TNF_001016_20240223_001032.txt', 'rgy_1A3N.ipynb', 'rgy_1IGT.ipynb']\n",
      "The simulation for protein 2TNF has been successfully completed, and the necessary files have been generated. Now, I need to calculate the average radius of gyration using the trajectory file from the simulation. I will use the RadiusofGyrationAverage tool to perform this calculation.\n",
      "\n",
      "Action:\n",
      "```json\n",
      "{\n",
      "  \"action\": \"RadiusofGyrationAverage\",\n",
      "  \"action_input\": {\n",
      "    \"pdb_id\": \"2TNF_001016\"\n",
      "  }\n",
      "}\n",
      "```\n",
      "Final Answer: The simulation for protein 2TNF was successfully completed, and the average radius of gyration was calculated to be 2.10 nm."
     ]
    },
    {
     "data": {
      "text/plain": [
       "'Final Answer: The simulation for protein 2TNF was successfully completed, and the average radius of gyration was calculated to be 2.10 nm.'"
      ]
     },
     "execution_count": 4,
     "metadata": {},
     "output_type": "execute_result"
    }
   ],
   "source": [
    "agent.run(prompt)"
   ]
  }
 ],
 "metadata": {
  "kernelspec": {
   "display_name": "mdagent",
   "language": "python",
   "name": "python3"
  },
  "language_info": {
   "codemirror_mode": {
    "name": "ipython",
    "version": 3
   },
   "file_extension": ".py",
   "mimetype": "text/x-python",
   "name": "python",
   "nbconvert_exporter": "python",
   "pygments_lexer": "ipython3",
   "version": "3.11.8"
  },
  "orig_nbformat": 4
 },
 "nbformat": 4,
 "nbformat_minor": 2
}
