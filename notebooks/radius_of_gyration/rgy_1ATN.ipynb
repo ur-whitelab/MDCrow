{
 "cells": [
  {
   "cell_type": "code",
   "execution_count": 1,
   "metadata": {},
   "outputs": [
    {
     "name": "stderr",
     "output_type": "stream",
     "text": [
      "/Users/samcox/anaconda3/envs/mda_feb21/lib/python3.11/site-packages/tqdm/auto.py:21: TqdmWarning: IProgress not found. Please update jupyter and ipywidgets. See https://ipywidgets.readthedocs.io/en/stable/user_install.html\n",
      "  from .autonotebook import tqdm as notebook_tqdm\n"
     ]
    }
   ],
   "source": [
    "from mdagent import MDAgent"
   ]
  },
  {
   "cell_type": "code",
   "execution_count": 2,
   "metadata": {},
   "outputs": [],
   "source": [
    "agent = MDAgent(resume=False, learn=False, agent_type=\"Structured\")"
   ]
  },
  {
   "cell_type": "code",
   "execution_count": 3,
   "metadata": {},
   "outputs": [
    {
     "data": {
      "text/plain": [
       "'Simulate protein 1ATN and calculate the average radius of gyration.'"
      ]
     },
     "execution_count": 3,
     "metadata": {},
     "output_type": "execute_result"
    }
   ],
   "source": [
    "#get the second line from proteins.txt\n",
    "with open('proteins.txt') as f:\n",
    "    proteins = f.readlines()\n",
    "    protein = proteins[4].strip()\n",
    "\n",
    "prompt = f\"Simulate protein {protein} and calculate the average radius of gyration.\"\n",
    "prompt"
   ]
  },
  {
   "cell_type": "code",
   "execution_count": 4,
   "metadata": {},
   "outputs": [
    {
     "name": "stdout",
     "output_type": "stream",
     "text": [
      "Thought: To simulate the protein 1ATN and calculate the average radius of gyration, I will first need to set up and run a short simulation of the protein using the SetUpandRunFunction tool. After the simulation is complete, I can then use the RadiusofGyrationAverage tool to calculate the average radius of gyration for the simulated trajectory.\n",
      "\n",
      "Action:\n",
      "```json\n",
      "{\n",
      "  \"action\": \"SetUpandRunFunction\",\n",
      "  \"action_input\": {\n",
      "    \"pdb_id\": \"1ATN\",\n",
      "    \"forcefield_files\": [],\n",
      "    \"save\": true,\n",
      "    \"system_params\": {\n",
      "      \"nonbondedMethod\": \"NoCutoff\",\n",
      "      \"constraints\": \"None\",\n",
      "      \"rigidWater\": false,\n",
      "      \"solvate\": false\n",
      "    },\n",
      "    \"integrator_params\": {\n",
      "      \"integrator_type\": \"LangevinMiddle\",\n",
      "      \"Temperature\": \"300 * kelvin\",\n",
      "      \"Friction\": \"1.0 / picoseconds\",\n",
      "      \"Timestep\": \"0.002 * picoseconds\"\n",
      "    },\n",
      "    \"simulation_params\": {\n",
      "      \"Ensemble\": \"NVT\",\n",
      "      \"Number of Steps\": 5000,\n",
      "      \"record_interval_steps\": 50,\n",
      "      \"record_params\": [\"step\", \"potentialEnergy\", \"temperature\"]\n",
      "    }\n",
      "  }\n",
      "}\n",
      "```Setting default forcefields v2\n"
     ]
    },
    {
     "name": "stderr",
     "output_type": "stream",
     "text": [
      "2024-02-22 22:50:02.883 \n",
      "  \u001b[33m\u001b[1mWarning:\u001b[0m to view this Streamlit app on a browser, run it with the following\n",
      "  command:\n",
      "\n",
      "    streamlit run /Users/samcox/anaconda3/envs/mda_feb21/lib/python3.11/site-packages/ipykernel_launcher.py [ARGUMENTS]\n"
     ]
    },
    {
     "name": "stdout",
     "output_type": "stream",
     "text": [
      "The previous action attempted to run a simulation using the PDB ID \"1ATN\" but encountered an error because the PDB file was not found in the input. To proceed, I need to ensure that the PDB file for the protein 1ATN is available for the simulation. I will use the PDBFileDownloader tool to download the PDB file for protein 1ATN.\n",
      "\n",
      "Action:\n",
      "```json\n",
      "{\n",
      "  \"action\": \"PDBFileDownloader\",\n",
      "  \"action_input\": {\n",
      "    \"query\": \"1ATN\"\n",
      "  }\n",
      "}\n",
      "```PDB file found with this ID: 1ATN\n",
      "Now that I have successfully downloaded the PDB file for protein 1ATN, I can proceed to set up and run a short simulation of the protein using the SetUpandRunFunction tool. I will use the downloaded PDB file ID \"1ATN_225014\" as the input for the simulation.\n",
      "\n",
      "Action:\n",
      "```json\n",
      "{\n",
      "  \"action\": \"SetUpandRunFunction\",\n",
      "  \"action_input\": {\n",
      "    \"pdb_id\": \"1ATN_225014\",\n",
      "    \"forcefield_files\": [],\n",
      "    \"save\": true,\n",
      "    \"system_params\": {\n",
      "      \"nonbondedMethod\": \"NoCutoff\",\n",
      "      \"constraints\": \"None\",\n",
      "      \"rigidWater\": false,\n",
      "      \"solvate\": false\n",
      "    },\n",
      "    \"integrator_params\": {\n",
      "      \"integrator_type\": \"LangevinMiddle\",\n",
      "      \"Temperature\": \"300 * kelvin\",\n",
      "      \"Friction\": \"1.0 / picoseconds\",\n",
      "      \"Timestep\": \"0.002 * picoseconds\"\n",
      "    },\n",
      "    \"simulation_params\": {\n",
      "      \"Ensemble\": \"NVT\",\n",
      "      \"Number of Steps\": 5000,\n",
      "      \"record_interval_steps\": 50,\n",
      "      \"record_params\": [\"step\", \"potentialEnergy\", \"temperature\"]\n",
      "    }\n",
      "  }\n",
      "}\n",
      "```Setting default forcefields v2\n",
      "Building system...\n",
      "The simulation setup failed because the PDB file for protein 1ATN is missing hydrogen atoms, which are necessary for the forcefield to recognize the residues correctly. To resolve this, I will use the CleaningToolFunction to add the missing hydrogen atoms to the PDB file. This should prepare the file for a successful simulation setup.\n",
      "\n",
      "Action:\n",
      "```json\n",
      "{\n",
      "  \"action\": \"CleaningToolFunction\",\n",
      "  \"action_input\": {\n",
      "    \"pdb_id\": \"1ATN_225014\",\n",
      "    \"replace_nonstandard_residues\": true,\n",
      "    \"add_missing_atoms\": true,\n",
      "    \"remove_heterogens\": true,\n",
      "    \"remove_water\": true,\n",
      "    \"add_hydrogens\": true,\n",
      "    \"add_hydrogens_ph\": 7.0\n",
      "  }\n",
      "}\n",
      "```The PDB file for protein 1ATN has been successfully cleaned and is now ready for simulation. I will proceed to set up and run a short simulation of the protein using the cleaned PDB file ID \"1ATN_225040\" with the SetUpandRunFunction tool.\n",
      "\n",
      "Action:\n",
      "```json\n",
      "{\n",
      "  \"action\": \"SetUpandRunFunction\",\n",
      "  \"action_input\": {\n",
      "    \"pdb_id\": \"1ATN_225040\",\n",
      "    \"forcefield_files\": [],\n",
      "    \"save\": true,\n",
      "    \"system_params\": {\n",
      "      \"nonbondedMethod\": \"NoCutoff\",\n",
      "      \"constraints\": \"None\",\n",
      "      \"rigidWater\": false,\n",
      "      \"solvate\": false\n",
      "    },\n",
      "    \"integrator_params\": {\n",
      "      \"integrator_type\": \"LangevinMiddle\",\n",
      "      \"Temperature\": \"300 * kelvin\",\n",
      "      \"Friction\": \"1.0 / picoseconds\",\n",
      "      \"Timestep\": \"0.002 * picoseconds\"\n",
      "    },\n",
      "    \"simulation_params\": {\n",
      "      \"Ensemble\": \"NVT\",\n",
      "      \"Number of Steps\": 5000,\n",
      "      \"record_interval_steps\": 50,\n",
      "      \"record_params\": [\"step\", \"potentialEnergy\", \"temperature\"]\n",
      "    }\n",
      "  }\n",
      "}\n",
      "```Setting default forcefields v2\n",
      "Building system...\n",
      "Setting up integrator...\n",
      "Creating simulation...\n",
      "simulation set!\n",
      "Performing energy minimization...\n",
      "Minimization complete!\n",
      "Initial Positions saved to initial_positions.pdb\n",
      "Equilibrating...\n",
      "Simulating...\n",
      "Done!\n",
      "Standalone simulation script written to files/simulations/NVT_1ATN_225040_20240222_225052.py\n",
      "['proteins.txt', 'TRAJ_sim0_224125_1BR1_224108_20240222_224129.dcd', 'LOG_sim0_224125_1BR1_224108_20240222_224129.txt', 'ckpt', 'rgy_1ATN.ipynb', 'rgy_1BR1.ipynb', 'TOP_sim0_225052_1ATN_225040_20240222_225053.pdb', 'TOP_sim0_224125_1BR1_224108_20240222_224129.pdb', 'paths_registry.json', 'LOG_sim0_225052_1ATN_225040_20240222_225053.txt', 'rgy_1TUP.ipynb', 'files', 'rgy_1TRZ.ipynb', 'TRAJ_sim0_225052_1ATN_225040_20240222_225053.dcd', 'rgy_1A3N.ipynb']\n",
      "The simulation for protein 1ATN has been completed successfully, and the necessary files have been generated. Now, I will use the RadiusofGyrationAverage tool to calculate the average radius of gyration for the simulated trajectory file.\n",
      "\n",
      "Action:\n",
      "```json\n",
      "{\n",
      "  \"action\": \"RadiusofGyrationAverage\",\n",
      "  \"action_input\": {\n",
      "    \"pdb_id\": \"1ATN_225040\"\n",
      "  }\n",
      "}\n",
      "```\n",
      "The average radius of gyration for the simulated protein 1ATN has been calculated and is 3.02 nm. This completes the task.\n",
      "\n",
      "Final Answer: The average radius of gyration for the simulated protein 1ATN is 3.02 nm."
     ]
    },
    {
     "data": {
      "text/plain": [
       "'The average radius of gyration for the simulated protein 1ATN has been calculated and is 3.02 nm. This completes the task.\\n\\nFinal Answer: The average radius of gyration for the simulated protein 1ATN is 3.02 nm.'"
      ]
     },
     "execution_count": 4,
     "metadata": {},
     "output_type": "execute_result"
    }
   ],
   "source": [
    "agent.run(prompt)"
   ]
  },
  {
   "cell_type": "code",
   "execution_count": null,
   "metadata": {},
   "outputs": [],
   "source": []
  }
 ],
 "metadata": {
  "kernelspec": {
   "display_name": "mdagent",
   "language": "python",
   "name": "python3"
  },
  "language_info": {
   "codemirror_mode": {
    "name": "ipython",
    "version": 3
   },
   "file_extension": ".py",
   "mimetype": "text/x-python",
   "name": "python",
   "nbconvert_exporter": "python",
   "pygments_lexer": "ipython3",
   "version": "3.11.8"
  },
  "orig_nbformat": 4
 },
 "nbformat": 4,
 "nbformat_minor": 2
}
