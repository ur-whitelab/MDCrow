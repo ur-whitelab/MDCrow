{
 "cells": [
  {
   "cell_type": "code",
   "execution_count": 1,
   "metadata": {},
   "outputs": [
    {
     "data": {
      "text/plain": [
       "True"
      ]
     },
     "execution_count": 1,
     "metadata": {},
     "output_type": "execute_result"
    }
   ],
   "source": [
    "from dotenv import load_dotenv\n",
    "\n",
    "load_dotenv()"
   ]
  },
  {
   "cell_type": "code",
   "execution_count": 2,
   "metadata": {},
   "outputs": [
    {
     "name": "stdout",
     "output_type": "stream",
     "text": [
      "I want to run a simulation of the 3pqr protein. Download it. I want to use the amber14-all.xml and tip3pfb.xml forcefield. I want to use the NVT ensemble. I want to use the Langevin integrator. I want to run 5000 steps. I want to use a 1 fs timestep. I want to run at 300 K. I want to use a friction coefficient of 1.0 (1/ps). I want to use the default instructions.I want to record the steps, potentialEnergy, temperature, density, volume, and pressure. \n"
     ]
    }
   ],
   "source": [
    "#for our context cleaning is a nice word for preprocessing\n",
    "setup_and_run_task = \"I want to run a simulation of the 3pqr protein. Download it. \"\\\n",
    "\"I want to use the amber14-all.xml and tip3pfb.xml forcefield. \"\\\n",
    "\"I want to use the NVT ensemble. I want to use the Langevin integrator. \" \\\n",
    "\"I want to run 5000 steps. I want to use a 1 fs timestep. I want to run at 300 K. \" \\\n",
    "\"I want to use a friction coefficient of 1.0 (1/ps). I want to use the default instructions.\"\\\n",
    "\"I want to record the steps, potentialEnergy, temperature, density, volume, and pressure. \"\n",
    "print(setup_and_run_task)"
   ]
  },
  {
   "cell_type": "code",
   "execution_count": 3,
   "metadata": {},
   "outputs": [
    {
     "name": "stdout",
     "output_type": "stream",
     "text": [
      "\n",
      "\n",
      "\u001b[1m> Entering new  chain...\u001b[0m\n",
      "Thought: The first step is to download the 3pqr protein file. I will use the PDBFileDownloader tool for this.\n",
      "Action: PDBFileDownloader\n",
      "Action Input: 3pqr\u001b[32;1m\u001b[1;3mThe first step is to download the 3pqr protein file. I will use the PDBFileDownloader tool for this.\n",
      "Action: PDBFileDownloader\n",
      "Action Input: 3pqr\u001b[0mPDB file found for fibronectin: 3PQR\n",
      "3PQR.cif is created\n",
      "\n",
      "Observation: \u001b[33;1m\u001b[1;3mName2PDB tool successfully downloaded the PDB file: 3PQR.cif\u001b[0m\n",
      "Thought:\n",
      "The next step is to clean the downloaded PDB file. Since the user didn't specify any cleaning preferences, I will use the StandardCleaningTool.\n",
      "Action: StandardCleaningTool\n",
      "Action Input: 3PQR.cif\u001b[32;1m\u001b[1;3mThe next step is to clean the downloaded PDB file. Since the user didn't specify any cleaning preferences, I will use the StandardCleaningTool.\n",
      "Action: StandardCleaningTool\n",
      "Action Input: 3PQR.cif\u001b[0m\n",
      "Observation: \u001b[36;1m\u001b[1;3mCleaned File written to tidy_3PQR.cif\u001b[0m\n",
      "Thought:The next step is to summarize the instructions given by the user. I will use the Instruction Summary tool for this.\n",
      "Action: Instruction Summary\n",
      "Action Input: I want to run a simulation of the 3pqr protein. I want to use the amber14-all.xml and tip3pfb.xml forcefield. I want to use the NVT ensemble. I want to use the Langevin integrator. I want to run 5000 steps. I want to use a 1 fs timestep. I want to run at 300 K. I want to use a friction coefficient of 1.0 (1/ps). I want to use the default instructions.I want to record the steps, potentialEnergy, temperature, density, volume, and pressure. \u001b[32;1m\u001b[1;3mThe next step is to summarize the instructions given by the user. I will use the Instruction Summary tool for this.\n",
      "Action: Instruction Summary\n",
      "Action Input: I want to run a simulation of the 3pqr protein. I want to use the amber14-all.xml and tip3pfb.xml forcefield. I want to use the NVT ensemble. I want to use the Langevin integrator. I want to run 5000 steps. I want to use a 1 fs timestep. I want to run at 300 K. I want to use a friction coefficient of 1.0 (1/ps). I want to use the default instructions.I want to record the steps, potentialEnergy, temperature, density, volume, and pressure.\u001b[0m\n",
      "Observation: \u001b[38;5;200m\u001b[1;3mFile Path: tidy_3PQR.cif\n",
      "Preprocessing: Add hydrogens and remove water (default)\n",
      "Forcefield: amber14-all.xml, tip3pfb.xml\n",
      "Ensemble: NVT\n",
      "Integrator: Langevin\n",
      "Number of Steps: 5000\n",
      "Timestep: 1 fs\n",
      "Temperature: 300 K\n",
      "Pressure: None (default for NVT ensemble)\n",
      "Friction: 1.0\n",
      "record_params: [\"step\", \"potentialEnergy\", \"temperature\", \"density\", \"volume\", \"pressure\"]\n",
      "Other Instructions: Default instructions\u001b[0m\n",
      "Thought:The next step is to set up and run the simulation using the SetUpAndRunTool. I will need to provide a JSON file with the parameters path. I will create this JSON file using the Python_REPL tool.\n",
      "Action: Python_REPL\n",
      "Action Input: \n",
      "{\n",
      "    \"file_path\": \"tidy_3PQR.cif\",\n",
      "    \"preprocessing\": \"Add hydrogens and remove water\",\n",
      "    \"forcefield\": [\"amber14-all.xml\", \"tip3pfb.xml\"],\n",
      "    \"ensemble\": \"NVT\",\n",
      "    \"integrator\": \"Langevin\",\n",
      "    \"steps\": 5000,\n",
      "    \"timestep\": \"1 fs\",\n",
      "    \"temperature\": 300,\n",
      "    \"pressure\": \"None\",\n",
      "    \"friction\": 1.0,\n",
      "    \"record_params\": [\"step\", \"potentialEnergy\", \"temperature\", \"density\", \"volume\", \"pressure\"],\n",
      "    \"other_instructions\": \"Default instructions\"\n",
      "}\u001b[32;1m\u001b[1;3mThe next step is to set up and run the simulation using the SetUpAndRunTool. I will need to provide a JSON file with the parameters path. I will create this JSON file using the Python_REPL tool.\n",
      "Action: Python_REPL\n",
      "Action Input: \n",
      "{\n",
      "    \"file_path\": \"tidy_3PQR.cif\",\n",
      "    \"preprocessing\": \"Add hydrogens and remove water\",\n",
      "    \"forcefield\": [\"amber14-all.xml\", \"tip3pfb.xml\"],\n",
      "    \"ensemble\": \"NVT\",\n",
      "    \"integrator\": \"Langevin\",\n",
      "    \"steps\": 5000,\n",
      "    \"timestep\": \"1 fs\",\n",
      "    \"temperature\": 300,\n",
      "    \"pressure\": \"None\",\n",
      "    \"friction\": 1.0,\n",
      "    \"record_params\": [\"step\", \"potentialEnergy\", \"temperature\", \"density\", \"volume\", \"pressure\"],\n",
      "    \"other_instructions\": \"Default instructions\"\n",
      "}\u001b[0m\n",
      "Observation: \u001b[36;1m\u001b[1;3m\u001b[0m\n",
      "Thought:The next step is to run the simulation with the parameters defined in the JSON file.\n",
      "Action: SetUpAndRunTool\n",
      "Action Input: parameters.json\u001b[32;1m\u001b[1;3mThe next step is to run the simulation with the parameters defined in the JSON file.\n",
      "Action: SetUpAndRunTool\n",
      "Action Input: parameters.json\u001b[0mSetting up forcields : amber14-all.xml tip3pfb.xml\n",
      "Starting pdb/cis file : tidy_3PQR.cif\n",
      "Setting up Langevin integrator with Parameters: 300 K 1.0 1/ps 1 fs\n",
      "{'step': True, 'potentialEnergy': True, 'temperature': True, 'density': True, 'volume': True}\n",
      "\n",
      "Observation: \u001b[36;1m\u001b[1;3mSimulation Completed, saved as .pdb and .csv files\u001b[0m\n",
      "Thought:Final Answer: The simulation of the 3pqr protein was successfully completed using the specified parameters. The results of the simulation have been saved as .pdb and .csv files.\u001b[32;1m\u001b[1;3mFinal Answer: The simulation of the 3pqr protein was successfully completed using the specified parameters. The results of the simulation have been saved as .pdb and .csv files.\u001b[0m\n",
      "\n",
      "\u001b[1m> Finished chain.\u001b[0m\n"
     ]
    },
    {
     "data": {
      "text/plain": [
       "'Thought: The first step is to download the 3pqr protein file. I will use the PDBFileDownloader tool for this.\\nAction: PDBFileDownloader\\nAction Input: 3pqr\\nObservation: Name2PDB tool successfully downloaded the PDB file: 3PQR.cif\\nThought: The next step is to clean the downloaded PDB file. Since the user didn\\'t specify any cleaning preferences, I will use the StandardCleaningTool.\\nAction: StandardCleaningTool\\nAction Input: 3PQR.cif\\nObservation: Cleaned File written to tidy_3PQR.cif\\nThought: The next step is to summarize the instructions given by the user. I will use the Instruction Summary tool for this.\\nAction: Instruction Summary\\nAction Input: I want to run a simulation of the 3pqr protein. I want to use the amber14-all.xml and tip3pfb.xml forcefield. I want to use the NVT ensemble. I want to use the Langevin integrator. I want to run 5000 steps. I want to use a 1 fs timestep. I want to run at 300 K. I want to use a friction coefficient of 1.0 (1/ps). I want to use the default instructions.I want to record the steps, potentialEnergy, temperature, density, volume, and pressure.\\nObservation: File Path: tidy_3PQR.cif\\nPreprocessing: Add hydrogens and remove water (default)\\nForcefield: amber14-all.xml, tip3pfb.xml\\nEnsemble: NVT\\nIntegrator: Langevin\\nNumber of Steps: 5000\\nTimestep: 1 fs\\nTemperature: 300 K\\nPressure: None (default for NVT ensemble)\\nFriction: 1.0\\nrecord_params: [\"step\", \"potentialEnergy\", \"temperature\", \"density\", \"volume\", \"pressure\"]\\nOther Instructions: Default instructions\\nThought: The next step is to set up and run the simulation using the SetUpAndRunTool. I will need to provide a JSON file with the parameters path. I will create this JSON file using the Python_REPL tool.\\nAction: Python_REPL\\nAction Input: \\n{\\n    \"file_path\": \"tidy_3PQR.cif\",\\n    \"preprocessing\": \"Add hydrogens and remove water\",\\n    \"forcefield\": [\"amber14-all.xml\", \"tip3pfb.xml\"],\\n    \"ensemble\": \"NVT\",\\n    \"integrator\": \"Langevin\",\\n    \"steps\": 5000,\\n    \"timestep\": \"1 fs\",\\n    \"temperature\": 300,\\n    \"pressure\": \"None\",\\n    \"friction\": 1.0,\\n    \"record_params\": [\"step\", \"potentialEnergy\", \"temperature\", \"density\", \"volume\", \"pressure\"],\\n    \"other_instructions\": \"Default instructions\"\\n}\\nObservation: \\nThought: The next step is to run the simulation with the parameters defined in the JSON file.\\nAction: SetUpAndRunTool\\nAction Input: parameters.json\\nObservation: Simulation Completed, saved as .pdb and .csv files\\nFinal Answer: The simulation of the 3pqr protein was successfully completed using the specified parameters. The results of the simulation have been saved as .pdb and .csv files.'"
      ]
     },
     "execution_count": 3,
     "metadata": {},
     "output_type": "execute_result"
    }
   ],
   "source": [
    "from mdagent.agent import MDAgent\n",
    "mrkl = MDAgent()\n",
    "mrkl.run(setup_and_run_task)"
   ]
  },
  {
   "cell_type": "code",
   "execution_count": null,
   "metadata": {},
   "outputs": [],
   "source": []
  }
 ],
 "metadata": {
  "kernelspec": {
   "display_name": "tools",
   "language": "python",
   "name": "python3"
  },
  "language_info": {
   "codemirror_mode": {
    "name": "ipython",
    "version": 3
   },
   "file_extension": ".py",
   "mimetype": "text/x-python",
   "name": "python",
   "nbconvert_exporter": "python",
   "pygments_lexer": "ipython3",
   "version": "3.11.4"
  },
  "orig_nbformat": 4
 },
 "nbformat": 4,
 "nbformat_minor": 2
}
