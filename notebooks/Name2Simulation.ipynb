{
 "cells": [
  {
   "cell_type": "code",
   "execution_count": 1,
   "metadata": {},
   "outputs": [
    {
     "data": {
      "text/plain": [
       "True"
      ]
     },
     "execution_count": 1,
     "metadata": {},
     "output_type": "execute_result"
    }
   ],
   "source": [
    "from dotenv import load_dotenv\n",
    "\n",
    "load_dotenv()"
   ]
  },
  {
   "cell_type": "code",
   "execution_count": 2,
   "metadata": {},
   "outputs": [
    {
     "name": "stdout",
     "output_type": "stream",
     "text": [
      "I want to run a simulation of fibronectin. I want to use the amber14-all.xml and tip3pfb.xml forcefield. I want to use the NVT ensemble. I want to use the Langevin integrator. I want to run 1000 steps. I want to use a 1 fs timestep. I want to run at 300 K. I want to use a friction coefficient of 1.0 (1/ps). I want to use the default instructions.\n"
     ]
    }
   ],
   "source": [
    "#for our context cleaning is a nice word for preprocessing\n",
    "setup_and_run_task = \"I want to run a simulation of the 3pqr protein. \"\\\n",
    "\"I want to use the amber14-all.xml and tip3pfb.xml forcefield. \"\\\n",
    "\"I want to use the NVT ensemble. I want to use the Langevin integrator. \" \\\n",
    "\"I want to run 1000 steps. I want to use a 1 fs timestep. I want to run at 300 K. \" \\\n",
    "\"I want to use a friction coefficient of 1.0 (1/ps). I want to use the default instructions.\"\n",
    "print(setup_and_run_task)"
   ]
  },
  {
   "cell_type": "code",
   "execution_count": 3,
   "metadata": {},
   "outputs": [
    {
     "name": "stdout",
     "output_type": "stream",
     "text": [
      "\n",
      "\n",
      "\u001b[1m> Entering new  chain...\u001b[0m\n",
      "Thought: The first step is to summarize the instructions given by the user.\n",
      "Action: Instruction Summary\n",
      "Action Input: I want to run a simulation of fibronectin. I want to use the amber14-all.xml and tip3pfb.xml forcefield. I want to use the NVT ensemble. I want to use the Langevin integrator. I want to run 1000 steps. I want to use a 1 fs timestep. I want to run at 300 K. I want to use a friction coefficient of 1.0 (1/ps). I want to use the default instructions.\u001b[32;1m\u001b[1;3mThe first step is to summarize the instructions given by the user.\n",
      "Action: Instruction Summary\n",
      "Action Input: I want to run a simulation of fibronectin. I want to use the amber14-all.xml and tip3pfb.xml forcefield. I want to use the NVT ensemble. I want to use the Langevin integrator. I want to run 1000 steps. I want to use a 1 fs timestep. I want to run at 300 K. I want to use a friction coefficient of 1.0 (1/ps). I want to use the default instructions.\u001b[0m\n",
      "Observation: \u001b[38;5;200m\u001b[1;3mFile Path: tidy_1X3D.cif\n",
      "Preprocessing: Add hydrogens and remove water (default)\n",
      "Forcefield: amber14-all.xml, tip3pfb.xml\n",
      "Ensemble: NVT\n",
      "Integrator: Langevin\n",
      "Number of Steps: 1000\n",
      "Timestep: 1 fs\n",
      "Temperature: 300 K\n",
      "Pressure: None (default, as NVT ensemble is used)\n",
      "Friction: 1.0\n",
      "record_params: [\"step\", \"potentialEnergy\", \"temperature\"] (default)\n",
      "Other Instructions: Default instructions\u001b[0m\n",
      "Thought:\n",
      "Thought: The next step is to download the PDB file for fibronectin.\n",
      "Action: PDBFileDownloader\n",
      "Action Input: fibronectin\u001b[32;1m\u001b[1;3mThought: The next step is to download the PDB file for fibronectin.\n",
      "Action: PDBFileDownloader\n",
      "Action Input: fibronectin\u001b[0mPDB file found for fibronectin: 1X3D\n",
      "1X3D.cif is created\n",
      "\n",
      "Observation: \u001b[33;1m\u001b[1;3mName2PDB tool successfully downloaded the PDB file: 1X3D.cif\u001b[0m\n",
      "Thought:The next step is to clean the downloaded PDB file by adding hydrogens and removing water.\n",
      "Action: RemoveWaterAddHydrogensCleaningTool\n",
      "Action Input: 1X3D.cif\u001b[32;1m\u001b[1;3mThe next step is to clean the downloaded PDB file by adding hydrogens and removing water.\n",
      "Action: RemoveWaterAddHydrogensCleaningTool\n",
      "Action Input: 1X3D.cif\u001b[0m\n",
      "Observation: \u001b[33;1m\u001b[1;3mCleaned File. Missing Hydrogens added, and water\n",
      "            removed. Written to tidy_1X3D.pdb\u001b[0m\n",
      "Thought:The next step is to set up and run the simulation using the cleaned PDB file and the parameters specified in the instructions.\n",
      "Action: SetUpAndRunTool\n",
      "Action Input: {\n",
      "  \"filePath\": \"tidy_1X3D.pdb\",\n",
      "  \"forcefield\": [\"amber14-all.xml\", \"tip3pfb.xml\"],\n",
      "  \"ensemble\": \"NVT\",\n",
      "  \"integrator\": \"Langevin\",\n",
      "  \"steps\": 1000,\n",
      "  \"timestep\": 1,\n",
      "  \"temperature\": 300,\n",
      "  \"friction\": 1.0,\n",
      "  \"record_params\": [\"step\", \"potentialEnergy\", \"temperature\"]\n",
      "}\u001b[32;1m\u001b[1;3mThe next step is to set up and run the simulation using the cleaned PDB file and the parameters specified in the instructions.\n",
      "Action: SetUpAndRunTool\n",
      "Action Input: {\n",
      "  \"filePath\": \"tidy_1X3D.pdb\",\n",
      "  \"forcefield\": [\"amber14-all.xml\", \"tip3pfb.xml\"],\n",
      "  \"ensemble\": \"NVT\",\n",
      "  \"integrator\": \"Langevin\",\n",
      "  \"steps\": 1000,\n",
      "  \"timestep\": 1,\n",
      "  \"temperature\": 300,\n",
      "  \"friction\": 1.0,\n",
      "  \"record_params\": [\"step\", \"potentialEnergy\", \"temperature\"]\n",
      "}\u001b[0mSetting up forcields : amber14-all.xml tip3pfb.xml\n",
      "Starting pdb/cis file : tidy_1X3D.cif\n"
     ]
    },
    {
     "ename": "ValueError",
     "evalue": "No template found for residue 118 (GLY).  The set of atoms matches GLY, but the bonds are different.  Perhaps the chain is missing a terminal group?  For more information, see https://github.com/openmm/openmm/wiki/Frequently-Asked-Questions#template",
     "output_type": "error",
     "traceback": [
      "\u001b[0;31m---------------------------------------------------------------------------\u001b[0m",
      "\u001b[0;31mValueError\u001b[0m                                Traceback (most recent call last)",
      "Cell \u001b[0;32mIn[3], line 3\u001b[0m\n\u001b[1;32m      1\u001b[0m \u001b[39mfrom\u001b[39;00m \u001b[39mmdagent\u001b[39;00m\u001b[39m.\u001b[39;00m\u001b[39magent\u001b[39;00m \u001b[39mimport\u001b[39;00m MDAgent\n\u001b[1;32m      2\u001b[0m mrkl \u001b[39m=\u001b[39m MDAgent()\n\u001b[0;32m----> 3\u001b[0m mrkl\u001b[39m.\u001b[39;49mrun(setup_and_run_task)\n",
      "File \u001b[0;32m~/mdagent/md-agent/mdagent/agent/agent.py:65\u001b[0m, in \u001b[0;36mMDAgent.run\u001b[0;34m(self, prompt)\u001b[0m\n\u001b[1;32m     64\u001b[0m \u001b[39mdef\u001b[39;00m \u001b[39mrun\u001b[39m(\u001b[39mself\u001b[39m, prompt):\n\u001b[0;32m---> 65\u001b[0m     outputs \u001b[39m=\u001b[39m \u001b[39mself\u001b[39;49m\u001b[39m.\u001b[39;49magent_executor({\u001b[39m\"\u001b[39;49m\u001b[39minput\u001b[39;49m\u001b[39m\"\u001b[39;49m: prompt})\n\u001b[1;32m     66\u001b[0m     \u001b[39m# Parse long output (with intermediate steps)\u001b[39;00m\n\u001b[1;32m     67\u001b[0m     intermed \u001b[39m=\u001b[39m outputs[\u001b[39m\"\u001b[39m\u001b[39mintermediate_steps\u001b[39m\u001b[39m\"\u001b[39m]\n",
      "File \u001b[0;32m~/opt/anaconda3/envs/tools/lib/python3.11/site-packages/langchain/chains/base.py:149\u001b[0m, in \u001b[0;36mChain.__call__\u001b[0;34m(self, inputs, return_only_outputs, callbacks, tags, include_run_info)\u001b[0m\n\u001b[1;32m    147\u001b[0m \u001b[39mexcept\u001b[39;00m (\u001b[39mKeyboardInterrupt\u001b[39;00m, \u001b[39mException\u001b[39;00m) \u001b[39mas\u001b[39;00m e:\n\u001b[1;32m    148\u001b[0m     run_manager\u001b[39m.\u001b[39mon_chain_error(e)\n\u001b[0;32m--> 149\u001b[0m     \u001b[39mraise\u001b[39;00m e\n\u001b[1;32m    150\u001b[0m run_manager\u001b[39m.\u001b[39mon_chain_end(outputs)\n\u001b[1;32m    151\u001b[0m final_outputs: Dict[\u001b[39mstr\u001b[39m, Any] \u001b[39m=\u001b[39m \u001b[39mself\u001b[39m\u001b[39m.\u001b[39mprep_outputs(\n\u001b[1;32m    152\u001b[0m     inputs, outputs, return_only_outputs\n\u001b[1;32m    153\u001b[0m )\n",
      "File \u001b[0;32m~/opt/anaconda3/envs/tools/lib/python3.11/site-packages/langchain/chains/base.py:143\u001b[0m, in \u001b[0;36mChain.__call__\u001b[0;34m(self, inputs, return_only_outputs, callbacks, tags, include_run_info)\u001b[0m\n\u001b[1;32m    137\u001b[0m run_manager \u001b[39m=\u001b[39m callback_manager\u001b[39m.\u001b[39mon_chain_start(\n\u001b[1;32m    138\u001b[0m     dumpd(\u001b[39mself\u001b[39m),\n\u001b[1;32m    139\u001b[0m     inputs,\n\u001b[1;32m    140\u001b[0m )\n\u001b[1;32m    141\u001b[0m \u001b[39mtry\u001b[39;00m:\n\u001b[1;32m    142\u001b[0m     outputs \u001b[39m=\u001b[39m (\n\u001b[0;32m--> 143\u001b[0m         \u001b[39mself\u001b[39;49m\u001b[39m.\u001b[39;49m_call(inputs, run_manager\u001b[39m=\u001b[39;49mrun_manager)\n\u001b[1;32m    144\u001b[0m         \u001b[39mif\u001b[39;00m new_arg_supported\n\u001b[1;32m    145\u001b[0m         \u001b[39melse\u001b[39;00m \u001b[39mself\u001b[39m\u001b[39m.\u001b[39m_call(inputs)\n\u001b[1;32m    146\u001b[0m     )\n\u001b[1;32m    147\u001b[0m \u001b[39mexcept\u001b[39;00m (\u001b[39mKeyboardInterrupt\u001b[39;00m, \u001b[39mException\u001b[39;00m) \u001b[39mas\u001b[39;00m e:\n\u001b[1;32m    148\u001b[0m     run_manager\u001b[39m.\u001b[39mon_chain_error(e)\n",
      "File \u001b[0;32m~/opt/anaconda3/envs/tools/lib/python3.11/site-packages/langchain/agents/agent.py:957\u001b[0m, in \u001b[0;36mAgentExecutor._call\u001b[0;34m(self, inputs, run_manager)\u001b[0m\n\u001b[1;32m    955\u001b[0m \u001b[39m# We now enter the agent loop (until it returns something).\u001b[39;00m\n\u001b[1;32m    956\u001b[0m \u001b[39mwhile\u001b[39;00m \u001b[39mself\u001b[39m\u001b[39m.\u001b[39m_should_continue(iterations, time_elapsed):\n\u001b[0;32m--> 957\u001b[0m     next_step_output \u001b[39m=\u001b[39m \u001b[39mself\u001b[39;49m\u001b[39m.\u001b[39;49m_take_next_step(\n\u001b[1;32m    958\u001b[0m         name_to_tool_map,\n\u001b[1;32m    959\u001b[0m         color_mapping,\n\u001b[1;32m    960\u001b[0m         inputs,\n\u001b[1;32m    961\u001b[0m         intermediate_steps,\n\u001b[1;32m    962\u001b[0m         run_manager\u001b[39m=\u001b[39;49mrun_manager,\n\u001b[1;32m    963\u001b[0m     )\n\u001b[1;32m    964\u001b[0m     \u001b[39mif\u001b[39;00m \u001b[39misinstance\u001b[39m(next_step_output, AgentFinish):\n\u001b[1;32m    965\u001b[0m         \u001b[39mreturn\u001b[39;00m \u001b[39mself\u001b[39m\u001b[39m.\u001b[39m_return(\n\u001b[1;32m    966\u001b[0m             next_step_output, intermediate_steps, run_manager\u001b[39m=\u001b[39mrun_manager\n\u001b[1;32m    967\u001b[0m         )\n",
      "File \u001b[0;32m~/opt/anaconda3/envs/tools/lib/python3.11/site-packages/langchain/agents/agent.py:820\u001b[0m, in \u001b[0;36mAgentExecutor._take_next_step\u001b[0;34m(self, name_to_tool_map, color_mapping, inputs, intermediate_steps, run_manager)\u001b[0m\n\u001b[1;32m    818\u001b[0m         tool_run_kwargs[\u001b[39m\"\u001b[39m\u001b[39mllm_prefix\u001b[39m\u001b[39m\"\u001b[39m] \u001b[39m=\u001b[39m \u001b[39m\"\u001b[39m\u001b[39m\"\u001b[39m\n\u001b[1;32m    819\u001b[0m     \u001b[39m# We then call the tool on the tool input to get an observation\u001b[39;00m\n\u001b[0;32m--> 820\u001b[0m     observation \u001b[39m=\u001b[39m tool\u001b[39m.\u001b[39;49mrun(\n\u001b[1;32m    821\u001b[0m         agent_action\u001b[39m.\u001b[39;49mtool_input,\n\u001b[1;32m    822\u001b[0m         verbose\u001b[39m=\u001b[39;49m\u001b[39mself\u001b[39;49m\u001b[39m.\u001b[39;49mverbose,\n\u001b[1;32m    823\u001b[0m         color\u001b[39m=\u001b[39;49mcolor,\n\u001b[1;32m    824\u001b[0m         callbacks\u001b[39m=\u001b[39;49mrun_manager\u001b[39m.\u001b[39;49mget_child() \u001b[39mif\u001b[39;49;00m run_manager \u001b[39melse\u001b[39;49;00m \u001b[39mNone\u001b[39;49;00m,\n\u001b[1;32m    825\u001b[0m         \u001b[39m*\u001b[39;49m\u001b[39m*\u001b[39;49mtool_run_kwargs,\n\u001b[1;32m    826\u001b[0m     )\n\u001b[1;32m    827\u001b[0m \u001b[39melse\u001b[39;00m:\n\u001b[1;32m    828\u001b[0m     tool_run_kwargs \u001b[39m=\u001b[39m \u001b[39mself\u001b[39m\u001b[39m.\u001b[39magent\u001b[39m.\u001b[39mtool_run_logging_kwargs()\n",
      "File \u001b[0;32m~/opt/anaconda3/envs/tools/lib/python3.11/site-packages/langchain/tools/base.py:297\u001b[0m, in \u001b[0;36mBaseTool.run\u001b[0;34m(self, tool_input, verbose, start_color, color, callbacks, **kwargs)\u001b[0m\n\u001b[1;32m    295\u001b[0m \u001b[39mexcept\u001b[39;00m (\u001b[39mException\u001b[39;00m, \u001b[39mKeyboardInterrupt\u001b[39;00m) \u001b[39mas\u001b[39;00m e:\n\u001b[1;32m    296\u001b[0m     run_manager\u001b[39m.\u001b[39mon_tool_error(e)\n\u001b[0;32m--> 297\u001b[0m     \u001b[39mraise\u001b[39;00m e\n\u001b[1;32m    298\u001b[0m \u001b[39melse\u001b[39;00m:\n\u001b[1;32m    299\u001b[0m     run_manager\u001b[39m.\u001b[39mon_tool_end(\n\u001b[1;32m    300\u001b[0m         \u001b[39mstr\u001b[39m(observation), color\u001b[39m=\u001b[39mcolor, name\u001b[39m=\u001b[39m\u001b[39mself\u001b[39m\u001b[39m.\u001b[39mname, \u001b[39m*\u001b[39m\u001b[39m*\u001b[39mkwargs\n\u001b[1;32m    301\u001b[0m     )\n",
      "File \u001b[0;32m~/opt/anaconda3/envs/tools/lib/python3.11/site-packages/langchain/tools/base.py:271\u001b[0m, in \u001b[0;36mBaseTool.run\u001b[0;34m(self, tool_input, verbose, start_color, color, callbacks, **kwargs)\u001b[0m\n\u001b[1;32m    266\u001b[0m \u001b[39mtry\u001b[39;00m:\n\u001b[1;32m    267\u001b[0m     tool_args, tool_kwargs \u001b[39m=\u001b[39m \u001b[39mself\u001b[39m\u001b[39m.\u001b[39m_to_args_and_kwargs(parsed_input)\n\u001b[1;32m    268\u001b[0m     observation \u001b[39m=\u001b[39m (\n\u001b[1;32m    269\u001b[0m         \u001b[39mself\u001b[39m\u001b[39m.\u001b[39m_run(\u001b[39m*\u001b[39mtool_args, run_manager\u001b[39m=\u001b[39mrun_manager, \u001b[39m*\u001b[39m\u001b[39m*\u001b[39mtool_kwargs)\n\u001b[1;32m    270\u001b[0m         \u001b[39mif\u001b[39;00m new_arg_supported\n\u001b[0;32m--> 271\u001b[0m         \u001b[39melse\u001b[39;00m \u001b[39mself\u001b[39;49m\u001b[39m.\u001b[39;49m_run(\u001b[39m*\u001b[39;49mtool_args, \u001b[39m*\u001b[39;49m\u001b[39m*\u001b[39;49mtool_kwargs)\n\u001b[1;32m    272\u001b[0m     )\n\u001b[1;32m    273\u001b[0m \u001b[39mexcept\u001b[39;00m ToolException \u001b[39mas\u001b[39;00m e:\n\u001b[1;32m    274\u001b[0m     \u001b[39mif\u001b[39;00m \u001b[39mnot\u001b[39;00m \u001b[39mself\u001b[39m\u001b[39m.\u001b[39mhandle_tool_error:\n",
      "File \u001b[0;32m~/mdagent/md-agent/mdagent/tools/setup_and_run.py:279\u001b[0m, in \u001b[0;36mSetUpAndRunTool._run\u001b[0;34m(self, query)\u001b[0m\n\u001b[1;32m    273\u001b[0m \u001b[39mexcept\u001b[39;00m \u001b[39mValueError\u001b[39;00m \u001b[39mas\u001b[39;00m e:\n\u001b[1;32m    274\u001b[0m     \u001b[39mreturn\u001b[39;00m (\n\u001b[1;32m    275\u001b[0m         \u001b[39mstr\u001b[39m(e)\n\u001b[1;32m    276\u001b[0m         \u001b[39m+\u001b[39m \u001b[39mf\u001b[39m\u001b[39m\"\"\"\u001b[39m\u001b[39m\\n\u001b[39;00m\u001b[39mPlease use the Instruction summary tool with the\u001b[39m\n\u001b[1;32m    277\u001b[0m \u001b[39m        to create a parameters.json file in the directory.\u001b[39m\u001b[39m\"\"\"\u001b[39m\n\u001b[1;32m    278\u001b[0m     )\n\u001b[0;32m--> 279\u001b[0m sim_fxns\u001b[39m.\u001b[39;49m_setup_and_run_simulation(parameters)\n\u001b[1;32m    280\u001b[0m \u001b[39mreturn\u001b[39;00m \u001b[39m\"\u001b[39m\u001b[39mSimulation Completed, saved as .pdb and .csv files\u001b[39m\u001b[39m\"\u001b[39m\n",
      "File \u001b[0;32m~/mdagent/md-agent/mdagent/tools/setup_and_run.py:184\u001b[0m, in \u001b[0;36mSimulationFunctions._setup_and_run_simulation\u001b[0;34m(self, query)\u001b[0m\n\u001b[1;32m    181\u001b[0m     pdb \u001b[39m=\u001b[39m PDBxFile(pdbfile)\n\u001b[1;32m    183\u001b[0m modeller \u001b[39m=\u001b[39m Modeller(pdb\u001b[39m.\u001b[39mtopology, pdb\u001b[39m.\u001b[39mpositions)\n\u001b[0;32m--> 184\u001b[0m system \u001b[39m=\u001b[39m forcefield\u001b[39m.\u001b[39;49mcreateSystem(\n\u001b[1;32m    185\u001b[0m     modeller\u001b[39m.\u001b[39;49mtopology,\n\u001b[1;32m    186\u001b[0m     nonbondedMethod\u001b[39m=\u001b[39;49mapp\u001b[39m.\u001b[39;49mPME,\n\u001b[1;32m    187\u001b[0m     nonbondedCutoff\u001b[39m=\u001b[39;49m\u001b[39m1.0\u001b[39;49m \u001b[39m*\u001b[39;49m nanometers,\n\u001b[1;32m    188\u001b[0m     constraints\u001b[39m=\u001b[39;49mapp\u001b[39m.\u001b[39;49mPME,\n\u001b[1;32m    189\u001b[0m )\n\u001b[1;32m    191\u001b[0m _integrator \u001b[39m=\u001b[39m params[\u001b[39m\"\u001b[39m\u001b[39mIntegrator\u001b[39m\u001b[39m\"\u001b[39m]\u001b[39m.\u001b[39msplit(\u001b[39m\"\u001b[39m\u001b[39m \u001b[39m\u001b[39m\"\u001b[39m)[\u001b[39m0\u001b[39m]\u001b[39m.\u001b[39mstrip()\n\u001b[1;32m    192\u001b[0m _temp \u001b[39m=\u001b[39m params[\u001b[39m\"\u001b[39m\u001b[39mTemperature\u001b[39m\u001b[39m\"\u001b[39m]\u001b[39m.\u001b[39msplit(\u001b[39m\"\u001b[39m\u001b[39m \u001b[39m\u001b[39m\"\u001b[39m)[\u001b[39m0\u001b[39m]\u001b[39m.\u001b[39mstrip()\n",
      "File \u001b[0;32m~/opt/anaconda3/envs/tools/lib/python3.11/site-packages/openmm/app/forcefield.py:1218\u001b[0m, in \u001b[0;36mForceField.createSystem\u001b[0;34m(self, topology, nonbondedMethod, nonbondedCutoff, constraints, rigidWater, removeCMMotion, hydrogenMass, residueTemplates, ignoreExternalBonds, switchDistance, flexibleConstraints, drudeMass, **args)\u001b[0m\n\u001b[1;32m   1214\u001b[0m rigidResidue \u001b[39m=\u001b[39m [\u001b[39mFalse\u001b[39;00m]\u001b[39m*\u001b[39mtopology\u001b[39m.\u001b[39mgetNumResidues()\n\u001b[1;32m   1216\u001b[0m \u001b[39m# Find the template matching each residue and assign atom types.\u001b[39;00m\n\u001b[0;32m-> 1218\u001b[0m templateForResidue \u001b[39m=\u001b[39m \u001b[39mself\u001b[39;49m\u001b[39m.\u001b[39;49m_matchAllResiduesToTemplates(data, topology, residueTemplates, ignoreExternalBonds)\n\u001b[1;32m   1219\u001b[0m \u001b[39mfor\u001b[39;00m res \u001b[39min\u001b[39;00m topology\u001b[39m.\u001b[39mresidues():\n\u001b[1;32m   1220\u001b[0m     \u001b[39mif\u001b[39;00m res\u001b[39m.\u001b[39mname \u001b[39m==\u001b[39m \u001b[39m'\u001b[39m\u001b[39mHOH\u001b[39m\u001b[39m'\u001b[39m:\n\u001b[1;32m   1221\u001b[0m         \u001b[39m# Determine whether this should be a rigid water.\u001b[39;00m\n",
      "File \u001b[0;32m~/opt/anaconda3/envs/tools/lib/python3.11/site-packages/openmm/app/forcefield.py:1433\u001b[0m, in \u001b[0;36mForceField._matchAllResiduesToTemplates\u001b[0;34m(self, data, topology, residueTemplates, ignoreExternalBonds, ignoreExtraParticles, recordParameters)\u001b[0m\n\u001b[1;32m   1431\u001b[0m                 \u001b[39mbreak\u001b[39;00m\n\u001b[1;32m   1432\u001b[0m \u001b[39mif\u001b[39;00m matches \u001b[39mis\u001b[39;00m \u001b[39mNone\u001b[39;00m:\n\u001b[0;32m-> 1433\u001b[0m     \u001b[39mraise\u001b[39;00m \u001b[39mValueError\u001b[39;00m(\u001b[39m'\u001b[39m\u001b[39mNo template found for residue \u001b[39m\u001b[39m%d\u001b[39;00m\u001b[39m (\u001b[39m\u001b[39m%s\u001b[39;00m\u001b[39m).  \u001b[39m\u001b[39m%s\u001b[39;00m\u001b[39m  For more information, see https://github.com/openmm/openmm/wiki/Frequently-Asked-Questions#template\u001b[39m\u001b[39m'\u001b[39m \u001b[39m%\u001b[39m (res\u001b[39m.\u001b[39mindex\u001b[39m+\u001b[39m\u001b[39m1\u001b[39m, res\u001b[39m.\u001b[39mname, _findMatchErrors(\u001b[39mself\u001b[39m, res)))\n\u001b[1;32m   1434\u001b[0m \u001b[39melse\u001b[39;00m:\n\u001b[1;32m   1435\u001b[0m     \u001b[39mif\u001b[39;00m recordParameters:\n",
      "\u001b[0;31mValueError\u001b[0m: No template found for residue 118 (GLY).  The set of atoms matches GLY, but the bonds are different.  Perhaps the chain is missing a terminal group?  For more information, see https://github.com/openmm/openmm/wiki/Frequently-Asked-Questions#template"
     ]
    }
   ],
   "source": [
    "from mdagent.agent import MDAgent\n",
    "mrkl = MDAgent()\n",
    "mrkl.run(setup_and_run_task)"
   ]
  },
  {
   "cell_type": "code",
   "execution_count": 6,
   "metadata": {},
   "outputs": [],
   "source": [
    "import re\n",
    "\n",
    "def _extract_path(user_input: str) -> str:\n",
    "    \"\"\"Extract file path from user input.\"\"\"\n",
    "\n",
    "    # Remove any leading or trailing white space\n",
    "    user_input = user_input.strip()\n",
    "\n",
    "    # Remove single and double quotes from the user_input\n",
    "    user_input = user_input.replace(\"'\", \"\")\n",
    "    user_input = user_input.replace('\"', \"\")\n",
    "\n",
    "    # Use a regex to find a sequence of non-space characters ending with .pdb or .cif\n",
    "    match = re.search(r\"\\b[\\w/\\\\:.]+\\.(?:pdb|cif)\\b\", user_input)\n",
    "\n",
    "    if match:\n",
    "        return match.group(0)\n",
    "    else:\n",
    "        raise ValueError(\"No valid file path found in user input.\")"
   ]
  },
  {
   "cell_type": "code",
   "execution_count": 8,
   "metadata": {},
   "outputs": [],
   "source": [
    "def _extract_path(user_input: str) -> str:\n",
    "    \"\"\"Extract file path from user input.\"\"\"\n",
    "\n",
    "    # Remove any leading or trailing white space\n",
    "    user_input = user_input.strip()\n",
    "\n",
    "    # Remove single and double quotes from the user_input\n",
    "    user_input = user_input.replace(\"'\", \"\")\n",
    "    user_input = user_input.replace('\"', \"\")\n",
    "\n",
    "    # Use a regex to find a sequence of non-space characters ending with .pdb or .cif\n",
    "    match = re.search(r\"\\b[\\w/\\\\:.]+\\.(?:pdb|cif)\\b\", user_input)\n",
    "\n",
    "    if match:\n",
    "        return match.group(0)\n",
    "    else:\n",
    "        raise ValueError(\"No valid file path found in user input.\")\n"
   ]
  },
  {
   "cell_type": "code",
   "execution_count": 9,
   "metadata": {},
   "outputs": [
    {
     "name": "stdout",
     "output_type": "stream",
     "text": [
      "tidy_1X3D.cif\n"
     ]
    }
   ],
   "source": [
    "user_input = 'The file path is \\\"tidy_1X3D.cif\\\"'\n",
    "print(_extract_path(user_input))  # Should print: tidy_1X3D.cif\n"
   ]
  },
  {
   "cell_type": "code",
   "execution_count": null,
   "metadata": {},
   "outputs": [],
   "source": []
  }
 ],
 "metadata": {
  "kernelspec": {
   "display_name": "tools",
   "language": "python",
   "name": "python3"
  },
  "language_info": {
   "codemirror_mode": {
    "name": "ipython",
    "version": 3
   },
   "file_extension": ".py",
   "mimetype": "text/x-python",
   "name": "python",
   "nbconvert_exporter": "python",
   "pygments_lexer": "ipython3",
   "version": "3.11.4"
  },
  "orig_nbformat": 4
 },
 "nbformat": 4,
 "nbformat_minor": 2
}
