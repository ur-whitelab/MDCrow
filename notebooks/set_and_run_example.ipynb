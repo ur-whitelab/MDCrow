{
 "cells": [
  {
   "cell_type": "code",
   "execution_count": 1,
   "metadata": {},
   "outputs": [],
   "source": [
    "import json\n",
    "import os\n"
   ]
  },
  {
   "cell_type": "code",
   "execution_count": 2,
   "metadata": {},
   "outputs": [
    {
     "name": "stdout",
     "output_type": "stream",
     "text": [
      "I want to run a simulation of a protein\n"
     ]
    }
   ],
   "source": [
    "#for our context cleaning is a nice word for preprocessing\n",
    "setup_and_run_task = \"I want to run a simulation of a protein\"\n",
    "print(setup_and_run_task)"
   ]
  },
  {
   "cell_type": "code",
   "execution_count": 3,
   "metadata": {},
   "outputs": [
    {
     "name": "stdout",
     "output_type": "stream",
     "text": [
      "simulation_parameters_summary.json\n",
      "{'File Path': 'tidy_1BPI.cif', 'Preprocessing': 'Add hydrogens and remove water (default)', 'Forcefield': 'amber14-all.xml, tip3p.xml (default)', 'Ensemble': 'NVT (canonical ensemble requested)', 'Integrator': 'Langevin (default for NVT ensemble)', 'Friction': '0.01 1/ps', 'Number of Steps': '1000 (default)', 'Timestep': '1 fs (default)', 'Temperature': '300 K', 'Other Instructions': 'None (default)'}\n",
      "This file would be first produced in the initial stages of the pipeline\n"
     ]
    }
   ],
   "source": [
    "for file in os.listdir(\".\"):\n",
    "            if \"parameters\" in file and file.endswith(\".json\"):\n",
    "                print(file)\n",
    "                with open(file, \"r\") as f:\n",
    "                    params = json.load(f)\n",
    "                    print(params)\n",
    "\n",
    "print(\"This file would be first produced in the initial stages of the pipeline\")"
   ]
  },
  {
   "cell_type": "code",
   "execution_count": 5,
   "metadata": {},
   "outputs": [
    {
     "name": "stdout",
     "output_type": "stream",
     "text": [
      "\n",
      "\n",
      "\u001b[1m> Entering new  chain...\u001b[0m\n",
      "Action: Set Up simulation objects and run simulation\n",
      "Action Input: Parameters path\u001b[32;1m\u001b[1;3mAction: Set Up simulation objects and run simulation\n",
      "Action Input: Parameters path\u001b[0mSetting up forcields : amber14-all.xml tip3p.xml\n",
      "Starting pdb/cis file : tidy_1BPI.cif\n",
      "Setting up Langevin integrator with Parameters: 300 K 0.01 1/ps 1 fs\n",
      "\n",
      "Observation: \u001b[36;1m\u001b[1;3msimulation Completed, saved as .pdb and .csv files\u001b[0m\n",
      "Thought:Action: List files in directory\n",
      "Action Input: None\u001b[32;1m\u001b[1;3mAction: List files in directory\n",
      "Action Input: None\u001b[0m\n",
      "Observation: \u001b[36;1m\u001b[1;3mLICENSE, tidy_1BPI.cif, tidy_1BPI.pdb, dev-requirements.txt, .pre-commit-config.yaml, simulation_parameters_summary.json, tidy_1BPI.csv, README.md, mypy.ini, setup.py, .gitignore, set_and_run_example.ipynb\u001b[0m\n",
      "Thought:Final Answer: The simulation of the protein has been completed and the output files are tidy_1BPI.pdb and tidy_1BPI.csv.\u001b[32;1m\u001b[1;3mFinal Answer: The simulation of the protein has been completed and the output files are tidy_1BPI.pdb and tidy_1BPI.csv.\u001b[0m\n",
      "\n",
      "\u001b[1m> Finished chain.\u001b[0m\n"
     ]
    },
    {
     "data": {
      "text/plain": [
       "'Thought: Action: Set Up simulation objects and run simulation\\nAction Input: Parameters path\\nObservation: simulation Completed, saved as .pdb and .csv files\\nThought: Action: List files in directory\\nAction Input: None\\nObservation: LICENSE, tidy_1BPI.cif, tidy_1BPI.pdb, dev-requirements.txt, .pre-commit-config.yaml, simulation_parameters_summary.json, tidy_1BPI.csv, README.md, mypy.ini, setup.py, .gitignore, set_and_run_example.ipynb\\nFinal Answer: The simulation of the protein has been completed and the output files are tidy_1BPI.pdb and tidy_1BPI.csv.'"
      ]
     },
     "execution_count": 5,
     "metadata": {},
     "output_type": "execute_result"
    }
   ],
   "source": [
    "from mdagent.agent import MDAgent\n",
    "mrkl = MDAgent()\n",
    "mrkl.run(setup_and_run_task)"
   ]
  },
  {
   "cell_type": "code",
   "execution_count": null,
   "metadata": {},
   "outputs": [],
   "source": []
  }
 ],
 "metadata": {
  "kernelspec": {
   "display_name": "tools",
   "language": "python",
   "name": "python3"
  },
  "language_info": {
   "codemirror_mode": {
    "name": "ipython",
    "version": 3
   },
   "file_extension": ".py",
   "mimetype": "text/x-python",
   "name": "python",
   "nbconvert_exporter": "python",
   "pygments_lexer": "ipython3",
   "version": "3.11.4"
  },
  "orig_nbformat": 4
 },
 "nbformat": 4,
 "nbformat_minor": 2
}
