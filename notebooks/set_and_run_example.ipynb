{
 "cells": [
  {
   "cell_type": "code",
   "execution_count": 5,
   "metadata": {},
   "outputs": [],
   "source": [
    "from dotenv import load_dotenv\n",
    "\n",
    "load_dotenv()"
   ]
  },
  {
   "cell_type": "code",
   "execution_count": 31,
   "metadata": {},
   "outputs": [
    {
     "name": "stdout",
     "output_type": "stream",
     "text": [
      "I want to run a simulation. I have a pdb file (tidy_3pqr.cif). I want to use the amber4-all.xml and tip3pfb.xml forcefield. I want to use the NVT ensemble. I want to use the Langevin integrator. I want to run 1000 steps. I want to use a 1 fs timestep. I want to run at 300 K. I want to use a friction coefficient of 1.0 (1/ps). I want to use the default instructions.\n"
     ]
    }
   ],
   "source": [
    "#for our context cleaning is a nice word for preprocessing\n",
    "setup_and_run_task = \"I want to run a simulation. I have a pdb file (tidy_3pqr.cif). \"\\\n",
    "\"I want to use the amber4-all.xml and tip3pfb.xml forcefield. \"\\\n",
    "\"I want to use the NVT ensemble. I want to use the Langevin integrator. \" \\\n",
    "\"I want to run 1000 steps. I want to use a 1 fs timestep. I want to run at 300 K. \" \\\n",
    "\"I want to use a friction coefficient of 1.0 (1/ps). I want to use the default instructions.\"\n",
    "print(setup_and_run_task)"
   ]
  },
  {
   "cell_type": "code",
   "execution_count": 25,
   "metadata": {},
   "outputs": [
    {
     "name": "stdout",
     "output_type": "stream",
     "text": [
      "True\n",
      "This file would be first produced in the initial stages of the pipeline\n"
     ]
    }
   ],
   "source": [
    "print('tidy_3pqr.cif' in os.listdir())\n",
    "\n",
    "print(\"This file would be first produced in the initial stages of the pipeline\")"
   ]
  },
  {
   "cell_type": "code",
   "execution_count": 21,
   "metadata": {},
   "outputs": [
    {
     "name": "stdout",
     "output_type": "stream",
     "text": [
      "\n",
      "\n",
      "\u001b[1m> Entering new  chain...\u001b[0m\n",
      "Action: Instruction Summary\n",
      "Action Input: I want to run a simulation. I have a pdb file (tidy_3pqr.cif). I want to use the amber4-all.xml and tip3pfb.xml forcefield. I want to use the NVT ensemble. I want to use the Langevin integrator. I want to run 1000 steps. I want to use a 1 fs timestep. I want to run at 300 K. I want to use a friction coefficient of 1.0 (1/ps). I want to use the default instructions.\u001b[32;1m\u001b[1;3mAction: Instruction Summary\n",
      "Action Input: I want to run a simulation. I have a pdb file (tidy_3pqr.cif). I want to use the amber4-all.xml and tip3pfb.xml forcefield. I want to use the NVT ensemble. I want to use the Langevin integrator. I want to run 1000 steps. I want to use a 1 fs timestep. I want to run at 300 K. I want to use a friction coefficient of 1.0 (1/ps). I want to use the default instructions.\u001b[0m\n",
      "Observation: \u001b[38;5;200m\u001b[1;3mFile Path: tidy_3pqr.cif\n",
      "Preprocessing: add hydrogens and remove water (default)\n",
      "Forcefield: amber14-all.xml, tip3pfb.xml\n",
      "Ensemble: NVT\n",
      "Integrator: Langevin\n",
      "Number of Steps: 1000\n",
      "Timestep: 1 fs\n",
      "Temperature: 300 K\n",
      "Friction: 1.0 (1/ps)\n",
      "Other Instructions: default\u001b[0m\n",
      "Thought:Action: SetUpAndRunTool\n",
      "Action Input: parameters.json\u001b[32;1m\u001b[1;3mAction: SetUpAndRunTool\n",
      "Action Input: parameters.json\u001b[0mSetting up forcields : amber14-all.xml tip3pfb.xml\n",
      "Starting pdb/cis file : tidy_3pqr.cif\n",
      "Setting up Langevin integrator with Parameters: 300 K 1.0 1/ps 1 fs\n",
      "\n",
      "Observation: \u001b[33;1m\u001b[1;3mSimulation Completed, saved as .pdb and .csv files\u001b[0m\n",
      "Thought:Final Answer: The simulation has been successfully run using the provided parameters. The output files (.pdb and .csv) have been saved.\u001b[32;1m\u001b[1;3mFinal Answer: The simulation has been successfully run using the provided parameters. The output files (.pdb and .csv) have been saved.\u001b[0m\n",
      "\n",
      "\u001b[1m> Finished chain.\u001b[0m\n"
     ]
    },
    {
     "data": {
      "text/plain": [
       "'Thought: Action: Instruction Summary\\nAction Input: I want to run a simulation. I have a pdb file (tidy_3pqr.cif). I want to use the amber4-all.xml and tip3pfb.xml forcefield. I want to use the NVT ensemble. I want to use the Langevin integrator. I want to run 1000 steps. I want to use a 1 fs timestep. I want to run at 300 K. I want to use a friction coefficient of 1.0 (1/ps). I want to use the default instructions.\\nObservation: File Path: tidy_3pqr.cif\\nPreprocessing: add hydrogens and remove water (default)\\nForcefield: amber14-all.xml, tip3pfb.xml\\nEnsemble: NVT\\nIntegrator: Langevin\\nNumber of Steps: 1000\\nTimestep: 1 fs\\nTemperature: 300 K\\nFriction: 1.0 (1/ps)\\nOther Instructions: default\\nThought: Action: SetUpAndRunTool\\nAction Input: parameters.json\\nObservation: Simulation Completed, saved as .pdb and .csv files\\nFinal Answer: The simulation has been successfully run using the provided parameters. The output files (.pdb and .csv) have been saved.'"
      ]
     },
     "execution_count": 21,
     "metadata": {},
     "output_type": "execute_result"
    }
   ],
   "source": [
    "from mdagent.agent import MDAgent\n",
    "mrkl = MDAgent()\n",
    "mrkl.run(setup_and_run_task)"
   ]
  },
  {
   "cell_type": "code",
   "execution_count": 23,
   "metadata": {},
   "outputs": [
    {
     "name": "stdout",
     "output_type": "stream",
     "text": [
      "3pqr.cif       tidy_3pqr.cif  tidy_3pqr.csv  tidy_3pqr.pdb\n"
     ]
    }
   ],
   "source": [
    "%ls *.pdb *.cif *.csv"
   ]
  },
  {
   "cell_type": "code",
   "execution_count": null,
   "metadata": {},
   "outputs": [],
   "source": []
  }
 ],
 "metadata": {
  "kernelspec": {
   "display_name": "tools",
   "language": "python",
   "name": "python3"
  },
  "language_info": {
   "codemirror_mode": {
    "name": "ipython",
    "version": 3
   },
   "file_extension": ".py",
   "mimetype": "text/x-python",
   "name": "python",
   "nbconvert_exporter": "python",
   "pygments_lexer": "ipython3",
   "version": "3.11.4"
  },
  "orig_nbformat": 4
 },
 "nbformat": 4,
 "nbformat_minor": 2
}
