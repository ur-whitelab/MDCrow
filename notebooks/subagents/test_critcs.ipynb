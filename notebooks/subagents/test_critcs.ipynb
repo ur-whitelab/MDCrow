{
 "cells": [
  {
   "cell_type": "code",
   "execution_count": 1,
   "id": "5f8608b5",
   "metadata": {},
   "outputs": [],
   "source": [
    "from mdagent.subagents import SubAgentSettings, SubAgentInitializer\n",
    "from mdagent.utils import PathRegistry\n",
    "\n",
    "pathregistry = PathRegistry.get_instance()\n",
    "settings = SubAgentSettings(\n",
    "    path_registry=pathregistry, subagents_model=\"gpt-3.5-turbo\",temp=0.1\n",
    ")\n",
    "initializer = SubAgentInitializer(settings=settings)"
   ]
  },
  {
   "cell_type": "code",
   "execution_count": 2,
   "id": "78e6b991",
   "metadata": {
    "scrolled": false
   },
   "outputs": [
    {
     "name": "stdout",
     "output_type": "stream",
     "text": [
      "Explain: \n",
      "To download a PDB file from the RCSB database, we can use the `requests` library to send an HTTP GET request to the RCSB website and download the file. We will need to specify the PDB ID in the URL to download the specific file.\n",
      "\n",
      "Plan:\n",
      "1) Import the necessary libraries (`requests` and `os`).\n",
      "2) Define a function that takes a PDB ID as input.\n",
      "3) Construct the URL for the PDB file using the PDB ID.\n",
      "4) Send an HTTP GET request to the URL and download the file.\n",
      "5) Save the downloaded file with the PDB ID as the filename.\n",
      "6) Return the path to the downloaded file.\n",
      "\n",
      "Code:\n",
      "```python\n",
      "import requests\n",
      "import os\n",
      "\n",
      "def download_pdb(pdb_id):\n",
      "    # Construct the URL for the PDB file\n",
      "    url = f\"https://files.rcsb.org/download/{pdb_id}.pdb\"\n",
      "    \n",
      "    # Send an HTTP GET request to the URL and download the file\n",
      "    response = requests.get(url)\n",
      "    \n",
      "    # Check if the request was successful\n",
      "    if response.status_code == 200:\n",
      "        # Save the downloaded file with the PDB ID as the filename\n",
      "        filename = f\"{pdb_id}.pdb\"\n",
      "        with open(filename, \"wb\") as f:\n",
      "            f.write(response.content)\n",
      "        \n",
      "        # Return the path to the downloaded file\n",
      "        return os.path.abspath(filename)\n",
      "    else:\n",
      "        return \"Error: Failed to download PDB file\"\n",
      "\n",
      "# Call the function with the PDB ID\n",
      "downloaded_pdb_path = download_pdb(\"3PQR\")\n",
      "print(downloaded_pdb_path)\n",
      "```\n"
     ]
    }
   ],
   "source": [
    "# to test critics, first run action agent\n",
    "action_agent = initializer.create_action_agent()\n",
    "\n",
    "task = \"I need to download PDB from RSCB database\"\n",
    "context = \"I need to get PDB file for 3PQR and run a simulation\"\n",
    "recent_history = None\n",
    "full_history = None\n",
    "skills = None #skill_agent.get_skills()\n",
    "\n",
    "code_success, code, code_output = action_agent._run_code(recent_history, full_history, task, context, skills)"
   ]
  },
  {
   "cell_type": "code",
   "execution_count": 3,
   "id": "2e524087",
   "metadata": {},
   "outputs": [
    {
     "name": "stdout",
     "output_type": "stream",
     "text": [
      "Success: True\n",
      "Code Output: /Users/quinny/repos/sep21_iterator/md-agent/notebooks/3PQR.pdb\n",
      "\n"
     ]
    }
   ],
   "source": [
    "print('Success:', code_success)\n",
    "print('Code Output:', code_output)"
   ]
  },
  {
   "cell_type": "code",
   "execution_count": 4,
   "id": "69dc835f",
   "metadata": {},
   "outputs": [
    {
     "name": "stdout",
     "output_type": "stream",
     "text": [
      "{\n",
      "    \"success\": true,\n",
      "    \"critique\": \"\"\n",
      "}\n",
      "\n",
      "Task Success: True\n",
      "Critique, if any: None\n"
     ]
    }
   ],
   "source": [
    "## TASK CRITIC\n",
    "task_critic = initializer.create_task_critic()\n",
    "\n",
    "assert code_success == True\n",
    "task_success, task_critique = task_critic._run_task_critic(code, code_output, task, context, None)\n",
    "print('\\n\\nTask Success:', task_success)\n",
    "print('Critique, if any:',task_critique if task_critique else None)"
   ]
  },
  {
   "cell_type": "code",
   "execution_count": 5,
   "id": "4e441ded",
   "metadata": {},
   "outputs": [
    {
     "name": "stdout",
     "output_type": "stream",
     "text": [
      "{\n",
      "    \"code_quality\": \"good\",\n",
      "    \"output_validity\": \"valid\",\n",
      "    \"success\": true,\n",
      "    \"critique\": \"\",\n",
      "    \"suggestions\": \"\"\n",
      "}"
     ]
    }
   ],
   "source": [
    "## CODE CRITIC\n",
    "code_critic = initializer.create_code_critic()\n",
    "critique = code_critic._run(code, code_output, task, context)"
   ]
  }
 ],
 "metadata": {
  "kernelspec": {
   "display_name": "Python [conda env:mdagent] *",
   "language": "python",
   "name": "conda-env-mdagent-py"
  },
  "language_info": {
   "codemirror_mode": {
    "name": "ipython",
    "version": 3
   },
   "file_extension": ".py",
   "mimetype": "text/x-python",
   "name": "python",
   "nbconvert_exporter": "python",
   "pygments_lexer": "ipython3",
   "version": "3.11.4"
  }
 },
 "nbformat": 4,
 "nbformat_minor": 5
}
