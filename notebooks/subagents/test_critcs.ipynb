{
 "cells": [
  {
   "cell_type": "code",
   "execution_count": 1,
   "id": "5f8608b5",
   "metadata": {},
   "outputs": [],
   "source": [
    "from mdagent.subagents import SubAgentSettings, SubAgentInitializer\n",
    "from mdagent.utils import PathRegistry\n",
    "\n",
    "pathregistry = PathRegistry.get_instance()\n",
    "settings = SubAgentSettings(\n",
    "    path_registry=pathregistry, subagents_model=\"gpt-3.5-turbo\",temp=0.1\n",
    ")\n",
    "initializer = SubAgentInitializer(settings=settings)"
   ]
  },
  {
   "cell_type": "code",
   "execution_count": null,
   "id": "78e6b991",
   "metadata": {
    "scrolled": false
   },
   "outputs": [],
   "source": [
    "# to test critics, first run action agent\n",
    "action_agent = initializer.create_action_agent()\n",
    "\n",
    "task = \"I need to download PDB from RSCB database\"\n",
    "context = \"I need to get PDB file for 3PQR and run a simulation\"\n",
    "recent_history = None\n",
    "full_history = None\n",
    "skills = None #skill_agent.get_skills()\n",
    "\n",
    "code_success, code, code_output = action_agent._run_code(recent_history, full_history, task, context, skills)"
   ]
  },
  {
   "cell_type": "code",
   "execution_count": null,
   "id": "2e524087",
   "metadata": {},
   "outputs": [],
   "source": [
    "print('Success:', code_success)\n",
    "print('Code Output:', code_output)"
   ]
  },
  {
   "cell_type": "code",
   "execution_count": null,
   "id": "69dc835f",
   "metadata": {},
   "outputs": [],
   "source": [
    "## TASK CRITIC\n",
    "task_critic = initializer.create_task_critic()\n",
    "\n",
    "assert code_success == True\n",
    "task_success, task_critique = task_critic._run_task_critic(code, code_output, task, context, None)\n",
    "print('\\n\\nTask Success:', task_success)\n",
    "print('Critique, if any:',task_critique if task_critique else None)"
   ]
  },
  {
   "cell_type": "code",
   "execution_count": null,
   "id": "4e441ded",
   "metadata": {},
   "outputs": [],
   "source": [
    "## CODE CRITIC\n",
    "code_critic = initializer.create_code_critic()\n",
    "critique = code_critic._run(code, code_output, task, context)"
   ]
  }
 ],
 "metadata": {
  "kernelspec": {
   "display_name": "Python [conda env:mdagent] *",
   "language": "python",
   "name": "conda-env-mdagent-py"
  },
  "language_info": {
   "codemirror_mode": {
    "name": "ipython",
    "version": 3
   },
   "file_extension": ".py",
   "mimetype": "text/x-python",
   "name": "python",
   "nbconvert_exporter": "python",
   "pygments_lexer": "ipython3",
   "version": "3.11.4"
  }
 },
 "nbformat": 4,
 "nbformat_minor": 5
}
