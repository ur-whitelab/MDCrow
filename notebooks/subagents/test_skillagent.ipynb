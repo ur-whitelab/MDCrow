{
 "cells": [
  {
   "cell_type": "code",
   "execution_count": 1,
   "id": "e8bcaed1",
   "metadata": {},
   "outputs": [],
   "source": [
    "from mdagent.subagents import SubAgentSettings, SubAgentInitializer\n",
    "from mdagent.utils import PathRegistry\n",
    "\n",
    "pathregistry = PathRegistry.get_instance()\n",
    "settings = SubAgentSettings(\n",
    "    path_registry=pathregistry, subagents_model=\"gpt-3.5-turbo\",temp=0.1\n",
    ")\n",
    "initializer = SubAgentInitializer(settings=settings)"
   ]
  },
  {
   "cell_type": "code",
   "execution_count": 2,
   "id": "fcd9a06f",
   "metadata": {},
   "outputs": [],
   "source": [
    "## skill agent\n",
    "example_fxn_code = '''\n",
    "def get_pdb(query_string, PathRegistry):\n",
    "    \"\"\"\n",
    "    Search RSCB's protein data bank using the given query string\n",
    "    and return the path to pdb file\n",
    "    \"\"\"\n",
    "\n",
    "    url = \"https://search.rcsb.org/rcsbsearch/v2/query?json={search-request}\"\n",
    "    query = {\n",
    "        \"query\": {\n",
    "            \"type\": \"terminal\",\n",
    "            \"service\": \"full_text\",\n",
    "            \"parameters\": {\"value\": query_string},\n",
    "        },\n",
    "        \"return_type\": \"entry\",\n",
    "    }\n",
    "    r = requests.post(url, json=query)\n",
    "    if r.status_code == 204:\n",
    "        return \"No Content Error: PDB ID not found for this substance.\"\n",
    "    elif \"result_set\" in r.json() and len(r.json()[\"result_set\"]) > 0:\n",
    "        pdbid = r.json()[\"result_set\"][0][\"identifier\"]\n",
    "        url = f\"https://files.rcsb.org/download/{pdbid}.cif\"\n",
    "        pdb = requests.get(url)\n",
    "        filename = f\"{pdbid}.cif\"\n",
    "        with open(filename, \"w\") as file:\n",
    "            file.write(pdb.text)\n",
    "        return filename\n",
    "'''\n",
    "\n",
    "skill_agent = initializer.create_skill_agent()"
   ]
  },
  {
   "cell_type": "code",
   "execution_count": null,
   "id": "1ae41468",
   "metadata": {},
   "outputs": [],
   "source": [
    "result = skill_agent.add_new_tool(example_fxn_code)"
   ]
  },
  {
   "cell_type": "code",
   "execution_count": 4,
   "id": "a241357f",
   "metadata": {},
   "outputs": [],
   "source": [
    "len(skill_agent.get_skills())"
   ]
  }
 ],
 "metadata": {
  "kernelspec": {
   "display_name": "mdagent",
   "language": "python",
   "name": "mdagent"
  },
  "language_info": {
   "codemirror_mode": {
    "name": "ipython",
    "version": 3
   },
   "file_extension": ".py",
   "mimetype": "text/x-python",
   "name": "python",
   "nbconvert_exporter": "python",
   "pygments_lexer": "ipython3",
   "version": "3.11.4"
  }
 },
 "nbformat": 4,
 "nbformat_minor": 5
}
