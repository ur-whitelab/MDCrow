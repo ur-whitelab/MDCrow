{
 "cells": [
  {
   "cell_type": "code",
   "execution_count": 1,
   "id": "1f4626ae",
   "metadata": {},
   "outputs": [],
   "source": [
    "from mdagent.subagents import Iterator, SubAgentSettings\n",
    "from mdagent.utils import PathRegistry\n",
    "\n",
    "pathregistry = PathRegistry.get_instance()\n",
    "settings = SubAgentSettings(\n",
    "    path_registry=pathregistry, subagents_model=\"gpt-3.5-turbo\",temp=0.1\n",
    ")\n",
    "iterator = Iterator(pathregistry,settings)"
   ]
  },
  {
   "cell_type": "code",
   "execution_count": null,
   "id": "186cd9af",
   "metadata": {},
   "outputs": [],
   "source": [
    "iterator._pull_information()"
   ]
  },
  {
   "cell_type": "code",
   "execution_count": null,
   "id": "b9df9c42",
   "metadata": {},
   "outputs": [],
   "source": [
    "run=1\n",
    "task = \"I need to download PDB from RSCB database\"\n",
    "user_prompt = \"I need to get PDB file for 3PQR and run a simulation\"\n",
    "\n",
    "success, tool_name = iterator._run_iterations(run,task,user_prompt)"
   ]
  },
  {
   "cell_type": "code",
   "execution_count": null,
   "id": "5ae9dc3a",
   "metadata": {},
   "outputs": [],
   "source": [
    "print('Success:', success)\n",
    "print('Tool:', tool_name)"
   ]
  },
  {
   "cell_type": "code",
   "execution_count": null,
   "id": "412010a3",
   "metadata": {
    "scrolled": true
   },
   "outputs": [],
   "source": [
    "iterator.run(task, user_prompt)\n",
    "# after all function tests, move on to testing AddNewTool class "
   ]
  }
 ],
 "metadata": {
  "kernelspec": {
   "display_name": "Python [conda env:mdagent] *",
   "language": "python",
   "name": "conda-env-mdagent-py"
  },
  "language_info": {
   "codemirror_mode": {
    "name": "ipython",
    "version": 3
   },
   "file_extension": ".py",
   "mimetype": "text/x-python",
   "name": "python",
   "nbconvert_exporter": "python",
   "pygments_lexer": "ipython3",
   "version": "3.11.4"
  }
 },
 "nbformat": 4,
 "nbformat_minor": 5
}
