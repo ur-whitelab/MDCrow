{
 "cells": [
  {
   "cell_type": "code",
   "execution_count": 1,
   "id": "e8bcaed1",
   "metadata": {},
   "outputs": [],
   "source": [
    "from mdagent.subagents import SubAgentSettings, SubAgentInitializer\n",
    "from mdagent.utils import PathRegistry\n",
    "\n",
    "pathregistry = PathRegistry.get_instance()\n",
    "settings = SubAgentSettings(\n",
    "    path_registry=pathregistry, subagents_model=\"gpt-3.5-turbo\",temp=0.1\n",
    ")\n",
    "initializer = SubAgentInitializer(settings=settings)"
   ]
  },
  {
   "cell_type": "code",
   "execution_count": null,
   "id": "28b0d1b1",
   "metadata": {
    "scrolled": true
   },
   "outputs": [],
   "source": [
    "## ACTION AGENT\n",
    "action_agent = initializer.create_action_agent()\n",
    "\n",
    "task = \"I need to download PDB from RSCB database\"\n",
    "context = \"I need to get PDB file for 3PQR and run a simulation\"\n",
    "recent_history = None\n",
    "full_history = None\n",
    "skills = None #skill_agent.get_skills()\n",
    "\n",
    "success, code, code_output = action_agent._run_code(recent_history, full_history, task, context, skills)"
   ]
  },
  {
   "cell_type": "code",
   "execution_count": null,
   "id": "84da7688",
   "metadata": {},
   "outputs": [],
   "source": [
    "print(code)"
   ]
  },
  {
   "cell_type": "code",
   "execution_count": null,
   "id": "d8c987ea",
   "metadata": {
    "scrolled": true
   },
   "outputs": [],
   "source": [
    "print('Success:', success)\n",
    "print('Code Output:', code_output)"
   ]
  }
 ],
 "metadata": {
  "kernelspec": {
   "display_name": "mdagent",
   "language": "python",
   "name": "mdagent"
  },
  "language_info": {
   "codemirror_mode": {
    "name": "ipython",
    "version": 3
   },
   "file_extension": ".py",
   "mimetype": "text/x-python",
   "name": "python",
   "nbconvert_exporter": "python",
   "pygments_lexer": "ipython3",
   "version": "3.11.4"
  }
 },
 "nbformat": 4,
 "nbformat_minor": 5
}
