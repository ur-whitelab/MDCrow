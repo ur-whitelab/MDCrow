{
 "cells": [
  {
   "cell_type": "code",
   "execution_count": 1,
   "id": "e8bcaed1",
   "metadata": {},
   "outputs": [],
   "source": [
    "from mdagent.subagents import SubAgentSettings, SubAgentInitializer\n",
    "from mdagent.utils import PathRegistry\n",
    "\n",
    "pathregistry = PathRegistry.get_instance()\n",
    "settings = SubAgentSettings(\n",
    "    path_registry=pathregistry, subagents_model=\"gpt-3.5-turbo\",temp=0.1\n",
    ")\n",
    "initializer = SubAgentInitializer(settings=settings)"
   ]
  },
  {
   "cell_type": "code",
   "execution_count": 2,
   "id": "28b0d1b1",
   "metadata": {
    "scrolled": true
   },
   "outputs": [
    {
     "name": "stdout",
     "output_type": "stream",
     "text": [
      "Explain: \n",
      "To download a PDB file from the RCSB database, we can use the `requests` library to send a GET request to the RCSB PDB API. We will need to provide the PDB ID as a parameter in the request URL. The response from the API will be the PDB file content, which we can save to a file.\n",
      "\n",
      "Plan:\n",
      "1) Import the necessary libraries (`requests` and `os`).\n",
      "2) Define a function that takes a PDB ID as input.\n",
      "3) Construct the URL for the RCSB PDB API using the PDB ID.\n",
      "4) Send a GET request to the API and get the response.\n",
      "5) Check if the response is successful (status code 200).\n",
      "6) If the response is successful, save the PDB file content to a file.\n",
      "7) Return the path to the saved PDB file.\n",
      "\n",
      "Code:\n",
      "```python\n",
      "import requests\n",
      "import os\n",
      "\n",
      "def download_pdb(pdb_id):\n",
      "    # Construct the URL for the RCSB PDB API\n",
      "    url = f\"https://files.rcsb.org/download/{pdb_id}.pdb\"\n",
      "    \n",
      "    # Send a GET request to the API and get the response\n",
      "    response = requests.get(url)\n",
      "    \n",
      "    # Check if the response is successful\n",
      "    if response.status_code == 200:\n",
      "        # Save the PDB file content to a file\n",
      "        pdb_file_path = f\"{pdb_id}.pdb\"\n",
      "        with open(pdb_file_path, \"w\") as pdb_file:\n",
      "            pdb_file.write(response.text)\n",
      "        \n",
      "        # Return the path to the saved PDB file\n",
      "        return pdb_file_path\n",
      "    else:\n",
      "        return \"Error: Failed to download PDB file\"\n",
      "\n",
      "pdb_file_path = download_pdb(\"3PQR\")\n",
      "print(pdb_file_path)\n",
      "```\n"
     ]
    }
   ],
   "source": [
    "## ACTION AGENT\n",
    "action_agent = initializer.create_action_agent()\n",
    "\n",
    "task = \"I need to download PDB from RSCB database\"\n",
    "context = \"I need to get PDB file for 3PQR and run a simulation\"\n",
    "recent_history = None\n",
    "full_history = None\n",
    "skills = None #skill_agent.get_skills()\n",
    "\n",
    "success, code, code_output = action_agent._run_code(recent_history, full_history, task, context, skills)"
   ]
  },
  {
   "cell_type": "code",
   "execution_count": 3,
   "id": "84da7688",
   "metadata": {},
   "outputs": [
    {
     "name": "stdout",
     "output_type": "stream",
     "text": [
      "import requests\n",
      "import os\n",
      "\n",
      "def download_pdb(pdb_id):\n",
      "    # Construct the URL for the RCSB PDB API\n",
      "    url = f\"https://files.rcsb.org/download/{pdb_id}.pdb\"\n",
      "    \n",
      "    # Send a GET request to the API and get the response\n",
      "    response = requests.get(url)\n",
      "    \n",
      "    # Check if the response is successful\n",
      "    if response.status_code == 200:\n",
      "        # Save the PDB file content to a file\n",
      "        pdb_file_path = f\"{pdb_id}.pdb\"\n",
      "        with open(pdb_file_path, \"w\") as pdb_file:\n",
      "            pdb_file.write(response.text)\n",
      "        \n",
      "        # Return the path to the saved PDB file\n",
      "        return pdb_file_path\n",
      "    else:\n",
      "        return \"Error: Failed to download PDB file\"\n",
      "\n",
      "pdb_file_path = download_pdb(\"3PQR\")\n",
      "print(pdb_file_path)\n"
     ]
    }
   ],
   "source": [
    "print(code)"
   ]
  },
  {
   "cell_type": "code",
   "execution_count": 4,
   "id": "d8c987ea",
   "metadata": {
    "scrolled": true
   },
   "outputs": [
    {
     "name": "stdout",
     "output_type": "stream",
     "text": [
      "Success: True\n",
      "Code Output: 3PQR.pdb\n",
      "\n"
     ]
    }
   ],
   "source": [
    "print('Success:', success)\n",
    "print('Code Output:', code_output)"
   ]
  }
 ],
 "metadata": {
  "kernelspec": {
   "display_name": "mdagent",
   "language": "python",
   "name": "mdagent"
  },
  "language_info": {
   "codemirror_mode": {
    "name": "ipython",
    "version": 3
   },
   "file_extension": ".py",
   "mimetype": "text/x-python",
   "name": "python",
   "nbconvert_exporter": "python",
   "pygments_lexer": "ipython3",
   "version": "3.11.4"
  }
 },
 "nbformat": 4,
 "nbformat_minor": 5
}
