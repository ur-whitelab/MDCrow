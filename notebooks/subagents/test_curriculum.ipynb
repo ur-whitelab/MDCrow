{
 "cells": [
  {
   "cell_type": "code",
   "execution_count": 1,
   "id": "acff9f85",
   "metadata": {},
   "outputs": [],
   "source": [
    "from mdagent.subagents import Iterator, SubAgentSettings, SubAgentInitializer\n",
    "from mdagent.utils import PathRegistry\n",
    "\n",
    "pathregistry = PathRegistry.get_instance()\n",
    "settings = SubAgentSettings(\n",
    "    path_registry=pathregistry, subagents_model=\"gpt-3.5-turbo\",temp=0.1\n",
    ")\n",
    "initializer = SubAgentInitializer(settings=settings)\n",
    "iterator = Iterator(pathregistry,settings)"
   ]
  },
  {
   "cell_type": "code",
   "execution_count": null,
   "id": "bdd261a9",
   "metadata": {},
   "outputs": [],
   "source": [
    "## CURRICULUM AGENT\n",
    "curriculum_agent = initializer.create_refining_curriculum_agent()\n",
    "\n",
    "info = iterator._pull_information()\n",
    "qa_list = curriculum_agent._run_qa(info)"
   ]
  },
  {
   "cell_type": "code",
   "execution_count": null,
   "id": "68d38d0f",
   "metadata": {
    "scrolled": true
   },
   "outputs": [],
   "source": [
    "task = \"I need to download PDB from RSCB database\"\n",
    "user_prompt = \"I need to get PDB file for 3PQR and run a simulation\"\n",
    "\n",
    "new_task = curriculum_agent.propose_refined_task(task, user_prompt, qa_list, info)"
   ]
  },
  {
   "cell_type": "code",
   "execution_count": null,
   "id": "7f89cc7e",
   "metadata": {},
   "outputs": [],
   "source": [
    "print(new_task)"
   ]
  },
  {
   "cell_type": "code",
   "execution_count": null,
   "id": "a55ff15b",
   "metadata": {},
   "outputs": [],
   "source": [
    "new_task = curriculum_agent.run(task, user_prompt, info)"
   ]
  }
 ],
 "metadata": {
  "kernelspec": {
   "display_name": "Python [conda env:mdagent] *",
   "language": "python",
   "name": "conda-env-mdagent-py"
  },
  "language_info": {
   "codemirror_mode": {
    "name": "ipython",
    "version": 3
   },
   "file_extension": ".py",
   "mimetype": "text/x-python",
   "name": "python",
   "nbconvert_exporter": "python",
   "pygments_lexer": "ipython3",
   "version": "3.11.4"
  }
 },
 "nbformat": 4,
 "nbformat_minor": 5
}
