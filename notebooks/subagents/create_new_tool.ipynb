{
 "cells": [
  {
   "cell_type": "code",
   "execution_count": null,
   "id": "9fb86c68",
   "metadata": {},
   "outputs": [],
   "source": [
    "from mdagent.mainagent.agent import MDAgent\n",
    "mrkl = MDAgent(\n",
    "    model=\"gpt-4\",\n",
    "    tools_model=\"gpt-3.5-turbo\",\n",
    "    subagents_model=\"gpt-3.5-turbo\",\n",
    ")\n",
    "\n",
    "# just for this demo, I explicitly ask to create a new tool\n",
    "new_tool_prompt = \"\"\"Create a new tool to download either mmCIF or PDB file.\n",
    "Use 3PQR as an example of PDB ID. No need to use that tool after creation.\"\"\"\n",
    "\n",
    "mrkl.run(new_tool_prompt)"
   ]
  }
 ],
 "metadata": {
  "kernelspec": {
   "display_name": "Python [conda env:mdagent] *",
   "language": "python",
   "name": "conda-env-mdagent-py"
  },
  "language_info": {
   "codemirror_mode": {
    "name": "ipython",
    "version": 3
   },
   "file_extension": ".py",
   "mimetype": "text/x-python",
   "name": "python",
   "nbconvert_exporter": "python",
   "pygments_lexer": "ipython3",
   "version": "3.11.4"
  }
 },
 "nbformat": 4,
 "nbformat_minor": 5
}
