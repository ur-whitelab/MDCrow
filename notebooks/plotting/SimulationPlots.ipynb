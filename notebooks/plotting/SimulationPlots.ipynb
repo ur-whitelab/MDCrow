{
 "cells": [
  {
   "cell_type": "code",
   "execution_count": 1,
   "id": "f4901a50",
   "metadata": {},
   "outputs": [
    {
     "data": {
      "text/plain": [
       "True"
      ]
     },
     "execution_count": 1,
     "metadata": {},
     "output_type": "execute_result"
    }
   ],
   "source": [
    "from dotenv import load_dotenv\n",
    "\n",
    "load_dotenv()"
   ]
  },
  {
   "cell_type": "code",
   "execution_count": 2,
   "id": "998c7420",
   "metadata": {},
   "outputs": [],
   "source": [
    "from mdagent.mainagent.agent import MDAgent\n",
    "mrkl = MDAgent()"
   ]
  },
  {
   "cell_type": "code",
   "execution_count": 3,
   "id": "83a683e9",
   "metadata": {},
   "outputs": [
    {
     "name": "stdout",
     "output_type": "stream",
     "text": [
      "\n",
      "I have an output file called tidy_3PQR.csv. \n",
      "Please create figures of all physical parameters\n",
      "versus timestep of the simulation.\n",
      "\n"
     ]
    }
   ],
   "source": [
    "full_sim = \"\"\"\n",
    "I have an output file called tidy_3PQR.csv. \n",
    "Please create figures of all physical parameters\n",
    "versus timestep of the simulation.\n",
    "\"\"\"\n",
    "print(full_sim)"
   ]
  },
  {
   "cell_type": "code",
   "execution_count": 4,
   "id": "ab7d2574",
   "metadata": {},
   "outputs": [
    {
     "name": "stdout",
     "output_type": "stream",
     "text": [
      "\n",
      "\n",
      "\u001b[1m> Entering new RetryAgentExecutor chain...\u001b[0m\n",
      "Action: PostSimulationFigures\n",
      "Action Input: tidy_3PQR.csv\u001b[32;1m\u001b[1;3mAction: PostSimulationFigures\n",
      "Action Input: tidy_3PQR.csv\u001b[0m\n",
      "Observation: \u001b[38;5;200m\u001b[1;3mFigures created: step_vs_Potential Energy.png, step_vs_Temperature.png, step_vs_Box Volume.png, step_vs_Density.png\u001b[0m\n",
      "Thought:Final Answer: The figures of all physical parameters versus timestep of the simulation have been created.\u001b[32;1m\u001b[1;3mFinal Answer: The figures of all physical parameters versus timestep of the simulation have been created.\u001b[0m\n",
      "\n",
      "\u001b[1m> Finished chain.\u001b[0m\n"
     ]
    },
    {
     "data": {
      "text/plain": [
       "'Thought: Action: PostSimulationFigures\\nAction Input: tidy_3PQR.csv\\nObservation: Figures created: step_vs_Potential Energy.png, step_vs_Temperature.png, step_vs_Box Volume.png, step_vs_Density.png\\nFinal Answer: The figures of all physical parameters versus timestep of the simulation have been created.'"
      ]
     },
     "execution_count": 4,
     "metadata": {},
     "output_type": "execute_result"
    }
   ],
   "source": [
    "mrkl.run(full_sim)"
   ]
  }
 ],
 "metadata": {
  "kernelspec": {
   "display_name": "mdagent-prs",
   "language": "python",
   "name": "mdagent-prs"
  },
  "language_info": {
   "codemirror_mode": {
    "name": "ipython",
    "version": 3
   },
   "file_extension": ".py",
   "mimetype": "text/x-python",
   "name": "python",
   "nbconvert_exporter": "python",
   "pygments_lexer": "ipython3",
   "version": "3.10.11"
  }
 },
 "nbformat": 4,
 "nbformat_minor": 5
}
