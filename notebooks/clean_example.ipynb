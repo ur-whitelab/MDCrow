{
 "cells": [
  {
   "cell_type": "code",
   "execution_count": 1,
   "metadata": {},
   "outputs": [],
   "source": [
    "import os\n",
    "#API keys\n",
    "os.environ[\"OPENAI_API_KEY\"] = \"<YOUR_API_KEY_HERE>\"\n",
    "os.environ[\"SEMANTIC_API_KEY\"] = \"<YOUR_API_KEY_HERE>\"\n",
    "os.environ[\"PQA_API_KEY\"]=\"<YOUR_API_KEY_HERE>\""
   ]
  },
  {
   "cell_type": "code",
   "execution_count": 10,
   "metadata": {},
   "outputs": [
    {
     "name": "stdout",
     "output_type": "stream",
     "text": [
      "I want to clean the file 1BPI.cif\n"
     ]
    }
   ],
   "source": [
    "#for our context cleaning is a nice word for preprocessing\n",
    "clean_task = \"I want to clean the file 1BPI.cif\"\n",
    "print(clean_task)"
   ]
  },
  {
   "cell_type": "code",
   "execution_count": 12,
   "metadata": {},
   "outputs": [
    {
     "name": "stdout",
     "output_type": "stream",
     "text": [
      "\n",
      "\n",
      "\u001b[1m> Entering new  chain...\u001b[0m\n",
      "Action: Standard Cleaning of PDB or CIF files\n",
      "Action Input: 1BPI.cif\u001b[32;1m\u001b[1;3mAction: Standard Cleaning of PDB or CIF files\n",
      "Action Input: 1BPI.cif\u001b[0m\n",
      "Observation: \u001b[36;1m\u001b[1;3mCleaned File written to tidy_1BPI.pdb\u001b[0m\n",
      "Thought:Final Answer: The file 1BPI.cif has been cleaned and the cleaned file is named tidy_1BPI.pdb.\u001b[32;1m\u001b[1;3mFinal Answer: The file 1BPI.cif has been cleaned and the cleaned file is named tidy_1BPI.pdb.\u001b[0m\n",
      "\n",
      "\u001b[1m> Finished chain.\u001b[0m\n"
     ]
    },
    {
     "data": {
      "text/plain": [
       "'Thought: Action: Standard Cleaning of PDB or CIF files\\nAction Input: 1BPI.cif\\nObservation: Cleaned File written to tidy_1BPI.pdb\\nFinal Answer: The file 1BPI.cif has been cleaned and the cleaned file is named tidy_1BPI.pdb.'"
      ]
     },
     "execution_count": 12,
     "metadata": {},
     "output_type": "execute_result"
    }
   ],
   "source": [
    "from mdagent.agent import MDAgent\n",
    "mrkl = MDAgent()\n",
    "mrkl.run(clean_task)"
   ]
  },
  {
   "cell_type": "code",
   "execution_count": 14,
   "metadata": {},
   "outputs": [
    {
     "name": "stdout",
     "output_type": "stream",
     "text": [
      "1BPI.cif       tidy_1BPI.cif\n"
     ]
    }
   ],
   "source": [
    "%ls *.cif"
   ]
  },
  {
   "cell_type": "code",
   "execution_count": null,
   "metadata": {},
   "outputs": [],
   "source": []
  }
 ],
 "metadata": {
  "kernelspec": {
   "display_name": "mdagent1",
   "language": "python",
   "name": "python3"
  },
  "language_info": {
   "codemirror_mode": {
    "name": "ipython",
    "version": 3
   },
   "file_extension": ".py",
   "mimetype": "text/x-python",
   "name": "python",
   "nbconvert_exporter": "python",
   "pygments_lexer": "ipython3",
   "version": "3.11.4"
  },
  "orig_nbformat": 4
 },
 "nbformat": 4,
 "nbformat_minor": 2
}
