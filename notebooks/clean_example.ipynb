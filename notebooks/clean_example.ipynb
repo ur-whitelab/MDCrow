{
 "cells": [
  {
   "attachments": {},
   "cell_type": "markdown",
   "metadata": {},
   "source": [
    "# For this example, install the following via conda: openmm, pdbfixer"
   ]
  },
  {
   "cell_type": "code",
   "execution_count": 1,
   "metadata": {},
   "outputs": [],
   "source": [
    "file_name = (\"../3pqr.cif\")"
   ]
  },
  {
   "cell_type": "code",
   "execution_count": 2,
   "metadata": {},
   "outputs": [
    {
     "name": "stdout",
     "output_type": "stream",
     "text": [
      "I want to clean the file ../3pqr.cif\n"
     ]
    }
   ],
   "source": [
    "#for our context cleaning is a nice word for preprocessing\n",
    "clean_task = f\"I want to clean the file {file_name}\"\n",
    "print(clean_task)"
   ]
  },
  {
   "cell_type": "code",
   "execution_count": 3,
   "metadata": {},
   "outputs": [
    {
     "name": "stdout",
     "output_type": "stream",
     "text": [
      "\n",
      "\n",
      "\u001b[1m> Entering new  chain...\u001b[0m\n",
      "Action: StandardCleaningTool\n",
      "Action Input: ../3pqr.cif\u001b[32;1m\u001b[1;3mAction: StandardCleaningTool\n",
      "Action Input: ../3pqr.cif\u001b[0m\n",
      "Observation: \u001b[33;1m\u001b[1;3mCleaned File written to tidy_3pqr.pdb\u001b[0m\n",
      "Thought:Action: Final Answer\n",
      "Action Input: Cleaned file is tidy_3pqr.pdb\u001b[32;1m\u001b[1;3mAction: Final Answer\n",
      "Action Input: Cleaned file is tidy_3pqr.pdb\u001b[0m\n",
      "Observation: Final Answer is not a valid tool, try another one.\n",
      "Thought:Action: StandardCleaningTool\n",
      "Action Input: ../3pqr.cif\u001b[32;1m\u001b[1;3mAction: StandardCleaningTool\n",
      "Action Input: ../3pqr.cif\u001b[0m\n",
      "Observation: \u001b[33;1m\u001b[1;3mCleaned File written to tidy_3pqr.pdb\u001b[0m\n",
      "Thought:Final Answer: The cleaned file is tidy_3pqr.pdb.\u001b[32;1m\u001b[1;3mFinal Answer: The cleaned file is tidy_3pqr.pdb.\u001b[0m\n",
      "\n",
      "\u001b[1m> Finished chain.\u001b[0m\n"
     ]
    },
    {
     "data": {
      "text/plain": [
       "'Thought: Action: StandardCleaningTool\\nAction Input: ../3pqr.cif\\nObservation: Cleaned File written to tidy_3pqr.pdb\\nThought: Action: Final Answer\\nAction Input: Cleaned file is tidy_3pqr.pdb\\nObservation: Final Answer is not a valid tool, try another one.\\nThought: Action: StandardCleaningTool\\nAction Input: ../3pqr.cif\\nObservation: Cleaned File written to tidy_3pqr.pdb\\nFinal Answer: The cleaned file is tidy_3pqr.pdb.'"
      ]
     },
     "execution_count": 3,
     "metadata": {},
     "output_type": "execute_result"
    }
   ],
   "source": [
    "from mdagent.agent import MDAgent\n",
    "mrkl = MDAgent()\n",
    "mrkl.run(clean_task)"
   ]
  },
  {
   "cell_type": "code",
   "execution_count": 5,
   "metadata": {},
   "outputs": [
    {
     "name": "stdout",
     "output_type": "stream",
     "text": [
      "3pqr.cif       tidy_3pqr.cif\n"
     ]
    }
   ],
   "source": [
    "%ls *.cif"
   ]
  },
  {
   "cell_type": "code",
   "execution_count": null,
   "metadata": {},
   "outputs": [],
   "source": []
  }
 ],
 "metadata": {
  "kernelspec": {
   "display_name": "tools",
   "language": "python",
   "name": "python3"
  },
  "language_info": {
   "codemirror_mode": {
    "name": "ipython",
    "version": 3
   },
   "file_extension": ".py",
   "mimetype": "text/x-python",
   "name": "python",
   "nbconvert_exporter": "python",
   "pygments_lexer": "ipython3",
   "version": "3.11.4"
  }
 },
 "nbformat": 4,
 "nbformat_minor": 2
}
