{
 "cells": [
  {
   "cell_type": "markdown",
   "metadata": {},
   "source": [
    "# For this example, install the following via conda: openmm, pdbfixer"
   ]
  },
  {
   "cell_type": "code",
   "execution_count": 1,
   "metadata": {},
   "outputs": [],
   "source": [
    "file_name = (\"../3pqr.cif\")"
   ]
  },
  {
   "cell_type": "code",
   "execution_count": 2,
   "metadata": {},
   "outputs": [
    {
     "name": "stdout",
     "output_type": "stream",
     "text": [
      "I want to clean the file ../3pqr.cif\n"
     ]
    }
   ],
   "source": [
    "#for our context cleaning is a nice word for preprocessing\n",
    "clean_task = f\"I want to clean the file {file_name}\"\n",
    "print(clean_task)"
   ]
  },
  {
   "cell_type": "code",
   "execution_count": 3,
   "metadata": {},
   "outputs": [
    {
     "name": "stdout",
     "output_type": "stream",
     "text": [
      "\n",
      "\n",
      "\u001b[1m> Entering new RetryAgentExecutor chain...\u001b[0m\n",
      "Action: Cleaning tools that removes water and add hydrogens in a cif file\n",
      "Action Input: ../3pqr.cif\u001b[32;1m\u001b[1;3mAction: Cleaning tools that removes water and add hydrogens in a cif file\n",
      "Action Input: ../3pqr.cif\u001b[0m\n",
      "Observation: Cleaning tools that removes water and add hydrogens in a cif file is not a valid tool, try another one.\n",
      "Thought:Action: Standard Cleaning of PDB or CIF files\n",
      "Action Input: ../3pqr.cif\u001b[32;1m\u001b[1;3mAction: Standard Cleaning of PDB or CIF files\n",
      "Action Input: ../3pqr.cif\u001b[0m\n",
      "Observation: \u001b[36;1m\u001b[1;3mCleaned File written to tidy_3pqr.pdb\u001b[0m\n",
      "Thought:Final Answer: The file ../3pqr.cif has been cleaned and the cleaned file is saved as tidy_3pqr.pdb.\u001b[32;1m\u001b[1;3mFinal Answer: The file ../3pqr.cif has been cleaned and the cleaned file is saved as tidy_3pqr.pdb.\u001b[0m\n",
      "\n",
      "\u001b[1m> Finished chain.\u001b[0m\n"
     ]
    },
    {
     "data": {
      "text/plain": [
       "'Thought: Action: Cleaning tools that removes water and add hydrogens in a cif file\\nAction Input: ../3pqr.cif\\nObservation: Cleaning tools that removes water and add hydrogens in a cif file is not a valid tool, try another one.\\nThought: Action: Standard Cleaning of PDB or CIF files\\nAction Input: ../3pqr.cif\\nObservation: Cleaned File written to tidy_3pqr.pdb\\nFinal Answer: The file ../3pqr.cif has been cleaned and the cleaned file is saved as tidy_3pqr.pdb.'"
      ]
     },
     "execution_count": 3,
     "metadata": {},
     "output_type": "execute_result"
    }
   ],
   "source": [
    "from mdagent.agent import MDAgent\n",
    "mrkl = MDAgent()\n",
    "mrkl.run(clean_task)"
   ]
  },
  {
   "cell_type": "code",
   "execution_count": 5,
   "metadata": {},
   "outputs": [
    {
     "name": "stdout",
     "output_type": "stream",
     "text": [
      "3pqr.cif       tidy_3pqr.cif\r\n"
     ]
    }
   ],
   "source": [
    "%ls *.cif"
   ]
  }
 ],
 "metadata": {
  "kernelspec": {
   "display_name": "mdagent",
   "language": "python",
   "name": "mdagent"
  },
  "language_info": {
   "codemirror_mode": {
    "name": "ipython",
    "version": 3
   },
   "file_extension": ".py",
   "mimetype": "text/x-python",
   "name": "python",
   "nbconvert_exporter": "python",
   "pygments_lexer": "ipython3",
   "version": "3.10.11"
  }
 },
 "nbformat": 4,
 "nbformat_minor": 2
}
