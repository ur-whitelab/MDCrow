{
 "cells": [
  {
   "cell_type": "code",
   "execution_count": 1,
   "metadata": {},
   "outputs": [
    {
     "name": "stderr",
     "output_type": "stream",
     "text": [
      "/Users/samcox/anaconda3/envs/mda_feb21/lib/python3.11/site-packages/tqdm/auto.py:21: TqdmWarning: IProgress not found. Please update jupyter and ipywidgets. See https://ipywidgets.readthedocs.io/en/stable/user_install.html\n",
      "  from .autonotebook import tqdm as notebook_tqdm\n"
     ]
    }
   ],
   "source": [
    "from mdagent import MDAgent"
   ]
  },
  {
   "cell_type": "code",
   "execution_count": 2,
   "metadata": {},
   "outputs": [],
   "source": [
    "agent = MDAgent(resume=False, learn=False, agent_type=\"Structured\")"
   ]
  },
  {
   "cell_type": "code",
   "execution_count": 3,
   "metadata": {},
   "outputs": [
    {
     "data": {
      "text/plain": [
       "'Simulate protein 1IGT and calculate the average radius of gyration.'"
      ]
     },
     "execution_count": 3,
     "metadata": {},
     "output_type": "execute_result"
    }
   ],
   "source": [
    "#get the second line from proteins.txt\n",
    "with open('proteins.txt') as f:\n",
    "    proteins = f.readlines()\n",
    "    protein = proteins[6].strip()\n",
    "\n",
    "prompt = f\"Simulate protein {protein} and calculate the average radius of gyration.\"\n",
    "prompt"
   ]
  },
  {
   "cell_type": "code",
   "execution_count": 4,
   "metadata": {},
   "outputs": [
    {
     "name": "stdout",
     "output_type": "stream",
     "text": [
      "Thought: To simulate the protein 1IGT and calculate the average radius of gyration, I will first need to set up and run a short simulation of the protein using the SetUpandRunFunction tool. After the simulation is complete, I can then use the RadiusofGyrationAverage tool to calculate the average radius of gyration for the given trajectory file.\n",
      "\n",
      "Action:\n",
      "```json\n",
      "{\n",
      "  \"action\": \"SetUpandRunFunction\",\n",
      "  \"action_input\": {\n",
      "    \"pdb_id\": \"1IGT\",\n",
      "    \"forcefield_files\": [],\n",
      "    \"save\": true,\n",
      "    \"system_params\": {\n",
      "      \"nonbondedMethod\": \"NoCutoff\",\n",
      "      \"constraints\": \"None\",\n",
      "      \"rigidWater\": false,\n",
      "      \"solvate\": false\n",
      "    },\n",
      "    \"integrator_params\": {\n",
      "      \"integrator_type\": \"LangevinMiddle\",\n",
      "      \"Temperature\": \"300 * kelvin\",\n",
      "      \"Friction\": \"1.0 / picoseconds\",\n",
      "      \"Timestep\": \"0.002 * picoseconds\"\n",
      "    },\n",
      "    \"simulation_params\": {\n",
      "      \"Ensemble\": \"NVT\",\n",
      "      \"Number of Steps\": 5000,\n",
      "      \"record_interval_steps\": 50,\n",
      "      \"record_params\": [\"step\", \"potentialEnergy\", \"temperature\"]\n",
      "    }\n",
      "  }\n",
      "}\n",
      "```Setting default forcefields v2\n"
     ]
    },
    {
     "name": "stderr",
     "output_type": "stream",
     "text": [
      "2024-02-22 23:21:40.181 \n",
      "  \u001b[33m\u001b[1mWarning:\u001b[0m to view this Streamlit app on a browser, run it with the following\n",
      "  command:\n",
      "\n",
      "    streamlit run /Users/samcox/anaconda3/envs/mda_feb21/lib/python3.11/site-packages/ipykernel_launcher.py [ARGUMENTS]\n"
     ]
    },
    {
     "name": "stdout",
     "output_type": "stream",
     "text": [
      "Thought: The previous action attempted to use the SetUpandRunFunction tool to simulate the protein with PDB ID 1IGT, but it failed because the PDB ID was not recognized. I need to ensure that the PDB ID is correctly inputted into the tool. I will try running the SetUpandRunFunction tool again with the correct PDB ID format.\n",
      "\n",
      "Action:\n",
      "```json\n",
      "{\n",
      "  \"action\": \"SetUpandRunFunction\",\n",
      "  \"action_input\": {\n",
      "    \"pdb_id\": \"1IGT\",\n",
      "    \"forcefield_files\": [],\n",
      "    \"save\": true,\n",
      "    \"system_params\": {\n",
      "      \"nonbondedMethod\": \"NoCutoff\",\n",
      "      \"constraints\": \"None\",\n",
      "      \"rigidWater\": false,\n",
      "      \"solvate\": false\n",
      "    },\n",
      "    \"integrator_params\": {\n",
      "      \"integrator_type\": \"LangevinMiddle\",\n",
      "      \"Temperature\": \"300 * kelvin\",\n",
      "      \"Friction\": \"1.0 / picoseconds\",\n",
      "      \"Timestep\": \"0.002 * picoseconds\"\n",
      "    },\n",
      "    \"simulation_params\": {\n",
      "      \"Ensemble\": \"NVT\",\n",
      "      \"Number of Steps\": 5000,\n",
      "      \"record_interval_steps\": 50,\n",
      "      \"record_params\": [\"step\", \"potentialEnergy\", \"temperature\"]\n",
      "    }\n",
      "  }\n",
      "}\n",
      "```Setting default forcefields v2\n",
      "The SetUpandRunFunction tool requires a valid PDB ID to run a simulation. The error message indicates that the PDB ID provided (\"1IGT\") is not being recognized as a valid input. It's possible that the PDB file for 1IGT needs to be downloaded or retrieved from a database before it can be used for simulation. I will use the PDBFileDownloader tool to download the PDB file for protein 1IGT.\n",
      "\n",
      "Action:\n",
      "```json\n",
      "{\n",
      "  \"action\": \"PDBFileDownloader\",\n",
      "  \"action_input\": {\n",
      "    \"query\": \"1IGT\"\n",
      "  }\n",
      "}\n",
      "```PDB file found with this ID: 1IGT\n",
      "Now that the PDB file for protein 1IGT has been successfully downloaded, I can proceed with setting up and running a short simulation using the SetUpandRunFunction tool. I will use the downloaded PDB file ID \"1IGT_232215\" as the input for the simulation.\n",
      "\n",
      "Action:\n",
      "```json\n",
      "{\n",
      "  \"action\": \"SetUpandRunFunction\",\n",
      "  \"action_input\": {\n",
      "    \"pdb_id\": \"1IGT_232215\",\n",
      "    \"forcefield_files\": [],\n",
      "    \"save\": true,\n",
      "    \"system_params\": {\n",
      "      \"nonbondedMethod\": \"NoCutoff\",\n",
      "      \"constraints\": \"None\",\n",
      "      \"rigidWater\": false,\n",
      "      \"solvate\": false\n",
      "    },\n",
      "    \"integrator_params\": {\n",
      "      \"integrator_type\": \"LangevinMiddle\",\n",
      "      \"Temperature\": \"300 * kelvin\",\n",
      "      \"Friction\": \"1.0 / picoseconds\",\n",
      "      \"Timestep\": \"0.002 * picoseconds\"\n",
      "    },\n",
      "    \"simulation_params\": {\n",
      "      \"Ensemble\": \"NVT\",\n",
      "      \"Number of Steps\": 5000,\n",
      "      \"record_interval_steps\": 50,\n",
      "      \"record_params\": [\"step\", \"potentialEnergy\", \"temperature\"]\n",
      "    }\n",
      "  }\n",
      "}\n",
      "```Setting default forcefields v2\n",
      "Building system...\n",
      "The simulation setup failed because the PDB file for 1IGT is missing a hydrogen atom on residue 1 (ASP). Before I can run the simulation, I need to clean the PDB file to ensure it has all the necessary atoms and is compatible with the forcefield. I will use the CleaningToolFunction to clean the PDB file by adding missing atoms, including hydrogens, and then attempt to run the simulation again.\n",
      "\n",
      "Action:\n",
      "```json\n",
      "{\n",
      "  \"action\": \"CleaningToolFunction\",\n",
      "  \"action_input\": {\n",
      "    \"pdb_id\": \"1IGT_232215\",\n",
      "    \"replace_nonstandard_residues\": true,\n",
      "    \"add_missing_atoms\": true,\n",
      "    \"remove_heterogens\": true,\n",
      "    \"remove_water\": true,\n",
      "    \"add_hydrogens\": true,\n",
      "    \"add_hydrogens_ph\": 7.0\n",
      "  }\n",
      "}\n",
      "```The PDB file for protein 1IGT has been successfully cleaned, and missing atoms including hydrogens have been added. Now that the file is prepared, I can proceed with setting up and running a short simulation using the SetUpandRunFunction tool with the cleaned PDB file ID \"1IGT_232259\".\n",
      "\n",
      "Action:\n",
      "```json\n",
      "{\n",
      "  \"action\": \"SetUpandRunFunction\",\n",
      "  \"action_input\": {\n",
      "    \"pdb_id\": \"1IGT_232259\",\n",
      "    \"forcefield_files\": [],\n",
      "    \"save\": true,\n",
      "    \"system_params\": {\n",
      "      \"nonbondedMethod\": \"NoCutoff\",\n",
      "      \"constraints\": \"None\",\n",
      "      \"rigidWater\": false,\n",
      "      \"solvate\": false\n",
      "    },\n",
      "    \"integrator_params\": {\n",
      "      \"integrator_type\": \"LangevinMiddle\",\n",
      "      \"Temperature\": \"300 * kelvin\",\n",
      "      \"Friction\": \"1.0 / picoseconds\",\n",
      "      \"Timestep\": \"0.002 * picoseconds\"\n",
      "    },\n",
      "    \"simulation_params\": {\n",
      "      \"Ensemble\": \"NVT\",\n",
      "      \"Number of Steps\": 5000,\n",
      "      \"record_interval_steps\": 50,\n",
      "      \"record_params\": [\"step\", \"potentialEnergy\", \"temperature\"]\n",
      "    }\n",
      "  }\n",
      "}\n",
      "```Setting default forcefields v2\n",
      "Building system...\n",
      "Setting up integrator...\n",
      "Creating simulation...\n",
      "simulation set!\n",
      "Performing energy minimization...\n",
      "Minimization complete!\n",
      "Initial Positions saved to initial_positions.pdb\n",
      "Equilibrating...\n",
      "Simulating...\n",
      "Done!\n",
      "Standalone simulation script written to files/simulations/NVT_1IGT_232259_20240222_232314.py\n",
      "['proteins.txt', 'rgy_2RH1.ipynb', 'TRAJ_sim0_224125_1BR1_224108_20240222_224129.dcd', 'TOP_sim0_232314_1IGT_232259_20240222_232316.pdb', 'LOG_sim0_224125_1BR1_224108_20240222_224129.txt', 'ckpt', 'rgy_1ATN.ipynb', 'rgy_1BR1.ipynb', 'LOG_sim0_232314_1IGT_232259_20240222_232316.txt', 'TOP_sim0_224125_1BR1_224108_20240222_224129.pdb', 'paths_registry.json', 'rgy_1TUP.ipynb', 'files', 'rgy_1TRZ.ipynb', 'rgy_1A3N.ipynb', 'TRAJ_sim0_232314_1IGT_232259_20240222_232316.dcd', 'rgy_1IGT.ipynb']\n",
      "The simulation for protein 1IGT has been completed successfully, and the necessary files have been generated. The next step is to calculate the average radius of gyration using the RadiusofGyrationAverage tool. I will use the trajectory file ID provided in the simulation summary to perform this calculation.\n",
      "\n",
      "Action:\n",
      "```json\n",
      "{\n",
      "  \"action\": \"RadiusofGyrationAverage\",\n",
      "  \"action_input\": {\n",
      "    \"pdb_id\": \"1IGT_232259\"\n",
      "  }\n",
      "}\n",
      "```Final Answer: The simulation of protein 1IGT was successfully completed, and the average radius of gyration calculated for the simulated trajectory is 5.35 nm."
     ]
    },
    {
     "data": {
      "text/plain": [
       "'Final Answer: The simulation of protein 1IGT was successfully completed, and the average radius of gyration calculated for the simulated trajectory is 5.35 nm.'"
      ]
     },
     "execution_count": 4,
     "metadata": {},
     "output_type": "execute_result"
    }
   ],
   "source": [
    "agent.run(prompt)"
   ]
  }
 ],
 "metadata": {
  "kernelspec": {
   "display_name": "mdagent",
   "language": "python",
   "name": "python3"
  },
  "language_info": {
   "codemirror_mode": {
    "name": "ipython",
    "version": 3
   },
   "file_extension": ".py",
   "mimetype": "text/x-python",
   "name": "python",
   "nbconvert_exporter": "python",
   "pygments_lexer": "ipython3",
   "version": "3.11.8"
  },
  "orig_nbformat": 4
 },
 "nbformat": 4,
 "nbformat_minor": 2
}
