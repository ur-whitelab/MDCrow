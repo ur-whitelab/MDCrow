{
 "cells": [
  {
   "cell_type": "code",
   "execution_count": 1,
   "metadata": {},
   "outputs": [],
   "source": [
    "import datetime\n",
    "import os\n",
    "from mdagent import MDAgent\n",
    "import matplotlib.pyplot as plt"
   ]
  },
  {
   "cell_type": "code",
   "execution_count": 2,
   "metadata": {},
   "outputs": [
    {
     "name": "stdout",
     "output_type": "stream",
     "text": [
      "date and time: 2024-09-05\n",
      "time: 16:07:08\n",
      "LLM:  gpt-4-turbo-2024-04-09 \n",
      "Temperature:  0.1\n"
     ]
    }
   ],
   "source": [
    "prompt4 = \"What are the common parameters used to simulate fibronectin?\"\n",
    "llm_var = \"gpt-4-turbo-2024-04-09\"\n",
    "tools = \"all\"\n",
    "agent = MDAgent(agent_type=\"Structured\", model=llm_var, top_k_tools=tools)\n",
    "now = datetime.datetime.now()\n",
    "date = now.strftime(\"%Y-%m-%d\")\n",
    "print(\"date and time:\",date)\n",
    "time = now.strftime(\"%H:%M:%S\")\n",
    "print(\"time:\",time)\n",
    "print(\"LLM: \",agent.llm.model_name,\"\\nTemperature: \",agent.llm.temperature)"
   ]
  },
  {
   "cell_type": "code",
   "execution_count": 4,
   "metadata": {},
   "outputs": [
    {
     "name": "stdout",
     "output_type": "stream",
     "text": [
      "Thought: To provide information on common parameters used to simulate fibronectin, I need to search the literature for relevant studies or articles that discuss molecular dynamics simulations of fibronectin, focusing on the simulation parameters such as force fields, solvation models, and other relevant settings.\n",
      "\n",
      "Action:\n",
      "```json\n",
      "{\n",
      "    \"action\": \"LiteratureSearch\",\n",
      "    \"action_input\": {\n",
      "        \"query\": \"common parameters used in molecular dynamics simulation of fibronectin\"\n",
      "    }\n",
      "}\n",
      "```\"molecular dynamics simulation parameters fibronectin\"\n",
      "Search: \"molecular dynamics simulation parameters fibronectin\"\n",
      "\n",
      "Found 10 papers\n",
      "To provide a comprehensive answer regarding the common parameters used to simulate fibronectin in molecular dynamics, I need to find more specific information about simulation settings such as force fields, solvation models, and other relevant parameters specifically used for fibronectin. Since the previous literature search provided general information about parameter optimization in GROMACS but not specifically for fibronectin, I will conduct another literature search focusing more narrowly on fibronectin itself.\n",
      "\n",
      "Action:\n",
      "```json\n",
      "{\n",
      "    \"action\": \"LiteratureSearch\",\n",
      "    \"action_input\": {\n",
      "        \"query\": \"molecular dynamics simulation parameters for fibronectin\"\n",
      "    }\n",
      "}\n",
      "```\"fibronectin molecular dynamics simulation parameters\"\n",
      "Search: \"fibronectin molecular dynamics simulation parameters\"\n",
      "\n",
      "Found 10 papers\n",
      "Final Answer: The common parameters used to simulate fibronectin in molecular dynamics simulations typically involve the use of specific force fields and solvation models. While the initial literature search provided general insights into parameter optimization for molecular dynamics simulations using GROMACS, including the use of Smooth Particle-Mesh Ewald (PME) and the \"`g_tune_pme`\" tool, it did not provide specific details for fibronectin. Further research would be necessary to pinpoint the exact parameters such as the choice of force field (e.g., AMBER or CHARMM), water models, and ion concentrations specifically tailored for simulating the dynamics of fibronectin."
     ]
    },
    {
     "data": {
      "text/plain": [
       "({'input': '\\n    You are an expert molecular dynamics scientist, and\\n    your task is to respond to the question or\\n    solve the problem to the best of your ability using\\n    the provided tools.\\n\\n    You can only respond with a single complete\\n    \\'Thought, Action, Action Input\\' format\\n    OR a single \\'Final Answer\\' format.\\n\\n    Complete format:\\n    Thought: (reflect on your progress and decide what to do next)\\n    Action:\\n    ```\\n    {\\n        \"action\": (the action name, it should be the name of a tool),\\n        \"action_input\": (the input string for the action)\\n    }\\n    \\'\\'\\'\\n\\n    OR\\n\\n    Final Answer: (the final response to the original input\\n    question, once all steps are complete)\\n\\n    You are required to use the tools provided,\\n    using the most specific tool\\n    available for each action.\\n    Your final answer should contain all information\\n    necessary to answer the question and its subquestions.\\n    Before you finish, reflect on your progress and make\\n    sure you have addressed the question in its entirety.\\n\\n    If you are asked to continue\\n    or reference previous runs,\\n    the context will be provided to you.\\n    If context is provided, you should assume\\n    you are continuing a chat.\\n\\n    Here is the input:\\n    Previous Context: None\\n    Question: What are the common parameters used to simulate fibronectin? ',\n",
       "  'output': 'Final Answer: The common parameters used to simulate fibronectin in molecular dynamics simulations typically involve the use of specific force fields and solvation models. While the initial literature search provided general insights into parameter optimization for molecular dynamics simulations using GROMACS, including the use of Smooth Particle-Mesh Ewald (PME) and the \"`g_tune_pme`\" tool, it did not provide specific details for fibronectin. Further research would be necessary to pinpoint the exact parameters such as the choice of force field (e.g., AMBER or CHARMM), water models, and ion concentrations specifically tailored for simulating the dynamics of fibronectin.'},\n",
       " 'UNUFV65B')"
      ]
     },
     "execution_count": 4,
     "metadata": {},
     "output_type": "execute_result"
    }
   ],
   "source": [
    "agent.run(prompt4)"
   ]
  },
  {
   "cell_type": "code",
   "execution_count": null,
   "metadata": {},
   "outputs": [],
   "source": [
    "now = datetime.datetime.now()\n",
    "date = now.strftime(\"%Y-%m-%d\")\n",
    "print(\"date and time:\",date)\n",
    "time = now.strftime(\"%H:%M:%S\")\n",
    "print(\"time:\",time)"
   ]
  },
  {
   "cell_type": "markdown",
   "metadata": {},
   "source": [
    "# Experiment Result:\n",
    "### Completed without Exception or TimeOut Errors ✅\n",
    "### Attempted all necessary steps ✅\n",
    "### No Hallucination ✅\n",
    "### Logic make sense ✅\n",
    "### Correct Answer ✅\n",
    "### Number of steps completed: 1\n",
    "### % steps completed: 100%"
   ]
  },
  {
   "cell_type": "code",
   "execution_count": null,
   "metadata": {},
   "outputs": [],
   "source": []
  }
 ],
 "metadata": {
  "kernelspec": {
   "display_name": "mdagent2",
   "language": "python",
   "name": "python3"
  },
  "language_info": {
   "codemirror_mode": {
    "name": "ipython",
    "version": 3
   },
   "file_extension": ".py",
   "mimetype": "text/x-python",
   "name": "python",
   "nbconvert_exporter": "python",
   "pygments_lexer": "ipython3",
   "version": "3.11.9"
  }
 },
 "nbformat": 4,
 "nbformat_minor": 4
}
