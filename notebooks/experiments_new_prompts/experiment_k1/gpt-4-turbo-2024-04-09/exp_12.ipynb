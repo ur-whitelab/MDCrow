{
 "cells": [
  {
   "cell_type": "code",
   "execution_count": 1,
   "id": "8ff706fd-c267-4d05-af58-9a3848cce8ff",
   "metadata": {},
   "outputs": [],
   "source": [
    "from mdagent import MDAgent"
   ]
  },
  {
   "cell_type": "code",
   "execution_count": 2,
   "id": "02c5c1ac-426e-44fa-90d2-8dd1a1eefe9c",
   "metadata": {},
   "outputs": [
    {
     "name": "stdout",
     "output_type": "stream",
     "text": [
      "date: 2024-09-05\n",
      "time: 16:23:09\n"
     ]
    }
   ],
   "source": [
    "#todays date and time\n",
    "import datetime\n",
    "\n",
    "start = datetime.datetime.now()\n",
    "date = start.strftime(\"%Y-%m-%d\")\n",
    "print(\"date:\",date)\n",
    "time = start.strftime(\"%H:%M:%S\")\n",
    "print(\"time:\",time)"
   ]
  },
  {
   "cell_type": "code",
   "execution_count": 3,
   "id": "f62bfc17-854b-4152-bb82-7e9e0ec4b854",
   "metadata": {},
   "outputs": [
    {
     "name": "stdout",
     "output_type": "stream",
     "text": [
      "LLM:  gpt-4-turbo-2024-04-09 \n",
      "Temperature:  0.1\n"
     ]
    }
   ],
   "source": [
    "model='gpt-4-turbo-2024-04-09'\n",
    "mda = MDAgent(\n",
    "    agent_type='Structured', \n",
    "    model=model, \n",
    "    tools_model=model,\n",
    "    use_memory=False, \n",
    "    top_k_tools=\"all\"\n",
    ")\n",
    "print(\"LLM: \", mda.llm.model_name,\"\\nTemperature: \", mda.llm.temperature)"
   ]
  },
  {
   "cell_type": "code",
   "execution_count": 4,
   "id": "ad2f6f66-e6b8-4244-b908-68fbebbf6e8b",
   "metadata": {},
   "outputs": [
    {
     "name": "stdout",
     "output_type": "stream",
     "text": [
      "Thought: To simulate fibronectin (PDB ID 1FNF) for 1 ns, I need to first find the appropriate temperature for the simulation from the literature. Once I have the temperature, I can proceed with setting up and running the simulation.\n",
      "\n",
      "Action:\n",
      "```json\n",
      "{\n",
      "    \"action\": \"LiteratureSearch\",\n",
      "    \"action_input\": {\n",
      "        \"query\": \"appropriate simulation temperature for fibronectin\"\n",
      "    }\n",
      "}\n",
      "```\"fibronectin simulation temperature molecular dynamics scholarly articles\"\n",
      "Search: \"fibronectin simulation temperature molecular dynamics scholarly articles\"\n",
      "\n",
      "Found 10 papers\n",
      "With the information gathered from the literature, the appropriate temperature for simulating fibronectin, particularly for studying its interaction with integrin, is around the physiological temperature of 37 °C (310 K). This temperature is biologically relevant and is reported to enhance the binding affinity of fibronectin to integrin, which is crucial for understanding its biological functions.\n",
      "\n",
      "Now, I will proceed to set up and run the molecular dynamics simulation of fibronectin (PDB ID 1FNF) for 1 nanosecond at 310 K.\n",
      "\n",
      "Action:\n",
      "```json\n",
      "{\n",
      "    \"action\": \"SetUpandRunFunction\",\n",
      "    \"action_input\": {\n",
      "        \"pdb_id\": \"1FNF\",\n",
      "        \"forcefield_files\": [\"amber99sb-ildn\"],\n",
      "        \"system_params\": {\n",
      "            \"nonbondedMethod\": \"PME\",\n",
      "            \"nonbondedCutoff\": \"1.0 * nanometers\",\n",
      "            \"constraints\": \"HBonds\",\n",
      "            \"rigidWater\": true,\n",
      "            \"constraintTolerance\": 0.00001,\n",
      "            \"solvate\": true\n",
      "        },\n",
      "        \"integrator_params\": {\n",
      "            \"integrator_type\": \"LangevinMiddle\",\n",
      "            \"Temperature\": \"310 * kelvin\",\n",
      "            \"Friction\": \"1.0 / picoseconds\",\n",
      "            \"Timestep\": \"0.002 * picoseconds\"\n",
      "        },\n",
      "        \"simulation_params\": {\n",
      "            \"Ensemble\": \"NVT\",\n",
      "            \"Number of Steps\": 500000,\n",
      "            \"record_interval_steps\": 5000,\n",
      "            \"record_params\": [\"step\", \"potentialEnergy\", \"temperature\"]\n",
      "        }\n",
      "    }\n",
      "}\n",
      "```Setting default ewaldErrorTolerance: 0.0005 \n",
      "error found: The forcefield file is not present\n",
      " Correct this and try again. \n",
      " Everthing else is fine\n",
      "To successfully simulate fibronectin (PDB ID 1FNF) for 1 nanosecond at 310 K, I need to correct the issue with the forcefield file. I will choose a commonly used and available forcefield, such as \"amber14-all\" which is typically present in simulation software libraries.\n",
      "\n",
      "Action:\n",
      "```json\n",
      "{\n",
      "    \"action\": \"SetUpandRunFunction\",\n",
      "    \"action_input\": {\n",
      "        \"pdb_id\": \"1FNF\",\n",
      "        \"forcefield_files\": [\"amber14-all\"],\n",
      "        \"system_params\": {\n",
      "            \"nonbondedMethod\": \"PME\",\n",
      "            \"nonbondedCutoff\": \"1.0 * nanometers\",\n",
      "            \"constraints\": \"HBonds\",\n",
      "            \"rigidWater\": true,\n",
      "            \"constraintTolerance\": 0.00001,\n",
      "            \"solvate\": true\n",
      "        },\n",
      "        \"integrator_params\": {\n",
      "            \"integrator_type\": \"LangevinMiddle\",\n",
      "            \"Temperature\": \"310 * kelvin\",\n",
      "            \"Friction\": \"1.0 / picoseconds\",\n",
      "            \"Timestep\": \"0.002 * picoseconds\"\n",
      "        },\n",
      "        \"simulation_params\": {\n",
      "            \"Ensemble\": \"NVT\",\n",
      "            \"Number of Steps\": 500000,\n",
      "            \"record_interval_steps\": 5000,\n",
      "            \"record_params\": [\"step\", \"potentialEnergy\", \"temperature\"]\n",
      "        }\n",
      "    }\n",
      "}\n",
      "```Setting default ewaldErrorTolerance: 0.0005 \n",
      "To successfully simulate fibronectin (PDB ID 1FNF) for 1 nanosecond at 310 K, I need to download the PDB file for fibronectin using its PDB ID and then proceed with the simulation setup using the correct file ID.\n",
      "\n",
      "Action:\n",
      "```json\n",
      "{\n",
      "    \"action\": \"PDBFileDownloader\",\n",
      "    \"action_input\": {\n",
      "        \"query\": \"1FNF\"\n",
      "    }\n",
      "}\n",
      "```PDB file found with this ID: 1FNF\n",
      "Now that I have successfully downloaded the PDB file for fibronectin (PDB ID 1FNF), I can proceed with setting up and running the molecular dynamics simulation using the correct file ID and the previously determined simulation parameters.\n",
      "\n",
      "Action:\n",
      "```json\n",
      "{\n",
      "    \"action\": \"SetUpandRunFunction\",\n",
      "    \"action_input\": {\n",
      "        \"pdb_id\": \"1FNF_162432\",\n",
      "        \"forcefield_files\": [\"amber14-all\"],\n",
      "        \"system_params\": {\n",
      "            \"nonbondedMethod\": \"PME\",\n",
      "            \"nonbondedCutoff\": \"1.0 * nanometers\",\n",
      "            \"constraints\": \"HBonds\",\n",
      "            \"rigidWater\": true,\n",
      "            \"constraintTolerance\": 0.00001,\n",
      "            \"solvate\": true\n",
      "        },\n",
      "        \"integrator_params\": {\n",
      "            \"integrator_type\": \"LangevinMiddle\",\n",
      "            \"Temperature\": \"310 * kelvin\",\n",
      "            \"Friction\": \"1.0 / picoseconds\",\n",
      "            \"Timestep\": \"0.002 * picoseconds\"\n",
      "        },\n",
      "        \"simulation_params\": {\n",
      "            \"Ensemble\": \"NVT\",\n",
      "            \"Number of Steps\": 500000,\n",
      "            \"record_interval_steps\": 5000,\n",
      "            \"record_params\": [\"step\", \"potentialEnergy\", \"temperature\"]\n",
      "        }\n",
      "    }\n",
      "}\n",
      "```Setting default ewaldErrorTolerance: 0.0005 \n",
      "Building system...\n",
      "To successfully simulate fibronectin (PDB ID 1FNF) for 1 nanosecond at 310 K, I need to ensure that the forcefield file used is available and correctly specified. Since \"amber14-all\" was not found, I will switch to a standard and commonly available forcefield, \"amber99sb\", which is typically included in molecular dynamics simulation software.\n",
      "\n",
      "Action:\n",
      "```json\n",
      "{\n",
      "    \"action\": \"SetUpandRunFunction\",\n",
      "    \"action_input\": {\n",
      "        \"pdb_id\": \"1FNF_162432\",\n",
      "        \"forcefield_files\": [\"amber99sb\"],\n",
      "        \"system_params\": {\n",
      "            \"nonbondedMethod\": \"PME\",\n",
      "            \"nonbondedCutoff\": \"1.0 * nanometers\",\n",
      "            \"constraints\": \"HBonds\",\n",
      "            \"rigidWater\": true,\n",
      "            \"constraintTolerance\": 0.00001,\n",
      "            \"solvate\": true\n",
      "        },\n",
      "        \"integrator_params\": {\n",
      "            \"integrator_type\": \"LangevinMiddle\",\n",
      "            \"Temperature\": \"310 * kelvin\",\n",
      "            \"Friction\": \"1.0 / picoseconds\",\n",
      "            \"Timestep\": \"0.002 * picoseconds\"\n",
      "        },\n",
      "        \"simulation_params\": {\n",
      "            \"Ensemble\": \"NVT\",\n",
      "            \"Number of Steps\": 500000,\n",
      "            \"record_interval_steps\": 5000,\n",
      "            \"record_params\": [\"step\", \"potentialEnergy\", \"temperature\"]\n",
      "        }\n",
      "    }\n",
      "}\n",
      "```Setting default ewaldErrorTolerance: 0.0005 \n",
      "error found: The forcefield file is not present\n",
      " Correct this and try again. \n",
      " Everthing else is fine\n",
      "Final Answer: The simulation of fibronectin (PDB ID 1FNF) for 1 nanosecond at 310 K has faced multiple challenges, primarily related to the availability of the specified forcefield files. Despite attempts with different forcefield files (\"amber99sb-ildn\", \"amber14-all\", \"amber99sb\"), each attempt resulted in an error indicating the absence of the forcefield file in the system. To proceed successfully, it is necessary to verify the available forcefields in the simulation software being used and select one that is supported. Once the correct forcefield is identified and used, the simulation setup as specified should be able to run without further issues."
     ]
    }
   ],
   "source": [
    "prompt = 'Simulate fibronectin (PDB ID 1FNF) for 1 ns, using an appropriate temperature from the literature.'\n",
    "answer = mda.run(prompt)"
   ]
  },
  {
   "cell_type": "code",
   "execution_count": 5,
   "id": "a31fd85f-9466-41da-ada4-0b9f86427723",
   "metadata": {},
   "outputs": [
    {
     "name": "stdout",
     "output_type": "stream",
     "text": [
      "duration: 1.85 minutes\n"
     ]
    }
   ],
   "source": [
    "end = datetime.datetime.now()\n",
    "elapsed = end - start\n",
    "print(f\"duration: {elapsed.total_seconds()/60:.2f} minutes\")"
   ]
  },
  {
   "cell_type": "markdown",
   "id": "50423b94-0219-4779-88ff-2d0b2e1f89df",
   "metadata": {},
   "source": [
    "# Confirm all files are made from the simulation"
   ]
  },
  {
   "cell_type": "code",
   "execution_count": 6,
   "id": "fab6ea1d-2691-43fd-81aa-af5156c3eb30",
   "metadata": {},
   "outputs": [
    {
     "name": "stdout",
     "output_type": "stream",
     "text": [
      "Names found in registry: 1FNF_162432\n"
     ]
    }
   ],
   "source": [
    "registry = mda.path_registry\n",
    "all_names = registry.list_path_names()\n",
    "print(all_names)"
   ]
  },
  {
   "cell_type": "code",
   "execution_count": null,
   "id": "54105bee-49f3-41bb-8f96-3391a9c732d0",
   "metadata": {},
   "outputs": [],
   "source": [
    "# # ensure all files exist\n",
    "# file_ids = ['1FNF','sim0', 'top_sim0', 'rec0']\n",
    "# assert all(f in all_names for f in file_ids), \"Not all file ids are present in path registry\"\n",
    "\n",
    "# for f in file_ids:\n",
    "#     match = re.search(rf\"{f}_\\d+\", all_names)\n",
    "#     if match is None: \n",
    "#         print(f\"this file id {f} is not in path registry\")\n",
    "#     file_id = match.group(0)\n",
    "#     path = registry.get_mapped_path(file_id)\n",
    "#     if not os.path.exists(path):\n",
    "#         print(f\"the file for {file_id} doesn't exist\")"
   ]
  },
  {
   "cell_type": "code",
   "execution_count": null,
   "id": "4ec9eeb3-8597-4884-8e30-2c192d7ed0ac",
   "metadata": {},
   "outputs": [],
   "source": [
    "# ensure LiteratureSearch is being used by looking in agent output"
   ]
  },
  {
   "cell_type": "markdown",
   "id": "8c9a264a-e9ac-4567-b514-95192d7b512f",
   "metadata": {},
   "source": [
    "# Experiment Result:\n",
    "\n",
    "1. Completed without Exception or TimeOut Errors ✅\n",
    "2. Attempted all necessary steps ❌\n",
    "3. No hallucination ✅\n",
    "4. Logic make sense ❌\n",
    "5. Correct Answer ❌\n",
    "6. Number of steps completed: 2\n",
    "7. % steps completed: 66.67%"
   ]
  },
  {
   "cell_type": "markdown",
   "id": "c309f5c7",
   "metadata": {},
   "source": []
  }
 ],
 "metadata": {
  "kernelspec": {
   "display_name": "mdagent2",
   "language": "python",
   "name": "python3"
  },
  "language_info": {
   "codemirror_mode": {
    "name": "ipython",
    "version": 3
   },
   "file_extension": ".py",
   "mimetype": "text/x-python",
   "name": "python",
   "nbconvert_exporter": "python",
   "pygments_lexer": "ipython3",
   "version": "3.11.9"
  }
 },
 "nbformat": 4,
 "nbformat_minor": 5
}
