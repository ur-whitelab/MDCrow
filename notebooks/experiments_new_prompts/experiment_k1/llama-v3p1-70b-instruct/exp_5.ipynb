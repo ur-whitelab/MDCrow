{
 "cells": [
  {
   "cell_type": "code",
   "execution_count": 4,
   "metadata": {},
   "outputs": [],
   "source": [
    "import datetime\n",
    "import os\n",
    "from mdagent import MDAgent"
   ]
  },
  {
   "cell_type": "code",
   "execution_count": 5,
   "metadata": {},
   "outputs": [
    {
     "name": "stdout",
     "output_type": "stream",
     "text": [
      "date and time: 2024-09-12\n",
      "time: 14:00:31\n",
      "LLM:  accounts/fireworks/models/llama-v3p1-70b-instruct \n",
      "Temperature:  0.1\n"
     ]
    }
   ],
   "source": [
    "prompt5 = \"Simulate 1XQ8 for 1 ns at a temperature of 300 K. Then, tell me if the secondary structure changed from the beginning of the simulation to the end of the simulation.\"\n",
    "llm_var = \"accounts/fireworks/models/llama-v3p1-70b-instruct\"\n",
    "tools = \"all\"\n",
    "agent = MDAgent(agent_type=\"Structured\", model=llm_var, top_k_tools=tools)\n",
    "now = datetime.datetime.now()\n",
    "date = now.strftime(\"%Y-%m-%d\")\n",
    "print(\"date and time:\",date)\n",
    "time = now.strftime(\"%H:%M:%S\")\n",
    "print(\"time:\",time)\n",
    "print(\"LLM: \",agent.llm.model_name,\"\\nTemperature: \",agent.llm.temperature)"
   ]
  },
  {
   "cell_type": "code",
   "execution_count": null,
   "metadata": {
    "scrolled": true
   },
   "outputs": [
    {
     "name": "stdout",
     "output_type": "stream",
     "text": [
      "Thought: To solve this problem, I need to simulate the protein 1XQ8 for 1 ns at a temperature of 300 K, and then analyze the secondary structure at the beginning and end of the simulation.\n",
      "\n",
      "Action:\n",
      "```\n",
      "{\n",
      "  \"action\": \"SetUpandRunFunction\",\n",
      "  \"action_input\": {\n",
      "    \"pdb_id\": \"1XQ8\",\n",
      "    \"forcefield_files\": [\"amber99sbildn.xml\", \"tip3p.xml\"],\n",
      "    \"save\": true,\n",
      "    \"system_params\": {\n",
      "      \"nonbondedMethod\": \"PME\",\n",
      "      \"nonbondedCutoff\": \"1.0 * nanometers\",\n",
      "      \"ewaldErrorTolerance\": 0.00001,\n",
      "      \"constraints\": \"HBonds\",\n",
      "      \"rigidWater\": true,\n",
      "      \"constraintTolerance\": 0.00001,\n",
      "      \"solvate\": true\n",
      "    },\n",
      "    \"integrator_params\": {\n",
      "      \"integrator_type\": \"LangevinMiddle\",\n",
      "      \"Temperature\": \"300 * kelvin\",\n",
      "      \"Friction\": \"1.0 / picoseconds\",\n",
      "      \"Timestep\": \"0.002 * picoseconds\",\n",
      "      \"Pressure\": \"1.0 * bar\"\n",
      "    },\n",
      "    \"simulation_params\": {\n",
      "      \"Ensemble\": \"NPT\",\n",
      "      \"Number of Steps\": 500000,\n",
      "      \"record_interval_steps\": 1000,\n",
      "      \"record_params\": [\"step\", \"potentialEnergy\", \"temperature\"]\n",
      "    }\n",
      "  }\n",
      "}\n",
      "```\n",
      "Thought: I need to download the PDB file for 1XQ8 and get its file ID, then use that file ID to simulate the protein.\n",
      "\n",
      "Action:\n",
      "```\n",
      "{\n",
      "  \"action\": \"PDBFileDownloader\",\n",
      "  \"action_input\": \"1XQ8\"\n",
      "}\n",
      "```\n",
      "PDB file found with this ID: 1XQ8\n",
      "Thought: Now that I have the file ID of the PDB file, I can use it to simulate the protein 1XQ8 for 1 ns at a temperature of 300 K.\n",
      "\n",
      "Action:\n",
      "```\n",
      "{\n",
      "  \"action\": \"SetUpandRunFunction\",\n",
      "  \"action_input\": {\n",
      "    \"pdb_id\": \"1XQ8_140036\",\n",
      "    \"forcefield_files\": [\"amber99sbildn.xml\", \"tip3p.xml\"],\n",
      "    \"save\": true,\n",
      "    \"system_params\": {\n",
      "      \"nonbondedMethod\": \"PME\",\n",
      "      \"nonbondedCutoff\": \"1.0 * nanometers\",\n",
      "      \"ewaldErrorTolerance\": 0.00001,\n",
      "      \"constraints\": \"HBonds\",\n",
      "      \"rigidWater\": true,\n",
      "      \"constraintTolerance\": 0.00001,\n",
      "      \"solvate\": true\n",
      "    },\n",
      "    \"integrator_params\": {\n",
      "      \"integrator_type\": \"LangevinMiddle\",\n",
      "      \"Temperature\": \"300 * kelvin\",\n",
      "      \"Friction\": \"1.0 / picoseconds\",\n",
      "      \"Timestep\": \"0.002 * picoseconds\",\n",
      "      \"Pressure\": \"1.0 * bar\"\n",
      "    },\n",
      "    \"simulation_params\": {\n",
      "      \"Ensemble\": \"NPT\",\n",
      "      \"Number of Steps\": 500000,\n",
      "      \"record_interval_steps\": 1000,\n",
      "      \"record_params\": [\"step\", \"potentialEnergy\", \"temperature\"]\n",
      "    }\n",
      "  }\n",
      "}\n",
      "```\n",
      "\n",
      "Building system...\n",
      "About to create system...\n",
      "Attempts at creating system: 0/3\n",
      "System built successfully\n",
      "<openmm.openmm.System; proxy of <Swig Object of type 'OpenMM::System *' at 0x7f110b4d8270> >\n",
      "Setting up integrator...\n",
      "Creating simulation...\n",
      "simulation set!\n",
      "Performing energy minimization...\n",
      "Minimization complete!\n",
      "Initial Positions saved to initial_positions.pdb\n",
      "Equilibrating...\n",
      "Simulating...\n"
     ]
    }
   ],
   "source": [
    "agent.run(prompt5)"
   ]
  },
  {
   "cell_type": "code",
   "execution_count": null,
   "metadata": {},
   "outputs": [],
   "source": [
    "now = datetime.datetime.now()\n",
    "date = now.strftime(\"%Y-%m-%d\")\n",
    "print(\"date and time:\",date)\n",
    "time = now.strftime(\"%H:%M:%S\")\n",
    "print(\"time:\",time)"
   ]
  },
  {
   "cell_type": "code",
   "execution_count": null,
   "metadata": {},
   "outputs": [],
   "source": [
    "registry = agent.path_registry\n",
    "paths_and_descriptions = registry.list_path_names_and_descriptions()\n",
    "print(\"\\n\".join(paths_and_descriptions.split(\",\")))"
   ]
  },
  {
   "cell_type": "code",
   "execution_count": null,
   "metadata": {},
   "outputs": [],
   "source": [
    "import re\n",
    "import os\n",
    "match = re.search(r\"rec0_\\d+\", paths_and_descriptions)\n",
    "traj_id = match.group(0)\n",
    "traj_path = registry.get_mapped_path(traj_id)\n",
    "match = re.search(r\"top_sim0_\\d+\", paths_and_descriptions)\n",
    "top_id = match.group(0)\n",
    "top_path = registry.get_mapped_path(top_id)\n",
    "assert os.path.exists(traj_path), \"Trajectory file doesn't exist\"\n",
    "assert os.path.exists(top_path), \"Topology file doesn't exist\"\n",
    "assert traj_path != top_path\n",
    "assert traj_path.endswith(\".dcd\")\n",
    "assert top_path.endswith(\".pdb\")\n",
    "print(f\"It's asserted that file paths for {traj_id} and {top_id} exist\")"
   ]
  },
  {
   "cell_type": "code",
   "execution_count": null,
   "metadata": {},
   "outputs": [],
   "source": [
    "import mdtraj as md\n",
    "\n",
    "traj = md.load(traj_path, top=top_path)\n",
    "\n",
    "# Compute the secondary structure of the trajectory\n",
    "dssp_final = md.compute_dssp(traj[-1], simplified=True)\n",
    "dssp_initial = md.compute_dssp(traj[0], simplified=True)\n",
    "\n",
    "print(\"Number of initial sheets: \",len([i for i in dssp_initial[0] if i == 'E']))\n",
    "print(\"Number of initial helices: \",len([i for i in dssp_initial[0] if i == 'H']))\n",
    "print(\"Number of initial coils: \",len([i for i in dssp_initial[0] if i == 'C']))\n",
    "\n",
    "print(\"Number of final sheets: \",len([i for i in dssp_final[0] if i == 'E']))\n",
    "print(\"Number of final helices: \",len([i for i in dssp_final[0] if i == 'H']))\n",
    "print(\"Number of final coils: \",len([i for i in dssp_final[0] if i == 'C']))"
   ]
  },
  {
   "cell_type": "markdown",
   "metadata": {},
   "source": [
    "# Experiment Result: ✅❌\n",
    "\n",
    "### Completed without Exception or TimeOut Errors ❌ (didn't finish)\n",
    "### Attempted all necessary steps ❌\n",
    "### Completed without Hallucination ✅\n",
    "### Logic make sense ✅\n",
    "### Correct Answer ❌"
   ]
  }
 ],
 "metadata": {
  "kernelspec": {
   "display_name": "mdagent",
   "language": "python",
   "name": "mdagent"
  },
  "language_info": {
   "codemirror_mode": {
    "name": "ipython",
    "version": 3
   },
   "file_extension": ".py",
   "mimetype": "text/x-python",
   "name": "python",
   "nbconvert_exporter": "python",
   "pygments_lexer": "ipython3",
   "version": "3.12.4"
  }
 },
 "nbformat": 4,
 "nbformat_minor": 4
}
