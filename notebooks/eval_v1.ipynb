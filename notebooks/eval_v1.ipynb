{
 "cells": [
  {
   "cell_type": "code",
   "execution_count": 1,
   "metadata": {},
   "outputs": [
    {
     "name": "stderr",
     "output_type": "stream",
     "text": [
      "/opt/anaconda3/envs/mdagent/lib/python3.11/site-packages/tqdm/auto.py:21: TqdmWarning: IProgress not found. Please update jupyter and ipywidgets. See https://ipywidgets.readthedocs.io/en/stable/user_install.html\n",
      "  from .autonotebook import tqdm as notebook_tqdm\n"
     ]
    },
    {
     "name": "stdout",
     "output_type": "stream",
     "text": [
      "Failed to structure query, attempt 1/3. Retrying...\n",
      "'Data Retrieval' is not a valid Task_type (\"'Data Retrieval' is not a valid Task_type\",)\n",
      "Failed to structure query, attempt 2/3. Retrying...\n",
      "'Data Retrieval' is not a valid Task_type (\"'Data Retrieval' is not a valid Task_type\",)\n",
      "Failed to structure query, attempt 3/3. Retrying...\n",
      "'Data Retrieval' is not a valid Task_type (\"'Data Retrieval' is not a valid Task_type\",)\n",
      "Failed to structure query after 3 attempts.Input will be used as is.\n",
      "Thought: The task involves downloading and visualizing fibronectin, which requires obtaining the corresponding PDB file and then creating a visualization of it. I should start by downloading the fibronectin PDB file.\n",
      "\n",
      "Action: PDBFileDownloader\n",
      "Action Input: {\"query\": \"fibronectin\"}\n",
      "\n",
      "Run ID: 5bb58019-4a67-4f07-bb31-1ea2def60db7\n",
      "\n",
      "----- Evaluation Summary -----\n",
      "Total Steps: 1\n",
      "Total Time: 6.26 seconds (0.10 minutes)\n"
     ]
    }
   ],
   "source": [
    "from mdagent import MDAgent\n",
    "from mdagent.utils.evaluate import Evaluator\n",
    "\n",
    "agent = MDAgent(\n",
    "    agent_type='Structured',\n",
    "    model = 'gpt-3.5-turbo',\n",
    "    tools_model = 'gpt-3.5-turbo',\n",
    "    subagents_model='gpt-3.5-turbo',\n",
    ")\n",
    "prompt = 'Download and visualize fibronectin.'\n",
    "\n",
    "evaluator = Evaluator()\n",
    "\n",
    "summary = evaluator._evaluate_all_steps(agent, prompt)"
   ]
  }
 ],
 "metadata": {
  "kernelspec": {
   "display_name": "mdagent",
   "language": "python",
   "name": "mdagent"
  },
  "language_info": {
   "codemirror_mode": {
    "name": "ipython",
    "version": 3
   },
   "file_extension": ".py",
   "mimetype": "text/x-python",
   "name": "python",
   "nbconvert_exporter": "python",
   "pygments_lexer": "ipython3",
   "version": "3.11.8"
  }
 },
 "nbformat": 4,
 "nbformat_minor": 2
}
