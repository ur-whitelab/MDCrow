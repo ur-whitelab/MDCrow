{
 "cells": [
  {
   "cell_type": "code",
   "execution_count": 2,
   "id": "01566e17",
   "metadata": {},
   "outputs": [],
   "source": [
    "import os\n",
    "#API keys\n",
    "os.environ[\"OPENAI_API_KEY\"] = \"<YOUR_API_KEY_HERE>\"\n",
    "os.environ[\"SEMANTIC_API_KEY\"] = \"<YOUR_API_KEY_HERE>\"\n",
    "os.environ[\"PQA_API_KEY\"]=\"<YOUR_API_KEY_HERE>\""
   ]
  },
  {
   "cell_type": "code",
   "execution_count": null,
   "id": "a2f9ada0",
   "metadata": {},
   "outputs": [],
   "source": [
    "from mdagent.agent import MDAgent\n",
    "mkrl = MDAgent()"
   ]
  },
  {
   "cell_type": "code",
   "execution_count": null,
   "id": "baf04ab0",
   "metadata": {},
   "outputs": [],
   "source": [
    "pdb_prompt = \"I want a PDB file for fibronectin.\"\n",
    "print(prompt)"
   ]
  },
  {
   "cell_type": "code",
   "execution_count": null,
   "id": "7f9550bf",
   "metadata": {},
   "outputs": [],
   "source": [
    "result = mrkl.run(pdb_prompt)"
   ]
  }
 ],
 "metadata": {
  "kernelspec": {
   "display_name": "Python [conda env:mdagent] *",
   "language": "python",
   "name": "conda-env-mdagent-py"
  },
  "language_info": {
   "codemirror_mode": {
    "name": "ipython",
    "version": 3
   },
   "file_extension": ".py",
   "mimetype": "text/x-python",
   "name": "python",
   "nbconvert_exporter": "python",
   "pygments_lexer": "ipython3",
   "version": "3.11.4"
  }
 },
 "nbformat": 4,
 "nbformat_minor": 5
}
