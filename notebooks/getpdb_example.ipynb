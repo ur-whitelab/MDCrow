{
 "cells": [
  {
   "cell_type": "code",
   "execution_count": null,
   "id": "b5a37fd9",
   "metadata": {},
   "outputs": [],
   "source": [
    "from dotenv import load_dotenv\n",
    "\n",
    "load_dotenv()"
   ]
  },
  {
   "cell_type": "code",
   "execution_count": 4,
   "id": "a2f9ada0",
   "metadata": {},
   "outputs": [],
   "source": [
    "from mdagent.agent import MDAgent\n",
    "mrkl = MDAgent()"
   ]
  },
  {
   "cell_type": "code",
   "execution_count": 5,
   "id": "baf04ab0",
   "metadata": {},
   "outputs": [
    {
     "name": "stdout",
     "output_type": "stream",
     "text": [
      "Download the PDB file for fibronectin and map it to the name fibronectin so I can access it later.\n"
     ]
    }
   ],
   "source": [
    "pdb_prompt = \"Download the PDB file for fibronectin and map it to the name fibronectin so I can access it later.\"\n",
    "print(pdb_prompt)"
   ]
  },
  {
   "cell_type": "code",
   "execution_count": 6,
   "id": "7f9550bf",
   "metadata": {},
   "outputs": [
    {
     "name": "stdout",
     "output_type": "stream",
     "text": [
      "\n",
      "\n",
      "\u001b[1m> Entering new RetryAgentExecutor chain...\u001b[0m\n",
      "The user wants to download the PDB file for fibronectin and map it to the name fibronectin for future access. The most specific tool for this task is the PDBFileDownloader. After downloading the file, I will use the MapPath2Name tool to map the downloaded file to the name \"fibronectin\".\n",
      "\n",
      "Action: PDBFileDownloader\n",
      "Action Input: fibronectin\u001b[32;1m\u001b[1;3mThe user wants to download the PDB file for fibronectin and map it to the name fibronectin for future access. The most specific tool for this task is the PDBFileDownloader. After downloading the file, I will use the MapPath2Name tool to map the downloaded file to the name \"fibronectin\".\n",
      "\n",
      "Action: PDBFileDownloader\n",
      "Action Input: fibronectin\u001b[0m\n",
      "Observation: \u001b[36;1m\u001b[1;3mName2PDB tool successfully downloaded the PDB file: 1X3D.cif\u001b[0m\n",
      "Thought:The PDB file for fibronectin has been downloaded successfully. Now, I need to map this file to the name \"fibronectin\" for easy access in the future. I will use the MapPath2Name tool for this.\n",
      "\n",
      "Action: MapPath2Name\n",
      "Action Input: fibronectin,1X3D.cif\u001b[32;1m\u001b[1;3mThe PDB file for fibronectin has been downloaded successfully. Now, I need to map this file to the name \"fibronectin\" for easy access in the future. I will use the MapPath2Name tool for this.\n",
      "\n",
      "Action: MapPath2Name\n",
      "Action Input: fibronectin,1X3D.cif\u001b[0m\n",
      "Observation: \u001b[33;1m\u001b[1;3mPath successfully mapped to name: fibronectin\u001b[0m\n",
      "Thought:Final Answer: The PDB file for fibronectin has been successfully downloaded and mapped to the name \"fibronectin\". You can now access it using this name.\u001b[32;1m\u001b[1;3mFinal Answer: The PDB file for fibronectin has been successfully downloaded and mapped to the name \"fibronectin\". You can now access it using this name.\u001b[0m\n",
      "\n",
      "\u001b[1m> Finished chain.\u001b[0m\n"
     ]
    }
   ],
   "source": [
    "result = mrkl.run(pdb_prompt)"
   ]
  },
  {
   "cell_type": "code",
   "execution_count": 8,
   "id": "c2605c5c",
   "metadata": {},
   "outputs": [
    {
     "name": "stdout",
     "output_type": "stream",
     "text": [
      "1X3D.cif\r\n"
     ]
    }
   ],
   "source": [
    "%ls *.cif"
   ]
  },
  {
   "cell_type": "code",
   "execution_count": null,
   "id": "8f41c787",
   "metadata": {},
   "outputs": [],
   "source": []
  }
 ],
 "metadata": {
  "kernelspec": {
   "display_name": "mem_jul31",
   "language": "python",
   "name": "mem_jul31"
  },
  "language_info": {
   "codemirror_mode": {
    "name": "ipython",
    "version": 3
   },
   "file_extension": ".py",
   "mimetype": "text/x-python",
   "name": "python",
   "nbconvert_exporter": "python",
   "pygments_lexer": "ipython3",
   "version": "3.11.4"
  }
 },
 "nbformat": 4,
 "nbformat_minor": 5
}
