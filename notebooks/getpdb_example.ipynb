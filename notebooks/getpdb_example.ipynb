{
 "cells": [
  {
   "cell_type": "code",
   "execution_count": 1,
   "id": "b5a37fd9",
   "metadata": {},
   "outputs": [
    {
     "data": {
      "text/plain": [
       "True"
      ]
     },
     "execution_count": 1,
     "metadata": {},
     "output_type": "execute_result"
    }
   ],
   "source": [
    "from dotenv import load_dotenv\n",
    "\n",
    "load_dotenv()"
   ]
  },
  {
   "cell_type": "code",
   "execution_count": 2,
   "id": "a2f9ada0",
   "metadata": {},
   "outputs": [],
   "source": [
    "from mdagent.agent import MDAgent\n",
    "mrkl = MDAgent()"
   ]
  },
  {
   "cell_type": "code",
   "execution_count": 3,
   "id": "baf04ab0",
   "metadata": {},
   "outputs": [
    {
     "name": "stdout",
     "output_type": "stream",
     "text": [
      "Download the PDB file for fibronectin.\n"
     ]
    }
   ],
   "source": [
    "pdb_prompt = \"Download the PDB file for fibronectin.\"\n",
    "print(pdb_prompt)"
   ]
  },
  {
   "cell_type": "code",
   "execution_count": 4,
   "id": "7f9550bf",
   "metadata": {},
   "outputs": [
    {
     "name": "stdout",
     "output_type": "stream",
     "text": [
      "\n",
      "\n",
      "\u001b[1m> Entering new RetryAgentExecutor chain...\u001b[0m\n",
      "Action: PDBFileDownloader\n",
      "Action Input: fibronectin\u001b[32;1m\u001b[1;3mAction: PDBFileDownloader\n",
      "Action Input: fibronectin\u001b[0mPDB file found for fibronectin: 1X3D\n",
      "1X3D.cif is created\n",
      "\n",
      "Observation: \u001b[33;1m\u001b[1;3mName2PDB tool successfully downloaded the PDB file: 1X3D.cif\u001b[0m\n",
      "Thought:Action: Final Answer\n",
      "Final Answer: The PDB file for fibronectin can be downloaded using the commercial name \"fibronectin\" with the PDBFileDownloader tool. The downloaded file is named 1X3D.cif.\u001b[32;1m\u001b[1;3mAction: Final Answer\n",
      "Final Answer: The PDB file for fibronectin can be downloaded using the commercial name \"fibronectin\" with the PDBFileDownloader tool. The downloaded file is named 1X3D.cif.\u001b[0m\n",
      "\n",
      "\u001b[1m> Finished chain.\u001b[0m\n"
     ]
    }
   ],
   "source": [
    "result = mrkl.run(pdb_prompt)"
   ]
  },
  {
   "cell_type": "code",
   "execution_count": 5,
   "id": "c2605c5c",
   "metadata": {},
   "outputs": [
    {
     "name": "stdout",
     "output_type": "stream",
     "text": [
      "1X3D.cif  7WC0.cif\r\n"
     ]
    }
   ],
   "source": [
    "%ls *.cif"
   ]
  },
  {
   "cell_type": "code",
   "execution_count": null,
   "id": "c2c39cac",
   "metadata": {},
   "outputs": [],
   "source": []
  }
 ],
 "metadata": {
  "kernelspec": {
   "display_name": "mdagent",
   "language": "python",
   "name": "mdagent"
  },
  "language_info": {
   "codemirror_mode": {
    "name": "ipython",
    "version": 3
   },
   "file_extension": ".py",
   "mimetype": "text/x-python",
   "name": "python",
   "nbconvert_exporter": "python",
   "pygments_lexer": "ipython3",
   "version": "3.10.11"
  }
 },
 "nbformat": 4,
 "nbformat_minor": 5
}
