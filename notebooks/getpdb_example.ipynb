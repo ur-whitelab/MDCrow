{
 "cells": [
  {
   "cell_type": "code",
   "execution_count": null,
   "id": "b5a37fd9",
   "metadata": {},
   "outputs": [],
   "source": [
    "from dotenv import load_dotenv\n",
    "\n",
    "load_dotenv()"
   ]
  },
  {
   "cell_type": "code",
   "execution_count": 2,
   "id": "a2f9ada0",
   "metadata": {},
   "outputs": [],
   "source": [
    "from mdagent.agent import MDAgent\n",
    "mrkl = MDAgent()"
   ]
  },
  {
   "cell_type": "code",
   "execution_count": 3,
   "id": "baf04ab0",
   "metadata": {},
   "outputs": [
    {
     "name": "stdout",
     "output_type": "stream",
     "text": [
      "Download the PDB file for fibronectin and map it to the name fibronectin so I can access it later.\n"
     ]
    }
   ],
   "source": [
    "pdb_prompt = \"Download the PDB file for fibronectin and map it to the name fibronectin so I can access it later.\"\n",
    "print(pdb_prompt)"
   ]
  },
  {
   "cell_type": "code",
   "execution_count": null,
   "id": "7f9550bf",
   "metadata": {},
   "outputs": [],
   "source": [
    "result = mrkl.run(pdb_prompt)"
   ]
  },
  {
   "cell_type": "code",
   "execution_count": null,
   "id": "c2605c5c",
   "metadata": {},
   "outputs": [],
   "source": [
    "%ls *.cif"
   ]
  }
 ],
 "metadata": {
  "kernelspec": {
   "display_name": "mdagent",
   "language": "python",
   "name": "mdagent"
  },
  "language_info": {
   "codemirror_mode": {
    "name": "ipython",
    "version": 3
   },
   "file_extension": ".py",
   "mimetype": "text/x-python",
   "name": "python",
   "nbconvert_exporter": "python",
   "pygments_lexer": "ipython3",
   "version": "3.10.11"
  }
 },
 "nbformat": 4,
 "nbformat_minor": 5
}
