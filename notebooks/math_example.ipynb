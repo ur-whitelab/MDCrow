{
 "cells": [
  {
   "cell_type": "code",
   "execution_count": 1,
   "id": "8bfae7f4",
   "metadata": {},
   "outputs": [
    {
     "name": "stdout",
     "output_type": "stream",
     "text": [
      "What is 13 raised to the .3432 power?\n"
     ]
    }
   ],
   "source": [
    "math_task = \"What is 13 raised to the .3432 power?\"\n",
    "print(math_task)"
   ]
  },
  {
   "cell_type": "code",
   "execution_count": 2,
   "id": "f9769a01",
   "metadata": {
    "scrolled": true
   },
   "outputs": [
    {
     "name": "stdout",
     "output_type": "stream",
     "text": [
      "\n",
      "\n",
      "\u001b[1m> Entering new RetryAgentExecutor chain...\u001b[0m\n",
      "I can use the Python REPL to calculate the result of 13 raised to the power of 0.3432.\n",
      "\n",
      "Action: Python REPL\n",
      "Action Input: `print(13 ** 0.3432)`\u001b[32;1m\u001b[1;3mI can use the Python REPL to calculate the result of 13 raised to the power of 0.3432.\n",
      "\n",
      "Action: Python REPL\n",
      "Action Input: `print(13 ** 0.3432)`\u001b[0m\n",
      "Observation: \u001b[36;1m\u001b[1;3m2.4116004626599237\n",
      "\u001b[0m\n",
      "Thought:Final Answer: The result of 13 raised to the power of 0.3432 is approximately 2.4116.\u001b[32;1m\u001b[1;3mFinal Answer: The result of 13 raised to the power of 0.3432 is approximately 2.4116.\u001b[0m\n",
      "\n",
      "\u001b[1m> Finished chain.\u001b[0m\n"
     ]
    }
   ],
   "source": [
    "from mdagent.agent import MDAgent\n",
    "\n",
    "mkrl = MDAgent()\n",
    "result = mkrl.run(math_task)"
   ]
  }
 ],
 "metadata": {
  "kernelspec": {
   "display_name": "mdagent",
   "language": "python",
   "name": "mdagent"
  },
  "language_info": {
   "codemirror_mode": {
    "name": "ipython",
    "version": 3
   },
   "file_extension": ".py",
   "mimetype": "text/x-python",
   "name": "python",
   "nbconvert_exporter": "python",
   "pygments_lexer": "ipython3",
   "version": "3.10.11"
  }
 },
 "nbformat": 4,
 "nbformat_minor": 5
}
