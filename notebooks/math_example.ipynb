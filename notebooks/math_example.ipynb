{
 "cells": [
  {
   "cell_type": "code",
   "execution_count": 1,
   "id": "11e7ded9",
   "metadata": {},
   "outputs": [],
   "source": [
    "import os\n",
    "#API keys\n",
    "os.environ[\"OPENAI_API_KEY\"] = \"<YOUR_API_KEY_HERE>\"\n",
    "os.environ[\"SEMANTIC_API_KEY\"] = \"<YOUR_API_KEY_HERE>\"\n",
    "os.environ[\"PQA_API_KEY\"]=\"<YOUR_API_KEY_HERE>\""
   ]
  },
  {
   "cell_type": "code",
   "execution_count": 2,
   "id": "0216631f",
   "metadata": {},
   "outputs": [],
   "source": [
    "from mdagent.agent import MDAgent, MDTools\n",
    "\n",
    "mdtools = MDTools()"
   ]
  },
  {
   "cell_type": "code",
   "execution_count": 3,
   "id": "8bfae7f4",
   "metadata": {},
   "outputs": [
    {
     "name": "stdout",
     "output_type": "stream",
     "text": [
      "What is 13 raised to the .3432 power?\n"
     ]
    }
   ],
   "source": [
    "math_task = \"What is 13 raised to the .3432 power?\"\n",
    "print(math_task)"
   ]
  },
  {
   "cell_type": "code",
   "execution_count": 4,
   "id": "f9769a01",
   "metadata": {},
   "outputs": [
    {
     "name": "stdout",
     "output_type": "stream",
     "text": [
      "\n",
      "\n",
      "\u001b[1m> Entering new RetryAgentExecutor chain...\u001b[0m\n",
      "\u001b[32;1m\u001b[1;3mThought: I need to calculate 13 raised to the 0.3432 power.\n",
      "Action: Calculator\n",
      "Action Input: 13 ** 0.3432\u001b[0m\n",
      "Observation: \u001b[36;1m\u001b[1;3mAnswer: 2.4116004626599237\u001b[0m\n",
      "Thought:\u001b[32;1m\u001b[1;3mFinal Answer: 2.4116004626599237\u001b[0m\n",
      "\n",
      "\u001b[1m> Finished chain.\u001b[0m\n"
     ]
    }
   ],
   "source": [
    "mrkl = MDAgent(\n",
    "    mdtools.all_tools,\n",
    "    model=\"gpt-4\",\n",
    "    temp=0.1,\n",
    ")\n",
    "result = mrkl.run(math_task)"
   ]
  }
 ],
 "metadata": {
  "kernelspec": {
   "display_name": "mdagent",
   "language": "python",
   "name": "mdagent"
  },
  "language_info": {
   "codemirror_mode": {
    "name": "ipython",
    "version": 3
   },
   "file_extension": ".py",
   "mimetype": "text/x-python",
   "name": "python",
   "nbconvert_exporter": "python",
   "pygments_lexer": "ipython3",
   "version": "3.10.11"
  }
 },
 "nbformat": 4,
 "nbformat_minor": 5
}
