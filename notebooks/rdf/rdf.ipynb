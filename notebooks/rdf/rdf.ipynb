{
 "cells": [
  {
   "cell_type": "code",
   "execution_count": null,
   "metadata": {},
   "outputs": [],
   "source": [
    "from mdagent import MDAgent\n",
    "agent = MDAgent(agent_type=\"Structured\",learn = False)"
   ]
  },
  {
   "cell_type": "code",
   "execution_count": null,
   "metadata": {},
   "outputs": [],
   "source": [
    "#Multi Prompt tasks\n",
    "\n",
    "proteins = [\n",
    "    '1A3N', \n",
    "            '1TRZ',\n",
    "            '1TUP',\n",
    "            '1BR1',\n",
    "            '1ATN',\n",
    "            '2RH1',\n",
    "            '1IGT',\n",
    "            '1PQ2',\n",
    "            '2TNF',\n",
    "            '1BO9',]\n",
    "\n",
    "prompt_template_1 = \"Simulate {protein} in water at 280K. Dont forget to clean the protein first\"\n",
    "\n",
    "prompt_template_2 = (\"You already have a simulation of {protein} in water at 280K. Please use the dcd records and topology\"\n",
    "                   \" files of the simulation to get the rdf between water and the protein.\" \n",
    "                    \"The records and topology are inside the files directory. The path registry has descriptions and ids of the files too.\")\n",
    "prompt_template = \"Calculate the radial distribution function of {protein} at 280K with water\"\n",
    "prompts_1 = [prompt_template_1.format(protein=protein) for protein in proteins]\n",
    "prompts_2 = [prompt_template_2.format(protein=protein) for protein in proteins]\n",
    "prompts = [prompt_template.format(protein=protein) for protein in proteins]\n",
    "print(prompts_1)"
   ]
  },
  {
   "cell_type": "code",
   "execution_count": null,
   "metadata": {},
   "outputs": [],
   "source": [
    "import traceback\n",
    "import sys\n",
    "import io\n",
    "# A context manager to capture stdout\n",
    "attempt = 1 #change this depending on the attempt\n",
    "class CaptureStdout:\n",
    "    def __enter__(self):\n",
    "        self._stdout = sys.stdout\n",
    "        sys.stdout = self._stringio = io.StringIO()\n",
    "        return self\n",
    "\n",
    "    def __exit__(self, *args):\n",
    "        sys.stdout = self._stdout\n",
    "\n",
    "    def get_value(self):\n",
    "        return self._stringio.getvalue()\n",
    "\n",
    "for i, (prompt,protein) in enumerate(zip(prompts_1,proteins)):\n",
    "    with CaptureStdout() as capture:\n",
    "        try:\n",
    "            agent.run(prompt)\n",
    "        except Exception as e:\n",
    "            print(e)\n",
    "            traceback.print_exc()\n",
    "        finally:\n",
    "            with open(f'Attempt_{attempt}_{protein}_MP1.txt', 'w') as f: #change this depending on the attempt or test\n",
    "                #write the prompt in the first line\n",
    "                f.write(\"Taking out subagents\\n\\n\")\n",
    "                f.write(\"Query from the user: \")\n",
    "                f.write(prompt+\"\\n\\n\")\n",
    "                #write the output of the cell in the second line\n",
    "                f.write(capture.get_value())"
   ]
  }
 ],
 "metadata": {
  "kernelspec": {
   "display_name": "TestingEnv",
   "language": "python",
   "name": "python3"
  },
  "language_info": {
   "codemirror_mode": {
    "name": "ipython",
    "version": 3
   },
   "file_extension": ".py",
   "mimetype": "text/x-python",
   "name": "python",
   "nbconvert_exporter": "python",
   "pygments_lexer": "ipython3",
   "version": "3.11.9"
  }
 },
 "nbformat": 4,
 "nbformat_minor": 2
}
