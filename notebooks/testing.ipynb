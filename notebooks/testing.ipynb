{
 "cells": [
  {
   "cell_type": "code",
   "execution_count": 1,
   "metadata": {},
   "outputs": [
    {
     "ename": "AttributeError",
     "evalue": "module 'rdkit.Chem' has no attribute 'AllChem'",
     "output_type": "error",
     "traceback": [
      "\u001b[0;31m---------------------------------------------------------------------------\u001b[0m",
      "\u001b[0;31mAttributeError\u001b[0m                            Traceback (most recent call last)",
      "Cell \u001b[0;32mIn[1], line 9\u001b[0m\n\u001b[1;32m      7\u001b[0m m\u001b[38;5;241m.\u001b[39mGetSubstructMatch(core)\n\u001b[1;32m      8\u001b[0m mh \u001b[38;5;241m=\u001b[39m Chem\u001b[38;5;241m.\u001b[39mAddHs(m)\n\u001b[0;32m----> 9\u001b[0m \u001b[43mChem\u001b[49m\u001b[38;5;241;43m.\u001b[39;49m\u001b[43mAllChem\u001b[49m\u001b[38;5;241m.\u001b[39mEmbedMolecule(mh)\n",
      "\u001b[0;31mAttributeError\u001b[0m: module 'rdkit.Chem' has no attribute 'AllChem'"
     ]
    }
   ],
   "source": [
    "from rdkit import Chem\n",
    "\n",
    "m = Chem.MolFromSmiles('C/C=C/CC(C)C(O)C1C(=O)NC(CC)C(=O)N(C)CC(=O)N(C)C(CC(C)C)C(=O)NC(C(C)C)C(=O)N(C)C(CC(C)C)C(=O)NC(C)C(=O)NC(C)C(=O)N(C)C(CC(C)C)C(=O)N(C)C(CC(C)C)C(=O)N(C)C(C(C)C)C(=O)N1C')\n",
    "Chem.Draw.rdDepictor.Compute2DCoords(m)\n",
    "\n",
    "core = Chem.MolFromSmiles('C1C(=O)NCC(=O)NCC(=O)NCC(=O)NCC(=O)NCC(=O)NCC(=O)NCC(=O)NCC(=O)NCC(=O)NCC(=O)N1')\n",
    "m.GetSubstructMatch(core)\n",
    "mh = Chem.AddHs(m)\n",
    "Chem.AllChem.EmbedMolecule(mh)"
   ]
  },
  {
   "cell_type": "code",
   "execution_count": 2,
   "metadata": {},
   "outputs": [],
   "source": [
    "from rdkit.Chem import AllChem"
   ]
  },
  {
   "cell_type": "code",
   "execution_count": null,
   "metadata": {},
   "outputs": [],
   "source": [
    "too_long_text = \"djiflsdioadfbsgkfleasdhfbuidskarhfguio\"\n",
    "\n",
    "# step 1: add ()\n",
    "# step 2: each string has its own \" \"\n",
    "\n",
    "split_lines_text = (\"djiflsdioadfbsgkfl\"\n",
    "                    \"easdhfbuidskarhfguio\")"
   ]
  }
 ],
 "metadata": {
  "kernelspec": {
   "display_name": "mdagent",
   "language": "python",
   "name": "python3"
  },
  "language_info": {
   "codemirror_mode": {
    "name": "ipython",
    "version": 3
   },
   "file_extension": ".py",
   "mimetype": "text/x-python",
   "name": "python",
   "nbconvert_exporter": "python",
   "pygments_lexer": "ipython3",
   "version": "3.11.8"
  }
 },
 "nbformat": 4,
 "nbformat_minor": 2
}
