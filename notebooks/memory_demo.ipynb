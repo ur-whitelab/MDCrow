{
 "cells": [
  {
   "cell_type": "code",
   "execution_count": 1,
   "metadata": {},
   "outputs": [
    {
     "name": "stderr",
     "output_type": "stream",
     "text": [
      "/Users/samcox/anaconda3/envs/mda_feb21/lib/python3.11/site-packages/tqdm/auto.py:21: TqdmWarning: IProgress not found. Please update jupyter and ipywidgets. See https://ipywidgets.readthedocs.io/en/stable/user_install.html\n",
      "  from .autonotebook import tqdm as notebook_tqdm\n"
     ]
    }
   ],
   "source": [
    "from mdagent import MDAgent"
   ]
  },
  {
   "cell_type": "code",
   "execution_count": 2,
   "metadata": {},
   "outputs": [],
   "source": [
    "agent = MDAgent(use_memory=True)"
   ]
  },
  {
   "cell_type": "code",
   "execution_count": 3,
   "metadata": {},
   "outputs": [
    {
     "name": "stderr",
     "output_type": "stream",
     "text": [
      "2024-04-16 21:45:12.710 \n",
      "  \u001b[33m\u001b[1mWarning:\u001b[0m to view this Streamlit app on a browser, run it with the following\n",
      "  command:\n",
      "\n",
      "    streamlit run /Users/samcox/anaconda3/envs/mda_feb21/lib/python3.11/site-packages/ipykernel_launcher.py [ARGUMENTS]\n"
     ]
    },
    {
     "name": "stdout",
     "output_type": "stream",
     "text": [
      "PDB file found with this ID: 5TFY\n",
      "No names found. The JSON file is empty or does not contain name mappings.\n",
      "The PDB file for fibronectin has been successfully downloaded. The file is identified as 5TFY in the Protein Data Bank. If you need to perform any operations or analyses on this file, please let me know how I can assist you further.Prompt: Download the PDB file for fibronectin (5TFY) from the Protein Data Bank.\n",
      "\n",
      "Step 1: Successfully download the PDB file for fibronectin, identified as 5TFY in the Protein Data Bank.\n",
      "\n",
      "Final Solution: The PDB file for fibronectin (5TFY) has been successfully downloaded and is ready for any further operations or analyses that may be needed. If assistance is required, please let me know.Your run id is:  ROK80DR6\n"
     ]
    },
    {
     "data": {
      "text/plain": [
       "'The PDB file for fibronectin has been successfully downloaded. The file is identified as 5TFY in the Protein Data Bank. If you need to perform any operations or analyses on this file, please let me know how I can assist you further.'"
      ]
     },
     "execution_count": 3,
     "metadata": {},
     "output_type": "execute_result"
    }
   ],
   "source": [
    "output, run_id_run1 = agent.run(\"Download the pdb file for fibronectin.\")\n",
    "output"
   ]
  },
  {
   "cell_type": "code",
   "execution_count": 4,
   "metadata": {},
   "outputs": [
    {
     "name": "stdout",
     "output_type": "stream",
     "text": [
      "PDB file found with this ID: 1NGK\n",
      "Names found in registry: 5TFY_214512\n",
      "The PDB file for hemoglobin has been successfully downloaded with the identifier 1NGK. What would you like to do next with the hemoglobin protein?The agent successfully downloaded the PDB file for hemoglobin with the identifier 1NGK. The next step would be to analyze the protein structure, possibly by visualizing it in a molecular modeling software or conducting further computational analysis. This could involve studying the protein's binding sites, interactions with other molecules, or potential drug targets. The final solution would depend on the specific goals and objectives of the agent in relation to the hemoglobin protein.Your run id is:  ROK80DR6\n"
     ]
    },
    {
     "data": {
      "text/plain": [
       "('The PDB file for hemoglobin has been successfully downloaded with the identifier 1NGK. What would you like to do next with the hemoglobin protein?',\n",
       " 'ROK80DR6')"
      ]
     },
     "execution_count": 4,
     "metadata": {},
     "output_type": "execute_result"
    }
   ],
   "source": [
    "#agent = MDAgent(use_memory=True, run_id=run_id_run1)\n",
    "\n",
    "prompt_with_mem = \"Now do the same for hemoglobin.\"\n",
    "\n",
    "agent.run(prompt_with_mem)"
   ]
  }
 ],
 "metadata": {
  "kernelspec": {
   "display_name": "mda",
   "language": "python",
   "name": "python3"
  },
  "language_info": {
   "codemirror_mode": {
    "name": "ipython",
    "version": 3
   },
   "file_extension": ".py",
   "mimetype": "text/x-python",
   "name": "python",
   "nbconvert_exporter": "python",
   "pygments_lexer": "ipython3",
   "version": "3.11.8"
  },
  "orig_nbformat": 4
 },
 "nbformat": 4,
 "nbformat_minor": 2
}
