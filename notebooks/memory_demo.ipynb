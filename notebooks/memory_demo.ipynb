{
 "cells": [
  {
   "cell_type": "code",
   "execution_count": 1,
   "metadata": {},
   "outputs": [
    {
     "name": "stderr",
     "output_type": "stream",
     "text": [
      "/Users/samcox/anaconda3/envs/mda_feb21/lib/python3.11/site-packages/tqdm/auto.py:21: TqdmWarning: IProgress not found. Please update jupyter and ipywidgets. See https://ipywidgets.readthedocs.io/en/stable/user_install.html\n",
      "  from .autonotebook import tqdm as notebook_tqdm\n"
     ]
    }
   ],
   "source": [
    "from mdagent import MDAgent"
   ]
  },
  {
   "cell_type": "code",
   "execution_count": 2,
   "metadata": {},
   "outputs": [],
   "source": [
    "agent = MDAgent(use_memory=True)"
   ]
  },
  {
   "cell_type": "code",
   "execution_count": 3,
   "metadata": {},
   "outputs": [
    {
     "name": "stdout",
     "output_type": "stream",
     "text": [
      "\"Masks COVID-19 transmission reduction scholarly articles\"\n",
      "Search: \"Masks COVID-19 transmission reduction scholarly articles\"\n",
      "\n",
      "Found 17 papers\n",
      "Yes, there are studies that show that the use of masks can reduce the spread of COVID-19. A systematic review and meta-analysis that included 10 studies focused on the impact of face mask usage on COVID-19 transmission found evidence supporting the efficacy of mask-wearing in preventing the virus's spread. Specifically, one study within this analysis by Bae et al. evaluated the effectiveness of surgical and cotton masks. The review used statistical measures such as relative risk (RR) and pooled mean effect size (ES) to determine the significance of the results.\n",
      "\n",
      "Additionally, an article by Maged et al. suggested using an SEIR model to assess how face masks can mitigate COVID-19 transmission. These studies provide scientific evidence that supports the use of masks as a measure to reduce the transmission of COVID-19.\n",
      "\n",
      "References:\n",
      "\n",
      "1. Majidi, S., Feizi, A., & Hajizadeh, Y. (2022). The effect of face mask, air temperature, and humidity on COVID-19 transmission: a systematic review and meta-analysis. Health Scope.\n",
      "\n",
      "2. Maged, A., Ahmed, A., Haridy, S., Baker, A., & Xie, M. (2022). SEIR model to address the impact of face masks amid COVID-19 pandemic. Risk Analysis.The agent's attempts to solve the problem of reducing the spread of COVID-19 through the use of masks involved conducting a systematic review and meta-analysis of existing studies. The review included 10 studies that focused on the impact of face mask usage on COVID-19 transmission. One study by Bae et al. specifically evaluated the effectiveness of surgical and cotton masks using statistical measures like relative risk and pooled mean effect size.\n",
      "\n",
      "In addition, an article by Majidi et al. suggested using an SEIR model to assess how face masks can mitigate COVID-19 transmission. These studies provided scientific evidence supporting the efficacy of mask-wearing in preventing the spread of the virus.\n",
      "\n",
      "Ultimately, the agent's efforts culminated in the conclusion that the use of masks can indeed reduce the transmission of COVID-19, as supported by the findings of the systematic review and meta-analysis. The agent's thorough examination of existing research contributed to the understanding of the importance of mask-wearing as a measure to combat the spread of the virus.Your run id is:  5DTMITEQ\n"
     ]
    },
    {
     "data": {
      "text/plain": [
       "\"Yes, there are studies that show that the use of masks can reduce the spread of COVID-19. A systematic review and meta-analysis that included 10 studies focused on the impact of face mask usage on COVID-19 transmission found evidence supporting the efficacy of mask-wearing in preventing the virus's spread. Specifically, one study within this analysis by Bae et al. evaluated the effectiveness of surgical and cotton masks. The review used statistical measures such as relative risk (RR) and pooled mean effect size (ES) to determine the significance of the results.\\n\\nAdditionally, an article by Maged et al. suggested using an SEIR model to assess how face masks can mitigate COVID-19 transmission. These studies provide scientific evidence that supports the use of masks as a measure to reduce the transmission of COVID-19.\\n\\nReferences:\\n\\n1. Majidi, S., Feizi, A., & Hajizadeh, Y. (2022). The effect of face mask, air temperature, and humidity on COVID-19 transmission: a systematic review and meta-analysis. Health Scope.\\n\\n2. Maged, A., Ahmed, A., Haridy, S., Baker, A., & Xie, M. (2022). SEIR model to address the impact of face masks amid COVID-19 pandemic. Risk Analysis.\""
      ]
     },
     "execution_count": 3,
     "metadata": {},
     "output_type": "execute_result"
    }
   ],
   "source": [
    "output, run_id_run1 = agent.run(\"Answer the question: Are there any studies that show that the use of a mask can reduce the spread of COVID-19?\")\n",
    "output"
   ]
  },
  {
   "cell_type": "code",
   "execution_count": 4,
   "metadata": {},
   "outputs": [
    {
     "data": {
      "text/plain": [
       "'5DTMITEQ'"
      ]
     },
     "execution_count": 4,
     "metadata": {},
     "output_type": "execute_result"
    }
   ],
   "source": [
    "run_id_run1"
   ]
  },
  {
   "cell_type": "code",
   "execution_count": 5,
   "metadata": {},
   "outputs": [
    {
     "name": "stdout",
     "output_type": "stream",
     "text": [
      "\"face masks influenza transmission effectiveness scholarly\"\n",
      "Search: \"face masks influenza transmission effectiveness scholarly\"\n",
      "\n",
      "Found 16 papers\n",
      "Similar findings have been reported for the effectiveness of face masks in reducing the transmission of influenza, although the results are not as clear-cut as for COVID-19. According to a study referenced in Jefferson2020, surgical masks were found to be non-inferior to N95 respirators for preventing influenza infection among healthcare workers, with no significant differences in laboratory-confirmed influenza cases between the two groups. However, a systematic review and meta-analysis indicated that face masks alone did not significantly interrupt the spread of influenza-like illnesses or influenza in the general population. Additionally, the use of N95 respirators compared to no masks did not show a significant statistical difference in preventing influenza transmission.\n",
      "\n",
      "These findings suggest that while masks may provide some level of protection against influenza transmission, especially in healthcare settings, their effectiveness in the general population is less certain. It is important to note that the context and conditions under which masks are used can influence their efficacy, and other preventive measures alongside mask-wearing may be necessary to effectively reduce the spread of influenza.The agent's attempts to solve the problem of reducing influenza transmission through the use of face masks involved referencing a study that found surgical masks to be non-inferior to N95 respirators in preventing influenza among healthcare workers. However, a systematic review and meta-analysis indicated that face masks alone did not significantly interrupt the spread of influenza-like illnesses or influenza in the general population. The use of N95 respirators compared to no masks also did not show a significant statistical difference in preventing influenza transmission.\n",
      "\n",
      "Ultimately, the agent concluded that while masks may offer some level of protection against influenza transmission, especially in healthcare settings, their effectiveness in the general population is uncertain. The context and conditions under which masks are used can impact their efficacy, and additional preventive measures may be necessary to effectively reduce the spread of influenza.Your run id is:  5DTMITEQ\n"
     ]
    },
    {
     "data": {
      "text/plain": [
       "('Similar findings have been reported for the effectiveness of face masks in reducing the transmission of influenza, although the results are not as clear-cut as for COVID-19. According to a study referenced in Jefferson2020, surgical masks were found to be non-inferior to N95 respirators for preventing influenza infection among healthcare workers, with no significant differences in laboratory-confirmed influenza cases between the two groups. However, a systematic review and meta-analysis indicated that face masks alone did not significantly interrupt the spread of influenza-like illnesses or influenza in the general population. Additionally, the use of N95 respirators compared to no masks did not show a significant statistical difference in preventing influenza transmission.\\n\\nThese findings suggest that while masks may provide some level of protection against influenza transmission, especially in healthcare settings, their effectiveness in the general population is less certain. It is important to note that the context and conditions under which masks are used can influence their efficacy, and other preventive measures alongside mask-wearing may be necessary to effectively reduce the spread of influenza.',\n",
       " '5DTMITEQ')"
      ]
     },
     "execution_count": 5,
     "metadata": {},
     "output_type": "execute_result"
    }
   ],
   "source": [
    "agent = MDAgent(use_memory=True, run_id=run_id_run1)\n",
    "\n",
    "prompt_with_mem = \"Have similar findings been reported for the flu?\"\n",
    "\n",
    "agent.run(prompt_with_mem)"
   ]
  }
 ],
 "metadata": {
  "kernelspec": {
   "display_name": "mda",
   "language": "python",
   "name": "python3"
  },
  "language_info": {
   "codemirror_mode": {
    "name": "ipython",
    "version": 3
   },
   "file_extension": ".py",
   "mimetype": "text/x-python",
   "name": "python",
   "nbconvert_exporter": "python",
   "pygments_lexer": "ipython3",
   "version": "3.11.8"
  },
  "orig_nbformat": 4
 },
 "nbformat": 4,
 "nbformat_minor": 2
}
