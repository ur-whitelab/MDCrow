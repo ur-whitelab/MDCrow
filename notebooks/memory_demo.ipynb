{
 "cells": [
  {
   "cell_type": "code",
   "execution_count": 1,
   "metadata": {},
   "outputs": [
    {
     "name": "stderr",
     "output_type": "stream",
     "text": [
      "/Users/samcox/anaconda3/envs/mda_feb21/lib/python3.11/site-packages/tqdm/auto.py:21: TqdmWarning: IProgress not found. Please update jupyter and ipywidgets. See https://ipywidgets.readthedocs.io/en/stable/user_install.html\n",
      "  from .autonotebook import tqdm as notebook_tqdm\n"
     ]
    }
   ],
   "source": [
    "from mdagent import MDAgent"
   ]
  },
  {
   "cell_type": "code",
   "execution_count": 2,
   "metadata": {},
   "outputs": [],
   "source": [
    "agent = MDAgent(use_memory=True)"
   ]
  },
  {
   "cell_type": "code",
   "execution_count": 4,
   "metadata": {},
   "outputs": [
    {
     "name": "stderr",
     "output_type": "stream",
     "text": [
      "2024-04-16 21:39:01.503 \n",
      "  \u001b[33m\u001b[1mWarning:\u001b[0m to view this Streamlit app on a browser, run it with the following\n",
      "  command:\n",
      "\n",
      "    streamlit run /Users/samcox/anaconda3/envs/mda_feb21/lib/python3.11/site-packages/ipykernel_launcher.py [ARGUMENTS]\n"
     ]
    },
    {
     "name": "stdout",
     "output_type": "stream",
     "text": [
      "PDB file found with this ID: 5TFY\n",
      "No names found. The JSON file is empty or does not contain name mappings.\n",
      "The PDB file for fibronectin has been successfully downloaded with the identifier 5TFY. You can now use this file for further analysis or simulations. If you need to perform specific tasks with this PDB file, please let me know how I can assist you further.Prompt: Download the PDB file for fibronectin with the identifier 5TFY.\n",
      "\n",
      "Step 1: The agent successfully downloads the PDB file for fibronectin with the identifier 5TFY.\n",
      "\n",
      "Final Solution: The PDB file for fibronectin with the identifier 5TFY has been successfully downloaded and can now be used for further analysis or simulations. If the agent needs assistance with specific tasks related to this PDB file, they can reach out for further support.Your run id is:  J4ELVTIE\n"
     ]
    },
    {
     "data": {
      "text/plain": [
       "'The PDB file for fibronectin has been successfully downloaded with the identifier 5TFY. You can now use this file for further analysis or simulations. If you need to perform specific tasks with this PDB file, please let me know how I can assist you further.'"
      ]
     },
     "execution_count": 4,
     "metadata": {},
     "output_type": "execute_result"
    }
   ],
   "source": [
    "output, run_id_run1 = agent.run(\"Download the pdb file for fibronectin.\")\n",
    "output"
   ]
  },
  {
   "cell_type": "code",
   "execution_count": 5,
   "metadata": {},
   "outputs": [
    {
     "data": {
      "text/plain": [
       "'J4ELVTIE'"
      ]
     },
     "execution_count": 5,
     "metadata": {},
     "output_type": "execute_result"
    }
   ],
   "source": [
    "run_id_run1"
   ]
  },
  {
   "cell_type": "code",
   "execution_count": 6,
   "metadata": {},
   "outputs": [
    {
     "name": "stdout",
     "output_type": "stream",
     "text": [
      "PDB file found with this ID: 1NGK\n",
      "No names found. The JSON file is empty or does not contain name mappings.\n",
      "The PDB file for hemoglobin has been successfully downloaded with the ID 1NGK. If you need further analysis or simulations with this hemoglobin protein, please let me know what specific tasks you would like to perform.Prompt: Download the PDB file for hemoglobin with the ID 1NGK.\n",
      "\n",
      "Step 1: Successfully download the PDB file for hemoglobin with the ID 1NGK.\n",
      "\n",
      "Final Solution: The PDB file for hemoglobin with the ID 1NGK has been successfully downloaded. If further analysis or simulations are needed with this protein, please specify the tasks to be performed.Your run id is:  J4ELVTIE\n"
     ]
    },
    {
     "data": {
      "text/plain": [
       "('The PDB file for hemoglobin has been successfully downloaded with the ID 1NGK. If you need further analysis or simulations with this hemoglobin protein, please let me know what specific tasks you would like to perform.',\n",
       " 'J4ELVTIE')"
      ]
     },
     "execution_count": 6,
     "metadata": {},
     "output_type": "execute_result"
    }
   ],
   "source": [
    "agent = MDAgent(use_memory=True, run_id=run_id_run1)\n",
    "\n",
    "prompt_with_mem = \"Now do the same for hemoglobin.\"\n",
    "\n",
    "agent.run(prompt_with_mem)"
   ]
  }
 ],
 "metadata": {
  "kernelspec": {
   "display_name": "mda",
   "language": "python",
   "name": "python3"
  },
  "language_info": {
   "codemirror_mode": {
    "name": "ipython",
    "version": 3
   },
   "file_extension": ".py",
   "mimetype": "text/x-python",
   "name": "python",
   "nbconvert_exporter": "python",
   "pygments_lexer": "ipython3",
   "version": "3.11.8"
  },
  "orig_nbformat": 4
 },
 "nbformat": 4,
 "nbformat_minor": 2
}
