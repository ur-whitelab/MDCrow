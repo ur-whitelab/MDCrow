{
 "cells": [
  {
   "cell_type": "code",
   "execution_count": 1,
   "metadata": {},
   "outputs": [
    {
     "name": "stderr",
     "output_type": "stream",
     "text": [
      "/Users/samcox/anaconda3/envs/mda_feb21/lib/python3.11/site-packages/tqdm/auto.py:21: TqdmWarning: IProgress not found. Please update jupyter and ipywidgets. See https://ipywidgets.readthedocs.io/en/stable/user_install.html\n",
      "  from .autonotebook import tqdm as notebook_tqdm\n"
     ]
    }
   ],
   "source": [
    "from mdagent import MDAgent"
   ]
  },
  {
   "cell_type": "code",
   "execution_count": 3,
   "metadata": {},
   "outputs": [],
   "source": [
    "agent = MDAgent(use_memory=True)"
   ]
  },
  {
   "cell_type": "code",
   "execution_count": 4,
   "metadata": {},
   "outputs": [
    {
     "name": "stdout",
     "output_type": "stream",
     "text": [
      "\"COVID-19 mask efficacy transmission studies\"\n",
      "Search: \"COVID-19 mask efficacy transmission studies\"\n",
      "\n",
      "Found 17 papers\n",
      "Yes, there are studies that show that the use of masks can reduce the spread of COVID-19. For instance, Howard et al. conducted an evidence review that supports the efficacy of face masks against the virus. Brainard et al. discussed the benefits of communal face masks in preventing respiratory illnesses, including COVID-19. Camargo et al. considered the applicability of non-woven face masks for the general population, and Abaluck et al. performed a cluster-randomized trial in Bangladesh to empirically assess the effects of community masking on COVID-19 transmission.\n",
      "\n",
      "Furthermore, Smith et al. compared the effectiveness of N95 respirators to surgical masks for health care workers, and O’Kelly et al. examined enhancements in fabric face masks and their protective effects. There is also evidence suggesting that universal mask-wearing could prevent a significant number of deaths, as indicated by the mandates in certain U.S. states from early April. However, research on the ethnic diversity in mask adherence is limited, despite acknowledged racial variation in mask usage (Talic2021, Brittany2021).\n",
      "\n",
      "References:\n",
      "1. Talic et al. (2021). \"Effectiveness of public health measures in reducing the incidence of COVID-19, SARS-CoV-2 transmission, and COVID-19 mortality: systematic review and meta-analysis.\" The BMJ.\n",
      "2. Hearne and Niño (2021). \"Understanding how race, ethnicity, and gender shape mask-wearing adherence during the COVID-19 pandemic: evidence from the COVID impact survey.\" Journal of Racial and Ethnic Health Disparities, 9:176-183.Prompt: Investigate the effectiveness of mask-wearing in reducing the spread of COVID-19.\n",
      "\n",
      "Tools used:\n",
      "1. Evidence review by Howard et al.\n",
      "2. Study by Brainard et al.\n",
      "3. Study by Camargo et al.\n",
      "4. Cluster-randomized trial by Abaluck et al.\n",
      "5. Study comparing N95 respirators to surgical masks by Smith et al.\n",
      "6. Study on fabric face mask enhancements by O'Kelly et al.\n",
      "7. Meta-analysis by Talic et al.\n",
      "8. Study on mask-wearing adherence based on race and ethnicity by Hearne and Niño.\n",
      "\n",
      "Final solution:\n",
      "The agent's investigation into the effectiveness of mask-wearing in reducing the spread of COVID-19 involved reviewing multiple studies and trials that supported the efficacy of face masks in preventing respiratory illnesses, including COVID-19. The agent also considered the benefits of communal face masks, the applicability of non-woven face masks for the general population, and the effects of community masking on COVID-19 transmission. Additionally, the agent compared the effectiveness of N95 respirators to surgical masks and examined enhancements in fabric face masks. The agent found evidence suggesting that universal mask-wearing could prevent a significant number of deaths and highlighted the importance of considering racial and ethnic diversity in mask adherence.Your run id is:  F6IEOAY0\n"
     ]
    },
    {
     "data": {
      "text/plain": [
       "'Yes, there are studies that show that the use of masks can reduce the spread of COVID-19. For instance, Howard et al. conducted an evidence review that supports the efficacy of face masks against the virus. Brainard et al. discussed the benefits of communal face masks in preventing respiratory illnesses, including COVID-19. Camargo et al. considered the applicability of non-woven face masks for the general population, and Abaluck et al. performed a cluster-randomized trial in Bangladesh to empirically assess the effects of community masking on COVID-19 transmission.\\n\\nFurthermore, Smith et al. compared the effectiveness of N95 respirators to surgical masks for health care workers, and O’Kelly et al. examined enhancements in fabric face masks and their protective effects. There is also evidence suggesting that universal mask-wearing could prevent a significant number of deaths, as indicated by the mandates in certain U.S. states from early April. However, research on the ethnic diversity in mask adherence is limited, despite acknowledged racial variation in mask usage (Talic2021, Brittany2021).\\n\\nReferences:\\n1. Talic et al. (2021). \"Effectiveness of public health measures in reducing the incidence of COVID-19, SARS-CoV-2 transmission, and COVID-19 mortality: systematic review and meta-analysis.\" The BMJ.\\n2. Hearne and Niño (2021). \"Understanding how race, ethnicity, and gender shape mask-wearing adherence during the COVID-19 pandemic: evidence from the COVID impact survey.\" Journal of Racial and Ethnic Health Disparities, 9:176-183.'"
      ]
     },
     "execution_count": 4,
     "metadata": {},
     "output_type": "execute_result"
    }
   ],
   "source": [
    "output, run_id_run1 = agent.run(\"Answer the question: Are there any studies that show that the use of a mask can reduce the spread of COVID-19?\")\n",
    "output"
   ]
  },
  {
   "cell_type": "code",
   "execution_count": 5,
   "metadata": {},
   "outputs": [
    {
     "data": {
      "text/plain": [
       "'F6IEOAY0'"
      ]
     },
     "execution_count": 5,
     "metadata": {},
     "output_type": "execute_result"
    }
   ],
   "source": [
    "run_id_run1"
   ]
  },
  {
   "cell_type": "code",
   "execution_count": 6,
   "metadata": {},
   "outputs": [
    {
     "name": "stdout",
     "output_type": "stream",
     "text": [
      "\"Mask-wearing influenza transmission reduction scholarly articles.\"\n",
      "Search: \"Mask-wearing influenza transmission reduction scholarly articles.\"\n",
      "\n",
      "Found 16 papers\n",
      "Similar findings to the effectiveness of mask-wearing in reducing the spread of COVID-19 have been reported for influenza. A study by Brienen et al. indicated that mask use can significantly delay an influenza pandemic and potentially reduce the basic reproduction number to levels sufficient for outbreak containment by decreasing the infection risk through particle retention. Additionally, data from various regions show reductions in influenza positivity rates attributed to mask-wearing, with reductions of 19.8% in Northern China, 16.6% in Southern China, 13.3% in England, and 15.2% in the U.S. The timing of mask implementation is also crucial, as earlier use leads to a greater decline in cases.\n",
      "\n",
      "References:\n",
      "1. Brienen, N. C. J., Timen, A., Wallinga, J., van Steenbergen, J. V., & Teunis, P. (2010). The effect of mask use on the spread of influenza during a pandemic. Risk Analysis, 30(8), 1210-1218.\n",
      "2. Influenza’s plummeting and future dynamics: the roles of mask wearing, mobility change, and SARS-CoV-2 interference.Prompt: Investigate the effectiveness of mask-wearing in reducing the spread of influenza.\n",
      "\n",
      "Tools used:\n",
      "1. Study by Brienen et al. on the effect of mask use on the spread of influenza during a pandemic.\n",
      "2. Data from various regions showing reductions in influenza positivity rates attributed to mask-wearing.\n",
      "\n",
      "Final Solution:\n",
      "The history of the agent's attempts to solve the problem of reducing the spread of influenza through mask-wearing involved studying the findings of Brienen et al. and analyzing data from different regions. The research indicated that mask use can significantly delay an influenza pandemic, reduce the basic reproduction number, and decrease infection risk through particle retention. Implementing mask-wearing earlier led to a greater decline in cases. The final solution highlighted the importance of mask-wearing in reducing influenza positivity rates and potentially containing outbreaks.Your run id is:  F6IEOAY0\n"
     ]
    },
    {
     "data": {
      "text/plain": [
       "('Similar findings to the effectiveness of mask-wearing in reducing the spread of COVID-19 have been reported for influenza. A study by Brienen et al. indicated that mask use can significantly delay an influenza pandemic and potentially reduce the basic reproduction number to levels sufficient for outbreak containment by decreasing the infection risk through particle retention. Additionally, data from various regions show reductions in influenza positivity rates attributed to mask-wearing, with reductions of 19.8% in Northern China, 16.6% in Southern China, 13.3% in England, and 15.2% in the U.S. The timing of mask implementation is also crucial, as earlier use leads to a greater decline in cases.\\n\\nReferences:\\n1. Brienen, N. C. J., Timen, A., Wallinga, J., van Steenbergen, J. V., & Teunis, P. (2010). The effect of mask use on the spread of influenza during a pandemic. Risk Analysis, 30(8), 1210-1218.\\n2. Influenza’s plummeting and future dynamics: the roles of mask wearing, mobility change, and SARS-CoV-2 interference.',\n",
       " 'F6IEOAY0')"
      ]
     },
     "execution_count": 6,
     "metadata": {},
     "output_type": "execute_result"
    }
   ],
   "source": [
    "agent = MDAgent(use_memory=True, run_id=run_id_run1)\n",
    "\n",
    "prompt_with_mem = \"Have similar findings been reported for the flu?\"\n",
    "\n",
    "agent.run(prompt_with_mem)"
   ]
  }
 ],
 "metadata": {
  "kernelspec": {
   "display_name": "mda",
   "language": "python",
   "name": "python3"
  },
  "language_info": {
   "codemirror_mode": {
    "name": "ipython",
    "version": 3
   },
   "file_extension": ".py",
   "mimetype": "text/x-python",
   "name": "python",
   "nbconvert_exporter": "python",
   "pygments_lexer": "ipython3",
   "version": "3.11.8"
  },
  "orig_nbformat": 4
 },
 "nbformat": 4,
 "nbformat_minor": 2
}
