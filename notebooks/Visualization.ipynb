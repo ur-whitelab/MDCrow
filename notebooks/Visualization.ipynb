{
 "cells": [
  {
   "cell_type": "code",
   "execution_count": null,
   "id": "83bb8978",
   "metadata": {},
   "outputs": [],
   "source": [
    "!pip install -q nglview"
   ]
  },
  {
   "cell_type": "code",
   "execution_count": null,
   "id": "12a2ccb0",
   "metadata": {},
   "outputs": [],
   "source": [
    "\n",
    "        import nglview as nv\n",
    "        view = nv.show_file(\"1X3D.cif\")\n",
    "        view\n",
    "        "
   ]
  }
 ],
 "metadata": {},
 "nbformat": 4,
 "nbformat_minor": 5
}
