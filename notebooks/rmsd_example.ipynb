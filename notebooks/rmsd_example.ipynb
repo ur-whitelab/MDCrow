{
 "cells": [
  {
   "cell_type": "code",
   "execution_count": 1,
   "metadata": {},
   "outputs": [
    {
     "data": {
      "text/plain": [
       "True"
      ]
     },
     "execution_count": 1,
     "metadata": {},
     "output_type": "execute_result"
    }
   ],
   "source": [
    "from dotenv import load_dotenv\n",
    "\n",
    "load_dotenv()"
   ]
  },
  {
   "cell_type": "code",
   "execution_count": 2,
   "metadata": {},
   "outputs": [
    {
     "data": {
      "application/vnd.jupyter.widget-view+json": {
       "model_id": "5b19a85661244bd2ae2e608c7f2052a9",
       "version_major": 2,
       "version_minor": 0
      },
      "text/plain": []
     },
     "metadata": {},
     "output_type": "display_data"
    }
   ],
   "source": [
    "from mdagent.agent import MDAgent\n",
    "mdagent = MDAgent()"
   ]
  },
  {
   "cell_type": "code",
   "execution_count": 4,
   "metadata": {},
   "outputs": [
    {
     "name": "stdout",
     "output_type": "stream",
     "text": [
      "\n",
      "\n",
      "\u001b[1m> Entering new  chain...\u001b[0m\n",
      "\u001b[32;1m\u001b[1;3m\n",
      "Invoking: `PDBFileDownloader` with `1ACB cif`\n",
      "\n",
      "\n",
      "\u001b[0mPDB file found with this ID: 1ACB\n",
      "1ACB.cif is created.\n",
      "\u001b[36;1m\u001b[1;3mName2PDB tool successfully downloaded the PDB file: 1ACB.cif\u001b[0mThe PDB file with ID 1ACB has been successfully downloaded in CIF format.\u001b[32;1m\u001b[1;3mThe PDB file with ID 1ACB has been successfully downloaded in CIF format.\u001b[0m\n",
      "\n",
      "\u001b[1m> Finished chain.\u001b[0m\n"
     ]
    }
   ],
   "source": [
    "# specify file type to download (PDB is now default file type)\n",
    "prompt1 = \"Download the PDB file with PDB ID 1ACB with cif as file type\"\n",
    "result = mdagent.run(prompt1)"
   ]
  },
  {
   "cell_type": "code",
   "execution_count": 5,
   "metadata": {},
   "outputs": [
    {
     "name": "stdout",
     "output_type": "stream",
     "text": [
      "1ACB.cif\r\n"
     ]
    }
   ],
   "source": [
    "%ls 1ACB.cif"
   ]
  },
  {
   "cell_type": "code",
   "execution_count": 6,
   "metadata": {},
   "outputs": [
    {
     "name": "stdout",
     "output_type": "stream",
     "text": [
      "\n",
      "\n",
      "\u001b[1m> Entering new  chain...\u001b[0m\n",
      "\u001b[32;1m\u001b[1;3m\n",
      "Invoking: `PDBFileDownloader` with `1ACB`\n",
      "\n",
      "\n",
      "\u001b[0mPDB file found with this ID: 1ACB\n",
      "1ACB.pdb is created.\n",
      "\u001b[36;1m\u001b[1;3mName2PDB tool successfully downloaded the PDB file: 1ACB.pdb\u001b[0m\u001b[32;1m\u001b[1;3m\n",
      "Invoking: `MapPath2Name` with `1ACB.pdb,1ACB.pdb`\n",
      "\n",
      "\n",
      "\u001b[0m\u001b[33;1m\u001b[1;3mPath successfully mapped to name: 1ACB.pdb\u001b[0m\u001b[32;1m\u001b[1;3m\n",
      "Invoking: `ppi_distance` with `{'pdb_file': '1ACB.pdb'}`\n",
      "\n",
      "\n",
      "\u001b[0m\u001b[36;1m\u001b[1;3m9.732250472399622\n",
      "\u001b[0mThe average distance between the protein and peptide for PDB ID 1ACB is approximately 9.73 Å.\u001b[32;1m\u001b[1;3mThe average distance between the protein and peptide for PDB ID 1ACB is approximately 9.73 Å.\u001b[0m\n",
      "\n",
      "\u001b[1m> Finished chain.\u001b[0m\n"
     ]
    }
   ],
   "source": [
    "prompt2 = \"Calculate average distance between protein and peptide for PDB ID 1ACB.\"\n",
    "result = mdagent.run(prompt2)"
   ]
  },
  {
   "cell_type": "code",
   "execution_count": 7,
   "metadata": {},
   "outputs": [
    {
     "name": "stdout",
     "output_type": "stream",
     "text": [
      "\n",
      "\n",
      "\u001b[1m> Entering new  chain...\u001b[0m\n",
      "\u001b[32;1m\u001b[1;3m\n",
      "Invoking: `PDBFileDownloader` with `4AKE`\n",
      "\n",
      "\n",
      "\u001b[0mPDB file found with this ID: 4AKE\n",
      "4AKE.pdb is created.\n",
      "\u001b[36;1m\u001b[1;3mName2PDB tool successfully downloaded the PDB file: 4AKE.pdb\u001b[0m\u001b[32;1m\u001b[1;3m\n",
      "Invoking: `PDBFileDownloader` with `1AKE`\n",
      "\n",
      "\n",
      "\u001b[0mPDB file found with this ID: 1AKE\n",
      "1AKE.pdb is created.\n",
      "\u001b[36;1m\u001b[1;3mName2PDB tool successfully downloaded the PDB file: 1AKE.pdb\u001b[0m\u001b[32;1m\u001b[1;3m\n",
      "Invoking: `MapPath2Name` with `4AKE.pdb,4AKE.pdb`\n",
      "\n",
      "\n",
      "\u001b[0m\u001b[33;1m\u001b[1;3mPath successfully mapped to name: 4AKE.pdb\u001b[0m\u001b[32;1m\u001b[1;3m\n",
      "Invoking: `MapPath2Name` with `1AKE.pdb,1AKE.pdb`\n",
      "\n",
      "\n",
      "\u001b[0m\u001b[33;1m\u001b[1;3mPath successfully mapped to name: 1AKE.pdb\u001b[0m\u001b[32;1m\u001b[1;3m\n",
      "Invoking: `RMSDCalculator` with `{'rmsd_type': 'rmsd', 'pdb_file': '4AKE.pdb', 'ref_file': '1AKE.pdb', 'plot': True}`\n",
      "\n",
      "\n",
      "\u001b[0mCalculating 1-D RMSD between two sets of coordinates...\n",
      "\u001b[33;1m\u001b[1;3m18.419229728969018\n",
      "\u001b[0mThe Root Mean Square Deviation (RMSD) between the open (PDB ID: 4AKE) and closed (PDB ID: 1AKE) forms of AdK is approximately 18.42 Å.\u001b[32;1m\u001b[1;3mThe Root Mean Square Deviation (RMSD) between the open (PDB ID: 4AKE) and closed (PDB ID: 1AKE) forms of AdK is approximately 18.42 Å.\u001b[0m\n",
      "\n",
      "\u001b[1m> Finished chain.\u001b[0m\n"
     ]
    }
   ],
   "source": [
    "prompt3 = 'compute RMSD between open and closed AdK using PDB IDs 4AKE and 1AKE'\n",
    "result = mdagent.run(prompt3)"
   ]
  }
 ],
 "metadata": {
  "kernelspec": {
   "display_name": "Python [conda env:mdagent] *",
   "language": "python",
   "name": "conda-env-mdagent-py"
  },
  "language_info": {
   "codemirror_mode": {
    "name": "ipython",
    "version": 3
   },
   "file_extension": ".py",
   "mimetype": "text/x-python",
   "name": "python",
   "nbconvert_exporter": "python",
   "pygments_lexer": "ipython3",
   "version": "3.11.4"
  }
 },
 "nbformat": 4,
 "nbformat_minor": 2
}
