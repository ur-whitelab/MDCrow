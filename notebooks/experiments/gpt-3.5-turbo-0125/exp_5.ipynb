{
 "cells": [
  {
   "cell_type": "code",
   "execution_count": 1,
   "metadata": {},
   "outputs": [],
   "source": [
    "import datetime\n",
    "import os\n",
    "from mdagent import MDAgent\n",
    "import matplotlib.pyplot as plt"
   ]
  },
  {
   "cell_type": "code",
   "execution_count": 2,
   "metadata": {},
   "outputs": [
    {
     "name": "stdout",
     "output_type": "stream",
     "text": [
      "date and time: 2024-07-10\n",
      "time: 20:18:36\n",
      "LLM:  gpt-3.5-turbo-0125 \n",
      "Temperature:  0.1\n"
     ]
    }
   ],
   "source": [
    "prompt5 = \"Simulate 1XQ8 for 1ns at temperate 300K. Then tell me if the secondary structure changed from before the simulation to after.\"\n",
    "llm_var = \"gpt-3.5-turbo-0125\"\n",
    "tools = \"all\"\n",
    "agent = MDAgent(agent_type=\"Structured\", model=llm_var, top_k_tools=tools)\n",
    "now = datetime.datetime.now()\n",
    "date = now.strftime(\"%Y-%m-%d\")\n",
    "print(\"date and time:\",date)\n",
    "time = now.strftime(\"%H:%M:%S\")\n",
    "print(\"time:\",time)\n",
    "print(\"LLM: \",agent.llm.model_name,\"\\nTemperature: \",agent.llm.temperature)"
   ]
  },
  {
   "cell_type": "code",
   "execution_count": 3,
   "metadata": {},
   "outputs": [
    {
     "name": "stdout",
     "output_type": "stream",
     "text": [
      "Thought: To address the question, I need to set up and run a short simulation for the protein 1XQ8 at 300K for 1ns and then analyze the secondary structure changes.\n",
      "\n",
      "Action: SetUpandRunFunction\n",
      "Action Input: \n",
      "```\n",
      "{\n",
      "  \"pdb_id\": \"1XQ8\",\n",
      "  \"forcefield_files\": [\"amber14/protein.ff14SB.xml\", \"amber14/tip3p.xml\"],\n",
      "  \"save\": true,\n",
      "  \"system_params\": {\n",
      "    \"nonbondedMethod\": \"NoCutoff\",\n",
      "    \"constraints\": \"HBonds\",\n",
      "    \"rigidWater\": true\n",
      "  },\n",
      "  \"integrator_params\": {\n",
      "    \"integrator_type\": \"LangevinMiddle\",\n",
      "    \"Temperature\": \"300 * kelvin\",\n",
      "    \"Friction\": \"1.0 / picoseconds\",\n",
      "    \"Timestep\": \"0.002 * picoseconds\",\n",
      "    \"Pressure\": \"1.0 * bar\"\n",
      "  },\n",
      "  \"simulation_params\": {\n",
      "    \"Ensemble\": \"NVT\",\n",
      "    \"Number of Steps\": 500000,\n",
      "    \"record_interval_steps\": 100,\n",
      "    \"record_params\": [\"step\", \"time\", \"speed\", \"progress\", \"remainingTime\", \"elapsedTime\", \"potentialEnergy\", \"kineticEnergy\", \"totalEnergy\", \"temperature\", \"volume\", \"density\"]\n",
      "  }\n",
      "}\n",
      "```\n",
      "\n",
      "```\n",
      "{\n",
      "  \"action\": \"SetUpandRunFunction\",\n",
      "  \"action_input\": {\n",
      "    \"pdb_id\": \"1XQ8\",\n",
      "    \"forcefield_files\": [\"amber14/protein.ff14SB.xml\", \"amber14/tip3p.xml\"],\n",
      "    \"save\": true,\n",
      "    \"system_params\": {\n",
      "      \"nonbondedMethod\": \"NoCutoff\",\n",
      "      \"constraints\": \"HBonds\",\n",
      "      \"rigidWater\": true\n",
      "    },\n",
      "    \"integrator_params\": {\n",
      "      \"integrator_type\": \"LangevinMiddle\",\n",
      "      \"Temperature\": \"300 * kelvin\",\n",
      "      \"Friction\": \"1.0 / picoseconds\",\n",
      "      \"Timestep\": \"0.002 * picoseconds\",\n",
      "      \"Pressure\": \"1.0 * bar\"\n",
      "    },\n",
      "    \"simulation_params\": {\n",
      "      \"Ensemble\": \"NVT\",\n",
      "      \"Number of Steps\": 500000,\n",
      "      \"record_interval_steps\": 100,\n",
      "      \"record_params\": [\"step\", \"time\", \"speed\", \"progress\", \"remainingTime\", \"elapsedTime\", \"potentialEnergy\", \"kineticEnergy\", \"totalEnergy\", \"temperature\", \"volume\", \"density\"]\n",
      "    }\n",
      "  }\n",
      "}\n",
      "```error found: constraintTolerance must be specified if rigidWater is True\n",
      " Correct this and try again. \n",
      " Everthing else is fine\n",
      "Action:\n",
      "```\n",
      "{\n",
      "  \"action\": \"SetUpandRunFunction\",\n",
      "  \"action_input\": {\n",
      "    \"pdb_id\": \"1XQ8\",\n",
      "    \"forcefield_files\": [\"amber14/protein.ff14SB.xml\", \"amber14/tip3p.xml\"],\n",
      "    \"save\": true,\n",
      "    \"system_params\": {\n",
      "      \"nonbondedMethod\": \"NoCutoff\",\n",
      "      \"constraints\": \"HBonds\",\n",
      "      \"rigidWater\": true,\n",
      "      \"constraintTolerance\": 0.00001\n",
      "    },\n",
      "    \"integrator_params\": {\n",
      "      \"integrator_type\": \"LangevinMiddle\",\n",
      "      \"Temperature\": \"300 * kelvin\",\n",
      "      \"Friction\": \"1.0 / picoseconds\",\n",
      "      \"Timestep\": \"0.002 * picoseconds\",\n",
      "      \"Pressure\": \"1.0 * bar\"\n",
      "    },\n",
      "    \"simulation_params\": {\n",
      "      \"Ensemble\": \"NVT\",\n",
      "      \"Number of Steps\": 500000,\n",
      "      \"record_interval_steps\": 100,\n",
      "      \"record_params\": [\"step\", \"time\", \"speed\", \"progress\", \"remainingTime\", \"elapsedTime\", \"potentialEnergy\", \"kineticEnergy\", \"totalEnergy\", \"temperature\", \"volume\", \"density\"]\n",
      "    }\n",
      "  }\n",
      "}\n",
      "```Action:\n",
      "```\n",
      "{\n",
      "  \"action\": \"PDBFileDownloader\",\n",
      "  \"action_input\": {\n",
      "    \"query\": \"1XQ8\"\n",
      "  }\n",
      "}\n",
      "```PDB file found with this ID: 1XQ8\n"
     ]
    },
    {
     "name": "stderr",
     "output_type": "stream",
     "text": [
      "2024-07-10 20:18:50.445 \n",
      "  \u001b[33m\u001b[1mWarning:\u001b[0m to view this Streamlit app on a browser, run it with the following\n",
      "  command:\n",
      "\n",
      "    streamlit run /Users/jorgemedina/miniforge3/envs/mdagent2/lib/python3.11/site-packages/ipykernel_launcher.py [ARGUMENTS]\n"
     ]
    },
    {
     "name": "stdout",
     "output_type": "stream",
     "text": [
      "Action:\n",
      "```\n",
      "{\n",
      "  \"action\": \"SetUpandRunFunction\",\n",
      "  \"action_input\": {\n",
      "    \"pdb_id\": \"1XQ8_201850\",\n",
      "    \"forcefield_files\": [\"amber14/protein.ff14SB.xml\", \"amber14/tip3p.xml\"],\n",
      "    \"save\": true,\n",
      "    \"system_params\": {\n",
      "      \"nonbondedMethod\": \"NoCutoff\",\n",
      "      \"constraints\": \"HBonds\",\n",
      "      \"rigidWater\": true,\n",
      "      \"constraintTolerance\": 0.00001\n",
      "    },\n",
      "    \"integrator_params\": {\n",
      "      \"integrator_type\": \"LangevinMiddle\",\n",
      "      \"Temperature\": \"300 * kelvin\",\n",
      "      \"Friction\": \"1.0 / picoseconds\",\n",
      "      \"Timestep\": \"0.002 * picoseconds\",\n",
      "      \"Pressure\": \"1.0 * bar\"\n",
      "    },\n",
      "    \"simulation_params\": {\n",
      "      \"Ensemble\": \"NVT\",\n",
      "      \"Number of Steps\": 500000,\n",
      "      \"record_interval_steps\": 100,\n",
      "      \"record_params\": [\"step\", \"time\", \"speed\", \"progress\", \"remainingTime\", \"elapsedTime\", \"potentialEnergy\", \"kineticEnergy\", \"totalEnergy\", \"temperature\", \"volume\", \"density\"]\n",
      "    }\n",
      "  }\n",
      "}\n",
      "```Building system...\n",
      "About to create system...\n",
      "Attempts at creating system: 0/3\n",
      "adding system without solvent\n",
      "System built successfully\n",
      "<openmm.openmm.System; proxy of <Swig Object of type 'OpenMM::System *' at 0x302908330> >\n",
      "Setting up integrator...\n",
      "Creating simulation...\n",
      "simulation set!\n",
      "Performing energy minimization...\n",
      "Minimization complete!\n",
      "Initial Positions saved to initial_positions.pdb\n",
      "Equilibrating...\n",
      "Simulating...\n"
     ]
    }
   ],
   "source": [
    "agent.run(prompt5)"
   ]
  },
  {
   "cell_type": "code",
   "execution_count": null,
   "metadata": {},
   "outputs": [
    {
     "name": "stdout",
     "output_type": "stream",
     "text": [
      "Files found in registry: 1XQ8_164851: PDB file downloaded from RSCB, PDBFile ID: 1XQ8_164851, top_sim0_164856: Initial positions for simulation sim0_164856, sim0_164856: Basic Simulation of Protein 1XQ8_164851, rec0_164856: Simulation trajectory for protein 1XQ8_164851 and simulation sim0_164856, rec1_164856: Simulation state log for protein 1XQ8_164851 and simulation sim0_164856, rec2_164856: Simulation pdb frames for protein 1XQ8_164851 and simulation sim0_164856, rec0_170702: dssp values for trajectory with id: rec2_164856, rec0_170706: dssp values for trajectory with id: top_sim0_164856\n"
     ]
    }
   ],
   "source": [
    "registry = agent.path_registry\n",
    "print(registry.list_path_names_and_descriptions())"
   ]
  },
  {
   "cell_type": "code",
   "execution_count": null,
   "metadata": {},
   "outputs": [
    {
     "name": "stdout",
     "output_type": "stream",
     "text": [
      "date and time: 2024-07-10\n",
      "time: 17:07:12\n"
     ]
    }
   ],
   "source": [
    "now = datetime.datetime.now()\n",
    "date = now.strftime(\"%Y-%m-%d\")\n",
    "print(\"date and time:\",date)\n",
    "time = now.strftime(\"%H:%M:%S\")\n",
    "print(\"time:\",time)"
   ]
  },
  {
   "cell_type": "code",
   "execution_count": null,
   "metadata": {},
   "outputs": [
    {
     "name": "stdout",
     "output_type": "stream",
     "text": [
      "Files found in registry: 1XQ8_164851: PDB file downloaded from RSCB\n",
      " PDBFile ID: 1XQ8_164851\n",
      " top_sim0_164856: Initial positions for simulation sim0_164856\n",
      " sim0_164856: Basic Simulation of Protein 1XQ8_164851\n",
      " rec0_164856: Simulation trajectory for protein 1XQ8_164851 and simulation sim0_164856\n",
      " rec1_164856: Simulation state log for protein 1XQ8_164851 and simulation sim0_164856\n",
      " rec2_164856: Simulation pdb frames for protein 1XQ8_164851 and simulation sim0_164856\n",
      " rec0_170702: dssp values for trajectory with id: rec2_164856\n",
      " rec0_170706: dssp values for trajectory with id: top_sim0_164856\n"
     ]
    }
   ],
   "source": [
    "registry = agent.path_registry\n",
    "paths_and_descriptions = registry.list_path_names_and_descriptions()\n",
    "print(\"\\n\".join(paths_and_descriptions.split(\",\")))"
   ]
  },
  {
   "cell_type": "code",
   "execution_count": null,
   "metadata": {},
   "outputs": [
    {
     "name": "stdout",
     "output_type": "stream",
     "text": [
      "Number of initial sheets:  0\n",
      "Number of initial helices:  76\n",
      "Number of initial coils:  64\n",
      "Number of final sheets:  0\n",
      "Number of final helices:  44\n",
      "Number of final coils:  96\n"
     ]
    }
   ],
   "source": [
    "import mdtraj as md\n",
    "import numpy as np\n",
    "\n",
    "traj_path = registry.get_mapped_path(\"rec2_164856\")\n",
    "top_path = registry.get_mapped_path(\"top_sim0_164856\")\n",
    "traj = md.load(traj_path, top=top_path)\n",
    "\n",
    "# Compute the secondary structure of the trajectory\n",
    "dssp_final = md.compute_dssp(traj[-1], simplified=True)\n",
    "dssp_initial = md.compute_dssp(traj[0], simplified=True)\n",
    "\n",
    "print(\"Number of initial sheets: \",len([i for i in dssp_initial[0] if i == 'E']))\n",
    "print(\"Number of initial helices: \",len([i for i in dssp_initial[0] if i == 'H']))\n",
    "print(\"Number of initial coils: \",len([i for i in dssp_initial[0] if i == 'C']))\n",
    "\n",
    "print(\"Number of final sheets: \",len([i for i in dssp_final[0] if i == 'E']))\n",
    "print(\"Number of final helices: \",len([i for i in dssp_final[0] if i == 'H']))\n",
    "print(\"Number of final coils: \",len([i for i in dssp_final[0] if i == 'C']))\n",
    "\n"
   ]
  },
  {
   "cell_type": "markdown",
   "metadata": {},
   "source": [
    "# Experiment Result:\n",
    "### Completed without Exception or TimeOut Errors ✅\n",
    "### Attempted all necessary steps ✅\n",
    "### Logic make sense ✅\n",
    "### Correct Answer  ❌"
   ]
  },
  {
   "cell_type": "markdown",
   "metadata": {},
   "source": [
    "## Final answer returns the sum of all secondary structure assignments instead of the last frame"
   ]
  }
 ],
 "metadata": {
  "kernelspec": {
   "display_name": "mdagent2",
   "language": "python",
   "name": "python3"
  },
  "language_info": {
   "codemirror_mode": {
    "name": "ipython",
    "version": 3
   },
   "file_extension": ".py",
   "mimetype": "text/x-python",
   "name": "python",
   "nbconvert_exporter": "python",
   "pygments_lexer": "ipython3",
   "version": "3.11.9"
  }
 },
 "nbformat": 4,
 "nbformat_minor": 2
}
