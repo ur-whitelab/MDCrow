{
 "cells": [
  {
   "cell_type": "code",
   "execution_count": 1,
   "id": "8ff706fd-c267-4d05-af58-9a3848cce8ff",
   "metadata": {},
   "outputs": [],
   "source": [
    "from mdagent import MDAgent"
   ]
  },
  {
   "cell_type": "code",
   "execution_count": 2,
   "id": "c86c88a1-f5f8-473a-8342-7364252bcfba",
   "metadata": {},
   "outputs": [
    {
     "name": "stdout",
     "output_type": "stream",
     "text": [
      "date: 2024-07-11\n",
      "time: 11:12:26\n"
     ]
    }
   ],
   "source": [
    "#todays date and time\n",
    "import datetime\n",
    "\n",
    "start = datetime.datetime.now()\n",
    "date = start.strftime(\"%Y-%m-%d\")\n",
    "print(\"date:\",date)\n",
    "time = start.strftime(\"%H:%M:%S\")\n",
    "print(\"time:\",time)"
   ]
  },
  {
   "cell_type": "code",
   "execution_count": 3,
   "id": "f62bfc17-854b-4152-bb82-7e9e0ec4b854",
   "metadata": {},
   "outputs": [
    {
     "name": "stdout",
     "output_type": "stream",
     "text": [
      "LLM:  gpt-3.5-turbo-0125 \n",
      "Temperature:  0.1\n"
     ]
    }
   ],
   "source": [
    "model = \"gpt-3.5-turbo-0125\"\n",
    "mda = MDAgent(\n",
    "    agent_type='Structured', \n",
    "    model=model, \n",
    "    tools_model=model,\n",
    "    use_memory=False, \n",
    "    top_k_tools=\"all\"\n",
    ")\n",
    "print(\"LLM: \", mda.llm.model_name,\"\\nTemperature: \", mda.llm.temperature)"
   ]
  },
  {
   "cell_type": "code",
   "execution_count": 4,
   "id": "ad2f6f66-e6b8-4244-b908-68fbebbf6e8b",
   "metadata": {},
   "outputs": [
    {
     "name": "stdout",
     "output_type": "stream",
     "text": [
      "Thought: To compare the secondary structure of the proteins 8PFK and 8PFQ, I need to download their PDB files and analyze the secondary structure information.\n",
      "\n",
      "Action: PDBFileDownloader\n",
      "Action Input: \n",
      "```\n",
      "{\n",
      "  \"query\": \"8PFK\"\n",
      "}\n",
      "```\n",
      "\n",
      "```\n",
      "{\n",
      "  \"action\": \"PDBFileDownloader\",\n",
      "  \"action_input\": {\n",
      "    \"query\": \"8PFK\"\n",
      "  }\n",
      "}\n",
      "```PDB file found with this ID: 8PFK\n"
     ]
    },
    {
     "name": "stderr",
     "output_type": "stream",
     "text": [
      "2024-07-11 11:12:29.492 \n",
      "  \u001b[33m\u001b[1mWarning:\u001b[0m to view this Streamlit app on a browser, run it with the following\n",
      "  command:\n",
      "\n",
      "    streamlit run /Users/jorgemedina/miniforge3/envs/mdagent2/lib/python3.11/site-packages/ipykernel_launcher.py [ARGUMENTS]\n"
     ]
    },
    {
     "name": "stdout",
     "output_type": "stream",
     "text": [
      "Action:\n",
      "```\n",
      "{\n",
      "  \"action\": \"PDBFileDownloader\",\n",
      "  \"action_input\": {\n",
      "    \"query\": \"8PFQ\"\n",
      "  }\n",
      "}\n",
      "```PDB file found with this ID: 8PFQ\n",
      "Action:\n",
      "```\n",
      "{\n",
      "  \"action\": \"ComputeDSSP\",\n",
      "  \"action_input\": {\n",
      "    \"traj_file\": \"8PFK_111229\",\n",
      "    \"top_file\": null\n",
      "  }\n",
      "}\n",
      "```Action:\n",
      "```\n",
      "{\n",
      "  \"action\": \"ComputeDSSP\",\n",
      "  \"action_input\": {\n",
      "    \"traj_file\": \"8PFQ_111231\",\n",
      "    \"top_file\": null\n",
      "  }\n",
      "}\n",
      "```Action:\n",
      "```\n",
      "{\n",
      "  \"action\": \"SummarizeProteinStructure\",\n",
      "  \"action_input\": {\n",
      "    \"traj_file\": \"8PFK_111229\",\n",
      "    \"top_file\": null\n",
      "  }\n",
      "}\n",
      "```Action:\n",
      "```\n",
      "{\n",
      "  \"action\": \"SummarizeProteinStructure\",\n",
      "  \"action_input\": {\n",
      "    \"traj_file\": \"8PFQ_111231\",\n",
      "    \"top_file\": null\n",
      "  }\n",
      "}\n",
      "```Action:\n",
      "```\n",
      "{\n",
      "  \"action\": \"Final Answer\",\n",
      "  \"action_input\": \"The secondary structure comparison between proteins 8PFK and 8PFQ is as follows:\\n\\n8PFK:\\n- Number of atoms: 487\\n- Number of residues: 109\\n- Number of chains: 2\\n- Secondary structure: No helices, strands, or coils identified\\n\\n8PFQ:\\n- Number of atoms: 950\\n- Number of residues: 194\\n- Number of chains: 6\\n- Secondary structure: No helices, strands, or coils identified\"\n",
      "}\n",
      "```"
     ]
    }
   ],
   "source": [
    "prompt = '''Download the PDB files for 8PFK and 8PFQ. Then, compare the secondary structure of the two proteins, \n",
    "including number atoms, secondary structure, number of chains, etc..'''\n",
    "answer = mda.run(prompt)"
   ]
  },
  {
   "cell_type": "code",
   "execution_count": 5,
   "id": "d23fbcab-9ceb-46d5-ad3b-d6cf6687d1e4",
   "metadata": {},
   "outputs": [
    {
     "name": "stdout",
     "output_type": "stream",
     "text": [
      "duration: 0.21 minutes\n"
     ]
    }
   ],
   "source": [
    "end = datetime.datetime.now()\n",
    "elapsed = end - start\n",
    "print(f\"duration: {elapsed.total_seconds()/60:.2f} minutes\")"
   ]
  },
  {
   "cell_type": "markdown",
   "id": "da5ba7ae-a3e7-4eec-b869-a884948231c4",
   "metadata": {},
   "source": [
    "# Confirm the downloaded files and their structures"
   ]
  },
  {
   "cell_type": "code",
   "execution_count": 6,
   "id": "5d1f0c85-88d6-4d2a-aae1-6a2d763f280d",
   "metadata": {},
   "outputs": [
    {
     "name": "stdout",
     "output_type": "stream",
     "text": [
      "Names found in registry: 8PFK_111229, 8PFQ_111231, rec0_111232, rec0_111233\n"
     ]
    }
   ],
   "source": [
    "registry = mda.path_registry\n",
    "all_names = registry.list_path_names()\n",
    "print(all_names)"
   ]
  },
  {
   "cell_type": "code",
   "execution_count": 7,
   "id": "6684abd0-efd9-4add-bf1b-abfe1f664dbe",
   "metadata": {},
   "outputs": [
    {
     "name": "stdout",
     "output_type": "stream",
     "text": [
      "It is asserted that 8PFK and 8PFQ are in path_registry\n",
      "It is asserted these pdb files physically exist\n"
     ]
    }
   ],
   "source": [
    "import re\n",
    "import os\n",
    "pattern1 = re.compile(r\"8PFK_\\d+\")\n",
    "pattern2 = re.compile(r\"8PFQ_\\d+\")\n",
    "match1 = pattern1.search(all_names)\n",
    "match2 = pattern2.search(all_names)\n",
    "assert match1\n",
    "assert match2\n",
    "print('It is asserted that 8PFK and 8PFQ are in path_registry')\n",
    "path1 = registry.get_mapped_path(match1.group(0))\n",
    "path2 = registry.get_mapped_path(match2.group(0))\n",
    "assert os.path.exists(path1)\n",
    "assert os.path.exists(path2)\n",
    "print('It is asserted these pdb files physically exist')"
   ]
  },
  {
   "cell_type": "code",
   "execution_count": 8,
   "id": "5c9a6ace-69e8-4042-9d35-ca598f4d00c2",
   "metadata": {},
   "outputs": [
    {
     "name": "stdout",
     "output_type": "stream",
     "text": [
      "protein 8PFK\n",
      "Number of chains:  2\n",
      "Number of atoms:  487\n",
      "\n",
      "protein 8PFQ\n",
      "Number of chains:  6\n",
      "Number of atoms:  950\n"
     ]
    }
   ],
   "source": [
    "import mdtraj as md\n",
    "traj = md.load(path1)\n",
    "top = traj.topology\n",
    "number_of_chains = top.n_chains\n",
    "number_of_atoms = top.n_atoms\n",
    "print('protein 8PFK')\n",
    "print('Number of chains: ', number_of_chains)\n",
    "print('Number of atoms: ', number_of_atoms)\n",
    "traj = md.load(path2)\n",
    "top = traj.topology\n",
    "number_of_chains = top.n_chains\n",
    "number_of_atoms = top.n_atoms\n",
    "print('\\nprotein 8PFQ')\n",
    "print('Number of chains: ', number_of_chains)\n",
    "print('Number of atoms: ', number_of_atoms)"
   ]
  },
  {
   "cell_type": "code",
   "execution_count": 13,
   "id": "a2f0aa59",
   "metadata": {},
   "outputs": [
    {
     "name": "stdout",
     "output_type": "stream",
     "text": [
      "protein 8PFK\n",
      "Number of sheets:  0\n",
      "Number of helices:  0\n",
      "Number of coils:  0\n",
      "\n",
      "protein 8PFQ\n",
      "Number of sheets:  0\n",
      "Number of helices:  0\n",
      "Number of coils:  0\n"
     ]
    }
   ],
   "source": [
    "#get the secondary structure of the proteins\n",
    "traj = md.load(path1)\n",
    "ss = md.compute_dssp(traj)\n",
    "print('protein 8PFK')\n",
    "\n",
    "print(\"Number of sheets: \",len([i for i in ss.flatten() if i == 'E']))\n",
    "print(\"Number of helices: \",len([i for i in ss.flatten() if i == 'H']))\n",
    "print(\"Number of coils: \",len([i for i in ss.flatten() if i == 'C']))\n",
    "\n",
    "traj = md.load(path2)\n",
    "print('\\nprotein 8PFQ')\n",
    "ss = md.compute_dssp(traj)\n",
    "print(\"Number of sheets: \",len([i for i in ss.flatten() if i == 'E']))\n",
    "print(\"Number of helices: \",len([i for i in ss.flatten() if i == 'H']))\n",
    "print(\"Number of coils: \",len([i for i in ss.flatten() if i == 'C']))\n",
    "      "
   ]
  },
  {
   "cell_type": "markdown",
   "id": "2070dda7",
   "metadata": {},
   "source": [
    "# Experiment Result:\n",
    "### Completed without Exception or TimeOut Errors ✅\n",
    "### Attempted all necessary steps ✅\n",
    "### Logic make sense ✅\n",
    "### Correct Answer  ✅"
   ]
  },
  {
   "cell_type": "code",
   "execution_count": null,
   "id": "b8d2c7d2",
   "metadata": {},
   "outputs": [],
   "source": []
  }
 ],
 "metadata": {
  "kernelspec": {
   "display_name": "mdagent2",
   "language": "python",
   "name": "python3"
  },
  "language_info": {
   "codemirror_mode": {
    "name": "ipython",
    "version": 3
   },
   "file_extension": ".py",
   "mimetype": "text/x-python",
   "name": "python",
   "nbconvert_exporter": "python",
   "pygments_lexer": "ipython3",
   "version": "3.11.9"
  }
 },
 "nbformat": 4,
 "nbformat_minor": 5
}
