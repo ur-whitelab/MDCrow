{
 "cells": [
  {
   "cell_type": "code",
   "execution_count": 1,
   "metadata": {},
   "outputs": [],
   "source": [
    "from mdagent import MDAgent\n"
   ]
  },
  {
   "cell_type": "code",
   "execution_count": 2,
   "metadata": {},
   "outputs": [],
   "source": [
    "descriptive_prompt_2 = \"Complete the following MD tasks:  1.- Download the PDB file 1GZX 2.- Analyze its secondary structure. 3.- Tell me how many chains, sheets, etc. there are. \"\n",
    "non_descriptive_prompt_2 = \"Download the PDB file for PDB ID 1GZX. Then, analyze the secondary structure of the protein and tell me how many chains, sheets, etc. there are\""
   ]
  },
  {
   "cell_type": "code",
   "execution_count": 3,
   "metadata": {},
   "outputs": [],
   "source": [
    "llm_model = \"gpt-4-turbo-2024-04-09\"\n",
    "tools = \"all\""
   ]
  },
  {
   "cell_type": "code",
   "execution_count": 4,
   "metadata": {},
   "outputs": [],
   "source": [
    "agent_1 = MDAgent(agent_type=\"Structured\", model=llm_model, top_k_tools=tools)\n",
    "agent_2 = MDAgent(agent_type=\"Structured\", model=llm_model, top_k_tools=tools)"
   ]
  },
  {
   "cell_type": "code",
   "execution_count": 5,
   "metadata": {},
   "outputs": [
    {
     "name": "stdout",
     "output_type": "stream",
     "text": [
      "Thought: To address the question, I need to first download the PDB file for the protein with ID 1GZX. After obtaining the file, I can analyze its secondary structure and summarize the protein structure to provide details on the number of chains, sheets, and other structural elements.\n",
      "\n",
      "Action:\n",
      "```json\n",
      "{\n",
      "    \"action\": \"PDBFileDownloader\",\n",
      "    \"action_input\": {\n",
      "        \"query\": \"1GZX\"\n",
      "    }\n",
      "}\n",
      "```PDB file found with this ID: 1GZX\n",
      "Now that I have the PDB file for 1GZX, I will proceed to analyze its secondary structure using the ComputeDSSP tool. This will allow me to identify the different types of secondary structures present in the protein, such as alpha helices and beta sheets. Additionally, I will use the SummarizeProteinStructure tool to get detailed information about the number of chains, sheets, and other structural elements in the protein.\n",
      "\n",
      "Action:\n",
      "```json\n",
      "{\n",
      "    \"action\": \"ComputeDSSP\",\n",
      "    \"action_input\": {\n",
      "        \"traj_file\": \"1GZX_130653\",\n",
      "        \"target_frames\": \"all\"\n",
      "    }\n",
      "}\n",
      "```\n",
      "With the secondary structure analysis complete, I now know the distribution of helices, strands, and coils in the protein 1GZX. The next step is to summarize the overall protein structure to provide details on the number of chains, sheets, and other structural elements. This will complete the information requested.\n",
      "\n",
      "Action:\n",
      "```json\n",
      "{\n",
      "    \"action\": \"SummarizeProteinStructure\",\n",
      "    \"action_input\": {\n",
      "        \"traj_file\": \"1GZX_130653\"\n",
      "    }\n",
      "}\n",
      "```I have completed the analysis of the PDB file 1GZX. Here are the findings:\n",
      "\n",
      "1. **Secondary Structure Analysis**:\n",
      "   - **Helices**: 444 residues are in helical structures.\n",
      "   - **Strands**: There are no residues in beta strands.\n",
      "   - **Coils**: 130 residues are in coil structures.\n",
      "   - **Unassigned/Non-protein residues**: 213 residues are not assigned or not considered as protein residues.\n",
      "\n",
      "2. **Protein Structure Summary**:\n",
      "   - **Total Atoms**: 4769\n",
      "   - **Total Residues**: 787\n",
      "   - **Total Chains**: 12\n",
      "   - **Total Frames**: 1\n",
      "   - **Total Bonds**: 4716\n",
      "\n",
      "This comprehensive analysis provides a detailed view of the secondary structure and overall architecture of the protein 1GZX."
     ]
    },
    {
     "data": {
      "text/plain": [
       "({'input': '\\n    You are an expert molecular dynamics scientist, and\\n    your task is to respond to the question or\\n    solve the problem to the best of your ability using\\n    the provided tools.\\n\\n    You can only respond with a single complete\\n    \\'Thought, Action, Action Input\\' format\\n    OR a single \\'Final Answer\\' format.\\n\\n    Complete format:\\n    Thought: (reflect on your progress and decide what to do next)\\n    Action:\\n    ```\\n    {\\n        \"action\": (the action name, it should be the name of a tool),\\n        \"action_input\": (the input string for the action)\\n    }\\n    \\'\\'\\'\\n\\n    OR\\n\\n    Final Answer: (the final response to the original input\\n    question, once all steps are complete)\\n\\n    You are required to use the tools provided,\\n    using the most specific tool\\n    available for each action.\\n    Your final answer should contain all information\\n    necessary to answer the question and its subquestions.\\n    Before you finish, reflect on your progress and make\\n    sure you have addressed the question in its entirety.\\n\\n    If you are asked to continue\\n    or reference previous runs,\\n    the context will be provided to you.\\n    If context is provided, you should assume\\n    you are continuing a chat.\\n\\n    Here is the input:\\n    Previous Context: None\\n    Question: Complete the following MD tasks:  1.- Download the PDB file 1GZX 2.- Analyze its secondary structure. 3.- Tell me how many chains, sheets, etc. there are.  ',\n",
       "  'output': 'I have completed the analysis of the PDB file 1GZX. Here are the findings:\\n\\n1. **Secondary Structure Analysis**:\\n   - **Helices**: 444 residues are in helical structures.\\n   - **Strands**: There are no residues in beta strands.\\n   - **Coils**: 130 residues are in coil structures.\\n   - **Unassigned/Non-protein residues**: 213 residues are not assigned or not considered as protein residues.\\n\\n2. **Protein Structure Summary**:\\n   - **Total Atoms**: 4769\\n   - **Total Residues**: 787\\n   - **Total Chains**: 12\\n   - **Total Frames**: 1\\n   - **Total Bonds**: 4716\\n\\nThis comprehensive analysis provides a detailed view of the secondary structure and overall architecture of the protein 1GZX.'},\n",
       " 'RCVO009B')"
      ]
     },
     "execution_count": 5,
     "metadata": {},
     "output_type": "execute_result"
    }
   ],
   "source": [
    "agent_1.run(descriptive_prompt_2)"
   ]
  },
  {
   "cell_type": "code",
   "execution_count": 6,
   "metadata": {},
   "outputs": [
    {
     "name": "stdout",
     "output_type": "stream",
     "text": [
      "Thought: To address the question, I need to first download the PDB file for the specified PDB ID (1GZX). After obtaining the file, I will analyze the secondary structure of the protein to determine the number of chains, sheets, and other structural elements.\n",
      "\n",
      "Action:\n",
      "```json\n",
      "{\n",
      "    \"action\": \"PDBFileDownloader\",\n",
      "    \"action_input\": {\n",
      "        \"query\": \"1GZX\"\n",
      "    }\n",
      "}\n",
      "```PDB file found with this ID: 1GZX\n",
      "Now that I have the PDB file for 1GZX, I will proceed to analyze the secondary structure of the protein using the ComputeDSSP tool. This will allow me to determine the number of chains, sheets, and other structural elements present in the protein.\n",
      "\n",
      "Action:\n",
      "```json\n",
      "{\n",
      "    \"action\": \"ComputeDSSP\",\n",
      "    \"action_input\": {\n",
      "        \"traj_file\": \"1GZX_130714\",\n",
      "        \"target_frames\": \"all\"\n",
      "    }\n",
      "}\n",
      "```To provide a comprehensive answer, I need to summarize the secondary structure analysis and also determine the number of chains in the protein. I will use the SummarizeProteinStructure tool to get details about the number of chains, residues, and other structural elements.\n",
      "\n",
      "Action:\n",
      "```json\n",
      "{\n",
      "    \"action\": \"SummarizeProteinStructure\",\n",
      "    \"action_input\": {\n",
      "        \"traj_file\": \"1GZX_130714\"\n",
      "    }\n",
      "}\n",
      "```I have successfully downloaded the PDB file for PDB ID 1GZX and analyzed its secondary structure. The protein contains 444 residues in helical structures, no residues in strands, 130 residues in coils, and 213 residues that are not assigned or not protein residues. Additionally, the protein structure consists of 12 chains, 787 residues, 4769 atoms, and 4716 bonds across 1 frame.\n",
      "\n",
      "Final Answer: The protein with PDB ID 1GZX has 12 chains and a secondary structure comprising 444 residues in helices, no residues in strands, and 130 residues in coils. There are also 213 residues that are not assigned or not protein residues. The protein structure includes 4769 atoms and 4716 bonds."
     ]
    },
    {
     "data": {
      "text/plain": [
       "({'input': '\\n    You are an expert molecular dynamics scientist, and\\n    your task is to respond to the question or\\n    solve the problem to the best of your ability using\\n    the provided tools.\\n\\n    You can only respond with a single complete\\n    \\'Thought, Action, Action Input\\' format\\n    OR a single \\'Final Answer\\' format.\\n\\n    Complete format:\\n    Thought: (reflect on your progress and decide what to do next)\\n    Action:\\n    ```\\n    {\\n        \"action\": (the action name, it should be the name of a tool),\\n        \"action_input\": (the input string for the action)\\n    }\\n    \\'\\'\\'\\n\\n    OR\\n\\n    Final Answer: (the final response to the original input\\n    question, once all steps are complete)\\n\\n    You are required to use the tools provided,\\n    using the most specific tool\\n    available for each action.\\n    Your final answer should contain all information\\n    necessary to answer the question and its subquestions.\\n    Before you finish, reflect on your progress and make\\n    sure you have addressed the question in its entirety.\\n\\n    If you are asked to continue\\n    or reference previous runs,\\n    the context will be provided to you.\\n    If context is provided, you should assume\\n    you are continuing a chat.\\n\\n    Here is the input:\\n    Previous Context: None\\n    Question: Download the PDB file for PDB ID 1GZX. Then, analyze the secondary structure of the protein and tell me how many chains, sheets, etc. there are ',\n",
       "  'output': 'I have successfully downloaded the PDB file for PDB ID 1GZX and analyzed its secondary structure. The protein contains 444 residues in helical structures, no residues in strands, 130 residues in coils, and 213 residues that are not assigned or not protein residues. Additionally, the protein structure consists of 12 chains, 787 residues, 4769 atoms, and 4716 bonds across 1 frame.\\n\\nFinal Answer: The protein with PDB ID 1GZX has 12 chains and a secondary structure comprising 444 residues in helices, no residues in strands, and 130 residues in coils. There are also 213 residues that are not assigned or not protein residues. The protein structure includes 4769 atoms and 4716 bonds.'},\n",
       " 'CNN82O1K')"
      ]
     },
     "execution_count": 6,
     "metadata": {},
     "output_type": "execute_result"
    }
   ],
   "source": [
    "agent_2.run(non_descriptive_prompt_2)"
   ]
  },
  {
   "cell_type": "code",
   "execution_count": 7,
   "metadata": {},
   "outputs": [
    {
     "name": "stdout",
     "output_type": "stream",
     "text": [
      "Files found in registry: 1GZX_195153: PDB file downloaded from RSCB, PDBFile ID: 1GZX_195153, rec0_195156: dssp values for trajectory with id: 1GZX_195153, 1GZX_195204: PDB file downloaded from RSCB, PDBFile ID: 1GZX_195204, rec0_195205: dssp values for trajectory with id: 1GZX_195204\n"
     ]
    }
   ],
   "source": [
    "from mdagent import MDAgent\n",
    "agent = MDAgent(agent_type=\"Structured\", ckpt_dir=\"ckpt_182\")\n",
    "registry = agent.path_registry\n",
    "print(registry.list_path_names_and_descriptions())"
   ]
  },
  {
   "cell_type": "code",
   "execution_count": 8,
   "metadata": {},
   "outputs": [
    {
     "name": "stdout",
     "output_type": "stream",
     "text": [
      "Number of chains:  12\n",
      "Number of sheets:  0\n",
      "Number of helices:  444\n",
      "Number of coils:  130\n"
     ]
    }
   ],
   "source": [
    "import mdtraj as md\n",
    "\n",
    "path = registry.get_mapped_path(\"1GZX_195153\")\n",
    "traj = md.load(path)\n",
    "#get dssp \n",
    "number_of_chains = traj.n_chains\n",
    "secondary_structure = md.compute_dssp(traj,simplified=True)\n",
    "print(\"Number of chains: \",number_of_chains)\n",
    "print(\"Number of sheets: \",len([i for i in secondary_structure[0] if i == 'E']))\n",
    "print(\"Number of helices: \",len([i for i in secondary_structure[0] if i == 'H']))\n",
    "print(\"Number of coils: \",len([i for i in secondary_structure[0] if i == 'C']))"
   ]
  },
  {
   "cell_type": "code",
   "execution_count": null,
   "metadata": {},
   "outputs": [],
   "source": []
  }
 ],
 "metadata": {
  "kernelspec": {
   "display_name": "mdagent2",
   "language": "python",
   "name": "python3"
  },
  "language_info": {
   "codemirror_mode": {
    "name": "ipython",
    "version": 3
   },
   "file_extension": ".py",
   "mimetype": "text/x-python",
   "name": "python",
   "nbconvert_exporter": "python",
   "pygments_lexer": "ipython3",
   "version": "3.11.9"
  }
 },
 "nbformat": 4,
 "nbformat_minor": 2
}
