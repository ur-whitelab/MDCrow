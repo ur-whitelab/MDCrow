{
 "cells": [
  {
   "cell_type": "code",
   "execution_count": 1,
   "metadata": {},
   "outputs": [],
   "source": [
    "from mdagent import MDAgent\n"
   ]
  },
  {
   "cell_type": "code",
   "execution_count": 2,
   "metadata": {},
   "outputs": [],
   "source": [
    "descriptive_prompt_2 = \"Complete the following MD tasks:  1.- Download the PDB file 1GZX 2.- Analyze its secondary structure. 3.- Tell me how many chains, sheets, etc. there are. \"\n",
    "non_descriptive_prompt_2 = \"Download the PDB file for PDB ID 1GZX. Then, analyze the secondary structure of the protein and tell me how many chains, sheets, etc. there are\""
   ]
  },
  {
   "cell_type": "code",
   "execution_count": 3,
   "metadata": {},
   "outputs": [],
   "source": [
    "llm_model = \"gpt-4o-2024-08-06\"\n",
    "tools = \"all\""
   ]
  },
  {
   "cell_type": "code",
   "execution_count": 4,
   "metadata": {},
   "outputs": [],
   "source": [
    "agent_1 = MDAgent(agent_type=\"Structured\", model=llm_model, top_k_tools=tools)\n",
    "agent_2 = MDAgent(agent_type=\"Structured\", model=llm_model, top_k_tools=tools)"
   ]
  },
  {
   "cell_type": "code",
   "execution_count": 5,
   "metadata": {},
   "outputs": [
    {
     "name": "stdout",
     "output_type": "stream",
     "text": [
      "Thought: To complete the tasks, I need to first download the PDB file for 1GZX. Then, I will analyze its secondary structure to determine the number of chains, sheets, and other structural elements. I will start by downloading the PDB file.\n",
      "\n",
      "Action:\n",
      "```\n",
      "{\n",
      "  \"action\": \"PDBFileDownloader\",\n",
      "  \"action_input\": {\n",
      "    \"query\": \"1GZX\"\n",
      "  }\n",
      "}\n",
      "```PDB file found with this ID: 1GZX\n",
      "To proceed with the analysis of the secondary structure of the downloaded PDB file (1GZX), I need to compute the DSSP (secondary structure) assignment. This will help determine the number of chains, sheets, and other structural elements.\n",
      "\n",
      "Action:\n",
      "```\n",
      "{\n",
      "  \"action\": \"ComputeDSSP\",\n",
      "  \"action_input\": {\n",
      "    \"traj_file\": \"1GZX_093411\",\n",
      "    \"target_frames\": \"first\"\n",
      "  }\n",
      "}\n",
      "```To complete the analysis, I need to determine the number of chains in the PDB file. I will summarize the protein structure to get the number of chains and other relevant structural information.\n",
      "\n",
      "Action:\n",
      "```\n",
      "{\n",
      "  \"action\": \"SummarizeProteinStructure\",\n",
      "  \"action_input\": {\n",
      "    \"traj_file\": \"1GZX_093411\"\n",
      "  }\n",
      "}\n",
      "```To complete the analysis, I have gathered the necessary information about the secondary structure and the overall structure of the PDB file 1GZX. Here's the summary:\n",
      "\n",
      "- **Number of Chains**: 12\n",
      "- **Secondary Structure**:\n",
      "  - Residues in Helix: 444\n",
      "  - Residues in Strand: 0\n",
      "  - Residues in Coil: 130\n",
      "  - Residues not assigned (not a protein residue): 213\n",
      "\n",
      "Final Answer: The PDB file 1GZX contains 12 chains. In terms of secondary structure, there are 444 residues in helices, 0 residues in strands, and 130 residues in coils. Additionally, there are 213 residues that are not assigned as they are not protein residues."
     ]
    },
    {
     "data": {
      "text/plain": [
       "({'input': '\\n    You are an expert molecular dynamics scientist, and\\n    your task is to respond to the question or\\n    solve the problem to the best of your ability using\\n    the provided tools.\\n\\n    You can only respond with a single complete\\n    \\'Thought, Action, Action Input\\' format\\n    OR a single \\'Final Answer\\' format.\\n\\n    Complete format:\\n    Thought: (reflect on your progress and decide what to do next)\\n    Action:\\n    ```\\n    {\\n        \"action\": (the action name, it should be the name of a tool),\\n        \"action_input\": (the input string for the action)\\n    }\\n    \\'\\'\\'\\n\\n    OR\\n\\n    Final Answer: (the final response to the original input\\n    question, once all steps are complete)\\n\\n    You are required to use the tools provided,\\n    using the most specific tool\\n    available for each action.\\n    Your final answer should contain all information\\n    necessary to answer the question and its subquestions.\\n    Before you finish, reflect on your progress and make\\n    sure you have addressed the question in its entirety.\\n\\n    If you are asked to continue\\n    or reference previous runs,\\n    the context will be provided to you.\\n    If context is provided, you should assume\\n    you are continuing a chat.\\n\\n    Here is the input:\\n    Previous Context: None\\n    Question: Complete the following MD tasks:  1.- Download the PDB file 1GZX 2.- Analyze its secondary structure. 3.- Tell me how many chains, sheets, etc. there are.  ',\n",
       "  'output': \"To complete the analysis, I have gathered the necessary information about the secondary structure and the overall structure of the PDB file 1GZX. Here's the summary:\\n\\n- **Number of Chains**: 12\\n- **Secondary Structure**:\\n  - Residues in Helix: 444\\n  - Residues in Strand: 0\\n  - Residues in Coil: 130\\n  - Residues not assigned (not a protein residue): 213\\n\\nFinal Answer: The PDB file 1GZX contains 12 chains. In terms of secondary structure, there are 444 residues in helices, 0 residues in strands, and 130 residues in coils. Additionally, there are 213 residues that are not assigned as they are not protein residues.\"},\n",
       " 'BYW3XPIT')"
      ]
     },
     "execution_count": 5,
     "metadata": {},
     "output_type": "execute_result"
    }
   ],
   "source": [
    "agent_1.run(descriptive_prompt_2)"
   ]
  },
  {
   "cell_type": "code",
   "execution_count": 6,
   "metadata": {},
   "outputs": [
    {
     "name": "stdout",
     "output_type": "stream",
     "text": [
      "Thought: To address the question, I need to first download the PDB file for the protein with PDB ID 1GZX. After downloading, I will analyze the secondary structure to determine the number of chains, sheets, and other structural elements. I will use the PDBFileDownloader tool to download the file and then the ComputeDSSP tool to analyze the secondary structure.\n",
      "\n",
      "Action:\n",
      "```\n",
      "{\n",
      "  \"action\": \"PDBFileDownloader\",\n",
      "  \"action_input\": {\n",
      "    \"query\": \"1GZX\"\n",
      "  }\n",
      "}\n",
      "```PDB file found with this ID: 1GZX\n",
      "To proceed, I need to analyze the secondary structure of the downloaded PDB file using the ComputeDSSP tool. This will provide information on the number of chains, sheets, and other structural elements.\n",
      "\n",
      "Action:\n",
      "```json\n",
      "{\n",
      "  \"action\": \"ComputeDSSP\",\n",
      "  \"action_input\": {\n",
      "    \"traj_file\": \"1GZX_093425\",\n",
      "    \"target_frames\": \"all\"\n",
      "  }\n",
      "}\n",
      "```To complete the analysis, I need to determine the number of chains in the protein structure. I will use the SummarizeProteinStructure tool to obtain this information.\n",
      "\n",
      "Action:\n",
      "```json\n",
      "{\n",
      "  \"action\": \"SummarizeProteinStructure\",\n",
      "  \"action_input\": {\n",
      "    \"traj_file\": \"1GZX_093425\"\n",
      "  }\n",
      "}\n",
      "```To provide a comprehensive answer, I have gathered the necessary information about the protein structure from the PDB file with ID 1GZX. Here's the summary:\n",
      "\n",
      "- **Number of Chains**: 12\n",
      "- **Number of Residues in Helix**: 444\n",
      "- **Number of Residues in Strand**: 0\n",
      "- **Number of Residues in Coil**: 130\n",
      "- **Residues Not Assigned (not a protein residue)**: 213\n",
      "\n",
      "This analysis indicates that the protein structure consists of 12 chains, with a significant portion of residues forming helices, while no residues are forming strands. The remaining residues are either in coil structures or not assigned as protein residues.\n",
      "\n",
      "Final Answer: The protein with PDB ID 1GZX has 12 chains. It contains 444 residues in helices, 0 residues in strands, 130 residues in coils, and 213 residues that are not assigned as protein residues."
     ]
    },
    {
     "data": {
      "text/plain": [
       "({'input': '\\n    You are an expert molecular dynamics scientist, and\\n    your task is to respond to the question or\\n    solve the problem to the best of your ability using\\n    the provided tools.\\n\\n    You can only respond with a single complete\\n    \\'Thought, Action, Action Input\\' format\\n    OR a single \\'Final Answer\\' format.\\n\\n    Complete format:\\n    Thought: (reflect on your progress and decide what to do next)\\n    Action:\\n    ```\\n    {\\n        \"action\": (the action name, it should be the name of a tool),\\n        \"action_input\": (the input string for the action)\\n    }\\n    \\'\\'\\'\\n\\n    OR\\n\\n    Final Answer: (the final response to the original input\\n    question, once all steps are complete)\\n\\n    You are required to use the tools provided,\\n    using the most specific tool\\n    available for each action.\\n    Your final answer should contain all information\\n    necessary to answer the question and its subquestions.\\n    Before you finish, reflect on your progress and make\\n    sure you have addressed the question in its entirety.\\n\\n    If you are asked to continue\\n    or reference previous runs,\\n    the context will be provided to you.\\n    If context is provided, you should assume\\n    you are continuing a chat.\\n\\n    Here is the input:\\n    Previous Context: None\\n    Question: Download the PDB file for PDB ID 1GZX. Then, analyze the secondary structure of the protein and tell me how many chains, sheets, etc. there are ',\n",
       "  'output': \"To provide a comprehensive answer, I have gathered the necessary information about the protein structure from the PDB file with ID 1GZX. Here's the summary:\\n\\n- **Number of Chains**: 12\\n- **Number of Residues in Helix**: 444\\n- **Number of Residues in Strand**: 0\\n- **Number of Residues in Coil**: 130\\n- **Residues Not Assigned (not a protein residue)**: 213\\n\\nThis analysis indicates that the protein structure consists of 12 chains, with a significant portion of residues forming helices, while no residues are forming strands. The remaining residues are either in coil structures or not assigned as protein residues.\\n\\nFinal Answer: The protein with PDB ID 1GZX has 12 chains. It contains 444 residues in helices, 0 residues in strands, 130 residues in coils, and 213 residues that are not assigned as protein residues.\"},\n",
       " '0NJQ5UH4')"
      ]
     },
     "execution_count": 6,
     "metadata": {},
     "output_type": "execute_result"
    }
   ],
   "source": [
    "agent_2.run(non_descriptive_prompt_2)"
   ]
  },
  {
   "cell_type": "code",
   "execution_count": 7,
   "metadata": {},
   "outputs": [
    {
     "name": "stdout",
     "output_type": "stream",
     "text": [
      "Files found in registry: 1GZX_195153: PDB file downloaded from RSCB, PDBFile ID: 1GZX_195153, rec0_195156: dssp values for trajectory with id: 1GZX_195153, 1GZX_195204: PDB file downloaded from RSCB, PDBFile ID: 1GZX_195204, rec0_195205: dssp values for trajectory with id: 1GZX_195204\n"
     ]
    }
   ],
   "source": [
    "from mdagent import MDAgent\n",
    "agent = MDAgent(agent_type=\"Structured\", ckpt_dir=\"ckpt_182\")\n",
    "registry = agent.path_registry\n",
    "print(registry.list_path_names_and_descriptions())"
   ]
  },
  {
   "cell_type": "code",
   "execution_count": 8,
   "metadata": {},
   "outputs": [
    {
     "name": "stdout",
     "output_type": "stream",
     "text": [
      "Number of chains:  12\n",
      "Number of sheets:  0\n",
      "Number of helices:  444\n",
      "Number of coils:  130\n"
     ]
    }
   ],
   "source": [
    "import mdtraj as md\n",
    "\n",
    "path = registry.get_mapped_path(\"1GZX_195153\")\n",
    "traj = md.load(path)\n",
    "#get dssp \n",
    "number_of_chains = traj.n_chains\n",
    "secondary_structure = md.compute_dssp(traj,simplified=True)\n",
    "print(\"Number of chains: \",number_of_chains)\n",
    "print(\"Number of sheets: \",len([i for i in secondary_structure[0] if i == 'E']))\n",
    "print(\"Number of helices: \",len([i for i in secondary_structure[0] if i == 'H']))\n",
    "print(\"Number of coils: \",len([i for i in secondary_structure[0] if i == 'C']))"
   ]
  },
  {
   "cell_type": "code",
   "execution_count": null,
   "metadata": {},
   "outputs": [],
   "source": []
  }
 ],
 "metadata": {
  "kernelspec": {
   "display_name": "mdagent2",
   "language": "python",
   "name": "python3"
  },
  "language_info": {
   "codemirror_mode": {
    "name": "ipython",
    "version": 3
   },
   "file_extension": ".py",
   "mimetype": "text/x-python",
   "name": "python",
   "nbconvert_exporter": "python",
   "pygments_lexer": "ipython3",
   "version": "3.11.9"
  }
 },
 "nbformat": 4,
 "nbformat_minor": 2
}
