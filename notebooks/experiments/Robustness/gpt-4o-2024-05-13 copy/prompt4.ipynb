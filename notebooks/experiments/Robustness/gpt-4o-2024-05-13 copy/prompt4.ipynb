{
 "cells": [
  {
   "cell_type": "code",
   "execution_count": 1,
   "metadata": {},
   "outputs": [],
   "source": [
    "from mdagent import MDAgent"
   ]
  },
  {
   "cell_type": "code",
   "execution_count": 2,
   "metadata": {},
   "outputs": [
    {
     "name": "stdout",
     "output_type": "stream",
     "text": [
      "date: 2024-09-30\n",
      "time: 21:34:06\n"
     ]
    }
   ],
   "source": [
    "#todays date and time\n",
    "import datetime\n",
    "\n",
    "start = datetime.datetime.now()\n",
    "date = start.strftime(\"%Y-%m-%d\")\n",
    "print(\"date:\",date)\n",
    "time = start.strftime(\"%H:%M:%S\")\n",
    "print(\"time:\",time)"
   ]
  },
  {
   "cell_type": "code",
   "execution_count": 3,
   "metadata": {},
   "outputs": [],
   "source": [
    "descriptive_prompt_4 = \"Complete the following MD tasks: 1. Download the PDB file 1ZNI. 2. Pre-process the file by adding missing atoms, hydrogens, and replacing non-standard residues. 3. Simulate for 1 ps at 300 K. 4. Calculate the RMSD of the simulation.\"\n",
    "non_descriptive_prompt_4 = \"Simulate protein 1ZNI at 300 K for 1 ps and calculate the RMSD.\""
   ]
  },
  {
   "cell_type": "code",
   "execution_count": 4,
   "metadata": {},
   "outputs": [],
   "source": [
    "llm_model = \"gpt-4o-2024-08-06\"\n",
    "tools = \"all\""
   ]
  },
  {
   "cell_type": "code",
   "execution_count": 5,
   "metadata": {},
   "outputs": [],
   "source": [
    "agent_1 = MDAgent(agent_type=\"Structured\", model=llm_model, top_k_tools=tools)"
   ]
  },
  {
   "cell_type": "markdown",
   "metadata": {},
   "source": [
    "##### descriptive prompt"
   ]
  },
  {
   "cell_type": "code",
   "execution_count": 6,
   "metadata": {},
   "outputs": [
    {
     "name": "stdout",
     "output_type": "stream",
     "text": [
      "Thought: I will start by downloading the PDB file 1ZNI. Once downloaded, I will proceed with the pre-processing steps, followed by setting up and running the simulation, and finally calculating the RMSD. Let's begin with downloading the PDB file.\n",
      "\n",
      "Action:\n",
      "```json\n",
      "{\n",
      "  \"action\": \"PDBFileDownloader\",\n",
      "  \"action_input\": {\n",
      "    \"query\": \"1ZNI\"\n",
      "  }\n",
      "}\n",
      "```PDB file found with this ID: 1ZNI\n",
      "Thought: Now that the PDB file 1ZNI has been successfully downloaded, the next step is to pre-process the file by adding missing atoms, hydrogens, and replacing non-standard residues. I will proceed with this pre-processing step.\n",
      "\n",
      "Action:\n",
      "```json\n",
      "{\n",
      "  \"action\": \"CleaningToolFunction\",\n",
      "  \"action_input\": {\n",
      "    \"pdb_id\": \"1ZNI_213411\",\n",
      "    \"replace_nonstandard_residues\": true,\n",
      "    \"add_missing_atoms\": true,\n",
      "    \"remove_heterogens\": true,\n",
      "    \"remove_water\": true,\n",
      "    \"add_hydrogens\": true,\n",
      "    \"add_hydrogens_ph\": 7.0\n",
      "  }\n",
      "}\n",
      "```file path: /Users/jorgemedina/Desktop/md-agent/ckpt/ckpt_423/pdb/1ZNI_raw_20240930_213411.pdb\n",
      "Thought: The PDB file 1ZNI has been successfully pre-processed. The next step is to set up and run a short molecular dynamics simulation for 1 picosecond at 300 Kelvin. I will proceed with setting up and running the simulation.\n",
      "\n",
      "Action:\n",
      "```json\n",
      "{\n",
      "  \"action\": \"SetUpandRunFunction\",\n",
      "  \"action_input\": {\n",
      "    \"pdb_id\": \"1ZNI_213413\",\n",
      "    \"forcefield_files\": [],\n",
      "    \"save\": true,\n",
      "    \"system_params\": {\n",
      "      \"nonbondedMethod\": \"NoCutoff\",\n",
      "      \"constraints\": \"None\",\n",
      "      \"rigidWater\": false\n",
      "    },\n",
      "    \"integrator_params\": {\n",
      "      \"integrator_type\": \"LangevinMiddle\",\n",
      "      \"Temperature\": \"300 * kelvin\",\n",
      "      \"Friction\": \"1.0 / picoseconds\",\n",
      "      \"Timestep\": \"0.002 * picoseconds\"\n",
      "    },\n",
      "    \"simulation_params\": {\n",
      "      \"Ensemble\": \"NVT\",\n",
      "      \"Number of Steps\": 500,\n",
      "      \"record_interval_steps\": 5,\n",
      "      \"record_params\": [\"step\", \"potentialEnergy\", \"temperature\"]\n",
      "    }\n",
      "  }\n",
      "}\n",
      "```Setting default forcefields v2\n",
      "Building system...\n",
      "About to create system...\n",
      "Attempts at creating system: 0/3\n",
      "adding system without solvent\n",
      "System built successfully\n",
      "<openmm.openmm.System; proxy of <Swig Object of type 'OpenMM::System *' at 0x302881440> >\n",
      "Setting up integrator...\n",
      "Creating simulation...\n",
      "simulation set!\n",
      "Performing energy minimization...\n",
      "Minimization complete!\n",
      "Initial Positions saved to initial_positions.pdb\n",
      "Equilibrating...\n",
      "Simulating...\n",
      "Done!\n",
      "Standalone simulation script written to /Users/jorgemedina/Desktop/md-agent/ckpt/ckpt_423/simulations/NVT_1ZNI_213413_20240930_213417.py\n",
      "['LOG_sim0_213417_1ZNI_213413_20240930_213417.txt', 'prompt8.ipynb', 'TRAJ_sim0_213417_1ZNI_213413_20240930_213417.dcd', 'prompt2.ipynb', 'prompt6.ipynb', 'prompt4.ipynb', 'prompt3.ipynb', 'prompt1.ipynb', 'prompt5.ipynb', 'TOP_sim0_213417_1ZNI_213413_20240930_213417.pdb', 'prompt7.ipynb']\n",
      "The simulation for 1 picosecond at 300 Kelvin has been successfully completed. The next step is to calculate the RMSD of the simulation. I will proceed with this calculation using the trajectory and topology files generated from the simulation.\n",
      "\n",
      "Action:\n",
      "```json\n",
      "{\n",
      "  \"action\": \"ComputeRMSD\",\n",
      "  \"action_input\": {\n",
      "    \"top_id\": \"top_sim0_213417\",\n",
      "    \"traj_id\": \"rec0_213417\",\n",
      "    \"select\": \"protein\"\n",
      "  }\n",
      "}\n",
      "```Calculating RMSD...\n",
      "Data saved to /Users/jorgemedina/Desktop/md-agent/ckpt/ckpt_423/records/rmsd_213417.csv\n",
      "Plot saved to /Users/jorgemedina/Desktop/md-agent/ckpt/ckpt_423/figures/FIG_rmsd_213417_20240930_213426.png\n",
      "The tasks have been successfully completed. Here is a summary of the steps and results:\n",
      "\n",
      "1. **Downloaded the PDB file 1ZNI**: The file was successfully downloaded with the ID `1ZNI_213411`.\n",
      "\n",
      "2. **Pre-processed the PDB file**: Missing atoms and hydrogens were added, non-standard residues were replaced, and heterogens and water were removed. The cleaned file ID is `1ZNI_213413`.\n",
      "\n",
      "3. **Simulated for 1 ps at 300 K**: A molecular dynamics simulation was set up and run for 1 picosecond at 300 Kelvin. The simulation trajectory, state log, and PDB frames were generated with IDs `rec0_213417`, `rec1_213417`, and `rec2_213417`, respectively. The standalone script ID is `sim0_213417`, and the topology file ID is `top_sim0_213417`.\n",
      "\n",
      "4. **Calculated the RMSD of the simulation**: The RMSD was calculated and saved to a CSV file with ID `rmsd_213417`. A plot of the RMSD was also saved with plot ID `fig0_213426`.\n",
      "\n",
      "Final Answer: All tasks have been completed successfully, including downloading, pre-processing, simulating, and calculating the RMSD for the PDB file 1ZNI."
     ]
    },
    {
     "data": {
      "text/plain": [
       "({'input': '\\n    You are an expert molecular dynamics scientist, and\\n    your task is to respond to the question or\\n    solve the problem to the best of your ability using\\n    the provided tools.\\n\\n    You can only respond with a single complete\\n    \\'Thought, Action, Action Input\\' format\\n    OR a single \\'Final Answer\\' format.\\n\\n    Complete format:\\n    Thought: (reflect on your progress and decide what to do next)\\n    Action:\\n    ```\\n    {\\n        \"action\": (the action name, it should be the name of a tool),\\n        \"action_input\": (the input string for the action)\\n    }\\n    \\'\\'\\'\\n\\n    OR\\n\\n    Final Answer: (the final response to the original input\\n    question, once all steps are complete)\\n\\n    You are required to use the tools provided,\\n    using the most specific tool\\n    available for each action.\\n    Your final answer should contain all information\\n    necessary to answer the question and its subquestions.\\n    Before you finish, reflect on your progress and make\\n    sure you have addressed the question in its entirety.\\n\\n    If you are asked to continue\\n    or reference previous runs,\\n    the context will be provided to you.\\n    If context is provided, you should assume\\n    you are continuing a chat.\\n\\n    Here is the input:\\n    Previous Context: None\\n    Question: Complete the following MD tasks: 1. Download the PDB file 1ZNI. 2. Pre-process the file by adding missing atoms, hydrogens, and replacing non-standard residues. 3. Simulate for 1 ps at 300 K. 4. Calculate the RMSD of the simulation. ',\n",
       "  'output': 'The tasks have been successfully completed. Here is a summary of the steps and results:\\n\\n1. **Downloaded the PDB file 1ZNI**: The file was successfully downloaded with the ID `1ZNI_213411`.\\n\\n2. **Pre-processed the PDB file**: Missing atoms and hydrogens were added, non-standard residues were replaced, and heterogens and water were removed. The cleaned file ID is `1ZNI_213413`.\\n\\n3. **Simulated for 1 ps at 300 K**: A molecular dynamics simulation was set up and run for 1 picosecond at 300 Kelvin. The simulation trajectory, state log, and PDB frames were generated with IDs `rec0_213417`, `rec1_213417`, and `rec2_213417`, respectively. The standalone script ID is `sim0_213417`, and the topology file ID is `top_sim0_213417`.\\n\\n4. **Calculated the RMSD of the simulation**: The RMSD was calculated and saved to a CSV file with ID `rmsd_213417`. A plot of the RMSD was also saved with plot ID `fig0_213426`.\\n\\nFinal Answer: All tasks have been completed successfully, including downloading, pre-processing, simulating, and calculating the RMSD for the PDB file 1ZNI.'},\n",
       " '1LEGB1H1')"
      ]
     },
     "execution_count": 6,
     "metadata": {},
     "output_type": "execute_result"
    }
   ],
   "source": [
    "start1 = datetime.datetime.now()\n",
    "agent_1.run(descriptive_prompt_4)"
   ]
  },
  {
   "cell_type": "code",
   "execution_count": 7,
   "metadata": {},
   "outputs": [
    {
     "name": "stdout",
     "output_type": "stream",
     "text": [
      "agent_1 duration: 0.70 minutes\n"
     ]
    }
   ],
   "source": [
    "end = datetime.datetime.now()\n",
    "elapsed = end - start1\n",
    "print(f\"agent_1 duration: {elapsed.total_seconds()/60:.2f} minutes\")"
   ]
  },
  {
   "cell_type": "code",
   "execution_count": 8,
   "metadata": {},
   "outputs": [
    {
     "data": {
      "text/plain": [
       "'Names found in registry: 1ZNI_093450, 1ZNI_093452, 1ZNI_093500, 1ZNI_093508, top_sim0_093513, sim0_093513, rec0_093514, rec1_093514, rec2_093514, rmsd_093513, fig0_093526'"
      ]
     },
     "execution_count": 8,
     "metadata": {},
     "output_type": "execute_result"
    }
   ],
   "source": [
    "agent_1.path_registry.list_path_names()"
   ]
  },
  {
   "cell_type": "code",
   "execution_count": 9,
   "metadata": {},
   "outputs": [
    {
     "name": "stdout",
     "output_type": "stream",
     "text": [
      "Names found in registry: 1ZNI_093450, 1ZNI_093452, 1ZNI_093500, 1ZNI_093508, top_sim0_093513, sim0_093513, rec0_093514, rec1_093514, rec2_093514, rmsd_093513, fig0_093526\n"
     ]
    }
   ],
   "source": [
    "registry = agent_1.path_registry\n",
    "all_names = registry.list_path_names()\n",
    "print(all_names)"
   ]
  },
  {
   "cell_type": "code",
   "execution_count": 10,
   "metadata": {},
   "outputs": [
    {
     "name": "stdout",
     "output_type": "stream",
     "text": [
      "Files found in registry: 1ZNI_093450: PDB file downloaded from RSCB\n",
      " PDBFile ID: 1ZNI_093450\n",
      " 1ZNI_093452: Cleaned File:  Replaced Nonstandard Residues. Missing Atoms Added and replaces nonstandard residues. \n",
      " 1ZNI_093500: Cleaned File:  Replaced Nonstandard Residues. Added Hydrogens at pH 7.0. Missing Atoms Added and replaces nonstandard residues. \n",
      " 1ZNI_093508: Cleaned File:  Removed Heterogens\n",
      " and Water Kept.  Replaced Nonstandard Residues. Added Hydrogens at pH 7.0. Missing Atoms Added and replaces nonstandard residues. \n",
      " top_sim0_093513: Initial positions for simulation sim0_093513\n",
      " sim0_093513: Basic Simulation of Protein 1ZNI_093508\n",
      " rec0_093514: Simulation trajectory for protein 1ZNI_093508 and simulation sim0_093513\n",
      " rec1_093514: Simulation state log for protein 1ZNI_093508 and simulation sim0_093513\n",
      " rec2_093514: Simulation pdb frames for protein 1ZNI_093508 and simulation sim0_093513\n",
      " rmsd_093513: RMSD for 093513\n",
      " fig0_093526: RMSD plot for 093513\n"
     ]
    }
   ],
   "source": [
    "paths_and_descriptions = registry.list_path_names_and_descriptions()\n",
    "print(\"\\n\".join(paths_and_descriptions.split(\",\")))"
   ]
  },
  {
   "cell_type": "code",
   "execution_count": 11,
   "metadata": {},
   "outputs": [],
   "source": [
    "# let's see if we can't grab the plot\n",
    "import re\n",
    "import os\n",
    "match = re.search(rf\"fig0_\\d+\", all_names)\n",
    "plot_path = registry.get_mapped_path(match.group(0))\n",
    "assert os.path.exists(plot_path)"
   ]
  },
  {
   "cell_type": "code",
   "execution_count": 12,
   "metadata": {},
   "outputs": [
    {
     "data": {
      "image/png": "[encoded data removed]",
      "text/plain": [
       "<IPython.core.display.Image object>"
      ]
     },
     "execution_count": 12,
     "metadata": {},
     "output_type": "execute_result"
    }
   ],
   "source": [
    "from IPython.display import Image\n",
    "Image(filename=plot_path)"
   ]
  },
  {
   "cell_type": "markdown",
   "metadata": {},
   "source": [
    "##### non-descriptive prompt"
   ]
  },
  {
   "cell_type": "code",
   "execution_count": 13,
   "metadata": {},
   "outputs": [
    {
     "name": "stdout",
     "output_type": "stream",
     "text": [
      "Thought: To simulate protein 1ZNI at 300 K for 1 ps and calculate the RMSD, I need to first download the PDB file for protein 1ZNI, set up and run the simulation, and then compute the RMSD. I will start by downloading the PDB file for 1ZNI.\n",
      "\n",
      "Action:\n",
      "```\n",
      "{\n",
      "  \"action\": \"PDBFileDownloader\",\n",
      "  \"action_input\": \"1ZNI\"\n",
      "}\n",
      "```PDB file found with this ID: 1ZNI\n",
      "To proceed with the simulation of protein 1ZNI at 300 K for 1 ps, I need to set up and run the simulation using the downloaded PDB file. After the simulation, I will calculate the RMSD. I will start by setting up and running the simulation.\n",
      "\n",
      "Action:\n",
      "```\n",
      "{\n",
      "  \"action\": \"SetUpandRunFunction\",\n",
      "  \"action_input\": {\n",
      "    \"pdb_id\": \"1ZNI_114124\",\n",
      "    \"forcefield_files\": [\"amber99sb.xml\", \"tip3p.xml\"],\n",
      "    \"save\": true,\n",
      "    \"system_params\": {\n",
      "      \"nonbondedMethod\": \"NoCutoff\",\n",
      "      \"constraints\": \"None\",\n",
      "      \"rigidWater\": false\n",
      "    },\n",
      "    \"integrator_params\": {\n",
      "      \"integrator_type\": \"LangevinMiddle\",\n",
      "      \"Temperature\": \"300 * kelvin\",\n",
      "      \"Friction\": \"1.0 / picoseconds\",\n",
      "      \"Timestep\": \"0.002 * picoseconds\"\n",
      "    },\n",
      "    \"simulation_params\": {\n",
      "      \"Ensemble\": \"NVT\",\n",
      "      \"Number of Steps\": 500,\n",
      "      \"record_interval_steps\": 50,\n",
      "      \"record_params\": [\"step\", \"potentialEnergy\", \"temperature\"]\n",
      "    }\n",
      "  }\n",
      "}\n",
      "```Building system...\n",
      "About to create system...\n",
      "Attempts at creating system: 0/3\n",
      "adding system without solvent\n",
      "Trying to add component to Forcefield...\n",
      "Residue code: GLY\n",
      "Residue code not in solvent list. Adding forcefield                         not supported.\n",
      "Thought: The error indicates that there are missing hydrogen atoms in the GLY residue of the PDB file. To resolve this, I need to clean the PDB file by adding missing atoms and hydrogens. I will use the CleaningToolFunction to perform this task.\n",
      "\n",
      "Action:\n",
      "```\n",
      "{\n",
      "  \"action\": \"CleaningToolFunction\",\n",
      "  \"action_input\": {\n",
      "    \"pdb_id\": \"1ZNI_114124\",\n",
      "    \"replace_nonstandard_residues\": true,\n",
      "    \"add_missing_atoms\": true,\n",
      "    \"remove_heterogens\": true,\n",
      "    \"remove_water\": true,\n",
      "    \"add_hydrogens\": true,\n",
      "    \"add_hydrogens_ph\": 7.0\n",
      "  }\n",
      "}\n",
      "```file path: /Users/jorgemedina/Desktop/md-agent/ckpt/ckpt_417/pdb/1ZNI_raw_20240926_114124.pdb\n",
      "To proceed with the simulation of protein 1ZNI at 300 K for 1 ps, I will now set up and run the simulation using the cleaned PDB file. After the simulation, I will calculate the RMSD.\n",
      "\n",
      "Action:\n",
      "```\n",
      "{\n",
      "  \"action\": \"SetUpandRunFunction\",\n",
      "  \"action_input\": {\n",
      "    \"pdb_id\": \"1ZNI_114131\",\n",
      "    \"forcefield_files\": [\"amber99sb.xml\", \"tip3p.xml\"],\n",
      "    \"save\": true,\n",
      "    \"system_params\": {\n",
      "      \"nonbondedMethod\": \"NoCutoff\",\n",
      "      \"constraints\": \"None\",\n",
      "      \"rigidWater\": false\n",
      "    },\n",
      "    \"integrator_params\": {\n",
      "      \"integrator_type\": \"LangevinMiddle\",\n",
      "      \"Temperature\": \"300 * kelvin\",\n",
      "      \"Friction\": \"1.0 / picoseconds\",\n",
      "      \"Timestep\": \"0.002 * picoseconds\"\n",
      "    },\n",
      "    \"simulation_params\": {\n",
      "      \"Ensemble\": \"NVT\",\n",
      "      \"Number of Steps\": 500,\n",
      "      \"record_interval_steps\": 50,\n",
      "      \"record_params\": [\"step\", \"potentialEnergy\", \"temperature\"]\n",
      "    }\n",
      "  }\n",
      "}\n",
      "```Building system...\n",
      "About to create system...\n",
      "Attempts at creating system: 0/3\n",
      "adding system without solvent\n",
      "System built successfully\n",
      "<openmm.openmm.System; proxy of <Swig Object of type 'OpenMM::System *' at 0x305728510> >\n",
      "Setting up integrator...\n",
      "Creating simulation...\n",
      "simulation set!\n",
      "Performing energy minimization...\n",
      "Minimization complete!\n",
      "Initial Positions saved to initial_positions.pdb\n",
      "Equilibrating...\n",
      "Simulating...\n",
      "Done!\n",
      "Standalone simulation script written to /Users/jorgemedina/Desktop/md-agent/ckpt/ckpt_417/simulations/NVT_1ZNI_114131_20240926_114135.py\n",
      "['LOG_sim0_114135_1ZNI_114131_20240926_114135.txt', 'prompt8.ipynb', 'TRAJ_sim0_114135_1ZNI_114131_20240926_114135.dcd', 'prompt2.ipynb', 'prompt6.ipynb', 'prompt4.ipynb', 'prompt3.ipynb', 'prompt1.ipynb', 'TOP_sim0_114135_1ZNI_114131_20240926_114135.pdb', 'prompt5.ipynb', 'prompt7.ipynb']\n",
      "To calculate the RMSD for the simulation of protein 1ZNI, I will use the trajectory and topology files generated from the simulation. I will proceed with computing the RMSD using these files.\n",
      "\n",
      "Action:\n",
      "```\n",
      "{\n",
      "  \"action\": \"ComputeRMSD\",\n",
      "  \"action_input\": {\n",
      "    \"top_id\": \"top_sim0_114135\",\n",
      "    \"traj_id\": \"rec0_114135\",\n",
      "    \"select\": \"protein\"\n",
      "  }\n",
      "}\n",
      "```Calculating RMSD...\n",
      "Data saved to /Users/jorgemedina/Desktop/md-agent/ckpt/ckpt_417/records/rmsd_114135.csv\n",
      "Plot saved to /Users/jorgemedina/Desktop/md-agent/ckpt/ckpt_417/figures/FIG_rmsd_114135_20240926_114140.png\n",
      "To complete the task, I have successfully simulated protein 1ZNI at 300 K for 1 ps and calculated the RMSD. The RMSD results have been saved to a CSV file with the file ID rmsd_114135, and a plot of the RMSD has been saved with the plot ID fig0_114140.\n",
      "\n",
      "Final Answer: The simulation of protein 1ZNI at 300 K for 1 ps was successfully completed, and the RMSD was calculated. The RMSD data is saved in a CSV file with ID rmsd_114135, and the RMSD plot is saved with ID fig0_114140."
     ]
    },
    {
     "data": {
      "text/plain": [
       "({'input': '\\n    You are an expert molecular dynamics scientist, and\\n    your task is to respond to the question or\\n    solve the problem to the best of your ability using\\n    the provided tools.\\n\\n    You can only respond with a single complete\\n    \\'Thought, Action, Action Input\\' format\\n    OR a single \\'Final Answer\\' format.\\n\\n    Complete format:\\n    Thought: (reflect on your progress and decide what to do next)\\n    Action:\\n    ```\\n    {\\n        \"action\": (the action name, it should be the name of a tool),\\n        \"action_input\": (the input string for the action)\\n    }\\n    \\'\\'\\'\\n\\n    OR\\n\\n    Final Answer: (the final response to the original input\\n    question, once all steps are complete)\\n\\n    You are required to use the tools provided,\\n    using the most specific tool\\n    available for each action.\\n    Your final answer should contain all information\\n    necessary to answer the question and its subquestions.\\n    Before you finish, reflect on your progress and make\\n    sure you have addressed the question in its entirety.\\n\\n    If you are asked to continue\\n    or reference previous runs,\\n    the context will be provided to you.\\n    If context is provided, you should assume\\n    you are continuing a chat.\\n\\n    Here is the input:\\n    Previous Context: None\\n    Question: Simulate protein 1ZNI at 300 K for 1 ps and calculate the RMSD. ',\n",
       "  'output': 'To complete the task, I have successfully simulated protein 1ZNI at 300 K for 1 ps and calculated the RMSD. The RMSD results have been saved to a CSV file with the file ID rmsd_114135, and a plot of the RMSD has been saved with the plot ID fig0_114140.\\n\\nFinal Answer: The simulation of protein 1ZNI at 300 K for 1 ps was successfully completed, and the RMSD was calculated. The RMSD data is saved in a CSV file with ID rmsd_114135, and the RMSD plot is saved with ID fig0_114140.'},\n",
       " 'N4R9C4D6')"
      ]
     },
     "execution_count": 13,
     "metadata": {},
     "output_type": "execute_result"
    }
   ],
   "source": [
    "agent_2 = MDAgent(agent_type=\"Structured\", model=llm_model, top_k_tools=tools)\n",
    "start2 = datetime.datetime.now()\n",
    "agent_2.run(non_descriptive_prompt_4)"
   ]
  },
  {
   "cell_type": "code",
   "execution_count": 14,
   "metadata": {},
   "outputs": [
    {
     "name": "stdout",
     "output_type": "stream",
     "text": [
      "agent_2 duration: 0.36 minutes\n"
     ]
    }
   ],
   "source": [
    "end = datetime.datetime.now()\n",
    "elapsed = end - start2\n",
    "print(f\"agent_2 duration: {elapsed.total_seconds()/60:.2f} minutes\")"
   ]
  },
  {
   "cell_type": "code",
   "execution_count": 15,
   "metadata": {},
   "outputs": [
    {
     "name": "stdout",
     "output_type": "stream",
     "text": [
      "Names found in registry: 1ZNI_114124, 1ZNI_114131, top_sim0_114135, sim0_114135, rec0_114135, rec1_114135, rec2_114135, rmsd_114135, fig0_114140\n"
     ]
    }
   ],
   "source": [
    "registry = agent_2.path_registry\n",
    "all_names = registry.list_path_names()\n",
    "print(all_names)"
   ]
  },
  {
   "cell_type": "code",
   "execution_count": 16,
   "metadata": {},
   "outputs": [
    {
     "name": "stdout",
     "output_type": "stream",
     "text": [
      "Files found in registry: 1ZNI_114124: PDB file downloaded from RSCB\n",
      " PDBFile ID: 1ZNI_114124\n",
      " 1ZNI_114131: Cleaned File:  Removed Heterogens\n",
      " and Water Removed.  Replaced Nonstandard Residues. Added Hydrogens at pH 7.0. Missing Atoms Added and replaces nonstandard residues. \n",
      " top_sim0_114135: Initial positions for simulation sim0_114135\n",
      " sim0_114135: Basic Simulation of Protein 1ZNI_114131\n",
      " rec0_114135: Simulation trajectory for protein 1ZNI_114131 and simulation sim0_114135\n",
      " rec1_114135: Simulation state log for protein 1ZNI_114131 and simulation sim0_114135\n",
      " rec2_114135: Simulation pdb frames for protein 1ZNI_114131 and simulation sim0_114135\n",
      " rmsd_114135: RMSD for 114135\n",
      " fig0_114140: RMSD plot for 114135\n"
     ]
    }
   ],
   "source": [
    "paths_and_descriptions = registry.list_path_names_and_descriptions()\n",
    "print(\"\\n\".join(paths_and_descriptions.split(\",\")))"
   ]
  },
  {
   "cell_type": "code",
   "execution_count": 17,
   "metadata": {},
   "outputs": [],
   "source": [
    "# let's see if we can't grab the plot\n",
    "import re\n",
    "import os\n",
    "match = re.search(rf\"fig0_\\d+\", all_names)\n",
    "plot_path = registry.get_mapped_path(match.group(0))\n",
    "assert os.path.exists(plot_path)"
   ]
  },
  {
   "cell_type": "code",
   "execution_count": 18,
   "metadata": {},
   "outputs": [
    {
     "data": {
      "image/png": "[encoded data removed]",
      "text/plain": [
       "<IPython.core.display.Image object>"
      ]
     },
     "execution_count": 18,
     "metadata": {},
     "output_type": "execute_result"
    }
   ],
   "source": [
    "from IPython.display import Image\n",
    "Image(filename=plot_path)"
   ]
  },
  {
   "cell_type": "code",
   "execution_count": null,
   "metadata": {},
   "outputs": [],
   "source": []
  }
 ],
 "metadata": {
  "kernelspec": {
   "display_name": "mdagent2",
   "language": "python",
   "name": "python3"
  },
  "language_info": {
   "codemirror_mode": {
    "name": "ipython",
    "version": 3
   },
   "file_extension": ".py",
   "mimetype": "text/x-python",
   "name": "python",
   "nbconvert_exporter": "python",
   "pygments_lexer": "ipython3",
   "version": "3.11.9"
  }
 },
 "nbformat": 4,
 "nbformat_minor": 2
}
