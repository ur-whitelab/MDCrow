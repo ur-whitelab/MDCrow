{
 "cells": [
  {
   "cell_type": "code",
   "execution_count": null,
   "metadata": {},
   "outputs": [],
   "source": [
    "from mdagent import MDAgent\n"
   ]
  },
  {
   "cell_type": "code",
   "execution_count": null,
   "metadata": {},
   "outputs": [],
   "source": [
    "descriptive_prompt_6 = \"Complete the following MD tasks:  1.- Download the PDB files for deoxygenated hemoglobin (1A3N) and oxygenated hemoglobin (6BB5) 2.- Pre-process the files by adding missing atoms, and replacing non-standard residues. 3.- Simulate both for 1ps at 330 K simulation\"\n",
    "non_descriptive_prompt_6 = \"Simulate hemoglobin oxygenated (1A3N) and de-oxygenated (6BB5)\""
   ]
  },
  {
   "cell_type": "code",
   "execution_count": null,
   "metadata": {},
   "outputs": [],
   "source": [
    "llm_model = \"gpt-4o-2024-05-13\"\n",
    "tools = \"all\""
   ]
  },
  {
   "cell_type": "code",
   "execution_count": null,
   "metadata": {},
   "outputs": [],
   "source": [
    "agent_1 = MDAgent(agent_type=\"Structured\", model=llm_model, top_k_tools=tools)\n",
    "agent_2 = MDAgent(agent_type=\"Structured\", model=llm_model, top_k_tools=tools)"
   ]
  },
  {
   "cell_type": "code",
   "execution_count": null,
   "metadata": {},
   "outputs": [],
   "source": [
    "agent_1.run(descriptive_prompt_6)"
   ]
  },
  {
   "cell_type": "code",
   "execution_count": null,
   "metadata": {},
   "outputs": [],
   "source": [
    "agent_2.run(non_descriptive_prompt_6)"
   ]
  },
  {
   "cell_type": "code",
   "execution_count": null,
   "metadata": {},
   "outputs": [],
   "source": []
  },
  {
   "cell_type": "code",
   "execution_count": null,
   "metadata": {},
   "outputs": [],
   "source": [
    "import mdagent\n",
    "import mdtraj as md\n",
    "import os\n",
    "\n",
    "agent = mdagent.MDAgent(agent_type=\"Structured\", model=\"gpt-4o-2024-05-13\", top_k_tools=\"all\",ckpt_dir=\"ckpt_188\")\n",
    "registry = agent.path_registry\n",
    "\n",
    "print(registry.list_path_names_and_descriptions().replace(\",\", \"\\n\"))"
   ]
  },
  {
   "cell_type": "code",
   "execution_count": null,
   "metadata": {},
   "outputs": [],
   "source": [
    "#descriptive \n",
    "pathtraj_1 = registry.get_mapped_path(\"rec0_195303\")\n",
    "pathtop_1 = registry.get_mapped_path(\"top_sim0_195302\")\n",
    "\n",
    "pathtraj_2 = registry.get_mapped_path(\"rec0_195517\")\n",
    "pathtop_2 = registry.get_mapped_path(\"top_sim0_195517\")\n",
    "\n",
    "assert os.path.exists(pathtraj_1)\n",
    "assert os.path.exists(pathtop_1)\n",
    "assert os.path.exists(pathtraj_2)\n",
    "assert os.path.exists(pathtop_2)\n"
   ]
  },
  {
   "cell_type": "code",
   "execution_count": null,
   "metadata": {},
   "outputs": [],
   "source": [
    "traj_1 = md.load(pathtraj_1, top=pathtop_1)\n",
    "traj_2 = md.load(pathtraj_2, top=pathtop_2)\n",
    "print(traj_1.n_frames)\n",
    "print(traj_2.n_frames)"
   ]
  },
  {
   "cell_type": "code",
   "execution_count": null,
   "metadata": {},
   "outputs": [],
   "source": [
    "#non-descriptive \n",
    "pathtraj_1 = registry.get_mapped_path(\"rec0_195637\")\n",
    "pathtop_1 = registry.get_mapped_path(\"top_sim0_195631\")\n",
    "\n",
    "pathtraj_2 = registry.get_mapped_path(\"rec0_200026\")\n",
    "pathtop_2 = registry.get_mapped_path(\"top_sim0_200025\")\n",
    "\n",
    "assert os.path.exists(pathtraj_1)\n",
    "assert os.path.exists(pathtop_1)\n",
    "assert os.path.exists(pathtraj_2)\n",
    "assert os.path.exists(pathtop_2)"
   ]
  },
  {
   "cell_type": "code",
   "execution_count": null,
   "metadata": {},
   "outputs": [],
   "source": [
    "traj_1 = md.load(pathtraj_1, top=pathtop_1)\n",
    "traj_2 = md.load(pathtraj_2, top=pathtop_2)\n",
    "print(traj_1.n_frames)\n",
    "print(traj_2.n_frames)"
   ]
  },
  {
   "cell_type": "code",
   "execution_count": null,
   "metadata": {},
   "outputs": [],
   "source": []
  }
 ],
 "metadata": {
  "kernelspec": {
   "display_name": "mdagent2",
   "language": "python",
   "name": "python3"
  },
  "language_info": {
   "codemirror_mode": {
    "name": "ipython",
    "version": 3
   },
   "file_extension": ".py",
   "mimetype": "text/x-python",
   "name": "python",
   "nbconvert_exporter": "python",
   "pygments_lexer": "ipython3",
   "version": "3.11.9"
  }
 },
 "nbformat": 4,
 "nbformat_minor": 2
}
