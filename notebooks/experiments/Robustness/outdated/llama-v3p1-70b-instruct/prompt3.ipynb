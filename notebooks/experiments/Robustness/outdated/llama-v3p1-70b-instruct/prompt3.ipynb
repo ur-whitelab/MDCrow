{
 "cells": [
  {
   "cell_type": "code",
   "execution_count": 1,
   "metadata": {
    "execution": {
     "iopub.execute_input": "2024-10-01T15:09:09.253610Z",
     "iopub.status.busy": "2024-10-01T15:09:09.253457Z",
     "iopub.status.idle": "2024-10-01T15:09:12.666734Z",
     "shell.execute_reply": "2024-10-01T15:09:12.666330Z"
    }
   },
   "outputs": [],
   "source": [
    "from mdagent import MDAgent\n"
   ]
  },
  {
   "cell_type": "code",
   "execution_count": 2,
   "metadata": {
    "execution": {
     "iopub.execute_input": "2024-10-01T15:09:12.669550Z",
     "iopub.status.busy": "2024-10-01T15:09:12.669176Z",
     "iopub.status.idle": "2024-10-01T15:09:12.672593Z",
     "shell.execute_reply": "2024-10-01T15:09:12.672237Z"
    }
   },
   "outputs": [],
   "source": [
    "descriptive_prompt_3 = \"I need you to help me with MD tasks:  1.- Download the PDB file 1ZNI 2.- Pre-process the file by Adding missing atoms, hydrogens, and replacing non-standard residues. 3.- Simulate for 1ps at 300 K\"\n",
    "non_descriptive_prompt_3 = \"Simulate 1ZNI for 1ps at temp=300K\""
   ]
  },
  {
   "cell_type": "code",
   "execution_count": 3,
   "metadata": {
    "execution": {
     "iopub.execute_input": "2024-10-01T15:09:12.674573Z",
     "iopub.status.busy": "2024-10-01T15:09:12.674418Z",
     "iopub.status.idle": "2024-10-01T15:09:12.697718Z",
     "shell.execute_reply": "2024-10-01T15:09:12.697366Z"
    }
   },
   "outputs": [],
   "source": [
    "llm_model = \"accounts/fireworks/models/llama-v3p1-70b-instruct\"\n",
    "tools = \"all\""
   ]
  },
  {
   "cell_type": "code",
   "execution_count": 4,
   "metadata": {
    "execution": {
     "iopub.execute_input": "2024-10-01T15:09:12.699664Z",
     "iopub.status.busy": "2024-10-01T15:09:12.699512Z",
     "iopub.status.idle": "2024-10-01T15:09:13.078237Z",
     "shell.execute_reply": "2024-10-01T15:09:13.077842Z"
    }
   },
   "outputs": [],
   "source": [
    "agent_1 = MDAgent(agent_type=\"Structured\", model=llm_model, top_k_tools=tools)\n",
    "agent_2 = MDAgent(agent_type=\"Structured\", model=llm_model, top_k_tools=tools)"
   ]
  },
  {
   "cell_type": "code",
   "execution_count": 5,
   "metadata": {
    "execution": {
     "iopub.execute_input": "2024-10-01T15:09:13.080778Z",
     "iopub.status.busy": "2024-10-01T15:09:13.080604Z",
     "iopub.status.idle": "2024-10-01T15:17:30.425367Z",
     "shell.execute_reply": "2024-10-01T15:17:30.424975Z"
    }
   },
   "outputs": [
    {
     "name": "stdout",
     "output_type": "stream",
     "text": [
      "Thought:"
     ]
    },
    {
     "name": "stdout",
     "output_type": "stream",
     "text": [
      " To accomplish the tasks,"
     ]
    },
    {
     "name": "stdout",
     "output_type": "stream",
     "text": [
      " I need to download the"
     ]
    },
    {
     "name": "stdout",
     "output_type": "stream",
     "text": [
      " PDB file 1"
     ]
    },
    {
     "name": "stdout",
     "output_type": "stream",
     "text": [
      "ZNI, pre-process"
     ]
    },
    {
     "name": "stdout",
     "output_type": "stream",
     "text": [
      " it by adding missing atoms,"
     ]
    },
    {
     "name": "stdout",
     "output_type": "stream",
     "text": [
      " hydrogens, and replacing non-standard"
     ]
    },
    {
     "name": "stdout",
     "output_type": "stream",
     "text": [
      " residues, and then simulate it"
     ]
    },
    {
     "name": "stdout",
     "output_type": "stream",
     "text": [
      " for 1 ps at"
     ]
    },
    {
     "name": "stdout",
     "output_type": "stream",
     "text": [
      " 300 K.\n",
      "\n",
      "Action:\n"
     ]
    },
    {
     "name": "stdout",
     "output_type": "stream",
     "text": [
      "```\n",
      "{\n",
      "  \"action\": \""
     ]
    },
    {
     "name": "stdout",
     "output_type": "stream",
     "text": [
      "PDBFileDownloader\",\n",
      " "
     ]
    },
    {
     "name": "stdout",
     "output_type": "stream",
     "text": [
      " \"action_input\": \"1Z"
     ]
    },
    {
     "name": "stdout",
     "output_type": "stream",
     "text": [
      "NI\"\n",
      "}\n",
      "```\n"
     ]
    },
    {
     "name": "stdout",
     "output_type": "stream",
     "text": [
      "PDB file found with this ID: 1ZNI\n"
     ]
    },
    {
     "name": "stdout",
     "output_type": "stream",
     "text": [
      "Thought:"
     ]
    },
    {
     "name": "stdout",
     "output_type": "stream",
     "text": [
      " Now that I have"
     ]
    },
    {
     "name": "stdout",
     "output_type": "stream",
     "text": [
      " downloaded the PDB"
     ]
    },
    {
     "name": "stdout",
     "output_type": "stream",
     "text": [
      " file, I need"
     ]
    },
    {
     "name": "stdout",
     "output_type": "stream",
     "text": [
      " to pre-process it by"
     ]
    },
    {
     "name": "stdout",
     "output_type": "stream",
     "text": [
      " adding missing atoms,"
     ]
    },
    {
     "name": "stdout",
     "output_type": "stream",
     "text": [
      " hydrogens, and replacing"
     ]
    },
    {
     "name": "stdout",
     "output_type": "stream",
     "text": [
      " non-standard residues.\n",
      "\n"
     ]
    },
    {
     "name": "stdout",
     "output_type": "stream",
     "text": [
      "Action:\n",
      "```\n",
      "{\n",
      " "
     ]
    },
    {
     "name": "stdout",
     "output_type": "stream",
     "text": [
      " \"action\": \""
     ]
    },
    {
     "name": "stdout",
     "output_type": "stream",
     "text": [
      "CleaningToolFunction\",\n"
     ]
    },
    {
     "name": "stdout",
     "output_type": "stream",
     "text": [
      "  \"action_input\":"
     ]
    },
    {
     "name": "stdout",
     "output_type": "stream",
     "text": [
      " {\n",
      "    \"pdb"
     ]
    },
    {
     "name": "stdout",
     "output_type": "stream",
     "text": [
      "_id\": \"1Z"
     ]
    },
    {
     "name": "stdout",
     "output_type": "stream",
     "text": [
      "NI_110915"
     ]
    },
    {
     "name": "stdout",
     "output_type": "stream",
     "text": [
      "\",\n",
      "   "
     ]
    },
    {
     "name": "stdout",
     "output_type": "stream",
     "text": [
      " \"add"
     ]
    },
    {
     "name": "stdout",
     "output_type": "stream",
     "text": [
      "_missing_atoms\":"
     ]
    },
    {
     "name": "stdout",
     "output_type": "stream",
     "text": [
      " true,\n",
      "    \"add"
     ]
    },
    {
     "name": "stdout",
     "output_type": "stream",
     "text": [
      "_hydrogens\":"
     ]
    },
    {
     "name": "stdout",
     "output_type": "stream",
     "text": [
      " true,\n",
      "    \"add"
     ]
    },
    {
     "name": "stdout",
     "output_type": "stream",
     "text": [
      "_hydrogens_ph\":"
     ]
    },
    {
     "name": "stdout",
     "output_type": "stream",
     "text": [
      " 7.0"
     ]
    },
    {
     "name": "stdout",
     "output_type": "stream",
     "text": [
      ",\n",
      "    \"replace_non"
     ]
    },
    {
     "name": "stdout",
     "output_type": "stream",
     "text": [
      "standard_res"
     ]
    },
    {
     "name": "stdout",
     "output_type": "stream",
     "text": [
      "idues\":"
     ]
    },
    {
     "name": "stdout",
     "output_type": "stream",
     "text": [
      " true,\n",
      "    \"remove"
     ]
    },
    {
     "name": "stdout",
     "output_type": "stream",
     "text": [
      "_heterogens"
     ]
    },
    {
     "name": "stdout",
     "output_type": "stream",
     "text": [
      "\": true,\n"
     ]
    },
    {
     "name": "stdout",
     "output_type": "stream",
     "text": [
      "    \"remove_water\":"
     ]
    },
    {
     "name": "stdout",
     "output_type": "stream",
     "text": [
      " true\n",
      "  }\n"
     ]
    },
    {
     "name": "stdout",
     "output_type": "stream",
     "text": [
      "}\n",
      "```\n",
      "\n"
     ]
    },
    {
     "name": "stdout",
     "output_type": "stream",
     "text": [
      "file path: /gpfs/fs2/scratch/qcampbe2/repos/md-agent/ckpt/ckpt_68/pdb/1ZNI_raw_20241001_110915.pdb\n"
     ]
    },
    {
     "name": "stdout",
     "output_type": "stream",
     "text": [
      "Thought:"
     ]
    },
    {
     "name": "stdout",
     "output_type": "stream",
     "text": [
      " Now that I have pre-"
     ]
    },
    {
     "name": "stdout",
     "output_type": "stream",
     "text": [
      "processed the P"
     ]
    },
    {
     "name": "stdout",
     "output_type": "stream",
     "text": [
      "DB file, I need to simulate it"
     ]
    },
    {
     "name": "stdout",
     "output_type": "stream",
     "text": [
      " for 1 ps at"
     ]
    },
    {
     "name": "stdout",
     "output_type": "stream",
     "text": [
      " 300 K.\n",
      "\n",
      "Action:\n",
      "``"
     ]
    },
    {
     "name": "stdout",
     "output_type": "stream",
     "text": [
      "`\n",
      "{\n",
      "  \"action\": \""
     ]
    },
    {
     "name": "stdout",
     "output_type": "stream",
     "text": [
      "SetUpandRunFunction\",\n"
     ]
    },
    {
     "name": "stdout",
     "output_type": "stream",
     "text": [
      "  \"action_input\": {\n"
     ]
    },
    {
     "name": "stdout",
     "output_type": "stream",
     "text": [
      "    \"pdb_id\": \"1Z"
     ]
    },
    {
     "name": "stdout",
     "output_type": "stream",
     "text": [
      "NI_110919\",\n"
     ]
    },
    {
     "name": "stdout",
     "output_type": "stream",
     "text": [
      "    \"forcefield_files"
     ]
    },
    {
     "name": "stdout",
     "output_type": "stream",
     "text": [
      "\": [\"amber99"
     ]
    },
    {
     "name": "stdout",
     "output_type": "stream",
     "text": [
      "sbild"
     ]
    },
    {
     "name": "stdout",
     "output_type": "stream",
     "text": [
      "n.xml\","
     ]
    },
    {
     "name": "stdout",
     "output_type": "stream",
     "text": [
      " \"tip3p.xml\"],\n"
     ]
    },
    {
     "name": "stdout",
     "output_type": "stream",
     "text": [
      "    \"save\": true,\n",
      "   "
     ]
    },
    {
     "name": "stdout",
     "output_type": "stream",
     "text": [
      " \"system_params\": {\n",
      "     "
     ]
    },
    {
     "name": "stdout",
     "output_type": "stream",
     "text": [
      " \"nonbondedMethod\":"
     ]
    },
    {
     "name": "stdout",
     "output_type": "stream",
     "text": [
      " \"PME\",\n",
      "      \"non"
     ]
    },
    {
     "name": "stdout",
     "output_type": "stream",
     "text": [
      "bondedCutoff\": \""
     ]
    },
    {
     "name": "stdout",
     "output_type": "stream",
     "text": [
      "1"
     ]
    },
    {
     "name": "stdout",
     "output_type": "stream",
     "text": [
      ".0 * nanometers\",\n",
      "     "
     ]
    },
    {
     "name": "stdout",
     "output_type": "stream",
     "text": [
      " \"ewaldError"
     ]
    },
    {
     "name": "stdout",
     "output_type": "stream",
     "text": [
      "Tolerance\": 0"
     ]
    },
    {
     "name": "stdout",
     "output_type": "stream",
     "text": [
      ".00001,\n",
      "      \"constraints"
     ]
    },
    {
     "name": "stdout",
     "output_type": "stream",
     "text": [
      "\": \"HBonds\",\n"
     ]
    },
    {
     "name": "stdout",
     "output_type": "stream",
     "text": [
      "      \"rigidWater\":"
     ]
    },
    {
     "name": "stdout",
     "output_type": "stream",
     "text": [
      " true,\n",
      "      \"constraintTolerance"
     ]
    },
    {
     "name": "stdout",
     "output_type": "stream",
     "text": [
      "\": 0.00001"
     ]
    },
    {
     "name": "stdout",
     "output_type": "stream",
     "text": [
      ",\n",
      "      \"solvate"
     ]
    },
    {
     "name": "stdout",
     "output_type": "stream",
     "text": [
      "\": true\n",
      "    },\n",
      "   "
     ]
    },
    {
     "name": "stdout",
     "output_type": "stream",
     "text": [
      " \"integrator_params\":"
     ]
    },
    {
     "name": "stdout",
     "output_type": "stream",
     "text": [
      " {\n",
      "      \"integrator"
     ]
    },
    {
     "name": "stdout",
     "output_type": "stream",
     "text": [
      "_type\": \"Langevin"
     ]
    },
    {
     "name": "stdout",
     "output_type": "stream",
     "text": [
      "Middle\",\n",
      "      \"Temperature"
     ]
    },
    {
     "name": "stdout",
     "output_type": "stream",
     "text": [
      "\": \"300 * kel"
     ]
    },
    {
     "name": "stdout",
     "output_type": "stream",
     "text": [
      "vin\",\n"
     ]
    },
    {
     "name": "stdout",
     "output_type": "stream",
     "text": [
      "      \"Friction\": \""
     ]
    },
    {
     "name": "stdout",
     "output_type": "stream",
     "text": [
      "1.0 / picoseconds"
     ]
    },
    {
     "name": "stdout",
     "output_type": "stream",
     "text": [
      "\",\n",
      "      \"Timestep\":"
     ]
    },
    {
     "name": "stdout",
     "output_type": "stream",
     "text": [
      " \"0.002 * pic"
     ]
    },
    {
     "name": "stdout",
     "output_type": "stream",
     "text": [
      "oseconds\",\n",
      "      \"Pressure\": \""
     ]
    },
    {
     "name": "stdout",
     "output_type": "stream",
     "text": [
      "1.0 * bar\"\n"
     ]
    },
    {
     "name": "stdout",
     "output_type": "stream",
     "text": [
      "    },\n",
      "    \"simulation_params\":"
     ]
    },
    {
     "name": "stdout",
     "output_type": "stream",
     "text": [
      " {\n",
      "      \"Ensemble\":"
     ]
    },
    {
     "name": "stdout",
     "output_type": "stream",
     "text": [
      " \"NPT\",\n"
     ]
    },
    {
     "name": "stdout",
     "output_type": "stream",
     "text": [
      "      \"Number"
     ]
    },
    {
     "name": "stdout",
     "output_type": "stream",
     "text": [
      " of Steps\": 500,\n",
      "     "
     ]
    },
    {
     "name": "stdout",
     "output_type": "stream",
     "text": [
      " \"record_interval_steps\":"
     ]
    },
    {
     "name": "stdout",
     "output_type": "stream",
     "text": [
      " 100,\n",
      "      \"record"
     ]
    },
    {
     "name": "stdout",
     "output_type": "stream",
     "text": [
      "_params\": [\"step\","
     ]
    },
    {
     "name": "stdout",
     "output_type": "stream",
     "text": [
      " \"potentialEnergy\","
     ]
    },
    {
     "name": "stdout",
     "output_type": "stream",
     "text": [
      " \"temperature\"]\n",
      "    }\n",
      " "
     ]
    },
    {
     "name": "stdout",
     "output_type": "stream",
     "text": [
      " }\n",
      "}\n",
      "```\n",
      "\n"
     ]
    },
    {
     "name": "stdout",
     "output_type": "stream",
     "text": [
      "Building system...\n",
      "About to create system...\n",
      "Attempts at creating system: 0/3\n"
     ]
    },
    {
     "name": "stdout",
     "output_type": "stream",
     "text": [
      "System built successfully\n",
      "<openmm.openmm.System; proxy of <Swig Object of type 'OpenMM::System *' at 0x2b9e848461f0> >\n",
      "Setting up integrator...\n",
      "Creating simulation...\n",
      "simulation set!\n",
      "Performing energy minimization...\n"
     ]
    },
    {
     "name": "stdout",
     "output_type": "stream",
     "text": [
      "Minimization complete!\n",
      "Initial Positions saved to initial_positions.pdb\n",
      "Equilibrating...\n"
     ]
    },
    {
     "name": "stdout",
     "output_type": "stream",
     "text": [
      "Simulating...\n"
     ]
    },
    {
     "name": "stdout",
     "output_type": "stream",
     "text": [
      "Done!\n",
      "Standalone simulation script written to /gpfs/fs2/scratch/qcampbe2/repos/md-agent/ckpt/ckpt_68/simulations/NPT_1ZNI_110919_20241001_110925.py\n",
      "['TRAJ_sim0_110925_1ZNI_110919_20241001_110928.dcd', 'prompt7.ipynb', 'prompt1.ipynb', 'prompt3.ipynb', '.ipynb_checkpoints', 'packmol.inp', 'prompt2.ipynb', 'out.70b_robust_exp', 'results', 'prompt8.ipynb', 'prompt6.ipynb', 'prompt4.ipynb', '70b_robust_exp.sh', 'LOG_sim0_110925_1ZNI_110919_20241001_110928.txt', 'prompt5.ipynb', 'TOP_sim0_110925_1ZNI_110919_20241001_110928.pdb']\n"
     ]
    },
    {
     "name": "stdout",
     "output_type": "stream",
     "text": [
      "Thought:"
     ]
    },
    {
     "name": "stdout",
     "output_type": "stream",
     "text": [
      " I have"
     ]
    },
    {
     "name": "stdout",
     "output_type": "stream",
     "text": [
      " completed the tasks of downloading the"
     ]
    },
    {
     "name": "stdout",
     "output_type": "stream",
     "text": [
      " PDB file 1"
     ]
    },
    {
     "name": "stdout",
     "output_type": "stream",
     "text": [
      "ZNI, pre-processing it by"
     ]
    },
    {
     "name": "stdout",
     "output_type": "stream",
     "text": [
      " adding missing"
     ]
    },
    {
     "name": "stdout",
     "output_type": "stream",
     "text": [
      " atoms, hydrogens, and replacing"
     ]
    },
    {
     "name": "stdout",
     "output_type": "stream",
     "text": [
      " non-standard residues, and sim"
     ]
    },
    {
     "name": "stdout",
     "output_type": "stream",
     "text": [
      "ulating it for 1"
     ]
    },
    {
     "name": "stdout",
     "output_type": "stream",
     "text": [
      " ps at 300 K."
     ]
    },
    {
     "name": "stdout",
     "output_type": "stream",
     "text": [
      " I will now provide the"
     ]
    },
    {
     "name": "stdout",
     "output_type": "stream",
     "text": [
      " final answer.\n",
      "\n",
      "Action"
     ]
    },
    {
     "name": "stdout",
     "output_type": "stream",
     "text": [
      ":\n",
      "```\n",
      "{\n",
      "  \"action"
     ]
    },
    {
     "name": "stdout",
     "output_type": "stream",
     "text": [
      "\": \"Final Answer\",\n",
      " "
     ]
    },
    {
     "name": "stdout",
     "output_type": "stream",
     "text": [
      " \"action_input\": \"The"
     ]
    },
    {
     "name": "stdout",
     "output_type": "stream",
     "text": [
      " PDB file 1ZNI"
     ]
    },
    {
     "name": "stdout",
     "output_type": "stream",
     "text": [
      " was successfully downloaded, pre-"
     ]
    },
    {
     "name": "stdout",
     "output_type": "stream",
     "text": [
      "processed, and simulated for "
     ]
    },
    {
     "name": "stdout",
     "output_type": "stream",
     "text": [
      "1 ps at 300 K."
     ]
    },
    {
     "name": "stdout",
     "output_type": "stream",
     "text": [
      " The simulation results are stored"
     ]
    },
    {
     "name": "stdout",
     "output_type": "stream",
     "text": [
      " in the files 'rec0_"
     ]
    },
    {
     "name": "stdout",
     "output_type": "stream",
     "text": [
      "110928', 'rec"
     ]
    },
    {
     "name": "stdout",
     "output_type": "stream",
     "text": [
      "1_110928', and"
     ]
    },
    {
     "name": "stdout",
     "output_type": "stream",
     "text": [
      " 'rec2_110928"
     ]
    },
    {
     "name": "stdout",
     "output_type": "stream",
     "text": [
      "'. The standalone script"
     ]
    },
    {
     "name": "stdout",
     "output_type": "stream",
     "text": [
      " for the simulation is saved with"
     ]
    },
    {
     "name": "stdout",
     "output_type": "stream",
     "text": [
      " the ID 'sim"
     ]
    },
    {
     "name": "stdout",
     "output_type": "stream",
     "text": [
      "0_110925'. The"
     ]
    },
    {
     "name": "stdout",
     "output_type": "stream",
     "text": [
      " initial topology file ID is"
     ]
    },
    {
     "name": "stdout",
     "output_type": "stream",
     "text": [
      " 'top_sim0_110"
     ]
    },
    {
     "name": "stdout",
     "output_type": "stream",
     "text": [
      "925' and is saved in"
     ]
    },
    {
     "name": "stdout",
     "output_type": "stream",
     "text": [
      " the files/pdb/ directory"
     ]
    },
    {
     "name": "stdout",
     "output_type": "stream",
     "text": [
      ".\"\n",
      "}\n"
     ]
    },
    {
     "name": "stdout",
     "output_type": "stream",
     "text": [
      "```"
     ]
    },
    {
     "data": {
      "text/plain": [
       "({'input': '\\n    You are an expert molecular dynamics scientist, and\\n    your task is to respond to the question or\\n    solve the problem to the best of your ability using\\n    the provided tools.\\n\\n    You can only respond with a single complete\\n    \\'Thought, Action, Action Input\\' format\\n    OR a single \\'Final Answer\\' format.\\n\\n    Complete format:\\n    Thought: (reflect on your progress and decide what to do next)\\n    Action:\\n    ```\\n    {\\n        \"action\": (the action name, it should be the name of a tool),\\n        \"action_input\": (the input string for the action)\\n    }\\n    \\'\\'\\'\\n\\n    OR\\n\\n    Final Answer: (the final response to the original input\\n    question, once all steps are complete)\\n\\n    You are required to use the tools provided,\\n    using the most specific tool\\n    available for each action.\\n    Your final answer should contain all information\\n    necessary to answer the question and its subquestions.\\n    Before you finish, reflect on your progress and make\\n    sure you have addressed the question in its entirety.\\n\\n    If you are asked to continue\\n    or reference previous runs,\\n    the context will be provided to you.\\n    If context is provided, you should assume\\n    you are continuing a chat.\\n\\n    Here is the input:\\n    Previous Context: None\\n    Question: I need you to help me with MD tasks:  1.- Download the PDB file 1ZNI 2.- Pre-process the file by Adding missing atoms, hydrogens, and replacing non-standard residues. 3.- Simulate for 1ps at 300 K ',\n",
       "  'output': \"The PDB file 1ZNI was successfully downloaded, pre-processed, and simulated for 1 ps at 300 K. The simulation results are stored in the files 'rec0_110928', 'rec1_110928', and 'rec2_110928'. The standalone script for the simulation is saved with the ID 'sim0_110925'. The initial topology file ID is 'top_sim0_110925' and is saved in the files/pdb/ directory.\"},\n",
       " 'Z5CG828V')"
      ]
     },
     "execution_count": 5,
     "metadata": {},
     "output_type": "execute_result"
    }
   ],
   "source": [
    "agent_1.run(descriptive_prompt_3)"
   ]
  },
  {
   "cell_type": "code",
   "execution_count": 6,
   "metadata": {
    "execution": {
     "iopub.execute_input": "2024-10-01T15:17:30.427444Z",
     "iopub.status.busy": "2024-10-01T15:17:30.427277Z",
     "iopub.status.idle": "2024-10-01T15:26:15.589007Z",
     "shell.execute_reply": "2024-10-01T15:26:15.588624Z"
    }
   },
   "outputs": [
    {
     "name": "stdout",
     "output_type": "stream",
     "text": [
      "Thought:"
     ]
    },
    {
     "name": "stdout",
     "output_type": "stream",
     "text": [
      " To simulate 1ZNI"
     ]
    },
    {
     "name": "stdout",
     "output_type": "stream",
     "text": [
      " for 1ps"
     ]
    },
    {
     "name": "stdout",
     "output_type": "stream",
     "text": [
      " at"
     ]
    },
    {
     "name": "stdout",
     "output_type": "stream",
     "text": [
      " temp=300K, I need to set up and run a short simulation of the protein. I will use the"
     ]
    },
    {
     "name": "stdout",
     "output_type": "stream",
     "text": [
      " SetUpandRunFunction tool"
     ]
    },
    {
     "name": "stdout",
     "output_type": "stream",
     "text": [
      " to achieve this.\n",
      "\n",
      "Action"
     ]
    },
    {
     "name": "stdout",
     "output_type": "stream",
     "text": [
      ":\n"
     ]
    },
    {
     "name": "stdout",
     "output_type": "stream",
     "text": [
      "```\n",
      "{\n",
      " "
     ]
    },
    {
     "name": "stdout",
     "output_type": "stream",
     "text": [
      " \"action\": \"SetUp"
     ]
    },
    {
     "name": "stdout",
     "output_type": "stream",
     "text": [
      "andRunFunction\",\n",
      "  \"action"
     ]
    },
    {
     "name": "stdout",
     "output_type": "stream",
     "text": [
      "_input\": {\n",
      "    \"pdb"
     ]
    },
    {
     "name": "stdout",
     "output_type": "stream",
     "text": [
      "_id\": \"1ZNI\",\n"
     ]
    },
    {
     "name": "stdout",
     "output_type": "stream",
     "text": [
      "    \"forcefield_files\":"
     ]
    },
    {
     "name": "stdout",
     "output_type": "stream",
     "text": [
      " [\"amber99sb"
     ]
    },
    {
     "name": "stdout",
     "output_type": "stream",
     "text": [
      "ildn.xml"
     ]
    },
    {
     "name": "stdout",
     "output_type": "stream",
     "text": [
      "\", \"tip3"
     ]
    },
    {
     "name": "stdout",
     "output_type": "stream",
     "text": [
      "p.xml\"],\n",
      "    \"save"
     ]
    },
    {
     "name": "stdout",
     "output_type": "stream",
     "text": [
      "\": true,\n",
      "    \"system"
     ]
    },
    {
     "name": "stdout",
     "output_type": "stream",
     "text": [
      "_params\":"
     ]
    },
    {
     "name": "stdout",
     "output_type": "stream",
     "text": [
      " {\n",
      "     "
     ]
    },
    {
     "name": "stdout",
     "output_type": "stream",
     "text": [
      " \"non"
     ]
    },
    {
     "name": "stdout",
     "output_type": "stream",
     "text": [
      "bondedMethod\": \"PME"
     ]
    },
    {
     "name": "stdout",
     "output_type": "stream",
     "text": [
      "\",\n",
      "      \"nonbonded"
     ]
    },
    {
     "name": "stdout",
     "output_type": "stream",
     "text": [
      "Cutoff"
     ]
    },
    {
     "name": "stdout",
     "output_type": "stream",
     "text": [
      "\": \"1"
     ]
    },
    {
     "name": "stdout",
     "output_type": "stream",
     "text": [
      ".0 * nanometers\",\n"
     ]
    },
    {
     "name": "stdout",
     "output_type": "stream",
     "text": [
      "      \"ewaldError"
     ]
    },
    {
     "name": "stdout",
     "output_type": "stream",
     "text": [
      "Tolerance\": 0"
     ]
    },
    {
     "name": "stdout",
     "output_type": "stream",
     "text": [
      ".00001,\n",
      "      \"constraints"
     ]
    },
    {
     "name": "stdout",
     "output_type": "stream",
     "text": [
      "\": \"HBonds\",\n"
     ]
    },
    {
     "name": "stdout",
     "output_type": "stream",
     "text": [
      "      \"rigidWater\":"
     ]
    },
    {
     "name": "stdout",
     "output_type": "stream",
     "text": [
      " true,\n",
      "      \"constraintTolerance"
     ]
    },
    {
     "name": "stdout",
     "output_type": "stream",
     "text": [
      "\": "
     ]
    },
    {
     "name": "stdout",
     "output_type": "stream",
     "text": [
      "0.00001,\n"
     ]
    },
    {
     "name": "stdout",
     "output_type": "stream",
     "text": [
      "      \"solvate\": true"
     ]
    },
    {
     "name": "stdout",
     "output_type": "stream",
     "text": [
      "\n",
      "    },\n",
      "    \"integr"
     ]
    },
    {
     "name": "stdout",
     "output_type": "stream",
     "text": [
      "ator_params\": {\n",
      "     "
     ]
    },
    {
     "name": "stdout",
     "output_type": "stream",
     "text": [
      " \"integrator_type\":"
     ]
    },
    {
     "name": "stdout",
     "output_type": "stream",
     "text": [
      " \"LangevinMiddle"
     ]
    },
    {
     "name": "stdout",
     "output_type": "stream",
     "text": [
      "\",\n",
      "      \"Temperature\":"
     ]
    },
    {
     "name": "stdout",
     "output_type": "stream",
     "text": [
      " \"300 * kelvin\",\n"
     ]
    },
    {
     "name": "stdout",
     "output_type": "stream",
     "text": [
      "      \"Friction\": \""
     ]
    },
    {
     "name": "stdout",
     "output_type": "stream",
     "text": [
      "1.0 / picoseconds"
     ]
    },
    {
     "name": "stdout",
     "output_type": "stream",
     "text": [
      "\",\n",
      "      \"Timestep\":"
     ]
    },
    {
     "name": "stdout",
     "output_type": "stream",
     "text": [
      " \"0.002 * picoseconds"
     ]
    },
    {
     "name": "stdout",
     "output_type": "stream",
     "text": [
      "\",\n",
      "      \"Pressure\": \""
     ]
    },
    {
     "name": "stdout",
     "output_type": "stream",
     "text": [
      "1.0 * bar\"\n"
     ]
    },
    {
     "name": "stdout",
     "output_type": "stream",
     "text": [
      "    },\n",
      "    \"simulation_params\":"
     ]
    },
    {
     "name": "stdout",
     "output_type": "stream",
     "text": [
      " {\n",
      "      \"Ensemble\":"
     ]
    },
    {
     "name": "stdout",
     "output_type": "stream",
     "text": [
      " \"NPT\",\n",
      "      \"Number"
     ]
    },
    {
     "name": "stdout",
     "output_type": "stream",
     "text": [
      " of Steps\": 500,\n"
     ]
    },
    {
     "name": "stdout",
     "output_type": "stream",
     "text": [
      "      \"record_interval_steps"
     ]
    },
    {
     "name": "stdout",
     "output_type": "stream",
     "text": [
      "\": 100,\n",
      "      \"record"
     ]
    },
    {
     "name": "stdout",
     "output_type": "stream",
     "text": [
      "_params\": [\"step"
     ]
    },
    {
     "name": "stdout",
     "output_type": "stream",
     "text": [
      "\", \"potentialEnergy"
     ]
    },
    {
     "name": "stdout",
     "output_type": "stream",
     "text": [
      "\", \"temperature\"]\n",
      "    }\n",
      " "
     ]
    },
    {
     "name": "stdout",
     "output_type": "stream",
     "text": [
      " }\n",
      "}\n",
      "```\n"
     ]
    },
    {
     "name": "stdout",
     "output_type": "stream",
     "text": [
      "Building system...\n"
     ]
    },
    {
     "name": "stdout",
     "output_type": "stream",
     "text": [
      "Thought:"
     ]
    },
    {
     "name": "stdout",
     "output_type": "stream",
     "text": [
      " The SetUpandRun"
     ]
    },
    {
     "name": "stdout",
     "output_type": "stream",
     "text": [
      "Function tool failed because the file '"
     ]
    },
    {
     "name": "stdout",
     "output_type": "stream",
     "text": [
      "1ZNI' was not found."
     ]
    },
    {
     "name": "stdout",
     "output_type": "stream",
     "text": [
      " I need to download the PDB file for"
     ]
    },
    {
     "name": "stdout",
     "output_type": "stream",
     "text": [
      " 1ZNI before I can"
     ]
    },
    {
     "name": "stdout",
     "output_type": "stream",
     "text": [
      " simulate it. I will use the"
     ]
    },
    {
     "name": "stdout",
     "output_type": "stream",
     "text": [
      " PDBFileDownloader"
     ]
    },
    {
     "name": "stdout",
     "output_type": "stream",
     "text": [
      " tool to download the PDB"
     ]
    },
    {
     "name": "stdout",
     "output_type": "stream",
     "text": [
      " file.\n",
      "\n",
      "Action:\n",
      "```\n",
      "{\n",
      "  \""
     ]
    },
    {
     "name": "stdout",
     "output_type": "stream",
     "text": [
      "action\":"
     ]
    },
    {
     "name": "stdout",
     "output_type": "stream",
     "text": [
      " \"PDBFileDownloader"
     ]
    },
    {
     "name": "stdout",
     "output_type": "stream",
     "text": [
      "\",\n",
      "  \"action_input\": {\n"
     ]
    },
    {
     "name": "stdout",
     "output_type": "stream",
     "text": [
      "    \"query\": \"1ZNI\"\n",
      " "
     ]
    },
    {
     "name": "stdout",
     "output_type": "stream",
     "text": [
      " }\n",
      "}\n",
      "```\n"
     ]
    },
    {
     "name": "stdout",
     "output_type": "stream",
     "text": [
      "PDB file found with this ID: 1ZNI\n"
     ]
    },
    {
     "name": "stdout",
     "output_type": "stream",
     "text": [
      "Thought:"
     ]
    },
    {
     "name": "stdout",
     "output_type": "stream",
     "text": [
      " Now that"
     ]
    },
    {
     "name": "stdout",
     "output_type": "stream",
     "text": [
      " I have downloaded the PDB"
     ]
    },
    {
     "name": "stdout",
     "output_type": "stream",
     "text": [
      " file for "
     ]
    },
    {
     "name": "stdout",
     "output_type": "stream",
     "text": [
      "1ZNI, I can use the"
     ]
    },
    {
     "name": "stdout",
     "output_type": "stream",
     "text": [
      " SetUpandRunFunction tool"
     ]
    },
    {
     "name": "stdout",
     "output_type": "stream",
     "text": [
      " again to simulate the protein."
     ]
    },
    {
     "name": "stdout",
     "output_type": "stream",
     "text": [
      " This time, I will use"
     ]
    },
    {
     "name": "stdout",
     "output_type": "stream",
     "text": [
      " the correct file ID for the"
     ]
    },
    {
     "name": "stdout",
     "output_type": "stream",
     "text": [
      " PDB file.\n",
      "\n",
      "Action:\n"
     ]
    },
    {
     "name": "stdout",
     "output_type": "stream",
     "text": [
      "```\n",
      "{\n",
      "  \"action\": \""
     ]
    },
    {
     "name": "stdout",
     "output_type": "stream",
     "text": [
      "SetUpandRunFunction\",\n",
      " "
     ]
    },
    {
     "name": "stdout",
     "output_type": "stream",
     "text": [
      " \"action_input\":"
     ]
    },
    {
     "name": "stdout",
     "output_type": "stream",
     "text": [
      " {\n",
      "    \"pdb"
     ]
    },
    {
     "name": "stdout",
     "output_type": "stream",
     "text": [
      "_id\": \"1ZNI_111"
     ]
    },
    {
     "name": "stdout",
     "output_type": "stream",
     "text": [
      "737\",\n",
      "    \"force"
     ]
    },
    {
     "name": "stdout",
     "output_type": "stream",
     "text": [
      "field_files\": [\"amber99"
     ]
    },
    {
     "name": "stdout",
     "output_type": "stream",
     "text": [
      "sbildn.xml\", \""
     ]
    },
    {
     "name": "stdout",
     "output_type": "stream",
     "text": [
      "tip3p.xml\"],\n",
      "   "
     ]
    },
    {
     "name": "stdout",
     "output_type": "stream",
     "text": [
      " \"save\": true,\n",
      "   "
     ]
    },
    {
     "name": "stdout",
     "output_type": "stream",
     "text": [
      " \"system_params\": {\n",
      "     "
     ]
    },
    {
     "name": "stdout",
     "output_type": "stream",
     "text": [
      " \"nonbondedMethod\":"
     ]
    },
    {
     "name": "stdout",
     "output_type": "stream",
     "text": [
      " \"PME\",\n"
     ]
    },
    {
     "name": "stdout",
     "output_type": "stream",
     "text": [
      "      \"non"
     ]
    },
    {
     "name": "stdout",
     "output_type": "stream",
     "text": [
      "bondedCutoff\": \""
     ]
    },
    {
     "name": "stdout",
     "output_type": "stream",
     "text": [
      "1.0 * nanometers"
     ]
    },
    {
     "name": "stdout",
     "output_type": "stream",
     "text": [
      "\",\n",
      "      \"ewald"
     ]
    },
    {
     "name": "stdout",
     "output_type": "stream",
     "text": [
      "ErrorTolerance\": 0"
     ]
    },
    {
     "name": "stdout",
     "output_type": "stream",
     "text": [
      ".00001,\n",
      "      \"constraints"
     ]
    },
    {
     "name": "stdout",
     "output_type": "stream",
     "text": [
      "\": \"HBonds\",\n"
     ]
    },
    {
     "name": "stdout",
     "output_type": "stream",
     "text": [
      "      \"rigid"
     ]
    },
    {
     "name": "stdout",
     "output_type": "stream",
     "text": [
      "Water\": true,\n"
     ]
    },
    {
     "name": "stdout",
     "output_type": "stream",
     "text": [
      "      \"constraint"
     ]
    },
    {
     "name": "stdout",
     "output_type": "stream",
     "text": [
      "Tolerance\": 0."
     ]
    },
    {
     "name": "stdout",
     "output_type": "stream",
     "text": [
      "00001,\n",
      "      \"s"
     ]
    },
    {
     "name": "stdout",
     "output_type": "stream",
     "text": [
      "olvate\": true\n",
      "   "
     ]
    },
    {
     "name": "stdout",
     "output_type": "stream",
     "text": [
      " },\n",
      "    \"integrator_params"
     ]
    },
    {
     "name": "stdout",
     "output_type": "stream",
     "text": [
      "\": {\n",
      "      \"integrator"
     ]
    },
    {
     "name": "stdout",
     "output_type": "stream",
     "text": [
      "_type\": \"Langevin"
     ]
    },
    {
     "name": "stdout",
     "output_type": "stream",
     "text": [
      "Middle\",\n",
      "      \"Temperature\":"
     ]
    },
    {
     "name": "stdout",
     "output_type": "stream",
     "text": [
      " \"300 * kelvin\",\n",
      "     "
     ]
    },
    {
     "name": "stdout",
     "output_type": "stream",
     "text": [
      " \"Friction"
     ]
    },
    {
     "name": "stdout",
     "output_type": "stream",
     "text": [
      "\": \"1.0 /"
     ]
    },
    {
     "name": "stdout",
     "output_type": "stream",
     "text": [
      " picoseconds\",\n",
      "      \"T"
     ]
    },
    {
     "name": "stdout",
     "output_type": "stream",
     "text": [
      "imestep\": \"0.002 *"
     ]
    },
    {
     "name": "stdout",
     "output_type": "stream",
     "text": [
      " picoseconds\",\n",
      "      \"Pressure"
     ]
    },
    {
     "name": "stdout",
     "output_type": "stream",
     "text": [
      "\": \"1.0 *"
     ]
    },
    {
     "name": "stdout",
     "output_type": "stream",
     "text": [
      " bar\"\n",
      "    },\n",
      "    \"simulation"
     ]
    },
    {
     "name": "stdout",
     "output_type": "stream",
     "text": [
      "_params\":"
     ]
    },
    {
     "name": "stdout",
     "output_type": "stream",
     "text": [
      " {\n",
      "     "
     ]
    },
    {
     "name": "stdout",
     "output_type": "stream",
     "text": [
      " \"En"
     ]
    },
    {
     "name": "stdout",
     "output_type": "stream",
     "text": [
      "semble"
     ]
    },
    {
     "name": "stdout",
     "output_type": "stream",
     "text": [
      "\": \""
     ]
    },
    {
     "name": "stdout",
     "output_type": "stream",
     "text": [
      "NPT"
     ]
    },
    {
     "name": "stdout",
     "output_type": "stream",
     "text": [
      "\",\n",
      "      \"Number"
     ]
    },
    {
     "name": "stdout",
     "output_type": "stream",
     "text": [
      " of Steps\": 500"
     ]
    },
    {
     "name": "stdout",
     "output_type": "stream",
     "text": [
      ",\n",
      "      \"record"
     ]
    },
    {
     "name": "stdout",
     "output_type": "stream",
     "text": [
      "_interval_steps"
     ]
    },
    {
     "name": "stdout",
     "output_type": "stream",
     "text": [
      "\": 100,\n"
     ]
    },
    {
     "name": "stdout",
     "output_type": "stream",
     "text": [
      "      \"record_params\":"
     ]
    },
    {
     "name": "stdout",
     "output_type": "stream",
     "text": [
      " [\"step\", \""
     ]
    },
    {
     "name": "stdout",
     "output_type": "stream",
     "text": [
      "potentialEnergy\", \""
     ]
    },
    {
     "name": "stdout",
     "output_type": "stream",
     "text": [
      "temperature\"]\n",
      "    }\n",
      " "
     ]
    },
    {
     "name": "stdout",
     "output_type": "stream",
     "text": [
      " }\n",
      "}\n",
      "```"
     ]
    },
    {
     "name": "stdout",
     "output_type": "stream",
     "text": [
      "Building system...\n"
     ]
    },
    {
     "name": "stdout",
     "output_type": "stream",
     "text": [
      "About to create system...\n",
      "Attempts at creating system: 0/3\n",
      "Error adding solvent ValueError – No template found for residue 1 (GLY).  The set of atoms is similar to GLY, but it is missing 3 hydrogen atoms.  For more information, see https://github.com/openmm/openmm/wiki/Frequently-Asked-Questions#template\n",
      "Residue code: GLY\n",
      "Residue code not in solvent list. Adding forcefield                         not supported.\n"
     ]
    },
    {
     "name": "stdout",
     "output_type": "stream",
     "text": [
      "Thought:"
     ]
    },
    {
     "name": "stdout",
     "output_type": "stream",
     "text": [
      " The SetUpandRun"
     ]
    },
    {
     "name": "stdout",
     "output_type": "stream",
     "text": [
      "Function tool failed because"
     ]
    },
    {
     "name": "stdout",
     "output_type": "stream",
     "text": [
      " the residue "
     ]
    },
    {
     "name": "stdout",
     "output_type": "stream",
     "text": [
      "1 (GL"
     ]
    },
    {
     "name": "stdout",
     "output_type": "stream",
     "text": [
      "Y) is missing"
     ]
    },
    {
     "name": "stdout",
     "output_type": "stream",
     "text": [
      " 3 hydrogen atoms"
     ]
    },
    {
     "name": "stdout",
     "output_type": "stream",
     "text": [
      ". I need"
     ]
    },
    {
     "name": "stdout",
     "output_type": "stream",
     "text": [
      " to add the"
     ]
    },
    {
     "name": "stdout",
     "output_type": "stream",
     "text": [
      " missing hydrogen atoms to"
     ]
    },
    {
     "name": "stdout",
     "output_type": "stream",
     "text": [
      " the PDB file before"
     ]
    },
    {
     "name": "stdout",
     "output_type": "stream",
     "text": [
      " I can simulate it"
     ]
    },
    {
     "name": "stdout",
     "output_type": "stream",
     "text": [
      ". I will use"
     ]
    },
    {
     "name": "stdout",
     "output_type": "stream",
     "text": [
      " the CleaningToolFunction"
     ]
    },
    {
     "name": "stdout",
     "output_type": "stream",
     "text": [
      " tool to"
     ]
    },
    {
     "name": "stdout",
     "output_type": "stream",
     "text": [
      " add the missing hydrogen"
     ]
    },
    {
     "name": "stdout",
     "output_type": "stream",
     "text": [
      " atoms.\n",
      "\n",
      "Action:\n"
     ]
    },
    {
     "name": "stdout",
     "output_type": "stream",
     "text": [
      "```\n",
      "{\n",
      "  \"action"
     ]
    },
    {
     "name": "stdout",
     "output_type": "stream",
     "text": [
      "\": \""
     ]
    },
    {
     "name": "stdout",
     "output_type": "stream",
     "text": [
      "CleaningToolFunction\",\n"
     ]
    },
    {
     "name": "stdout",
     "output_type": "stream",
     "text": [
      "  \"action_input\":"
     ]
    },
    {
     "name": "stdout",
     "output_type": "stream",
     "text": [
      " {\n",
      "    \"pdb"
     ]
    },
    {
     "name": "stdout",
     "output_type": "stream",
     "text": [
      "_id\": \"1"
     ]
    },
    {
     "name": "stdout",
     "output_type": "stream",
     "text": [
      "ZNI_111"
     ]
    },
    {
     "name": "stdout",
     "output_type": "stream",
     "text": [
      "737\",\n",
      "    \"replace"
     ]
    },
    {
     "name": "stdout",
     "output_type": "stream",
     "text": [
      "_nonstandard"
     ]
    },
    {
     "name": "stdout",
     "output_type": "stream",
     "text": [
      "_residues"
     ]
    },
    {
     "name": "stdout",
     "output_type": "stream",
     "text": [
      "\": true,\n",
      "    \"add"
     ]
    },
    {
     "name": "stdout",
     "output_type": "stream",
     "text": [
      "_missing_atoms\": true,\n"
     ]
    },
    {
     "name": "stdout",
     "output_type": "stream",
     "text": [
      "    \"remove_heter"
     ]
    },
    {
     "name": "stdout",
     "output_type": "stream",
     "text": [
      "ogens\": true,\n",
      "    \"remove"
     ]
    },
    {
     "name": "stdout",
     "output_type": "stream",
     "text": [
      "_water\": true,\n",
      "    \"add"
     ]
    },
    {
     "name": "stdout",
     "output_type": "stream",
     "text": [
      "_hydrogens\": true,\n"
     ]
    },
    {
     "name": "stdout",
     "output_type": "stream",
     "text": [
      "    \"add_hydrogens_ph"
     ]
    },
    {
     "name": "stdout",
     "output_type": "stream",
     "text": [
      "\": "
     ]
    },
    {
     "name": "stdout",
     "output_type": "stream",
     "text": [
      "7.0"
     ]
    },
    {
     "name": "stdout",
     "output_type": "stream",
     "text": [
      "\n",
      "  }\n",
      "}\n",
      "```\n"
     ]
    },
    {
     "name": "stdout",
     "output_type": "stream",
     "text": [
      "file path: /gpfs/fs2/scratch/qcampbe2/repos/md-agent/ckpt/ckpt_68/pdb/1ZNI_raw_20241001_111737.pdb\n"
     ]
    },
    {
     "name": "stdout",
     "output_type": "stream",
     "text": [
      "Thought:"
     ]
    },
    {
     "name": "stdout",
     "output_type": "stream",
     "text": [
      " Now that I have cleaned the"
     ]
    },
    {
     "name": "stdout",
     "output_type": "stream",
     "text": [
      " PDB file and added"
     ]
    },
    {
     "name": "stdout",
     "output_type": "stream",
     "text": [
      " the missing hydrogen atoms"
     ]
    },
    {
     "name": "stdout",
     "output_type": "stream",
     "text": [
      ", I can use the SetUpand"
     ]
    },
    {
     "name": "stdout",
     "output_type": "stream",
     "text": [
      "RunFunction tool again"
     ]
    },
    {
     "name": "stdout",
     "output_type": "stream",
     "text": [
      " to simulate the protein. This time"
     ]
    },
    {
     "name": "stdout",
     "output_type": "stream",
     "text": [
      ", I will use the correct file"
     ]
    },
    {
     "name": "stdout",
     "output_type": "stream",
     "text": [
      " ID for the cleaned PDB file.\n",
      "\n"
     ]
    },
    {
     "name": "stdout",
     "output_type": "stream",
     "text": [
      "Action:\n",
      "```\n",
      "{\n",
      "  \"action"
     ]
    },
    {
     "name": "stdout",
     "output_type": "stream",
     "text": [
      "\": \"SetUpandRunFunction"
     ]
    },
    {
     "name": "stdout",
     "output_type": "stream",
     "text": [
      "\",\n",
      "  \"action_input\":"
     ]
    },
    {
     "name": "stdout",
     "output_type": "stream",
     "text": [
      " {\n",
      "    \"pdb_id\":"
     ]
    },
    {
     "name": "stdout",
     "output_type": "stream",
     "text": [
      " \"1ZNI_111"
     ]
    },
    {
     "name": "stdout",
     "output_type": "stream",
     "text": [
      "755\",\n",
      "    \"forcefield_files"
     ]
    },
    {
     "name": "stdout",
     "output_type": "stream",
     "text": [
      "\": [\"amber99sbild"
     ]
    },
    {
     "name": "stdout",
     "output_type": "stream",
     "text": [
      "n.xml\", \"tip3"
     ]
    },
    {
     "name": "stdout",
     "output_type": "stream",
     "text": [
      "p.xml\"],\n",
      "    \"save"
     ]
    },
    {
     "name": "stdout",
     "output_type": "stream",
     "text": [
      "\": true,\n",
      "    \"system"
     ]
    },
    {
     "name": "stdout",
     "output_type": "stream",
     "text": [
      "_params\": {\n",
      "      \"non"
     ]
    },
    {
     "name": "stdout",
     "output_type": "stream",
     "text": [
      "bondedMethod\": \"P"
     ]
    },
    {
     "name": "stdout",
     "output_type": "stream",
     "text": [
      "ME\",\n",
      "      \"nonbond"
     ]
    },
    {
     "name": "stdout",
     "output_type": "stream",
     "text": [
      "edCutoff\": \"1"
     ]
    },
    {
     "name": "stdout",
     "output_type": "stream",
     "text": [
      ".0 * nanometers\",\n"
     ]
    },
    {
     "name": "stdout",
     "output_type": "stream",
     "text": [
      "      \"ewaldErrorT"
     ]
    },
    {
     "name": "stdout",
     "output_type": "stream",
     "text": [
      "olerance\": 0.00001"
     ]
    },
    {
     "name": "stdout",
     "output_type": "stream",
     "text": [
      ",\n",
      "      \"constraints\": \""
     ]
    },
    {
     "name": "stdout",
     "output_type": "stream",
     "text": [
      "HBonds\",\n",
      "      \"rig"
     ]
    },
    {
     "name": "stdout",
     "output_type": "stream",
     "text": [
      "idWater\": true,\n",
      "     "
     ]
    },
    {
     "name": "stdout",
     "output_type": "stream",
     "text": [
      " \"constraintTolerance\": "
     ]
    },
    {
     "name": "stdout",
     "output_type": "stream",
     "text": [
      "0."
     ]
    },
    {
     "name": "stdout",
     "output_type": "stream",
     "text": [
      "00001,\n",
      "      \"s"
     ]
    },
    {
     "name": "stdout",
     "output_type": "stream",
     "text": [
      "olvate\": true\n",
      "   "
     ]
    },
    {
     "name": "stdout",
     "output_type": "stream",
     "text": [
      " },\n",
      "    \"integrator"
     ]
    },
    {
     "name": "stdout",
     "output_type": "stream",
     "text": [
      "_params\": {\n",
      "      \"integr"
     ]
    },
    {
     "name": "stdout",
     "output_type": "stream",
     "text": [
      "ator_type\": \"L"
     ]
    },
    {
     "name": "stdout",
     "output_type": "stream",
     "text": [
      "angevinMiddle\",\n",
      "      \"Temperature"
     ]
    },
    {
     "name": "stdout",
     "output_type": "stream",
     "text": [
      "\": \"300 * kel"
     ]
    },
    {
     "name": "stdout",
     "output_type": "stream",
     "text": [
      "vin\",\n",
      "      \"Friction"
     ]
    },
    {
     "name": "stdout",
     "output_type": "stream",
     "text": [
      "\": \"1.0 /"
     ]
    },
    {
     "name": "stdout",
     "output_type": "stream",
     "text": [
      " picoseconds\",\n"
     ]
    },
    {
     "name": "stdout",
     "output_type": "stream",
     "text": [
      "      \"Timestep\":"
     ]
    },
    {
     "name": "stdout",
     "output_type": "stream",
     "text": [
      " \"0.002 * picoseconds"
     ]
    },
    {
     "name": "stdout",
     "output_type": "stream",
     "text": [
      "\",\n",
      "      \"Pressure\": \""
     ]
    },
    {
     "name": "stdout",
     "output_type": "stream",
     "text": [
      "1.0 * bar\"\n"
     ]
    },
    {
     "name": "stdout",
     "output_type": "stream",
     "text": [
      "    },\n",
      "    \"simulation_params\":"
     ]
    },
    {
     "name": "stdout",
     "output_type": "stream",
     "text": [
      " {\n",
      "      \"Ensemble"
     ]
    },
    {
     "name": "stdout",
     "output_type": "stream",
     "text": [
      "\": \"NPT\",\n",
      "     "
     ]
    },
    {
     "name": "stdout",
     "output_type": "stream",
     "text": [
      " \"Number of Steps\": 500"
     ]
    },
    {
     "name": "stdout",
     "output_type": "stream",
     "text": [
      ",\n",
      "      \"record_interval_steps"
     ]
    },
    {
     "name": "stdout",
     "output_type": "stream",
     "text": [
      "\": 100,\n",
      "      \"record"
     ]
    },
    {
     "name": "stdout",
     "output_type": "stream",
     "text": [
      "_params\": [\"step\", \""
     ]
    },
    {
     "name": "stdout",
     "output_type": "stream",
     "text": [
      "potentialEnergy"
     ]
    },
    {
     "name": "stdout",
     "output_type": "stream",
     "text": [
      "\", \"temperature\"]\n",
      "    }\n",
      " "
     ]
    },
    {
     "name": "stdout",
     "output_type": "stream",
     "text": [
      " }\n",
      "}\n",
      "```"
     ]
    },
    {
     "name": "stdout",
     "output_type": "stream",
     "text": [
      "Building system...\n"
     ]
    },
    {
     "name": "stdout",
     "output_type": "stream",
     "text": [
      "About to create system...\n",
      "Attempts at creating system: 0/3\n"
     ]
    },
    {
     "name": "stdout",
     "output_type": "stream",
     "text": [
      "System built successfully\n",
      "<openmm.openmm.System; proxy of <Swig Object of type 'OpenMM::System *' at 0x2b9e84829e00> >\n",
      "Setting up integrator...\n",
      "Creating simulation...\n",
      "simulation set!\n",
      "Performing energy minimization...\n"
     ]
    },
    {
     "name": "stdout",
     "output_type": "stream",
     "text": [
      "Minimization complete!\n"
     ]
    },
    {
     "name": "stdout",
     "output_type": "stream",
     "text": [
      "Initial Positions saved to initial_positions.pdb\n",
      "Equilibrating...\n"
     ]
    },
    {
     "name": "stdout",
     "output_type": "stream",
     "text": [
      "Simulating...\n"
     ]
    },
    {
     "name": "stdout",
     "output_type": "stream",
     "text": [
      "Done!\n",
      "Standalone simulation script written to /gpfs/fs2/scratch/qcampbe2/repos/md-agent/ckpt/ckpt_68/simulations/NPT_1ZNI_111755_20241001_111759.py\n",
      "['prompt7.ipynb', 'prompt1.ipynb', 'prompt3.ipynb', '.ipynb_checkpoints', 'packmol.inp', 'prompt2.ipynb', 'out.70b_robust_exp', 'results', 'prompt8.ipynb', 'LOG_sim0_111759_1ZNI_111755_20241001_111802.txt', 'prompt6.ipynb', 'TOP_sim0_111759_1ZNI_111755_20241001_111802.pdb', 'prompt4.ipynb', '70b_robust_exp.sh', 'TRAJ_sim0_111759_1ZNI_111755_20241001_111802.dcd', 'prompt5.ipynb']\n"
     ]
    },
    {
     "name": "stdout",
     "output_type": "stream",
     "text": [
      "Thought:"
     ]
    },
    {
     "name": "stdout",
     "output_type": "stream",
     "text": [
      " I have successfully simulated the protein"
     ]
    },
    {
     "name": "stdout",
     "output_type": "stream",
     "text": [
      " 1ZNI for "
     ]
    },
    {
     "name": "stdout",
     "output_type": "stream",
     "text": [
      "1ps at temp="
     ]
    },
    {
     "name": "stdout",
     "output_type": "stream",
     "text": [
      "300"
     ]
    },
    {
     "name": "stdout",
     "output_type": "stream",
     "text": [
      "K. The simulation was done using"
     ]
    },
    {
     "name": "stdout",
     "output_type": "stream",
     "text": [
      " the SetUpandRunFunction tool"
     ]
    },
    {
     "name": "stdout",
     "output_type": "stream",
     "text": [
      ", and the results are stored"
     ]
    },
    {
     "name": "stdout",
     "output_type": "stream",
     "text": [
      " in the registry. I can"
     ]
    },
    {
     "name": "stdout",
     "output_type": "stream",
     "text": [
      " now provide the final answer"
     ]
    },
    {
     "name": "stdout",
     "output_type": "stream",
     "text": [
      " to the original question"
     ]
    },
    {
     "name": "stdout",
     "output_type": "stream",
     "text": [
      ".\n",
      "\n",
      "Action:\n",
      "```\n",
      "{\n",
      " "
     ]
    },
    {
     "name": "stdout",
     "output_type": "stream",
     "text": [
      " \"action\": \"Final Answer"
     ]
    },
    {
     "name": "stdout",
     "output_type": "stream",
     "text": [
      "\",\n",
      "  \"action_input\":"
     ]
    },
    {
     "name": "stdout",
     "output_type": "stream",
     "text": [
      " \"The"
     ]
    },
    {
     "name": "stdout",
     "output_type": "stream",
     "text": [
      " simulation of"
     ]
    },
    {
     "name": "stdout",
     "output_type": "stream",
     "text": [
      " "
     ]
    },
    {
     "name": "stdout",
     "output_type": "stream",
     "text": [
      "1ZNI"
     ]
    },
    {
     "name": "stdout",
     "output_type": "stream",
     "text": [
      " for 1ps at temp="
     ]
    },
    {
     "name": "stdout",
     "output_type": "stream",
     "text": [
      "300K was successful."
     ]
    },
    {
     "name": "stdout",
     "output_type": "stream",
     "text": [
      " The results are"
     ]
    },
    {
     "name": "stdout",
     "output_type": "stream",
     "text": [
      " stored in the registry with the"
     ]
    },
    {
     "name": "stdout",
     "output_type": "stream",
     "text": [
      " following IDs: rec0"
     ]
    },
    {
     "name": "stdout",
     "output_type": "stream",
     "text": [
      "_111802 (simulation"
     ]
    },
    {
     "name": "stdout",
     "output_type": "stream",
     "text": [
      " trajectory"
     ]
    },
    {
     "name": "stdout",
     "output_type": "stream",
     "text": [
      "), rec1"
     ]
    },
    {
     "name": "stdout",
     "output_type": "stream",
     "text": [
      "_111802 (simulation state"
     ]
    },
    {
     "name": "stdout",
     "output_type": "stream",
     "text": [
      " log), rec2"
     ]
    },
    {
     "name": "stdout",
     "output_type": "stream",
     "text": [
      "_111802 (simulation pdb"
     ]
    },
    {
     "name": "stdout",
     "output_type": "stream",
     "text": [
      " frames). The standalone script"
     ]
    },
    {
     "name": "stdout",
     "output_type": "stream",
     "text": [
      " for the simulation is saved with"
     ]
    },
    {
     "name": "stdout",
     "output_type": "stream",
     "text": [
      " the ID sim0"
     ]
    },
    {
     "name": "stdout",
     "output_type": "stream",
     "text": [
      "_111"
     ]
    },
    {
     "name": "stdout",
     "output_type": "stream",
     "text": [
      "759. The"
     ]
    },
    {
     "name": "stdout",
     "output_type": "stream",
     "text": [
      " initial topology file ID is"
     ]
    },
    {
     "name": "stdout",
     "output_type": "stream",
     "text": [
      " top_sim0_111"
     ]
    },
    {
     "name": "stdout",
     "output_type": "stream",
     "text": [
      "759 saved in"
     ]
    },
    {
     "name": "stdout",
     "output_type": "stream",
     "text": [
      " files/pdb/.\"\n"
     ]
    },
    {
     "name": "stdout",
     "output_type": "stream",
     "text": [
      "}\n",
      "```"
     ]
    },
    {
     "data": {
      "text/plain": [
       "({'input': '\\n    You are an expert molecular dynamics scientist, and\\n    your task is to respond to the question or\\n    solve the problem to the best of your ability using\\n    the provided tools.\\n\\n    You can only respond with a single complete\\n    \\'Thought, Action, Action Input\\' format\\n    OR a single \\'Final Answer\\' format.\\n\\n    Complete format:\\n    Thought: (reflect on your progress and decide what to do next)\\n    Action:\\n    ```\\n    {\\n        \"action\": (the action name, it should be the name of a tool),\\n        \"action_input\": (the input string for the action)\\n    }\\n    \\'\\'\\'\\n\\n    OR\\n\\n    Final Answer: (the final response to the original input\\n    question, once all steps are complete)\\n\\n    You are required to use the tools provided,\\n    using the most specific tool\\n    available for each action.\\n    Your final answer should contain all information\\n    necessary to answer the question and its subquestions.\\n    Before you finish, reflect on your progress and make\\n    sure you have addressed the question in its entirety.\\n\\n    If you are asked to continue\\n    or reference previous runs,\\n    the context will be provided to you.\\n    If context is provided, you should assume\\n    you are continuing a chat.\\n\\n    Here is the input:\\n    Previous Context: None\\n    Question: Simulate 1ZNI for 1ps at temp=300K ',\n",
       "  'output': 'The simulation of 1ZNI for 1ps at temp=300K was successful. The results are stored in the registry with the following IDs: rec0_111802 (simulation trajectory), rec1_111802 (simulation state log), rec2_111802 (simulation pdb frames). The standalone script for the simulation is saved with the ID sim0_111759. The initial topology file ID is top_sim0_111759 saved in files/pdb/.'},\n",
       " 'RV0H60RF')"
      ]
     },
     "execution_count": 6,
     "metadata": {},
     "output_type": "execute_result"
    }
   ],
   "source": [
    "agent_2.run(non_descriptive_prompt_3)"
   ]
  },
  {
   "cell_type": "code",
   "execution_count": 8,
   "metadata": {
    "execution": {
     "iopub.execute_input": "2024-10-01T15:26:15.596733Z",
     "iopub.status.busy": "2024-10-01T15:26:15.596578Z",
     "iopub.status.idle": "2024-10-01T15:26:15.609327Z",
     "shell.execute_reply": "2024-10-01T15:26:15.608972Z"
    }
   },
   "outputs": [
    {
     "name": "stdout",
     "output_type": "stream",
     "text": [
      "ckpt_dir: /gpfs/fs2/scratch/qcampbe2/repos/md-agent/ckpt/ckpt_68\n",
      "Files found in registry: 1ZNI_110915: PDB file downloaded from RSCB\n",
      " PDBFile ID: 1ZNI_110915\n",
      " 1ZNI_110919: Cleaned File:  Removed Heterogens\n",
      " and Water Removed.  Replaced Nonstandard Residues. Added Hydrogens at pH 7.0. Missing Atoms Added and replaces nonstandard residues. \n",
      " top_sim0_110925: Initial positions for simulation sim0_110925\n",
      " sim0_110925: Basic Simulation of Protein 1ZNI_110919\n",
      " rec0_110928: Simulation trajectory for protein 1ZNI_110919 and simulation sim0_110925\n",
      " rec1_110928: Simulation state log for protein 1ZNI_110919 and simulation sim0_110925\n",
      " rec2_110928: Simulation pdb frames for protein 1ZNI_110919 and simulation sim0_110925\n",
      " 1ZNI_111737: PDB file downloaded from RSCB\n",
      " PDBFile ID: 1ZNI_111737\n",
      " 1ZNI_111755: Cleaned File:  Removed Heterogens\n",
      " and Water Removed.  Replaced Nonstandard Residues. Added Hydrogens at pH 7.0. Missing Atoms Added and replaces nonstandard residues. \n",
      " top_sim0_111759: Initial positions for simulation sim0_111759\n",
      " sim0_111759: Basic Simulation of Protein 1ZNI_111755\n",
      " rec0_111802: Simulation trajectory for protein 1ZNI_111755 and simulation sim0_111759\n",
      " rec1_111802: Simulation state log for protein 1ZNI_111755 and simulation sim0_111759\n",
      " rec2_111802: Simulation pdb frames for protein 1ZNI_111755 and simulation sim0_111759\n"
     ]
    }
   ],
   "source": [
    "registry = agent_2.path_registry\n",
    "print(\"ckpt_dir:\",registry.ckpt_dir)\n",
    "print(registry.list_path_names_and_descriptions().replace(\",\", \"\\n\"))"
   ]
  },
  {
   "cell_type": "code",
   "execution_count": 1,
   "metadata": {},
   "outputs": [],
   "source": [
    "from mdagent import MDAgent\n",
    "agent = MDAgent(ckpt_dir=\"ckpt_68\")\n",
    "registry = agent.path_registry"
   ]
  },
  {
   "cell_type": "code",
   "execution_count": 4,
   "metadata": {},
   "outputs": [],
   "source": [
    "import os \n",
    "import mdtraj as md\n",
    "traj_path_1 = registry.get_mapped_path(\"rec0_110928\")  # Agent 1\n",
    "top_path_1 = registry.get_mapped_path(\"top_sim0_110925\")\n",
    "\n",
    "traj_path_2 = registry.get_mapped_path(\"rec0_111802\") # Agent 2\n",
    "top_path_2 = registry.get_mapped_path(\"top_sim0_111759\")\n",
    "\n",
    "assert os.path.exists(traj_path_1)\n",
    "assert os.path.exists(top_path_1)\n",
    "assert os.path.exists(traj_path_2)\n",
    "assert os.path.exists(top_path_2)"
   ]
  },
  {
   "cell_type": "code",
   "execution_count": 5,
   "metadata": {},
   "outputs": [
    {
     "name": "stdout",
     "output_type": "stream",
     "text": [
      "15\n",
      "15\n"
     ]
    }
   ],
   "source": [
    "traj_1 = md.load(traj_path_1, top=top_path_1)\n",
    "traj_2 = md.load(traj_path_2, top=top_path_2)\n",
    "print(traj_1.n_frames)\n",
    "print(traj_2.n_frames)"
   ]
  },
  {
   "cell_type": "code",
   "execution_count": 6,
   "metadata": {},
   "outputs": [
    {
     "name": "stdout",
     "output_type": "stream",
     "text": [
      "19760\n",
      "19766\n"
     ]
    }
   ],
   "source": [
    "print(traj_1.n_atoms)\n",
    "print(traj_2.n_atoms)"
   ]
  },
  {
   "cell_type": "code",
   "execution_count": 9,
   "metadata": {},
   "outputs": [
    {
     "name": "stdout",
     "output_type": "stream",
     "text": [
      "Residues before: {'ARG', 'CYS', 'GLU', 'VAL', 'ALA', 'LYS', 'ASN', 'SER', 'CL3', 'ZN3', 'PHE', 'ILE', 'HIS', 'PRO', 'HOH', 'THR', 'GLY', 'TYR', 'LEU', 'GLN'}\n",
      "Residues after: {'LEU', 'PRO', 'CYS', 'GLU', 'THR', 'VAL', 'GLY', 'ALA', 'LYS', 'TYR', 'SER', 'ASN', 'PHE', 'ILE', 'HIS', 'GLN', 'ARG'}\n",
      "Residues removed: {'HOH', 'CL3', 'ZN3'}\n"
     ]
    }
   ],
   "source": [
    "#residues before - Agent 1\n",
    "raw_path = registry.get_mapped_path(\"1ZNI_110915\")\n",
    "clean_path = registry.get_mapped_path(\"1ZNI_110919\")\n",
    "raw_file = md.load(raw_path)\n",
    "clean_file = md.load(clean_path)\n",
    "residues_before = set([str(res)[:3] for res in raw_file.top.residues])\n",
    "residues_after = set([str(res)[:3] for res in clean_file.top.residues])\n",
    "print(\"Residues before:\",residues_before)\n",
    "print(\"Residues after:\",residues_after)\n",
    "print(\"Residues removed:\",residues_before - residues_after)"
   ]
  },
  {
   "cell_type": "code",
   "execution_count": 10,
   "metadata": {},
   "outputs": [
    {
     "name": "stdout",
     "output_type": "stream",
     "text": [
      "/gpfs/fs2/scratch/qcampbe2/repos/md-agent/ckpt/ckpt_68/pdb/1ZNI_raw_20241001_111737.pdb /gpfs/fs2/scratch/qcampbe2/repos/md-agent/ckpt/ckpt_68/pdb/1ZNI_Clean_20241001_111755.pdb\n",
      "Residues before: {'ARG', 'CYS', 'GLU', 'VAL', 'ALA', 'LYS', 'ASN', 'SER', 'CL3', 'ZN3', 'PHE', 'ILE', 'HIS', 'PRO', 'HOH', 'THR', 'GLY', 'TYR', 'LEU', 'GLN'}\n",
      "Residues after: {'LEU', 'PRO', 'CYS', 'GLU', 'THR', 'VAL', 'GLY', 'ALA', 'LYS', 'TYR', 'SER', 'ASN', 'PHE', 'ILE', 'HIS', 'GLN', 'ARG'}\n",
      "Residues removed: {'HOH', 'CL3', 'ZN3'}\n"
     ]
    }
   ],
   "source": [
    "#residues before - Agent 2\n",
    "raw_path = registry.get_mapped_path(\"1ZNI_111737\")\n",
    "clean_path = registry.get_mapped_path(\"1ZNI_111755\")\n",
    "print(raw_path, clean_path)\n",
    "raw_file = md.load(raw_path)\n",
    "clean_file = md.load(clean_path)\n",
    "residues_before = set([str(res)[:3] for res in raw_file.top.residues])\n",
    "residues_after = set([str(res)[:3] for res in clean_file.top.residues])\n",
    "print(\"Residues before:\",residues_before)\n",
    "print(\"Residues after:\",residues_after)\n",
    "print(\"Residues removed:\",residues_before - residues_after)"
   ]
  }
 ],
 "metadata": {
  "kernelspec": {
   "display_name": "mdagent",
   "language": "python",
   "name": "mdagent"
  },
  "language_info": {
   "codemirror_mode": {
    "name": "ipython",
    "version": 3
   },
   "file_extension": ".py",
   "mimetype": "text/x-python",
   "name": "python",
   "nbconvert_exporter": "python",
   "pygments_lexer": "ipython3",
   "version": "3.12.4"
  }
 },
 "nbformat": 4,
 "nbformat_minor": 4
}
