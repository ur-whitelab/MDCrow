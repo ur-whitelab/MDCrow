{
 "cells": [
  {
   "cell_type": "code",
   "execution_count": 1,
   "metadata": {
    "execution": {
     "iopub.execute_input": "2024-10-01T15:08:43.698990Z",
     "iopub.status.busy": "2024-10-01T15:08:43.698846Z",
     "iopub.status.idle": "2024-10-01T15:08:47.107757Z",
     "shell.execute_reply": "2024-10-01T15:08:47.107360Z"
    }
   },
   "outputs": [],
   "source": [
    "from mdagent import MDAgent\n"
   ]
  },
  {
   "cell_type": "code",
   "execution_count": 2,
   "metadata": {
    "execution": {
     "iopub.execute_input": "2024-10-01T15:08:47.110590Z",
     "iopub.status.busy": "2024-10-01T15:08:47.110216Z",
     "iopub.status.idle": "2024-10-01T15:08:47.113908Z",
     "shell.execute_reply": "2024-10-01T15:08:47.113542Z"
    }
   },
   "outputs": [],
   "source": [
    "descriptive_prompt_2 = \"Complete the following MD tasks:  1.- Download the PDB file 1GZX 2.- Analyze its secondary structure. 3.- Tell me how many chains, sheets, etc. there are. \"\n",
    "non_descriptive_prompt_2 = \"Download the PDB file for PDB ID 1GZX. Then, analyze the secondary structure of the protein and tell me how many chains, sheets, etc. there are\""
   ]
  },
  {
   "cell_type": "code",
   "execution_count": 3,
   "metadata": {
    "execution": {
     "iopub.execute_input": "2024-10-01T15:08:47.115880Z",
     "iopub.status.busy": "2024-10-01T15:08:47.115712Z",
     "iopub.status.idle": "2024-10-01T15:08:47.126197Z",
     "shell.execute_reply": "2024-10-01T15:08:47.125847Z"
    }
   },
   "outputs": [],
   "source": [
    "llm_model = \"accounts/fireworks/models/llama-v3p1-70b-instruct\"\n",
    "tools = \"all\""
   ]
  },
  {
   "cell_type": "code",
   "execution_count": 4,
   "metadata": {
    "execution": {
     "iopub.execute_input": "2024-10-01T15:08:47.128131Z",
     "iopub.status.busy": "2024-10-01T15:08:47.127979Z",
     "iopub.status.idle": "2024-10-01T15:08:47.485179Z",
     "shell.execute_reply": "2024-10-01T15:08:47.484793Z"
    }
   },
   "outputs": [],
   "source": [
    "agent_1 = MDAgent(agent_type=\"Structured\", model=llm_model, top_k_tools=tools)\n",
    "agent_2 = MDAgent(agent_type=\"Structured\", model=llm_model, top_k_tools=tools)"
   ]
  },
  {
   "cell_type": "code",
   "execution_count": 5,
   "metadata": {
    "execution": {
     "iopub.execute_input": "2024-10-01T15:08:47.487617Z",
     "iopub.status.busy": "2024-10-01T15:08:47.487442Z",
     "iopub.status.idle": "2024-10-01T15:08:55.362589Z",
     "shell.execute_reply": "2024-10-01T15:08:55.362036Z"
    }
   },
   "outputs": [
    {
     "name": "stdout",
     "output_type": "stream",
     "text": [
      "Thought:"
     ]
    },
    {
     "name": "stdout",
     "output_type": "stream",
     "text": [
      " To complete the given"
     ]
    },
    {
     "name": "stdout",
     "output_type": "stream",
     "text": [
      " MD tasks"
     ]
    },
    {
     "name": "stdout",
     "output_type": "stream",
     "text": [
      ", I need to first download"
     ]
    },
    {
     "name": "stdout",
     "output_type": "stream",
     "text": [
      " the PDB"
     ]
    },
    {
     "name": "stdout",
     "output_type": "stream",
     "text": [
      " file 1"
     ]
    },
    {
     "name": "stdout",
     "output_type": "stream",
     "text": [
      "GZX,"
     ]
    },
    {
     "name": "stdout",
     "output_type": "stream",
     "text": [
      " then analyze its secondary"
     ]
    },
    {
     "name": "stdout",
     "output_type": "stream",
     "text": [
      " structure, and"
     ]
    },
    {
     "name": "stdout",
     "output_type": "stream",
     "text": [
      " finally provide information about"
     ]
    },
    {
     "name": "stdout",
     "output_type": "stream",
     "text": [
      " the number of chains,"
     ]
    },
    {
     "name": "stdout",
     "output_type": "stream",
     "text": [
      " sheets, etc.\n",
      "\n"
     ]
    },
    {
     "name": "stdout",
     "output_type": "stream",
     "text": [
      "Action:\n",
      "```\n",
      "{\n",
      " "
     ]
    },
    {
     "name": "stdout",
     "output_type": "stream",
     "text": [
      " \"action\":"
     ]
    },
    {
     "name": "stdout",
     "output_type": "stream",
     "text": [
      " \"PDBFileDownloader\",\n",
      " "
     ]
    },
    {
     "name": "stdout",
     "output_type": "stream",
     "text": [
      " \"action_input\": \"1G"
     ]
    },
    {
     "name": "stdout",
     "output_type": "stream",
     "text": [
      "ZX\"\n",
      "}\n",
      "```\n"
     ]
    },
    {
     "name": "stdout",
     "output_type": "stream",
     "text": [
      "PDB file found with this ID: 1GZX\n"
     ]
    },
    {
     "name": "stdout",
     "output_type": "stream",
     "text": [
      "Thought:"
     ]
    },
    {
     "name": "stdout",
     "output_type": "stream",
     "text": [
      " Now that I have downloaded the"
     ]
    },
    {
     "name": "stdout",
     "output_type": "stream",
     "text": [
      " PDB file 1GZX, I need to analyze its secondary structure. I will use the ComputeDSSP tool"
     ]
    },
    {
     "name": "stdout",
     "output_type": "stream",
     "text": [
      " to compute the DSS"
     ]
    },
    {
     "name": "stdout",
     "output_type": "stream",
     "text": [
      "P (secondary structure) assignment"
     ]
    },
    {
     "name": "stdout",
     "output_type": "stream",
     "text": [
      " for the protein trajectory.\n",
      "\n"
     ]
    },
    {
     "name": "stdout",
     "output_type": "stream",
     "text": [
      "Action:\n",
      "```\n",
      "{\n",
      "  \"action"
     ]
    },
    {
     "name": "stdout",
     "output_type": "stream",
     "text": [
      "\": \"ComputeDSSP\",\n",
      " "
     ]
    },
    {
     "name": "stdout",
     "output_type": "stream",
     "text": [
      " \"action_input\": {\n",
      "   "
     ]
    },
    {
     "name": "stdout",
     "output_type": "stream",
     "text": [
      " \"traj_file\":"
     ]
    },
    {
     "name": "stdout",
     "output_type": "stream",
     "text": [
      " \"1GZX_110"
     ]
    },
    {
     "name": "stdout",
     "output_type": "stream",
     "text": [
      "850\",\n",
      "    \"top_file"
     ]
    },
    {
     "name": "stdout",
     "output_type": "stream",
     "text": [
      "\": \"1GZX_"
     ]
    },
    {
     "name": "stdout",
     "output_type": "stream",
     "text": [
      "110850\",\n",
      "    \"target"
     ]
    },
    {
     "name": "stdout",
     "output_type": "stream",
     "text": [
      "_frames\": \"all\"\n",
      "  }\n",
      "}\n"
     ]
    },
    {
     "name": "stdout",
     "output_type": "stream",
     "text": [
      "```\n",
      "\n"
     ]
    },
    {
     "name": "stdout",
     "output_type": "stream",
     "text": [
      "Thought:"
     ]
    },
    {
     "name": "stdout",
     "output_type": "stream",
     "text": [
      " Now that"
     ]
    },
    {
     "name": "stdout",
     "output_type": "stream",
     "text": [
      " I have analyzed the"
     ]
    },
    {
     "name": "stdout",
     "output_type": "stream",
     "text": [
      " secondary structure of the"
     ]
    },
    {
     "name": "stdout",
     "output_type": "stream",
     "text": [
      " protein 1"
     ]
    },
    {
     "name": "stdout",
     "output_type": "stream",
     "text": [
      "GZX, I need"
     ]
    },
    {
     "name": "stdout",
     "output_type": "stream",
     "text": [
      " to provide information about the number of"
     ]
    },
    {
     "name": "stdout",
     "output_type": "stream",
     "text": [
      " chains, sheets, etc."
     ]
    },
    {
     "name": "stdout",
     "output_type": "stream",
     "text": [
      " I will use the SummarizePro"
     ]
    },
    {
     "name": "stdout",
     "output_type": "stream",
     "text": [
      "teinStructure tool"
     ]
    },
    {
     "name": "stdout",
     "output_type": "stream",
     "text": [
      " to get the"
     ]
    },
    {
     "name": "stdout",
     "output_type": "stream",
     "text": [
      " number of atoms,"
     ]
    },
    {
     "name": "stdout",
     "output_type": "stream",
     "text": [
      " residues, chains,"
     ]
    },
    {
     "name": "stdout",
     "output_type": "stream",
     "text": [
      " frames, and bonds"
     ]
    },
    {
     "name": "stdout",
     "output_type": "stream",
     "text": [
      " in the protein trajectory"
     ]
    },
    {
     "name": "stdout",
     "output_type": "stream",
     "text": [
      ".\n",
      "\n",
      "Action:\n"
     ]
    },
    {
     "name": "stdout",
     "output_type": "stream",
     "text": [
      "```\n",
      "{\n",
      "  \"action"
     ]
    },
    {
     "name": "stdout",
     "output_type": "stream",
     "text": [
      "\": \"Summar"
     ]
    },
    {
     "name": "stdout",
     "output_type": "stream",
     "text": [
      "izeProteinStructure\",\n"
     ]
    },
    {
     "name": "stdout",
     "output_type": "stream",
     "text": [
      "  \"action_input\":"
     ]
    },
    {
     "name": "stdout",
     "output_type": "stream",
     "text": [
      " {\n",
      "    \"tr"
     ]
    },
    {
     "name": "stdout",
     "output_type": "stream",
     "text": [
      "aj_file\": \""
     ]
    },
    {
     "name": "stdout",
     "output_type": "stream",
     "text": [
      "1GZX_"
     ]
    },
    {
     "name": "stdout",
     "output_type": "stream",
     "text": [
      "110850"
     ]
    },
    {
     "name": "stdout",
     "output_type": "stream",
     "text": [
      "\",\n",
      "    \"top"
     ]
    },
    {
     "name": "stdout",
     "output_type": "stream",
     "text": [
      "_file\":"
     ]
    },
    {
     "name": "stdout",
     "output_type": "stream",
     "text": [
      " \"1GZX"
     ]
    },
    {
     "name": "stdout",
     "output_type": "stream",
     "text": [
      "_110850\"\n"
     ]
    },
    {
     "name": "stdout",
     "output_type": "stream",
     "text": [
      "  }\n",
      "}\n",
      "```"
     ]
    },
    {
     "name": "stdout",
     "output_type": "stream",
     "text": [
      "Thought:"
     ]
    },
    {
     "name": "stdout",
     "output_type": "stream",
     "text": [
      " I have completed all the"
     ]
    },
    {
     "name": "stdout",
     "output_type": "stream",
     "text": [
      " tasks and have the"
     ]
    },
    {
     "name": "stdout",
     "output_type": "stream",
     "text": [
      " necessary information to provide a"
     ]
    },
    {
     "name": "stdout",
     "output_type": "stream",
     "text": [
      " final answer.\n",
      "\n",
      "Action:\n"
     ]
    },
    {
     "name": "stdout",
     "output_type": "stream",
     "text": [
      "```\n",
      "{\n",
      "  \"action\": \""
     ]
    },
    {
     "name": "stdout",
     "output_type": "stream",
     "text": [
      "Final Answer\",\n",
      "  \"action"
     ]
    },
    {
     "name": "stdout",
     "output_type": "stream",
     "text": [
      "_input\": \"The PDB"
     ]
    },
    {
     "name": "stdout",
     "output_type": "stream",
     "text": [
      " file 1GZX has been"
     ]
    },
    {
     "name": "stdout",
     "output_type": "stream",
     "text": [
      " downloaded and analyzed. The"
     ]
    },
    {
     "name": "stdout",
     "output_type": "stream",
     "text": [
      " secondary structure analysis reveals that"
     ]
    },
    {
     "name": "stdout",
     "output_type": "stream",
     "text": [
      " the protein has 444 residues"
     ]
    },
    {
     "name": "stdout",
     "output_type": "stream",
     "text": [
      " in helix, "
     ]
    },
    {
     "name": "stdout",
     "output_type": "stream",
     "text": [
      "0 residues in strand,"
     ]
    },
    {
     "name": "stdout",
     "output_type": "stream",
     "text": [
      " 130 residues in coil,"
     ]
    },
    {
     "name": "stdout",
     "output_type": "stream",
     "text": [
      " and 213 residues not assigned"
     ]
    },
    {
     "name": "stdout",
     "output_type": "stream",
     "text": [
      " or not a protein residue. The"
     ]
    },
    {
     "name": "stdout",
     "output_type": "stream",
     "text": [
      " protein structure summary shows that"
     ]
    },
    {
     "name": "stdout",
     "output_type": "stream",
     "text": [
      " it has"
     ]
    },
    {
     "name": "stdout",
     "output_type": "stream",
     "text": [
      " 4769 atoms"
     ]
    },
    {
     "name": "stdout",
     "output_type": "stream",
     "text": [
      ", 787 residues, 12"
     ]
    },
    {
     "name": "stdout",
     "output_type": "stream",
     "text": [
      " chains, 1 frame,"
     ]
    },
    {
     "name": "stdout",
     "output_type": "stream",
     "text": [
      " and 4716 bonds.\"\n"
     ]
    },
    {
     "name": "stdout",
     "output_type": "stream",
     "text": [
      "}\n",
      "```"
     ]
    },
    {
     "data": {
      "text/plain": [
       "({'input': '\\n    You are an expert molecular dynamics scientist, and\\n    your task is to respond to the question or\\n    solve the problem to the best of your ability using\\n    the provided tools.\\n\\n    You can only respond with a single complete\\n    \\'Thought, Action, Action Input\\' format\\n    OR a single \\'Final Answer\\' format.\\n\\n    Complete format:\\n    Thought: (reflect on your progress and decide what to do next)\\n    Action:\\n    ```\\n    {\\n        \"action\": (the action name, it should be the name of a tool),\\n        \"action_input\": (the input string for the action)\\n    }\\n    \\'\\'\\'\\n\\n    OR\\n\\n    Final Answer: (the final response to the original input\\n    question, once all steps are complete)\\n\\n    You are required to use the tools provided,\\n    using the most specific tool\\n    available for each action.\\n    Your final answer should contain all information\\n    necessary to answer the question and its subquestions.\\n    Before you finish, reflect on your progress and make\\n    sure you have addressed the question in its entirety.\\n\\n    If you are asked to continue\\n    or reference previous runs,\\n    the context will be provided to you.\\n    If context is provided, you should assume\\n    you are continuing a chat.\\n\\n    Here is the input:\\n    Previous Context: None\\n    Question: Complete the following MD tasks:  1.- Download the PDB file 1GZX 2.- Analyze its secondary structure. 3.- Tell me how many chains, sheets, etc. there are.  ',\n",
       "  'output': 'The PDB file 1GZX has been downloaded and analyzed. The secondary structure analysis reveals that the protein has 444 residues in helix, 0 residues in strand, 130 residues in coil, and 213 residues not assigned or not a protein residue. The protein structure summary shows that it has 4769 atoms, 787 residues, 12 chains, 1 frame, and 4716 bonds.'},\n",
       " '2RIP5BOV')"
      ]
     },
     "execution_count": 5,
     "metadata": {},
     "output_type": "execute_result"
    }
   ],
   "source": [
    "agent_1.run(descriptive_prompt_2)"
   ]
  },
  {
   "cell_type": "code",
   "execution_count": 6,
   "metadata": {
    "execution": {
     "iopub.execute_input": "2024-10-01T15:08:55.364951Z",
     "iopub.status.busy": "2024-10-01T15:08:55.364776Z",
     "iopub.status.idle": "2024-10-01T15:09:05.009245Z",
     "shell.execute_reply": "2024-10-01T15:09:05.008880Z"
    }
   },
   "outputs": [
    {
     "name": "stdout",
     "output_type": "stream",
     "text": [
      "Thought:"
     ]
    },
    {
     "name": "stdout",
     "output_type": "stream",
     "text": [
      " To solve this"
     ]
    },
    {
     "name": "stdout",
     "output_type": "stream",
     "text": [
      " problem, I need"
     ]
    },
    {
     "name": "stdout",
     "output_type": "stream",
     "text": [
      " to first download the P"
     ]
    },
    {
     "name": "stdout",
     "output_type": "stream",
     "text": [
      "DB file for the given P"
     ]
    },
    {
     "name": "stdout",
     "output_type": "stream",
     "text": [
      "DB ID "
     ]
    },
    {
     "name": "stdout",
     "output_type": "stream",
     "text": [
      "1GZX"
     ]
    },
    {
     "name": "stdout",
     "output_type": "stream",
     "text": [
      ". Then,"
     ]
    },
    {
     "name": "stdout",
     "output_type": "stream",
     "text": [
      " I can analyze"
     ]
    },
    {
     "name": "stdout",
     "output_type": "stream",
     "text": [
      " the secondary structure of the"
     ]
    },
    {
     "name": "stdout",
     "output_type": "stream",
     "text": [
      " protein and provide"
     ]
    },
    {
     "name": "stdout",
     "output_type": "stream",
     "text": [
      " the"
     ]
    },
    {
     "name": "stdout",
     "output_type": "stream",
     "text": [
      " required information.\n",
      "\n",
      "Action:\n",
      "```\n",
      "{\n",
      "  \""
     ]
    },
    {
     "name": "stdout",
     "output_type": "stream",
     "text": [
      "action\": \"P"
     ]
    },
    {
     "name": "stdout",
     "output_type": "stream",
     "text": [
      "DBFileDownloader\",\n",
      " "
     ]
    },
    {
     "name": "stdout",
     "output_type": "stream",
     "text": [
      " \"action_input\":"
     ]
    },
    {
     "name": "stdout",
     "output_type": "stream",
     "text": [
      " \"1GZX\"\n"
     ]
    },
    {
     "name": "stdout",
     "output_type": "stream",
     "text": [
      "}\n",
      "```\n"
     ]
    },
    {
     "name": "stdout",
     "output_type": "stream",
     "text": [
      "PDB file found with this ID: 1GZX\n"
     ]
    },
    {
     "name": "stdout",
     "output_type": "stream",
     "text": [
      "Thought:"
     ]
    },
    {
     "name": "stdout",
     "output_type": "stream",
     "text": [
      " Now that I"
     ]
    },
    {
     "name": "stdout",
     "output_type": "stream",
     "text": [
      " have the P"
     ]
    },
    {
     "name": "stdout",
     "output_type": "stream",
     "text": [
      "DB file, I can"
     ]
    },
    {
     "name": "stdout",
     "output_type": "stream",
     "text": [
      " analyze the secondary structure"
     ]
    },
    {
     "name": "stdout",
     "output_type": "stream",
     "text": [
      " of the protein. To"
     ]
    },
    {
     "name": "stdout",
     "output_type": "stream",
     "text": [
      " do this,"
     ]
    },
    {
     "name": "stdout",
     "output_type": "stream",
     "text": [
      " I will use"
     ]
    },
    {
     "name": "stdout",
     "output_type": "stream",
     "text": [
      " the SummarizePro"
     ]
    },
    {
     "name": "stdout",
     "output_type": "stream",
     "text": [
      "teinStructure tool to get"
     ]
    },
    {
     "name": "stdout",
     "output_type": "stream",
     "text": [
      " information about"
     ]
    },
    {
     "name": "stdout",
     "output_type": "stream",
     "text": [
      " the protein's structure"
     ]
    },
    {
     "name": "stdout",
     "output_type": "stream",
     "text": [
      ", including"
     ]
    },
    {
     "name": "stdout",
     "output_type": "stream",
     "text": [
      " the number of chains,"
     ]
    },
    {
     "name": "stdout",
     "output_type": "stream",
     "text": [
      " sheets, etc.\n",
      "\n"
     ]
    },
    {
     "name": "stdout",
     "output_type": "stream",
     "text": [
      "Action:\n",
      "```\n",
      "{\n",
      " "
     ]
    },
    {
     "name": "stdout",
     "output_type": "stream",
     "text": [
      " \"action\": \""
     ]
    },
    {
     "name": "stdout",
     "output_type": "stream",
     "text": [
      "SummarizePro"
     ]
    },
    {
     "name": "stdout",
     "output_type": "stream",
     "text": [
      "teinStructure\",\n",
      "  \"action"
     ]
    },
    {
     "name": "stdout",
     "output_type": "stream",
     "text": [
      "_input\": {\n",
      "   "
     ]
    },
    {
     "name": "stdout",
     "output_type": "stream",
     "text": [
      " \"traj_file"
     ]
    },
    {
     "name": "stdout",
     "output_type": "stream",
     "text": [
      "\": \"1G"
     ]
    },
    {
     "name": "stdout",
     "output_type": "stream",
     "text": [
      "ZX_110857"
     ]
    },
    {
     "name": "stdout",
     "output_type": "stream",
     "text": [
      "\",\n",
      "    \"top_file\": \"1GZX_110857\"\n",
      "  }\n",
      "}\n",
      "```\n",
      "\n"
     ]
    },
    {
     "name": "stdout",
     "output_type": "stream",
     "text": [
      "Thought:"
     ]
    },
    {
     "name": "stdout",
     "output_type": "stream",
     "text": [
      " Now that I have the information"
     ]
    },
    {
     "name": "stdout",
     "output_type": "stream",
     "text": [
      " about the protein's structure,"
     ]
    },
    {
     "name": "stdout",
     "output_type": "stream",
     "text": [
      " I can analyze the secondary structure"
     ]
    },
    {
     "name": "stdout",
     "output_type": "stream",
     "text": [
      " of the protein. To do"
     ]
    },
    {
     "name": "stdout",
     "output_type": "stream",
     "text": [
      " this, I will use the"
     ]
    },
    {
     "name": "stdout",
     "output_type": "stream",
     "text": [
      " ComputeDSSP tool"
     ]
    },
    {
     "name": "stdout",
     "output_type": "stream",
     "text": [
      " to get the secondary structure assignment for"
     ]
    },
    {
     "name": "stdout",
     "output_type": "stream",
     "text": [
      " the"
     ]
    },
    {
     "name": "stdout",
     "output_type": "stream",
     "text": [
      " protein.\n",
      "\n",
      "Action:\n",
      "```\n",
      "{\n",
      " "
     ]
    },
    {
     "name": "stdout",
     "output_type": "stream",
     "text": [
      " \"action\": \"ComputeD"
     ]
    },
    {
     "name": "stdout",
     "output_type": "stream",
     "text": [
      "SSD\",\n",
      "  \"action_input\":"
     ]
    },
    {
     "name": "stdout",
     "output_type": "stream",
     "text": [
      " {\n",
      "    \"traj_file"
     ]
    },
    {
     "name": "stdout",
     "output_type": "stream",
     "text": [
      "\": \"1GZX_"
     ]
    },
    {
     "name": "stdout",
     "output_type": "stream",
     "text": [
      "110857\",\n",
      "    \"top"
     ]
    },
    {
     "name": "stdout",
     "output_type": "stream",
     "text": [
      "_file\": \"1G"
     ]
    },
    {
     "name": "stdout",
     "output_type": "stream",
     "text": [
      "ZX_110857\",\n",
      "   "
     ]
    },
    {
     "name": "stdout",
     "output_type": "stream",
     "text": [
      " \"target_frames\": \"all"
     ]
    },
    {
     "name": "stdout",
     "output_type": "stream",
     "text": [
      "\"\n",
      "  }\n",
      "}\n",
      "```\n",
      "\n"
     ]
    },
    {
     "name": "stdout",
     "output_type": "stream",
     "text": [
      "Thought:"
     ]
    },
    {
     "name": "stdout",
     "output_type": "stream",
     "text": [
      " I realized that I made"
     ]
    },
    {
     "name": "stdout",
     "output_type": "stream",
     "text": [
      " a mistake in"
     ]
    },
    {
     "name": "stdout",
     "output_type": "stream",
     "text": [
      " my previous action."
     ]
    },
    {
     "name": "stdout",
     "output_type": "stream",
     "text": [
      " I used \"Compute"
     ]
    },
    {
     "name": "stdout",
     "output_type": "stream",
     "text": [
      "DSSD\" which is"
     ]
    },
    {
     "name": "stdout",
     "output_type": "stream",
     "text": [
      " not a valid tool"
     ]
    },
    {
     "name": "stdout",
     "output_type": "stream",
     "text": [
      ". I should have used"
     ]
    },
    {
     "name": "stdout",
     "output_type": "stream",
     "text": [
      " \"ComputeDSSP\""
     ]
    },
    {
     "name": "stdout",
     "output_type": "stream",
     "text": [
      " instead. I"
     ]
    },
    {
     "name": "stdout",
     "output_type": "stream",
     "text": [
      " will correct this"
     ]
    },
    {
     "name": "stdout",
     "output_type": "stream",
     "text": [
      " and continue"
     ]
    },
    {
     "name": "stdout",
     "output_type": "stream",
     "text": [
      " with the analysis.\n",
      "\n"
     ]
    },
    {
     "name": "stdout",
     "output_type": "stream",
     "text": [
      "Action:\n",
      "```\n",
      "{\n",
      " "
     ]
    },
    {
     "name": "stdout",
     "output_type": "stream",
     "text": [
      " \"action\": \""
     ]
    },
    {
     "name": "stdout",
     "output_type": "stream",
     "text": [
      "ComputeDSSP\",\n"
     ]
    },
    {
     "name": "stdout",
     "output_type": "stream",
     "text": [
      "  \"action_input\":"
     ]
    },
    {
     "name": "stdout",
     "output_type": "stream",
     "text": [
      " {\n",
      "    \"tr"
     ]
    },
    {
     "name": "stdout",
     "output_type": "stream",
     "text": [
      "aj_file\": \""
     ]
    },
    {
     "name": "stdout",
     "output_type": "stream",
     "text": [
      "1GZX_"
     ]
    },
    {
     "name": "stdout",
     "output_type": "stream",
     "text": [
      "110857\",\n",
      "   "
     ]
    },
    {
     "name": "stdout",
     "output_type": "stream",
     "text": [
      " \"top_file"
     ]
    },
    {
     "name": "stdout",
     "output_type": "stream",
     "text": [
      "\": \"1G"
     ]
    },
    {
     "name": "stdout",
     "output_type": "stream",
     "text": [
      "ZX_110857"
     ]
    },
    {
     "name": "stdout",
     "output_type": "stream",
     "text": [
      "\",\n",
      "    \"target"
     ]
    },
    {
     "name": "stdout",
     "output_type": "stream",
     "text": [
      "_frames\": \"all"
     ]
    },
    {
     "name": "stdout",
     "output_type": "stream",
     "text": [
      "\"\n",
      "  }\n",
      "}\n"
     ]
    },
    {
     "name": "stdout",
     "output_type": "stream",
     "text": [
      "```"
     ]
    },
    {
     "name": "stdout",
     "output_type": "stream",
     "text": [
      "Thought:"
     ]
    },
    {
     "name": "stdout",
     "output_type": "stream",
     "text": [
      " Now that I have the secondary"
     ]
    },
    {
     "name": "stdout",
     "output_type": "stream",
     "text": [
      " structure assignment for the protein,"
     ]
    },
    {
     "name": "stdout",
     "output_type": "stream",
     "text": [
      " I can provide the required information"
     ]
    },
    {
     "name": "stdout",
     "output_type": "stream",
     "text": [
      ". The protein has 12"
     ]
    },
    {
     "name": "stdout",
     "output_type": "stream",
     "text": [
      " chains, 444 residues"
     ]
    },
    {
     "name": "stdout",
     "output_type": "stream",
     "text": [
      " in helix, "
     ]
    },
    {
     "name": "stdout",
     "output_type": "stream",
     "text": [
      "0 residues in strand, 130"
     ]
    },
    {
     "name": "stdout",
     "output_type": "stream",
     "text": [
      " residues in coil, and "
     ]
    },
    {
     "name": "stdout",
     "output_type": "stream",
     "text": [
      "213 residues not assigned"
     ]
    },
    {
     "name": "stdout",
     "output_type": "stream",
     "text": [
      " or not a protein residue.\n",
      "\n",
      "Action"
     ]
    },
    {
     "name": "stdout",
     "output_type": "stream",
     "text": [
      ":\n"
     ]
    },
    {
     "name": "stdout",
     "output_type": "stream",
     "text": [
      "```\n",
      "{\n",
      "  \"action\": \""
     ]
    },
    {
     "name": "stdout",
     "output_type": "stream",
     "text": [
      "Final Answer\",\n",
      " "
     ]
    },
    {
     "name": "stdout",
     "output_type": "stream",
     "text": [
      " \"action_input\": \"The"
     ]
    },
    {
     "name": "stdout",
     "output_type": "stream",
     "text": [
      " protein has 12 chains,"
     ]
    },
    {
     "name": "stdout",
     "output_type": "stream",
     "text": [
      " 444 residues in helix"
     ]
    },
    {
     "name": "stdout",
     "output_type": "stream",
     "text": [
      ", 0 residues in strand,"
     ]
    },
    {
     "name": "stdout",
     "output_type": "stream",
     "text": [
      " 130 residues in coil,"
     ]
    },
    {
     "name": "stdout",
     "output_type": "stream",
     "text": [
      " and 213 residues"
     ]
    },
    {
     "name": "stdout",
     "output_type": "stream",
     "text": [
      " not assigned or not a protein residue"
     ]
    },
    {
     "name": "stdout",
     "output_type": "stream",
     "text": [
      ".\"\n",
      "}\n",
      "```"
     ]
    },
    {
     "data": {
      "text/plain": [
       "({'input': '\\n    You are an expert molecular dynamics scientist, and\\n    your task is to respond to the question or\\n    solve the problem to the best of your ability using\\n    the provided tools.\\n\\n    You can only respond with a single complete\\n    \\'Thought, Action, Action Input\\' format\\n    OR a single \\'Final Answer\\' format.\\n\\n    Complete format:\\n    Thought: (reflect on your progress and decide what to do next)\\n    Action:\\n    ```\\n    {\\n        \"action\": (the action name, it should be the name of a tool),\\n        \"action_input\": (the input string for the action)\\n    }\\n    \\'\\'\\'\\n\\n    OR\\n\\n    Final Answer: (the final response to the original input\\n    question, once all steps are complete)\\n\\n    You are required to use the tools provided,\\n    using the most specific tool\\n    available for each action.\\n    Your final answer should contain all information\\n    necessary to answer the question and its subquestions.\\n    Before you finish, reflect on your progress and make\\n    sure you have addressed the question in its entirety.\\n\\n    If you are asked to continue\\n    or reference previous runs,\\n    the context will be provided to you.\\n    If context is provided, you should assume\\n    you are continuing a chat.\\n\\n    Here is the input:\\n    Previous Context: None\\n    Question: Download the PDB file for PDB ID 1GZX. Then, analyze the secondary structure of the protein and tell me how many chains, sheets, etc. there are ',\n",
       "  'output': 'The protein has 12 chains, 444 residues in helix, 0 residues in strand, 130 residues in coil, and 213 residues not assigned or not a protein residue.'},\n",
       " 'BYFCNT95')"
      ]
     },
     "execution_count": 6,
     "metadata": {},
     "output_type": "execute_result"
    }
   ],
   "source": [
    "agent_2.run(non_descriptive_prompt_2)"
   ]
  },
  {
   "cell_type": "code",
   "execution_count": 8,
   "metadata": {
    "execution": {
     "iopub.execute_input": "2024-10-01T15:09:05.017582Z",
     "iopub.status.busy": "2024-10-01T15:09:05.017428Z",
     "iopub.status.idle": "2024-10-01T15:09:05.077132Z",
     "shell.execute_reply": "2024-10-01T15:09:05.076782Z"
    }
   },
   "outputs": [
    {
     "name": "stdout",
     "output_type": "stream",
     "text": [
      "ckpt_dir: /gpfs/fs2/scratch/qcampbe2/repos/md-agent/ckpt/ckpt_64\n",
      "Files found in registry: 1GZX_110850: PDB file downloaded from RSCB, PDBFile ID: 1GZX_110850, rec0_110851: dssp values for trajectory with id: 1GZX_110850, 1GZX_110857: PDB file downloaded from RSCB, PDBFile ID: 1GZX_110857, rec0_110903: dssp values for trajectory with id: 1GZX_110857\n"
     ]
    }
   ],
   "source": [
    "registry = agent_2.path_registry\n",
    "print(\"ckpt_dir:\",registry.ckpt_dir)\n",
    "print(registry.list_path_names_and_descriptions())"
   ]
  },
  {
   "cell_type": "code",
   "execution_count": 1,
   "metadata": {},
   "outputs": [
    {
     "name": "stdout",
     "output_type": "stream",
     "text": [
      "Number of chains:  12\n",
      "Number of sheets:  0\n",
      "Number of helices:  444\n",
      "Number of coils:  130\n"
     ]
    }
   ],
   "source": [
    "# Agent 1\n",
    "from mdagent import MDAgent\n",
    "import mdtraj as md\n",
    "\n",
    "agent = MDAgent(ckpt_dir = \"ckpt_64\")\n",
    "registry = agent.path_registry\n",
    "\n",
    "path = registry.get_mapped_path(\"1GZX_110850\")\n",
    "traj = md.load(path)\n",
    "#get dssp \n",
    "number_of_chains = traj.n_chains\n",
    "secondary_structure = md.compute_dssp(traj,simplified=True)\n",
    "print(\"Number of chains: \",number_of_chains)\n",
    "print(\"Number of sheets: \",len([i for i in secondary_structure[0] if i == 'E']))\n",
    "print(\"Number of helices: \",len([i for i in secondary_structure[0] if i == 'H']))\n",
    "print(\"Number of coils: \",len([i for i in secondary_structure[0] if i == 'C']))"
   ]
  },
  {
   "cell_type": "code",
   "execution_count": 2,
   "metadata": {},
   "outputs": [
    {
     "name": "stdout",
     "output_type": "stream",
     "text": [
      "Number of chains:  12\n",
      "Number of sheets:  0\n",
      "Number of helices:  444\n",
      "Number of coils:  130\n"
     ]
    }
   ],
   "source": [
    "# Agent 2\n",
    "path = registry.get_mapped_path(\"1GZX_110857\")\n",
    "traj = md.load(path)\n",
    "#get dssp \n",
    "number_of_chains = traj.n_chains\n",
    "secondary_structure = md.compute_dssp(traj,simplified=True)\n",
    "print(\"Number of chains: \",number_of_chains)\n",
    "print(\"Number of sheets: \",len([i for i in secondary_structure[0] if i == 'E']))\n",
    "print(\"Number of helices: \",len([i for i in secondary_structure[0] if i == 'H']))\n",
    "print(\"Number of coils: \",len([i for i in secondary_structure[0] if i == 'C']))"
   ]
  }
 ],
 "metadata": {
  "kernelspec": {
   "display_name": "mdagent",
   "language": "python",
   "name": "mdagent"
  },
  "language_info": {
   "codemirror_mode": {
    "name": "ipython",
    "version": 3
   },
   "file_extension": ".py",
   "mimetype": "text/x-python",
   "name": "python",
   "nbconvert_exporter": "python",
   "pygments_lexer": "ipython3",
   "version": "3.12.4"
  }
 },
 "nbformat": 4,
 "nbformat_minor": 4
}
