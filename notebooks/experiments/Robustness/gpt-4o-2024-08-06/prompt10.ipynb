{
 "cells": [
  {
   "cell_type": "code",
   "execution_count": null,
   "metadata": {},
   "outputs": [],
   "source": [
    "from mdagent import MDAgent\n",
    "import os"
   ]
  },
  {
   "cell_type": "code",
   "execution_count": null,
   "metadata": {},
   "outputs": [],
   "source": [
    "descriptive_prompt_10 = \"Complete all of the following tasks: 1. Download the PDB file 1LYZ. 2. Tell me how many residues are in the chains and beta sheets. 3. Simulate for 1 ps at 300 K. 4. Compute the RMSD of the simulation at 300 K. 5. Compute the radius of gyration over time for the simulation at 300 K. 6. Compute the SASA (solvent accessible surface area) for the simulation at 300 K. 7. Simulate for 1 ps at 400 K. 8. Compute the RMSD of the simulation at 400 K. 9. Compute the radius of gyration over time for the simulation at 400 K. 10. Compute the SASA (solvent accessible surface area) for the simulation at 400 K.\"\n",
    "non_descriptive_prompt_10 = \"Simulate 1LYZ for 1 ps at 300K and 400K. Tell me how many residues are in the chains and beta sheets, and compute the RMSD, SASA, and radius of gyration of both simulations.\""
   ]
  },
  {
   "cell_type": "code",
   "execution_count": null,
   "metadata": {},
   "outputs": [],
   "source": [
    "llm_model = \"gpt-4o-2024-08-06\"\n",
    "tools = \"all\""
   ]
  },
  {
   "cell_type": "code",
   "execution_count": null,
   "metadata": {},
   "outputs": [],
   "source": [
    "#todays date and time\n",
    "import datetime\n",
    "now = datetime.datetime.now()\n",
    "date = now.strftime(\"%Y-%m-%d\")\n",
    "print(\"date:\",date)\n",
    "time = now.strftime(\"%H:%M:%S\")\n",
    "print(\"time:\",time)"
   ]
  },
  {
   "cell_type": "markdown",
   "metadata": {},
   "source": [
    "# descriptive prompt"
   ]
  },
  {
   "cell_type": "code",
   "execution_count": null,
   "metadata": {},
   "outputs": [],
   "source": [
    "agent_1 = MDAgent(agent_type=\"Structured\", model=llm_model, top_k_tools=tools)"
   ]
  },
  {
   "cell_type": "code",
   "execution_count": null,
   "metadata": {},
   "outputs": [],
   "source": [
    "agent_1.run(descriptive_prompt_10)"
   ]
  },
  {
   "cell_type": "code",
   "execution_count": null,
   "metadata": {},
   "outputs": [],
   "source": [
    "registry = agent_1.path_registry\n",
    "print(\"ckpt_dir:\",os.path.basename(registry.ckpt_dir))\n",
    "paths_and_descriptions = registry.list_path_names_and_descriptions()\n",
    "print(\"\\n\".join(paths_and_descriptions.split(\",\")))"
   ]
  },
  {
   "cell_type": "code",
   "execution_count": null,
   "metadata": {},
   "outputs": [],
   "source": [
    "import re\n",
    "import os\n",
    "matches = re.findall(r\"rec0_\\d+\", paths_and_descriptions)\n",
    "traj_id1 = matches[0]\n",
    "traj_id2 = matches[1]\n",
    "traj_path1 = registry.get_mapped_path(traj_id1)\n",
    "traj_path2 = registry.get_mapped_path(traj_id2)\n",
    "assert os.path.exists(traj_path1)\n",
    "assert os.path.exists(traj_path2)\n",
    "\n",
    "matches = re.findall(r\"top_sim0_\\d+\", paths_and_descriptions)\n",
    "top_id1 = matches[0]\n",
    "top_id2 = matches[1]\n",
    "top_path1 = registry.get_mapped_path(top_id1)\n",
    "top_path2 = registry.get_mapped_path(top_id2)\n",
    "assert os.path.exists(top_path1)\n",
    "assert os.path.exists(top_path2)\n",
    "print(f\"It's asserted that file paths for {traj_id1}, {top_id1}, {traj_id2} and {top_id2} exist\")"
   ]
  },
  {
   "cell_type": "code",
   "execution_count": null,
   "metadata": {},
   "outputs": [],
   "source": [
    "# this checks DSSP for the first frame, change to the last frame if needed\n",
    "import mdtraj as md\n",
    "\n",
    "print(\"First simulation:\")\n",
    "traj_path1 = registry.get_mapped_path(traj_id1)\n",
    "top_path1 = registry.get_mapped_path(top_id1)\n",
    "traj = md.load(traj_path1, top=top_path1)[0] # first frame\n",
    "secondary_structure = md.compute_dssp(traj,simplified=True)\n",
    "print(\"Number of chains: \",traj.n_chains)\n",
    "print(\"Number of residues in sheets: \",len([i for i in secondary_structure if i == 'E']))\n",
    "print(\"Number of residues in helices: \",len([i for i in secondary_structure if i == 'H']))\n",
    "print(\"Number of residues in coils: \",len([i for i in secondary_structure if i == 'C']))\n",
    "\n",
    "print(\"Second simulation:\")\n",
    "traj_path2 = registry.get_mapped_path(traj_id2)\n",
    "top_path2 = registry.get_mapped_path(top_id2)\n",
    "traj = md.load(traj_path2, top=top_path2)[0] # first frame\n",
    "secondary_structure = md.compute_dssp(traj,simplified=True)\n",
    "print(\"Number of chains: \",traj.n_chains)\n",
    "print(\"Number of residues in sheets: \",len([i for i in secondary_structure if i == 'E']))\n",
    "print(\"Number of residues in helices: \",len([i for i in secondary_structure if i == 'H']))\n",
    "print(\"Number of residues in coils: \",len([i for i in secondary_structure if i == 'C']))"
   ]
  },
  {
   "cell_type": "code",
   "execution_count": null,
   "metadata": {},
   "outputs": [],
   "source": [
    "from IPython.display import Image\n",
    "matches = re.findall(r\"fig0_\\d+\", paths_and_descriptions)\n",
    "fig_id1 = matches[0]\n",
    "fig_path1 = registry.get_mapped_path(fig_id1)\n",
    "assert os.path.exists(fig_path1), f\"This figure {fig_id1} does not exist.\"\n",
    "Image(filename=fig_path1)"
   ]
  },
  {
   "cell_type": "code",
   "execution_count": null,
   "metadata": {},
   "outputs": [],
   "source": [
    "fig_id2 = matches[1]\n",
    "fig_path2 = registry.get_mapped_path(fig_id2)\n",
    "assert os.path.exists(fig_path1), f\"This figure {fig_id2} does not exist.\"\n",
    "Image(filename=fig_path2)"
   ]
  },
  {
   "cell_type": "code",
   "execution_count": null,
   "metadata": {},
   "outputs": [],
   "source": [
    "fig_id3 = matches[2]\n",
    "fig_path3 = registry.get_mapped_path(fig_id3)\n",
    "assert os.path.exists(fig_path3), f\"This figure {fig_id3} does not exist.\"\n",
    "Image(filename=fig_path3)"
   ]
  },
  {
   "cell_type": "code",
   "execution_count": null,
   "metadata": {},
   "outputs": [],
   "source": [
    "fig_id4 = matches[3]\n",
    "fig_path4 = registry.get_mapped_path(fig_id4)\n",
    "assert os.path.exists(fig_path4), f\"This figure {fig_id4} does not exist.\"\n",
    "Image(filename=fig_path4)"
   ]
  },
  {
   "cell_type": "code",
   "execution_count": null,
   "metadata": {},
   "outputs": [],
   "source": [
    "fig_id5 = matches[4]\n",
    "fig_path5 = registry.get_mapped_path(fig_id5)\n",
    "assert os.path.exists(fig_path5), f\"This figure {fig_id5} does not exist.\"\n",
    "Image(filename=fig_path5)"
   ]
  },
  {
   "cell_type": "code",
   "execution_count": null,
   "metadata": {},
   "outputs": [],
   "source": [
    "fig_id6 = matches[5]\n",
    "fig_path6 = registry.get_mapped_path(fig_id6)\n",
    "assert os.path.exists(fig_path6), f\"This figure {fig_id6} does not exist.\"\n",
    "Image(filename=fig_path6)"
   ]
  },
  {
   "cell_type": "markdown",
   "metadata": {},
   "source": [
    "# non-descriptive prompt"
   ]
  },
  {
   "cell_type": "code",
   "execution_count": null,
   "metadata": {},
   "outputs": [],
   "source": [
    "agent_2 = MDAgent(agent_type=\"Structured\", model=llm_model, top_k_tools=tools)"
   ]
  },
  {
   "cell_type": "code",
   "execution_count": null,
   "metadata": {},
   "outputs": [],
   "source": [
    "agent_2.run(non_descriptive_prompt_10)"
   ]
  },
  {
   "cell_type": "code",
   "execution_count": null,
   "metadata": {},
   "outputs": [],
   "source": [
    "registry = agent_2.path_registry\n",
    "print(\"ckpt_dir:\",os.path.basename(registry.ckpt_dir))\n",
    "paths_and_descriptions = registry.list_path_names_and_descriptions()\n",
    "print(\"\\n\".join(paths_and_descriptions.split(\",\")))"
   ]
  },
  {
   "cell_type": "code",
   "execution_count": null,
   "metadata": {},
   "outputs": [],
   "source": [
    "import re\n",
    "import os\n",
    "matches = re.findall(r\"rec0_\\d+\", paths_and_descriptions)\n",
    "traj_id1 = matches[0]\n",
    "traj_id2 = matches[1]\n",
    "traj_path1 = registry.get_mapped_path(traj_id1)\n",
    "traj_path2 = registry.get_mapped_path(traj_id2)\n",
    "assert os.path.exists(traj_path1)\n",
    "assert os.path.exists(traj_path2)\n",
    "\n",
    "matches = re.findall(r\"top_sim0_\\d+\", paths_and_descriptions)\n",
    "top_id1 = matches[0]\n",
    "top_id2 = matches[1]\n",
    "top_path1 = registry.get_mapped_path(top_id1)\n",
    "top_path2 = registry.get_mapped_path(top_id2)\n",
    "assert os.path.exists(top_path1)\n",
    "assert os.path.exists(top_path2)\n",
    "print(f\"It's asserted that file paths for {traj_id1}, {top_id1}, {traj_id2} and {top_id2} exist\")"
   ]
  },
  {
   "cell_type": "code",
   "execution_count": null,
   "metadata": {},
   "outputs": [],
   "source": [
    "# this checks DSSP for the first frame, change to the last frame if needed\n",
    "import mdtraj as md\n",
    "\n",
    "print(\"First simulation:\")\n",
    "traj_path1 = registry.get_mapped_path(traj_id1)\n",
    "top_path1 = registry.get_mapped_path(top_id1)\n",
    "traj = md.load(traj_path1, top=top_path1)[0] # first frame\n",
    "secondary_structure = md.compute_dssp(traj,simplified=True)\n",
    "print(\"Number of chains: \",traj.n_chains)\n",
    "print(\"Number of residues in sheets: \",len([i for i in secondary_structure if i == 'E']))\n",
    "print(\"Number of residues in helices: \",len([i for i in secondary_structure if i == 'H']))\n",
    "print(\"Number of residues in coils: \",len([i for i in secondary_structure if i == 'C']))\n",
    "\n",
    "print(\"Second simulation:\")\n",
    "traj_path2 = registry.get_mapped_path(traj_id2)\n",
    "top_path2 = registry.get_mapped_path(top_id2)\n",
    "traj = md.load(traj_path2, top=top_path2)[0] # first frame\n",
    "secondary_structure = md.compute_dssp(traj,simplified=True)\n",
    "print(\"Number of chains: \",traj.n_chains)\n",
    "print(\"Number of residues in sheets: \",len([i for i in secondary_structure if i == 'E']))\n",
    "print(\"Number of residues in helices: \",len([i for i in secondary_structure if i == 'H']))\n",
    "print(\"Number of residues in coils: \",len([i for i in secondary_structure if i == 'C']))"
   ]
  },
  {
   "cell_type": "code",
   "execution_count": null,
   "metadata": {},
   "outputs": [],
   "source": [
    "from IPython.display import Image\n",
    "matches = re.findall(r\"fig0_\\d+\", paths_and_descriptions)\n",
    "fig_id1 = matches[0]\n",
    "fig_path1 = registry.get_mapped_path(fig_id1)\n",
    "assert os.path.exists(fig_path1), f\"This figure {fig_id1} does not exist.\"\n",
    "Image(filename=fig_path1)"
   ]
  },
  {
   "cell_type": "code",
   "execution_count": null,
   "metadata": {},
   "outputs": [],
   "source": [
    "fig_id2 = matches[1]\n",
    "fig_path2 = registry.get_mapped_path(fig_id2)\n",
    "assert os.path.exists(fig_path1), f\"This figure {fig_id2} does not exist.\"\n",
    "Image(filename=fig_path2)"
   ]
  },
  {
   "cell_type": "code",
   "execution_count": null,
   "metadata": {},
   "outputs": [],
   "source": [
    "fig_id3 = matches[2]\n",
    "fig_path3 = registry.get_mapped_path(fig_id3)\n",
    "assert os.path.exists(fig_path3), f\"This figure {fig_id3} does not exist.\"\n",
    "Image(filename=fig_path3)"
   ]
  },
  {
   "cell_type": "code",
   "execution_count": null,
   "metadata": {},
   "outputs": [],
   "source": [
    "fig_id4 = matches[3]\n",
    "fig_path4 = registry.get_mapped_path(fig_id4)\n",
    "assert os.path.exists(fig_path4), f\"This figure {fig_id4} does not exist.\"\n",
    "Image(filename=fig_path4)"
   ]
  },
  {
   "cell_type": "code",
   "execution_count": null,
   "metadata": {},
   "outputs": [],
   "source": [
    "fig_id5 = matches[4]\n",
    "fig_path5 = registry.get_mapped_path(fig_id5)\n",
    "assert os.path.exists(fig_path5), f\"This figure {fig_id5} does not exist.\"\n",
    "Image(filename=fig_path5)"
   ]
  },
  {
   "cell_type": "code",
   "execution_count": null,
   "metadata": {},
   "outputs": [],
   "source": [
    "fig_id6 = matches[5]\n",
    "fig_path6 = registry.get_mapped_path(fig_id6)\n",
    "assert os.path.exists(fig_path6), f\"This figure {fig_id6} does not exist.\"\n",
    "Image(filename=fig_path6)"
   ]
  }
 ],
 "metadata": {
  "kernelspec": {
   "display_name": "mdagent",
   "language": "python",
   "name": "mdagent"
  },
  "language_info": {
   "codemirror_mode": {
    "name": "ipython",
    "version": 3
   },
   "file_extension": ".py",
   "mimetype": "text/x-python",
   "name": "python",
   "nbconvert_exporter": "python",
   "pygments_lexer": "ipython3",
   "version": "3.12.4"
  }
 },
 "nbformat": 4,
 "nbformat_minor": 4
}
