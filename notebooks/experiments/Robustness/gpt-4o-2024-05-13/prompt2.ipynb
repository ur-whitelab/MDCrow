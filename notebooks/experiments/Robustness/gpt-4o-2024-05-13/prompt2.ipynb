{
 "cells": [
  {
   "cell_type": "code",
   "execution_count": 1,
   "metadata": {},
   "outputs": [],
   "source": [
    "from mdagent import MDAgent\n"
   ]
  },
  {
   "cell_type": "code",
   "execution_count": 2,
   "metadata": {},
   "outputs": [],
   "source": [
    "descriptive_prompt_2 = \"Complete the following MD tasks:  1.- Download the PDB file 1GZX 2.- Analyze its secondary structure. 3.- Tell me how many chains, sheets, etc. there are. \"\n",
    "non_descriptive_prompt_2 = \"Download the PDB file for PDB ID 1GZX. Then, analyze the secondary structure of the protein and tell me how many chains, sheets, etc. there are\""
   ]
  },
  {
   "cell_type": "code",
   "execution_count": 3,
   "metadata": {},
   "outputs": [],
   "source": [
    "llm_model = \"gpt-4o-2024-05-13\"\n",
    "tools = \"all\""
   ]
  },
  {
   "cell_type": "code",
   "execution_count": 4,
   "metadata": {},
   "outputs": [],
   "source": [
    "agent_1 = MDAgent(agent_type=\"Structured\", model=llm_model, top_k_tools=tools)\n",
    "agent_2 = MDAgent(agent_type=\"Structured\", model=llm_model, top_k_tools=tools)"
   ]
  },
  {
   "cell_type": "code",
   "execution_count": 5,
   "metadata": {},
   "outputs": [
    {
     "name": "stdout",
     "output_type": "stream",
     "text": [
      "Thought: To complete the tasks, I will follow these steps:\n",
      "1. Download the PDB file for 1GZX.\n",
      "2. Analyze its secondary structure.\n",
      "3. Summarize the number of chains, sheets, etc.\n",
      "\n",
      "First, I will download the PDB file for 1GZX.\n",
      "\n",
      "Action:\n",
      "```\n",
      "{\n",
      "  \"action\": \"PDBFileDownloader\",\n",
      "  \"action_input\": \"1GZX\"\n",
      "}\n",
      "```"
     ]
    },
    {
     "name": "stderr",
     "output_type": "stream",
     "text": [
      "2024-07-19 19:51:53.549 \n",
      "  \u001b[33m\u001b[1mWarning:\u001b[0m to view this Streamlit app on a browser, run it with the following\n",
      "  command:\n",
      "\n",
      "    streamlit run /Users/jorgemedina/miniforge3/envs/mdagent2/lib/python3.11/site-packages/ipykernel_launcher.py [ARGUMENTS]\n"
     ]
    },
    {
     "name": "stdout",
     "output_type": "stream",
     "text": [
      "PDB file found with this ID: 1GZX\n",
      "Thought: The next step is to analyze the secondary structure of the downloaded PDB file (1GZX_195153). I will use the ComputeDSSP tool to perform this analysis.\n",
      "\n",
      "Action:\n",
      "```\n",
      "{\n",
      "  \"action\": \"ComputeDSSP\",\n",
      "  \"action_input\": {\n",
      "    \"traj_file\": \"1GZX_195153\"\n",
      "  }\n",
      "}\n",
      "```The secondary structure analysis of the PDB file 1GZX has been completed. The results are as follows:\n",
      "- Helix: 444 residues\n",
      "- Strand: 0 residues\n",
      "- Coil: 130 residues\n",
      "- Not assigned, not a protein residue: 213 residues\n",
      "\n",
      "Next, I will summarize the number of chains, sheets, etc., in the PDB file.\n",
      "\n",
      "Action:\n",
      "```\n",
      "{\n",
      "  \"action\": \"SummarizeProteinStructure\",\n",
      "  \"action_input\": {\n",
      "    \"traj_file\": \"1GZX_195153\"\n",
      "  }\n",
      "}\n",
      "```\n",
      "The tasks have been completed successfully. Here is the summary of the results:\n",
      "\n",
      "1. **Downloaded PDB file**: 1GZX\n",
      "2. **Secondary Structure Analysis**:\n",
      "   - Helix: 444 residues\n",
      "   - Strand: 0 residues\n",
      "   - Coil: 130 residues\n",
      "   - Not assigned, not a protein residue: 213 residues\n",
      "3. **Protein Structure Summary**:\n",
      "   - Number of atoms: 4769\n",
      "   - Number of residues: 787\n",
      "   - Number of chains: 12\n",
      "   - Number of frames: 1\n",
      "   - Number of bonds: 4716\n",
      "\n",
      "Final Answer: The PDB file 1GZX has been analyzed. It contains 12 chains, 444 residues in helices, 0 residues in strands, 130 residues in coils, and 213 residues that are not assigned or not protein residues. The structure has 4769 atoms, 787 residues, and 4716 bonds.The agent successfully downloaded the PDB file 1GZX and performed a secondary structure analysis, finding 444 residues in helices, 0 residues in strands, 130 residues in coils, and 213 residues that were not assigned or not protein residues. The agent then provided a protein structure summary, revealing that the structure contained 4769 atoms, 787 residues, 12 chains, 1 frame, and 4716 bonds. The final solution indicated a comprehensive analysis of the PDB file 1GZX.Your run id is:  4D8NN32T\n"
     ]
    },
    {
     "data": {
      "text/plain": [
       "('The tasks have been completed successfully. Here is the summary of the results:\\n\\n1. **Downloaded PDB file**: 1GZX\\n2. **Secondary Structure Analysis**:\\n   - Helix: 444 residues\\n   - Strand: 0 residues\\n   - Coil: 130 residues\\n   - Not assigned, not a protein residue: 213 residues\\n3. **Protein Structure Summary**:\\n   - Number of atoms: 4769\\n   - Number of residues: 787\\n   - Number of chains: 12\\n   - Number of frames: 1\\n   - Number of bonds: 4716\\n\\nFinal Answer: The PDB file 1GZX has been analyzed. It contains 12 chains, 444 residues in helices, 0 residues in strands, 130 residues in coils, and 213 residues that are not assigned or not protein residues. The structure has 4769 atoms, 787 residues, and 4716 bonds.',\n",
       " '4D8NN32T')"
      ]
     },
     "execution_count": 5,
     "metadata": {},
     "output_type": "execute_result"
    }
   ],
   "source": [
    "agent_1.run(descriptive_prompt_2)"
   ]
  },
  {
   "cell_type": "code",
   "execution_count": 6,
   "metadata": {},
   "outputs": [
    {
     "name": "stdout",
     "output_type": "stream",
     "text": [
      "Thought: To address the question, I need to first download the PDB file for PDB ID 1GZX. After obtaining the file, I will analyze the secondary structure of the protein to determine the number of chains, sheets, and other structural elements.\n",
      "\n",
      "Action: \n",
      "```\n",
      "{\n",
      "  \"action\": \"PDBFileDownloader\",\n",
      "  \"action_input\": \"1GZX\"\n",
      "}\n",
      "```PDB file found with this ID: 1GZX\n",
      "Now that the PDB file for 1GZX has been downloaded, I will analyze the secondary structure of the protein to determine the number of chains, sheets, and other structural elements.\n",
      "\n",
      "Action:\n",
      "```\n",
      "{\n",
      "  \"action\": \"ComputeDSSP\",\n",
      "  \"action_input\": {\n",
      "    \"traj_file\": \"1GZX_195204\"\n",
      "  }\n",
      "}\n",
      "```The secondary structure analysis of the protein in PDB ID 1GZX has been completed. The results indicate the following:\n",
      "\n",
      "- Helices: 444\n",
      "- Strands: 0\n",
      "- Coils: 130\n",
      "- Not assigned or not a protein residue: 213\n",
      "\n",
      "However, the number of chains has not been determined yet. I will now analyze the PDB file to determine the number of chains.\n",
      "\n",
      "Action:\n",
      "```\n",
      "{\n",
      "  \"action\": \"SummarizeProteinStructure\",\n",
      "  \"action_input\": {\n",
      "    \"traj_file\": \"1GZX_195204\"\n",
      "  }\n",
      "}\n",
      "```The analysis of the protein structure for PDB ID 1GZX is now complete. Here are the details:\n",
      "\n",
      "- Number of Chains: 12\n",
      "- Helices: 444\n",
      "- Strands: 0\n",
      "- Coils: 130\n",
      "- Not assigned or not a protein residue: 213\n",
      "\n",
      "Final Answer: The protein in PDB ID 1GZX consists of 12 chains. The secondary structure analysis reveals 444 helices, 0 strands, 130 coils, and 213 residues that are either not assigned or not protein residues.Prompt: Analyze the protein structure for PDB ID 1GZX.\n",
      "\n",
      "Step 1: Number of Chains: 12\n",
      "Step 2: Helices: 444\n",
      "Step 3: Strands: 0\n",
      "Step 4: Coils: 130\n",
      "Step 5: Not assigned or not a protein residue: 213\n",
      "\n",
      "Final Solution: The protein in PDB ID 1GZX consists of 12 chains. The secondary structure analysis reveals 444 helices, 0 strands, 130 coils, and 213 residues that are either not assigned or not protein residues.Your run id is:  9JO473PB\n"
     ]
    },
    {
     "data": {
      "text/plain": [
       "('The analysis of the protein structure for PDB ID 1GZX is now complete. Here are the details:\\n\\n- Number of Chains: 12\\n- Helices: 444\\n- Strands: 0\\n- Coils: 130\\n- Not assigned or not a protein residue: 213\\n\\nFinal Answer: The protein in PDB ID 1GZX consists of 12 chains. The secondary structure analysis reveals 444 helices, 0 strands, 130 coils, and 213 residues that are either not assigned or not protein residues.',\n",
       " '9JO473PB')"
      ]
     },
     "execution_count": 6,
     "metadata": {},
     "output_type": "execute_result"
    }
   ],
   "source": [
    "agent_2.run(non_descriptive_prompt_2)"
   ]
  },
  {
   "cell_type": "code",
   "execution_count": null,
   "metadata": {},
   "outputs": [],
   "source": []
  }
 ],
 "metadata": {
  "kernelspec": {
   "display_name": "mdagent2",
   "language": "python",
   "name": "python3"
  },
  "language_info": {
   "codemirror_mode": {
    "name": "ipython",
    "version": 3
   },
   "file_extension": ".py",
   "mimetype": "text/x-python",
   "name": "python",
   "nbconvert_exporter": "python",
   "pygments_lexer": "ipython3",
   "version": "3.11.9"
  }
 },
 "nbformat": 4,
 "nbformat_minor": 2
}
