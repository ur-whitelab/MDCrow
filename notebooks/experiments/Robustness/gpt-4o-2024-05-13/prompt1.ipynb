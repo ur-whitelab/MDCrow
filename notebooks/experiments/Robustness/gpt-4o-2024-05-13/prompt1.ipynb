{
 "cells": [
  {
   "cell_type": "code",
   "execution_count": 1,
   "metadata": {},
   "outputs": [],
   "source": [
    "from mdagent import MDAgent\n"
   ]
  },
  {
   "cell_type": "code",
   "execution_count": 2,
   "metadata": {},
   "outputs": [],
   "source": [
    "descriptive_prompt_1 = \"I need you to help me with MD tasks:  1.- Download the PDB file 1LYZ\"\n",
    "non_descriptive_prompt_1 = \"Download the PDB file for 1LYZ\""
   ]
  },
  {
   "cell_type": "code",
   "execution_count": 10,
   "metadata": {},
   "outputs": [],
   "source": [
    "llm_model = \"gpt-4o-2024-05-13\"\n",
    "tools = \"all\""
   ]
  },
  {
   "cell_type": "code",
   "execution_count": 11,
   "metadata": {},
   "outputs": [],
   "source": [
    "agent_1 = MDAgent(agent_type=\"Structured\", model=llm_model, top_k_tools=tools)\n",
    "agent_2 = MDAgent(agent_type=\"Structured\", model=llm_model, top_k_tools=tools)"
   ]
  },
  {
   "cell_type": "code",
   "execution_count": 12,
   "metadata": {},
   "outputs": [
    {
     "name": "stdout",
     "output_type": "stream",
     "text": [
      "Thought: To assist with the molecular dynamics tasks, the first step is to download the PDB file for the protein with the ID 1LYZ.\n",
      "\n",
      "Action: \n",
      "```\n",
      "{\n",
      "  \"action\": \"PDBFileDownloader\",\n",
      "  \"action_input\": {\n",
      "    \"query\": \"1LYZ\"\n",
      "  }\n",
      "}\n",
      "```"
     ]
    },
    {
     "name": "stderr",
     "output_type": "stream",
     "text": [
      "2024-07-19 19:25:49.369 \n",
      "  \u001b[33m\u001b[1mWarning:\u001b[0m to view this Streamlit app on a browser, run it with the following\n",
      "  command:\n",
      "\n",
      "    streamlit run /Users/jorgemedina/miniforge3/envs/mdagent2/lib/python3.11/site-packages/ipykernel_launcher.py [ARGUMENTS]\n"
     ]
    },
    {
     "name": "stdout",
     "output_type": "stream",
     "text": [
      "PDB file found with this ID: 1LYZ\n",
      "Thought: The PDB file for 1LYZ has been successfully downloaded. The next step is to determine what specific MD tasks need to be performed with this file. Since no additional tasks were specified, I will wait for further instructions or proceed with a common MD analysis task.\n",
      "\n",
      "Final Answer: The PDB file for 1LYZ has been successfully downloaded. Please specify the next molecular dynamics task you would like to perform with this file.The agent successfully downloaded the PDB file for 1LYZ and was ready to determine the specific molecular dynamics tasks to be performed with this file. However, since no additional tasks were specified, the agent decided to wait for further instructions or proceed with a common MD analysis task. The final solution was to prompt for the next molecular dynamics task to be performed with the downloaded file.Your run id is:  1CQHOEPD\n"
     ]
    },
    {
     "data": {
      "text/plain": [
       "('Thought: The PDB file for 1LYZ has been successfully downloaded. The next step is to determine what specific MD tasks need to be performed with this file. Since no additional tasks were specified, I will wait for further instructions or proceed with a common MD analysis task.\\n\\nFinal Answer: The PDB file for 1LYZ has been successfully downloaded. Please specify the next molecular dynamics task you would like to perform with this file.',\n",
       " '1CQHOEPD')"
      ]
     },
     "execution_count": 12,
     "metadata": {},
     "output_type": "execute_result"
    }
   ],
   "source": [
    "agent_1.run(descriptive_prompt_1)"
   ]
  },
  {
   "cell_type": "code",
   "execution_count": 13,
   "metadata": {},
   "outputs": [
    {
     "name": "stdout",
     "output_type": "stream",
     "text": [
      "Thought: To download the PDB file for the protein with the identifier 1LYZ, I will use the PDBFileDownloader tool.\n",
      "\n",
      "Action: \n",
      "```\n",
      "{\n",
      "  \"action\": \"PDBFileDownloader\",\n",
      "  \"action_input\": {\n",
      "    \"query\": \"1LYZ\"\n",
      "  }\n",
      "}\n",
      "```PDB file found with this ID: 1LYZ\n",
      "Thought: The PDB file for the protein with the identifier 1LYZ has been successfully downloaded. I will now provide the final answer with the file ID.\n",
      "\n",
      "Action:\n",
      "```\n",
      "{\n",
      "  \"action\": \"Final Answer\",\n",
      "  \"action_input\": \"The PDB file for 1LYZ has been successfully downloaded. The file ID is 1LYZ_192554.\"\n",
      "}\n",
      "```Prompt: Download the PDB file for 1LYZ.\n",
      "\n",
      "Step 1: Successfully download the PDB file for 1LYZ with the file ID 1LYZ_192554.\n",
      "\n",
      "Final Solution: The PDB file for 1LYZ has been successfully downloaded with the file ID 1LYZ_192554.Your run id is:  6NQTRO1F\n"
     ]
    },
    {
     "data": {
      "text/plain": [
       "('The PDB file for 1LYZ has been successfully downloaded. The file ID is 1LYZ_192554.',\n",
       " '6NQTRO1F')"
      ]
     },
     "execution_count": 13,
     "metadata": {},
     "output_type": "execute_result"
    }
   ],
   "source": [
    "agent_2.run(non_descriptive_prompt_1)"
   ]
  },
  {
   "cell_type": "code",
   "execution_count": 1,
   "metadata": {},
   "outputs": [
    {
     "name": "stdout",
     "output_type": "stream",
     "text": [
      "Files found in registry: 1LYZ_192549: PDB file downloaded from RSCB, PDBFile ID: 1LYZ_192549, 1LYZ_192554: PDB file downloaded from RSCB, PDBFile ID: 1LYZ_192554\n"
     ]
    }
   ],
   "source": [
    "from mdagent import MDAgent\n",
    "agent = MDAgent(agent_type=\"Structured\", ckpt_dir=\"ckpt_178\")\n",
    "registry = agent.path_registry\n",
    "print(registry.list_path_names_and_descriptions())"
   ]
  },
  {
   "cell_type": "code",
   "execution_count": null,
   "metadata": {},
   "outputs": [],
   "source": []
  }
 ],
 "metadata": {
  "kernelspec": {
   "display_name": "mdagent2",
   "language": "python",
   "name": "python3"
  },
  "language_info": {
   "codemirror_mode": {
    "name": "ipython",
    "version": 3
   },
   "file_extension": ".py",
   "mimetype": "text/x-python",
   "name": "python",
   "nbconvert_exporter": "python",
   "pygments_lexer": "ipython3",
   "version": "3.11.9"
  }
 },
 "nbformat": 4,
 "nbformat_minor": 2
}
