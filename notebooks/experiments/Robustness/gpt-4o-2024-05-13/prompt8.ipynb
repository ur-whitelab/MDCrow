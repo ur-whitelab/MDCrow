{
 "cells": [
  {
   "cell_type": "code",
   "execution_count": null,
   "metadata": {},
   "outputs": [],
   "source": [
    "from mdagent import MDAgent\n"
   ]
  },
  {
   "cell_type": "code",
   "execution_count": null,
   "metadata": {},
   "outputs": [],
   "source": [
    "descriptive_prompt_8 = \"Complete the following MD tasks:  1.- Download the PDB file fpr 4RMB 2.- Pre-process the file by adding missing atoms, and replacing non-standard residues. 3.- Simulate for 1ps at 300 K, 400K and 500K 4.- Plot Radius of gyration for each simulation and 5. Analyze the secondary structures of each simulation \"\n",
    "non_descriptive_prompt_8 = \"Simulate 4RMB at 100K, 200K, and 300K for 1 ps each.. Then plot the radius of gyration over time for all three simulations. Lastly, compare the change in secondary structure for the three analyses throughout the simulation. \""
   ]
  },
  {
   "cell_type": "code",
   "execution_count": null,
   "metadata": {},
   "outputs": [],
   "source": [
    "llm_model = \"gpt-4o-2024-05-13\"\n",
    "tools = \"all\""
   ]
  },
  {
   "cell_type": "code",
   "execution_count": null,
   "metadata": {},
   "outputs": [],
   "source": [
    "agent_1 = MDAgent(agent_type=\"Structured\", model=llm_model, top_k_tools=tools)\n",
    "agent_2 = MDAgent(agent_type=\"Structured\", model=llm_model, top_k_tools=tools)"
   ]
  },
  {
   "cell_type": "code",
   "execution_count": null,
   "metadata": {},
   "outputs": [],
   "source": [
    "agent_1.run(descriptive_prompt_8)"
   ]
  },
  {
   "cell_type": "code",
   "execution_count": null,
   "metadata": {},
   "outputs": [],
   "source": [
    "agent_2.run(non_descriptive_prompt_8)"
   ]
  },
  {
   "cell_type": "code",
   "execution_count": null,
   "metadata": {},
   "outputs": [],
   "source": []
  },
  {
   "cell_type": "code",
   "execution_count": null,
   "metadata": {},
   "outputs": [],
   "source": [
    "import mdagent\n",
    "from mdagent import MDAgent\n",
    "import os\n",
    "import mdtraj as md\n",
    "\n",
    "agent = MDAgent(agent_type=\"Structured\", model=\"gpt-4o-2024-05-13\", top_k_tools=\"all\",ckpt_dir=\"ckpt_192\")\n",
    "registry = agent.path_registry\n",
    "\n",
    "print(registry.list_path_names_and_descriptions().replace(\",\", \"\\n\"))"
   ]
  },
  {
   "cell_type": "code",
   "execution_count": null,
   "metadata": {},
   "outputs": [],
   "source": [
    "#descriptive prompt\n",
    "traj_1 = registry.get_mapped_path(\"rec0_195318\")\n",
    "top_1 = registry.get_mapped_path(\"top_sim0_195316\")\n",
    "\n",
    "traj_2 = registry.get_mapped_path(\"rec0_205734\")\n",
    "top_2 = registry.get_mapped_path(\"top_sim0_205733\")\n",
    "\n",
    "traj_3 = registry.get_mapped_path(\"rec0_215557\")\n",
    "top_3 = registry.get_mapped_path(\"top_sim0_215556\")\n",
    "\n",
    "assert os.path.exists(traj_1)\n",
    "assert os.path.exists(top_1)\n",
    "assert os.path.exists(traj_2)\n",
    "assert os.path.exists(top_2)\n",
    "assert os.path.exists(traj_3)\n",
    "assert os.path.exists(top_3)\n"
   ]
  },
  {
   "cell_type": "code",
   "execution_count": null,
   "metadata": {},
   "outputs": [],
   "source": [
    "traj1 = md.load(traj_1, top=top_1)\n",
    "traj2 = md.load(traj_2, top=top_2)\n",
    "traj3 = md.load(traj_3, top=top_3)\n",
    "\n",
    "print(traj1.n_atoms,traj1.top.n_residues, traj1.top.n_chains,traj1.n_frames)\n",
    "print(traj2.n_atoms,traj2.top.n_residues, traj2.top.n_chains,traj2.n_frames)\n",
    "print(traj3.n_atoms,traj3.top.n_residues, traj3.top.n_chains,traj3.n_frames)"
   ]
  },
  {
   "cell_type": "code",
   "execution_count": null,
   "metadata": {},
   "outputs": [],
   "source": [
    "from IPython.display import Image\n",
    "rgypath = registry.get_mapped_path(\"fig0_225424\")\n",
    "Image(filename=rgypath)"
   ]
  },
  {
   "cell_type": "code",
   "execution_count": null,
   "metadata": {},
   "outputs": [],
   "source": [
    "#non-descriptive prompt\n",
    "traj_1 = registry.get_mapped_path(\"rec0_225454\")\n",
    "top_1 = registry.get_mapped_path(\"top_sim0_225454\")\n",
    "\n",
    "traj_2 = registry.get_mapped_path(\"rec0_225532\")\n",
    "top_2 = registry.get_mapped_path(\"top_sim0_225532\")\n",
    "\n",
    "traj_3 = registry.get_mapped_path(\"rec0_225608\")\n",
    "top_3 = registry.get_mapped_path(\"top_sim0_225608\")\n",
    "\n",
    "assert os.path.exists(traj_1)\n",
    "assert os.path.exists(top_1)\n",
    "assert os.path.exists(traj_2)\n",
    "assert os.path.exists(top_2)\n",
    "assert os.path.exists(traj_3)\n",
    "assert os.path.exists(top_3)"
   ]
  },
  {
   "cell_type": "code",
   "execution_count": null,
   "metadata": {},
   "outputs": [],
   "source": [
    "traj1 = md.load(traj_1, top=top_1)\n",
    "traj2 = md.load(traj_2, top=top_2)\n",
    "traj3 = md.load(traj_3, top=top_3)\n",
    "\n",
    "print(traj1.n_atoms,traj1.top.n_residues, traj1.top.n_chains,traj1.n_frames)\n",
    "print(traj2.n_atoms,traj2.top.n_residues, traj2.top.n_chains,traj2.n_frames)\n",
    "print(traj3.n_atoms,traj3.top.n_residues, traj3.top.n_chains,traj3.n_frames)"
   ]
  },
  {
   "cell_type": "code",
   "execution_count": null,
   "metadata": {},
   "outputs": [],
   "source": [
    "rgypath = registry.get_mapped_path(\"fig0_225644\")"
   ]
  },
  {
   "cell_type": "code",
   "execution_count": null,
   "metadata": {},
   "outputs": [],
   "source": [
    "from IPython.display import Image\n",
    "Image(filename=rgypath)"
   ]
  },
  {
   "cell_type": "code",
   "execution_count": null,
   "metadata": {},
   "outputs": [],
   "source": [
    "import mdtraj as md\n",
    "\n",
    "#get dssp \n",
    "number_of_chains = traj1.n_chains\n",
    "secondary_structure = md.compute_dssp(traj1,simplified=True)\n",
    "print(\"Number of chains: \",number_of_chains)\n",
    "print(\"Number of sheets: \",len([i for i in secondary_structure[0] if i == 'E']))\n",
    "print(\"Number of helices: \",len([i for i in secondary_structure[0] if i == 'H']))\n",
    "print(\"Number of coils: \",len([i for i in secondary_structure[0] if i == 'C']))"
   ]
  },
  {
   "cell_type": "code",
   "execution_count": null,
   "metadata": {},
   "outputs": [],
   "source": [
    "number_of_chains = traj2.n_chains\n",
    "secondary_structure = md.compute_dssp(traj2,simplified=True)\n",
    "print(\"Number of chains: \",number_of_chains)\n",
    "print(\"Number of sheets: \",len([i for i in secondary_structure[0] if i == 'E']))\n",
    "print(\"Number of helices: \",len([i for i in secondary_structure[0] if i == 'H']))\n",
    "print(\"Number of coils: \",len([i for i in secondary_structure[0] if i == 'C']))\n",
    "\n"
   ]
  },
  {
   "cell_type": "code",
   "execution_count": null,
   "metadata": {},
   "outputs": [],
   "source": [
    "number_of_chains = traj3.n_chains\n",
    "secondary_structure = md.compute_dssp(traj3,simplified=True)\n",
    "print(\"Number of chains: \",number_of_chains)\n",
    "print(\"Number of sheets: \",len([i for i in secondary_structure[0] if i == 'E']))\n",
    "print(\"Number of helices: \",len([i for i in secondary_structure[0] if i == 'H']))\n",
    "print(\"Number of coils: \",len([i for i in secondary_structure[0] if i == 'C']))\n"
   ]
  },
  {
   "cell_type": "code",
   "execution_count": null,
   "metadata": {},
   "outputs": [],
   "source": []
  }
 ],
 "metadata": {
  "kernelspec": {
   "display_name": "mdagent2",
   "language": "python",
   "name": "python3"
  },
  "language_info": {
   "codemirror_mode": {
    "name": "ipython",
    "version": 3
   },
   "file_extension": ".py",
   "mimetype": "text/x-python",
   "name": "python",
   "nbconvert_exporter": "python",
   "pygments_lexer": "ipython3",
   "version": "3.11.9"
  }
 },
 "nbformat": 4,
 "nbformat_minor": 2
}
