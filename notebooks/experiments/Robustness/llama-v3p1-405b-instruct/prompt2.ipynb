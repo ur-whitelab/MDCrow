{
 "cells": [
  {
   "cell_type": "code",
   "execution_count": 1,
   "metadata": {
    "execution": {
     "iopub.execute_input": "2024-10-01T15:09:10.441428Z",
     "iopub.status.busy": "2024-10-01T15:09:10.441273Z",
     "iopub.status.idle": "2024-10-01T15:09:14.037532Z",
     "shell.execute_reply": "2024-10-01T15:09:14.037102Z"
    }
   },
   "outputs": [],
   "source": [
    "from mdagent import MDAgent\n"
   ]
  },
  {
   "cell_type": "code",
   "execution_count": 2,
   "metadata": {
    "execution": {
     "iopub.execute_input": "2024-10-01T15:09:14.040410Z",
     "iopub.status.busy": "2024-10-01T15:09:14.040017Z",
     "iopub.status.idle": "2024-10-01T15:09:14.043573Z",
     "shell.execute_reply": "2024-10-01T15:09:14.043172Z"
    }
   },
   "outputs": [],
   "source": [
    "descriptive_prompt_2 = \"Complete the following MD tasks:  1.- Download the PDB file 1GZX 2.- Analyze its secondary structure. 3.- Tell me how many chains, sheets, etc. there are. \"\n",
    "non_descriptive_prompt_2 = \"Download the PDB file for PDB ID 1GZX. Then, analyze the secondary structure of the protein and tell me how many chains, sheets, etc. there are\""
   ]
  },
  {
   "cell_type": "code",
   "execution_count": 3,
   "metadata": {
    "execution": {
     "iopub.execute_input": "2024-10-01T15:09:14.045604Z",
     "iopub.status.busy": "2024-10-01T15:09:14.045444Z",
     "iopub.status.idle": "2024-10-01T15:09:14.097615Z",
     "shell.execute_reply": "2024-10-01T15:09:14.097154Z"
    }
   },
   "outputs": [],
   "source": [
    "llm_model = \"accounts/fireworks/models/llama-v3p1-405b-instruct\"\n",
    "tools = \"all\""
   ]
  },
  {
   "cell_type": "code",
   "execution_count": 4,
   "metadata": {
    "execution": {
     "iopub.execute_input": "2024-10-01T15:09:14.099651Z",
     "iopub.status.busy": "2024-10-01T15:09:14.099494Z",
     "iopub.status.idle": "2024-10-01T15:09:14.490729Z",
     "shell.execute_reply": "2024-10-01T15:09:14.490307Z"
    }
   },
   "outputs": [],
   "source": [
    "agent_1 = MDAgent(agent_type=\"Structured\", model=llm_model, top_k_tools=tools)\n",
    "agent_2 = MDAgent(agent_type=\"Structured\", model=llm_model, top_k_tools=tools)"
   ]
  },
  {
   "cell_type": "code",
   "execution_count": 5,
   "metadata": {
    "execution": {
     "iopub.execute_input": "2024-10-01T15:09:14.493310Z",
     "iopub.status.busy": "2024-10-01T15:09:14.493109Z",
     "iopub.status.idle": "2024-10-01T15:09:24.333848Z",
     "shell.execute_reply": "2024-10-01T15:09:24.333484Z"
    }
   },
   "outputs": [
    {
     "name": "stdout",
     "output_type": "stream",
     "text": [
      "Thought:"
     ]
    },
    {
     "name": "stdout",
     "output_type": "stream",
     "text": [
      " First,"
     ]
    },
    {
     "name": "stdout",
     "output_type": "stream",
     "text": [
      " I need to download"
     ]
    },
    {
     "name": "stdout",
     "output_type": "stream",
     "text": [
      " the PDB file"
     ]
    },
    {
     "name": "stdout",
     "output_type": "stream",
     "text": [
      " 1GZX"
     ]
    },
    {
     "name": "stdout",
     "output_type": "stream",
     "text": [
      ". Then, I"
     ]
    },
    {
     "name": "stdout",
     "output_type": "stream",
     "text": [
      " will analyze"
     ]
    },
    {
     "name": "stdout",
     "output_type": "stream",
     "text": [
      " its secondary structure and"
     ]
    },
    {
     "name": "stdout",
     "output_type": "stream",
     "text": [
      " finally"
     ]
    },
    {
     "name": "stdout",
     "output_type": "stream",
     "text": [
      ", I will count"
     ]
    },
    {
     "name": "stdout",
     "output_type": "stream",
     "text": [
      " the"
     ]
    },
    {
     "name": "stdout",
     "output_type": "stream",
     "text": [
      " number of chains,"
     ]
    },
    {
     "name": "stdout",
     "output_type": "stream",
     "text": [
      " sheets, etc.\n",
      "\n"
     ]
    },
    {
     "name": "stdout",
     "output_type": "stream",
     "text": [
      "Action:\n",
      "```\n"
     ]
    },
    {
     "name": "stdout",
     "output_type": "stream",
     "text": [
      "{\n",
      "  \"action"
     ]
    },
    {
     "name": "stdout",
     "output_type": "stream",
     "text": [
      "\": \"PDB"
     ]
    },
    {
     "name": "stdout",
     "output_type": "stream",
     "text": [
      "FileDownloader\",\n",
      " "
     ]
    },
    {
     "name": "stdout",
     "output_type": "stream",
     "text": [
      " \"action_input\":"
     ]
    },
    {
     "name": "stdout",
     "output_type": "stream",
     "text": [
      " \"1GZX"
     ]
    },
    {
     "name": "stdout",
     "output_type": "stream",
     "text": [
      "\"\n",
      "}\n",
      "```\n"
     ]
    },
    {
     "name": "stdout",
     "output_type": "stream",
     "text": [
      "PDB file found with this ID: 1GZX\n"
     ]
    },
    {
     "name": "stdout",
     "output_type": "stream",
     "text": [
      "Now that"
     ]
    },
    {
     "name": "stdout",
     "output_type": "stream",
     "text": [
      " I have the P"
     ]
    },
    {
     "name": "stdout",
     "output_type": "stream",
     "text": [
      "DB file, I"
     ]
    },
    {
     "name": "stdout",
     "output_type": "stream",
     "text": [
      " need to analyze its"
     ]
    },
    {
     "name": "stdout",
     "output_type": "stream",
     "text": [
      " secondary structure.\n",
      "\n",
      "Action"
     ]
    },
    {
     "name": "stdout",
     "output_type": "stream",
     "text": [
      ":\n",
      "```\n",
      "{\n"
     ]
    },
    {
     "name": "stdout",
     "output_type": "stream",
     "text": [
      "  \"action\":"
     ]
    },
    {
     "name": "stdout",
     "output_type": "stream",
     "text": [
      " \"ComputeDSS"
     ]
    },
    {
     "name": "stdout",
     "output_type": "stream",
     "text": [
      "P\",\n",
      "  \""
     ]
    },
    {
     "name": "stdout",
     "output_type": "stream",
     "text": [
      "action_input\": {\n"
     ]
    },
    {
     "name": "stdout",
     "output_type": "stream",
     "text": [
      "    \"traj_file\": \"1"
     ]
    },
    {
     "name": "stdout",
     "output_type": "stream",
     "text": [
      "GZX_110"
     ]
    },
    {
     "name": "stdout",
     "output_type": "stream",
     "text": [
      "918\",\n",
      "    \""
     ]
    },
    {
     "name": "stdout",
     "output_type": "stream",
     "text": [
      "top_file\": \""
     ]
    },
    {
     "name": "stdout",
     "output_type": "stream",
     "text": [
      "1GZX_"
     ]
    },
    {
     "name": "stdout",
     "output_type": "stream",
     "text": [
      "110918\",\n",
      "   "
     ]
    },
    {
     "name": "stdout",
     "output_type": "stream",
     "text": [
      " \"target_frames\":"
     ]
    },
    {
     "name": "stdout",
     "output_type": "stream",
     "text": [
      " \"all\"\n",
      " "
     ]
    },
    {
     "name": "stdout",
     "output_type": "stream",
     "text": [
      " }\n",
      "}\n",
      "```\n",
      "\n"
     ]
    },
    {
     "name": "stdout",
     "output_type": "stream",
     "text": [
      "Now that"
     ]
    },
    {
     "name": "stdout",
     "output_type": "stream",
     "text": [
      " I have the secondary"
     ]
    },
    {
     "name": "stdout",
     "output_type": "stream",
     "text": [
      " structure analysis, I"
     ]
    },
    {
     "name": "stdout",
     "output_type": "stream",
     "text": [
      " need to count the number of chains,"
     ]
    },
    {
     "name": "stdout",
     "output_type": "stream",
     "text": [
      " sheets, etc.\n",
      "\n"
     ]
    },
    {
     "name": "stdout",
     "output_type": "stream",
     "text": [
      "Action:\n",
      "```\n"
     ]
    },
    {
     "name": "stdout",
     "output_type": "stream",
     "text": [
      "{\n",
      "  \"action"
     ]
    },
    {
     "name": "stdout",
     "output_type": "stream",
     "text": [
      "\": \"Summar"
     ]
    },
    {
     "name": "stdout",
     "output_type": "stream",
     "text": [
      "izeProteinStructure"
     ]
    },
    {
     "name": "stdout",
     "output_type": "stream",
     "text": [
      "\",\n",
      "  \"action"
     ]
    },
    {
     "name": "stdout",
     "output_type": "stream",
     "text": [
      "_input\": {\n",
      "   "
     ]
    },
    {
     "name": "stdout",
     "output_type": "stream",
     "text": [
      " \"traj_file"
     ]
    },
    {
     "name": "stdout",
     "output_type": "stream",
     "text": [
      "\": \"1G"
     ]
    },
    {
     "name": "stdout",
     "output_type": "stream",
     "text": [
      "ZX_110918"
     ]
    },
    {
     "name": "stdout",
     "output_type": "stream",
     "text": [
      "\",\n",
      "    \"top"
     ]
    },
    {
     "name": "stdout",
     "output_type": "stream",
     "text": [
      "_file\": \"1"
     ]
    },
    {
     "name": "stdout",
     "output_type": "stream",
     "text": [
      "GZX_110"
     ]
    },
    {
     "name": "stdout",
     "output_type": "stream",
     "text": [
      "918\"\n",
      "  }\n"
     ]
    },
    {
     "name": "stdout",
     "output_type": "stream",
     "text": [
      "}\n",
      "```"
     ]
    },
    {
     "name": "stdout",
     "output_type": "stream",
     "text": [
      "Thought:"
     ]
    },
    {
     "name": "stdout",
     "output_type": "stream",
     "text": [
      " I have"
     ]
    },
    {
     "name": "stdout",
     "output_type": "stream",
     "text": [
      " completed"
     ]
    },
    {
     "name": "stdout",
     "output_type": "stream",
     "text": [
      " all the"
     ]
    },
    {
     "name": "stdout",
     "output_type": "stream",
     "text": [
      " tasks. Now"
     ]
    },
    {
     "name": "stdout",
     "output_type": "stream",
     "text": [
      ", I need to"
     ]
    },
    {
     "name": "stdout",
     "output_type": "stream",
     "text": [
      " compile the"
     ]
    },
    {
     "name": "stdout",
     "output_type": "stream",
     "text": [
      " results into a"
     ]
    },
    {
     "name": "stdout",
     "output_type": "stream",
     "text": [
      " single final answer"
     ]
    },
    {
     "name": "stdout",
     "output_type": "stream",
     "text": [
      ".\n",
      "\n",
      "Action:\n",
      "``"
     ]
    },
    {
     "name": "stdout",
     "output_type": "stream",
     "text": [
      "`\n",
      "{\n",
      "  \""
     ]
    },
    {
     "name": "stdout",
     "output_type": "stream",
     "text": [
      "action\": \"Final"
     ]
    },
    {
     "name": "stdout",
     "output_type": "stream",
     "text": [
      " Answer\",\n",
      "  \""
     ]
    },
    {
     "name": "stdout",
     "output_type": "stream",
     "text": [
      "action_input\": \""
     ]
    },
    {
     "name": "stdout",
     "output_type": "stream",
     "text": [
      "The PDB file"
     ]
    },
    {
     "name": "stdout",
     "output_type": "stream",
     "text": [
      " 1GZX"
     ]
    },
    {
     "name": "stdout",
     "output_type": "stream",
     "text": [
      " has been downloaded."
     ]
    },
    {
     "name": "stdout",
     "output_type": "stream",
     "text": [
      " The"
     ]
    },
    {
     "name": "stdout",
     "output_type": "stream",
     "text": [
      " secondary"
     ]
    },
    {
     "name": "stdout",
     "output_type": "stream",
     "text": [
      " structure analysis shows that"
     ]
    },
    {
     "name": "stdout",
     "output_type": "stream",
     "text": [
      " there are 444"
     ]
    },
    {
     "name": "stdout",
     "output_type": "stream",
     "text": [
      " residues in helix"
     ]
    },
    {
     "name": "stdout",
     "output_type": "stream",
     "text": [
      ", 0 residues"
     ]
    },
    {
     "name": "stdout",
     "output_type": "stream",
     "text": [
      " in strand, "
     ]
    },
    {
     "name": "stdout",
     "output_type": "stream",
     "text": [
      "130 residues in coil"
     ]
    },
    {
     "name": "stdout",
     "output_type": "stream",
     "text": [
      ", and 213"
     ]
    },
    {
     "name": "stdout",
     "output_type": "stream",
     "text": [
      " residues not assigned or"
     ]
    },
    {
     "name": "stdout",
     "output_type": "stream",
     "text": [
      " not a protein residue"
     ]
    },
    {
     "name": "stdout",
     "output_type": "stream",
     "text": [
      ". The protein structure"
     ]
    },
    {
     "name": "stdout",
     "output_type": "stream",
     "text": [
      " summary shows"
     ]
    },
    {
     "name": "stdout",
     "output_type": "stream",
     "text": [
      " that there are "
     ]
    },
    {
     "name": "stdout",
     "output_type": "stream",
     "text": [
      "4769 atoms,"
     ]
    },
    {
     "name": "stdout",
     "output_type": "stream",
     "text": [
      " 787 residues,"
     ]
    },
    {
     "name": "stdout",
     "output_type": "stream",
     "text": [
      " 12 chains,"
     ]
    },
    {
     "name": "stdout",
     "output_type": "stream",
     "text": [
      " 1 frame,"
     ]
    },
    {
     "name": "stdout",
     "output_type": "stream",
     "text": [
      " and 4716"
     ]
    },
    {
     "name": "stdout",
     "output_type": "stream",
     "text": [
      " bonds.\"\n",
      "}\n",
      "```"
     ]
    },
    {
     "data": {
      "text/plain": [
       "({'input': '\\n    You are an expert molecular dynamics scientist, and\\n    your task is to respond to the question or\\n    solve the problem to the best of your ability using\\n    the provided tools.\\n\\n    You can only respond with a single complete\\n    \\'Thought, Action, Action Input\\' format\\n    OR a single \\'Final Answer\\' format.\\n\\n    Complete format:\\n    Thought: (reflect on your progress and decide what to do next)\\n    Action:\\n    ```\\n    {\\n        \"action\": (the action name, it should be the name of a tool),\\n        \"action_input\": (the input string for the action)\\n    }\\n    \\'\\'\\'\\n\\n    OR\\n\\n    Final Answer: (the final response to the original input\\n    question, once all steps are complete)\\n\\n    You are required to use the tools provided,\\n    using the most specific tool\\n    available for each action.\\n    Your final answer should contain all information\\n    necessary to answer the question and its subquestions.\\n    Before you finish, reflect on your progress and make\\n    sure you have addressed the question in its entirety.\\n\\n    If you are asked to continue\\n    or reference previous runs,\\n    the context will be provided to you.\\n    If context is provided, you should assume\\n    you are continuing a chat.\\n\\n    Here is the input:\\n    Previous Context: None\\n    Question: Complete the following MD tasks:  1.- Download the PDB file 1GZX 2.- Analyze its secondary structure. 3.- Tell me how many chains, sheets, etc. there are.  ',\n",
       "  'output': 'The PDB file 1GZX has been downloaded. The secondary structure analysis shows that there are 444 residues in helix, 0 residues in strand, 130 residues in coil, and 213 residues not assigned or not a protein residue. The protein structure summary shows that there are 4769 atoms, 787 residues, 12 chains, 1 frame, and 4716 bonds.'},\n",
       " 'HQOA6Z8X')"
      ]
     },
     "execution_count": 5,
     "metadata": {},
     "output_type": "execute_result"
    }
   ],
   "source": [
    "agent_1.run(descriptive_prompt_2)"
   ]
  },
  {
   "cell_type": "code",
   "execution_count": 6,
   "metadata": {
    "execution": {
     "iopub.execute_input": "2024-10-01T15:09:24.335933Z",
     "iopub.status.busy": "2024-10-01T15:09:24.335765Z",
     "iopub.status.idle": "2024-10-01T15:09:34.080097Z",
     "shell.execute_reply": "2024-10-01T15:09:34.079579Z"
    }
   },
   "outputs": [
    {
     "name": "stdout",
     "output_type": "stream",
     "text": [
      "Thought:"
     ]
    },
    {
     "name": "stdout",
     "output_type": "stream",
     "text": [
      " First, I need to download"
     ]
    },
    {
     "name": "stdout",
     "output_type": "stream",
     "text": [
      " the PDB file"
     ]
    },
    {
     "name": "stdout",
     "output_type": "stream",
     "text": [
      " for PDB"
     ]
    },
    {
     "name": "stdout",
     "output_type": "stream",
     "text": [
      " ID 1G"
     ]
    },
    {
     "name": "stdout",
     "output_type": "stream",
     "text": [
      "ZX. Then"
     ]
    },
    {
     "name": "stdout",
     "output_type": "stream",
     "text": [
      ", I can analyze"
     ]
    },
    {
     "name": "stdout",
     "output_type": "stream",
     "text": [
      " the secondary structure of"
     ]
    },
    {
     "name": "stdout",
     "output_type": "stream",
     "text": [
      " the protein.\n",
      "\n",
      "Action"
     ]
    },
    {
     "name": "stdout",
     "output_type": "stream",
     "text": [
      ":\n",
      "```\n",
      "{\n"
     ]
    },
    {
     "name": "stdout",
     "output_type": "stream",
     "text": [
      "  \"action\":"
     ]
    },
    {
     "name": "stdout",
     "output_type": "stream",
     "text": [
      " \"PDBFile"
     ]
    },
    {
     "name": "stdout",
     "output_type": "stream",
     "text": [
      "Downloader\",\n",
      "  \""
     ]
    },
    {
     "name": "stdout",
     "output_type": "stream",
     "text": [
      "action_input\": \""
     ]
    },
    {
     "name": "stdout",
     "output_type": "stream",
     "text": [
      "1GZX\"\n"
     ]
    },
    {
     "name": "stdout",
     "output_type": "stream",
     "text": [
      "}\n",
      "```\n"
     ]
    },
    {
     "name": "stdout",
     "output_type": "stream",
     "text": [
      "PDB file found with this ID: 1GZX\n"
     ]
    },
    {
     "name": "stdout",
     "output_type": "stream",
     "text": [
      "Now that"
     ]
    },
    {
     "name": "stdout",
     "output_type": "stream",
     "text": [
      " I have the P"
     ]
    },
    {
     "name": "stdout",
     "output_type": "stream",
     "text": [
      "DB file, I"
     ]
    },
    {
     "name": "stdout",
     "output_type": "stream",
     "text": [
      " can analyze the secondary"
     ]
    },
    {
     "name": "stdout",
     "output_type": "stream",
     "text": [
      " structure of the protein"
     ]
    },
    {
     "name": "stdout",
     "output_type": "stream",
     "text": [
      ".\n",
      "\n",
      "Action:\n",
      "``"
     ]
    },
    {
     "name": "stdout",
     "output_type": "stream",
     "text": [
      "`\n",
      "{\n",
      "  \""
     ]
    },
    {
     "name": "stdout",
     "output_type": "stream",
     "text": [
      "action\": \"Compute"
     ]
    },
    {
     "name": "stdout",
     "output_type": "stream",
     "text": [
      "DSSP\",\n"
     ]
    },
    {
     "name": "stdout",
     "output_type": "stream",
     "text": [
      "  \"action_input"
     ]
    },
    {
     "name": "stdout",
     "output_type": "stream",
     "text": [
      "\": {\n",
      "    \""
     ]
    },
    {
     "name": "stdout",
     "output_type": "stream",
     "text": [
      "traj_file\":"
     ]
    },
    {
     "name": "stdout",
     "output_type": "stream",
     "text": [
      " \"1GZX"
     ]
    },
    {
     "name": "stdout",
     "output_type": "stream",
     "text": [
      "_110927\",\n"
     ]
    },
    {
     "name": "stdout",
     "output_type": "stream",
     "text": [
      "    \"top_file"
     ]
    },
    {
     "name": "stdout",
     "output_type": "stream",
     "text": [
      "\": \"1G"
     ]
    },
    {
     "name": "stdout",
     "output_type": "stream",
     "text": [
      "ZX_110927"
     ]
    },
    {
     "name": "stdout",
     "output_type": "stream",
     "text": [
      "\",\n",
      "    \"target"
     ]
    },
    {
     "name": "stdout",
     "output_type": "stream",
     "text": [
      "_frames\": \"all"
     ]
    },
    {
     "name": "stdout",
     "output_type": "stream",
     "text": [
      "\"\n",
      "  }\n",
      "}\n"
     ]
    },
    {
     "name": "stdout",
     "output_type": "stream",
     "text": [
      "```"
     ]
    },
    {
     "name": "stdout",
     "output_type": "stream",
     "text": [
      "Thought:"
     ]
    },
    {
     "name": "stdout",
     "output_type": "stream",
     "text": [
      " Now that I have"
     ]
    },
    {
     "name": "stdout",
     "output_type": "stream",
     "text": [
      " the secondary structure analysis"
     ]
    },
    {
     "name": "stdout",
     "output_type": "stream",
     "text": [
      ", I need to"
     ]
    },
    {
     "name": "stdout",
     "output_type": "stream",
     "text": [
      " summarize the"
     ]
    },
    {
     "name": "stdout",
     "output_type": "stream",
     "text": [
      " protein structure to get"
     ]
    },
    {
     "name": "stdout",
     "output_type": "stream",
     "text": [
      " the number of chains"
     ]
    },
    {
     "name": "stdout",
     "output_type": "stream",
     "text": [
      ","
     ]
    },
    {
     "name": "stdout",
     "output_type": "stream",
     "text": [
      " sheets,"
     ]
    },
    {
     "name": "stdout",
     "output_type": "stream",
     "text": [
      " etc.\n",
      "\n",
      "Action:\n"
     ]
    },
    {
     "name": "stdout",
     "output_type": "stream",
     "text": [
      "```\n",
      "{\n",
      " "
     ]
    },
    {
     "name": "stdout",
     "output_type": "stream",
     "text": [
      " \"action\": \""
     ]
    },
    {
     "name": "stdout",
     "output_type": "stream",
     "text": [
      "SummarizePro"
     ]
    },
    {
     "name": "stdout",
     "output_type": "stream",
     "text": [
      "teinStructure\",\n",
      " "
     ]
    },
    {
     "name": "stdout",
     "output_type": "stream",
     "text": [
      " \"action_input\":"
     ]
    },
    {
     "name": "stdout",
     "output_type": "stream",
     "text": [
      " {\n",
      "    \"tr"
     ]
    },
    {
     "name": "stdout",
     "output_type": "stream",
     "text": [
      "aj_file\": \""
     ]
    },
    {
     "name": "stdout",
     "output_type": "stream",
     "text": [
      "1GZX_"
     ]
    },
    {
     "name": "stdout",
     "output_type": "stream",
     "text": [
      "110927\",\n",
      "    \"top_file\":"
     ]
    },
    {
     "name": "stdout",
     "output_type": "stream",
     "text": [
      " \"1GZX"
     ]
    },
    {
     "name": "stdout",
     "output_type": "stream",
     "text": [
      "_110927\"\n",
      "  }\n",
      "}\n",
      "```"
     ]
    },
    {
     "name": "stdout",
     "output_type": "stream",
     "text": [
      "Thought:"
     ]
    },
    {
     "name": "stdout",
     "output_type": "stream",
     "text": [
      " Now that I have the secondary structure"
     ]
    },
    {
     "name": "stdout",
     "output_type": "stream",
     "text": [
      " analysis and the protein"
     ]
    },
    {
     "name": "stdout",
     "output_type": "stream",
     "text": [
      " structure summary, I can provide the final"
     ]
    },
    {
     "name": "stdout",
     "output_type": "stream",
     "text": [
      " answer.\n",
      "\n",
      "Action:\n",
      "```\n",
      "{\n",
      " "
     ]
    },
    {
     "name": "stdout",
     "output_type": "stream",
     "text": [
      " \"action\": \"Final Answer\",\n",
      " "
     ]
    },
    {
     "name": "stdout",
     "output_type": "stream",
     "text": [
      " \"action_input\": \"The PDB"
     ]
    },
    {
     "name": "stdout",
     "output_type": "stream",
     "text": [
      " file for PDB ID 1G"
     ]
    },
    {
     "name": "stdout",
     "output_type": "stream",
     "text": [
      "ZX has been downloaded"
     ]
    },
    {
     "name": "stdout",
     "output_type": "stream",
     "text": [
      ". The secondary structure analysis shows that there"
     ]
    },
    {
     "name": "stdout",
     "output_type": "stream",
     "text": [
      " are 444 residues in helix,"
     ]
    },
    {
     "name": "stdout",
     "output_type": "stream",
     "text": [
      " 0 residues in strand, 130"
     ]
    },
    {
     "name": "stdout",
     "output_type": "stream",
     "text": [
      " residues in coil, and 213 residues"
     ]
    },
    {
     "name": "stdout",
     "output_type": "stream",
     "text": [
      " not assigned or not a protein residue."
     ]
    },
    {
     "name": "stdout",
     "output_type": "stream",
     "text": [
      " The protein structure summary shows that there are"
     ]
    },
    {
     "name": "stdout",
     "output_type": "stream",
     "text": [
      " 4769 atoms, 787 residues"
     ]
    },
    {
     "name": "stdout",
     "output_type": "stream",
     "text": [
      ", 12 chains"
     ]
    },
    {
     "name": "stdout",
     "output_type": "stream",
     "text": [
      ", 1 frame, and 471"
     ]
    },
    {
     "name": "stdout",
     "output_type": "stream",
     "text": [
      "6 bonds.\"\n",
      "}\n",
      "```"
     ]
    },
    {
     "data": {
      "text/plain": [
       "({'input': '\\n    You are an expert molecular dynamics scientist, and\\n    your task is to respond to the question or\\n    solve the problem to the best of your ability using\\n    the provided tools.\\n\\n    You can only respond with a single complete\\n    \\'Thought, Action, Action Input\\' format\\n    OR a single \\'Final Answer\\' format.\\n\\n    Complete format:\\n    Thought: (reflect on your progress and decide what to do next)\\n    Action:\\n    ```\\n    {\\n        \"action\": (the action name, it should be the name of a tool),\\n        \"action_input\": (the input string for the action)\\n    }\\n    \\'\\'\\'\\n\\n    OR\\n\\n    Final Answer: (the final response to the original input\\n    question, once all steps are complete)\\n\\n    You are required to use the tools provided,\\n    using the most specific tool\\n    available for each action.\\n    Your final answer should contain all information\\n    necessary to answer the question and its subquestions.\\n    Before you finish, reflect on your progress and make\\n    sure you have addressed the question in its entirety.\\n\\n    If you are asked to continue\\n    or reference previous runs,\\n    the context will be provided to you.\\n    If context is provided, you should assume\\n    you are continuing a chat.\\n\\n    Here is the input:\\n    Previous Context: None\\n    Question: Download the PDB file for PDB ID 1GZX. Then, analyze the secondary structure of the protein and tell me how many chains, sheets, etc. there are ',\n",
       "  'output': 'The PDB file for PDB ID 1GZX has been downloaded. The secondary structure analysis shows that there are 444 residues in helix, 0 residues in strand, 130 residues in coil, and 213 residues not assigned or not a protein residue. The protein structure summary shows that there are 4769 atoms, 787 residues, 12 chains, 1 frame, and 4716 bonds.'},\n",
       " 'THA818QE')"
      ]
     },
     "execution_count": 6,
     "metadata": {},
     "output_type": "execute_result"
    }
   ],
   "source": [
    "agent_2.run(non_descriptive_prompt_2)"
   ]
  },
  {
   "cell_type": "code",
   "execution_count": 8,
   "metadata": {
    "execution": {
     "iopub.execute_input": "2024-10-01T15:09:34.089521Z",
     "iopub.status.busy": "2024-10-01T15:09:34.089360Z",
     "iopub.status.idle": "2024-10-01T15:09:34.100109Z",
     "shell.execute_reply": "2024-10-01T15:09:34.099751Z"
    }
   },
   "outputs": [
    {
     "name": "stdout",
     "output_type": "stream",
     "text": [
      "ckpt_dir: /gpfs/fs2/scratch/qcampbe2/repos/md-agent/ckpt/ckpt_70\n",
      "Files found in registry: 1GZX_110918: PDB file downloaded from RSCB, PDBFile ID: 1GZX_110918, rec0_110920: dssp values for trajectory with id: 1GZX_110918, 1GZX_110927: PDB file downloaded from RSCB, PDBFile ID: 1GZX_110927, rec0_110930: dssp values for trajectory with id: 1GZX_110927\n"
     ]
    }
   ],
   "source": [
    "registry = agent_2.path_registry\n",
    "print(\"ckpt_dir:\",registry.ckpt_dir)\n",
    "print(registry.list_path_names_and_descriptions())"
   ]
  },
  {
   "cell_type": "code",
   "execution_count": 2,
   "metadata": {},
   "outputs": [
    {
     "name": "stdout",
     "output_type": "stream",
     "text": [
      "Number of chains:  12\n",
      "Number of sheets:  0\n",
      "Number of helices:  444\n",
      "Number of coils:  130\n"
     ]
    }
   ],
   "source": [
    "# Agent 1\n",
    "from mdagent import MDAgent\n",
    "import mdtraj as md\n",
    "\n",
    "agent = MDAgent(ckpt_dir = \"ckpt_70\")\n",
    "registry = agent.path_registry\n",
    "\n",
    "path = registry.get_mapped_path(\"1GZX_110918\")\n",
    "traj = md.load(path)\n",
    "#get dssp \n",
    "number_of_chains = traj.n_chains\n",
    "secondary_structure = md.compute_dssp(traj,simplified=True)\n",
    "print(\"Number of chains: \",number_of_chains)\n",
    "print(\"Number of sheets: \",len([i for i in secondary_structure[0] if i == 'E']))\n",
    "print(\"Number of helices: \",len([i for i in secondary_structure[0] if i == 'H']))\n",
    "print(\"Number of coils: \",len([i for i in secondary_structure[0] if i == 'C']))"
   ]
  },
  {
   "cell_type": "code",
   "execution_count": 3,
   "metadata": {},
   "outputs": [
    {
     "name": "stdout",
     "output_type": "stream",
     "text": [
      "Number of chains:  12\n",
      "Number of sheets:  0\n",
      "Number of helices:  444\n",
      "Number of coils:  130\n"
     ]
    }
   ],
   "source": [
    "# Agent 2\n",
    "import mdtraj as md\n",
    "\n",
    "path = registry.get_mapped_path(\"1GZX_110927\")\n",
    "traj = md.load(path)\n",
    "#get dssp \n",
    "number_of_chains = traj.n_chains\n",
    "secondary_structure = md.compute_dssp(traj,simplified=True)\n",
    "print(\"Number of chains: \",number_of_chains)\n",
    "print(\"Number of sheets: \",len([i for i in secondary_structure[0] if i == 'E']))\n",
    "print(\"Number of helices: \",len([i for i in secondary_structure[0] if i == 'H']))\n",
    "print(\"Number of coils: \",len([i for i in secondary_structure[0] if i == 'C']))"
   ]
  }
 ],
 "metadata": {
  "kernelspec": {
   "display_name": "mdagent",
   "language": "python",
   "name": "mdagent"
  },
  "language_info": {
   "codemirror_mode": {
    "name": "ipython",
    "version": 3
   },
   "file_extension": ".py",
   "mimetype": "text/x-python",
   "name": "python",
   "nbconvert_exporter": "python",
   "pygments_lexer": "ipython3",
   "version": "3.12.4"
  }
 },
 "nbformat": 4,
 "nbformat_minor": 4
}
