{
 "cells": [
  {
   "cell_type": "code",
   "execution_count": 1,
   "metadata": {
    "execution": {
     "iopub.execute_input": "2024-10-01T15:13:39.714301Z",
     "iopub.status.busy": "2024-10-01T15:13:39.714124Z",
     "iopub.status.idle": "2024-10-01T15:13:43.310150Z",
     "shell.execute_reply": "2024-10-01T15:13:43.309725Z"
    }
   },
   "outputs": [],
   "source": [
    "from mdagent import MDAgent\n"
   ]
  },
  {
   "cell_type": "code",
   "execution_count": 2,
   "metadata": {
    "execution": {
     "iopub.execute_input": "2024-10-01T15:13:43.313040Z",
     "iopub.status.busy": "2024-10-01T15:13:43.312653Z",
     "iopub.status.idle": "2024-10-01T15:13:43.343646Z",
     "shell.execute_reply": "2024-10-01T15:13:43.343226Z"
    }
   },
   "outputs": [
    {
     "name": "stdout",
     "output_type": "stream",
     "text": [
      "date: 2024-10-01\n",
      "time: 11:13:43\n"
     ]
    }
   ],
   "source": [
    "#todays date and time\n",
    "import datetime\n",
    "\n",
    "start = datetime.datetime.now()\n",
    "date = start.strftime(\"%Y-%m-%d\")\n",
    "print(\"date:\",date)\n",
    "time = start.strftime(\"%H:%M:%S\")\n",
    "print(\"time:\",time)"
   ]
  },
  {
   "cell_type": "code",
   "execution_count": 3,
   "metadata": {
    "execution": {
     "iopub.execute_input": "2024-10-01T15:13:43.347524Z",
     "iopub.status.busy": "2024-10-01T15:13:43.347350Z",
     "iopub.status.idle": "2024-10-01T15:13:43.350912Z",
     "shell.execute_reply": "2024-10-01T15:13:43.350551Z"
    }
   },
   "outputs": [],
   "source": [
    "descriptive_prompt_5 =  \"Complete the following MD tasks: 1. Download the PDB file 1XQ8. 2. Preprocess the file by adding missing atoms, hydrogens, and replacing non-standard residues. 3. Analyze the secondary structure of the PDB file. 4. Simulate for 1 ps at 300 K. 5. Analyze the secondary structure from the simulation and tell me if it changed from before the simulation to after.\"\n",
    "non_descriptive_prompt_5 = \"Simulate 1XQ8 for 1 ps at a temperature of 300 K. Then, tell me if the secondary structure changed from before the simulation to after.\""
   ]
  },
  {
   "cell_type": "code",
   "execution_count": 4,
   "metadata": {
    "execution": {
     "iopub.execute_input": "2024-10-01T15:13:43.352893Z",
     "iopub.status.busy": "2024-10-01T15:13:43.352735Z",
     "iopub.status.idle": "2024-10-01T15:13:43.360187Z",
     "shell.execute_reply": "2024-10-01T15:13:43.359831Z"
    }
   },
   "outputs": [],
   "source": [
    "llm_model = \"accounts/fireworks/models/llama-v3p1-405b-instruct\"\n",
    "tools = \"all\""
   ]
  },
  {
   "cell_type": "code",
   "execution_count": 5,
   "metadata": {
    "execution": {
     "iopub.execute_input": "2024-10-01T15:13:43.362122Z",
     "iopub.status.busy": "2024-10-01T15:13:43.361966Z",
     "iopub.status.idle": "2024-10-01T15:13:43.597561Z",
     "shell.execute_reply": "2024-10-01T15:13:43.597181Z"
    }
   },
   "outputs": [
    {
     "name": "stdout",
     "output_type": "stream",
     "text": [
      "ckpt_dir: /gpfs/fs2/scratch/qcampbe2/repos/md-agent/ckpt/ckpt_75\n"
     ]
    }
   ],
   "source": [
    "agent_1 = MDAgent(agent_type=\"Structured\", model=llm_model, top_k_tools=tools)\n",
    "print(\"ckpt_dir:\",agent_1.path_registry.ckpt_dir)"
   ]
  },
  {
   "cell_type": "markdown",
   "metadata": {},
   "source": [
    "##### descriptive prompt"
   ]
  },
  {
   "cell_type": "code",
   "execution_count": 6,
   "metadata": {
    "execution": {
     "iopub.execute_input": "2024-10-01T15:13:43.599789Z",
     "iopub.status.busy": "2024-10-01T15:13:43.599618Z",
     "iopub.status.idle": "2024-10-01T15:14:24.523800Z",
     "shell.execute_reply": "2024-10-01T15:14:24.523355Z"
    }
   },
   "outputs": [
    {
     "name": "stdout",
     "output_type": "stream",
     "text": [
      "Thought:"
     ]
    },
    {
     "name": "stdout",
     "output_type": "stream",
     "text": [
      " First, I need to download"
     ]
    },
    {
     "name": "stdout",
     "output_type": "stream",
     "text": [
      " the PDB file 1XQ"
     ]
    },
    {
     "name": "stdout",
     "output_type": "stream",
     "text": [
      "8.\n",
      "Action"
     ]
    },
    {
     "name": "stdout",
     "output_type": "stream",
     "text": [
      ":\n",
      "```\n",
      "{\n"
     ]
    },
    {
     "name": "stdout",
     "output_type": "stream",
     "text": [
      "  \"action\":"
     ]
    },
    {
     "name": "stdout",
     "output_type": "stream",
     "text": [
      " \"PDBFileDownloader\",\n",
      "  \""
     ]
    },
    {
     "name": "stdout",
     "output_type": "stream",
     "text": [
      "action_input\": \"1XQ8"
     ]
    },
    {
     "name": "stdout",
     "output_type": "stream",
     "text": [
      "\"\n",
      "}\n",
      "```"
     ]
    },
    {
     "name": "stdout",
     "output_type": "stream",
     "text": [
      "PDB file found with this ID: 1XQ8\n"
     ]
    },
    {
     "name": "stdout",
     "output_type": "stream",
     "text": [
      "Next,"
     ]
    },
    {
     "name": "stdout",
     "output_type": "stream",
     "text": [
      " I need to preprocess the PDB file"
     ]
    },
    {
     "name": "stdout",
     "output_type": "stream",
     "text": [
      " by adding missing atoms"
     ]
    },
    {
     "name": "stdout",
     "output_type": "stream",
     "text": [
      ", hydrogens,"
     ]
    },
    {
     "name": "stdout",
     "output_type": "stream",
     "text": [
      " and replacing non-standard residues.\n",
      "Action:\n"
     ]
    },
    {
     "name": "stdout",
     "output_type": "stream",
     "text": [
      "```\n",
      "{\n",
      "  \"action\": \""
     ]
    },
    {
     "name": "stdout",
     "output_type": "stream",
     "text": [
      "CleaningToolFunction\",\n",
      "  \"action_input"
     ]
    },
    {
     "name": "stdout",
     "output_type": "stream",
     "text": [
      "\": {\n",
      "   "
     ]
    },
    {
     "name": "stdout",
     "output_type": "stream",
     "text": [
      " \"pdb_id\":"
     ]
    },
    {
     "name": "stdout",
     "output_type": "stream",
     "text": [
      " \"1XQ8_111345"
     ]
    },
    {
     "name": "stdout",
     "output_type": "stream",
     "text": [
      "\",\n",
      "    \"replace_nonstandard_resid"
     ]
    },
    {
     "name": "stdout",
     "output_type": "stream",
     "text": [
      "ues\": true,\n",
      "    \"add_missing"
     ]
    },
    {
     "name": "stdout",
     "output_type": "stream",
     "text": [
      "_atoms\": true,\n"
     ]
    },
    {
     "name": "stdout",
     "output_type": "stream",
     "text": [
      "    \"remove_h"
     ]
    },
    {
     "name": "stdout",
     "output_type": "stream",
     "text": [
      "eterogens\": false"
     ]
    },
    {
     "name": "stdout",
     "output_type": "stream",
     "text": [
      ",\n"
     ]
    },
    {
     "name": "stdout",
     "output_type": "stream",
     "text": [
      "    \"remove_water"
     ]
    },
    {
     "name": "stdout",
     "output_type": "stream",
     "text": [
      "\": false,\n",
      "   "
     ]
    },
    {
     "name": "stdout",
     "output_type": "stream",
     "text": [
      " \"add_hydrogens\": true,\n"
     ]
    },
    {
     "name": "stdout",
     "output_type": "stream",
     "text": [
      "    \"add_hydrogens_ph\":"
     ]
    },
    {
     "name": "stdout",
     "output_type": "stream",
     "text": [
      " 7.0\n",
      "  }\n",
      "}\n"
     ]
    },
    {
     "name": "stdout",
     "output_type": "stream",
     "text": [
      "```"
     ]
    },
    {
     "name": "stdout",
     "output_type": "stream",
     "text": [
      "file path: /gpfs/fs2/scratch/qcampbe2/repos/md-agent/ckpt/ckpt_75/pdb/1XQ8_raw_20241001_111345.pdb\n"
     ]
    },
    {
     "name": "stdout",
     "output_type": "stream",
     "text": [
      "Next,"
     ]
    },
    {
     "name": "stdout",
     "output_type": "stream",
     "text": [
      " I need to analyze"
     ]
    },
    {
     "name": "stdout",
     "output_type": "stream",
     "text": [
      " the secondary structure of"
     ]
    },
    {
     "name": "stdout",
     "output_type": "stream",
     "text": [
      " the preprocessed PDB file.\n",
      "Action"
     ]
    },
    {
     "name": "stdout",
     "output_type": "stream",
     "text": [
      ":\n",
      "```\n",
      "{\n",
      "  \"action\":"
     ]
    },
    {
     "name": "stdout",
     "output_type": "stream",
     "text": [
      " \"ComputeDSSP\",\n",
      "  \""
     ]
    },
    {
     "name": "stdout",
     "output_type": "stream",
     "text": [
      "action_input\": {\n",
      "    \"traj"
     ]
    },
    {
     "name": "stdout",
     "output_type": "stream",
     "text": [
      "_file\": \"1XQ8_"
     ]
    },
    {
     "name": "stdout",
     "output_type": "stream",
     "text": [
      "111348\",\n",
      "    \"top_file\":"
     ]
    },
    {
     "name": "stdout",
     "output_type": "stream",
     "text": [
      " \"1XQ"
     ]
    },
    {
     "name": "stdout",
     "output_type": "stream",
     "text": [
      "8_111348\",\n",
      "    \"target"
     ]
    },
    {
     "name": "stdout",
     "output_type": "stream",
     "text": [
      "_frames\": \"first\"\n"
     ]
    },
    {
     "name": "stdout",
     "output_type": "stream",
     "text": [
      "  }\n",
      "}\n",
      "```"
     ]
    },
    {
     "name": "stderr",
     "output_type": "stream",
     "text": [
      "/scratch/qcampbe2/myenvs/mdagent/lib/python3.12/site-packages/mdtraj/formats/pdb/pdbfile.py:206: UserWarning: Unlikely unit cell vectors detected in PDB file likely resulting from a dummy CRYST1 record. Discarding unit cell vectors.\n",
      "  warnings.warn(\n"
     ]
    },
    {
     "name": "stdout",
     "output_type": "stream",
     "text": [
      "Next,"
     ]
    },
    {
     "name": "stdout",
     "output_type": "stream",
     "text": [
      " I need to simulate"
     ]
    },
    {
     "name": "stdout",
     "output_type": "stream",
     "text": [
      " the preprocessed PDB file"
     ]
    },
    {
     "name": "stdout",
     "output_type": "stream",
     "text": [
      " for 1 ps at 300 K"
     ]
    },
    {
     "name": "stdout",
     "output_type": "stream",
     "text": [
      ".\n",
      "Action:\n",
      "```\n",
      "{\n",
      "  \""
     ]
    },
    {
     "name": "stdout",
     "output_type": "stream",
     "text": [
      "action\": \"SetUp"
     ]
    },
    {
     "name": "stdout",
     "output_type": "stream",
     "text": [
      "andRunFunction\",\n"
     ]
    },
    {
     "name": "stdout",
     "output_type": "stream",
     "text": [
      "  \"action_input\": {\n",
      "    \""
     ]
    },
    {
     "name": "stdout",
     "output_type": "stream",
     "text": [
      "pdb_id\": \"1XQ8"
     ]
    },
    {
     "name": "stdout",
     "output_type": "stream",
     "text": [
      "_111348\",\n"
     ]
    },
    {
     "name": "stdout",
     "output_type": "stream",
     "text": [
      "    \"forcefield"
     ]
    },
    {
     "name": "stdout",
     "output_type": "stream",
     "text": [
      "_files\": [\"amber"
     ]
    },
    {
     "name": "stdout",
     "output_type": "stream",
     "text": [
      "99sbildn"
     ]
    },
    {
     "name": "stdout",
     "output_type": "stream",
     "text": [
      ".xml\"],\n",
      "    \"save\": true,\n"
     ]
    },
    {
     "name": "stdout",
     "output_type": "stream",
     "text": [
      "    \"system_params\": {\n",
      "      \""
     ]
    },
    {
     "name": "stdout",
     "output_type": "stream",
     "text": [
      "nonbondedMethod\": \"NoC"
     ]
    },
    {
     "name": "stdout",
     "output_type": "stream",
     "text": [
      "utoff\",\n",
      "      \"constraints\":"
     ]
    },
    {
     "name": "stdout",
     "output_type": "stream",
     "text": [
      " \"None\",\n",
      "      \"rigidWater"
     ]
    },
    {
     "name": "stdout",
     "output_type": "stream",
     "text": [
      "\": false\n",
      "    },\n",
      "    \"integr"
     ]
    },
    {
     "name": "stdout",
     "output_type": "stream",
     "text": [
      "ator_params\": {\n",
      "      \"integrator"
     ]
    },
    {
     "name": "stdout",
     "output_type": "stream",
     "text": [
      "_type\": \"LangevinMiddle\",\n"
     ]
    },
    {
     "name": "stdout",
     "output_type": "stream",
     "text": [
      "      \"Temperature\": \"300 * kel"
     ]
    },
    {
     "name": "stdout",
     "output_type": "stream",
     "text": [
      "vin\",\n",
      "      \"Friction\": \""
     ]
    },
    {
     "name": "stdout",
     "output_type": "stream",
     "text": [
      "1.0 / picoseconds\",\n",
      "     "
     ]
    },
    {
     "name": "stdout",
     "output_type": "stream",
     "text": [
      " \"Timestep\": \"0.002"
     ]
    },
    {
     "name": "stdout",
     "output_type": "stream",
     "text": [
      " * picoseconds\",\n",
      "      \"Pressure\":"
     ]
    },
    {
     "name": "stdout",
     "output_type": "stream",
     "text": [
      " \"1.0 * bar\"\n",
      "   "
     ]
    },
    {
     "name": "stdout",
     "output_type": "stream",
     "text": [
      " },\n",
      "    \"simulation_params\": {\n",
      "     "
     ]
    },
    {
     "name": "stdout",
     "output_type": "stream",
     "text": [
      " \"Ensemble\": \"NVT\",\n"
     ]
    },
    {
     "name": "stdout",
     "output_type": "stream",
     "text": [
      "      \"Number of Steps\": 500"
     ]
    },
    {
     "name": "stdout",
     "output_type": "stream",
     "text": [
      ",\n",
      "     "
     ]
    },
    {
     "name": "stdout",
     "output_type": "stream",
     "text": [
      " \"record_interval_steps\": 100,\n"
     ]
    },
    {
     "name": "stdout",
     "output_type": "stream",
     "text": [
      "      \"record_params\": [\"step\","
     ]
    },
    {
     "name": "stdout",
     "output_type": "stream",
     "text": [
      " \"potentialEnergy\", \"temperature\"]\n",
      "   "
     ]
    },
    {
     "name": "stdout",
     "output_type": "stream",
     "text": [
      " }\n",
      "  }\n",
      "}\n",
      "```"
     ]
    },
    {
     "name": "stdout",
     "output_type": "stream",
     "text": [
      "Building system...\n"
     ]
    },
    {
     "name": "stdout",
     "output_type": "stream",
     "text": [
      "About to create system...\n",
      "Attempts at creating system: 0/3\n",
      "adding system without solvent\n"
     ]
    },
    {
     "name": "stdout",
     "output_type": "stream",
     "text": [
      "System built successfully\n",
      "<openmm.openmm.System; proxy of <Swig Object of type 'OpenMM::System *' at 0x2b8d2b5131e0> >\n",
      "Setting up integrator...\n",
      "Creating simulation...\n",
      "simulation set!\n",
      "Performing energy minimization...\n"
     ]
    },
    {
     "name": "stdout",
     "output_type": "stream",
     "text": [
      "Minimization complete!\n",
      "Initial Positions saved to initial_positions.pdb\n",
      "Equilibrating...\n"
     ]
    },
    {
     "name": "stdout",
     "output_type": "stream",
     "text": [
      "Simulating...\n"
     ]
    },
    {
     "name": "stdout",
     "output_type": "stream",
     "text": [
      "Done!\n",
      "Standalone simulation script written to /gpfs/fs2/scratch/qcampbe2/repos/md-agent/ckpt/ckpt_75/simulations/NVT_1XQ8_111348_20241001_111354.py\n",
      "['LOG_sim0_111354_1XQ8_111348_20241001_111354.txt', 'TRAJ_sim0_073920_4RMB_022316_20241001_073921.dcd', 'LOG_sim0_073920_4RMB_022316_20241001_073921.txt', 'prompt7.ipynb', 'prompt1.ipynb', 'prompt3.ipynb', '.ipynb_checkpoints', 'prompt2.ipynb', 'out.405b_robust_exp_v2', 'results', 'prompt8.ipynb', 'prompt6.ipynb', 'prompt4.ipynb', '405b_robust_exp.sh', 'prompt5.ipynb', 'TRAJ_sim0_111354_1XQ8_111348_20241001_111354.dcd', 'TOP_sim0_111354_1XQ8_111348_20241001_111354.pdb', 'TOP_sim0_073920_4RMB_022316_20241001_073921.pdb', 'out.405b_robust_exp']\n"
     ]
    },
    {
     "name": "stdout",
     "output_type": "stream",
     "text": [
      "Thought:"
     ]
    },
    {
     "name": "stdout",
     "output_type": "stream",
     "text": [
      " Next, I need to analyze the"
     ]
    },
    {
     "name": "stdout",
     "output_type": "stream",
     "text": [
      " secondary structure from the"
     ]
    },
    {
     "name": "stdout",
     "output_type": "stream",
     "text": [
      " simulation and compare it to the secondary structure"
     ]
    },
    {
     "name": "stdout",
     "output_type": "stream",
     "text": [
      " before the simulation.\n",
      "Action:\n",
      "```\n"
     ]
    },
    {
     "name": "stdout",
     "output_type": "stream",
     "text": [
      "{\n",
      "  \"action\": \"ComputeD"
     ]
    },
    {
     "name": "stdout",
     "output_type": "stream",
     "text": [
      "SSP\",\n",
      "  \"action_input\":"
     ]
    },
    {
     "name": "stdout",
     "output_type": "stream",
     "text": [
      " {\n",
      "    \"traj_file\": \""
     ]
    },
    {
     "name": "stdout",
     "output_type": "stream",
     "text": [
      "rec2_111"
     ]
    },
    {
     "name": "stdout",
     "output_type": "stream",
     "text": [
      "354\",\n",
      "    \""
     ]
    },
    {
     "name": "stdout",
     "output_type": "stream",
     "text": [
      "top_file\": \"top_sim0_"
     ]
    },
    {
     "name": "stdout",
     "output_type": "stream",
     "text": [
      "111354\",\n",
      "   "
     ]
    },
    {
     "name": "stdout",
     "output_type": "stream",
     "text": [
      " \"target_frames\":"
     ]
    },
    {
     "name": "stdout",
     "output_type": "stream",
     "text": [
      " \"last\"\n",
      "  }\n",
      "}\n",
      "``"
     ]
    },
    {
     "name": "stdout",
     "output_type": "stream",
     "text": [
      "`\n",
      "This action will"
     ]
    },
    {
     "name": "stdout",
     "output_type": "stream",
     "text": [
      " compute the secondary structure of the last frame"
     ]
    },
    {
     "name": "stdout",
     "output_type": "stream",
     "text": [
      " of the simulation trajectory and"
     ]
    },
    {
     "name": "stdout",
     "output_type": "stream",
     "text": [
      " allow me"
     ]
    },
    {
     "name": "stdout",
     "output_type": "stream",
     "text": [
      " to compare it to the secondary structure before"
     ]
    },
    {
     "name": "stdout",
     "output_type": "stream",
     "text": [
      " the simulation."
     ]
    },
    {
     "name": "stderr",
     "output_type": "stream",
     "text": [
      "/scratch/qcampbe2/myenvs/mdagent/lib/python3.12/site-packages/mdtraj/formats/pdb/pdbfile.py:206: UserWarning: Unlikely unit cell vectors detected in PDB file likely resulting from a dummy CRYST1 record. Discarding unit cell vectors.\n",
      "  warnings.warn(\n"
     ]
    },
    {
     "name": "stdout",
     "output_type": "stream",
     "text": [
      "Thought:"
     ]
    },
    {
     "name": "stdout",
     "output_type": "stream",
     "text": [
      " The secondary"
     ]
    },
    {
     "name": "stdout",
     "output_type": "stream",
     "text": [
      " structure of the"
     ]
    },
    {
     "name": "stdout",
     "output_type": "stream",
     "text": [
      " protein has changed"
     ]
    },
    {
     "name": "stdout",
     "output_type": "stream",
     "text": [
      " from before"
     ]
    },
    {
     "name": "stdout",
     "output_type": "stream",
     "text": [
      " the simulation to after"
     ]
    },
    {
     "name": "stdout",
     "output_type": "stream",
     "text": [
      ". The number"
     ]
    },
    {
     "name": "stdout",
     "output_type": "stream",
     "text": [
      " of residues in hel"
     ]
    },
    {
     "name": "stdout",
     "output_type": "stream",
     "text": [
      "ix has decreased from 83 to "
     ]
    },
    {
     "name": "stdout",
     "output_type": "stream",
     "text": [
      "77, and the number of residues in"
     ]
    },
    {
     "name": "stdout",
     "output_type": "stream",
     "text": [
      " coil has"
     ]
    },
    {
     "name": "stdout",
     "output_type": "stream",
     "text": [
      " increased from 55"
     ]
    },
    {
     "name": "stdout",
     "output_type": "stream",
     "text": [
      " to 60. The"
     ]
    },
    {
     "name": "stdout",
     "output_type": "stream",
     "text": [
      " number"
     ]
    },
    {
     "name": "stdout",
     "output_type": "stream",
     "text": [
      " of residues in strand has also increased"
     ]
    },
    {
     "name": "stdout",
     "output_type": "stream",
     "text": [
      " from 2 to"
     ]
    },
    {
     "name": "stdout",
     "output_type": "stream",
     "text": [
      " 3. This"
     ]
    },
    {
     "name": "stdout",
     "output_type": "stream",
     "text": [
      " suggests that the simulation has"
     ]
    },
    {
     "name": "stdout",
     "output_type": "stream",
     "text": [
      " caused a slight change"
     ]
    },
    {
     "name": "stdout",
     "output_type": "stream",
     "text": [
      " in the secondary structure"
     ]
    },
    {
     "name": "stdout",
     "output_type": "stream",
     "text": [
      " of the protein.\n",
      "\n"
     ]
    },
    {
     "name": "stdout",
     "output_type": "stream",
     "text": [
      "Action"
     ]
    },
    {
     "name": "stdout",
     "output_type": "stream",
     "text": [
      ":\n",
      "```\n",
      "{\n"
     ]
    },
    {
     "name": "stdout",
     "output_type": "stream",
     "text": [
      "  \"action\": \"Final Answer\",\n"
     ]
    },
    {
     "name": "stdout",
     "output_type": "stream",
     "text": [
      "  \"action_input"
     ]
    },
    {
     "name": "stdout",
     "output_type": "stream",
     "text": [
      "\": \"The secondary structure of the protein"
     ]
    },
    {
     "name": "stdout",
     "output_type": "stream",
     "text": [
      " 1"
     ]
    },
    {
     "name": "stdout",
     "output_type": "stream",
     "text": [
      "XQ8 has"
     ]
    },
    {
     "name": "stdout",
     "output_type": "stream",
     "text": [
      " changed from before the"
     ]
    },
    {
     "name": "stdout",
     "output_type": "stream",
     "text": [
      " simulation to after. The"
     ]
    },
    {
     "name": "stdout",
     "output_type": "stream",
     "text": [
      " number of residues in helix has decreased"
     ]
    },
    {
     "name": "stdout",
     "output_type": "stream",
     "text": [
      " from 83 to 77, and"
     ]
    },
    {
     "name": "stdout",
     "output_type": "stream",
     "text": [
      " the number of residues in coil has increased"
     ]
    },
    {
     "name": "stdout",
     "output_type": "stream",
     "text": [
      " from 55 to"
     ]
    },
    {
     "name": "stdout",
     "output_type": "stream",
     "text": [
      " 60. The"
     ]
    },
    {
     "name": "stdout",
     "output_type": "stream",
     "text": [
      " number of residues in strand has also increased"
     ]
    },
    {
     "name": "stdout",
     "output_type": "stream",
     "text": [
      " from 2 to 3.\"\n",
      "}\n"
     ]
    },
    {
     "name": "stdout",
     "output_type": "stream",
     "text": [
      "```"
     ]
    },
    {
     "data": {
      "text/plain": [
       "({'input': '\\n    You are an expert molecular dynamics scientist, and\\n    your task is to respond to the question or\\n    solve the problem to the best of your ability using\\n    the provided tools.\\n\\n    You can only respond with a single complete\\n    \\'Thought, Action, Action Input\\' format\\n    OR a single \\'Final Answer\\' format.\\n\\n    Complete format:\\n    Thought: (reflect on your progress and decide what to do next)\\n    Action:\\n    ```\\n    {\\n        \"action\": (the action name, it should be the name of a tool),\\n        \"action_input\": (the input string for the action)\\n    }\\n    \\'\\'\\'\\n\\n    OR\\n\\n    Final Answer: (the final response to the original input\\n    question, once all steps are complete)\\n\\n    You are required to use the tools provided,\\n    using the most specific tool\\n    available for each action.\\n    Your final answer should contain all information\\n    necessary to answer the question and its subquestions.\\n    Before you finish, reflect on your progress and make\\n    sure you have addressed the question in its entirety.\\n\\n    If you are asked to continue\\n    or reference previous runs,\\n    the context will be provided to you.\\n    If context is provided, you should assume\\n    you are continuing a chat.\\n\\n    Here is the input:\\n    Previous Context: None\\n    Question: Complete the following MD tasks: 1. Download the PDB file 1XQ8. 2. Preprocess the file by adding missing atoms, hydrogens, and replacing non-standard residues. 3. Analyze the secondary structure of the PDB file. 4. Simulate for 1 ps at 300 K. 5. Analyze the secondary structure from the simulation and tell me if it changed from before the simulation to after. ',\n",
       "  'output': 'The secondary structure of the protein 1XQ8 has changed from before the simulation to after. The number of residues in helix has decreased from 83 to 77, and the number of residues in coil has increased from 55 to 60. The number of residues in strand has also increased from 2 to 3.'},\n",
       " '64B32SV7')"
      ]
     },
     "execution_count": 6,
     "metadata": {},
     "output_type": "execute_result"
    }
   ],
   "source": [
    "start1 = datetime.datetime.now()\n",
    "agent_1.run(descriptive_prompt_5)"
   ]
  },
  {
   "cell_type": "code",
   "execution_count": 7,
   "metadata": {
    "execution": {
     "iopub.execute_input": "2024-10-01T15:14:24.526065Z",
     "iopub.status.busy": "2024-10-01T15:14:24.525884Z",
     "iopub.status.idle": "2024-10-01T15:14:24.530421Z",
     "shell.execute_reply": "2024-10-01T15:14:24.529973Z"
    }
   },
   "outputs": [
    {
     "name": "stdout",
     "output_type": "stream",
     "text": [
      "agent_1 duration: 0.68 minutes\n"
     ]
    }
   ],
   "source": [
    "end = datetime.datetime.now()\n",
    "elapsed = end - start1\n",
    "print(f\"agent_1 duration: {elapsed.total_seconds()/60:.2f} minutes\")"
   ]
  },
  {
   "cell_type": "code",
   "execution_count": 8,
   "metadata": {
    "execution": {
     "iopub.execute_input": "2024-10-01T15:14:24.532414Z",
     "iopub.status.busy": "2024-10-01T15:14:24.532253Z",
     "iopub.status.idle": "2024-10-01T15:14:24.539928Z",
     "shell.execute_reply": "2024-10-01T15:14:24.539577Z"
    }
   },
   "outputs": [
    {
     "name": "stdout",
     "output_type": "stream",
     "text": [
      "Names found in registry: 1XQ8_111345, 1XQ8_111348, rec0_111351, top_sim0_111354, sim0_111354, rec0_111354, rec1_111354, rec2_111354, rec0_111420\n"
     ]
    }
   ],
   "source": [
    "registry = agent_1.path_registry\n",
    "all_names = registry.list_path_names()\n",
    "print(all_names)"
   ]
  },
  {
   "cell_type": "code",
   "execution_count": 1,
   "metadata": {},
   "outputs": [
    {
     "name": "stdout",
     "output_type": "stream",
     "text": [
      "Files found in registry: 1XQ8_111345: PDB file downloaded from RSCB\n",
      " PDBFile ID: 1XQ8_111345\n",
      " 1XQ8_111348: Cleaned File:  Replaced Nonstandard Residues. Added Hydrogens at pH 7.0. Missing Atoms Added and replaces nonstandard residues. \n",
      " rec0_111351: dssp values for trajectory with id: 1XQ8_111348\n",
      " top_sim0_111354: Initial positions for simulation sim0_111354\n",
      " sim0_111354: Basic Simulation of Protein 1XQ8_111348\n",
      " rec0_111354: Simulation trajectory for protein 1XQ8_111348 and simulation sim0_111354\n",
      " rec1_111354: Simulation state log for protein 1XQ8_111348 and simulation sim0_111354\n",
      " rec2_111354: Simulation pdb frames for protein 1XQ8_111348 and simulation sim0_111354\n",
      " rec0_111420: dssp values for trajectory with id: rec2_111354\n"
     ]
    }
   ],
   "source": [
    "from mdagent import MDAgent\n",
    "registry = MDAgent(ckpt_dir=\"ckpt_75\").path_registry\n",
    "paths_and_descriptions = registry.list_path_names_and_descriptions()\n",
    "print(\"\\n\".join(paths_and_descriptions.split(\",\")))"
   ]
  },
  {
   "cell_type": "code",
   "execution_count": 2,
   "metadata": {},
   "outputs": [
    {
     "name": "stdout",
     "output_type": "stream",
     "text": [
      "=== BEFORE ===\n",
      "Number of initial sheets:  2\n",
      "Number of initial helices:  76\n",
      "Number of initial coils:  62\n",
      "=== AFTER ===\n",
      "Number of final sheets:  3\n",
      "Number of final helices:  77\n",
      "Number of final coils:  60\n"
     ]
    },
    {
     "name": "stderr",
     "output_type": "stream",
     "text": [
      "/scratch/qcampbe2/myenvs/mdagent/lib/python3.12/site-packages/mdtraj/formats/pdb/pdbfile.py:206: UserWarning: Unlikely unit cell vectors detected in PDB file likely resulting from a dummy CRYST1 record. Discarding unit cell vectors.\n",
      "  warnings.warn(\n"
     ]
    }
   ],
   "source": [
    "import mdtraj as md\n",
    "import numpy as np\n",
    "\n",
    "traj_path = registry.get_mapped_path(\"rec0_111354\")\n",
    "top_path = registry.get_mapped_path(\"top_sim0_111354\")\n",
    "traj = md.load(traj_path, top=top_path)\n",
    "\n",
    "# Compute the secondary structure of the trajectory\n",
    "dssp_final = md.compute_dssp(traj[-1], simplified=True)\n",
    "dssp_initial = md.compute_dssp(traj[0], simplified=True)\n",
    "\n",
    "print('=== BEFORE ===')\n",
    "print(\"Number of initial sheets: \",len([i for i in dssp_initial[0] if i == 'E']))\n",
    "print(\"Number of initial helices: \",len([i for i in dssp_initial[0] if i == 'H']))\n",
    "print(\"Number of initial coils: \",len([i for i in dssp_initial[0] if i == 'C']))\n",
    "\n",
    "print('=== AFTER ===')\n",
    "print(\"Number of final sheets: \",len([i for i in dssp_final[0] if i == 'E']))\n",
    "print(\"Number of final helices: \",len([i for i in dssp_final[0] if i == 'H']))\n",
    "print(\"Number of final coils: \",len([i for i in dssp_final[0] if i == 'C']))"
   ]
  },
  {
   "cell_type": "markdown",
   "metadata": {},
   "source": [
    "##### non-descriptive prompt"
   ]
  },
  {
   "cell_type": "code",
   "execution_count": 11,
   "metadata": {
    "execution": {
     "iopub.execute_input": "2024-10-01T15:14:24.730304Z",
     "iopub.status.busy": "2024-10-01T15:14:24.730113Z",
     "iopub.status.idle": "2024-10-01T15:14:59.665678Z",
     "shell.execute_reply": "2024-10-01T15:14:59.665312Z"
    }
   },
   "outputs": [
    {
     "name": "stdout",
     "output_type": "stream",
     "text": [
      "ckpt_dir: /gpfs/fs2/scratch/qcampbe2/repos/md-agent/ckpt/ckpt_77\n"
     ]
    },
    {
     "name": "stdout",
     "output_type": "stream",
     "text": [
      "Thought:"
     ]
    },
    {
     "name": "stdout",
     "output_type": "stream",
     "text": [
      " First, I need to download"
     ]
    },
    {
     "name": "stdout",
     "output_type": "stream",
     "text": [
      " the PDB file for 1X"
     ]
    },
    {
     "name": "stdout",
     "output_type": "stream",
     "text": [
      "Q8. Then, I can set"
     ]
    },
    {
     "name": "stdout",
     "output_type": "stream",
     "text": [
      " up and run a simulation"
     ]
    },
    {
     "name": "stdout",
     "output_type": "stream",
     "text": [
      " for "
     ]
    },
    {
     "name": "stdout",
     "output_type": "stream",
     "text": [
      "1 ps at a"
     ]
    },
    {
     "name": "stdout",
     "output_type": "stream",
     "text": [
      " temperature"
     ]
    },
    {
     "name": "stdout",
     "output_type": "stream",
     "text": [
      " of 300 K"
     ]
    },
    {
     "name": "stdout",
     "output_type": "stream",
     "text": [
      ". After the simulation"
     ]
    },
    {
     "name": "stdout",
     "output_type": "stream",
     "text": [
      ", I can compute"
     ]
    },
    {
     "name": "stdout",
     "output_type": "stream",
     "text": [
      " the DSS"
     ]
    },
    {
     "name": "stdout",
     "output_type": "stream",
     "text": [
      "P (secondary structure"
     ]
    },
    {
     "name": "stdout",
     "output_type": "stream",
     "text": [
      ") assignment for the protein before and"
     ]
    },
    {
     "name": "stdout",
     "output_type": "stream",
     "text": [
      " after the simulation to see if it changed"
     ]
    },
    {
     "name": "stdout",
     "output_type": "stream",
     "text": [
      ".\n",
      "\n",
      "Action:\n",
      "``"
     ]
    },
    {
     "name": "stdout",
     "output_type": "stream",
     "text": [
      "`\n",
      "{\n",
      "    \""
     ]
    },
    {
     "name": "stdout",
     "output_type": "stream",
     "text": [
      "action\": \"PDBFileDownloader\",\n"
     ]
    },
    {
     "name": "stdout",
     "output_type": "stream",
     "text": [
      "    \"action_input"
     ]
    },
    {
     "name": "stdout",
     "output_type": "stream",
     "text": [
      "\": \"1XQ8\"\n",
      "}\n"
     ]
    },
    {
     "name": "stdout",
     "output_type": "stream",
     "text": [
      "```\n"
     ]
    },
    {
     "name": "stdout",
     "output_type": "stream",
     "text": [
      "PDB file found with this ID: 1XQ8\n"
     ]
    },
    {
     "name": "stdout",
     "output_type": "stream",
     "text": [
      "Now that"
     ]
    },
    {
     "name": "stdout",
     "output_type": "stream",
     "text": [
      " I have the P"
     ]
    },
    {
     "name": "stdout",
     "output_type": "stream",
     "text": [
      "DB file, I"
     ]
    },
    {
     "name": "stdout",
     "output_type": "stream",
     "text": [
      " can set up and"
     ]
    },
    {
     "name": "stdout",
     "output_type": "stream",
     "text": [
      " run a simulation for"
     ]
    },
    {
     "name": "stdout",
     "output_type": "stream",
     "text": [
      " 1 ps at a temperature of "
     ]
    },
    {
     "name": "stdout",
     "output_type": "stream",
     "text": [
      "300 K.\n",
      "\n",
      "Action:\n",
      "```\n",
      "{\n"
     ]
    },
    {
     "name": "stdout",
     "output_type": "stream",
     "text": [
      "    \"action\": \"SetUpandRun"
     ]
    },
    {
     "name": "stdout",
     "output_type": "stream",
     "text": [
      "Function\",\n",
      "    \""
     ]
    },
    {
     "name": "stdout",
     "output_type": "stream",
     "text": [
      "action_input\": {\n",
      "       "
     ]
    },
    {
     "name": "stdout",
     "output_type": "stream",
     "text": [
      " \"pdb_id\": \"1XQ"
     ]
    },
    {
     "name": "stdout",
     "output_type": "stream",
     "text": [
      "8_111427\",\n",
      "        \"force"
     ]
    },
    {
     "name": "stdout",
     "output_type": "stream",
     "text": [
      "field_files\": [\""
     ]
    },
    {
     "name": "stdout",
     "output_type": "stream",
     "text": [
      "amber99sbild"
     ]
    },
    {
     "name": "stdout",
     "output_type": "stream",
     "text": [
      "n.xml\"],\n",
      "        \"save\": true"
     ]
    },
    {
     "name": "stdout",
     "output_type": "stream",
     "text": [
      ",\n",
      "        \"system_params\": {\n",
      "           "
     ]
    },
    {
     "name": "stdout",
     "output_type": "stream",
     "text": [
      " \"nonbonded"
     ]
    },
    {
     "name": "stdout",
     "output_type": "stream",
     "text": [
      "Method\": \"NoCutoff\",\n",
      "           "
     ]
    },
    {
     "name": "stdout",
     "output_type": "stream",
     "text": [
      " \"constraints\": \"None\",\n",
      "           "
     ]
    },
    {
     "name": "stdout",
     "output_type": "stream",
     "text": [
      " \"rigidWater\": false\n"
     ]
    },
    {
     "name": "stdout",
     "output_type": "stream",
     "text": [
      "        },\n",
      "        \"integr"
     ]
    },
    {
     "name": "stdout",
     "output_type": "stream",
     "text": [
      "ator_params\": {\n",
      "            \"integrator"
     ]
    },
    {
     "name": "stdout",
     "output_type": "stream",
     "text": [
      "_type\": \"LangevinMiddle\",\n"
     ]
    },
    {
     "name": "stdout",
     "output_type": "stream",
     "text": [
      "            \"Temperature\": \"300 * kel"
     ]
    },
    {
     "name": "stdout",
     "output_type": "stream",
     "text": [
      "vin\",\n",
      "            \"Friction\": \""
     ]
    },
    {
     "name": "stdout",
     "output_type": "stream",
     "text": [
      "1.0 /"
     ]
    },
    {
     "name": "stdout",
     "output_type": "stream",
     "text": [
      " picoseconds\",\n",
      "            \"Timestep\":"
     ]
    },
    {
     "name": "stdout",
     "output_type": "stream",
     "text": [
      " \"0.002 * picoseconds\",\n"
     ]
    },
    {
     "name": "stdout",
     "output_type": "stream",
     "text": [
      "            \"Pressure\": \"1.0"
     ]
    },
    {
     "name": "stdout",
     "output_type": "stream",
     "text": [
      " * bar\"\n",
      "        },\n",
      "        \"simulation"
     ]
    },
    {
     "name": "stdout",
     "output_type": "stream",
     "text": [
      "_params\": {\n",
      "            \"Ensemble\":"
     ]
    },
    {
     "name": "stdout",
     "output_type": "stream",
     "text": [
      " \"NVT\",\n",
      "            \"Number of"
     ]
    },
    {
     "name": "stdout",
     "output_type": "stream",
     "text": [
      " Steps\": 500,\n"
     ]
    },
    {
     "name": "stdout",
     "output_type": "stream",
     "text": [
      "            \"record_interval_steps"
     ]
    },
    {
     "name": "stdout",
     "output_type": "stream",
     "text": [
      "\": 100,\n",
      "            \"record_params"
     ]
    },
    {
     "name": "stdout",
     "output_type": "stream",
     "text": [
      "\": [\"step\", \"potentialEnergy\","
     ]
    },
    {
     "name": "stdout",
     "output_type": "stream",
     "text": [
      " \"temperature\"]\n",
      "        }\n",
      "    }\n",
      "}\n"
     ]
    },
    {
     "name": "stdout",
     "output_type": "stream",
     "text": [
      "```"
     ]
    },
    {
     "name": "stdout",
     "output_type": "stream",
     "text": [
      "Building system...\n"
     ]
    },
    {
     "name": "stdout",
     "output_type": "stream",
     "text": [
      "About to create system...\n",
      "Attempts at creating system: 0/3\n",
      "adding system without solvent\n"
     ]
    },
    {
     "name": "stdout",
     "output_type": "stream",
     "text": [
      "System built successfully\n",
      "<openmm.openmm.System; proxy of <Swig Object of type 'OpenMM::System *' at 0x2b8d2a6eb090> >\n",
      "Setting up integrator...\n",
      "Creating simulation...\n",
      "simulation set!\n",
      "Performing energy minimization...\n"
     ]
    },
    {
     "name": "stdout",
     "output_type": "stream",
     "text": [
      "Minimization complete!\n",
      "Initial Positions saved to initial_positions.pdb\n",
      "Equilibrating...\n"
     ]
    },
    {
     "name": "stdout",
     "output_type": "stream",
     "text": [
      "Simulating...\n"
     ]
    },
    {
     "name": "stdout",
     "output_type": "stream",
     "text": [
      "Done!\n",
      "Standalone simulation script written to /gpfs/fs2/scratch/qcampbe2/repos/md-agent/ckpt/ckpt_77/simulations/NVT_1XQ8_111427_20241001_111432.py\n",
      "['TRAJ_sim0_073920_4RMB_022316_20241001_073921.dcd', 'LOG_sim0_073920_4RMB_022316_20241001_073921.txt', 'prompt7.ipynb', 'prompt1.ipynb', 'LOG_sim0_111432_1XQ8_111427_20241001_111432.txt', 'prompt3.ipynb', '.ipynb_checkpoints', 'prompt2.ipynb', 'out.405b_robust_exp_v2', 'results', 'prompt8.ipynb', 'TRAJ_sim0_111432_1XQ8_111427_20241001_111432.dcd', 'prompt6.ipynb', 'prompt4.ipynb', '405b_robust_exp.sh', 'prompt5.ipynb', 'TOP_sim0_111432_1XQ8_111427_20241001_111432.pdb', 'TOP_sim0_073920_4RMB_022316_20241001_073921.pdb', 'out.405b_robust_exp']\n"
     ]
    },
    {
     "name": "stdout",
     "output_type": "stream",
     "text": [
      "Thought:"
     ]
    },
    {
     "name": "stdout",
     "output_type": "stream",
     "text": [
      " Now that the simulation"
     ]
    },
    {
     "name": "stdout",
     "output_type": "stream",
     "text": [
      " is done, I can compute the D"
     ]
    },
    {
     "name": "stdout",
     "output_type": "stream",
     "text": [
      "SSP (secondary"
     ]
    },
    {
     "name": "stdout",
     "output_type": "stream",
     "text": [
      " structure) assignment for"
     ]
    },
    {
     "name": "stdout",
     "output_type": "stream",
     "text": [
      " the protein before and after the simulation to"
     ]
    },
    {
     "name": "stdout",
     "output_type": "stream",
     "text": [
      " see if it changed"
     ]
    },
    {
     "name": "stdout",
     "output_type": "stream",
     "text": [
      ".\n",
      "\n",
      "Action:\n",
      "```\n",
      "{\n",
      "    \""
     ]
    },
    {
     "name": "stdout",
     "output_type": "stream",
     "text": [
      "action\": \"Compute"
     ]
    },
    {
     "name": "stdout",
     "output_type": "stream",
     "text": [
      "DSSP\",\n",
      "    \"action_input"
     ]
    },
    {
     "name": "stdout",
     "output_type": "stream",
     "text": [
      "\": {\n",
      "        \""
     ]
    },
    {
     "name": "stdout",
     "output_type": "stream",
     "text": [
      "traj_file\":"
     ]
    },
    {
     "name": "stdout",
     "output_type": "stream",
     "text": [
      " \"rec0_"
     ]
    },
    {
     "name": "stdout",
     "output_type": "stream",
     "text": [
      "111432\",\n",
      "       "
     ]
    },
    {
     "name": "stdout",
     "output_type": "stream",
     "text": [
      " \"top_file\": \"top_sim0"
     ]
    },
    {
     "name": "stdout",
     "output_type": "stream",
     "text": [
      "_111432\",\n"
     ]
    },
    {
     "name": "stdout",
     "output_type": "stream",
     "text": [
      "        \"target_frames\": \"first\"\n"
     ]
    },
    {
     "name": "stdout",
     "output_type": "stream",
     "text": [
      "    }\n",
      "}\n",
      "``"
     ]
    },
    {
     "name": "stdout",
     "output_type": "stream",
     "text": [
      "`\n"
     ]
    },
    {
     "name": "stderr",
     "output_type": "stream",
     "text": [
      "/scratch/qcampbe2/myenvs/mdagent/lib/python3.12/site-packages/mdtraj/formats/pdb/pdbfile.py:206: UserWarning: Unlikely unit cell vectors detected in PDB file likely resulting from a dummy CRYST1 record. Discarding unit cell vectors.\n",
      "  warnings.warn(\n"
     ]
    },
    {
     "name": "stdout",
     "output_type": "stream",
     "text": [
      "Thought:"
     ]
    },
    {
     "name": "stdout",
     "output_type": "stream",
     "text": [
      " Now that I have the DSS"
     ]
    },
    {
     "name": "stdout",
     "output_type": "stream",
     "text": [
      "P assignment for the first frame"
     ]
    },
    {
     "name": "stdout",
     "output_type": "stream",
     "text": [
      " of the simulation, I need to"
     ]
    },
    {
     "name": "stdout",
     "output_type": "stream",
     "text": [
      " compute the DSSP assignment"
     ]
    },
    {
     "name": "stdout",
     "output_type": "stream",
     "text": [
      " for the last frame of the simulation to"
     ]
    },
    {
     "name": "stdout",
     "output_type": "stream",
     "text": [
      " see if the secondary structure changed.\n",
      "\n",
      "Action"
     ]
    },
    {
     "name": "stdout",
     "output_type": "stream",
     "text": [
      ":\n",
      "```\n",
      "{\n",
      "    \"action\":"
     ]
    },
    {
     "name": "stdout",
     "output_type": "stream",
     "text": [
      " \"ComputeDSSP\",\n",
      "    \""
     ]
    },
    {
     "name": "stdout",
     "output_type": "stream",
     "text": [
      "action_input\": {\n",
      "        \"traj"
     ]
    },
    {
     "name": "stdout",
     "output_type": "stream",
     "text": [
      "_file\": \"rec0_111432"
     ]
    },
    {
     "name": "stdout",
     "output_type": "stream",
     "text": [
      "\",\n",
      "        \"top_file\": \"top"
     ]
    },
    {
     "name": "stdout",
     "output_type": "stream",
     "text": [
      "_sim0_111432\",\n",
      "        \""
     ]
    },
    {
     "name": "stdout",
     "output_type": "stream",
     "text": [
      "target_frames\": \"last\"\n",
      "    }\n"
     ]
    },
    {
     "name": "stdout",
     "output_type": "stream",
     "text": [
      "}\n",
      "```\n",
      "\n"
     ]
    },
    {
     "name": "stderr",
     "output_type": "stream",
     "text": [
      "/scratch/qcampbe2/myenvs/mdagent/lib/python3.12/site-packages/mdtraj/formats/pdb/pdbfile.py:206: UserWarning: Unlikely unit cell vectors detected in PDB file likely resulting from a dummy CRYST1 record. Discarding unit cell vectors.\n",
      "  warnings.warn(\n"
     ]
    },
    {
     "name": "stdout",
     "output_type": "stream",
     "text": [
      "Thought:"
     ]
    },
    {
     "name": "stdout",
     "output_type": "stream",
     "text": [
      " Now that I have"
     ]
    },
    {
     "name": "stdout",
     "output_type": "stream",
     "text": [
      " the DSSP"
     ]
    },
    {
     "name": "stdout",
     "output_type": "stream",
     "text": [
      " assignments for the first"
     ]
    },
    {
     "name": "stdout",
     "output_type": "stream",
     "text": [
      " and last frames of"
     ]
    },
    {
     "name": "stdout",
     "output_type": "stream",
     "text": [
      " the simulation, I"
     ]
    },
    {
     "name": "stdout",
     "output_type": "stream",
     "text": [
      " can compare them to"
     ]
    },
    {
     "name": "stdout",
     "output_type": "stream",
     "text": [
      " see if the secondary"
     ]
    },
    {
     "name": "stdout",
     "output_type": "stream",
     "text": [
      " structure changed.\n",
      "\n",
      "Action"
     ]
    },
    {
     "name": "stdout",
     "output_type": "stream",
     "text": [
      ":\n",
      "```\n",
      "{\n"
     ]
    },
    {
     "name": "stdout",
     "output_type": "stream",
     "text": [
      "    \"action\":"
     ]
    },
    {
     "name": "stdout",
     "output_type": "stream",
     "text": [
      " \"Final Answer\",\n"
     ]
    },
    {
     "name": "stdout",
     "output_type": "stream",
     "text": [
      "    \"action_input\": \"The secondary"
     ]
    },
    {
     "name": "stdout",
     "output_type": "stream",
     "text": [
      " structure of "
     ]
    },
    {
     "name": "stdout",
     "output_type": "stream",
     "text": [
      "1"
     ]
    },
    {
     "name": "stdout",
     "output_type": "stream",
     "text": [
      "XQ8 changed"
     ]
    },
    {
     "name": "stdout",
     "output_type": "stream",
     "text": [
      " from 79"
     ]
    },
    {
     "name": "stdout",
     "output_type": "stream",
     "text": [
      " residues in helix"
     ]
    },
    {
     "name": "stdout",
     "output_type": "stream",
     "text": [
      " and "
     ]
    },
    {
     "name": "stdout",
     "output_type": "stream",
     "text": [
      "61 residues in coil"
     ]
    },
    {
     "name": "stdout",
     "output_type": "stream",
     "text": [
      " in the"
     ]
    },
    {
     "name": "stdout",
     "output_type": "stream",
     "text": [
      " first frame to "
     ]
    },
    {
     "name": "stdout",
     "output_type": "stream",
     "text": [
      "70 residues in hel"
     ]
    },
    {
     "name": "stdout",
     "output_type": "stream",
     "text": [
      "ix and 70"
     ]
    },
    {
     "name": "stdout",
     "output_type": "stream",
     "text": [
      " residues in coil in"
     ]
    },
    {
     "name": "stdout",
     "output_type": "stream",
     "text": [
      " the last frame.\"\n",
      "}\n",
      "```"
     ]
    },
    {
     "data": {
      "text/plain": [
       "({'input': '\\n    You are an expert molecular dynamics scientist, and\\n    your task is to respond to the question or\\n    solve the problem to the best of your ability using\\n    the provided tools.\\n\\n    You can only respond with a single complete\\n    \\'Thought, Action, Action Input\\' format\\n    OR a single \\'Final Answer\\' format.\\n\\n    Complete format:\\n    Thought: (reflect on your progress and decide what to do next)\\n    Action:\\n    ```\\n    {\\n        \"action\": (the action name, it should be the name of a tool),\\n        \"action_input\": (the input string for the action)\\n    }\\n    \\'\\'\\'\\n\\n    OR\\n\\n    Final Answer: (the final response to the original input\\n    question, once all steps are complete)\\n\\n    You are required to use the tools provided,\\n    using the most specific tool\\n    available for each action.\\n    Your final answer should contain all information\\n    necessary to answer the question and its subquestions.\\n    Before you finish, reflect on your progress and make\\n    sure you have addressed the question in its entirety.\\n\\n    If you are asked to continue\\n    or reference previous runs,\\n    the context will be provided to you.\\n    If context is provided, you should assume\\n    you are continuing a chat.\\n\\n    Here is the input:\\n    Previous Context: None\\n    Question: Simulate 1XQ8 for 1 ps at a temperature of 300 K. Then, tell me if the secondary structure changed from before the simulation to after. ',\n",
       "  'output': 'The secondary structure of 1XQ8 changed from 79 residues in helix and 61 residues in coil in the first frame to 70 residues in helix and 70 residues in coil in the last frame.'},\n",
       " 'BKKVV6UH')"
      ]
     },
     "execution_count": 11,
     "metadata": {},
     "output_type": "execute_result"
    }
   ],
   "source": [
    "agent_2 = MDAgent(agent_type=\"Structured\", model=llm_model, top_k_tools=tools)\n",
    "print(\"ckpt_dir:\",agent_2.path_registry.ckpt_dir)\n",
    "start2 = datetime.datetime.now()\n",
    "agent_2.run(non_descriptive_prompt_5)"
   ]
  },
  {
   "cell_type": "code",
   "execution_count": 12,
   "metadata": {
    "execution": {
     "iopub.execute_input": "2024-10-01T15:14:59.667771Z",
     "iopub.status.busy": "2024-10-01T15:14:59.667603Z",
     "iopub.status.idle": "2024-10-01T15:14:59.672020Z",
     "shell.execute_reply": "2024-10-01T15:14:59.671577Z"
    }
   },
   "outputs": [
    {
     "name": "stdout",
     "output_type": "stream",
     "text": [
      "agent_2 duration: 0.58 minutes\n"
     ]
    }
   ],
   "source": [
    "end = datetime.datetime.now()\n",
    "elapsed = end - start2\n",
    "print(f\"agent_2 duration: {elapsed.total_seconds()/60:.2f} minutes\")"
   ]
  },
  {
   "cell_type": "code",
   "execution_count": 13,
   "metadata": {
    "execution": {
     "iopub.execute_input": "2024-10-01T15:14:59.673957Z",
     "iopub.status.busy": "2024-10-01T15:14:59.673798Z",
     "iopub.status.idle": "2024-10-01T15:14:59.682662Z",
     "shell.execute_reply": "2024-10-01T15:14:59.682314Z"
    }
   },
   "outputs": [
    {
     "name": "stdout",
     "output_type": "stream",
     "text": [
      "Names found in registry: 1XQ8_111427, top_sim0_111432, sim0_111432, rec0_111432, rec1_111432, rec2_111432, rec0_111455, rec0_111457\n"
     ]
    }
   ],
   "source": [
    "registry = agent_2.path_registry\n",
    "all_names = registry.list_path_names()\n",
    "print(all_names)"
   ]
  },
  {
   "cell_type": "code",
   "execution_count": 3,
   "metadata": {},
   "outputs": [
    {
     "name": "stdout",
     "output_type": "stream",
     "text": [
      "Files found in registry: 1XQ8_111427: PDB file downloaded from RSCB\n",
      " PDBFile ID: 1XQ8_111427\n",
      " top_sim0_111432: Initial positions for simulation sim0_111432\n",
      " sim0_111432: Basic Simulation of Protein 1XQ8_111427\n",
      " rec0_111432: Simulation trajectory for protein 1XQ8_111427 and simulation sim0_111432\n",
      " rec1_111432: Simulation state log for protein 1XQ8_111427 and simulation sim0_111432\n",
      " rec2_111432: Simulation pdb frames for protein 1XQ8_111427 and simulation sim0_111432\n",
      " rec0_111455: dssp values for trajectory with id: rec0_111432\n",
      " rec0_111457: dssp values for trajectory with id: rec0_111432\n"
     ]
    }
   ],
   "source": [
    "from mdagent import MDAgent\n",
    "registry = MDAgent(ckpt_dir=\"ckpt_77\").path_registry\n",
    "paths_and_descriptions = registry.list_path_names_and_descriptions()\n",
    "print(\"\\n\".join(paths_and_descriptions.split(\",\")))"
   ]
  },
  {
   "cell_type": "code",
   "execution_count": 4,
   "metadata": {},
   "outputs": [
    {
     "name": "stdout",
     "output_type": "stream",
     "text": [
      "=== BEFORE ===\n",
      "Number of initial sheets:  0\n",
      "Number of initial helices:  79\n",
      "Number of initial coils:  61\n",
      "=== AFTER ===\n",
      "Number of final sheets:  0\n",
      "Number of final helices:  70\n",
      "Number of final coils:  70\n"
     ]
    },
    {
     "name": "stderr",
     "output_type": "stream",
     "text": [
      "/scratch/qcampbe2/myenvs/mdagent/lib/python3.12/site-packages/mdtraj/formats/pdb/pdbfile.py:206: UserWarning: Unlikely unit cell vectors detected in PDB file likely resulting from a dummy CRYST1 record. Discarding unit cell vectors.\n",
      "  warnings.warn(\n"
     ]
    }
   ],
   "source": [
    "import mdtraj as md\n",
    "import numpy as np\n",
    "\n",
    "traj_path = registry.get_mapped_path(\"rec0_111432\")\n",
    "top_path = registry.get_mapped_path(\"top_sim0_111432\")\n",
    "traj = md.load(traj_path, top=top_path)\n",
    "\n",
    "# Compute the secondary structure of the trajectory\n",
    "dssp_final = md.compute_dssp(traj[-1], simplified=True)\n",
    "dssp_initial = md.compute_dssp(traj[0], simplified=True)\n",
    "\n",
    "print('=== BEFORE ===')\n",
    "print(\"Number of initial sheets: \",len([i for i in dssp_initial[0] if i == 'E']))\n",
    "print(\"Number of initial helices: \",len([i for i in dssp_initial[0] if i == 'H']))\n",
    "print(\"Number of initial coils: \",len([i for i in dssp_initial[0] if i == 'C']))\n",
    "\n",
    "print('=== AFTER ===')\n",
    "print(\"Number of final sheets: \",len([i for i in dssp_final[0] if i == 'E']))\n",
    "print(\"Number of final helices: \",len([i for i in dssp_final[0] if i == 'H']))\n",
    "print(\"Number of final coils: \",len([i for i in dssp_final[0] if i == 'C']))"
   ]
  }
 ],
 "metadata": {
  "kernelspec": {
   "display_name": "mdagent",
   "language": "python",
   "name": "mdagent"
  },
  "language_info": {
   "codemirror_mode": {
    "name": "ipython",
    "version": 3
   },
   "file_extension": ".py",
   "mimetype": "text/x-python",
   "name": "python",
   "nbconvert_exporter": "python",
   "pygments_lexer": "ipython3",
   "version": "3.12.4"
  }
 },
 "nbformat": 4,
 "nbformat_minor": 4
}
