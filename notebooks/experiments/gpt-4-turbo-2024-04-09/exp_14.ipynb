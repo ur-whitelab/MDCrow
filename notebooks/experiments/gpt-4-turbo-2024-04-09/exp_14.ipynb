{
 "cells": [
  {
   "cell_type": "code",
   "execution_count": 1,
   "id": "8ff706fd-c267-4d05-af58-9a3848cce8ff",
   "metadata": {},
   "outputs": [],
   "source": [
    "from mdagent import MDAgent"
   ]
  },
  {
   "cell_type": "code",
   "execution_count": 2,
   "id": "431a0f4c-68c2-4681-8987-a922bcae168d",
   "metadata": {},
   "outputs": [
    {
     "name": "stdout",
     "output_type": "stream",
     "text": [
      "date: 2024-07-10\n",
      "time: 21:41:14\n"
     ]
    }
   ],
   "source": [
    "#todays date and time\n",
    "import datetime\n",
    "\n",
    "start = datetime.datetime.now()\n",
    "date = start.strftime(\"%Y-%m-%d\")\n",
    "print(\"date:\",date)\n",
    "time = start.strftime(\"%H:%M:%S\")\n",
    "print(\"time:\",time)"
   ]
  },
  {
   "cell_type": "code",
   "execution_count": 3,
   "id": "f62bfc17-854b-4152-bb82-7e9e0ec4b854",
   "metadata": {},
   "outputs": [
    {
     "name": "stdout",
     "output_type": "stream",
     "text": [
      "LLM:  gpt-4-turbo-2024-04-09 \n",
      "Temperature:  0.1\n"
     ]
    }
   ],
   "source": [
    "model='gpt-4-turbo-2024-04-09'\n",
    "mda = MDAgent(\n",
    "    agent_type='Structured', \n",
    "    model=model, \n",
    "    tools_model=model,\n",
    "    use_memory=False, \n",
    "    top_k_tools=\"all\"\n",
    ")\n",
    "print(\"LLM: \", mda.llm.model_name,\"\\nTemperature: \", mda.llm.temperature)"
   ]
  },
  {
   "cell_type": "code",
   "execution_count": 4,
   "id": "ad2f6f66-e6b8-4244-b908-68fbebbf6e8b",
   "metadata": {},
   "outputs": [
    {
     "name": "stdout",
     "output_type": "stream",
     "text": [
      "Thought: To simulate the oxygenated and de-oxygenated forms of hemoglobin, I need to set up and run molecular dynamics simulations for both PDB structures (1A3N for oxygenated and 6BB5 for de-oxygenated). I will start by setting up the simulation for the oxygenated form (1A3N).\n",
      "\n",
      "Action: SetUpandRunFunction\n",
      "Action Input: {\"pdb_id\":\"1A3N\",\"forcefield_files\":[\"amber99sb-ildn.xml\",\"tip3p.xml\"],\"system_params\":{\"nonbondedMethod\":\"PME\",\"nonbondedCutoff\":\"1.0 * nanometers\",\"constraints\":\"HBonds\",\"rigidWater\":true,\"solvate\":true},\"integrator_params\":{\"integrator_type\":\"LangevinMiddle\",\"Temperature\":\"300 * kelvin\",\"Friction\":\"1.0 / picoseconds\",\"Timestep\":\"0.002 * picoseconds\",\"Pressure\":\"1.0 * bar\"},\"simulation_params\":{\"Ensemble\":\"NPT\",\"Number of Steps\":5000,\"record_interval_steps\":100,\"record_params\":[\"step\",\"potentialEnergy\",\"temperature\"]}}"
     ]
    }
   ],
   "source": [
    "prompt = '''Simulate hemoglobin oxygenated (1A3N) and de-oxygenated (6BB5).'''\n",
    "answer = mda.run(prompt)"
   ]
  },
  {
   "cell_type": "code",
   "execution_count": 5,
   "id": "a31fd85f-9466-41da-ada4-0b9f86427723",
   "metadata": {
    "scrolled": true
   },
   "outputs": [
    {
     "name": "stdout",
     "output_type": "stream",
     "text": [
      "duration: 0.14 minutes\n"
     ]
    }
   ],
   "source": [
    "end = datetime.datetime.now()\n",
    "elapsed = end - start\n",
    "print(f\"duration: {elapsed.total_seconds()/60:.2f} minutes\")"
   ]
  },
  {
   "cell_type": "markdown",
   "id": "cac82bbe-8a6e-4dc9-8da2-ef1b8627de6a",
   "metadata": {},
   "source": [
    "# Confirm all files are downloaded or made"
   ]
  },
  {
   "cell_type": "code",
   "execution_count": 6,
   "id": "452f6aea-4b5c-4cef-86c7-19f07edbda93",
   "metadata": {},
   "outputs": [
    {
     "name": "stdout",
     "output_type": "stream",
     "text": [
      "No names found. The JSON file is empty or does not contain name mappings.\n"
     ]
    }
   ],
   "source": [
    "registry = mda.path_registry\n",
    "all_names = registry.list_path_names()\n",
    "print(all_names)"
   ]
  },
  {
   "cell_type": "code",
   "execution_count": 7,
   "id": "cd17e80c-ea1a-462f-a479-acc307325500",
   "metadata": {},
   "outputs": [],
   "source": [
    "# # ensure all files exist\n",
    "# file_ids = [....]\n",
    "# assert all(f in all_names for f in file_ids), \"Not all file ids are present in path registry\"\n",
    "\n",
    "# for f in file_ids:\n",
    "#     match = re.search(rf\"{f}_\\d+\", all_names)\n",
    "#     if match is None: \n",
    "#         print(f\"this file id {f} is not in path registry\")\n",
    "#     file_id = match.group(0)\n",
    "#     path = registry.get_mapped_path(file_id)\n",
    "#     if not os.path.exists(path):\n",
    "#         print(f\"the file for {file_id} doesn't exist\")"
   ]
  },
  {
   "cell_type": "code",
   "execution_count": 8,
   "id": "ffd02d9d-0cc9-42af-b9a4-551050986050",
   "metadata": {},
   "outputs": [],
   "source": [
    "# ensure input to each simulation step is 13AN and 6BB5 -- we can verify via file id? top file, maybe? "
   ]
  },
  {
   "cell_type": "markdown",
   "id": "961a7143-7f28-4acb-8e36-f1faa9b6e77a",
   "metadata": {},
   "source": [
    "# Experiment Result:\n",
    "\n",
    "1. Completed without Exception or TimeOut Errors ✅\n",
    "2. Attempted all necessary steps ❌\n",
    "3. Logic make sense ❌\n",
    "4. Correct Answer ❌\n",
    "5. Number of steps completed: 0️⃣\n",
    "6. % steps completed: 0️⃣%"
   ]
  }
 ],
 "metadata": {
  "kernelspec": {
   "display_name": "mdagent",
   "language": "python",
   "name": "mdagent"
  },
  "language_info": {
   "codemirror_mode": {
    "name": "ipython",
    "version": 3
   },
   "file_extension": ".py",
   "mimetype": "text/x-python",
   "name": "python",
   "nbconvert_exporter": "python",
   "pygments_lexer": "ipython3",
   "version": "3.12.4"
  }
 },
 "nbformat": 4,
 "nbformat_minor": 5
}
