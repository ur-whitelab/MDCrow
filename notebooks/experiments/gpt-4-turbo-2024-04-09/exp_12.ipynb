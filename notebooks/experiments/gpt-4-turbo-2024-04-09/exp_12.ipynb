{
 "cells": [
  {
   "cell_type": "code",
   "execution_count": 1,
   "id": "8ff706fd-c267-4d05-af58-9a3848cce8ff",
   "metadata": {},
   "outputs": [],
   "source": [
    "from mdagent import MDAgent"
   ]
  },
  {
   "cell_type": "code",
   "execution_count": 2,
   "id": "02c5c1ac-426e-44fa-90d2-8dd1a1eefe9c",
   "metadata": {},
   "outputs": [
    {
     "name": "stdout",
     "output_type": "stream",
     "text": [
      "date: 2024-07-10\n",
      "time: 21:04:46\n"
     ]
    }
   ],
   "source": [
    "#todays date and time\n",
    "import datetime\n",
    "\n",
    "start = datetime.datetime.now()\n",
    "date = start.strftime(\"%Y-%m-%d\")\n",
    "print(\"date:\",date)\n",
    "time = start.strftime(\"%H:%M:%S\")\n",
    "print(\"time:\",time)"
   ]
  },
  {
   "cell_type": "code",
   "execution_count": 3,
   "id": "f62bfc17-854b-4152-bb82-7e9e0ec4b854",
   "metadata": {},
   "outputs": [
    {
     "name": "stdout",
     "output_type": "stream",
     "text": [
      "LLM:  gpt-4-turbo-2024-04-09 \n",
      "Temperature:  0.1\n"
     ]
    }
   ],
   "source": [
    "model='gpt-4-turbo-2024-04-09'\n",
    "mda = MDAgent(\n",
    "    agent_type='Structured', \n",
    "    model=model, \n",
    "    tools_model=model,\n",
    "    use_memory=False, \n",
    "    top_k_tools=\"all\"\n",
    ")\n",
    "print(\"LLM: \", mda.llm.model_name,\"\\nTemperature: \", mda.llm.temperature)"
   ]
  },
  {
   "cell_type": "code",
   "execution_count": 4,
   "id": "ad2f6f66-e6b8-4244-b908-68fbebbf6e8b",
   "metadata": {},
   "outputs": [
    {
     "name": "stdout",
     "output_type": "stream",
     "text": [
      "Thought: To simulate fibronectin (PDB ID 1FNF) for 1ns, I need to first find an appropriate temperature for the simulation from the literature. I will use the LiteratureSearch tool to find the typical experimental or simulation temperature used for fibronectin.\n",
      "\n",
      "Action: LiteratureSearch\n",
      "Action Input: What is the typical temperature used for simulating fibronectin in molecular dynamics studies?"
     ]
    }
   ],
   "source": [
    "prompt = '''Simulate fibronectin (PDB ID 1FNF) for 1ns. Use an appropriate temperature from literature.'''\n",
    "answer = mda.run(prompt)"
   ]
  },
  {
   "cell_type": "code",
   "execution_count": 5,
   "id": "a31fd85f-9466-41da-ada4-0b9f86427723",
   "metadata": {
    "scrolled": true
   },
   "outputs": [
    {
     "name": "stdout",
     "output_type": "stream",
     "text": [
      "duration: 0.08 minutes\n"
     ]
    }
   ],
   "source": [
    "end = datetime.datetime.now()\n",
    "elapsed = end - start\n",
    "print(f\"duration: {elapsed.total_seconds()/60:.2f} minutes\")"
   ]
  },
  {
   "cell_type": "markdown",
   "id": "50423b94-0219-4779-88ff-2d0b2e1f89df",
   "metadata": {},
   "source": [
    "# Confirm all files are made from the simulation"
   ]
  },
  {
   "cell_type": "code",
   "execution_count": 6,
   "id": "fab6ea1d-2691-43fd-81aa-af5156c3eb30",
   "metadata": {},
   "outputs": [
    {
     "name": "stdout",
     "output_type": "stream",
     "text": [
      "No names found. The JSON file is empty or does not contain name mappings.\n"
     ]
    }
   ],
   "source": [
    "registry = mda.path_registry\n",
    "all_names = registry.list_path_names()\n",
    "print(all_names)"
   ]
  },
  {
   "cell_type": "code",
   "execution_count": 6,
   "id": "54105bee-49f3-41bb-8f96-3391a9c732d0",
   "metadata": {
    "scrolled": true
   },
   "outputs": [],
   "source": [
    "# # ensure all files exist\n",
    "# file_ids = ['1FNF','sim0', 'top_sim0', 'rec0']\n",
    "# assert all(f in all_names for f in file_ids), \"Not all file ids are present in path registry\"\n",
    "\n",
    "# for f in file_ids:\n",
    "#     match = re.search(rf\"{f}_\\d+\", all_names)\n",
    "#     if match is None: \n",
    "#         print(f\"this file id {f} is not in path registry\")\n",
    "#     file_id = match.group(0)\n",
    "#     path = registry.get_mapped_path(file_id)\n",
    "#     if not os.path.exists(path):\n",
    "#         print(f\"the file for {file_id} doesn't exist\")"
   ]
  },
  {
   "cell_type": "code",
   "execution_count": null,
   "id": "4ec9eeb3-8597-4884-8e30-2c192d7ed0ac",
   "metadata": {},
   "outputs": [],
   "source": [
    "# ensure LiteratureSearch is being used by looking in agent output"
   ]
  },
  {
   "cell_type": "markdown",
   "id": "8c9a264a-e9ac-4567-b514-95192d7b512f",
   "metadata": {},
   "source": [
    "# Experiment Result:\n",
    "\n",
    "1. Completed without Exception or TimeOut Errors ✅\n",
    "2. Attempted all necessary steps ❌\n",
    "3. Logic make sense ❌\n",
    "4. Correct Answer ❌"
   ]
  }
 ],
 "metadata": {
  "kernelspec": {
   "display_name": "mdagent",
   "language": "python",
   "name": "mdagent"
  },
  "language_info": {
   "codemirror_mode": {
    "name": "ipython",
    "version": 3
   },
   "file_extension": ".py",
   "mimetype": "text/x-python",
   "name": "python",
   "nbconvert_exporter": "python",
   "pygments_lexer": "ipython3",
   "version": "3.12.4"
  }
 },
 "nbformat": 4,
 "nbformat_minor": 5
}
