{
 "cells": [
  {
   "cell_type": "code",
   "execution_count": 1,
   "id": "8ff706fd-c267-4d05-af58-9a3848cce8ff",
   "metadata": {},
   "outputs": [],
   "source": [
    "from mdagent import MDAgent"
   ]
  },
  {
   "cell_type": "code",
   "execution_count": 2,
   "id": "b0d4ea60-212d-4a24-ad8f-0673323701cf",
   "metadata": {},
   "outputs": [
    {
     "name": "stdout",
     "output_type": "stream",
     "text": [
      "date: 2024-07-10\n",
      "time: 21:41:55\n"
     ]
    }
   ],
   "source": [
    "import datetime\n",
    "\n",
    "start = datetime.datetime.now()\n",
    "date = start.strftime(\"%Y-%m-%d\")\n",
    "print(\"date:\",date)\n",
    "time = start.strftime(\"%H:%M:%S\")\n",
    "print(\"time:\",time)"
   ]
  },
  {
   "cell_type": "code",
   "execution_count": 3,
   "id": "f62bfc17-854b-4152-bb82-7e9e0ec4b854",
   "metadata": {},
   "outputs": [
    {
     "name": "stdout",
     "output_type": "stream",
     "text": [
      "LLM:  gpt-4-turbo-2024-04-09 \n",
      "Temperature:  0.1\n"
     ]
    }
   ],
   "source": [
    "model='gpt-4-turbo-2024-04-09'\n",
    "mda = MDAgent(\n",
    "    agent_type='Structured', \n",
    "    model=model, \n",
    "    tools_model=model,\n",
    "    use_memory=False, \n",
    "    top_k_tools=\"all\"\n",
    ")\n",
    "print(\"LLM: \", mda.llm.model_name,\"\\nTemperature: \", mda.llm.temperature)"
   ]
  },
  {
   "cell_type": "code",
   "execution_count": 4,
   "id": "ad2f6f66-e6b8-4244-b908-68fbebbf6e8b",
   "metadata": {},
   "outputs": [
    {
     "name": "stdout",
     "output_type": "stream",
     "text": [
      "Thought: To simulate the protein 1MBN in both water and methanol solutions, I need to first set up and run molecular dynamics simulations for each scenario. I will use the SetUpandRunFunction tool to perform these simulations, specifying the appropriate solvent for each case.\n",
      "\n",
      "Action: SetUpandRunFunction\n",
      "Action Input: {\n",
      "  \"pdb_id\": \"1MBN\",\n",
      "  \"forcefield_files\": [\"amber99sb.xml\", \"tip3p.xml\"],\n",
      "  \"system_params\": {\n",
      "    \"nonbondedMethod\": \"PME\",\n",
      "    \"nonbondedCutoff\": \"1.0 * nanometers\",\n",
      "    \"constraints\": \"HBonds\",\n",
      "    \"rigidWater\": true,\n",
      "    \"solvate\": true\n",
      "  },\n",
      "  \"integrator_params\": {\n",
      "    \"integrator_type\": \"LangevinMiddle\",\n",
      "    \"Temperature\": \"300 * kelvin\",\n",
      "    \"Friction\": \"1.0 / picoseconds\",\n",
      "    \"Timestep\": \"0.002 * picoseconds\"\n",
      "  },\n",
      "  \"simulation_params\": {\n",
      "    \"Ensemble\": \"NVT\",\n",
      "    \"Number of Steps\": 5000,\n",
      "    \"record_interval_steps\": 100,\n",
      "    \"record_params\": [\"step\", \"potentialEnergy\", \"temperature\"]\n",
      "  }\n",
      "}"
     ]
    }
   ],
   "source": [
    "prompt = '''Simulate 1MBN in water and in methanol solutions.'''\n",
    "answer = mda.run(prompt)"
   ]
  },
  {
   "cell_type": "code",
   "execution_count": 5,
   "id": "a31fd85f-9466-41da-ada4-0b9f86427723",
   "metadata": {},
   "outputs": [
    {
     "name": "stdout",
     "output_type": "stream",
     "text": [
      "duration: 0.20 minutes\n"
     ]
    }
   ],
   "source": [
    "end = datetime.datetime.now()\n",
    "elapsed = end - start\n",
    "print(f\"duration: {elapsed.total_seconds()/60:.2f} minutes\")"
   ]
  },
  {
   "cell_type": "code",
   "execution_count": 6,
   "id": "1c69c417-e7a3-48cf-bb3e-46a52ea8e710",
   "metadata": {},
   "outputs": [
    {
     "name": "stdout",
     "output_type": "stream",
     "text": [
      "No names found. The JSON file is empty or does not contain name mappings.\n"
     ]
    }
   ],
   "source": [
    "registry = mda.path_registry\n",
    "all_names = registry.list_path_names()\n",
    "print(all_names)"
   ]
  },
  {
   "cell_type": "markdown",
   "id": "0e3cb28f-f60d-467b-8aa8-1842046d46d5",
   "metadata": {},
   "source": [
    "# Experiment Result:\n",
    "\n",
    "1. Completed without Exception or TimeOut Errors ✅\n",
    "2. Attempted all necessary steps ❌\n",
    "3. Logic make sense ❌\n",
    "4. Correct Answer ❌"
   ]
  }
 ],
 "metadata": {
  "kernelspec": {
   "display_name": "mdagent",
   "language": "python",
   "name": "mdagent"
  },
  "language_info": {
   "codemirror_mode": {
    "name": "ipython",
    "version": 3
   },
   "file_extension": ".py",
   "mimetype": "text/x-python",
   "name": "python",
   "nbconvert_exporter": "python",
   "pygments_lexer": "ipython3",
   "version": "3.12.4"
  }
 },
 "nbformat": 4,
 "nbformat_minor": 5
}
