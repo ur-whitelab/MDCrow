{
 "cells": [
  {
   "cell_type": "code",
   "execution_count": 1,
   "metadata": {},
   "outputs": [],
   "source": [
    "import datetime\n",
    "import os\n",
    "from mdagent import MDAgent\n",
    "import matplotlib.pyplot as plt"
   ]
  },
  {
   "cell_type": "code",
   "execution_count": 2,
   "metadata": {},
   "outputs": [
    {
     "name": "stdout",
     "output_type": "stream",
     "text": [
      "date and time: 2024-07-10\n",
      "time: 23:08:37\n",
      "LLM:  gpt-4-turbo-2024-04-09 \n",
      "Temperature:  0.1\n"
     ]
    }
   ],
   "source": [
    "prompt8 = \"Simulate 4RMB at 100K, 200K, and 300K. Then plot the radius of gyration over time for all three simulations. Lastly, compare the change in secondary structure for the three analyses throughout the simulation.\"\n",
    "llm_var = \"gpt-4-turbo-2024-04-09\"\n",
    "tools = \"all\"\n",
    "agent = MDAgent(agent_type=\"Structured\", model=llm_var, top_k_tools=tools)\n",
    "now = datetime.datetime.now()\n",
    "date = now.strftime(\"%Y-%m-%d\")\n",
    "print(\"date and time:\",date)\n",
    "time = now.strftime(\"%H:%M:%S\")\n",
    "print(\"time:\",time)\n",
    "print(\"LLM: \",agent.llm.model_name,\"\\nTemperature: \",agent.llm.temperature)"
   ]
  },
  {
   "cell_type": "code",
   "execution_count": 3,
   "metadata": {},
   "outputs": [
    {
     "name": "stdout",
     "output_type": "stream",
     "text": [
      "Thought: To address the question, I need to first set up and run molecular dynamics simulations for the protein with PDB ID 4RMB at three different temperatures (100K, 200K, and 300K). After the simulations, I will plot the radius of gyration over time for each simulation and compare the changes in secondary structure throughout the simulations.\n",
      "\n",
      "Action: SetUpandRunFunction\n",
      "Action Input: {\"pdb_id\":\"4RMB\",\"forcefield_files\":[\"amber99sb-ildn\"],\"system_params\":{\"nonbondedMethod\":\"PME\",\"nonbondedCutoff\":1.0,\"constraints\":\"HBonds\",\"rigidWater\":true,\"constraintTolerance\":0.00001,\"solvate\":true},\"integrator_params\":{\"integrator_type\":\"LangevinMiddle\",\"Temperature\":\"100 * kelvin\",\"Friction\":\"1.0 / picoseconds\",\"Timestep\":\"0.002 * picoseconds\",\"Pressure\":\"1.0 * bar\"},\"simulation_params\":{\"Ensemble\":\"NVT\",\"Number of Steps\":5000,\"record_interval_steps\":100,\"record_params\":[\"step\",\"potentialEnergy\",\"temperature\"]}}The agent's initial thought was to address a question by setting up and running molecular dynamics simulations for the protein with PDB ID 4RMB at three different temperatures (100K, 200K, and 300K). The plan was to plot the radius of gyration over time for each simulation and compare the changes in secondary structure throughout the simulations.\n",
      "\n",
      "The agent took action by using the SetUpandRunFunction with specific input parameters. These parameters included forcefield files, system parameters, integrator parameters, and simulation parameters to set up the molecular dynamics simulations.\n",
      "\n",
      "After running the simulations, the agent would analyze the data, plot the radius of gyration over time for each temperature, and compare the changes in secondary structure. The final solution would involve interpreting the results to draw conclusions about the protein's behavior at different temperatures.Your run id is:  9M77GDIM\n"
     ]
    },
    {
     "data": {
      "text/plain": [
       "('Thought: To address the question, I need to first set up and run molecular dynamics simulations for the protein with PDB ID 4RMB at three different temperatures (100K, 200K, and 300K). After the simulations, I will plot the radius of gyration over time for each simulation and compare the changes in secondary structure throughout the simulations.\\n\\nAction: SetUpandRunFunction\\nAction Input: {\"pdb_id\":\"4RMB\",\"forcefield_files\":[\"amber99sb-ildn\"],\"system_params\":{\"nonbondedMethod\":\"PME\",\"nonbondedCutoff\":1.0,\"constraints\":\"HBonds\",\"rigidWater\":true,\"constraintTolerance\":0.00001,\"solvate\":true},\"integrator_params\":{\"integrator_type\":\"LangevinMiddle\",\"Temperature\":\"100 * kelvin\",\"Friction\":\"1.0 / picoseconds\",\"Timestep\":\"0.002 * picoseconds\",\"Pressure\":\"1.0 * bar\"},\"simulation_params\":{\"Ensemble\":\"NVT\",\"Number of Steps\":5000,\"record_interval_steps\":100,\"record_params\":[\"step\",\"potentialEnergy\",\"temperature\"]}}',\n",
       " '9M77GDIM')"
      ]
     },
     "execution_count": 3,
     "metadata": {},
     "output_type": "execute_result"
    }
   ],
   "source": [
    "agent.run(prompt8)"
   ]
  },
  {
   "cell_type": "code",
   "execution_count": 4,
   "metadata": {},
   "outputs": [
    {
     "name": "stdout",
     "output_type": "stream",
     "text": [
      "No names found. The JSON file is empty or does not contain name mappings.\n"
     ]
    }
   ],
   "source": [
    "registry = agent.path_registry\n",
    "print(registry.list_path_names_and_descriptions())"
   ]
  },
  {
   "cell_type": "code",
   "execution_count": 5,
   "metadata": {},
   "outputs": [
    {
     "name": "stdout",
     "output_type": "stream",
     "text": [
      "date and time: 2024-07-10\n",
      "time: 23:08:47\n"
     ]
    }
   ],
   "source": [
    "now = datetime.datetime.now()\n",
    "date = now.strftime(\"%Y-%m-%d\")\n",
    "print(\"date and time:\",date)\n",
    "time = now.strftime(\"%H:%M:%S\")\n",
    "print(\"time:\",time)"
   ]
  },
  {
   "cell_type": "code",
   "execution_count": 6,
   "metadata": {
    "scrolled": true
   },
   "outputs": [
    {
     "name": "stdout",
     "output_type": "stream",
     "text": [
      "No names found. The JSON file is empty or does not contain name mappings.\n"
     ]
    }
   ],
   "source": [
    "paths_and_descriptions = registry.list_path_names_and_descriptions()\n",
    "print(\"\\n\".join(paths_and_descriptions.split(\",\")))"
   ]
  },
  {
   "cell_type": "markdown",
   "metadata": {
    "jp-MarkdownHeadingCollapsed": true
   },
   "source": [
    "SKIPPED BELOW --> no files were made"
   ]
  },
  {
   "cell_type": "code",
   "execution_count": 7,
   "metadata": {},
   "outputs": [],
   "source": [
    "# from IPython.display import Image\n",
    "# path_1 = registry.get_mapped_path(\"fig0_183814\")\n",
    "# path_2 = registry.get_mapped_path(\"fig0_183819\")\n",
    "# path_3 = registry.get_mapped_path(\"fig0_183825\")\n",
    "\n",
    "# Image(filename=path_1)"
   ]
  },
  {
   "cell_type": "code",
   "execution_count": 8,
   "metadata": {},
   "outputs": [],
   "source": [
    "# Image(filename=path_2)"
   ]
  },
  {
   "cell_type": "code",
   "execution_count": 9,
   "metadata": {},
   "outputs": [],
   "source": [
    "# Image(filename=path_3)"
   ]
  },
  {
   "cell_type": "markdown",
   "metadata": {},
   "source": [
    "# Experiment Result:\n",
    "### Completed without Exception or TimeOut Errors ✅\n",
    "### Attempted all necessary steps ❌\n",
    "### Logic make sense ❌\n",
    "### Correct Answer ❌\n",
    "### Number of steps completed: 0️⃣\n",
    "### % steps completed: 0️⃣%"
   ]
  },
  {
   "cell_type": "code",
   "execution_count": null,
   "metadata": {},
   "outputs": [],
   "source": []
  }
 ],
 "metadata": {
  "kernelspec": {
   "display_name": "mdagent",
   "language": "python",
   "name": "mdagent"
  },
  "language_info": {
   "codemirror_mode": {
    "name": "ipython",
    "version": 3
   },
   "file_extension": ".py",
   "mimetype": "text/x-python",
   "name": "python",
   "nbconvert_exporter": "python",
   "pygments_lexer": "ipython3",
   "version": "3.12.4"
  }
 },
 "nbformat": 4,
 "nbformat_minor": 4
}
