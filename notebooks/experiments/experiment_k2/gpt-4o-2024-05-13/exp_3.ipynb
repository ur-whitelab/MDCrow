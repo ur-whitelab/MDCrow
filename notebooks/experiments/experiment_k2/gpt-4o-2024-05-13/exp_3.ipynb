{
 "cells": [
  {
   "cell_type": "code",
   "execution_count": 1,
   "metadata": {},
   "outputs": [],
   "source": [
    "import datetime\n",
    "import os\n",
    "from mdagent import MDAgent\n",
    "import matplotlib.pyplot as plt"
   ]
  },
  {
   "cell_type": "code",
   "execution_count": 2,
   "metadata": {},
   "outputs": [
    {
     "name": "stdout",
     "output_type": "stream",
     "text": [
      "date and time: 2024-07-16\n",
      "time: 20:00:36\n",
      "LLM:  gpt-4o-2024-05-13 \n",
      "Temperature:  0.1\n"
     ]
    }
   ],
   "source": [
    "prompt3 = \"Download the PDB file for PDB ID 1GZX. Then, analyze the secondary structure of the protein and tell me how many chains, sheets, etc. there are.\"\n",
    "llm_var = \"gpt-4o-2024-05-13\"\n",
    "tools = \"all\"\n",
    "agent = MDAgent(agent_type=\"Structured\", model=llm_var, top_k_tools=tools)\n",
    "now = datetime.datetime.now()\n",
    "date = now.strftime(\"%Y-%m-%d\")\n",
    "print(\"date and time:\",date)\n",
    "time = now.strftime(\"%H:%M:%S\")\n",
    "print(\"time:\",time)\n",
    "print(\"LLM: \",agent.llm.model_name,\"\\nTemperature: \",agent.llm.temperature)"
   ]
  },
  {
   "cell_type": "code",
   "execution_count": 3,
   "metadata": {},
   "outputs": [
    {
     "name": "stdout",
     "output_type": "stream",
     "text": [
      "Thought: To address the question, I need to first download the PDB file for PDB ID 1GZX. After downloading, I will analyze the secondary structure of the protein to determine the number of chains, sheets, and other structural elements.\n",
      "\n",
      "Action: \n",
      "```\n",
      "{\n",
      "  \"action\": \"PDBFileDownloader\",\n",
      "  \"action_input\": \"1GZX\"\n",
      "}\n",
      "```PDB file found with this ID: 1GZX\n"
     ]
    },
    {
     "name": "stderr",
     "output_type": "stream",
     "text": [
      "2024-07-16 20:00:39.004 \n",
      "  \u001b[33m\u001b[1mWarning:\u001b[0m to view this Streamlit app on a browser, run it with the following\n",
      "  command:\n",
      "\n",
      "    streamlit run /opt/anaconda3/envs/mda_jun15/lib/python3.12/site-packages/ipykernel_launcher.py [ARGUMENTS]\n"
     ]
    },
    {
     "name": "stdout",
     "output_type": "stream",
     "text": [
      "Now that the PDB file for 1GZX has been downloaded, the next step is to analyze the secondary structure of the protein to determine the number of chains, sheets, and other structural elements.\n",
      "\n",
      "Action:\n",
      "```\n",
      "{\n",
      "  \"action\": \"ComputeDSSP\",\n",
      "  \"action_input\": {\n",
      "    \"traj_file\": \"1GZX_200039\"\n",
      "  }\n",
      "}\n",
      "```The secondary structure analysis has provided the counts for helices, strands, coils, and non-protein residues. However, it did not provide the number of chains. To get the number of chains, I will use the `SummarizeProteinStructure` tool.\n",
      "\n",
      "Action:\n",
      "```\n",
      "{\n",
      "  \"action\": \"SummarizeProteinStructure\",\n",
      "  \"action_input\": {\n",
      "    \"traj_file\": \"1GZX_200039\"\n",
      "  }\n",
      "}\n",
      "```\n",
      "The analysis of the secondary structure and the summary of the protein structure for PDB ID 1GZX is complete. Here are the details:\n",
      "\n",
      "- Number of Chains: 12\n",
      "- Number of Helices: 444\n",
      "- Number of Strands: 0\n",
      "- Number of Coils: 130\n",
      "- Non-protein Residues: 213\n",
      "\n",
      "Final Answer: The PDB ID 1GZX protein has 12 chains, 444 helices, 0 strands, 130 coils, and 213 non-protein residues.The agent was tasked with analyzing the secondary structure and summarizing the protein structure for PDB ID 1GZX. The agent first identified that there were 12 chains in the protein. It then determined that there were a total of 444 helices present in the structure, with no strands identified. Additionally, there were 130 coils and 213 non-protein residues found within the protein.\n",
      "\n",
      "In conclusion, the final solution provided by the agent was that the PDB ID 1GZX protein consists of 12 chains, 444 helices, 0 strands, 130 coils, and 213 non-protein residues.Your run id is:  3Q4R8IC7\n"
     ]
    },
    {
     "data": {
      "text/plain": [
       "('The analysis of the secondary structure and the summary of the protein structure for PDB ID 1GZX is complete. Here are the details:\\n\\n- Number of Chains: 12\\n- Number of Helices: 444\\n- Number of Strands: 0\\n- Number of Coils: 130\\n- Non-protein Residues: 213\\n\\nFinal Answer: The PDB ID 1GZX protein has 12 chains, 444 helices, 0 strands, 130 coils, and 213 non-protein residues.',\n",
       " '3Q4R8IC7')"
      ]
     },
     "execution_count": 3,
     "metadata": {},
     "output_type": "execute_result"
    }
   ],
   "source": [
    "agent.run(prompt3)"
   ]
  },
  {
   "cell_type": "code",
   "execution_count": 4,
   "metadata": {},
   "outputs": [
    {
     "name": "stdout",
     "output_type": "stream",
     "text": [
      "date and time: 2024-07-16\n",
      "time: 20:10:03\n"
     ]
    }
   ],
   "source": [
    "now = datetime.datetime.now()\n",
    "date = now.strftime(\"%Y-%m-%d\")\n",
    "print(\"date and time:\",date)\n",
    "time = now.strftime(\"%H:%M:%S\")\n",
    "print(\"time:\",time)"
   ]
  },
  {
   "cell_type": "code",
   "execution_count": 5,
   "metadata": {},
   "outputs": [
    {
     "name": "stdout",
     "output_type": "stream",
     "text": [
      "Files found in registry: 1GZX_200039: PDB file downloaded from RSCB, PDBFile ID: 1GZX_200039, rec0_200044: dssp values for trajectory with id: 1GZX_200039\n"
     ]
    }
   ],
   "source": [
    "registry = agent.path_registry\n",
    "print(registry.list_path_names_and_descriptions())"
   ]
  },
  {
   "cell_type": "code",
   "execution_count": 9,
   "metadata": {},
   "outputs": [
    {
     "name": "stdout",
     "output_type": "stream",
     "text": [
      "Number of residues in chains:  12\n",
      "Number of residues in sheets:  0\n",
      "Number of residues in helices:  444\n",
      "Number of residues in coils:  130\n"
     ]
    }
   ],
   "source": [
    "import mdtraj as md\n",
    "path = registry.get_mapped_path(\"1GZX_200039\")\n",
    "traj = md.load(path)\n",
    "top = traj.topology\n",
    "number_of_chains = top.n_chains\n",
    "secondary_structure = md.compute_dssp(traj,simplified=True)\n",
    "print(\"Number of residues in chains: \",number_of_chains)\n",
    "print(\"Number of residues in sheets: \",len([i for i in secondary_structure[0] if i == 'E']))\n",
    "print(\"Number of residues in helices: \",len([i for i in secondary_structure[0] if i == 'H']))\n",
    "print(\"Number of residues in coils: \",len([i for i in secondary_structure[0] if i == 'C']))\n"
   ]
  },
  {
   "cell_type": "markdown",
   "metadata": {},
   "source": [
    "# Experiment Result:\n",
    "### Completed without Exception or TimeOut Errors ✅\n",
    "### Attempted all necessary steps ✅\n",
    "### Logic make sense ✅\n",
    "### Correct Answer  ✅"
   ]
  }
 ],
 "metadata": {
  "kernelspec": {
   "display_name": "mdagent2",
   "language": "python",
   "name": "python3"
  },
  "language_info": {
   "codemirror_mode": {
    "name": "ipython",
    "version": 3
   },
   "file_extension": ".py",
   "mimetype": "text/x-python",
   "name": "python",
   "nbconvert_exporter": "python",
   "pygments_lexer": "ipython3",
   "version": "3.12.4"
  }
 },
 "nbformat": 4,
 "nbformat_minor": 2
}
