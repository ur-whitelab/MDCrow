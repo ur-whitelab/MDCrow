{
 "cells": [
  {
   "cell_type": "code",
   "execution_count": 1,
   "metadata": {},
   "outputs": [],
   "source": [
    "import datetime\n",
    "import os\n",
    "from mdagent import MDAgent\n",
    "import matplotlib.pyplot as plt"
   ]
  },
  {
   "cell_type": "code",
   "execution_count": 2,
   "metadata": {},
   "outputs": [
    {
     "name": "stdout",
     "output_type": "stream",
     "text": [
      "date and time: 2024-07-16\n",
      "time: 21:18:16\n",
      "LLM:  gpt-4o-2024-05-13 \n",
      "Temperature:  0.1\n"
     ]
    }
   ],
   "source": [
    "prompt19 = \"Download the PDB file for 1XQ8. Then, save the visualization for it.\"\n",
    "llm_var = \"gpt-4o-2024-05-13\"\n",
    "tools = \"all\"\n",
    "agent = MDAgent(agent_type=\"Structured\", model=llm_var, top_k_tools=tools)\n",
    "now = datetime.datetime.now()\n",
    "date = now.strftime(\"%Y-%m-%d\")\n",
    "print(\"date and time:\",date)\n",
    "time = now.strftime(\"%H:%M:%S\")\n",
    "print(\"time:\",time)\n",
    "print(\"LLM: \",agent.llm.model_name,\"\\nTemperature: \",agent.llm.temperature)"
   ]
  },
  {
   "cell_type": "code",
   "execution_count": 3,
   "metadata": {},
   "outputs": [
    {
     "name": "stdout",
     "output_type": "stream",
     "text": [
      "Thought: To address the question, I need to first download the PDB file for the protein with the ID 1XQ8. After downloading the file, I will create a visualization for it and save the visualization.\n",
      "\n",
      "Action: \n",
      "```\n",
      "{\n",
      "  \"action\": \"PDBFileDownloader\",\n",
      "  \"action_input\": \"1XQ8\"\n",
      "}\n",
      "```PDB file found with this ID: 1XQ8\n"
     ]
    },
    {
     "name": "stderr",
     "output_type": "stream",
     "text": [
      "2024-07-16 21:18:19.762 \n",
      "  \u001b[33m\u001b[1mWarning:\u001b[0m to view this Streamlit app on a browser, run it with the following\n",
      "  command:\n",
      "\n",
      "    streamlit run /opt/anaconda3/envs/mda_jun15/lib/python3.12/site-packages/ipykernel_launcher.py [ARGUMENTS]\n"
     ]
    },
    {
     "name": "stdout",
     "output_type": "stream",
     "text": [
      "Thought: The PDB file for 1XQ8 has been successfully downloaded. The next step is to create a visualization for this PDB file and save it.\n",
      "\n",
      "Action:\n",
      "```\n",
      "{\n",
      "  \"action\": \"PDBVisualization\",\n",
      "  \"action_input\": \"1XQ8_211819\"\n",
      "}\n",
      "```Error running molrender: [Errno 2] No such file or directory: 'molrender'. Using NGLView instead.\n",
      "The PDB file for 1XQ8 has been successfully downloaded, and the visualization has been created as a notebook. \n",
      "\n",
      "Final Answer: The PDB file for 1XQ8 has been downloaded, and the visualization has been created and saved as a notebook.Prompt: Download the PDB file for 1XQ8 and create a visualization as a notebook.\n",
      "\n",
      "Step 1: Successfully download the PDB file for 1XQ8.\n",
      "Step 2: Create a visualization of the downloaded PDB file.\n",
      "Step 3: Save the visualization as a notebook.\n",
      "\n",
      "Final Solution: The PDB file for 1XQ8 has been downloaded, and the visualization has been created and saved as a notebook.Your run id is:  OL5WTATY\n"
     ]
    },
    {
     "data": {
      "text/plain": [
       "('The PDB file for 1XQ8 has been successfully downloaded, and the visualization has been created as a notebook. \\n\\nFinal Answer: The PDB file for 1XQ8 has been downloaded, and the visualization has been created and saved as a notebook.',\n",
       " 'OL5WTATY')"
      ]
     },
     "execution_count": 3,
     "metadata": {},
     "output_type": "execute_result"
    }
   ],
   "source": [
    "agent.run(prompt19)"
   ]
  },
  {
   "cell_type": "code",
   "execution_count": 4,
   "metadata": {},
   "outputs": [
    {
     "name": "stdout",
     "output_type": "stream",
     "text": [
      "date and time: 2024-07-16\n",
      "time: 21:18:24\n",
      "Files found in registry: 1XQ8_211819: PDB file downloaded from RSCB\n",
      " PDBFile ID: 1XQ8_211819\n",
      " /Users/samanthacox/Desktop/md-agent/ckpt/ckpt_83/figures/1XQ8_raw_20240716_211819_vis.ipynb: Notebook to visualize cif/pdb file 1XQ8_raw_20240716_211819.pdb using nglview.\n"
     ]
    }
   ],
   "source": [
    "now = datetime.datetime.now()\n",
    "date = now.strftime(\"%Y-%m-%d\")\n",
    "print(\"date and time:\",date)\n",
    "time = now.strftime(\"%H:%M:%S\")\n",
    "print(\"time:\",time)\n",
    "registry = agent.path_registry\n",
    "paths_and_descriptions = registry.list_path_names_and_descriptions()\n",
    "print(\"\\n\".join(paths_and_descriptions.split(\",\")))"
   ]
  },
  {
   "cell_type": "markdown",
   "metadata": {},
   "source": [
    "# Experiment Result:\n",
    "### Completed without Exception or TimeOut Errors ✅\n",
    "### Attempted all necessary steps ✅\n",
    "### Logic make sense ✅\n",
    "### Correct Answer  ✅"
   ]
  },
  {
   "cell_type": "code",
   "execution_count": null,
   "metadata": {},
   "outputs": [],
   "source": []
  }
 ],
 "metadata": {
  "kernelspec": {
   "display_name": "mdagent2",
   "language": "python",
   "name": "python3"
  },
  "language_info": {
   "codemirror_mode": {
    "name": "ipython",
    "version": 3
   },
   "file_extension": ".py",
   "mimetype": "text/x-python",
   "name": "python",
   "nbconvert_exporter": "python",
   "pygments_lexer": "ipython3",
   "version": "3.12.4"
  }
 },
 "nbformat": 4,
 "nbformat_minor": 2
}
