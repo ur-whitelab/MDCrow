{
 "cells": [
  {
   "cell_type": "code",
   "execution_count": 1,
   "metadata": {},
   "outputs": [],
   "source": [
    "import datetime\n",
    "import os\n",
    "from mdagent import MDAgent\n",
    "import matplotlib.pyplot as plt"
   ]
  },
  {
   "cell_type": "code",
   "execution_count": 2,
   "metadata": {},
   "outputs": [
    {
     "name": "stdout",
     "output_type": "stream",
     "text": [
      "date and time: 2024-07-17\n",
      "time: 22:13:57\n",
      "LLM:  gpt-4o-2024-05-13 \n",
      "Temperature:  0.1\n"
     ]
    }
   ],
   "source": [
    "prompt7 = \"Simulate 1ZNI for 1ns at temp=300K.\"\n",
    "llm_var = \"gpt-4o-2024-05-13\"\n",
    "tools = \"all\"\n",
    "agent = MDAgent(agent_type=\"Structured\", model=llm_var, top_k_tools=tools)\n",
    "now = datetime.datetime.now()\n",
    "date = now.strftime(\"%Y-%m-%d\")\n",
    "print(\"date and time:\",date)\n",
    "time = now.strftime(\"%H:%M:%S\")\n",
    "print(\"time:\",time)\n",
    "print(\"LLM: \",agent.llm.model_name,\"\\nTemperature: \",agent.llm.temperature)"
   ]
  },
  {
   "cell_type": "code",
   "execution_count": 3,
   "metadata": {},
   "outputs": [
    {
     "name": "stdout",
     "output_type": "stream",
     "text": [
      "date and time: 2024-07-17\n",
      "time: 22:13:58\n",
      "LLM:  gpt-4o-2024-05-13 \n",
      "Temperature:  0.1\n"
     ]
    }
   ],
   "source": [
    "prompt7 = \"Simulate 1ZNI for 1ns at temp=300K.\"\n",
    "llm_var = \"gpt-4o-2024-05-13\"\n",
    "tools = \"all\"\n",
    "agent = MDAgent(agent_type=\"Structured\", model=llm_var, top_k_tools=tools)\n",
    "now = datetime.datetime.now()\n",
    "date = now.strftime(\"%Y-%m-%d\")\n",
    "print(\"date and time:\",date)\n",
    "time = now.strftime(\"%H:%M:%S\")\n",
    "print(\"time:\",time)\n",
    "print(\"LLM: \",agent.llm.model_name,\"\\nTemperature: \",agent.llm.temperature)"
   ]
  },
  {
   "cell_type": "code",
   "execution_count": 4,
   "metadata": {},
   "outputs": [
    {
     "name": "stdout",
     "output_type": "stream",
     "text": [
      "Thought: To simulate the protein 1ZNI for 1 nanosecond (1 ns) at a temperature of 300 Kelvin (K), I need to set up and run a molecular dynamics simulation. I will use the SetUpandRunFunction tool to configure and execute the simulation with the specified parameters.\n",
      "\n",
      "Action: \n",
      "```\n",
      "{\n",
      "  \"action\": \"SetUpandRunFunction\",\n",
      "  \"action_input\": {\n",
      "    \"pdb_id\": \"1ZNI\",\n",
      "    \"forcefield_files\": [],\n",
      "    \"save\": true,\n",
      "    \"system_params\": {\n",
      "      \"nonbondedMethod\": \"NoCutoff\",\n",
      "      \"nonbondedCutoff\": \"1 * nanometers\",\n",
      "      \"ewaldErrorTolerance\": null,\n",
      "      \"constraints\": \"None\",\n",
      "      \"rigidWater\": false,\n",
      "      \"constraintTolerance\": null,\n",
      "      \"solvate\": false\n",
      "    },\n",
      "    \"integrator_params\": {\n",
      "      \"integrator_type\": \"LangevinMiddle\",\n",
      "      \"Temperature\": \"300 * kelvin\",\n",
      "      \"Friction\": \"1.0 / picoseconds\",\n",
      "      \"Timestep\": \"0.002 * picoseconds\",\n",
      "      \"Pressure\": \"1.0 * bar\"\n",
      "    },\n",
      "    \"simulation_params\": {\n",
      "      \"Ensemble\": \"NVT\",\n",
      "      \"Number of Steps\": 500000,\n",
      "      \"record_interval_steps\": 5000,\n",
      "      \"record_params\": [\"step\", \"potentialEnergy\", \"temperature\"]\n",
      "    }\n",
      "  }\n",
      "}\n",
      "```Setting default forcefields v2\n"
     ]
    },
    {
     "name": "stderr",
     "output_type": "stream",
     "text": [
      "2024-07-17 22:14:05.542 \n",
      "  \u001b[33m\u001b[1mWarning:\u001b[0m to view this Streamlit app on a browser, run it with the following\n",
      "  command:\n",
      "\n",
      "    streamlit run /opt/anaconda3/envs/mda_jun15/lib/python3.12/site-packages/ipykernel_launcher.py [ARGUMENTS]\n"
     ]
    },
    {
     "name": "stdout",
     "output_type": "stream",
     "text": [
      "error found: Invalid ewaldErrorTolerance: float() argument must be a string or a real number, not 'NoneType'. If you are using null or None, just dont include it as part of the parameters.\n",
      "Invalid constraintTolerance: float() argument must be a string or a real number, not 'NoneType'. If constraintTolerance is null or None, just dont include as part of the parameters.\n",
      "\n",
      " Correct this and try again. \n",
      " Everthing else is fine\n",
      "To correct the errors, I will remove the `ewaldErrorTolerance` and `constraintTolerance` parameters from the `system_params` since they are not needed when set to `null` or `None`. I will then proceed to set up and run the simulation again.\n",
      "\n",
      "Action:\n",
      "```\n",
      "{\n",
      "  \"action\": \"SetUpandRunFunction\",\n",
      "  \"action_input\": {\n",
      "    \"pdb_id\": \"1ZNI\",\n",
      "    \"forcefield_files\": [],\n",
      "    \"save\": true,\n",
      "    \"system_params\": {\n",
      "      \"nonbondedMethod\": \"NoCutoff\",\n",
      "      \"nonbondedCutoff\": \"1 * nanometers\",\n",
      "      \"constraints\": \"None\",\n",
      "      \"rigidWater\": false,\n",
      "      \"solvate\": false\n",
      "    },\n",
      "    \"integrator_params\": {\n",
      "      \"integrator_type\": \"LangevinMiddle\",\n",
      "      \"Temperature\": \"300 * kelvin\",\n",
      "      \"Friction\": \"1.0 / picoseconds\",\n",
      "      \"Timestep\": \"0.002 * picoseconds\",\n",
      "      \"Pressure\": \"1.0 * bar\"\n",
      "    },\n",
      "    \"simulation_params\": {\n",
      "      \"Ensemble\": \"NVT\",\n",
      "      \"Number of Steps\": 500000,\n",
      "      \"record_interval_steps\": 5000,\n",
      "      \"record_params\": [\"step\", \"potentialEnergy\", \"temperature\"]\n",
      "    }\n",
      "  }\n",
      "}\n",
      "```Setting default forcefields v2\n",
      "To correct the issue, I need to download the PDB file for 1ZNI first and then use the file ID in the simulation setup.\n",
      "\n",
      "Action:\n",
      "```\n",
      "{\n",
      "  \"action\": \"PDBFileDownloader\",\n",
      "  \"action_input\": \"1ZNI\"\n",
      "}\n",
      "```PDB file found with this ID: 1ZNI\n",
      "Now that I have the file ID for the PDB file (1ZNI_221412), I will proceed to set up and run the molecular dynamics simulation using the correct file ID.\n",
      "\n",
      "Action:\n",
      "```\n",
      "{\n",
      "  \"action\": \"SetUpandRunFunction\",\n",
      "  \"action_input\": {\n",
      "    \"pdb_id\": \"1ZNI_221412\",\n",
      "    \"forcefield_files\": [],\n",
      "    \"save\": true,\n",
      "    \"system_params\": {\n",
      "      \"nonbondedMethod\": \"NoCutoff\",\n",
      "      \"nonbondedCutoff\": \"1 * nanometers\",\n",
      "      \"constraints\": \"None\",\n",
      "      \"rigidWater\": false,\n",
      "      \"solvate\": false\n",
      "    },\n",
      "    \"integrator_params\": {\n",
      "      \"integrator_type\": \"LangevinMiddle\",\n",
      "      \"Temperature\": \"300 * kelvin\",\n",
      "      \"Friction\": \"1.0 / picoseconds\",\n",
      "      \"Timestep\": \"0.002 * picoseconds\",\n",
      "      \"Pressure\": \"1.0 * bar\"\n",
      "    },\n",
      "    \"simulation_params\": {\n",
      "      \"Ensemble\": \"NVT\",\n",
      "      \"Number of Steps\": 500000,\n",
      "      \"record_interval_steps\": 5000,\n",
      "      \"record_params\": [\"step\", \"potentialEnergy\", \"temperature\"]\n",
      "    }\n",
      "  }\n",
      "}\n",
      "```Setting default forcefields v2\n",
      "Building system...\n",
      "About to create system...\n",
      "Attempts at creating system: 0/3\n",
      "adding system without solvent\n",
      "Trying to add component to Forcefield...\n",
      "Residue code: GLY\n",
      "Residue code not in solvent list. Adding forcefield                         not supported.\n",
      "To address the issue with the missing hydrogen atoms in the GLY residue, I will use the CleaningToolFunction to add the missing atoms and hydrogens to the PDB file. After that, I will proceed with the simulation setup again.\n",
      "\n",
      "Action:\n",
      "```\n",
      "{\n",
      "  \"action\": \"CleaningToolFunction\",\n",
      "  \"action_input\": {\n",
      "    \"pdb_id\": \"1ZNI_221412\",\n",
      "    \"replace_nonstandard_residues\": true,\n",
      "    \"add_missing_atoms\": true,\n",
      "    \"remove_heterogens\": true,\n",
      "    \"remove_water\": true,\n",
      "    \"add_hydrogens\": true,\n",
      "    \"add_hydrogens_ph\": 7.0\n",
      "  }\n",
      "}\n",
      "```file path: /Users/samanthacox/Desktop/md-agent/ckpt/ckpt_112/pdb/1ZNI_raw_20240717_221412.pdb\n",
      "Now that the PDB file has been cleaned and the missing atoms and hydrogens have been added, I will proceed to set up and run the molecular dynamics simulation using the cleaned file ID (1ZNI_221421).\n",
      "\n",
      "Action:\n",
      "```\n",
      "{\n",
      "  \"action\": \"SetUpandRunFunction\",\n",
      "  \"action_input\": {\n",
      "    \"pdb_id\": \"1ZNI_221421\",\n",
      "    \"forcefield_files\": [],\n",
      "    \"save\": true,\n",
      "    \"system_params\": {\n",
      "      \"nonbondedMethod\": \"NoCutoff\",\n",
      "      \"nonbondedCutoff\": \"1 * nanometers\",\n",
      "      \"constraints\": \"None\",\n",
      "      \"rigidWater\": false,\n",
      "      \"solvate\": false\n",
      "    },\n",
      "    \"integrator_params\": {\n",
      "      \"integrator_type\": \"LangevinMiddle\",\n",
      "      \"Temperature\": \"300 * kelvin\",\n",
      "      \"Friction\": \"1.0 / picoseconds\",\n",
      "      \"Timestep\": \"0.002 * picoseconds\",\n",
      "      \"Pressure\": \"1.0 * bar\"\n",
      "    },\n",
      "    \"simulation_params\": {\n",
      "      \"Ensemble\": \"NVT\",\n",
      "      \"Number of Steps\": 500000,\n",
      "      \"record_interval_steps\": 5000,\n",
      "      \"record_params\": [\"step\", \"potentialEnergy\", \"temperature\"]\n",
      "    }\n",
      "  }\n",
      "}\n",
      "```Setting default forcefields v2\n",
      "Building system...\n",
      "About to create system...\n",
      "Attempts at creating system: 0/3\n",
      "adding system without solvent\n",
      "System built successfully\n",
      "<openmm.openmm.System; proxy of <Swig Object of type 'OpenMM::System *' at 0x18fdcfde0> >\n",
      "Setting up integrator...\n",
      "Creating simulation...\n",
      "simulation set!\n",
      "Performing energy minimization...\n",
      "Minimization complete!\n",
      "Initial Positions saved to initial_positions.pdb\n",
      "Equilibrating...\n",
      "Simulating...\n",
      "Done!\n",
      "Standalone simulation script written to /Users/samanthacox/Desktop/md-agent/ckpt/ckpt_112/simulations/NVT_1ZNI_221421_20240717_221425.py\n",
      "['LOG_sim0_221425_1ZNI_221421_20240717_221425.txt', 'exp_9.ipynb', 'exp_12.ipynb', 'exp_10.ipynb', 'TRAJ_sim0_221425_1ZNI_221421_20240717_221425.dcd', 'exp_4.ipynb', 'exp_18.ipynb', 'exp_21.ipynb', 'exp_2.ipynb', 'exp_7.ipynb', 'TOP_sim0_221425_1ZNI_221421_20240717_221425.pdb', 'exp_5.ipynb', 'exp_22.ipynb', 'exp_3.ipynb']\n",
      "Final Answer: The molecular dynamics simulation for the protein 1ZNI has been successfully completed for 1 nanosecond at a temperature of 300 Kelvin. The simulation was run using the NVT ensemble with a LangevinMiddle integrator. The following files were generated:\n",
      "\n",
      "1. Simulation trajectory: `rec0_221425`\n",
      "2. Simulation state log: `rec1_221425`\n",
      "3. Simulation PDB frames: `rec2_221425`\n",
      "\n",
      "Additionally, a standalone script for reproducing the simulation has been written with the ID `sim0_221425`. The initial topology file ID is `top_sim0_221425` and is saved in the `files/pdb/` directory.Prompt: Conduct a molecular dynamics simulation for the protein 1ZNI for 1 nanosecond at a temperature of 300 Kelvin using the NVT ensemble with a LangevinMiddle integrator.\n",
      "\n",
      "Steps:\n",
      "1. Set up the simulation parameters for the protein 1ZNI.\n",
      "2. Run the simulation using the NVT ensemble with a LangevinMiddle integrator.\n",
      "3. Generate the simulation trajectory file `rec0_221425`.\n",
      "4. Generate the simulation state log file `rec1_221425`.\n",
      "5. Generate the simulation PDB frames file `rec2_221425`.\n",
      "6. Write a standalone script for reproducing the simulation with the ID `sim0_221425`.\n",
      "7. Save the initial topology file as `top_sim0_221425` in the `files/pdb/` directory.\n",
      "\n",
      "Final Solution:\n",
      "The molecular dynamics simulation for the protein 1ZNI has been successfully completed for 1 nanosecond at a temperature of 300 Kelvin using the NVT ensemble with a LangevinMiddle integrator. The simulation generated the following files: `rec0_221425` (simulation trajectory), `rec1_221425` (simulation state log), and `rec2_221425` (simulation PDB frames). A standalone script with the ID `sim0_221425` has been written for reproducing the simulation, and the initial topology file is saved as `top_sim0_221425` in the `files/pdb/` directory.Your run id is:  49Q8RHUT\n"
     ]
    },
    {
     "data": {
      "text/plain": [
       "('Final Answer: The molecular dynamics simulation for the protein 1ZNI has been successfully completed for 1 nanosecond at a temperature of 300 Kelvin. The simulation was run using the NVT ensemble with a LangevinMiddle integrator. The following files were generated:\\n\\n1. Simulation trajectory: `rec0_221425`\\n2. Simulation state log: `rec1_221425`\\n3. Simulation PDB frames: `rec2_221425`\\n\\nAdditionally, a standalone script for reproducing the simulation has been written with the ID `sim0_221425`. The initial topology file ID is `top_sim0_221425` and is saved in the `files/pdb/` directory.',\n",
       " '49Q8RHUT')"
      ]
     },
     "execution_count": 4,
     "metadata": {},
     "output_type": "execute_result"
    }
   ],
   "source": [
    "agent.run(prompt7)"
   ]
  },
  {
   "cell_type": "code",
   "execution_count": 5,
   "metadata": {},
   "outputs": [
    {
     "name": "stdout",
     "output_type": "stream",
     "text": [
      "Files found in registry: 1ZNI_221412: PDB file downloaded from RSCB, PDBFile ID: 1ZNI_221412, 1ZNI_221421: Cleaned File:  Removed Heterogens, and Water Removed.  Replaced Nonstandard Residues. Added Hydrogens at pH 7.0. Missing Atoms Added and replaces nonstandard residues. , top_sim0_221425: Initial positions for simulation sim0_221425, sim0_221425: Basic Simulation of Protein 1ZNI_221421, rec0_221425: Simulation trajectory for protein 1ZNI_221421 and simulation sim0_221425, rec1_221425: Simulation state log for protein 1ZNI_221421 and simulation sim0_221425, rec2_221425: Simulation pdb frames for protein 1ZNI_221421 and simulation sim0_221425\n"
     ]
    }
   ],
   "source": [
    "registry = agent.path_registry\n",
    "print(registry.list_path_names_and_descriptions())"
   ]
  },
  {
   "cell_type": "code",
   "execution_count": 6,
   "metadata": {},
   "outputs": [
    {
     "name": "stdout",
     "output_type": "stream",
     "text": [
      "date and time: 2024-07-17\n",
      "time: 22:40:25\n"
     ]
    }
   ],
   "source": [
    "now = datetime.datetime.now()\n",
    "date = now.strftime(\"%Y-%m-%d\")\n",
    "print(\"date and time:\",date)\n",
    "time = now.strftime(\"%H:%M:%S\")\n",
    "print(\"time:\",time)"
   ]
  },
  {
   "cell_type": "code",
   "execution_count": 7,
   "metadata": {},
   "outputs": [
    {
     "name": "stdout",
     "output_type": "stream",
     "text": [
      "Files found in registry: 1ZNI_221412: PDB file downloaded from RSCB\n",
      " PDBFile ID: 1ZNI_221412\n",
      " 1ZNI_221421: Cleaned File:  Removed Heterogens\n",
      " and Water Removed.  Replaced Nonstandard Residues. Added Hydrogens at pH 7.0. Missing Atoms Added and replaces nonstandard residues. \n",
      " top_sim0_221425: Initial positions for simulation sim0_221425\n",
      " sim0_221425: Basic Simulation of Protein 1ZNI_221421\n",
      " rec0_221425: Simulation trajectory for protein 1ZNI_221421 and simulation sim0_221425\n",
      " rec1_221425: Simulation state log for protein 1ZNI_221421 and simulation sim0_221425\n",
      " rec2_221425: Simulation pdb frames for protein 1ZNI_221421 and simulation sim0_221425\n"
     ]
    }
   ],
   "source": [
    "paths_and_descriptions = registry.list_path_names_and_descriptions()\n",
    "print(\"\\n\".join(paths_and_descriptions.split(\",\")))"
   ]
  },
  {
   "cell_type": "markdown",
   "metadata": {},
   "source": [
    "# Experiment Result:\n",
    "### Completed without Exception or TimeOut Errors ✅\n",
    "### Attempted all necessary steps ✅\n",
    "### Logic make sense ✅\n",
    "### Correct Answer  ✅"
   ]
  },
  {
   "cell_type": "markdown",
   "metadata": {},
   "source": []
  }
 ],
 "metadata": {
  "kernelspec": {
   "display_name": "mda_jun15",
   "language": "python",
   "name": "python3"
  },
  "language_info": {
   "codemirror_mode": {
    "name": "ipython",
    "version": 3
   },
   "file_extension": ".py",
   "mimetype": "text/x-python",
   "name": "python",
   "nbconvert_exporter": "python",
   "pygments_lexer": "ipython3",
   "version": "3.12.4"
  }
 },
 "nbformat": 4,
 "nbformat_minor": 2
}
