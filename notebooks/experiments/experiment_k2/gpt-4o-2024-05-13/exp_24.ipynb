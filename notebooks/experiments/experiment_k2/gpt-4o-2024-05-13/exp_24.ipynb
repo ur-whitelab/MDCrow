{
 "cells": [
  {
   "cell_type": "code",
   "execution_count": 1,
   "metadata": {},
   "outputs": [],
   "source": [
    "import datetime\n",
    "import os\n",
    "from mdagent import MDAgent\n",
    "import matplotlib.pyplot as plt"
   ]
  },
  {
   "cell_type": "code",
   "execution_count": 2,
   "metadata": {},
   "outputs": [
    {
     "name": "stdout",
     "output_type": "stream",
     "text": [
      "date and time: 2024-07-25\n",
      "time: 16:14:33\n",
      "LLM:  gpt-4o-2024-05-13 \n",
      "Temperature:  0.1\n"
     ]
    }
   ],
   "source": [
    "prompt24 = \"Analyze the rdf of the simulation of 1A3N solvated in water\"\n",
    "llm_var = \"gpt-4o-2024-05-13\"\n",
    "tools = \"all\"\n",
    "agent = MDAgent(agent_type=\"Structured\", model=llm_var, top_k_tools=tools)\n",
    "now = datetime.datetime.now()\n",
    "date = now.strftime(\"%Y-%m-%d\")\n",
    "print(\"date and time:\",date)\n",
    "time = now.strftime(\"%H:%M:%S\")\n",
    "print(\"time:\",time)\n",
    "print(\"LLM: \",agent.llm.model_name,\"\\nTemperature: \",agent.llm.temperature)"
   ]
  },
  {
   "cell_type": "code",
   "execution_count": 3,
   "metadata": {},
   "outputs": [
    {
     "name": "stdout",
     "output_type": "stream",
     "text": [
      "Thought: To analyze the radial distribution function (RDF) of the simulation of 1A3N solvated in water, I need to ensure that I have the necessary trajectory and topology files for the simulation. I will use the RDFTool to calculate the RDF.\n",
      "\n",
      "Action: \n",
      "```\n",
      "{\n",
      "  \"action\": \"RDFTool\",\n",
      "  \"action_input\": {\n",
      "    \"input\": {\n",
      "      \"trajectory_fileid\": \"1A3N_trajectory\",\n",
      "      \"topology_fileid\": \"1A3N_topology\"\n",
      "    }\n",
      "  }\n",
      "}\n",
      "```File ID not in Path Registry in RDF tool:  Trajectory File ID not in path registry\n",
      "To proceed with the RDF analysis of the simulation of 1A3N solvated in water, I need to first ensure that the necessary files are available in the path registry. I will list the available paths to check if the required files are present.\n",
      "\n",
      "Action:\n",
      "```\n",
      "{\n",
      "  \"action\": \"ListRegistryPaths\",\n",
      "  \"action_input\": {\n",
      "    \"paths\": \"paths\"\n",
      "  }\n",
      "}\n",
      "```To proceed with the RDF analysis of the simulation of 1A3N solvated in water, I need to first download the necessary PDB file for 1A3N. Once I have the PDB file, I can set up and run a short simulation to generate the required trajectory and topology files.\n",
      "\n",
      "Action:\n",
      "```\n",
      "{\n",
      "  \"action\": \"PDBFileDownloader\",\n",
      "  \"action_input\": {\n",
      "    \"query\": \"1A3N\"\n",
      "  }\n",
      "}\n",
      "```PDB file found with this ID: 1A3N\n"
     ]
    },
    {
     "name": "stderr",
     "output_type": "stream",
     "text": [
      "2024-07-25 16:14:41.147 \n",
      "  \u001b[33m\u001b[1mWarning:\u001b[0m to view this Streamlit app on a browser, run it with the following\n",
      "  command:\n",
      "\n",
      "    streamlit run /scratch/qcampbe2/myenvs/mdagent/lib/python3.12/site-packages/ipykernel_launcher.py [ARGUMENTS]\n"
     ]
    },
    {
     "name": "stdout",
     "output_type": "stream",
     "text": [
      "To proceed with the RDF analysis of the simulation of 1A3N solvated in water, I need to set up and run a short simulation to generate the required trajectory and topology files. I will use the `SetUpandRunFunction` tool for this purpose.\n",
      "\n",
      "Action:\n",
      "```\n",
      "{\n",
      "  \"action\": \"SetUpandRunFunction\",\n",
      "  \"action_input\": {\n",
      "    \"pdb_id\": \"1A3N_161441\",\n",
      "    \"forcefield_files\": [],\n",
      "    \"save\": true,\n",
      "    \"system_params\": {\n",
      "      \"nonbondedMethod\": \"CutoffPeriodic\",\n",
      "      \"nonbondedCutoff\": \"1.0 * nanometers\",\n",
      "      \"constraints\": \"HBonds\",\n",
      "      \"rigidWater\": true,\n",
      "      \"constraintTolerance\": 0.00001,\n",
      "      \"solvate\": true\n",
      "    },\n",
      "    \"integrator_params\": {\n",
      "      \"integrator_type\": \"LangevinMiddle\",\n",
      "      \"Temperature\": \"300 * kelvin\",\n",
      "      \"Friction\": \"1.0 / picoseconds\",\n",
      "      \"Timestep\": \"0.002 * picoseconds\",\n",
      "      \"Pressure\": \"1.0 * bar\"\n",
      "    },\n",
      "    \"simulation_params\": {\n",
      "      \"Ensemble\": \"NPT\",\n",
      "      \"Number of Steps\": 5000,\n",
      "      \"record_interval_steps\": 50,\n",
      "      \"record_params\": [\"step\", \"potentialEnergy\", \"temperature\"]\n",
      "    }\n",
      "  }\n",
      "}\n",
      "```\n",
      "Setting default forcefields v2\n",
      "Building system...\n",
      "About to create system...\n",
      "Attempts at creating system: 0/3\n",
      "Error adding solvent ValueError – No template found for residue 1 (VAL).  The set of atoms is similar to PRO, but it is missing 7 hydrogen atoms.  For more information, see https://github.com/openmm/openmm/wiki/Frequently-Asked-Questions#template\n",
      "Residue code: VAL\n",
      "Residue code not in solvent list. Adding forcefield                         not supported.\n",
      "To proceed with the RDF analysis of the simulation of 1A3N solvated in water, I need to address the issue with the missing hydrogen atoms in the VAL residue. I will use the `CleaningToolFunction` to add the missing atoms and hydrogens to the PDB file.\n",
      "\n",
      "Action:\n",
      "```\n",
      "{\n",
      "  \"action\": \"CleaningToolFunction\",\n",
      "  \"action_input\": {\n",
      "    \"pdb_id\": \"1A3N_161441\",\n",
      "    \"replace_nonstandard_residues\": true,\n",
      "    \"add_missing_atoms\": true,\n",
      "    \"remove_heterogens\": true,\n",
      "    \"remove_water\": false,\n",
      "    \"add_hydrogens\": true,\n",
      "    \"add_hydrogens_ph\": 7.0\n",
      "  }\n",
      "}\n",
      "```file path: /gpfs/fs2/scratch/qcampbe2/repos/md-agent/ckpt/ckpt_68/pdb/1A3N_raw_20240725_161441.pdb\n",
      "To proceed with the RDF analysis of the simulation of 1A3N solvated in water, I need to set up and run a short simulation using the cleaned PDB file to generate the required trajectory and topology files. I will use the `SetUpandRunFunction` tool for this purpose.\n",
      "\n",
      "Action:\n",
      "```\n",
      "{\n",
      "  \"action\": \"SetUpandRunFunction\",\n",
      "  \"action_input\": {\n",
      "    \"pdb_id\": \"1A3N_161517\",\n",
      "    \"forcefield_files\": [],\n",
      "    \"save\": true,\n",
      "    \"system_params\": {\n",
      "      \"nonbondedMethod\": \"CutoffPeriodic\",\n",
      "      \"nonbondedCutoff\": \"1.0 * nanometers\",\n",
      "      \"constraints\": \"HBonds\",\n",
      "      \"rigidWater\": true,\n",
      "      \"constraintTolerance\": 0.00001,\n",
      "      \"solvate\": true\n",
      "    },\n",
      "    \"integrator_params\": {\n",
      "      \"integrator_type\": \"LangevinMiddle\",\n",
      "      \"Temperature\": \"300 * kelvin\",\n",
      "      \"Friction\": \"1.0 / picoseconds\",\n",
      "      \"Timestep\": \"0.002 * picoseconds\",\n",
      "      \"Pressure\": \"1.0 * bar\"\n",
      "    },\n",
      "    \"simulation_params\": {\n",
      "      \"Ensemble\": \"NPT\",\n",
      "      \"Number of Steps\": 5000,\n",
      "      \"record_interval_steps\": 50,\n",
      "      \"record_params\": [\"step\", \"potentialEnergy\", \"temperature\"]\n",
      "    }\n",
      "  }\n",
      "}\n",
      "```Setting default forcefields v2\n",
      "Building system...\n",
      "About to create system...\n",
      "Attempts at creating system: 0/3\n",
      "System built successfully\n",
      "<openmm.openmm.System; proxy of <Swig Object of type 'OpenMM::System *' at 0x7f87310b7d80> >\n",
      "Setting up integrator...\n",
      "Creating simulation...\n",
      "simulation set!\n",
      "Performing energy minimization...\n",
      "Minimization complete!\n",
      "Initial Positions saved to initial_positions.pdb\n",
      "Equilibrating...\n",
      "Simulating...\n",
      "Done!\n",
      "Standalone simulation script written to /gpfs/fs2/scratch/qcampbe2/repos/md-agent/ckpt/ckpt_68/simulations/NPT_1A3N_161517_20240725_161523.py\n",
      "['exp_10.ipynb', 'TRAJ_sim0_155435_2YXF_155429_20240725_155437.dcd', 'exp_13.ipynb', 'exp_22.ipynb', 'exp_8.ipynb', 'TRAJ_sim0_161523_1A3N_161517_20240725_161529.dcd', 'exp_3.ipynb', 'exp_1.ipynb', '.ipynb_checkpoints', 'exp_4.ipynb', 'packmol.inp', 'exp_24.ipynb', 'exp_12.ipynb', 'exp_19.ipynb', 'TOP_sim0_155435_2YXF_155429_20240725_155437.pdb', 'exp_9.ipynb', 'exp_5.ipynb', 'exp_7.ipynb', 'exp_2.ipynb', 'exp_18.ipynb', 'exp_14.ipynb', 'exp_6.ipynb', 'exp_20.ipynb', 'exp_23.ipynb', 'exp_11.ipynb', 'exp_21.ipynb', 'exp_25.ipynb', 'LOG_sim0_161523_1A3N_161517_20240725_161529.txt', 'LOG_sim0_155435_2YXF_155429_20240725_155437.txt', 'TOP_sim0_161523_1A3N_161517_20240725_161529.pdb']\n",
      "Now that the simulation has been successfully completed and the necessary trajectory and topology files have been generated, I can proceed with the RDF analysis of the simulation of 1A3N solvated in water using the RDFTool.\n",
      "\n",
      "Action:\n",
      "```\n",
      "{\n",
      "  \"action\": \"RDFTool\",\n",
      "  \"action_input\": {\n",
      "    \"input\": {\n",
      "      \"trajectory_fileid\": \"rec0_161529\",\n",
      "      \"topology_fileid\": \"top_sim0_161523\"\n",
      "    }\n",
      "  }\n",
      "}\n",
      "```The RDF analysis of the simulation of 1A3N solvated in water has been successfully completed. The radial distribution function (RDF) plot has been generated.\n",
      "\n",
      "Final Answer: The RDF analysis for the simulation of 1A3N solvated in water has been successfully completed. The RDF plot is available and can be used for further analysis. The plot file ID is fig0_161952.Prompt: Analyze the simulation of 1A3N solvated in water using RDF analysis.\n",
      "\n",
      "Steps:\n",
      "1. Obtain the simulation data for 1A3N solvated in water.\n",
      "2. Perform RDF analysis on the simulation data.\n",
      "3. Generate the RDF plot.\n",
      "4. Verify the accuracy of the RDF plot.\n",
      "5. Save the RDF plot for future reference.\n",
      "\n",
      "Final Solution: The RDF analysis for the simulation of 1A3N solvated in water has been successfully completed. The RDF plot is available for further analysis, with the plot file ID being fig0_161952.Your run id is:  SOJZMCLV\n"
     ]
    },
    {
     "data": {
      "text/plain": [
       "('The RDF analysis of the simulation of 1A3N solvated in water has been successfully completed. The radial distribution function (RDF) plot has been generated.\\n\\nFinal Answer: The RDF analysis for the simulation of 1A3N solvated in water has been successfully completed. The RDF plot is available and can be used for further analysis. The plot file ID is fig0_161952.',\n",
       " 'SOJZMCLV')"
      ]
     },
     "execution_count": 3,
     "metadata": {},
     "output_type": "execute_result"
    }
   ],
   "source": [
    "agent.run(prompt24)"
   ]
  },
  {
   "cell_type": "code",
   "execution_count": 4,
   "metadata": {},
   "outputs": [
    {
     "name": "stdout",
     "output_type": "stream",
     "text": [
      "date and time: 2024-07-25\n",
      "time: 16:19:55\n",
      "Files found in registry: 1A3N_161441: PDB file downloaded from RSCB\n",
      " PDBFile ID: 1A3N_161441\n",
      " 1A3N_161517: Cleaned File:  Removed Heterogens\n",
      " and Water Kept.  Replaced Nonstandard Residues. Added Hydrogens at pH 7.0. Missing Atoms Added and replaces nonstandard residues. \n",
      " top_sim0_161523: Initial positions for simulation sim0_161523\n",
      " sim0_161523: Basic Simulation of Protein 1A3N_161517\n",
      " rec0_161529: Simulation trajectory for protein 1A3N_161517 and simulation sim0_161523\n",
      " rec1_161529: Simulation state log for protein 1A3N_161517 and simulation sim0_161523\n",
      " rec2_161529: Simulation pdb frames for protein 1A3N_161517 and simulation sim0_161523\n",
      " fig0_161952: RDF plot for the trajectory file with id: rec0_161529\n"
     ]
    }
   ],
   "source": [
    "now = datetime.datetime.now()\n",
    "date = now.strftime(\"%Y-%m-%d\")\n",
    "print(\"date and time:\",date)\n",
    "time = now.strftime(\"%H:%M:%S\")\n",
    "print(\"time:\",time)\n",
    "registry = agent.path_registry\n",
    "paths_and_descriptions = registry.list_path_names_and_descriptions()\n",
    "print(\"\\n\".join(paths_and_descriptions.split(\",\")))"
   ]
  },
  {
   "cell_type": "code",
   "execution_count": 6,
   "metadata": {},
   "outputs": [],
   "source": [
    "path_traj = registry.get_mapped_path(\"rec0_161529\")\n",
    "path_top = registry.get_mapped_path(\"top_sim0_161523\")\n",
    "assert os.path.exists(path_traj)\n",
    "assert os.path.exists(path_top)\n",
    "assert path_traj != path_top\n",
    "\n",
    "assert path_traj.endswith(\".dcd\")\n",
    "assert path_top.endswith(\".pdb\")"
   ]
  },
  {
   "cell_type": "code",
   "execution_count": 7,
   "metadata": {},
   "outputs": [
    {
     "name": "stdout",
     "output_type": "stream",
     "text": [
      "Simulation with :24374 for 120 frames. Total time: 0.23800000000000002 ps\n"
     ]
    }
   ],
   "source": [
    "import mdtraj as md\n",
    "traj = md.load(path_traj, top=path_top)\n",
    "print(f\"Simulation with :{traj.n_atoms} for {traj.n_frames} frames. Total time: {traj.time[-1]*0.002} ps\")"
   ]
  },
  {
   "cell_type": "code",
   "execution_count": 9,
   "metadata": {
    "scrolled": true
   },
   "outputs": [
    {
     "ename": "AssertionError",
     "evalue": "Path either is incorrect or doesn't exist",
     "output_type": "error",
     "traceback": [
      "\u001b[0;31m---------------------------------------------------------------------------\u001b[0m",
      "\u001b[0;31mAssertionError\u001b[0m                            Traceback (most recent call last)",
      "Cell \u001b[0;32mIn[9], line 2\u001b[0m\n\u001b[1;32m      1\u001b[0m rdf_path \u001b[38;5;241m=\u001b[39m registry\u001b[38;5;241m.\u001b[39mget_mapped_path(\u001b[38;5;124m\"\u001b[39m\u001b[38;5;124mfig0_161952\u001b[39m\u001b[38;5;124m\"\u001b[39m)\n\u001b[0;32m----> 2\u001b[0m \u001b[38;5;28;01massert\u001b[39;00m os\u001b[38;5;241m.\u001b[39mpath\u001b[38;5;241m.\u001b[39mexists(rdf_path), \u001b[38;5;124m\"\u001b[39m\u001b[38;5;124mPath either is incorrect or doesn\u001b[39m\u001b[38;5;124m'\u001b[39m\u001b[38;5;124mt exist\u001b[39m\u001b[38;5;124m\"\u001b[39m\n\u001b[1;32m      3\u001b[0m \u001b[38;5;66;03m#Disclaimer: Theres a bug in the rdf path saving. The image was created correctly, but the path was not saved correctly.\u001b[39;00m\n\u001b[1;32m      4\u001b[0m \u001b[38;5;28;01mfrom\u001b[39;00m \u001b[38;5;21;01mIPython\u001b[39;00m\u001b[38;5;21;01m.\u001b[39;00m\u001b[38;5;21;01mdisplay\u001b[39;00m \u001b[38;5;28;01mimport\u001b[39;00m Image\n",
      "\u001b[0;31mAssertionError\u001b[0m: Path either is incorrect or doesn't exist"
     ]
    }
   ],
   "source": [
    "rdf_path = registry.get_mapped_path(\"fig0_161952\")\n",
    "assert os.path.exists(rdf_path), \"Path either is incorrect or doesn't exist\"\n",
    "#Disclaimer: Theres a bug in the rdf path saving. The image was created correctly, but the path was not saved correctly.\n",
    "from IPython.display import Image\n",
    "Image(filename=rdf_path)"
   ]
  },
  {
   "cell_type": "code",
   "execution_count": 12,
   "metadata": {},
   "outputs": [
    {
     "data": {
      "image/png": "[encoded data removed]",
      "text/plain": [
       "<IPython.core.display.Image object>"
      ]
     },
     "execution_count": 12,
     "metadata": {},
     "output_type": "execute_result"
    }
   ],
   "source": [
    "# trying to show image from the correct path\n",
    "correct_rdf_path = agent.path_registry.ckpt_figures + \"/rdf_\" + \"rec0_161529\" + \".png\"\n",
    "assert os.path.exists(correct_rdf_path)\n",
    "\n",
    "from IPython.display import Image\n",
    "Image(filename=correct_rdf_path)"
   ]
  },
  {
   "cell_type": "markdown",
   "metadata": {},
   "source": [
    "# Experiment Result:\n",
    "### Completed without Exception or TimeOut Errors ✅\n",
    "### Attempted all necessary steps ✅\n",
    "### Completed without Hallucination ✅\n",
    "### Logic make sense ✅\n",
    "### Correct Answer  ✅"
   ]
  }
 ],
 "metadata": {
  "kernelspec": {
   "display_name": "mdagent",
   "language": "python",
   "name": "mdagent"
  },
  "language_info": {
   "codemirror_mode": {
    "name": "ipython",
    "version": 3
   },
   "file_extension": ".py",
   "mimetype": "text/x-python",
   "name": "python",
   "nbconvert_exporter": "python",
   "pygments_lexer": "ipython3",
   "version": "3.12.4"
  }
 },
 "nbformat": 4,
 "nbformat_minor": 4
}
