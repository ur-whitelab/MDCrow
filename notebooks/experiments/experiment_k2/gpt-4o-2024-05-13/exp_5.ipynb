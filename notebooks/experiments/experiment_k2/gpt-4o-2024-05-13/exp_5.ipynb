{
 "cells": [
  {
   "cell_type": "code",
   "execution_count": 1,
   "metadata": {},
   "outputs": [],
   "source": [
    "import datetime\n",
    "import os\n",
    "from mdagent import MDAgent\n",
    "import matplotlib.pyplot as plt"
   ]
  },
  {
   "cell_type": "code",
   "execution_count": 2,
   "metadata": {},
   "outputs": [
    {
     "name": "stdout",
     "output_type": "stream",
     "text": [
      "date and time: 2024-07-16\n",
      "time: 23:24:18\n",
      "LLM:  gpt-4o-2024-05-13 \n",
      "Temperature:  0.1\n"
     ]
    }
   ],
   "source": [
    "prompt5 = \"Simulate 1XQ8 for 1ns at temperate 300K. Then tell me if the secondary structure changed from before the simulation to after.\"\n",
    "llm_var = \"gpt-4o-2024-05-13\"\n",
    "tools = \"all\"\n",
    "agent = MDAgent(agent_type=\"Structured\", model=llm_var, top_k_tools=tools)\n",
    "now = datetime.datetime.now()\n",
    "date = now.strftime(\"%Y-%m-%d\")\n",
    "print(\"date and time:\",date)\n",
    "time = now.strftime(\"%H:%M:%S\")\n",
    "print(\"time:\",time)\n",
    "print(\"LLM: \",agent.llm.model_name,\"\\nTemperature: \",agent.llm.temperature)"
   ]
  },
  {
   "cell_type": "code",
   "execution_count": 3,
   "metadata": {},
   "outputs": [
    {
     "name": "stdout",
     "output_type": "stream",
     "text": [
      "Thought: To address the question, I need to perform a molecular dynamics simulation of the protein with PDB ID 1XQ8 for 1 nanosecond at a temperature of 300K. After the simulation, I will analyze the secondary structure to determine if there were any changes. The steps are as follows:\n",
      "\n",
      "1. Download the PDB file for 1XQ8.\n",
      "2. Set up and run the molecular dynamics simulation.\n",
      "3. Compute the DSSP (secondary structure) assignment before and after the simulation.\n",
      "4. Compare the secondary structures to identify any changes.\n",
      "\n",
      "First, I will download the PDB file for 1XQ8.\n",
      "\n",
      "Action:\n",
      "```\n",
      "{\n",
      "  \"action\": \"PDBFileDownloader\",\n",
      "  \"action_input\": \"1XQ8\"\n",
      "}\n",
      "```PDB file found with this ID: 1XQ8\n"
     ]
    },
    {
     "name": "stderr",
     "output_type": "stream",
     "text": [
      "2024-07-16 23:24:30.296 \n",
      "  \u001b[33m\u001b[1mWarning:\u001b[0m to view this Streamlit app on a browser, run it with the following\n",
      "  command:\n",
      "\n",
      "    streamlit run /opt/anaconda3/envs/mda_jun15/lib/python3.12/site-packages/ipykernel_launcher.py [ARGUMENTS]\n"
     ]
    },
    {
     "name": "stdout",
     "output_type": "stream",
     "text": [
      "To proceed, I need to set up and run the molecular dynamics simulation for the protein with PDB ID 1XQ8 for 1 nanosecond at a temperature of 300K. \n",
      "\n",
      "Action:\n",
      "```\n",
      "{\n",
      "  \"action\": \"SetUpandRunFunction\",\n",
      "  \"action_input\": {\n",
      "    \"pdb_id\": \"1XQ8_232430\",\n",
      "    \"forcefield_files\": [],\n",
      "    \"save\": true,\n",
      "    \"system_params\": {\n",
      "      \"nonbondedMethod\": \"NoCutoff\",\n",
      "      \"constraints\": \"None\",\n",
      "      \"rigidWater\": false\n",
      "    },\n",
      "    \"integrator_params\": {\n",
      "      \"integrator_type\": \"LangevinMiddle\",\n",
      "      \"Temperature\": \"300 * kelvin\",\n",
      "      \"Friction\": \"1.0 / picoseconds\",\n",
      "      \"Timestep\": \"0.002 * picoseconds\"\n",
      "    },\n",
      "    \"simulation_params\": {\n",
      "      \"Ensemble\": \"NVT\",\n",
      "      \"Number of Steps\": 500000,\n",
      "      \"record_interval_steps\": 5000,\n",
      "      \"record_params\": [\"step\", \"potentialEnergy\", \"temperature\"]\n",
      "    }\n",
      "  }\n",
      "}\n",
      "```Setting default forcefields v2\n",
      "Building system...\n",
      "About to create system...\n",
      "Attempts at creating system: 0/3\n",
      "adding system without solvent\n",
      "System built successfully\n",
      "<openmm.openmm.System; proxy of <Swig Object of type 'OpenMM::System *' at 0x18d239d40> >\n",
      "Setting up integrator...\n",
      "Creating simulation...\n",
      "simulation set!\n",
      "Performing energy minimization...\n",
      "Minimization complete!\n",
      "Initial Positions saved to initial_positions.pdb\n",
      "Equilibrating...\n",
      "Simulating...\n",
      "Done!\n",
      "Standalone simulation script written to /Users/samanthacox/Desktop/md-agent/ckpt/ckpt_101/simulations/NVT_1XQ8_232430_20240716_232435.py\n",
      "['TOP_sim0_232435_1XQ8_232430_20240716_232436.pdb', 'exp_9.ipynb', 'exp_12.ipynb', 'exp_10.ipynb', 'exp_4.ipynb', 'exp_18.ipynb', 'exp_21.ipynb', 'exp_2.ipynb', 'TRAJ_sim0_232435_1XQ8_232430_20240716_232436.dcd', 'LOG_sim0_232435_1XQ8_232430_20240716_232436.txt', 'exp_5.ipynb', 'exp_22.ipynb', 'exp_3.ipynb']\n",
      "To determine if the secondary structure of the protein 1XQ8 changed after the simulation, I need to compute the DSSP (secondary structure) assignment before and after the simulation. I will first compute the DSSP for the initial structure and then for the final structure from the simulation.\n",
      "\n",
      "Action:\n",
      "```\n",
      "{\n",
      "  \"action\": \"ComputeDSSP\",\n",
      "  \"action_input\": {\n",
      "    \"traj_file\": \"rec0_232436\",\n",
      "    \"top_file\": \"top_sim0_232435\"\n",
      "  }\n",
      "}\n",
      "```"
     ]
    },
    {
     "name": "stderr",
     "output_type": "stream",
     "text": [
      "/opt/anaconda3/envs/mda_jun15/lib/python3.12/site-packages/mdtraj/formats/pdb/pdbfile.py:206: UserWarning: Unlikely unit cell vectors detected in PDB file likely resulting from a dummy CRYST1 record. Discarding unit cell vectors.\n",
      "  warnings.warn(\n"
     ]
    },
    {
     "name": "stdout",
     "output_type": "stream",
     "text": [
      "To complete the analysis, I need to compute the DSSP for the initial structure of the protein 1XQ8 before the simulation. This will allow me to compare the secondary structure before and after the simulation to determine if there were any changes.\n",
      "\n",
      "Action:\n",
      "```\n",
      "{\n",
      "  \"action\": \"ComputeDSSP\",\n",
      "  \"action_input\": {\n",
      "    \"traj_file\": \"1XQ8_232430\"\n",
      "  }\n",
      "}\n",
      "```"
     ]
    },
    {
     "name": "stderr",
     "output_type": "stream",
     "text": [
      "/opt/anaconda3/envs/mda_jun15/lib/python3.12/site-packages/mdtraj/formats/pdb/pdbfile.py:206: UserWarning: Unlikely unit cell vectors detected in PDB file likely resulting from a dummy CRYST1 record. Discarding unit cell vectors.\n",
      "  warnings.warn(\n"
     ]
    },
    {
     "name": "stdout",
     "output_type": "stream",
     "text": [
      "To determine if the secondary structure of the protein 1XQ8 changed after the simulation, I need to compare the DSSP (secondary structure) assignments before and after the simulation. Here are the results:\n",
      "\n",
      "- **Before Simulation:**\n",
      "  - Helix: 83\n",
      "  - Strand: 2\n",
      "  - Coil: 55\n",
      "\n",
      "- **After Simulation:**\n",
      "  - Helix: 5901\n",
      "  - Strand: 2\n",
      "  - Coil: 8097\n",
      "\n",
      "The significant increase in the number of residues assigned to helices and coils after the simulation suggests a substantial change in the secondary structure of the protein.\n",
      "\n",
      "Final Answer: The secondary structure of the protein 1XQ8 changed significantly after the 1ns simulation at 300K. The number of residues in helices increased from 83 to 5901, and the number of residues in coils increased from 55 to 8097, while the number of residues in strands remained the same.The agent's task was to determine if the secondary structure of protein 1XQ8 changed after a simulation. The agent compared the DSSP assignments before and after the simulation and found a significant increase in the number of residues assigned to helices and coils. This indicated a substantial change in the protein's secondary structure. The final answer was that the secondary structure of protein 1XQ8 changed significantly after the 1ns simulation at 300K, with a notable increase in helices and coils.Your run id is:  FMQ2MG66\n"
     ]
    },
    {
     "data": {
      "text/plain": [
       "('To determine if the secondary structure of the protein 1XQ8 changed after the simulation, I need to compare the DSSP (secondary structure) assignments before and after the simulation. Here are the results:\\n\\n- **Before Simulation:**\\n  - Helix: 83\\n  - Strand: 2\\n  - Coil: 55\\n\\n- **After Simulation:**\\n  - Helix: 5901\\n  - Strand: 2\\n  - Coil: 8097\\n\\nThe significant increase in the number of residues assigned to helices and coils after the simulation suggests a substantial change in the secondary structure of the protein.\\n\\nFinal Answer: The secondary structure of the protein 1XQ8 changed significantly after the 1ns simulation at 300K. The number of residues in helices increased from 83 to 5901, and the number of residues in coils increased from 55 to 8097, while the number of residues in strands remained the same.',\n",
       " 'FMQ2MG66')"
      ]
     },
     "execution_count": 3,
     "metadata": {},
     "output_type": "execute_result"
    }
   ],
   "source": [
    "agent.run(prompt5)"
   ]
  },
  {
   "cell_type": "code",
   "execution_count": 4,
   "metadata": {},
   "outputs": [
    {
     "name": "stdout",
     "output_type": "stream",
     "text": [
      "date and time: 2024-07-16\n",
      "time: 23:51:57\n"
     ]
    }
   ],
   "source": [
    "now = datetime.datetime.now()\n",
    "date = now.strftime(\"%Y-%m-%d\")\n",
    "print(\"date and time:\",date)\n",
    "time = now.strftime(\"%H:%M:%S\")\n",
    "print(\"time:\",time)"
   ]
  },
  {
   "cell_type": "code",
   "execution_count": 5,
   "metadata": {},
   "outputs": [
    {
     "name": "stdout",
     "output_type": "stream",
     "text": [
      "Files found in registry: 1XQ8_232430: PDB file downloaded from RSCB\n",
      " PDBFile ID: 1XQ8_232430\n",
      " top_sim0_232435: Initial positions for simulation sim0_232435\n",
      " sim0_232435: Basic Simulation of Protein 1XQ8_232430\n",
      " rec0_232436: Simulation trajectory for protein 1XQ8_232430 and simulation sim0_232435\n",
      " rec1_232436: Simulation state log for protein 1XQ8_232430 and simulation sim0_232435\n",
      " rec2_232436: Simulation pdb frames for protein 1XQ8_232430 and simulation sim0_232435\n",
      " rec0_235150: dssp values for trajectory with id: rec0_232436\n",
      " rec0_235152: dssp values for trajectory with id: 1XQ8_232430\n"
     ]
    }
   ],
   "source": [
    "registry = agent.path_registry\n",
    "paths_and_descriptions = registry.list_path_names_and_descriptions()\n",
    "print(\"\\n\".join(paths_and_descriptions.split(\",\")))"
   ]
  },
  {
   "cell_type": "code",
   "execution_count": 8,
   "metadata": {},
   "outputs": [
    {
     "name": "stdout",
     "output_type": "stream",
     "text": [
      "Number of initial sheets:  0\n",
      "Number of initial helices:  75\n",
      "Number of initial coils:  65\n",
      "Number of final sheets:  0\n",
      "Number of final helices:  57\n",
      "Number of final coils:  83\n"
     ]
    }
   ],
   "source": [
    "import mdtraj as md\n",
    "import numpy as np\n",
    "\n",
    "traj_path = registry.get_mapped_path(\"rec2_232436\")\n",
    "top_path = registry.get_mapped_path(\"top_sim0_232435\")\n",
    "traj = md.load(traj_path, top=top_path)\n",
    "\n",
    "# Compute the secondary structure of the trajectory\n",
    "dssp_final = md.compute_dssp(traj[-1], simplified=True)\n",
    "dssp_initial = md.compute_dssp(traj[0], simplified=True)\n",
    "\n",
    "print(\"Number of initial sheets: \",len([i for i in dssp_initial[0] if i == 'E']))\n",
    "print(\"Number of initial helices: \",len([i for i in dssp_initial[0] if i == 'H']))\n",
    "print(\"Number of initial coils: \",len([i for i in dssp_initial[0] if i == 'C']))\n",
    "\n",
    "print(\"Number of final sheets: \",len([i for i in dssp_final[0] if i == 'E']))\n",
    "print(\"Number of final helices: \",len([i for i in dssp_final[0] if i == 'H']))\n",
    "print(\"Number of final coils: \",len([i for i in dssp_final[0] if i == 'C']))"
   ]
  },
  {
   "cell_type": "markdown",
   "metadata": {},
   "source": [
    "# Experiment Result:\n",
    "\n",
    "### Completed without Exception or TimeOut Errors ✅\n",
    "\n",
    "### Attempted all necessary steps ❌\n",
    "- computed DSSP for pre-sim but not post-sim (also...was wrong)\n",
    "\n",
    "### Logic make sense ✅\n",
    "\n",
    "### Correct Answer ❌"
   ]
  },
  {
   "cell_type": "markdown",
   "metadata": {},
   "source": []
  }
 ],
 "metadata": {
  "kernelspec": {
   "display_name": "mda_jun15",
   "language": "python",
   "name": "python3"
  },
  "language_info": {
   "codemirror_mode": {
    "name": "ipython",
    "version": 3
   },
   "file_extension": ".py",
   "mimetype": "text/x-python",
   "name": "python",
   "nbconvert_exporter": "python",
   "pygments_lexer": "ipython3",
   "version": "3.12.4"
  }
 },
 "nbformat": 4,
 "nbformat_minor": 2
}
