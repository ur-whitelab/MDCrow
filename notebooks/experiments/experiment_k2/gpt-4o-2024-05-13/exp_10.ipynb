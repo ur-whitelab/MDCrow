{
 "cells": [
  {
   "cell_type": "code",
   "execution_count": 1,
   "id": "39451d99-005f-40b2-867e-fb955d63647d",
   "metadata": {},
   "outputs": [],
   "source": [
    "from mdagent import MDAgent"
   ]
  },
  {
   "cell_type": "code",
   "execution_count": 2,
   "id": "d808d0af-27f5-4e95-87bf-beb2d72c9108",
   "metadata": {},
   "outputs": [
    {
     "name": "stdout",
     "output_type": "stream",
     "text": [
      "date and time: 2024-07-16\n",
      "time: 20:50:41\n"
     ]
    }
   ],
   "source": [
    "#todays date and time\n",
    "import datetime\n",
    "\n",
    "now = datetime.datetime.now()\n",
    "date = now.strftime(\"%Y-%m-%d\")\n",
    "print(\"date and time:\",date)\n",
    "time = now.strftime(\"%H:%M:%S\")\n",
    "print(\"time:\",time)"
   ]
  },
  {
   "cell_type": "code",
   "execution_count": 3,
   "id": "82be5f35-3197-49c7-9955-6707529f8691",
   "metadata": {},
   "outputs": [],
   "source": [
    "prompt10 = \"Download the PDB file for 1AEE. Then, tell me how many chains and atoms are in the protein.\"\n",
    "model = \"gpt-4o-2024-05-13\""
   ]
  },
  {
   "cell_type": "code",
   "execution_count": 4,
   "id": "4b12fdc0-25be-4835-9e70-b3ea299bac9d",
   "metadata": {},
   "outputs": [
    {
     "name": "stdout",
     "output_type": "stream",
     "text": [
      "LLM:  gpt-4o-2024-05-13 \n",
      "Temperature:  0.1\n"
     ]
    }
   ],
   "source": [
    "mda = MDAgent(\n",
    "    agent_type='Structured', \n",
    "    model=model, \n",
    "    tools_model=model,\n",
    "    use_memory=False, \n",
    "    top_k_tools=\"all\"\n",
    ")\n",
    "\n",
    "print(\"LLM: \", mda.llm.model_name,\"\\nTemperature: \", mda.llm.temperature)"
   ]
  },
  {
   "cell_type": "code",
   "execution_count": 5,
   "id": "fe11721e-c775-40d3-9332-9f80820ccc95",
   "metadata": {},
   "outputs": [
    {
     "name": "stdout",
     "output_type": "stream",
     "text": [
      "Thought: To address the question, I need to first download the PDB file for the protein with the ID 1AEE. After downloading the file, I will analyze it to determine the number of chains and atoms in the protein.\n",
      "\n",
      "Action: \n",
      "```\n",
      "{\n",
      "  \"action\": \"PDBFileDownloader\",\n",
      "  \"action_input\": \"1AEE\"\n",
      "}\n",
      "```PDB file found with this ID: 1AEE\n"
     ]
    },
    {
     "name": "stderr",
     "output_type": "stream",
     "text": [
      "2024-07-16 20:50:44.549 \n",
      "  \u001b[33m\u001b[1mWarning:\u001b[0m to view this Streamlit app on a browser, run it with the following\n",
      "  command:\n",
      "\n",
      "    streamlit run /opt/anaconda3/envs/mda_jun15/lib/python3.12/site-packages/ipykernel_launcher.py [ARGUMENTS]\n"
     ]
    },
    {
     "name": "stdout",
     "output_type": "stream",
     "text": [
      "To determine the number of chains and atoms in the protein, I will use the `SummarizeProteinStructure` tool with the downloaded PDB file.\n",
      "\n",
      "Action:\n",
      "```\n",
      "{\n",
      "  \"action\": \"SummarizeProteinStructure\",\n",
      "  \"action_input\": {\n",
      "    \"traj_file\": \"1AEE_205044\"\n",
      "  }\n",
      "}\n",
      "```Final Answer: The PDB file for 1AEE has been successfully downloaded. The protein contains 2 chains and 2992 atoms."
     ]
    }
   ],
   "source": [
    "answer = mda.run(prompt10)"
   ]
  },
  {
   "cell_type": "code",
   "execution_count": 7,
   "id": "81d4d4a1-091e-49db-8272-33c2a11a984b",
   "metadata": {},
   "outputs": [
    {
     "data": {
      "text/plain": [
       "'20:50:59'"
      ]
     },
     "execution_count": 7,
     "metadata": {},
     "output_type": "execute_result"
    }
   ],
   "source": [
    "#print final date and time\n",
    "now = datetime.datetime.now()\n",
    "end_time = now.strftime(\"%H:%M:%S\")\n",
    "end_time"
   ]
  },
  {
   "cell_type": "markdown",
   "id": "1aab27b9-d320-46b3-805b-b953040b11e2",
   "metadata": {},
   "source": [
    "# Confirm that the file was downloaded and the counts were correct"
   ]
  },
  {
   "cell_type": "code",
   "execution_count": 8,
   "id": "0ba860e5-1dd0-4fcc-aa2f-d5e7f975cbae",
   "metadata": {},
   "outputs": [],
   "source": [
    "registry = mda.path_registry\n",
    "all_paths = registry._list_all_paths()"
   ]
  },
  {
   "cell_type": "code",
   "execution_count": 9,
   "id": "4b9220de-6a3c-4db9-8768-68298ece63a6",
   "metadata": {},
   "outputs": [
    {
     "name": "stdout",
     "output_type": "stream",
     "text": [
      "It is asserted that 1AEE pdb is in path_registry\n"
     ]
    }
   ],
   "source": [
    "import re\n",
    "import os\n",
    "pattern = re.compile(r\"1AEE.*\\.pdb\")\n",
    "assert len(all_paths) > 0\n",
    "assert pattern.search(all_paths[0])\n",
    "assert os.path.exists(all_paths[0])\n",
    "print('It is asserted that 1AEE pdb is in path_registry')"
   ]
  },
  {
   "cell_type": "code",
   "execution_count": 10,
   "id": "ac6db7f4-0d84-4716-a04d-0ccdab56a36f",
   "metadata": {},
   "outputs": [
    {
     "name": "stdout",
     "output_type": "stream",
     "text": [
      "Number of chains:  2\n",
      "Number of atoms:  2992\n"
     ]
    }
   ],
   "source": [
    "import mdtraj as md\n",
    "traj = md.load(all_paths[0])\n",
    "top = traj.topology\n",
    "number_of_chains = top.n_chains\n",
    "number_of_atoms = top.n_atoms\n",
    "print('Number of chains: ', number_of_chains)\n",
    "print('Number of atoms: ', number_of_atoms)"
   ]
  },
  {
   "cell_type": "markdown",
   "id": "25deff6d-6c2d-4b63-91df-1b7e109450dc",
   "metadata": {},
   "source": [
    "# Experiment Result:\n",
    "\n",
    "1. Completed without Exception or TimeOut Errors ✅\n",
    "2. Attempted all necessary steps ✅\n",
    "3. Logic make sense ✅\n",
    "4. Correct Answer ✅"
   ]
  },
  {
   "cell_type": "markdown",
   "id": "bff27c19",
   "metadata": {},
   "source": []
  },
  {
   "cell_type": "markdown",
   "id": "9c5dad4b",
   "metadata": {},
   "source": []
  }
 ],
 "metadata": {
  "kernelspec": {
   "display_name": "mdagent2",
   "language": "python",
   "name": "python3"
  },
  "language_info": {
   "codemirror_mode": {
    "name": "ipython",
    "version": 3
   },
   "file_extension": ".py",
   "mimetype": "text/x-python",
   "name": "python",
   "nbconvert_exporter": "python",
   "pygments_lexer": "ipython3",
   "version": "3.12.4"
  }
 },
 "nbformat": 4,
 "nbformat_minor": 5
}
