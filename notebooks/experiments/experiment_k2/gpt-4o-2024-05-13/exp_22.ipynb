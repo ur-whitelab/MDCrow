{
 "cells": [
  {
   "cell_type": "code",
   "execution_count": 1,
   "metadata": {},
   "outputs": [],
   "source": [
    "import datetime\n",
    "import os\n",
    "from mdagent import MDAgent\n",
    "import matplotlib.pyplot as plt"
   ]
  },
  {
   "cell_type": "code",
   "execution_count": 2,
   "metadata": {},
   "outputs": [
    {
     "name": "stdout",
     "output_type": "stream",
     "text": [
      "date and time: 2024-07-16\n",
      "time: 21:53:11\n",
      "LLM:  gpt-4o-2024-05-13 \n",
      "Temperature:  0.1\n"
     ]
    }
   ],
   "source": [
    "prompt22 = \"Download and clean protein 1A3N\"\n",
    "llm_var = \"gpt-4o-2024-05-13\"\n",
    "tools = \"all\"\n",
    "agent = MDAgent(agent_type=\"Structured\", model=llm_var, top_k_tools=tools)\n",
    "now = datetime.datetime.now()\n",
    "date = now.strftime(\"%Y-%m-%d\")\n",
    "print(\"date and time:\",date)\n",
    "time = now.strftime(\"%H:%M:%S\")\n",
    "print(\"time:\",time)\n",
    "print(\"LLM: \",agent.llm.model_name,\"\\nTemperature: \",agent.llm.temperature)"
   ]
  },
  {
   "cell_type": "code",
   "execution_count": 3,
   "metadata": {},
   "outputs": [
    {
     "name": "stdout",
     "output_type": "stream",
     "text": [
      "Thought: To address the question, I need to first download the PDB file for the protein 1A3N and then clean it by removing heterogens, adding missing atoms and hydrogens, replacing nonstandard residues, and removing water.\n",
      "\n",
      "Action: \n",
      "```\n",
      "{\n",
      "  \"action\": \"PDBFileDownloader\",\n",
      "  \"action_input\": \"1A3N\"\n",
      "}\n",
      "```PDB file found with this ID: 1A3N\n"
     ]
    },
    {
     "name": "stderr",
     "output_type": "stream",
     "text": [
      "2024-07-16 21:53:15.239 \n",
      "  \u001b[33m\u001b[1mWarning:\u001b[0m to view this Streamlit app on a browser, run it with the following\n",
      "  command:\n",
      "\n",
      "    streamlit run /opt/anaconda3/envs/mda_jun15/lib/python3.12/site-packages/ipykernel_launcher.py [ARGUMENTS]\n"
     ]
    },
    {
     "name": "stdout",
     "output_type": "stream",
     "text": [
      "Now that the PDB file for protein 1A3N has been downloaded, the next step is to clean the file by removing heterogens, adding missing atoms and hydrogens, replacing nonstandard residues, and removing water.\n",
      "\n",
      "Action:\n",
      "```\n",
      "{\n",
      "  \"action\": \"CleaningToolFunction\",\n",
      "  \"action_input\": {\n",
      "    \"pdb_id\": \"1A3N_215315\",\n",
      "    \"replace_nonstandard_residues\": true,\n",
      "    \"add_missing_atoms\": true,\n",
      "    \"remove_heterogens\": true,\n",
      "    \"remove_water\": true,\n",
      "    \"add_hydrogens\": true\n",
      "  }\n",
      "}\n",
      "```file path: /Users/samanthacox/Desktop/md-agent/ckpt/ckpt_95/pdb/1A3N_raw_20240716_215315.pdb\n",
      "Final Answer: The PDB file for protein 1A3N has been successfully downloaded and cleaned. The cleaned file has the following modifications:\n",
      "- Nonstandard residues have been replaced with standard ones.\n",
      "- Missing atoms have been added.\n",
      "- Heterogens have been removed.\n",
      "- Water molecules have been removed.\n",
      "- Hydrogens have been added.\n",
      "\n",
      "The cleaned file ID is: 1A3N_215326.Prompt: The agent is tasked with downloading and cleaning the PDB file for protein 1A3N.\n",
      "\n",
      "Step 1: The agent attempts to download the PDB file for protein 1A3N from the designated source.\n",
      "\n",
      "Step 2: The agent notices that the downloaded file contains nonstandard residues that need to be replaced with standard ones.\n",
      "\n",
      "Step 3: The agent adds missing atoms to ensure the file is complete and accurate.\n",
      "\n",
      "Step 4: The agent removes heterogens from the file to focus solely on the protein structure.\n",
      "\n",
      "Step 5: The agent also removes water molecules from the file, as they are not part of the protein structure.\n",
      "\n",
      "Step 6: Finally, the agent adds hydrogens to the file to ensure proper bonding and structure.\n",
      "\n",
      "Final Solution: The agent successfully downloads and cleans the PDB file for protein 1A3N, resulting in a cleaned file with all necessary modifications. The cleaned file ID is 1A3N_215326.Your run id is:  D5L0M8VL\n"
     ]
    },
    {
     "data": {
      "text/plain": [
       "('Final Answer: The PDB file for protein 1A3N has been successfully downloaded and cleaned. The cleaned file has the following modifications:\\n- Nonstandard residues have been replaced with standard ones.\\n- Missing atoms have been added.\\n- Heterogens have been removed.\\n- Water molecules have been removed.\\n- Hydrogens have been added.\\n\\nThe cleaned file ID is: 1A3N_215326.',\n",
       " 'D5L0M8VL')"
      ]
     },
     "execution_count": 3,
     "metadata": {},
     "output_type": "execute_result"
    }
   ],
   "source": [
    "agent.run(prompt22)"
   ]
  },
  {
   "cell_type": "code",
   "execution_count": 4,
   "metadata": {},
   "outputs": [
    {
     "name": "stdout",
     "output_type": "stream",
     "text": [
      "date and time: 2024-07-16\n",
      "time: 21:53:32\n",
      "Files found in registry: 1A3N_215315: PDB file downloaded from RSCB\n",
      " PDBFile ID: 1A3N_215315\n",
      " 1A3N_215326: Cleaned File:  Removed Heterogens\n",
      " and Water Removed.  Replaced Nonstandard Residues. Added Hydrogens at pH 7.0. Missing Atoms Added and replaces nonstandard residues. \n"
     ]
    }
   ],
   "source": [
    "now = datetime.datetime.now()\n",
    "date = now.strftime(\"%Y-%m-%d\")\n",
    "print(\"date and time:\",date)\n",
    "time = now.strftime(\"%H:%M:%S\")\n",
    "print(\"time:\",time)\n",
    "registry = agent.path_registry\n",
    "paths_and_descriptions = registry.list_path_names_and_descriptions()\n",
    "print(\"\\n\".join(paths_and_descriptions.split(\",\")))"
   ]
  },
  {
   "cell_type": "code",
   "execution_count": 6,
   "metadata": {},
   "outputs": [],
   "source": [
    "path_before = registry.get_mapped_path(\"1A3N_215315\")\n",
    "path_after = registry.get_mapped_path(\"1A3N_215326\")\n",
    "assert os.path.exists(path_before)\n",
    "assert os.path.exists(path_after)\n",
    "assert path_before != path_after"
   ]
  },
  {
   "cell_type": "code",
   "execution_count": 7,
   "metadata": {},
   "outputs": [],
   "source": [
    "import mdtraj as md\n",
    "raw_file = md.load(path_before)\n",
    "clean_file = md.load(path_after)"
   ]
  },
  {
   "cell_type": "code",
   "execution_count": 8,
   "metadata": {},
   "outputs": [
    {
     "name": "stdout",
     "output_type": "stream",
     "text": [
      "Residues before: {'HOH', 'ALA', 'TRP', 'TYR', 'ASP', 'LYS', 'ARG', 'ASN', 'GLN', 'PHE', 'LEU', 'CYS', 'HIS', 'GLY', 'VAL', 'GLU', 'SER', 'MET', 'THR', 'HEM', 'PRO'}\n",
      "Residues after: {'ALA', 'TRP', 'TYR', 'ASP', 'LYS', 'ARG', 'ASN', 'GLN', 'PHE', 'LEU', 'CYS', 'HIS', 'GLY', 'VAL', 'GLU', 'SER', 'MET', 'THR', 'PRO'}\n",
      "Residues removed: {'HOH', 'HEM'}\n"
     ]
    }
   ],
   "source": [
    "#residues before\n",
    "residues_before = set([str(res)[:3] for res in raw_file.top.residues])\n",
    "residues_after = set([str(res)[:3] for res in clean_file.top.residues])\n",
    "print(\"Residues before:\",residues_before)\n",
    "print(\"Residues after:\",residues_after)\n",
    "print(\"Residues removed:\",residues_before - residues_after)"
   ]
  },
  {
   "cell_type": "markdown",
   "metadata": {},
   "source": [
    "# Experiment Result:\n",
    "### Completed without Exception or TimeOut Errors ✅\n",
    "### Attempted all necessary steps ✅\n",
    "### Logic make sense ✅\n",
    "### Correct Answer  ✅"
   ]
  }
 ],
 "metadata": {
  "kernelspec": {
   "display_name": "mdagent2",
   "language": "python",
   "name": "python3"
  },
  "language_info": {
   "codemirror_mode": {
    "name": "ipython",
    "version": 3
   },
   "file_extension": ".py",
   "mimetype": "text/x-python",
   "name": "python",
   "nbconvert_exporter": "python",
   "pygments_lexer": "ipython3",
   "version": "3.12.4"
  }
 },
 "nbformat": 4,
 "nbformat_minor": 2
}
