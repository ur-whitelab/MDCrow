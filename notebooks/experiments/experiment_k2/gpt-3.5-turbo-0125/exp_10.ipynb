{
 "cells": [
  {
   "cell_type": "code",
   "execution_count": 1,
   "id": "39451d99-005f-40b2-867e-fb955d63647d",
   "metadata": {},
   "outputs": [],
   "source": [
    "from mdagent import MDAgent"
   ]
  },
  {
   "cell_type": "code",
   "execution_count": 2,
   "id": "d808d0af-27f5-4e95-87bf-beb2d72c9108",
   "metadata": {},
   "outputs": [
    {
     "name": "stdout",
     "output_type": "stream",
     "text": [
      "date and time: 2024-07-16\n",
      "time: 20:43:31\n"
     ]
    }
   ],
   "source": [
    "#todays date and time\n",
    "import datetime\n",
    "\n",
    "now = datetime.datetime.now()\n",
    "date = now.strftime(\"%Y-%m-%d\")\n",
    "print(\"date and time:\",date)\n",
    "time = now.strftime(\"%H:%M:%S\")\n",
    "print(\"time:\",time)"
   ]
  },
  {
   "cell_type": "code",
   "execution_count": 3,
   "id": "82be5f35-3197-49c7-9955-6707529f8691",
   "metadata": {},
   "outputs": [],
   "source": [
    "prompt10 = \"Download the PDB file for 1AEE. Then, tell me how many chains and atoms are in the protein.\"\n",
    "model = \"gpt-3.5-turbo-0125\"\n"
   ]
  },
  {
   "cell_type": "code",
   "execution_count": 4,
   "id": "4b12fdc0-25be-4835-9e70-b3ea299bac9d",
   "metadata": {},
   "outputs": [
    {
     "name": "stdout",
     "output_type": "stream",
     "text": [
      "LLM:  gpt-3.5-turbo-0125 \n",
      "Temperature:  0.1\n"
     ]
    }
   ],
   "source": [
    "mda = MDAgent(\n",
    "    agent_type='Structured', \n",
    "    model=model, \n",
    "    tools_model=model,\n",
    "    use_memory=False, \n",
    "    top_k_tools=\"all\"\n",
    ")\n",
    "\n",
    "print(\"LLM: \", mda.llm.model_name,\"\\nTemperature: \", mda.llm.temperature)"
   ]
  },
  {
   "cell_type": "code",
   "execution_count": 5,
   "id": "fe11721e-c775-40d3-9332-9f80820ccc95",
   "metadata": {},
   "outputs": [
    {
     "name": "stdout",
     "output_type": "stream",
     "text": [
      "Thought: To answer the question, I need to first download the PDB file for 1AEE and then analyze the structure to determine the number of chains and atoms.\n",
      "\n",
      "Action: PDBFileDownloader\n",
      "Action Input: {\"query\": \"1AEE\"}\n",
      "\n"
     ]
    }
   ],
   "source": [
    "answer = mda.run(prompt10)"
   ]
  },
  {
   "cell_type": "code",
   "execution_count": 6,
   "id": "81d4d4a1-091e-49db-8272-33c2a11a984b",
   "metadata": {},
   "outputs": [
    {
     "name": "stdout",
     "output_type": "stream",
     "text": [
      "date and time: 2024-07-16\n",
      "time: 20:43:33\n"
     ]
    }
   ],
   "source": [
    "now = datetime.datetime.now()\n",
    "date = now.strftime(\"%Y-%m-%d\")\n",
    "print(\"date and time:\",date)\n",
    "time = now.strftime(\"%H:%M:%S\")\n",
    "print(\"time:\",time)"
   ]
  },
  {
   "cell_type": "markdown",
   "id": "1aab27b9-d320-46b3-805b-b953040b11e2",
   "metadata": {},
   "source": [
    "# Confirm that the file was downloaded and the counts were correct"
   ]
  },
  {
   "cell_type": "code",
   "execution_count": 7,
   "id": "0ba860e5-1dd0-4fcc-aa2f-d5e7f975cbae",
   "metadata": {},
   "outputs": [],
   "source": [
    "registry = mda.path_registry\n",
    "all_paths = registry._list_all_paths()"
   ]
  },
  {
   "cell_type": "code",
   "execution_count": 9,
   "id": "892fe48c",
   "metadata": {},
   "outputs": [
    {
     "data": {
      "text/plain": [
       "[]"
      ]
     },
     "execution_count": 9,
     "metadata": {},
     "output_type": "execute_result"
    }
   ],
   "source": [
    "all_paths"
   ]
  },
  {
   "cell_type": "code",
   "execution_count": 8,
   "id": "4b9220de-6a3c-4db9-8768-68298ece63a6",
   "metadata": {},
   "outputs": [
    {
     "ename": "AssertionError",
     "evalue": "",
     "output_type": "error",
     "traceback": [
      "\u001b[0;31m---------------------------------------------------------------------------\u001b[0m",
      "\u001b[0;31mAssertionError\u001b[0m                            Traceback (most recent call last)",
      "Cell \u001b[0;32mIn[8], line 4\u001b[0m\n\u001b[1;32m      2\u001b[0m \u001b[38;5;28;01mimport\u001b[39;00m \u001b[38;5;21;01mos\u001b[39;00m\n\u001b[1;32m      3\u001b[0m pattern \u001b[38;5;241m=\u001b[39m re\u001b[38;5;241m.\u001b[39mcompile(\u001b[38;5;124mr\u001b[39m\u001b[38;5;124m\"\u001b[39m\u001b[38;5;124m1AEE.*\u001b[39m\u001b[38;5;124m\\\u001b[39m\u001b[38;5;124m.pdb\u001b[39m\u001b[38;5;124m\"\u001b[39m)\n\u001b[0;32m----> 4\u001b[0m \u001b[38;5;28;01massert\u001b[39;00m \u001b[38;5;28mlen\u001b[39m(all_paths) \u001b[38;5;241m>\u001b[39m \u001b[38;5;241m0\u001b[39m\n\u001b[1;32m      5\u001b[0m \u001b[38;5;28;01massert\u001b[39;00m pattern\u001b[38;5;241m.\u001b[39msearch(all_paths[\u001b[38;5;241m0\u001b[39m])\n\u001b[1;32m      6\u001b[0m \u001b[38;5;28;01massert\u001b[39;00m os\u001b[38;5;241m.\u001b[39mpath\u001b[38;5;241m.\u001b[39mexists(all_paths[\u001b[38;5;241m0\u001b[39m])\n",
      "\u001b[0;31mAssertionError\u001b[0m: "
     ]
    }
   ],
   "source": [
    "import re\n",
    "import os\n",
    "pattern = re.compile(r\"1AEE.*\\.pdb\")\n",
    "assert len(all_paths) > 0\n",
    "assert pattern.search(all_paths[0])\n",
    "assert os.path.exists(all_paths[0])\n",
    "print('It is asserted that 1AEE pdb is in path_registry')"
   ]
  },
  {
   "cell_type": "markdown",
   "id": "25deff6d-6c2d-4b63-91df-1b7e109450dc",
   "metadata": {},
   "source": [
    "# Experiment Result:\n",
    "\n",
    "1. Completed without Exception or TimeOut Errors ✅\n",
    "2. Attempted all necessary steps \n",
    "3. Logic make sense ✅\n",
    "4. Correct Answer "
   ]
  },
  {
   "cell_type": "markdown",
   "id": "bff27c19",
   "metadata": {},
   "source": []
  },
  {
   "cell_type": "markdown",
   "id": "9c5dad4b",
   "metadata": {},
   "source": []
  }
 ],
 "metadata": {
  "kernelspec": {
   "display_name": "mdagent2",
   "language": "python",
   "name": "python3"
  },
  "language_info": {
   "codemirror_mode": {
    "name": "ipython",
    "version": 3
   },
   "file_extension": ".py",
   "mimetype": "text/x-python",
   "name": "python",
   "nbconvert_exporter": "python",
   "pygments_lexer": "ipython3",
   "version": "3.12.4"
  }
 },
 "nbformat": 4,
 "nbformat_minor": 5
}
