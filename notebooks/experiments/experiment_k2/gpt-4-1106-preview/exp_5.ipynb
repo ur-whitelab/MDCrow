{
 "cells": [
  {
   "cell_type": "code",
   "execution_count": 1,
   "metadata": {},
   "outputs": [],
   "source": [
    "import datetime\n",
    "import os\n",
    "from mdagent import MDAgent\n",
    "import matplotlib.pyplot as plt"
   ]
  },
  {
   "cell_type": "code",
   "execution_count": 2,
   "metadata": {},
   "outputs": [
    {
     "name": "stdout",
     "output_type": "stream",
     "text": [
      "date and time: 2024-07-16\n",
      "time: 23:18:51\n",
      "LLM:  gpt-4-1106-preview \n",
      "Temperature:  0.1\n"
     ]
    }
   ],
   "source": [
    "prompt5 = \"Simulate 1XQ8 for 1ns at temperate 300K. Then tell me if the secondary structure changed from before the simulation to after.\"\n",
    "llm_var = \"gpt-4-1106-preview\"\n",
    "tools = \"all\"\n",
    "agent = MDAgent(agent_type=\"Structured\", model=llm_var, top_k_tools=tools)\n",
    "now = datetime.datetime.now()\n",
    "date = now.strftime(\"%Y-%m-%d\")\n",
    "print(\"date and time:\",date)\n",
    "time = now.strftime(\"%H:%M:%S\")\n",
    "print(\"time:\",time)\n",
    "print(\"LLM: \",agent.llm.model_name,\"\\nTemperature: \",agent.llm.temperature)"
   ]
  },
  {
   "cell_type": "code",
   "execution_count": 3,
   "metadata": {},
   "outputs": [
    {
     "name": "stdout",
     "output_type": "stream",
     "text": [
      "Thought: To simulate the protein with PDB ID 1XQ8 for 1 nanosecond at 300K, I will need to set up and run a molecular dynamics simulation. After the simulation, I will need to analyze the secondary structure to determine if there have been any changes. I will start by setting up and running the simulation using the SetUpandRunFunction tool.\n",
      "\n",
      "Action: SetUpandRunFunction\n",
      "Action Input: {\"pdb_id\":\"1XQ8\",\"forcefield_files\":[\"amber99sbildn.xml\",\"tip3p.xml\"],\"system_params\":{\"nonbondedMethod\":\"PME\",\"nonbondedCutoff\":1,\"constraints\":\"HBonds\",\"rigidWater\":true,\"solvate\":true},\"integrator_params\":{\"integrator_type\":\"Langevin\",\"Temperature\":\"300 * kelvin\",\"Friction\":\"1.0 / picoseconds\",\"Timestep\":\"0.002 * picoseconds\"},\"simulation_params\":{\"Ensemble\":\"NVT\",\"Number of Steps\":500000,\"record_interval_steps\":5000}}The agent's thought was to simulate the protein with PDB ID 1XQ8 for 1 nanosecond at 300K by setting up and running a molecular dynamics simulation. The agent planned to analyze the secondary structure after the simulation to detect any changes. The agent started by using the SetUpandRunFunction tool with specific input parameters for the simulation setup, including forcefield files, system parameters, integrator parameters, and simulation parameters. The simulation was set up to run for 500,000 steps with a record interval of 5,000 steps in the NVT ensemble. The final solution was to run the simulation using the specified parameters and analyze the secondary structure to determine any changes in the protein's conformation.Your run id is:  JQJWX2H0\n"
     ]
    },
    {
     "data": {
      "text/plain": [
       "('Thought: To simulate the protein with PDB ID 1XQ8 for 1 nanosecond at 300K, I will need to set up and run a molecular dynamics simulation. After the simulation, I will need to analyze the secondary structure to determine if there have been any changes. I will start by setting up and running the simulation using the SetUpandRunFunction tool.\\n\\nAction: SetUpandRunFunction\\nAction Input: {\"pdb_id\":\"1XQ8\",\"forcefield_files\":[\"amber99sbildn.xml\",\"tip3p.xml\"],\"system_params\":{\"nonbondedMethod\":\"PME\",\"nonbondedCutoff\":1,\"constraints\":\"HBonds\",\"rigidWater\":true,\"solvate\":true},\"integrator_params\":{\"integrator_type\":\"Langevin\",\"Temperature\":\"300 * kelvin\",\"Friction\":\"1.0 / picoseconds\",\"Timestep\":\"0.002 * picoseconds\"},\"simulation_params\":{\"Ensemble\":\"NVT\",\"Number of Steps\":500000,\"record_interval_steps\":5000}}',\n",
       " 'JQJWX2H0')"
      ]
     },
     "execution_count": 3,
     "metadata": {},
     "output_type": "execute_result"
    }
   ],
   "source": [
    "agent.run(prompt5)"
   ]
  },
  {
   "cell_type": "code",
   "execution_count": 4,
   "metadata": {},
   "outputs": [
    {
     "name": "stdout",
     "output_type": "stream",
     "text": [
      "date and time: 2024-07-16\n",
      "time: 23:19:04\n"
     ]
    }
   ],
   "source": [
    "now = datetime.datetime.now()\n",
    "date = now.strftime(\"%Y-%m-%d\")\n",
    "print(\"date and time:\",date)\n",
    "time = now.strftime(\"%H:%M:%S\")\n",
    "print(\"time:\",time)"
   ]
  },
  {
   "cell_type": "code",
   "execution_count": 5,
   "metadata": {},
   "outputs": [
    {
     "name": "stdout",
     "output_type": "stream",
     "text": [
      "No names found. The JSON file is empty or does not contain name mappings.\n"
     ]
    }
   ],
   "source": [
    "registry = agent.path_registry\n",
    "paths_and_descriptions = registry.list_path_names_and_descriptions()\n",
    "print(\"\\n\".join(paths_and_descriptions.split(\",\")))"
   ]
  },
  {
   "cell_type": "code",
   "execution_count": 7,
   "metadata": {},
   "outputs": [],
   "source": [
    "# import mdtraj as md\n",
    "# import numpy as np\n",
    "\n",
    "# traj_path = registry.get_mapped_path(\"rec2_164856\")\n",
    "# top_path = registry.get_mapped_path(\"top_sim0_164856\")\n",
    "# traj = md.load(traj_path, top=top_path)\n",
    "\n",
    "# # Compute the secondary structure of the trajectory\n",
    "# dssp_final = md.compute_dssp(traj[-1], simplified=True)\n",
    "# dssp_initial = md.compute_dssp(traj[0], simplified=True)\n",
    "\n",
    "# print(\"Number of initial sheets: \",len([i for i in dssp_initial[0] if i == 'E']))\n",
    "# print(\"Number of initial helices: \",len([i for i in dssp_initial[0] if i == 'H']))\n",
    "# print(\"Number of initial coils: \",len([i for i in dssp_initial[0] if i == 'C']))\n",
    "\n",
    "# print(\"Number of final sheets: \",len([i for i in dssp_final[0] if i == 'E']))\n",
    "# print(\"Number of final helices: \",len([i for i in dssp_final[0] if i == 'H']))\n",
    "# print(\"Number of final coils: \",len([i for i in dssp_final[0] if i == 'C']))"
   ]
  },
  {
   "cell_type": "markdown",
   "metadata": {},
   "source": [
    "# Experiment Result:\n",
    "\n",
    "### Completed without Exception or TimeOut Errors ✅\n",
    "\n",
    "### Attempted all necessary steps ❌\n",
    "\n",
    "### Logic make sense ❌\n",
    "- the agent didn't mention downloading or cleaning the pdb file\n",
    "- the agent didn't describe doing SS analysis twice\n",
    "\n",
    "### Correct Answer ❌"
   ]
  },
  {
   "cell_type": "markdown",
   "metadata": {},
   "source": []
  }
 ],
 "metadata": {
  "kernelspec": {
   "display_name": "mda_jun15",
   "language": "python",
   "name": "python3"
  },
  "language_info": {
   "codemirror_mode": {
    "name": "ipython",
    "version": 3
   },
   "file_extension": ".py",
   "mimetype": "text/x-python",
   "name": "python",
   "nbconvert_exporter": "python",
   "pygments_lexer": "ipython3",
   "version": "3.12.4"
  }
 },
 "nbformat": 4,
 "nbformat_minor": 2
}
