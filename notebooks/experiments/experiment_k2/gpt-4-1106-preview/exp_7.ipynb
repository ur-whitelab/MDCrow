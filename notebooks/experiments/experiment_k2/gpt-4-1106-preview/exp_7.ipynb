{
 "cells": [
  {
   "cell_type": "code",
   "execution_count": 5,
   "metadata": {},
   "outputs": [],
   "source": [
    "import datetime\n",
    "import os\n",
    "from mdagent import MDAgent\n",
    "import matplotlib.pyplot as plt"
   ]
  },
  {
   "cell_type": "code",
   "execution_count": 6,
   "metadata": {},
   "outputs": [
    {
     "name": "stdout",
     "output_type": "stream",
     "text": [
      "date and time: 2024-07-17\n",
      "time: 21:01:35\n",
      "LLM:  gpt-4-1106-preview \n",
      "Temperature:  0.1\n"
     ]
    }
   ],
   "source": [
    "prompt7 = \"Simulate 1ZNI for 1ns at temp=300K.\"\n",
    "llm_var = \"gpt-4-1106-preview\"\n",
    "tools = \"all\"\n",
    "agent = MDAgent(agent_type=\"Structured\", model=llm_var, top_k_tools=tools)\n",
    "now = datetime.datetime.now()\n",
    "date = now.strftime(\"%Y-%m-%d\")\n",
    "print(\"date and time:\",date)\n",
    "time = now.strftime(\"%H:%M:%S\")\n",
    "print(\"time:\",time)\n",
    "print(\"LLM: \",agent.llm.model_name,\"\\nTemperature: \",agent.llm.temperature)"
   ]
  },
  {
   "cell_type": "code",
   "execution_count": 7,
   "metadata": {},
   "outputs": [
    {
     "name": "stdout",
     "output_type": "stream",
     "text": [
      "date and time: 2024-07-17\n",
      "time: 21:01:35\n",
      "LLM:  gpt-4o-2024-05-13 \n",
      "Temperature:  0.1\n"
     ]
    }
   ],
   "source": [
    "prompt7 = \"Simulate 1ZNI for 1ns at temp=300K.\"\n",
    "llm_var = \"gpt-4o-2024-05-13\"\n",
    "tools = \"all\"\n",
    "agent = MDAgent(agent_type=\"Structured\", model=llm_var, top_k_tools=tools)\n",
    "now = datetime.datetime.now()\n",
    "date = now.strftime(\"%Y-%m-%d\")\n",
    "print(\"date and time:\",date)\n",
    "time = now.strftime(\"%H:%M:%S\")\n",
    "print(\"time:\",time)\n",
    "print(\"LLM: \",agent.llm.model_name,\"\\nTemperature: \",agent.llm.temperature)"
   ]
  },
  {
   "cell_type": "code",
   "execution_count": 8,
   "metadata": {},
   "outputs": [
    {
     "name": "stdout",
     "output_type": "stream",
     "text": [
      "Thought: To simulate the protein 1ZNI for 1 nanosecond (1 ns) at a temperature of 300 Kelvin (K), I need to download the PDB file for 1ZNI, set up the simulation parameters, and run the simulation. I will use the SetUpandRunFunction tool to set up and run the simulation.\n",
      "\n",
      "Action: \n",
      "```\n",
      "{\n",
      "  \"action\": \"SetUpandRunFunction\",\n",
      "  \"action_input\": {\n",
      "    \"pdb_id\": \"1ZNI\",\n",
      "    \"forcefield_files\": [],\n",
      "    \"save\": true,\n",
      "    \"system_params\": {\n",
      "      \"nonbondedMethod\": \"NoCutoff\",\n",
      "      \"constraints\": \"None\",\n",
      "      \"rigidWater\": false,\n",
      "      \"solvate\": false\n",
      "    },\n",
      "    \"integrator_params\": {\n",
      "      \"integrator_type\": \"LangevinMiddle\",\n",
      "      \"Temperature\": \"300 * kelvin\",\n",
      "      \"Friction\": \"1.0 / picoseconds\",\n",
      "      \"Timestep\": \"0.002 * picoseconds\",\n",
      "      \"Pressure\": \"1.0 * bar\"\n",
      "    },\n",
      "    \"simulation_params\": {\n",
      "      \"Ensemble\": \"NVT\",\n",
      "      \"Number of Steps\": 500000,\n",
      "      \"record_interval_steps\": 5000,\n",
      "      \"record_params\": [\"step\", \"potentialEnergy\", \"temperature\"]\n",
      "    }\n",
      "  }\n",
      "}\n",
      "```Setting default forcefields v2\n",
      "To simulate the protein 1ZNI for 1 nanosecond (1 ns) at a temperature of 300 Kelvin (K), I need to first download the PDB file for 1ZNI and then set up the simulation parameters correctly. I will use the PDBFileDownloader tool to get the PDB file and then proceed with the simulation setup.\n",
      "\n",
      "Action:\n",
      "```\n",
      "{\n",
      "  \"action\": \"PDBFileDownloader\",\n",
      "  \"action_input\": {\n",
      "    \"query\": \"1ZNI\"\n",
      "  }\n",
      "}\n",
      "```PDB file found with this ID: 1ZNI\n",
      "To proceed with the simulation of the protein 1ZNI for 1 nanosecond (1 ns) at a temperature of 300 Kelvin (K), I will now use the SetUpandRunFunction tool with the correct file ID obtained from the PDBFileDownloader tool.\n",
      "\n",
      "Action:\n",
      "```\n",
      "{\n",
      "  \"action\": \"SetUpandRunFunction\",\n",
      "  \"action_input\": {\n",
      "    \"pdb_id\": \"1ZNI_210144\",\n",
      "    \"forcefield_files\": [],\n",
      "    \"save\": true,\n",
      "    \"system_params\": {\n",
      "      \"nonbondedMethod\": \"NoCutoff\",\n",
      "      \"constraints\": \"None\",\n",
      "      \"rigidWater\": false,\n",
      "      \"solvate\": false\n",
      "    },\n",
      "    \"integrator_params\": {\n",
      "      \"integrator_type\": \"LangevinMiddle\",\n",
      "      \"Temperature\": \"300 * kelvin\",\n",
      "      \"Friction\": \"1.0 / picoseconds\",\n",
      "      \"Timestep\": \"0.002 * picoseconds\",\n",
      "      \"Pressure\": \"1.0 * bar\"\n",
      "    },\n",
      "    \"simulation_params\": {\n",
      "      \"Ensemble\": \"NVT\",\n",
      "      \"Number of Steps\": 500000,\n",
      "      \"record_interval_steps\": 5000,\n",
      "      \"record_params\": [\"step\", \"potentialEnergy\", \"temperature\"]\n",
      "    }\n",
      "  }\n",
      "}\n",
      "```Setting default forcefields v2\n",
      "Building system...\n",
      "About to create system...\n",
      "Attempts at creating system: 0/3\n",
      "adding system without solvent\n",
      "Trying to add component to Forcefield...\n",
      "Residue code: GLY\n",
      "Residue code not in solvent list. Adding forcefield                         not supported.\n",
      "To address the issue with missing hydrogen atoms in the residue GLY, I need to clean the PDB file by adding the missing atoms. I will use the CleaningToolFunction to add the missing atoms and hydrogens to the PDB file.\n",
      "\n",
      "Action:\n",
      "```\n",
      "{\n",
      "  \"action\": \"CleaningToolFunction\",\n",
      "  \"action_input\": {\n",
      "    \"pdb_id\": \"1ZNI_210144\",\n",
      "    \"replace_nonstandard_residues\": true,\n",
      "    \"add_missing_atoms\": true,\n",
      "    \"remove_heterogens\": true,\n",
      "    \"remove_water\": true,\n",
      "    \"add_hydrogens\": true,\n",
      "    \"add_hydrogens_ph\": 7.0\n",
      "  }\n",
      "}\n",
      "```file path: /Users/samanthacox/Desktop/md-agent/ckpt/ckpt_108/pdb/1ZNI_raw_20240717_210144.pdb\n",
      "Now that the PDB file for 1ZNI has been successfully cleaned and the missing atoms and hydrogens have been added, I will proceed with setting up and running the simulation for 1 nanosecond (1 ns) at a temperature of 300 Kelvin (K) using the cleaned file.\n",
      "\n",
      "Action:\n",
      "```\n",
      "{\n",
      "  \"action\": \"SetUpandRunFunction\",\n",
      "  \"action_input\": {\n",
      "    \"pdb_id\": \"1ZNI_210153\",\n",
      "    \"forcefield_files\": [],\n",
      "    \"save\": true,\n",
      "    \"system_params\": {\n",
      "      \"nonbondedMethod\": \"NoCutoff\",\n",
      "      \"constraints\": \"None\",\n",
      "      \"rigidWater\": false,\n",
      "      \"solvate\": false\n",
      "    },\n",
      "    \"integrator_params\": {\n",
      "      \"integrator_type\": \"LangevinMiddle\",\n",
      "      \"Temperature\": \"300 * kelvin\",\n",
      "      \"Friction\": \"1.0 / picoseconds\",\n",
      "      \"Timestep\": \"0.002 * picoseconds\",\n",
      "      \"Pressure\": \"1.0 * bar\"\n",
      "    },\n",
      "    \"simulation_params\": {\n",
      "      \"Ensemble\": \"NVT\",\n",
      "      \"Number of Steps\": 500000,\n",
      "      \"record_interval_steps\": 5000,\n",
      "      \"record_params\": [\"step\", \"potentialEnergy\", \"temperature\"]\n",
      "    }\n",
      "  }\n",
      "}\n",
      "```Setting default forcefields v2\n",
      "Building system...\n",
      "About to create system...\n",
      "Attempts at creating system: 0/3\n",
      "adding system without solvent\n",
      "System built successfully\n",
      "<openmm.openmm.System; proxy of <Swig Object of type 'OpenMM::System *' at 0x196ab3a80> >\n",
      "Setting up integrator...\n",
      "Creating simulation...\n",
      "simulation set!\n",
      "Performing energy minimization...\n",
      "Minimization complete!\n",
      "Initial Positions saved to initial_positions.pdb\n",
      "Equilibrating...\n",
      "Simulating...\n",
      "Done!\n",
      "Standalone simulation script written to /Users/samanthacox/Desktop/md-agent/ckpt/ckpt_108/simulations/NVT_1ZNI_210153_20240717_210157.py\n",
      "['TRAJ_sim0_210157_1ZNI_210153_20240717_210158.dcd', 'exp_9.ipynb', 'TOP_sim0_075835_1ZNI_075822_20240717_075839.pdb', 'exp_12.ipynb', 'exp_10.ipynb', 'LOG_sim0_210157_1ZNI_210153_20240717_210158.txt', 'TRAJ_sim0_075835_1ZNI_075822_20240717_075839.dcd', 'exp_4.ipynb', 'exp_18.ipynb', 'exp_21.ipynb', 'exp_2.ipynb', 'TOP_sim0_210157_1ZNI_210153_20240717_210158.pdb', 'exp_7.ipynb', 'exp_5.ipynb', 'exp_22.ipynb', 'LOG_sim0_075835_1ZNI_075822_20240717_075839.txt', 'exp_3.ipynb']\n",
      "The simulation of the protein 1ZNI for 1 nanosecond (1 ns) at a temperature of 300 Kelvin (K) has been successfully completed. Here is a summary of the results:\n",
      "\n",
      "- **Simulation Trajectory**: rec0_210158\n",
      "- **Simulation State Log**: rec1_210158\n",
      "- **Simulation PDB Frames**: rec2_210158\n",
      "- **Standalone Script**: sim0_210157\n",
      "- **Initial Topology File ID**: top_sim0_210157 (saved in files/pdb/)\n",
      "\n",
      "You can use these files for further analysis or to reproduce the simulation.\n",
      "\n",
      "Final Answer: The simulation of the protein 1ZNI for 1 nanosecond at 300K has been successfully completed. The results include the simulation trajectory, state log, PDB frames, and a standalone script for reproduction.Prompt: Simulation of the protein 1ZNI for 1 nanosecond at 300K.\n",
      "\n",
      "Steps:\n",
      "1. Completed simulation using standalone script sim0_210157.\n",
      "2. Used initial topology file top_sim0_210157.\n",
      "3. Simulation trajectory: rec0_210158.\n",
      "4. Simulation state log: rec1_210158.\n",
      "5. Simulation PDB frames: rec2_210158.\n",
      "\n",
      "Final Solution: Successfully completed simulation of protein 1ZNI for 1 nanosecond at 300K, with results including trajectory, state log, PDB frames, and a standalone script for reproduction.Your run id is:  1V3UU4C7\n"
     ]
    },
    {
     "data": {
      "text/plain": [
       "('The simulation of the protein 1ZNI for 1 nanosecond (1 ns) at a temperature of 300 Kelvin (K) has been successfully completed. Here is a summary of the results:\\n\\n- **Simulation Trajectory**: rec0_210158\\n- **Simulation State Log**: rec1_210158\\n- **Simulation PDB Frames**: rec2_210158\\n- **Standalone Script**: sim0_210157\\n- **Initial Topology File ID**: top_sim0_210157 (saved in files/pdb/)\\n\\nYou can use these files for further analysis or to reproduce the simulation.\\n\\nFinal Answer: The simulation of the protein 1ZNI for 1 nanosecond at 300K has been successfully completed. The results include the simulation trajectory, state log, PDB frames, and a standalone script for reproduction.',\n",
       " '1V3UU4C7')"
      ]
     },
     "execution_count": 8,
     "metadata": {},
     "output_type": "execute_result"
    }
   ],
   "source": [
    "agent.run(prompt7)"
   ]
  },
  {
   "cell_type": "code",
   "execution_count": 9,
   "metadata": {},
   "outputs": [
    {
     "name": "stdout",
     "output_type": "stream",
     "text": [
      "Files found in registry: 1ZNI_210144: PDB file downloaded from RSCB, PDBFile ID: 1ZNI_210144, 1ZNI_210153: Cleaned File:  Removed Heterogens, and Water Removed.  Replaced Nonstandard Residues. Added Hydrogens at pH 7.0. Missing Atoms Added and replaces nonstandard residues. , top_sim0_210157: Initial positions for simulation sim0_210157, sim0_210157: Basic Simulation of Protein 1ZNI_210153, rec0_210158: Simulation trajectory for protein 1ZNI_210153 and simulation sim0_210157, rec1_210158: Simulation state log for protein 1ZNI_210153 and simulation sim0_210157, rec2_210158: Simulation pdb frames for protein 1ZNI_210153 and simulation sim0_210157\n"
     ]
    }
   ],
   "source": [
    "registry = agent.path_registry\n",
    "print(registry.list_path_names_and_descriptions())"
   ]
  },
  {
   "cell_type": "code",
   "execution_count": 10,
   "metadata": {},
   "outputs": [
    {
     "name": "stdout",
     "output_type": "stream",
     "text": [
      "date and time: 2024-07-17\n",
      "time: 21:25:52\n"
     ]
    }
   ],
   "source": [
    "now = datetime.datetime.now()\n",
    "date = now.strftime(\"%Y-%m-%d\")\n",
    "print(\"date and time:\",date)\n",
    "time = now.strftime(\"%H:%M:%S\")\n",
    "print(\"time:\",time)"
   ]
  },
  {
   "cell_type": "code",
   "execution_count": 11,
   "metadata": {},
   "outputs": [
    {
     "name": "stdout",
     "output_type": "stream",
     "text": [
      "Files found in registry: 1ZNI_210144: PDB file downloaded from RSCB\n",
      " PDBFile ID: 1ZNI_210144\n",
      " 1ZNI_210153: Cleaned File:  Removed Heterogens\n",
      " and Water Removed.  Replaced Nonstandard Residues. Added Hydrogens at pH 7.0. Missing Atoms Added and replaces nonstandard residues. \n",
      " top_sim0_210157: Initial positions for simulation sim0_210157\n",
      " sim0_210157: Basic Simulation of Protein 1ZNI_210153\n",
      " rec0_210158: Simulation trajectory for protein 1ZNI_210153 and simulation sim0_210157\n",
      " rec1_210158: Simulation state log for protein 1ZNI_210153 and simulation sim0_210157\n",
      " rec2_210158: Simulation pdb frames for protein 1ZNI_210153 and simulation sim0_210157\n"
     ]
    }
   ],
   "source": [
    "paths_and_descriptions = registry.list_path_names_and_descriptions()\n",
    "print(\"\\n\".join(paths_and_descriptions.split(\",\")))"
   ]
  },
  {
   "cell_type": "markdown",
   "metadata": {},
   "source": [
    "# Experiment Result:\n",
    "### Completed without Exception or TimeOut Errors ✅\n",
    "### Attempted all necessary steps ✅\n",
    "### Logic make sense ✅\n",
    "### Correct Answer  ✅"
   ]
  }
 ],
 "metadata": {
  "kernelspec": {
   "display_name": "mda_jun15",
   "language": "python",
   "name": "python3"
  },
  "language_info": {
   "codemirror_mode": {
    "name": "ipython",
    "version": 3
   },
   "file_extension": ".py",
   "mimetype": "text/x-python",
   "name": "python",
   "nbconvert_exporter": "python",
   "pygments_lexer": "ipython3",
   "version": "3.12.4"
  }
 },
 "nbformat": 4,
 "nbformat_minor": 2
}
