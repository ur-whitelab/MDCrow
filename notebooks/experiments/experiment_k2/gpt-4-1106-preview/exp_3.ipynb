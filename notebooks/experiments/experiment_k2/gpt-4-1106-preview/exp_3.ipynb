{
 "cells": [
  {
   "cell_type": "code",
   "execution_count": 1,
   "metadata": {},
   "outputs": [],
   "source": [
    "import datetime\n",
    "import os\n",
    "from mdagent import MDAgent\n",
    "import matplotlib.pyplot as plt"
   ]
  },
  {
   "cell_type": "code",
   "execution_count": 2,
   "metadata": {},
   "outputs": [
    {
     "name": "stdout",
     "output_type": "stream",
     "text": [
      "date and time: 2024-07-16\n",
      "time: 20:21:24\n",
      "LLM:  gpt-4-1106-preview \n",
      "Temperature:  0.1\n"
     ]
    }
   ],
   "source": [
    "prompt3 = \"Download the PDB file for PDB ID 1GZX. Then, analyze the secondary structure of the protein and tell me how many chains, sheets, etc. there are.\"\n",
    "llm_var = \"gpt-4-1106-preview\"\n",
    "tools = \"all\"\n",
    "agent = MDAgent(agent_type=\"Structured\", model=llm_var, top_k_tools=tools)\n",
    "now = datetime.datetime.now()\n",
    "date = now.strftime(\"%Y-%m-%d\")\n",
    "print(\"date and time:\",date)\n",
    "time = now.strftime(\"%H:%M:%S\")\n",
    "print(\"time:\",time)\n",
    "print(\"LLM: \",agent.llm.model_name,\"\\nTemperature: \",agent.llm.temperature)"
   ]
  },
  {
   "cell_type": "code",
   "execution_count": 3,
   "metadata": {},
   "outputs": [
    {
     "name": "stdout",
     "output_type": "stream",
     "text": [
      "Thought: To answer the question, I need to first download the PDB file for the given PDB ID (1GZX). After obtaining the file, I will analyze the secondary structure of the protein to determine the number of chains, sheets, and other structural elements.\n",
      "\n",
      "Action:\n",
      "```\n",
      "{\n",
      "  \"action\": \"PDBFileDownloader\",\n",
      "  \"action_input\": {\n",
      "    \"query\": \"1GZX\"\n",
      "  }\n",
      "}\n",
      "```\n",
      "\n",
      "PDB file found with this ID: 1GZX\n"
     ]
    },
    {
     "name": "stderr",
     "output_type": "stream",
     "text": [
      "2024-07-16 20:21:29.705 \n",
      "  \u001b[33m\u001b[1mWarning:\u001b[0m to view this Streamlit app on a browser, run it with the following\n",
      "  command:\n",
      "\n",
      "    streamlit run /opt/anaconda3/envs/mda_jun15/lib/python3.12/site-packages/ipykernel_launcher.py [ARGUMENTS]\n"
     ]
    },
    {
     "name": "stdout",
     "output_type": "stream",
     "text": [
      "Action:\n",
      "```\n",
      "{\n",
      "  \"action\": \"ComputeDSSP\",\n",
      "  \"action_input\": {\n",
      "    \"traj_file\": \"1GZX_202129\"\n",
      "  }\n",
      "}\n",
      "```Final Answer: The protein with PDB ID 1GZX consists of 444 residues in helical structures, no residues in strands, and 130 residues in coil (unstructured) regions. Additionally, there are 213 residues that are not assigned and not considered protein residues. The analysis does not specify the number of chains, so additional information would be needed to determine that.Prompt: Analyze the protein structure of the protein with PDB ID 1GZX and determine the distribution of residues in helical structures, strands, and coil regions.\n",
      "\n",
      "Step 1: Obtain the protein structure file for PDB ID 1GZX.\n",
      "Step 2: Use a protein structure analysis tool to identify the secondary structures (helices, strands, coils) in the protein.\n",
      "Step 3: Analyze the distribution of residues in helical structures, strands, and coil regions.\n",
      "Step 4: Determine the number of residues that are not assigned or not considered protein residues.\n",
      "Step 5: Summarize the findings and provide the final answer.\n",
      "\n",
      "Final Answer: The protein with PDB ID 1GZX consists of 444 residues in helical structures, no residues in strands, and 130 residues in coil (unstructured) regions. Additionally, there are 213 residues that are not assigned and not considered protein residues. The analysis does not specify the number of chains, so additional information would be needed to determine that.Your run id is:  UM7DNPTO\n"
     ]
    },
    {
     "data": {
      "text/plain": [
       "('Final Answer: The protein with PDB ID 1GZX consists of 444 residues in helical structures, no residues in strands, and 130 residues in coil (unstructured) regions. Additionally, there are 213 residues that are not assigned and not considered protein residues. The analysis does not specify the number of chains, so additional information would be needed to determine that.',\n",
       " 'UM7DNPTO')"
      ]
     },
     "execution_count": 3,
     "metadata": {},
     "output_type": "execute_result"
    }
   ],
   "source": [
    "agent.run(prompt3)"
   ]
  },
  {
   "cell_type": "code",
   "execution_count": 4,
   "metadata": {},
   "outputs": [
    {
     "name": "stdout",
     "output_type": "stream",
     "text": [
      "date and time: 2024-07-16\n",
      "time: 20:21:42\n"
     ]
    }
   ],
   "source": [
    "now = datetime.datetime.now()\n",
    "date = now.strftime(\"%Y-%m-%d\")\n",
    "print(\"date and time:\",date)\n",
    "time = now.strftime(\"%H:%M:%S\")\n",
    "print(\"time:\",time)"
   ]
  },
  {
   "cell_type": "code",
   "execution_count": 5,
   "metadata": {},
   "outputs": [
    {
     "name": "stdout",
     "output_type": "stream",
     "text": [
      "Files found in registry: 1GZX_202129: PDB file downloaded from RSCB, PDBFile ID: 1GZX_202129, rec0_202133: dssp values for trajectory with id: 1GZX_202129\n"
     ]
    }
   ],
   "source": [
    "registry = agent.path_registry\n",
    "print(registry.list_path_names_and_descriptions())"
   ]
  },
  {
   "cell_type": "code",
   "execution_count": 6,
   "metadata": {},
   "outputs": [
    {
     "name": "stdout",
     "output_type": "stream",
     "text": [
      "Number of residues in chains:  12\n",
      "Number of residues in sheets:  0\n",
      "Number of residues in helices:  444\n",
      "Number of residues in coils:  130\n"
     ]
    }
   ],
   "source": [
    "import mdtraj as md\n",
    "path = registry.get_mapped_path(\"1GZX_202129\")\n",
    "traj = md.load(path)\n",
    "top = traj.topology\n",
    "number_of_chains = top.n_chains\n",
    "secondary_structure = md.compute_dssp(traj,simplified=True)\n",
    "print(\"Number of residues in chains: \",number_of_chains)\n",
    "print(\"Number of residues in sheets: \",len([i for i in secondary_structure[0] if i == 'E']))\n",
    "print(\"Number of residues in helices: \",len([i for i in secondary_structure[0] if i == 'H']))\n",
    "print(\"Number of residues in coils: \",len([i for i in secondary_structure[0] if i == 'C']))\n"
   ]
  },
  {
   "cell_type": "markdown",
   "metadata": {},
   "source": [
    "# Experiment Result:\n",
    "### Completed without Exception or TimeOut Errors ✅\n",
    "### Attempted all necessary steps ✅\n",
    "### Logic make sense ✅\n",
    "### Correct Answer  ✅"
   ]
  },
  {
   "cell_type": "code",
   "execution_count": null,
   "metadata": {},
   "outputs": [],
   "source": []
  }
 ],
 "metadata": {
  "kernelspec": {
   "display_name": "mdagent2",
   "language": "python",
   "name": "python3"
  },
  "language_info": {
   "codemirror_mode": {
    "name": "ipython",
    "version": 3
   },
   "file_extension": ".py",
   "mimetype": "text/x-python",
   "name": "python",
   "nbconvert_exporter": "python",
   "pygments_lexer": "ipython3",
   "version": "3.12.4"
  }
 },
 "nbformat": 4,
 "nbformat_minor": 2
}
