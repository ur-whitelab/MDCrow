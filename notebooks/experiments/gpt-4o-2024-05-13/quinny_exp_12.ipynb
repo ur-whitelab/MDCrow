{
 "cells": [
  {
   "cell_type": "code",
   "execution_count": 1,
   "id": "8ff706fd-c267-4d05-af58-9a3848cce8ff",
   "metadata": {},
   "outputs": [],
   "source": [
    "from mdagent import MDAgent"
   ]
  },
  {
   "cell_type": "code",
   "execution_count": 2,
   "id": "c86c88a1-f5f8-473a-8342-7364252bcfba",
   "metadata": {},
   "outputs": [
    {
     "name": "stdout",
     "output_type": "stream",
     "text": [
      "date: 2024-07-10\n",
      "time: 19:37:56\n"
     ]
    }
   ],
   "source": [
    "#todays date and time\n",
    "import datetime\n",
    "\n",
    "start = datetime.datetime.now()\n",
    "date = start.strftime(\"%Y-%m-%d\")\n",
    "print(\"date:\",date)\n",
    "time = start.strftime(\"%H:%M:%S\")\n",
    "print(\"time:\",time)"
   ]
  },
  {
   "cell_type": "code",
   "execution_count": 3,
   "id": "f62bfc17-854b-4152-bb82-7e9e0ec4b854",
   "metadata": {},
   "outputs": [
    {
     "name": "stdout",
     "output_type": "stream",
     "text": [
      "LLM:  gpt-4o \n",
      "Temperature:  0.1\n"
     ]
    }
   ],
   "source": [
    "model='gpt-4o'\n",
    "mda = MDAgent(\n",
    "    agent_type='Structured', \n",
    "    model=model, \n",
    "    tools_model=model,\n",
    "    use_memory=False, \n",
    "    top_k_tools=\"all\"\n",
    ")\n",
    "print(\"LLM: \", mda.llm.model_name,\"\\nTemperature: \", mda.llm.temperature)"
   ]
  },
  {
   "cell_type": "code",
   "execution_count": 4,
   "id": "ad2f6f66-e6b8-4244-b908-68fbebbf6e8b",
   "metadata": {},
   "outputs": [
    {
     "name": "stdout",
     "output_type": "stream",
     "text": [
      "Thought: To address the question, I need to first download the PDB files for the proteins 8PFK and 8PFQ. Then, I will analyze and compare their secondary structures, including the number of atoms, secondary structure, number of chains, etc.\n",
      "\n",
      "Action: \n",
      "```\n",
      "{\n",
      "  \"action\": \"PDBFileDownloader\",\n",
      "  \"action_input\": \"8PFK\"\n",
      "}\n",
      "```PDB file found with this ID: 8PFK\n"
     ]
    },
    {
     "name": "stderr",
     "output_type": "stream",
     "text": [
      "2024-07-10 19:37:58.741 \n",
      "  \u001b[33m\u001b[1mWarning:\u001b[0m to view this Streamlit app on a browser, run it with the following\n",
      "  command:\n",
      "\n",
      "    streamlit run /scratch/qcampbe2/myenvs/mdagent/lib/python3.12/site-packages/ipykernel_launcher.py [ARGUMENTS]\n"
     ]
    },
    {
     "name": "stdout",
     "output_type": "stream",
     "text": [
      "Thought: I need to download the PDB file for the second protein, 8PFQ, before proceeding with the analysis and comparison.\n",
      "\n",
      "Action:\n",
      "```\n",
      "{\n",
      "  \"action\": \"PDBFileDownloader\",\n",
      "  \"action_input\": \"8PFQ\"\n",
      "}\n",
      "```PDB file found with this ID: 8PFQ\n",
      "Now that I have successfully downloaded the PDB files for both proteins, 8PFK and 8PFQ, I will proceed with analyzing their secondary structures, including the number of atoms, secondary structure, number of chains, etc.\n",
      "\n",
      "Action:\n",
      "```\n",
      "{\n",
      "  \"action\": \"SummarizeProteinStructure\",\n",
      "  \"action_input\": {\n",
      "    \"traj_file\": \"8PFK_193758\"\n",
      "  }\n",
      "}\n",
      "```\n",
      "To complete the analysis, I need to summarize the protein structure for the second protein, 8PFQ, and then compare the results.\n",
      "\n",
      "Action:\n",
      "```\n",
      "{\n",
      "  \"action\": \"SummarizeProteinStructure\",\n",
      "  \"action_input\": {\n",
      "    \"traj_file\": \"8PFQ_193800\"\n",
      "  }\n",
      "}\n",
      "```Now that I have the structural summaries for both proteins, I need to analyze their secondary structures to provide a comprehensive comparison. I will use the ComputeDSSP tool to determine the secondary structure assignments for both proteins.\n",
      "\n",
      "Action:\n",
      "```\n",
      "{\n",
      "  \"action\": \"ComputeDSSP\",\n",
      "  \"action_input\": {\n",
      "    \"traj_file\": \"8PFK_193758\"\n",
      "  }\n",
      "}\n",
      "```To complete the analysis, I need to compute the DSSP (secondary structure) for the second protein, 8PFQ, and then compare the results.\n",
      "\n",
      "Action:\n",
      "```\n",
      "{\n",
      "  \"action\": \"ComputeDSSP\",\n",
      "  \"action_input\": {\n",
      "    \"traj_file\": \"8PFQ_193800\"\n",
      "  }\n",
      "}\n",
      "```\n",
      "I have successfully downloaded the PDB files for both proteins, 8PFK and 8PFQ, and summarized their structures. Here are the details:\n",
      "\n",
      "- **8PFK**:\n",
      "  - Number of atoms: 487\n",
      "  - Number of residues: 109\n",
      "  - Number of chains: 2\n",
      "  - Number of bonds: 420\n",
      "  - Secondary structure: No secondary structure assigned (all residues are not protein residues)\n",
      "\n",
      "- **8PFQ**:\n",
      "  - Number of atoms: 950\n",
      "  - Number of residues: 194\n",
      "  - Number of chains: 6\n",
      "  - Number of bonds: 833\n",
      "  - Secondary structure: No secondary structure assigned (all residues are not protein residues)\n",
      "\n",
      "Final Answer:\n",
      "The PDB files for 8PFK and 8PFQ have been downloaded and analyzed. Here is the comparison of their structures:\n",
      "\n",
      "- **8PFK**:\n",
      "  - Number of atoms: 487\n",
      "  - Number of residues: 109\n",
      "  - Number of chains: 2\n",
      "  - Number of bonds: 420\n",
      "  - Secondary structure: No secondary structure assigned (all residues are not protein residues)\n",
      "\n",
      "- **8PFQ**:\n",
      "  - Number of atoms: 950\n",
      "  - Number of residues: 194\n",
      "  - Number of chains: 6\n",
      "  - Number of bonds: 833\n",
      "  - Secondary structure: No secondary structure assigned (all residues are not protein residues)\n",
      "\n",
      "Both proteins do not have secondary structures assigned, indicating that the residues are not recognized as protein residues in the provided PDB files."
     ]
    }
   ],
   "source": [
    "prompt = '''Download the PDB files for 8PFK and 8PFQ. Then, compare the secondary structure of the two proteins, \n",
    "including number atoms, secondary structure, number of chains, etc..'''\n",
    "answer = mda.run(prompt)"
   ]
  },
  {
   "cell_type": "code",
   "execution_count": 5,
   "id": "d23fbcab-9ceb-46d5-ad3b-d6cf6687d1e4",
   "metadata": {},
   "outputs": [
    {
     "name": "stdout",
     "output_type": "stream",
     "text": [
      "duration: 0.33 minutes\n"
     ]
    }
   ],
   "source": [
    "end = datetime.datetime.now()\n",
    "elapsed = end - start\n",
    "print(f\"duration: {elapsed.total_seconds()/60:.2f} minutes\")"
   ]
  },
  {
   "cell_type": "markdown",
   "id": "da5ba7ae-a3e7-4eec-b869-a884948231c4",
   "metadata": {},
   "source": [
    "# Confirm the downloaded files and their structures"
   ]
  },
  {
   "cell_type": "code",
   "execution_count": 8,
   "id": "5d1f0c85-88d6-4d2a-aae1-6a2d763f280d",
   "metadata": {},
   "outputs": [
    {
     "name": "stdout",
     "output_type": "stream",
     "text": [
      "Names found in registry: 8PFK_193758, 8PFQ_193800, rec0_193809, rec0_193810\n"
     ]
    }
   ],
   "source": [
    "registry = mda.path_registry\n",
    "all_names = registry.list_path_names()\n",
    "print(all_names)"
   ]
  },
  {
   "cell_type": "code",
   "execution_count": 13,
   "id": "6684abd0-efd9-4add-bf1b-abfe1f664dbe",
   "metadata": {},
   "outputs": [
    {
     "name": "stdout",
     "output_type": "stream",
     "text": [
      "It is asserted that 8PFK and 8PFQ are in path_registry\n",
      "It is asserted these pdb files physically exist\n"
     ]
    }
   ],
   "source": [
    "import re\n",
    "import os\n",
    "pattern1 = re.compile(r\"8PFK_\\d+\")\n",
    "pattern2 = re.compile(r\"8PFQ_\\d+\")\n",
    "match1 = pattern1.search(all_names)\n",
    "match2 = pattern2.search(all_names)\n",
    "assert match1\n",
    "assert match2\n",
    "print('It is asserted that 8PFK and 8PFQ are in path_registry')\n",
    "path1 = registry.get_mapped_path(match1.group(0))\n",
    "path2 = registry.get_mapped_path(match2.group(0))\n",
    "assert os.path.exists(path1)\n",
    "assert os.path.exists(path2)\n",
    "print('It is asserted these pdb files physically exist')"
   ]
  },
  {
   "cell_type": "code",
   "execution_count": 20,
   "id": "5c9a6ace-69e8-4042-9d35-ca598f4d00c2",
   "metadata": {},
   "outputs": [
    {
     "name": "stdout",
     "output_type": "stream",
     "text": [
      "protein 8PFK\n",
      "Number of chains:  2\n",
      "Number of atoms:  487\n",
      "\n",
      "protein 8PFQ\n",
      "Number of chains:  6\n",
      "Number of atoms:  950\n"
     ]
    }
   ],
   "source": [
    "import mdtraj as md\n",
    "traj = md.load(path1)\n",
    "top = traj.topology\n",
    "number_of_chains = top.n_chains\n",
    "number_of_atoms = top.n_atoms\n",
    "print('protein 8PFK')\n",
    "print('Number of chains: ', number_of_chains)\n",
    "print('Number of atoms: ', number_of_atoms)\n",
    "traj = md.load(path2)\n",
    "top = traj.topology\n",
    "number_of_chains = top.n_chains\n",
    "number_of_atoms = top.n_atoms\n",
    "print('\\nprotein 8PFQ')\n",
    "print('Number of chains: ', number_of_chains)\n",
    "print('Number of atoms: ', number_of_atoms)"
   ]
  }
 ],
 "metadata": {
  "kernelspec": {
   "display_name": "mdagent",
   "language": "python",
   "name": "mdagent"
  },
  "language_info": {
   "codemirror_mode": {
    "name": "ipython",
    "version": 3
   },
   "file_extension": ".py",
   "mimetype": "text/x-python",
   "name": "python",
   "nbconvert_exporter": "python",
   "pygments_lexer": "ipython3",
   "version": "3.12.4"
  }
 },
 "nbformat": 4,
 "nbformat_minor": 5
}
