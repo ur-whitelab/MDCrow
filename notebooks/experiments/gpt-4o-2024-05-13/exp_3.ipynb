{
 "cells": [
  {
   "cell_type": "code",
   "execution_count": 1,
   "metadata": {},
   "outputs": [],
   "source": [
    "import datetime\n",
    "import os\n",
    "from mdagent import MDAgent\n",
    "import matplotlib.pyplot as plt"
   ]
  },
  {
   "cell_type": "code",
   "execution_count": 2,
   "metadata": {},
   "outputs": [
    {
     "name": "stdout",
     "output_type": "stream",
     "text": [
      "date and time: 2024-07-10\n",
      "time: 16:13:36\n",
      "LLM:  gpt-4o-2024-05-13 \n",
      "Temperature:  0.1\n"
     ]
    }
   ],
   "source": [
    "prompt3 = \"Download the PDB file for PDB ID 1GZX. Then, analyze the secondary structure of the protein and tell me how many chains, sheets, etc. there are.\"\n",
    "llm_var = \"gpt-4o-2024-05-13\"\n",
    "tools = \"all\"\n",
    "agent = MDAgent(agent_type=\"Structured\", model=llm_var, top_k_tools=tools)\n",
    "now = datetime.datetime.now()\n",
    "date = now.strftime(\"%Y-%m-%d\")\n",
    "print(\"date and time:\",date)\n",
    "time = now.strftime(\"%H:%M:%S\")\n",
    "print(\"time:\",time)\n",
    "print(\"LLM: \",agent.llm.model_name,\"\\nTemperature: \",agent.llm.temperature)"
   ]
  },
  {
   "cell_type": "code",
   "execution_count": 3,
   "metadata": {},
   "outputs": [
    {
     "name": "stdout",
     "output_type": "stream",
     "text": [
      "Thought: To address the question, I need to first download the PDB file for PDB ID 1GZX. After downloading, I will analyze the secondary structure of the protein to determine the number of chains, sheets, etc.\n",
      "\n",
      "Action: \n",
      "```\n",
      "{\n",
      "  \"action\": \"PDBFileDownloader\",\n",
      "  \"action_input\": \"1GZX\"\n",
      "}\n",
      "```PDB file found with this ID: 1GZX\n"
     ]
    },
    {
     "name": "stderr",
     "output_type": "stream",
     "text": [
      "2024-07-10 16:13:39.243 \n",
      "  \u001b[33m\u001b[1mWarning:\u001b[0m to view this Streamlit app on a browser, run it with the following\n",
      "  command:\n",
      "\n",
      "    streamlit run /Users/jorgemedina/miniforge3/envs/mdagent2/lib/python3.11/site-packages/ipykernel_launcher.py [ARGUMENTS]\n"
     ]
    },
    {
     "name": "stdout",
     "output_type": "stream",
     "text": [
      "Now that the PDB file for 1GZX has been downloaded, I will analyze the secondary structure of the protein to determine the number of chains, sheets, etc.\n",
      "\n",
      "Action:\n",
      "```\n",
      "{\n",
      "  \"action\": \"ComputeDSSP\",\n",
      "  \"action_input\": {\n",
      "    \"traj_file\": \"1GZX_161339\"\n",
      "  }\n",
      "}\n",
      "```To provide a complete answer, I need to determine the number of chains in the protein structure. I will use the `SummarizeProteinStructure` tool to get this information.\n",
      "\n",
      "Action:\n",
      "```\n",
      "{\n",
      "  \"action\": \"SummarizeProteinStructure\",\n",
      "  \"action_input\": {\n",
      "    \"traj_file\": \"1GZX_161339\"\n",
      "  }\n",
      "}\n",
      "```I now have all the necessary information to answer the question. The secondary structure analysis and the summary of the protein structure provide the following details:\n",
      "\n",
      "- Number of chains: 12\n",
      "- Number of helices: 444\n",
      "- Number of strands: 0\n",
      "- Number of coils: 130\n",
      "- Number of residues not assigned or not a protein residue: 213\n",
      "\n",
      "Final Answer: The protein structure for PDB ID 1GZX consists of 12 chains. The secondary structure analysis reveals that there are 444 helices, 0 strands, and 130 coils. Additionally, there are 213 residues that are either not assigned or not protein residues.Prompt: Analyze the protein structure for PDB ID 1GZX and provide a summary of the secondary structure elements.\n",
      "\n",
      "Steps:\n",
      "1. Gather necessary information for protein structure analysis.\n",
      "2. Conduct secondary structure analysis.\n",
      "3. Determine the number of chains, helices, strands, coils, and unassigned residues.\n",
      "4. Compile all information into a summary of the protein structure.\n",
      "\n",
      "Final Solution:\n",
      "The protein structure for PDB ID 1GZX consists of 12 chains. The secondary structure analysis reveals that there are 444 helices, 0 strands, and 130 coils. Additionally, there are 213 residues that are either not assigned or not protein residues.Your run id is:  8WNEGWIW\n"
     ]
    },
    {
     "data": {
      "text/plain": [
       "('I now have all the necessary information to answer the question. The secondary structure analysis and the summary of the protein structure provide the following details:\\n\\n- Number of chains: 12\\n- Number of helices: 444\\n- Number of strands: 0\\n- Number of coils: 130\\n- Number of residues not assigned or not a protein residue: 213\\n\\nFinal Answer: The protein structure for PDB ID 1GZX consists of 12 chains. The secondary structure analysis reveals that there are 444 helices, 0 strands, and 130 coils. Additionally, there are 213 residues that are either not assigned or not protein residues.',\n",
       " '8WNEGWIW')"
      ]
     },
     "execution_count": 3,
     "metadata": {},
     "output_type": "execute_result"
    }
   ],
   "source": [
    "agent.run(prompt3)"
   ]
  },
  {
   "cell_type": "code",
   "execution_count": 4,
   "metadata": {},
   "outputs": [
    {
     "name": "stdout",
     "output_type": "stream",
     "text": [
      "date and time: 2024-07-10\n",
      "time: 16:13:49\n"
     ]
    }
   ],
   "source": [
    "now = datetime.datetime.now()\n",
    "date = now.strftime(\"%Y-%m-%d\")\n",
    "print(\"date and time:\",date)\n",
    "time = now.strftime(\"%H:%M:%S\")\n",
    "print(\"time:\",time)"
   ]
  },
  {
   "cell_type": "code",
   "execution_count": 5,
   "metadata": {},
   "outputs": [
    {
     "name": "stdout",
     "output_type": "stream",
     "text": [
      "Files found in registry: 1GZX_161339: PDB file downloaded from RSCB, PDBFile ID: 1GZX_161339, rec0_161341: dssp values for trajectory with id: 1GZX_161339\n"
     ]
    }
   ],
   "source": [
    "registry = agent.path_registry\n",
    "print(registry.list_path_names_and_descriptions())"
   ]
  },
  {
   "cell_type": "code",
   "execution_count": 12,
   "metadata": {},
   "outputs": [
    {
     "name": "stdout",
     "output_type": "stream",
     "text": [
      "Number of chains:  12\n",
      "Number of sheets:  0\n",
      "Number of helices:  444\n",
      "Number of coils:  130\n"
     ]
    }
   ],
   "source": [
    "import mdtraj as md\n",
    "path = registry.get_mapped_path(\"1GZX_161339\")\n",
    "traj = md.load(path)\n",
    "top = traj.topology\n",
    "number_of_chains = top.n_chains\n",
    "secondary_structure = md.compute_dssp(traj,simplified=True)\n",
    "print(\"Number of chains: \",number_of_chains)\n",
    "print(\"Number of sheets: \",len([i for i in secondary_structure[0] if i == 'E']))\n",
    "print(\"Number of helices: \",len([i for i in secondary_structure[0] if i == 'H']))\n",
    "print(\"Number of coils: \",len([i for i in secondary_structure[0] if i == 'C']))\n"
   ]
  },
  {
   "cell_type": "markdown",
   "metadata": {},
   "source": [
    "# Experiment Result:\n",
    "### Completed without Exception or TimeOut Errors ✅\n",
    "### Attempted all necessary steps ✅\n",
    "### Logic make sense ✅\n",
    "### Correct Answer  ✅"
   ]
  },
  {
   "cell_type": "code",
   "execution_count": null,
   "metadata": {},
   "outputs": [],
   "source": []
  }
 ],
 "metadata": {
  "kernelspec": {
   "display_name": "mdagent2",
   "language": "python",
   "name": "python3"
  },
  "language_info": {
   "codemirror_mode": {
    "name": "ipython",
    "version": 3
   },
   "file_extension": ".py",
   "mimetype": "text/x-python",
   "name": "python",
   "nbconvert_exporter": "python",
   "pygments_lexer": "ipython3",
   "version": "3.11.9"
  }
 },
 "nbformat": 4,
 "nbformat_minor": 2
}
