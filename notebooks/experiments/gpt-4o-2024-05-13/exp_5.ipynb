{
 "cells": [
  {
   "cell_type": "code",
   "execution_count": 1,
   "metadata": {},
   "outputs": [],
   "source": [
    "import datetime\n",
    "import os\n",
    "from mdagent import MDAgent\n",
    "import matplotlib.pyplot as plt"
   ]
  },
  {
   "cell_type": "code",
   "execution_count": 2,
   "metadata": {},
   "outputs": [
    {
     "name": "stdout",
     "output_type": "stream",
     "text": [
      "date and time: 2024-07-10\n",
      "time: 16:48:46\n",
      "LLM:  gpt-4o-2024-05-13 \n",
      "Temperature:  0.1\n"
     ]
    }
   ],
   "source": [
    "prompt5 = \"Simulate 1XQ8 for 1ns at temperate 300K. Then tell me if the secondary structure changed from before the simulation to after.\"\n",
    "llm_var = \"gpt-4o-2024-05-13\"\n",
    "tools = \"all\"\n",
    "agent = MDAgent(agent_type=\"Structured\", model=llm_var, top_k_tools=tools)\n",
    "now = datetime.datetime.now()\n",
    "date = now.strftime(\"%Y-%m-%d\")\n",
    "print(\"date and time:\",date)\n",
    "time = now.strftime(\"%H:%M:%S\")\n",
    "print(\"time:\",time)\n",
    "print(\"LLM: \",agent.llm.model_name,\"\\nTemperature: \",agent.llm.temperature)"
   ]
  },
  {
   "cell_type": "code",
   "execution_count": 3,
   "metadata": {},
   "outputs": [
    {
     "name": "stdout",
     "output_type": "stream",
     "text": [
      "Thought: To address the question, I need to perform a molecular dynamics simulation of the protein with PDB ID 1XQ8 for 1 nanosecond at a temperature of 300K. After the simulation, I will analyze the secondary structure to determine if there were any changes. The steps are as follows:\n",
      "\n",
      "1. Download the PDB file for 1XQ8.\n",
      "2. Set up and run the molecular dynamics simulation.\n",
      "3. Compute the DSSP (secondary structure) assignment before and after the simulation.\n",
      "4. Compare the secondary structure before and after the simulation.\n",
      "\n",
      "First, I will download the PDB file for 1XQ8.\n",
      "\n",
      "Action:\n",
      "```\n",
      "{\n",
      "  \"action\": \"PDBFileDownloader\",\n",
      "  \"action_input\": \"1XQ8\"\n",
      "}\n",
      "```"
     ]
    },
    {
     "name": "stderr",
     "output_type": "stream",
     "text": [
      "2024-07-10 16:48:50.970 \n",
      "  \u001b[33m\u001b[1mWarning:\u001b[0m to view this Streamlit app on a browser, run it with the following\n",
      "  command:\n",
      "\n",
      "    streamlit run /Users/jorgemedina/miniforge3/envs/mdagent2/lib/python3.11/site-packages/ipykernel_launcher.py [ARGUMENTS]\n"
     ]
    },
    {
     "name": "stdout",
     "output_type": "stream",
     "text": [
      "PDB file found with this ID: 1XQ8\n",
      "To proceed with the molecular dynamics simulation of the protein 1XQ8 for 1 nanosecond at 300K, I need to set up and run the simulation. After that, I will analyze the secondary structure before and after the simulation. \n",
      "\n",
      "Next, I will set up and run the molecular dynamics simulation.\n",
      "\n",
      "Action:\n",
      "```\n",
      "{\n",
      "  \"action\": \"SetUpandRunFunction\",\n",
      "  \"action_input\": {\n",
      "    \"pdb_id\": \"1XQ8_164851\",\n",
      "    \"forcefield_files\": [],\n",
      "    \"save\": true,\n",
      "    \"system_params\": {\n",
      "      \"nonbondedMethod\": \"NoCutoff\",\n",
      "      \"constraints\": \"None\",\n",
      "      \"rigidWater\": false,\n",
      "      \"solvate\": false\n",
      "    },\n",
      "    \"integrator_params\": {\n",
      "      \"integrator_type\": \"LangevinMiddle\",\n",
      "      \"Temperature\": \"300 * kelvin\",\n",
      "      \"Friction\": \"1.0 / picoseconds\",\n",
      "      \"Timestep\": \"0.002 * picoseconds\"\n",
      "    },\n",
      "    \"simulation_params\": {\n",
      "      \"Ensemble\": \"NVT\",\n",
      "      \"Number of Steps\": 500000,\n",
      "      \"record_interval_steps\": 5000,\n",
      "      \"record_params\": [\"step\", \"potentialEnergy\", \"temperature\"]\n",
      "    }\n",
      "  }\n",
      "}\n",
      "```\n",
      "Setting default forcefields v2\n",
      "Building system...\n",
      "About to create system...\n",
      "Attempts at creating system: 0/3\n",
      "adding system without solvent\n",
      "System built successfully\n",
      "<openmm.openmm.System; proxy of <Swig Object of type 'OpenMM::System *' at 0x17e8c7630> >\n",
      "Setting up integrator...\n",
      "Creating simulation...\n",
      "simulation set!\n",
      "Performing energy minimization...\n",
      "Minimization complete!\n",
      "Initial Positions saved to initial_positions.pdb\n",
      "Equilibrating...\n",
      "Simulating...\n",
      "Done!\n",
      "Standalone simulation script written to /Users/jorgemedina/Desktop/md-agent/ckpt/ckpt_87/simulations/NVT_1XQ8_164851_20240710_164856.py\n",
      "['TOP_sim0_170317_1A3N_170301_20240710_170321.pdb', 'LOG_sim0_164856_1XQ8_164851_20240710_164856.txt', 'TRAJ_sim0_164856_1XQ8_164851_20240710_164856.dcd', 'exp_8.ipynb', 'TRAJ_sim0_170317_1A3N_170301_20240710_170321.dcd', 'exp_4.ipynb', 'exp_6.ipynb', 'exp_2.ipynb', 'exp_7.ipynb', 'exp_5.ipynb', 'exp_1.ipynb', 'TOP_sim0_164856_1XQ8_164851_20240710_164856.pdb', 'LOG_sim0_170317_1A3N_170301_20240710_170321.txt', 'exp_3.ipynb']\n",
      "To determine if the secondary structure of the protein 1XQ8 changed from before the simulation to after, I need to compute the DSSP (secondary structure) assignment for both the initial and final states of the simulation. \n",
      "\n",
      "First, I will compute the DSSP for the initial state using the initial topology file. Then, I will compute the DSSP for the final state using the trajectory file from the simulation.\n",
      "\n",
      "Action:\n",
      "```\n",
      "{\n",
      "  \"action\": \"ComputeDSSP\",\n",
      "  \"action_input\": {\n",
      "    \"traj_file\": \"rec2_164856\",\n",
      "    \"top_file\": \"top_sim0_164856\"\n",
      "  }\n",
      "}\n",
      "```"
     ]
    },
    {
     "name": "stderr",
     "output_type": "stream",
     "text": [
      "/Users/jorgemedina/miniforge3/envs/mdagent2/lib/python3.11/site-packages/mdtraj/formats/pdb/pdbfile.py:206: UserWarning: Unlikely unit cell vectors detected in PDB file likely resulting from a dummy CRYST1 record. Discarding unit cell vectors.\n",
      "  warnings.warn(\n"
     ]
    },
    {
     "name": "stdout",
     "output_type": "stream",
     "text": [
      "To determine if the secondary structure of the protein 1XQ8 changed from before the simulation to after, I need to compute the DSSP (secondary structure) assignment for the initial state of the protein. I will then compare it with the DSSP assignment obtained after the simulation.\n",
      "\n",
      "Next, I will compute the DSSP for the initial state using the initial topology file.\n",
      "\n",
      "Action:\n",
      "```\n",
      "{\n",
      "  \"action\": \"ComputeDSSP\",\n",
      "  \"action_input\": {\n",
      "    \"traj_file\": \"top_sim0_164856\"\n",
      "  }\n",
      "}\n",
      "```"
     ]
    },
    {
     "name": "stderr",
     "output_type": "stream",
     "text": [
      "/Users/jorgemedina/miniforge3/envs/mdagent2/lib/python3.11/site-packages/mdtraj/formats/pdb/pdbfile.py:206: UserWarning: Unlikely unit cell vectors detected in PDB file likely resulting from a dummy CRYST1 record. Discarding unit cell vectors.\n",
      "  warnings.warn(\n"
     ]
    },
    {
     "name": "stdout",
     "output_type": "stream",
     "text": [
      "To determine if the secondary structure of the protein 1XQ8 changed from before the simulation to after, I need to compare the DSSP (secondary structure) assignments obtained for both states.\n",
      "\n",
      "The DSSP assignment before the simulation is:\n",
      "- Helix: 83\n",
      "- Strand: 2\n",
      "- Coil: 55\n",
      "\n",
      "The DSSP assignment after the simulation is:\n",
      "- Helix: 5391\n",
      "- Strand: 0\n",
      "- Coil: 8609\n",
      "\n",
      "There is a significant change in the secondary structure, particularly in the helix and coil content. The helix content increased dramatically, while the strand content disappeared, and the coil content increased significantly.\n",
      "\n",
      "Final Answer: The secondary structure of the protein 1XQ8 changed significantly after the 1ns simulation at 300K. The helix content increased dramatically from 83 to 5391, the strand content disappeared (from 2 to 0), and the coil content increased from 55 to 8609.The agent attempted to determine if the secondary structure of protein 1XQ8 changed before and after a simulation. The DSSP assignments before the simulation were 83 helix, 2 strand, and 55 coil. After the simulation, the assignments were 5391 helix, 0 strand, and 8609 coil. This indicated a significant change in the secondary structure, with a dramatic increase in helix content, disappearance of strand content, and a significant increase in coil content. The final conclusion was that the protein's secondary structure had indeed changed significantly after the 1ns simulation at 300K.Your run id is:  3L62WEDC\n"
     ]
    },
    {
     "data": {
      "text/plain": [
       "('To determine if the secondary structure of the protein 1XQ8 changed from before the simulation to after, I need to compare the DSSP (secondary structure) assignments obtained for both states.\\n\\nThe DSSP assignment before the simulation is:\\n- Helix: 83\\n- Strand: 2\\n- Coil: 55\\n\\nThe DSSP assignment after the simulation is:\\n- Helix: 5391\\n- Strand: 0\\n- Coil: 8609\\n\\nThere is a significant change in the secondary structure, particularly in the helix and coil content. The helix content increased dramatically, while the strand content disappeared, and the coil content increased significantly.\\n\\nFinal Answer: The secondary structure of the protein 1XQ8 changed significantly after the 1ns simulation at 300K. The helix content increased dramatically from 83 to 5391, the strand content disappeared (from 2 to 0), and the coil content increased from 55 to 8609.',\n",
       " '3L62WEDC')"
      ]
     },
     "execution_count": 3,
     "metadata": {},
     "output_type": "execute_result"
    }
   ],
   "source": [
    "agent.run(prompt5)"
   ]
  },
  {
   "cell_type": "code",
   "execution_count": 4,
   "metadata": {},
   "outputs": [
    {
     "name": "stdout",
     "output_type": "stream",
     "text": [
      "Files found in registry: 1XQ8_164851: PDB file downloaded from RSCB, PDBFile ID: 1XQ8_164851, top_sim0_164856: Initial positions for simulation sim0_164856, sim0_164856: Basic Simulation of Protein 1XQ8_164851, rec0_164856: Simulation trajectory for protein 1XQ8_164851 and simulation sim0_164856, rec1_164856: Simulation state log for protein 1XQ8_164851 and simulation sim0_164856, rec2_164856: Simulation pdb frames for protein 1XQ8_164851 and simulation sim0_164856, rec0_170702: dssp values for trajectory with id: rec2_164856, rec0_170706: dssp values for trajectory with id: top_sim0_164856\n"
     ]
    }
   ],
   "source": [
    "registry = agent.path_registry\n",
    "print(registry.list_path_names_and_descriptions())"
   ]
  },
  {
   "cell_type": "code",
   "execution_count": 5,
   "metadata": {},
   "outputs": [
    {
     "name": "stdout",
     "output_type": "stream",
     "text": [
      "date and time: 2024-07-10\n",
      "time: 17:07:12\n"
     ]
    }
   ],
   "source": [
    "now = datetime.datetime.now()\n",
    "date = now.strftime(\"%Y-%m-%d\")\n",
    "print(\"date and time:\",date)\n",
    "time = now.strftime(\"%H:%M:%S\")\n",
    "print(\"time:\",time)"
   ]
  },
  {
   "cell_type": "code",
   "execution_count": 8,
   "metadata": {},
   "outputs": [
    {
     "name": "stdout",
     "output_type": "stream",
     "text": [
      "Files found in registry: 1XQ8_164851: PDB file downloaded from RSCB\n",
      " PDBFile ID: 1XQ8_164851\n",
      " top_sim0_164856: Initial positions for simulation sim0_164856\n",
      " sim0_164856: Basic Simulation of Protein 1XQ8_164851\n",
      " rec0_164856: Simulation trajectory for protein 1XQ8_164851 and simulation sim0_164856\n",
      " rec1_164856: Simulation state log for protein 1XQ8_164851 and simulation sim0_164856\n",
      " rec2_164856: Simulation pdb frames for protein 1XQ8_164851 and simulation sim0_164856\n",
      " rec0_170702: dssp values for trajectory with id: rec2_164856\n",
      " rec0_170706: dssp values for trajectory with id: top_sim0_164856\n"
     ]
    }
   ],
   "source": [
    "registry = agent.path_registry\n",
    "paths_and_descriptions = registry.list_path_names_and_descriptions()\n",
    "print(\"\\n\".join(paths_and_descriptions.split(\",\")))"
   ]
  },
  {
   "cell_type": "code",
   "execution_count": 15,
   "metadata": {},
   "outputs": [
    {
     "name": "stdout",
     "output_type": "stream",
     "text": [
      "Number of initial sheets:  0\n",
      "Number of initial helices:  76\n",
      "Number of initial coils:  64\n",
      "Number of final sheets:  0\n",
      "Number of final helices:  44\n",
      "Number of final coils:  96\n"
     ]
    }
   ],
   "source": [
    "import mdtraj as md\n",
    "import numpy as np\n",
    "\n",
    "traj_path = registry.get_mapped_path(\"rec2_164856\")\n",
    "top_path = registry.get_mapped_path(\"top_sim0_164856\")\n",
    "traj = md.load(traj_path, top=top_path)\n",
    "\n",
    "# Compute the secondary structure of the trajectory\n",
    "dssp_final = md.compute_dssp(traj[-1], simplified=True)\n",
    "dssp_initial = md.compute_dssp(traj[0], simplified=True)\n",
    "\n",
    "print(\"Number of initial sheets: \",len([i for i in dssp_initial[0] if i == 'E']))\n",
    "print(\"Number of initial helices: \",len([i for i in dssp_initial[0] if i == 'H']))\n",
    "print(\"Number of initial coils: \",len([i for i in dssp_initial[0] if i == 'C']))\n",
    "\n",
    "print(\"Number of final sheets: \",len([i for i in dssp_final[0] if i == 'E']))\n",
    "print(\"Number of final helices: \",len([i for i in dssp_final[0] if i == 'H']))\n",
    "print(\"Number of final coils: \",len([i for i in dssp_final[0] if i == 'C']))\n",
    "\n"
   ]
  },
  {
   "cell_type": "markdown",
   "metadata": {},
   "source": [
    "# Experiment Result:\n",
    "### Completed without Exception or TimeOut Errors ✅\n",
    "### Attempted all necessary steps ✅\n",
    "### Logic make sense ✅\n",
    "### Correct Answer  ❌"
   ]
  },
  {
   "cell_type": "markdown",
   "metadata": {},
   "source": [
    "## Final answer returns the sum of all secondary structure assignments instead of the last frame"
   ]
  }
 ],
 "metadata": {
  "kernelspec": {
   "display_name": "mdagent2",
   "language": "python",
   "name": "python3"
  },
  "language_info": {
   "codemirror_mode": {
    "name": "ipython",
    "version": 3
   },
   "file_extension": ".py",
   "mimetype": "text/x-python",
   "name": "python",
   "nbconvert_exporter": "python",
   "pygments_lexer": "ipython3",
   "version": "3.11.9"
  }
 },
 "nbformat": 4,
 "nbformat_minor": 2
}
