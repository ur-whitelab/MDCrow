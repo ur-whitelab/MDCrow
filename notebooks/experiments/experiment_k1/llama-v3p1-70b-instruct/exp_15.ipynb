{
 "cells": [
  {
   "cell_type": "code",
   "execution_count": 1,
   "metadata": {
    "execution": {
     "iopub.execute_input": "2024-09-08T21:45:41.549684Z",
     "iopub.status.busy": "2024-09-08T21:45:41.549545Z",
     "iopub.status.idle": "2024-09-08T21:45:44.742424Z",
     "shell.execute_reply": "2024-09-08T21:45:44.742046Z"
    }
   },
   "outputs": [],
   "source": [
    "import datetime\n",
    "import os\n",
    "from mdagent import MDAgent"
   ]
  },
  {
   "cell_type": "code",
   "execution_count": 2,
   "metadata": {
    "execution": {
     "iopub.execute_input": "2024-09-08T21:45:44.744750Z",
     "iopub.status.busy": "2024-09-08T21:45:44.744425Z",
     "iopub.status.idle": "2024-09-08T21:45:44.950648Z",
     "shell.execute_reply": "2024-09-08T21:45:44.950250Z"
    }
   },
   "outputs": [
    {
     "name": "stdout",
     "output_type": "stream",
     "text": [
      "date and time: 2024-09-08\n",
      "time: 17:45:44\n",
      "LLM:  accounts/fireworks/models/llama-v3p1-70b-instruct \n",
      "Temperature:  0.1\n"
     ]
    }
   ],
   "source": [
    "prompt15 = \"Simulate trypsin (1TRN) for 1 ns at 300 K and compute SASA.\"\n",
    "llm_var = \"accounts/fireworks/models/llama-v3p1-70b-instruct\"\n",
    "tools = \"all\"\n",
    "agent = MDAgent(agent_type=\"Structured\", model=llm_var, top_k_tools=tools)\n",
    "now = datetime.datetime.now()\n",
    "date = now.strftime(\"%Y-%m-%d\")\n",
    "print(\"date and time:\",date)\n",
    "time = now.strftime(\"%H:%M:%S\")\n",
    "print(\"time:\",time)\n",
    "print(\"LLM: \",agent.llm.model_name,\"\\nTemperature: \",agent.llm.temperature)"
   ]
  },
  {
   "cell_type": "code",
   "execution_count": 3,
   "metadata": {
    "execution": {
     "iopub.execute_input": "2024-09-08T21:45:44.952547Z",
     "iopub.status.busy": "2024-09-08T21:45:44.952405Z",
     "iopub.status.idle": "2024-09-10T03:50:49.383464Z",
     "shell.execute_reply": "2024-09-10T03:50:49.377694Z"
    }
   },
   "outputs": [
    {
     "name": "stdout",
     "output_type": "stream",
     "text": [
      "Thought:"
     ]
    },
    {
     "name": "stdout",
     "output_type": "stream",
     "text": [
      " To simulate trypsin (1TRN"
     ]
    },
    {
     "name": "stdout",
     "output_type": "stream",
     "text": [
      ") for 1 ns at 300"
     ]
    },
    {
     "name": "stdout",
     "output_type": "stream",
     "text": [
      " K and compute SASA, I"
     ]
    },
    {
     "name": "stdout",
     "output_type": "stream",
     "text": [
      " need to first set up and run"
     ]
    },
    {
     "name": "stdout",
     "output_type": "stream",
     "text": [
      " a simulation of trypsin."
     ]
    },
    {
     "name": "stdout",
     "output_type": "stream",
     "text": [
      " Then, I can use the trajectory file"
     ]
    },
    {
     "name": "stdout",
     "output_type": "stream",
     "text": [
      " from the simulation to compute the"
     ]
    },
    {
     "name": "stdout",
     "output_type": "stream",
     "text": [
      " Solvent Accessible Surface Area (S"
     ]
    },
    {
     "name": "stdout",
     "output_type": "stream",
     "text": [
      "ASA).\n",
      "\n",
      "Action:\n",
      "```\n",
      "{\n",
      "  \""
     ]
    },
    {
     "name": "stdout",
     "output_type": "stream",
     "text": [
      "action\": \"SetUpandRunFunction\",\n"
     ]
    },
    {
     "name": "stdout",
     "output_type": "stream",
     "text": [
      "  \"action_input\": {\n",
      "    \"pdb"
     ]
    },
    {
     "name": "stdout",
     "output_type": "stream",
     "text": [
      "_id\": \"1TRN\",\n",
      "   "
     ]
    },
    {
     "name": "stdout",
     "output_type": "stream",
     "text": [
      " \"forcefield_files\": [\"amber"
     ]
    },
    {
     "name": "stdout",
     "output_type": "stream",
     "text": [
      "99sbildn"
     ]
    },
    {
     "name": "stdout",
     "output_type": "stream",
     "text": [
      ".xml\", \"tip3"
     ]
    },
    {
     "name": "stdout",
     "output_type": "stream",
     "text": [
      "p"
     ]
    },
    {
     "name": "stdout",
     "output_type": "stream",
     "text": [
      ".xml\"],\n",
      "    \"save\": true,\n"
     ]
    },
    {
     "name": "stdout",
     "output_type": "stream",
     "text": [
      "    \"system_params\": {\n",
      "      \"non"
     ]
    },
    {
     "name": "stdout",
     "output_type": "stream",
     "text": [
      "bondedMethod\": \"PME\",\n",
      "      \"non"
     ]
    },
    {
     "name": "stdout",
     "output_type": "stream",
     "text": [
      "bondedCutoff\": \"1"
     ]
    },
    {
     "name": "stdout",
     "output_type": "stream",
     "text": [
      ".0 * nanometers\",\n",
      "      \"ew"
     ]
    },
    {
     "name": "stdout",
     "output_type": "stream",
     "text": [
      "aldErrorTolerance\": 0"
     ]
    },
    {
     "name": "stdout",
     "output_type": "stream",
     "text": [
      ".00001,\n",
      "      \"constraints\": \""
     ]
    },
    {
     "name": "stdout",
     "output_type": "stream",
     "text": [
      "HBonds\",\n",
      "      \"rig"
     ]
    },
    {
     "name": "stdout",
     "output_type": "stream",
     "text": [
      "idWater\": true,\n",
      "      \"constraint"
     ]
    },
    {
     "name": "stdout",
     "output_type": "stream",
     "text": [
      "Tolerance\": 0.00001"
     ]
    },
    {
     "name": "stdout",
     "output_type": "stream",
     "text": [
      ",\n",
      "      \"solvate\": true"
     ]
    },
    {
     "name": "stdout",
     "output_type": "stream",
     "text": [
      "\n",
      "    },\n",
      "    \"integrator"
     ]
    },
    {
     "name": "stdout",
     "output_type": "stream",
     "text": [
      "_params\": {\n",
      "      \"integr"
     ]
    },
    {
     "name": "stdout",
     "output_type": "stream",
     "text": [
      "ator_type\": \"Langevin"
     ]
    },
    {
     "name": "stdout",
     "output_type": "stream",
     "text": [
      "Middle\",\n",
      "      \"Temperature\":"
     ]
    },
    {
     "name": "stdout",
     "output_type": "stream",
     "text": [
      " \"300 * kelvin\",\n"
     ]
    },
    {
     "name": "stdout",
     "output_type": "stream",
     "text": [
      "      \"Friction\": \"1"
     ]
    },
    {
     "name": "stdout",
     "output_type": "stream",
     "text": [
      ".0 / picoseconds\",\n",
      "      \"T"
     ]
    },
    {
     "name": "stdout",
     "output_type": "stream",
     "text": [
      "imestep\": \"0.002 *"
     ]
    },
    {
     "name": "stdout",
     "output_type": "stream",
     "text": [
      " picoseconds\",\n",
      "      \"Pressure\":"
     ]
    },
    {
     "name": "stdout",
     "output_type": "stream",
     "text": [
      " \"1.0 * bar\"\n",
      "    },\n",
      "   "
     ]
    },
    {
     "name": "stdout",
     "output_type": "stream",
     "text": [
      " \"simulation_params\": {\n",
      "      \"En"
     ]
    },
    {
     "name": "stdout",
     "output_type": "stream",
     "text": [
      "semble\": \"NPT\",\n",
      "      \"Number"
     ]
    },
    {
     "name": "stdout",
     "output_type": "stream",
     "text": [
      " of Steps\": 500000,\n",
      "      \"record"
     ]
    },
    {
     "name": "stdout",
     "output_type": "stream",
     "text": [
      "_interval_steps\": 100,\n",
      "     "
     ]
    },
    {
     "name": "stdout",
     "output_type": "stream",
     "text": [
      " \"record_params\": [\"step\","
     ]
    },
    {
     "name": "stdout",
     "output_type": "stream",
     "text": [
      " \"potentialEnergy\", \"temperature\"]\n",
      "    }\n",
      " "
     ]
    },
    {
     "name": "stdout",
     "output_type": "stream",
     "text": [
      " }\n",
      "}\n"
     ]
    },
    {
     "name": "stdout",
     "output_type": "stream",
     "text": [
      "```\n"
     ]
    },
    {
     "name": "stdout",
     "output_type": "stream",
     "text": [
      "Thought:"
     ]
    },
    {
     "name": "stdout",
     "output_type": "stream",
     "text": [
      " I need to download the PDB"
     ]
    },
    {
     "name": "stdout",
     "output_type": "stream",
     "text": [
      " file for trypsin ("
     ]
    },
    {
     "name": "stdout",
     "output_type": "stream",
     "text": [
      "1TRN) and get its"
     ]
    },
    {
     "name": "stdout",
     "output_type": "stream",
     "text": [
      " file ID to use in the"
     ]
    },
    {
     "name": "stdout",
     "output_type": "stream",
     "text": [
      " SetUpandRunFunction.\n",
      "\n",
      "Action:\n",
      "``"
     ]
    },
    {
     "name": "stdout",
     "output_type": "stream",
     "text": [
      "`\n",
      "{\n",
      "  \"action\": \"PDBFileDownloader"
     ]
    },
    {
     "name": "stdout",
     "output_type": "stream",
     "text": [
      "\",\n",
      "  \"action_input\": \"1TR"
     ]
    },
    {
     "name": "stdout",
     "output_type": "stream",
     "text": [
      "N\"\n",
      "}\n",
      "```\n",
      "\n"
     ]
    },
    {
     "name": "stdout",
     "output_type": "stream",
     "text": [
      "PDB file found with this ID: 1TRN\n"
     ]
    },
    {
     "name": "stdout",
     "output_type": "stream",
     "text": [
      "Thought:"
     ]
    },
    {
     "name": "stdout",
     "output_type": "stream",
     "text": [
      " Now that I have the file ID of"
     ]
    },
    {
     "name": "stdout",
     "output_type": "stream",
     "text": [
      " the PDB file for trypsin ("
     ]
    },
    {
     "name": "stdout",
     "output_type": "stream",
     "text": [
      "1TRN), I"
     ]
    },
    {
     "name": "stdout",
     "output_type": "stream",
     "text": [
      " can use it to set"
     ]
    },
    {
     "name": "stdout",
     "output_type": "stream",
     "text": [
      " up and run"
     ]
    },
    {
     "name": "stdout",
     "output_type": "stream",
     "text": [
      " a simulation"
     ]
    },
    {
     "name": "stdout",
     "output_type": "stream",
     "text": [
      " of tr"
     ]
    },
    {
     "name": "stdout",
     "output_type": "stream",
     "text": [
      "ypsin.\n",
      "\n"
     ]
    },
    {
     "name": "stdout",
     "output_type": "stream",
     "text": [
      "Action"
     ]
    },
    {
     "name": "stdout",
     "output_type": "stream",
     "text": [
      ":\n",
      "```\n",
      "{\n",
      "  \"action"
     ]
    },
    {
     "name": "stdout",
     "output_type": "stream",
     "text": [
      "\": \"SetUpand"
     ]
    },
    {
     "name": "stdout",
     "output_type": "stream",
     "text": [
      "RunFunction\",\n",
      "  \"action"
     ]
    },
    {
     "name": "stdout",
     "output_type": "stream",
     "text": [
      "_input\": {\n",
      "    \"pdb"
     ]
    },
    {
     "name": "stdout",
     "output_type": "stream",
     "text": [
      "_id\": \"1TRN"
     ]
    },
    {
     "name": "stdout",
     "output_type": "stream",
     "text": [
      "_174"
     ]
    },
    {
     "name": "stdout",
     "output_type": "stream",
     "text": [
      "550\",\n",
      "    \"force"
     ]
    },
    {
     "name": "stdout",
     "output_type": "stream",
     "text": [
      "field_files\": [\"amber99"
     ]
    },
    {
     "name": "stdout",
     "output_type": "stream",
     "text": [
      "sbildn.xml\","
     ]
    },
    {
     "name": "stdout",
     "output_type": "stream",
     "text": [
      " \"tip3p.xml\"],\n",
      "   "
     ]
    },
    {
     "name": "stdout",
     "output_type": "stream",
     "text": [
      " \"save\": true"
     ]
    },
    {
     "name": "stdout",
     "output_type": "stream",
     "text": [
      ",\n",
      "    \"system_params\":"
     ]
    },
    {
     "name": "stdout",
     "output_type": "stream",
     "text": [
      " {\n",
      "      \"nonbonded"
     ]
    },
    {
     "name": "stdout",
     "output_type": "stream",
     "text": [
      "Method\": \"PME\",\n",
      "      \"non"
     ]
    },
    {
     "name": "stdout",
     "output_type": "stream",
     "text": [
      "bondedCutoff\": \""
     ]
    },
    {
     "name": "stdout",
     "output_type": "stream",
     "text": [
      "1.0 * nanometers"
     ]
    },
    {
     "name": "stdout",
     "output_type": "stream",
     "text": [
      "\",\n",
      "      \"ewaldError"
     ]
    },
    {
     "name": "stdout",
     "output_type": "stream",
     "text": [
      "Tolerance\": 0.00001"
     ]
    },
    {
     "name": "stdout",
     "output_type": "stream",
     "text": [
      ",\n",
      "      \"constraints\": \"HBonds"
     ]
    },
    {
     "name": "stdout",
     "output_type": "stream",
     "text": [
      "\",\n",
      "      \"rigidWater\": true"
     ]
    },
    {
     "name": "stdout",
     "output_type": "stream",
     "text": [
      ",\n",
      "      \"constraintTolerance\": "
     ]
    },
    {
     "name": "stdout",
     "output_type": "stream",
     "text": [
      "0.00001,\n",
      "      \"s"
     ]
    },
    {
     "name": "stdout",
     "output_type": "stream",
     "text": [
      "olvate\": true\n",
      "    },\n",
      "   "
     ]
    },
    {
     "name": "stdout",
     "output_type": "stream",
     "text": [
      " \"integrator_params\": {\n",
      "     "
     ]
    },
    {
     "name": "stdout",
     "output_type": "stream",
     "text": [
      " \"integrator_type\": \"L"
     ]
    },
    {
     "name": "stdout",
     "output_type": "stream",
     "text": [
      "angevin"
     ]
    },
    {
     "name": "stdout",
     "output_type": "stream",
     "text": [
      "Middle\",\n",
      "      \"Temperature\": \"300 *"
     ]
    },
    {
     "name": "stdout",
     "output_type": "stream",
     "text": [
      " kelvin\",\n",
      "      \"Friction"
     ]
    },
    {
     "name": "stdout",
     "output_type": "stream",
     "text": [
      "\": \"1.0 / pic"
     ]
    },
    {
     "name": "stdout",
     "output_type": "stream",
     "text": [
      "oseconds\",\n",
      "      \"Timestep\": \"0"
     ]
    },
    {
     "name": "stdout",
     "output_type": "stream",
     "text": [
      ".002 * picoseconds\",\n",
      "      \"Pressure"
     ]
    },
    {
     "name": "stdout",
     "output_type": "stream",
     "text": [
      "\": \"1.0 * bar\"\n"
     ]
    },
    {
     "name": "stdout",
     "output_type": "stream",
     "text": [
      "    },\n",
      "    \"simulation_params\": {\n",
      "     "
     ]
    },
    {
     "name": "stdout",
     "output_type": "stream",
     "text": [
      " \"Ensemble\": \"NPT\",\n",
      "     "
     ]
    },
    {
     "name": "stdout",
     "output_type": "stream",
     "text": [
      " \"Number of Steps\": 500000,\n"
     ]
    },
    {
     "name": "stdout",
     "output_type": "stream",
     "text": [
      "      \"record_interval_steps\": 100,\n"
     ]
    },
    {
     "name": "stdout",
     "output_type": "stream",
     "text": [
      "      \"record_params\": [\"step\", \""
     ]
    },
    {
     "name": "stdout",
     "output_type": "stream",
     "text": [
      "potentialEnergy\", \"temperature\"]\n",
      "    }\n",
      " "
     ]
    },
    {
     "name": "stdout",
     "output_type": "stream",
     "text": [
      " }\n",
      "}\n",
      "```"
     ]
    },
    {
     "name": "stdout",
     "output_type": "stream",
     "text": [
      "Building system...\n"
     ]
    },
    {
     "name": "stdout",
     "output_type": "stream",
     "text": [
      "About to create system...\n",
      "Attempts at creating system: 0/3\n"
     ]
    },
    {
     "name": "stdout",
     "output_type": "stream",
     "text": [
      "Error adding solvent ValueError – No template found for residue 1 (ILE).  The set of atoms is similar to HID, but it is missing 9 atoms.  For more information, see https://github.com/openmm/openmm/wiki/Frequently-Asked-Questions#template\n",
      "Residue code: ILE\n",
      "Residue code not in solvent list. Adding forcefield                         not supported.\n"
     ]
    },
    {
     "name": "stdout",
     "output_type": "stream",
     "text": [
      "Thought:"
     ]
    },
    {
     "name": "stdout",
     "output_type": "stream",
     "text": [
      " The SetUpandRunFunction failed"
     ]
    },
    {
     "name": "stdout",
     "output_type": "stream",
     "text": [
      " because it couldn't"
     ]
    },
    {
     "name": "stdout",
     "output_type": "stream",
     "text": [
      " find a template for residue "
     ]
    },
    {
     "name": "stdout",
     "output_type": "stream",
     "text": [
      "1 (ILE) in the forcefield"
     ]
    },
    {
     "name": "stdout",
     "output_type": "stream",
     "text": [
      " files provided. This is likely because"
     ]
    },
    {
     "name": "stdout",
     "output_type": "stream",
     "text": [
      " the residue is not in the"
     ]
    },
    {
     "name": "stdout",
     "output_type": "stream",
     "text": [
      " standard amino acid set,"
     ]
    },
    {
     "name": "stdout",
     "output_type": "stream",
     "text": [
      " and the forcefield files don"
     ]
    },
    {
     "name": "stdout",
     "output_type": "stream",
     "text": [
      "'t have a template for it"
     ]
    },
    {
     "name": "stdout",
     "output_type": "stream",
     "text": [
      ". To fix this, I need to clean the PDB file to replace non-standard residues with standard ones.\n",
      "\n",
      "Action:\n",
      "```\n",
      "{\n",
      "  \"action"
     ]
    },
    {
     "name": "stdout",
     "output_type": "stream",
     "text": [
      "\": \"CleaningTool"
     ]
    },
    {
     "name": "stdout",
     "output_type": "stream",
     "text": [
      "Function\",\n",
      "  \"action"
     ]
    },
    {
     "name": "stdout",
     "output_type": "stream",
     "text": [
      "_input\": {\n",
      "    \"pdb"
     ]
    },
    {
     "name": "stdout",
     "output_type": "stream",
     "text": [
      "_id\": \"1TRN_"
     ]
    },
    {
     "name": "stdout",
     "output_type": "stream",
     "text": [
      "174550\",\n",
      "    \"replace_nonstandard"
     ]
    },
    {
     "name": "stdout",
     "output_type": "stream",
     "text": [
      "_residues\": true"
     ]
    },
    {
     "name": "stdout",
     "output_type": "stream",
     "text": [
      ",\n",
      "    \"add_missing_atoms"
     ]
    },
    {
     "name": "stdout",
     "output_type": "stream",
     "text": [
      "\": true,\n",
      "    \"remove"
     ]
    },
    {
     "name": "stdout",
     "output_type": "stream",
     "text": [
      "_heterogens\": true,\n"
     ]
    },
    {
     "name": "stdout",
     "output_type": "stream",
     "text": [
      "    \"remove_water\": true,\n",
      "    \"add"
     ]
    },
    {
     "name": "stdout",
     "output_type": "stream",
     "text": [
      "_hydrogens\": true,\n",
      "   "
     ]
    },
    {
     "name": "stdout",
     "output_type": "stream",
     "text": [
      " \"add_hydrogens_ph\": 7."
     ]
    },
    {
     "name": "stdout",
     "output_type": "stream",
     "text": [
      "0\n",
      "  }\n",
      "}\n",
      "```\n"
     ]
    },
    {
     "name": "stdout",
     "output_type": "stream",
     "text": [
      "file path: /gpfs/fs2/scratch/qcampbe2/repos/md-agent/ckpt/ckpt_129/pdb/1TRN_raw_20240908_174550.pdb\n"
     ]
    },
    {
     "name": "stdout",
     "output_type": "stream",
     "text": [
      "Thought:"
     ]
    },
    {
     "name": "stdout",
     "output_type": "stream",
     "text": [
      " Now that the PDB file has been cleaned,"
     ]
    },
    {
     "name": "stdout",
     "output_type": "stream",
     "text": [
      " I can use the cleaned file ID"
     ]
    },
    {
     "name": "stdout",
     "output_type": "stream",
     "text": [
      " to set up and run a simulation"
     ]
    },
    {
     "name": "stdout",
     "output_type": "stream",
     "text": [
      " of trypsin"
     ]
    },
    {
     "name": "stdout",
     "output_type": "stream",
     "text": [
      ".\n",
      "\n",
      "Action:\n",
      "```\n",
      "{\n",
      "  \"action"
     ]
    },
    {
     "name": "stdout",
     "output_type": "stream",
     "text": [
      "\": \"SetUpandRunFunction\",\n",
      " "
     ]
    },
    {
     "name": "stdout",
     "output_type": "stream",
     "text": [
      " \"action_input\": {\n",
      "    \"pdb"
     ]
    },
    {
     "name": "stdout",
     "output_type": "stream",
     "text": [
      "_id\": \"1TRN_174"
     ]
    },
    {
     "name": "stdout",
     "output_type": "stream",
     "text": [
      "558\",\n",
      "    \"forcefield_files\": [\"amber"
     ]
    },
    {
     "name": "stdout",
     "output_type": "stream",
     "text": [
      "99sbildn.xml\", \""
     ]
    },
    {
     "name": "stdout",
     "output_type": "stream",
     "text": [
      "tip3p.xml\"],\n",
      "    \"save"
     ]
    },
    {
     "name": "stdout",
     "output_type": "stream",
     "text": [
      "\": true,\n",
      "    \"system_params\":"
     ]
    },
    {
     "name": "stdout",
     "output_type": "stream",
     "text": [
      " {\n",
      "      \"nonbondedMethod\":"
     ]
    },
    {
     "name": "stdout",
     "output_type": "stream",
     "text": [
      " \"PME\",\n",
      "      \"nonbonded"
     ]
    },
    {
     "name": "stdout",
     "output_type": "stream",
     "text": [
      "Cutoff\": \"1"
     ]
    },
    {
     "name": "stdout",
     "output_type": "stream",
     "text": [
      ".0 * nanometers\",\n",
      "      \"ew"
     ]
    },
    {
     "name": "stdout",
     "output_type": "stream",
     "text": [
      "aldErrorTolerance\": "
     ]
    },
    {
     "name": "stdout",
     "output_type": "stream",
     "text": [
      "0.00001,\n",
      "      \"constraints"
     ]
    },
    {
     "name": "stdout",
     "output_type": "stream",
     "text": [
      "\": \"HBonds\",\n",
      "      \"rig"
     ]
    },
    {
     "name": "stdout",
     "output_type": "stream",
     "text": [
      "idWater\": true,\n"
     ]
    },
    {
     "name": "stdout",
     "output_type": "stream",
     "text": [
      "      \"constraintTolerance\": "
     ]
    },
    {
     "name": "stdout",
     "output_type": "stream",
     "text": [
      "0.00001,\n",
      "      \"s"
     ]
    },
    {
     "name": "stdout",
     "output_type": "stream",
     "text": [
      "olvate\": true\n",
      "    },\n",
      "   "
     ]
    },
    {
     "name": "stdout",
     "output_type": "stream",
     "text": [
      " \"integrator_params\": {\n",
      "      \"integr"
     ]
    },
    {
     "name": "stdout",
     "output_type": "stream",
     "text": [
      "ator_type\": \"LangevinMiddle"
     ]
    },
    {
     "name": "stdout",
     "output_type": "stream",
     "text": [
      "\",\n",
      "      \"Temperature\": \"300"
     ]
    },
    {
     "name": "stdout",
     "output_type": "stream",
     "text": [
      " * kelvin\",\n",
      "      \"Friction"
     ]
    },
    {
     "name": "stdout",
     "output_type": "stream",
     "text": [
      "\": \"1.0 / pic"
     ]
    },
    {
     "name": "stdout",
     "output_type": "stream",
     "text": [
      "oseconds\",\n",
      "      \"Timestep\": \"0"
     ]
    },
    {
     "name": "stdout",
     "output_type": "stream",
     "text": [
      ".002 * picoseconds\",\n",
      "      \"Pressure"
     ]
    },
    {
     "name": "stdout",
     "output_type": "stream",
     "text": [
      "\": \"1.0 * bar\"\n"
     ]
    },
    {
     "name": "stdout",
     "output_type": "stream",
     "text": [
      "    },\n",
      "    \"simulation_params\": {\n",
      "     "
     ]
    },
    {
     "name": "stdout",
     "output_type": "stream",
     "text": [
      " \"Ensemble\": \"NPT"
     ]
    },
    {
     "name": "stdout",
     "output_type": "stream",
     "text": [
      "\",\n",
      "      \"Number of Steps\": 500"
     ]
    },
    {
     "name": "stdout",
     "output_type": "stream",
     "text": [
      "000,\n"
     ]
    },
    {
     "name": "stdout",
     "output_type": "stream",
     "text": [
      "      \"record"
     ]
    },
    {
     "name": "stdout",
     "output_type": "stream",
     "text": [
      "_interval_steps\": 100,\n"
     ]
    },
    {
     "name": "stdout",
     "output_type": "stream",
     "text": [
      "      \"record_params\": [\"step"
     ]
    },
    {
     "name": "stdout",
     "output_type": "stream",
     "text": [
      "\", \"potentialEnergy\", \""
     ]
    },
    {
     "name": "stdout",
     "output_type": "stream",
     "text": [
      "temperature\"]\n",
      "    }\n",
      "  }\n",
      "}\n"
     ]
    },
    {
     "name": "stdout",
     "output_type": "stream",
     "text": [
      "```"
     ]
    },
    {
     "name": "stdout",
     "output_type": "stream",
     "text": [
      "Building system...\n"
     ]
    },
    {
     "name": "stdout",
     "output_type": "stream",
     "text": [
      "About to create system...\n",
      "Attempts at creating system: 0/3\n"
     ]
    },
    {
     "name": "stdout",
     "output_type": "stream",
     "text": [
      "System built successfully\n",
      "<openmm.openmm.System; proxy of <Swig Object of type 'OpenMM::System *' at 0x2ad147902880> >\n",
      "Setting up integrator...\n",
      "Creating simulation...\n"
     ]
    },
    {
     "name": "stdout",
     "output_type": "stream",
     "text": [
      "simulation set!\n",
      "Performing energy minimization...\n"
     ]
    },
    {
     "name": "stdout",
     "output_type": "stream",
     "text": [
      "Minimization complete!\n"
     ]
    },
    {
     "name": "stdout",
     "output_type": "stream",
     "text": [
      "Initial Positions saved to initial_positions.pdb\n",
      "Equilibrating...\n"
     ]
    },
    {
     "name": "stdout",
     "output_type": "stream",
     "text": [
      "Simulating...\n"
     ]
    },
    {
     "name": "stdout",
     "output_type": "stream",
     "text": [
      "Done!\n",
      "Standalone simulation script written to /gpfs/fs2/scratch/qcampbe2/repos/md-agent/ckpt/ckpt_129/simulations/NPT_1TRN_174558_20240908_174601.py\n",
      "['LOG_sim0_161453_1XQ8_161450_20240908_161540.txt', 'batch5.sh', 'TOP_sim0_161453_1XQ8_161450_20240908_161540.pdb', 'exp_10.ipynb', 'exp_13.ipynb', 'exp_22.ipynb', 'TRAJ_sim0_155242_1MBN_155238_20240908_155243.dcd', 'TRAJ_sim0_181258_1MBN_181255_20240908_181317.dcd', 'TRAJ_sim0_094939_1_094932_20240909_094940.dcd', 'exp_8.ipynb', 'TRAJ_sim0_094431_1_094428_20240909_094434.dcd', 'out.batch2b', 'LOG_sim0_113712_1ZNI_113708_20240909_113716.txt', 'LOG_sim0_155242_1MBN_155238_20240908_155243.txt', 'TOP_sim0_094951_1_094932_20240909_094951.pdb', 'TOP_sim0_094911_1_094428_20240909_094911.pdb', 'exp_3.ipynb', 'exp_19_updated.ipynb', 'TOP_sim0_113712_1ZNI_113708_20240909_113716.pdb', 'LOG_sim0_165413_1ZNI_165348_20240908_165423.txt', 'exp_17.ipynb', 'exp_1.ipynb', 'LOG_sim0_094431_1_094428_20240909_094434.txt', '.ipynb_checkpoints', 'batch1b.sh', 'LOG_sim0_180548_1XQ8_180545_20240908_180638.txt', 'TRAJ_sim0_180548_1XQ8_180545_20240908_180638.dcd', 'exp_4.ipynb', 'packmol.inp', 'out.batch3', 'TRAJ_sim0_181252_1XQ8_181249_20240908_181442.dcd', 'exp_24.ipynb', 'TOP_sim0_181257_1ZNI_181254_20240908_181302.pdb', 'exp_12.ipynb', 'LOG_sim0_181258_1MBN_181255_20240908_181317.txt', 'batch4.sh', 'exp_19.ipynb', 'exp_9.ipynb', 'results', 'exp_5.ipynb', 'exp_7.ipynb', 'batch2b.sh', 'TOP_sim0_094431_1_094428_20240909_094434.pdb', 'TOP_sim0_181258_1MBN_181255_20240908_181317.pdb', 'batch1a.sh', 'exp_2.ipynb', 'TOP_sim0_155242_1MBN_155238_20240908_155243.pdb', 'TOP_sim0_094939_1_094932_20240909_094940.pdb', 'TRAJ_sim0_174601_1TRN_174558_20240908_174606.dcd', 'out.batch5', 'TOP_sim0_165413_1ZNI_165348_20240908_165423.pdb', 'exp_18.ipynb', 'exp_14.ipynb', 'batch2a.sh', 'TOP_sim0_180548_1XQ8_180545_20240908_180638.pdb', 'out.batch4', 'batch3.sh', 'out.batch1b', 'LOG_sim0_181252_1XQ8_181249_20240908_181442.txt', 'exp_15.ipynb', 'exp_6.ipynb', 'TOP_sim0_174601_1TRN_174558_20240908_174606.pdb', 'LOG_sim0_174601_1TRN_174558_20240908_174606.txt', 'exp_20.ipynb', 'exp_23.ipynb', 'TOP_sim0_181252_1XQ8_181249_20240908_181442.pdb', 'TRAJ_sim0_094911_1_094428_20240909_094911.dcd', 'LOG_sim0_094911_1_094428_20240909_094911.txt', 'TRAJ_sim0_113712_1ZNI_113708_20240909_113716.dcd', 'LOG_sim0_181257_1ZNI_181254_20240908_181302.txt', 'LOG_sim0_094939_1_094932_20240909_094940.txt', 'exp_16.ipynb', 'TRAJ_sim0_181257_1ZNI_181254_20240908_181302.dcd', 'exp_11.ipynb', 'exp_21.ipynb', 'out.batch2a', 'TRAJ_sim0_094951_1_094932_20240909_094951.dcd', 'LOG_sim0_094951_1_094932_20240909_094951.txt', 'exp_25.ipynb', 'TRAJ_sim0_165413_1ZNI_165348_20240908_165423.dcd', '1_1_094428_v1.pdb', 'exp_23_gpt4o.ipynb', 'TRAJ_sim0_161453_1XQ8_161450_20240908_161540.dcd']\n"
     ]
    },
    {
     "name": "stdout",
     "output_type": "stream",
     "text": [
      "Thought:"
     ]
    },
    {
     "name": "stdout",
     "output_type": "stream",
     "text": [
      " Now that the simulation"
     ]
    },
    {
     "name": "stdout",
     "output_type": "stream",
     "text": [
      " is done, I"
     ]
    },
    {
     "name": "stdout",
     "output_type": "stream",
     "text": [
      " can use the trajectory file from the"
     ]
    },
    {
     "name": "stdout",
     "output_type": "stream",
     "text": [
      " simulation to compute the Solvent"
     ]
    },
    {
     "name": "stdout",
     "output_type": "stream",
     "text": [
      " Accessible Surface Area"
     ]
    },
    {
     "name": "stdout",
     "output_type": "stream",
     "text": [
      " (SASA).\n",
      "\n"
     ]
    },
    {
     "name": "stdout",
     "output_type": "stream",
     "text": [
      "Action:\n",
      "```\n",
      "{\n",
      " "
     ]
    },
    {
     "name": "stdout",
     "output_type": "stream",
     "text": [
      " \"action"
     ]
    },
    {
     "name": "stdout",
     "output_type": "stream",
     "text": [
      "\": \"SolventAccessible"
     ]
    },
    {
     "name": "stdout",
     "output_type": "stream",
     "text": [
      "SurfaceArea\",\n",
      "  \"action"
     ]
    },
    {
     "name": "stdout",
     "output_type": "stream",
     "text": [
      "_input\": {\n",
      "   "
     ]
    },
    {
     "name": "stdout",
     "output_type": "stream",
     "text": [
      " \"top_fileid\":"
     ]
    },
    {
     "name": "stdout",
     "output_type": "stream",
     "text": [
      " \"top_sim0_174"
     ]
    },
    {
     "name": "stdout",
     "output_type": "stream",
     "text": [
      "601\",\n",
      "    \"traj_file"
     ]
    },
    {
     "name": "stdout",
     "output_type": "stream",
     "text": [
      "id\": \"rec0"
     ]
    },
    {
     "name": "stdout",
     "output_type": "stream",
     "text": [
      "_174606"
     ]
    },
    {
     "name": "stdout",
     "output_type": "stream",
     "text": [
      "\"\n",
      "  }\n",
      "}\n"
     ]
    },
    {
     "name": "stdout",
     "output_type": "stream",
     "text": [
      "```\n"
     ]
    },
    {
     "name": "stdout",
     "output_type": "stream",
     "text": [
      "Loading trajectory ...\n"
     ]
    },
    {
     "name": "stdout",
     "output_type": "stream",
     "text": [
      "Calcuating SASA ...\n"
     ]
    },
    {
     "name": "stdout",
     "output_type": "stream",
     "text": [
      "Data saved to /gpfs/fs2/scratch/qcampbe2/repos/md-agent/ckpt/ckpt_129/records/sasa_sim0_174601.csv\n"
     ]
    },
    {
     "name": "stdout",
     "output_type": "stream",
     "text": [
      "SASA plot saved to FIG_sasa_sim0_174601_20240909_235046.png\n"
     ]
    },
    {
     "name": "stdout",
     "output_type": "stream",
     "text": [
      "Final Answer"
     ]
    },
    {
     "name": "stdout",
     "output_type": "stream",
     "text": [
      ": The simulation of trypsin"
     ]
    },
    {
     "name": "stdout",
     "output_type": "stream",
     "text": [
      " (1TRN) for 1"
     ]
    },
    {
     "name": "stdout",
     "output_type": "stream",
     "text": [
      " ns at 300 K has"
     ]
    },
    {
     "name": "stdout",
     "output_type": "stream",
     "text": [
      " been successfully completed, and"
     ]
    },
    {
     "name": "stdout",
     "output_type": "stream",
     "text": [
      " the Solvent Accessible Surface Area (S"
     ]
    },
    {
     "name": "stdout",
     "output_type": "stream",
     "text": [
      "ASA) has been computed. The SASA"
     ]
    },
    {
     "name": "stdout",
     "output_type": "stream",
     "text": [
      " values are saved with File"
     ]
    },
    {
     "name": "stdout",
     "output_type": "stream",
     "text": [
      " ID sasa_sim0_174"
     ]
    },
    {
     "name": "stdout",
     "output_type": "stream",
     "text": [
      "601, and the plot is saved"
     ]
    },
    {
     "name": "stdout",
     "output_type": "stream",
     "text": [
      " with plot ID fig0_235"
     ]
    },
    {
     "name": "stdout",
     "output_type": "stream",
     "text": [
      "046."
     ]
    }
   ],
   "source": [
    "answer = agent.run(prompt15)"
   ]
  },
  {
   "cell_type": "code",
   "execution_count": 4,
   "metadata": {
    "execution": {
     "iopub.execute_input": "2024-09-10T03:50:49.408161Z",
     "iopub.status.busy": "2024-09-10T03:50:49.407705Z",
     "iopub.status.idle": "2024-09-10T03:50:49.424021Z",
     "shell.execute_reply": "2024-09-10T03:50:49.423486Z"
    }
   },
   "outputs": [
    {
     "name": "stdout",
     "output_type": "stream",
     "text": [
      "date and time: 2024-09-09\n",
      "time: 23:50:49\n",
      "ckpt_dir: ckpt_129\n",
      "Files found in registry: 1TRN_174550: PDB file downloaded from RSCB\n",
      " PDBFile ID: 1TRN_174550\n",
      " 1TRN_174558: Cleaned File:  Removed Heterogens\n",
      " and Water Removed.  Replaced Nonstandard Residues. Added Hydrogens at pH 7.0. Missing Atoms Added and replaces nonstandard residues. \n",
      " top_sim0_174601: Initial positions for simulation sim0_174601\n",
      " sim0_174601: Basic Simulation of Protein 1TRN_174558\n",
      " rec0_174606: Simulation trajectory for protein 1TRN_174558 and simulation sim0_174601\n",
      " rec1_174606: Simulation state log for protein 1TRN_174558 and simulation sim0_174601\n",
      " rec2_174606: Simulation pdb frames for protein 1TRN_174558 and simulation sim0_174601\n",
      " sasa_sim0_174601: Total SASA values for sim0_174601\n",
      " fig0_235046: Plot of SASA over time for sim0_174601\n"
     ]
    }
   ],
   "source": [
    "now = datetime.datetime.now()\n",
    "date = now.strftime(\"%Y-%m-%d\")\n",
    "print(\"date and time:\",date)\n",
    "time = now.strftime(\"%H:%M:%S\")\n",
    "print(\"time:\",time)\n",
    "\n",
    "registry = agent.path_registry\n",
    "print('ckpt_dir:',os.path.basename(registry.ckpt_dir))\n",
    "paths_and_descriptions = registry.list_path_names_and_descriptions()\n",
    "print(\"\\n\".join(paths_and_descriptions.split(\",\")))"
   ]
  },
  {
   "cell_type": "code",
   "execution_count": 5,
   "metadata": {
    "execution": {
     "iopub.execute_input": "2024-09-10T03:50:49.427870Z",
     "iopub.status.busy": "2024-09-10T03:50:49.427736Z",
     "iopub.status.idle": "2024-09-10T03:50:49.442096Z",
     "shell.execute_reply": "2024-09-10T03:50:49.441785Z"
    }
   },
   "outputs": [
    {
     "name": "stdout",
     "output_type": "stream",
     "text": [
      "It is asserted that file paths for rec0_174606, top_sim0_174601, and fig0_235046 exist\n"
     ]
    }
   ],
   "source": [
    "import re\n",
    "import os\n",
    "\n",
    "match = re.search(r\"rec0_\\d+\", paths_and_descriptions)\n",
    "traj_id = match.group(0)\n",
    "traj_path = registry.get_mapped_path(traj_id)\n",
    "\n",
    "match = re.search(r\"top_sim0_\\d+\", paths_and_descriptions)\n",
    "top_id = match.group(0)\n",
    "top_path = registry.get_mapped_path(top_id)\n",
    "\n",
    "\n",
    "match = re.search(r\"fig0_\\d+\", paths_and_descriptions)\n",
    "fig_id = match.group(0)\n",
    "fig_path = registry.get_mapped_path(fig_id)\n",
    "\n",
    "assert os.path.exists(traj_path)\n",
    "assert os.path.exists(top_path)\n",
    "assert os.path.exists(fig_path)\n",
    "print(f'It is asserted that file paths for {traj_id}, {top_id}, and {fig_id} exist')"
   ]
  },
  {
   "cell_type": "code",
   "execution_count": 6,
   "metadata": {
    "execution": {
     "iopub.execute_input": "2024-09-10T03:50:49.445171Z",
     "iopub.status.busy": "2024-09-10T03:50:49.445035Z",
     "iopub.status.idle": "2024-09-10T03:50:58.712866Z",
     "shell.execute_reply": "2024-09-10T03:50:58.705671Z"
    }
   },
   "outputs": [
    {
     "name": "stdout",
     "output_type": "stream",
     "text": [
      "Number of frames:  5010\n"
     ]
    },
    {
     "data": {
      "image/png": "[encoded data removed]",
      "text/plain": [
       "<IPython.core.display.Image object>"
      ]
     },
     "execution_count": 6,
     "metadata": {},
     "output_type": "execute_result"
    }
   ],
   "source": [
    "import mdtraj as md\n",
    "import numpy as np\n",
    "from IPython.display import display, Image\n",
    "#print number of frames adn residues:\n",
    "traj = md.load(traj_path, top=top_path)\n",
    "\n",
    "print(\"Number of frames: \", traj.n_frames)\n",
    "Image(filename=fig_path)\n"
   ]
  },
  {
   "cell_type": "markdown",
   "metadata": {},
   "source": [
    "# Experiment Result: ✅❌\n",
    "\n",
    "1. Completed without Exception or TimeOut Errors ✅\n",
    "2. Attempted all necessary steps ✅\n",
    "3. Completed without Hallucination ✅\n",
    "4. Logic make sense ✅\n",
    "5. Correct Answer ✅"
   ]
  }
 ],
 "metadata": {
  "kernelspec": {
   "display_name": "mdagent",
   "language": "python",
   "name": "mdagent"
  },
  "language_info": {
   "codemirror_mode": {
    "name": "ipython",
    "version": 3
   },
   "file_extension": ".py",
   "mimetype": "text/x-python",
   "name": "python",
   "nbconvert_exporter": "python",
   "pygments_lexer": "ipython3",
   "version": "3.12.4"
  }
 },
 "nbformat": 4,
 "nbformat_minor": 4
}
