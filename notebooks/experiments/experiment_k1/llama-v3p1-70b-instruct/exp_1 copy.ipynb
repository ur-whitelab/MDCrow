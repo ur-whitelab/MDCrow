{
 "cells": [
  {
   "cell_type": "code",
   "execution_count": 1,
   "metadata": {},
   "outputs": [],
   "source": [
    "import datetime\n",
    "import os\n",
    "from mdagent import MDAgent"
   ]
  },
  {
   "cell_type": "code",
   "execution_count": 2,
   "metadata": {},
   "outputs": [
    {
     "name": "stdout",
     "output_type": "stream",
     "text": [
      "date and time: 2024-08-05\n",
      "time: 16:24:23\n"
     ]
    }
   ],
   "source": [
    "#todays date and time\n",
    "now = datetime.datetime.now()\n",
    "date = now.strftime(\"%Y-%m-%d\")\n",
    "print(\"date and time:\",date)\n",
    "time = now.strftime(\"%H:%M:%S\")\n",
    "print(\"time:\",time)"
   ]
  },
  {
   "cell_type": "code",
   "execution_count": 3,
   "metadata": {},
   "outputs": [],
   "source": [
    "prompt1 = \"Simulate pdb  1MBN at two different temperatures: 300K, 400K for 1ns seconds each. Plot RMSD of both over time, and compare the final secondary structures at the end of the simulations.\"\n",
    "llm_var = \"llama-v3p1-70b-instruct\"\n",
    "tools = \"all\"\n",
    "agent = MDAgent(agent_type=\"Structured\", model=llm_var, top_k_tools=tools)"
   ]
  },
  {
   "cell_type": "code",
   "execution_count": 4,
   "metadata": {},
   "outputs": [
    {
     "name": "stdout",
     "output_type": "stream",
     "text": [
      "LLM:  accounts/fireworks/models/llama-v3p1-70b-instruct \n",
      "Temperature:  0.1\n"
     ]
    }
   ],
   "source": [
    "print(\"LLM: \",agent.llm.model_name,\"\\nTemperature: \",agent.llm.temperature)"
   ]
  },
  {
   "cell_type": "code",
   "execution_count": 5,
   "metadata": {},
   "outputs": [
    {
     "data": {
      "application/vnd.jupyter.widget-view+json": {
       "model_id": "4bc037360b8b407688ad283b0411702a",
       "version_major": 2,
       "version_minor": 0
      },
      "text/plain": [
       "tokenizer_config.json:   0%|          | 0.00/26.0 [00:00<?, ?B/s]"
      ]
     },
     "metadata": {},
     "output_type": "display_data"
    },
    {
     "data": {
      "application/vnd.jupyter.widget-view+json": {
       "model_id": "992449dceb7749a5b5fe83f6eafeb1f8",
       "version_major": 2,
       "version_minor": 0
      },
      "text/plain": [
       "vocab.json:   0%|          | 0.00/1.04M [00:00<?, ?B/s]"
      ]
     },
     "metadata": {},
     "output_type": "display_data"
    },
    {
     "data": {
      "application/vnd.jupyter.widget-view+json": {
       "model_id": "bfa7772c98a94432b1d2436412d19d59",
       "version_major": 2,
       "version_minor": 0
      },
      "text/plain": [
       "merges.txt:   0%|          | 0.00/456k [00:00<?, ?B/s]"
      ]
     },
     "metadata": {},
     "output_type": "display_data"
    },
    {
     "data": {
      "application/vnd.jupyter.widget-view+json": {
       "model_id": "2aec54eb991246b39ad0512a998aa8b8",
       "version_major": 2,
       "version_minor": 0
      },
      "text/plain": [
       "tokenizer.json:   0%|          | 0.00/1.36M [00:00<?, ?B/s]"
      ]
     },
     "metadata": {},
     "output_type": "display_data"
    },
    {
     "data": {
      "application/vnd.jupyter.widget-view+json": {
       "model_id": "a922fd65100a44f2a29b1fe7647275c3",
       "version_major": 2,
       "version_minor": 0
      },
      "text/plain": [
       "config.json:   0%|          | 0.00/665 [00:00<?, ?B/s]"
      ]
     },
     "metadata": {},
     "output_type": "display_data"
    },
    {
     "name": "stdout",
     "output_type": "stream",
     "text": [
      "Num of tokens: 384\n",
      "\n",
      "\n",
      "\u001b[1m> Entering new AgentExecutor chain...\u001b[0m\n",
      "Thought: To simulate the protein 1MBN at two different temperatures, I will first need to download the PDB file and then set up and run the simulations. After the simulations are complete, I can calculate the RMSD of both simulations over time and compare the final secondary structures.\n",
      "\n",
      "Action: SetUpandRunFunction\n",
      "Action Input: \n",
      "{\n",
      "  \"pdb_id\": \"1MBN\",\n",
      "  \"forcefield_files\": [\"amber99sbildn.xml\", \"tip3p.xml\"],\n",
      "  \"save\": true,\n",
      "  \"system_params\": {\n",
      "    \"nonbondedMethod\": \"PME\",\n",
      "    \"nonbondedCutoff\": \"1.0 * nanometers\",\n",
      "    \"ewaldErrorTolerance\": 0.00001,\n",
      "    \"constraints\": \"HBonds\",\n",
      "    \"rigidWater\": true,\n",
      "    \"constraintTolerance\": 0.00001,\n",
      "    \"solvate\": true\n",
      "  },\n",
      "  \"integrator_params\": {\n",
      "    \"integrator_type\": \"LangevinMiddle\",\n",
      "    \"Temperature\": \"300 * kelvin\",\n",
      "    \"Friction\": \"1.0 / picoseconds\",\n",
      "    \"Timestep\": \"0.002 * picoseconds\",\n",
      "    \"Pressure\": \"1.0 * bar\"\n",
      "  },\n",
      "  \"simulation_params\": {\n",
      "    \"Ensemble\": \"NPT\",\n",
      "    \"Number of Steps\": 500000,\n",
      "    \"record_interval_steps\": 100,\n",
      "    \"record_params\": [\"step\", \"potentialEnergy\", \"temperature\"]\n",
      "  }\n",
      "}\n",
      "\n",
      "\u001b[32;1m\u001b[1;3mThought: To simulate the protein 1MBN at two different temperatures, I will first need to download the PDB file and then set up and run the simulations. After the simulations are complete, I can calculate the RMSD of both simulations over time and compare the final secondary structures.\n",
      "\n",
      "Action: SetUpandRunFunction\n",
      "Action Input: \n",
      "{\n",
      "  \"pdb_id\": \"1MBN\",\n",
      "  \"forcefield_files\": [\"amber99sbildn.xml\", \"tip3p.xml\"],\n",
      "  \"save\": true,\n",
      "  \"system_params\": {\n",
      "    \"nonbondedMethod\": \"PME\",\n",
      "    \"nonbondedCutoff\": \"1.0 * nanometers\",\n",
      "    \"ewaldErrorTolerance\": 0.00001,\n",
      "    \"constraints\": \"HBonds\",\n",
      "    \"rigidWater\": true,\n",
      "    \"constraintTolerance\": 0.00001,\n",
      "    \"solvate\": true\n",
      "  },\n",
      "  \"integrator_params\": {\n",
      "    \"integrator_type\": \"LangevinMiddle\",\n",
      "    \"Temperature\": \"300 * kelvin\",\n",
      "    \"Friction\": \"1.0 / picoseconds\",\n",
      "    \"Timestep\": \"0.002 * picoseconds\",\n",
      "    \"Pressure\": \"1.0 * bar\"\n",
      "  },\n",
      "  \"simulation_params\": {\n",
      "    \"Ensemble\": \"NPT\",\n",
      "    \"Number of Steps\": 500000,\n",
      "    \"record_interval_steps\": 100,\n",
      "    \"record_params\": [\"step\", \"potentialEnergy\", \"temperature\"]\n",
      "  }\n",
      "}\n",
      "\n",
      "\u001b[0m\n",
      "\n",
      "\u001b[1m> Finished chain.\u001b[0m\n",
      "Here is a summary of the agent's attempts to solve the problem:\n",
      "\n",
      "**Prompt:** The agent was given a task to simulate the protein 1MBN at two different temperatures (300K and 400K) for 1ns seconds each, plot the RMSD of both simulations over time, and compare the final secondary structures at the end of the simulations.\n",
      "\n",
      "**Step 1:** The agent reflected on the problem and decided to download the PDB file and set up and run the simulations. The agent chose to use the `SetUpandRunFunction` tool to achieve this.\n",
      "\n",
      "**Action Input:** The agent provided the following input to the `SetUpandRunFunction` tool:\n",
      "\n",
      "* `pdb_id`: \"1MBN\"\n",
      "* `forcefield_files`: [\"amber99sbildn.xml\", \"tip3p.xml\"]\n",
      "* `save`: true\n",
      "* `system_params`: various parameters for the simulation, including nonbonded method, cutoff, and constraints\n",
      "* `integrator_params`: parameters for the integrator, including temperature, friction, and timestep\n",
      "* `simulation_params`: parameters for the simulation, including ensemble, number of steps, and record interval\n",
      "\n",
      "**Note:** The agent only simulated the protein at 300K in this step, but the prompt required simulations at both 300K and 400K.\n",
      "\n",
      "**Current Status:** The agent has only completed the first step of the simulation at 300K and has not yet simulated the protein at 400K, calculated the RMSD of both simulations, or compared the final secondary structures.\n",
      "\n",
      "**Next Steps:** The agent should simulate the protein at 400K, calculate the RMSD of both simulations, and compare the final secondary structures to complete the task.Your run id is:  HSE53GCT\n"
     ]
    }
   ],
   "source": [
    "result = agent.run(prompt1)"
   ]
  },
  {
   "cell_type": "code",
   "execution_count": 14,
   "metadata": {},
   "outputs": [
    {
     "data": {
      "text/plain": [
       "'Thought: To simulate the protein 1MBN at two different temperatures, I need to first download the PDB file of 1MBN. Then, I will set up and run two separate simulations at 300K and 400K for 1ns each. After the simulations, I will compute the RMSD of both simulations over time and compare the final secondary structures.\\n\\nAction: PDBFileDownloader\\nAction Input: 1MBN'"
      ]
     },
     "execution_count": 14,
     "metadata": {},
     "output_type": "execute_result"
    }
   ],
   "source": [
    "output, run_id = result\n",
    "output['output']"
   ]
  },
  {
   "cell_type": "code",
   "execution_count": 18,
   "metadata": {},
   "outputs": [
    {
     "name": "stdout",
     "output_type": "stream",
     "text": [
      "312\n",
      "91\n"
     ]
    }
   ],
   "source": [
    "print(agent.llm.get_num_tokens(output['input']))\n",
    "print(agent.llm.get_num_tokens(output['output']))"
   ]
  },
  {
   "cell_type": "code",
   "execution_count": 19,
   "metadata": {},
   "outputs": [
    {
     "data": {
      "text/plain": [
       "'0.2.12'"
      ]
     },
     "execution_count": 19,
     "metadata": {},
     "output_type": "execute_result"
    }
   ],
   "source": [
    "import langchain\n",
    "langchain.__version__"
   ]
  },
  {
   "cell_type": "code",
   "execution_count": null,
   "metadata": {},
   "outputs": [],
   "source": [
    "{'error': \n",
    "    {\n",
    "        'message': 'Input validation error: `inputs` tokens + `max_new_tokens` must be <= 4097. Given: 7338 `inputs` tokens and 4096 `max_new_tokens`', \n",
    "        'type': 'invalid_request_error', \n",
    "        'param': 'max_tokens', \n",
    "        'code': None\n",
    "    }\n",
    "}"
   ]
  },
  {
   "cell_type": "code",
   "execution_count": null,
   "metadata": {},
   "outputs": [],
   "source": [
    "#print final date and time\n",
    "now = datetime.datetime.now()\n",
    "date = now.strftime(\"%Y-%m-%d\")\n",
    "print(\"date and time:\",date)\n",
    "time = now.strftime(\"%H:%M:%S\")\n",
    "print(\"time:\",time)"
   ]
  },
  {
   "cell_type": "code",
   "execution_count": null,
   "metadata": {},
   "outputs": [],
   "source": [
    "registry = agent.path_registry\n",
    "paths_and_descriptions = registry.list_path_names_and_descriptions()\n",
    "print(\"\\n\".join(paths_and_descriptions.split(\",\")))"
   ]
  },
  {
   "cell_type": "code",
   "execution_count": null,
   "metadata": {},
   "outputs": [],
   "source": [
    "#plotting rmsd of both simulations\n",
    "from IPython.display import Image\n",
    "rmsd1ID = 'fig0_192900'\n",
    "rmsd2ID = 'fig0_192903'\n",
    "path1 = registry.get_mapped_path(rmsd1ID)\n",
    "path2 = registry.get_mapped_path(rmsd2ID)\n",
    "\n",
    "\n",
    "Image(filename=path1)\n",
    "\n"
   ]
  },
  {
   "cell_type": "code",
   "execution_count": null,
   "metadata": {},
   "outputs": [],
   "source": [
    "Image(filename=path2)"
   ]
  },
  {
   "cell_type": "markdown",
   "metadata": {},
   "source": [
    "# Experiment Result:\n",
    "### Completed without Exception or TimeOut Errors  ❌\n",
    "### Attempted all necessary steps ✅\n",
    "### Logic make sense  ✅\n",
    "### Correct Answer   ❌\n"
   ]
  },
  {
   "cell_type": "markdown",
   "metadata": {},
   "source": [
    "### Agent did not realize that it finished"
   ]
  },
  {
   "cell_type": "code",
   "execution_count": null,
   "metadata": {},
   "outputs": [],
   "source": []
  }
 ],
 "metadata": {
  "kernelspec": {
   "display_name": "mdagent2",
   "language": "python",
   "name": "python3"
  },
  "language_info": {
   "codemirror_mode": {
    "name": "ipython",
    "version": 3
   },
   "file_extension": ".py",
   "mimetype": "text/x-python",
   "name": "python",
   "nbconvert_exporter": "python",
   "pygments_lexer": "ipython3",
   "version": "3.11.8"
  }
 },
 "nbformat": 4,
 "nbformat_minor": 2
}
