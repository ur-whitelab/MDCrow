{
 "cells": [
  {
   "cell_type": "code",
   "execution_count": 1,
   "metadata": {},
   "outputs": [],
   "source": [
    "import datetime\n",
    "import os\n",
    "from mdagent import MDAgent\n",
    "import matplotlib.pyplot as plt"
   ]
  },
  {
   "cell_type": "code",
   "execution_count": 2,
   "metadata": {},
   "outputs": [
    {
     "name": "stdout",
     "output_type": "stream",
     "text": [
      "date and time: 2024-09-08\n",
      "time: 16:07:02\n",
      "LLM:  accounts/fireworks/models/llama-v3p1-70b-instruct \n",
      "Temperature:  0.1\n"
     ]
    }
   ],
   "source": [
    "prompt3 = \"Download the PDB file for protein 1GZX. Then, analyze the secondary structure of the protein and provide information on how many helices, sheets, and other components are present.\"\n",
    "llm_var = \"accounts/fireworks/models/llama-v3p1-70b-instruct\"\n",
    "tools = \"all\"\n",
    "agent = MDAgent(agent_type=\"Structured\", model=llm_var, top_k_tools=tools)\n",
    "now = datetime.datetime.now()\n",
    "date = now.strftime(\"%Y-%m-%d\")\n",
    "print(\"date and time:\",date)\n",
    "time = now.strftime(\"%H:%M:%S\")\n",
    "print(\"time:\",time)\n",
    "print(\"LLM: \",agent.llm.model_name,\"\\nTemperature: \",agent.llm.temperature)"
   ]
  },
  {
   "cell_type": "code",
   "execution_count": 3,
   "metadata": {},
   "outputs": [
    {
     "name": "stdout",
     "output_type": "stream",
     "text": [
      "Thought: To solve this problem, I need to first download the PDB file for protein 1GZX and then analyze its secondary structure.\n",
      "\n",
      "Action:\n",
      "```\n",
      "{\n",
      "  \"action\": \"PDBFileDownloader\",\n",
      "  \"action_input\": \"1GZX\"\n",
      "}\n",
      "```\n",
      "PDB file found with this ID: 1GZX\n",
      "Thought: Now that I have the PDB file, I need to analyze the secondary structure of the protein. I will use the ComputeDSSP tool to compute the DSSP (secondary structure) assignment for the protein.\n",
      "\n",
      "Action:\n",
      "```\n",
      "{\n",
      "  \"action\": \"ComputeDSSP\",\n",
      "  \"action_input\": {\n",
      "    \"traj_file\": \"1GZX_160704\",\n",
      "    \"top_file\": \"1GZX_160704\",\n",
      "    \"target_frames\": \"all\"\n",
      "  }\n",
      "}\n",
      "```\n",
      "\n",
      "Thought: Now that I have the secondary structure information, I need to provide a summary of the results, including the number of helices, sheets, and other components present in the protein.\n",
      "\n",
      "Action:\n",
      "```\n",
      "{\n",
      "  \"action\": \"Final Answer\",\n",
      "  \"action_input\": \"The protein 1GZX has a total of 444 residues in helix, 0 residues in strand, 130 residues in coil, and 213 residues not assigned or not a protein residue. This suggests that the protein is primarily composed of helices, with no sheets present. The coil regions are relatively small, and there are a significant number of residues that are not assigned or not part of a protein residue.\"\n",
      "}\n",
      "```"
     ]
    },
    {
     "data": {
      "text/plain": [
       "({'input': '\\n    You are an expert molecular dynamics scientist, and\\n    your task is to respond to the question or\\n    solve the problem to the best of your ability using\\n    the provided tools.\\n\\n    You can only respond with a single complete\\n    \\'Thought, Action, Action Input\\' format\\n    OR a single \\'Final Answer\\' format.\\n\\n    Complete format:\\n    Thought: (reflect on your progress and decide what to do next)\\n    Action:\\n    ```\\n    {\\n        \"action\": (the action name, it should be the name of a tool),\\n        \"action_input\": (the input string for the action)\\n    }\\n    \\'\\'\\'\\n\\n    OR\\n\\n    Final Answer: (the final response to the original input\\n    question, once all steps are complete)\\n\\n    You are required to use the tools provided,\\n    using the most specific tool\\n    available for each action.\\n    Your final answer should contain all information\\n    necessary to answer the question and its subquestions.\\n    Before you finish, reflect on your progress and make\\n    sure you have addressed the question in its entirety.\\n\\n    If you are asked to continue\\n    or reference previous runs,\\n    the context will be provided to you.\\n    If context is provided, you should assume\\n    you are continuing a chat.\\n\\n    Here is the input:\\n    Previous Context: None\\n    Question: Download the PDB file for protein 1GZX. Then, analyze the secondary structure of the protein and provide information on how many helices, sheets, and other components are present. ',\n",
       "  'output': 'The protein 1GZX has a total of 444 residues in helix, 0 residues in strand, 130 residues in coil, and 213 residues not assigned or not a protein residue. This suggests that the protein is primarily composed of helices, with no sheets present. The coil regions are relatively small, and there are a significant number of residues that are not assigned or not part of a protein residue.'},\n",
       " '0BF4SHS4')"
      ]
     },
     "execution_count": 3,
     "metadata": {},
     "output_type": "execute_result"
    }
   ],
   "source": [
    "agent.run(prompt3)"
   ]
  },
  {
   "cell_type": "code",
   "execution_count": 4,
   "metadata": {},
   "outputs": [
    {
     "name": "stdout",
     "output_type": "stream",
     "text": [
      "date and time: 2024-09-08\n",
      "time: 16:07:08\n"
     ]
    }
   ],
   "source": [
    "now = datetime.datetime.now()\n",
    "date = now.strftime(\"%Y-%m-%d\")\n",
    "print(\"date and time:\",date)\n",
    "time = now.strftime(\"%H:%M:%S\")\n",
    "print(\"time:\",time)"
   ]
  },
  {
   "cell_type": "code",
   "execution_count": 6,
   "metadata": {},
   "outputs": [
    {
     "name": "stdout",
     "output_type": "stream",
     "text": [
      "ckpt_dir: ckpt_117\n",
      "Files found in registry: 1GZX_160704: PDB file downloaded from RSCB\n",
      " PDBFile ID: 1GZX_160704\n",
      " rec0_160706: dssp values for trajectory with id: 1GZX_160704\n"
     ]
    }
   ],
   "source": [
    "registry = agent.path_registry\n",
    "print(\"ckpt_dir:\",os.path.basename(registry.ckpt_dir))\n",
    "paths_and_descriptions = registry.list_path_names_and_descriptions()\n",
    "print(\"\\n\".join(paths_and_descriptions.split(\",\")))"
   ]
  },
  {
   "cell_type": "code",
   "execution_count": 8,
   "metadata": {},
   "outputs": [
    {
     "name": "stdout",
     "output_type": "stream",
     "text": [
      "It is asserted that file path for 1GZX_160704 exists\n"
     ]
    }
   ],
   "source": [
    "import re\n",
    "import os\n",
    "match = re.search(rf\"1GZX_\\d+\", paths_and_descriptions)\n",
    "file_id = match.group(0)\n",
    "pdb_path = registry.get_mapped_path(file_id)\n",
    "assert os.path.exists(pdb_path)\n",
    "print(f'It is asserted that file path for {file_id} exists')"
   ]
  },
  {
   "cell_type": "code",
   "execution_count": 11,
   "metadata": {},
   "outputs": [
    {
     "name": "stdout",
     "output_type": "stream",
     "text": [
      "Number of residues in sheets:  0\n",
      "Number of residues in helices:  444\n",
      "Number of residues in coils:  130\n"
     ]
    }
   ],
   "source": [
    "import mdtraj as md\n",
    "traj = md.load(pdb_path)\n",
    "\n",
    "secondary_structure = md.compute_dssp(traj,simplified=True)[0] # only one frame\n",
    "print(\"Number of residues in sheets: \",len([i for i in secondary_structure if i == 'E']))\n",
    "print(\"Number of residues in helices: \",len([i for i in secondary_structure if i == 'H']))\n",
    "print(\"Number of residues in coils: \",len([i for i in secondary_structure if i == 'C']))"
   ]
  },
  {
   "cell_type": "markdown",
   "metadata": {},
   "source": [
    "# Experiment Result: ✅❌\n",
    "\n",
    "### Completed without Exception or TimeOut Errors ✅\n",
    "### Attempted all necessary steps ✅\n",
    "### Completed without Hallucination ✅\n",
    "### Logic make sense ✅\n",
    "### Correct Answer ✅ "
   ]
  }
 ],
 "metadata": {
  "kernelspec": {
   "display_name": "mdagent",
   "language": "python",
   "name": "mdagent"
  },
  "language_info": {
   "codemirror_mode": {
    "name": "ipython",
    "version": 3
   },
   "file_extension": ".py",
   "mimetype": "text/x-python",
   "name": "python",
   "nbconvert_exporter": "python",
   "pygments_lexer": "ipython3",
   "version": "3.12.4"
  }
 },
 "nbformat": 4,
 "nbformat_minor": 4
}
