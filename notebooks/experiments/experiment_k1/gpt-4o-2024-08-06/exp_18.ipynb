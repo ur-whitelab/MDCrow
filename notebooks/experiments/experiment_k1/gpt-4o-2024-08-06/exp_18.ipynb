{
 "cells": [
  {
   "cell_type": "code",
   "execution_count": 7,
   "metadata": {},
   "outputs": [],
   "source": [
    "import datetime\n",
    "import os\n",
    "from mdagent import MDAgent\n",
    "import matplotlib.pyplot as plt"
   ]
  },
  {
   "cell_type": "code",
   "execution_count": 8,
   "metadata": {},
   "outputs": [
    {
     "name": "stdout",
     "output_type": "stream",
     "text": [
      "date and time: 2024-09-08\n",
      "time: 16:35:09\n",
      "LLM:  gpt-4o-2024-08-06 \n",
      "Temperature:  0.1\n"
     ]
    }
   ],
   "source": [
    "prompt19 = \"Download the PDB for 2YXF. Tell me about its stability as found in the literature. Then, simulate it for 1 ns and plot its RMSD over time.\"\n",
    "llm_var = \"gpt-4o-2024-08-06\"\n",
    "tools = \"all\"\n",
    "agent = MDAgent(agent_type=\"Structured\", model=llm_var, top_k_tools=tools)\n",
    "now = datetime.datetime.now()\n",
    "date = now.strftime(\"%Y-%m-%d\")\n",
    "print(\"date and time:\",date)\n",
    "time = now.strftime(\"%H:%M:%S\")\n",
    "print(\"time:\",time)\n",
    "print(\"LLM: \",agent.llm.model_name,\"\\nTemperature: \",agent.llm.temperature)"
   ]
  },
  {
   "cell_type": "code",
   "execution_count": 9,
   "metadata": {},
   "outputs": [
    {
     "name": "stdout",
     "output_type": "stream",
     "text": [
      "Thought: I will first download the PDB file for 2YXF. Then, I will search the literature for information about its stability. After that, I will set up a simulation for 1 ns and plot its RMSD over time.\n",
      "\n",
      "Action:\n",
      "```\n",
      "{\n",
      "  \"action\": \"PDBFileDownloader\",\n",
      "  \"action_input\": {\n",
      "    \"query\": \"2YXF\"\n",
      "  }\n",
      "}\n",
      "```PDB file found with this ID: 2YXF\n",
      "I will now search the literature for information about the stability of the protein with PDB ID 2YXF. \n",
      "\n",
      "Action:\n",
      "```\n",
      "{\n",
      "  \"action\": \"LiteratureSearch\",\n",
      "  \"action_input\": {\n",
      "    \"query\": \"2YXF protein stability\"\n",
      "  }\n",
      "}\n",
      "```\"2YXF protein stability scholarly articles\"\n",
      "Search: \"2YXF protein stability scholarly articles\"\n",
      "\n",
      "Found 1 papers\n",
      "Action:\n",
      "```\n",
      "{\n",
      "  \"action\": \"SetUpandRunFunction\",\n",
      "  \"action_input\": {\n",
      "    \"pdb_id\": \"2YXF_163511\",\n",
      "    \"forcefield_files\": [\"amber99sb.xml\", \"tip3p.xml\"],\n",
      "    \"save\": true,\n",
      "    \"system_params\": {\n",
      "      \"nonbondedMethod\": \"PME\",\n",
      "      \"nonbondedCutoff\": \"1.0 * nanometers\",\n",
      "      \"constraints\": \"HBonds\",\n",
      "      \"rigidWater\": true,\n",
      "      \"constraintTolerance\": 0.00001,\n",
      "      \"solvate\": true\n",
      "    },\n",
      "    \"integrator_params\": {\n",
      "      \"integrator_type\": \"LangevinMiddle\",\n",
      "      \"Temperature\": \"300 * kelvin\",\n",
      "      \"Friction\": \"1.0 / picoseconds\",\n",
      "      \"Timestep\": \"0.002 * picoseconds\",\n",
      "      \"Pressure\": \"1.0 * bar\"\n",
      "    },\n",
      "    \"simulation_params\": {\n",
      "      \"Ensemble\": \"NPT\",\n",
      "      \"Number of Steps\": 500000,\n",
      "      \"record_interval_steps\": 5000,\n",
      "      \"record_params\": [\"step\", \"potentialEnergy\", \"temperature\", \"RMSD\"]\n",
      "    }\n",
      "  }\n",
      "}\n",
      "```\n",
      "Setting default ewaldErrorTolerance: 0.0005 \n",
      "Building system...\n",
      "About to create system...\n",
      "Attempts at creating system: 0/3\n",
      "Error adding solvent ValueError – No template found for residue 1 (MET).  The set of atoms is similar to MET, but it is missing 9 hydrogen atoms.  For more information, see https://github.com/openmm/openmm/wiki/Frequently-Asked-Questions#template\n",
      "Residue code: MET\n",
      "Residue code not in solvent list. Adding forcefield                         not supported.\n",
      "Thought: The simulation failed because the PDB file is missing hydrogen atoms for the MET residue. I will use the CleaningToolFunction to add missing atoms and hydrogens to the PDB file, and then attempt the simulation again.\n",
      "\n",
      "Action:\n",
      "```\n",
      "{\n",
      "  \"action\": \"CleaningToolFunction\",\n",
      "  \"action_input\": {\n",
      "    \"pdb_id\": \"2YXF_163511\",\n",
      "    \"replace_nonstandard_residues\": true,\n",
      "    \"add_missing_atoms\": true,\n",
      "    \"remove_heterogens\": true,\n",
      "    \"remove_water\": true,\n",
      "    \"add_hydrogens\": true,\n",
      "    \"add_hydrogens_ph\": 7.0\n",
      "  }\n",
      "}\n",
      "```file path: /Users/jorgemedina/Desktop/md-agent/ckpt/ckpt_317/pdb/2YXF_raw_20240908_163511.pdb\n",
      "I will now set up and run the simulation again using the cleaned PDB file. After the simulation, I will plot the RMSD over time.\n",
      "\n",
      "Action:\n",
      "```\n",
      "{\n",
      "  \"action\": \"SetUpandRunFunction\",\n",
      "  \"action_input\": {\n",
      "    \"pdb_id\": \"2YXF_163545\",\n",
      "    \"forcefield_files\": [\"amber99sb.xml\", \"tip3p.xml\"],\n",
      "    \"save\": true,\n",
      "    \"system_params\": {\n",
      "      \"nonbondedMethod\": \"PME\",\n",
      "      \"nonbondedCutoff\": \"1.0 * nanometers\",\n",
      "      \"constraints\": \"HBonds\",\n",
      "      \"rigidWater\": true,\n",
      "      \"constraintTolerance\": 0.00001,\n",
      "      \"solvate\": true\n",
      "    },\n",
      "    \"integrator_params\": {\n",
      "      \"integrator_type\": \"LangevinMiddle\",\n",
      "      \"Temperature\": \"300 * kelvin\",\n",
      "      \"Friction\": \"1.0 / picoseconds\",\n",
      "      \"Timestep\": \"0.002 * picoseconds\",\n",
      "      \"Pressure\": \"1.0 * bar\"\n",
      "    },\n",
      "    \"simulation_params\": {\n",
      "      \"Ensemble\": \"NPT\",\n",
      "      \"Number of Steps\": 500000,\n",
      "      \"record_interval_steps\": 5000,\n",
      "      \"record_params\": [\"step\", \"potentialEnergy\", \"temperature\", \"RMSD\"]\n",
      "    }\n",
      "  }\n",
      "}\n",
      "```Setting default ewaldErrorTolerance: 0.0005 \n",
      "Building system...\n",
      "About to create system...\n",
      "Attempts at creating system: 0/3\n",
      "System built successfully\n",
      "<openmm.openmm.System; proxy of <Swig Object of type 'OpenMM::System *' at 0x3008c16e0> >\n",
      "Setting up integrator...\n",
      "Creating simulation...\n",
      "simulation set!\n",
      "Performing energy minimization...\n",
      "Minimization complete!\n",
      "Initial Positions saved to initial_positions.pdb\n",
      "Equilibrating...\n",
      "Simulating...\n",
      "Done!\n",
      "Standalone simulation script written to /Users/jorgemedina/Desktop/md-agent/ckpt/ckpt_317/simulations/NPT_2YXF_163545_20240908_163551.py\n",
      "['exp_12_gpt4o20240806.out', 'exp_5_gpt4o20240806.out', 'exp_11.ipynb', 'exp_17_gpt4o20240806.out', 'TRAJ_sim0_160558_1FNF_160554_20240908_160600.dcd', 'exp_13.ipynb', 'exp_13_gpt4o20240806.out', 'exp_9.ipynb', 'exp_4_gpt4o20240806.out', 'exp_17.ipynb', 'TOP_sim0_163551_2YXF_163545_20240908_163552.pdb', 'exp_1_gpt4o20240806.out', 'exp_16_gpt4o20240806.out', 'exp_22_gpt4o20240806.out', 'exp_15.ipynb', 'exp_10_gpt4o20240806.out', 'exp_7_gpt4o20240806.out', 'exp_24_gpt4o20240806.out', 'exp_12.ipynb', 'exp_10.ipynb', 'exp_15_gpt4o20240806.out', 'exp_21_gpt4o20240806.out', 'TOP_sim0_161225_1FNF_161220_20240908_161227.pdb', 'exp_11_gpt4o20240806.out', 'exp_6_gpt4o20240806.out', 'LOG_sim0_160558_1FNF_160554_20240908_160600.txt', 'exp_14.ipynb', 'exp_3_gpt4o20240806.out', 'exp_14_gpt4o20240806.out', 'exp_23_.ipynb', 'exp_16.ipynb', 'exp_8.ipynb', 'exp_20_gpt4o20240806.out', 'TRAJ_sim0_163551_2YXF_163545_20240908_163552.dcd', 'LOG_sim0_161225_1FNF_161220_20240908_161227.txt', 'exp_4.ipynb', 'exp_25.ipynb', 'exp_18_gpt4o20240806.out', 'exp_18.ipynb', 'exp_6.ipynb', 'exp_21.ipynb', 'exp_2.ipynb', 'exp_19_gpt4o20240806.out', 'TOP_sim0_160558_1FNF_160554_20240908_160600.pdb', 'exp_7.ipynb', 'exp_19.ipynb', 'exp_8_gpt4o20240806.out', 'exp_24.ipynb', 'exp_23_gp4o20240806.out', 'exp_5.ipynb', 'exp_22.ipynb', 'exp_9_gpt4o20240806.out', 'exp_1.ipynb', 'LOG_sim0_163551_2YXF_163545_20240908_163552.txt', 'TRAJ_sim0_161225_1FNF_161220_20240908_161227.dcd', 'exp_3.ipynb', 'exp_20.ipynb']\n",
      "To complete the task, I need to plot the RMSD over time using the simulation results. I will use the RMSD computation tool to analyze the trajectory and then plot the results.\n",
      "\n",
      "Action:\n",
      "```\n",
      "{\n",
      "  \"action\": \"ComputeRMSD\",\n",
      "  \"action_input\": {\n",
      "    \"top_id\": \"top_sim0_163551\",\n",
      "    \"traj_id\": \"rec0_163552\",\n",
      "    \"select\": \"protein\"\n",
      "  }\n",
      "}\n",
      "```Calculating RMSD...\n",
      "Data saved to /Users/jorgemedina/Desktop/md-agent/ckpt/ckpt_317/records/rmsd_163551.csv\n",
      "Plot saved to /Users/jorgemedina/Desktop/md-agent/ckpt/ckpt_317/figures/FIG_rmsd_163551_20240908_183406.png\n",
      "To complete the task, I have successfully downloaded the PDB file for 2YXF, cleaned it, and ran a 1 ns simulation. The RMSD over time has been calculated and plotted. Here is the summary:\n",
      "\n",
      "1. **PDB Download**: The PDB file for 2YXF was successfully downloaded.\n",
      "2. **Literature Search**: Unfortunately, I couldn't retrieve specific literature information about the stability of 2YXF.\n",
      "3. **Simulation**: A 1 ns simulation was successfully conducted after cleaning the PDB file to add missing hydrogens.\n",
      "4. **RMSD Plot**: The RMSD over time was calculated and plotted.\n",
      "\n",
      "Final Answer: The simulation of 2YXF was completed successfully, and the RMSD plot over time is available with plot ID fig0_183406. Unfortunately, I couldn't find specific literature information about the stability of 2YXF."
     ]
    },
    {
     "data": {
      "text/plain": [
       "({'input': '\\n    You are an expert molecular dynamics scientist, and\\n    your task is to respond to the question or\\n    solve the problem to the best of your ability using\\n    the provided tools.\\n\\n    You can only respond with a single complete\\n    \\'Thought, Action, Action Input\\' format\\n    OR a single \\'Final Answer\\' format.\\n\\n    Complete format:\\n    Thought: (reflect on your progress and decide what to do next)\\n    Action:\\n    ```\\n    {\\n        \"action\": (the action name, it should be the name of a tool),\\n        \"action_input\": (the input string for the action)\\n    }\\n    \\'\\'\\'\\n\\n    OR\\n\\n    Final Answer: (the final response to the original input\\n    question, once all steps are complete)\\n\\n    You are required to use the tools provided,\\n    using the most specific tool\\n    available for each action.\\n    Your final answer should contain all information\\n    necessary to answer the question and its subquestions.\\n    Before you finish, reflect on your progress and make\\n    sure you have addressed the question in its entirety.\\n\\n    If you are asked to continue\\n    or reference previous runs,\\n    the context will be provided to you.\\n    If context is provided, you should assume\\n    you are continuing a chat.\\n\\n    Here is the input:\\n    Previous Context: None\\n    Question: Download the PDB for 2YXF. Tell me about its stability as found in the literature. Then, simulate it for 1 ns and plot its RMSD over time. ',\n",
       "  'output': \"To complete the task, I have successfully downloaded the PDB file for 2YXF, cleaned it, and ran a 1 ns simulation. The RMSD over time has been calculated and plotted. Here is the summary:\\n\\n1. **PDB Download**: The PDB file for 2YXF was successfully downloaded.\\n2. **Literature Search**: Unfortunately, I couldn't retrieve specific literature information about the stability of 2YXF.\\n3. **Simulation**: A 1 ns simulation was successfully conducted after cleaning the PDB file to add missing hydrogens.\\n4. **RMSD Plot**: The RMSD over time was calculated and plotted.\\n\\nFinal Answer: The simulation of 2YXF was completed successfully, and the RMSD plot over time is available with plot ID fig0_183406. Unfortunately, I couldn't find specific literature information about the stability of 2YXF.\"},\n",
       " 'X0MXXSGI')"
      ]
     },
     "execution_count": 9,
     "metadata": {},
     "output_type": "execute_result"
    }
   ],
   "source": [
    "agent.run(prompt19)"
   ]
  },
  {
   "cell_type": "code",
   "execution_count": 10,
   "metadata": {},
   "outputs": [
    {
     "name": "stdout",
     "output_type": "stream",
     "text": [
      "date and time: 2024-09-08\n",
      "time: 18:34:08\n",
      "Files found in registry: 2YXF_163511: PDB file downloaded from RSCB\n",
      " PDBFile ID: 2YXF_163511\n",
      " 2YXF_163545: Cleaned File:  Removed Heterogens\n",
      " and Water Removed.  Replaced Nonstandard Residues. Added Hydrogens at pH 7.0. Missing Atoms Added and replaces nonstandard residues. \n",
      " top_sim0_163551: Initial positions for simulation sim0_163551\n",
      " sim0_163551: Basic Simulation of Protein 2YXF_163545\n",
      " rec0_163552: Simulation trajectory for protein 2YXF_163545 and simulation sim0_163551\n",
      " rec1_163552: Simulation state log for protein 2YXF_163545 and simulation sim0_163551\n",
      " rec2_163552: Simulation pdb frames for protein 2YXF_163545 and simulation sim0_163551\n",
      " rmsd_163551: RMSD for 163551\n",
      " fig0_183406: RMSD plot for 163551\n"
     ]
    }
   ],
   "source": [
    "now = datetime.datetime.now()\n",
    "date = now.strftime(\"%Y-%m-%d\")\n",
    "print(\"date and time:\",date)\n",
    "time = now.strftime(\"%H:%M:%S\")\n",
    "print(\"time:\",time)\n",
    "registry = agent.path_registry\n",
    "paths_and_descriptions = registry.list_path_names_and_descriptions()\n",
    "print(\"\\n\".join(paths_and_descriptions.split(\",\")))"
   ]
  },
  {
   "cell_type": "code",
   "execution_count": 11,
   "metadata": {},
   "outputs": [
    {
     "data": {
      "image/png": "[encoded data removed]",
      "text/plain": [
       "<IPython.core.display.Image object>"
      ]
     },
     "execution_count": 11,
     "metadata": {},
     "output_type": "execute_result"
    }
   ],
   "source": [
    "from IPython.display import Image\n",
    "Image(filename=registry.get_mapped_path(\"fig0_183406\"))"
   ]
  },
  {
   "cell_type": "markdown",
   "metadata": {},
   "source": [
    "# Experiment Result:\n",
    "### Completed without Exception or TimeOut Errors ✅\n",
    "### Attempted all necessary steps ✅\n",
    "### No hallucination ✅\n",
    "### Logic make sense ✅\n",
    "### Correct Answer  ✅\n",
    "### Number of steps completed: 4\n",
    "### % steps completed: 100%"
   ]
  },
  {
   "cell_type": "code",
   "execution_count": null,
   "metadata": {},
   "outputs": [],
   "source": []
  }
 ],
 "metadata": {
  "kernelspec": {
   "display_name": "mdagent2",
   "language": "python",
   "name": "python3"
  },
  "language_info": {
   "codemirror_mode": {
    "name": "ipython",
    "version": 3
   },
   "file_extension": ".py",
   "mimetype": "text/x-python",
   "name": "python",
   "nbconvert_exporter": "python",
   "pygments_lexer": "ipython3",
   "version": "3.11.9"
  }
 },
 "nbformat": 4,
 "nbformat_minor": 2
}
