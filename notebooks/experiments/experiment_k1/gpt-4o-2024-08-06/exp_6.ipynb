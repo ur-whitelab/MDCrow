{
 "cells": [
  {
   "cell_type": "code",
   "execution_count": 1,
<<<<<<< HEAD
   "metadata": {},
=======
   "id": "8d64daea",
   "metadata": {
    "execution": {
     "iopub.execute_input": "2024-10-09T00:40:56.391413Z",
     "iopub.status.busy": "2024-10-09T00:40:56.391055Z",
     "iopub.status.idle": "2024-10-09T00:41:04.863077Z",
     "shell.execute_reply": "2024-10-09T00:41:04.862294Z"
    },
    "papermill": {
     "duration": 8.479743,
     "end_time": "2024-10-09T00:41:04.865494",
     "exception": false,
     "start_time": "2024-10-09T00:40:56.385751",
     "status": "completed"
    },
    "tags": []
   },
>>>>>>> e214933 (moved gpt4o to correct folder name, reran some exps)
   "outputs": [],
   "source": [
    "import datetime\n",
    "import os\n",
    "from mdagent import MDAgent\n",
<<<<<<< HEAD
    "import matplotlib.pyplot as plt"
=======
    "import matplotlib.pyplot as plt\n",
    "import nest_asyncio\n",
    "nest_asyncio.apply()"
>>>>>>> e214933 (moved gpt4o to correct folder name, reran some exps)
   ]
  },
  {
   "cell_type": "code",
   "execution_count": 2,
<<<<<<< HEAD
   "metadata": {},
=======
   "id": "c507e41a",
   "metadata": {
    "editable": true,
    "execution": {
     "iopub.execute_input": "2024-10-09T00:41:04.875271Z",
     "iopub.status.busy": "2024-10-09T00:41:04.874297Z",
     "iopub.status.idle": "2024-10-09T00:41:04.880814Z",
     "shell.execute_reply": "2024-10-09T00:41:04.880064Z"
    },
    "papermill": {
     "duration": 0.012942,
     "end_time": "2024-10-09T00:41:04.882930",
     "exception": false,
     "start_time": "2024-10-09T00:41:04.869988",
     "status": "completed"
    },
    "slideshow": {
     "slide_type": ""
    },
    "tags": [
     "parameters"
    ]
   },
   "outputs": [],
   "source": [
    "llm_var = \"accounts/fireworks/models/llama-v3p1-405b-instruct\""
   ]
  },
  {
   "cell_type": "code",
   "execution_count": 3,
   "id": "7365a831",
   "metadata": {
    "execution": {
     "iopub.execute_input": "2024-10-09T00:41:04.890900Z",
     "iopub.status.busy": "2024-10-09T00:41:04.890567Z",
     "iopub.status.idle": "2024-10-09T00:41:04.945319Z",
     "shell.execute_reply": "2024-10-09T00:41:04.944405Z"
    },
    "papermill": {
     "duration": 0.061517,
     "end_time": "2024-10-09T00:41:04.947632",
     "exception": false,
     "start_time": "2024-10-09T00:41:04.886115",
     "status": "completed"
    },
    "tags": [
     "injected-parameters"
    ]
   },
   "outputs": [],
   "source": [
    "# Parameters\n",
    "llm_var = \"gpt-4o-2024-08-06\"\n"
   ]
  },
  {
   "cell_type": "code",
   "execution_count": 4,
   "id": "89dd342a",
   "metadata": {
    "execution": {
     "iopub.execute_input": "2024-10-09T00:41:04.955562Z",
     "iopub.status.busy": "2024-10-09T00:41:04.955220Z",
     "iopub.status.idle": "2024-10-09T00:41:05.036493Z",
     "shell.execute_reply": "2024-10-09T00:41:05.035749Z"
    },
    "papermill": {
     "duration": 0.088024,
     "end_time": "2024-10-09T00:41:05.038744",
     "exception": false,
     "start_time": "2024-10-09T00:41:04.950720",
     "status": "completed"
    },
    "tags": []
   },
>>>>>>> e214933 (moved gpt4o to correct folder name, reran some exps)
   "outputs": [
    {
     "name": "stdout",
     "output_type": "stream",
     "text": [
<<<<<<< HEAD
      "date and time: 2024-09-08\n",
      "time: 15:30:46\n",
=======
      "date and time: 2024-10-08\n",
      "time: 20:41:05\n",
>>>>>>> e214933 (moved gpt4o to correct folder name, reran some exps)
      "LLM:  gpt-4o-2024-08-06 \n",
      "Temperature:  0.1\n"
     ]
    }
   ],
   "source": [
    "prompt6 = \"Simulate 1A3N and 7VDE (two PDB IDs matching hemoglobin) with identical parameters. Find the appropriate parameters for simulating hemoglobin from the literature. Then, plot the radius of gyration throughout both simulations.\"\n",
<<<<<<< HEAD
    "llm_var = \"gpt-4o-2024-08-06\"\n",
    "tools = \"all\"\n",
    "agent = MDAgent(agent_type=\"Structured\", model=llm_var, top_k_tools=tools,ckpt_dir=\"ckpt_25\")\n",
=======
    "paper_dir = \"paper_collection\"\n",
    "tools = \"all\"\n",
    "\n",
    "agent = MDAgent(agent_type=\"Structured\", model=llm_var, top_k_tools=tools, paper_dir=paper_dir)\n",
>>>>>>> e214933 (moved gpt4o to correct folder name, reran some exps)
    "now = datetime.datetime.now()\n",
    "date = now.strftime(\"%Y-%m-%d\")\n",
    "print(\"date and time:\",date)\n",
    "time = now.strftime(\"%H:%M:%S\")\n",
    "print(\"time:\",time)\n",
    "print(\"LLM: \",agent.llm.model_name,\"\\nTemperature: \",agent.llm.temperature)"
   ]
  },
  {
   "cell_type": "code",
<<<<<<< HEAD
   "execution_count": null,
   "metadata": {},
   "outputs": [],
   "source": [
    "# agent.run(prompt6)"
   ]
  },
  {
   "cell_type": "markdown",
   "metadata": {},
   "source": [
    "### Final Answer\n",
    "To complete the task, I have successfully simulated both PDB structures 1A3N and 7VDE using identical parameters suitable for hemoglobin. I have also calculated and plotted the radius of gyration for each trajectory. Here are the results:\n",
    "\n",
    "- The radius of gyration plot for 1A3N is saved as FIG_rgy_rec0_110017_20240821_120126.png.\n",
    "- The radius of gyration plot for 7VDE is saved as FIG_rgy_rec0_112134_20240821_120130.png.\n",
    "\n",
    "These plots provide insights into the structural compactness and stability of the hemoglobin simulations over time. \n",
    "\n",
    "Final Answer: The simulations for 1A3N and 7VDE have been completed with identical parameters, and the radius of gyration plots for both are available for analysis.Files found in registry: 1A3N_105939: PDB file downloaded from RSCB, PDBFile ID: 1A3N_105939, 7VDE_105941: PDB file downloaded from RSCB, PDBFile ID: 7VDE_105941, 1A3N_110008: Cleaned File:  Removed Heterogens, and Water Removed.  Replaced Nonstandard Residues. Added Hydrogens at pH 7.0. Missing Atoms Added and replaces nonstandard residues. , top_sim0_110013: Initial positions for simulation sim0_110013, sim0_110013: Basic Simulation of Protein 1A3N_110008, rec0_110017: Simulation trajectory for protein 1A3N_110008 and simulation sim0_110013, rec1_110017: Simulation state log for protein 1A3N_110008 and simulation sim0_110013, rec2_110017: Simulation pdb frames for protein 1A3N_110008 and simulation sim0_110013, 7VDE_112120: Cleaned File:  Removed Heterogens, and Water Removed.  Replaced Nonstandard Residues. Added Hydrogens at pH 7.0. Missing Atoms Added and replaces nonstandard residues. , top_sim0_112125: Initial positions for simulation sim0_112125, sim0_112125: Basic Simulation of Protein 7VDE_112120, rec0_112134: Simulation trajectory for protein 7VDE_112120 and simulation sim0_112125, rec1_112134: Simulation state log for protein 7VDE_112120 and simulation sim0_112125, rec2_112134: Simulation pdb frames for protein 7VDE_112120 and simulation sim0_112125, rgy_rec0_110017: Radii of gyration per frame for rec0_110017, fig0_120126: Plot of radii of gyration over time for rec0_110017, rgy_rec0_112134: Radii of gyration per frame for rec0_112134, fig0_120130: Plot of radii of gyration over time for rec0_112134 \n",
    "\n",
    "Checkpint directory:  /gpfs/fs2/scratch/jmedina9/mdagent/md-agent/ckpt/ckpt_25\n",
    "\n",
    "\n"
   ]
  },
  {
   "cell_type": "code",
   "execution_count": 6,
   "metadata": {},
=======
   "execution_count": 5,
   "id": "12fded5f",
   "metadata": {
    "execution": {
     "iopub.execute_input": "2024-10-09T00:41:05.047190Z",
     "iopub.status.busy": "2024-10-09T00:41:05.046822Z",
     "iopub.status.idle": "2024-10-09T00:41:47.844462Z",
     "shell.execute_reply": "2024-10-09T00:41:47.843528Z"
    },
    "papermill": {
     "duration": 42.804631,
     "end_time": "2024-10-09T00:41:47.846891",
     "exception": false,
     "start_time": "2024-10-09T00:41:05.042260",
     "status": "completed"
    },
    "tags": []
   },
>>>>>>> e214933 (moved gpt4o to correct folder name, reran some exps)
   "outputs": [
    {
     "name": "stdout",
     "output_type": "stream",
     "text": [
<<<<<<< HEAD
      "Files found in registry: 1A3N_105939: PDB file downloaded from RSCB\n",
      " PDBFile ID: 1A3N_105939\n",
      " 7VDE_105941: PDB file downloaded from RSCB\n",
      " PDBFile ID: 7VDE_105941\n",
      " 1A3N_110008: Cleaned File:  Removed Heterogens\n",
      " and Water Removed.  Replaced Nonstandard Residues. Added Hydrogens at pH 7.0. Missing Atoms Added and replaces nonstandard residues. \n",
      " top_sim0_110013: Initial positions for simulation sim0_110013\n",
      " sim0_110013: Basic Simulation of Protein 1A3N_110008\n",
      " rec0_110017: Simulation trajectory for protein 1A3N_110008 and simulation sim0_110013\n",
      " rec1_110017: Simulation state log for protein 1A3N_110008 and simulation sim0_110013\n",
      " rec2_110017: Simulation pdb frames for protein 1A3N_110008 and simulation sim0_110013\n",
      " 7VDE_112120: Cleaned File:  Removed Heterogens\n",
      " and Water Removed.  Replaced Nonstandard Residues. Added Hydrogens at pH 7.0. Missing Atoms Added and replaces nonstandard residues. \n",
      " top_sim0_112125: Initial positions for simulation sim0_112125\n",
      " sim0_112125: Basic Simulation of Protein 7VDE_112120\n",
      " rec0_112134: Simulation trajectory for protein 7VDE_112120 and simulation sim0_112125\n",
      " rec1_112134: Simulation state log for protein 7VDE_112120 and simulation sim0_112125\n",
      " rec2_112134: Simulation pdb frames for protein 7VDE_112120 and simulation sim0_112125\n",
      " rgy_rec0_110017: Radii of gyration per frame for rec0_110017\n",
      " fig0_120126: Plot of radii of gyration over time for rec0_110017\n",
      " rgy_rec0_112134: Radii of gyration per frame for rec0_112134\n",
      " fig0_120130: Plot of radii of gyration over time for rec0_112134\n"
     ]
    }
   ],
   "source": [
    "registry = agent.path_registry\n",
    "print(\"\\n\".join(registry.list_path_names_and_descriptions().split(\",\")))"
   ]
  },
  {
   "cell_type": "code",
   "execution_count": 5,
   "metadata": {},
   "outputs": [
    {
     "data": {
      "text/plain": [
       "'/Users/jorgemedina/Desktop/md-agent/ckpt/ckpt_25'"
=======
      "Thought"
     ]
    },
    {
     "name": "stdout",
     "output_type": "stream",
     "text": [
      ":"
     ]
    },
    {
     "name": "stdout",
     "output_type": "stream",
     "text": [
      " To"
     ]
    },
    {
     "name": "stdout",
     "output_type": "stream",
     "text": [
      " simulate"
     ]
    },
    {
     "name": "stdout",
     "output_type": "stream",
     "text": [
      " the"
     ]
    },
    {
     "name": "stdout",
     "output_type": "stream",
     "text": [
      " two"
     ]
    },
    {
     "name": "stdout",
     "output_type": "stream",
     "text": [
      " P"
     ]
    },
    {
     "name": "stdout",
     "output_type": "stream",
     "text": [
      "DB"
     ]
    },
    {
     "name": "stdout",
     "output_type": "stream",
     "text": [
      " structures"
     ]
    },
    {
     "name": "stdout",
     "output_type": "stream",
     "text": [
      " ("
     ]
    },
    {
     "name": "stdout",
     "output_type": "stream",
     "text": [
      "1"
     ]
    },
    {
     "name": "stdout",
     "output_type": "stream",
     "text": [
      "A"
     ]
    },
    {
     "name": "stdout",
     "output_type": "stream",
     "text": [
      "3"
     ]
    },
    {
     "name": "stdout",
     "output_type": "stream",
     "text": [
      "N"
     ]
    },
    {
     "name": "stdout",
     "output_type": "stream",
     "text": [
      " and"
     ]
    },
    {
     "name": "stdout",
     "output_type": "stream",
     "text": [
      " "
     ]
    },
    {
     "name": "stdout",
     "output_type": "stream",
     "text": [
      "7"
     ]
    },
    {
     "name": "stdout",
     "output_type": "stream",
     "text": [
      "V"
     ]
    },
    {
     "name": "stdout",
     "output_type": "stream",
     "text": [
      "DE"
     ]
    },
    {
     "name": "stdout",
     "output_type": "stream",
     "text": [
      ")"
     ]
    },
    {
     "name": "stdout",
     "output_type": "stream",
     "text": [
      " with"
     ]
    },
    {
     "name": "stdout",
     "output_type": "stream",
     "text": [
      " identical"
     ]
    },
    {
     "name": "stdout",
     "output_type": "stream",
     "text": [
      " parameters"
     ]
    },
    {
     "name": "stdout",
     "output_type": "stream",
     "text": [
      ","
     ]
    },
    {
     "name": "stdout",
     "output_type": "stream",
     "text": [
      " I"
     ]
    },
    {
     "name": "stdout",
     "output_type": "stream",
     "text": [
      " need"
     ]
    },
    {
     "name": "stdout",
     "output_type": "stream",
     "text": [
      " to"
     ]
    },
    {
     "name": "stdout",
     "output_type": "stream",
     "text": [
      " first"
     ]
    },
    {
     "name": "stdout",
     "output_type": "stream",
     "text": [
      " download"
     ]
    },
    {
     "name": "stdout",
     "output_type": "stream",
     "text": [
      " the"
     ]
    },
    {
     "name": "stdout",
     "output_type": "stream",
     "text": [
      " P"
     ]
    },
    {
     "name": "stdout",
     "output_type": "stream",
     "text": [
      "DB"
     ]
    },
    {
     "name": "stdout",
     "output_type": "stream",
     "text": [
      " files"
     ]
    },
    {
     "name": "stdout",
     "output_type": "stream",
     "text": [
      "."
     ]
    },
    {
     "name": "stdout",
     "output_type": "stream",
     "text": [
      " Then"
     ]
    },
    {
     "name": "stdout",
     "output_type": "stream",
     "text": [
      ","
     ]
    },
    {
     "name": "stdout",
     "output_type": "stream",
     "text": [
      " I"
     ]
    },
    {
     "name": "stdout",
     "output_type": "stream",
     "text": [
      " will"
     ]
    },
    {
     "name": "stdout",
     "output_type": "stream",
     "text": [
      " search"
     ]
    },
    {
     "name": "stdout",
     "output_type": "stream",
     "text": [
      " the"
     ]
    },
    {
     "name": "stdout",
     "output_type": "stream",
     "text": [
      " literature"
     ]
    },
    {
     "name": "stdout",
     "output_type": "stream",
     "text": [
      " for"
     ]
    },
    {
     "name": "stdout",
     "output_type": "stream",
     "text": [
      " appropriate"
     ]
    },
    {
     "name": "stdout",
     "output_type": "stream",
     "text": [
      " simulation"
     ]
    },
    {
     "name": "stdout",
     "output_type": "stream",
     "text": [
      " parameters"
     ]
    },
    {
     "name": "stdout",
     "output_type": "stream",
     "text": [
      " for"
     ]
    },
    {
     "name": "stdout",
     "output_type": "stream",
     "text": [
      " hem"
     ]
    },
    {
     "name": "stdout",
     "output_type": "stream",
     "text": [
      "oglobin"
     ]
    },
    {
     "name": "stdout",
     "output_type": "stream",
     "text": [
      "."
     ]
    },
    {
     "name": "stdout",
     "output_type": "stream",
     "text": [
      " After"
     ]
    },
    {
     "name": "stdout",
     "output_type": "stream",
     "text": [
      " setting"
     ]
    },
    {
     "name": "stdout",
     "output_type": "stream",
     "text": [
      " up"
     ]
    },
    {
     "name": "stdout",
     "output_type": "stream",
     "text": [
      " and"
     ]
    },
    {
     "name": "stdout",
     "output_type": "stream",
     "text": [
      " running"
     ]
    },
    {
     "name": "stdout",
     "output_type": "stream",
     "text": [
      " the"
     ]
    },
    {
     "name": "stdout",
     "output_type": "stream",
     "text": [
      " simulations"
     ]
    },
    {
     "name": "stdout",
     "output_type": "stream",
     "text": [
      ","
     ]
    },
    {
     "name": "stdout",
     "output_type": "stream",
     "text": [
      " I"
     ]
    },
    {
     "name": "stdout",
     "output_type": "stream",
     "text": [
      " will"
     ]
    },
    {
     "name": "stdout",
     "output_type": "stream",
     "text": [
      " calculate"
     ]
    },
    {
     "name": "stdout",
     "output_type": "stream",
     "text": [
      " and"
     ]
    },
    {
     "name": "stdout",
     "output_type": "stream",
     "text": [
      " plot"
     ]
    },
    {
     "name": "stdout",
     "output_type": "stream",
     "text": [
      " the"
     ]
    },
    {
     "name": "stdout",
     "output_type": "stream",
     "text": [
      " radius"
     ]
    },
    {
     "name": "stdout",
     "output_type": "stream",
     "text": [
      " of"
     ]
    },
    {
     "name": "stdout",
     "output_type": "stream",
     "text": [
      " gyr"
     ]
    },
    {
     "name": "stdout",
     "output_type": "stream",
     "text": [
      "ation"
     ]
    },
    {
     "name": "stdout",
     "output_type": "stream",
     "text": [
      " for"
     ]
    },
    {
     "name": "stdout",
     "output_type": "stream",
     "text": [
      " both"
     ]
    },
    {
     "name": "stdout",
     "output_type": "stream",
     "text": [
      " simulations"
     ]
    },
    {
     "name": "stdout",
     "output_type": "stream",
     "text": [
      ".\n",
      "\n"
     ]
    },
    {
     "name": "stdout",
     "output_type": "stream",
     "text": [
      "Action"
     ]
    },
    {
     "name": "stdout",
     "output_type": "stream",
     "text": [
      ":\n"
     ]
    },
    {
     "name": "stdout",
     "output_type": "stream",
     "text": [
      "``"
     ]
    },
    {
     "name": "stdout",
     "output_type": "stream",
     "text": [
      "`\n"
     ]
    },
    {
     "name": "stdout",
     "output_type": "stream",
     "text": [
      "{\n"
     ]
    },
    {
     "name": "stdout",
     "output_type": "stream",
     "text": [
      " "
     ]
    },
    {
     "name": "stdout",
     "output_type": "stream",
     "text": [
      " \""
     ]
    },
    {
     "name": "stdout",
     "output_type": "stream",
     "text": [
      "action"
     ]
    },
    {
     "name": "stdout",
     "output_type": "stream",
     "text": [
      "\":"
     ]
    },
    {
     "name": "stdout",
     "output_type": "stream",
     "text": [
      " \""
     ]
    },
    {
     "name": "stdout",
     "output_type": "stream",
     "text": [
      "P"
     ]
    },
    {
     "name": "stdout",
     "output_type": "stream",
     "text": [
      "DB"
     ]
    },
    {
     "name": "stdout",
     "output_type": "stream",
     "text": [
      "File"
     ]
    },
    {
     "name": "stdout",
     "output_type": "stream",
     "text": [
      "Downloader"
     ]
    },
    {
     "name": "stdout",
     "output_type": "stream",
     "text": [
      "\",\n"
     ]
    },
    {
     "name": "stdout",
     "output_type": "stream",
     "text": [
      " "
     ]
    },
    {
     "name": "stdout",
     "output_type": "stream",
     "text": [
      " \""
     ]
    },
    {
     "name": "stdout",
     "output_type": "stream",
     "text": [
      "action"
     ]
    },
    {
     "name": "stdout",
     "output_type": "stream",
     "text": [
      "_input"
     ]
    },
    {
     "name": "stdout",
     "output_type": "stream",
     "text": [
      "\":"
     ]
    },
    {
     "name": "stdout",
     "output_type": "stream",
     "text": [
      " \""
     ]
    },
    {
     "name": "stdout",
     "output_type": "stream",
     "text": [
      "1"
     ]
    },
    {
     "name": "stdout",
     "output_type": "stream",
     "text": [
      "A"
     ]
    },
    {
     "name": "stdout",
     "output_type": "stream",
     "text": [
      "3"
     ]
    },
    {
     "name": "stdout",
     "output_type": "stream",
     "text": [
      "N"
     ]
    },
    {
     "name": "stdout",
     "output_type": "stream",
     "text": [
      "\"\n"
     ]
    },
    {
     "name": "stdout",
     "output_type": "stream",
     "text": [
      "}\n"
     ]
    },
    {
     "name": "stdout",
     "output_type": "stream",
     "text": [
      "```"
     ]
    },
    {
     "name": "stdout",
     "output_type": "stream",
     "text": [
      "PDB file found with this ID: 1A3N\n"
     ]
    },
    {
     "name": "stdout",
     "output_type": "stream",
     "text": [
      "To"
     ]
    },
    {
     "name": "stdout",
     "output_type": "stream",
     "text": [
      " proceed"
     ]
    },
    {
     "name": "stdout",
     "output_type": "stream",
     "text": [
      ","
     ]
    },
    {
     "name": "stdout",
     "output_type": "stream",
     "text": [
      " I"
     ]
    },
    {
     "name": "stdout",
     "output_type": "stream",
     "text": [
      " need"
     ]
    },
    {
     "name": "stdout",
     "output_type": "stream",
     "text": [
      " to"
     ]
    },
    {
     "name": "stdout",
     "output_type": "stream",
     "text": [
      " download"
     ]
    },
    {
     "name": "stdout",
     "output_type": "stream",
     "text": [
      " the"
     ]
    },
    {
     "name": "stdout",
     "output_type": "stream",
     "text": [
      " P"
     ]
    },
    {
     "name": "stdout",
     "output_type": "stream",
     "text": [
      "DB"
     ]
    },
    {
     "name": "stdout",
     "output_type": "stream",
     "text": [
      " file"
     ]
    },
    {
     "name": "stdout",
     "output_type": "stream",
     "text": [
      " for"
     ]
    },
    {
     "name": "stdout",
     "output_type": "stream",
     "text": [
      " "
     ]
    },
    {
     "name": "stdout",
     "output_type": "stream",
     "text": [
      "7"
     ]
    },
    {
     "name": "stdout",
     "output_type": "stream",
     "text": [
      "V"
     ]
    },
    {
     "name": "stdout",
     "output_type": "stream",
     "text": [
      "DE"
     ]
    },
    {
     "name": "stdout",
     "output_type": "stream",
     "text": [
      " as"
     ]
    },
    {
     "name": "stdout",
     "output_type": "stream",
     "text": [
      " well"
     ]
    },
    {
     "name": "stdout",
     "output_type": "stream",
     "text": [
      "."
     ]
    },
    {
     "name": "stdout",
     "output_type": "stream",
     "text": [
      " After"
     ]
    },
    {
     "name": "stdout",
     "output_type": "stream",
     "text": [
      " that"
     ]
    },
    {
     "name": "stdout",
     "output_type": "stream",
     "text": [
      ","
     ]
    },
    {
     "name": "stdout",
     "output_type": "stream",
     "text": [
      " I"
     ]
    },
    {
     "name": "stdout",
     "output_type": "stream",
     "text": [
      " will"
     ]
    },
    {
     "name": "stdout",
     "output_type": "stream",
     "text": [
      " search"
     ]
    },
    {
     "name": "stdout",
     "output_type": "stream",
     "text": [
      " the"
     ]
    },
    {
     "name": "stdout",
     "output_type": "stream",
     "text": [
      " literature"
     ]
    },
    {
     "name": "stdout",
     "output_type": "stream",
     "text": [
      " for"
     ]
    },
    {
     "name": "stdout",
     "output_type": "stream",
     "text": [
      " appropriate"
     ]
    },
    {
     "name": "stdout",
     "output_type": "stream",
     "text": [
      " simulation"
     ]
    },
    {
     "name": "stdout",
     "output_type": "stream",
     "text": [
      " parameters"
     ]
    },
    {
     "name": "stdout",
     "output_type": "stream",
     "text": [
      " for"
     ]
    },
    {
     "name": "stdout",
     "output_type": "stream",
     "text": [
      " hem"
     ]
    },
    {
     "name": "stdout",
     "output_type": "stream",
     "text": [
      "oglobin"
     ]
    },
    {
     "name": "stdout",
     "output_type": "stream",
     "text": [
      ".\n",
      "\n"
     ]
    },
    {
     "name": "stdout",
     "output_type": "stream",
     "text": [
      "Action"
     ]
    },
    {
     "name": "stdout",
     "output_type": "stream",
     "text": [
      ":\n"
     ]
    },
    {
     "name": "stdout",
     "output_type": "stream",
     "text": [
      "```"
     ]
    },
    {
     "name": "stdout",
     "output_type": "stream",
     "text": [
      "json"
     ]
    },
    {
     "name": "stdout",
     "output_type": "stream",
     "text": [
      "\n"
     ]
    },
    {
     "name": "stdout",
     "output_type": "stream",
     "text": [
      "{\n"
     ]
    },
    {
     "name": "stdout",
     "output_type": "stream",
     "text": [
      " "
     ]
    },
    {
     "name": "stdout",
     "output_type": "stream",
     "text": [
      " \""
     ]
    },
    {
     "name": "stdout",
     "output_type": "stream",
     "text": [
      "action"
     ]
    },
    {
     "name": "stdout",
     "output_type": "stream",
     "text": [
      "\":"
     ]
    },
    {
     "name": "stdout",
     "output_type": "stream",
     "text": [
      " \""
     ]
    },
    {
     "name": "stdout",
     "output_type": "stream",
     "text": [
      "P"
     ]
    },
    {
     "name": "stdout",
     "output_type": "stream",
     "text": [
      "DB"
     ]
    },
    {
     "name": "stdout",
     "output_type": "stream",
     "text": [
      "File"
     ]
    },
    {
     "name": "stdout",
     "output_type": "stream",
     "text": [
      "Downloader"
     ]
    },
    {
     "name": "stdout",
     "output_type": "stream",
     "text": [
      "\",\n"
     ]
    },
    {
     "name": "stdout",
     "output_type": "stream",
     "text": [
      " "
     ]
    },
    {
     "name": "stdout",
     "output_type": "stream",
     "text": [
      " \""
     ]
    },
    {
     "name": "stdout",
     "output_type": "stream",
     "text": [
      "action"
     ]
    },
    {
     "name": "stdout",
     "output_type": "stream",
     "text": [
      "_input"
     ]
    },
    {
     "name": "stdout",
     "output_type": "stream",
     "text": [
      "\":"
     ]
    },
    {
     "name": "stdout",
     "output_type": "stream",
     "text": [
      " \""
     ]
    },
    {
     "name": "stdout",
     "output_type": "stream",
     "text": [
      "7"
     ]
    },
    {
     "name": "stdout",
     "output_type": "stream",
     "text": [
      "V"
     ]
    },
    {
     "name": "stdout",
     "output_type": "stream",
     "text": [
      "DE"
     ]
    },
    {
     "name": "stdout",
     "output_type": "stream",
     "text": [
      "\"\n"
     ]
    },
    {
     "name": "stdout",
     "output_type": "stream",
     "text": [
      "}\n"
     ]
    },
    {
     "name": "stdout",
     "output_type": "stream",
     "text": [
      "```"
     ]
    },
    {
     "name": "stdout",
     "output_type": "stream",
     "text": [
      "PDB file found with this ID: 7VDE\n"
     ]
    },
    {
     "name": "stdout",
     "output_type": "stream",
     "text": [
      "To"
     ]
    },
    {
     "name": "stdout",
     "output_type": "stream",
     "text": [
      " find"
     ]
    },
    {
     "name": "stdout",
     "output_type": "stream",
     "text": [
      " appropriate"
     ]
    },
    {
     "name": "stdout",
     "output_type": "stream",
     "text": [
      " simulation"
     ]
    },
    {
     "name": "stdout",
     "output_type": "stream",
     "text": [
      " parameters"
     ]
    },
    {
     "name": "stdout",
     "output_type": "stream",
     "text": [
      " for"
     ]
    },
    {
     "name": "stdout",
     "output_type": "stream",
     "text": [
      " hem"
     ]
    },
    {
     "name": "stdout",
     "output_type": "stream",
     "text": [
      "oglobin"
     ]
    },
    {
     "name": "stdout",
     "output_type": "stream",
     "text": [
      ","
     ]
    },
    {
     "name": "stdout",
     "output_type": "stream",
     "text": [
      " I"
     ]
    },
    {
     "name": "stdout",
     "output_type": "stream",
     "text": [
      " will"
     ]
    },
    {
     "name": "stdout",
     "output_type": "stream",
     "text": [
      " perform"
     ]
    },
    {
     "name": "stdout",
     "output_type": "stream",
     "text": [
      " a"
     ]
    },
    {
     "name": "stdout",
     "output_type": "stream",
     "text": [
      " literature"
     ]
    },
    {
     "name": "stdout",
     "output_type": "stream",
     "text": [
      " search"
     ]
    },
    {
     "name": "stdout",
     "output_type": "stream",
     "text": [
      "."
     ]
    },
    {
     "name": "stdout",
     "output_type": "stream",
     "text": [
      " Once"
     ]
    },
    {
     "name": "stdout",
     "output_type": "stream",
     "text": [
      " I"
     ]
    },
    {
     "name": "stdout",
     "output_type": "stream",
     "text": [
      " have"
     ]
    },
    {
     "name": "stdout",
     "output_type": "stream",
     "text": [
      " the"
     ]
    },
    {
     "name": "stdout",
     "output_type": "stream",
     "text": [
      " parameters"
     ]
    },
    {
     "name": "stdout",
     "output_type": "stream",
     "text": [
      ","
     ]
    },
    {
     "name": "stdout",
     "output_type": "stream",
     "text": [
      " I"
     ]
    },
    {
     "name": "stdout",
     "output_type": "stream",
     "text": [
      " will"
     ]
    },
    {
     "name": "stdout",
     "output_type": "stream",
     "text": [
      " set"
     ]
    },
    {
     "name": "stdout",
     "output_type": "stream",
     "text": [
      " up"
     ]
    },
    {
     "name": "stdout",
     "output_type": "stream",
     "text": [
      " and"
     ]
    },
    {
     "name": "stdout",
     "output_type": "stream",
     "text": [
      " run"
     ]
    },
    {
     "name": "stdout",
     "output_type": "stream",
     "text": [
      " the"
     ]
    },
    {
     "name": "stdout",
     "output_type": "stream",
     "text": [
      " simulations"
     ]
    },
    {
     "name": "stdout",
     "output_type": "stream",
     "text": [
      " for"
     ]
    },
    {
     "name": "stdout",
     "output_type": "stream",
     "text": [
      " both"
     ]
    },
    {
     "name": "stdout",
     "output_type": "stream",
     "text": [
      " P"
     ]
    },
    {
     "name": "stdout",
     "output_type": "stream",
     "text": [
      "DB"
     ]
    },
    {
     "name": "stdout",
     "output_type": "stream",
     "text": [
      " structures"
     ]
    },
    {
     "name": "stdout",
     "output_type": "stream",
     "text": [
      " using"
     ]
    },
    {
     "name": "stdout",
     "output_type": "stream",
     "text": [
      " these"
     ]
    },
    {
     "name": "stdout",
     "output_type": "stream",
     "text": [
      " parameters"
     ]
    },
    {
     "name": "stdout",
     "output_type": "stream",
     "text": [
      ".\n",
      "\n"
     ]
    },
    {
     "name": "stdout",
     "output_type": "stream",
     "text": [
      "Action"
     ]
    },
    {
     "name": "stdout",
     "output_type": "stream",
     "text": [
      ":\n"
     ]
    },
    {
     "name": "stdout",
     "output_type": "stream",
     "text": [
      "```"
     ]
    },
    {
     "name": "stdout",
     "output_type": "stream",
     "text": [
      "json"
     ]
    },
    {
     "name": "stdout",
     "output_type": "stream",
     "text": [
      "\n"
     ]
    },
    {
     "name": "stdout",
     "output_type": "stream",
     "text": [
      "{\n"
     ]
    },
    {
     "name": "stdout",
     "output_type": "stream",
     "text": [
      " "
     ]
    },
    {
     "name": "stdout",
     "output_type": "stream",
     "text": [
      " \""
     ]
    },
    {
     "name": "stdout",
     "output_type": "stream",
     "text": [
      "action"
     ]
    },
    {
     "name": "stdout",
     "output_type": "stream",
     "text": [
      "\":"
     ]
    },
    {
     "name": "stdout",
     "output_type": "stream",
     "text": [
      " \""
     ]
    },
    {
     "name": "stdout",
     "output_type": "stream",
     "text": [
      "Liter"
     ]
    },
    {
     "name": "stdout",
     "output_type": "stream",
     "text": [
      "ature"
     ]
    },
    {
     "name": "stdout",
     "output_type": "stream",
     "text": [
      "Search"
     ]
    },
    {
     "name": "stdout",
     "output_type": "stream",
     "text": [
      "\",\n"
     ]
    },
    {
     "name": "stdout",
     "output_type": "stream",
     "text": [
      " "
     ]
    },
    {
     "name": "stdout",
     "output_type": "stream",
     "text": [
      " \""
     ]
    },
    {
     "name": "stdout",
     "output_type": "stream",
     "text": [
      "action"
     ]
    },
    {
     "name": "stdout",
     "output_type": "stream",
     "text": [
      "_input"
     ]
    },
    {
     "name": "stdout",
     "output_type": "stream",
     "text": [
      "\":"
     ]
    },
    {
     "name": "stdout",
     "output_type": "stream",
     "text": [
      " \""
     ]
    },
    {
     "name": "stdout",
     "output_type": "stream",
     "text": [
      "appropriate"
     ]
    },
    {
     "name": "stdout",
     "output_type": "stream",
     "text": [
      " simulation"
     ]
    },
    {
     "name": "stdout",
     "output_type": "stream",
     "text": [
      " parameters"
     ]
    },
    {
     "name": "stdout",
     "output_type": "stream",
     "text": [
      " for"
     ]
    },
    {
     "name": "stdout",
     "output_type": "stream",
     "text": [
      " hem"
     ]
    },
    {
     "name": "stdout",
     "output_type": "stream",
     "text": [
      "oglobin"
     ]
    },
    {
     "name": "stdout",
     "output_type": "stream",
     "text": [
      " molecular"
     ]
    },
    {
     "name": "stdout",
     "output_type": "stream",
     "text": [
      " dynamics"
     ]
    },
    {
     "name": "stdout",
     "output_type": "stream",
     "text": [
      "\"\n"
     ]
    },
    {
     "name": "stdout",
     "output_type": "stream",
     "text": [
      "}\n"
     ]
    },
    {
     "name": "stdout",
     "output_type": "stream",
     "text": [
      "```"
     ]
    },
    {
     "name": "stdout",
     "output_type": "stream",
     "text": [
      "Paper Directory /gpfs/fs2/scratch/qcampbe2/repos/md-agent_gpt_params/notebooks/experiments/experiment_k1/exp_box/paper_collection\n"
     ]
    },
    {
     "name": "stderr",
     "output_type": "stream",
     "text": [
      "/scratch/qcampbe2/myenvs/mdagent/lib/python3.12/site-packages/pydantic/main.py:364: UserWarning: Pydantic serializer warnings:\n",
      "  Expected `PromptTokensDetails` but got `dict` - serialized value may not be as expected\n",
      "  return self.__pydantic_serializer__.to_python(\n"
     ]
    },
    {
     "data": {
      "text/html": [
       "<pre style=\"white-space:pre;overflow-x:auto;line-height:normal;font-family:Menlo,'DejaVu Sans Mono',consolas,'Courier New',monospace\"><span style=\"color: #7fbfbf; text-decoration-color: #7fbfbf\">[20:41:14] </span>Starting paper search for <span style=\"color: #008000; text-decoration-color: #008000\">'hemoglobin molecular dynamics parameters, 2015-2024  '</span>.                      \n",
       "</pre>\n"
      ],
      "text/plain": [
       "\u001b[2;36m[20:41:14]\u001b[0m\u001b[2;36m \u001b[0mStarting paper search for \u001b[32m'hemoglobin molecular dynamics parameters, 2015-2024  '\u001b[0m.                      \n"
      ]
     },
     "metadata": {},
     "output_type": "display_data"
    },
    {
     "data": {
      "text/html": [
       "<pre style=\"white-space:pre;overflow-x:auto;line-height:normal;font-family:Menlo,'DejaVu Sans Mono',consolas,'Courier New',monospace\"><span style=\"color: #7fbfbf; text-decoration-color: #7fbfbf\">           </span>paper_search for query <span style=\"color: #008000; text-decoration-color: #008000\">'hemoglobin molecular dynamics parameters, 2015-2024  '</span> returned <span style=\"color: #008080; text-decoration-color: #008080; font-weight: bold\">8</span> papers.       \n",
       "</pre>\n"
      ],
      "text/plain": [
       "\u001b[2;36m          \u001b[0m\u001b[2;36m \u001b[0mpaper_search for query \u001b[32m'hemoglobin molecular dynamics parameters, 2015-2024  '\u001b[0m returned \u001b[1;36m8\u001b[0m papers.       \n"
      ]
     },
     "metadata": {},
     "output_type": "display_data"
    },
    {
     "data": {
      "text/html": [
       "<pre style=\"white-space:pre;overflow-x:auto;line-height:normal;font-family:Menlo,'DejaVu Sans Mono',consolas,'Courier New',monospace\"><span style=\"color: #7fbfbf; text-decoration-color: #7fbfbf\">           </span>Status: Paper <span style=\"color: #808000; text-decoration-color: #808000\">Count</span>=<span style=\"color: #008080; text-decoration-color: #008080; font-weight: bold\">8</span> | Relevant <span style=\"color: #808000; text-decoration-color: #808000\">Papers</span>=<span style=\"color: #008080; text-decoration-color: #008080; font-weight: bold\">0</span> | Current <span style=\"color: #808000; text-decoration-color: #808000\">Evidence</span>=<span style=\"color: #008080; text-decoration-color: #008080; font-weight: bold\">0</span> | Current <span style=\"color: #808000; text-decoration-color: #808000\">Cost</span>=$<span style=\"color: #008080; text-decoration-color: #008080; font-weight: bold\">0.0000</span>                   \n",
       "</pre>\n"
      ],
      "text/plain": [
       "\u001b[2;36m          \u001b[0m\u001b[2;36m \u001b[0mStatus: Paper \u001b[33mCount\u001b[0m=\u001b[1;36m8\u001b[0m | Relevant \u001b[33mPapers\u001b[0m=\u001b[1;36m0\u001b[0m | Current \u001b[33mEvidence\u001b[0m=\u001b[1;36m0\u001b[0m | Current \u001b[33mCost\u001b[0m=$\u001b[1;36m0.0000\u001b[0m                   \n"
      ]
     },
     "metadata": {},
     "output_type": "display_data"
    },
    {
     "data": {
      "text/html": [
       "<pre style=\"white-space:pre;overflow-x:auto;line-height:normal;font-family:Menlo,'DejaVu Sans Mono',consolas,'Courier New',monospace\"><span style=\"color: #7fbfbf; text-decoration-color: #7fbfbf\">           </span>Starting paper search for <span style=\"color: #008000; text-decoration-color: #008000\">'biomolecular simulations hemoglobin, 2010-2024  '</span>.                           \n",
       "</pre>\n"
      ],
      "text/plain": [
       "\u001b[2;36m          \u001b[0m\u001b[2;36m \u001b[0mStarting paper search for \u001b[32m'biomolecular simulations hemoglobin, 2010-2024  '\u001b[0m.                           \n"
      ]
     },
     "metadata": {},
     "output_type": "display_data"
    },
    {
     "data": {
      "text/html": [
       "<pre style=\"white-space:pre;overflow-x:auto;line-height:normal;font-family:Menlo,'DejaVu Sans Mono',consolas,'Courier New',monospace\"><span style=\"color: #7fbfbf; text-decoration-color: #7fbfbf\">           </span>paper_search for query <span style=\"color: #008000; text-decoration-color: #008000\">'biomolecular simulations hemoglobin, 2010-2024  '</span> returned <span style=\"color: #008080; text-decoration-color: #008080; font-weight: bold\">8</span> papers.            \n",
       "</pre>\n"
      ],
      "text/plain": [
       "\u001b[2;36m          \u001b[0m\u001b[2;36m \u001b[0mpaper_search for query \u001b[32m'biomolecular simulations hemoglobin, 2010-2024  '\u001b[0m returned \u001b[1;36m8\u001b[0m papers.            \n"
      ]
     },
     "metadata": {},
     "output_type": "display_data"
    },
    {
     "data": {
      "text/html": [
       "<pre style=\"white-space:pre;overflow-x:auto;line-height:normal;font-family:Menlo,'DejaVu Sans Mono',consolas,'Courier New',monospace\"><span style=\"color: #7fbfbf; text-decoration-color: #7fbfbf\">           </span>Status: Paper <span style=\"color: #808000; text-decoration-color: #808000\">Count</span>=<span style=\"color: #008080; text-decoration-color: #008080; font-weight: bold\">10</span> | Relevant <span style=\"color: #808000; text-decoration-color: #808000\">Papers</span>=<span style=\"color: #008080; text-decoration-color: #008080; font-weight: bold\">0</span> | Current <span style=\"color: #808000; text-decoration-color: #808000\">Evidence</span>=<span style=\"color: #008080; text-decoration-color: #008080; font-weight: bold\">0</span> | Current <span style=\"color: #808000; text-decoration-color: #808000\">Cost</span>=$<span style=\"color: #008080; text-decoration-color: #008080; font-weight: bold\">0.0000</span>                  \n",
       "</pre>\n"
      ],
      "text/plain": [
       "\u001b[2;36m          \u001b[0m\u001b[2;36m \u001b[0mStatus: Paper \u001b[33mCount\u001b[0m=\u001b[1;36m10\u001b[0m | Relevant \u001b[33mPapers\u001b[0m=\u001b[1;36m0\u001b[0m | Current \u001b[33mEvidence\u001b[0m=\u001b[1;36m0\u001b[0m | Current \u001b[33mCost\u001b[0m=$\u001b[1;36m0.0000\u001b[0m                  \n"
      ]
     },
     "metadata": {},
     "output_type": "display_data"
    },
    {
     "data": {
      "text/html": [
       "<pre style=\"white-space:pre;overflow-x:auto;line-height:normal;font-family:Menlo,'DejaVu Sans Mono',consolas,'Courier New',monospace\"><span style=\"color: #7fbfbf; text-decoration-color: #7fbfbf\">           </span>Starting paper search for <span style=\"color: #008000; text-decoration-color: #008000\">'molecular dynamics force fields hemoglobin, 2018-2024  '</span>.                    \n",
       "</pre>\n"
      ],
      "text/plain": [
       "\u001b[2;36m          \u001b[0m\u001b[2;36m \u001b[0mStarting paper search for \u001b[32m'molecular dynamics force fields hemoglobin, 2018-2024  '\u001b[0m.                    \n"
      ]
     },
     "metadata": {},
     "output_type": "display_data"
    },
    {
     "data": {
      "text/html": [
       "<pre style=\"white-space:pre;overflow-x:auto;line-height:normal;font-family:Menlo,'DejaVu Sans Mono',consolas,'Courier New',monospace\"><span style=\"color: #7fbfbf; text-decoration-color: #7fbfbf\">[20:41:15] </span>paper_search for query <span style=\"color: #008000; text-decoration-color: #008000\">'molecular dynamics force fields hemoglobin, 2018-2024  '</span> returned <span style=\"color: #008080; text-decoration-color: #008080; font-weight: bold\">8</span> papers.     \n",
       "</pre>\n"
      ],
      "text/plain": [
       "\u001b[2;36m[20:41:15]\u001b[0m\u001b[2;36m \u001b[0mpaper_search for query \u001b[32m'molecular dynamics force fields hemoglobin, 2018-2024  '\u001b[0m returned \u001b[1;36m8\u001b[0m papers.     \n"
      ]
     },
     "metadata": {},
     "output_type": "display_data"
    },
    {
     "data": {
      "text/html": [
       "<pre style=\"white-space:pre;overflow-x:auto;line-height:normal;font-family:Menlo,'DejaVu Sans Mono',consolas,'Courier New',monospace\"><span style=\"color: #7fbfbf; text-decoration-color: #7fbfbf\">           </span>Status: Paper <span style=\"color: #808000; text-decoration-color: #808000\">Count</span>=<span style=\"color: #008080; text-decoration-color: #008080; font-weight: bold\">12</span> | Relevant <span style=\"color: #808000; text-decoration-color: #808000\">Papers</span>=<span style=\"color: #008080; text-decoration-color: #008080; font-weight: bold\">0</span> | Current <span style=\"color: #808000; text-decoration-color: #808000\">Evidence</span>=<span style=\"color: #008080; text-decoration-color: #008080; font-weight: bold\">0</span> | Current <span style=\"color: #808000; text-decoration-color: #808000\">Cost</span>=$<span style=\"color: #008080; text-decoration-color: #008080; font-weight: bold\">0.0000</span>                  \n",
       "</pre>\n"
      ],
      "text/plain": [
       "\u001b[2;36m          \u001b[0m\u001b[2;36m \u001b[0mStatus: Paper \u001b[33mCount\u001b[0m=\u001b[1;36m12\u001b[0m | Relevant \u001b[33mPapers\u001b[0m=\u001b[1;36m0\u001b[0m | Current \u001b[33mEvidence\u001b[0m=\u001b[1;36m0\u001b[0m | Current \u001b[33mCost\u001b[0m=$\u001b[1;36m0.0000\u001b[0m                  \n"
      ]
     },
     "metadata": {},
     "output_type": "display_data"
    },
    {
     "data": {
      "text/html": [
       "<pre style=\"white-space:pre;overflow-x:auto;line-height:normal;font-family:Menlo,'DejaVu Sans Mono',consolas,'Courier New',monospace\"><span style=\"color: #7fbfbf; text-decoration-color: #7fbfbf\">           </span>gather_evidence starting for question <span style=\"color: #008000; text-decoration-color: #008000\">'appropriate simulation parameters for hemoglobin molecular </span>      \n",
       "<span style=\"color: #7fbfbf; text-decoration-color: #7fbfbf\">           </span><span style=\"color: #008000; text-decoration-color: #008000\">dynamics'</span>.                                                                                              \n",
       "</pre>\n"
      ],
      "text/plain": [
       "\u001b[2;36m          \u001b[0m\u001b[2;36m \u001b[0mgather_evidence starting for question \u001b[32m'appropriate simulation parameters for hemoglobin molecular \u001b[0m      \n",
       "\u001b[2;36m           \u001b[0m\u001b[32mdynamics'\u001b[0m.                                                                                              \n"
      ]
     },
     "metadata": {},
     "output_type": "display_data"
    },
    {
     "data": {
      "text/html": [
       "<pre style=\"white-space:pre;overflow-x:auto;line-height:normal;font-family:Menlo,'DejaVu Sans Mono',consolas,'Courier New',monospace\"><span style=\"color: #7fbfbf; text-decoration-color: #7fbfbf\">[20:41:21] </span>Status: Paper <span style=\"color: #808000; text-decoration-color: #808000\">Count</span>=<span style=\"color: #008080; text-decoration-color: #008080; font-weight: bold\">12</span> | Relevant <span style=\"color: #808000; text-decoration-color: #808000\">Papers</span>=<span style=\"color: #008080; text-decoration-color: #008080; font-weight: bold\">3</span> | Current <span style=\"color: #808000; text-decoration-color: #808000\">Evidence</span>=<span style=\"color: #008080; text-decoration-color: #008080; font-weight: bold\">8</span> | Current <span style=\"color: #808000; text-decoration-color: #808000\">Cost</span>=$<span style=\"color: #008080; text-decoration-color: #008080; font-weight: bold\">0.0381</span>                  \n",
       "</pre>\n"
      ],
      "text/plain": [
       "\u001b[2;36m[20:41:21]\u001b[0m\u001b[2;36m \u001b[0mStatus: Paper \u001b[33mCount\u001b[0m=\u001b[1;36m12\u001b[0m | Relevant \u001b[33mPapers\u001b[0m=\u001b[1;36m3\u001b[0m | Current \u001b[33mEvidence\u001b[0m=\u001b[1;36m8\u001b[0m | Current \u001b[33mCost\u001b[0m=$\u001b[1;36m0.0381\u001b[0m                  \n"
      ]
     },
     "metadata": {},
     "output_type": "display_data"
    },
    {
     "data": {
      "text/html": [
       "<pre style=\"white-space:pre;overflow-x:auto;line-height:normal;font-family:Menlo,'DejaVu Sans Mono',consolas,'Courier New',monospace\"><span style=\"color: #7fbfbf; text-decoration-color: #7fbfbf\">           </span>Generating answer for <span style=\"color: #008000; text-decoration-color: #008000\">'appropriate simulation parameters for hemoglobin molecular dynamics'</span>.            \n",
       "</pre>\n"
      ],
      "text/plain": [
       "\u001b[2;36m          \u001b[0m\u001b[2;36m \u001b[0mGenerating answer for \u001b[32m'appropriate simulation parameters for hemoglobin molecular dynamics'\u001b[0m.            \n"
      ]
     },
     "metadata": {},
     "output_type": "display_data"
    },
    {
     "data": {
      "text/html": [
       "<pre style=\"white-space:pre;overflow-x:auto;line-height:normal;font-family:Menlo,'DejaVu Sans Mono',consolas,'Courier New',monospace\"><span style=\"color: #7fbfbf; text-decoration-color: #7fbfbf\">[20:41:25] </span>Status: Paper <span style=\"color: #808000; text-decoration-color: #808000\">Count</span>=<span style=\"color: #008080; text-decoration-color: #008080; font-weight: bold\">12</span> | Relevant <span style=\"color: #808000; text-decoration-color: #808000\">Papers</span>=<span style=\"color: #008080; text-decoration-color: #008080; font-weight: bold\">3</span> | Current <span style=\"color: #808000; text-decoration-color: #808000\">Evidence</span>=<span style=\"color: #008080; text-decoration-color: #008080; font-weight: bold\">8</span> | Current <span style=\"color: #808000; text-decoration-color: #808000\">Cost</span>=$<span style=\"color: #008080; text-decoration-color: #008080; font-weight: bold\">0.0447</span>                  \n",
       "</pre>\n"
      ],
      "text/plain": [
       "\u001b[2;36m[20:41:25]\u001b[0m\u001b[2;36m \u001b[0mStatus: Paper \u001b[33mCount\u001b[0m=\u001b[1;36m12\u001b[0m | Relevant \u001b[33mPapers\u001b[0m=\u001b[1;36m3\u001b[0m | Current \u001b[33mEvidence\u001b[0m=\u001b[1;36m8\u001b[0m | Current \u001b[33mCost\u001b[0m=$\u001b[1;36m0.0447\u001b[0m                  \n"
      ]
     },
     "metadata": {},
     "output_type": "display_data"
    },
    {
     "data": {
      "text/html": [
       "<pre style=\"white-space:pre;overflow-x:auto;line-height:normal;font-family:Menlo,'DejaVu Sans Mono',consolas,'Courier New',monospace\"><span style=\"color: #7fbfbf; text-decoration-color: #7fbfbf\">           </span><span style=\"color: #000080; text-decoration-color: #000080; font-weight: bold\">Answer: Appropriate simulation parameters for hemoglobin molecular dynamics involve several key </span>        \n",
       "<span style=\"color: #7fbfbf; text-decoration-color: #7fbfbf\">           </span><span style=\"color: #000080; text-decoration-color: #000080; font-weight: bold\">considerations. The simulations typically employ all-atom force fields such as CHARMM36 or CHARMM27, </span>   \n",
       "<span style=\"color: #7fbfbf; text-decoration-color: #7fbfbf\">           </span><span style=\"color: #000080; text-decoration-color: #000080; font-weight: bold\">with explicit solvent models like TIP3P water (Laberge2008 pages </span><span style=\"color: #008080; text-decoration-color: #008080; font-weight: bold\">3</span><span style=\"color: #000080; text-decoration-color: #000080; font-weight: bold\">-</span><span style=\"color: #008080; text-decoration-color: #008080; font-weight: bold\">3</span><span style=\"color: #000080; text-decoration-color: #000080; font-weight: bold\">; El3556 pages </span><span style=\"color: #008080; text-decoration-color: #008080; font-weight: bold\">9</span><span style=\"color: #000080; text-decoration-color: #000080; font-weight: bold\">-</span><span style=\"color: #008080; text-decoration-color: #008080; font-weight: bold\">10</span><span style=\"color: #000080; text-decoration-color: #000080; font-weight: bold\">). The system </span>   \n",
       "<span style=\"color: #7fbfbf; text-decoration-color: #7fbfbf\">           </span><span style=\"color: #000080; text-decoration-color: #000080; font-weight: bold\">setup includes solvation in a periodic water box, with dimensions often exceeding standard sizes to </span>    \n",
       "<span style=\"color: #7fbfbf; text-decoration-color: #7fbfbf\">           </span><span style=\"color: #000080; text-decoration-color: #000080; font-weight: bold\">ensure stability, particularly for the unliganded T0 tetramer. For instance, a </span><span style=\"color: #008080; text-decoration-color: #008080; font-weight: bold\">150</span><span style=\"color: #000080; text-decoration-color: #000080; font-weight: bold\"> Å box is recommended </span>\n",
       "<span style=\"color: #7fbfbf; text-decoration-color: #7fbfbf\">           </span><span style=\"color: #000080; text-decoration-color: #000080; font-weight: bold\">to maintain the correct water self-diffusion coefficient and stabilize the T0 state for extended </span>       \n",
       "<span style=\"color: #7fbfbf; text-decoration-color: #7fbfbf\">           </span><span style=\"color: #000080; text-decoration-color: #000080; font-weight: bold\">durations (El3556 pages </span><span style=\"color: #008080; text-decoration-color: #008080; font-weight: bold\">1</span><span style=\"color: #000080; text-decoration-color: #000080; font-weight: bold\">-</span><span style=\"color: #008080; text-decoration-color: #008080; font-weight: bold\">1</span><span style=\"color: #000080; text-decoration-color: #000080; font-weight: bold\">; El3556 pages </span><span style=\"color: #008080; text-decoration-color: #008080; font-weight: bold\">4</span><span style=\"color: #000080; text-decoration-color: #000080; font-weight: bold\">-</span><span style=\"color: #008080; text-decoration-color: #008080; font-weight: bold\">4</span><span style=\"color: #000080; text-decoration-color: #000080; font-weight: bold\">).</span>                                                         \n",
       "<span style=\"color: #7fbfbf; text-decoration-color: #7fbfbf\">           </span>                                                                                                        \n",
       "<span style=\"color: #7fbfbf; text-decoration-color: #7fbfbf\">           </span><span style=\"color: #000080; text-decoration-color: #000080; font-weight: bold\">Temperature and pressure are maintained at physiological conditions, typically </span><span style=\"color: #008080; text-decoration-color: #008080; font-weight: bold\">300</span><span style=\"color: #000080; text-decoration-color: #000080; font-weight: bold\"> K and </span><span style=\"color: #008080; text-decoration-color: #008080; font-weight: bold\">0.1</span><span style=\"color: #000080; text-decoration-color: #000080; font-weight: bold\"> MPa, </span>      \n",
       "<span style=\"color: #7fbfbf; text-decoration-color: #7fbfbf\">           </span><span style=\"color: #000080; text-decoration-color: #000080; font-weight: bold\">respectively. Hydrogen bonds are constrained using algorithms like SHAKE, and simulations are conducted </span>\n",
       "<span style=\"color: #7fbfbf; text-decoration-color: #7fbfbf\">           </span><span style=\"color: #000080; text-decoration-color: #000080; font-weight: bold\">with a </span><span style=\"color: #008080; text-decoration-color: #008080; font-weight: bold\">1</span><span style=\"color: #000080; text-decoration-color: #000080; font-weight: bold\"> fs timestep (Laberge2008 pages </span><span style=\"color: #008080; text-decoration-color: #008080; font-weight: bold\">3</span><span style=\"color: #000080; text-decoration-color: #000080; font-weight: bold\">-</span><span style=\"color: #008080; text-decoration-color: #008080; font-weight: bold\">3</span><span style=\"color: #000080; text-decoration-color: #000080; font-weight: bold\">). Protonation states, such as that of His146, are crucial </span>  \n",
       "<span style=\"color: #7fbfbf; text-decoration-color: #7fbfbf\">           </span><span style=\"color: #000080; text-decoration-color: #000080; font-weight: bold\">for the stability of specific hemoglobin states, aligning with models like the Perutz model (El3556 </span>    \n",
       "<span style=\"color: #7fbfbf; text-decoration-color: #7fbfbf\">           </span><span style=\"color: #000080; text-decoration-color: #000080; font-weight: bold\">pages </span><span style=\"color: #008080; text-decoration-color: #008080; font-weight: bold\">1</span><span style=\"color: #000080; text-decoration-color: #000080; font-weight: bold\">-</span><span style=\"color: #008080; text-decoration-color: #008080; font-weight: bold\">1</span><span style=\"color: #000080; text-decoration-color: #000080; font-weight: bold\">; El3556 pages </span><span style=\"color: #008080; text-decoration-color: #008080; font-weight: bold\">4</span><span style=\"color: #000080; text-decoration-color: #000080; font-weight: bold\">-</span><span style=\"color: #008080; text-decoration-color: #008080; font-weight: bold\">4</span><span style=\"color: #000080; text-decoration-color: #000080; font-weight: bold\">).</span>                                                                           \n",
       "<span style=\"color: #7fbfbf; text-decoration-color: #7fbfbf\">           </span>                                                                                                        \n",
       "<span style=\"color: #7fbfbf; text-decoration-color: #7fbfbf\">           </span><span style=\"color: #000080; text-decoration-color: #000080; font-weight: bold\">Initial coordinates are often derived from X-ray structures, and equilibration involves gradual heating </span>\n",
       "<span style=\"color: #7fbfbf; text-decoration-color: #7fbfbf\">           </span><span style=\"color: #000080; text-decoration-color: #000080; font-weight: bold\">and subsequent dynamics. Analytical techniques such as principal components analysis and </span>               \n",
       "<span style=\"color: #7fbfbf; text-decoration-color: #7fbfbf\">           </span><span style=\"color: #000080; text-decoration-color: #000080; font-weight: bold\">cross-correlation are used to study protein fluctuations and correlated motions (Laberge2008 pages </span><span style=\"color: #008080; text-decoration-color: #008080; font-weight: bold\">2</span><span style=\"color: #000080; text-decoration-color: #000080; font-weight: bold\">-</span><span style=\"color: #008080; text-decoration-color: #008080; font-weight: bold\">3</span><span style=\"color: #000080; text-decoration-color: #000080; font-weight: bold\">).</span>\n",
       "</pre>\n"
      ],
      "text/plain": [
       "\u001b[2;36m          \u001b[0m\u001b[2;36m \u001b[0m\u001b[1;34mAnswer: Appropriate simulation parameters for hemoglobin molecular dynamics involve several key \u001b[0m        \n",
       "\u001b[2;36m           \u001b[0m\u001b[1;34mconsiderations. The simulations typically employ all-atom force fields such as CHARMM36 or CHARMM27, \u001b[0m   \n",
       "\u001b[2;36m           \u001b[0m\u001b[1;34mwith explicit solvent models like TIP3P water \u001b[0m\u001b[1;34m(\u001b[0m\u001b[1;34mLaberge2008 pages \u001b[0m\u001b[1;36m3\u001b[0m\u001b[1;34m-\u001b[0m\u001b[1;36m3\u001b[0m\u001b[1;34m; El3556 pages \u001b[0m\u001b[1;36m9\u001b[0m\u001b[1;34m-\u001b[0m\u001b[1;36m10\u001b[0m\u001b[1;34m)\u001b[0m\u001b[1;34m. The system \u001b[0m   \n",
       "\u001b[2;36m           \u001b[0m\u001b[1;34msetup includes solvation in a periodic water box, with dimensions often exceeding standard sizes to \u001b[0m    \n",
       "\u001b[2;36m           \u001b[0m\u001b[1;34mensure stability, particularly for the unliganded T0 tetramer. For instance, a \u001b[0m\u001b[1;36m150\u001b[0m\u001b[1;34m Å box is recommended \u001b[0m\n",
       "\u001b[2;36m           \u001b[0m\u001b[1;34mto maintain the correct water self-diffusion coefficient and stabilize the T0 state for extended \u001b[0m       \n",
       "\u001b[2;36m           \u001b[0m\u001b[1;34mdurations \u001b[0m\u001b[1;34m(\u001b[0m\u001b[1;34mEl3556 pages \u001b[0m\u001b[1;36m1\u001b[0m\u001b[1;34m-\u001b[0m\u001b[1;36m1\u001b[0m\u001b[1;34m; El3556 pages \u001b[0m\u001b[1;36m4\u001b[0m\u001b[1;34m-\u001b[0m\u001b[1;36m4\u001b[0m\u001b[1;34m)\u001b[0m\u001b[1;34m.\u001b[0m                                                         \n",
       "\u001b[2;36m           \u001b[0m                                                                                                        \n",
       "\u001b[2;36m           \u001b[0m\u001b[1;34mTemperature and pressure are maintained at physiological conditions, typically \u001b[0m\u001b[1;36m300\u001b[0m\u001b[1;34m K and \u001b[0m\u001b[1;36m0.1\u001b[0m\u001b[1;34m MPa, \u001b[0m      \n",
       "\u001b[2;36m           \u001b[0m\u001b[1;34mrespectively. Hydrogen bonds are constrained using algorithms like SHAKE, and simulations are conducted \u001b[0m\n",
       "\u001b[2;36m           \u001b[0m\u001b[1;34mwith a \u001b[0m\u001b[1;36m1\u001b[0m\u001b[1;34m fs timestep \u001b[0m\u001b[1;34m(\u001b[0m\u001b[1;34mLaberge2008 pages \u001b[0m\u001b[1;36m3\u001b[0m\u001b[1;34m-\u001b[0m\u001b[1;36m3\u001b[0m\u001b[1;34m)\u001b[0m\u001b[1;34m. Protonation states, such as that of His146, are crucial \u001b[0m  \n",
       "\u001b[2;36m           \u001b[0m\u001b[1;34mfor the stability of specific hemoglobin states, aligning with models like the Perutz model \u001b[0m\u001b[1;34m(\u001b[0m\u001b[1;34mEl3556 \u001b[0m    \n",
       "\u001b[2;36m           \u001b[0m\u001b[1;34mpages \u001b[0m\u001b[1;36m1\u001b[0m\u001b[1;34m-\u001b[0m\u001b[1;36m1\u001b[0m\u001b[1;34m; El3556 pages \u001b[0m\u001b[1;36m4\u001b[0m\u001b[1;34m-\u001b[0m\u001b[1;36m4\u001b[0m\u001b[1;34m)\u001b[0m\u001b[1;34m.\u001b[0m                                                                           \n",
       "\u001b[2;36m           \u001b[0m                                                                                                        \n",
       "\u001b[2;36m           \u001b[0m\u001b[1;34mInitial coordinates are often derived from X-ray structures, and equilibration involves gradual heating \u001b[0m\n",
       "\u001b[2;36m           \u001b[0m\u001b[1;34mand subsequent dynamics. Analytical techniques such as principal components analysis and \u001b[0m               \n",
       "\u001b[2;36m           \u001b[0m\u001b[1;34mcross-correlation are used to study protein fluctuations and correlated motions \u001b[0m\u001b[1;34m(\u001b[0m\u001b[1;34mLaberge2008 pages \u001b[0m\u001b[1;36m2\u001b[0m\u001b[1;34m-\u001b[0m\u001b[1;36m3\u001b[0m\u001b[1;34m)\u001b[0m\u001b[1;34m.\u001b[0m\n"
      ]
     },
     "metadata": {},
     "output_type": "display_data"
    },
    {
     "name": "stdout",
     "output_type": "stream",
     "text": [
      "Question: appropriate simulation parameters for hemoglobin molecular dynamics\n",
      "\n",
      "Appropriate simulation parameters for hemoglobin molecular dynamics involve several key considerations. The simulations typically employ all-atom force fields such as CHARMM36 or CHARMM27, with explicit solvent models like TIP3P water (Laberge2008 pages 3-3; El3556 pages 9-10). The system setup includes solvation in a periodic water box, with dimensions often exceeding standard sizes to ensure stability, particularly for the unliganded T0 tetramer. For instance, a 150 Å box is recommended to maintain the correct water self-diffusion coefficient and stabilize the T0 state for extended durations (El3556 pages 1-1; El3556 pages 4-4).\n",
      "\n",
      "Temperature and pressure are maintained at physiological conditions, typically 300 K and 0.1 MPa, respectively. Hydrogen bonds are constrained using algorithms like SHAKE, and simulations are conducted with a 1 fs timestep (Laberge2008 pages 3-3). Protonation states, such as that of His146, are crucial for the stability of specific hemoglobin states, aligning with models like the Perutz model (El3556 pages 1-1; El3556 pages 4-4).\n",
      "\n",
      "Initial coordinates are often derived from X-ray structures, and equilibration involves gradual heating and subsequent dynamics. Analytical techniques such as principal components analysis and cross-correlation are used to study protein fluctuations and correlated motions (Laberge2008 pages 2-3).\n",
      "\n",
      "References\n",
      "\n",
      "1. (Laberge2008 pages 3-3): Laberge, Monique, and Takashi Yonetani. \"Molecular Dynamics Simulations of Hemoglobin A in Different States and Bound to DPG: Effector-Linked Perturbation of Tertiary Conformations and HbA Concerted Dynamics.\" *Biophysical Journal*, vol. 94, Apr. 2008, pp. 2737–2751.\n",
      "\n",
      "2. (El3556 pages 9-10): El Hage, Krystel, et al. \"Valid Molecular Dynamics Simulations of Human Hemoglobin Require a Surprisingly Large Box Size.\" *eLife*, vol. 7, e35560, 2018, https://doi.org/10.7554/eLife.35560.001. Accessed 2024.\n",
      "\n",
      "3. (Laberge2008 pages 2-3): Laberge, Monique, and Takashi Yonetani. \"Molecular Dynamics Simulations of Hemoglobin A in Different States and Bound to DPG: Effector-Linked Perturbation of Tertiary Conformations and HbA Concerted Dynamics.\" *Biophysical Journal*, vol. 94, Apr. 2008, pp. 2737–2751.\n",
      "\n",
      "4. (El3556 pages 1-1): El Hage, Krystel, et al. \"Valid Molecular Dynamics Simulations of Human Hemoglobin Require a Surprisingly Large Box Size.\" *eLife*, vol. 7, e35560, 2018, https://doi.org/10.7554/eLife.35560.001. Accessed 2024.\n",
      "\n",
      "5. (El3556 pages 4-4): El Hage, Krystel, et al. \"Valid Molecular Dynamics Simulations of Human Hemoglobin Require a Surprisingly Large Box Size.\" *eLife*, vol. 7, e35560, 2018, https://doi.org/10.7554/eLife.35560.001. Accessed 2024.\n",
      "\n"
     ]
    },
    {
     "name": "stdout",
     "output_type": "stream",
     "text": [
      "Thought"
     ]
    },
    {
     "name": "stdout",
     "output_type": "stream",
     "text": [
      ":"
     ]
    },
    {
     "name": "stdout",
     "output_type": "stream",
     "text": [
      " I"
     ]
    },
    {
     "name": "stdout",
     "output_type": "stream",
     "text": [
      " have"
     ]
    },
    {
     "name": "stdout",
     "output_type": "stream",
     "text": [
      " gathered"
     ]
    },
    {
     "name": "stdout",
     "output_type": "stream",
     "text": [
      " the"
     ]
    },
    {
     "name": "stdout",
     "output_type": "stream",
     "text": [
      " appropriate"
     ]
    },
    {
     "name": "stdout",
     "output_type": "stream",
     "text": [
      " simulation"
     ]
    },
    {
     "name": "stdout",
     "output_type": "stream",
     "text": [
      " parameters"
     ]
    },
    {
     "name": "stdout",
     "output_type": "stream",
     "text": [
      " for"
     ]
    },
    {
     "name": "stdout",
     "output_type": "stream",
     "text": [
      " hem"
     ]
    },
    {
     "name": "stdout",
     "output_type": "stream",
     "text": [
      "oglobin"
     ]
    },
    {
     "name": "stdout",
     "output_type": "stream",
     "text": [
      " from"
     ]
    },
    {
     "name": "stdout",
     "output_type": "stream",
     "text": [
      " the"
     ]
    },
    {
     "name": "stdout",
     "output_type": "stream",
     "text": [
      " literature"
     ]
    },
    {
     "name": "stdout",
     "output_type": "stream",
     "text": [
      "."
     ]
    },
    {
     "name": "stdout",
     "output_type": "stream",
     "text": [
      " Now"
     ]
    },
    {
     "name": "stdout",
     "output_type": "stream",
     "text": [
      ","
     ]
    },
    {
     "name": "stdout",
     "output_type": "stream",
     "text": [
      " I"
     ]
    },
    {
     "name": "stdout",
     "output_type": "stream",
     "text": [
      " will"
     ]
    },
    {
     "name": "stdout",
     "output_type": "stream",
     "text": [
      " set"
     ]
    },
    {
     "name": "stdout",
     "output_type": "stream",
     "text": [
      " up"
     ]
    },
    {
     "name": "stdout",
     "output_type": "stream",
     "text": [
      " and"
     ]
    },
    {
     "name": "stdout",
     "output_type": "stream",
     "text": [
      " run"
     ]
    },
    {
     "name": "stdout",
     "output_type": "stream",
     "text": [
      " the"
     ]
    },
    {
     "name": "stdout",
     "output_type": "stream",
     "text": [
      " simulations"
     ]
    },
    {
     "name": "stdout",
     "output_type": "stream",
     "text": [
      " for"
     ]
    },
    {
     "name": "stdout",
     "output_type": "stream",
     "text": [
      " both"
     ]
    },
    {
     "name": "stdout",
     "output_type": "stream",
     "text": [
      " P"
     ]
    },
    {
     "name": "stdout",
     "output_type": "stream",
     "text": [
      "DB"
     ]
    },
    {
     "name": "stdout",
     "output_type": "stream",
     "text": [
      " structures"
     ]
    },
    {
     "name": "stdout",
     "output_type": "stream",
     "text": [
      " ("
     ]
    },
    {
     "name": "stdout",
     "output_type": "stream",
     "text": [
      "1"
     ]
    },
    {
     "name": "stdout",
     "output_type": "stream",
     "text": [
      "A"
     ]
    },
    {
     "name": "stdout",
     "output_type": "stream",
     "text": [
      "3"
     ]
    },
    {
     "name": "stdout",
     "output_type": "stream",
     "text": [
      "N"
     ]
    },
    {
     "name": "stdout",
     "output_type": "stream",
     "text": [
      " and"
     ]
    },
    {
     "name": "stdout",
     "output_type": "stream",
     "text": [
      " "
     ]
    },
    {
     "name": "stdout",
     "output_type": "stream",
     "text": [
      "7"
     ]
    },
    {
     "name": "stdout",
     "output_type": "stream",
     "text": [
      "V"
     ]
    },
    {
     "name": "stdout",
     "output_type": "stream",
     "text": [
      "DE"
     ]
    },
    {
     "name": "stdout",
     "output_type": "stream",
     "text": [
      ")"
     ]
    },
    {
     "name": "stdout",
     "output_type": "stream",
     "text": [
      " using"
     ]
    },
    {
     "name": "stdout",
     "output_type": "stream",
     "text": [
      " these"
     ]
    },
    {
     "name": "stdout",
     "output_type": "stream",
     "text": [
      " parameters"
     ]
    },
    {
     "name": "stdout",
     "output_type": "stream",
     "text": [
      "."
     ]
    },
    {
     "name": "stdout",
     "output_type": "stream",
     "text": [
      " After"
     ]
    },
    {
     "name": "stdout",
     "output_type": "stream",
     "text": [
      " the"
     ]
    },
    {
     "name": "stdout",
     "output_type": "stream",
     "text": [
      " simulations"
     ]
    },
    {
     "name": "stdout",
     "output_type": "stream",
     "text": [
      ","
     ]
    },
    {
     "name": "stdout",
     "output_type": "stream",
     "text": [
      " I"
     ]
    },
    {
     "name": "stdout",
     "output_type": "stream",
     "text": [
      " will"
     ]
    },
    {
     "name": "stdout",
     "output_type": "stream",
     "text": [
      " calculate"
     ]
    },
    {
     "name": "stdout",
     "output_type": "stream",
     "text": [
      " and"
     ]
    },
    {
     "name": "stdout",
     "output_type": "stream",
     "text": [
      " plot"
     ]
    },
    {
     "name": "stdout",
     "output_type": "stream",
     "text": [
      " the"
     ]
    },
    {
     "name": "stdout",
     "output_type": "stream",
     "text": [
      " radius"
     ]
    },
    {
     "name": "stdout",
     "output_type": "stream",
     "text": [
      " of"
     ]
    },
    {
     "name": "stdout",
     "output_type": "stream",
     "text": [
      " gyr"
     ]
    },
    {
     "name": "stdout",
     "output_type": "stream",
     "text": [
      "ation"
     ]
    },
    {
     "name": "stdout",
     "output_type": "stream",
     "text": [
      " for"
     ]
    },
    {
     "name": "stdout",
     "output_type": "stream",
     "text": [
      " both"
     ]
    },
    {
     "name": "stdout",
     "output_type": "stream",
     "text": [
      " simulations"
     ]
    },
    {
     "name": "stdout",
     "output_type": "stream",
     "text": [
      ".\n",
      "\n"
     ]
    },
    {
     "name": "stdout",
     "output_type": "stream",
     "text": [
      "Action"
     ]
    },
    {
     "name": "stdout",
     "output_type": "stream",
     "text": [
      ":\n"
     ]
    },
    {
     "name": "stdout",
     "output_type": "stream",
     "text": [
      "```"
     ]
    },
    {
     "name": "stdout",
     "output_type": "stream",
     "text": [
      "json"
     ]
    },
    {
     "name": "stdout",
     "output_type": "stream",
     "text": [
      "\n"
     ]
    },
    {
     "name": "stdout",
     "output_type": "stream",
     "text": [
      "{\n"
     ]
    },
    {
     "name": "stdout",
     "output_type": "stream",
     "text": [
      " "
     ]
    },
    {
     "name": "stdout",
     "output_type": "stream",
     "text": [
      " \""
     ]
    },
    {
     "name": "stdout",
     "output_type": "stream",
     "text": [
      "action"
     ]
    },
    {
     "name": "stdout",
     "output_type": "stream",
     "text": [
      "\":"
     ]
    },
    {
     "name": "stdout",
     "output_type": "stream",
     "text": [
      " \""
     ]
    },
    {
     "name": "stdout",
     "output_type": "stream",
     "text": [
      "Set"
     ]
    },
    {
     "name": "stdout",
     "output_type": "stream",
     "text": [
      "Up"
     ]
    },
    {
     "name": "stdout",
     "output_type": "stream",
     "text": [
      "and"
     ]
    },
    {
     "name": "stdout",
     "output_type": "stream",
     "text": [
      "Run"
     ]
    },
    {
     "name": "stdout",
     "output_type": "stream",
     "text": [
      "Function"
     ]
    },
    {
     "name": "stdout",
     "output_type": "stream",
     "text": [
      "\",\n"
     ]
    },
    {
     "name": "stdout",
     "output_type": "stream",
     "text": [
      " "
     ]
    },
    {
     "name": "stdout",
     "output_type": "stream",
     "text": [
      " \""
     ]
    },
    {
     "name": "stdout",
     "output_type": "stream",
     "text": [
      "action"
     ]
    },
    {
     "name": "stdout",
     "output_type": "stream",
     "text": [
      "_input"
     ]
    },
    {
     "name": "stdout",
     "output_type": "stream",
     "text": [
      "\":"
     ]
    },
    {
     "name": "stdout",
     "output_type": "stream",
     "text": [
      " {\n"
     ]
    },
    {
     "name": "stdout",
     "output_type": "stream",
     "text": [
      "   "
     ]
    },
    {
     "name": "stdout",
     "output_type": "stream",
     "text": [
      " \""
     ]
    },
    {
     "name": "stdout",
     "output_type": "stream",
     "text": [
      "p"
     ]
    },
    {
     "name": "stdout",
     "output_type": "stream",
     "text": [
      "db"
     ]
    },
    {
     "name": "stdout",
     "output_type": "stream",
     "text": [
      "_id"
     ]
    },
    {
     "name": "stdout",
     "output_type": "stream",
     "text": [
      "\":"
     ]
    },
    {
     "name": "stdout",
     "output_type": "stream",
     "text": [
      " \""
     ]
    },
    {
     "name": "stdout",
     "output_type": "stream",
     "text": [
      "1"
     ]
    },
    {
     "name": "stdout",
     "output_type": "stream",
     "text": [
      "A"
     ]
    },
    {
     "name": "stdout",
     "output_type": "stream",
     "text": [
      "3"
     ]
    },
    {
     "name": "stdout",
     "output_type": "stream",
     "text": [
      "N"
     ]
    },
    {
     "name": "stdout",
     "output_type": "stream",
     "text": [
      "_"
     ]
    },
    {
     "name": "stdout",
     "output_type": "stream",
     "text": [
      "204"
     ]
    },
    {
     "name": "stdout",
     "output_type": "stream",
     "text": [
      "108"
     ]
    },
    {
     "name": "stdout",
     "output_type": "stream",
     "text": [
      "\",\n"
     ]
    },
    {
     "name": "stdout",
     "output_type": "stream",
     "text": [
      "   "
     ]
    },
    {
     "name": "stdout",
     "output_type": "stream",
     "text": [
      " \""
     ]
    },
    {
     "name": "stdout",
     "output_type": "stream",
     "text": [
      "force"
     ]
    },
    {
     "name": "stdout",
     "output_type": "stream",
     "text": [
      "field"
     ]
    },
    {
     "name": "stdout",
     "output_type": "stream",
     "text": [
      "_files"
     ]
    },
    {
     "name": "stdout",
     "output_type": "stream",
     "text": [
      "\":"
     ]
    },
    {
     "name": "stdout",
     "output_type": "stream",
     "text": [
      " [\""
     ]
    },
    {
     "name": "stdout",
     "output_type": "stream",
     "text": [
      "CHAR"
     ]
    },
    {
     "name": "stdout",
     "output_type": "stream",
     "text": [
      "MM"
     ]
    },
    {
     "name": "stdout",
     "output_type": "stream",
     "text": [
      "36"
     ]
    },
    {
     "name": "stdout",
     "output_type": "stream",
     "text": [
      "\"],\n"
     ]
    },
    {
     "name": "stdout",
     "output_type": "stream",
     "text": [
      "   "
     ]
    },
    {
     "name": "stdout",
     "output_type": "stream",
     "text": [
      " \""
     ]
    },
    {
     "name": "stdout",
     "output_type": "stream",
     "text": [
      "save"
     ]
    },
    {
     "name": "stdout",
     "output_type": "stream",
     "text": [
      "\":"
     ]
    },
    {
     "name": "stdout",
     "output_type": "stream",
     "text": [
      " true"
     ]
    },
    {
     "name": "stdout",
     "output_type": "stream",
     "text": [
      ",\n"
     ]
    },
    {
     "name": "stdout",
     "output_type": "stream",
     "text": [
      "   "
     ]
    },
    {
     "name": "stdout",
     "output_type": "stream",
     "text": [
      " \""
     ]
    },
    {
     "name": "stdout",
     "output_type": "stream",
     "text": [
      "system"
     ]
    },
    {
     "name": "stdout",
     "output_type": "stream",
     "text": [
      "_params"
     ]
    },
    {
     "name": "stdout",
     "output_type": "stream",
     "text": [
      "\":"
     ]
    },
    {
     "name": "stdout",
     "output_type": "stream",
     "text": [
      " {\n"
     ]
    },
    {
     "name": "stdout",
     "output_type": "stream",
     "text": [
      "     "
     ]
    },
    {
     "name": "stdout",
     "output_type": "stream",
     "text": [
      " \""
     ]
    },
    {
     "name": "stdout",
     "output_type": "stream",
     "text": [
      "non"
     ]
    },
    {
     "name": "stdout",
     "output_type": "stream",
     "text": [
      "bond"
     ]
    },
    {
     "name": "stdout",
     "output_type": "stream",
     "text": [
      "ed"
     ]
    },
    {
     "name": "stdout",
     "output_type": "stream",
     "text": [
      "Method"
     ]
    },
    {
     "name": "stdout",
     "output_type": "stream",
     "text": [
      "\":"
     ]
    },
    {
     "name": "stdout",
     "output_type": "stream",
     "text": [
      " \""
     ]
    },
    {
     "name": "stdout",
     "output_type": "stream",
     "text": [
      "PM"
     ]
    },
    {
     "name": "stdout",
     "output_type": "stream",
     "text": [
      "E"
     ]
    },
    {
     "name": "stdout",
     "output_type": "stream",
     "text": [
      "\",\n"
     ]
    },
    {
     "name": "stdout",
     "output_type": "stream",
     "text": [
      "     "
     ]
    },
    {
     "name": "stdout",
     "output_type": "stream",
     "text": [
      " \""
     ]
    },
    {
     "name": "stdout",
     "output_type": "stream",
     "text": [
      "non"
     ]
    },
    {
     "name": "stdout",
     "output_type": "stream",
     "text": [
      "bond"
     ]
    },
    {
     "name": "stdout",
     "output_type": "stream",
     "text": [
      "ed"
     ]
    },
    {
     "name": "stdout",
     "output_type": "stream",
     "text": [
      "Cut"
     ]
    },
    {
     "name": "stdout",
     "output_type": "stream",
     "text": [
      "off"
     ]
    },
    {
     "name": "stdout",
     "output_type": "stream",
     "text": [
      "\":"
     ]
    },
    {
     "name": "stdout",
     "output_type": "stream",
     "text": [
      " \""
     ]
    },
    {
     "name": "stdout",
     "output_type": "stream",
     "text": [
      "1"
     ]
    },
    {
     "name": "stdout",
     "output_type": "stream",
     "text": [
      "."
     ]
    },
    {
     "name": "stdout",
     "output_type": "stream",
     "text": [
      "0"
     ]
    },
    {
     "name": "stdout",
     "output_type": "stream",
     "text": [
      " *"
     ]
    },
    {
     "name": "stdout",
     "output_type": "stream",
     "text": [
      " nan"
     ]
    },
    {
     "name": "stdout",
     "output_type": "stream",
     "text": [
      "ometers"
     ]
    },
    {
     "name": "stdout",
     "output_type": "stream",
     "text": [
      "\",\n"
     ]
    },
    {
     "name": "stdout",
     "output_type": "stream",
     "text": [
      "     "
     ]
    },
    {
     "name": "stdout",
     "output_type": "stream",
     "text": [
      " \""
     ]
    },
    {
     "name": "stdout",
     "output_type": "stream",
     "text": [
      "ew"
     ]
    },
    {
     "name": "stdout",
     "output_type": "stream",
     "text": [
      "ald"
     ]
    },
    {
     "name": "stdout",
     "output_type": "stream",
     "text": [
      "Error"
     ]
    },
    {
     "name": "stdout",
     "output_type": "stream",
     "text": [
      "Tolerance"
     ]
    },
    {
     "name": "stdout",
     "output_type": "stream",
     "text": [
      "\":"
     ]
    },
    {
     "name": "stdout",
     "output_type": "stream",
     "text": [
      " \""
     ]
    },
    {
     "name": "stdout",
     "output_type": "stream",
     "text": [
      "0"
     ]
    },
    {
     "name": "stdout",
     "output_type": "stream",
     "text": [
      "."
     ]
    },
    {
     "name": "stdout",
     "output_type": "stream",
     "text": [
      "000"
     ]
    },
    {
     "name": "stdout",
     "output_type": "stream",
     "text": [
      "5"
     ]
    },
    {
     "name": "stdout",
     "output_type": "stream",
     "text": [
      "\",\n"
     ]
    },
    {
     "name": "stdout",
     "output_type": "stream",
     "text": [
      "     "
     ]
    },
    {
     "name": "stdout",
     "output_type": "stream",
     "text": [
      " \""
     ]
    },
    {
     "name": "stdout",
     "output_type": "stream",
     "text": [
      "constraints"
     ]
    },
    {
     "name": "stdout",
     "output_type": "stream",
     "text": [
      "\":"
     ]
    },
    {
     "name": "stdout",
     "output_type": "stream",
     "text": [
      " \""
     ]
    },
    {
     "name": "stdout",
     "output_type": "stream",
     "text": [
      "HB"
     ]
    },
    {
     "name": "stdout",
     "output_type": "stream",
     "text": [
      "onds"
     ]
    },
    {
     "name": "stdout",
     "output_type": "stream",
     "text": [
      "\",\n"
     ]
    },
    {
     "name": "stdout",
     "output_type": "stream",
     "text": [
      "     "
     ]
    },
    {
     "name": "stdout",
     "output_type": "stream",
     "text": [
      " \""
     ]
    },
    {
     "name": "stdout",
     "output_type": "stream",
     "text": [
      "rig"
     ]
    },
    {
     "name": "stdout",
     "output_type": "stream",
     "text": [
      "id"
     ]
    },
    {
     "name": "stdout",
     "output_type": "stream",
     "text": [
      "Water"
     ]
    },
    {
     "name": "stdout",
     "output_type": "stream",
     "text": [
      "\":"
     ]
    },
    {
     "name": "stdout",
     "output_type": "stream",
     "text": [
      " true"
     ]
    },
    {
     "name": "stdout",
     "output_type": "stream",
     "text": [
      ",\n"
     ]
    },
    {
     "name": "stdout",
     "output_type": "stream",
     "text": [
      "     "
     ]
    },
    {
     "name": "stdout",
     "output_type": "stream",
     "text": [
      " \""
     ]
    },
    {
     "name": "stdout",
     "output_type": "stream",
     "text": [
      "constraint"
     ]
    },
    {
     "name": "stdout",
     "output_type": "stream",
     "text": [
      "Tolerance"
     ]
    },
    {
     "name": "stdout",
     "output_type": "stream",
     "text": [
      "\":"
     ]
    },
    {
     "name": "stdout",
     "output_type": "stream",
     "text": [
      " \""
     ]
    },
    {
     "name": "stdout",
     "output_type": "stream",
     "text": [
      "0"
     ]
    },
    {
     "name": "stdout",
     "output_type": "stream",
     "text": [
      "."
     ]
    },
    {
     "name": "stdout",
     "output_type": "stream",
     "text": [
      "000"
     ]
    },
    {
     "name": "stdout",
     "output_type": "stream",
     "text": [
      "01"
     ]
    },
    {
     "name": "stdout",
     "output_type": "stream",
     "text": [
      "\",\n"
     ]
    },
    {
     "name": "stdout",
     "output_type": "stream",
     "text": [
      "     "
     ]
    },
    {
     "name": "stdout",
     "output_type": "stream",
     "text": [
      " \""
     ]
    },
    {
     "name": "stdout",
     "output_type": "stream",
     "text": [
      "sol"
     ]
    },
    {
     "name": "stdout",
     "output_type": "stream",
     "text": [
      "vate"
     ]
    },
    {
     "name": "stdout",
     "output_type": "stream",
     "text": [
      "\":"
     ]
    },
    {
     "name": "stdout",
     "output_type": "stream",
     "text": [
      " true"
     ]
    },
    {
     "name": "stdout",
     "output_type": "stream",
     "text": [
      "\n"
     ]
    },
    {
     "name": "stdout",
     "output_type": "stream",
     "text": [
      "   "
     ]
    },
    {
     "name": "stdout",
     "output_type": "stream",
     "text": [
      " },\n"
     ]
    },
    {
     "name": "stdout",
     "output_type": "stream",
     "text": [
      "   "
     ]
    },
    {
     "name": "stdout",
     "output_type": "stream",
     "text": [
      " \""
     ]
    },
    {
     "name": "stdout",
     "output_type": "stream",
     "text": [
      "integr"
     ]
    },
    {
     "name": "stdout",
     "output_type": "stream",
     "text": [
      "ator"
     ]
    },
    {
     "name": "stdout",
     "output_type": "stream",
     "text": [
      "_params"
     ]
    },
    {
     "name": "stdout",
     "output_type": "stream",
     "text": [
      "\":"
     ]
    },
    {
     "name": "stdout",
     "output_type": "stream",
     "text": [
      " {\n"
     ]
    },
    {
     "name": "stdout",
     "output_type": "stream",
     "text": [
      "     "
     ]
    },
    {
     "name": "stdout",
     "output_type": "stream",
     "text": [
      " \""
     ]
    },
    {
     "name": "stdout",
     "output_type": "stream",
     "text": [
      "integr"
     ]
    },
    {
     "name": "stdout",
     "output_type": "stream",
     "text": [
      "ator"
     ]
    },
    {
     "name": "stdout",
     "output_type": "stream",
     "text": [
      "_type"
     ]
    },
    {
     "name": "stdout",
     "output_type": "stream",
     "text": [
      "\":"
     ]
    },
    {
     "name": "stdout",
     "output_type": "stream",
     "text": [
      " \""
     ]
    },
    {
     "name": "stdout",
     "output_type": "stream",
     "text": [
      "L"
     ]
    },
    {
     "name": "stdout",
     "output_type": "stream",
     "text": [
      "ange"
     ]
    },
    {
     "name": "stdout",
     "output_type": "stream",
     "text": [
      "vin"
     ]
    },
    {
     "name": "stdout",
     "output_type": "stream",
     "text": [
      "Middle"
     ]
    },
    {
     "name": "stdout",
     "output_type": "stream",
     "text": [
      "\",\n"
     ]
    },
    {
     "name": "stdout",
     "output_type": "stream",
     "text": [
      "     "
     ]
    },
    {
     "name": "stdout",
     "output_type": "stream",
     "text": [
      " \""
     ]
    },
    {
     "name": "stdout",
     "output_type": "stream",
     "text": [
      "Temperature"
     ]
    },
    {
     "name": "stdout",
     "output_type": "stream",
     "text": [
      "\":"
     ]
    },
    {
     "name": "stdout",
     "output_type": "stream",
     "text": [
      " \""
     ]
    },
    {
     "name": "stdout",
     "output_type": "stream",
     "text": [
      "300"
     ]
    },
    {
     "name": "stdout",
     "output_type": "stream",
     "text": [
      " *"
     ]
    },
    {
     "name": "stdout",
     "output_type": "stream",
     "text": [
      " kel"
     ]
    },
    {
     "name": "stdout",
     "output_type": "stream",
     "text": [
      "vin"
     ]
    },
    {
     "name": "stdout",
     "output_type": "stream",
     "text": [
      "\",\n"
     ]
    },
    {
     "name": "stdout",
     "output_type": "stream",
     "text": [
      "     "
     ]
    },
    {
     "name": "stdout",
     "output_type": "stream",
     "text": [
      " \""
     ]
    },
    {
     "name": "stdout",
     "output_type": "stream",
     "text": [
      "F"
     ]
    },
    {
     "name": "stdout",
     "output_type": "stream",
     "text": [
      "riction"
     ]
    },
    {
     "name": "stdout",
     "output_type": "stream",
     "text": [
      "\":"
     ]
    },
    {
     "name": "stdout",
     "output_type": "stream",
     "text": [
      " \""
     ]
    },
    {
     "name": "stdout",
     "output_type": "stream",
     "text": [
      "1"
     ]
    },
    {
     "name": "stdout",
     "output_type": "stream",
     "text": [
      "."
     ]
    },
    {
     "name": "stdout",
     "output_type": "stream",
     "text": [
      "0"
     ]
    },
    {
     "name": "stdout",
     "output_type": "stream",
     "text": [
      " /"
     ]
    },
    {
     "name": "stdout",
     "output_type": "stream",
     "text": [
      " pic"
     ]
    },
    {
     "name": "stdout",
     "output_type": "stream",
     "text": [
      "oseconds"
     ]
    },
    {
     "name": "stdout",
     "output_type": "stream",
     "text": [
      "\",\n"
     ]
    },
    {
     "name": "stdout",
     "output_type": "stream",
     "text": [
      "     "
     ]
    },
    {
     "name": "stdout",
     "output_type": "stream",
     "text": [
      " \""
     ]
    },
    {
     "name": "stdout",
     "output_type": "stream",
     "text": [
      "T"
     ]
    },
    {
     "name": "stdout",
     "output_type": "stream",
     "text": [
      "imestep"
     ]
    },
    {
     "name": "stdout",
     "output_type": "stream",
     "text": [
      "\":"
     ]
    },
    {
     "name": "stdout",
     "output_type": "stream",
     "text": [
      " \""
     ]
    },
    {
     "name": "stdout",
     "output_type": "stream",
     "text": [
      "0"
     ]
    },
    {
     "name": "stdout",
     "output_type": "stream",
     "text": [
      "."
     ]
    },
    {
     "name": "stdout",
     "output_type": "stream",
     "text": [
      "001"
     ]
    },
    {
     "name": "stdout",
     "output_type": "stream",
     "text": [
      " *"
     ]
    },
    {
     "name": "stdout",
     "output_type": "stream",
     "text": [
      " pic"
     ]
    },
    {
     "name": "stdout",
     "output_type": "stream",
     "text": [
      "oseconds"
     ]
    },
    {
     "name": "stdout",
     "output_type": "stream",
     "text": [
      "\",\n"
     ]
    },
    {
     "name": "stdout",
     "output_type": "stream",
     "text": [
      "     "
     ]
    },
    {
     "name": "stdout",
     "output_type": "stream",
     "text": [
      " \""
     ]
    },
    {
     "name": "stdout",
     "output_type": "stream",
     "text": [
      "Pressure"
     ]
    },
    {
     "name": "stdout",
     "output_type": "stream",
     "text": [
      "\":"
     ]
    },
    {
     "name": "stdout",
     "output_type": "stream",
     "text": [
      " \""
     ]
    },
    {
     "name": "stdout",
     "output_type": "stream",
     "text": [
      "0"
     ]
    },
    {
     "name": "stdout",
     "output_type": "stream",
     "text": [
      "."
     ]
    },
    {
     "name": "stdout",
     "output_type": "stream",
     "text": [
      "1"
     ]
    },
    {
     "name": "stdout",
     "output_type": "stream",
     "text": [
      " *"
     ]
    },
    {
     "name": "stdout",
     "output_type": "stream",
     "text": [
      " MP"
     ]
    },
    {
     "name": "stdout",
     "output_type": "stream",
     "text": [
      "a"
     ]
    },
    {
     "name": "stdout",
     "output_type": "stream",
     "text": [
      "\"\n"
     ]
    },
    {
     "name": "stdout",
     "output_type": "stream",
     "text": [
      "   "
     ]
    },
    {
     "name": "stdout",
     "output_type": "stream",
     "text": [
      " },\n"
     ]
    },
    {
     "name": "stdout",
     "output_type": "stream",
     "text": [
      "   "
     ]
    },
    {
     "name": "stdout",
     "output_type": "stream",
     "text": [
      " \""
     ]
    },
    {
     "name": "stdout",
     "output_type": "stream",
     "text": [
      "simulation"
     ]
    },
    {
     "name": "stdout",
     "output_type": "stream",
     "text": [
      "_params"
     ]
    },
    {
     "name": "stdout",
     "output_type": "stream",
     "text": [
      "\":"
     ]
    },
    {
     "name": "stdout",
     "output_type": "stream",
     "text": [
      " {\n"
     ]
    },
    {
     "name": "stdout",
     "output_type": "stream",
     "text": [
      "     "
     ]
    },
    {
     "name": "stdout",
     "output_type": "stream",
     "text": [
      " \""
     ]
    },
    {
     "name": "stdout",
     "output_type": "stream",
     "text": [
      "En"
     ]
    },
    {
     "name": "stdout",
     "output_type": "stream",
     "text": [
      "semble"
     ]
    },
    {
     "name": "stdout",
     "output_type": "stream",
     "text": [
      "\":"
     ]
    },
    {
     "name": "stdout",
     "output_type": "stream",
     "text": [
      " \""
     ]
    },
    {
     "name": "stdout",
     "output_type": "stream",
     "text": [
      "N"
     ]
    },
    {
     "name": "stdout",
     "output_type": "stream",
     "text": [
      "PT"
     ]
    },
    {
     "name": "stdout",
     "output_type": "stream",
     "text": [
      "\",\n"
     ]
    },
    {
     "name": "stdout",
     "output_type": "stream",
     "text": [
      "     "
     ]
    },
    {
     "name": "stdout",
     "output_type": "stream",
     "text": [
      " \""
     ]
    },
    {
     "name": "stdout",
     "output_type": "stream",
     "text": [
      "Number"
     ]
    },
    {
     "name": "stdout",
     "output_type": "stream",
     "text": [
      " of"
     ]
    },
    {
     "name": "stdout",
     "output_type": "stream",
     "text": [
      " Steps"
     ]
    },
    {
     "name": "stdout",
     "output_type": "stream",
     "text": [
      "\":"
     ]
    },
    {
     "name": "stdout",
     "output_type": "stream",
     "text": [
      " "
     ]
    },
    {
     "name": "stdout",
     "output_type": "stream",
     "text": [
      "500"
     ]
    },
    {
     "name": "stdout",
     "output_type": "stream",
     "text": [
      "0"
     ]
    },
    {
     "name": "stdout",
     "output_type": "stream",
     "text": [
      ",\n"
     ]
    },
    {
     "name": "stdout",
     "output_type": "stream",
     "text": [
      "     "
     ]
    },
    {
     "name": "stdout",
     "output_type": "stream",
     "text": [
      " \""
     ]
    },
    {
     "name": "stdout",
     "output_type": "stream",
     "text": [
      "record"
     ]
    },
    {
     "name": "stdout",
     "output_type": "stream",
     "text": [
      "_interval"
     ]
    },
    {
     "name": "stdout",
     "output_type": "stream",
     "text": [
      "_steps"
     ]
    },
    {
     "name": "stdout",
     "output_type": "stream",
     "text": [
      "\":"
     ]
    },
    {
     "name": "stdout",
     "output_type": "stream",
     "text": [
      " "
     ]
    },
    {
     "name": "stdout",
     "output_type": "stream",
     "text": [
      "50"
     ]
    },
    {
     "name": "stdout",
     "output_type": "stream",
     "text": [
      ",\n"
     ]
    },
    {
     "name": "stdout",
     "output_type": "stream",
     "text": [
      "     "
     ]
    },
    {
     "name": "stdout",
     "output_type": "stream",
     "text": [
      " \""
     ]
    },
    {
     "name": "stdout",
     "output_type": "stream",
     "text": [
      "record"
     ]
    },
    {
     "name": "stdout",
     "output_type": "stream",
     "text": [
      "_params"
     ]
    },
    {
     "name": "stdout",
     "output_type": "stream",
     "text": [
      "\":"
     ]
    },
    {
     "name": "stdout",
     "output_type": "stream",
     "text": [
      " [\""
     ]
    },
    {
     "name": "stdout",
     "output_type": "stream",
     "text": [
      "step"
     ]
    },
    {
     "name": "stdout",
     "output_type": "stream",
     "text": [
      "\","
     ]
    },
    {
     "name": "stdout",
     "output_type": "stream",
     "text": [
      " \""
     ]
    },
    {
     "name": "stdout",
     "output_type": "stream",
     "text": [
      "potential"
     ]
    },
    {
     "name": "stdout",
     "output_type": "stream",
     "text": [
      "Energy"
     ]
    },
    {
     "name": "stdout",
     "output_type": "stream",
     "text": [
      "\","
     ]
    },
    {
     "name": "stdout",
     "output_type": "stream",
     "text": [
      " \""
     ]
    },
    {
     "name": "stdout",
     "output_type": "stream",
     "text": [
      "temperature"
     ]
    },
    {
     "name": "stdout",
     "output_type": "stream",
     "text": [
      "\"]\n"
     ]
    },
    {
     "name": "stdout",
     "output_type": "stream",
     "text": [
      "   "
     ]
    },
    {
     "name": "stdout",
     "output_type": "stream",
     "text": [
      " }\n"
     ]
    },
    {
     "name": "stdout",
     "output_type": "stream",
     "text": [
      " "
     ]
    },
    {
     "name": "stdout",
     "output_type": "stream",
     "text": [
      " }\n"
     ]
    },
    {
     "name": "stdout",
     "output_type": "stream",
     "text": [
      "}\n"
     ]
    },
    {
     "name": "stdout",
     "output_type": "stream",
     "text": [
      "```"
     ]
    },
    {
     "name": "stdout",
     "output_type": "stream",
     "text": [
      "error found: Unknown unit 'mpa' for parameter.\n",
      "            Valid units include: ['bar', 'atm', 'atmosphere', 'pascal', 'pascals', 'pa', 'poundforce/inch^2', 'psi'].The forcefield file is not present\n",
      " Correct this and try again. \n",
      " Everthing else is fine\n"
     ]
    },
    {
     "name": "stdout",
     "output_type": "stream",
     "text": [
      "To"
     ]
    },
    {
     "name": "stdout",
     "output_type": "stream",
     "text": [
      " correct"
     ]
    },
    {
     "name": "stdout",
     "output_type": "stream",
     "text": [
      " the"
     ]
    },
    {
     "name": "stdout",
     "output_type": "stream",
     "text": [
      " error"
     ]
    },
    {
     "name": "stdout",
     "output_type": "stream",
     "text": [
      ","
     ]
    },
    {
     "name": "stdout",
     "output_type": "stream",
     "text": [
      " I"
     ]
    },
    {
     "name": "stdout",
     "output_type": "stream",
     "text": [
      " need"
     ]
    },
    {
     "name": "stdout",
     "output_type": "stream",
     "text": [
      " to"
     ]
    },
    {
     "name": "stdout",
     "output_type": "stream",
     "text": [
      " adjust"
     ]
    },
    {
     "name": "stdout",
     "output_type": "stream",
     "text": [
      " the"
     ]
    },
    {
     "name": "stdout",
     "output_type": "stream",
     "text": [
      " pressure"
     ]
    },
    {
     "name": "stdout",
     "output_type": "stream",
     "text": [
      " unit"
     ]
    },
    {
     "name": "stdout",
     "output_type": "stream",
     "text": [
      " to"
     ]
    },
    {
     "name": "stdout",
     "output_type": "stream",
     "text": [
      " a"
     ]
    },
    {
     "name": "stdout",
     "output_type": "stream",
     "text": [
      " valid"
     ]
    },
    {
     "name": "stdout",
     "output_type": "stream",
     "text": [
      " one"
     ]
    },
    {
     "name": "stdout",
     "output_type": "stream",
     "text": [
      " and"
     ]
    },
    {
     "name": "stdout",
     "output_type": "stream",
     "text": [
      " ensure"
     ]
    },
    {
     "name": "stdout",
     "output_type": "stream",
     "text": [
      " the"
     ]
    },
    {
     "name": "stdout",
     "output_type": "stream",
     "text": [
      " force"
     ]
    },
    {
     "name": "stdout",
     "output_type": "stream",
     "text": [
      "field"
     ]
    },
    {
     "name": "stdout",
     "output_type": "stream",
     "text": [
      " file"
     ]
    },
    {
     "name": "stdout",
     "output_type": "stream",
     "text": [
      " is"
     ]
    },
    {
     "name": "stdout",
     "output_type": "stream",
     "text": [
      " available"
     ]
    },
    {
     "name": "stdout",
     "output_type": "stream",
     "text": [
      "."
     ]
    },
    {
     "name": "stdout",
     "output_type": "stream",
     "text": [
      " I"
     ]
    },
    {
     "name": "stdout",
     "output_type": "stream",
     "text": [
      " will"
     ]
    },
    {
     "name": "stdout",
     "output_type": "stream",
     "text": [
      " use"
     ]
    },
    {
     "name": "stdout",
     "output_type": "stream",
     "text": [
      " \""
     ]
    },
    {
     "name": "stdout",
     "output_type": "stream",
     "text": [
      "bar"
     ]
    },
    {
     "name": "stdout",
     "output_type": "stream",
     "text": [
      "\""
     ]
    },
    {
     "name": "stdout",
     "output_type": "stream",
     "text": [
      " as"
     ]
    },
    {
     "name": "stdout",
     "output_type": "stream",
     "text": [
      " the"
     ]
    },
    {
     "name": "stdout",
     "output_type": "stream",
     "text": [
      " pressure"
     ]
    },
    {
     "name": "stdout",
     "output_type": "stream",
     "text": [
      " unit"
     ]
    },
    {
     "name": "stdout",
     "output_type": "stream",
     "text": [
      " and"
     ]
    },
    {
     "name": "stdout",
     "output_type": "stream",
     "text": [
      " verify"
     ]
    },
    {
     "name": "stdout",
     "output_type": "stream",
     "text": [
      " the"
     ]
    },
    {
     "name": "stdout",
     "output_type": "stream",
     "text": [
      " force"
     ]
    },
    {
     "name": "stdout",
     "output_type": "stream",
     "text": [
      "field"
     ]
    },
    {
     "name": "stdout",
     "output_type": "stream",
     "text": [
      " file"
     ]
    },
    {
     "name": "stdout",
     "output_type": "stream",
     "text": [
      "."
     ]
    },
    {
     "name": "stdout",
     "output_type": "stream",
     "text": [
      " Then"
     ]
    },
    {
     "name": "stdout",
     "output_type": "stream",
     "text": [
      ","
     ]
    },
    {
     "name": "stdout",
     "output_type": "stream",
     "text": [
      " I"
     ]
    },
    {
     "name": "stdout",
     "output_type": "stream",
     "text": [
      " will"
     ]
    },
    {
     "name": "stdout",
     "output_type": "stream",
     "text": [
      " set"
     ]
    },
    {
     "name": "stdout",
     "output_type": "stream",
     "text": [
      " up"
     ]
    },
    {
     "name": "stdout",
     "output_type": "stream",
     "text": [
      " and"
     ]
    },
    {
     "name": "stdout",
     "output_type": "stream",
     "text": [
      " run"
     ]
    },
    {
     "name": "stdout",
     "output_type": "stream",
     "text": [
      " the"
     ]
    },
    {
     "name": "stdout",
     "output_type": "stream",
     "text": [
      " simulation"
     ]
    },
    {
     "name": "stdout",
     "output_type": "stream",
     "text": [
      " for"
     ]
    },
    {
     "name": "stdout",
     "output_type": "stream",
     "text": [
      " "
     ]
    },
    {
     "name": "stdout",
     "output_type": "stream",
     "text": [
      "1"
     ]
    },
    {
     "name": "stdout",
     "output_type": "stream",
     "text": [
      "A"
     ]
    },
    {
     "name": "stdout",
     "output_type": "stream",
     "text": [
      "3"
     ]
    },
    {
     "name": "stdout",
     "output_type": "stream",
     "text": [
      "N"
     ]
    },
    {
     "name": "stdout",
     "output_type": "stream",
     "text": [
      " again"
     ]
    },
    {
     "name": "stdout",
     "output_type": "stream",
     "text": [
      ".\n",
      "\n"
     ]
    },
    {
     "name": "stdout",
     "output_type": "stream",
     "text": [
      "Action"
     ]
    },
    {
     "name": "stdout",
     "output_type": "stream",
     "text": [
      ":\n"
     ]
    },
    {
     "name": "stdout",
     "output_type": "stream",
     "text": [
      "```"
     ]
    },
    {
     "name": "stdout",
     "output_type": "stream",
     "text": [
      "json"
     ]
    },
    {
     "name": "stdout",
     "output_type": "stream",
     "text": [
      "\n"
     ]
    },
    {
     "name": "stdout",
     "output_type": "stream",
     "text": [
      "{\n"
     ]
    },
    {
     "name": "stdout",
     "output_type": "stream",
     "text": [
      " "
     ]
    },
    {
     "name": "stdout",
     "output_type": "stream",
     "text": [
      " \""
     ]
    },
    {
     "name": "stdout",
     "output_type": "stream",
     "text": [
      "action"
     ]
    },
    {
     "name": "stdout",
     "output_type": "stream",
     "text": [
      "\":"
     ]
    },
    {
     "name": "stdout",
     "output_type": "stream",
     "text": [
      " \""
     ]
    },
    {
     "name": "stdout",
     "output_type": "stream",
     "text": [
      "Set"
     ]
    },
    {
     "name": "stdout",
     "output_type": "stream",
     "text": [
      "Up"
     ]
    },
    {
     "name": "stdout",
     "output_type": "stream",
     "text": [
      "and"
     ]
    },
    {
     "name": "stdout",
     "output_type": "stream",
     "text": [
      "Run"
     ]
    },
    {
     "name": "stdout",
     "output_type": "stream",
     "text": [
      "Function"
     ]
    },
    {
     "name": "stdout",
     "output_type": "stream",
     "text": [
      "\",\n"
     ]
    },
    {
     "name": "stdout",
     "output_type": "stream",
     "text": [
      " "
     ]
    },
    {
     "name": "stdout",
     "output_type": "stream",
     "text": [
      " \""
     ]
    },
    {
     "name": "stdout",
     "output_type": "stream",
     "text": [
      "action"
     ]
    },
    {
     "name": "stdout",
     "output_type": "stream",
     "text": [
      "_input"
     ]
    },
    {
     "name": "stdout",
     "output_type": "stream",
     "text": [
      "\":"
     ]
    },
    {
     "name": "stdout",
     "output_type": "stream",
     "text": [
      " {\n"
     ]
    },
    {
     "name": "stdout",
     "output_type": "stream",
     "text": [
      "   "
     ]
    },
    {
     "name": "stdout",
     "output_type": "stream",
     "text": [
      " \""
     ]
    },
    {
     "name": "stdout",
     "output_type": "stream",
     "text": [
      "p"
     ]
    },
    {
     "name": "stdout",
     "output_type": "stream",
     "text": [
      "db"
     ]
    },
    {
     "name": "stdout",
     "output_type": "stream",
     "text": [
      "_id"
     ]
    },
    {
     "name": "stdout",
     "output_type": "stream",
     "text": [
      "\":"
     ]
    },
    {
     "name": "stdout",
     "output_type": "stream",
     "text": [
      " \""
     ]
    },
    {
     "name": "stdout",
     "output_type": "stream",
     "text": [
      "1"
     ]
    },
    {
     "name": "stdout",
     "output_type": "stream",
     "text": [
      "A"
     ]
    },
    {
     "name": "stdout",
     "output_type": "stream",
     "text": [
      "3"
     ]
    },
    {
     "name": "stdout",
     "output_type": "stream",
     "text": [
      "N"
     ]
    },
    {
     "name": "stdout",
     "output_type": "stream",
     "text": [
      "_"
     ]
    },
    {
     "name": "stdout",
     "output_type": "stream",
     "text": [
      "204"
     ]
    },
    {
     "name": "stdout",
     "output_type": "stream",
     "text": [
      "108"
     ]
    },
    {
     "name": "stdout",
     "output_type": "stream",
     "text": [
      "\",\n"
     ]
    },
    {
     "name": "stdout",
     "output_type": "stream",
     "text": [
      "   "
     ]
    },
    {
     "name": "stdout",
     "output_type": "stream",
     "text": [
      " \""
     ]
    },
    {
     "name": "stdout",
     "output_type": "stream",
     "text": [
      "force"
     ]
    },
    {
     "name": "stdout",
     "output_type": "stream",
     "text": [
      "field"
     ]
    },
    {
     "name": "stdout",
     "output_type": "stream",
     "text": [
      "_files"
     ]
    },
    {
     "name": "stdout",
     "output_type": "stream",
     "text": [
      "\":"
     ]
    },
    {
     "name": "stdout",
     "output_type": "stream",
     "text": [
      " [\""
     ]
    },
    {
     "name": "stdout",
     "output_type": "stream",
     "text": [
      "CHAR"
     ]
    },
    {
     "name": "stdout",
     "output_type": "stream",
     "text": [
      "MM"
     ]
    },
    {
     "name": "stdout",
     "output_type": "stream",
     "text": [
      "36"
     ]
    },
    {
     "name": "stdout",
     "output_type": "stream",
     "text": [
      "\"],\n"
     ]
    },
    {
     "name": "stdout",
     "output_type": "stream",
     "text": [
      "   "
     ]
    },
    {
     "name": "stdout",
     "output_type": "stream",
     "text": [
      " \""
     ]
    },
    {
     "name": "stdout",
     "output_type": "stream",
     "text": [
      "save"
     ]
    },
    {
     "name": "stdout",
     "output_type": "stream",
     "text": [
      "\":"
     ]
    },
    {
     "name": "stdout",
     "output_type": "stream",
     "text": [
      " true"
     ]
    },
    {
     "name": "stdout",
     "output_type": "stream",
     "text": [
      ",\n"
     ]
    },
    {
     "name": "stdout",
     "output_type": "stream",
     "text": [
      "   "
     ]
    },
    {
     "name": "stdout",
     "output_type": "stream",
     "text": [
      " \""
     ]
    },
    {
     "name": "stdout",
     "output_type": "stream",
     "text": [
      "system"
     ]
    },
    {
     "name": "stdout",
     "output_type": "stream",
     "text": [
      "_params"
     ]
    },
    {
     "name": "stdout",
     "output_type": "stream",
     "text": [
      "\":"
     ]
    },
    {
     "name": "stdout",
     "output_type": "stream",
     "text": [
      " {\n"
     ]
    },
    {
     "name": "stdout",
     "output_type": "stream",
     "text": [
      "     "
     ]
    },
    {
     "name": "stdout",
     "output_type": "stream",
     "text": [
      " \""
     ]
    },
    {
     "name": "stdout",
     "output_type": "stream",
     "text": [
      "non"
     ]
    },
    {
     "name": "stdout",
     "output_type": "stream",
     "text": [
      "bond"
     ]
    },
    {
     "name": "stdout",
     "output_type": "stream",
     "text": [
      "ed"
     ]
    },
    {
     "name": "stdout",
     "output_type": "stream",
     "text": [
      "Method"
     ]
    },
    {
     "name": "stdout",
     "output_type": "stream",
     "text": [
      "\":"
     ]
    },
    {
     "name": "stdout",
     "output_type": "stream",
     "text": [
      " \""
     ]
    },
    {
     "name": "stdout",
     "output_type": "stream",
     "text": [
      "PM"
     ]
    },
    {
     "name": "stdout",
     "output_type": "stream",
     "text": [
      "E"
     ]
    },
    {
     "name": "stdout",
     "output_type": "stream",
     "text": [
      "\",\n"
     ]
    },
    {
     "name": "stdout",
     "output_type": "stream",
     "text": [
      "     "
     ]
    },
    {
     "name": "stdout",
     "output_type": "stream",
     "text": [
      " \""
     ]
    },
    {
     "name": "stdout",
     "output_type": "stream",
     "text": [
      "non"
     ]
    },
    {
     "name": "stdout",
     "output_type": "stream",
     "text": [
      "bond"
     ]
    },
    {
     "name": "stdout",
     "output_type": "stream",
     "text": [
      "ed"
     ]
    },
    {
     "name": "stdout",
     "output_type": "stream",
     "text": [
      "Cut"
     ]
    },
    {
     "name": "stdout",
     "output_type": "stream",
     "text": [
      "off"
     ]
    },
    {
     "name": "stdout",
     "output_type": "stream",
     "text": [
      "\":"
     ]
    },
    {
     "name": "stdout",
     "output_type": "stream",
     "text": [
      " \""
     ]
    },
    {
     "name": "stdout",
     "output_type": "stream",
     "text": [
      "1"
     ]
    },
    {
     "name": "stdout",
     "output_type": "stream",
     "text": [
      "."
     ]
    },
    {
     "name": "stdout",
     "output_type": "stream",
     "text": [
      "0"
     ]
    },
    {
     "name": "stdout",
     "output_type": "stream",
     "text": [
      " *"
     ]
    },
    {
     "name": "stdout",
     "output_type": "stream",
     "text": [
      " nan"
     ]
    },
    {
     "name": "stdout",
     "output_type": "stream",
     "text": [
      "ometers"
     ]
    },
    {
     "name": "stdout",
     "output_type": "stream",
     "text": [
      "\",\n"
     ]
    },
    {
     "name": "stdout",
     "output_type": "stream",
     "text": [
      "     "
     ]
    },
    {
     "name": "stdout",
     "output_type": "stream",
     "text": [
      " \""
     ]
    },
    {
     "name": "stdout",
     "output_type": "stream",
     "text": [
      "ew"
     ]
    },
    {
     "name": "stdout",
     "output_type": "stream",
     "text": [
      "ald"
     ]
    },
    {
     "name": "stdout",
     "output_type": "stream",
     "text": [
      "Error"
     ]
    },
    {
     "name": "stdout",
     "output_type": "stream",
     "text": [
      "Tolerance"
     ]
    },
    {
     "name": "stdout",
     "output_type": "stream",
     "text": [
      "\":"
     ]
    },
    {
     "name": "stdout",
     "output_type": "stream",
     "text": [
      " \""
     ]
    },
    {
     "name": "stdout",
     "output_type": "stream",
     "text": [
      "0"
     ]
    },
    {
     "name": "stdout",
     "output_type": "stream",
     "text": [
      "."
     ]
    },
    {
     "name": "stdout",
     "output_type": "stream",
     "text": [
      "000"
     ]
    },
    {
     "name": "stdout",
     "output_type": "stream",
     "text": [
      "5"
     ]
    },
    {
     "name": "stdout",
     "output_type": "stream",
     "text": [
      "\",\n"
     ]
    },
    {
     "name": "stdout",
     "output_type": "stream",
     "text": [
      "     "
     ]
    },
    {
     "name": "stdout",
     "output_type": "stream",
     "text": [
      " \""
     ]
    },
    {
     "name": "stdout",
     "output_type": "stream",
     "text": [
      "constraints"
     ]
    },
    {
     "name": "stdout",
     "output_type": "stream",
     "text": [
      "\":"
     ]
    },
    {
     "name": "stdout",
     "output_type": "stream",
     "text": [
      " \""
     ]
    },
    {
     "name": "stdout",
     "output_type": "stream",
     "text": [
      "HB"
     ]
    },
    {
     "name": "stdout",
     "output_type": "stream",
     "text": [
      "onds"
     ]
    },
    {
     "name": "stdout",
     "output_type": "stream",
     "text": [
      "\",\n"
     ]
    },
    {
     "name": "stdout",
     "output_type": "stream",
     "text": [
      "     "
     ]
    },
    {
     "name": "stdout",
     "output_type": "stream",
     "text": [
      " \""
     ]
    },
    {
     "name": "stdout",
     "output_type": "stream",
     "text": [
      "rig"
     ]
    },
    {
     "name": "stdout",
     "output_type": "stream",
     "text": [
      "id"
     ]
    },
    {
     "name": "stdout",
     "output_type": "stream",
     "text": [
      "Water"
     ]
    },
    {
     "name": "stdout",
     "output_type": "stream",
     "text": [
      "\":"
     ]
    },
    {
     "name": "stdout",
     "output_type": "stream",
     "text": [
      " true"
     ]
    },
    {
     "name": "stdout",
     "output_type": "stream",
     "text": [
      ",\n"
     ]
    },
    {
     "name": "stdout",
     "output_type": "stream",
     "text": [
      "     "
     ]
    },
    {
     "name": "stdout",
     "output_type": "stream",
     "text": [
      " \""
     ]
    },
    {
     "name": "stdout",
     "output_type": "stream",
     "text": [
      "constraint"
     ]
    },
    {
     "name": "stdout",
     "output_type": "stream",
     "text": [
      "Tolerance"
     ]
    },
    {
     "name": "stdout",
     "output_type": "stream",
     "text": [
      "\":"
     ]
    },
    {
     "name": "stdout",
     "output_type": "stream",
     "text": [
      " \""
     ]
    },
    {
     "name": "stdout",
     "output_type": "stream",
     "text": [
      "0"
     ]
    },
    {
     "name": "stdout",
     "output_type": "stream",
     "text": [
      "."
     ]
    },
    {
     "name": "stdout",
     "output_type": "stream",
     "text": [
      "000"
     ]
    },
    {
     "name": "stdout",
     "output_type": "stream",
     "text": [
      "01"
     ]
    },
    {
     "name": "stdout",
     "output_type": "stream",
     "text": [
      "\",\n"
     ]
    },
    {
     "name": "stdout",
     "output_type": "stream",
     "text": [
      "     "
     ]
    },
    {
     "name": "stdout",
     "output_type": "stream",
     "text": [
      " \""
     ]
    },
    {
     "name": "stdout",
     "output_type": "stream",
     "text": [
      "sol"
     ]
    },
    {
     "name": "stdout",
     "output_type": "stream",
     "text": [
      "vate"
     ]
    },
    {
     "name": "stdout",
     "output_type": "stream",
     "text": [
      "\":"
     ]
    },
    {
     "name": "stdout",
     "output_type": "stream",
     "text": [
      " true"
     ]
    },
    {
     "name": "stdout",
     "output_type": "stream",
     "text": [
      "\n"
     ]
    },
    {
     "name": "stdout",
     "output_type": "stream",
     "text": [
      "   "
     ]
    },
    {
     "name": "stdout",
     "output_type": "stream",
     "text": [
      " },\n"
     ]
    },
    {
     "name": "stdout",
     "output_type": "stream",
     "text": [
      "   "
     ]
    },
    {
     "name": "stdout",
     "output_type": "stream",
     "text": [
      " \""
     ]
    },
    {
     "name": "stdout",
     "output_type": "stream",
     "text": [
      "integr"
     ]
    },
    {
     "name": "stdout",
     "output_type": "stream",
     "text": [
      "ator"
     ]
    },
    {
     "name": "stdout",
     "output_type": "stream",
     "text": [
      "_params"
     ]
    },
    {
     "name": "stdout",
     "output_type": "stream",
     "text": [
      "\":"
     ]
    },
    {
     "name": "stdout",
     "output_type": "stream",
     "text": [
      " {\n"
     ]
    },
    {
     "name": "stdout",
     "output_type": "stream",
     "text": [
      "     "
     ]
    },
    {
     "name": "stdout",
     "output_type": "stream",
     "text": [
      " \""
     ]
    },
    {
     "name": "stdout",
     "output_type": "stream",
     "text": [
      "integr"
     ]
    },
    {
     "name": "stdout",
     "output_type": "stream",
     "text": [
      "ator"
     ]
    },
    {
     "name": "stdout",
     "output_type": "stream",
     "text": [
      "_type"
     ]
    },
    {
     "name": "stdout",
     "output_type": "stream",
     "text": [
      "\":"
     ]
    },
    {
     "name": "stdout",
     "output_type": "stream",
     "text": [
      " \""
     ]
    },
    {
     "name": "stdout",
     "output_type": "stream",
     "text": [
      "L"
     ]
    },
    {
     "name": "stdout",
     "output_type": "stream",
     "text": [
      "ange"
     ]
    },
    {
     "name": "stdout",
     "output_type": "stream",
     "text": [
      "vin"
     ]
    },
    {
     "name": "stdout",
     "output_type": "stream",
     "text": [
      "Middle"
     ]
    },
    {
     "name": "stdout",
     "output_type": "stream",
     "text": [
      "\",\n"
     ]
    },
    {
     "name": "stdout",
     "output_type": "stream",
     "text": [
      "     "
     ]
    },
    {
     "name": "stdout",
     "output_type": "stream",
     "text": [
      " \""
     ]
    },
    {
     "name": "stdout",
     "output_type": "stream",
     "text": [
      "Temperature"
     ]
    },
    {
     "name": "stdout",
     "output_type": "stream",
     "text": [
      "\":"
     ]
    },
    {
     "name": "stdout",
     "output_type": "stream",
     "text": [
      " \""
     ]
    },
    {
     "name": "stdout",
     "output_type": "stream",
     "text": [
      "300"
     ]
    },
    {
     "name": "stdout",
     "output_type": "stream",
     "text": [
      " *"
     ]
    },
    {
     "name": "stdout",
     "output_type": "stream",
     "text": [
      " kel"
     ]
    },
    {
     "name": "stdout",
     "output_type": "stream",
     "text": [
      "vin"
     ]
    },
    {
     "name": "stdout",
     "output_type": "stream",
     "text": [
      "\",\n"
     ]
    },
    {
     "name": "stdout",
     "output_type": "stream",
     "text": [
      "     "
     ]
    },
    {
     "name": "stdout",
     "output_type": "stream",
     "text": [
      " \""
     ]
    },
    {
     "name": "stdout",
     "output_type": "stream",
     "text": [
      "F"
     ]
    },
    {
     "name": "stdout",
     "output_type": "stream",
     "text": [
      "riction"
     ]
    },
    {
     "name": "stdout",
     "output_type": "stream",
     "text": [
      "\":"
     ]
    },
    {
     "name": "stdout",
     "output_type": "stream",
     "text": [
      " \""
     ]
    },
    {
     "name": "stdout",
     "output_type": "stream",
     "text": [
      "1"
     ]
    },
    {
     "name": "stdout",
     "output_type": "stream",
     "text": [
      "."
     ]
    },
    {
     "name": "stdout",
     "output_type": "stream",
     "text": [
      "0"
     ]
    },
    {
     "name": "stdout",
     "output_type": "stream",
     "text": [
      " /"
     ]
    },
    {
     "name": "stdout",
     "output_type": "stream",
     "text": [
      " pic"
     ]
    },
    {
     "name": "stdout",
     "output_type": "stream",
     "text": [
      "oseconds"
     ]
    },
    {
     "name": "stdout",
     "output_type": "stream",
     "text": [
      "\",\n"
     ]
    },
    {
     "name": "stdout",
     "output_type": "stream",
     "text": [
      "     "
     ]
    },
    {
     "name": "stdout",
     "output_type": "stream",
     "text": [
      " \""
     ]
    },
    {
     "name": "stdout",
     "output_type": "stream",
     "text": [
      "T"
     ]
    },
    {
     "name": "stdout",
     "output_type": "stream",
     "text": [
      "imestep"
     ]
    },
    {
     "name": "stdout",
     "output_type": "stream",
     "text": [
      "\":"
     ]
    },
    {
     "name": "stdout",
     "output_type": "stream",
     "text": [
      " \""
     ]
    },
    {
     "name": "stdout",
     "output_type": "stream",
     "text": [
      "0"
     ]
    },
    {
     "name": "stdout",
     "output_type": "stream",
     "text": [
      "."
     ]
    },
    {
     "name": "stdout",
     "output_type": "stream",
     "text": [
      "001"
     ]
    },
    {
     "name": "stdout",
     "output_type": "stream",
     "text": [
      " *"
     ]
    },
    {
     "name": "stdout",
     "output_type": "stream",
     "text": [
      " pic"
     ]
    },
    {
     "name": "stdout",
     "output_type": "stream",
     "text": [
      "oseconds"
     ]
    },
    {
     "name": "stdout",
     "output_type": "stream",
     "text": [
      "\",\n"
     ]
    },
    {
     "name": "stdout",
     "output_type": "stream",
     "text": [
      "     "
     ]
    },
    {
     "name": "stdout",
     "output_type": "stream",
     "text": [
      " \""
     ]
    },
    {
     "name": "stdout",
     "output_type": "stream",
     "text": [
      "Pressure"
     ]
    },
    {
     "name": "stdout",
     "output_type": "stream",
     "text": [
      "\":"
     ]
    },
    {
     "name": "stdout",
     "output_type": "stream",
     "text": [
      " \""
     ]
    },
    {
     "name": "stdout",
     "output_type": "stream",
     "text": [
      "1"
     ]
    },
    {
     "name": "stdout",
     "output_type": "stream",
     "text": [
      "."
     ]
    },
    {
     "name": "stdout",
     "output_type": "stream",
     "text": [
      "0"
     ]
    },
    {
     "name": "stdout",
     "output_type": "stream",
     "text": [
      " *"
     ]
    },
    {
     "name": "stdout",
     "output_type": "stream",
     "text": [
      " bar"
     ]
    },
    {
     "name": "stdout",
     "output_type": "stream",
     "text": [
      "\"\n"
     ]
    },
    {
     "name": "stdout",
     "output_type": "stream",
     "text": [
      "   "
     ]
    },
    {
     "name": "stdout",
     "output_type": "stream",
     "text": [
      " },\n"
     ]
    },
    {
     "name": "stdout",
     "output_type": "stream",
     "text": [
      "   "
     ]
    },
    {
     "name": "stdout",
     "output_type": "stream",
     "text": [
      " \""
     ]
    },
    {
     "name": "stdout",
     "output_type": "stream",
     "text": [
      "simulation"
     ]
    },
    {
     "name": "stdout",
     "output_type": "stream",
     "text": [
      "_params"
     ]
    },
    {
     "name": "stdout",
     "output_type": "stream",
     "text": [
      "\":"
     ]
    },
    {
     "name": "stdout",
     "output_type": "stream",
     "text": [
      " {\n"
     ]
    },
    {
     "name": "stdout",
     "output_type": "stream",
     "text": [
      "     "
     ]
    },
    {
     "name": "stdout",
     "output_type": "stream",
     "text": [
      " \""
     ]
    },
    {
     "name": "stdout",
     "output_type": "stream",
     "text": [
      "En"
     ]
    },
    {
     "name": "stdout",
     "output_type": "stream",
     "text": [
      "semble"
     ]
    },
    {
     "name": "stdout",
     "output_type": "stream",
     "text": [
      "\":"
     ]
    },
    {
     "name": "stdout",
     "output_type": "stream",
     "text": [
      " \""
     ]
    },
    {
     "name": "stdout",
     "output_type": "stream",
     "text": [
      "N"
     ]
    },
    {
     "name": "stdout",
     "output_type": "stream",
     "text": [
      "PT"
     ]
    },
    {
     "name": "stdout",
     "output_type": "stream",
     "text": [
      "\",\n"
     ]
    },
    {
     "name": "stdout",
     "output_type": "stream",
     "text": [
      "     "
     ]
    },
    {
     "name": "stdout",
     "output_type": "stream",
     "text": [
      " \""
     ]
    },
    {
     "name": "stdout",
     "output_type": "stream",
     "text": [
      "Number"
     ]
    },
    {
     "name": "stdout",
     "output_type": "stream",
     "text": [
      " of"
     ]
    },
    {
     "name": "stdout",
     "output_type": "stream",
     "text": [
      " Steps"
     ]
    },
    {
     "name": "stdout",
     "output_type": "stream",
     "text": [
      "\":"
     ]
    },
    {
     "name": "stdout",
     "output_type": "stream",
     "text": [
      " "
     ]
    },
    {
     "name": "stdout",
     "output_type": "stream",
     "text": [
      "500"
     ]
    },
    {
     "name": "stdout",
     "output_type": "stream",
     "text": [
      "0"
     ]
    },
    {
     "name": "stdout",
     "output_type": "stream",
     "text": [
      ",\n"
     ]
    },
    {
     "name": "stdout",
     "output_type": "stream",
     "text": [
      "     "
     ]
    },
    {
     "name": "stdout",
     "output_type": "stream",
     "text": [
      " \""
     ]
    },
    {
     "name": "stdout",
     "output_type": "stream",
     "text": [
      "record"
     ]
    },
    {
     "name": "stdout",
     "output_type": "stream",
     "text": [
      "_interval"
     ]
    },
    {
     "name": "stdout",
     "output_type": "stream",
     "text": [
      "_steps"
     ]
    },
    {
     "name": "stdout",
     "output_type": "stream",
     "text": [
      "\":"
     ]
    },
    {
     "name": "stdout",
     "output_type": "stream",
     "text": [
      " "
     ]
    },
    {
     "name": "stdout",
     "output_type": "stream",
     "text": [
      "50"
     ]
    },
    {
     "name": "stdout",
     "output_type": "stream",
     "text": [
      ",\n"
     ]
    },
    {
     "name": "stdout",
     "output_type": "stream",
     "text": [
      "     "
     ]
    },
    {
     "name": "stdout",
     "output_type": "stream",
     "text": [
      " \""
     ]
    },
    {
     "name": "stdout",
     "output_type": "stream",
     "text": [
      "record"
     ]
    },
    {
     "name": "stdout",
     "output_type": "stream",
     "text": [
      "_params"
     ]
    },
    {
     "name": "stdout",
     "output_type": "stream",
     "text": [
      "\":"
     ]
    },
    {
     "name": "stdout",
     "output_type": "stream",
     "text": [
      " [\""
     ]
    },
    {
     "name": "stdout",
     "output_type": "stream",
     "text": [
      "step"
     ]
    },
    {
     "name": "stdout",
     "output_type": "stream",
     "text": [
      "\","
     ]
    },
    {
     "name": "stdout",
     "output_type": "stream",
     "text": [
      " \""
     ]
    },
    {
     "name": "stdout",
     "output_type": "stream",
     "text": [
      "potential"
     ]
    },
    {
     "name": "stdout",
     "output_type": "stream",
     "text": [
      "Energy"
     ]
    },
    {
     "name": "stdout",
     "output_type": "stream",
     "text": [
      "\","
     ]
    },
    {
     "name": "stdout",
     "output_type": "stream",
     "text": [
      " \""
     ]
    },
    {
     "name": "stdout",
     "output_type": "stream",
     "text": [
      "temperature"
     ]
    },
    {
     "name": "stdout",
     "output_type": "stream",
     "text": [
      "\"]\n"
     ]
    },
    {
     "name": "stdout",
     "output_type": "stream",
     "text": [
      "   "
     ]
    },
    {
     "name": "stdout",
     "output_type": "stream",
     "text": [
      " }\n"
     ]
    },
    {
     "name": "stdout",
     "output_type": "stream",
     "text": [
      " "
     ]
    },
    {
     "name": "stdout",
     "output_type": "stream",
     "text": [
      " }\n"
     ]
    },
    {
     "name": "stdout",
     "output_type": "stream",
     "text": [
      "}\n"
     ]
    },
    {
     "name": "stdout",
     "output_type": "stream",
     "text": [
      "```"
     ]
    },
    {
     "name": "stdout",
     "output_type": "stream",
     "text": [
      "error found: The forcefield file is not present\n",
      " Correct this and try again. \n",
      " Everthing else is fine\n"
     ]
    },
    {
     "name": "stdout",
     "output_type": "stream",
     "text": [
      "To"
     ]
    },
    {
     "name": "stdout",
     "output_type": "stream",
     "text": [
      " proceed"
     ]
    },
    {
     "name": "stdout",
     "output_type": "stream",
     "text": [
      " with"
     ]
    },
    {
     "name": "stdout",
     "output_type": "stream",
     "text": [
      " the"
     ]
    },
    {
     "name": "stdout",
     "output_type": "stream",
     "text": [
      " simulation"
     ]
    },
    {
     "name": "stdout",
     "output_type": "stream",
     "text": [
      ","
     ]
    },
    {
     "name": "stdout",
     "output_type": "stream",
     "text": [
      " I"
     ]
    },
    {
     "name": "stdout",
     "output_type": "stream",
     "text": [
      " need"
     ]
    },
    {
     "name": "stdout",
     "output_type": "stream",
     "text": [
      " to"
     ]
    },
    {
     "name": "stdout",
     "output_type": "stream",
     "text": [
      " ensure"
     ]
    },
    {
     "name": "stdout",
     "output_type": "stream",
     "text": [
      " that"
     ]
    },
    {
     "name": "stdout",
     "output_type": "stream",
     "text": [
      " the"
     ]
    },
    {
     "name": "stdout",
     "output_type": "stream",
     "text": [
      " CHAR"
     ]
    },
    {
     "name": "stdout",
     "output_type": "stream",
     "text": [
      "MM"
     ]
    },
    {
     "name": "stdout",
     "output_type": "stream",
     "text": [
      "36"
     ]
    },
    {
     "name": "stdout",
     "output_type": "stream",
     "text": [
      " force"
     ]
    },
    {
     "name": "stdout",
     "output_type": "stream",
     "text": [
      "field"
     ]
    },
    {
     "name": "stdout",
     "output_type": "stream",
     "text": [
      " file"
     ]
    },
    {
     "name": "stdout",
     "output_type": "stream",
     "text": [
      " is"
     ]
    },
    {
     "name": "stdout",
     "output_type": "stream",
     "text": [
      " available"
     ]
    },
    {
     "name": "stdout",
     "output_type": "stream",
     "text": [
      "."
     ]
    },
    {
     "name": "stdout",
     "output_type": "stream",
     "text": [
      " I"
     ]
    },
    {
     "name": "stdout",
     "output_type": "stream",
     "text": [
      " will"
     ]
    },
    {
     "name": "stdout",
     "output_type": "stream",
     "text": [
      " check"
     ]
    },
    {
     "name": "stdout",
     "output_type": "stream",
     "text": [
      " the"
     ]
    },
    {
     "name": "stdout",
     "output_type": "stream",
     "text": [
      " available"
     ]
    },
    {
     "name": "stdout",
     "output_type": "stream",
     "text": [
      " paths"
     ]
    },
    {
     "name": "stdout",
     "output_type": "stream",
     "text": [
      " to"
     ]
    },
    {
     "name": "stdout",
     "output_type": "stream",
     "text": [
      " see"
     ]
    },
    {
     "name": "stdout",
     "output_type": "stream",
     "text": [
      " if"
     ]
    },
    {
     "name": "stdout",
     "output_type": "stream",
     "text": [
      " the"
     ]
    },
    {
     "name": "stdout",
     "output_type": "stream",
     "text": [
      " force"
     ]
    },
    {
     "name": "stdout",
     "output_type": "stream",
     "text": [
      "field"
     ]
    },
    {
     "name": "stdout",
     "output_type": "stream",
     "text": [
      " file"
     ]
    },
    {
     "name": "stdout",
     "output_type": "stream",
     "text": [
      " is"
     ]
    },
    {
     "name": "stdout",
     "output_type": "stream",
     "text": [
      " present"
     ]
    },
    {
     "name": "stdout",
     "output_type": "stream",
     "text": [
      " or"
     ]
    },
    {
     "name": "stdout",
     "output_type": "stream",
     "text": [
      " if"
     ]
    },
    {
     "name": "stdout",
     "output_type": "stream",
     "text": [
      " I"
     ]
    },
    {
     "name": "stdout",
     "output_type": "stream",
     "text": [
      " need"
     ]
    },
    {
     "name": "stdout",
     "output_type": "stream",
     "text": [
      " to"
     ]
    },
    {
     "name": "stdout",
     "output_type": "stream",
     "text": [
      " download"
     ]
    },
    {
     "name": "stdout",
     "output_type": "stream",
     "text": [
      " it"
     ]
    },
    {
     "name": "stdout",
     "output_type": "stream",
     "text": [
      ".\n",
      "\n"
     ]
    },
    {
     "name": "stdout",
     "output_type": "stream",
     "text": [
      "Action"
     ]
    },
    {
     "name": "stdout",
     "output_type": "stream",
     "text": [
      ":\n"
     ]
    },
    {
     "name": "stdout",
     "output_type": "stream",
     "text": [
      "```"
     ]
    },
    {
     "name": "stdout",
     "output_type": "stream",
     "text": [
      "json"
     ]
    },
    {
     "name": "stdout",
     "output_type": "stream",
     "text": [
      "\n"
     ]
    },
    {
     "name": "stdout",
     "output_type": "stream",
     "text": [
      "{\n"
     ]
    },
    {
     "name": "stdout",
     "output_type": "stream",
     "text": [
      " "
     ]
    },
    {
     "name": "stdout",
     "output_type": "stream",
     "text": [
      " \""
     ]
    },
    {
     "name": "stdout",
     "output_type": "stream",
     "text": [
      "action"
     ]
    },
    {
     "name": "stdout",
     "output_type": "stream",
     "text": [
      "\":"
     ]
    },
    {
     "name": "stdout",
     "output_type": "stream",
     "text": [
      " \""
     ]
    },
    {
     "name": "stdout",
     "output_type": "stream",
     "text": [
      "List"
     ]
    },
    {
     "name": "stdout",
     "output_type": "stream",
     "text": [
      "Registry"
     ]
    },
    {
     "name": "stdout",
     "output_type": "stream",
     "text": [
      "Paths"
     ]
    },
    {
     "name": "stdout",
     "output_type": "stream",
     "text": [
      "\",\n"
     ]
    },
    {
     "name": "stdout",
     "output_type": "stream",
     "text": [
      " "
     ]
    },
    {
     "name": "stdout",
     "output_type": "stream",
     "text": [
      " \""
     ]
    },
    {
     "name": "stdout",
     "output_type": "stream",
     "text": [
      "action"
     ]
    },
    {
     "name": "stdout",
     "output_type": "stream",
     "text": [
      "_input"
     ]
    },
    {
     "name": "stdout",
     "output_type": "stream",
     "text": [
      "\":"
     ]
    },
    {
     "name": "stdout",
     "output_type": "stream",
     "text": [
      " \""
     ]
    },
    {
     "name": "stdout",
     "output_type": "stream",
     "text": [
      "paths"
     ]
    },
    {
     "name": "stdout",
     "output_type": "stream",
     "text": [
      "\"\n"
     ]
    },
    {
     "name": "stdout",
     "output_type": "stream",
     "text": [
      "}\n"
     ]
    },
    {
     "name": "stdout",
     "output_type": "stream",
     "text": [
      "```"
     ]
    },
    {
     "name": "stdout",
     "output_type": "stream",
     "text": [
      "To"
     ]
    },
    {
     "name": "stdout",
     "output_type": "stream",
     "text": [
      " proceed"
     ]
    },
    {
     "name": "stdout",
     "output_type": "stream",
     "text": [
      " with"
     ]
    },
    {
     "name": "stdout",
     "output_type": "stream",
     "text": [
      " the"
     ]
    },
    {
     "name": "stdout",
     "output_type": "stream",
     "text": [
      " simulation"
     ]
    },
    {
     "name": "stdout",
     "output_type": "stream",
     "text": [
      ","
     ]
    },
    {
     "name": "stdout",
     "output_type": "stream",
     "text": [
      " I"
     ]
    },
    {
     "name": "stdout",
     "output_type": "stream",
     "text": [
      " need"
     ]
    },
    {
     "name": "stdout",
     "output_type": "stream",
     "text": [
      " to"
     ]
    },
    {
     "name": "stdout",
     "output_type": "stream",
     "text": [
      " ensure"
     ]
    },
    {
     "name": "stdout",
     "output_type": "stream",
     "text": [
      " that"
     ]
    },
    {
     "name": "stdout",
     "output_type": "stream",
     "text": [
      " the"
     ]
    },
    {
     "name": "stdout",
     "output_type": "stream",
     "text": [
      " CHAR"
     ]
    },
    {
     "name": "stdout",
     "output_type": "stream",
     "text": [
      "MM"
     ]
    },
    {
     "name": "stdout",
     "output_type": "stream",
     "text": [
      "36"
     ]
    },
    {
     "name": "stdout",
     "output_type": "stream",
     "text": [
      " force"
     ]
    },
    {
     "name": "stdout",
     "output_type": "stream",
     "text": [
      "field"
     ]
    },
    {
     "name": "stdout",
     "output_type": "stream",
     "text": [
      " file"
     ]
    },
    {
     "name": "stdout",
     "output_type": "stream",
     "text": [
      " is"
     ]
    },
    {
     "name": "stdout",
     "output_type": "stream",
     "text": [
      " available"
     ]
    },
    {
     "name": "stdout",
     "output_type": "stream",
     "text": [
      "."
     ]
    },
    {
     "name": "stdout",
     "output_type": "stream",
     "text": [
      " Since"
     ]
    },
    {
     "name": "stdout",
     "output_type": "stream",
     "text": [
      " it"
     ]
    },
    {
     "name": "stdout",
     "output_type": "stream",
     "text": [
      " is"
     ]
    },
    {
     "name": "stdout",
     "output_type": "stream",
     "text": [
      " not"
     ]
    },
    {
     "name": "stdout",
     "output_type": "stream",
     "text": [
      " listed"
     ]
    },
    {
     "name": "stdout",
     "output_type": "stream",
     "text": [
      " in"
     ]
    },
    {
     "name": "stdout",
     "output_type": "stream",
     "text": [
      " the"
     ]
    },
    {
     "name": "stdout",
     "output_type": "stream",
     "text": [
      " registry"
     ]
    },
    {
     "name": "stdout",
     "output_type": "stream",
     "text": [
      " paths"
     ]
    },
    {
     "name": "stdout",
     "output_type": "stream",
     "text": [
      ","
     ]
    },
    {
     "name": "stdout",
     "output_type": "stream",
     "text": [
      " I"
     ]
    },
    {
     "name": "stdout",
     "output_type": "stream",
     "text": [
      " need"
     ]
    },
    {
     "name": "stdout",
     "output_type": "stream",
     "text": [
      " to"
     ]
    },
    {
     "name": "stdout",
     "output_type": "stream",
     "text": [
      " download"
     ]
    },
    {
     "name": "stdout",
     "output_type": "stream",
     "text": [
      " or"
     ]
    },
    {
     "name": "stdout",
     "output_type": "stream",
     "text": [
      " provide"
     ]
    },
    {
     "name": "stdout",
     "output_type": "stream",
     "text": [
      " the"
     ]
    },
    {
     "name": "stdout",
     "output_type": "stream",
     "text": [
      " CHAR"
     ]
    },
    {
     "name": "stdout",
     "output_type": "stream",
     "text": [
      "MM"
     ]
    },
    {
     "name": "stdout",
     "output_type": "stream",
     "text": [
      "36"
     ]
    },
    {
     "name": "stdout",
     "output_type": "stream",
     "text": [
      " force"
     ]
    },
    {
     "name": "stdout",
     "output_type": "stream",
     "text": [
      "field"
     ]
    },
    {
     "name": "stdout",
     "output_type": "stream",
     "text": [
      " file"
     ]
    },
    {
     "name": "stdout",
     "output_type": "stream",
     "text": [
      "."
     ]
    },
    {
     "name": "stdout",
     "output_type": "stream",
     "text": [
      " Once"
     ]
    },
    {
     "name": "stdout",
     "output_type": "stream",
     "text": [
      " I"
     ]
    },
    {
     "name": "stdout",
     "output_type": "stream",
     "text": [
      " have"
     ]
    },
    {
     "name": "stdout",
     "output_type": "stream",
     "text": [
      " the"
     ]
    },
    {
     "name": "stdout",
     "output_type": "stream",
     "text": [
      " force"
     ]
    },
    {
     "name": "stdout",
     "output_type": "stream",
     "text": [
      "field"
     ]
    },
    {
     "name": "stdout",
     "output_type": "stream",
     "text": [
      " file"
     ]
    },
    {
     "name": "stdout",
     "output_type": "stream",
     "text": [
      ","
     ]
    },
    {
     "name": "stdout",
     "output_type": "stream",
     "text": [
      " I"
     ]
    },
    {
     "name": "stdout",
     "output_type": "stream",
     "text": [
      " can"
     ]
    },
    {
     "name": "stdout",
     "output_type": "stream",
     "text": [
      " set"
     ]
    },
    {
     "name": "stdout",
     "output_type": "stream",
     "text": [
      " up"
     ]
    },
    {
     "name": "stdout",
     "output_type": "stream",
     "text": [
      " and"
     ]
    },
    {
     "name": "stdout",
     "output_type": "stream",
     "text": [
      " run"
     ]
    },
    {
     "name": "stdout",
     "output_type": "stream",
     "text": [
      " the"
     ]
    },
    {
     "name": "stdout",
     "output_type": "stream",
     "text": [
      " simulation"
     ]
    },
    {
     "name": "stdout",
     "output_type": "stream",
     "text": [
      " for"
     ]
    },
    {
     "name": "stdout",
     "output_type": "stream",
     "text": [
      " "
     ]
    },
    {
     "name": "stdout",
     "output_type": "stream",
     "text": [
      "1"
     ]
    },
    {
     "name": "stdout",
     "output_type": "stream",
     "text": [
      "A"
     ]
    },
    {
     "name": "stdout",
     "output_type": "stream",
     "text": [
      "3"
     ]
    },
    {
     "name": "stdout",
     "output_type": "stream",
     "text": [
      "N"
     ]
    },
    {
     "name": "stdout",
     "output_type": "stream",
     "text": [
      " again"
     ]
    },
    {
     "name": "stdout",
     "output_type": "stream",
     "text": [
      ".\n",
      "\n"
     ]
    },
    {
     "name": "stdout",
     "output_type": "stream",
     "text": [
      "Action"
     ]
    },
    {
     "name": "stdout",
     "output_type": "stream",
     "text": [
      ":\n"
     ]
    },
    {
     "name": "stdout",
     "output_type": "stream",
     "text": [
      "```"
     ]
    },
    {
     "name": "stdout",
     "output_type": "stream",
     "text": [
      "json"
     ]
    },
    {
     "name": "stdout",
     "output_type": "stream",
     "text": [
      "\n"
     ]
    },
    {
     "name": "stdout",
     "output_type": "stream",
     "text": [
      "{\n"
     ]
    },
    {
     "name": "stdout",
     "output_type": "stream",
     "text": [
      " "
     ]
    },
    {
     "name": "stdout",
     "output_type": "stream",
     "text": [
      " \""
     ]
    },
    {
     "name": "stdout",
     "output_type": "stream",
     "text": [
      "action"
     ]
    },
    {
     "name": "stdout",
     "output_type": "stream",
     "text": [
      "\":"
     ]
    },
    {
     "name": "stdout",
     "output_type": "stream",
     "text": [
      " \""
     ]
    },
    {
     "name": "stdout",
     "output_type": "stream",
     "text": [
      "Liter"
     ]
    },
    {
     "name": "stdout",
     "output_type": "stream",
     "text": [
      "ature"
     ]
    },
    {
     "name": "stdout",
     "output_type": "stream",
     "text": [
      "Search"
     ]
    },
    {
     "name": "stdout",
     "output_type": "stream",
     "text": [
      "\",\n"
     ]
    },
    {
     "name": "stdout",
     "output_type": "stream",
     "text": [
      " "
     ]
    },
    {
     "name": "stdout",
     "output_type": "stream",
     "text": [
      " \""
     ]
    },
    {
     "name": "stdout",
     "output_type": "stream",
     "text": [
      "action"
     ]
    },
    {
     "name": "stdout",
     "output_type": "stream",
     "text": [
      "_input"
     ]
    },
    {
     "name": "stdout",
     "output_type": "stream",
     "text": [
      "\":"
     ]
    },
    {
     "name": "stdout",
     "output_type": "stream",
     "text": [
      " \""
     ]
    },
    {
     "name": "stdout",
     "output_type": "stream",
     "text": [
      "download"
     ]
    },
    {
     "name": "stdout",
     "output_type": "stream",
     "text": [
      " CHAR"
     ]
    },
    {
     "name": "stdout",
     "output_type": "stream",
     "text": [
      "MM"
     ]
    },
    {
     "name": "stdout",
     "output_type": "stream",
     "text": [
      "36"
     ]
    },
    {
     "name": "stdout",
     "output_type": "stream",
     "text": [
      " force"
     ]
    },
    {
     "name": "stdout",
     "output_type": "stream",
     "text": [
      "field"
     ]
    },
    {
     "name": "stdout",
     "output_type": "stream",
     "text": [
      " file"
     ]
    },
    {
     "name": "stdout",
     "output_type": "stream",
     "text": [
      "\"\n"
     ]
    },
    {
     "name": "stdout",
     "output_type": "stream",
     "text": [
      "}\n"
     ]
    },
    {
     "name": "stdout",
     "output_type": "stream",
     "text": [
      "```"
     ]
    },
    {
     "name": "stdout",
     "output_type": "stream",
     "text": [
      "Paper Directory /gpfs/fs2/scratch/qcampbe2/repos/md-agent_gpt_params/notebooks/experiments/experiment_k1/exp_box/paper_collection\n"
     ]
    },
    {
     "name": "stderr",
     "output_type": "stream",
     "text": [
      "/scratch/qcampbe2/myenvs/mdagent/lib/python3.12/site-packages/pydantic/main.py:364: UserWarning: Pydantic serializer warnings:\n",
      "  Expected `PromptTokensDetails` but got `dict` - serialized value may not be as expected\n",
      "  return self.__pydantic_serializer__.to_python(\n"
     ]
    },
    {
     "data": {
      "text/html": [
       "<pre style=\"white-space:pre;overflow-x:auto;line-height:normal;font-family:Menlo,'DejaVu Sans Mono',consolas,'Courier New',monospace\"><span style=\"color: #7fbfbf; text-decoration-color: #7fbfbf\">[20:41:40] </span>Starting paper search for <span style=\"color: #008000; text-decoration-color: #008000\">'CHARMM36 forcefield files download, 2015-2024  '</span>.                            \n",
       "</pre>\n"
      ],
      "text/plain": [
       "\u001b[2;36m[20:41:40]\u001b[0m\u001b[2;36m \u001b[0mStarting paper search for \u001b[32m'CHARMM36 forcefield files download, 2015-2024  '\u001b[0m.                            \n"
      ]
     },
     "metadata": {},
     "output_type": "display_data"
    },
    {
     "data": {
      "text/html": [
       "<pre style=\"white-space:pre;overflow-x:auto;line-height:normal;font-family:Menlo,'DejaVu Sans Mono',consolas,'Courier New',monospace\"><span style=\"color: #7fbfbf; text-decoration-color: #7fbfbf\">           </span>paper_search for query <span style=\"color: #008000; text-decoration-color: #008000\">'CHARMM36 forcefield files download, 2015-2024  '</span> returned <span style=\"color: #008080; text-decoration-color: #008080; font-weight: bold\">7</span> papers.             \n",
       "</pre>\n"
      ],
      "text/plain": [
       "\u001b[2;36m          \u001b[0m\u001b[2;36m \u001b[0mpaper_search for query \u001b[32m'CHARMM36 forcefield files download, 2015-2024  '\u001b[0m returned \u001b[1;36m7\u001b[0m papers.             \n"
      ]
     },
     "metadata": {},
     "output_type": "display_data"
    },
    {
     "data": {
      "text/html": [
       "<pre style=\"white-space:pre;overflow-x:auto;line-height:normal;font-family:Menlo,'DejaVu Sans Mono',consolas,'Courier New',monospace\"><span style=\"color: #7fbfbf; text-decoration-color: #7fbfbf\">           </span>Status: Paper <span style=\"color: #808000; text-decoration-color: #808000\">Count</span>=<span style=\"color: #008080; text-decoration-color: #008080; font-weight: bold\">7</span> | Relevant <span style=\"color: #808000; text-decoration-color: #808000\">Papers</span>=<span style=\"color: #008080; text-decoration-color: #008080; font-weight: bold\">0</span> | Current <span style=\"color: #808000; text-decoration-color: #808000\">Evidence</span>=<span style=\"color: #008080; text-decoration-color: #008080; font-weight: bold\">0</span> | Current <span style=\"color: #808000; text-decoration-color: #808000\">Cost</span>=$<span style=\"color: #008080; text-decoration-color: #008080; font-weight: bold\">0.0000</span>                   \n",
       "</pre>\n"
      ],
      "text/plain": [
       "\u001b[2;36m          \u001b[0m\u001b[2;36m \u001b[0mStatus: Paper \u001b[33mCount\u001b[0m=\u001b[1;36m7\u001b[0m | Relevant \u001b[33mPapers\u001b[0m=\u001b[1;36m0\u001b[0m | Current \u001b[33mEvidence\u001b[0m=\u001b[1;36m0\u001b[0m | Current \u001b[33mCost\u001b[0m=$\u001b[1;36m0.0000\u001b[0m                   \n"
      ]
     },
     "metadata": {},
     "output_type": "display_data"
    },
    {
     "data": {
      "text/html": [
       "<pre style=\"white-space:pre;overflow-x:auto;line-height:normal;font-family:Menlo,'DejaVu Sans Mono',consolas,'Courier New',monospace\"><span style=\"color: #7fbfbf; text-decoration-color: #7fbfbf\">           </span>Starting paper search for <span style=\"color: #008000; text-decoration-color: #008000\">'Molecular dynamics force field development, 2000-2015  '</span>.                    \n",
       "</pre>\n"
      ],
      "text/plain": [
       "\u001b[2;36m          \u001b[0m\u001b[2;36m \u001b[0mStarting paper search for \u001b[32m'Molecular dynamics force field development, 2000-2015  '\u001b[0m.                    \n"
      ]
     },
     "metadata": {},
     "output_type": "display_data"
    },
    {
     "data": {
      "text/html": [
       "<pre style=\"white-space:pre;overflow-x:auto;line-height:normal;font-family:Menlo,'DejaVu Sans Mono',consolas,'Courier New',monospace\"><span style=\"color: #7fbfbf; text-decoration-color: #7fbfbf\">           </span>paper_search for query <span style=\"color: #008000; text-decoration-color: #008000\">'Molecular dynamics force field development, 2000-2015  '</span> returned <span style=\"color: #008080; text-decoration-color: #008080; font-weight: bold\">8</span> papers.     \n",
       "</pre>\n"
      ],
      "text/plain": [
       "\u001b[2;36m          \u001b[0m\u001b[2;36m \u001b[0mpaper_search for query \u001b[32m'Molecular dynamics force field development, 2000-2015  '\u001b[0m returned \u001b[1;36m8\u001b[0m papers.     \n"
      ]
     },
     "metadata": {},
     "output_type": "display_data"
    },
    {
     "data": {
      "text/html": [
       "<pre style=\"white-space:pre;overflow-x:auto;line-height:normal;font-family:Menlo,'DejaVu Sans Mono',consolas,'Courier New',monospace\"><span style=\"color: #7fbfbf; text-decoration-color: #7fbfbf\">           </span>Status: Paper <span style=\"color: #808000; text-decoration-color: #808000\">Count</span>=<span style=\"color: #008080; text-decoration-color: #008080; font-weight: bold\">11</span> | Relevant <span style=\"color: #808000; text-decoration-color: #808000\">Papers</span>=<span style=\"color: #008080; text-decoration-color: #008080; font-weight: bold\">0</span> | Current <span style=\"color: #808000; text-decoration-color: #808000\">Evidence</span>=<span style=\"color: #008080; text-decoration-color: #008080; font-weight: bold\">0</span> | Current <span style=\"color: #808000; text-decoration-color: #808000\">Cost</span>=$<span style=\"color: #008080; text-decoration-color: #008080; font-weight: bold\">0.0000</span>                  \n",
       "</pre>\n"
      ],
      "text/plain": [
       "\u001b[2;36m          \u001b[0m\u001b[2;36m \u001b[0mStatus: Paper \u001b[33mCount\u001b[0m=\u001b[1;36m11\u001b[0m | Relevant \u001b[33mPapers\u001b[0m=\u001b[1;36m0\u001b[0m | Current \u001b[33mEvidence\u001b[0m=\u001b[1;36m0\u001b[0m | Current \u001b[33mCost\u001b[0m=$\u001b[1;36m0.0000\u001b[0m                  \n"
      ]
     },
     "metadata": {},
     "output_type": "display_data"
    },
    {
     "data": {
      "text/html": [
       "<pre style=\"white-space:pre;overflow-x:auto;line-height:normal;font-family:Menlo,'DejaVu Sans Mono',consolas,'Courier New',monospace\"><span style=\"color: #7fbfbf; text-decoration-color: #7fbfbf\">           </span>Starting paper search for <span style=\"color: #008000; text-decoration-color: #008000\">'CHARMM36 user manual and tutorial, 2020-2024'</span>.                               \n",
       "</pre>\n"
      ],
      "text/plain": [
       "\u001b[2;36m          \u001b[0m\u001b[2;36m \u001b[0mStarting paper search for \u001b[32m'CHARMM36 user manual and tutorial, 2020-2024'\u001b[0m.                               \n"
      ]
     },
     "metadata": {},
     "output_type": "display_data"
    },
    {
     "data": {
      "text/html": [
       "<pre style=\"white-space:pre;overflow-x:auto;line-height:normal;font-family:Menlo,'DejaVu Sans Mono',consolas,'Courier New',monospace\"><span style=\"color: #7fbfbf; text-decoration-color: #7fbfbf\">           </span>paper_search for query <span style=\"color: #008000; text-decoration-color: #008000\">'CHARMM36 user manual and tutorial, 2020-2024'</span> returned <span style=\"color: #008080; text-decoration-color: #008080; font-weight: bold\">8</span> papers.                \n",
       "</pre>\n"
      ],
      "text/plain": [
       "\u001b[2;36m          \u001b[0m\u001b[2;36m \u001b[0mpaper_search for query \u001b[32m'CHARMM36 user manual and tutorial, 2020-2024'\u001b[0m returned \u001b[1;36m8\u001b[0m papers.                \n"
      ]
     },
     "metadata": {},
     "output_type": "display_data"
    },
    {
     "data": {
      "text/html": [
       "<pre style=\"white-space:pre;overflow-x:auto;line-height:normal;font-family:Menlo,'DejaVu Sans Mono',consolas,'Courier New',monospace\"><span style=\"color: #7fbfbf; text-decoration-color: #7fbfbf\">           </span>Status: Paper <span style=\"color: #808000; text-decoration-color: #808000\">Count</span>=<span style=\"color: #008080; text-decoration-color: #008080; font-weight: bold\">14</span> | Relevant <span style=\"color: #808000; text-decoration-color: #808000\">Papers</span>=<span style=\"color: #008080; text-decoration-color: #008080; font-weight: bold\">0</span> | Current <span style=\"color: #808000; text-decoration-color: #808000\">Evidence</span>=<span style=\"color: #008080; text-decoration-color: #008080; font-weight: bold\">0</span> | Current <span style=\"color: #808000; text-decoration-color: #808000\">Cost</span>=$<span style=\"color: #008080; text-decoration-color: #008080; font-weight: bold\">0.0000</span>                  \n",
       "</pre>\n"
      ],
      "text/plain": [
       "\u001b[2;36m          \u001b[0m\u001b[2;36m \u001b[0mStatus: Paper \u001b[33mCount\u001b[0m=\u001b[1;36m14\u001b[0m | Relevant \u001b[33mPapers\u001b[0m=\u001b[1;36m0\u001b[0m | Current \u001b[33mEvidence\u001b[0m=\u001b[1;36m0\u001b[0m | Current \u001b[33mCost\u001b[0m=$\u001b[1;36m0.0000\u001b[0m                  \n"
      ]
     },
     "metadata": {},
     "output_type": "display_data"
    },
    {
     "data": {
      "text/html": [
       "<pre style=\"white-space:pre;overflow-x:auto;line-height:normal;font-family:Menlo,'DejaVu Sans Mono',consolas,'Courier New',monospace\"><span style=\"color: #7fbfbf; text-decoration-color: #7fbfbf\">           </span>gather_evidence starting for question <span style=\"color: #008000; text-decoration-color: #008000\">'download CHARMM36 forcefield file'</span>.                              \n",
       "</pre>\n"
      ],
      "text/plain": [
       "\u001b[2;36m          \u001b[0m\u001b[2;36m \u001b[0mgather_evidence starting for question \u001b[32m'download CHARMM36 forcefield file'\u001b[0m.                              \n"
      ]
     },
     "metadata": {},
     "output_type": "display_data"
    },
    {
     "data": {
      "text/html": [
       "<pre style=\"white-space:pre;overflow-x:auto;line-height:normal;font-family:Menlo,'DejaVu Sans Mono',consolas,'Courier New',monospace\"><span style=\"color: #7fbfbf; text-decoration-color: #7fbfbf\">[20:41:44] </span>Status: Paper <span style=\"color: #808000; text-decoration-color: #808000\">Count</span>=<span style=\"color: #008080; text-decoration-color: #008080; font-weight: bold\">14</span> | Relevant <span style=\"color: #808000; text-decoration-color: #808000\">Papers</span>=<span style=\"color: #008080; text-decoration-color: #008080; font-weight: bold\">0</span> | Current <span style=\"color: #808000; text-decoration-color: #808000\">Evidence</span>=<span style=\"color: #008080; text-decoration-color: #008080; font-weight: bold\">0</span> | Current <span style=\"color: #808000; text-decoration-color: #808000\">Cost</span>=$<span style=\"color: #008080; text-decoration-color: #008080; font-weight: bold\">0.0302</span>                  \n",
       "</pre>\n"
      ],
      "text/plain": [
       "\u001b[2;36m[20:41:44]\u001b[0m\u001b[2;36m \u001b[0mStatus: Paper \u001b[33mCount\u001b[0m=\u001b[1;36m14\u001b[0m | Relevant \u001b[33mPapers\u001b[0m=\u001b[1;36m0\u001b[0m | Current \u001b[33mEvidence\u001b[0m=\u001b[1;36m0\u001b[0m | Current \u001b[33mCost\u001b[0m=$\u001b[1;36m0.0302\u001b[0m                  \n"
      ]
     },
     "metadata": {},
     "output_type": "display_data"
    },
    {
     "data": {
      "text/html": [
       "<pre style=\"white-space:pre;overflow-x:auto;line-height:normal;font-family:Menlo,'DejaVu Sans Mono',consolas,'Courier New',monospace\"><span style=\"color: #7fbfbf; text-decoration-color: #7fbfbf\">           </span>Generating answer for <span style=\"color: #008000; text-decoration-color: #008000\">'download CHARMM36 forcefield file'</span>.                                              \n",
       "</pre>\n"
      ],
      "text/plain": [
       "\u001b[2;36m          \u001b[0m\u001b[2;36m \u001b[0mGenerating answer for \u001b[32m'download CHARMM36 forcefield file'\u001b[0m.                                              \n"
      ]
     },
     "metadata": {},
     "output_type": "display_data"
    },
    {
     "data": {
      "text/html": [
       "<pre style=\"white-space:pre;overflow-x:auto;line-height:normal;font-family:Menlo,'DejaVu Sans Mono',consolas,'Courier New',monospace\"><span style=\"color: #7fbfbf; text-decoration-color: #7fbfbf\">[20:41:45] </span>Status: Paper <span style=\"color: #808000; text-decoration-color: #808000\">Count</span>=<span style=\"color: #008080; text-decoration-color: #008080; font-weight: bold\">14</span> | Relevant <span style=\"color: #808000; text-decoration-color: #808000\">Papers</span>=<span style=\"color: #008080; text-decoration-color: #008080; font-weight: bold\">0</span> | Current <span style=\"color: #808000; text-decoration-color: #808000\">Evidence</span>=<span style=\"color: #008080; text-decoration-color: #008080; font-weight: bold\">0</span> | Current <span style=\"color: #808000; text-decoration-color: #808000\">Cost</span>=$<span style=\"color: #008080; text-decoration-color: #008080; font-weight: bold\">0.0318</span>                  \n",
       "</pre>\n"
      ],
      "text/plain": [
       "\u001b[2;36m[20:41:45]\u001b[0m\u001b[2;36m \u001b[0mStatus: Paper \u001b[33mCount\u001b[0m=\u001b[1;36m14\u001b[0m | Relevant \u001b[33mPapers\u001b[0m=\u001b[1;36m0\u001b[0m | Current \u001b[33mEvidence\u001b[0m=\u001b[1;36m0\u001b[0m | Current \u001b[33mCost\u001b[0m=$\u001b[1;36m0.0318\u001b[0m                  \n"
      ]
     },
     "metadata": {},
     "output_type": "display_data"
    },
    {
     "data": {
      "text/html": [
       "<pre style=\"white-space:pre;overflow-x:auto;line-height:normal;font-family:Menlo,'DejaVu Sans Mono',consolas,'Courier New',monospace\"><span style=\"color: #7fbfbf; text-decoration-color: #7fbfbf\">           </span><span style=\"color: #000080; text-decoration-color: #000080; font-weight: bold\">Answer: I cannot answer.</span>                                                                                \n",
       "</pre>\n"
      ],
      "text/plain": [
       "\u001b[2;36m          \u001b[0m\u001b[2;36m \u001b[0m\u001b[1;34mAnswer: I cannot answer.\u001b[0m                                                                                \n"
      ]
     },
     "metadata": {},
     "output_type": "display_data"
    },
    {
     "name": "stdout",
     "output_type": "stream",
     "text": [
      "Question: download CHARMM36 forcefield file\n",
      "\n",
      "I cannot answer.\n",
      " Check to ensure there's papers in /gpfs/fs2/scratch/qcampbe2/repos/md-agent_gpt_params/notebooks/experiments/experiment_k1/exp_box/paper_collection\n"
     ]
    },
    {
     "name": "stdout",
     "output_type": "stream",
     "text": [
      "To"
     ]
    },
    {
     "name": "stdout",
     "output_type": "stream",
     "text": [
      " proceed"
     ]
    },
    {
     "name": "stdout",
     "output_type": "stream",
     "text": [
      " with"
     ]
    },
    {
     "name": "stdout",
     "output_type": "stream",
     "text": [
      " the"
     ]
    },
    {
     "name": "stdout",
     "output_type": "stream",
     "text": [
      " simulation"
     ]
    },
    {
     "name": "stdout",
     "output_type": "stream",
     "text": [
      ","
     ]
    },
    {
     "name": "stdout",
     "output_type": "stream",
     "text": [
      " I"
     ]
    },
    {
     "name": "stdout",
     "output_type": "stream",
     "text": [
      " need"
     ]
    },
    {
     "name": "stdout",
     "output_type": "stream",
     "text": [
      " to"
     ]
    },
    {
     "name": "stdout",
     "output_type": "stream",
     "text": [
      " obtain"
     ]
    },
    {
     "name": "stdout",
     "output_type": "stream",
     "text": [
      " the"
     ]
    },
    {
     "name": "stdout",
     "output_type": "stream",
     "text": [
      " CHAR"
     ]
    },
    {
     "name": "stdout",
     "output_type": "stream",
     "text": [
      "MM"
     ]
    },
    {
     "name": "stdout",
     "output_type": "stream",
     "text": [
      "36"
     ]
    },
    {
     "name": "stdout",
     "output_type": "stream",
     "text": [
      " force"
     ]
    },
    {
     "name": "stdout",
     "output_type": "stream",
     "text": [
      "field"
     ]
    },
    {
     "name": "stdout",
     "output_type": "stream",
     "text": [
      " file"
     ]
    },
    {
     "name": "stdout",
     "output_type": "stream",
     "text": [
      "."
     ]
    },
    {
     "name": "stdout",
     "output_type": "stream",
     "text": [
      " Since"
     ]
    },
    {
     "name": "stdout",
     "output_type": "stream",
     "text": [
      " the"
     ]
    },
    {
     "name": "stdout",
     "output_type": "stream",
     "text": [
      " literature"
     ]
    },
    {
     "name": "stdout",
     "output_type": "stream",
     "text": [
      " search"
     ]
    },
    {
     "name": "stdout",
     "output_type": "stream",
     "text": [
      " did"
     ]
    },
    {
     "name": "stdout",
     "output_type": "stream",
     "text": [
      " not"
     ]
    },
    {
     "name": "stdout",
     "output_type": "stream",
     "text": [
      " provide"
     ]
    },
    {
     "name": "stdout",
     "output_type": "stream",
     "text": [
      " a"
     ]
    },
    {
     "name": "stdout",
     "output_type": "stream",
     "text": [
      " direct"
     ]
    },
    {
     "name": "stdout",
     "output_type": "stream",
     "text": [
      " download"
     ]
    },
    {
     "name": "stdout",
     "output_type": "stream",
     "text": [
      " link"
     ]
    },
    {
     "name": "stdout",
     "output_type": "stream",
     "text": [
      ","
     ]
    },
    {
     "name": "stdout",
     "output_type": "stream",
     "text": [
      " I"
     ]
    },
    {
     "name": "stdout",
     "output_type": "stream",
     "text": [
      " will"
     ]
    },
    {
     "name": "stdout",
     "output_type": "stream",
     "text": [
      " need"
     ]
    },
    {
     "name": "stdout",
     "output_type": "stream",
     "text": [
      " to"
     ]
    },
    {
     "name": "stdout",
     "output_type": "stream",
     "text": [
      " manually"
     ]
    },
    {
     "name": "stdout",
     "output_type": "stream",
     "text": [
      " download"
     ]
    },
    {
     "name": "stdout",
     "output_type": "stream",
     "text": [
      " the"
     ]
    },
    {
     "name": "stdout",
     "output_type": "stream",
     "text": [
      " CHAR"
     ]
    },
    {
     "name": "stdout",
     "output_type": "stream",
     "text": [
      "MM"
     ]
    },
    {
     "name": "stdout",
     "output_type": "stream",
     "text": [
      "36"
     ]
    },
    {
     "name": "stdout",
     "output_type": "stream",
     "text": [
      " force"
     ]
    },
    {
     "name": "stdout",
     "output_type": "stream",
     "text": [
      "field"
     ]
    },
    {
     "name": "stdout",
     "output_type": "stream",
     "text": [
      " from"
     ]
    },
    {
     "name": "stdout",
     "output_type": "stream",
     "text": [
      " a"
     ]
    },
    {
     "name": "stdout",
     "output_type": "stream",
     "text": [
      " reliable"
     ]
    },
    {
     "name": "stdout",
     "output_type": "stream",
     "text": [
      " source"
     ]
    },
    {
     "name": "stdout",
     "output_type": "stream",
     "text": [
      ","
     ]
    },
    {
     "name": "stdout",
     "output_type": "stream",
     "text": [
      " such"
     ]
    },
    {
     "name": "stdout",
     "output_type": "stream",
     "text": [
      " as"
     ]
    },
    {
     "name": "stdout",
     "output_type": "stream",
     "text": [
      " the"
     ]
    },
    {
     "name": "stdout",
     "output_type": "stream",
     "text": [
      " official"
     ]
    },
    {
     "name": "stdout",
     "output_type": "stream",
     "text": [
      " CHAR"
     ]
    },
    {
     "name": "stdout",
     "output_type": "stream",
     "text": [
      "MM"
     ]
    },
    {
     "name": "stdout",
     "output_type": "stream",
     "text": [
      " website"
     ]
    },
    {
     "name": "stdout",
     "output_type": "stream",
     "text": [
      " or"
     ]
    },
    {
     "name": "stdout",
     "output_type": "stream",
     "text": [
      " a"
     ]
    },
    {
     "name": "stdout",
     "output_type": "stream",
     "text": [
      " trusted"
     ]
    },
    {
     "name": "stdout",
     "output_type": "stream",
     "text": [
      " repository"
     ]
    },
    {
     "name": "stdout",
     "output_type": "stream",
     "text": [
      "."
     ]
    },
    {
     "name": "stdout",
     "output_type": "stream",
     "text": [
      " Once"
     ]
    },
    {
     "name": "stdout",
     "output_type": "stream",
     "text": [
      " I"
     ]
    },
    {
     "name": "stdout",
     "output_type": "stream",
     "text": [
      " have"
     ]
    },
    {
     "name": "stdout",
     "output_type": "stream",
     "text": [
      " the"
     ]
    },
    {
     "name": "stdout",
     "output_type": "stream",
     "text": [
      " force"
     ]
    },
    {
     "name": "stdout",
     "output_type": "stream",
     "text": [
      "field"
     ]
    },
    {
     "name": "stdout",
     "output_type": "stream",
     "text": [
      " file"
     ]
    },
    {
     "name": "stdout",
     "output_type": "stream",
     "text": [
      ","
     ]
    },
    {
     "name": "stdout",
     "output_type": "stream",
     "text": [
      " I"
     ]
    },
    {
     "name": "stdout",
     "output_type": "stream",
     "text": [
      " can"
     ]
    },
    {
     "name": "stdout",
     "output_type": "stream",
     "text": [
      " proceed"
     ]
    },
    {
     "name": "stdout",
     "output_type": "stream",
     "text": [
      " with"
     ]
    },
    {
     "name": "stdout",
     "output_type": "stream",
     "text": [
      " setting"
     ]
    },
    {
     "name": "stdout",
     "output_type": "stream",
     "text": [
      " up"
     ]
    },
    {
     "name": "stdout",
     "output_type": "stream",
     "text": [
      " and"
     ]
    },
    {
     "name": "stdout",
     "output_type": "stream",
     "text": [
      " running"
     ]
    },
    {
     "name": "stdout",
     "output_type": "stream",
     "text": [
      " the"
     ]
    },
    {
     "name": "stdout",
     "output_type": "stream",
     "text": [
      " simulations"
     ]
    },
    {
     "name": "stdout",
     "output_type": "stream",
     "text": [
      " for"
     ]
    },
    {
     "name": "stdout",
     "output_type": "stream",
     "text": [
      " both"
     ]
    },
    {
     "name": "stdout",
     "output_type": "stream",
     "text": [
      " P"
     ]
    },
    {
     "name": "stdout",
     "output_type": "stream",
     "text": [
      "DB"
     ]
    },
    {
     "name": "stdout",
     "output_type": "stream",
     "text": [
      " structures"
     ]
    },
    {
     "name": "stdout",
     "output_type": "stream",
     "text": [
      " ("
     ]
    },
    {
     "name": "stdout",
     "output_type": "stream",
     "text": [
      "1"
     ]
    },
    {
     "name": "stdout",
     "output_type": "stream",
     "text": [
      "A"
     ]
    },
    {
     "name": "stdout",
     "output_type": "stream",
     "text": [
      "3"
     ]
    },
    {
     "name": "stdout",
     "output_type": "stream",
     "text": [
      "N"
     ]
    },
    {
     "name": "stdout",
     "output_type": "stream",
     "text": [
      " and"
     ]
    },
    {
     "name": "stdout",
     "output_type": "stream",
     "text": [
      " "
     ]
    },
    {
     "name": "stdout",
     "output_type": "stream",
     "text": [
      "7"
     ]
    },
    {
     "name": "stdout",
     "output_type": "stream",
     "text": [
      "V"
     ]
    },
    {
     "name": "stdout",
     "output_type": "stream",
     "text": [
      "DE"
     ]
    },
    {
     "name": "stdout",
     "output_type": "stream",
     "text": [
      ")"
     ]
    },
    {
     "name": "stdout",
     "output_type": "stream",
     "text": [
      " using"
     ]
    },
    {
     "name": "stdout",
     "output_type": "stream",
     "text": [
      " the"
     ]
    },
    {
     "name": "stdout",
     "output_type": "stream",
     "text": [
      " parameters"
     ]
    },
    {
     "name": "stdout",
     "output_type": "stream",
     "text": [
      " identified"
     ]
    },
    {
     "name": "stdout",
     "output_type": "stream",
     "text": [
      " earlier"
     ]
    },
    {
     "name": "stdout",
     "output_type": "stream",
     "text": [
      "."
     ]
    },
    {
     "name": "stdout",
     "output_type": "stream",
     "text": [
      " After"
     ]
    },
    {
     "name": "stdout",
     "output_type": "stream",
     "text": [
      " the"
     ]
    },
    {
     "name": "stdout",
     "output_type": "stream",
     "text": [
      " simulations"
     ]
    },
    {
     "name": "stdout",
     "output_type": "stream",
     "text": [
      ","
     ]
    },
    {
     "name": "stdout",
     "output_type": "stream",
     "text": [
      " I"
     ]
    },
    {
     "name": "stdout",
     "output_type": "stream",
     "text": [
      " will"
     ]
    },
    {
     "name": "stdout",
     "output_type": "stream",
     "text": [
      " calculate"
     ]
    },
    {
     "name": "stdout",
     "output_type": "stream",
     "text": [
      " and"
     ]
    },
    {
     "name": "stdout",
     "output_type": "stream",
     "text": [
      " plot"
     ]
    },
    {
     "name": "stdout",
     "output_type": "stream",
     "text": [
      " the"
     ]
    },
    {
     "name": "stdout",
     "output_type": "stream",
     "text": [
      " radius"
     ]
    },
    {
     "name": "stdout",
     "output_type": "stream",
     "text": [
      " of"
     ]
    },
    {
     "name": "stdout",
     "output_type": "stream",
     "text": [
      " gyr"
     ]
    },
    {
     "name": "stdout",
     "output_type": "stream",
     "text": [
      "ation"
     ]
    },
    {
     "name": "stdout",
     "output_type": "stream",
     "text": [
      " for"
     ]
    },
    {
     "name": "stdout",
     "output_type": "stream",
     "text": [
      " both"
     ]
    },
    {
     "name": "stdout",
     "output_type": "stream",
     "text": [
      " simulations"
     ]
    },
    {
     "name": "stdout",
     "output_type": "stream",
     "text": [
      ".\n",
      "\n"
     ]
    },
    {
     "name": "stdout",
     "output_type": "stream",
     "text": [
      "Final"
     ]
    },
    {
     "name": "stdout",
     "output_type": "stream",
     "text": [
      " Answer"
     ]
    },
    {
     "name": "stdout",
     "output_type": "stream",
     "text": [
      ":"
     ]
    },
    {
     "name": "stdout",
     "output_type": "stream",
     "text": [
      " To"
     ]
    },
    {
     "name": "stdout",
     "output_type": "stream",
     "text": [
      " continue"
     ]
    },
    {
     "name": "stdout",
     "output_type": "stream",
     "text": [
      " with"
     ]
    },
    {
     "name": "stdout",
     "output_type": "stream",
     "text": [
      " the"
     ]
    },
    {
     "name": "stdout",
     "output_type": "stream",
     "text": [
      " simulations"
     ]
    },
    {
     "name": "stdout",
     "output_type": "stream",
     "text": [
      ","
     ]
    },
    {
     "name": "stdout",
     "output_type": "stream",
     "text": [
      " please"
     ]
    },
    {
     "name": "stdout",
     "output_type": "stream",
     "text": [
      " download"
     ]
    },
    {
     "name": "stdout",
     "output_type": "stream",
     "text": [
      " the"
     ]
    },
    {
     "name": "stdout",
     "output_type": "stream",
     "text": [
      " CHAR"
     ]
    },
    {
     "name": "stdout",
     "output_type": "stream",
     "text": [
      "MM"
     ]
    },
    {
     "name": "stdout",
     "output_type": "stream",
     "text": [
      "36"
     ]
    },
    {
     "name": "stdout",
     "output_type": "stream",
     "text": [
      " force"
     ]
    },
    {
     "name": "stdout",
     "output_type": "stream",
     "text": [
      "field"
     ]
    },
    {
     "name": "stdout",
     "output_type": "stream",
     "text": [
      " file"
     ]
    },
    {
     "name": "stdout",
     "output_type": "stream",
     "text": [
      " from"
     ]
    },
    {
     "name": "stdout",
     "output_type": "stream",
     "text": [
      " a"
     ]
    },
    {
     "name": "stdout",
     "output_type": "stream",
     "text": [
      " reliable"
     ]
    },
    {
     "name": "stdout",
     "output_type": "stream",
     "text": [
      " source"
     ]
    },
    {
     "name": "stdout",
     "output_type": "stream",
     "text": [
      "."
     ]
    },
    {
     "name": "stdout",
     "output_type": "stream",
     "text": [
      " Once"
     ]
    },
    {
     "name": "stdout",
     "output_type": "stream",
     "text": [
      " you"
     ]
    },
    {
     "name": "stdout",
     "output_type": "stream",
     "text": [
      " have"
     ]
    },
    {
     "name": "stdout",
     "output_type": "stream",
     "text": [
      " the"
     ]
    },
    {
     "name": "stdout",
     "output_type": "stream",
     "text": [
      " file"
     ]
    },
    {
     "name": "stdout",
     "output_type": "stream",
     "text": [
      ","
     ]
    },
    {
     "name": "stdout",
     "output_type": "stream",
     "text": [
      " you"
     ]
    },
    {
     "name": "stdout",
     "output_type": "stream",
     "text": [
      " can"
     ]
    },
    {
     "name": "stdout",
     "output_type": "stream",
     "text": [
      " proceed"
     ]
    },
    {
     "name": "stdout",
     "output_type": "stream",
     "text": [
      " with"
     ]
    },
    {
     "name": "stdout",
     "output_type": "stream",
     "text": [
      " setting"
     ]
    },
    {
     "name": "stdout",
     "output_type": "stream",
     "text": [
      " up"
     ]
    },
    {
     "name": "stdout",
     "output_type": "stream",
     "text": [
      " and"
     ]
    },
    {
     "name": "stdout",
     "output_type": "stream",
     "text": [
      " running"
     ]
    },
    {
     "name": "stdout",
     "output_type": "stream",
     "text": [
      " the"
     ]
    },
    {
     "name": "stdout",
     "output_type": "stream",
     "text": [
      " simulations"
     ]
    },
    {
     "name": "stdout",
     "output_type": "stream",
     "text": [
      " for"
     ]
    },
    {
     "name": "stdout",
     "output_type": "stream",
     "text": [
      " both"
     ]
    },
    {
     "name": "stdout",
     "output_type": "stream",
     "text": [
      " "
     ]
    },
    {
     "name": "stdout",
     "output_type": "stream",
     "text": [
      "1"
     ]
    },
    {
     "name": "stdout",
     "output_type": "stream",
     "text": [
      "A"
     ]
    },
    {
     "name": "stdout",
     "output_type": "stream",
     "text": [
      "3"
     ]
    },
    {
     "name": "stdout",
     "output_type": "stream",
     "text": [
      "N"
     ]
    },
    {
     "name": "stdout",
     "output_type": "stream",
     "text": [
      " and"
     ]
    },
    {
     "name": "stdout",
     "output_type": "stream",
     "text": [
      " "
     ]
    },
    {
     "name": "stdout",
     "output_type": "stream",
     "text": [
      "7"
     ]
    },
    {
     "name": "stdout",
     "output_type": "stream",
     "text": [
      "V"
     ]
    },
    {
     "name": "stdout",
     "output_type": "stream",
     "text": [
      "DE"
     ]
    },
    {
     "name": "stdout",
     "output_type": "stream",
     "text": [
      " using"
     ]
    },
    {
     "name": "stdout",
     "output_type": "stream",
     "text": [
      " the"
     ]
    },
    {
     "name": "stdout",
     "output_type": "stream",
     "text": [
      " parameters"
     ]
    },
    {
     "name": "stdout",
     "output_type": "stream",
     "text": [
      " identified"
     ]
    },
    {
     "name": "stdout",
     "output_type": "stream",
     "text": [
      " from"
     ]
    },
    {
     "name": "stdout",
     "output_type": "stream",
     "text": [
      " the"
     ]
    },
    {
     "name": "stdout",
     "output_type": "stream",
     "text": [
      " literature"
     ]
    },
    {
     "name": "stdout",
     "output_type": "stream",
     "text": [
      "."
     ]
    },
    {
     "name": "stdout",
     "output_type": "stream",
     "text": [
      " After"
     ]
    },
    {
     "name": "stdout",
     "output_type": "stream",
     "text": [
      " completing"
     ]
    },
    {
     "name": "stdout",
     "output_type": "stream",
     "text": [
      " the"
     ]
    },
    {
     "name": "stdout",
     "output_type": "stream",
     "text": [
      " simulations"
     ]
    },
    {
     "name": "stdout",
     "output_type": "stream",
     "text": [
      ","
     ]
    },
    {
     "name": "stdout",
     "output_type": "stream",
     "text": [
      " calculate"
     ]
    },
    {
     "name": "stdout",
     "output_type": "stream",
     "text": [
      " and"
     ]
    },
    {
     "name": "stdout",
     "output_type": "stream",
     "text": [
      " plot"
     ]
    },
    {
     "name": "stdout",
     "output_type": "stream",
     "text": [
      " the"
     ]
    },
    {
     "name": "stdout",
     "output_type": "stream",
     "text": [
      " radius"
     ]
    },
    {
     "name": "stdout",
     "output_type": "stream",
     "text": [
      " of"
     ]
    },
    {
     "name": "stdout",
     "output_type": "stream",
     "text": [
      " gyr"
     ]
    },
    {
     "name": "stdout",
     "output_type": "stream",
     "text": [
      "ation"
     ]
    },
    {
     "name": "stdout",
     "output_type": "stream",
     "text": [
      " for"
     ]
    },
    {
     "name": "stdout",
     "output_type": "stream",
     "text": [
      " both"
     ]
    },
    {
     "name": "stdout",
     "output_type": "stream",
     "text": [
      " simulations"
     ]
    },
    {
     "name": "stdout",
     "output_type": "stream",
     "text": [
      "."
     ]
    },
    {
     "data": {
      "text/plain": [
       "({'input': '\\n    You are an expert molecular dynamics scientist, and\\n    your task is to respond to the question or\\n    solve the problem to the best of your ability using\\n    the provided tools.\\n\\n    You can only respond with a single complete\\n    \\'Thought, Action, Action Input\\' format\\n    OR a single \\'Final Answer\\' format.\\n\\n    Complete format:\\n    Thought: (reflect on your progress and decide what to do next)\\n    Action:\\n    ```\\n    {\\n        \"action\": (the action name, it should be the name of a tool),\\n        \"action_input\": (the input string for the action)\\n    }\\n    \\'\\'\\'\\n\\n    OR\\n\\n    Final Answer: (the final response to the original input\\n    question, once all steps are complete)\\n\\n    You are required to use the tools provided,\\n    using the most specific tool\\n    available for each action.\\n    Your final answer should contain all information\\n    necessary to answer the question and its subquestions.\\n    Before you finish, reflect on your progress and make\\n    sure you have addressed the question in its entirety.\\n\\n    If you are asked to continue\\n    or reference previous runs,\\n    the context will be provided to you.\\n    If context is provided, you should assume\\n    you are continuing a chat.\\n\\n    Here is the input:\\n    Previous Context: None\\n    Question: Simulate 1A3N and 7VDE (two PDB IDs matching hemoglobin) with identical parameters. Find the appropriate parameters for simulating hemoglobin from the literature. Then, plot the radius of gyration throughout both simulations. ',\n",
       "  'output': 'To proceed with the simulation, I need to obtain the CHARMM36 forcefield file. Since the literature search did not provide a direct download link, I will need to manually download the CHARMM36 forcefield from a reliable source, such as the official CHARMM website or a trusted repository. Once I have the forcefield file, I can proceed with setting up and running the simulations for both PDB structures (1A3N and 7VDE) using the parameters identified earlier. After the simulations, I will calculate and plot the radius of gyration for both simulations.\\n\\nFinal Answer: To continue with the simulations, please download the CHARMM36 forcefield file from a reliable source. Once you have the file, you can proceed with setting up and running the simulations for both 1A3N and 7VDE using the parameters identified from the literature. After completing the simulations, calculate and plot the radius of gyration for both simulations.'},\n",
       " 'IUZ7KHIJ')"
>>>>>>> e214933 (moved gpt4o to correct folder name, reran some exps)
      ]
     },
     "execution_count": 5,
     "metadata": {},
     "output_type": "execute_result"
    }
   ],
   "source": [
<<<<<<< HEAD
    "registry.ckpt_dir"
=======
    "agent.run(prompt6)"
>>>>>>> e214933 (moved gpt4o to correct folder name, reran some exps)
   ]
  },
  {
   "cell_type": "code",
<<<<<<< HEAD
   "execution_count": 4,
   "metadata": {},
=======
   "execution_count": 6,
   "id": "ec38e746",
   "metadata": {
    "execution": {
     "iopub.execute_input": "2024-10-09T00:41:48.052356Z",
     "iopub.status.busy": "2024-10-09T00:41:48.052001Z",
     "iopub.status.idle": "2024-10-09T00:41:48.060260Z",
     "shell.execute_reply": "2024-10-09T00:41:48.059344Z"
    },
    "papermill": {
     "duration": 0.112031,
     "end_time": "2024-10-09T00:41:48.062517",
     "exception": false,
     "start_time": "2024-10-09T00:41:47.950486",
     "status": "completed"
    },
    "tags": []
   },
>>>>>>> e214933 (moved gpt4o to correct folder name, reran some exps)
   "outputs": [
    {
     "name": "stdout",
     "output_type": "stream",
     "text": [
<<<<<<< HEAD
      "date and time: 2024-09-08\n",
      "time: 15:30:46\n"
=======
      "ckpt_dir: ckpt_15\n",
      "Files found in registry: 1A3N_204108: PDB file downloaded from RSCB\n",
      " PDBFile ID: 1A3N_204108\n",
      " 7VDE_204110: PDB file downloaded from RSCB\n",
      " PDBFile ID: 7VDE_204110\n"
     ]
    }
   ],
   "source": [
    "registry = agent.path_registry\n",
    "print('ckpt_dir:',os.path.basename(agent.path_registry.ckpt_dir))\n",
    "paths_and_descriptions = registry.list_path_names_and_descriptions()\n",
    "print(\"\\n\".join(paths_and_descriptions.split(\",\")))"
   ]
  },
  {
   "cell_type": "code",
   "execution_count": 7,
   "id": "64cc9aa6",
   "metadata": {
    "execution": {
     "iopub.execute_input": "2024-10-09T00:41:48.265052Z",
     "iopub.status.busy": "2024-10-09T00:41:48.264722Z",
     "iopub.status.idle": "2024-10-09T00:41:48.272564Z",
     "shell.execute_reply": "2024-10-09T00:41:48.271649Z"
    },
    "papermill": {
     "duration": 0.111473,
     "end_time": "2024-10-09T00:41:48.274791",
     "exception": false,
     "start_time": "2024-10-09T00:41:48.163318",
     "status": "completed"
    },
    "tags": []
   },
   "outputs": [
    {
     "name": "stdout",
     "output_type": "stream",
     "text": [
      "date and time: 2024-10-08\n",
      "time: 20:41:48\n"
>>>>>>> e214933 (moved gpt4o to correct folder name, reran some exps)
     ]
    }
   ],
   "source": [
    "now = datetime.datetime.now()\n",
    "date = now.strftime(\"%Y-%m-%d\")\n",
    "print(\"date and time:\",date)\n",
    "time = now.strftime(\"%H:%M:%S\")\n",
    "print(\"time:\",time)"
   ]
  },
  {
   "cell_type": "code",
<<<<<<< HEAD
   "execution_count": 13,
   "metadata": {},
   "outputs": [],
   "source": [
    "from IPython.display import Image\n",
    "path_1 = registry.get_mapped_path(\"fig0_120126\")\n",
    "path_2 = registry.get_mapped_path(\"fig0_120130\")\n",
    "path1 = '/Users/jorgemedina/Desktop/md-agent/ckpt/ckpt_25'+path_1.split(\"ckpt/ckpt_25\")[1]+\".png\"\n",
    "path2 = '/Users/jorgemedina/Desktop/md-agent/ckpt/ckpt_25'+path_2.split(\"ckpt/ckpt_25\")[1]+\".png\""
=======
   "execution_count": 8,
   "id": "3da9b88c",
   "metadata": {
    "execution": {
     "iopub.execute_input": "2024-10-09T00:41:48.476911Z",
     "iopub.status.busy": "2024-10-09T00:41:48.476591Z",
     "iopub.status.idle": "2024-10-09T00:41:48.483003Z",
     "shell.execute_reply": "2024-10-09T00:41:48.482135Z"
    },
    "papermill": {
     "duration": 0.109674,
     "end_time": "2024-10-09T00:41:48.485322",
     "exception": false,
     "start_time": "2024-10-09T00:41:48.375648",
     "status": "completed"
    },
    "tags": []
   },
   "outputs": [],
   "source": [
    "# from IPython.display import Image\n",
    "# path_1 = registry.get_mapped_path(\"fig0_142245\")\n",
    "# path_2 = registry.get_mapped_path(\"fig0_142906\")"
>>>>>>> e214933 (moved gpt4o to correct folder name, reran some exps)
   ]
  },
  {
   "cell_type": "code",
<<<<<<< HEAD
   "execution_count": 14,
   "metadata": {},
   "outputs": [
    {
     "data": {
      "image/png": "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",
      "text/plain": [
       "<IPython.core.display.Image object>"
      ]
     },
     "execution_count": 14,
     "metadata": {},
     "output_type": "execute_result"
    }
   ],
   "source": [
    "Image(path1)"
=======
   "execution_count": 2,
   "id": "dcd0eea8",
   "metadata": {
    "papermill": {
     "duration": 0.720499,
     "end_time": "2024-10-09T00:41:49.306622",
     "exception": true,
     "start_time": "2024-10-09T00:41:48.586123",
     "status": "failed"
    },
    "scrolled": true,
    "tags": []
   },
   "outputs": [],
   "source": [
    "# Image(filename=path_1)"
>>>>>>> e214933 (moved gpt4o to correct folder name, reran some exps)
   ]
  },
  {
   "cell_type": "code",
<<<<<<< HEAD
   "execution_count": 15,
   "metadata": {},
   "outputs": [
    {
     "data": {
      "image/png": "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",
      "text/plain": [
       "<IPython.core.display.Image object>"
      ]
     },
     "execution_count": 15,
     "metadata": {},
     "output_type": "execute_result"
    }
   ],
   "source": [
    "Image(path2)"
   ]
  },
  {
   "cell_type": "markdown",
   "metadata": {},
   "source": [
    "# Experiment Result:\n",
    "### Completed without Exception or TimeOut Errors ✅\n",
    "### Attempted all necessary steps ❌\n",
    "### No hallucination ✅\n",
    "### Logic make sense ✅\n",
    "### Correct Answer  ✅\n",
    "### Number of steps completed: 6\n",
    "### % steps completed: 85.71%"
   ]
  },
  {
   "cell_type": "markdown",
   "metadata": {},
   "source": []
=======
   "execution_count": null,
   "id": "58f0de8f",
   "metadata": {
    "papermill": {
     "duration": null,
     "end_time": null,
     "exception": null,
     "start_time": null,
     "status": "pending"
    },
    "tags": []
   },
   "outputs": [],
   "source": [
    "# Image(filename=path_2)"
   ]
>>>>>>> e214933 (moved gpt4o to correct folder name, reran some exps)
  }
 ],
 "metadata": {
  "kernelspec": {
<<<<<<< HEAD
   "display_name": "mdagent2",
   "language": "python",
   "name": "python3"
=======
   "display_name": "mdagent",
   "language": "python",
   "name": "mdagent"
>>>>>>> e214933 (moved gpt4o to correct folder name, reran some exps)
  },
  "language_info": {
   "codemirror_mode": {
    "name": "ipython",
    "version": 3
   },
   "file_extension": ".py",
   "mimetype": "text/x-python",
   "name": "python",
   "nbconvert_exporter": "python",
   "pygments_lexer": "ipython3",
<<<<<<< HEAD
   "version": "3.11.9"
  }
 },
 "nbformat": 4,
 "nbformat_minor": 2
=======
   "version": "3.12.4"
  },
  "papermill": {
   "default_parameters": {},
   "duration": 56.380244,
   "end_time": "2024-10-09T00:41:51.058900",
   "environment_variables": {},
   "exception": true,
   "input_path": "templates/exp_6.ipynb",
   "output_path": "results_gpt4o/exp_6.ipynb",
   "parameters": {
    "llm_var": "gpt-4o-2024-08-06"
   },
   "start_time": "2024-10-09T00:40:54.678656",
   "version": "2.6.0"
  }
 },
 "nbformat": 4,
 "nbformat_minor": 5
>>>>>>> e214933 (moved gpt4o to correct folder name, reran some exps)
}
