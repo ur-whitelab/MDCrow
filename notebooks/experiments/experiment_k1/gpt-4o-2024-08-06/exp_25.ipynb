{
 "cells": [
  {
   "cell_type": "code",
   "execution_count": 1,
<<<<<<< HEAD
<<<<<<< HEAD
   "metadata": {},
=======
=======
>>>>>>> 4562069f3359483c8d4e9b21c15e6f636c15ff4e
   "id": "0df8cd16",
   "metadata": {
    "execution": {
     "iopub.execute_input": "2024-10-18T03:39:24.167563Z",
     "iopub.status.busy": "2024-10-18T03:39:24.167304Z",
     "iopub.status.idle": "2024-10-18T03:39:46.616916Z",
     "shell.execute_reply": "2024-10-18T03:39:46.616183Z"
    },
    "papermill": {
     "duration": 22.458495,
     "end_time": "2024-10-18T03:39:46.619237",
     "exception": false,
     "start_time": "2024-10-18T03:39:24.160742",
     "status": "completed"
    },
    "tags": []
   },
<<<<<<< HEAD
>>>>>>> 417d712 (exp25 for gpt4o)
=======
>>>>>>> 4562069f3359483c8d4e9b21c15e6f636c15ff4e
   "outputs": [],
   "source": [
    "import datetime\n",
    "import os\n",
<<<<<<< HEAD
<<<<<<< HEAD
    "from mdagent import MDAgent\n",
    "import matplotlib.pyplot as plt"
=======
    "from mdagent import MDAgent"
>>>>>>> 417d712 (exp25 for gpt4o)
=======
    "from mdagent import MDAgent"
>>>>>>> 4562069f3359483c8d4e9b21c15e6f636c15ff4e
   ]
  },
  {
   "cell_type": "code",
<<<<<<< HEAD
<<<<<<< HEAD
   "execution_count": 21,
   "metadata": {},
=======
=======
>>>>>>> 4562069f3359483c8d4e9b21c15e6f636c15ff4e
   "execution_count": 3,
   "id": "b1841b31",
   "metadata": {
    "execution": {
     "iopub.execute_input": "2024-10-18T03:39:46.643434Z",
     "iopub.status.busy": "2024-10-18T03:39:46.643175Z",
     "iopub.status.idle": "2024-10-18T03:39:46.832232Z",
     "shell.execute_reply": "2024-10-18T03:39:46.831503Z"
    },
    "papermill": {
     "duration": 0.195161,
     "end_time": "2024-10-18T03:39:46.834351",
     "exception": false,
     "start_time": "2024-10-18T03:39:46.639190",
     "status": "completed"
    },
    "tags": [
     "injected-parameters"
    ]
   },
   "outputs": [],
   "source": [
    "# Parameters\n",
    "llm_var = \"gpt-4o-2024-08-06\"\n"
   ]
  },
  {
   "cell_type": "code",
   "execution_count": 4,
   "id": "f93bb5a1",
   "metadata": {
    "execution": {
     "iopub.execute_input": "2024-10-18T03:39:46.842185Z",
     "iopub.status.busy": "2024-10-18T03:39:46.841926Z",
     "iopub.status.idle": "2024-10-18T03:39:46.925193Z",
     "shell.execute_reply": "2024-10-18T03:39:46.924529Z"
    },
    "papermill": {
     "duration": 0.089358,
     "end_time": "2024-10-18T03:39:46.927159",
     "exception": false,
     "start_time": "2024-10-18T03:39:46.837801",
     "status": "completed"
    },
    "tags": []
   },
<<<<<<< HEAD
>>>>>>> 417d712 (exp25 for gpt4o)
=======
>>>>>>> 4562069f3359483c8d4e9b21c15e6f636c15ff4e
   "outputs": [
    {
     "name": "stdout",
     "output_type": "stream",
     "text": [
<<<<<<< HEAD
<<<<<<< HEAD
      "date and time: 2024-09-10\n",
      "time: 12:15:29\n",
      "LLM:  gpt-4o-2024-05-13 \n",
=======
      "date and time: 2024-10-17\n",
      "time: 23:39:46\n",
      "LLM:  gpt-4o-2024-08-06 \n",
>>>>>>> 417d712 (exp25 for gpt4o)
=======
      "date and time: 2024-10-17\n",
      "time: 23:39:46\n",
      "LLM:  gpt-4o-2024-08-06 \n",
>>>>>>> 4562069f3359483c8d4e9b21c15e6f636c15ff4e
      "Temperature:  0.1\n"
     ]
    }
   ],
   "source": [
    "prompt25 = \"Simulate 1L6X at pH 5.0 and 8.8, then analyze the SASA and RMSF under both pH conditions.\"\n",
<<<<<<< HEAD
<<<<<<< HEAD
    "llm_var = \"gpt-4o-2024-05-13\"\n",
    "tools = \"all\"\n",
    "agent = MDAgent(agent_type=\"Structured\", model=llm_var, top_k_tools=tools,ckpt_dir='ckpt_301')\n",
=======
    "tools = \"all\"\n",
    "agent = MDAgent(agent_type=\"Structured\", model=llm_var, top_k_tools=tools)\n",
>>>>>>> 417d712 (exp25 for gpt4o)
=======
    "tools = \"all\"\n",
    "agent = MDAgent(agent_type=\"Structured\", model=llm_var, top_k_tools=tools)\n",
>>>>>>> 4562069f3359483c8d4e9b21c15e6f636c15ff4e
    "now = datetime.datetime.now()\n",
    "date = now.strftime(\"%Y-%m-%d\")\n",
    "print(\"date and time:\",date)\n",
    "time = now.strftime(\"%H:%M:%S\")\n",
    "print(\"time:\",time)\n",
    "print(\"LLM: \",agent.llm.model_name,\"\\nTemperature: \",agent.llm.temperature)"
   ]
  },
  {
   "cell_type": "code",
<<<<<<< HEAD
<<<<<<< HEAD
   "execution_count": 3,
   "metadata": {},
=======
=======
>>>>>>> 4562069f3359483c8d4e9b21c15e6f636c15ff4e
   "execution_count": 5,
   "id": "89f40943",
   "metadata": {
    "execution": {
     "iopub.execute_input": "2024-10-18T03:39:46.935083Z",
     "iopub.status.busy": "2024-10-18T03:39:46.934822Z",
     "iopub.status.idle": "2024-10-18T03:49:51.351103Z",
     "shell.execute_reply": "2024-10-18T03:49:51.350265Z"
    },
    "papermill": {
     "duration": 604.422688,
     "end_time": "2024-10-18T03:49:51.353185",
     "exception": false,
     "start_time": "2024-10-18T03:39:46.930497",
     "status": "completed"
    },
    "tags": []
   },
<<<<<<< HEAD
>>>>>>> 417d712 (exp25 for gpt4o)
=======
>>>>>>> 4562069f3359483c8d4e9b21c15e6f636c15ff4e
   "outputs": [
    {
     "name": "stdout",
     "output_type": "stream",
     "text": [
<<<<<<< HEAD
<<<<<<< HEAD
      "Thought: To simulate the protein 1L6X at two different pH levels (5.0 and 8.8), I will need to set up and run two separate simulations. After the simulations, I will analyze the Solvent Accessible Surface Area (SASA) and Root Mean Square Fluctuation (RMSF) for both conditions. \n",
      "\n",
      "First, I will download the PDB file for 1L6X. Then, I will set up and run the simulations at the specified pH levels. Finally, I will analyze the SASA and RMSF for each simulation.\n",
      "\n",
      "Action:\n",
      "```\n",
      "{\n",
      "  \"action\": \"PDBFileDownloader\",\n",
      "  \"action_input\": {\n",
      "    \"query\": \"1L6X\"\n",
      "  }\n",
      "}\n",
      "```PDB file found with this ID: 1L6X\n",
      "To proceed with the simulations at pH 5.0 and 8.8, I will first clean the PDB file to ensure it is ready for simulation. This includes adding missing atoms and hydrogens, replacing nonstandard residues, and removing heterogens and water. After cleaning, I will set up and run the simulations at the specified pH levels.\n",
      "\n",
      "Action:\n",
      "```\n",
      "{\n",
      "  \"action\": \"CleaningToolFunction\",\n",
      "  \"action_input\": {\n",
      "    \"pdb_id\": \"1L6X_185934\",\n",
      "    \"replace_nonstandard_residues\": true,\n",
      "    \"add_missing_atoms\": true,\n",
      "    \"remove_heterogens\": true,\n",
      "    \"remove_water\": true,\n",
      "    \"add_hydrogens\": true,\n",
      "    \"add_hydrogens_ph\": 5.0\n",
      "  }\n",
      "}\n",
      "```file path: /Users/jorgemedina/Desktop/md-agent/ckpt/ckpt_301/pdb/1L6X_raw_20240907_185934.pdb\n",
      "To proceed with the simulations at pH 5.0 and 8.8, I will now set up and run the first simulation at pH 5.0. After that, I will set up and run the second simulation at pH 8.8. Once both simulations are complete, I will analyze the SASA and RMSF for each condition.\n",
      "\n",
      "First, let's set up and run the simulation at pH 5.0.\n",
      "\n",
      "Action:\n",
      "```\n",
      "{\n",
      "  \"action\": \"SetUpandRunFunction\",\n",
      "  \"action_input\": {\n",
      "    \"pdb_id\": \"1L6X_185938\",\n",
      "    \"forcefield_files\": [],\n",
      "    \"save\": true,\n",
      "    \"system_params\": {\n",
      "      \"nonbondedMethod\": \"PME\",\n",
      "      \"nonbondedCutoff\": \"1.0 * nanometers\",\n",
      "      \"ewaldErrorTolerance\": 0.0005,\n",
      "      \"constraints\": \"HBonds\",\n",
      "      \"rigidWater\": true,\n",
      "      \"constraintTolerance\": 0.00001,\n",
      "      \"solvate\": true\n",
      "    },\n",
      "    \"integrator_params\": {\n",
      "      \"integrator_type\": \"LangevinMiddle\",\n",
      "      \"Temperature\": \"300 * kelvin\",\n",
      "      \"Friction\": \"1.0 / picoseconds\",\n",
      "      \"Timestep\": \"0.002 * picoseconds\",\n",
      "      \"Pressure\": \"1.0 * bar\"\n",
      "    },\n",
      "    \"simulation_params\": {\n",
      "      \"Ensemble\": \"NPT\",\n",
      "      \"Number of Steps\": 5000,\n",
      "      \"record_interval_steps\": 50,\n",
      "      \"record_params\": [\"step\", \"potentialEnergy\", \"temperature\"]\n",
      "    }\n",
      "  }\n",
      "}\n",
      "```\n",
      "Setting default forcefields v2\n",
      "Building system...\n",
      "About to create system...\n",
      "Attempts at creating system: 0/3\n",
      "System built successfully\n",
      "<openmm.openmm.System; proxy of <Swig Object of type 'OpenMM::System *' at 0x16b104120> >\n",
      "Setting up integrator...\n",
      "Creating simulation...\n",
      "simulation set!\n",
      "Performing energy minimization...\n",
      "Minimization complete!\n",
      "Initial Positions saved to initial_positions.pdb\n",
      "Equilibrating...\n",
      "Simulating...\n",
      "Done!\n",
      "Standalone simulation script written to /Users/jorgemedina/Desktop/md-agent/ckpt/ckpt_301/simulations/NPT_1L6X_185938_20240907_185941.py\n",
      "['exp_12_gpt4o20240806.out', 'exp_5_gpt4o20240806.out', 'exp_11.ipynb', 'exp_17_gpt4o20240806.out', 'TRAJ_sim0_185941_1L6X_185938_20240907_185946.dcd', 'exp_13.ipynb', 'exp_23_gpt4o20240806.out', 'exp_13_gpt4o20240806.out', 'exp_9.ipynb', 'exp_4_gpt4o20240806.out', 'exp_17.ipynb', 'exp_1_gpt4o20240806.out', 'exp_16_gpt4o20240806.out', 'exp_24_gp4o20240806.out', 'exp_22_gpt4o20240806.out', 'exp_15.ipynb', 'exp_10_gpt4o20240806.out', 'exp_7_gpt4o20240806.out', 'exp_12.ipynb', 'exp_10.ipynb', 'exp_15_gpt4o20240806.out', 'exp_21_gpt4o20240806.out', 'exp_11_gpt4o20240806.out', 'exp_6_gpt4o20240806.out', 'LOG_sim0_185941_1L6X_185938_20240907_185946.txt', 'exp_14.ipynb', 'exp_25_gpt4o20240806.out', 'exp_3_gpt4o20240806.out', 'exp_14_gpt4o20240806.out', 'exp_16.ipynb', 'exp_8.ipynb', 'exp_20_gpt4o20240806.out', 'exp_4.ipynb', 'exp_25.ipynb', 'exp_18_gpt4o20240806.out', 'exp_18.ipynb', 'exp_6.ipynb', 'exp_21.ipynb', 'exp_2.ipynb', 'exp_19_gpt4o20240806.out', 'exp_23.ipynb', 'TOP_sim0_185941_1L6X_185938_20240907_185946.pdb', 'exp_7.ipynb', 'exp_19.ipynb', 'exp_8_gpt4o20240806.out', 'exp_24.ipynb', 'exp_25 copy.ipynb', 'exp_5.ipynb', 'exp_22.ipynb', 'exp_1.ipynb', 'exp_3.ipynb', 'exp_20.ipynb']\n",
      "To proceed with the next steps, I need to set up and run the second simulation at pH 8.8. After that, I will analyze the SASA and RMSF for both pH conditions.\n",
      "\n",
      "First, I will clean the PDB file for pH 8.8 and then set up and run the simulation.\n",
      "\n",
      "Action:\n",
      "```\n",
      "{\n",
      "  \"action\": \"CleaningToolFunction\",\n",
      "  \"action_input\": {\n",
      "    \"pdb_id\": \"1L6X_185934\",\n",
      "    \"replace_nonstandard_residues\": true,\n",
      "    \"add_missing_atoms\": true,\n",
      "    \"remove_heterogens\": true,\n",
      "    \"remove_water\": true,\n",
      "    \"add_hydrogens\": true,\n",
      "    \"add_hydrogens_ph\": 8.8\n",
      "  }\n",
      "}\n",
      "```file path: /Users/jorgemedina/Desktop/md-agent/ckpt/ckpt_301/pdb/1L6X_raw_20240907_185934.pdb\n",
      "To proceed with the next steps, I need to set up and run the second simulation at pH 8.8. After that, I will analyze the SASA and RMSF for both pH conditions.\n",
      "\n",
      "First, let's set up and run the simulation at pH 8.8.\n",
      "\n",
      "Action:\n",
      "```\n",
      "{\n",
      "  \"action\": \"SetUpandRunFunction\",\n",
      "  \"action_input\": {\n",
      "    \"pdb_id\": \"1L6X_190811\",\n",
      "    \"forcefield_files\": [],\n",
      "    \"save\": true,\n",
      "    \"system_params\": {\n",
      "      \"nonbondedMethod\": \"PME\",\n",
      "      \"nonbondedCutoff\": \"1.0 * nanometers\",\n",
      "      \"ewaldErrorTolerance\": 0.0005,\n",
      "      \"constraints\": \"HBonds\",\n",
      "      \"rigidWater\": true,\n",
      "      \"constraintTolerance\": 0.00001,\n",
      "      \"solvate\": true\n",
      "    },\n",
      "    \"integrator_params\": {\n",
      "      \"integrator_type\": \"LangevinMiddle\",\n",
      "      \"Temperature\": \"300 * kelvin\",\n",
      "      \"Friction\": \"1.0 / picoseconds\",\n",
      "      \"Timestep\": \"0.002 * picoseconds\",\n",
      "      \"Pressure\": \"1.0 * bar\"\n",
      "    },\n",
      "    \"simulation_params\": {\n",
      "      \"Ensemble\": \"NPT\",\n",
      "      \"Number of Steps\": 5000,\n",
      "      \"record_interval_steps\": 50,\n",
      "      \"record_params\": [\"step\", \"potentialEnergy\", \"temperature\"]\n",
      "    }\n",
      "  }\n",
      "}\n",
      "```Setting default forcefields v2\n",
      "Building system...\n",
      "About to create system...\n",
      "Attempts at creating system: 0/3\n",
      "System built successfully\n",
      "<openmm.openmm.System; proxy of <Swig Object of type 'OpenMM::System *' at 0x16bc02670> >\n",
      "Setting up integrator...\n",
      "Creating simulation...\n",
      "simulation set!\n",
      "Performing energy minimization...\n",
      "Minimization complete!\n",
      "Initial Positions saved to initial_positions.pdb\n",
      "Equilibrating...\n",
      "Simulating...\n",
      "Done!\n",
      "Standalone simulation script written to /Users/jorgemedina/Desktop/md-agent/ckpt/ckpt_301/simulations/NPT_1L6X_190811_20240907_190814.py\n",
      "['exp_12_gpt4o20240806.out', 'exp_5_gpt4o20240806.out', 'exp_11.ipynb', 'exp_17_gpt4o20240806.out', 'exp_13.ipynb', 'exp_23_gpt4o20240806.out', 'exp_13_gpt4o20240806.out', 'exp_9.ipynb', 'exp_4_gpt4o20240806.out', 'exp_17.ipynb', 'exp_1_gpt4o20240806.out', 'exp_16_gpt4o20240806.out', 'exp_24_gp4o20240806.out', 'exp_22_gpt4o20240806.out', 'exp_15.ipynb', 'exp_10_gpt4o20240806.out', 'exp_7_gpt4o20240806.out', 'exp_12.ipynb', 'exp_10.ipynb', 'exp_15_gpt4o20240806.out', 'exp_21_gpt4o20240806.out', 'TOP_sim0_190814_1L6X_190811_20240907_190820.pdb', 'exp_11_gpt4o20240806.out', 'exp_6_gpt4o20240806.out', 'exp_14.ipynb', 'exp_25_gpt4o20240806.out', 'exp_3_gpt4o20240806.out', 'exp_14_gpt4o20240806.out', 'exp_16.ipynb', 'exp_8.ipynb', 'exp_20_gpt4o20240806.out', 'LOG_sim0_190814_1L6X_190811_20240907_190820.txt', 'exp_4.ipynb', 'exp_25.ipynb', 'exp_18_gpt4o20240806.out', 'exp_18.ipynb', 'exp_6.ipynb', 'exp_21.ipynb', 'exp_2.ipynb', 'exp_19_gpt4o20240806.out', 'exp_23.ipynb', 'exp_7.ipynb', 'exp_19.ipynb', 'exp_8_gpt4o20240806.out', 'exp_24.ipynb', 'exp_25 copy.ipynb', 'exp_5.ipynb', 'exp_22.ipynb', 'exp_1.ipynb', 'TRAJ_sim0_190814_1L6X_190811_20240907_190820.dcd', 'exp_3.ipynb', 'exp_20.ipynb']\n",
      "To proceed with the analysis, I will first compute the Solvent Accessible Surface Area (SASA) for both simulations at pH 5.0 and pH 8.8. After that, I will compute the Root Mean Square Fluctuation (RMSF) for both conditions.\n",
      "\n",
      "Let's start with the SASA analysis for the simulation at pH 5.0.\n",
      "\n",
      "Action:\n",
      "```\n",
      "{\n",
      "  \"action\": \"SolventAccessibleSurfaceArea\",\n",
      "  \"action_input\": {\n",
      "    \"top_fileid\": \"top_sim0_185941\",\n",
      "    \"traj_fileid\": \"rec0_185946\",\n",
      "    \"molecule_name\": \"1L6X\"\n",
      "  }\n",
      "}\n",
      "```Loading trajectory ...\n",
      "Calcuating SASA ...\n",
      "Data saved to /Users/jorgemedina/Desktop/md-agent/ckpt/ckpt_301/records/sasa_1L6X.csv\n",
      "SASA plot saved to FIG_sasa_1L6X_20240907_192757.png\n",
      "To proceed with the analysis, I will now compute the Solvent Accessible Surface Area (SASA) for the simulation at pH 8.8. After that, I will compute the Root Mean Square Fluctuation (RMSF) for both conditions.\n",
      "\n",
      "Action:\n",
      "```\n",
      "{\n",
      "  \"action\": \"SolventAccessibleSurfaceArea\",\n",
      "  \"action_input\": {\n",
      "    \"top_fileid\": \"top_sim0_190814\",\n",
      "    \"traj_fileid\": \"rec0_190820\",\n",
      "    \"molecule_name\": \"1L6X\"\n",
      "  }\n",
      "}\n",
      "```Loading trajectory ...\n",
      "Calcuating SASA ...\n",
      "Data saved to /Users/jorgemedina/Desktop/md-agent/ckpt/ckpt_301/records/sasa_1L6X_1.csv\n",
      "SASA plot saved to FIG_sasa_1L6X_20240907_194106.png\n",
      "To complete the analysis, I will now compute the Root Mean Square Fluctuation (RMSF) for both simulations at pH 5.0 and pH 8.8. Let's start with the RMSF analysis for the simulation at pH 5.0.\n",
      "\n",
      "Action:\n",
      "```\n",
      "{\n",
      "  \"action\": \"ComputeRMSF\",\n",
      "  \"action_input\": {\n",
      "    \"top_id\": \"top_sim0_185941\",\n",
      "    \"traj_id\": \"rec0_185946\",\n",
      "    \"select\": \"protein\",\n",
      "    \"mol_name\": \"1L6X\"\n",
      "  }\n",
      "}\n",
      "```Calculating RMSF...\n",
      "Data saved to /Users/jorgemedina/Desktop/md-agent/ckpt/ckpt_301/records/rmsf_1L6X.csv\n",
      "Plot saved to /Users/jorgemedina/Desktop/md-agent/ckpt/ckpt_301/figures/FIG_rmsf_1L6X_20240907_194109.png\n",
      "To complete the analysis, I will now compute the Root Mean Square Fluctuation (RMSF) for the simulation at pH 8.8.\n",
      "\n",
      "Action:\n",
      "```\n",
      "{\n",
      "  \"action\": \"ComputeRMSF\",\n",
      "  \"action_input\": {\n",
      "    \"top_id\": \"top_sim0_190814\",\n",
      "    \"traj_id\": \"rec0_190820\",\n",
      "    \"select\": \"protein\",\n",
      "    \"mol_name\": \"1L6X\"\n",
      "  }\n",
      "}\n",
      "```Calculating RMSF...\n",
      "Data saved to /Users/jorgemedina/Desktop/md-agent/ckpt/ckpt_301/records/rmsf_1L6X_1.csv\n",
      "Plot saved to /Users/jorgemedina/Desktop/md-agent/ckpt/ckpt_301/figures/FIG_rmsf_1L6X_20240907_194112.png\n",
      "To summarize the results and provide the final answer, I will compile the SASA and RMSF analyses for both pH conditions.\n",
      "\n",
      "Final Answer: The simulations and analyses for the protein 1L6X at pH 5.0 and 8.8 have been successfully completed. Below are the results:\n",
      "\n",
      "### Solvent Accessible Surface Area (SASA):\n",
      "- **pH 5.0**: SASA values computed and saved with File ID `sasa_1L6X`. The plot is saved with plot ID `fig0_192757`.\n",
      "- **pH 8.8**: SASA values computed and saved with File ID `sasa_1L6X_1`. The plot is saved with plot ID `fig0_194106`.\n",
      "\n",
      "### Root Mean Square Fluctuation (RMSF):\n",
      "- **pH 5.0**: RMSF calculated and saved to CSV with file ID `rmsf_1L6X`. The plot is saved with plot ID `fig0_194109`.\n",
      "- **pH 8.8**: RMSF calculated and saved to CSV with file ID `rmsf_1L6X_1`. The plot is saved with plot ID `fig0_194112`.\n",
      "\n",
      "These results provide insights into the structural dynamics and solvent accessibility of the protein 1L6X under different pH conditions."
=======
=======
>>>>>>> 4562069f3359483c8d4e9b21c15e6f636c15ff4e
      "Thought"
     ]
    },
    {
     "name": "stdout",
     "output_type": "stream",
     "text": [
      ":"
     ]
    },
    {
     "name": "stdout",
     "output_type": "stream",
     "text": [
      " To"
     ]
    },
    {
     "name": "stdout",
     "output_type": "stream",
     "text": [
      " simulate"
     ]
    },
    {
     "name": "stdout",
     "output_type": "stream",
     "text": [
      " the"
     ]
    },
    {
     "name": "stdout",
     "output_type": "stream",
     "text": [
      " protein"
     ]
    },
    {
     "name": "stdout",
     "output_type": "stream",
     "text": [
      " "
     ]
    },
    {
     "name": "stdout",
     "output_type": "stream",
     "text": [
      "1"
     ]
    },
    {
     "name": "stdout",
     "output_type": "stream",
     "text": [
      "L"
     ]
    },
    {
     "name": "stdout",
     "output_type": "stream",
     "text": [
      "6"
     ]
    },
    {
     "name": "stdout",
     "output_type": "stream",
     "text": [
      "X"
     ]
    },
    {
     "name": "stdout",
     "output_type": "stream",
     "text": [
      " at"
     ]
    },
    {
     "name": "stdout",
     "output_type": "stream",
     "text": [
      " different"
     ]
    },
    {
     "name": "stdout",
     "output_type": "stream",
     "text": [
      " p"
     ]
    },
    {
     "name": "stdout",
     "output_type": "stream",
     "text": [
      "H"
     ]
    },
    {
     "name": "stdout",
     "output_type": "stream",
     "text": [
      " levels"
     ]
    },
    {
     "name": "stdout",
     "output_type": "stream",
     "text": [
      ","
     ]
    },
    {
     "name": "stdout",
     "output_type": "stream",
     "text": [
      " I"
     ]
    },
    {
     "name": "stdout",
     "output_type": "stream",
     "text": [
      " need"
     ]
    },
    {
     "name": "stdout",
     "output_type": "stream",
     "text": [
      " to"
     ]
    },
    {
     "name": "stdout",
     "output_type": "stream",
     "text": [
      " first"
     ]
    },
    {
     "name": "stdout",
     "output_type": "stream",
     "text": [
      " download"
     ]
    },
    {
     "name": "stdout",
     "output_type": "stream",
     "text": [
      " the"
     ]
    },
    {
     "name": "stdout",
     "output_type": "stream",
     "text": [
      " P"
     ]
    },
    {
     "name": "stdout",
     "output_type": "stream",
     "text": [
      "DB"
     ]
    },
    {
     "name": "stdout",
     "output_type": "stream",
     "text": [
      " file"
     ]
    },
    {
     "name": "stdout",
     "output_type": "stream",
     "text": [
      " for"
     ]
    },
    {
     "name": "stdout",
     "output_type": "stream",
     "text": [
      " "
     ]
    },
    {
     "name": "stdout",
     "output_type": "stream",
     "text": [
      "1"
     ]
    },
    {
     "name": "stdout",
     "output_type": "stream",
     "text": [
      "L"
     ]
    },
    {
     "name": "stdout",
     "output_type": "stream",
     "text": [
      "6"
     ]
    },
    {
     "name": "stdout",
     "output_type": "stream",
     "text": [
      "X"
     ]
    },
    {
     "name": "stdout",
     "output_type": "stream",
     "text": [
      "."
     ]
    },
    {
     "name": "stdout",
     "output_type": "stream",
     "text": [
      " Then"
     ]
    },
    {
     "name": "stdout",
     "output_type": "stream",
     "text": [
      ","
     ]
    },
    {
     "name": "stdout",
     "output_type": "stream",
     "text": [
      " I"
     ]
    },
    {
     "name": "stdout",
     "output_type": "stream",
     "text": [
      " will"
     ]
    },
    {
     "name": "stdout",
     "output_type": "stream",
     "text": [
      " set"
     ]
    },
    {
     "name": "stdout",
     "output_type": "stream",
     "text": [
      " up"
     ]
    },
    {
     "name": "stdout",
     "output_type": "stream",
     "text": [
      " and"
     ]
    },
    {
     "name": "stdout",
     "output_type": "stream",
     "text": [
      " run"
     ]
    },
    {
     "name": "stdout",
     "output_type": "stream",
     "text": [
      " simulations"
     ]
    },
    {
     "name": "stdout",
     "output_type": "stream",
     "text": [
      " at"
     ]
    },
    {
     "name": "stdout",
     "output_type": "stream",
     "text": [
      " p"
     ]
    },
    {
     "name": "stdout",
     "output_type": "stream",
     "text": [
      "H"
     ]
    },
    {
     "name": "stdout",
     "output_type": "stream",
     "text": [
      " "
     ]
    },
    {
     "name": "stdout",
     "output_type": "stream",
     "text": [
      "5"
     ]
    },
    {
     "name": "stdout",
     "output_type": "stream",
     "text": [
      "."
     ]
    },
    {
     "name": "stdout",
     "output_type": "stream",
     "text": [
      "0"
     ]
    },
    {
     "name": "stdout",
     "output_type": "stream",
     "text": [
      " and"
     ]
    },
    {
     "name": "stdout",
     "output_type": "stream",
     "text": [
      " "
     ]
    },
    {
     "name": "stdout",
     "output_type": "stream",
     "text": [
      "8"
     ]
    },
    {
     "name": "stdout",
     "output_type": "stream",
     "text": [
      "."
     ]
    },
    {
     "name": "stdout",
     "output_type": "stream",
     "text": [
      "8"
     ]
    },
    {
     "name": "stdout",
     "output_type": "stream",
     "text": [
      "."
     ]
    },
    {
     "name": "stdout",
     "output_type": "stream",
     "text": [
      " After"
     ]
    },
    {
     "name": "stdout",
     "output_type": "stream",
     "text": [
      " the"
     ]
    },
    {
     "name": "stdout",
     "output_type": "stream",
     "text": [
      " simulations"
     ]
    },
    {
     "name": "stdout",
     "output_type": "stream",
     "text": [
      ","
     ]
    },
    {
     "name": "stdout",
     "output_type": "stream",
     "text": [
      " I"
     ]
    },
    {
     "name": "stdout",
     "output_type": "stream",
     "text": [
      " will"
     ]
    },
    {
     "name": "stdout",
     "output_type": "stream",
     "text": [
      " analyze"
     ]
    },
    {
     "name": "stdout",
     "output_type": "stream",
     "text": [
      " the"
     ]
    },
    {
     "name": "stdout",
     "output_type": "stream",
     "text": [
      " Sol"
     ]
    },
    {
     "name": "stdout",
     "output_type": "stream",
     "text": [
      "vent"
     ]
    },
    {
     "name": "stdout",
     "output_type": "stream",
     "text": [
      " Accessible"
     ]
    },
    {
     "name": "stdout",
     "output_type": "stream",
     "text": [
      " Surface"
     ]
    },
    {
     "name": "stdout",
     "output_type": "stream",
     "text": [
      " Area"
     ]
    },
    {
     "name": "stdout",
     "output_type": "stream",
     "text": [
      " ("
     ]
    },
    {
     "name": "stdout",
     "output_type": "stream",
     "text": [
      "S"
     ]
    },
    {
     "name": "stdout",
     "output_type": "stream",
     "text": [
      "ASA"
     ]
    },
    {
     "name": "stdout",
     "output_type": "stream",
     "text": [
      ")"
     ]
    },
    {
     "name": "stdout",
     "output_type": "stream",
     "text": [
      " and"
     ]
    },
    {
     "name": "stdout",
     "output_type": "stream",
     "text": [
      " Root"
     ]
    },
    {
     "name": "stdout",
     "output_type": "stream",
     "text": [
      " Mean"
     ]
    },
    {
     "name": "stdout",
     "output_type": "stream",
     "text": [
      " Square"
     ]
    },
    {
     "name": "stdout",
     "output_type": "stream",
     "text": [
      " Fl"
     ]
    },
    {
     "name": "stdout",
     "output_type": "stream",
     "text": [
      "uct"
     ]
    },
    {
     "name": "stdout",
     "output_type": "stream",
     "text": [
      "uation"
     ]
    },
    {
     "name": "stdout",
     "output_type": "stream",
     "text": [
      " ("
     ]
    },
    {
     "name": "stdout",
     "output_type": "stream",
     "text": [
      "R"
     ]
    },
    {
     "name": "stdout",
     "output_type": "stream",
     "text": [
      "MS"
     ]
    },
    {
     "name": "stdout",
     "output_type": "stream",
     "text": [
      "F"
     ]
    },
    {
     "name": "stdout",
     "output_type": "stream",
     "text": [
      ")"
     ]
    },
    {
     "name": "stdout",
     "output_type": "stream",
     "text": [
      " for"
     ]
    },
    {
     "name": "stdout",
     "output_type": "stream",
     "text": [
      " both"
     ]
    },
    {
     "name": "stdout",
     "output_type": "stream",
     "text": [
      " conditions"
     ]
    },
    {
     "name": "stdout",
     "output_type": "stream",
     "text": [
      "."
     ]
    },
    {
     "name": "stdout",
     "output_type": "stream",
     "text": [
      " Let's"
     ]
    },
    {
     "name": "stdout",
     "output_type": "stream",
     "text": [
      " start"
     ]
    },
    {
     "name": "stdout",
     "output_type": "stream",
     "text": [
      " by"
     ]
    },
    {
     "name": "stdout",
     "output_type": "stream",
     "text": [
      " downloading"
     ]
    },
    {
     "name": "stdout",
     "output_type": "stream",
     "text": [
      " the"
     ]
    },
    {
     "name": "stdout",
     "output_type": "stream",
     "text": [
      " P"
     ]
    },
    {
     "name": "stdout",
     "output_type": "stream",
     "text": [
      "DB"
     ]
    },
    {
     "name": "stdout",
     "output_type": "stream",
     "text": [
      " file"
     ]
    },
    {
     "name": "stdout",
     "output_type": "stream",
     "text": [
      " for"
     ]
    },
    {
     "name": "stdout",
     "output_type": "stream",
     "text": [
      " "
     ]
    },
    {
     "name": "stdout",
     "output_type": "stream",
     "text": [
      "1"
     ]
    },
    {
     "name": "stdout",
     "output_type": "stream",
     "text": [
      "L"
     ]
    },
    {
     "name": "stdout",
     "output_type": "stream",
     "text": [
      "6"
     ]
    },
    {
     "name": "stdout",
     "output_type": "stream",
     "text": [
      "X"
     ]
    },
    {
     "name": "stdout",
     "output_type": "stream",
     "text": [
      ".\n",
      "\n"
     ]
    },
    {
     "name": "stdout",
     "output_type": "stream",
     "text": [
      "Action"
     ]
    },
    {
     "name": "stdout",
     "output_type": "stream",
     "text": [
      ":\n"
     ]
    },
    {
     "name": "stdout",
     "output_type": "stream",
     "text": [
      "```"
     ]
    },
    {
     "name": "stdout",
     "output_type": "stream",
     "text": [
      "json"
     ]
    },
    {
     "name": "stdout",
     "output_type": "stream",
     "text": [
      "\n"
     ]
    },
    {
     "name": "stdout",
     "output_type": "stream",
     "text": [
      "{\n"
     ]
    },
    {
     "name": "stdout",
     "output_type": "stream",
     "text": [
      " "
     ]
    },
    {
     "name": "stdout",
     "output_type": "stream",
     "text": [
      " \""
     ]
    },
    {
     "name": "stdout",
     "output_type": "stream",
     "text": [
      "action"
     ]
    },
    {
     "name": "stdout",
     "output_type": "stream",
     "text": [
      "\":"
     ]
    },
    {
     "name": "stdout",
     "output_type": "stream",
     "text": [
      " \""
     ]
    },
    {
     "name": "stdout",
     "output_type": "stream",
     "text": [
      "P"
     ]
    },
    {
     "name": "stdout",
     "output_type": "stream",
     "text": [
      "DB"
     ]
    },
    {
     "name": "stdout",
     "output_type": "stream",
     "text": [
      "File"
     ]
    },
    {
     "name": "stdout",
     "output_type": "stream",
     "text": [
      "Downloader"
     ]
    },
    {
     "name": "stdout",
     "output_type": "stream",
     "text": [
      "\",\n"
     ]
    },
    {
     "name": "stdout",
     "output_type": "stream",
     "text": [
      " "
     ]
    },
    {
     "name": "stdout",
     "output_type": "stream",
     "text": [
      " \""
     ]
    },
    {
     "name": "stdout",
     "output_type": "stream",
     "text": [
      "action"
     ]
    },
    {
     "name": "stdout",
     "output_type": "stream",
     "text": [
      "_input"
     ]
    },
    {
     "name": "stdout",
     "output_type": "stream",
     "text": [
      "\":"
     ]
    },
    {
     "name": "stdout",
     "output_type": "stream",
     "text": [
      " \""
     ]
    },
    {
     "name": "stdout",
     "output_type": "stream",
     "text": [
      "1"
     ]
    },
    {
     "name": "stdout",
     "output_type": "stream",
     "text": [
      "L"
     ]
    },
    {
     "name": "stdout",
     "output_type": "stream",
     "text": [
      "6"
     ]
    },
    {
     "name": "stdout",
     "output_type": "stream",
     "text": [
      "X"
     ]
    },
    {
     "name": "stdout",
     "output_type": "stream",
     "text": [
      "\"\n"
     ]
    },
    {
     "name": "stdout",
     "output_type": "stream",
     "text": [
      "}\n"
     ]
    },
    {
     "name": "stdout",
     "output_type": "stream",
     "text": [
      "```"
     ]
    },
    {
     "name": "stdout",
     "output_type": "stream",
     "text": [
      "PDB file found with this ID: 1L6X\n"
     ]
    },
    {
     "name": "stdout",
     "output_type": "stream",
     "text": [
      "To"
     ]
    },
    {
     "name": "stdout",
     "output_type": "stream",
     "text": [
      " proceed"
     ]
    },
    {
     "name": "stdout",
     "output_type": "stream",
     "text": [
      " with"
     ]
    },
    {
     "name": "stdout",
     "output_type": "stream",
     "text": [
      " the"
     ]
    },
    {
     "name": "stdout",
     "output_type": "stream",
     "text": [
      " simulations"
     ]
    },
    {
     "name": "stdout",
     "output_type": "stream",
     "text": [
      " at"
     ]
    },
    {
     "name": "stdout",
     "output_type": "stream",
     "text": [
      " different"
     ]
    },
    {
     "name": "stdout",
     "output_type": "stream",
     "text": [
      " p"
     ]
    },
    {
     "name": "stdout",
     "output_type": "stream",
     "text": [
      "H"
     ]
    },
    {
     "name": "stdout",
     "output_type": "stream",
     "text": [
      " levels"
     ]
    },
    {
     "name": "stdout",
     "output_type": "stream",
     "text": [
      ","
     ]
    },
    {
     "name": "stdout",
     "output_type": "stream",
     "text": [
      " I"
     ]
    },
    {
     "name": "stdout",
     "output_type": "stream",
     "text": [
      " need"
     ]
    },
    {
     "name": "stdout",
     "output_type": "stream",
     "text": [
      " to"
     ]
    },
    {
     "name": "stdout",
     "output_type": "stream",
     "text": [
      " set"
     ]
    },
    {
     "name": "stdout",
     "output_type": "stream",
     "text": [
      " up"
     ]
    },
    {
     "name": "stdout",
     "output_type": "stream",
     "text": [
      " and"
     ]
    },
    {
     "name": "stdout",
     "output_type": "stream",
     "text": [
      " run"
     ]
    },
    {
     "name": "stdout",
     "output_type": "stream",
     "text": [
      " simulations"
     ]
    },
    {
     "name": "stdout",
     "output_type": "stream",
     "text": [
      " for"
     ]
    },
    {
     "name": "stdout",
     "output_type": "stream",
     "text": [
      " the"
     ]
    },
    {
     "name": "stdout",
     "output_type": "stream",
     "text": [
      " protein"
     ]
    },
    {
     "name": "stdout",
     "output_type": "stream",
     "text": [
      " "
     ]
    },
    {
     "name": "stdout",
     "output_type": "stream",
     "text": [
      "1"
     ]
    },
    {
     "name": "stdout",
     "output_type": "stream",
     "text": [
      "L"
     ]
    },
    {
     "name": "stdout",
     "output_type": "stream",
     "text": [
      "6"
     ]
    },
    {
     "name": "stdout",
     "output_type": "stream",
     "text": [
      "X"
     ]
    },
    {
     "name": "stdout",
     "output_type": "stream",
     "text": [
      " at"
     ]
    },
    {
     "name": "stdout",
     "output_type": "stream",
     "text": [
      " p"
     ]
    },
    {
     "name": "stdout",
     "output_type": "stream",
     "text": [
      "H"
     ]
    },
    {
     "name": "stdout",
     "output_type": "stream",
     "text": [
      " "
     ]
    },
    {
     "name": "stdout",
     "output_type": "stream",
     "text": [
      "5"
     ]
    },
    {
     "name": "stdout",
     "output_type": "stream",
     "text": [
      "."
     ]
    },
    {
     "name": "stdout",
     "output_type": "stream",
     "text": [
      "0"
     ]
    },
    {
     "name": "stdout",
     "output_type": "stream",
     "text": [
      " and"
     ]
    },
    {
     "name": "stdout",
     "output_type": "stream",
     "text": [
      " "
     ]
    },
    {
     "name": "stdout",
     "output_type": "stream",
     "text": [
      "8"
     ]
    },
    {
     "name": "stdout",
     "output_type": "stream",
     "text": [
      "."
     ]
    },
    {
     "name": "stdout",
     "output_type": "stream",
     "text": [
      "8"
     ]
    },
    {
     "name": "stdout",
     "output_type": "stream",
     "text": [
      "."
     ]
    },
    {
     "name": "stdout",
     "output_type": "stream",
     "text": [
      " After"
     ]
    },
    {
     "name": "stdout",
     "output_type": "stream",
     "text": [
      " setting"
     ]
    },
    {
     "name": "stdout",
     "output_type": "stream",
     "text": [
      " up"
     ]
    },
    {
     "name": "stdout",
     "output_type": "stream",
     "text": [
      " the"
     ]
    },
    {
     "name": "stdout",
     "output_type": "stream",
     "text": [
      " simulations"
     ]
    },
    {
     "name": "stdout",
     "output_type": "stream",
     "text": [
      ","
     ]
    },
    {
     "name": "stdout",
     "output_type": "stream",
     "text": [
      " I"
     ]
    },
    {
     "name": "stdout",
     "output_type": "stream",
     "text": [
      " will"
     ]
    },
    {
     "name": "stdout",
     "output_type": "stream",
     "text": [
      " analyze"
     ]
    },
    {
     "name": "stdout",
     "output_type": "stream",
     "text": [
      " the"
     ]
    },
    {
     "name": "stdout",
     "output_type": "stream",
     "text": [
      " Sol"
     ]
    },
    {
     "name": "stdout",
     "output_type": "stream",
     "text": [
      "vent"
     ]
    },
    {
     "name": "stdout",
     "output_type": "stream",
     "text": [
      " Accessible"
     ]
    },
    {
     "name": "stdout",
     "output_type": "stream",
     "text": [
      " Surface"
     ]
    },
    {
     "name": "stdout",
     "output_type": "stream",
     "text": [
      " Area"
     ]
    },
    {
     "name": "stdout",
     "output_type": "stream",
     "text": [
      " ("
     ]
    },
    {
     "name": "stdout",
     "output_type": "stream",
     "text": [
      "S"
     ]
    },
    {
     "name": "stdout",
     "output_type": "stream",
     "text": [
      "ASA"
     ]
    },
    {
     "name": "stdout",
     "output_type": "stream",
     "text": [
      ")"
     ]
    },
    {
     "name": "stdout",
     "output_type": "stream",
     "text": [
      " and"
     ]
    },
    {
     "name": "stdout",
     "output_type": "stream",
     "text": [
      " Root"
     ]
    },
    {
     "name": "stdout",
     "output_type": "stream",
     "text": [
      " Mean"
     ]
    },
    {
     "name": "stdout",
     "output_type": "stream",
     "text": [
      " Square"
     ]
    },
    {
     "name": "stdout",
     "output_type": "stream",
     "text": [
      " Fl"
     ]
    },
    {
     "name": "stdout",
     "output_type": "stream",
     "text": [
      "uct"
     ]
    },
    {
     "name": "stdout",
     "output_type": "stream",
     "text": [
      "uation"
     ]
    },
    {
     "name": "stdout",
     "output_type": "stream",
     "text": [
      " ("
     ]
    },
    {
     "name": "stdout",
     "output_type": "stream",
     "text": [
      "R"
     ]
    },
    {
     "name": "stdout",
     "output_type": "stream",
     "text": [
      "MS"
     ]
    },
    {
     "name": "stdout",
     "output_type": "stream",
     "text": [
      "F"
     ]
    },
    {
     "name": "stdout",
     "output_type": "stream",
     "text": [
      ")"
     ]
    },
    {
     "name": "stdout",
     "output_type": "stream",
     "text": [
      " for"
     ]
    },
    {
     "name": "stdout",
     "output_type": "stream",
     "text": [
      " both"
     ]
    },
    {
     "name": "stdout",
     "output_type": "stream",
     "text": [
      " conditions"
     ]
    },
    {
     "name": "stdout",
     "output_type": "stream",
     "text": [
      "."
     ]
    },
    {
     "name": "stdout",
     "output_type": "stream",
     "text": [
      " Let's"
     ]
    },
    {
     "name": "stdout",
     "output_type": "stream",
     "text": [
      " start"
     ]
    },
    {
     "name": "stdout",
     "output_type": "stream",
     "text": [
      " by"
     ]
    },
    {
     "name": "stdout",
     "output_type": "stream",
     "text": [
      " setting"
     ]
    },
    {
     "name": "stdout",
     "output_type": "stream",
     "text": [
      " up"
     ]
    },
    {
     "name": "stdout",
     "output_type": "stream",
     "text": [
      " and"
     ]
    },
    {
     "name": "stdout",
     "output_type": "stream",
     "text": [
      " running"
     ]
    },
    {
     "name": "stdout",
     "output_type": "stream",
     "text": [
      " the"
     ]
    },
    {
     "name": "stdout",
     "output_type": "stream",
     "text": [
      " simulation"
     ]
    },
    {
     "name": "stdout",
     "output_type": "stream",
     "text": [
      " at"
     ]
    },
    {
     "name": "stdout",
     "output_type": "stream",
     "text": [
      " p"
     ]
    },
    {
     "name": "stdout",
     "output_type": "stream",
     "text": [
      "H"
     ]
    },
    {
     "name": "stdout",
     "output_type": "stream",
     "text": [
      " "
     ]
    },
    {
     "name": "stdout",
     "output_type": "stream",
     "text": [
      "5"
     ]
    },
    {
     "name": "stdout",
     "output_type": "stream",
     "text": [
      "."
     ]
    },
    {
     "name": "stdout",
     "output_type": "stream",
     "text": [
      "0"
     ]
    },
    {
     "name": "stdout",
     "output_type": "stream",
     "text": [
      ".\n",
      "\n"
     ]
    },
    {
     "name": "stdout",
     "output_type": "stream",
     "text": [
      "Action"
     ]
    },
    {
     "name": "stdout",
     "output_type": "stream",
     "text": [
      ":\n"
     ]
    },
    {
     "name": "stdout",
     "output_type": "stream",
     "text": [
      "```"
     ]
    },
    {
     "name": "stdout",
     "output_type": "stream",
     "text": [
      "json"
     ]
    },
    {
     "name": "stdout",
     "output_type": "stream",
     "text": [
      "\n"
     ]
    },
    {
     "name": "stdout",
     "output_type": "stream",
     "text": [
      "{\n"
     ]
    },
    {
     "name": "stdout",
     "output_type": "stream",
     "text": [
      " "
     ]
    },
    {
     "name": "stdout",
     "output_type": "stream",
     "text": [
      " \""
     ]
    },
    {
     "name": "stdout",
     "output_type": "stream",
     "text": [
      "action"
     ]
    },
    {
     "name": "stdout",
     "output_type": "stream",
     "text": [
      "\":"
     ]
    },
    {
     "name": "stdout",
     "output_type": "stream",
     "text": [
      " \""
     ]
    },
    {
     "name": "stdout",
     "output_type": "stream",
     "text": [
      "Set"
     ]
    },
    {
     "name": "stdout",
     "output_type": "stream",
     "text": [
      "Up"
     ]
    },
    {
     "name": "stdout",
     "output_type": "stream",
     "text": [
      "and"
     ]
    },
    {
     "name": "stdout",
     "output_type": "stream",
     "text": [
      "Run"
     ]
    },
    {
     "name": "stdout",
     "output_type": "stream",
     "text": [
      "Function"
     ]
    },
    {
     "name": "stdout",
     "output_type": "stream",
     "text": [
      "\",\n"
     ]
    },
    {
     "name": "stdout",
     "output_type": "stream",
     "text": [
      " "
     ]
    },
    {
     "name": "stdout",
     "output_type": "stream",
     "text": [
      " \""
     ]
    },
    {
     "name": "stdout",
     "output_type": "stream",
     "text": [
      "action"
     ]
    },
    {
     "name": "stdout",
     "output_type": "stream",
     "text": [
      "_input"
     ]
    },
    {
     "name": "stdout",
     "output_type": "stream",
     "text": [
      "\":"
     ]
    },
    {
     "name": "stdout",
     "output_type": "stream",
     "text": [
      " {\n"
     ]
    },
    {
     "name": "stdout",
     "output_type": "stream",
     "text": [
      "   "
     ]
    },
    {
     "name": "stdout",
     "output_type": "stream",
     "text": [
      " \""
     ]
    },
    {
     "name": "stdout",
     "output_type": "stream",
     "text": [
      "p"
     ]
    },
    {
     "name": "stdout",
     "output_type": "stream",
     "text": [
      "db"
     ]
    },
    {
     "name": "stdout",
     "output_type": "stream",
     "text": [
      "_id"
     ]
    },
    {
     "name": "stdout",
     "output_type": "stream",
     "text": [
      "\":"
     ]
    },
    {
     "name": "stdout",
     "output_type": "stream",
     "text": [
      " \""
     ]
    },
    {
     "name": "stdout",
     "output_type": "stream",
     "text": [
      "1"
     ]
    },
    {
     "name": "stdout",
     "output_type": "stream",
     "text": [
      "L"
     ]
    },
    {
     "name": "stdout",
     "output_type": "stream",
     "text": [
      "6"
     ]
    },
    {
     "name": "stdout",
     "output_type": "stream",
     "text": [
      "X"
     ]
    },
    {
     "name": "stdout",
     "output_type": "stream",
     "text": [
      "_"
     ]
    },
    {
     "name": "stdout",
     "output_type": "stream",
     "text": [
      "233"
     ]
    },
    {
     "name": "stdout",
     "output_type": "stream",
     "text": [
      "951"
     ]
    },
    {
     "name": "stdout",
     "output_type": "stream",
     "text": [
      "\",\n"
     ]
    },
    {
     "name": "stdout",
     "output_type": "stream",
     "text": [
      "   "
     ]
    },
    {
     "name": "stdout",
     "output_type": "stream",
     "text": [
      " \""
     ]
    },
    {
     "name": "stdout",
     "output_type": "stream",
     "text": [
      "force"
     ]
    },
    {
     "name": "stdout",
     "output_type": "stream",
     "text": [
      "field"
     ]
    },
    {
     "name": "stdout",
     "output_type": "stream",
     "text": [
      "_files"
     ]
    },
    {
     "name": "stdout",
     "output_type": "stream",
     "text": [
      "\":"
     ]
    },
    {
     "name": "stdout",
     "output_type": "stream",
     "text": [
      " [],\n"
     ]
    },
    {
     "name": "stdout",
     "output_type": "stream",
     "text": [
      "   "
     ]
    },
    {
     "name": "stdout",
     "output_type": "stream",
     "text": [
      " \""
     ]
    },
    {
     "name": "stdout",
     "output_type": "stream",
     "text": [
      "save"
     ]
    },
    {
     "name": "stdout",
     "output_type": "stream",
     "text": [
      "\":"
     ]
    },
    {
     "name": "stdout",
     "output_type": "stream",
     "text": [
      " true"
     ]
    },
    {
     "name": "stdout",
     "output_type": "stream",
     "text": [
      ",\n"
     ]
    },
    {
     "name": "stdout",
     "output_type": "stream",
     "text": [
      "   "
     ]
    },
    {
     "name": "stdout",
     "output_type": "stream",
     "text": [
      " \""
     ]
    },
    {
     "name": "stdout",
     "output_type": "stream",
     "text": [
      "system"
     ]
    },
    {
     "name": "stdout",
     "output_type": "stream",
     "text": [
      "_params"
     ]
    },
    {
     "name": "stdout",
     "output_type": "stream",
     "text": [
      "\":"
     ]
    },
    {
     "name": "stdout",
     "output_type": "stream",
     "text": [
      " {\n"
     ]
    },
    {
     "name": "stdout",
     "output_type": "stream",
     "text": [
      "     "
     ]
    },
    {
     "name": "stdout",
     "output_type": "stream",
     "text": [
      " \""
     ]
    },
    {
     "name": "stdout",
     "output_type": "stream",
     "text": [
      "non"
     ]
    },
    {
     "name": "stdout",
     "output_type": "stream",
     "text": [
      "bond"
     ]
    },
    {
     "name": "stdout",
     "output_type": "stream",
     "text": [
      "ed"
     ]
    },
    {
     "name": "stdout",
     "output_type": "stream",
     "text": [
      "Method"
     ]
    },
    {
     "name": "stdout",
     "output_type": "stream",
     "text": [
      "\":"
     ]
    },
    {
     "name": "stdout",
     "output_type": "stream",
     "text": [
      " \""
     ]
    },
    {
     "name": "stdout",
     "output_type": "stream",
     "text": [
      "No"
     ]
    },
    {
     "name": "stdout",
     "output_type": "stream",
     "text": [
      "Cut"
     ]
    },
    {
     "name": "stdout",
     "output_type": "stream",
     "text": [
      "off"
     ]
    },
    {
     "name": "stdout",
     "output_type": "stream",
     "text": [
      "\",\n"
     ]
    },
    {
     "name": "stdout",
     "output_type": "stream",
     "text": [
      "     "
     ]
    },
    {
     "name": "stdout",
     "output_type": "stream",
     "text": [
      " \""
     ]
    },
    {
     "name": "stdout",
     "output_type": "stream",
     "text": [
      "constraints"
     ]
    },
    {
     "name": "stdout",
     "output_type": "stream",
     "text": [
      "\":"
     ]
    },
    {
     "name": "stdout",
     "output_type": "stream",
     "text": [
      " \""
     ]
    },
    {
     "name": "stdout",
     "output_type": "stream",
     "text": [
      "None"
     ]
    },
    {
     "name": "stdout",
     "output_type": "stream",
     "text": [
      "\",\n"
     ]
    },
    {
     "name": "stdout",
     "output_type": "stream",
     "text": [
      "     "
     ]
    },
    {
     "name": "stdout",
     "output_type": "stream",
     "text": [
      " \""
     ]
    },
    {
     "name": "stdout",
     "output_type": "stream",
     "text": [
      "rig"
     ]
    },
    {
     "name": "stdout",
     "output_type": "stream",
     "text": [
      "id"
     ]
    },
    {
     "name": "stdout",
     "output_type": "stream",
     "text": [
      "Water"
     ]
    },
    {
     "name": "stdout",
     "output_type": "stream",
     "text": [
      "\":"
     ]
    },
    {
     "name": "stdout",
     "output_type": "stream",
     "text": [
      " false"
     ]
    },
    {
     "name": "stdout",
     "output_type": "stream",
     "text": [
      ",\n"
     ]
    },
    {
     "name": "stdout",
     "output_type": "stream",
     "text": [
      "     "
     ]
    },
    {
     "name": "stdout",
     "output_type": "stream",
     "text": [
      " \""
     ]
    },
    {
     "name": "stdout",
     "output_type": "stream",
     "text": [
      "sol"
     ]
    },
    {
     "name": "stdout",
     "output_type": "stream",
     "text": [
      "vate"
     ]
    },
    {
     "name": "stdout",
     "output_type": "stream",
     "text": [
      "\":"
     ]
    },
    {
     "name": "stdout",
     "output_type": "stream",
     "text": [
      " false"
     ]
    },
    {
     "name": "stdout",
     "output_type": "stream",
     "text": [
      "\n"
     ]
    },
    {
     "name": "stdout",
     "output_type": "stream",
     "text": [
      "   "
     ]
    },
    {
     "name": "stdout",
     "output_type": "stream",
     "text": [
      " },\n"
     ]
    },
    {
     "name": "stdout",
     "output_type": "stream",
     "text": [
      "   "
     ]
    },
    {
     "name": "stdout",
     "output_type": "stream",
     "text": [
      " \""
     ]
    },
    {
     "name": "stdout",
     "output_type": "stream",
     "text": [
      "integr"
     ]
    },
    {
     "name": "stdout",
     "output_type": "stream",
     "text": [
      "ator"
     ]
    },
    {
     "name": "stdout",
     "output_type": "stream",
     "text": [
      "_params"
     ]
    },
    {
     "name": "stdout",
     "output_type": "stream",
     "text": [
      "\":"
     ]
    },
    {
     "name": "stdout",
     "output_type": "stream",
     "text": [
      " {\n"
     ]
    },
    {
     "name": "stdout",
     "output_type": "stream",
     "text": [
      "     "
     ]
    },
    {
     "name": "stdout",
     "output_type": "stream",
     "text": [
      " \""
     ]
    },
    {
     "name": "stdout",
     "output_type": "stream",
     "text": [
      "integr"
     ]
    },
    {
     "name": "stdout",
     "output_type": "stream",
     "text": [
      "ator"
     ]
    },
    {
     "name": "stdout",
     "output_type": "stream",
     "text": [
      "_type"
     ]
    },
    {
     "name": "stdout",
     "output_type": "stream",
     "text": [
      "\":"
     ]
    },
    {
     "name": "stdout",
     "output_type": "stream",
     "text": [
      " \""
     ]
    },
    {
     "name": "stdout",
     "output_type": "stream",
     "text": [
      "L"
     ]
    },
    {
     "name": "stdout",
     "output_type": "stream",
     "text": [
      "ange"
     ]
    },
    {
     "name": "stdout",
     "output_type": "stream",
     "text": [
      "vin"
     ]
    },
    {
     "name": "stdout",
     "output_type": "stream",
     "text": [
      "Middle"
     ]
    },
    {
     "name": "stdout",
     "output_type": "stream",
     "text": [
      "\",\n"
     ]
    },
    {
     "name": "stdout",
     "output_type": "stream",
     "text": [
      "     "
     ]
    },
    {
     "name": "stdout",
     "output_type": "stream",
     "text": [
      " \""
     ]
    },
    {
     "name": "stdout",
     "output_type": "stream",
     "text": [
      "Temperature"
     ]
    },
    {
     "name": "stdout",
     "output_type": "stream",
     "text": [
      "\":"
     ]
    },
    {
     "name": "stdout",
     "output_type": "stream",
     "text": [
      " \""
     ]
    },
    {
     "name": "stdout",
     "output_type": "stream",
     "text": [
      "300"
     ]
    },
    {
     "name": "stdout",
     "output_type": "stream",
     "text": [
      " *"
     ]
    },
    {
     "name": "stdout",
     "output_type": "stream",
     "text": [
      " kel"
     ]
    },
    {
     "name": "stdout",
     "output_type": "stream",
     "text": [
      "vin"
     ]
    },
    {
     "name": "stdout",
     "output_type": "stream",
     "text": [
      "\",\n"
     ]
    },
    {
     "name": "stdout",
     "output_type": "stream",
     "text": [
      "     "
     ]
    },
    {
     "name": "stdout",
     "output_type": "stream",
     "text": [
      " \""
     ]
    },
    {
     "name": "stdout",
     "output_type": "stream",
     "text": [
      "F"
     ]
    },
    {
     "name": "stdout",
     "output_type": "stream",
     "text": [
      "riction"
     ]
    },
    {
     "name": "stdout",
     "output_type": "stream",
     "text": [
      "\":"
     ]
    },
    {
     "name": "stdout",
     "output_type": "stream",
     "text": [
      " \""
     ]
    },
    {
     "name": "stdout",
     "output_type": "stream",
     "text": [
      "1"
     ]
    },
    {
     "name": "stdout",
     "output_type": "stream",
     "text": [
      "."
     ]
    },
    {
     "name": "stdout",
     "output_type": "stream",
     "text": [
      "0"
     ]
    },
    {
     "name": "stdout",
     "output_type": "stream",
     "text": [
      " /"
     ]
    },
    {
     "name": "stdout",
     "output_type": "stream",
     "text": [
      " pic"
     ]
    },
    {
     "name": "stdout",
     "output_type": "stream",
     "text": [
      "oseconds"
     ]
    },
    {
     "name": "stdout",
     "output_type": "stream",
     "text": [
      "\",\n"
     ]
    },
    {
     "name": "stdout",
     "output_type": "stream",
     "text": [
      "     "
     ]
    },
    {
     "name": "stdout",
     "output_type": "stream",
     "text": [
      " \""
     ]
    },
    {
     "name": "stdout",
     "output_type": "stream",
     "text": [
      "T"
     ]
    },
    {
     "name": "stdout",
     "output_type": "stream",
     "text": [
      "imestep"
     ]
    },
    {
     "name": "stdout",
     "output_type": "stream",
     "text": [
      "\":"
     ]
    },
    {
     "name": "stdout",
     "output_type": "stream",
     "text": [
      " \""
     ]
    },
    {
     "name": "stdout",
     "output_type": "stream",
     "text": [
      "0"
     ]
    },
    {
     "name": "stdout",
     "output_type": "stream",
     "text": [
      "."
     ]
    },
    {
     "name": "stdout",
     "output_type": "stream",
     "text": [
      "002"
     ]
    },
    {
     "name": "stdout",
     "output_type": "stream",
     "text": [
      " *"
     ]
    },
    {
     "name": "stdout",
     "output_type": "stream",
     "text": [
      " pic"
     ]
    },
    {
     "name": "stdout",
     "output_type": "stream",
     "text": [
      "oseconds"
     ]
    },
    {
     "name": "stdout",
     "output_type": "stream",
     "text": [
      "\",\n"
     ]
    },
    {
     "name": "stdout",
     "output_type": "stream",
     "text": [
      "     "
     ]
    },
    {
     "name": "stdout",
     "output_type": "stream",
     "text": [
      " \""
     ]
    },
    {
     "name": "stdout",
     "output_type": "stream",
     "text": [
      "Pressure"
     ]
    },
    {
     "name": "stdout",
     "output_type": "stream",
     "text": [
      "\":"
     ]
    },
    {
     "name": "stdout",
     "output_type": "stream",
     "text": [
      " \""
     ]
    },
    {
     "name": "stdout",
     "output_type": "stream",
     "text": [
      "1"
     ]
    },
    {
     "name": "stdout",
     "output_type": "stream",
     "text": [
      "."
     ]
    },
    {
     "name": "stdout",
     "output_type": "stream",
     "text": [
      "0"
     ]
    },
    {
     "name": "stdout",
     "output_type": "stream",
     "text": [
      " *"
     ]
    },
    {
     "name": "stdout",
     "output_type": "stream",
     "text": [
      " bar"
     ]
    },
    {
     "name": "stdout",
     "output_type": "stream",
     "text": [
      "\"\n"
     ]
    },
    {
     "name": "stdout",
     "output_type": "stream",
     "text": [
      "   "
     ]
    },
    {
     "name": "stdout",
     "output_type": "stream",
     "text": [
      " },\n"
     ]
    },
    {
     "name": "stdout",
     "output_type": "stream",
     "text": [
      "   "
     ]
    },
    {
     "name": "stdout",
     "output_type": "stream",
     "text": [
      " \""
     ]
    },
    {
     "name": "stdout",
     "output_type": "stream",
     "text": [
      "simulation"
     ]
    },
    {
     "name": "stdout",
     "output_type": "stream",
     "text": [
      "_params"
     ]
    },
    {
     "name": "stdout",
     "output_type": "stream",
     "text": [
      "\":"
     ]
    },
    {
     "name": "stdout",
     "output_type": "stream",
     "text": [
      " {\n"
     ]
    },
    {
     "name": "stdout",
     "output_type": "stream",
     "text": [
      "     "
     ]
    },
    {
     "name": "stdout",
     "output_type": "stream",
     "text": [
      " \""
     ]
    },
    {
     "name": "stdout",
     "output_type": "stream",
     "text": [
      "En"
     ]
    },
    {
     "name": "stdout",
     "output_type": "stream",
     "text": [
      "semble"
     ]
    },
    {
     "name": "stdout",
     "output_type": "stream",
     "text": [
      "\":"
     ]
    },
    {
     "name": "stdout",
     "output_type": "stream",
     "text": [
      " \""
     ]
    },
    {
     "name": "stdout",
     "output_type": "stream",
     "text": [
      "N"
     ]
    },
    {
     "name": "stdout",
     "output_type": "stream",
     "text": [
      "VT"
     ]
    },
    {
     "name": "stdout",
     "output_type": "stream",
     "text": [
      "\",\n"
     ]
    },
    {
     "name": "stdout",
     "output_type": "stream",
     "text": [
      "     "
     ]
    },
    {
     "name": "stdout",
     "output_type": "stream",
     "text": [
      " \""
     ]
    },
    {
     "name": "stdout",
     "output_type": "stream",
     "text": [
      "Number"
     ]
    },
    {
     "name": "stdout",
     "output_type": "stream",
     "text": [
      " of"
     ]
    },
    {
     "name": "stdout",
     "output_type": "stream",
     "text": [
      " Steps"
     ]
    },
    {
     "name": "stdout",
     "output_type": "stream",
     "text": [
      "\":"
     ]
    },
    {
     "name": "stdout",
     "output_type": "stream",
     "text": [
      " "
     ]
    },
    {
     "name": "stdout",
     "output_type": "stream",
     "text": [
      "500"
     ]
    },
    {
     "name": "stdout",
     "output_type": "stream",
     "text": [
      "0"
     ]
    },
    {
     "name": "stdout",
     "output_type": "stream",
     "text": [
      ",\n"
     ]
    },
    {
     "name": "stdout",
     "output_type": "stream",
     "text": [
      "     "
     ]
    },
    {
     "name": "stdout",
     "output_type": "stream",
     "text": [
      " \""
     ]
    },
    {
     "name": "stdout",
     "output_type": "stream",
     "text": [
      "record"
     ]
    },
    {
     "name": "stdout",
     "output_type": "stream",
     "text": [
      "_interval"
     ]
    },
    {
     "name": "stdout",
     "output_type": "stream",
     "text": [
      "_steps"
     ]
    },
    {
     "name": "stdout",
     "output_type": "stream",
     "text": [
      "\":"
     ]
    },
    {
     "name": "stdout",
     "output_type": "stream",
     "text": [
      " "
     ]
    },
    {
     "name": "stdout",
     "output_type": "stream",
     "text": [
      "100"
     ]
    },
    {
     "name": "stdout",
     "output_type": "stream",
     "text": [
      ",\n"
     ]
    },
    {
     "name": "stdout",
     "output_type": "stream",
     "text": [
      "     "
     ]
    },
    {
     "name": "stdout",
     "output_type": "stream",
     "text": [
      " \""
     ]
    },
    {
     "name": "stdout",
     "output_type": "stream",
     "text": [
      "record"
     ]
    },
    {
     "name": "stdout",
     "output_type": "stream",
     "text": [
      "_params"
     ]
    },
    {
     "name": "stdout",
     "output_type": "stream",
     "text": [
      "\":"
     ]
    },
    {
     "name": "stdout",
     "output_type": "stream",
     "text": [
      " [\""
     ]
    },
    {
     "name": "stdout",
     "output_type": "stream",
     "text": [
      "step"
     ]
    },
    {
     "name": "stdout",
     "output_type": "stream",
     "text": [
      "\","
     ]
    },
    {
     "name": "stdout",
     "output_type": "stream",
     "text": [
      " \""
     ]
    },
    {
     "name": "stdout",
     "output_type": "stream",
     "text": [
      "potential"
     ]
    },
    {
     "name": "stdout",
     "output_type": "stream",
     "text": [
      "Energy"
     ]
    },
    {
     "name": "stdout",
     "output_type": "stream",
     "text": [
      "\","
     ]
    },
    {
     "name": "stdout",
     "output_type": "stream",
     "text": [
      " \""
     ]
    },
    {
     "name": "stdout",
     "output_type": "stream",
     "text": [
      "temperature"
     ]
    },
    {
     "name": "stdout",
     "output_type": "stream",
     "text": [
      "\"]\n"
     ]
    },
    {
     "name": "stdout",
     "output_type": "stream",
     "text": [
      "   "
     ]
    },
    {
     "name": "stdout",
     "output_type": "stream",
     "text": [
      " }\n"
     ]
    },
    {
     "name": "stdout",
     "output_type": "stream",
     "text": [
      " "
     ]
    },
    {
     "name": "stdout",
     "output_type": "stream",
     "text": [
      " }\n"
     ]
    },
    {
     "name": "stdout",
     "output_type": "stream",
     "text": [
      "}\n"
     ]
    },
    {
     "name": "stdout",
     "output_type": "stream",
     "text": [
      "```"
     ]
    },
    {
     "name": "stdout",
     "output_type": "stream",
     "text": [
      "Setting default forcefields v2\n",
      "Building system...\n"
     ]
    },
    {
     "name": "stdout",
     "output_type": "stream",
     "text": [
      "About to create system...\n",
      "Attempts at creating system: 0/3\n",
      "adding system without solvent\n",
      "Trying to add component to Forcefield...\n",
      "Residue code: GLY\n",
      "Residue code not in solvent list. Adding forcefield                         not supported.\n"
     ]
    },
    {
     "name": "stdout",
     "output_type": "stream",
     "text": [
      "To"
     ]
    },
    {
     "name": "stdout",
     "output_type": "stream",
     "text": [
      " resolve"
     ]
    },
    {
     "name": "stdout",
     "output_type": "stream",
     "text": [
      " the"
     ]
    },
    {
     "name": "stdout",
     "output_type": "stream",
     "text": [
      " issue"
     ]
    },
    {
     "name": "stdout",
     "output_type": "stream",
     "text": [
      " with"
     ]
    },
    {
     "name": "stdout",
     "output_type": "stream",
     "text": [
      " missing"
     ]
    },
    {
     "name": "stdout",
     "output_type": "stream",
     "text": [
      " hydrogen"
     ]
    },
    {
     "name": "stdout",
     "output_type": "stream",
     "text": [
      " atoms"
     ]
    },
    {
     "name": "stdout",
     "output_type": "stream",
     "text": [
      " in"
     ]
    },
    {
     "name": "stdout",
     "output_type": "stream",
     "text": [
      " the"
     ]
    },
    {
     "name": "stdout",
     "output_type": "stream",
     "text": [
      " GL"
     ]
    },
    {
     "name": "stdout",
     "output_type": "stream",
     "text": [
      "Y"
     ]
    },
    {
     "name": "stdout",
     "output_type": "stream",
     "text": [
      " residue"
     ]
    },
    {
     "name": "stdout",
     "output_type": "stream",
     "text": [
      ","
     ]
    },
    {
     "name": "stdout",
     "output_type": "stream",
     "text": [
      " I"
     ]
    },
    {
     "name": "stdout",
     "output_type": "stream",
     "text": [
      " need"
     ]
    },
    {
     "name": "stdout",
     "output_type": "stream",
     "text": [
      " to"
     ]
    },
    {
     "name": "stdout",
     "output_type": "stream",
     "text": [
      " clean"
     ]
    },
    {
     "name": "stdout",
     "output_type": "stream",
     "text": [
      " the"
     ]
    },
    {
     "name": "stdout",
     "output_type": "stream",
     "text": [
      " P"
     ]
    },
    {
     "name": "stdout",
     "output_type": "stream",
     "text": [
      "DB"
     ]
    },
    {
     "name": "stdout",
     "output_type": "stream",
     "text": [
      " file"
     ]
    },
    {
     "name": "stdout",
     "output_type": "stream",
     "text": [
      " by"
     ]
    },
    {
     "name": "stdout",
     "output_type": "stream",
     "text": [
      " adding"
     ]
    },
    {
     "name": "stdout",
     "output_type": "stream",
     "text": [
      " missing"
     ]
    },
    {
     "name": "stdout",
     "output_type": "stream",
     "text": [
      " atoms"
     ]
    },
    {
     "name": "stdout",
     "output_type": "stream",
     "text": [
      " and"
     ]
    },
    {
     "name": "stdout",
     "output_type": "stream",
     "text": [
      " hyd"
     ]
    },
    {
     "name": "stdout",
     "output_type": "stream",
     "text": [
      "rog"
     ]
    },
    {
     "name": "stdout",
     "output_type": "stream",
     "text": [
      "ens"
     ]
    },
    {
     "name": "stdout",
     "output_type": "stream",
     "text": [
      "."
     ]
    },
    {
     "name": "stdout",
     "output_type": "stream",
     "text": [
      " After"
     ]
    },
    {
     "name": "stdout",
     "output_type": "stream",
     "text": [
      " cleaning"
     ]
    },
    {
     "name": "stdout",
     "output_type": "stream",
     "text": [
      " the"
     ]
    },
    {
     "name": "stdout",
     "output_type": "stream",
     "text": [
      " file"
     ]
    },
    {
     "name": "stdout",
     "output_type": "stream",
     "text": [
      ","
     ]
    },
    {
     "name": "stdout",
     "output_type": "stream",
     "text": [
      " I"
     ]
    },
    {
     "name": "stdout",
     "output_type": "stream",
     "text": [
      " will"
     ]
    },
    {
     "name": "stdout",
     "output_type": "stream",
     "text": [
      " proceed"
     ]
    },
    {
     "name": "stdout",
     "output_type": "stream",
     "text": [
      " with"
     ]
    },
    {
     "name": "stdout",
     "output_type": "stream",
     "text": [
      " setting"
     ]
    },
    {
     "name": "stdout",
     "output_type": "stream",
     "text": [
      " up"
     ]
    },
    {
     "name": "stdout",
     "output_type": "stream",
     "text": [
      " and"
     ]
    },
    {
     "name": "stdout",
     "output_type": "stream",
     "text": [
      " running"
     ]
    },
    {
     "name": "stdout",
     "output_type": "stream",
     "text": [
      " the"
     ]
    },
    {
     "name": "stdout",
     "output_type": "stream",
     "text": [
      " simulations"
     ]
    },
    {
     "name": "stdout",
     "output_type": "stream",
     "text": [
      " at"
     ]
    },
    {
     "name": "stdout",
     "output_type": "stream",
     "text": [
      " p"
     ]
    },
    {
     "name": "stdout",
     "output_type": "stream",
     "text": [
      "H"
     ]
    },
    {
     "name": "stdout",
     "output_type": "stream",
     "text": [
      " "
     ]
    },
    {
     "name": "stdout",
     "output_type": "stream",
     "text": [
      "5"
     ]
    },
    {
     "name": "stdout",
     "output_type": "stream",
     "text": [
      "."
     ]
    },
    {
     "name": "stdout",
     "output_type": "stream",
     "text": [
      "0"
     ]
    },
    {
     "name": "stdout",
     "output_type": "stream",
     "text": [
      " and"
     ]
    },
    {
     "name": "stdout",
     "output_type": "stream",
     "text": [
      " "
     ]
    },
    {
     "name": "stdout",
     "output_type": "stream",
     "text": [
      "8"
     ]
    },
    {
     "name": "stdout",
     "output_type": "stream",
     "text": [
      "."
     ]
    },
    {
     "name": "stdout",
     "output_type": "stream",
     "text": [
      "8"
     ]
    },
    {
     "name": "stdout",
     "output_type": "stream",
     "text": [
      ".\n",
      "\n"
     ]
    },
    {
     "name": "stdout",
     "output_type": "stream",
     "text": [
      "Action"
     ]
    },
    {
     "name": "stdout",
     "output_type": "stream",
     "text": [
      ":\n"
     ]
    },
    {
     "name": "stdout",
     "output_type": "stream",
     "text": [
      "```"
     ]
    },
    {
     "name": "stdout",
     "output_type": "stream",
     "text": [
      "json"
     ]
    },
    {
     "name": "stdout",
     "output_type": "stream",
     "text": [
      "\n"
     ]
    },
    {
     "name": "stdout",
     "output_type": "stream",
     "text": [
      "{\n"
     ]
    },
    {
     "name": "stdout",
     "output_type": "stream",
     "text": [
      " "
     ]
    },
    {
     "name": "stdout",
     "output_type": "stream",
     "text": [
      " \""
     ]
    },
    {
     "name": "stdout",
     "output_type": "stream",
     "text": [
      "action"
     ]
    },
    {
     "name": "stdout",
     "output_type": "stream",
     "text": [
      "\":"
     ]
    },
    {
     "name": "stdout",
     "output_type": "stream",
     "text": [
      " \""
     ]
    },
    {
     "name": "stdout",
     "output_type": "stream",
     "text": [
      "Cleaning"
     ]
    },
    {
     "name": "stdout",
     "output_type": "stream",
     "text": [
      "Tool"
     ]
    },
    {
     "name": "stdout",
     "output_type": "stream",
     "text": [
      "Function"
     ]
    },
    {
     "name": "stdout",
     "output_type": "stream",
     "text": [
      "\",\n"
     ]
    },
    {
     "name": "stdout",
     "output_type": "stream",
     "text": [
      " "
     ]
    },
    {
     "name": "stdout",
     "output_type": "stream",
     "text": [
      " \""
     ]
    },
    {
     "name": "stdout",
     "output_type": "stream",
     "text": [
      "action"
     ]
    },
    {
     "name": "stdout",
     "output_type": "stream",
     "text": [
      "_input"
     ]
    },
    {
     "name": "stdout",
     "output_type": "stream",
     "text": [
      "\":"
     ]
    },
    {
     "name": "stdout",
     "output_type": "stream",
     "text": [
      " {\n"
     ]
    },
    {
     "name": "stdout",
     "output_type": "stream",
     "text": [
      "   "
     ]
    },
    {
     "name": "stdout",
     "output_type": "stream",
     "text": [
      " \""
     ]
    },
    {
     "name": "stdout",
     "output_type": "stream",
     "text": [
      "p"
     ]
    },
    {
     "name": "stdout",
     "output_type": "stream",
     "text": [
      "db"
     ]
    },
    {
     "name": "stdout",
     "output_type": "stream",
     "text": [
      "_id"
     ]
    },
    {
     "name": "stdout",
     "output_type": "stream",
     "text": [
      "\":"
     ]
    },
    {
     "name": "stdout",
     "output_type": "stream",
     "text": [
      " \""
     ]
    },
    {
     "name": "stdout",
     "output_type": "stream",
     "text": [
      "1"
     ]
    },
    {
     "name": "stdout",
     "output_type": "stream",
     "text": [
      "L"
     ]
    },
    {
     "name": "stdout",
     "output_type": "stream",
     "text": [
      "6"
     ]
    },
    {
     "name": "stdout",
     "output_type": "stream",
     "text": [
      "X"
     ]
    },
    {
     "name": "stdout",
     "output_type": "stream",
     "text": [
      "_"
     ]
    },
    {
     "name": "stdout",
     "output_type": "stream",
     "text": [
      "233"
     ]
    },
    {
     "name": "stdout",
     "output_type": "stream",
     "text": [
      "951"
     ]
    },
    {
     "name": "stdout",
     "output_type": "stream",
     "text": [
      "\",\n"
     ]
    },
    {
     "name": "stdout",
     "output_type": "stream",
     "text": [
      "   "
     ]
    },
    {
     "name": "stdout",
     "output_type": "stream",
     "text": [
      " \""
     ]
    },
    {
     "name": "stdout",
     "output_type": "stream",
     "text": [
      "replace"
     ]
    },
    {
     "name": "stdout",
     "output_type": "stream",
     "text": [
      "_non"
     ]
    },
    {
     "name": "stdout",
     "output_type": "stream",
     "text": [
      "standard"
     ]
    },
    {
     "name": "stdout",
     "output_type": "stream",
     "text": [
      "_res"
     ]
    },
    {
     "name": "stdout",
     "output_type": "stream",
     "text": [
      "id"
     ]
    },
    {
     "name": "stdout",
     "output_type": "stream",
     "text": [
      "ues"
     ]
    },
    {
     "name": "stdout",
     "output_type": "stream",
     "text": [
      "\":"
     ]
    },
    {
     "name": "stdout",
     "output_type": "stream",
     "text": [
      " true"
     ]
    },
    {
     "name": "stdout",
     "output_type": "stream",
     "text": [
      ",\n"
     ]
    },
    {
     "name": "stdout",
     "output_type": "stream",
     "text": [
      "   "
     ]
    },
    {
     "name": "stdout",
     "output_type": "stream",
     "text": [
      " \""
     ]
    },
    {
     "name": "stdout",
     "output_type": "stream",
     "text": [
      "add"
     ]
    },
    {
     "name": "stdout",
     "output_type": "stream",
     "text": [
      "_missing"
     ]
    },
    {
     "name": "stdout",
     "output_type": "stream",
     "text": [
      "_atoms"
     ]
    },
    {
     "name": "stdout",
     "output_type": "stream",
     "text": [
      "\":"
     ]
    },
    {
     "name": "stdout",
     "output_type": "stream",
     "text": [
      " true"
     ]
    },
    {
     "name": "stdout",
     "output_type": "stream",
     "text": [
      ",\n"
     ]
    },
    {
     "name": "stdout",
     "output_type": "stream",
     "text": [
      "   "
     ]
    },
    {
     "name": "stdout",
     "output_type": "stream",
     "text": [
      " \""
     ]
    },
    {
     "name": "stdout",
     "output_type": "stream",
     "text": [
      "remove"
     ]
    },
    {
     "name": "stdout",
     "output_type": "stream",
     "text": [
      "_"
     ]
    },
    {
     "name": "stdout",
     "output_type": "stream",
     "text": [
      "heter"
     ]
    },
    {
     "name": "stdout",
     "output_type": "stream",
     "text": [
      "ogens"
     ]
    },
    {
     "name": "stdout",
     "output_type": "stream",
     "text": [
      "\":"
     ]
    },
    {
     "name": "stdout",
     "output_type": "stream",
     "text": [
      " true"
     ]
    },
    {
     "name": "stdout",
     "output_type": "stream",
     "text": [
      ",\n"
     ]
    },
    {
     "name": "stdout",
     "output_type": "stream",
     "text": [
      "   "
     ]
    },
    {
     "name": "stdout",
     "output_type": "stream",
     "text": [
      " \""
     ]
    },
    {
     "name": "stdout",
     "output_type": "stream",
     "text": [
      "remove"
     ]
    },
    {
     "name": "stdout",
     "output_type": "stream",
     "text": [
      "_water"
     ]
    },
    {
     "name": "stdout",
     "output_type": "stream",
     "text": [
      "\":"
     ]
    },
    {
     "name": "stdout",
     "output_type": "stream",
     "text": [
      " true"
     ]
    },
    {
     "name": "stdout",
     "output_type": "stream",
     "text": [
      ",\n"
     ]
    },
    {
     "name": "stdout",
     "output_type": "stream",
     "text": [
      "   "
     ]
    },
    {
     "name": "stdout",
     "output_type": "stream",
     "text": [
      " \""
     ]
    },
    {
     "name": "stdout",
     "output_type": "stream",
     "text": [
      "add"
     ]
    },
    {
     "name": "stdout",
     "output_type": "stream",
     "text": [
      "_h"
     ]
    },
    {
     "name": "stdout",
     "output_type": "stream",
     "text": [
      "yd"
     ]
    },
    {
     "name": "stdout",
     "output_type": "stream",
     "text": [
      "rog"
     ]
    },
    {
     "name": "stdout",
     "output_type": "stream",
     "text": [
      "ens"
     ]
    },
    {
     "name": "stdout",
     "output_type": "stream",
     "text": [
      "\":"
     ]
    },
    {
     "name": "stdout",
     "output_type": "stream",
     "text": [
      " true"
     ]
    },
    {
     "name": "stdout",
     "output_type": "stream",
     "text": [
      ",\n"
     ]
    },
    {
     "name": "stdout",
     "output_type": "stream",
     "text": [
      "   "
     ]
    },
    {
     "name": "stdout",
     "output_type": "stream",
     "text": [
      " \""
     ]
    },
    {
     "name": "stdout",
     "output_type": "stream",
     "text": [
      "add"
     ]
    },
    {
     "name": "stdout",
     "output_type": "stream",
     "text": [
      "_h"
     ]
    },
    {
     "name": "stdout",
     "output_type": "stream",
     "text": [
      "yd"
     ]
    },
    {
     "name": "stdout",
     "output_type": "stream",
     "text": [
      "rog"
     ]
    },
    {
     "name": "stdout",
     "output_type": "stream",
     "text": [
      "ens"
     ]
    },
    {
     "name": "stdout",
     "output_type": "stream",
     "text": [
      "_ph"
     ]
    },
    {
     "name": "stdout",
     "output_type": "stream",
     "text": [
      "\":"
     ]
    },
    {
     "name": "stdout",
     "output_type": "stream",
     "text": [
      " "
     ]
    },
    {
     "name": "stdout",
     "output_type": "stream",
     "text": [
      "5"
     ]
    },
    {
     "name": "stdout",
     "output_type": "stream",
     "text": [
      "."
     ]
    },
    {
     "name": "stdout",
     "output_type": "stream",
     "text": [
      "0"
     ]
    },
    {
     "name": "stdout",
     "output_type": "stream",
     "text": [
      "\n"
     ]
    },
    {
     "name": "stdout",
     "output_type": "stream",
     "text": [
      " "
     ]
    },
    {
     "name": "stdout",
     "output_type": "stream",
     "text": [
      " }\n"
     ]
    },
    {
     "name": "stdout",
     "output_type": "stream",
     "text": [
      "}\n"
     ]
    },
    {
     "name": "stdout",
     "output_type": "stream",
     "text": [
      "```"
     ]
    },
    {
     "name": "stdout",
     "output_type": "stream",
     "text": [
      "file path: /gpfs/fs2/scratch/qcampbe2/repos/md-agent/ckpt/ckpt_12/pdb/1L6X_raw_20241017_233951.pdb\n"
     ]
    },
    {
     "name": "stdout",
     "output_type": "stream",
     "text": [
      "To"
     ]
    },
    {
     "name": "stdout",
     "output_type": "stream",
     "text": [
      " proceed"
     ]
    },
    {
     "name": "stdout",
     "output_type": "stream",
     "text": [
      " with"
     ]
    },
    {
     "name": "stdout",
     "output_type": "stream",
     "text": [
      " the"
     ]
    },
    {
     "name": "stdout",
     "output_type": "stream",
     "text": [
      " simulations"
     ]
    },
    {
     "name": "stdout",
     "output_type": "stream",
     "text": [
      " at"
     ]
    },
    {
     "name": "stdout",
     "output_type": "stream",
     "text": [
      " different"
     ]
    },
    {
     "name": "stdout",
     "output_type": "stream",
     "text": [
      " p"
     ]
    },
    {
     "name": "stdout",
     "output_type": "stream",
     "text": [
      "H"
     ]
    },
    {
     "name": "stdout",
     "output_type": "stream",
     "text": [
      " levels"
     ]
    },
    {
     "name": "stdout",
     "output_type": "stream",
     "text": [
      ","
     ]
    },
    {
     "name": "stdout",
     "output_type": "stream",
     "text": [
      " I"
     ]
    },
    {
     "name": "stdout",
     "output_type": "stream",
     "text": [
      " need"
     ]
    },
    {
     "name": "stdout",
     "output_type": "stream",
     "text": [
      " to"
     ]
    },
    {
     "name": "stdout",
     "output_type": "stream",
     "text": [
      " set"
     ]
    },
    {
     "name": "stdout",
     "output_type": "stream",
     "text": [
      " up"
     ]
    },
    {
     "name": "stdout",
     "output_type": "stream",
     "text": [
      " and"
     ]
    },
    {
     "name": "stdout",
     "output_type": "stream",
     "text": [
      " run"
     ]
    },
    {
     "name": "stdout",
     "output_type": "stream",
     "text": [
      " simulations"
     ]
    },
    {
     "name": "stdout",
     "output_type": "stream",
     "text": [
      " for"
     ]
    },
    {
     "name": "stdout",
     "output_type": "stream",
     "text": [
      " the"
     ]
    },
    {
     "name": "stdout",
     "output_type": "stream",
     "text": [
      " cleaned"
     ]
    },
    {
     "name": "stdout",
     "output_type": "stream",
     "text": [
      " protein"
     ]
    },
    {
     "name": "stdout",
     "output_type": "stream",
     "text": [
      " "
     ]
    },
    {
     "name": "stdout",
     "output_type": "stream",
     "text": [
      "1"
     ]
    },
    {
     "name": "stdout",
     "output_type": "stream",
     "text": [
      "L"
     ]
    },
    {
     "name": "stdout",
     "output_type": "stream",
     "text": [
      "6"
     ]
    },
    {
     "name": "stdout",
     "output_type": "stream",
     "text": [
      "X"
     ]
    },
    {
     "name": "stdout",
     "output_type": "stream",
     "text": [
      " at"
     ]
    },
    {
     "name": "stdout",
     "output_type": "stream",
     "text": [
      " p"
     ]
    },
    {
     "name": "stdout",
     "output_type": "stream",
     "text": [
      "H"
     ]
    },
    {
     "name": "stdout",
     "output_type": "stream",
     "text": [
      " "
     ]
    },
    {
     "name": "stdout",
     "output_type": "stream",
     "text": [
      "5"
     ]
    },
    {
     "name": "stdout",
     "output_type": "stream",
     "text": [
      "."
     ]
    },
    {
     "name": "stdout",
     "output_type": "stream",
     "text": [
      "0"
     ]
    },
    {
     "name": "stdout",
     "output_type": "stream",
     "text": [
      "."
     ]
    },
    {
     "name": "stdout",
     "output_type": "stream",
     "text": [
      " After"
     ]
    },
    {
     "name": "stdout",
     "output_type": "stream",
     "text": [
      " setting"
     ]
    },
    {
     "name": "stdout",
     "output_type": "stream",
     "text": [
      " up"
     ]
    },
    {
     "name": "stdout",
     "output_type": "stream",
     "text": [
      " the"
     ]
    },
    {
     "name": "stdout",
     "output_type": "stream",
     "text": [
      " simulation"
     ]
    },
    {
     "name": "stdout",
     "output_type": "stream",
     "text": [
      ","
     ]
    },
    {
     "name": "stdout",
     "output_type": "stream",
     "text": [
      " I"
     ]
    },
    {
     "name": "stdout",
     "output_type": "stream",
     "text": [
      " will"
     ]
    },
    {
     "name": "stdout",
     "output_type": "stream",
     "text": [
      " analyze"
     ]
    },
    {
     "name": "stdout",
     "output_type": "stream",
     "text": [
      " the"
     ]
    },
    {
     "name": "stdout",
     "output_type": "stream",
     "text": [
      " Sol"
     ]
    },
    {
     "name": "stdout",
     "output_type": "stream",
     "text": [
      "vent"
     ]
    },
    {
     "name": "stdout",
     "output_type": "stream",
     "text": [
      " Accessible"
     ]
    },
    {
     "name": "stdout",
     "output_type": "stream",
     "text": [
      " Surface"
     ]
    },
    {
     "name": "stdout",
     "output_type": "stream",
     "text": [
      " Area"
     ]
    },
    {
     "name": "stdout",
     "output_type": "stream",
     "text": [
      " ("
     ]
    },
    {
     "name": "stdout",
     "output_type": "stream",
     "text": [
      "S"
     ]
    },
    {
     "name": "stdout",
     "output_type": "stream",
     "text": [
      "ASA"
     ]
    },
    {
     "name": "stdout",
     "output_type": "stream",
     "text": [
      ")"
     ]
    },
    {
     "name": "stdout",
     "output_type": "stream",
     "text": [
      " and"
     ]
    },
    {
     "name": "stdout",
     "output_type": "stream",
     "text": [
      " Root"
     ]
    },
    {
     "name": "stdout",
     "output_type": "stream",
     "text": [
      " Mean"
     ]
    },
    {
     "name": "stdout",
     "output_type": "stream",
     "text": [
      " Square"
     ]
    },
    {
     "name": "stdout",
     "output_type": "stream",
     "text": [
      " Fl"
     ]
    },
    {
     "name": "stdout",
     "output_type": "stream",
     "text": [
      "uct"
     ]
    },
    {
     "name": "stdout",
     "output_type": "stream",
     "text": [
      "uation"
     ]
    },
    {
     "name": "stdout",
     "output_type": "stream",
     "text": [
      " ("
     ]
    },
    {
     "name": "stdout",
     "output_type": "stream",
     "text": [
      "R"
     ]
    },
    {
     "name": "stdout",
     "output_type": "stream",
     "text": [
      "MS"
     ]
    },
    {
     "name": "stdout",
     "output_type": "stream",
     "text": [
      "F"
     ]
    },
    {
     "name": "stdout",
     "output_type": "stream",
     "text": [
      ")"
     ]
    },
    {
     "name": "stdout",
     "output_type": "stream",
     "text": [
      " for"
     ]
    },
    {
     "name": "stdout",
     "output_type": "stream",
     "text": [
      " this"
     ]
    },
    {
     "name": "stdout",
     "output_type": "stream",
     "text": [
      " condition"
     ]
    },
    {
     "name": "stdout",
     "output_type": "stream",
     "text": [
      "."
     ]
    },
    {
     "name": "stdout",
     "output_type": "stream",
     "text": [
      " Let's"
     ]
    },
    {
     "name": "stdout",
     "output_type": "stream",
     "text": [
      " start"
     ]
    },
    {
     "name": "stdout",
     "output_type": "stream",
     "text": [
      " by"
     ]
    },
    {
     "name": "stdout",
     "output_type": "stream",
     "text": [
      " setting"
     ]
    },
    {
     "name": "stdout",
     "output_type": "stream",
     "text": [
      " up"
     ]
    },
    {
     "name": "stdout",
     "output_type": "stream",
     "text": [
      " and"
     ]
    },
    {
     "name": "stdout",
     "output_type": "stream",
     "text": [
      " running"
     ]
    },
    {
     "name": "stdout",
     "output_type": "stream",
     "text": [
      " the"
     ]
    },
    {
     "name": "stdout",
     "output_type": "stream",
     "text": [
      " simulation"
     ]
    },
    {
     "name": "stdout",
     "output_type": "stream",
     "text": [
      " at"
     ]
    },
    {
     "name": "stdout",
     "output_type": "stream",
     "text": [
      " p"
     ]
    },
    {
     "name": "stdout",
     "output_type": "stream",
     "text": [
      "H"
     ]
    },
    {
     "name": "stdout",
     "output_type": "stream",
     "text": [
      " "
     ]
    },
    {
     "name": "stdout",
     "output_type": "stream",
     "text": [
      "5"
     ]
    },
    {
     "name": "stdout",
     "output_type": "stream",
     "text": [
      "."
     ]
    },
    {
     "name": "stdout",
     "output_type": "stream",
     "text": [
      "0"
     ]
    },
    {
     "name": "stdout",
     "output_type": "stream",
     "text": [
      ".\n",
      "\n"
     ]
    },
    {
     "name": "stdout",
     "output_type": "stream",
     "text": [
      "Action"
     ]
    },
    {
     "name": "stdout",
     "output_type": "stream",
     "text": [
      ":\n"
     ]
    },
    {
     "name": "stdout",
     "output_type": "stream",
     "text": [
      "```"
     ]
    },
    {
     "name": "stdout",
     "output_type": "stream",
     "text": [
      "json"
     ]
    },
    {
     "name": "stdout",
     "output_type": "stream",
     "text": [
      "\n"
     ]
    },
    {
     "name": "stdout",
     "output_type": "stream",
     "text": [
      "{\n"
     ]
    },
    {
     "name": "stdout",
     "output_type": "stream",
     "text": [
      " "
     ]
    },
    {
     "name": "stdout",
     "output_type": "stream",
     "text": [
      " \""
     ]
    },
    {
     "name": "stdout",
     "output_type": "stream",
     "text": [
      "action"
     ]
    },
    {
     "name": "stdout",
     "output_type": "stream",
     "text": [
      "\":"
     ]
    },
    {
     "name": "stdout",
     "output_type": "stream",
     "text": [
      " \""
     ]
    },
    {
     "name": "stdout",
     "output_type": "stream",
     "text": [
      "Set"
     ]
    },
    {
     "name": "stdout",
     "output_type": "stream",
     "text": [
      "Up"
     ]
    },
    {
     "name": "stdout",
     "output_type": "stream",
     "text": [
      "and"
     ]
    },
    {
     "name": "stdout",
     "output_type": "stream",
     "text": [
      "Run"
     ]
    },
    {
     "name": "stdout",
     "output_type": "stream",
     "text": [
      "Function"
     ]
    },
    {
     "name": "stdout",
     "output_type": "stream",
     "text": [
      "\",\n"
     ]
    },
    {
     "name": "stdout",
     "output_type": "stream",
     "text": [
      " "
     ]
    },
    {
     "name": "stdout",
     "output_type": "stream",
     "text": [
      " \""
     ]
    },
    {
     "name": "stdout",
     "output_type": "stream",
     "text": [
      "action"
     ]
    },
    {
     "name": "stdout",
     "output_type": "stream",
     "text": [
      "_input"
     ]
    },
    {
     "name": "stdout",
     "output_type": "stream",
     "text": [
      "\":"
     ]
    },
    {
     "name": "stdout",
     "output_type": "stream",
     "text": [
      " {\n"
     ]
    },
    {
     "name": "stdout",
     "output_type": "stream",
     "text": [
      "   "
     ]
    },
    {
     "name": "stdout",
     "output_type": "stream",
     "text": [
      " \""
     ]
    },
    {
     "name": "stdout",
     "output_type": "stream",
     "text": [
      "p"
     ]
    },
    {
     "name": "stdout",
     "output_type": "stream",
     "text": [
      "db"
     ]
    },
    {
     "name": "stdout",
     "output_type": "stream",
     "text": [
      "_id"
     ]
    },
    {
     "name": "stdout",
     "output_type": "stream",
     "text": [
      "\":"
     ]
    },
    {
     "name": "stdout",
     "output_type": "stream",
     "text": [
      " \""
     ]
    },
    {
     "name": "stdout",
     "output_type": "stream",
     "text": [
      "1"
     ]
    },
    {
     "name": "stdout",
     "output_type": "stream",
     "text": [
      "L"
     ]
    },
    {
     "name": "stdout",
     "output_type": "stream",
     "text": [
      "6"
     ]
    },
    {
     "name": "stdout",
     "output_type": "stream",
     "text": [
      "X"
     ]
    },
    {
     "name": "stdout",
     "output_type": "stream",
     "text": [
      "_"
     ]
    },
    {
     "name": "stdout",
     "output_type": "stream",
     "text": [
      "234"
     ]
    },
    {
     "name": "stdout",
     "output_type": "stream",
     "text": [
      "000"
     ]
    },
    {
     "name": "stdout",
     "output_type": "stream",
     "text": [
      "\",\n"
     ]
    },
    {
     "name": "stdout",
     "output_type": "stream",
     "text": [
      "   "
     ]
    },
    {
     "name": "stdout",
     "output_type": "stream",
     "text": [
      " \""
     ]
    },
    {
     "name": "stdout",
     "output_type": "stream",
     "text": [
      "force"
     ]
    },
    {
     "name": "stdout",
     "output_type": "stream",
     "text": [
      "field"
     ]
    },
    {
     "name": "stdout",
     "output_type": "stream",
     "text": [
      "_files"
     ]
    },
    {
     "name": "stdout",
     "output_type": "stream",
     "text": [
      "\":"
     ]
    },
    {
     "name": "stdout",
     "output_type": "stream",
     "text": [
      " [],\n"
     ]
    },
    {
     "name": "stdout",
     "output_type": "stream",
     "text": [
      "   "
     ]
    },
    {
     "name": "stdout",
     "output_type": "stream",
     "text": [
      " \""
     ]
    },
    {
     "name": "stdout",
     "output_type": "stream",
     "text": [
      "save"
     ]
    },
    {
     "name": "stdout",
     "output_type": "stream",
     "text": [
      "\":"
     ]
    },
    {
     "name": "stdout",
     "output_type": "stream",
     "text": [
      " true"
     ]
    },
    {
     "name": "stdout",
     "output_type": "stream",
     "text": [
      ",\n"
     ]
    },
    {
     "name": "stdout",
     "output_type": "stream",
     "text": [
      "   "
     ]
    },
    {
     "name": "stdout",
     "output_type": "stream",
     "text": [
      " \""
     ]
    },
    {
     "name": "stdout",
     "output_type": "stream",
     "text": [
      "system"
     ]
    },
    {
     "name": "stdout",
     "output_type": "stream",
     "text": [
      "_params"
     ]
    },
    {
     "name": "stdout",
     "output_type": "stream",
     "text": [
      "\":"
     ]
    },
    {
     "name": "stdout",
     "output_type": "stream",
     "text": [
      " {\n"
     ]
    },
    {
     "name": "stdout",
     "output_type": "stream",
     "text": [
      "     "
     ]
    },
    {
     "name": "stdout",
     "output_type": "stream",
     "text": [
      " \""
     ]
    },
    {
     "name": "stdout",
     "output_type": "stream",
     "text": [
      "non"
     ]
    },
    {
     "name": "stdout",
     "output_type": "stream",
     "text": [
      "bond"
     ]
    },
    {
     "name": "stdout",
     "output_type": "stream",
     "text": [
      "ed"
     ]
    },
    {
     "name": "stdout",
     "output_type": "stream",
     "text": [
      "Method"
     ]
    },
    {
     "name": "stdout",
     "output_type": "stream",
     "text": [
      "\":"
     ]
    },
    {
     "name": "stdout",
     "output_type": "stream",
     "text": [
      " \""
     ]
    },
    {
     "name": "stdout",
     "output_type": "stream",
     "text": [
      "No"
     ]
    },
    {
     "name": "stdout",
     "output_type": "stream",
     "text": [
      "Cut"
     ]
    },
    {
     "name": "stdout",
     "output_type": "stream",
     "text": [
      "off"
     ]
    },
    {
     "name": "stdout",
     "output_type": "stream",
     "text": [
      "\",\n"
     ]
    },
    {
     "name": "stdout",
     "output_type": "stream",
     "text": [
      "     "
     ]
    },
    {
     "name": "stdout",
     "output_type": "stream",
     "text": [
      " \""
     ]
    },
    {
     "name": "stdout",
     "output_type": "stream",
     "text": [
      "constraints"
     ]
    },
    {
     "name": "stdout",
     "output_type": "stream",
     "text": [
      "\":"
     ]
    },
    {
     "name": "stdout",
     "output_type": "stream",
     "text": [
      " \""
     ]
    },
    {
     "name": "stdout",
     "output_type": "stream",
     "text": [
      "None"
     ]
    },
    {
     "name": "stdout",
     "output_type": "stream",
     "text": [
      "\",\n"
     ]
    },
    {
     "name": "stdout",
     "output_type": "stream",
     "text": [
      "     "
     ]
    },
    {
     "name": "stdout",
     "output_type": "stream",
     "text": [
      " \""
     ]
    },
    {
     "name": "stdout",
     "output_type": "stream",
     "text": [
      "rig"
     ]
    },
    {
     "name": "stdout",
     "output_type": "stream",
     "text": [
      "id"
     ]
    },
    {
     "name": "stdout",
     "output_type": "stream",
     "text": [
      "Water"
     ]
    },
    {
     "name": "stdout",
     "output_type": "stream",
     "text": [
      "\":"
     ]
    },
    {
     "name": "stdout",
     "output_type": "stream",
     "text": [
      " false"
     ]
    },
    {
     "name": "stdout",
     "output_type": "stream",
     "text": [
      ",\n"
     ]
    },
    {
     "name": "stdout",
     "output_type": "stream",
     "text": [
      "     "
     ]
    },
    {
     "name": "stdout",
     "output_type": "stream",
     "text": [
      " \""
     ]
    },
    {
     "name": "stdout",
     "output_type": "stream",
     "text": [
      "sol"
     ]
    },
    {
     "name": "stdout",
     "output_type": "stream",
     "text": [
      "vate"
     ]
    },
    {
     "name": "stdout",
     "output_type": "stream",
     "text": [
      "\":"
     ]
    },
    {
     "name": "stdout",
     "output_type": "stream",
     "text": [
      " false"
     ]
    },
    {
     "name": "stdout",
     "output_type": "stream",
     "text": [
      "\n"
     ]
    },
    {
     "name": "stdout",
     "output_type": "stream",
     "text": [
      "   "
     ]
    },
    {
     "name": "stdout",
     "output_type": "stream",
     "text": [
      " },\n"
     ]
    },
    {
     "name": "stdout",
     "output_type": "stream",
     "text": [
      "   "
     ]
    },
    {
     "name": "stdout",
     "output_type": "stream",
     "text": [
      " \""
     ]
    },
    {
     "name": "stdout",
     "output_type": "stream",
     "text": [
      "integr"
     ]
    },
    {
     "name": "stdout",
     "output_type": "stream",
     "text": [
      "ator"
     ]
    },
    {
     "name": "stdout",
     "output_type": "stream",
     "text": [
      "_params"
     ]
    },
    {
     "name": "stdout",
     "output_type": "stream",
     "text": [
      "\":"
     ]
    },
    {
     "name": "stdout",
     "output_type": "stream",
     "text": [
      " {\n"
     ]
    },
    {
     "name": "stdout",
     "output_type": "stream",
     "text": [
      "     "
     ]
    },
    {
     "name": "stdout",
     "output_type": "stream",
     "text": [
      " \""
     ]
    },
    {
     "name": "stdout",
     "output_type": "stream",
     "text": [
      "integr"
     ]
    },
    {
     "name": "stdout",
     "output_type": "stream",
     "text": [
      "ator"
     ]
    },
    {
     "name": "stdout",
     "output_type": "stream",
     "text": [
      "_type"
     ]
    },
    {
     "name": "stdout",
     "output_type": "stream",
     "text": [
      "\":"
     ]
    },
    {
     "name": "stdout",
     "output_type": "stream",
     "text": [
      " \""
     ]
    },
    {
     "name": "stdout",
     "output_type": "stream",
     "text": [
      "L"
     ]
    },
    {
     "name": "stdout",
     "output_type": "stream",
     "text": [
      "ange"
     ]
    },
    {
     "name": "stdout",
     "output_type": "stream",
     "text": [
      "vin"
     ]
    },
    {
     "name": "stdout",
     "output_type": "stream",
     "text": [
      "Middle"
     ]
    },
    {
     "name": "stdout",
     "output_type": "stream",
     "text": [
      "\",\n"
     ]
    },
    {
     "name": "stdout",
     "output_type": "stream",
     "text": [
      "     "
     ]
    },
    {
     "name": "stdout",
     "output_type": "stream",
     "text": [
      " \""
     ]
    },
    {
     "name": "stdout",
     "output_type": "stream",
     "text": [
      "Temperature"
     ]
    },
    {
     "name": "stdout",
     "output_type": "stream",
     "text": [
      "\":"
     ]
    },
    {
     "name": "stdout",
     "output_type": "stream",
     "text": [
      " \""
     ]
    },
    {
     "name": "stdout",
     "output_type": "stream",
     "text": [
      "300"
     ]
    },
    {
     "name": "stdout",
     "output_type": "stream",
     "text": [
      " *"
     ]
    },
    {
     "name": "stdout",
     "output_type": "stream",
     "text": [
      " kel"
     ]
    },
    {
     "name": "stdout",
     "output_type": "stream",
     "text": [
      "vin"
     ]
    },
    {
     "name": "stdout",
     "output_type": "stream",
     "text": [
      "\",\n"
     ]
    },
    {
     "name": "stdout",
     "output_type": "stream",
     "text": [
      "     "
     ]
    },
    {
     "name": "stdout",
     "output_type": "stream",
     "text": [
      " \""
     ]
    },
    {
     "name": "stdout",
     "output_type": "stream",
     "text": [
      "F"
     ]
    },
    {
     "name": "stdout",
     "output_type": "stream",
     "text": [
      "riction"
     ]
    },
    {
     "name": "stdout",
     "output_type": "stream",
     "text": [
      "\":"
     ]
    },
    {
     "name": "stdout",
     "output_type": "stream",
     "text": [
      " \""
     ]
    },
    {
     "name": "stdout",
     "output_type": "stream",
     "text": [
      "1"
     ]
    },
    {
     "name": "stdout",
     "output_type": "stream",
     "text": [
      "."
     ]
    },
    {
     "name": "stdout",
     "output_type": "stream",
     "text": [
      "0"
     ]
    },
    {
     "name": "stdout",
     "output_type": "stream",
     "text": [
      " /"
     ]
    },
    {
     "name": "stdout",
     "output_type": "stream",
     "text": [
      " pic"
     ]
    },
    {
     "name": "stdout",
     "output_type": "stream",
     "text": [
      "oseconds"
     ]
    },
    {
     "name": "stdout",
     "output_type": "stream",
     "text": [
      "\",\n"
     ]
    },
    {
     "name": "stdout",
     "output_type": "stream",
     "text": [
      "     "
     ]
    },
    {
     "name": "stdout",
     "output_type": "stream",
     "text": [
      " \""
     ]
    },
    {
     "name": "stdout",
     "output_type": "stream",
     "text": [
      "T"
     ]
    },
    {
     "name": "stdout",
     "output_type": "stream",
     "text": [
      "imestep"
     ]
    },
    {
     "name": "stdout",
     "output_type": "stream",
     "text": [
      "\":"
     ]
    },
    {
     "name": "stdout",
     "output_type": "stream",
     "text": [
      " \""
     ]
    },
    {
     "name": "stdout",
     "output_type": "stream",
     "text": [
      "0"
     ]
    },
    {
     "name": "stdout",
     "output_type": "stream",
     "text": [
      "."
     ]
    },
    {
     "name": "stdout",
     "output_type": "stream",
     "text": [
      "002"
     ]
    },
    {
     "name": "stdout",
     "output_type": "stream",
     "text": [
      " *"
     ]
    },
    {
     "name": "stdout",
     "output_type": "stream",
     "text": [
      " pic"
     ]
    },
    {
     "name": "stdout",
     "output_type": "stream",
     "text": [
      "oseconds"
     ]
    },
    {
     "name": "stdout",
     "output_type": "stream",
     "text": [
      "\",\n"
     ]
    },
    {
     "name": "stdout",
     "output_type": "stream",
     "text": [
      "     "
     ]
    },
    {
     "name": "stdout",
     "output_type": "stream",
     "text": [
      " \""
     ]
    },
    {
     "name": "stdout",
     "output_type": "stream",
     "text": [
      "Pressure"
     ]
    },
    {
     "name": "stdout",
     "output_type": "stream",
     "text": [
      "\":"
     ]
    },
    {
     "name": "stdout",
     "output_type": "stream",
     "text": [
      " \""
     ]
    },
    {
     "name": "stdout",
     "output_type": "stream",
     "text": [
      "1"
     ]
    },
    {
     "name": "stdout",
     "output_type": "stream",
     "text": [
      "."
     ]
    },
    {
     "name": "stdout",
     "output_type": "stream",
     "text": [
      "0"
     ]
    },
    {
     "name": "stdout",
     "output_type": "stream",
     "text": [
      " *"
     ]
    },
    {
     "name": "stdout",
     "output_type": "stream",
     "text": [
      " bar"
     ]
    },
    {
     "name": "stdout",
     "output_type": "stream",
     "text": [
      "\"\n"
     ]
    },
    {
     "name": "stdout",
     "output_type": "stream",
     "text": [
      "   "
     ]
    },
    {
     "name": "stdout",
     "output_type": "stream",
     "text": [
      " },\n"
     ]
    },
    {
     "name": "stdout",
     "output_type": "stream",
     "text": [
      "   "
     ]
    },
    {
     "name": "stdout",
     "output_type": "stream",
     "text": [
      " \""
     ]
    },
    {
     "name": "stdout",
     "output_type": "stream",
     "text": [
      "simulation"
     ]
    },
    {
     "name": "stdout",
     "output_type": "stream",
     "text": [
      "_params"
     ]
    },
    {
     "name": "stdout",
     "output_type": "stream",
     "text": [
      "\":"
     ]
    },
    {
     "name": "stdout",
     "output_type": "stream",
     "text": [
      " {\n"
     ]
    },
    {
     "name": "stdout",
     "output_type": "stream",
     "text": [
      "     "
     ]
    },
    {
     "name": "stdout",
     "output_type": "stream",
     "text": [
      " \""
     ]
    },
    {
     "name": "stdout",
     "output_type": "stream",
     "text": [
      "En"
     ]
    },
    {
     "name": "stdout",
     "output_type": "stream",
     "text": [
      "semble"
     ]
    },
    {
     "name": "stdout",
     "output_type": "stream",
     "text": [
      "\":"
     ]
    },
    {
     "name": "stdout",
     "output_type": "stream",
     "text": [
      " \""
     ]
    },
    {
     "name": "stdout",
     "output_type": "stream",
     "text": [
      "N"
     ]
    },
    {
     "name": "stdout",
     "output_type": "stream",
     "text": [
      "VT"
     ]
    },
    {
     "name": "stdout",
     "output_type": "stream",
     "text": [
      "\",\n"
     ]
    },
    {
     "name": "stdout",
     "output_type": "stream",
     "text": [
      "     "
     ]
    },
    {
     "name": "stdout",
     "output_type": "stream",
     "text": [
      " \""
     ]
    },
    {
     "name": "stdout",
     "output_type": "stream",
     "text": [
      "Number"
     ]
    },
    {
     "name": "stdout",
     "output_type": "stream",
     "text": [
      " of"
     ]
    },
    {
     "name": "stdout",
     "output_type": "stream",
     "text": [
      " Steps"
     ]
    },
    {
     "name": "stdout",
     "output_type": "stream",
     "text": [
      "\":"
     ]
    },
    {
     "name": "stdout",
     "output_type": "stream",
     "text": [
      " "
     ]
    },
    {
     "name": "stdout",
     "output_type": "stream",
     "text": [
      "500"
     ]
    },
    {
     "name": "stdout",
     "output_type": "stream",
     "text": [
      "0"
     ]
    },
    {
     "name": "stdout",
     "output_type": "stream",
     "text": [
      ",\n"
     ]
    },
    {
     "name": "stdout",
     "output_type": "stream",
     "text": [
      "     "
     ]
    },
    {
     "name": "stdout",
     "output_type": "stream",
     "text": [
      " \""
     ]
    },
    {
     "name": "stdout",
     "output_type": "stream",
     "text": [
      "record"
     ]
    },
    {
     "name": "stdout",
     "output_type": "stream",
     "text": [
      "_interval"
     ]
    },
    {
     "name": "stdout",
     "output_type": "stream",
     "text": [
      "_steps"
     ]
    },
    {
     "name": "stdout",
     "output_type": "stream",
     "text": [
      "\":"
     ]
    },
    {
     "name": "stdout",
     "output_type": "stream",
     "text": [
      " "
     ]
    },
    {
     "name": "stdout",
     "output_type": "stream",
     "text": [
      "100"
     ]
    },
    {
     "name": "stdout",
     "output_type": "stream",
     "text": [
      ",\n"
     ]
    },
    {
     "name": "stdout",
     "output_type": "stream",
     "text": [
      "     "
     ]
    },
    {
     "name": "stdout",
     "output_type": "stream",
     "text": [
      " \""
     ]
    },
    {
     "name": "stdout",
     "output_type": "stream",
     "text": [
      "record"
     ]
    },
    {
     "name": "stdout",
     "output_type": "stream",
     "text": [
      "_params"
     ]
    },
    {
     "name": "stdout",
     "output_type": "stream",
     "text": [
      "\":"
     ]
    },
    {
     "name": "stdout",
     "output_type": "stream",
     "text": [
      " [\""
     ]
    },
    {
     "name": "stdout",
     "output_type": "stream",
     "text": [
      "step"
     ]
    },
    {
     "name": "stdout",
     "output_type": "stream",
     "text": [
      "\","
     ]
    },
    {
     "name": "stdout",
     "output_type": "stream",
     "text": [
      " \""
     ]
    },
    {
     "name": "stdout",
     "output_type": "stream",
     "text": [
      "potential"
     ]
    },
    {
     "name": "stdout",
     "output_type": "stream",
     "text": [
      "Energy"
     ]
    },
    {
     "name": "stdout",
     "output_type": "stream",
     "text": [
      "\","
     ]
    },
    {
     "name": "stdout",
     "output_type": "stream",
     "text": [
      " \""
     ]
    },
    {
     "name": "stdout",
     "output_type": "stream",
     "text": [
      "temperature"
     ]
    },
    {
     "name": "stdout",
     "output_type": "stream",
     "text": [
      "\"]\n"
     ]
    },
    {
     "name": "stdout",
     "output_type": "stream",
     "text": [
      "   "
     ]
    },
    {
     "name": "stdout",
     "output_type": "stream",
     "text": [
      " }\n"
     ]
    },
    {
     "name": "stdout",
     "output_type": "stream",
     "text": [
      " "
     ]
    },
    {
     "name": "stdout",
     "output_type": "stream",
     "text": [
      " }\n"
     ]
    },
    {
     "name": "stdout",
     "output_type": "stream",
     "text": [
      "}\n"
     ]
    },
    {
     "name": "stdout",
     "output_type": "stream",
     "text": [
      "```"
     ]
    },
    {
     "name": "stdout",
     "output_type": "stream",
     "text": [
      "Setting default forcefields v2\n",
      "Building system...\n"
     ]
    },
    {
     "name": "stdout",
     "output_type": "stream",
     "text": [
      "About to create system...\n",
      "Attempts at creating system: 0/3\n",
      "adding system without solvent\n",
      "System built successfully\n",
      "<openmm.openmm.System; proxy of <Swig Object of type 'OpenMM::System *' at 0x2afb2f921b60> >\n",
      "Setting up integrator...\n",
      "Creating simulation...\n"
     ]
    },
    {
     "name": "stdout",
     "output_type": "stream",
     "text": [
      "simulation set!\n",
      "Performing energy minimization...\n"
     ]
    },
    {
     "name": "stdout",
     "output_type": "stream",
     "text": [
      "Minimization complete!\n",
      "Initial Positions saved to initial_positions.pdb\n",
      "Equilibrating...\n"
     ]
    },
    {
     "name": "stdout",
     "output_type": "stream",
     "text": [
      "Simulating...\n"
     ]
    },
    {
     "name": "stdout",
     "output_type": "stream",
     "text": [
      "Done!\n",
      "Standalone simulation script written to /gpfs/fs2/scratch/qcampbe2/repos/md-agent/ckpt/ckpt_12/simulations/NVT_1L6X_234000_20241017_234003.py\n",
      "['TRAJ_sim0_230437_1VII_230411_20241017_230440.dcd', 'submit_experiments.sh', 'LOG_sim0_233942_1VII_233940_20241017_233945.txt', 'results_gpt4t', 'single_job.sh', 'paper_collection', 'results_gpt4o', '.ipynb_checkpoints', 'TOP_sim0_234043_1VII_234032_20241017_234046.pdb', 'TRAJ_sim0_233418_1VII_233414_20241017_233421.dcd', 'jobs_gpt3.5.sh', 'templates', 'log_submission', 'TOP_sim0_234003_1L6X_234000_20241017_234004.pdb', 'out', 'LOG_sim0_230437_1VII_230411_20241017_230440.txt', 'LOG_sim0_234043_1VII_234032_20241017_234046.txt', 'TRAJ_sim0_234003_1L6X_234000_20241017_234004.dcd', 'results_gpt3.5', 'results_70b', 'TRAJ_sim0_233942_1VII_233940_20241017_233945.dcd', 'LOG_sim0_234003_1L6X_234000_20241017_234004.txt', 'results_gpt4p', 'results_405b', 'LOG_sim0_234002_1VII_233957_20241017_234002.txt', 'TRAJ_sim0_234043_1VII_234032_20241017_234046.dcd', 'TOP_sim0_233418_1VII_233414_20241017_233421.pdb', 'out.exp_5_gpt4t_v2', 'results_others', 'TOP_sim0_233942_1VII_233940_20241017_233945.pdb', 'TRAJ_sim0_234002_1VII_233957_20241017_234002.dcd', 'LOG_sim0_233418_1VII_233414_20241017_233421.txt', 'TOP_sim0_230437_1VII_230411_20241017_230440.pdb', 'TOP_sim0_234002_1VII_233957_20241017_234002.pdb']\n"
     ]
    },
    {
     "name": "stdout",
     "output_type": "stream",
     "text": [
      "To"
     ]
    },
    {
     "name": "stdout",
     "output_type": "stream",
     "text": [
      " continue"
     ]
    },
    {
     "name": "stdout",
     "output_type": "stream",
     "text": [
      " with"
     ]
    },
    {
     "name": "stdout",
     "output_type": "stream",
     "text": [
      " the"
     ]
    },
    {
     "name": "stdout",
     "output_type": "stream",
     "text": [
      " analysis"
     ]
    },
    {
     "name": "stdout",
     "output_type": "stream",
     "text": [
      ","
     ]
    },
    {
     "name": "stdout",
     "output_type": "stream",
     "text": [
      " I"
     ]
    },
    {
     "name": "stdout",
     "output_type": "stream",
     "text": [
      " need"
     ]
    },
    {
     "name": "stdout",
     "output_type": "stream",
     "text": [
      " to"
     ]
    },
    {
     "name": "stdout",
     "output_type": "stream",
     "text": [
      " perform"
     ]
    },
    {
     "name": "stdout",
     "output_type": "stream",
     "text": [
      " the"
     ]
    },
    {
     "name": "stdout",
     "output_type": "stream",
     "text": [
      " Sol"
     ]
    },
    {
     "name": "stdout",
     "output_type": "stream",
     "text": [
      "vent"
     ]
    },
    {
     "name": "stdout",
     "output_type": "stream",
     "text": [
      " Accessible"
     ]
    },
    {
     "name": "stdout",
     "output_type": "stream",
     "text": [
      " Surface"
     ]
    },
    {
     "name": "stdout",
     "output_type": "stream",
     "text": [
      " Area"
     ]
    },
    {
     "name": "stdout",
     "output_type": "stream",
     "text": [
      " ("
     ]
    },
    {
     "name": "stdout",
     "output_type": "stream",
     "text": [
      "S"
     ]
    },
    {
     "name": "stdout",
     "output_type": "stream",
     "text": [
      "ASA"
     ]
    },
    {
     "name": "stdout",
     "output_type": "stream",
     "text": [
      ")"
     ]
    },
    {
     "name": "stdout",
     "output_type": "stream",
     "text": [
      " and"
     ]
    },
    {
     "name": "stdout",
     "output_type": "stream",
     "text": [
      " Root"
     ]
    },
    {
     "name": "stdout",
     "output_type": "stream",
     "text": [
      " Mean"
     ]
    },
    {
     "name": "stdout",
     "output_type": "stream",
     "text": [
      " Square"
     ]
    },
    {
     "name": "stdout",
     "output_type": "stream",
     "text": [
      " Fl"
     ]
    },
    {
     "name": "stdout",
     "output_type": "stream",
     "text": [
      "uct"
     ]
    },
    {
     "name": "stdout",
     "output_type": "stream",
     "text": [
      "uation"
     ]
    },
    {
     "name": "stdout",
     "output_type": "stream",
     "text": [
      " ("
     ]
    },
    {
     "name": "stdout",
     "output_type": "stream",
     "text": [
      "R"
     ]
    },
    {
     "name": "stdout",
     "output_type": "stream",
     "text": [
      "MS"
     ]
    },
    {
     "name": "stdout",
     "output_type": "stream",
     "text": [
      "F"
     ]
    },
    {
     "name": "stdout",
     "output_type": "stream",
     "text": [
      ")"
     ]
    },
    {
     "name": "stdout",
     "output_type": "stream",
     "text": [
      " calculations"
     ]
    },
    {
     "name": "stdout",
     "output_type": "stream",
     "text": [
      " for"
     ]
    },
    {
     "name": "stdout",
     "output_type": "stream",
     "text": [
      " the"
     ]
    },
    {
     "name": "stdout",
     "output_type": "stream",
     "text": [
      " simulation"
     ]
    },
    {
     "name": "stdout",
     "output_type": "stream",
     "text": [
      " at"
     ]
    },
    {
     "name": "stdout",
     "output_type": "stream",
     "text": [
      " p"
     ]
    },
    {
     "name": "stdout",
     "output_type": "stream",
     "text": [
      "H"
     ]
    },
    {
     "name": "stdout",
     "output_type": "stream",
     "text": [
      " "
     ]
    },
    {
     "name": "stdout",
     "output_type": "stream",
     "text": [
      "5"
     ]
    },
    {
     "name": "stdout",
     "output_type": "stream",
     "text": [
      "."
     ]
    },
    {
     "name": "stdout",
     "output_type": "stream",
     "text": [
      "0"
     ]
    },
    {
     "name": "stdout",
     "output_type": "stream",
     "text": [
      "."
     ]
    },
    {
     "name": "stdout",
     "output_type": "stream",
     "text": [
      " After"
     ]
    },
    {
     "name": "stdout",
     "output_type": "stream",
     "text": [
      " completing"
     ]
    },
    {
     "name": "stdout",
     "output_type": "stream",
     "text": [
      " these"
     ]
    },
    {
     "name": "stdout",
     "output_type": "stream",
     "text": [
      " analyses"
     ]
    },
    {
     "name": "stdout",
     "output_type": "stream",
     "text": [
      ","
     ]
    },
    {
     "name": "stdout",
     "output_type": "stream",
     "text": [
      " I"
     ]
    },
    {
     "name": "stdout",
     "output_type": "stream",
     "text": [
      " will"
     ]
    },
    {
     "name": "stdout",
     "output_type": "stream",
     "text": [
      " repeat"
     ]
    },
    {
     "name": "stdout",
     "output_type": "stream",
     "text": [
      " the"
     ]
    },
    {
     "name": "stdout",
     "output_type": "stream",
     "text": [
      " process"
     ]
    },
    {
     "name": "stdout",
     "output_type": "stream",
     "text": [
      " for"
     ]
    },
    {
     "name": "stdout",
     "output_type": "stream",
     "text": [
      " p"
     ]
    },
    {
     "name": "stdout",
     "output_type": "stream",
     "text": [
      "H"
     ]
    },
    {
     "name": "stdout",
     "output_type": "stream",
     "text": [
      " "
     ]
    },
    {
     "name": "stdout",
     "output_type": "stream",
     "text": [
      "8"
     ]
    },
    {
     "name": "stdout",
     "output_type": "stream",
     "text": [
      "."
     ]
    },
    {
     "name": "stdout",
     "output_type": "stream",
     "text": [
      "8"
     ]
    },
    {
     "name": "stdout",
     "output_type": "stream",
     "text": [
      "."
     ]
    },
    {
     "name": "stdout",
     "output_type": "stream",
     "text": [
      " Let's"
     ]
    },
    {
     "name": "stdout",
     "output_type": "stream",
     "text": [
      " start"
     ]
    },
    {
     "name": "stdout",
     "output_type": "stream",
     "text": [
      " by"
     ]
    },
    {
     "name": "stdout",
     "output_type": "stream",
     "text": [
      " calculating"
     ]
    },
    {
     "name": "stdout",
     "output_type": "stream",
     "text": [
      " the"
     ]
    },
    {
     "name": "stdout",
     "output_type": "stream",
     "text": [
      " SAS"
     ]
    },
    {
     "name": "stdout",
     "output_type": "stream",
     "text": [
      "A"
     ]
    },
    {
     "name": "stdout",
     "output_type": "stream",
     "text": [
      " for"
     ]
    },
    {
     "name": "stdout",
     "output_type": "stream",
     "text": [
      " the"
     ]
    },
    {
     "name": "stdout",
     "output_type": "stream",
     "text": [
      " simulation"
     ]
    },
    {
     "name": "stdout",
     "output_type": "stream",
     "text": [
      " at"
     ]
    },
    {
     "name": "stdout",
     "output_type": "stream",
     "text": [
      " p"
     ]
    },
    {
     "name": "stdout",
     "output_type": "stream",
     "text": [
      "H"
     ]
    },
    {
     "name": "stdout",
     "output_type": "stream",
     "text": [
      " "
     ]
    },
    {
     "name": "stdout",
     "output_type": "stream",
     "text": [
      "5"
     ]
    },
    {
     "name": "stdout",
     "output_type": "stream",
     "text": [
      "."
     ]
    },
    {
     "name": "stdout",
     "output_type": "stream",
     "text": [
      "0"
     ]
    },
    {
     "name": "stdout",
     "output_type": "stream",
     "text": [
      ".\n",
      "\n"
     ]
    },
    {
     "name": "stdout",
     "output_type": "stream",
     "text": [
      "Action"
     ]
    },
    {
     "name": "stdout",
     "output_type": "stream",
     "text": [
      ":\n"
     ]
    },
    {
     "name": "stdout",
     "output_type": "stream",
     "text": [
      "```"
     ]
    },
    {
     "name": "stdout",
     "output_type": "stream",
     "text": [
      "json"
     ]
    },
    {
     "name": "stdout",
     "output_type": "stream",
     "text": [
      "\n"
     ]
    },
    {
     "name": "stdout",
     "output_type": "stream",
     "text": [
      "{\n"
     ]
    },
    {
     "name": "stdout",
     "output_type": "stream",
     "text": [
      " "
     ]
    },
    {
     "name": "stdout",
     "output_type": "stream",
     "text": [
      " \""
     ]
    },
    {
     "name": "stdout",
     "output_type": "stream",
     "text": [
      "action"
     ]
    },
    {
     "name": "stdout",
     "output_type": "stream",
     "text": [
      "\":"
     ]
    },
    {
     "name": "stdout",
     "output_type": "stream",
     "text": [
      " \""
     ]
    },
    {
     "name": "stdout",
     "output_type": "stream",
     "text": [
      "Sol"
     ]
    },
    {
     "name": "stdout",
     "output_type": "stream",
     "text": [
      "vent"
     ]
    },
    {
     "name": "stdout",
     "output_type": "stream",
     "text": [
      "Accessible"
     ]
    },
    {
     "name": "stdout",
     "output_type": "stream",
     "text": [
      "Surface"
     ]
    },
    {
     "name": "stdout",
     "output_type": "stream",
     "text": [
      "Area"
     ]
    },
    {
     "name": "stdout",
     "output_type": "stream",
     "text": [
      "\",\n"
     ]
    },
    {
     "name": "stdout",
     "output_type": "stream",
     "text": [
      " "
     ]
    },
    {
     "name": "stdout",
     "output_type": "stream",
     "text": [
      " \""
     ]
    },
    {
     "name": "stdout",
     "output_type": "stream",
     "text": [
      "action"
     ]
    },
    {
     "name": "stdout",
     "output_type": "stream",
     "text": [
      "_input"
     ]
    },
    {
     "name": "stdout",
     "output_type": "stream",
     "text": [
      "\":"
     ]
    },
    {
     "name": "stdout",
     "output_type": "stream",
     "text": [
      " {\n"
     ]
    },
    {
     "name": "stdout",
     "output_type": "stream",
     "text": [
      "   "
     ]
    },
    {
     "name": "stdout",
     "output_type": "stream",
     "text": [
      " \""
     ]
    },
    {
     "name": "stdout",
     "output_type": "stream",
     "text": [
      "top"
     ]
    },
    {
     "name": "stdout",
     "output_type": "stream",
     "text": [
      "_file"
     ]
    },
    {
     "name": "stdout",
     "output_type": "stream",
     "text": [
      "id"
     ]
    },
    {
     "name": "stdout",
     "output_type": "stream",
     "text": [
      "\":"
     ]
    },
    {
     "name": "stdout",
     "output_type": "stream",
     "text": [
      " \""
     ]
    },
    {
     "name": "stdout",
     "output_type": "stream",
     "text": [
      "top"
     ]
    },
    {
     "name": "stdout",
     "output_type": "stream",
     "text": [
      "_sim"
     ]
    },
    {
     "name": "stdout",
     "output_type": "stream",
     "text": [
      "0"
     ]
    },
    {
     "name": "stdout",
     "output_type": "stream",
     "text": [
      "_"
     ]
    },
    {
     "name": "stdout",
     "output_type": "stream",
     "text": [
      "234"
     ]
    },
    {
     "name": "stdout",
     "output_type": "stream",
     "text": [
      "003"
     ]
    },
    {
     "name": "stdout",
     "output_type": "stream",
     "text": [
      "\",\n"
     ]
    },
    {
     "name": "stdout",
     "output_type": "stream",
     "text": [
      "   "
     ]
    },
    {
     "name": "stdout",
     "output_type": "stream",
     "text": [
      " \""
     ]
    },
    {
     "name": "stdout",
     "output_type": "stream",
     "text": [
      "traj"
     ]
    },
    {
     "name": "stdout",
     "output_type": "stream",
     "text": [
      "_file"
     ]
    },
    {
     "name": "stdout",
     "output_type": "stream",
     "text": [
      "id"
     ]
    },
    {
     "name": "stdout",
     "output_type": "stream",
     "text": [
      "\":"
     ]
    },
    {
     "name": "stdout",
     "output_type": "stream",
     "text": [
      " \""
     ]
    },
    {
     "name": "stdout",
     "output_type": "stream",
     "text": [
      "rec"
     ]
    },
    {
     "name": "stdout",
     "output_type": "stream",
     "text": [
      "0"
     ]
    },
    {
     "name": "stdout",
     "output_type": "stream",
     "text": [
      "_"
     ]
    },
    {
     "name": "stdout",
     "output_type": "stream",
     "text": [
      "234"
     ]
    },
    {
     "name": "stdout",
     "output_type": "stream",
     "text": [
      "004"
     ]
    },
    {
     "name": "stdout",
     "output_type": "stream",
     "text": [
      "\",\n"
     ]
    },
    {
     "name": "stdout",
     "output_type": "stream",
     "text": [
      "   "
     ]
    },
    {
     "name": "stdout",
     "output_type": "stream",
     "text": [
      " \""
     ]
    },
    {
     "name": "stdout",
     "output_type": "stream",
     "text": [
      "m"
     ]
    },
    {
     "name": "stdout",
     "output_type": "stream",
     "text": [
      "olecule"
     ]
    },
    {
     "name": "stdout",
     "output_type": "stream",
     "text": [
      "_name"
     ]
    },
    {
     "name": "stdout",
     "output_type": "stream",
     "text": [
      "\":"
     ]
    },
    {
     "name": "stdout",
     "output_type": "stream",
     "text": [
      " \""
     ]
    },
    {
     "name": "stdout",
     "output_type": "stream",
     "text": [
      "1"
     ]
    },
    {
     "name": "stdout",
     "output_type": "stream",
     "text": [
      "L"
     ]
    },
    {
     "name": "stdout",
     "output_type": "stream",
     "text": [
      "6"
     ]
    },
    {
     "name": "stdout",
     "output_type": "stream",
     "text": [
      "X"
     ]
    },
    {
     "name": "stdout",
     "output_type": "stream",
     "text": [
      "\"\n"
     ]
    },
    {
     "name": "stdout",
     "output_type": "stream",
     "text": [
      " "
     ]
    },
    {
     "name": "stdout",
     "output_type": "stream",
     "text": [
      " }\n"
     ]
    },
    {
     "name": "stdout",
     "output_type": "stream",
     "text": [
      "}\n"
     ]
    },
    {
     "name": "stdout",
     "output_type": "stream",
     "text": [
      "```"
     ]
    },
    {
     "name": "stdout",
     "output_type": "stream",
     "text": [
      "Loading trajectory ...\n"
     ]
    },
    {
     "name": "stdout",
     "output_type": "stream",
     "text": [
      "Calcuating SASA ...\n"
     ]
    },
    {
     "name": "stdout",
     "output_type": "stream",
     "text": [
      "Data saved to /gpfs/fs2/scratch/qcampbe2/repos/md-agent/ckpt/ckpt_12/records/sasa_1L6X.csv\n"
     ]
    },
    {
     "name": "stdout",
     "output_type": "stream",
     "text": [
      "SASA plot saved to FIG_sasa_1L6X_20241017_234457.png\n"
     ]
    },
    {
     "name": "stdout",
     "output_type": "stream",
     "text": [
      "To"
     ]
    },
    {
     "name": "stdout",
     "output_type": "stream",
     "text": [
      " proceed"
     ]
    },
    {
     "name": "stdout",
     "output_type": "stream",
     "text": [
      " with"
     ]
    },
    {
     "name": "stdout",
     "output_type": "stream",
     "text": [
      " the"
     ]
    },
    {
     "name": "stdout",
     "output_type": "stream",
     "text": [
      " analysis"
     ]
    },
    {
     "name": "stdout",
     "output_type": "stream",
     "text": [
      ","
     ]
    },
    {
     "name": "stdout",
     "output_type": "stream",
     "text": [
      " I"
     ]
    },
    {
     "name": "stdout",
     "output_type": "stream",
     "text": [
      " need"
     ]
    },
    {
     "name": "stdout",
     "output_type": "stream",
     "text": [
      " to"
     ]
    },
    {
     "name": "stdout",
     "output_type": "stream",
     "text": [
      " calculate"
     ]
    },
    {
     "name": "stdout",
     "output_type": "stream",
     "text": [
      " the"
     ]
    },
    {
     "name": "stdout",
     "output_type": "stream",
     "text": [
      " Root"
     ]
    },
    {
     "name": "stdout",
     "output_type": "stream",
     "text": [
      " Mean"
     ]
    },
    {
     "name": "stdout",
     "output_type": "stream",
     "text": [
      " Square"
     ]
    },
    {
     "name": "stdout",
     "output_type": "stream",
     "text": [
      " Fl"
     ]
    },
    {
     "name": "stdout",
     "output_type": "stream",
     "text": [
      "uct"
     ]
    },
    {
     "name": "stdout",
     "output_type": "stream",
     "text": [
      "uation"
     ]
    },
    {
     "name": "stdout",
     "output_type": "stream",
     "text": [
      " ("
     ]
    },
    {
     "name": "stdout",
     "output_type": "stream",
     "text": [
      "R"
     ]
    },
    {
     "name": "stdout",
     "output_type": "stream",
     "text": [
      "MS"
     ]
    },
    {
     "name": "stdout",
     "output_type": "stream",
     "text": [
      "F"
     ]
    },
    {
     "name": "stdout",
     "output_type": "stream",
     "text": [
      ")"
     ]
    },
    {
     "name": "stdout",
     "output_type": "stream",
     "text": [
      " for"
     ]
    },
    {
     "name": "stdout",
     "output_type": "stream",
     "text": [
      " the"
     ]
    },
    {
     "name": "stdout",
     "output_type": "stream",
     "text": [
      " simulation"
     ]
    },
    {
     "name": "stdout",
     "output_type": "stream",
     "text": [
      " at"
     ]
    },
    {
     "name": "stdout",
     "output_type": "stream",
     "text": [
      " p"
     ]
    },
    {
     "name": "stdout",
     "output_type": "stream",
     "text": [
      "H"
     ]
    },
    {
     "name": "stdout",
     "output_type": "stream",
     "text": [
      " "
     ]
    },
    {
     "name": "stdout",
     "output_type": "stream",
     "text": [
      "5"
     ]
    },
    {
     "name": "stdout",
     "output_type": "stream",
     "text": [
      "."
     ]
    },
    {
     "name": "stdout",
     "output_type": "stream",
     "text": [
      "0"
     ]
    },
    {
     "name": "stdout",
     "output_type": "stream",
     "text": [
      "."
     ]
    },
    {
     "name": "stdout",
     "output_type": "stream",
     "text": [
      " After"
     ]
    },
    {
     "name": "stdout",
     "output_type": "stream",
     "text": [
      " completing"
     ]
    },
    {
     "name": "stdout",
     "output_type": "stream",
     "text": [
      " the"
     ]
    },
    {
     "name": "stdout",
     "output_type": "stream",
     "text": [
      " RMS"
     ]
    },
    {
     "name": "stdout",
     "output_type": "stream",
     "text": [
      "F"
     ]
    },
    {
     "name": "stdout",
     "output_type": "stream",
     "text": [
      " analysis"
     ]
    },
    {
     "name": "stdout",
     "output_type": "stream",
     "text": [
      ","
     ]
    },
    {
     "name": "stdout",
     "output_type": "stream",
     "text": [
      " I"
     ]
    },
    {
     "name": "stdout",
     "output_type": "stream",
     "text": [
      " will"
     ]
    },
    {
     "name": "stdout",
     "output_type": "stream",
     "text": [
      " set"
     ]
    },
    {
     "name": "stdout",
     "output_type": "stream",
     "text": [
      " up"
     ]
    },
    {
     "name": "stdout",
     "output_type": "stream",
     "text": [
      " and"
     ]
    },
    {
     "name": "stdout",
     "output_type": "stream",
     "text": [
      " run"
     ]
    },
    {
     "name": "stdout",
     "output_type": "stream",
     "text": [
      " the"
     ]
    },
    {
     "name": "stdout",
     "output_type": "stream",
     "text": [
      " simulation"
     ]
    },
    {
     "name": "stdout",
     "output_type": "stream",
     "text": [
      " at"
     ]
    },
    {
     "name": "stdout",
     "output_type": "stream",
     "text": [
      " p"
     ]
    },
    {
     "name": "stdout",
     "output_type": "stream",
     "text": [
      "H"
     ]
    },
    {
     "name": "stdout",
     "output_type": "stream",
     "text": [
      " "
     ]
    },
    {
     "name": "stdout",
     "output_type": "stream",
     "text": [
      "8"
     ]
    },
    {
     "name": "stdout",
     "output_type": "stream",
     "text": [
      "."
     ]
    },
    {
     "name": "stdout",
     "output_type": "stream",
     "text": [
      "8"
     ]
    },
    {
     "name": "stdout",
     "output_type": "stream",
     "text": [
      " and"
     ]
    },
    {
     "name": "stdout",
     "output_type": "stream",
     "text": [
      " perform"
     ]
    },
    {
     "name": "stdout",
     "output_type": "stream",
     "text": [
      " the"
     ]
    },
    {
     "name": "stdout",
     "output_type": "stream",
     "text": [
      " same"
     ]
    },
    {
     "name": "stdout",
     "output_type": "stream",
     "text": [
      " analyses"
     ]
    },
    {
     "name": "stdout",
     "output_type": "stream",
     "text": [
      "."
     ]
    },
    {
     "name": "stdout",
     "output_type": "stream",
     "text": [
      " Let's"
     ]
    },
    {
     "name": "stdout",
     "output_type": "stream",
     "text": [
      " start"
     ]
    },
    {
     "name": "stdout",
     "output_type": "stream",
     "text": [
      " by"
     ]
    },
    {
     "name": "stdout",
     "output_type": "stream",
     "text": [
      " calculating"
     ]
    },
    {
     "name": "stdout",
     "output_type": "stream",
     "text": [
      " the"
     ]
    },
    {
     "name": "stdout",
     "output_type": "stream",
     "text": [
      " RMS"
     ]
    },
    {
     "name": "stdout",
     "output_type": "stream",
     "text": [
      "F"
     ]
    },
    {
     "name": "stdout",
     "output_type": "stream",
     "text": [
      " for"
     ]
    },
    {
     "name": "stdout",
     "output_type": "stream",
     "text": [
      " the"
     ]
    },
    {
     "name": "stdout",
     "output_type": "stream",
     "text": [
      " simulation"
     ]
    },
    {
     "name": "stdout",
     "output_type": "stream",
     "text": [
      " at"
     ]
    },
    {
     "name": "stdout",
     "output_type": "stream",
     "text": [
      " p"
     ]
    },
    {
     "name": "stdout",
     "output_type": "stream",
     "text": [
      "H"
     ]
    },
    {
     "name": "stdout",
     "output_type": "stream",
     "text": [
      " "
     ]
    },
    {
     "name": "stdout",
     "output_type": "stream",
     "text": [
      "5"
     ]
    },
    {
     "name": "stdout",
     "output_type": "stream",
     "text": [
      "."
     ]
    },
    {
     "name": "stdout",
     "output_type": "stream",
     "text": [
      "0"
     ]
    },
    {
     "name": "stdout",
     "output_type": "stream",
     "text": [
      ".\n",
      "\n"
     ]
    },
    {
     "name": "stdout",
     "output_type": "stream",
     "text": [
      "Action"
     ]
    },
    {
     "name": "stdout",
     "output_type": "stream",
     "text": [
      ":\n"
     ]
    },
    {
     "name": "stdout",
     "output_type": "stream",
     "text": [
      "```"
     ]
    },
    {
     "name": "stdout",
     "output_type": "stream",
     "text": [
      "json"
     ]
    },
    {
     "name": "stdout",
     "output_type": "stream",
     "text": [
      "\n"
     ]
    },
    {
     "name": "stdout",
     "output_type": "stream",
     "text": [
      "{\n"
     ]
    },
    {
     "name": "stdout",
     "output_type": "stream",
     "text": [
      " "
     ]
    },
    {
     "name": "stdout",
     "output_type": "stream",
     "text": [
      " \""
     ]
    },
    {
     "name": "stdout",
     "output_type": "stream",
     "text": [
      "action"
     ]
    },
    {
     "name": "stdout",
     "output_type": "stream",
     "text": [
      "\":"
     ]
    },
    {
     "name": "stdout",
     "output_type": "stream",
     "text": [
      " \""
     ]
    },
    {
     "name": "stdout",
     "output_type": "stream",
     "text": [
      "Compute"
     ]
    },
    {
     "name": "stdout",
     "output_type": "stream",
     "text": [
      "R"
     ]
    },
    {
     "name": "stdout",
     "output_type": "stream",
     "text": [
      "MS"
     ]
    },
    {
     "name": "stdout",
     "output_type": "stream",
     "text": [
      "F"
     ]
    },
    {
     "name": "stdout",
     "output_type": "stream",
     "text": [
      "\",\n"
     ]
    },
    {
     "name": "stdout",
     "output_type": "stream",
     "text": [
      " "
     ]
    },
    {
     "name": "stdout",
     "output_type": "stream",
     "text": [
      " \""
     ]
    },
    {
     "name": "stdout",
     "output_type": "stream",
     "text": [
      "action"
     ]
    },
    {
     "name": "stdout",
     "output_type": "stream",
     "text": [
      "_input"
     ]
    },
    {
     "name": "stdout",
     "output_type": "stream",
     "text": [
      "\":"
     ]
    },
    {
     "name": "stdout",
     "output_type": "stream",
     "text": [
      " {\n"
     ]
    },
    {
     "name": "stdout",
     "output_type": "stream",
     "text": [
      "   "
     ]
    },
    {
     "name": "stdout",
     "output_type": "stream",
     "text": [
      " \""
     ]
    },
    {
     "name": "stdout",
     "output_type": "stream",
     "text": [
      "top"
     ]
    },
    {
     "name": "stdout",
     "output_type": "stream",
     "text": [
      "_id"
     ]
    },
    {
     "name": "stdout",
     "output_type": "stream",
     "text": [
      "\":"
     ]
    },
    {
     "name": "stdout",
     "output_type": "stream",
     "text": [
      " \""
     ]
    },
    {
     "name": "stdout",
     "output_type": "stream",
     "text": [
      "top"
     ]
    },
    {
     "name": "stdout",
     "output_type": "stream",
     "text": [
      "_sim"
     ]
    },
    {
     "name": "stdout",
     "output_type": "stream",
     "text": [
      "0"
     ]
    },
    {
     "name": "stdout",
     "output_type": "stream",
     "text": [
      "_"
     ]
    },
    {
     "name": "stdout",
     "output_type": "stream",
     "text": [
      "234"
     ]
    },
    {
     "name": "stdout",
     "output_type": "stream",
     "text": [
      "003"
     ]
    },
    {
     "name": "stdout",
     "output_type": "stream",
     "text": [
      "\",\n"
     ]
    },
    {
     "name": "stdout",
     "output_type": "stream",
     "text": [
      "   "
     ]
    },
    {
     "name": "stdout",
     "output_type": "stream",
     "text": [
      " \""
     ]
    },
    {
     "name": "stdout",
     "output_type": "stream",
     "text": [
      "traj"
     ]
    },
    {
     "name": "stdout",
     "output_type": "stream",
     "text": [
      "_id"
     ]
    },
    {
     "name": "stdout",
     "output_type": "stream",
     "text": [
      "\":"
     ]
    },
    {
     "name": "stdout",
     "output_type": "stream",
     "text": [
      " \""
     ]
    },
    {
     "name": "stdout",
     "output_type": "stream",
     "text": [
      "rec"
     ]
    },
    {
     "name": "stdout",
     "output_type": "stream",
     "text": [
      "0"
     ]
    },
    {
     "name": "stdout",
     "output_type": "stream",
     "text": [
      "_"
     ]
    },
    {
     "name": "stdout",
     "output_type": "stream",
     "text": [
      "234"
     ]
    },
    {
     "name": "stdout",
     "output_type": "stream",
     "text": [
      "004"
     ]
    },
    {
     "name": "stdout",
     "output_type": "stream",
     "text": [
      "\",\n"
     ]
    },
    {
     "name": "stdout",
     "output_type": "stream",
     "text": [
      "   "
     ]
    },
    {
     "name": "stdout",
     "output_type": "stream",
     "text": [
      " \""
     ]
    },
    {
     "name": "stdout",
     "output_type": "stream",
     "text": [
      "select"
     ]
    },
    {
     "name": "stdout",
     "output_type": "stream",
     "text": [
      "\":"
     ]
    },
    {
     "name": "stdout",
     "output_type": "stream",
     "text": [
      " \""
     ]
    },
    {
     "name": "stdout",
     "output_type": "stream",
     "text": [
      "protein"
     ]
    },
    {
     "name": "stdout",
     "output_type": "stream",
     "text": [
      "\",\n"
     ]
    },
    {
     "name": "stdout",
     "output_type": "stream",
     "text": [
      "   "
     ]
    },
    {
     "name": "stdout",
     "output_type": "stream",
     "text": [
      " \""
     ]
    },
    {
     "name": "stdout",
     "output_type": "stream",
     "text": [
      "mol"
     ]
    },
    {
     "name": "stdout",
     "output_type": "stream",
     "text": [
      "_name"
     ]
    },
    {
     "name": "stdout",
     "output_type": "stream",
     "text": [
      "\":"
     ]
    },
    {
     "name": "stdout",
     "output_type": "stream",
     "text": [
      " \""
     ]
    },
    {
     "name": "stdout",
     "output_type": "stream",
     "text": [
      "1"
     ]
    },
    {
     "name": "stdout",
     "output_type": "stream",
     "text": [
      "L"
     ]
    },
    {
     "name": "stdout",
     "output_type": "stream",
     "text": [
      "6"
     ]
    },
    {
     "name": "stdout",
     "output_type": "stream",
     "text": [
      "X"
     ]
    },
    {
     "name": "stdout",
     "output_type": "stream",
     "text": [
      "\"\n"
     ]
    },
    {
     "name": "stdout",
     "output_type": "stream",
     "text": [
      " "
     ]
    },
    {
     "name": "stdout",
     "output_type": "stream",
     "text": [
      " }\n"
     ]
    },
    {
     "name": "stdout",
     "output_type": "stream",
     "text": [
      "}\n"
     ]
    },
    {
     "name": "stdout",
     "output_type": "stream",
     "text": [
      "```"
     ]
    },
    {
     "name": "stdout",
     "output_type": "stream",
     "text": [
      "Calculating RMSF...\n"
     ]
    },
    {
     "name": "stdout",
     "output_type": "stream",
     "text": [
      "Data saved to /gpfs/fs2/scratch/qcampbe2/repos/md-agent/ckpt/ckpt_12/records/rmsf_1L6X.csv\n"
     ]
    },
    {
     "name": "stdout",
     "output_type": "stream",
     "text": [
      "Plot saved to /gpfs/fs2/scratch/qcampbe2/repos/md-agent/ckpt/ckpt_12/figures/FIG_rmsf_1L6X_20241017_234500.png\n"
     ]
    },
    {
     "name": "stdout",
     "output_type": "stream",
     "text": [
      "To"
     ]
    },
    {
     "name": "stdout",
     "output_type": "stream",
     "text": [
      " complete"
     ]
    },
    {
     "name": "stdout",
     "output_type": "stream",
     "text": [
      " the"
     ]
    },
    {
     "name": "stdout",
     "output_type": "stream",
     "text": [
      " analysis"
     ]
    },
    {
     "name": "stdout",
     "output_type": "stream",
     "text": [
      ","
     ]
    },
    {
     "name": "stdout",
     "output_type": "stream",
     "text": [
      " I"
     ]
    },
    {
     "name": "stdout",
     "output_type": "stream",
     "text": [
      " need"
     ]
    },
    {
     "name": "stdout",
     "output_type": "stream",
     "text": [
      " to"
     ]
    },
    {
     "name": "stdout",
     "output_type": "stream",
     "text": [
      " set"
     ]
    },
    {
     "name": "stdout",
     "output_type": "stream",
     "text": [
      " up"
     ]
    },
    {
     "name": "stdout",
     "output_type": "stream",
     "text": [
      " and"
     ]
    },
    {
     "name": "stdout",
     "output_type": "stream",
     "text": [
      " run"
     ]
    },
    {
     "name": "stdout",
     "output_type": "stream",
     "text": [
      " the"
     ]
    },
    {
     "name": "stdout",
     "output_type": "stream",
     "text": [
      " simulation"
     ]
    },
    {
     "name": "stdout",
     "output_type": "stream",
     "text": [
      " for"
     ]
    },
    {
     "name": "stdout",
     "output_type": "stream",
     "text": [
      " the"
     ]
    },
    {
     "name": "stdout",
     "output_type": "stream",
     "text": [
      " protein"
     ]
    },
    {
     "name": "stdout",
     "output_type": "stream",
     "text": [
      " "
     ]
    },
    {
     "name": "stdout",
     "output_type": "stream",
     "text": [
      "1"
     ]
    },
    {
     "name": "stdout",
     "output_type": "stream",
     "text": [
      "L"
     ]
    },
    {
     "name": "stdout",
     "output_type": "stream",
     "text": [
      "6"
     ]
    },
    {
     "name": "stdout",
     "output_type": "stream",
     "text": [
      "X"
     ]
    },
    {
     "name": "stdout",
     "output_type": "stream",
     "text": [
      " at"
     ]
    },
    {
     "name": "stdout",
     "output_type": "stream",
     "text": [
      " p"
     ]
    },
    {
     "name": "stdout",
     "output_type": "stream",
     "text": [
      "H"
     ]
    },
    {
     "name": "stdout",
     "output_type": "stream",
     "text": [
      " "
     ]
    },
    {
     "name": "stdout",
     "output_type": "stream",
     "text": [
      "8"
     ]
    },
    {
     "name": "stdout",
     "output_type": "stream",
     "text": [
      "."
     ]
    },
    {
     "name": "stdout",
     "output_type": "stream",
     "text": [
      "8"
     ]
    },
    {
     "name": "stdout",
     "output_type": "stream",
     "text": [
      ","
     ]
    },
    {
     "name": "stdout",
     "output_type": "stream",
     "text": [
      " and"
     ]
    },
    {
     "name": "stdout",
     "output_type": "stream",
     "text": [
      " then"
     ]
    },
    {
     "name": "stdout",
     "output_type": "stream",
     "text": [
      " perform"
     ]
    },
    {
     "name": "stdout",
     "output_type": "stream",
     "text": [
      " the"
     ]
    },
    {
     "name": "stdout",
     "output_type": "stream",
     "text": [
      " Sol"
     ]
    },
    {
     "name": "stdout",
     "output_type": "stream",
     "text": [
      "vent"
     ]
    },
    {
     "name": "stdout",
     "output_type": "stream",
     "text": [
      " Accessible"
     ]
    },
    {
     "name": "stdout",
     "output_type": "stream",
     "text": [
      " Surface"
     ]
    },
    {
     "name": "stdout",
     "output_type": "stream",
     "text": [
      " Area"
     ]
    },
    {
     "name": "stdout",
     "output_type": "stream",
     "text": [
      " ("
     ]
    },
    {
     "name": "stdout",
     "output_type": "stream",
     "text": [
      "S"
     ]
    },
    {
     "name": "stdout",
     "output_type": "stream",
     "text": [
      "ASA"
     ]
    },
    {
     "name": "stdout",
     "output_type": "stream",
     "text": [
      ")"
     ]
    },
    {
     "name": "stdout",
     "output_type": "stream",
     "text": [
      " and"
     ]
    },
    {
     "name": "stdout",
     "output_type": "stream",
     "text": [
      " Root"
     ]
    },
    {
     "name": "stdout",
     "output_type": "stream",
     "text": [
      " Mean"
     ]
    },
    {
     "name": "stdout",
     "output_type": "stream",
     "text": [
      " Square"
     ]
    },
    {
     "name": "stdout",
     "output_type": "stream",
     "text": [
      " Fl"
     ]
    },
    {
     "name": "stdout",
     "output_type": "stream",
     "text": [
      "uct"
     ]
    },
    {
     "name": "stdout",
     "output_type": "stream",
     "text": [
      "uation"
     ]
    },
    {
     "name": "stdout",
     "output_type": "stream",
     "text": [
      " ("
     ]
    },
    {
     "name": "stdout",
     "output_type": "stream",
     "text": [
      "R"
     ]
    },
    {
     "name": "stdout",
     "output_type": "stream",
     "text": [
      "MS"
     ]
    },
    {
     "name": "stdout",
     "output_type": "stream",
     "text": [
      "F"
     ]
    },
    {
     "name": "stdout",
     "output_type": "stream",
     "text": [
      ")"
     ]
    },
    {
     "name": "stdout",
     "output_type": "stream",
     "text": [
      " analyses"
     ]
    },
    {
     "name": "stdout",
     "output_type": "stream",
     "text": [
      " for"
     ]
    },
    {
     "name": "stdout",
     "output_type": "stream",
     "text": [
      " this"
     ]
    },
    {
     "name": "stdout",
     "output_type": "stream",
     "text": [
      " condition"
     ]
    },
    {
     "name": "stdout",
     "output_type": "stream",
     "text": [
      "."
     ]
    },
    {
     "name": "stdout",
     "output_type": "stream",
     "text": [
      " Let's"
     ]
    },
    {
     "name": "stdout",
     "output_type": "stream",
     "text": [
      " start"
     ]
    },
    {
     "name": "stdout",
     "output_type": "stream",
     "text": [
      " by"
     ]
    },
    {
     "name": "stdout",
     "output_type": "stream",
     "text": [
      " cleaning"
     ]
    },
    {
     "name": "stdout",
     "output_type": "stream",
     "text": [
      " the"
     ]
    },
    {
     "name": "stdout",
     "output_type": "stream",
     "text": [
      " P"
     ]
    },
    {
     "name": "stdout",
     "output_type": "stream",
     "text": [
      "DB"
     ]
    },
    {
     "name": "stdout",
     "output_type": "stream",
     "text": [
      " file"
     ]
    },
    {
     "name": "stdout",
     "output_type": "stream",
     "text": [
      " for"
     ]
    },
    {
     "name": "stdout",
     "output_type": "stream",
     "text": [
      " p"
     ]
    },
    {
     "name": "stdout",
     "output_type": "stream",
     "text": [
      "H"
     ]
    },
    {
     "name": "stdout",
     "output_type": "stream",
     "text": [
      " "
     ]
    },
    {
     "name": "stdout",
     "output_type": "stream",
     "text": [
      "8"
     ]
    },
    {
     "name": "stdout",
     "output_type": "stream",
     "text": [
      "."
     ]
    },
    {
     "name": "stdout",
     "output_type": "stream",
     "text": [
      "8"
     ]
    },
    {
     "name": "stdout",
     "output_type": "stream",
     "text": [
      " and"
     ]
    },
    {
     "name": "stdout",
     "output_type": "stream",
     "text": [
      " then"
     ]
    },
    {
     "name": "stdout",
     "output_type": "stream",
     "text": [
      " proceed"
     ]
    },
    {
     "name": "stdout",
     "output_type": "stream",
     "text": [
      " with"
     ]
    },
    {
     "name": "stdout",
     "output_type": "stream",
     "text": [
      " the"
     ]
    },
    {
     "name": "stdout",
     "output_type": "stream",
     "text": [
      " simulation"
     ]
    },
    {
     "name": "stdout",
     "output_type": "stream",
     "text": [
      " setup"
     ]
    },
    {
     "name": "stdout",
     "output_type": "stream",
     "text": [
      ".\n",
      "\n"
     ]
    },
    {
     "name": "stdout",
     "output_type": "stream",
     "text": [
      "Action"
     ]
    },
    {
     "name": "stdout",
     "output_type": "stream",
     "text": [
      ":\n"
     ]
    },
    {
     "name": "stdout",
     "output_type": "stream",
     "text": [
      "```"
     ]
    },
    {
     "name": "stdout",
     "output_type": "stream",
     "text": [
      "json"
     ]
    },
    {
     "name": "stdout",
     "output_type": "stream",
     "text": [
      "\n"
     ]
    },
    {
     "name": "stdout",
     "output_type": "stream",
     "text": [
      "{\n"
     ]
    },
    {
     "name": "stdout",
     "output_type": "stream",
     "text": [
      " "
     ]
    },
    {
     "name": "stdout",
     "output_type": "stream",
     "text": [
      " \""
     ]
    },
    {
     "name": "stdout",
     "output_type": "stream",
     "text": [
      "action"
     ]
    },
    {
     "name": "stdout",
     "output_type": "stream",
     "text": [
      "\":"
     ]
    },
    {
     "name": "stdout",
     "output_type": "stream",
     "text": [
      " \""
     ]
    },
    {
     "name": "stdout",
     "output_type": "stream",
     "text": [
      "Cleaning"
     ]
    },
    {
     "name": "stdout",
     "output_type": "stream",
     "text": [
      "Tool"
     ]
    },
    {
     "name": "stdout",
     "output_type": "stream",
     "text": [
      "Function"
     ]
    },
    {
     "name": "stdout",
     "output_type": "stream",
     "text": [
      "\",\n"
     ]
    },
    {
     "name": "stdout",
     "output_type": "stream",
     "text": [
      " "
     ]
    },
    {
     "name": "stdout",
     "output_type": "stream",
     "text": [
      " \""
     ]
    },
    {
     "name": "stdout",
     "output_type": "stream",
     "text": [
      "action"
     ]
    },
    {
     "name": "stdout",
     "output_type": "stream",
     "text": [
      "_input"
     ]
    },
    {
     "name": "stdout",
     "output_type": "stream",
     "text": [
      "\":"
     ]
    },
    {
     "name": "stdout",
     "output_type": "stream",
     "text": [
      " {\n"
     ]
    },
    {
     "name": "stdout",
     "output_type": "stream",
     "text": [
      "   "
     ]
    },
    {
     "name": "stdout",
     "output_type": "stream",
     "text": [
      " \""
     ]
    },
    {
     "name": "stdout",
     "output_type": "stream",
     "text": [
      "p"
     ]
    },
    {
     "name": "stdout",
     "output_type": "stream",
     "text": [
      "db"
     ]
    },
    {
     "name": "stdout",
     "output_type": "stream",
     "text": [
      "_id"
     ]
    },
    {
     "name": "stdout",
     "output_type": "stream",
     "text": [
      "\":"
     ]
    },
    {
     "name": "stdout",
     "output_type": "stream",
     "text": [
      " \""
     ]
    },
    {
     "name": "stdout",
     "output_type": "stream",
     "text": [
      "1"
     ]
    },
    {
     "name": "stdout",
     "output_type": "stream",
     "text": [
      "L"
     ]
    },
    {
     "name": "stdout",
     "output_type": "stream",
     "text": [
      "6"
     ]
    },
    {
     "name": "stdout",
     "output_type": "stream",
     "text": [
      "X"
     ]
    },
    {
     "name": "stdout",
     "output_type": "stream",
     "text": [
      "_"
     ]
    },
    {
     "name": "stdout",
     "output_type": "stream",
     "text": [
      "233"
     ]
    },
    {
     "name": "stdout",
     "output_type": "stream",
     "text": [
      "951"
     ]
    },
    {
     "name": "stdout",
     "output_type": "stream",
     "text": [
      "\",\n"
     ]
    },
    {
     "name": "stdout",
     "output_type": "stream",
     "text": [
      "   "
     ]
    },
    {
     "name": "stdout",
     "output_type": "stream",
     "text": [
      " \""
     ]
    },
    {
     "name": "stdout",
     "output_type": "stream",
     "text": [
      "replace"
     ]
    },
    {
     "name": "stdout",
     "output_type": "stream",
     "text": [
      "_non"
     ]
    },
    {
     "name": "stdout",
     "output_type": "stream",
     "text": [
      "standard"
     ]
    },
    {
     "name": "stdout",
     "output_type": "stream",
     "text": [
      "_res"
     ]
    },
    {
     "name": "stdout",
     "output_type": "stream",
     "text": [
      "id"
     ]
    },
    {
     "name": "stdout",
     "output_type": "stream",
     "text": [
      "ues"
     ]
    },
    {
     "name": "stdout",
     "output_type": "stream",
     "text": [
      "\":"
     ]
    },
    {
     "name": "stdout",
     "output_type": "stream",
     "text": [
      " true"
     ]
    },
    {
     "name": "stdout",
     "output_type": "stream",
     "text": [
      ",\n"
     ]
    },
    {
     "name": "stdout",
     "output_type": "stream",
     "text": [
      "   "
     ]
    },
    {
     "name": "stdout",
     "output_type": "stream",
     "text": [
      " \""
     ]
    },
    {
     "name": "stdout",
     "output_type": "stream",
     "text": [
      "add"
     ]
    },
    {
     "name": "stdout",
     "output_type": "stream",
     "text": [
      "_missing"
     ]
    },
    {
     "name": "stdout",
     "output_type": "stream",
     "text": [
      "_atoms"
     ]
    },
    {
     "name": "stdout",
     "output_type": "stream",
     "text": [
      "\":"
     ]
    },
    {
     "name": "stdout",
     "output_type": "stream",
     "text": [
      " true"
     ]
    },
    {
     "name": "stdout",
     "output_type": "stream",
     "text": [
      ",\n"
     ]
    },
    {
     "name": "stdout",
     "output_type": "stream",
     "text": [
      "   "
     ]
    },
    {
     "name": "stdout",
     "output_type": "stream",
     "text": [
      " \""
     ]
    },
    {
     "name": "stdout",
     "output_type": "stream",
     "text": [
      "remove"
     ]
    },
    {
     "name": "stdout",
     "output_type": "stream",
     "text": [
      "_"
     ]
    },
    {
     "name": "stdout",
     "output_type": "stream",
     "text": [
      "heter"
     ]
    },
    {
     "name": "stdout",
     "output_type": "stream",
     "text": [
      "ogens"
     ]
    },
    {
     "name": "stdout",
     "output_type": "stream",
     "text": [
      "\":"
     ]
    },
    {
     "name": "stdout",
     "output_type": "stream",
     "text": [
      " true"
     ]
    },
    {
     "name": "stdout",
     "output_type": "stream",
     "text": [
      ",\n"
     ]
    },
    {
     "name": "stdout",
     "output_type": "stream",
     "text": [
      "   "
     ]
    },
    {
     "name": "stdout",
     "output_type": "stream",
     "text": [
      " \""
     ]
    },
    {
     "name": "stdout",
     "output_type": "stream",
     "text": [
      "remove"
     ]
    },
    {
     "name": "stdout",
     "output_type": "stream",
     "text": [
      "_water"
     ]
    },
    {
     "name": "stdout",
     "output_type": "stream",
     "text": [
      "\":"
     ]
    },
    {
     "name": "stdout",
     "output_type": "stream",
     "text": [
      " true"
     ]
    },
    {
     "name": "stdout",
     "output_type": "stream",
     "text": [
      ",\n"
     ]
    },
    {
     "name": "stdout",
     "output_type": "stream",
     "text": [
      "   "
     ]
    },
    {
     "name": "stdout",
     "output_type": "stream",
     "text": [
      " \""
     ]
    },
    {
     "name": "stdout",
     "output_type": "stream",
     "text": [
      "add"
     ]
    },
    {
     "name": "stdout",
     "output_type": "stream",
     "text": [
      "_h"
     ]
    },
    {
     "name": "stdout",
     "output_type": "stream",
     "text": [
      "yd"
     ]
    },
    {
     "name": "stdout",
     "output_type": "stream",
     "text": [
      "rog"
     ]
    },
    {
     "name": "stdout",
     "output_type": "stream",
     "text": [
      "ens"
     ]
    },
    {
     "name": "stdout",
     "output_type": "stream",
     "text": [
      "\":"
     ]
    },
    {
     "name": "stdout",
     "output_type": "stream",
     "text": [
      " true"
     ]
    },
    {
     "name": "stdout",
     "output_type": "stream",
     "text": [
      ",\n"
     ]
    },
    {
     "name": "stdout",
     "output_type": "stream",
     "text": [
      "   "
     ]
    },
    {
     "name": "stdout",
     "output_type": "stream",
     "text": [
      " \""
     ]
    },
    {
     "name": "stdout",
     "output_type": "stream",
     "text": [
      "add"
     ]
    },
    {
     "name": "stdout",
     "output_type": "stream",
     "text": [
      "_h"
     ]
    },
    {
     "name": "stdout",
     "output_type": "stream",
     "text": [
      "yd"
     ]
    },
    {
     "name": "stdout",
     "output_type": "stream",
     "text": [
      "rog"
     ]
    },
    {
     "name": "stdout",
     "output_type": "stream",
     "text": [
      "ens"
     ]
    },
    {
     "name": "stdout",
     "output_type": "stream",
     "text": [
      "_ph"
     ]
    },
    {
     "name": "stdout",
     "output_type": "stream",
     "text": [
      "\":"
     ]
    },
    {
     "name": "stdout",
     "output_type": "stream",
     "text": [
      " "
     ]
    },
    {
     "name": "stdout",
     "output_type": "stream",
     "text": [
      "8"
     ]
    },
    {
     "name": "stdout",
     "output_type": "stream",
     "text": [
      "."
     ]
    },
    {
     "name": "stdout",
     "output_type": "stream",
     "text": [
      "8"
     ]
    },
    {
     "name": "stdout",
     "output_type": "stream",
     "text": [
      "\n"
     ]
    },
    {
     "name": "stdout",
     "output_type": "stream",
     "text": [
      " "
     ]
    },
    {
     "name": "stdout",
     "output_type": "stream",
     "text": [
      " }\n"
     ]
    },
    {
     "name": "stdout",
     "output_type": "stream",
     "text": [
      "}\n"
     ]
    },
    {
     "name": "stdout",
     "output_type": "stream",
     "text": [
      "```"
     ]
    },
    {
     "name": "stdout",
     "output_type": "stream",
     "text": [
      "file path: /gpfs/fs2/scratch/qcampbe2/repos/md-agent/ckpt/ckpt_12/pdb/1L6X_raw_20241017_233951.pdb\n"
     ]
    },
    {
     "name": "stdout",
     "output_type": "stream",
     "text": [
      "To"
     ]
    },
    {
     "name": "stdout",
     "output_type": "stream",
     "text": [
      " proceed"
     ]
    },
    {
     "name": "stdout",
     "output_type": "stream",
     "text": [
      " with"
     ]
    },
    {
     "name": "stdout",
     "output_type": "stream",
     "text": [
      " the"
     ]
    },
    {
     "name": "stdout",
     "output_type": "stream",
     "text": [
      " simulation"
     ]
    },
    {
     "name": "stdout",
     "output_type": "stream",
     "text": [
      " at"
     ]
    },
    {
     "name": "stdout",
     "output_type": "stream",
     "text": [
      " p"
     ]
    },
    {
     "name": "stdout",
     "output_type": "stream",
     "text": [
      "H"
     ]
    },
    {
     "name": "stdout",
     "output_type": "stream",
     "text": [
      " "
     ]
    },
    {
     "name": "stdout",
     "output_type": "stream",
     "text": [
      "8"
     ]
    },
    {
     "name": "stdout",
     "output_type": "stream",
     "text": [
      "."
     ]
    },
    {
     "name": "stdout",
     "output_type": "stream",
     "text": [
      "8"
     ]
    },
    {
     "name": "stdout",
     "output_type": "stream",
     "text": [
      ","
     ]
    },
    {
     "name": "stdout",
     "output_type": "stream",
     "text": [
      " I"
     ]
    },
    {
     "name": "stdout",
     "output_type": "stream",
     "text": [
      " need"
     ]
    },
    {
     "name": "stdout",
     "output_type": "stream",
     "text": [
      " to"
     ]
    },
    {
     "name": "stdout",
     "output_type": "stream",
     "text": [
      " set"
     ]
    },
    {
     "name": "stdout",
     "output_type": "stream",
     "text": [
      " up"
     ]
    },
    {
     "name": "stdout",
     "output_type": "stream",
     "text": [
      " and"
     ]
    },
    {
     "name": "stdout",
     "output_type": "stream",
     "text": [
      " run"
     ]
    },
    {
     "name": "stdout",
     "output_type": "stream",
     "text": [
      " the"
     ]
    },
    {
     "name": "stdout",
     "output_type": "stream",
     "text": [
      " simulation"
     ]
    },
    {
     "name": "stdout",
     "output_type": "stream",
     "text": [
      " for"
     ]
    },
    {
     "name": "stdout",
     "output_type": "stream",
     "text": [
      " the"
     ]
    },
    {
     "name": "stdout",
     "output_type": "stream",
     "text": [
      " cleaned"
     ]
    },
    {
     "name": "stdout",
     "output_type": "stream",
     "text": [
      " protein"
     ]
    },
    {
     "name": "stdout",
     "output_type": "stream",
     "text": [
      " "
     ]
    },
    {
     "name": "stdout",
     "output_type": "stream",
     "text": [
      "1"
     ]
    },
    {
     "name": "stdout",
     "output_type": "stream",
     "text": [
      "L"
     ]
    },
    {
     "name": "stdout",
     "output_type": "stream",
     "text": [
      "6"
     ]
    },
    {
     "name": "stdout",
     "output_type": "stream",
     "text": [
      "X"
     ]
    },
    {
     "name": "stdout",
     "output_type": "stream",
     "text": [
      "."
     ]
    },
    {
     "name": "stdout",
     "output_type": "stream",
     "text": [
      " After"
     ]
    },
    {
     "name": "stdout",
     "output_type": "stream",
     "text": [
      " setting"
     ]
    },
    {
     "name": "stdout",
     "output_type": "stream",
     "text": [
      " up"
     ]
    },
    {
     "name": "stdout",
     "output_type": "stream",
     "text": [
      " the"
     ]
    },
    {
     "name": "stdout",
     "output_type": "stream",
     "text": [
      " simulation"
     ]
    },
    {
     "name": "stdout",
     "output_type": "stream",
     "text": [
      ","
     ]
    },
    {
     "name": "stdout",
     "output_type": "stream",
     "text": [
      " I"
     ]
    },
    {
     "name": "stdout",
     "output_type": "stream",
     "text": [
      " will"
     ]
    },
    {
     "name": "stdout",
     "output_type": "stream",
     "text": [
      " analyze"
     ]
    },
    {
     "name": "stdout",
     "output_type": "stream",
     "text": [
      " the"
     ]
    },
    {
     "name": "stdout",
     "output_type": "stream",
     "text": [
      " Sol"
     ]
    },
    {
     "name": "stdout",
     "output_type": "stream",
     "text": [
      "vent"
     ]
    },
    {
     "name": "stdout",
     "output_type": "stream",
     "text": [
      " Accessible"
     ]
    },
    {
     "name": "stdout",
     "output_type": "stream",
     "text": [
      " Surface"
     ]
    },
    {
     "name": "stdout",
     "output_type": "stream",
     "text": [
      " Area"
     ]
    },
    {
     "name": "stdout",
     "output_type": "stream",
     "text": [
      " ("
     ]
    },
    {
     "name": "stdout",
     "output_type": "stream",
     "text": [
      "S"
     ]
    },
    {
     "name": "stdout",
     "output_type": "stream",
     "text": [
      "ASA"
     ]
    },
    {
     "name": "stdout",
     "output_type": "stream",
     "text": [
      ")"
     ]
    },
    {
     "name": "stdout",
     "output_type": "stream",
     "text": [
      " and"
     ]
    },
    {
     "name": "stdout",
     "output_type": "stream",
     "text": [
      " Root"
     ]
    },
    {
     "name": "stdout",
     "output_type": "stream",
     "text": [
      " Mean"
     ]
    },
    {
     "name": "stdout",
     "output_type": "stream",
     "text": [
      " Square"
     ]
    },
    {
     "name": "stdout",
     "output_type": "stream",
     "text": [
      " Fl"
     ]
    },
    {
     "name": "stdout",
     "output_type": "stream",
     "text": [
      "uct"
     ]
    },
    {
     "name": "stdout",
     "output_type": "stream",
     "text": [
      "uation"
     ]
    },
    {
     "name": "stdout",
     "output_type": "stream",
     "text": [
      " ("
     ]
    },
    {
     "name": "stdout",
     "output_type": "stream",
     "text": [
      "R"
     ]
    },
    {
     "name": "stdout",
     "output_type": "stream",
     "text": [
      "MS"
     ]
    },
    {
     "name": "stdout",
     "output_type": "stream",
     "text": [
      "F"
     ]
    },
    {
     "name": "stdout",
     "output_type": "stream",
     "text": [
      ")"
     ]
    },
    {
     "name": "stdout",
     "output_type": "stream",
     "text": [
      " for"
     ]
    },
    {
     "name": "stdout",
     "output_type": "stream",
     "text": [
      " this"
     ]
    },
    {
     "name": "stdout",
     "output_type": "stream",
     "text": [
      " condition"
     ]
    },
    {
     "name": "stdout",
     "output_type": "stream",
     "text": [
      "."
     ]
    },
    {
     "name": "stdout",
     "output_type": "stream",
     "text": [
      " Let's"
     ]
    },
    {
     "name": "stdout",
     "output_type": "stream",
     "text": [
      " start"
     ]
    },
    {
     "name": "stdout",
     "output_type": "stream",
     "text": [
      " by"
     ]
    },
    {
     "name": "stdout",
     "output_type": "stream",
     "text": [
      " setting"
     ]
    },
    {
     "name": "stdout",
     "output_type": "stream",
     "text": [
      " up"
     ]
    },
    {
     "name": "stdout",
     "output_type": "stream",
     "text": [
      " and"
     ]
    },
    {
     "name": "stdout",
     "output_type": "stream",
     "text": [
      " running"
     ]
    },
    {
     "name": "stdout",
     "output_type": "stream",
     "text": [
      " the"
     ]
    },
    {
     "name": "stdout",
     "output_type": "stream",
     "text": [
      " simulation"
     ]
    },
    {
     "name": "stdout",
     "output_type": "stream",
     "text": [
      " at"
     ]
    },
    {
     "name": "stdout",
     "output_type": "stream",
     "text": [
      " p"
     ]
    },
    {
     "name": "stdout",
     "output_type": "stream",
     "text": [
      "H"
     ]
    },
    {
     "name": "stdout",
     "output_type": "stream",
     "text": [
      " "
     ]
    },
    {
     "name": "stdout",
     "output_type": "stream",
     "text": [
      "8"
     ]
    },
    {
     "name": "stdout",
     "output_type": "stream",
     "text": [
      "."
     ]
    },
    {
     "name": "stdout",
     "output_type": "stream",
     "text": [
      "8"
     ]
    },
    {
     "name": "stdout",
     "output_type": "stream",
     "text": [
      ".\n",
      "\n"
     ]
    },
    {
     "name": "stdout",
     "output_type": "stream",
     "text": [
      "Action"
     ]
    },
    {
     "name": "stdout",
     "output_type": "stream",
     "text": [
      ":\n"
     ]
    },
    {
     "name": "stdout",
     "output_type": "stream",
     "text": [
      "```"
     ]
    },
    {
     "name": "stdout",
     "output_type": "stream",
     "text": [
      "json"
     ]
    },
    {
     "name": "stdout",
     "output_type": "stream",
     "text": [
      "\n"
     ]
    },
    {
     "name": "stdout",
     "output_type": "stream",
     "text": [
      "{\n"
     ]
    },
    {
     "name": "stdout",
     "output_type": "stream",
     "text": [
      " "
     ]
    },
    {
     "name": "stdout",
     "output_type": "stream",
     "text": [
      " \""
     ]
    },
    {
     "name": "stdout",
     "output_type": "stream",
     "text": [
      "action"
     ]
    },
    {
     "name": "stdout",
     "output_type": "stream",
     "text": [
      "\":"
     ]
    },
    {
     "name": "stdout",
     "output_type": "stream",
     "text": [
      " \""
     ]
    },
    {
     "name": "stdout",
     "output_type": "stream",
     "text": [
      "Set"
     ]
    },
    {
     "name": "stdout",
     "output_type": "stream",
     "text": [
      "Up"
     ]
    },
    {
     "name": "stdout",
     "output_type": "stream",
     "text": [
      "and"
     ]
    },
    {
     "name": "stdout",
     "output_type": "stream",
     "text": [
      "Run"
     ]
    },
    {
     "name": "stdout",
     "output_type": "stream",
     "text": [
      "Function"
     ]
    },
    {
     "name": "stdout",
     "output_type": "stream",
     "text": [
      "\",\n"
     ]
    },
    {
     "name": "stdout",
     "output_type": "stream",
     "text": [
      " "
     ]
    },
    {
     "name": "stdout",
     "output_type": "stream",
     "text": [
      " \""
     ]
    },
    {
     "name": "stdout",
     "output_type": "stream",
     "text": [
      "action"
     ]
    },
    {
     "name": "stdout",
     "output_type": "stream",
     "text": [
      "_input"
     ]
    },
    {
     "name": "stdout",
     "output_type": "stream",
     "text": [
      "\":"
     ]
    },
    {
     "name": "stdout",
     "output_type": "stream",
     "text": [
      " {\n"
     ]
    },
    {
     "name": "stdout",
     "output_type": "stream",
     "text": [
      "   "
     ]
    },
    {
     "name": "stdout",
     "output_type": "stream",
     "text": [
      " \""
     ]
    },
    {
     "name": "stdout",
     "output_type": "stream",
     "text": [
      "p"
     ]
    },
    {
     "name": "stdout",
     "output_type": "stream",
     "text": [
      "db"
     ]
    },
    {
     "name": "stdout",
     "output_type": "stream",
     "text": [
      "_id"
     ]
    },
    {
     "name": "stdout",
     "output_type": "stream",
     "text": [
      "\":"
     ]
    },
    {
     "name": "stdout",
     "output_type": "stream",
     "text": [
      " \""
     ]
    },
    {
     "name": "stdout",
     "output_type": "stream",
     "text": [
      "1"
     ]
    },
    {
     "name": "stdout",
     "output_type": "stream",
     "text": [
      "L"
     ]
    },
    {
     "name": "stdout",
     "output_type": "stream",
     "text": [
      "6"
     ]
    },
    {
     "name": "stdout",
     "output_type": "stream",
     "text": [
      "X"
     ]
    },
    {
     "name": "stdout",
     "output_type": "stream",
     "text": [
      "_"
     ]
    },
    {
     "name": "stdout",
     "output_type": "stream",
     "text": [
      "234"
     ]
    },
    {
     "name": "stdout",
     "output_type": "stream",
     "text": [
      "506"
     ]
    },
    {
     "name": "stdout",
     "output_type": "stream",
     "text": [
      "\",\n"
     ]
    },
    {
     "name": "stdout",
     "output_type": "stream",
     "text": [
      "   "
     ]
    },
    {
     "name": "stdout",
     "output_type": "stream",
     "text": [
      " \""
     ]
    },
    {
     "name": "stdout",
     "output_type": "stream",
     "text": [
      "force"
     ]
    },
    {
     "name": "stdout",
     "output_type": "stream",
     "text": [
      "field"
     ]
    },
    {
     "name": "stdout",
     "output_type": "stream",
     "text": [
      "_files"
     ]
    },
    {
     "name": "stdout",
     "output_type": "stream",
     "text": [
      "\":"
     ]
    },
    {
     "name": "stdout",
     "output_type": "stream",
     "text": [
      " [],\n"
     ]
    },
    {
     "name": "stdout",
     "output_type": "stream",
     "text": [
      "   "
     ]
    },
    {
     "name": "stdout",
     "output_type": "stream",
     "text": [
      " \""
     ]
    },
    {
     "name": "stdout",
     "output_type": "stream",
     "text": [
      "save"
     ]
    },
    {
     "name": "stdout",
     "output_type": "stream",
     "text": [
      "\":"
     ]
    },
    {
     "name": "stdout",
     "output_type": "stream",
     "text": [
      " true"
     ]
    },
    {
     "name": "stdout",
     "output_type": "stream",
     "text": [
      ",\n"
     ]
    },
    {
     "name": "stdout",
     "output_type": "stream",
     "text": [
      "   "
     ]
    },
    {
     "name": "stdout",
     "output_type": "stream",
     "text": [
      " \""
     ]
    },
    {
     "name": "stdout",
     "output_type": "stream",
     "text": [
      "system"
     ]
    },
    {
     "name": "stdout",
     "output_type": "stream",
     "text": [
      "_params"
     ]
    },
    {
     "name": "stdout",
     "output_type": "stream",
     "text": [
      "\":"
     ]
    },
    {
     "name": "stdout",
     "output_type": "stream",
     "text": [
      " {\n"
     ]
    },
    {
     "name": "stdout",
     "output_type": "stream",
     "text": [
      "     "
     ]
    },
    {
     "name": "stdout",
     "output_type": "stream",
     "text": [
      " \""
     ]
    },
    {
     "name": "stdout",
     "output_type": "stream",
     "text": [
      "non"
     ]
    },
    {
     "name": "stdout",
     "output_type": "stream",
     "text": [
      "bond"
     ]
    },
    {
     "name": "stdout",
     "output_type": "stream",
     "text": [
      "ed"
     ]
    },
    {
     "name": "stdout",
     "output_type": "stream",
     "text": [
      "Method"
     ]
    },
    {
     "name": "stdout",
     "output_type": "stream",
     "text": [
      "\":"
     ]
    },
    {
     "name": "stdout",
     "output_type": "stream",
     "text": [
      " \""
     ]
    },
    {
     "name": "stdout",
     "output_type": "stream",
     "text": [
      "No"
     ]
    },
    {
     "name": "stdout",
     "output_type": "stream",
     "text": [
      "Cut"
     ]
    },
    {
     "name": "stdout",
     "output_type": "stream",
     "text": [
      "off"
     ]
    },
    {
     "name": "stdout",
     "output_type": "stream",
     "text": [
      "\",\n"
     ]
    },
    {
     "name": "stdout",
     "output_type": "stream",
     "text": [
      "     "
     ]
    },
    {
     "name": "stdout",
     "output_type": "stream",
     "text": [
      " \""
     ]
    },
    {
     "name": "stdout",
     "output_type": "stream",
     "text": [
      "constraints"
     ]
    },
    {
     "name": "stdout",
     "output_type": "stream",
     "text": [
      "\":"
     ]
    },
    {
     "name": "stdout",
     "output_type": "stream",
     "text": [
      " \""
     ]
    },
    {
     "name": "stdout",
     "output_type": "stream",
     "text": [
      "None"
     ]
    },
    {
     "name": "stdout",
     "output_type": "stream",
     "text": [
      "\",\n"
     ]
    },
    {
     "name": "stdout",
     "output_type": "stream",
     "text": [
      "     "
     ]
    },
    {
     "name": "stdout",
     "output_type": "stream",
     "text": [
      " \""
     ]
    },
    {
     "name": "stdout",
     "output_type": "stream",
     "text": [
      "rig"
     ]
    },
    {
     "name": "stdout",
     "output_type": "stream",
     "text": [
      "id"
     ]
    },
    {
     "name": "stdout",
     "output_type": "stream",
     "text": [
      "Water"
     ]
    },
    {
     "name": "stdout",
     "output_type": "stream",
     "text": [
      "\":"
     ]
    },
    {
     "name": "stdout",
     "output_type": "stream",
     "text": [
      " false"
     ]
    },
    {
     "name": "stdout",
     "output_type": "stream",
     "text": [
      ",\n"
     ]
    },
    {
     "name": "stdout",
     "output_type": "stream",
     "text": [
      "     "
     ]
    },
    {
     "name": "stdout",
     "output_type": "stream",
     "text": [
      " \""
     ]
    },
    {
     "name": "stdout",
     "output_type": "stream",
     "text": [
      "sol"
     ]
    },
    {
     "name": "stdout",
     "output_type": "stream",
     "text": [
      "vate"
     ]
    },
    {
     "name": "stdout",
     "output_type": "stream",
     "text": [
      "\":"
     ]
    },
    {
     "name": "stdout",
     "output_type": "stream",
     "text": [
      " false"
     ]
    },
    {
     "name": "stdout",
     "output_type": "stream",
     "text": [
      "\n"
     ]
    },
    {
     "name": "stdout",
     "output_type": "stream",
     "text": [
      "   "
     ]
    },
    {
     "name": "stdout",
     "output_type": "stream",
     "text": [
      " },\n"
     ]
    },
    {
     "name": "stdout",
     "output_type": "stream",
     "text": [
      "   "
     ]
    },
    {
     "name": "stdout",
     "output_type": "stream",
     "text": [
      " \""
     ]
    },
    {
     "name": "stdout",
     "output_type": "stream",
     "text": [
      "integr"
     ]
    },
    {
     "name": "stdout",
     "output_type": "stream",
     "text": [
      "ator"
     ]
    },
    {
     "name": "stdout",
     "output_type": "stream",
     "text": [
      "_params"
     ]
    },
    {
     "name": "stdout",
     "output_type": "stream",
     "text": [
      "\":"
     ]
    },
    {
     "name": "stdout",
     "output_type": "stream",
     "text": [
      " {\n"
     ]
    },
    {
     "name": "stdout",
     "output_type": "stream",
     "text": [
      "     "
     ]
    },
    {
     "name": "stdout",
     "output_type": "stream",
     "text": [
      " \""
     ]
    },
    {
     "name": "stdout",
     "output_type": "stream",
     "text": [
      "integr"
     ]
    },
    {
     "name": "stdout",
     "output_type": "stream",
     "text": [
      "ator"
     ]
    },
    {
     "name": "stdout",
     "output_type": "stream",
     "text": [
      "_type"
     ]
    },
    {
     "name": "stdout",
     "output_type": "stream",
     "text": [
      "\":"
     ]
    },
    {
     "name": "stdout",
     "output_type": "stream",
     "text": [
      " \""
     ]
    },
    {
     "name": "stdout",
     "output_type": "stream",
     "text": [
      "L"
     ]
    },
    {
     "name": "stdout",
     "output_type": "stream",
     "text": [
      "ange"
     ]
    },
    {
     "name": "stdout",
     "output_type": "stream",
     "text": [
      "vin"
     ]
    },
    {
     "name": "stdout",
     "output_type": "stream",
     "text": [
      "Middle"
     ]
    },
    {
     "name": "stdout",
     "output_type": "stream",
     "text": [
      "\",\n"
     ]
    },
    {
     "name": "stdout",
     "output_type": "stream",
     "text": [
      "     "
     ]
    },
    {
     "name": "stdout",
     "output_type": "stream",
     "text": [
      " \""
     ]
    },
    {
     "name": "stdout",
     "output_type": "stream",
     "text": [
      "Temperature"
     ]
    },
    {
     "name": "stdout",
     "output_type": "stream",
     "text": [
      "\":"
     ]
    },
    {
     "name": "stdout",
     "output_type": "stream",
     "text": [
      " \""
     ]
    },
    {
     "name": "stdout",
     "output_type": "stream",
     "text": [
      "300"
     ]
    },
    {
     "name": "stdout",
     "output_type": "stream",
     "text": [
      " *"
     ]
    },
    {
     "name": "stdout",
     "output_type": "stream",
     "text": [
      " kel"
     ]
    },
    {
     "name": "stdout",
     "output_type": "stream",
     "text": [
      "vin"
     ]
    },
    {
     "name": "stdout",
     "output_type": "stream",
     "text": [
      "\",\n"
     ]
    },
    {
     "name": "stdout",
     "output_type": "stream",
     "text": [
      "     "
     ]
    },
    {
     "name": "stdout",
     "output_type": "stream",
     "text": [
      " \""
     ]
    },
    {
     "name": "stdout",
     "output_type": "stream",
     "text": [
      "F"
     ]
    },
    {
     "name": "stdout",
     "output_type": "stream",
     "text": [
      "riction"
     ]
    },
    {
     "name": "stdout",
     "output_type": "stream",
     "text": [
      "\":"
     ]
    },
    {
     "name": "stdout",
     "output_type": "stream",
     "text": [
      " \""
     ]
    },
    {
     "name": "stdout",
     "output_type": "stream",
     "text": [
      "1"
     ]
    },
    {
     "name": "stdout",
     "output_type": "stream",
     "text": [
      "."
     ]
    },
    {
     "name": "stdout",
     "output_type": "stream",
     "text": [
      "0"
     ]
    },
    {
     "name": "stdout",
     "output_type": "stream",
     "text": [
      " /"
     ]
    },
    {
     "name": "stdout",
     "output_type": "stream",
     "text": [
      " pic"
     ]
    },
    {
     "name": "stdout",
     "output_type": "stream",
     "text": [
      "oseconds"
     ]
    },
    {
     "name": "stdout",
     "output_type": "stream",
     "text": [
      "\",\n"
     ]
    },
    {
     "name": "stdout",
     "output_type": "stream",
     "text": [
      "     "
     ]
    },
    {
     "name": "stdout",
     "output_type": "stream",
     "text": [
      " \""
     ]
    },
    {
     "name": "stdout",
     "output_type": "stream",
     "text": [
      "T"
     ]
    },
    {
     "name": "stdout",
     "output_type": "stream",
     "text": [
      "imestep"
     ]
    },
    {
     "name": "stdout",
     "output_type": "stream",
     "text": [
      "\":"
     ]
    },
    {
     "name": "stdout",
     "output_type": "stream",
     "text": [
      " \""
     ]
    },
    {
     "name": "stdout",
     "output_type": "stream",
     "text": [
      "0"
     ]
    },
    {
     "name": "stdout",
     "output_type": "stream",
     "text": [
      "."
     ]
    },
    {
     "name": "stdout",
     "output_type": "stream",
     "text": [
      "002"
     ]
    },
    {
     "name": "stdout",
     "output_type": "stream",
     "text": [
      " *"
     ]
    },
    {
     "name": "stdout",
     "output_type": "stream",
     "text": [
      " pic"
     ]
    },
    {
     "name": "stdout",
     "output_type": "stream",
     "text": [
      "oseconds"
     ]
    },
    {
     "name": "stdout",
     "output_type": "stream",
     "text": [
      "\",\n"
     ]
    },
    {
     "name": "stdout",
     "output_type": "stream",
     "text": [
      "     "
     ]
    },
    {
     "name": "stdout",
     "output_type": "stream",
     "text": [
      " \""
     ]
    },
    {
     "name": "stdout",
     "output_type": "stream",
     "text": [
      "Pressure"
     ]
    },
    {
     "name": "stdout",
     "output_type": "stream",
     "text": [
      "\":"
     ]
    },
    {
     "name": "stdout",
     "output_type": "stream",
     "text": [
      " \""
     ]
    },
    {
     "name": "stdout",
     "output_type": "stream",
     "text": [
      "1"
     ]
    },
    {
     "name": "stdout",
     "output_type": "stream",
     "text": [
      "."
     ]
    },
    {
     "name": "stdout",
     "output_type": "stream",
     "text": [
      "0"
     ]
    },
    {
     "name": "stdout",
     "output_type": "stream",
     "text": [
      " *"
     ]
    },
    {
     "name": "stdout",
     "output_type": "stream",
     "text": [
      " bar"
     ]
    },
    {
     "name": "stdout",
     "output_type": "stream",
     "text": [
      "\"\n"
     ]
    },
    {
     "name": "stdout",
     "output_type": "stream",
     "text": [
      "   "
     ]
    },
    {
     "name": "stdout",
     "output_type": "stream",
     "text": [
      " },\n"
     ]
    },
    {
     "name": "stdout",
     "output_type": "stream",
     "text": [
      "   "
     ]
    },
    {
     "name": "stdout",
     "output_type": "stream",
     "text": [
      " \""
     ]
    },
    {
     "name": "stdout",
     "output_type": "stream",
     "text": [
      "simulation"
     ]
    },
    {
     "name": "stdout",
     "output_type": "stream",
     "text": [
      "_params"
     ]
    },
    {
     "name": "stdout",
     "output_type": "stream",
     "text": [
      "\":"
     ]
    },
    {
     "name": "stdout",
     "output_type": "stream",
     "text": [
      " {\n"
     ]
    },
    {
     "name": "stdout",
     "output_type": "stream",
     "text": [
      "     "
     ]
    },
    {
     "name": "stdout",
     "output_type": "stream",
     "text": [
      " \""
     ]
    },
    {
     "name": "stdout",
     "output_type": "stream",
     "text": [
      "En"
     ]
    },
    {
     "name": "stdout",
     "output_type": "stream",
     "text": [
      "semble"
     ]
    },
    {
     "name": "stdout",
     "output_type": "stream",
     "text": [
      "\":"
     ]
    },
    {
     "name": "stdout",
     "output_type": "stream",
     "text": [
      " \""
     ]
    },
    {
     "name": "stdout",
     "output_type": "stream",
     "text": [
      "N"
     ]
    },
    {
     "name": "stdout",
     "output_type": "stream",
     "text": [
      "VT"
     ]
    },
    {
     "name": "stdout",
     "output_type": "stream",
     "text": [
      "\",\n"
     ]
    },
    {
     "name": "stdout",
     "output_type": "stream",
     "text": [
      "     "
     ]
    },
    {
     "name": "stdout",
     "output_type": "stream",
     "text": [
      " \""
     ]
    },
    {
     "name": "stdout",
     "output_type": "stream",
     "text": [
      "Number"
     ]
    },
    {
     "name": "stdout",
     "output_type": "stream",
     "text": [
      " of"
     ]
    },
    {
     "name": "stdout",
     "output_type": "stream",
     "text": [
      " Steps"
     ]
    },
    {
     "name": "stdout",
     "output_type": "stream",
     "text": [
      "\":"
     ]
    },
    {
     "name": "stdout",
     "output_type": "stream",
     "text": [
      " "
     ]
    },
    {
     "name": "stdout",
     "output_type": "stream",
     "text": [
      "500"
     ]
    },
    {
     "name": "stdout",
     "output_type": "stream",
     "text": [
      "0"
     ]
    },
    {
     "name": "stdout",
     "output_type": "stream",
     "text": [
      ",\n"
     ]
    },
    {
     "name": "stdout",
     "output_type": "stream",
     "text": [
      "     "
     ]
    },
    {
     "name": "stdout",
     "output_type": "stream",
     "text": [
      " \""
     ]
    },
    {
     "name": "stdout",
     "output_type": "stream",
     "text": [
      "record"
     ]
    },
    {
     "name": "stdout",
     "output_type": "stream",
     "text": [
      "_interval"
     ]
    },
    {
     "name": "stdout",
     "output_type": "stream",
     "text": [
      "_steps"
     ]
    },
    {
     "name": "stdout",
     "output_type": "stream",
     "text": [
      "\":"
     ]
    },
    {
     "name": "stdout",
     "output_type": "stream",
     "text": [
      " "
     ]
    },
    {
     "name": "stdout",
     "output_type": "stream",
     "text": [
      "100"
     ]
    },
    {
     "name": "stdout",
     "output_type": "stream",
     "text": [
      ",\n"
     ]
    },
    {
     "name": "stdout",
     "output_type": "stream",
     "text": [
      "     "
     ]
    },
    {
     "name": "stdout",
     "output_type": "stream",
     "text": [
      " \""
     ]
    },
    {
     "name": "stdout",
     "output_type": "stream",
     "text": [
      "record"
     ]
    },
    {
     "name": "stdout",
     "output_type": "stream",
     "text": [
      "_params"
     ]
    },
    {
     "name": "stdout",
     "output_type": "stream",
     "text": [
      "\":"
     ]
    },
    {
     "name": "stdout",
     "output_type": "stream",
     "text": [
      " [\""
     ]
    },
    {
     "name": "stdout",
     "output_type": "stream",
     "text": [
      "step"
     ]
    },
    {
     "name": "stdout",
     "output_type": "stream",
     "text": [
      "\","
     ]
    },
    {
     "name": "stdout",
     "output_type": "stream",
     "text": [
      " \""
     ]
    },
    {
     "name": "stdout",
     "output_type": "stream",
     "text": [
      "potential"
     ]
    },
    {
     "name": "stdout",
     "output_type": "stream",
     "text": [
      "Energy"
     ]
    },
    {
     "name": "stdout",
     "output_type": "stream",
     "text": [
      "\","
     ]
    },
    {
     "name": "stdout",
     "output_type": "stream",
     "text": [
      " \""
     ]
    },
    {
     "name": "stdout",
     "output_type": "stream",
     "text": [
      "temperature"
     ]
    },
    {
     "name": "stdout",
     "output_type": "stream",
     "text": [
      "\"]\n"
     ]
    },
    {
     "name": "stdout",
     "output_type": "stream",
     "text": [
      "   "
     ]
    },
    {
     "name": "stdout",
     "output_type": "stream",
     "text": [
      " }\n"
     ]
    },
    {
     "name": "stdout",
     "output_type": "stream",
     "text": [
      " "
     ]
    },
    {
     "name": "stdout",
     "output_type": "stream",
     "text": [
      " }\n"
     ]
    },
    {
     "name": "stdout",
     "output_type": "stream",
     "text": [
      "}\n"
     ]
    },
    {
     "name": "stdout",
     "output_type": "stream",
     "text": [
      "```"
     ]
    },
    {
     "name": "stdout",
     "output_type": "stream",
     "text": [
      "Setting default forcefields v2\n",
      "Building system...\n"
     ]
    },
    {
     "name": "stdout",
     "output_type": "stream",
     "text": [
      "About to create system...\n",
      "Attempts at creating system: 0/3\n",
      "adding system without solvent\n",
      "System built successfully\n",
      "<openmm.openmm.System; proxy of <Swig Object of type 'OpenMM::System *' at 0x2afb2c07e250> >\n",
      "Setting up integrator...\n",
      "Creating simulation...\n"
     ]
    },
    {
     "name": "stdout",
     "output_type": "stream",
     "text": [
      "simulation set!\n",
      "Performing energy minimization...\n"
     ]
    },
    {
     "name": "stdout",
     "output_type": "stream",
     "text": [
      "Minimization complete!\n",
      "Initial Positions saved to initial_positions.pdb\n",
      "Equilibrating...\n"
     ]
    },
    {
     "name": "stdout",
     "output_type": "stream",
     "text": [
      "Simulating...\n"
     ]
    },
    {
     "name": "stdout",
     "output_type": "stream",
     "text": [
      "Done!\n",
      "Standalone simulation script written to /gpfs/fs2/scratch/qcampbe2/repos/md-agent/ckpt/ckpt_12/simulations/NVT_1L6X_234506_20241017_234509.py\n",
      "['TRAJ_sim0_230437_1VII_230411_20241017_230440.dcd', 'LOG_sim0_234509_1L6X_234506_20241017_234510.txt', 'submit_experiments.sh', 'LOG_sim0_233942_1VII_233940_20241017_233945.txt', 'results_gpt4t', 'single_job.sh', 'paper_collection', 'results_gpt4o', '.ipynb_checkpoints', 'TOP_sim0_234043_1VII_234032_20241017_234046.pdb', 'TRAJ_sim0_233418_1VII_233414_20241017_233421.dcd', 'jobs_gpt3.5.sh', 'templates', 'log_submission', 'out', 'LOG_sim0_230437_1VII_230411_20241017_230440.txt', 'TOP_sim0_234509_1L6X_234506_20241017_234510.pdb', 'LOG_sim0_234043_1VII_234032_20241017_234046.txt', 'results_gpt3.5', 'results_70b', 'TRAJ_sim0_233942_1VII_233940_20241017_233945.dcd', 'results_gpt4p', 'results_405b', 'LOG_sim0_234002_1VII_233957_20241017_234002.txt', 'TRAJ_sim0_234043_1VII_234032_20241017_234046.dcd', 'TOP_sim0_233418_1VII_233414_20241017_233421.pdb', 'out.exp_5_gpt4t_v2', 'results_others', 'TOP_sim0_233942_1VII_233940_20241017_233945.pdb', 'TRAJ_sim0_234002_1VII_233957_20241017_234002.dcd', 'LOG_sim0_233418_1VII_233414_20241017_233421.txt', 'TOP_sim0_230437_1VII_230411_20241017_230440.pdb', 'TOP_sim0_234002_1VII_233957_20241017_234002.pdb', 'TRAJ_sim0_234509_1L6X_234506_20241017_234510.dcd']\n"
     ]
    },
    {
     "name": "stdout",
     "output_type": "stream",
     "text": [
      "To"
     ]
    },
    {
     "name": "stdout",
     "output_type": "stream",
     "text": [
      " complete"
     ]
    },
    {
     "name": "stdout",
     "output_type": "stream",
     "text": [
      " the"
     ]
    },
    {
     "name": "stdout",
     "output_type": "stream",
     "text": [
      " analysis"
     ]
    },
    {
     "name": "stdout",
     "output_type": "stream",
     "text": [
      " for"
     ]
    },
    {
     "name": "stdout",
     "output_type": "stream",
     "text": [
      " the"
     ]
    },
    {
     "name": "stdout",
     "output_type": "stream",
     "text": [
      " simulation"
     ]
    },
    {
     "name": "stdout",
     "output_type": "stream",
     "text": [
      " at"
     ]
    },
    {
     "name": "stdout",
     "output_type": "stream",
     "text": [
      " p"
     ]
    },
    {
     "name": "stdout",
     "output_type": "stream",
     "text": [
      "H"
     ]
    },
    {
     "name": "stdout",
     "output_type": "stream",
     "text": [
      " "
     ]
    },
    {
     "name": "stdout",
     "output_type": "stream",
     "text": [
      "8"
     ]
    },
    {
     "name": "stdout",
     "output_type": "stream",
     "text": [
      "."
     ]
    },
    {
     "name": "stdout",
     "output_type": "stream",
     "text": [
      "8"
     ]
    },
    {
     "name": "stdout",
     "output_type": "stream",
     "text": [
      ","
     ]
    },
    {
     "name": "stdout",
     "output_type": "stream",
     "text": [
      " I"
     ]
    },
    {
     "name": "stdout",
     "output_type": "stream",
     "text": [
      " need"
     ]
    },
    {
     "name": "stdout",
     "output_type": "stream",
     "text": [
      " to"
     ]
    },
    {
     "name": "stdout",
     "output_type": "stream",
     "text": [
      " perform"
     ]
    },
    {
     "name": "stdout",
     "output_type": "stream",
     "text": [
      " the"
     ]
    },
    {
     "name": "stdout",
     "output_type": "stream",
     "text": [
      " Sol"
     ]
    },
    {
     "name": "stdout",
     "output_type": "stream",
     "text": [
      "vent"
     ]
    },
    {
     "name": "stdout",
     "output_type": "stream",
     "text": [
      " Accessible"
     ]
    },
    {
     "name": "stdout",
     "output_type": "stream",
     "text": [
      " Surface"
     ]
    },
    {
     "name": "stdout",
     "output_type": "stream",
     "text": [
      " Area"
     ]
    },
    {
     "name": "stdout",
     "output_type": "stream",
     "text": [
      " ("
     ]
    },
    {
     "name": "stdout",
     "output_type": "stream",
     "text": [
      "S"
     ]
    },
    {
     "name": "stdout",
     "output_type": "stream",
     "text": [
      "ASA"
     ]
    },
    {
     "name": "stdout",
     "output_type": "stream",
     "text": [
      ")"
     ]
    },
    {
     "name": "stdout",
     "output_type": "stream",
     "text": [
      " and"
     ]
    },
    {
     "name": "stdout",
     "output_type": "stream",
     "text": [
      " Root"
     ]
    },
    {
     "name": "stdout",
     "output_type": "stream",
     "text": [
      " Mean"
     ]
    },
    {
     "name": "stdout",
     "output_type": "stream",
     "text": [
      " Square"
     ]
    },
    {
     "name": "stdout",
     "output_type": "stream",
     "text": [
      " Fl"
     ]
    },
    {
     "name": "stdout",
     "output_type": "stream",
     "text": [
      "uct"
     ]
    },
    {
     "name": "stdout",
     "output_type": "stream",
     "text": [
      "uation"
     ]
    },
    {
     "name": "stdout",
     "output_type": "stream",
     "text": [
      " ("
     ]
    },
    {
     "name": "stdout",
     "output_type": "stream",
     "text": [
      "R"
     ]
    },
    {
     "name": "stdout",
     "output_type": "stream",
     "text": [
      "MS"
     ]
    },
    {
     "name": "stdout",
     "output_type": "stream",
     "text": [
      "F"
     ]
    },
    {
     "name": "stdout",
     "output_type": "stream",
     "text": [
      ")"
     ]
    },
    {
     "name": "stdout",
     "output_type": "stream",
     "text": [
      " calculations"
     ]
    },
    {
     "name": "stdout",
     "output_type": "stream",
     "text": [
      "."
     ]
    },
    {
     "name": "stdout",
     "output_type": "stream",
     "text": [
      " Let's"
     ]
    },
    {
     "name": "stdout",
     "output_type": "stream",
     "text": [
      " start"
     ]
    },
    {
     "name": "stdout",
     "output_type": "stream",
     "text": [
      " by"
     ]
    },
    {
     "name": "stdout",
     "output_type": "stream",
     "text": [
      " calculating"
     ]
    },
    {
     "name": "stdout",
     "output_type": "stream",
     "text": [
      " the"
     ]
    },
    {
     "name": "stdout",
     "output_type": "stream",
     "text": [
      " SAS"
     ]
    },
    {
     "name": "stdout",
     "output_type": "stream",
     "text": [
      "A"
     ]
    },
    {
     "name": "stdout",
     "output_type": "stream",
     "text": [
      " for"
     ]
    },
    {
     "name": "stdout",
     "output_type": "stream",
     "text": [
      " the"
     ]
    },
    {
     "name": "stdout",
     "output_type": "stream",
     "text": [
      " simulation"
     ]
    },
    {
     "name": "stdout",
     "output_type": "stream",
     "text": [
      " at"
     ]
    },
    {
     "name": "stdout",
     "output_type": "stream",
     "text": [
      " p"
     ]
    },
    {
     "name": "stdout",
     "output_type": "stream",
     "text": [
      "H"
     ]
    },
    {
     "name": "stdout",
     "output_type": "stream",
     "text": [
      " "
     ]
    },
    {
     "name": "stdout",
     "output_type": "stream",
     "text": [
      "8"
     ]
    },
    {
     "name": "stdout",
     "output_type": "stream",
     "text": [
      "."
     ]
    },
    {
     "name": "stdout",
     "output_type": "stream",
     "text": [
      "8"
     ]
    },
    {
     "name": "stdout",
     "output_type": "stream",
     "text": [
      ".\n",
      "\n"
     ]
    },
    {
     "name": "stdout",
     "output_type": "stream",
     "text": [
      "Action"
     ]
    },
    {
     "name": "stdout",
     "output_type": "stream",
     "text": [
      ":\n"
     ]
    },
    {
     "name": "stdout",
     "output_type": "stream",
     "text": [
      "```"
     ]
    },
    {
     "name": "stdout",
     "output_type": "stream",
     "text": [
      "json"
     ]
    },
    {
     "name": "stdout",
     "output_type": "stream",
     "text": [
      "\n"
     ]
    },
    {
     "name": "stdout",
     "output_type": "stream",
     "text": [
      "{\n"
     ]
    },
    {
     "name": "stdout",
     "output_type": "stream",
     "text": [
      " "
     ]
    },
    {
     "name": "stdout",
     "output_type": "stream",
     "text": [
      " \""
     ]
    },
    {
     "name": "stdout",
     "output_type": "stream",
     "text": [
      "action"
     ]
    },
    {
     "name": "stdout",
     "output_type": "stream",
     "text": [
      "\":"
     ]
    },
    {
     "name": "stdout",
     "output_type": "stream",
     "text": [
      " \""
     ]
    },
    {
     "name": "stdout",
     "output_type": "stream",
     "text": [
      "Sol"
     ]
    },
    {
     "name": "stdout",
     "output_type": "stream",
     "text": [
      "vent"
     ]
    },
    {
     "name": "stdout",
     "output_type": "stream",
     "text": [
      "Accessible"
     ]
    },
    {
     "name": "stdout",
     "output_type": "stream",
     "text": [
      "Surface"
     ]
    },
    {
     "name": "stdout",
     "output_type": "stream",
     "text": [
      "Area"
     ]
    },
    {
     "name": "stdout",
     "output_type": "stream",
     "text": [
      "\",\n"
     ]
    },
    {
     "name": "stdout",
     "output_type": "stream",
     "text": [
      " "
     ]
    },
    {
     "name": "stdout",
     "output_type": "stream",
     "text": [
      " \""
     ]
    },
    {
     "name": "stdout",
     "output_type": "stream",
     "text": [
      "action"
     ]
    },
    {
     "name": "stdout",
     "output_type": "stream",
     "text": [
      "_input"
     ]
    },
    {
     "name": "stdout",
     "output_type": "stream",
     "text": [
      "\":"
     ]
    },
    {
     "name": "stdout",
     "output_type": "stream",
     "text": [
      " {\n"
     ]
    },
    {
     "name": "stdout",
     "output_type": "stream",
     "text": [
      "   "
     ]
    },
    {
     "name": "stdout",
     "output_type": "stream",
     "text": [
      " \""
     ]
    },
    {
     "name": "stdout",
     "output_type": "stream",
     "text": [
      "top"
     ]
    },
    {
     "name": "stdout",
     "output_type": "stream",
     "text": [
      "_file"
     ]
    },
    {
     "name": "stdout",
     "output_type": "stream",
     "text": [
      "id"
     ]
    },
    {
     "name": "stdout",
     "output_type": "stream",
     "text": [
      "\":"
     ]
    },
    {
     "name": "stdout",
     "output_type": "stream",
     "text": [
      " \""
     ]
    },
    {
     "name": "stdout",
     "output_type": "stream",
     "text": [
      "top"
     ]
    },
    {
     "name": "stdout",
     "output_type": "stream",
     "text": [
      "_sim"
     ]
    },
    {
     "name": "stdout",
     "output_type": "stream",
     "text": [
      "0"
     ]
    },
    {
     "name": "stdout",
     "output_type": "stream",
     "text": [
      "_"
     ]
    },
    {
     "name": "stdout",
     "output_type": "stream",
     "text": [
      "234"
     ]
    },
    {
     "name": "stdout",
     "output_type": "stream",
     "text": [
      "509"
     ]
    },
    {
     "name": "stdout",
     "output_type": "stream",
     "text": [
      "\",\n"
     ]
    },
    {
     "name": "stdout",
     "output_type": "stream",
     "text": [
      "   "
     ]
    },
    {
     "name": "stdout",
     "output_type": "stream",
     "text": [
      " \""
     ]
    },
    {
     "name": "stdout",
     "output_type": "stream",
     "text": [
      "traj"
     ]
    },
    {
     "name": "stdout",
     "output_type": "stream",
     "text": [
      "_file"
     ]
    },
    {
     "name": "stdout",
     "output_type": "stream",
     "text": [
      "id"
     ]
    },
    {
     "name": "stdout",
     "output_type": "stream",
     "text": [
      "\":"
     ]
    },
    {
     "name": "stdout",
     "output_type": "stream",
     "text": [
      " \""
     ]
    },
    {
     "name": "stdout",
     "output_type": "stream",
     "text": [
      "rec"
     ]
    },
    {
     "name": "stdout",
     "output_type": "stream",
     "text": [
      "0"
     ]
    },
    {
     "name": "stdout",
     "output_type": "stream",
     "text": [
      "_"
     ]
    },
    {
     "name": "stdout",
     "output_type": "stream",
     "text": [
      "234"
     ]
    },
    {
     "name": "stdout",
     "output_type": "stream",
     "text": [
      "510"
     ]
    },
    {
     "name": "stdout",
     "output_type": "stream",
     "text": [
      "\",\n"
     ]
    },
    {
     "name": "stdout",
     "output_type": "stream",
     "text": [
      "   "
     ]
    },
    {
     "name": "stdout",
     "output_type": "stream",
     "text": [
      " \""
     ]
    },
    {
     "name": "stdout",
     "output_type": "stream",
     "text": [
      "m"
     ]
    },
    {
     "name": "stdout",
     "output_type": "stream",
     "text": [
      "olecule"
     ]
    },
    {
     "name": "stdout",
     "output_type": "stream",
     "text": [
      "_name"
     ]
    },
    {
     "name": "stdout",
     "output_type": "stream",
     "text": [
      "\":"
     ]
    },
    {
     "name": "stdout",
     "output_type": "stream",
     "text": [
      " \""
     ]
    },
    {
     "name": "stdout",
     "output_type": "stream",
     "text": [
      "1"
     ]
    },
    {
     "name": "stdout",
     "output_type": "stream",
     "text": [
      "L"
     ]
    },
    {
     "name": "stdout",
     "output_type": "stream",
     "text": [
      "6"
     ]
    },
    {
     "name": "stdout",
     "output_type": "stream",
     "text": [
      "X"
     ]
    },
    {
     "name": "stdout",
     "output_type": "stream",
     "text": [
      "\"\n"
     ]
    },
    {
     "name": "stdout",
     "output_type": "stream",
     "text": [
      " "
     ]
    },
    {
     "name": "stdout",
     "output_type": "stream",
     "text": [
      " }\n"
     ]
    },
    {
     "name": "stdout",
     "output_type": "stream",
     "text": [
      "}\n"
     ]
    },
    {
     "name": "stdout",
     "output_type": "stream",
     "text": [
      "```"
     ]
    },
    {
     "name": "stdout",
     "output_type": "stream",
     "text": [
      "Loading trajectory ...\n",
      "Calcuating SASA ...\n"
     ]
    },
    {
     "name": "stdout",
     "output_type": "stream",
     "text": [
      "Data saved to /gpfs/fs2/scratch/qcampbe2/repos/md-agent/ckpt/ckpt_12/records/sasa_1L6X_1.csv\n"
     ]
    },
    {
     "name": "stdout",
     "output_type": "stream",
     "text": [
      "SASA plot saved to FIG_sasa_1L6X_20241017_234943.png\n"
     ]
    },
    {
     "name": "stdout",
     "output_type": "stream",
     "text": [
      "To"
     ]
    },
    {
     "name": "stdout",
     "output_type": "stream",
     "text": [
      " finalize"
     ]
    },
    {
     "name": "stdout",
     "output_type": "stream",
     "text": [
      " the"
     ]
    },
    {
     "name": "stdout",
     "output_type": "stream",
     "text": [
      " analysis"
     ]
    },
    {
     "name": "stdout",
     "output_type": "stream",
     "text": [
      " for"
     ]
    },
    {
     "name": "stdout",
     "output_type": "stream",
     "text": [
      " the"
     ]
    },
    {
     "name": "stdout",
     "output_type": "stream",
     "text": [
      " simulation"
     ]
    },
    {
     "name": "stdout",
     "output_type": "stream",
     "text": [
      " at"
     ]
    },
    {
     "name": "stdout",
     "output_type": "stream",
     "text": [
      " p"
     ]
    },
    {
     "name": "stdout",
     "output_type": "stream",
     "text": [
      "H"
     ]
    },
    {
     "name": "stdout",
     "output_type": "stream",
     "text": [
      " "
     ]
    },
    {
     "name": "stdout",
     "output_type": "stream",
     "text": [
      "8"
     ]
    },
    {
     "name": "stdout",
     "output_type": "stream",
     "text": [
      "."
     ]
    },
    {
     "name": "stdout",
     "output_type": "stream",
     "text": [
      "8"
     ]
    },
    {
     "name": "stdout",
     "output_type": "stream",
     "text": [
      ","
     ]
    },
    {
     "name": "stdout",
     "output_type": "stream",
     "text": [
      " I"
     ]
    },
    {
     "name": "stdout",
     "output_type": "stream",
     "text": [
      " need"
     ]
    },
    {
     "name": "stdout",
     "output_type": "stream",
     "text": [
      " to"
     ]
    },
    {
     "name": "stdout",
     "output_type": "stream",
     "text": [
      " calculate"
     ]
    },
    {
     "name": "stdout",
     "output_type": "stream",
     "text": [
      " the"
     ]
    },
    {
     "name": "stdout",
     "output_type": "stream",
     "text": [
      " Root"
     ]
    },
    {
     "name": "stdout",
     "output_type": "stream",
     "text": [
      " Mean"
     ]
    },
    {
     "name": "stdout",
     "output_type": "stream",
     "text": [
      " Square"
     ]
    },
    {
     "name": "stdout",
     "output_type": "stream",
     "text": [
      " Fl"
     ]
    },
    {
     "name": "stdout",
     "output_type": "stream",
     "text": [
      "uct"
     ]
    },
    {
     "name": "stdout",
     "output_type": "stream",
     "text": [
      "uation"
     ]
    },
    {
     "name": "stdout",
     "output_type": "stream",
     "text": [
      " ("
     ]
    },
    {
     "name": "stdout",
     "output_type": "stream",
     "text": [
      "R"
     ]
    },
    {
     "name": "stdout",
     "output_type": "stream",
     "text": [
      "MS"
     ]
    },
    {
     "name": "stdout",
     "output_type": "stream",
     "text": [
      "F"
     ]
    },
    {
     "name": "stdout",
     "output_type": "stream",
     "text": [
      ")."
     ]
    },
    {
     "name": "stdout",
     "output_type": "stream",
     "text": [
      " Once"
     ]
    },
    {
     "name": "stdout",
     "output_type": "stream",
     "text": [
      " this"
     ]
    },
    {
     "name": "stdout",
     "output_type": "stream",
     "text": [
      " is"
     ]
    },
    {
     "name": "stdout",
     "output_type": "stream",
     "text": [
      " done"
     ]
    },
    {
     "name": "stdout",
     "output_type": "stream",
     "text": [
      ","
     ]
    },
    {
     "name": "stdout",
     "output_type": "stream",
     "text": [
      " I"
     ]
    },
    {
     "name": "stdout",
     "output_type": "stream",
     "text": [
      " will"
     ]
    },
    {
     "name": "stdout",
     "output_type": "stream",
     "text": [
      " have"
     ]
    },
    {
     "name": "stdout",
     "output_type": "stream",
     "text": [
      " completed"
     ]
    },
    {
     "name": "stdout",
     "output_type": "stream",
     "text": [
      " the"
     ]
    },
    {
     "name": "stdout",
     "output_type": "stream",
     "text": [
      " analyses"
     ]
    },
    {
     "name": "stdout",
     "output_type": "stream",
     "text": [
      " for"
     ]
    },
    {
     "name": "stdout",
     "output_type": "stream",
     "text": [
      " both"
     ]
    },
    {
     "name": "stdout",
     "output_type": "stream",
     "text": [
      " p"
     ]
    },
    {
     "name": "stdout",
     "output_type": "stream",
     "text": [
      "H"
     ]
    },
    {
     "name": "stdout",
     "output_type": "stream",
     "text": [
      " conditions"
     ]
    },
    {
     "name": "stdout",
     "output_type": "stream",
     "text": [
      "."
     ]
    },
    {
     "name": "stdout",
     "output_type": "stream",
     "text": [
      " Let's"
     ]
    },
    {
     "name": "stdout",
     "output_type": "stream",
     "text": [
      " proceed"
     ]
    },
    {
     "name": "stdout",
     "output_type": "stream",
     "text": [
      " with"
     ]
    },
    {
     "name": "stdout",
     "output_type": "stream",
     "text": [
      " calculating"
     ]
    },
    {
     "name": "stdout",
     "output_type": "stream",
     "text": [
      " the"
     ]
    },
    {
     "name": "stdout",
     "output_type": "stream",
     "text": [
      " RMS"
     ]
    },
    {
     "name": "stdout",
     "output_type": "stream",
     "text": [
      "F"
     ]
    },
    {
     "name": "stdout",
     "output_type": "stream",
     "text": [
      " for"
     ]
    },
    {
     "name": "stdout",
     "output_type": "stream",
     "text": [
      " the"
     ]
    },
    {
     "name": "stdout",
     "output_type": "stream",
     "text": [
      " simulation"
     ]
    },
    {
     "name": "stdout",
     "output_type": "stream",
     "text": [
      " at"
     ]
    },
    {
     "name": "stdout",
     "output_type": "stream",
     "text": [
      " p"
     ]
    },
    {
     "name": "stdout",
     "output_type": "stream",
     "text": [
      "H"
     ]
    },
    {
     "name": "stdout",
     "output_type": "stream",
     "text": [
      " "
     ]
    },
    {
     "name": "stdout",
     "output_type": "stream",
     "text": [
      "8"
     ]
    },
    {
     "name": "stdout",
     "output_type": "stream",
     "text": [
      "."
     ]
    },
    {
     "name": "stdout",
     "output_type": "stream",
     "text": [
      "8"
     ]
    },
    {
     "name": "stdout",
     "output_type": "stream",
     "text": [
      ".\n",
      "\n"
     ]
    },
    {
     "name": "stdout",
     "output_type": "stream",
     "text": [
      "Action"
     ]
    },
    {
     "name": "stdout",
     "output_type": "stream",
     "text": [
      ":\n"
     ]
    },
    {
     "name": "stdout",
     "output_type": "stream",
     "text": [
      "```"
     ]
    },
    {
     "name": "stdout",
     "output_type": "stream",
     "text": [
      "json"
     ]
    },
    {
     "name": "stdout",
     "output_type": "stream",
     "text": [
      "\n"
     ]
    },
    {
     "name": "stdout",
     "output_type": "stream",
     "text": [
      "{\n"
     ]
    },
    {
     "name": "stdout",
     "output_type": "stream",
     "text": [
      " "
     ]
    },
    {
     "name": "stdout",
     "output_type": "stream",
     "text": [
      " \""
     ]
    },
    {
     "name": "stdout",
     "output_type": "stream",
     "text": [
      "action"
     ]
    },
    {
     "name": "stdout",
     "output_type": "stream",
     "text": [
      "\":"
     ]
    },
    {
     "name": "stdout",
     "output_type": "stream",
     "text": [
      " \""
     ]
    },
    {
     "name": "stdout",
     "output_type": "stream",
     "text": [
      "Compute"
     ]
    },
    {
     "name": "stdout",
     "output_type": "stream",
     "text": [
      "R"
     ]
    },
    {
     "name": "stdout",
     "output_type": "stream",
     "text": [
      "MS"
     ]
    },
    {
     "name": "stdout",
     "output_type": "stream",
     "text": [
      "F"
     ]
    },
    {
     "name": "stdout",
     "output_type": "stream",
     "text": [
      "\",\n"
     ]
    },
    {
     "name": "stdout",
     "output_type": "stream",
     "text": [
      " "
     ]
    },
    {
     "name": "stdout",
     "output_type": "stream",
     "text": [
      " \""
     ]
    },
    {
     "name": "stdout",
     "output_type": "stream",
     "text": [
      "action"
     ]
    },
    {
     "name": "stdout",
     "output_type": "stream",
     "text": [
      "_input"
     ]
    },
    {
     "name": "stdout",
     "output_type": "stream",
     "text": [
      "\":"
     ]
    },
    {
     "name": "stdout",
     "output_type": "stream",
     "text": [
      " {\n"
     ]
    },
    {
     "name": "stdout",
     "output_type": "stream",
     "text": [
      "   "
     ]
    },
    {
     "name": "stdout",
     "output_type": "stream",
     "text": [
      " \""
     ]
    },
    {
     "name": "stdout",
     "output_type": "stream",
     "text": [
      "top"
     ]
    },
    {
     "name": "stdout",
     "output_type": "stream",
     "text": [
      "_id"
     ]
    },
    {
     "name": "stdout",
     "output_type": "stream",
     "text": [
      "\":"
     ]
    },
    {
     "name": "stdout",
     "output_type": "stream",
     "text": [
      " \""
     ]
    },
    {
     "name": "stdout",
     "output_type": "stream",
     "text": [
      "top"
     ]
    },
    {
     "name": "stdout",
     "output_type": "stream",
     "text": [
      "_sim"
     ]
    },
    {
     "name": "stdout",
     "output_type": "stream",
     "text": [
      "0"
     ]
    },
    {
     "name": "stdout",
     "output_type": "stream",
     "text": [
      "_"
     ]
    },
    {
     "name": "stdout",
     "output_type": "stream",
     "text": [
      "234"
     ]
    },
    {
     "name": "stdout",
     "output_type": "stream",
     "text": [
      "509"
     ]
    },
    {
     "name": "stdout",
     "output_type": "stream",
     "text": [
      "\",\n"
     ]
    },
    {
     "name": "stdout",
     "output_type": "stream",
     "text": [
      "   "
     ]
    },
    {
     "name": "stdout",
     "output_type": "stream",
     "text": [
      " \""
     ]
    },
    {
     "name": "stdout",
     "output_type": "stream",
     "text": [
      "traj"
     ]
    },
    {
     "name": "stdout",
     "output_type": "stream",
     "text": [
      "_id"
     ]
    },
    {
     "name": "stdout",
     "output_type": "stream",
     "text": [
      "\":"
     ]
    },
    {
     "name": "stdout",
     "output_type": "stream",
     "text": [
      " \""
     ]
    },
    {
     "name": "stdout",
     "output_type": "stream",
     "text": [
      "rec"
     ]
    },
    {
     "name": "stdout",
     "output_type": "stream",
     "text": [
      "0"
     ]
    },
    {
     "name": "stdout",
     "output_type": "stream",
     "text": [
      "_"
     ]
    },
    {
     "name": "stdout",
     "output_type": "stream",
     "text": [
      "234"
     ]
    },
    {
     "name": "stdout",
     "output_type": "stream",
     "text": [
      "510"
     ]
    },
    {
     "name": "stdout",
     "output_type": "stream",
     "text": [
      "\",\n"
     ]
    },
    {
     "name": "stdout",
     "output_type": "stream",
     "text": [
      "   "
     ]
    },
    {
     "name": "stdout",
     "output_type": "stream",
     "text": [
      " \""
     ]
    },
    {
     "name": "stdout",
     "output_type": "stream",
     "text": [
      "select"
     ]
    },
    {
     "name": "stdout",
     "output_type": "stream",
     "text": [
      "\":"
     ]
    },
    {
     "name": "stdout",
     "output_type": "stream",
     "text": [
      " \""
     ]
    },
    {
     "name": "stdout",
     "output_type": "stream",
     "text": [
      "protein"
     ]
    },
    {
     "name": "stdout",
     "output_type": "stream",
     "text": [
      "\",\n"
     ]
    },
    {
     "name": "stdout",
     "output_type": "stream",
     "text": [
      "   "
     ]
    },
    {
     "name": "stdout",
     "output_type": "stream",
     "text": [
      " \""
     ]
    },
    {
     "name": "stdout",
     "output_type": "stream",
     "text": [
      "mol"
     ]
    },
    {
     "name": "stdout",
     "output_type": "stream",
     "text": [
      "_name"
     ]
    },
    {
     "name": "stdout",
     "output_type": "stream",
     "text": [
      "\":"
     ]
    },
    {
     "name": "stdout",
     "output_type": "stream",
     "text": [
      " \""
     ]
    },
    {
     "name": "stdout",
     "output_type": "stream",
     "text": [
      "1"
     ]
    },
    {
     "name": "stdout",
     "output_type": "stream",
     "text": [
      "L"
     ]
    },
    {
     "name": "stdout",
     "output_type": "stream",
     "text": [
      "6"
     ]
    },
    {
     "name": "stdout",
     "output_type": "stream",
     "text": [
      "X"
     ]
    },
    {
     "name": "stdout",
     "output_type": "stream",
     "text": [
      "\"\n"
     ]
    },
    {
     "name": "stdout",
     "output_type": "stream",
     "text": [
      " "
     ]
    },
    {
     "name": "stdout",
     "output_type": "stream",
     "text": [
      " }\n"
     ]
    },
    {
     "name": "stdout",
     "output_type": "stream",
     "text": [
      "}\n"
     ]
    },
    {
     "name": "stdout",
     "output_type": "stream",
     "text": [
      "```"
     ]
    },
    {
     "name": "stdout",
     "output_type": "stream",
     "text": [
      "Calculating RMSF...\n",
      "Data saved to /gpfs/fs2/scratch/qcampbe2/repos/md-agent/ckpt/ckpt_12/records/rmsf_1L6X_1.csv\n"
     ]
    },
    {
     "name": "stdout",
     "output_type": "stream",
     "text": [
      "Plot saved to /gpfs/fs2/scratch/qcampbe2/repos/md-agent/ckpt/ckpt_12/figures/FIG_rmsf_1L6X_20241017_234947.png\n"
     ]
    },
    {
     "name": "stdout",
     "output_type": "stream",
     "text": [
      "Action"
     ]
    },
    {
     "name": "stdout",
     "output_type": "stream",
     "text": [
      ":\n"
     ]
    },
    {
     "name": "stdout",
     "output_type": "stream",
     "text": [
      "```"
     ]
    },
    {
     "name": "stdout",
     "output_type": "stream",
     "text": [
      "json"
     ]
    },
    {
     "name": "stdout",
     "output_type": "stream",
     "text": [
      "\n"
     ]
    },
    {
     "name": "stdout",
     "output_type": "stream",
     "text": [
      "{\n"
     ]
    },
    {
     "name": "stdout",
     "output_type": "stream",
     "text": [
      " "
     ]
    },
    {
     "name": "stdout",
     "output_type": "stream",
     "text": [
      " \""
     ]
    },
    {
     "name": "stdout",
     "output_type": "stream",
     "text": [
      "action"
     ]
    },
    {
     "name": "stdout",
     "output_type": "stream",
     "text": [
      "\":"
     ]
    },
    {
     "name": "stdout",
     "output_type": "stream",
     "text": [
      " \""
     ]
    },
    {
     "name": "stdout",
     "output_type": "stream",
     "text": [
      "Final"
     ]
    },
    {
     "name": "stdout",
     "output_type": "stream",
     "text": [
      " Answer"
     ]
    },
    {
     "name": "stdout",
     "output_type": "stream",
     "text": [
      "\",\n"
     ]
    },
    {
     "name": "stdout",
     "output_type": "stream",
     "text": [
      " "
     ]
    },
    {
     "name": "stdout",
     "output_type": "stream",
     "text": [
      " \""
     ]
    },
    {
     "name": "stdout",
     "output_type": "stream",
     "text": [
      "action"
     ]
    },
    {
     "name": "stdout",
     "output_type": "stream",
     "text": [
      "_input"
     ]
    },
    {
     "name": "stdout",
     "output_type": "stream",
     "text": [
      "\":"
     ]
    },
    {
     "name": "stdout",
     "output_type": "stream",
     "text": [
      " \""
     ]
    },
    {
     "name": "stdout",
     "output_type": "stream",
     "text": [
      "The"
     ]
    },
    {
     "name": "stdout",
     "output_type": "stream",
     "text": [
      " simulations"
     ]
    },
    {
     "name": "stdout",
     "output_type": "stream",
     "text": [
      " and"
     ]
    },
    {
     "name": "stdout",
     "output_type": "stream",
     "text": [
      " analyses"
     ]
    },
    {
     "name": "stdout",
     "output_type": "stream",
     "text": [
      " for"
     ]
    },
    {
     "name": "stdout",
     "output_type": "stream",
     "text": [
      " the"
     ]
    },
    {
     "name": "stdout",
     "output_type": "stream",
     "text": [
      " protein"
     ]
    },
    {
     "name": "stdout",
     "output_type": "stream",
     "text": [
      " "
     ]
    },
    {
     "name": "stdout",
     "output_type": "stream",
     "text": [
      "1"
     ]
    },
    {
     "name": "stdout",
     "output_type": "stream",
     "text": [
      "L"
     ]
    },
    {
     "name": "stdout",
     "output_type": "stream",
     "text": [
      "6"
     ]
    },
    {
     "name": "stdout",
     "output_type": "stream",
     "text": [
      "X"
     ]
    },
    {
     "name": "stdout",
     "output_type": "stream",
     "text": [
      " at"
     ]
    },
    {
     "name": "stdout",
     "output_type": "stream",
     "text": [
      " p"
     ]
    },
    {
     "name": "stdout",
     "output_type": "stream",
     "text": [
      "H"
     ]
    },
    {
     "name": "stdout",
     "output_type": "stream",
     "text": [
      " "
     ]
    },
    {
     "name": "stdout",
     "output_type": "stream",
     "text": [
      "5"
     ]
    },
    {
     "name": "stdout",
     "output_type": "stream",
     "text": [
      "."
     ]
    },
    {
     "name": "stdout",
     "output_type": "stream",
     "text": [
      "0"
     ]
    },
    {
     "name": "stdout",
     "output_type": "stream",
     "text": [
      " and"
     ]
    },
    {
     "name": "stdout",
     "output_type": "stream",
     "text": [
      " "
     ]
    },
    {
     "name": "stdout",
     "output_type": "stream",
     "text": [
      "8"
     ]
    },
    {
     "name": "stdout",
     "output_type": "stream",
     "text": [
      "."
     ]
    },
    {
     "name": "stdout",
     "output_type": "stream",
     "text": [
      "8"
     ]
    },
    {
     "name": "stdout",
     "output_type": "stream",
     "text": [
      " have"
     ]
    },
    {
     "name": "stdout",
     "output_type": "stream",
     "text": [
      " been"
     ]
    },
    {
     "name": "stdout",
     "output_type": "stream",
     "text": [
      " successfully"
     ]
    },
    {
     "name": "stdout",
     "output_type": "stream",
     "text": [
      " completed"
     ]
    },
    {
     "name": "stdout",
     "output_type": "stream",
     "text": [
      "."
     ]
    },
    {
     "name": "stdout",
     "output_type": "stream",
     "text": [
      " The"
     ]
    },
    {
     "name": "stdout",
     "output_type": "stream",
     "text": [
      " Sol"
     ]
    },
    {
     "name": "stdout",
     "output_type": "stream",
     "text": [
      "vent"
     ]
    },
    {
     "name": "stdout",
     "output_type": "stream",
     "text": [
      " Accessible"
     ]
    },
    {
     "name": "stdout",
     "output_type": "stream",
     "text": [
      " Surface"
     ]
    },
    {
     "name": "stdout",
     "output_type": "stream",
     "text": [
      " Area"
     ]
    },
    {
     "name": "stdout",
     "output_type": "stream",
     "text": [
      " ("
     ]
    },
    {
     "name": "stdout",
     "output_type": "stream",
     "text": [
      "S"
     ]
    },
    {
     "name": "stdout",
     "output_type": "stream",
     "text": [
      "ASA"
     ]
    },
    {
     "name": "stdout",
     "output_type": "stream",
     "text": [
      ")"
     ]
    },
    {
     "name": "stdout",
     "output_type": "stream",
     "text": [
      " and"
     ]
    },
    {
     "name": "stdout",
     "output_type": "stream",
     "text": [
      " Root"
     ]
    },
    {
     "name": "stdout",
     "output_type": "stream",
     "text": [
      " Mean"
     ]
    },
    {
     "name": "stdout",
     "output_type": "stream",
     "text": [
      " Square"
     ]
    },
    {
     "name": "stdout",
     "output_type": "stream",
     "text": [
      " Fl"
     ]
    },
    {
     "name": "stdout",
     "output_type": "stream",
     "text": [
      "uct"
     ]
    },
    {
     "name": "stdout",
     "output_type": "stream",
     "text": [
      "uation"
     ]
    },
    {
     "name": "stdout",
     "output_type": "stream",
     "text": [
      " ("
     ]
    },
    {
     "name": "stdout",
     "output_type": "stream",
     "text": [
      "R"
     ]
    },
    {
     "name": "stdout",
     "output_type": "stream",
     "text": [
      "MS"
     ]
    },
    {
     "name": "stdout",
     "output_type": "stream",
     "text": [
      "F"
     ]
    },
    {
     "name": "stdout",
     "output_type": "stream",
     "text": [
      ")"
     ]
    },
    {
     "name": "stdout",
     "output_type": "stream",
     "text": [
      " were"
     ]
    },
    {
     "name": "stdout",
     "output_type": "stream",
     "text": [
      " calculated"
     ]
    },
    {
     "name": "stdout",
     "output_type": "stream",
     "text": [
      " for"
     ]
    },
    {
     "name": "stdout",
     "output_type": "stream",
     "text": [
      " both"
     ]
    },
    {
     "name": "stdout",
     "output_type": "stream",
     "text": [
      " p"
     ]
    },
    {
     "name": "stdout",
     "output_type": "stream",
     "text": [
      "H"
     ]
    },
    {
     "name": "stdout",
     "output_type": "stream",
     "text": [
      " conditions"
     ]
    },
    {
     "name": "stdout",
     "output_type": "stream",
     "text": [
      "."
     ]
    },
    {
     "name": "stdout",
     "output_type": "stream",
     "text": [
      " The"
     ]
    },
    {
     "name": "stdout",
     "output_type": "stream",
     "text": [
      " results"
     ]
    },
    {
     "name": "stdout",
     "output_type": "stream",
     "text": [
      " are"
     ]
    },
    {
     "name": "stdout",
     "output_type": "stream",
     "text": [
      " as"
     ]
    },
    {
     "name": "stdout",
     "output_type": "stream",
     "text": [
      " follows"
     ]
    },
    {
     "name": "stdout",
     "output_type": "stream",
     "text": [
      ":\\"
     ]
    },
    {
     "name": "stdout",
     "output_type": "stream",
     "text": [
      "n"
     ]
    },
    {
     "name": "stdout",
     "output_type": "stream",
     "text": [
      "\\n"
     ]
    },
    {
     "name": "stdout",
     "output_type": "stream",
     "text": [
      "-"
     ]
    },
    {
     "name": "stdout",
     "output_type": "stream",
     "text": [
      " At"
     ]
    },
    {
     "name": "stdout",
     "output_type": "stream",
     "text": [
      " p"
     ]
    },
    {
     "name": "stdout",
     "output_type": "stream",
     "text": [
      "H"
     ]
    },
    {
     "name": "stdout",
     "output_type": "stream",
     "text": [
      " "
     ]
    },
    {
     "name": "stdout",
     "output_type": "stream",
     "text": [
      "5"
     ]
    },
    {
     "name": "stdout",
     "output_type": "stream",
     "text": [
      "."
     ]
    },
    {
     "name": "stdout",
     "output_type": "stream",
     "text": [
      "0"
     ]
    },
    {
     "name": "stdout",
     "output_type": "stream",
     "text": [
      ":\\"
     ]
    },
    {
     "name": "stdout",
     "output_type": "stream",
     "text": [
      "n"
     ]
    },
    {
     "name": "stdout",
     "output_type": "stream",
     "text": [
      " "
     ]
    },
    {
     "name": "stdout",
     "output_type": "stream",
     "text": [
      " -"
     ]
    },
    {
     "name": "stdout",
     "output_type": "stream",
     "text": [
      " SAS"
     ]
    },
    {
     "name": "stdout",
     "output_type": "stream",
     "text": [
      "A"
     ]
    },
    {
     "name": "stdout",
     "output_type": "stream",
     "text": [
      " values"
     ]
    },
    {
     "name": "stdout",
     "output_type": "stream",
     "text": [
      " were"
     ]
    },
    {
     "name": "stdout",
     "output_type": "stream",
     "text": [
      " computed"
     ]
    },
    {
     "name": "stdout",
     "output_type": "stream",
     "text": [
      " and"
     ]
    },
    {
     "name": "stdout",
     "output_type": "stream",
     "text": [
      " saved"
     ]
    },
    {
     "name": "stdout",
     "output_type": "stream",
     "text": [
      " with"
     ]
    },
    {
     "name": "stdout",
     "output_type": "stream",
     "text": [
      " File"
     ]
    },
    {
     "name": "stdout",
     "output_type": "stream",
     "text": [
      " ID"
     ]
    },
    {
     "name": "stdout",
     "output_type": "stream",
     "text": [
      " sasa"
     ]
    },
    {
     "name": "stdout",
     "output_type": "stream",
     "text": [
      "_"
     ]
    },
    {
     "name": "stdout",
     "output_type": "stream",
     "text": [
      "1"
     ]
    },
    {
     "name": "stdout",
     "output_type": "stream",
     "text": [
      "L"
     ]
    },
    {
     "name": "stdout",
     "output_type": "stream",
     "text": [
      "6"
     ]
    },
    {
     "name": "stdout",
     "output_type": "stream",
     "text": [
      "X"
     ]
    },
    {
     "name": "stdout",
     "output_type": "stream",
     "text": [
      "."
     ]
    },
    {
     "name": "stdout",
     "output_type": "stream",
     "text": [
      " The"
     ]
    },
    {
     "name": "stdout",
     "output_type": "stream",
     "text": [
      " plot"
     ]
    },
    {
     "name": "stdout",
     "output_type": "stream",
     "text": [
      " is"
     ]
    },
    {
     "name": "stdout",
     "output_type": "stream",
     "text": [
      " saved"
     ]
    },
    {
     "name": "stdout",
     "output_type": "stream",
     "text": [
      " with"
     ]
    },
    {
     "name": "stdout",
     "output_type": "stream",
     "text": [
      " plot"
     ]
    },
    {
     "name": "stdout",
     "output_type": "stream",
     "text": [
      " ID"
     ]
    },
    {
     "name": "stdout",
     "output_type": "stream",
     "text": [
      " fig"
     ]
    },
    {
     "name": "stdout",
     "output_type": "stream",
     "text": [
      "0"
     ]
    },
    {
     "name": "stdout",
     "output_type": "stream",
     "text": [
      "_"
     ]
    },
    {
     "name": "stdout",
     "output_type": "stream",
     "text": [
      "234"
     ]
    },
    {
     "name": "stdout",
     "output_type": "stream",
     "text": [
      "457"
     ]
    },
    {
     "name": "stdout",
     "output_type": "stream",
     "text": [
      ".\\"
     ]
    },
    {
     "name": "stdout",
     "output_type": "stream",
     "text": [
      "n"
     ]
    },
    {
     "name": "stdout",
     "output_type": "stream",
     "text": [
      " "
     ]
    },
    {
     "name": "stdout",
     "output_type": "stream",
     "text": [
      " -"
     ]
    },
    {
     "name": "stdout",
     "output_type": "stream",
     "text": [
      " RMS"
     ]
    },
    {
     "name": "stdout",
     "output_type": "stream",
     "text": [
      "F"
     ]
    },
    {
     "name": "stdout",
     "output_type": "stream",
     "text": [
      " values"
     ]
    },
    {
     "name": "stdout",
     "output_type": "stream",
     "text": [
      " were"
     ]
    },
    {
     "name": "stdout",
     "output_type": "stream",
     "text": [
      " calculated"
     ]
    },
    {
     "name": "stdout",
     "output_type": "stream",
     "text": [
      " and"
     ]
    },
    {
     "name": "stdout",
     "output_type": "stream",
     "text": [
      " saved"
     ]
    },
    {
     "name": "stdout",
     "output_type": "stream",
     "text": [
      " to"
     ]
    },
    {
     "name": "stdout",
     "output_type": "stream",
     "text": [
      " a"
     ]
    },
    {
     "name": "stdout",
     "output_type": "stream",
     "text": [
      " CSV"
     ]
    },
    {
     "name": "stdout",
     "output_type": "stream",
     "text": [
      " file"
     ]
    },
    {
     "name": "stdout",
     "output_type": "stream",
     "text": [
      " with"
     ]
    },
    {
     "name": "stdout",
     "output_type": "stream",
     "text": [
      " File"
     ]
    },
    {
     "name": "stdout",
     "output_type": "stream",
     "text": [
      " ID"
     ]
    },
    {
     "name": "stdout",
     "output_type": "stream",
     "text": [
      " rms"
     ]
    },
    {
     "name": "stdout",
     "output_type": "stream",
     "text": [
      "f"
     ]
    },
    {
     "name": "stdout",
     "output_type": "stream",
     "text": [
      "_"
     ]
    },
    {
     "name": "stdout",
     "output_type": "stream",
     "text": [
      "1"
     ]
    },
    {
     "name": "stdout",
     "output_type": "stream",
     "text": [
      "L"
     ]
    },
    {
     "name": "stdout",
     "output_type": "stream",
     "text": [
      "6"
     ]
    },
    {
     "name": "stdout",
     "output_type": "stream",
     "text": [
      "X"
     ]
    },
    {
     "name": "stdout",
     "output_type": "stream",
     "text": [
      "."
     ]
    },
    {
     "name": "stdout",
     "output_type": "stream",
     "text": [
      " The"
     ]
    },
    {
     "name": "stdout",
     "output_type": "stream",
     "text": [
      " plot"
     ]
    },
    {
     "name": "stdout",
     "output_type": "stream",
     "text": [
      " is"
     ]
    },
    {
     "name": "stdout",
     "output_type": "stream",
     "text": [
      " saved"
     ]
    },
    {
     "name": "stdout",
     "output_type": "stream",
     "text": [
      " with"
     ]
    },
    {
     "name": "stdout",
     "output_type": "stream",
     "text": [
      " plot"
     ]
    },
    {
     "name": "stdout",
     "output_type": "stream",
     "text": [
      " ID"
     ]
    },
    {
     "name": "stdout",
     "output_type": "stream",
     "text": [
      " fig"
     ]
    },
    {
     "name": "stdout",
     "output_type": "stream",
     "text": [
      "0"
     ]
    },
    {
     "name": "stdout",
     "output_type": "stream",
     "text": [
      "_"
     ]
    },
    {
     "name": "stdout",
     "output_type": "stream",
     "text": [
      "234"
     ]
    },
    {
     "name": "stdout",
     "output_type": "stream",
     "text": [
      "500"
     ]
    },
    {
     "name": "stdout",
     "output_type": "stream",
     "text": [
      ".\\"
     ]
    },
    {
     "name": "stdout",
     "output_type": "stream",
     "text": [
      "n"
     ]
    },
    {
     "name": "stdout",
     "output_type": "stream",
     "text": [
      "\\n"
     ]
    },
    {
     "name": "stdout",
     "output_type": "stream",
     "text": [
      "-"
     ]
    },
    {
     "name": "stdout",
     "output_type": "stream",
     "text": [
      " At"
     ]
    },
    {
     "name": "stdout",
     "output_type": "stream",
     "text": [
      " p"
     ]
    },
    {
     "name": "stdout",
     "output_type": "stream",
     "text": [
      "H"
     ]
    },
    {
     "name": "stdout",
     "output_type": "stream",
     "text": [
      " "
     ]
    },
    {
     "name": "stdout",
     "output_type": "stream",
     "text": [
      "8"
     ]
    },
    {
     "name": "stdout",
     "output_type": "stream",
     "text": [
      "."
     ]
    },
    {
     "name": "stdout",
     "output_type": "stream",
     "text": [
      "8"
     ]
    },
    {
     "name": "stdout",
     "output_type": "stream",
     "text": [
      ":\\"
     ]
    },
    {
     "name": "stdout",
     "output_type": "stream",
     "text": [
      "n"
     ]
    },
    {
     "name": "stdout",
     "output_type": "stream",
     "text": [
      " "
     ]
    },
    {
     "name": "stdout",
     "output_type": "stream",
     "text": [
      " -"
     ]
    },
    {
     "name": "stdout",
     "output_type": "stream",
     "text": [
      " SAS"
     ]
    },
    {
     "name": "stdout",
     "output_type": "stream",
     "text": [
      "A"
     ]
    },
    {
     "name": "stdout",
     "output_type": "stream",
     "text": [
      " values"
     ]
    },
    {
     "name": "stdout",
     "output_type": "stream",
     "text": [
      " were"
     ]
    },
    {
     "name": "stdout",
     "output_type": "stream",
     "text": [
      " computed"
     ]
    },
    {
     "name": "stdout",
     "output_type": "stream",
     "text": [
      " and"
     ]
    },
    {
     "name": "stdout",
     "output_type": "stream",
     "text": [
      " saved"
     ]
    },
    {
     "name": "stdout",
     "output_type": "stream",
     "text": [
      " with"
     ]
    },
    {
     "name": "stdout",
     "output_type": "stream",
     "text": [
      " File"
     ]
    },
    {
     "name": "stdout",
     "output_type": "stream",
     "text": [
      " ID"
     ]
    },
    {
     "name": "stdout",
     "output_type": "stream",
     "text": [
      " sasa"
     ]
    },
    {
     "name": "stdout",
     "output_type": "stream",
     "text": [
      "_"
     ]
    },
    {
     "name": "stdout",
     "output_type": "stream",
     "text": [
      "1"
     ]
    },
    {
     "name": "stdout",
     "output_type": "stream",
     "text": [
      "L"
     ]
    },
    {
     "name": "stdout",
     "output_type": "stream",
     "text": [
      "6"
     ]
    },
    {
     "name": "stdout",
     "output_type": "stream",
     "text": [
      "X"
     ]
    },
    {
     "name": "stdout",
     "output_type": "stream",
     "text": [
      "_"
     ]
    },
    {
     "name": "stdout",
     "output_type": "stream",
     "text": [
      "1"
     ]
    },
    {
     "name": "stdout",
     "output_type": "stream",
     "text": [
      "."
     ]
    },
    {
     "name": "stdout",
     "output_type": "stream",
     "text": [
      " The"
     ]
    },
    {
     "name": "stdout",
     "output_type": "stream",
     "text": [
      " plot"
     ]
    },
    {
     "name": "stdout",
     "output_type": "stream",
     "text": [
      " is"
     ]
    },
    {
     "name": "stdout",
     "output_type": "stream",
     "text": [
      " saved"
     ]
    },
    {
     "name": "stdout",
     "output_type": "stream",
     "text": [
      " with"
     ]
    },
    {
     "name": "stdout",
     "output_type": "stream",
     "text": [
      " plot"
     ]
    },
    {
     "name": "stdout",
     "output_type": "stream",
     "text": [
      " ID"
     ]
    },
    {
     "name": "stdout",
     "output_type": "stream",
     "text": [
      " fig"
     ]
    },
    {
     "name": "stdout",
     "output_type": "stream",
     "text": [
      "0"
     ]
    },
    {
     "name": "stdout",
     "output_type": "stream",
     "text": [
      "_"
     ]
    },
    {
     "name": "stdout",
     "output_type": "stream",
     "text": [
      "234"
     ]
    },
    {
     "name": "stdout",
     "output_type": "stream",
     "text": [
      "943"
     ]
    },
    {
     "name": "stdout",
     "output_type": "stream",
     "text": [
      ".\\"
     ]
    },
    {
     "name": "stdout",
     "output_type": "stream",
     "text": [
      "n"
     ]
    },
    {
     "name": "stdout",
     "output_type": "stream",
     "text": [
      " "
     ]
    },
    {
     "name": "stdout",
     "output_type": "stream",
     "text": [
      " -"
     ]
    },
    {
     "name": "stdout",
     "output_type": "stream",
     "text": [
      " RMS"
     ]
    },
    {
     "name": "stdout",
     "output_type": "stream",
     "text": [
      "F"
     ]
    },
    {
     "name": "stdout",
     "output_type": "stream",
     "text": [
      " values"
     ]
    },
    {
     "name": "stdout",
     "output_type": "stream",
     "text": [
      " were"
     ]
    },
    {
     "name": "stdout",
     "output_type": "stream",
     "text": [
      " calculated"
     ]
    },
    {
     "name": "stdout",
     "output_type": "stream",
     "text": [
      " and"
     ]
    },
    {
     "name": "stdout",
     "output_type": "stream",
     "text": [
      " saved"
     ]
    },
    {
     "name": "stdout",
     "output_type": "stream",
     "text": [
      " to"
     ]
    },
    {
     "name": "stdout",
     "output_type": "stream",
     "text": [
      " a"
     ]
    },
    {
     "name": "stdout",
     "output_type": "stream",
     "text": [
      " CSV"
     ]
    },
    {
     "name": "stdout",
     "output_type": "stream",
     "text": [
      " file"
     ]
    },
    {
     "name": "stdout",
     "output_type": "stream",
     "text": [
      " with"
     ]
    },
    {
     "name": "stdout",
     "output_type": "stream",
     "text": [
      " File"
     ]
    },
    {
     "name": "stdout",
     "output_type": "stream",
     "text": [
      " ID"
     ]
    },
    {
     "name": "stdout",
     "output_type": "stream",
     "text": [
      " rms"
     ]
    },
    {
     "name": "stdout",
     "output_type": "stream",
     "text": [
      "f"
     ]
    },
    {
     "name": "stdout",
     "output_type": "stream",
     "text": [
      "_"
     ]
    },
    {
     "name": "stdout",
     "output_type": "stream",
     "text": [
      "1"
     ]
    },
    {
     "name": "stdout",
     "output_type": "stream",
     "text": [
      "L"
     ]
    },
    {
     "name": "stdout",
     "output_type": "stream",
     "text": [
      "6"
     ]
    },
    {
     "name": "stdout",
     "output_type": "stream",
     "text": [
      "X"
     ]
    },
    {
     "name": "stdout",
     "output_type": "stream",
     "text": [
      "_"
     ]
    },
    {
     "name": "stdout",
     "output_type": "stream",
     "text": [
      "1"
     ]
    },
    {
     "name": "stdout",
     "output_type": "stream",
     "text": [
      "."
     ]
    },
    {
     "name": "stdout",
     "output_type": "stream",
     "text": [
      " The"
     ]
    },
    {
     "name": "stdout",
     "output_type": "stream",
     "text": [
      " plot"
     ]
    },
    {
     "name": "stdout",
     "output_type": "stream",
     "text": [
      " is"
     ]
    },
    {
     "name": "stdout",
     "output_type": "stream",
     "text": [
      " saved"
     ]
    },
    {
     "name": "stdout",
     "output_type": "stream",
     "text": [
      " with"
     ]
    },
    {
     "name": "stdout",
     "output_type": "stream",
     "text": [
      " plot"
     ]
    },
    {
     "name": "stdout",
     "output_type": "stream",
     "text": [
      " ID"
     ]
    },
    {
     "name": "stdout",
     "output_type": "stream",
     "text": [
      " fig"
     ]
    },
    {
     "name": "stdout",
     "output_type": "stream",
     "text": [
      "0"
     ]
    },
    {
     "name": "stdout",
     "output_type": "stream",
     "text": [
      "_"
     ]
    },
    {
     "name": "stdout",
     "output_type": "stream",
     "text": [
      "234"
     ]
    },
    {
     "name": "stdout",
     "output_type": "stream",
     "text": [
      "947"
     ]
    },
    {
     "name": "stdout",
     "output_type": "stream",
     "text": [
      ".\\"
     ]
    },
    {
     "name": "stdout",
     "output_type": "stream",
     "text": [
      "n"
     ]
    },
    {
     "name": "stdout",
     "output_type": "stream",
     "text": [
      "\\n"
     ]
    },
    {
     "name": "stdout",
     "output_type": "stream",
     "text": [
      "These"
     ]
    },
    {
     "name": "stdout",
     "output_type": "stream",
     "text": [
      " analyses"
     ]
    },
    {
     "name": "stdout",
     "output_type": "stream",
     "text": [
      " provide"
     ]
    },
    {
     "name": "stdout",
     "output_type": "stream",
     "text": [
      " insights"
     ]
    },
    {
     "name": "stdout",
     "output_type": "stream",
     "text": [
      " into"
     ]
    },
    {
     "name": "stdout",
     "output_type": "stream",
     "text": [
      " the"
     ]
    },
    {
     "name": "stdout",
     "output_type": "stream",
     "text": [
      " structural"
     ]
    },
    {
     "name": "stdout",
     "output_type": "stream",
     "text": [
      " dynamics"
     ]
    },
    {
     "name": "stdout",
     "output_type": "stream",
     "text": [
      " and"
     ]
    },
    {
     "name": "stdout",
     "output_type": "stream",
     "text": [
      " solvent"
     ]
    },
    {
     "name": "stdout",
     "output_type": "stream",
     "text": [
      " exposure"
     ]
    },
    {
     "name": "stdout",
     "output_type": "stream",
     "text": [
      " of"
     ]
    },
    {
     "name": "stdout",
     "output_type": "stream",
     "text": [
      " the"
     ]
    },
    {
     "name": "stdout",
     "output_type": "stream",
     "text": [
      " protein"
     ]
    },
    {
     "name": "stdout",
     "output_type": "stream",
     "text": [
      " under"
     ]
    },
    {
     "name": "stdout",
     "output_type": "stream",
     "text": [
      " different"
     ]
    },
    {
     "name": "stdout",
     "output_type": "stream",
     "text": [
      " p"
     ]
    },
    {
     "name": "stdout",
     "output_type": "stream",
     "text": [
      "H"
     ]
    },
    {
     "name": "stdout",
     "output_type": "stream",
     "text": [
      " conditions"
     ]
    },
    {
     "name": "stdout",
     "output_type": "stream",
     "text": [
      ".\"\n"
     ]
    },
    {
     "name": "stdout",
     "output_type": "stream",
     "text": [
      "}\n"
     ]
    },
    {
     "name": "stdout",
     "output_type": "stream",
     "text": [
      "```"
<<<<<<< HEAD
>>>>>>> 417d712 (exp25 for gpt4o)
=======
>>>>>>> 4562069f3359483c8d4e9b21c15e6f636c15ff4e
     ]
    },
    {
     "data": {
      "text/plain": [
       "({'input': '\\n    You are an expert molecular dynamics scientist, and\\n    your task is to respond to the question or\\n    solve the problem to the best of your ability using\\n    the provided tools.\\n\\n    You can only respond with a single complete\\n    \\'Thought, Action, Action Input\\' format\\n    OR a single \\'Final Answer\\' format.\\n\\n    Complete format:\\n    Thought: (reflect on your progress and decide what to do next)\\n    Action:\\n    ```\\n    {\\n        \"action\": (the action name, it should be the name of a tool),\\n        \"action_input\": (the input string for the action)\\n    }\\n    \\'\\'\\'\\n\\n    OR\\n\\n    Final Answer: (the final response to the original input\\n    question, once all steps are complete)\\n\\n    You are required to use the tools provided,\\n    using the most specific tool\\n    available for each action.\\n    Your final answer should contain all information\\n    necessary to answer the question and its subquestions.\\n    Before you finish, reflect on your progress and make\\n    sure you have addressed the question in its entirety.\\n\\n    If you are asked to continue\\n    or reference previous runs,\\n    the context will be provided to you.\\n    If context is provided, you should assume\\n    you are continuing a chat.\\n\\n    Here is the input:\\n    Previous Context: None\\n    Question: Simulate 1L6X at pH 5.0 and 8.8, then analyze the SASA and RMSF under both pH conditions. ',\n",
<<<<<<< HEAD
<<<<<<< HEAD
       "  'output': 'To summarize the results and provide the final answer, I will compile the SASA and RMSF analyses for both pH conditions.\\n\\nFinal Answer: The simulations and analyses for the protein 1L6X at pH 5.0 and 8.8 have been successfully completed. Below are the results:\\n\\n### Solvent Accessible Surface Area (SASA):\\n- **pH 5.0**: SASA values computed and saved with File ID `sasa_1L6X`. The plot is saved with plot ID `fig0_192757`.\\n- **pH 8.8**: SASA values computed and saved with File ID `sasa_1L6X_1`. The plot is saved with plot ID `fig0_194106`.\\n\\n### Root Mean Square Fluctuation (RMSF):\\n- **pH 5.0**: RMSF calculated and saved to CSV with file ID `rmsf_1L6X`. The plot is saved with plot ID `fig0_194109`.\\n- **pH 8.8**: RMSF calculated and saved to CSV with file ID `rmsf_1L6X_1`. The plot is saved with plot ID `fig0_194112`.\\n\\nThese results provide insights into the structural dynamics and solvent accessibility of the protein 1L6X under different pH conditions.'},\n",
       " 'VB2MZ58W')"
      ]
     },
     "execution_count": 3,
=======
=======
>>>>>>> 4562069f3359483c8d4e9b21c15e6f636c15ff4e
       "  'output': 'The simulations and analyses for the protein 1L6X at pH 5.0 and 8.8 have been successfully completed. The Solvent Accessible Surface Area (SASA) and Root Mean Square Fluctuation (RMSF) were calculated for both pH conditions. The results are as follows:\\n\\n- At pH 5.0:\\n  - SASA values were computed and saved with File ID sasa_1L6X. The plot is saved with plot ID fig0_234457.\\n  - RMSF values were calculated and saved to a CSV file with File ID rmsf_1L6X. The plot is saved with plot ID fig0_234500.\\n\\n- At pH 8.8:\\n  - SASA values were computed and saved with File ID sasa_1L6X_1. The plot is saved with plot ID fig0_234943.\\n  - RMSF values were calculated and saved to a CSV file with File ID rmsf_1L6X_1. The plot is saved with plot ID fig0_234947.\\n\\nThese analyses provide insights into the structural dynamics and solvent exposure of the protein under different pH conditions.'},\n",
       " 'F836H1YV')"
      ]
     },
     "execution_count": 5,
<<<<<<< HEAD
>>>>>>> 417d712 (exp25 for gpt4o)
=======
>>>>>>> 4562069f3359483c8d4e9b21c15e6f636c15ff4e
     "metadata": {},
     "output_type": "execute_result"
    }
   ],
   "source": [
    "agent.run(prompt25)"
   ]
  },
  {
   "cell_type": "code",
<<<<<<< HEAD
<<<<<<< HEAD
   "execution_count": null,
   "metadata": {},
   "outputs": [],
   "source": []
  },
  {
   "cell_type": "code",
   "execution_count": 22,
   "metadata": {},
=======
=======
>>>>>>> 4562069f3359483c8d4e9b21c15e6f636c15ff4e
   "execution_count": 6,
   "id": "39312149",
   "metadata": {
    "execution": {
     "iopub.execute_input": "2024-10-18T03:49:51.699186Z",
     "iopub.status.busy": "2024-10-18T03:49:51.698884Z",
     "iopub.status.idle": "2024-10-18T03:49:51.706493Z",
     "shell.execute_reply": "2024-10-18T03:49:51.705818Z"
    },
    "papermill": {
     "duration": 0.181101,
     "end_time": "2024-10-18T03:49:51.708443",
     "exception": false,
     "start_time": "2024-10-18T03:49:51.527342",
     "status": "completed"
    },
    "tags": []
   },
<<<<<<< HEAD
>>>>>>> 417d712 (exp25 for gpt4o)
=======
>>>>>>> 4562069f3359483c8d4e9b21c15e6f636c15ff4e
   "outputs": [
    {
     "name": "stdout",
     "output_type": "stream",
     "text": [
<<<<<<< HEAD
<<<<<<< HEAD
      "date and time: 2024-09-10\n",
      "time: 12:15:33\n",
      "Files found in registry: 1L6X_185934: PDB file downloaded from RSCB\n",
      " PDBFile ID: 1L6X_185934\n",
      " 1L6X_185938: Cleaned File:  Removed Heterogens\n",
      " and Water Removed.  Replaced Nonstandard Residues. Added Hydrogens at pH 5.0. Missing Atoms Added and replaces nonstandard residues. \n",
      " top_sim0_185941: Initial positions for simulation sim0_185941\n",
      " sim0_185941: Basic Simulation of Protein 1L6X_185938\n",
      " rec0_185946: Simulation trajectory for protein 1L6X_185938 and simulation sim0_185941\n",
      " rec1_185946: Simulation state log for protein 1L6X_185938 and simulation sim0_185941\n",
      " rec2_185946: Simulation pdb frames for protein 1L6X_185938 and simulation sim0_185941\n",
      " 1L6X_190811: Cleaned File:  Removed Heterogens\n",
      " and Water Removed.  Replaced Nonstandard Residues. Added Hydrogens at pH 8.8. Missing Atoms Added and replaces nonstandard residues. \n",
      " top_sim0_190814: Initial positions for simulation sim0_190814\n",
      " sim0_190814: Basic Simulation of Protein 1L6X_190811\n",
      " rec0_190820: Simulation trajectory for protein 1L6X_190811 and simulation sim0_190814\n",
      " rec1_190820: Simulation state log for protein 1L6X_190811 and simulation sim0_190814\n",
      " rec2_190820: Simulation pdb frames for protein 1L6X_190811 and simulation sim0_190814\n",
      " sasa_1L6X: Total SASA values for 1L6X\n",
      " fig0_192757: Plot of SASA over time for 1L6X\n",
      " sasa_1L6X_1: Total SASA values for 1L6X\n",
      " fig0_194106: Plot of SASA over time for 1L6X\n",
      " rmsf_1L6X: RMSF for 1L6X\n",
      " fig0_194109: RMSF plot for 1L6X\n",
      " rmsf_1L6X_1: RMSF for 1L6X\n",
      " fig0_194112: RMSF plot for 1L6X\n"
=======
=======
>>>>>>> 4562069f3359483c8d4e9b21c15e6f636c15ff4e
      "date and time: 2024-10-17\n",
      "time: 23:49:51\n",
      "ckpt_dir: ckpt_12\n",
      "Files found in registry: 1L6X_233951: PDB file downloaded from RSCB\n",
      " PDBFile ID: 1L6X_233951\n",
      " 1L6X_234000: Cleaned File:  Removed Heterogens\n",
      " and Water Removed.  Replaced Nonstandard Residues. Added Hydrogens at pH 5.0. Missing Atoms Added and replaces nonstandard residues. \n",
      " top_sim0_234003: Initial positions for simulation sim0_234003\n",
      " sim0_234003: Basic Simulation of Protein 1L6X_234000\n",
      " rec0_234004: Simulation trajectory for protein 1L6X_234000 and simulation sim0_234003\n",
      " rec1_234004: Simulation state log for protein 1L6X_234000 and simulation sim0_234003\n",
      " rec2_234004: Simulation pdb frames for protein 1L6X_234000 and simulation sim0_234003\n",
      " sasa_1L6X: Total SASA values for 1L6X\n",
      " fig0_234457: Plot of SASA over time for 1L6X\n",
      " rmsf_1L6X: RMSF for 1L6X\n",
      " fig0_234500: RMSF plot for 1L6X\n",
      " 1L6X_234506: Cleaned File:  Removed Heterogens\n",
      " and Water Removed.  Replaced Nonstandard Residues. Added Hydrogens at pH 8.8. Missing Atoms Added and replaces nonstandard residues. \n",
      " top_sim0_234509: Initial positions for simulation sim0_234509\n",
      " sim0_234509: Basic Simulation of Protein 1L6X_234506\n",
      " rec0_234510: Simulation trajectory for protein 1L6X_234506 and simulation sim0_234509\n",
      " rec1_234510: Simulation state log for protein 1L6X_234506 and simulation sim0_234509\n",
      " rec2_234510: Simulation pdb frames for protein 1L6X_234506 and simulation sim0_234509\n",
      " sasa_1L6X_1: Total SASA values for 1L6X\n",
      " fig0_234943: Plot of SASA over time for 1L6X\n",
      " rmsf_1L6X_1: RMSF for 1L6X\n",
      " fig0_234947: RMSF plot for 1L6X\n"
<<<<<<< HEAD
>>>>>>> 417d712 (exp25 for gpt4o)
=======
>>>>>>> 4562069f3359483c8d4e9b21c15e6f636c15ff4e
     ]
    }
   ],
   "source": [
    "now = datetime.datetime.now()\n",
    "date = now.strftime(\"%Y-%m-%d\")\n",
    "print(\"date and time:\",date)\n",
    "time = now.strftime(\"%H:%M:%S\")\n",
    "print(\"time:\",time)\n",
<<<<<<< HEAD
<<<<<<< HEAD
    "registry = agent.path_registry\n",
=======
    "\n",
    "registry = agent.path_registry\n",
    "print('ckpt_dir:',os.path.basename(registry.ckpt_dir))\n",
>>>>>>> 417d712 (exp25 for gpt4o)
=======
    "\n",
    "registry = agent.path_registry\n",
    "print('ckpt_dir:',os.path.basename(registry.ckpt_dir))\n",
>>>>>>> 4562069f3359483c8d4e9b21c15e6f636c15ff4e
    "paths_and_descriptions = registry.list_path_names_and_descriptions()\n",
    "print(\"\\n\".join(paths_and_descriptions.split(\",\")))"
   ]
  },
  {
   "cell_type": "code",
<<<<<<< HEAD
<<<<<<< HEAD
   "execution_count": 23,
   "metadata": {},
   "outputs": [],
   "source": [
    "path_oxygenated = registry.get_mapped_path(\"fig0_194109\")\n",
    "path_deoxygenated = registry.get_mapped_path(\"fig0_194112\")\n",
    "assert os.path.exists(path_oxygenated), 'Path not found'\n",
    "assert os.path.exists(path_deoxygenated), 'Path not found'\n",
    "assert path_oxygenated != path_deoxygenated, 'Paths are the same'"
   ]
  },
  {
   "cell_type": "code",
   "execution_count": null,
   "metadata": {},
   "outputs": [],
   "source": [
    "from IPython.display import Image\n",
    "path_1 = registry.get_mapped_path(\"fig0_120126\")\n",
    "path_2 = registry.get_mapped_path(\"fig0_120130\")\n",
    "path1 = '/Users/jorgemedina/Desktop/md-agent/ckpt/ckpt_25'+path_1.split(\"ckpt/ckpt_25\")[1]+\".png\"\n",
    "path2 = '/Users/jorgemedina/Desktop/md-agent/ckpt/ckpt_25'+path_2.split(\"ckpt/ckpt_25\")[1]+\".png\""
   ]
  },
  {
   "cell_type": "code",
   "execution_count": 6,
   "metadata": {},
   "outputs": [
    {
     "data": {
      "image/png": "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",
      "text/plain": [
       "<IPython.core.display.Image object>"
      ]
     },
     "execution_count": 6,
     "metadata": {},
     "output_type": "execute_result"
    }
   ],
   "source": [
    "from IPython.display import Image\n",
    "Image(filename=path_oxygenated)"
   ]
  },
  {
   "cell_type": "code",
   "execution_count": 7,
   "metadata": {},
   "outputs": [
    {
     "data": {
      "image/png": "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",
=======
=======
>>>>>>> 4562069f3359483c8d4e9b21c15e6f636c15ff4e
   "execution_count": 7,
   "id": "38bf15ff",
   "metadata": {
    "execution": {
     "iopub.execute_input": "2024-10-18T03:49:52.055500Z",
     "iopub.status.busy": "2024-10-18T03:49:52.055206Z",
     "iopub.status.idle": "2024-10-18T03:49:52.064101Z",
     "shell.execute_reply": "2024-10-18T03:49:52.063345Z"
    },
    "papermill": {
     "duration": 0.182906,
     "end_time": "2024-10-18T03:49:52.066138",
     "exception": false,
     "start_time": "2024-10-18T03:49:51.883232",
     "status": "completed"
    },
    "tags": []
   },
   "outputs": [
    {
     "name": "stdout",
     "output_type": "stream",
     "text": [
      "It is asserted that file paths for fig0_234457, fig0_234500, fig0_234943 and fig0_234947 exist\n"
     ]
    }
   ],
   "source": [
    "import re\n",
    "import os\n",
    "\n",
    "matches = re.findall(r\"fig0_\\d+\", paths_and_descriptions)\n",
    "fig_id1 = matches[0]\n",
    "fig_id2 = matches[1]\n",
    "fig_id3 = matches[2]\n",
    "fig_id4 = matches[3]\n",
    "fig_path_1 = registry.get_mapped_path(fig_id1)\n",
    "fig_path_2 = registry.get_mapped_path(fig_id2)\n",
    "fig_path_3 = registry.get_mapped_path(fig_id3)\n",
    "fig_path_4 = registry.get_mapped_path(fig_id4)\n",
    "\n",
    "assert os.path.exists(fig_path_1)\n",
    "assert os.path.exists(fig_path_2)\n",
    "assert os.path.exists(fig_path_3)\n",
    "assert os.path.exists(fig_path_4)\n",
    "print(f'It is asserted that file paths for {fig_id1}, {fig_id2}, {fig_id3} and {fig_id4} exist')"
   ]
  },
  {
   "cell_type": "code",
   "execution_count": 8,
   "id": "d87cef5c",
   "metadata": {
    "execution": {
     "iopub.execute_input": "2024-10-18T03:49:52.411394Z",
     "iopub.status.busy": "2024-10-18T03:49:52.411097Z",
     "iopub.status.idle": "2024-10-18T03:49:52.446354Z",
     "shell.execute_reply": "2024-10-18T03:49:52.445695Z"
    },
    "papermill": {
     "duration": 0.209211,
     "end_time": "2024-10-18T03:49:52.448253",
     "exception": false,
     "start_time": "2024-10-18T03:49:52.239042",
     "status": "completed"
    },
    "tags": []
   },
   "outputs": [
    {
     "data": {
      "image/png": "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",
<<<<<<< HEAD
>>>>>>> 417d712 (exp25 for gpt4o)
=======
>>>>>>> 4562069f3359483c8d4e9b21c15e6f636c15ff4e
      "text/plain": [
       "<IPython.core.display.Image object>"
      ]
     },
<<<<<<< HEAD
<<<<<<< HEAD
     "execution_count": 7,
=======
     "execution_count": 8,
>>>>>>> 417d712 (exp25 for gpt4o)
=======
     "execution_count": 8,
>>>>>>> 4562069f3359483c8d4e9b21c15e6f636c15ff4e
     "metadata": {},
     "output_type": "execute_result"
    }
   ],
   "source": [
<<<<<<< HEAD
<<<<<<< HEAD
    "Image(filename=path_deoxygenated)"
=======
    "from IPython.display import Image\n",
    "Image(filename=fig_path_1)"
>>>>>>> 417d712 (exp25 for gpt4o)
=======
    "from IPython.display import Image\n",
    "Image(filename=fig_path_1)"
>>>>>>> 4562069f3359483c8d4e9b21c15e6f636c15ff4e
   ]
  },
  {
   "cell_type": "code",
<<<<<<< HEAD
<<<<<<< HEAD
   "execution_count": 28,
   "metadata": {},
   "outputs": [],
   "source": [
    "path_oxygenated = registry.get_mapped_path(\"fig0_194106\")\n",
    "path_deoxygenated = registry.get_mapped_path(\"fig0_192757\")\n",
    "assert os.path.exists(path_oxygenated), 'Path not found'\n",
    "assert os.path.exists(path_deoxygenated), 'Path not found'\n",
    "assert path_oxygenated != path_deoxygenated, 'Paths are the same'"
   ]
  },
  {
   "cell_type": "code",
   "execution_count": 29,
   "metadata": {},
   "outputs": [
    {
     "data": {
      "image/png": "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",
=======
=======
>>>>>>> 4562069f3359483c8d4e9b21c15e6f636c15ff4e
   "execution_count": 9,
   "id": "f4794900",
   "metadata": {
    "execution": {
     "iopub.execute_input": "2024-10-18T03:49:52.794811Z",
     "iopub.status.busy": "2024-10-18T03:49:52.794514Z",
     "iopub.status.idle": "2024-10-18T03:49:53.708557Z",
     "shell.execute_reply": "2024-10-18T03:49:53.707847Z"
    },
    "papermill": {
     "duration": 1.089394,
     "end_time": "2024-10-18T03:49:53.710588",
     "exception": false,
     "start_time": "2024-10-18T03:49:52.621194",
     "status": "completed"
    },
    "scrolled": true,
    "tags": []
   },
   "outputs": [
    {
     "data": {
      "image/png": "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",
<<<<<<< HEAD
>>>>>>> 417d712 (exp25 for gpt4o)
=======
>>>>>>> 4562069f3359483c8d4e9b21c15e6f636c15ff4e
      "text/plain": [
       "<IPython.core.display.Image object>"
      ]
     },
<<<<<<< HEAD
<<<<<<< HEAD
     "execution_count": 29,
=======
     "execution_count": 9,
>>>>>>> 417d712 (exp25 for gpt4o)
=======
     "execution_count": 9,
>>>>>>> 4562069f3359483c8d4e9b21c15e6f636c15ff4e
     "metadata": {},
     "output_type": "execute_result"
    }
   ],
   "source": [
<<<<<<< HEAD
<<<<<<< HEAD
    "Image(filename=path_oxygenated)"
=======
    "Image(filename=fig_path_2)"
>>>>>>> 417d712 (exp25 for gpt4o)
=======
    "Image(filename=fig_path_2)"
>>>>>>> 4562069f3359483c8d4e9b21c15e6f636c15ff4e
   ]
  },
  {
   "cell_type": "code",
<<<<<<< HEAD
<<<<<<< HEAD
   "execution_count": 30,
   "metadata": {},
   "outputs": [
    {
     "data": {
      "image/png": "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",
=======
=======
>>>>>>> 4562069f3359483c8d4e9b21c15e6f636c15ff4e
   "execution_count": 10,
   "id": "55fa2269",
   "metadata": {
    "execution": {
     "iopub.execute_input": "2024-10-18T03:49:54.081923Z",
     "iopub.status.busy": "2024-10-18T03:49:54.081597Z",
     "iopub.status.idle": "2024-10-18T03:49:54.091152Z",
     "shell.execute_reply": "2024-10-18T03:49:54.090460Z"
    },
    "papermill": {
     "duration": 0.206751,
     "end_time": "2024-10-18T03:49:54.093042",
     "exception": false,
     "start_time": "2024-10-18T03:49:53.886291",
     "status": "completed"
    },
    "tags": []
   },
   "outputs": [
    {
     "data": {
      "image/png": "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",
<<<<<<< HEAD
>>>>>>> 417d712 (exp25 for gpt4o)
=======
>>>>>>> 4562069f3359483c8d4e9b21c15e6f636c15ff4e
      "text/plain": [
       "<IPython.core.display.Image object>"
      ]
     },
<<<<<<< HEAD
<<<<<<< HEAD
     "execution_count": 30,
=======
     "execution_count": 10,
>>>>>>> 417d712 (exp25 for gpt4o)
=======
     "execution_count": 10,
>>>>>>> 4562069f3359483c8d4e9b21c15e6f636c15ff4e
     "metadata": {},
     "output_type": "execute_result"
    }
   ],
   "source": [
<<<<<<< HEAD
<<<<<<< HEAD
    "Image(filename=path_deoxygenated)"
   ]
  },
  {
   "cell_type": "markdown",
   "metadata": {},
   "source": [
    "# Experiment Result:\n",
    "### Completed without Exception or TimeOut Errors ✅\n",
    "### Attempted all necessary steps ✅\n",
    "### No hallucination ✅\n",
    "### Logic make sense ✅\n",
    "### Correct Answer  ✅\n",
    "### Number of steps completed: 9\n",
    "### % steps completed: 100%"
   ]
  },
  {
   "cell_type": "markdown",
   "metadata": {},
   "source": []
=======
=======
>>>>>>> 4562069f3359483c8d4e9b21c15e6f636c15ff4e
    "Image(filename=fig_path_3)"
   ]
  },
  {
   "cell_type": "code",
   "execution_count": 11,
   "id": "2d78eed8",
   "metadata": {
    "execution": {
     "iopub.execute_input": "2024-10-18T03:49:54.449843Z",
     "iopub.status.busy": "2024-10-18T03:49:54.449532Z",
     "iopub.status.idle": "2024-10-18T03:49:54.459087Z",
     "shell.execute_reply": "2024-10-18T03:49:54.458395Z"
    },
    "papermill": {
     "duration": 0.186086,
     "end_time": "2024-10-18T03:49:54.461113",
     "exception": false,
     "start_time": "2024-10-18T03:49:54.275027",
     "status": "completed"
    },
    "tags": []
   },
   "outputs": [
    {
     "data": {
      "image/png": "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",
      "text/plain": [
       "<IPython.core.display.Image object>"
      ]
     },
     "execution_count": 11,
     "metadata": {},
     "output_type": "execute_result"
    }
   ],
   "source": [
    "Image(filename=fig_path_4)"
   ]
<<<<<<< HEAD
>>>>>>> 417d712 (exp25 for gpt4o)
=======
>>>>>>> 4562069f3359483c8d4e9b21c15e6f636c15ff4e
  }
 ],
 "metadata": {
  "kernelspec": {
<<<<<<< HEAD
<<<<<<< HEAD
   "display_name": "mdagent2",
   "language": "python",
   "name": "python3"
=======
   "display_name": "mdagent",
   "language": "python",
   "name": "mdagent"
>>>>>>> 417d712 (exp25 for gpt4o)
=======
   "display_name": "mdagent",
   "language": "python",
   "name": "mdagent"
>>>>>>> 4562069f3359483c8d4e9b21c15e6f636c15ff4e
  },
  "language_info": {
   "codemirror_mode": {
    "name": "ipython",
    "version": 3
   },
   "file_extension": ".py",
   "mimetype": "text/x-python",
   "name": "python",
   "nbconvert_exporter": "python",
   "pygments_lexer": "ipython3",
<<<<<<< HEAD
<<<<<<< HEAD
   "version": "3.11.9"
  }
 },
 "nbformat": 4,
 "nbformat_minor": 2
=======
=======
>>>>>>> 4562069f3359483c8d4e9b21c15e6f636c15ff4e
   "version": "3.12.4"
  },
  "papermill": {
   "default_parameters": {},
   "duration": 634.926798,
   "end_time": "2024-10-18T03:49:56.116760",
   "environment_variables": {},
   "exception": null,
   "input_path": "templates/exp_25.ipynb",
   "output_path": "results_gpt4o/exp_25.ipynb",
   "parameters": {
    "llm_var": "gpt-4o-2024-08-06"
   },
   "start_time": "2024-10-18T03:39:21.189962",
   "version": "2.6.0"
  }
 },
 "nbformat": 4,
 "nbformat_minor": 5
<<<<<<< HEAD
>>>>>>> 417d712 (exp25 for gpt4o)
=======
>>>>>>> 4562069f3359483c8d4e9b21c15e6f636c15ff4e
}
