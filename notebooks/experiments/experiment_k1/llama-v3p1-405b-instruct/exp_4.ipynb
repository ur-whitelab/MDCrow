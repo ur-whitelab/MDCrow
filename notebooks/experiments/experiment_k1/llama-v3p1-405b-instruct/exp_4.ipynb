{
 "cells": [
  {
   "cell_type": "code",
   "execution_count": 1,
   "metadata": {},
   "outputs": [],
   "source": [
    "import datetime\n",
    "import os\n",
    "from mdagent import MDAgent\n",
    "import matplotlib.pyplot as plt"
   ]
  },
  {
   "cell_type": "code",
   "execution_count": 2,
   "metadata": {},
   "outputs": [
    {
     "name": "stdout",
     "output_type": "stream",
     "text": [
      "date and time: 2024-08-19\n",
      "time: 13:59:45\n",
      "LLM:  accounts/fireworks/models/llama-v3p1-405b-instruct \n",
      "Temperature:  0.1\n"
     ]
    }
   ],
   "source": [
    "prompt4 = \"What are the common parameters used to simulate fibronectin?\"\n",
    "llm_var = \"accounts/fireworks/models/llama-v3p1-405b-instruct\"\n",
    "tools = \"all\"\n",
    "agent = MDAgent(agent_type=\"Structured\", model=llm_var, top_k_tools=tools)\n",
    "now = datetime.datetime.now()\n",
    "date = now.strftime(\"%Y-%m-%d\")\n",
    "print(\"date and time:\",date)\n",
    "time = now.strftime(\"%H:%M:%S\")\n",
    "print(\"time:\",time)\n",
    "print(\"LLM: \",agent.llm.model_name,\"\\nTemperature: \",agent.llm.temperature)"
   ]
  },
  {
   "cell_type": "code",
   "execution_count": 3,
   "metadata": {},
   "outputs": [
    {
     "name": "stdout",
     "output_type": "stream",
     "text": [
      "Thought: To determine the common parameters used to simulate fibronectin, I need to search for literature on molecular dynamics simulations of fibronectin.\n",
      "\n",
      "Action:\n",
      "```\n",
      "{\n",
      "  \"action\": \"LiteratureSearch\",\n",
      "  \"action_input\": \"fibronectin molecular dynamics simulation parameters\"\n",
      "}\n",
      "```\"Molecular dynamics simulation parameters of fibronectin: a literature review\"\n",
      "Search: \"Molecular dynamics simulation parameters of fibronectin: a literature review\"\n",
      "Thought: Since the initial literature search did not yield sufficient results, I will broaden the search terms to include more general keywords related to protein simulation parameters, as fibronectin is a protein.\n",
      "\n",
      "Action:\n",
      "```\n",
      "{\n",
      "  \"action\": \"LiteratureSearch\",\n",
      "  \"action_input\": \"protein molecular dynamics simulation parameters\"\n",
      "}\n",
      "```\"Molecular dynamics simulation parameters optimization for protein systems\"\n",
      "Search: \"Molecular dynamics simulation parameters optimization for protein systems\"\n",
      "\n",
      "Found 14 papers\n",
      "Thought: Based on the literature search results, I can infer that common parameters used to simulate proteins, such as fibronectin, include the use of GROMACS software, CHARMM36 force field, TIP3P water model, and specific algorithms for managing non-bonded interactions and bond constraints. However, I need to verify if these parameters are specifically applicable to fibronectin simulations.\n",
      "\n",
      "Action:\n",
      "```\n",
      "{\n",
      "  \"action\": \"LiteratureSearch\",\n",
      "  \"action_input\": \"fibronectin molecular dynamics simulation parameters CHARMM36 GROMACS\"\n",
      "}\n",
      "```\n",
      "This search will help me determine if the parameters mentioned in the previous search results are relevant to fibronectin simulations.\"Fibronectin simulation CHARMM36 GROMACS parameters molecular dynamics study\"\n",
      "Search: \"Fibronectin simulation CHARMM36 GROMACS parameters molecular dynamics study\"\n",
      "\n",
      "Found 11 papers\n",
      "Thought: Based on the literature search results, I can conclude that common parameters used to simulate fibronectin include the use of GROMACS software, CHARMM36 force field, and specific algorithms for managing non-bonded interactions and bond constraints. The CHARMM36 force field has been successfully used to match bilayer properties, which could be pertinent when simulating membrane-bound states of fibronectin.\n",
      "\n",
      "Action:\n",
      "```\n",
      "{\n",
      "  \"action\": \"Final Answer\",\n",
      "  \"action_input\": \"Common parameters used to simulate fibronectin include the use of GROMACS software, CHARMM36 force field, and specific algorithms for managing non-bonded interactions and bond constraints. The CHARMM36 force field has been successfully used to match bilayer properties, which could be pertinent when simulating membrane-bound states of fibronectin.\"\n",
      "}\n",
      "```"
     ]
    },
    {
     "data": {
      "text/plain": [
       "({'input': '\\n    You are an expert molecular dynamics scientist, and\\n    your task is to respond to the question or\\n    solve the problem to the best of your ability using\\n    the provided tools.\\n\\n    You can only respond with a single complete\\n    \\'Thought, Action, Action Input\\' format\\n    OR a single \\'Final Answer\\' format.\\n\\n    Complete format:\\n    Thought: (reflect on your progress and decide what to do next)\\n    Action:\\n    ```\\n    {\\n        \"action\": (the action name, it should be the name of a tool),\\n        \"action_input\": (the input string for the action)\\n    }\\n    \\'\\'\\'\\n\\n    OR\\n\\n    Final Answer: (the final response to the original input\\n    question, once all steps are complete)\\n\\n    You are required to use the tools provided,\\n    using the most specific tool\\n    available for each action.\\n    Your final answer should contain all information\\n    necessary to answer the question and its subquestions.\\n    Before you finish, reflect on your progress and make\\n    sure you have addressed the question in its entirety.\\n\\n    If you are asked to continue\\n    or reference previous runs,\\n    the context will be provided to you.\\n    If context is provided, you should assume\\n    you are continuing a chat.\\n\\n    Here is the input:\\n    Previous Context: None\\n    Question: What are the common parameters used to simulate fibronectin? ',\n",
       "  'output': 'Common parameters used to simulate fibronectin include the use of GROMACS software, CHARMM36 force field, and specific algorithms for managing non-bonded interactions and bond constraints. The CHARMM36 force field has been successfully used to match bilayer properties, which could be pertinent when simulating membrane-bound states of fibronectin.'},\n",
       " '64BPN42T')"
      ]
     },
     "execution_count": 3,
     "metadata": {},
     "output_type": "execute_result"
    }
   ],
   "source": [
    "agent.run(prompt4)"
   ]
  },
  {
   "cell_type": "markdown",
   "metadata": {},
   "source": [
    "# Experiment Result: \n",
    "### Completed without Exception or TimeOut Errors ✅\n",
    "### Attempted all necessary steps ✅\n",
    "### Completed without Hallucination ✅\n",
    "### Logic make sense ✅\n",
    "### Correct Answer ✅"
   ]
  },
  {
   "cell_type": "code",
   "execution_count": null,
   "metadata": {},
   "outputs": [],
   "source": []
  }
 ],
 "metadata": {
  "kernelspec": {
   "display_name": "mdagent",
   "language": "python",
   "name": "mdagent"
  },
  "language_info": {
   "codemirror_mode": {
    "name": "ipython",
    "version": 3
   },
   "file_extension": ".py",
   "mimetype": "text/x-python",
   "name": "python",
   "nbconvert_exporter": "python",
   "pygments_lexer": "ipython3",
   "version": "3.12.4"
  }
 },
 "nbformat": 4,
 "nbformat_minor": 4
}
