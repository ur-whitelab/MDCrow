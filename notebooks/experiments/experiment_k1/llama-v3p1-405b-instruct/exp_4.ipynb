{
 "cells": [
  {
   "cell_type": "code",
   "execution_count": 1,
   "metadata": {},
   "outputs": [],
   "source": [
    "import datetime\n",
    "import os\n",
    "from mdagent import MDAgent"
   ]
  },
  {
   "cell_type": "code",
   "execution_count": 2,
   "metadata": {},
   "outputs": [
    {
     "name": "stdout",
     "output_type": "stream",
     "text": [
      "date and time: 2024-08-06\n",
      "time: 10:36:06\n",
      "LLM:  accounts/fireworks/models/llama-v3p1-405b-instruct \n",
      "Temperature:  0.1\n"
     ]
    }
   ],
   "source": [
    "prompt4 = \"What are common parameters to simulate fibronectin\"\n",
    "llm_var = \"llama-v3p1-405b-instruct\"\n",
    "tools = \"all\"\n",
    "agent = MDAgent(agent_type=\"Structured\", model=llm_var, top_k_tools=tools)\n",
    "now = datetime.datetime.now()\n",
    "date = now.strftime(\"%Y-%m-%d\")\n",
    "print(\"date and time:\",date)\n",
    "time = now.strftime(\"%H:%M:%S\")\n",
    "print(\"time:\",time)\n",
    "print(\"LLM: \",agent.llm.model_name,\"\\nTemperature: \",agent.llm.temperature)"
   ]
  },
  {
   "cell_type": "code",
   "execution_count": 3,
   "metadata": {},
   "outputs": [
    {
     "name": "stdout",
     "output_type": "stream",
     "text": [
      "Num of tokens: 348\n",
      "\n",
      "\n",
      "\u001b[1m> Entering new AgentExecutor chain...\u001b[0m\n",
      "Thought: To simulate fibronectin, I need to determine the common parameters used in molecular dynamics simulations. This includes the force field, water model, temperature, pressure, and simulation time.\n",
      "\n",
      "Action: LiteratureSearch\n",
      "\n",
      "Action Input: \n",
      "{\n",
      "  \"query\": \"common parameters for simulating fibronectin\"\n",
      "}\u001b[32;1m\u001b[1;3mThought: To simulate fibronectin, I need to determine the common parameters used in molecular dynamics simulations. This includes the force field, water model, temperature, pressure, and simulation time.\n",
      "\n",
      "Action: LiteratureSearch\n",
      "\n",
      "Action Input: \n",
      "{\n",
      "  \"query\": \"common parameters for simulating fibronectin\"\n",
      "}\u001b[0m\n",
      "\n",
      "\u001b[1m> Finished chain.\u001b[0m\n",
      "Here is a summary of the agent's attempts to solve the problem:\n",
      "\n",
      "**Prompt:** The agent is tasked with determining common parameters to simulate fibronectin, a protein, using molecular dynamics simulations.\n",
      "\n",
      "**Step 1:**\n",
      "**Thought:** The agent reflects on the task and decides that they need to determine the common parameters used in molecular dynamics simulations, including the force field, water model, temperature, pressure, and simulation time.\n",
      "**Action:** LiteratureSearch\n",
      "**Action Input:** The agent inputs a query into the LiteratureSearch tool to search for common parameters for simulating fibronectin.\n",
      "\n",
      "At this point, the agent has only taken one step, and the output of the LiteratureSearch tool is not provided. Therefore, there is no final solution yet. The agent's next step would depend on the output of the LiteratureSearch tool, which would guide their further actions.\n",
      "\n",
      "**No Final Answer yet.** The agent's work is ongoing, and they will need to take additional steps to determine the common parameters for simulating fibronectin.Your run id is:  OFRDP9DZ\n"
     ]
    },
    {
     "data": {
      "text/plain": [
       "({'input': '\\n    You are an expert molecular dynamics scientist and\\n    your task is to respond to the question or\\n    solve the problem to the best of your ability using\\n    the provided tools.\\n\\n    You can only respond with a single complete\\n    Thought, Action, Action Input\\' format\\n    OR a single \\'Final Answer\\' format.\\n\\n    Complete format:\\n    Thought: (reflect on your progress and decide what \" \"to do next)\\n    Action: (the action name, should be the name of a tool)\\n    Action Input: (the input string to the action)\\n\\n    OR\\n\\n    Final Answer: (the final response to the original input\\n    question, when all steps are complete)\\n\\n    You are required to use the tools provided,\\n    using the most specific tool\\n    available for each action.\\n    Your final answer should contain all information\\n    necessary to answer the question and subquestions.\\n    Before you finish, reflect on your progress and make\\n    sure you have addressed the question in its entirety.\\n\\n    If you are asked to continue\\n    or reference previous runs,\\n    the context will be provided to you.\\n    If context is provided, you should assume\\n    you are continuing a chat.\\n\\n    Here is the input:\\n    Previous Context: None\\n    Question: What are common parameters to simulate fibronectin ',\n",
       "  'output': 'Thought: To simulate fibronectin, I need to determine the common parameters used in molecular dynamics simulations. This includes the force field, water model, temperature, pressure, and simulation time.\\n\\nAction: LiteratureSearch\\n\\nAction Input: \\n{\\n  \"query\": \"common parameters for simulating fibronectin\"\\n}'},\n",
       " 'OFRDP9DZ')"
      ]
     },
     "execution_count": 3,
     "metadata": {},
     "output_type": "execute_result"
    }
   ],
   "source": [
    "agent.run(prompt4)"
   ]
  },
  {
   "cell_type": "code",
   "execution_count": 4,
   "metadata": {},
   "outputs": [
    {
     "name": "stdout",
     "output_type": "stream",
     "text": [
      "date and time: 2024-08-06\n",
      "time: 10:36:24\n"
     ]
    }
   ],
   "source": [
    "now = datetime.datetime.now()\n",
    "date = now.strftime(\"%Y-%m-%d\")\n",
    "print(\"date and time:\",date)\n",
    "time = now.strftime(\"%H:%M:%S\")\n",
    "print(\"time:\",time)"
   ]
  },
  {
   "cell_type": "code",
   "execution_count": 5,
   "metadata": {},
   "outputs": [
    {
     "name": "stdout",
     "output_type": "stream",
     "text": [
      "No names found. The JSON file is empty or does not contain name mappings.\n"
     ]
    }
   ],
   "source": [
    "registry = agent.path_registry\n",
    "paths_and_descriptions = registry.list_path_names_and_descriptions()\n",
    "print(\"\\n\".join(paths_and_descriptions.split(\",\")))"
   ]
  },
  {
   "cell_type": "markdown",
   "metadata": {},
   "source": [
    "# Experiment Result:\n",
    "### Completed without Exception or TimeOut Errors ✅\n",
    "### Attempted all necessary steps ❌\n",
    "### No Hallucination ❌\n",
    "### Logic make sense ✅\n",
    "### Correct Answer ❌"
   ]
  }
 ],
 "metadata": {
  "kernelspec": {
   "display_name": "llama-mdagent",
   "language": "python",
   "name": "python3"
  },
  "language_info": {
   "codemirror_mode": {
    "name": "ipython",
    "version": 3
   },
   "file_extension": ".py",
   "mimetype": "text/x-python",
   "name": "python",
   "nbconvert_exporter": "python",
   "pygments_lexer": "ipython3",
   "version": "3.11.8"
  }
 },
 "nbformat": 4,
 "nbformat_minor": 4
}
