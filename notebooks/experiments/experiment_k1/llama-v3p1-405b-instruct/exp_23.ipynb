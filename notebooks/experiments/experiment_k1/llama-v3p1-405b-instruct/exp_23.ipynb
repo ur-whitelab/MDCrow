{
 "cells": [
  {
   "cell_type": "code",
   "execution_count": 1,
   "metadata": {},
   "outputs": [],
   "source": [
    "import datetime\n",
    "import os\n",
    "from mdagent import MDAgent\n",
    "import matplotlib.pyplot as plt"
   ]
  },
  {
   "cell_type": "code",
   "execution_count": 2,
   "metadata": {},
   "outputs": [
    {
     "name": "stdout",
     "output_type": "stream",
     "text": [
      "date and time: 2024-08-06\n",
      "time: 10:47:39\n",
      "LLM:  accounts/fireworks/models/llama-v3p1-405b-instruct \n",
      "Temperature:  0.1\n"
     ]
    }
   ],
   "source": [
    "prompt23 = \"Perform a short simulation of protein 1PQ2\"\n",
    "llm_var = \"llama-v3p1-405b-instruct\"\n",
    "tools = \"all\"\n",
    "agent = MDAgent(agent_type=\"Structured\", model=llm_var, top_k_tools=tools)\n",
    "now = datetime.datetime.now()\n",
    "date = now.strftime(\"%Y-%m-%d\")\n",
    "print(\"date and time:\",date)\n",
    "time = now.strftime(\"%H:%M:%S\")\n",
    "print(\"time:\",time)\n",
    "print(\"LLM: \",agent.llm.model_name,\"\\nTemperature: \",agent.llm.temperature)"
   ]
  },
  {
   "cell_type": "code",
   "execution_count": 3,
   "metadata": {},
   "outputs": [
    {
     "name": "stdout",
     "output_type": "stream",
     "text": [
      "\n",
      "\n",
      "\u001b[1m> Entering new AgentExecutor chain...\u001b[0m\n",
      "Thought: To perform a short simulation of protein 1PQ2, I need to set up and run a simulation using the SetUpandRunFunction tool.\n",
      "\n",
      "Action: SetUpandRunFunction\n",
      "\n",
      "Action Input: \n",
      "{\n",
      "  \"pdb_id\": \"1PQ2\",\n",
      "  \"forcefield_files\": [\"amber99sbildn.xml\", \"tip3p.xml\"],\n",
      "  \"save\": true,\n",
      "  \"system_params\": {\n",
      "    \"nonbondedMethod\": \"NoCutoff\",\n",
      "    \"constraints\": \"None\",\n",
      "    \"rigidWater\": false\n",
      "  },\n",
      "  \"integrator_params\": {\n",
      "    \"integrator_type\": \"LangevinMiddle\",\n",
      "    \"Temperature\": \"300 * kelvin\",\n",
      "    \"Friction\": \"1.0 / picoseconds\",\n",
      "    \"Timestep\": \"0.002 * picoseconds\"\n",
      "  },\n",
      "  \"simulation_params\": {\n",
      "    \"Ensemble\": \"NVT\",\n",
      "    \"Number of Steps\": 5000,\n",
      "    \"record_interval_steps\": 100,\n",
      "    \"record_params\": [\"step\", \"potentialEnergy\", \"temperature\"]\n",
      "  }\n",
      "}\u001b[32;1m\u001b[1;3mThought: To perform a short simulation of protein 1PQ2, I need to set up and run a simulation using the SetUpandRunFunction tool.\n",
      "\n",
      "Action: SetUpandRunFunction\n",
      "\n",
      "Action Input: \n",
      "{\n",
      "  \"pdb_id\": \"1PQ2\",\n",
      "  \"forcefield_files\": [\"amber99sbildn.xml\", \"tip3p.xml\"],\n",
      "  \"save\": true,\n",
      "  \"system_params\": {\n",
      "    \"nonbondedMethod\": \"NoCutoff\",\n",
      "    \"constraints\": \"None\",\n",
      "    \"rigidWater\": false\n",
      "  },\n",
      "  \"integrator_params\": {\n",
      "    \"integrator_type\": \"LangevinMiddle\",\n",
      "    \"Temperature\": \"300 * kelvin\",\n",
      "    \"Friction\": \"1.0 / picoseconds\",\n",
      "    \"Timestep\": \"0.002 * picoseconds\"\n",
      "  },\n",
      "  \"simulation_params\": {\n",
      "    \"Ensemble\": \"NVT\",\n",
      "    \"Number of Steps\": 5000,\n",
      "    \"record_interval_steps\": 100,\n",
      "    \"record_params\": [\"step\", \"potentialEnergy\", \"temperature\"]\n",
      "  }\n",
      "}\u001b[0m\n",
      "\n",
      "\u001b[1m> Finished chain.\u001b[0m\n",
      "Here is a summary of the agent's attempts to solve the problem:\n",
      "\n",
      "**Prompt:** Perform a short simulation of protein 1PQ2.\n",
      "\n",
      "**Step 1:**\n",
      "Thought: To perform a short simulation of protein 1PQ2, I need to set up and run a simulation using the SetUpandRunFunction tool.\n",
      "Action: SetUpandRunFunction\n",
      "Action Input: \n",
      "{\n",
      "  \"pdb_id\": \"1PQ2\",\n",
      "  \"forcefield_files\": [\"amber99sbildn.xml\", \"tip3p.xml\"],\n",
      "  \"save\": true,\n",
      "  \"system_params\": {\n",
      "    \"nonbondedMethod\": \"NoCutoff\",\n",
      "    \"constraints\": \"None\",\n",
      "    \"rigidWater\": false\n",
      "  },\n",
      "  \"integrator_params\": {\n",
      "    \"integrator_type\": \"LangevinMiddle\",\n",
      "    \"Temperature\": \"300 * kelvin\",\n",
      "    \"Friction\": \"1.0 / picoseconds\",\n",
      "    \"Timestep\": \"0.002 * picoseconds\"\n",
      "  },\n",
      "  \"simulation_params\": {\n",
      "    \"Ensemble\": \"NVT\",\n",
      "    \"Number of Steps\": 5000,\n",
      "    \"record_interval_steps\": 100,\n",
      "    \"record_params\": [\"step\", \"potentialEnergy\", \"temperature\"]\n",
      "  }\n",
      "}\n",
      "\n",
      "**Final Solution:** Unfortunately, the output does not provide a final answer or solution to the problem. The agent has only taken the first step in setting up and running a simulation using the SetUpandRunFunction tool. The simulation is likely still running or has completed, but the results are not provided in the output. Therefore, the final solution is not available.Your run id is:  F1S5QQPL\n"
     ]
    },
    {
     "data": {
      "text/plain": [
       "({'input': '\\n    You are an expert molecular dynamics scientist and\\n    your task is to respond to the question or\\n    solve the problem to the best of your ability using\\n    the provided tools.\\n\\n    You can only respond with a single complete\\n    Thought, Action, Action Input\\' format\\n    OR a single \\'Final Answer\\' format.\\n\\n    Complete format:\\n    Thought: (reflect on your progress and decide what \" \"to do next)\\n    Action: (the action name, should be the name of a tool)\\n    Action Input: (the input string to the action)\\n\\n    OR\\n\\n    Final Answer: (the final response to the original input\\n    question, when all steps are complete)\\n\\n    You are required to use the tools provided,\\n    using the most specific tool\\n    available for each action.\\n    Your final answer should contain all information\\n    necessary to answer the question and subquestions.\\n    Before you finish, reflect on your progress and make\\n    sure you have addressed the question in its entirety.\\n\\n    If you are asked to continue\\n    or reference previous runs,\\n    the context will be provided to you.\\n    If context is provided, you should assume\\n    you are continuing a chat.\\n\\n    Here is the input:\\n    Previous Context: None\\n    Question: Perform a short simulation of protein 1PQ2 ',\n",
       "  'output': 'Thought: To perform a short simulation of protein 1PQ2, I need to set up and run a simulation using the SetUpandRunFunction tool.\\n\\nAction: SetUpandRunFunction\\n\\nAction Input: \\n{\\n  \"pdb_id\": \"1PQ2\",\\n  \"forcefield_files\": [\"amber99sbildn.xml\", \"tip3p.xml\"],\\n  \"save\": true,\\n  \"system_params\": {\\n    \"nonbondedMethod\": \"NoCutoff\",\\n    \"constraints\": \"None\",\\n    \"rigidWater\": false\\n  },\\n  \"integrator_params\": {\\n    \"integrator_type\": \"LangevinMiddle\",\\n    \"Temperature\": \"300 * kelvin\",\\n    \"Friction\": \"1.0 / picoseconds\",\\n    \"Timestep\": \"0.002 * picoseconds\"\\n  },\\n  \"simulation_params\": {\\n    \"Ensemble\": \"NVT\",\\n    \"Number of Steps\": 5000,\\n    \"record_interval_steps\": 100,\\n    \"record_params\": [\"step\", \"potentialEnergy\", \"temperature\"]\\n  }\\n}'},\n",
       " 'F1S5QQPL')"
      ]
     },
     "execution_count": 3,
     "metadata": {},
     "output_type": "execute_result"
    }
   ],
   "source": [
    "agent.run(prompt23)"
   ]
  },
  {
   "cell_type": "code",
   "execution_count": 4,
   "metadata": {},
   "outputs": [
    {
     "name": "stdout",
     "output_type": "stream",
     "text": [
      "date and time: 2024-08-06\n",
      "time: 10:47:52\n",
      "No names found. The JSON file is empty or does not contain name mappings.\n"
     ]
    }
   ],
   "source": [
    "now = datetime.datetime.now()\n",
    "date = now.strftime(\"%Y-%m-%d\")\n",
    "print(\"date and time:\",date)\n",
    "time = now.strftime(\"%H:%M:%S\")\n",
    "print(\"time:\",time)\n",
    "registry = agent.path_registry\n",
    "paths_and_descriptions = registry.list_path_names_and_descriptions()\n",
    "print(\"\\n\".join(paths_and_descriptions.split(\",\")))"
   ]
  },
  {
   "cell_type": "code",
   "execution_count": 5,
   "metadata": {},
   "outputs": [],
   "source": [
    "# trajectory_path = registry.get_mapped_path(\"rec0_224123\")\n",
    "# topology_path = registry.get_mapped_path(\"top_sim0_224121\")\n",
    "# assert os.path.exists(trajectory_path), \"Trajectory file not found\"\n",
    "# assert os.path.exists(topology_path), \"Topology file not found\"\n",
    "\n",
    "# import mdtraj as md\n",
    "# traj = md.load(trajectory_path, top=topology_path)\n",
    "# print(f\"Simulation with :{traj.n_atoms} for {traj.n_frames} frames. Total time: {traj.time[-1]*0.002} ps\")"
   ]
  },
  {
   "cell_type": "markdown",
   "metadata": {},
   "source": [
    "# Experiment Result:\n",
    "### Completed without Exception or TimeOut Errors ✅  \n",
    "### Attempted all necessary steps ❌ \n",
    "### No hallucination ❌ \n",
    "### Logic make sense  ✅\n",
    "### Correct Answer  ❌  \n",
    "### Number of steps completed: 0️⃣\n",
    "### % steps completed: 0️⃣%"
   ]
  }
 ],
 "metadata": {
  "kernelspec": {
   "display_name": "llama-mdagent",
   "language": "python",
   "name": "python3"
  },
  "language_info": {
   "codemirror_mode": {
    "name": "ipython",
    "version": 3
   },
   "file_extension": ".py",
   "mimetype": "text/x-python",
   "name": "python",
   "nbconvert_exporter": "python",
   "pygments_lexer": "ipython3",
   "version": "3.11.8"
  }
 },
 "nbformat": 4,
 "nbformat_minor": 4
}
