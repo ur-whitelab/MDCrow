{
 "cells": [
  {
   "cell_type": "code",
   "execution_count": 1,
   "metadata": {},
   "outputs": [],
   "source": [
    "import datetime\n",
    "import os\n",
    "from mdagent import MDAgent\n",
    "import matplotlib.pyplot as plt"
   ]
  },
  {
   "cell_type": "code",
   "execution_count": 2,
   "metadata": {},
   "outputs": [
    {
     "name": "stdout",
     "output_type": "stream",
     "text": [
      "date and time: 2024-08-06\n",
      "time: 10:47:51\n",
      "LLM:  accounts/fireworks/models/llama-v3p1-405b-instruct \n",
      "Temperature:  0.1\n"
     ]
    }
   ],
   "source": [
    "prompt24 = \"Make an rdf analysis of both oxygenated and deoxygenated hemoglobin structures\"\n",
    "llm_var = \"llama-v3p1-405b-instruct\"\n",
    "tools = \"all\"\n",
    "agent = MDAgent(agent_type=\"Structured\", model=llm_var, top_k_tools=tools)\n",
    "now = datetime.datetime.now()\n",
    "date = now.strftime(\"%Y-%m-%d\")\n",
    "print(\"date and time:\",date)\n",
    "time = now.strftime(\"%H:%M:%S\")\n",
    "print(\"time:\",time)\n",
    "print(\"LLM: \",agent.llm.model_name,\"\\nTemperature: \",agent.llm.temperature)"
   ]
  },
  {
   "cell_type": "code",
   "execution_count": 3,
   "metadata": {},
   "outputs": [
    {
     "name": "stdout",
     "output_type": "stream",
     "text": [
      "\n",
      "\n",
      "\u001b[1m> Entering new AgentExecutor chain...\u001b[0m\n",
      "Thought: To perform an RDF analysis of both oxygenated and deoxygenated hemoglobin structures, I need to first obtain the PDB files for these structures. Then, I can use the RDFTool to calculate the radial distribution function (RDF) of the structures with respect to water molecules.\n",
      "\n",
      "Action: PDBFileDownloader\n",
      "Action Input: {\"query\": \"oxygenated hemoglobin PDB\"}<|eom_id|><|start_header_id|>assistant<|end_header_id|>\n",
      "\n",
      "\u001b[32;1m\u001b[1;3mThought: To perform an RDF analysis of both oxygenated and deoxygenated hemoglobin structures, I need to first obtain the PDB files for these structures. Then, I can use the RDFTool to calculate the radial distribution function (RDF) of the structures with respect to water molecules.\n",
      "\n",
      "Action: PDBFileDownloader\n",
      "Action Input: {\"query\": \"oxygenated hemoglobin PDB\"}<|eom_id|><|start_header_id|>assistant<|end_header_id|>\n",
      "\n",
      "\u001b[0m\n",
      "\n",
      "\u001b[1m> Finished chain.\u001b[0m\n",
      "Here is a summary of the agent's attempts to solve the problem:\n",
      "\n",
      "**Prompt:** Make an RDF analysis of both oxygenated and deoxygenated hemoglobin structures.\n",
      "\n",
      "**Step 1:**\n",
      "Thought: To perform an RDF analysis of both oxygenated and deoxygenated hemoglobin structures, the agent needs to first obtain the PDB files for these structures. Then, they can use the RDFTool to calculate the radial distribution function (RDF) of the structures with respect to water molecules.\n",
      "Action: PDBFileDownloader\n",
      "Action Input: {\"query\": \"oxygenated hemoglobin PDB\"}\n",
      "\n",
      "**Current Status:** The agent has decided to download the PDB file for oxygenated hemoglobin using the PDBFileDownloader tool. The next step would be to download the PDB file for deoxygenated hemoglobin and then use the RDFTool to perform the RDF analysis.\n",
      "\n",
      "**Final Solution:** Not yet reached. The agent needs to complete the remaining steps to provide a final answer.Your run id is:  YL3JP5C4\n"
     ]
    },
    {
     "data": {
      "text/plain": [
       "({'input': '\\n    You are an expert molecular dynamics scientist and\\n    your task is to respond to the question or\\n    solve the problem to the best of your ability using\\n    the provided tools.\\n\\n    You can only respond with a single complete\\n    Thought, Action, Action Input\\' format\\n    OR a single \\'Final Answer\\' format.\\n\\n    Complete format:\\n    Thought: (reflect on your progress and decide what \" \"to do next)\\n    Action: (the action name, should be the name of a tool)\\n    Action Input: (the input string to the action)\\n\\n    OR\\n\\n    Final Answer: (the final response to the original input\\n    question, when all steps are complete)\\n\\n    You are required to use the tools provided,\\n    using the most specific tool\\n    available for each action.\\n    Your final answer should contain all information\\n    necessary to answer the question and subquestions.\\n    Before you finish, reflect on your progress and make\\n    sure you have addressed the question in its entirety.\\n\\n    If you are asked to continue\\n    or reference previous runs,\\n    the context will be provided to you.\\n    If context is provided, you should assume\\n    you are continuing a chat.\\n\\n    Here is the input:\\n    Previous Context: None\\n    Question: Make an rdf analysis of both oxygenated and deoxygenated hemoglobin structures ',\n",
       "  'output': 'Thought: To perform an RDF analysis of both oxygenated and deoxygenated hemoglobin structures, I need to first obtain the PDB files for these structures. Then, I can use the RDFTool to calculate the radial distribution function (RDF) of the structures with respect to water molecules.\\n\\nAction: PDBFileDownloader\\nAction Input: {\"query\": \"oxygenated hemoglobin PDB\"}<|eom_id|><|start_header_id|>assistant<|end_header_id|>\\n\\n'},\n",
       " 'YL3JP5C4')"
      ]
     },
     "execution_count": 3,
     "metadata": {},
     "output_type": "execute_result"
    }
   ],
   "source": [
    "agent.run(prompt24)"
   ]
  },
  {
   "cell_type": "code",
   "execution_count": 4,
   "metadata": {},
   "outputs": [
    {
     "name": "stdout",
     "output_type": "stream",
     "text": [
      "date and time: 2024-08-06\n",
      "time: 10:48:00\n",
      "No names found. The JSON file is empty or does not contain name mappings.\n"
     ]
    }
   ],
   "source": [
    "now = datetime.datetime.now()\n",
    "date = now.strftime(\"%Y-%m-%d\")\n",
    "print(\"date and time:\",date)\n",
    "time = now.strftime(\"%H:%M:%S\")\n",
    "print(\"time:\",time)\n",
    "registry = agent.path_registry\n",
    "paths_and_descriptions = registry.list_path_names_and_descriptions()\n",
    "print(\"\\n\".join(paths_and_descriptions.split(\",\")))"
   ]
  },
  {
   "cell_type": "code",
   "execution_count": 5,
   "metadata": {},
   "outputs": [],
   "source": [
    "# path_oxygenated = registry.get_mapped_path(\"fig0_231854\")\n",
    "# path_deoxygenated = registry.get_mapped_path(\"fig0_231857\")\n",
    "# assert os.path.exists(path_oxygenated), 'Path not found'\n",
    "# assert os.path.exists(path_deoxygenated), 'Path not found'\n",
    "# assert path_oxygenated != path_deoxygenated, 'Paths are the same'"
   ]
  },
  {
   "cell_type": "code",
   "execution_count": 6,
   "metadata": {},
   "outputs": [],
   "source": [
    "# from IPython.display import Image\n",
    "# Image(filename='/Users/jorgemedina/Desktop/md-agent/ckpt/ckpt_108/figures/rdf_1HBI_231848.png')"
   ]
  },
  {
   "cell_type": "code",
   "execution_count": 7,
   "metadata": {},
   "outputs": [],
   "source": [
    "# Image(filename='/Users/jorgemedina/Desktop/md-agent/ckpt/ckpt_108/figures/rdf_3LHB_231850.png')"
   ]
  },
  {
   "cell_type": "markdown",
   "metadata": {},
   "source": [
    "# Experiment Result:\n",
    "### Completed without Exception or TimeOut Errors ✅\n",
    "### Attempted all necessary steps ❌\n",
    "### No Hallucination ❌\n",
    "### Logic make sense ❌\n",
    "### Correct Answer  ❌\n",
    "### Number of steps completed: 0️⃣\n",
    "### % steps completed: 0️⃣%"
   ]
  }
 ],
 "metadata": {
  "kernelspec": {
   "display_name": "llama-mdagent",
   "language": "python",
   "name": "python3"
  },
  "language_info": {
   "codemirror_mode": {
    "name": "ipython",
    "version": 3
   },
   "file_extension": ".py",
   "mimetype": "text/x-python",
   "name": "python",
   "nbconvert_exporter": "python",
   "pygments_lexer": "ipython3",
   "version": "3.11.8"
  }
 },
 "nbformat": 4,
 "nbformat_minor": 4
}
