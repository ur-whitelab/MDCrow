{
 "cells": [
  {
   "cell_type": "code",
   "execution_count": 1,
   "metadata": {},
   "outputs": [],
   "source": [
    "import datetime\n",
    "import os\n",
    "from mdagent import MDAgent"
   ]
  },
  {
   "cell_type": "code",
   "execution_count": 2,
   "metadata": {},
   "outputs": [
    {
     "name": "stdout",
     "output_type": "stream",
     "text": [
      "date and time: 2024-08-06\n",
      "time: 10:36:10\n",
      "LLM:  accounts/fireworks/models/llama-v3p1-405b-instruct \n",
      "Temperature:  0.1\n"
     ]
    }
   ],
   "source": [
    "prompt5 = \"Simulate 1A3N and 7VDE, two PDB IDs for hemoglobin with the same parameters. Find the appropriate parameters from literature. Then, plot the radius of gyration throughout the both simulations.\"\n",
    "llm_var = \"llama-v3p1-405b-instruct\"\n",
    "tools = \"all\"\n",
    "agent = MDAgent(agent_type=\"Structured\", model=llm_var, top_k_tools=tools)\n",
    "now = datetime.datetime.now()\n",
    "date = now.strftime(\"%Y-%m-%d\")\n",
    "print(\"date and time:\",date)\n",
    "time = now.strftime(\"%H:%M:%S\")\n",
    "print(\"time:\",time)\n",
    "print(\"LLM: \",agent.llm.model_name,\"\\nTemperature: \",agent.llm.temperature)"
   ]
  },
  {
   "cell_type": "code",
   "execution_count": 3,
   "metadata": {},
   "outputs": [
    {
     "name": "stdout",
     "output_type": "stream",
     "text": [
      "Num of tokens: 381\n",
      "\n",
      "\n",
      "\u001b[1m> Entering new AgentExecutor chain...\u001b[0m\n",
      "Thought: First, I need to find the appropriate parameters for simulating hemoglobin from literature. Then, I can use these parameters to simulate the two PDB IDs, 1A3N and 7VDE. After the simulations, I will calculate and plot the radius of gyration for both simulations.\n",
      "\n",
      "Action: LiteratureSearch\n",
      "Action Input: \n",
      "{\n",
      "  \"query\": \"hemoglobin simulation parameters\"\n",
      "}<|eom_id|><|start_header_id|>assistant<|end_header_id|>\n",
      "\n",
      "\u001b[32;1m\u001b[1;3mThought: First, I need to find the appropriate parameters for simulating hemoglobin from literature. Then, I can use these parameters to simulate the two PDB IDs, 1A3N and 7VDE. After the simulations, I will calculate and plot the radius of gyration for both simulations.\n",
      "\n",
      "Action: LiteratureSearch\n",
      "Action Input: \n",
      "{\n",
      "  \"query\": \"hemoglobin simulation parameters\"\n",
      "}<|eom_id|><|start_header_id|>assistant<|end_header_id|>\n",
      "\n",
      "\u001b[0m\n",
      "\n",
      "\u001b[1m> Finished chain.\u001b[0m\n",
      "Here is a summary of the agent's attempts to solve the problem:\n",
      "\n",
      "**Prompt:** Simulate 1A3N and 7VDE, two PDB IDs for hemoglobin with the same parameters. Find the appropriate parameters from literature. Then, plot the radius of gyration throughout both simulations.\n",
      "\n",
      "**Step 1:**\n",
      "Thought: First, I need to find the appropriate parameters for simulating hemoglobin from literature. Then, I can use these parameters to simulate the two PDB IDs, 1A3N and 7VDE. After the simulations, I will calculate and plot the radius of gyration for both simulations.\n",
      "Action: LiteratureSearch\n",
      "Action Input: {\"query\": \"hemoglobin simulation parameters\"}\n",
      "\n",
      "**Current Status:** The agent has decided to search the literature for the appropriate parameters for simulating hemoglobin. The agent has not yet performed the simulations or calculated/plotted the radius of gyration.\n",
      "\n",
      "**Final Solution:** Not yet reached. The agent's next step will depend on the results of the literature search.Your run id is:  TOEB05PH\n"
     ]
    },
    {
     "data": {
      "text/plain": [
       "({'input': '\\n    You are an expert molecular dynamics scientist and\\n    your task is to respond to the question or\\n    solve the problem to the best of your ability using\\n    the provided tools.\\n\\n    You can only respond with a single complete\\n    Thought, Action, Action Input\\' format\\n    OR a single \\'Final Answer\\' format.\\n\\n    Complete format:\\n    Thought: (reflect on your progress and decide what \" \"to do next)\\n    Action: (the action name, should be the name of a tool)\\n    Action Input: (the input string to the action)\\n\\n    OR\\n\\n    Final Answer: (the final response to the original input\\n    question, when all steps are complete)\\n\\n    You are required to use the tools provided,\\n    using the most specific tool\\n    available for each action.\\n    Your final answer should contain all information\\n    necessary to answer the question and subquestions.\\n    Before you finish, reflect on your progress and make\\n    sure you have addressed the question in its entirety.\\n\\n    If you are asked to continue\\n    or reference previous runs,\\n    the context will be provided to you.\\n    If context is provided, you should assume\\n    you are continuing a chat.\\n\\n    Here is the input:\\n    Previous Context: None\\n    Question: Simulate 1A3N and 7VDE, two PDB IDs for hemoglobin with the same parameters. Find the appropriate parameters from literature. Then, plot the radius of gyration throughout the both simulations. ',\n",
       "  'output': 'Thought: First, I need to find the appropriate parameters for simulating hemoglobin from literature. Then, I can use these parameters to simulate the two PDB IDs, 1A3N and 7VDE. After the simulations, I will calculate and plot the radius of gyration for both simulations.\\n\\nAction: LiteratureSearch\\nAction Input: \\n{\\n  \"query\": \"hemoglobin simulation parameters\"\\n}<|eom_id|><|start_header_id|>assistant<|end_header_id|>\\n\\n'},\n",
       " 'TOEB05PH')"
      ]
     },
     "execution_count": 3,
     "metadata": {},
     "output_type": "execute_result"
    }
   ],
   "source": [
    "agent.run(prompt5)"
   ]
  },
  {
   "cell_type": "code",
   "execution_count": 4,
   "metadata": {},
   "outputs": [
    {
     "name": "stdout",
     "output_type": "stream",
     "text": [
      "No names found. The JSON file is empty or does not contain name mappings.\n"
     ]
    }
   ],
   "source": [
    "registry = agent.path_registry\n",
    "print(registry.list_path_names_and_descriptions())"
   ]
  },
  {
   "cell_type": "code",
   "execution_count": 5,
   "metadata": {},
   "outputs": [
    {
     "name": "stdout",
     "output_type": "stream",
     "text": [
      "date and time: 2024-08-06\n",
      "time: 10:36:23\n"
     ]
    }
   ],
   "source": [
    "now = datetime.datetime.now()\n",
    "date = now.strftime(\"%Y-%m-%d\")\n",
    "print(\"date and time:\",date)\n",
    "time = now.strftime(\"%H:%M:%S\")\n",
    "print(\"time:\",time)"
   ]
  },
  {
   "cell_type": "code",
   "execution_count": 6,
   "metadata": {},
   "outputs": [
    {
     "name": "stdout",
     "output_type": "stream",
     "text": [
      "No names found. The JSON file is empty or does not contain name mappings.\n"
     ]
    }
   ],
   "source": [
    "paths_and_descriptions = registry.list_path_names_and_descriptions()\n",
    "print(\"\\n\".join(paths_and_descriptions.split(\",\")))"
   ]
  },
  {
   "cell_type": "code",
   "execution_count": 7,
   "metadata": {},
   "outputs": [],
   "source": [
    "# SKIPPED below --- agent fails to call tools"
   ]
  },
  {
   "cell_type": "code",
   "execution_count": 8,
   "metadata": {},
   "outputs": [],
   "source": [
    "# from IPython.display import Image\n",
    "# path_1 = registry.get_mapped_path(\"fig0_175712\")\n",
    "# path_2 = registry.get_mapped_path(\"fig0_175847\")"
   ]
  },
  {
   "cell_type": "code",
   "execution_count": 9,
   "metadata": {},
   "outputs": [],
   "source": [
    "# Image(path_1)"
   ]
  },
  {
   "cell_type": "code",
   "execution_count": 10,
   "metadata": {},
   "outputs": [],
   "source": [
    "# Image(path_2)"
   ]
  },
  {
   "cell_type": "markdown",
   "metadata": {},
   "source": [
    "# Experiment Result:\n",
    "### Completed without Exception or TimeOut Errors ✅\n",
    "### Attempted all necessary steps ❌\n",
    "### No hallucination ❌\n",
    "### Logic make sense ✅\n",
    "### Correct Answer  ❌"
   ]
  }
 ],
 "metadata": {
  "kernelspec": {
   "display_name": "llama-mdagent",
   "language": "python",
   "name": "python3"
  },
  "language_info": {
   "codemirror_mode": {
    "name": "ipython",
    "version": 3
   },
   "file_extension": ".py",
   "mimetype": "text/x-python",
   "name": "python",
   "nbconvert_exporter": "python",
   "pygments_lexer": "ipython3",
   "version": "3.11.8"
  }
 },
 "nbformat": 4,
 "nbformat_minor": 4
}
