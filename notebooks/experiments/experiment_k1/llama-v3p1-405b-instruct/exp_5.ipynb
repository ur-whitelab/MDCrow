{
 "cells": [
  {
   "cell_type": "code",
   "execution_count": 1,
   "metadata": {},
   "outputs": [],
   "source": [
    "import datetime\n",
    "import os\n",
    "from mdagent import MDAgent"
   ]
  },
  {
   "cell_type": "code",
   "execution_count": 2,
   "metadata": {},
   "outputs": [
    {
     "name": "stdout",
     "output_type": "stream",
     "text": [
      "date and time: 2024-08-06\n",
      "time: 10:36:07\n",
      "LLM:  accounts/fireworks/models/llama-v3p1-405b-instruct \n",
      "Temperature:  0.1\n"
     ]
    }
   ],
   "source": [
    "prompt4 = \"Simulate 1XQ8 for 1ns at temperate 300K. Then tell me if the secondary structure changed from before the simulation to after.\"\n",
    "llm_var = \"llama-v3p1-405b-instruct\"\n",
    "tools = \"all\"\n",
    "agent = MDAgent(agent_type=\"Structured\", model=llm_var, top_k_tools=tools)\n",
    "now = datetime.datetime.now()\n",
    "date = now.strftime(\"%Y-%m-%d\")\n",
    "print(\"date and time:\",date)\n",
    "time = now.strftime(\"%H:%M:%S\")\n",
    "print(\"time:\",time)\n",
    "print(\"LLM: \",agent.llm.model_name,\"\\nTemperature: \",agent.llm.temperature)"
   ]
  },
  {
   "cell_type": "code",
   "execution_count": 3,
   "metadata": {},
   "outputs": [
    {
     "name": "stdout",
     "output_type": "stream",
     "text": [
      "Num of tokens: 368\n",
      "\n",
      "\n",
      "\u001b[1m> Entering new AgentExecutor chain...\u001b[0m\n",
      "Thought: First, I need to set up and run a simulation of the protein 1XQ8 for 1ns at a temperature of 300K. Then, I will compare the secondary structure of the protein before and after the simulation to see if it has changed.\n",
      "\n",
      "Action: SetUpandRunFunction\n",
      "\n",
      "Action Input: \n",
      "{\n",
      "  \"pdb_id\": \"1XQ8\",\n",
      "  \"forcefield_files\": [\"amber99sbildn.xml\"],\n",
      "  \"save\": true,\n",
      "  \"system_params\": {\n",
      "    \"nonbondedMethod\": \"NoCutoff\",\n",
      "    \"constraints\": \"None\",\n",
      "    \"rigidWater\": false\n",
      "  },\n",
      "  \"integrator_params\": {\n",
      "    \"integrator_type\": \"LangevinMiddle\",\n",
      "    \"Temperature\": \"300 * kelvin\",\n",
      "    \"Friction\": \"1.0 / picoseconds\",\n",
      "    \"Timestep\": \"0.002 * picoseconds\"\n",
      "  },\n",
      "  \"simulation_params\": {\n",
      "    \"Ensemble\": \"NVT\",\n",
      "    \"Number of Steps\": 500000,\n",
      "    \"record_interval_steps\": 1000,\n",
      "    \"record_params\": [\"step\", \"potentialEnergy\", \"temperature\"]\n",
      "  }\n",
      "}<|eom_id|><|start_header_id|>assistant<|end_header_id|>\n",
      "\n",
      "\u001b[32;1m\u001b[1;3mThought: First, I need to set up and run a simulation of the protein 1XQ8 for 1ns at a temperature of 300K. Then, I will compare the secondary structure of the protein before and after the simulation to see if it has changed.\n",
      "\n",
      "Action: SetUpandRunFunction\n",
      "\n",
      "Action Input: \n",
      "{\n",
      "  \"pdb_id\": \"1XQ8\",\n",
      "  \"forcefield_files\": [\"amber99sbildn.xml\"],\n",
      "  \"save\": true,\n",
      "  \"system_params\": {\n",
      "    \"nonbondedMethod\": \"NoCutoff\",\n",
      "    \"constraints\": \"None\",\n",
      "    \"rigidWater\": false\n",
      "  },\n",
      "  \"integrator_params\": {\n",
      "    \"integrator_type\": \"LangevinMiddle\",\n",
      "    \"Temperature\": \"300 * kelvin\",\n",
      "    \"Friction\": \"1.0 / picoseconds\",\n",
      "    \"Timestep\": \"0.002 * picoseconds\"\n",
      "  },\n",
      "  \"simulation_params\": {\n",
      "    \"Ensemble\": \"NVT\",\n",
      "    \"Number of Steps\": 500000,\n",
      "    \"record_interval_steps\": 1000,\n",
      "    \"record_params\": [\"step\", \"potentialEnergy\", \"temperature\"]\n",
      "  }\n",
      "}<|eom_id|><|start_header_id|>assistant<|end_header_id|>\n",
      "\n",
      "\u001b[0m\n",
      "\n",
      "\u001b[1m> Finished chain.\u001b[0m\n",
      "Here is a summary of the agent's attempts to solve the problem:\n",
      "\n",
      "**Prompt:** Simulate 1XQ8 for 1ns at temperature 300K. Then tell me if the secondary structure changed from before the simulation to after.\n",
      "\n",
      "**Step 1:**\n",
      "Thought: First, I need to set up and run a simulation of the protein 1XQ8 for 1ns at a temperature of 300K. Then, I will compare the secondary structure of the protein before and after the simulation to see if it has changed.\n",
      "Action: SetUpandRunFunction\n",
      "Action Input: \n",
      "{\n",
      "  \"pdb_id\": \"1XQ8\",\n",
      "  \"forcefield_files\": [\"amber99sbildn.xml\"],\n",
      "  \"save\": true,\n",
      "  \"system_params\": {\n",
      "    \"nonbondedMethod\": \"NoCutoff\",\n",
      "    \"constraints\": \"None\",\n",
      "    \"rigidWater\": false\n",
      "  },\n",
      "  \"integrator_params\": {\n",
      "    \"integrator_type\": \"LangevinMiddle\",\n",
      "    \"Temperature\": \"300 * kelvin\",\n",
      "    \"Friction\": \"1.0 / picoseconds\",\n",
      "    \"Timestep\": \"0.002 * picoseconds\"\n",
      "  },\n",
      "  \"simulation_params\": {\n",
      "    \"Ensemble\": \"NVT\",\n",
      "    \"Number of Steps\": 500000,\n",
      "    \"record_interval_steps\": 1000,\n",
      "    \"record_params\": [\"step\", \"potentialEnergy\", \"temperature\"]\n",
      "  }\n",
      "}\n",
      "\n",
      "**No further steps were taken, and no final answer was provided.**\n",
      "\n",
      "It appears that the agent set up and ran a simulation of the protein 1XQ8 for 1ns at 300K, but did not complete the task of comparing the secondary structure before and after the simulation. The final answer is still pending.Your run id is:  XQWBI5T1\n"
     ]
    },
    {
     "data": {
      "text/plain": [
       "({'input': '\\n    You are an expert molecular dynamics scientist and\\n    your task is to respond to the question or\\n    solve the problem to the best of your ability using\\n    the provided tools.\\n\\n    You can only respond with a single complete\\n    Thought, Action, Action Input\\' format\\n    OR a single \\'Final Answer\\' format.\\n\\n    Complete format:\\n    Thought: (reflect on your progress and decide what \" \"to do next)\\n    Action: (the action name, should be the name of a tool)\\n    Action Input: (the input string to the action)\\n\\n    OR\\n\\n    Final Answer: (the final response to the original input\\n    question, when all steps are complete)\\n\\n    You are required to use the tools provided,\\n    using the most specific tool\\n    available for each action.\\n    Your final answer should contain all information\\n    necessary to answer the question and subquestions.\\n    Before you finish, reflect on your progress and make\\n    sure you have addressed the question in its entirety.\\n\\n    If you are asked to continue\\n    or reference previous runs,\\n    the context will be provided to you.\\n    If context is provided, you should assume\\n    you are continuing a chat.\\n\\n    Here is the input:\\n    Previous Context: None\\n    Question: Simulate 1XQ8 for 1ns at temperate 300K. Then tell me if the secondary structure changed from before the simulation to after. ',\n",
       "  'output': 'Thought: First, I need to set up and run a simulation of the protein 1XQ8 for 1ns at a temperature of 300K. Then, I will compare the secondary structure of the protein before and after the simulation to see if it has changed.\\n\\nAction: SetUpandRunFunction\\n\\nAction Input: \\n{\\n  \"pdb_id\": \"1XQ8\",\\n  \"forcefield_files\": [\"amber99sbildn.xml\"],\\n  \"save\": true,\\n  \"system_params\": {\\n    \"nonbondedMethod\": \"NoCutoff\",\\n    \"constraints\": \"None\",\\n    \"rigidWater\": false\\n  },\\n  \"integrator_params\": {\\n    \"integrator_type\": \"LangevinMiddle\",\\n    \"Temperature\": \"300 * kelvin\",\\n    \"Friction\": \"1.0 / picoseconds\",\\n    \"Timestep\": \"0.002 * picoseconds\"\\n  },\\n  \"simulation_params\": {\\n    \"Ensemble\": \"NVT\",\\n    \"Number of Steps\": 500000,\\n    \"record_interval_steps\": 1000,\\n    \"record_params\": [\"step\", \"potentialEnergy\", \"temperature\"]\\n  }\\n}<|eom_id|><|start_header_id|>assistant<|end_header_id|>\\n\\n'},\n",
       " 'XQWBI5T1')"
      ]
     },
     "execution_count": 3,
     "metadata": {},
     "output_type": "execute_result"
    }
   ],
   "source": [
    "agent.run(prompt4)"
   ]
  },
  {
   "cell_type": "code",
   "execution_count": 4,
   "metadata": {},
   "outputs": [
    {
     "name": "stdout",
     "output_type": "stream",
     "text": [
      "No names found. The JSON file is empty or does not contain name mappings.\n"
     ]
    }
   ],
   "source": [
    "registry = agent.path_registry\n",
    "print(registry.list_path_names_and_descriptions())"
   ]
  },
  {
   "cell_type": "code",
   "execution_count": 5,
   "metadata": {},
   "outputs": [
    {
     "name": "stdout",
     "output_type": "stream",
     "text": [
      "date and time: 2024-08-06\n",
      "time: 10:36:31\n"
     ]
    }
   ],
   "source": [
    "now = datetime.datetime.now()\n",
    "date = now.strftime(\"%Y-%m-%d\")\n",
    "print(\"date and time:\",date)\n",
    "time = now.strftime(\"%H:%M:%S\")\n",
    "print(\"time:\",time)"
   ]
  },
  {
   "cell_type": "code",
   "execution_count": 6,
   "metadata": {},
   "outputs": [
    {
     "name": "stdout",
     "output_type": "stream",
     "text": [
      "No names found. The JSON file is empty or does not contain name mappings.\n"
     ]
    }
   ],
   "source": [
    "registry = agent.path_registry\n",
    "paths_and_descriptions = registry.list_path_names_and_descriptions()\n",
    "print(\"\\n\".join(paths_and_descriptions.split(\",\")))"
   ]
  },
  {
   "cell_type": "code",
   "execution_count": 7,
   "metadata": {},
   "outputs": [],
   "source": [
    "# import mdtraj as md\n",
    "# import numpy as np\n",
    "\n",
    "# traj_path = registry.get_mapped_path(\"rec2_164856\")\n",
    "# top_path = registry.get_mapped_path(\"top_sim0_164856\")\n",
    "# traj = md.load(traj_path, top=top_path)\n",
    "\n",
    "# # Compute the secondary structure of the trajectory\n",
    "# dssp_final = md.compute_dssp(traj[-1], simplified=True)\n",
    "# dssp_initial = md.compute_dssp(traj[0], simplified=True)\n",
    "\n",
    "# print(\"Number of initial sheets: \",len([i for i in dssp_initial[0] if i == 'E']))\n",
    "# print(\"Number of initial helices: \",len([i for i in dssp_initial[0] if i == 'H']))\n",
    "# print(\"Number of initial coils: \",len([i for i in dssp_initial[0] if i == 'C']))\n",
    "\n",
    "# print(\"Number of final sheets: \",len([i for i in dssp_final[0] if i == 'E']))\n",
    "# print(\"Number of final helices: \",len([i for i in dssp_final[0] if i == 'H']))\n",
    "# print(\"Number of final coils: \",len([i for i in dssp_final[0] if i == 'C']))\n",
    "\n"
   ]
  },
  {
   "cell_type": "markdown",
   "metadata": {},
   "source": [
    "# Experiment Result:\n",
    "### Completed without Exception or TimeOut Errors ✅\n",
    "### Attempted all necessary steps ❌\n",
    "### No Hallucination ❌\n",
    "### Logic make sense ✅\n",
    "### Correct Answer  ❌"
   ]
  }
 ],
 "metadata": {
  "kernelspec": {
   "display_name": "llama-mdagent",
   "language": "python",
   "name": "python3"
  },
  "language_info": {
   "codemirror_mode": {
    "name": "ipython",
    "version": 3
   },
   "file_extension": ".py",
   "mimetype": "text/x-python",
   "name": "python",
   "nbconvert_exporter": "python",
   "pygments_lexer": "ipython3",
   "version": "3.11.8"
  }
 },
 "nbformat": 4,
 "nbformat_minor": 4
}
