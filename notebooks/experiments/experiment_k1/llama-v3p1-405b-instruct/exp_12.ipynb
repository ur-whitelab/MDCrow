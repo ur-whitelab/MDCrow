{
 "cells": [
  {
   "cell_type": "code",
   "execution_count": 1,
   "id": "8ff706fd-c267-4d05-af58-9a3848cce8ff",
   "metadata": {},
   "outputs": [],
   "source": [
    "from mdagent import MDAgent"
   ]
  },
  {
   "cell_type": "code",
   "execution_count": 2,
   "id": "c86c88a1-f5f8-473a-8342-7364252bcfba",
   "metadata": {},
   "outputs": [
    {
     "name": "stdout",
     "output_type": "stream",
     "text": [
      "date: 2024-08-06\n",
      "time: 10:45:45\n"
     ]
    }
   ],
   "source": [
    "#todays date and time\n",
    "import datetime\n",
    "\n",
    "start = datetime.datetime.now()\n",
    "date = start.strftime(\"%Y-%m-%d\")\n",
    "print(\"date:\",date)\n",
    "time = start.strftime(\"%H:%M:%S\")\n",
    "print(\"time:\",time)"
   ]
  },
  {
   "cell_type": "code",
   "execution_count": 3,
   "id": "f62bfc17-854b-4152-bb82-7e9e0ec4b854",
   "metadata": {},
   "outputs": [
    {
     "name": "stdout",
     "output_type": "stream",
     "text": [
      "LLM:  accounts/fireworks/models/llama-v3p1-405b-instruct \n",
      "Temperature:  0.1\n"
     ]
    }
   ],
   "source": [
    "model=\"llama-v3p1-405b-instruct\"\n",
    "mda = MDAgent(\n",
    "    agent_type='Structured', \n",
    "    model=model, \n",
    "    tools_model=model,\n",
    "    use_memory=False, \n",
    "    top_k_tools=\"all\"\n",
    ")\n",
    "print(\"LLM: \", mda.llm.model_name,\"\\nTemperature: \", mda.llm.temperature)"
   ]
  },
  {
   "cell_type": "code",
   "execution_count": 4,
   "id": "ad2f6f66-e6b8-4244-b908-68fbebbf6e8b",
   "metadata": {},
   "outputs": [
    {
     "name": "stdout",
     "output_type": "stream",
     "text": [
      "\n",
      "\n",
      "\u001b[1m> Entering new AgentExecutor chain...\u001b[0m\n",
      "Thought: First, I need to download the PDB files for 8PFK and 8PFQ. Then, I can compare their secondary structures.\n",
      "\n",
      "Action: PDBFileDownloader\n",
      "Action Input: {\"query\": \"8PFK.pdb\"}\n",
      "\n",
      "Action: PDBFileDownloader\n",
      "Action Input: {\"query\": \"8PFQ.pdb\"}\n",
      "\n",
      "Action: SummarizeProteinStructure\n",
      "Action Input: {\"traj_file\": \"8PFK.pdb\", \"top_file\": \"8PFK.pdb\"}\n",
      "\n",
      "Action: SummarizeProteinStructure\n",
      "Action Input: {\"traj_file\": \"8PFQ.pdb\", \"top_file\": \"8PFQ.pdb\"}\n",
      "\n",
      "Action: ComputeDSSP\n",
      "Action Input: {\"traj_file\": \"8PFK.pdb\", \"top_file\": \"8PFK.pdb\"}\n",
      "\n",
      "Action: ComputeDSSP\n",
      "Action Input: {\"traj_file\": \"8PFQ.pdb\", \"top_file\": \"8PFQ.pdb\"}<|eom_id|><|start_header_id|>assistant<|end_header_id|>\n",
      "\n",
      "\u001b[32;1m\u001b[1;3mThought: First, I need to download the PDB files for 8PFK and 8PFQ. Then, I can compare their secondary structures.\n",
      "\n",
      "Action: PDBFileDownloader\n",
      "Action Input: {\"query\": \"8PFK.pdb\"}\n",
      "\n",
      "Action: PDBFileDownloader\n",
      "Action Input: {\"query\": \"8PFQ.pdb\"}\n",
      "\n",
      "Action: SummarizeProteinStructure\n",
      "Action Input: {\"traj_file\": \"8PFK.pdb\", \"top_file\": \"8PFK.pdb\"}\n",
      "\n",
      "Action: SummarizeProteinStructure\n",
      "Action Input: {\"traj_file\": \"8PFQ.pdb\", \"top_file\": \"8PFQ.pdb\"}\n",
      "\n",
      "Action: ComputeDSSP\n",
      "Action Input: {\"traj_file\": \"8PFK.pdb\", \"top_file\": \"8PFK.pdb\"}\n",
      "\n",
      "Action: ComputeDSSP\n",
      "Action Input: {\"traj_file\": \"8PFQ.pdb\", \"top_file\": \"8PFQ.pdb\"}<|eom_id|><|start_header_id|>assistant<|end_header_id|>\n",
      "\n",
      "\u001b[0m\n",
      "\n",
      "\u001b[1m> Finished chain.\u001b[0m\n"
     ]
    }
   ],
   "source": [
    "prompt = '''Download the PDB files for 8PFK and 8PFQ. Then, compare the secondary structure of the two proteins, \n",
    "including number atoms, secondary structure, number of chains, etc..'''\n",
    "answer = mda.run(prompt)"
   ]
  },
  {
   "cell_type": "code",
   "execution_count": 5,
   "id": "d23fbcab-9ceb-46d5-ad3b-d6cf6687d1e4",
   "metadata": {},
   "outputs": [
    {
     "name": "stdout",
     "output_type": "stream",
     "text": [
      "duration: 0.12 minutes\n"
     ]
    }
   ],
   "source": [
    "end = datetime.datetime.now()\n",
    "elapsed = end - start\n",
    "print(f\"duration: {elapsed.total_seconds()/60:.2f} minutes\")"
   ]
  },
  {
   "cell_type": "markdown",
   "id": "da5ba7ae-a3e7-4eec-b869-a884948231c4",
   "metadata": {},
   "source": [
    "# Confirm the downloaded files and their structures"
   ]
  },
  {
   "cell_type": "code",
   "execution_count": 6,
   "id": "5d1f0c85-88d6-4d2a-aae1-6a2d763f280d",
   "metadata": {},
   "outputs": [
    {
     "name": "stdout",
     "output_type": "stream",
     "text": [
      "No names found. The JSON file is empty or does not contain name mappings.\n"
     ]
    }
   ],
   "source": [
    "registry = mda.path_registry\n",
    "all_names = registry.list_path_names()\n",
    "print(all_names)"
   ]
  },
  {
   "cell_type": "code",
   "execution_count": 7,
   "id": "6684abd0-efd9-4add-bf1b-abfe1f664dbe",
   "metadata": {},
   "outputs": [],
   "source": [
    "# import re\n",
    "# import os\n",
    "# pattern1 = re.compile(r\"8PFK_\\d+\")\n",
    "# pattern2 = re.compile(r\"8PFQ_\\d+\")\n",
    "# match1 = pattern1.search(all_names)\n",
    "# match2 = pattern2.search(all_names)\n",
    "# assert match1\n",
    "# assert match2\n",
    "# print('It is asserted that 8PFK and 8PFQ are in path_registry')\n",
    "# path1 = registry.get_mapped_path(match1.group(0))\n",
    "# path2 = registry.get_mapped_path(match2.group(0))\n",
    "# assert os.path.exists(path1)\n",
    "# assert os.path.exists(path2)\n",
    "# print('It is asserted these pdb files physically exist')"
   ]
  },
  {
   "cell_type": "code",
   "execution_count": 8,
   "id": "aeedf6a8-8773-4402-81c9-81dea40844d6",
   "metadata": {},
   "outputs": [],
   "source": [
    "# import mdtraj as md\n",
    "# traj = md.load(path1)\n",
    "# top = traj.topology\n",
    "# number_of_chains = top.n_chains\n",
    "# number_of_atoms = top.n_atoms\n",
    "# print('protein 8PFK')\n",
    "# print('Number of chains: ', number_of_chains)\n",
    "# print('Number of atoms: ', number_of_atoms)\n",
    "# traj = md.load(path2)\n",
    "# top = traj.topology\n",
    "# number_of_chains = top.n_chains\n",
    "# number_of_atoms = top.n_atoms\n",
    "# print('\\nprotein 8PFQ')\n",
    "# print('Number of chains: ', number_of_chains)\n",
    "# print('Number of atoms: ', number_of_atoms)"
   ]
  },
  {
   "cell_type": "markdown",
   "id": "a8bcb320-b57c-4f53-8d77-f6bc500b55a5",
   "metadata": {},
   "source": [
    "# Experiment Result:\n",
    "\n",
    "1. Completed without Exception or TimeOut Errors ✅\n",
    "2. Attempted all necessary steps ❌\n",
    "3. No hallucination ❌\n",
    "4. Logic make sense ❌\n",
    "5. Correct Answer ❌\n",
    "6. Number of steps completed: 0️⃣\n",
    "7. % steps completed: 0️⃣%"
   ]
  }
 ],
 "metadata": {
  "kernelspec": {
   "display_name": "llama-mdagent",
   "language": "python",
   "name": "python3"
  },
  "language_info": {
   "codemirror_mode": {
    "name": "ipython",
    "version": 3
   },
   "file_extension": ".py",
   "mimetype": "text/x-python",
   "name": "python",
   "nbconvert_exporter": "python",
   "pygments_lexer": "ipython3",
   "version": "3.11.8"
  }
 },
 "nbformat": 4,
 "nbformat_minor": 5
}
