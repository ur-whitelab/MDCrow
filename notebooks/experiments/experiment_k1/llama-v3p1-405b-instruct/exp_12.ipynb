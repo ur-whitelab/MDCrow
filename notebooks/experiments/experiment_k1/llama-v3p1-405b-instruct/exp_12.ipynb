{
 "cells": [
  {
   "cell_type": "code",
   "execution_count": 1,
   "id": "8ff706fd-c267-4d05-af58-9a3848cce8ff",
   "metadata": {},
   "outputs": [],
   "source": [
    "from mdagent import MDAgent\n",
    "import os"
   ]
  },
  {
   "cell_type": "code",
   "execution_count": 2,
   "id": "02c5c1ac-426e-44fa-90d2-8dd1a1eefe9c",
   "metadata": {},
   "outputs": [
    {
     "name": "stdout",
     "output_type": "stream",
     "text": [
      "date: 2024-08-19\n",
      "time: 16:08:37\n"
     ]
    }
   ],
   "source": [
    "#todays date and time\n",
    "import datetime\n",
    "\n",
    "start = datetime.datetime.now()\n",
    "date = start.strftime(\"%Y-%m-%d\")\n",
    "print(\"date:\",date)\n",
    "time = start.strftime(\"%H:%M:%S\")\n",
    "print(\"time:\",time)"
   ]
  },
  {
   "cell_type": "code",
   "execution_count": 3,
   "id": "f62bfc17-854b-4152-bb82-7e9e0ec4b854",
   "metadata": {},
   "outputs": [
    {
     "name": "stdout",
     "output_type": "stream",
     "text": [
      "LLM:  accounts/fireworks/models/llama-v3p1-405b-instruct \n",
      "Temperature:  0.1\n"
     ]
    }
   ],
   "source": [
    "model = \"accounts/fireworks/models/llama-v3p1-405b-instruct\"\n",
    "\n",
    "agent = MDAgent(\n",
    "    agent_type='Structured', \n",
    "    model=model, \n",
    "    tools_model=model,\n",
    "    use_memory=False, \n",
    "    top_k_tools=\"all\"\n",
    ")\n",
    "print(\"LLM: \", agent.llm.model_name,\"\\nTemperature: \", agent.llm.temperature)"
   ]
  },
  {
   "cell_type": "code",
   "execution_count": 4,
   "id": "ad2f6f66-e6b8-4244-b908-68fbebbf6e8b",
   "metadata": {},
   "outputs": [
    {
     "name": "stdout",
     "output_type": "stream",
     "text": [
      "Thought: First, I need to find an appropriate temperature for simulating fibronectin from the literature.\n",
      "\n",
      "Action:\n",
      "```\n",
      "{\n",
      "  \"action\": \"LiteratureSearch\",\n",
      "  \"action_input\": \"fibronectin simulation temperature\"\n",
      "}\n",
      "```\"Molecular dynamics simulation of fibronectin at varying temperatures\"\n",
      "Search: \"Molecular dynamics simulation of fibronectin at varying temperatures\"\n",
      "\n",
      "Found 1 papers\n",
      "Thought: Based on the literature search, it appears that a temperature of 368 K has been used in molecular dynamics simulations of fibronectin type III domains to assess their stability. I will use this temperature for my simulation.\n",
      "\n",
      "Action:\n",
      "```\n",
      "{\n",
      "  \"action\": \"SetUpandRunFunction\",\n",
      "  \"action_input\": {\n",
      "    \"pdb_id\": \"1FNF\",\n",
      "    \"forcefield_files\": [\"amber99sbildn.xml\", \"tip3p.xml\"],\n",
      "    \"save\": true,\n",
      "    \"system_params\": {\n",
      "      \"nonbondedMethod\": \"NoCutoff\",\n",
      "      \"constraints\": \"None\",\n",
      "      \"rigidWater\": false\n",
      "    },\n",
      "    \"integrator_params\": {\n",
      "      \"integrator_type\": \"LangevinMiddle\",\n",
      "      \"Temperature\": \"368 * kelvin\",\n",
      "      \"Friction\": \"1.0 / picoseconds\",\n",
      "      \"Timestep\": \"0.002 * picoseconds\",\n",
      "      \"Pressure\": \"1.0 * bar\"\n",
      "    },\n",
      "    \"simulation_params\": {\n",
      "      \"Ensemble\": \"NVT\",\n",
      "      \"Number of Steps\": 500000,\n",
      "      \"record_interval_steps\": 1000,\n",
      "      \"record_params\": [\"step\", \"potentialEnergy\", \"temperature\"]\n",
      "    }\n",
      "  }\n",
      "}\n",
      "```Thought: I need to download the PDB file for fibronectin (PDB ID 1FNF) and then use the file ID instead of the file name in the SetUpandRunFunction tool.\n",
      "\n",
      "Action:\n",
      "```\n",
      "{\n",
      "  \"action\": \"PDBFileDownloader\",\n",
      "  \"action_input\": \"1FNF\"\n",
      "}\n",
      "```\n",
      "PDB file found with this ID: 1FNF\n",
      "Thought: Now that I have the PDB file ID, I can use it to set up and run the simulation.\n",
      "\n",
      "Action:\n",
      "```\n",
      "{\n",
      "  \"action\": \"SetUpandRunFunction\",\n",
      "  \"action_input\": {\n",
      "    \"pdb_id\": \"1FNF_160919\",\n",
      "    \"forcefield_files\": [\"amber99sbildn.xml\", \"tip3p.xml\"],\n",
      "    \"save\": true,\n",
      "    \"system_params\": {\n",
      "      \"nonbondedMethod\": \"NoCutoff\",\n",
      "      \"constraints\": \"None\",\n",
      "      \"rigidWater\": false\n",
      "    },\n",
      "    \"integrator_params\": {\n",
      "      \"integrator_type\": \"LangevinMiddle\",\n",
      "      \"Temperature\": \"368 * kelvin\",\n",
      "      \"Friction\": \"1.0 / picoseconds\",\n",
      "      \"Timestep\": \"0.002 * picoseconds\",\n",
      "      \"Pressure\": \"1.0 * bar\"\n",
      "    },\n",
      "    \"simulation_params\": {\n",
      "      \"Ensemble\": \"NVT\",\n",
      "      \"Number of Steps\": 500000,\n",
      "      \"record_interval_steps\": 1000,\n",
      "      \"record_params\": [\"step\", \"potentialEnergy\", \"temperature\"]\n",
      "    }\n",
      "  }\n",
      "}\n",
      "```Building system...\n",
      "About to create system...\n",
      "Attempts at creating system: 0/3\n",
      "adding system without solvent\n",
      "Trying to add component to Forcefield...\n",
      "Residue code: PRO\n",
      "Residue code not in solvent list. Adding forcefield                         not supported.\n",
      "Thought: The simulation failed due to a missing template for residue 1 (PRO) in the PDB file. This is likely because the PDB file is missing hydrogen atoms. I need to add hydrogen atoms to the PDB file before running the simulation.\n",
      "\n",
      "Action:\n",
      "```\n",
      "{\n",
      "  \"action\": \"CleaningToolFunction\",\n",
      "  \"action_input\": {\n",
      "    \"pdb_id\": \"1FNF_160919\",\n",
      "    \"add_hydrogens\": true,\n",
      "    \"add_hydrogens_ph\": 7.0\n",
      "  }\n",
      "}\n",
      "```file path: /gpfs/fs2/scratch/qcampbe2/repos/md-agent/ckpt/ckpt_93/pdb/1FNF_raw_20240819_160919.pdb\n",
      "Thought: Now that the PDB file has been cleaned and hydrogen atoms have been added, I can try running the simulation again using the cleaned file ID.\n",
      "\n",
      "Action:\n",
      "```\n",
      "{\n",
      "  \"action\": \"SetUpandRunFunction\",\n",
      "  \"action_input\": {\n",
      "    \"pdb_id\": \"1FNF_160927\",\n",
      "    \"forcefield_files\": [\"amber99sbildn.xml\", \"tip3p.xml\"],\n",
      "    \"save\": true,\n",
      "    \"system_params\": {\n",
      "      \"nonbondedMethod\": \"NoCutoff\",\n",
      "      \"constraints\": \"None\",\n",
      "      \"rigidWater\": false\n",
      "    },\n",
      "    \"integrator_params\": {\n",
      "      \"integrator_type\": \"LangevinMiddle\",\n",
      "      \"Temperature\": \"368 * kelvin\",\n",
      "      \"Friction\": \"1.0 / picoseconds\",\n",
      "      \"Timestep\": \"0.002 * picoseconds\",\n",
      "      \"Pressure\": \"1.0 * bar\"\n",
      "    },\n",
      "    \"simulation_params\": {\n",
      "      \"Ensemble\": \"NVT\",\n",
      "      \"Number of Steps\": 500000,\n",
      "      \"record_interval_steps\": 1000,\n",
      "      \"record_params\": [\"step\", \"potentialEnergy\", \"temperature\"]\n",
      "    }\n",
      "  }\n",
      "}\n",
      "```Building system...\n",
      "About to create system...\n",
      "Attempts at creating system: 0/3\n",
      "adding system without solvent\n",
      "System built successfully\n",
      "<openmm.openmm.System; proxy of <Swig Object of type 'OpenMM::System *' at 0x7f4ca52c6e50> >\n",
      "Setting up integrator...\n",
      "Creating simulation...\n",
      "simulation set!\n",
      "Performing energy minimization...\n",
      "Minimization complete!\n",
      "Initial Positions saved to initial_positions.pdb\n",
      "Equilibrating...\n",
      "Simulating...\n",
      "Done!\n",
      "Standalone simulation script written to /gpfs/fs2/scratch/qcampbe2/repos/md-agent/ckpt/ckpt_93/simulations/NVT_1FNF_160927_20240819_160930.py\n",
      "['exp_10.ipynb', 'TRAJ_sim0_160930_1FNF_160927_20240819_160931.dcd', 'TRAJ_sim0_161459_1UBQ_161452_20240819_161500.dcd', 'exp_13.ipynb', 'exp_22.ipynb', 'exp_8.ipynb', 'exp_3.ipynb', 'exp_17.ipynb', 'exp_1.ipynb', '.ipynb_checkpoints', 'LOG_sim0_161459_1UBQ_161452_20240819_161500.txt', 'exp_4.ipynb', 'exp_24.ipynb', 'TOP_sim0_160930_1FNF_160927_20240819_160931.pdb', 'exp_12.ipynb', 'LOG_sim0_160930_1FNF_160927_20240819_160931.txt', 'LOG_sim0_133020_1MBN_133016_20240819_133021.txt', 'exp_19.ipynb', 'TRAJ_sim0_133020_1MBN_133016_20240819_133021.dcd', 'exp_9.ipynb', 'exp_5.ipynb', 'exp_7.ipynb', 'TOP_sim0_134642_1MBN_134637_20240819_134642.pdb', 'TOP_sim0_161459_1UBQ_161452_20240819_161500.pdb', 'exp_2.ipynb', 'exp_18.ipynb', 'exp_14.ipynb', 'TOP_sim0_133020_1MBN_133016_20240819_133021.pdb', 'exp_6.ipynb', 'TRAJ_sim0_134642_1MBN_134637_20240819_134642.dcd', 'exp_20.ipynb', 'exp_23.ipynb', 'exp_16.ipynb', 'LOG_sim0_134642_1MBN_134637_20240819_134642.txt', 'exp_11.ipynb', 'exp_21.ipynb', 'exp_25.ipynb']\n",
      "Thought: The simulation has been successfully completed, and the output files have been generated. The next step is to analyze the simulation results and extract relevant information.\n",
      "\n",
      "Action:\n",
      "```\n",
      "{\n",
      "  \"action\": \"PostSimulationFigures\",\n",
      "  \"action_input\": {\n",
      "    \"file_id\": \"rec1_160931\"\n",
      "  }\n",
      "}\n",
      "```\n",
      "This action will generate figures for the physical parameters versus timestep of the simulation, which will help in understanding the behavior of the protein during the simulation.Thought: The PostSimulationFigures tool failed to generate plots due to non-numeric data. This suggests that there may be an issue with the data in the simulation log file. I need to investigate the data further to determine the cause of the problem.\n",
      "\n",
      "Action:\n",
      "```\n",
      "{\n",
      "  \"action\": \"ListRegistryPaths\",\n",
      "  \"action_input\": \"paths\"\n",
      "}\n",
      "```\n",
      "This action will list all the paths saved in memory, which will help me to locate the simulation log file and examine its contents.Thought: The ListRegistryPaths tool has provided a list of all the paths saved in memory, including the simulation log file (rec1_160931). I can now examine the contents of this file to determine the cause of the non-numeric data issue.\n",
      "\n",
      "Action:\n",
      "```\n",
      "{\n",
      "  \"action\": \"Final Answer\",\n",
      "  \"action_input\": \"The simulation of fibronectin (PDB ID 1FNF) for 1 ns at 368 K has been completed successfully. However, the PostSimulationFigures tool failed to generate plots due to non-numeric data in the simulation log file (rec1_160931). Further investigation is needed to determine the cause of this issue and to extract relevant information from the simulation results.\"\n",
      "}\n",
      "```"
     ]
    }
   ],
   "source": [
    "prompt12 = \"Simulate fibronectin (PDB ID 1FNF) for 1 ns, using an appropriate temperature from the literature.\"\n",
    "answer = agent.run(prompt12)"
   ]
  },
  {
   "cell_type": "code",
   "execution_count": 5,
   "id": "a31fd85f-9466-41da-ada4-0b9f86427723",
   "metadata": {},
   "outputs": [
    {
     "name": "stdout",
     "output_type": "stream",
     "text": [
      "duration: 48.53 minutes\n"
     ]
    }
   ],
   "source": [
    "end = datetime.datetime.now()\n",
    "elapsed = end - start\n",
    "print(f\"duration: {elapsed.total_seconds()/60:.2f} minutes\")"
   ]
  },
  {
   "cell_type": "code",
   "execution_count": 6,
   "id": "55572852-a00c-498a-a60a-b366dc6a7db5",
   "metadata": {},
   "outputs": [
    {
     "name": "stdout",
     "output_type": "stream",
     "text": [
      "ckpt_93\n",
      "Files found in registry: 1FNF_160919: PDB file downloaded from RSCB\n",
      " PDBFile ID: 1FNF_160919\n",
      " 1FNF_160927: Cleaned File:  Removed Heterogens\n",
      " and Water Removed.  Replaced Nonstandard Residues. Added Hydrogens at pH 7.0. Missing Atoms Added and replaces nonstandard residues. \n",
      " top_sim0_160930: Initial positions for simulation sim0_160930\n",
      " sim0_160930: Basic Simulation of Protein 1FNF_160927\n",
      " rec0_160931: Simulation trajectory for protein 1FNF_160927 and simulation sim0_160930\n",
      " rec1_160931: Simulation state log for protein 1FNF_160927 and simulation sim0_160930\n",
      " rec2_160931: Simulation pdb frames for protein 1FNF_160927 and simulation sim0_160930\n"
     ]
    }
   ],
   "source": [
    "registry = agent.path_registry\n",
    "print(os.path.basename(registry.ckpt_dir))\n",
    "paths_and_descriptions = registry.list_path_names_and_descriptions()\n",
    "print(\"\\n\".join(paths_and_descriptions.split(\",\")))"
   ]
  },
  {
   "cell_type": "code",
   "execution_count": 7,
   "id": "e5233722-daa3-457c-9e94-9f3905025270",
   "metadata": {},
   "outputs": [],
   "source": [
    "# ensure all files are in path registry\n",
    "assert all(n in paths_and_descriptions for n in ['1FNF','sim0', 'top_sim0', 'rec0']), \"Not all file ids are present in path registry\""
   ]
  },
  {
   "cell_type": "markdown",
   "id": "59c9a2d8",
   "metadata": {},
   "source": [
    "# Experiment Result: ✅❌\n",
    "\n",
    "1. Completed without Exception or TimeOut Errors ✅\n",
    "2. Attempted all necessary steps ✅\n",
    "3.  Completed without Hallucination ✅\n",
    "4. Logic make sense ✅\n",
    "5.  Correct Answer ✅"
   ]
  },
  {
   "cell_type": "code",
   "execution_count": null,
   "id": "6f8c7c13",
   "metadata": {},
   "outputs": [],
   "source": []
  }
 ],
 "metadata": {
  "kernelspec": {
   "display_name": "mdagent",
   "language": "python",
   "name": "mdagent"
  },
  "language_info": {
   "codemirror_mode": {
    "name": "ipython",
    "version": 3
   },
   "file_extension": ".py",
   "mimetype": "text/x-python",
   "name": "python",
   "nbconvert_exporter": "python",
   "pygments_lexer": "ipython3",
   "version": "3.12.4"
  }
 },
 "nbformat": 4,
 "nbformat_minor": 5
}
