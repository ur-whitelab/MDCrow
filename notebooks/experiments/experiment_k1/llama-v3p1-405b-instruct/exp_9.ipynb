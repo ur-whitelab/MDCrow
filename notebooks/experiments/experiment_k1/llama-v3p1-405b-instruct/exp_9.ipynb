{
 "cells": [
  {
   "cell_type": "code",
   "execution_count": 1,
   "metadata": {},
   "outputs": [],
   "source": [
    "import datetime\n",
    "import os\n",
    "from mdagent import MDAgent"
   ]
  },
  {
   "cell_type": "code",
   "execution_count": 2,
   "metadata": {},
   "outputs": [
    {
     "name": "stdout",
     "output_type": "stream",
     "text": [
      "date and time: 2024-08-06\n",
      "time: 10:45:06\n",
      "LLM:  accounts/fireworks/models/llama-v3p1-405b-instruct \n",
      "Temperature:  0.1\n"
     ]
    }
   ],
   "source": [
    "prompt9 = \"What are the known interractions of protein 1BDG?.\"\n",
    "llm_var = \"llama-v3p1-405b-instruct\"\n",
    "tools = \"all\"\n",
    "agent = MDAgent(agent_type=\"Structured\", model=llm_var, top_k_tools=tools)\n",
    "now = datetime.datetime.now()\n",
    "date = now.strftime(\"%Y-%m-%d\")\n",
    "print(\"date and time:\",date)\n",
    "time = now.strftime(\"%H:%M:%S\")\n",
    "print(\"time:\",time)\n",
    "print(\"LLM: \",agent.llm.model_name,\"\\nTemperature: \",agent.llm.temperature)"
   ]
  },
  {
   "cell_type": "code",
   "execution_count": 3,
   "metadata": {},
   "outputs": [
    {
     "name": "stdout",
     "output_type": "stream",
     "text": [
      "\n",
      "\n",
      "\u001b[1m> Entering new AgentExecutor chain...\u001b[0m\n",
      "Thought: To find the known interactions of protein 1BDG, I need to use the GetInteractions tool.\n",
      "Action: GetInteractions\n",
      "Action Input: {\"query\": \"1BDG\", \"primary_accession\": \"\"}<|eom_id|><|start_header_id|>assistant<|end_header_id|>\n",
      "\n",
      "<|python_tag|>{\"action\": \"GetInteractions\", \"action_input\": {\"query\": \"1BDG\", \"primary_accession\": \"\"}}<|eom_id|><|start_header_id|>assistant<|end_header_id|>\n",
      "\n",
      "\u001b[32;1m\u001b[1;3mThought: To find the known interactions of protein 1BDG, I need to use the GetInteractions tool.\n",
      "Action: GetInteractions\n",
      "Action Input: {\"query\": \"1BDG\", \"primary_accession\": \"\"}<|eom_id|><|start_header_id|>assistant<|end_header_id|>\n",
      "\n",
      "<|python_tag|>{\"action\": \"GetInteractions\", \"action_input\": {\"query\": \"1BDG\", \"primary_accession\": \"\"}}<|eom_id|><|start_header_id|>assistant<|end_header_id|>\n",
      "\n",
      "\u001b[0m\n",
      "\n",
      "\u001b[1m> Finished chain.\u001b[0m\n",
      "Here is a summary of the agent's attempts to solve the problem:\n",
      "\n",
      "**Prompt:** The agent is asked to find the known interactions of protein 1BDG.\n",
      "\n",
      "**Step 1:**\n",
      "Thought: The agent decides to use the GetInteractions tool to find the known interactions of protein 1BDG.\n",
      "Action: GetInteractions\n",
      "Action Input: {\"query\": \"1BDG\", \"primary_accession\": \"\"}\n",
      "\n",
      "**Final Solution:** Unfortunately, the output does not provide a final answer. However, based on the agent's thought process and action, the next step would be to execute the GetInteractions tool with the provided input and retrieve the results.\n",
      "\n",
      "Please note that the conversation is incomplete, and further steps are required to obtain a final answer.Your run id is:  O7QMWJ6Q\n"
     ]
    },
    {
     "data": {
      "text/plain": [
       "({'input': '\\n    You are an expert molecular dynamics scientist and\\n    your task is to respond to the question or\\n    solve the problem to the best of your ability using\\n    the provided tools.\\n\\n    You can only respond with a single complete\\n    Thought, Action, Action Input\\' format\\n    OR a single \\'Final Answer\\' format.\\n\\n    Complete format:\\n    Thought: (reflect on your progress and decide what \" \"to do next)\\n    Action: (the action name, should be the name of a tool)\\n    Action Input: (the input string to the action)\\n\\n    OR\\n\\n    Final Answer: (the final response to the original input\\n    question, when all steps are complete)\\n\\n    You are required to use the tools provided,\\n    using the most specific tool\\n    available for each action.\\n    Your final answer should contain all information\\n    necessary to answer the question and subquestions.\\n    Before you finish, reflect on your progress and make\\n    sure you have addressed the question in its entirety.\\n\\n    If you are asked to continue\\n    or reference previous runs,\\n    the context will be provided to you.\\n    If context is provided, you should assume\\n    you are continuing a chat.\\n\\n    Here is the input:\\n    Previous Context: None\\n    Question: What are the known interractions of protein 1BDG?. ',\n",
       "  'output': 'Thought: To find the known interactions of protein 1BDG, I need to use the GetInteractions tool.\\nAction: GetInteractions\\nAction Input: {\"query\": \"1BDG\", \"primary_accession\": \"\"}<|eom_id|><|start_header_id|>assistant<|end_header_id|>\\n\\n<|python_tag|>{\"action\": \"GetInteractions\", \"action_input\": {\"query\": \"1BDG\", \"primary_accession\": \"\"}}<|eom_id|><|start_header_id|>assistant<|end_header_id|>\\n\\n'},\n",
       " 'O7QMWJ6Q')"
      ]
     },
     "execution_count": 3,
     "metadata": {},
     "output_type": "execute_result"
    }
   ],
   "source": [
    "agent.run(prompt9)"
   ]
  },
  {
   "cell_type": "code",
   "execution_count": 4,
   "metadata": {},
   "outputs": [
    {
     "name": "stdout",
     "output_type": "stream",
     "text": [
      "date and time: 2024-08-06\n",
      "time: 10:45:13\n",
      "No names found. The JSON file is empty or does not contain name mappings.\n"
     ]
    }
   ],
   "source": [
    "now = datetime.datetime.now()\n",
    "date = now.strftime(\"%Y-%m-%d\")\n",
    "print(\"date and time:\",date)\n",
    "time = now.strftime(\"%H:%M:%S\")\n",
    "print(\"time:\",time)\n",
    "registry = agent.path_registry\n",
    "paths_and_descriptions = registry.list_path_names_and_descriptions()\n",
    "print(\"\\n\".join(paths_and_descriptions.split(\",\")))"
   ]
  },
  {
   "cell_type": "code",
   "execution_count": 5,
   "metadata": {},
   "outputs": [],
   "source": [
    "# Experiment Result:\n",
    "### Completed without Exception or TimeOut Errors ✅\n",
    "### Attempted all necessary steps ❌\n",
    "### No Hallucination ❌\n",
    "### Logic make sense ❌\n",
    "### Correct Answer  ❌"
   ]
  }
 ],
 "metadata": {
  "kernelspec": {
   "display_name": "llama-mdagent",
   "language": "python",
   "name": "python3"
  },
  "language_info": {
   "codemirror_mode": {
    "name": "ipython",
    "version": 3
   },
   "file_extension": ".py",
   "mimetype": "text/x-python",
   "name": "python",
   "nbconvert_exporter": "python",
   "pygments_lexer": "ipython3",
   "version": "3.11.8"
  }
 },
 "nbformat": 4,
 "nbformat_minor": 4
}
