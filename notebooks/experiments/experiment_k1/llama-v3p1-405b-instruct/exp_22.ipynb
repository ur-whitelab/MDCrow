{
 "cells": [
  {
   "cell_type": "code",
   "execution_count": 1,
   "metadata": {},
   "outputs": [],
   "source": [
    "import datetime\n",
    "import os\n",
    "from mdagent import MDAgent\n",
    "import matplotlib.pyplot as plt"
   ]
  },
  {
   "cell_type": "code",
   "execution_count": 2,
   "metadata": {},
   "outputs": [
    {
     "name": "stdout",
     "output_type": "stream",
     "text": [
      "date and time: 2024-08-06\n",
      "time: 10:47:29\n",
      "LLM:  accounts/fireworks/models/llama-v3p1-405b-instruct \n",
      "Temperature:  0.1\n"
     ]
    }
   ],
   "source": [
    "prompt22 = \"Download and clean protein 1A3N\"\n",
    "llm_var = \"llama-v3p1-405b-instruct\"\n",
    "tools = \"all\"\n",
    "agent = MDAgent(agent_type=\"Structured\", model=llm_var, top_k_tools=tools)\n",
    "now = datetime.datetime.now()\n",
    "date = now.strftime(\"%Y-%m-%d\")\n",
    "print(\"date and time:\",date)\n",
    "time = now.strftime(\"%H:%M:%S\")\n",
    "print(\"time:\",time)\n",
    "print(\"LLM: \",agent.llm.model_name,\"\\nTemperature: \",agent.llm.temperature)"
   ]
  },
  {
   "cell_type": "code",
   "execution_count": 3,
   "metadata": {},
   "outputs": [
    {
     "name": "stdout",
     "output_type": "stream",
     "text": [
      "\n",
      "\n",
      "\u001b[1m> Entering new AgentExecutor chain...\u001b[0m\n",
      "Thought: First, I need to download the protein 1A3N from the Protein Data Bank (PDB) using the PDBFileDownloader tool. Then, I will clean the protein using the CleaningToolFunction.\n",
      "\n",
      "Action: PDBFileDownloader\n",
      "Action Input: {\"query\": \"1A3N\"}\n",
      "\n",
      "\u001b[32;1m\u001b[1;3mThought: First, I need to download the protein 1A3N from the Protein Data Bank (PDB) using the PDBFileDownloader tool. Then, I will clean the protein using the CleaningToolFunction.\n",
      "\n",
      "Action: PDBFileDownloader\n",
      "Action Input: {\"query\": \"1A3N\"}\n",
      "\n",
      "\u001b[0m\n",
      "\n",
      "\u001b[1m> Finished chain.\u001b[0m\n",
      "Here is a summary of the agent's attempts to solve the problem:\n",
      "\n",
      "**Prompt:** Download and clean protein 1A3N.\n",
      "\n",
      "**Step 1:**\n",
      "Thought: The agent decides to download the protein 1A3N from the Protein Data Bank (PDB) using the PDBFileDownloader tool.\n",
      "Action: PDBFileDownloader\n",
      "Action Input: {\"query\": \"1A3N\"}\n",
      "\n",
      "**No further steps have been taken yet.**\n",
      "\n",
      "**Current Status:** The agent has initiated the process of downloading the protein 1A3N from the PDB, but the outcome of this action and any subsequent steps are not yet available.\n",
      "\n",
      "**No final solution has been reached yet.**Your run id is:  W4GD3QZH\n"
     ]
    },
    {
     "data": {
      "text/plain": [
       "({'input': '\\n    You are an expert molecular dynamics scientist and\\n    your task is to respond to the question or\\n    solve the problem to the best of your ability using\\n    the provided tools.\\n\\n    You can only respond with a single complete\\n    Thought, Action, Action Input\\' format\\n    OR a single \\'Final Answer\\' format.\\n\\n    Complete format:\\n    Thought: (reflect on your progress and decide what \" \"to do next)\\n    Action: (the action name, should be the name of a tool)\\n    Action Input: (the input string to the action)\\n\\n    OR\\n\\n    Final Answer: (the final response to the original input\\n    question, when all steps are complete)\\n\\n    You are required to use the tools provided,\\n    using the most specific tool\\n    available for each action.\\n    Your final answer should contain all information\\n    necessary to answer the question and subquestions.\\n    Before you finish, reflect on your progress and make\\n    sure you have addressed the question in its entirety.\\n\\n    If you are asked to continue\\n    or reference previous runs,\\n    the context will be provided to you.\\n    If context is provided, you should assume\\n    you are continuing a chat.\\n\\n    Here is the input:\\n    Previous Context: None\\n    Question: Download and clean protein 1A3N ',\n",
       "  'output': 'Thought: First, I need to download the protein 1A3N from the Protein Data Bank (PDB) using the PDBFileDownloader tool. Then, I will clean the protein using the CleaningToolFunction.\\n\\nAction: PDBFileDownloader\\nAction Input: {\"query\": \"1A3N\"}\\n\\n'},\n",
       " 'W4GD3QZH')"
      ]
     },
     "execution_count": 3,
     "metadata": {},
     "output_type": "execute_result"
    }
   ],
   "source": [
    "agent.run(prompt22)"
   ]
  },
  {
   "cell_type": "code",
   "execution_count": 4,
   "metadata": {},
   "outputs": [
    {
     "name": "stdout",
     "output_type": "stream",
     "text": [
      "date and time: 2024-08-06\n",
      "time: 10:47:37\n",
      "No names found. The JSON file is empty or does not contain name mappings.\n"
     ]
    }
   ],
   "source": [
    "now = datetime.datetime.now()\n",
    "date = now.strftime(\"%Y-%m-%d\")\n",
    "print(\"date and time:\",date)\n",
    "time = now.strftime(\"%H:%M:%S\")\n",
    "print(\"time:\",time)\n",
    "registry = agent.path_registry\n",
    "paths_and_descriptions = registry.list_path_names_and_descriptions()\n",
    "print(\"\\n\".join(paths_and_descriptions.split(\",\")))"
   ]
  },
  {
   "cell_type": "code",
   "execution_count": 5,
   "metadata": {},
   "outputs": [
    {
     "ename": "AssertionError",
     "evalue": "",
     "output_type": "error",
     "traceback": [
      "\u001b[0;31m---------------------------------------------------------------------------\u001b[0m",
      "\u001b[0;31mAssertionError\u001b[0m                            Traceback (most recent call last)",
      "Cell \u001b[0;32mIn[5], line 3\u001b[0m\n\u001b[1;32m      1\u001b[0m path_before \u001b[38;5;241m=\u001b[39m registry\u001b[38;5;241m.\u001b[39mget_mapped_path(\u001b[38;5;124m\"\u001b[39m\u001b[38;5;124m1A3N_214800\u001b[39m\u001b[38;5;124m\"\u001b[39m)\n\u001b[1;32m      2\u001b[0m path_after \u001b[38;5;241m=\u001b[39m registry\u001b[38;5;241m.\u001b[39mget_mapped_path(\u001b[38;5;124m\"\u001b[39m\u001b[38;5;124m1A3N_214817\u001b[39m\u001b[38;5;124m\"\u001b[39m)\n\u001b[0;32m----> 3\u001b[0m \u001b[38;5;28;01massert\u001b[39;00m os\u001b[38;5;241m.\u001b[39mpath\u001b[38;5;241m.\u001b[39mexists(path_before)\n\u001b[1;32m      4\u001b[0m \u001b[38;5;28;01massert\u001b[39;00m os\u001b[38;5;241m.\u001b[39mpath\u001b[38;5;241m.\u001b[39mexists(path_after)\n\u001b[1;32m      5\u001b[0m \u001b[38;5;28;01massert\u001b[39;00m path_before \u001b[38;5;241m!=\u001b[39m path_after\n",
      "\u001b[0;31mAssertionError\u001b[0m: "
     ]
    }
   ],
   "source": [
    "path_before = registry.get_mapped_path(\"1A3N_214800\")\n",
    "path_after = registry.get_mapped_path(\"1A3N_214817\")\n",
    "assert os.path.exists(path_before)\n",
    "assert os.path.exists(path_after)\n",
    "assert path_before != path_after"
   ]
  },
  {
   "cell_type": "code",
   "execution_count": null,
   "metadata": {},
   "outputs": [],
   "source": [
    "# import mdtraj as md\n",
    "# raw_file = md.load(path_before)\n",
    "# clean_file = md.load(path_after)"
   ]
  },
  {
   "cell_type": "code",
   "execution_count": null,
   "metadata": {},
   "outputs": [],
   "source": [
    "# #residues before\n",
    "# residues_before = set([str(res)[:3] for res in raw_file.top.residues])\n",
    "# residues_after = set([str(res)[:3] for res in clean_file.top.residues])\n",
    "# print(\"Residues before:\",residues_before)\n",
    "# print(\"Residues after:\",residues_after)\n",
    "# print(\"Residues removed:\",residues_before - residues_after)"
   ]
  },
  {
   "cell_type": "markdown",
   "metadata": {},
   "source": [
    "# Experiment Result:\n",
    "### Completed without Exception or TimeOut Errors ✅\n",
    "### Attempted all necessary steps ❌\n",
    "### No hallucination ❌\n",
    "### Logic make sense ✅\n",
    "### Correct Answer  ❌\n",
    "### Number of steps completed: 0️⃣\n",
    "### % steps completed: 0️⃣%"
   ]
  }
 ],
 "metadata": {
  "kernelspec": {
   "display_name": "llama-mdagent",
   "language": "python",
   "name": "python3"
  },
  "language_info": {
   "codemirror_mode": {
    "name": "ipython",
    "version": 3
   },
   "file_extension": ".py",
   "mimetype": "text/x-python",
   "name": "python",
   "nbconvert_exporter": "python",
   "pygments_lexer": "ipython3",
   "version": "3.11.8"
  }
 },
 "nbformat": 4,
 "nbformat_minor": 4
}
