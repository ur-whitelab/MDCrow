{
 "cells": [
  {
   "cell_type": "code",
   "execution_count": 1,
   "metadata": {},
   "outputs": [],
   "source": [
    "import datetime\n",
    "import os\n",
    "from mdagent import MDAgent\n",
    "import matplotlib.pyplot as plt"
   ]
  },
  {
   "cell_type": "code",
   "execution_count": 2,
   "metadata": {},
   "outputs": [
    {
     "name": "stdout",
     "output_type": "stream",
     "text": [
      "date and time: 2024-07-11\n",
      "time: 22:22:29\n",
      "LLM:  gpt-4-1106-preview \n",
      "Temperature:  0.1\n"
     ]
    }
   ],
   "source": [
    "prompt24 = \"Analyze the rdf of the simulation of 1A3N solvated in water\"\n",
    "llm_var = \"gpt-4-1106-preview\"\n",
    "tools = \"all\"\n",
    "agent = MDAgent(agent_type=\"Structured\", model=llm_var, top_k_tools=tools)\n",
    "now = datetime.datetime.now()\n",
    "date = now.strftime(\"%Y-%m-%d\")\n",
    "print(\"date and time:\",date)\n",
    "time = now.strftime(\"%H:%M:%S\")\n",
    "print(\"time:\",time)\n",
    "print(\"LLM: \",agent.llm.model_name,\"\\nTemperature: \",agent.llm.temperature)"
   ]
  },
  {
   "cell_type": "code",
   "execution_count": 3,
   "metadata": {},
   "outputs": [
    {
     "name": "stdout",
     "output_type": "stream",
     "text": [
      "Thought: To analyze the radial distribution function (RDF) of the simulation of the protein 1A3N solvated in water, I need to obtain the trajectory file ID and the topology file ID for the protein. Once I have these, I can use the RDFTool to calculate the RDF. First, I will use the ListRegistryPaths tool to find the available paths for the trajectory and topology files related to 1A3N.\n",
      "\n",
      "Action:\n",
      "```\n",
      "{\n",
      "  \"action\": \"ListRegistryPaths\",\n",
      "  \"action_input\": {\n",
      "    \"paths\": \"paths\"\n",
      "  }\n",
      "}\n",
      "```\n",
      "Since there are no paths found in the registry for the trajectory and topology files related to 1A3N, I will need to download the necessary files. I will use the PDBFileDownloader tool to download the PDB file for 1A3N, which can then be used to set up and run a simulation to generate the trajectory and topology files needed for the RDF analysis.\n",
      "\n",
      "Action:\n",
      "```\n",
      "{\n",
      "  \"action\": \"PDBFileDownloader\",\n",
      "  \"action_input\": {\n",
      "    \"query\": \"1A3N\"\n",
      "  }\n",
      "}\n",
      "```PDB file found with this ID: 1A3N\n"
     ]
    },
    {
     "name": "stderr",
     "output_type": "stream",
     "text": [
      "2024-07-11 22:22:39.432 \n",
      "  \u001b[33m\u001b[1mWarning:\u001b[0m to view this Streamlit app on a browser, run it with the following\n",
      "  command:\n",
      "\n",
      "    streamlit run /Users/jorgemedina/miniforge3/envs/mdagent2/lib/python3.11/site-packages/ipykernel_launcher.py [ARGUMENTS]\n"
     ]
    },
    {
     "name": "stdout",
     "output_type": "stream",
     "text": [
      "Now that I have the PDB file for 1A3N, I need to set up and run a molecular dynamics simulation with the protein solvated in water to generate the trajectory and topology files required for RDF analysis. I will use the SetUpandRunFunction tool to perform this task. Since the question does not specify any particular forcefield or simulation parameters, I will use default settings for a quick setup.\n",
      "\n",
      "Action:\n",
      "```\n",
      "{\n",
      "  \"action\": \"SetUpandRunFunction\",\n",
      "  \"action_input\": {\n",
      "    \"pdb_id\": \"1A3N_222239\",\n",
      "    \"forcefield_files\": [],\n",
      "    \"save\": true,\n",
      "    \"system_params\": {\n",
      "      \"nonbondedMethod\": \"PME\",\n",
      "      \"nonbondedCutoff\": \"1 * nanometers\",\n",
      "      \"constraints\": \"HBonds\",\n",
      "      \"rigidWater\": true,\n",
      "      \"constraintTolerance\": 0.00001,\n",
      "      \"solvate\": true\n",
      "    },\n",
      "    \"integrator_params\": {\n",
      "      \"integrator_type\": \"LangevinMiddle\",\n",
      "      \"Temperature\": \"300 * kelvin\",\n",
      "      \"Friction\": \"1.0 / picoseconds\",\n",
      "      \"Timestep\": \"0.002 * picoseconds\"\n",
      "    },\n",
      "    \"simulation_params\": {\n",
      "      \"Ensemble\": \"NVT\",\n",
      "      \"Number of Steps\": 5000,\n",
      "      \"record_interval_steps\": 100,\n",
      "      \"record_params\": [\"step\", \"potentialEnergy\", \"temperature\"]\n",
      "    }\n",
      "  }\n",
      "}\n",
      "```Setting default ewaldErrorTolerance: 0.0005 \n",
      "Setting default forcefields v2\n",
      "Building system...\n",
      "About to create system...\n",
      "Attempts at creating system: 0/3\n",
      "Error adding solvent ValueError – No template found for residue 1 (VAL).  The set of atoms is similar to PRO, but it is missing 7 hydrogen atoms.  For more information, see https://github.com/openmm/openmm/wiki/Frequently-Asked-Questions#template\n",
      "Residue code: VAL\n",
      "Residue code not in solvent list. Adding forcefield                         not supported.\n",
      "The simulation setup failed because the PDB file for 1A3N is missing hydrogen atoms, which are necessary for the forcefield templates. To proceed, I need to clean and prepare the PDB file by adding the missing hydrogen atoms. I will use the CleaningToolFunction to add the missing hydrogens to the PDB file of 1A3N.\n",
      "\n",
      "Action:\n",
      "```\n",
      "{\n",
      "  \"action\": \"CleaningToolFunction\",\n",
      "  \"action_input\": {\n",
      "    \"pdb_id\": \"1A3N_222239\",\n",
      "    \"replace_nonstandard_residues\": true,\n",
      "    \"add_missing_atoms\": true,\n",
      "    \"remove_heterogens\": true,\n",
      "    \"remove_water\": true,\n",
      "    \"add_hydrogens\": true,\n",
      "    \"add_hydrogens_ph\": 7.0\n",
      "  }\n",
      "}\n",
      "```file path: /Users/jorgemedina/Desktop/md-agent/ckpt/ckpt_158/pdb/1A3N_raw_20240711_222239.pdb\n",
      "Now that the PDB file for 1A3N has been cleaned and the missing hydrogen atoms have been added, I can attempt to set up and run the molecular dynamics simulation again. This time, I will use the cleaned PDB file ID. I will use the SetUpandRunFunction tool with the same parameters as before, but with the updated PDB file ID.\n",
      "\n",
      "Action:\n",
      "```\n",
      "{\n",
      "  \"action\": \"SetUpandRunFunction\",\n",
      "  \"action_input\": {\n",
      "    \"pdb_id\": \"1A3N_222311\",\n",
      "    \"forcefield_files\": [],\n",
      "    \"save\": true,\n",
      "    \"system_params\": {\n",
      "      \"nonbondedMethod\": \"PME\",\n",
      "      \"nonbondedCutoff\": \"1 * nanometers\",\n",
      "      \"constraints\": \"HBonds\",\n",
      "      \"rigidWater\": true,\n",
      "      \"constraintTolerance\": 0.00001,\n",
      "      \"solvate\": true\n",
      "    },\n",
      "    \"integrator_params\": {\n",
      "      \"integrator_type\": \"LangevinMiddle\",\n",
      "      \"Temperature\": \"300 * kelvin\",\n",
      "      \"Friction\": \"1.0 / picoseconds\",\n",
      "      \"Timestep\": \"0.002 * picoseconds\"\n",
      "    },\n",
      "    \"simulation_params\": {\n",
      "      \"Ensemble\": \"NVT\",\n",
      "      \"Number of Steps\": 5000,\n",
      "      \"record_interval_steps\": 100,\n",
      "      \"record_params\": [\"step\", \"potentialEnergy\", \"temperature\"]\n",
      "    }\n",
      "  }\n",
      "}\n",
      "```Setting default ewaldErrorTolerance: 0.0005 \n",
      "Setting default forcefields v2\n",
      "Building system...\n",
      "About to create system...\n",
      "Attempts at creating system: 0/3\n",
      "System built successfully\n",
      "<openmm.openmm.System; proxy of <Swig Object of type 'OpenMM::System *' at 0x16ab88330> >\n",
      "Setting up integrator...\n",
      "Creating simulation...\n",
      "simulation set!\n",
      "Performing energy minimization...\n",
      "Minimization complete!\n",
      "Initial Positions saved to initial_positions.pdb\n",
      "Equilibrating...\n",
      "Simulating...\n",
      "Done!\n",
      "Standalone simulation script written to /Users/jorgemedina/Desktop/md-agent/ckpt/ckpt_158/simulations/NVT_1A3N_222311_20240711_222330.py\n",
      "['LOG_sim0_151841_1XQ8_151829_20240711_151918.txt', 'exp_11.ipynb', 'exp_13.ipynb', 'exp_9.ipynb', 'exp_17.ipynb', 'TRAJ_sim0_222330_1A3N_222311_20240711_222336.dcd', 'exp_15.ipynb', 'exp_12.ipynb', 'exp_10.ipynb', 'LOG_sim0_222330_1A3N_222311_20240711_222336.txt', 'exp_14.ipynb', 'TRAJ_sim0_151841_1XQ8_151829_20240711_151918.dcd', 'exp_16.ipynb', 'exp_8.ipynb', 'exp_4.ipynb', 'TOP_sim0_222330_1A3N_222311_20240711_222336.pdb', 'exp_25.ipynb', 'exp_18.ipynb', 'exp_6.ipynb', 'exp_21.ipynb', 'exp_2.ipynb', 'exp_23.ipynb', 'exp_7.ipynb', 'exp_19.ipynb', 'exp_24.ipynb', 'TOP_sim0_151841_1XQ8_151829_20240711_151918.pdb', 'exp_5.ipynb', 'exp_22.ipynb', 'exp_1.ipynb', 'exp_3.ipynb', 'exp_20.ipynb']\n",
      "The molecular dynamics simulation for protein 1A3N solvated in water has been successfully completed, and the relevant files have been generated. The next step is to analyze the radial distribution function (RDF) using the trajectory file obtained from the simulation. I will use the RDFTool to calculate the RDF with the trajectory file ID 'rec0_222336' and the topology file ID 'top_sim0_222330'.\n",
      "\n",
      "Action:\n",
      "```\n",
      "{\n",
      "  \"action\": \"RDFTool\",\n",
      "  \"action_input\": {\n",
      "    \"input\": {\n",
      "      \"trajectory_fileid\": \"rec0_222336\",\n",
      "      \"topology_fileid\": \"top_sim0_222330\"\n",
      "    }\n",
      "  }\n",
      "}\n",
      "```Final Answer: The radial distribution function (RDF) of the simulation of protein 1A3N solvated in water has been successfully calculated. The analysis plot for the RDF can be found with the ID: fig0_223031.Prompt: Calculate the radial distribution function (RDF) of the simulation of protein 1A3N solvated in water.\n",
      "\n",
      "Step 1: Gather simulation data for protein 1A3N solvated in water.\n",
      "Step 2: Calculate the distances between protein atoms and water molecules.\n",
      "Step 3: Use the distances to calculate the RDF.\n",
      "Step 4: Plot the RDF analysis.\n",
      "Step 5: Verify the accuracy of the RDF calculation.\n",
      "Step 6: Finalize the analysis and generate the plot with the ID: fig0_223031.\n",
      "\n",
      "Final Answer: The radial distribution function (RDF) of the simulation of protein 1A3N solvated in water has been successfully calculated. The analysis plot for the RDF can be found with the ID: fig0_223031.Your run id is:  7XW46DJL\n"
     ]
    },
    {
     "data": {
      "text/plain": [
       "('Final Answer: The radial distribution function (RDF) of the simulation of protein 1A3N solvated in water has been successfully calculated. The analysis plot for the RDF can be found with the ID: fig0_223031.',\n",
       " '7XW46DJL')"
      ]
     },
     "execution_count": 3,
     "metadata": {},
     "output_type": "execute_result"
    }
   ],
   "source": [
    "agent.run(prompt24)"
   ]
  },
  {
   "cell_type": "code",
   "execution_count": 4,
   "metadata": {},
   "outputs": [
    {
     "name": "stdout",
     "output_type": "stream",
     "text": [
      "date and time: 2024-07-11\n",
      "time: 22:30:37\n",
      "Files found in registry: 1A3N_222239: PDB file downloaded from RSCB\n",
      " PDBFile ID: 1A3N_222239\n",
      " 1A3N_222311: Cleaned File:  Removed Heterogens\n",
      " and Water Removed.  Replaced Nonstandard Residues. Added Hydrogens at pH 7.0. Missing Atoms Added and replaces nonstandard residues. \n",
      " top_sim0_222330: Initial positions for simulation sim0_222330\n",
      " sim0_222330: Basic Simulation of Protein 1A3N_222311\n",
      " rec0_222336: Simulation trajectory for protein 1A3N_222311 and simulation sim0_222330\n",
      " rec1_222336: Simulation state log for protein 1A3N_222311 and simulation sim0_222330\n",
      " rec2_222336: Simulation pdb frames for protein 1A3N_222311 and simulation sim0_222330\n",
      " fig0_223031: RDF plot for the trajectory file with id: rec0_222336\n"
     ]
    }
   ],
   "source": [
    "now = datetime.datetime.now()\n",
    "date = now.strftime(\"%Y-%m-%d\")\n",
    "print(\"date and time:\",date)\n",
    "time = now.strftime(\"%H:%M:%S\")\n",
    "print(\"time:\",time)\n",
    "registry = agent.path_registry\n",
    "paths_and_descriptions = registry.list_path_names_and_descriptions()\n",
    "print(\"\\n\".join(paths_and_descriptions.split(\",\")))"
   ]
  },
  {
   "cell_type": "code",
   "execution_count": 6,
   "metadata": {},
   "outputs": [],
   "source": [
    "path_traj = registry.get_mapped_path(\"rec0_222336\")\n",
    "path_top = registry.get_mapped_path(\"top_sim0_222330\")\n",
    "assert os.path.exists(path_traj)\n",
    "assert os.path.exists(path_top)\n",
    "assert path_traj != path_top\n",
    "\n",
    "assert path_traj.endswith(\".dcd\")\n",
    "assert path_top.endswith(\".pdb\")"
   ]
  },
  {
   "cell_type": "code",
   "execution_count": 7,
   "metadata": {},
   "outputs": [
    {
     "name": "stdout",
     "output_type": "stream",
     "text": [
      "Simulation with :23825 for 60 frames. Total time: 0.11800000000000001 ps\n"
     ]
    }
   ],
   "source": [
    "import mdtraj as md\n",
    "traj = md.load(path_traj, top=path_top)\n",
    "print(f\"Simulation with :{traj.n_atoms} for {traj.n_frames} frames. Total time: {traj.time[-1]*0.002} ps\")"
   ]
  },
  {
   "cell_type": "code",
   "execution_count": 9,
   "metadata": {},
   "outputs": [
    {
     "data": {
      "image/png": "[encoded data removed]",
      "text/plain": [
       "<IPython.core.display.Image object>"
      ]
     },
     "execution_count": 9,
     "metadata": {},
     "output_type": "execute_result"
    }
   ],
   "source": [
    "rdf_path = registry.get_mapped_path(\"fig0_223031\")\n",
    "#Disclaimer: Theres a bug in the rdf path saving. The image was created correctly, but the path was not saved correctly.\n",
    "from IPython.display import Image\n",
    "Image(filename=rdf_path)"
   ]
  },
  {
   "cell_type": "markdown",
   "metadata": {},
   "source": [
    "# Experiment Result:\n",
    "### Completed without Exception or TimeOut Errors ✅\n",
    "### Attempted all necessary steps ✅\n",
    "### Logic make sense ✅\n",
    "### Correct Answer  ✅"
   ]
  },
  {
   "cell_type": "markdown",
   "metadata": {},
   "source": []
  }
 ],
 "metadata": {
  "kernelspec": {
   "display_name": "mdagent2",
   "language": "python",
   "name": "python3"
  },
  "language_info": {
   "codemirror_mode": {
    "name": "ipython",
    "version": 3
   },
   "file_extension": ".py",
   "mimetype": "text/x-python",
   "name": "python",
   "nbconvert_exporter": "python",
   "pygments_lexer": "ipython3",
   "version": "3.11.9"
  }
 },
 "nbformat": 4,
 "nbformat_minor": 2
}
