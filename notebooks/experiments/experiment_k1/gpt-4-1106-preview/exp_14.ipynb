{
 "cells": [
  {
   "cell_type": "code",
   "execution_count": 1,
   "metadata": {},
   "outputs": [],
   "source": [
    "import datetime\n",
    "import os\n",
    "from mdagent import MDAgent\n",
    "import matplotlib.pyplot as plt"
   ]
  },
  {
   "cell_type": "code",
   "execution_count": 2,
   "metadata": {},
   "outputs": [
    {
     "name": "stdout",
     "output_type": "stream",
     "text": [
      "date and time: 2024-09-09\n",
      "time: 12:49:39\n",
      "LLM:  gpt-4-1106-preview \n",
      "Temperature:  0.1\n"
     ]
    }
   ],
   "source": [
    "prompt14 = \"Simulate oxygenated hemoglobin (1A3N) and deoxygenated hemoglobin (6BB5).\"\n",
    "llm_var = \"gpt-4-1106-preview\"\n",
    "tools = \"all\"\n",
    "agent = MDAgent(agent_type=\"Structured\", model=llm_var, top_k_tools=tools,ckpt_dir=\"ckpt_58\")\n",
    "now = datetime.datetime.now()\n",
    "date = now.strftime(\"%Y-%m-%d\")\n",
    "print(\"date and time:\",date)\n",
    "time = now.strftime(\"%H:%M:%S\")\n",
    "print(\"time:\",time)\n",
    "print(\"LLM: \",agent.llm.model_name,\"\\nTemperature: \",agent.llm.temperature)"
   ]
  },
  {
   "cell_type": "code",
   "execution_count": 3,
   "metadata": {},
   "outputs": [],
   "source": [
    "# agent.run(prompt14)"
   ]
  },
  {
   "cell_type": "markdown",
   "metadata": {},
   "source": [
    "### Final Answer\n",
    "Final Answer: The simulations for both oxygenated hemoglobin (1A3N) and deoxygenated hemoglobin (6BB5) have been successfully completed. The cleaned PDB files and simulation results are saved with the following IDs:\n",
    "\n",
    "For oxygenated hemoglobin (1A3N):\n",
    "- Cleaned PDB file ID: 1A3N_113349\n",
    "- Simulation trajectory ID: rec0_113410\n",
    "- Simulation state log ID: rec1_113410\n",
    "- Simulation PDB frames ID: rec2_113410\n",
    "- Standalone script ID: sim0_113406\n",
    "- Initial topology file ID: top_sim0_113406\n",
    "\n",
    "For deoxygenated hemoglobin (6BB5):\n",
    "- Cleaned PDB file ID: 6BB5_115236\n",
    "- Simulation trajectory ID: rec0_115258\n",
    "- Simulation state log ID: rec1_115258\n",
    "- Simulation PDB frames ID: rec2_115258\n",
    "- Standalone script ID: sim0_115252\n",
    "- Initial topology file ID: top_sim0_115252\n",
    "\n",
    "These results include the trajectories, state logs, PDB frames, and standalone scripts for further analysis or simulation continuation. The initial topology files are also saved for reference.\n",
    "\n",
    "\n",
    "Checkpint directory:  /gpfs/fs2/scratch/jmedina9/mdagent/md-agent/ckpt/ckpt_58"
   ]
  },
  {
   "cell_type": "code",
   "execution_count": 4,
   "metadata": {},
   "outputs": [
    {
     "name": "stdout",
     "output_type": "stream",
     "text": [
      "date and time: 2024-09-09\n",
      "time: 12:49:39\n",
      "Files found in registry: 1A3N_113242: PDB file downloaded from RSCB\n",
      " PDBFile ID: 1A3N_113242\n",
      " 6BB5_113247: PDB file downloaded from RSCB\n",
      " PDBFile ID: 6BB5_113247\n",
      " 1A3N_113349: Cleaned File:  Removed Heterogens\n",
      " and Water Removed.  Replaced Nonstandard Residues. Added Hydrogens at pH 7.0. Missing Atoms Added and replaces nonstandard residues. \n",
      " top_sim0_113406: Initial positions for simulation sim0_113406\n",
      " sim0_113406: Basic Simulation of Protein 1A3N_113349\n",
      " rec0_113410: Simulation trajectory for protein 1A3N_113349 and simulation sim0_113406\n",
      " rec1_113410: Simulation state log for protein 1A3N_113349 and simulation sim0_113406\n",
      " rec2_113410: Simulation pdb frames for protein 1A3N_113349 and simulation sim0_113406\n",
      " 6BB5_115236: Cleaned File:  Removed Heterogens\n",
      " and Water Removed.  Replaced Nonstandard Residues. Added Hydrogens at pH 7.0. Missing Atoms Added and replaces nonstandard residues. \n",
      " top_sim0_115252: Initial positions for simulation sim0_115252\n",
      " sim0_115252: Basic Simulation of Protein 6BB5_115236\n",
      " rec0_115258: Simulation trajectory for protein 6BB5_115236 and simulation sim0_115252\n",
      " rec1_115258: Simulation state log for protein 6BB5_115236 and simulation sim0_115252\n",
      " rec2_115258: Simulation pdb frames for protein 6BB5_115236 and simulation sim0_115252\n"
     ]
    }
   ],
   "source": [
    "now = datetime.datetime.now()\n",
    "date = now.strftime(\"%Y-%m-%d\")\n",
    "print(\"date and time:\",date)\n",
    "time = now.strftime(\"%H:%M:%S\")\n",
    "print(\"time:\",time)\n",
    "registry = agent.path_registry\n",
    "paths_and_descriptions = registry.list_path_names_and_descriptions()\n",
    "print(\"\\n\".join(paths_and_descriptions.split(\",\")))"
   ]
  },
  {
   "cell_type": "code",
   "execution_count": 10,
   "metadata": {},
   "outputs": [],
   "source": [
    "traj_path_1 = \"/Users/jorgemedina/Desktop/md-agent/ckpt/ckpt_58/\"+registry.get_mapped_path(\"rec0_113410\").split(\"ckpt_58/\")[1] \n",
    "top_path_1 = \"/Users/jorgemedina/Desktop/md-agent/ckpt/ckpt_58/\"+registry.get_mapped_path(\"top_sim0_113406\").split(\"ckpt_58/\")[1] \n",
    "traj_path_2 = \"/Users/jorgemedina/Desktop/md-agent/ckpt/ckpt_58/\"+registry.get_mapped_path(\"rec0_115258\").split(\"ckpt_58/\")[1] \n",
    "top_path_2 = \"/Users/jorgemedina/Desktop/md-agent/ckpt/ckpt_58/\"+registry.get_mapped_path(\"top_sim0_115252\").split(\"ckpt_58/\")[1] \n",
    "assert os.path.exists(traj_path_1)\n",
    "assert os.path.exists(top_path_1)\n",
    "assert os.path.exists(traj_path_2)\n",
    "assert os.path.exists(top_path_2)\n",
    "\n"
   ]
  },
  {
   "cell_type": "code",
   "execution_count": 11,
   "metadata": {},
   "outputs": [
    {
     "name": "stdout",
     "output_type": "stream",
     "text": [
      "Number of frames in traj1:  60\n",
      "Number of frames in traj2:  60\n",
      "Number of residues in traj1:  5583\n",
      "Number of residues in traj2:  16480\n"
     ]
    }
   ],
   "source": [
    "import mdtraj as md\n",
    "import numpy as np\n",
    "\n",
    "traj1 = md.load(traj_path_1, top=top_path_1)\n",
    "traj2 = md.load(traj_path_2, top=top_path_2)\n",
    "\n",
    "#number of framees, adn total residues simulated\n",
    "print(\"Number of frames in traj1: \", traj1.n_frames)\n",
    "print(\"Number of frames in traj2: \", traj2.n_frames)\n",
    "print(\"Number of residues in traj1: \", traj1.n_residues)\n",
    "print(\"Number of residues in traj2: \", traj2.n_residues)\n"
   ]
  },
  {
   "cell_type": "markdown",
   "metadata": {},
   "source": [
    "# Experiment Result:\n",
    "### Completed without Exception or TimeOut Errors ✅\n",
    "### Attempted all necessary steps ✅\n",
    "### No hallucination ✅\n",
    "### Logic make sense ✅\n",
    "### Correct Answer  ✅"
   ]
  },
  {
   "cell_type": "markdown",
   "metadata": {},
   "source": []
  }
 ],
 "metadata": {
  "kernelspec": {
   "display_name": "mdagent2",
   "language": "python",
   "name": "python3"
  },
  "language_info": {
   "codemirror_mode": {
    "name": "ipython",
    "version": 3
   },
   "file_extension": ".py",
   "mimetype": "text/x-python",
   "name": "python",
   "nbconvert_exporter": "python",
   "pygments_lexer": "ipython3",
   "version": "3.11.9"
  }
 },
 "nbformat": 4,
 "nbformat_minor": 2
}
