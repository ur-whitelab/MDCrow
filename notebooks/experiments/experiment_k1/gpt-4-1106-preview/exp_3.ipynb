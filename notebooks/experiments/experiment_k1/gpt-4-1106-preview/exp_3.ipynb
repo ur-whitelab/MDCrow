{
 "cells": [
  {
   "cell_type": "code",
   "execution_count": 1,
   "metadata": {},
   "outputs": [],
   "source": [
    "import datetime\n",
    "import os\n",
    "from mdagent import MDAgent\n",
    "import matplotlib.pyplot as plt"
   ]
  },
  {
   "cell_type": "code",
   "execution_count": 2,
   "metadata": {},
   "outputs": [
    {
     "name": "stdout",
     "output_type": "stream",
     "text": [
      "date and time: 2024-09-09\n",
      "time: 11:29:47\n",
      "LLM:  gpt-4-1106-preview \n",
      "Temperature:  0.1\n"
     ]
    }
   ],
   "source": [
    "prompt3 = \"Download the PDB file for protein 1GZX. Then, analyze the secondary structure of the protein and provide information on how many helices, sheets, and other components are present.\"\n",
    "llm_var = \"gpt-4-1106-preview\"\n",
    "tools = \"all\"\n",
    "agent = MDAgent(agent_type=\"Structured\", model=llm_var, top_k_tools=tools,ckpt_dir='ckpt_47')\n",
    "now = datetime.datetime.now()\n",
    "date = now.strftime(\"%Y-%m-%d\")\n",
    "print(\"date and time:\",date)\n",
    "time = now.strftime(\"%H:%M:%S\")\n",
    "print(\"time:\",time)\n",
    "print(\"LLM: \",agent.llm.model_name,\"\\nTemperature: \",agent.llm.temperature)"
   ]
  },
  {
   "cell_type": "code",
   "execution_count": null,
   "metadata": {},
   "outputs": [],
   "source": [
    "# agent.run(prompt3)"
   ]
  },
  {
   "cell_type": "markdown",
   "metadata": {},
   "source": [
    "### Final Answer\n",
    "Final Answer: The analysis of the secondary structure of protein 1GZX reveals that it contains 444 residues in helices, no residues in strands (sheets), and 130 residues in coils. Additionally, there are 213 residues that were not assigned and are not considered protein residues."
   ]
  },
  {
   "cell_type": "code",
   "execution_count": 3,
   "metadata": {},
   "outputs": [
    {
     "name": "stdout",
     "output_type": "stream",
     "text": [
      "date and time: 2024-09-09\n",
      "time: 11:29:48\n"
     ]
    }
   ],
   "source": [
    "now = datetime.datetime.now()\n",
    "date = now.strftime(\"%Y-%m-%d\")\n",
    "print(\"date and time:\",date)\n",
    "time = now.strftime(\"%H:%M:%S\")\n",
    "print(\"time:\",time)"
   ]
  },
  {
   "cell_type": "code",
   "execution_count": 4,
   "metadata": {},
   "outputs": [
    {
     "name": "stdout",
     "output_type": "stream",
     "text": [
      "Files found in registry: 1GZX_111543: PDB file downloaded from RSCB, PDBFile ID: 1GZX_111543, rec0_111554: dssp values for trajectory with id: 1GZX_111543\n"
     ]
    }
   ],
   "source": [
    "registry = agent.path_registry\n",
    "print(registry.list_path_names_and_descriptions())"
   ]
  },
  {
   "cell_type": "code",
   "execution_count": 6,
   "metadata": {},
   "outputs": [
    {
     "name": "stdout",
     "output_type": "stream",
     "text": [
      "Number of chains:  12\n",
      "Number of sheets:  0\n",
      "Number of helices:  444\n",
      "Number of coils:  130\n"
     ]
    }
   ],
   "source": [
    "import mdtraj as md\n",
    "path = registry.get_mapped_path(\"1GZX_111543\")\n",
    "path = '/Users/jorgemedina/Desktop/md-agent/ckpt/ckpt_47' + path.split(\"ckpt_47\")[1]\n",
    "traj = md.load(path)\n",
    "top = traj.topology\n",
    "number_of_chains = top.n_chains\n",
    "secondary_structure = md.compute_dssp(traj,simplified=True)\n",
    "print(\"Number of chains: \",number_of_chains)\n",
    "print(\"Number of sheets: \",len([i for i in secondary_structure[0] if i == 'E']))\n",
    "print(\"Number of helices: \",len([i for i in secondary_structure[0] if i == 'H']))\n",
    "print(\"Number of coils: \",len([i for i in secondary_structure[0] if i == 'C']))\n"
   ]
  },
  {
   "cell_type": "markdown",
   "metadata": {},
   "source": [
    "# Experiment Result:\n",
    "### Completed without Exception or TimeOut Errors ✅\n",
    "### Attempted all necessary steps ✅\n",
    "### Logic make sense ✅\n",
    "### Correct Answer  ✅"
   ]
  },
  {
   "cell_type": "code",
   "execution_count": null,
   "metadata": {},
   "outputs": [],
   "source": []
  }
 ],
 "metadata": {
  "kernelspec": {
   "display_name": "mdagent2",
   "language": "python",
   "name": "python3"
  },
  "language_info": {
   "codemirror_mode": {
    "name": "ipython",
    "version": 3
   },
   "file_extension": ".py",
   "mimetype": "text/x-python",
   "name": "python",
   "nbconvert_exporter": "python",
   "pygments_lexer": "ipython3",
   "version": "3.11.9"
  }
 },
 "nbformat": 4,
 "nbformat_minor": 2
}
