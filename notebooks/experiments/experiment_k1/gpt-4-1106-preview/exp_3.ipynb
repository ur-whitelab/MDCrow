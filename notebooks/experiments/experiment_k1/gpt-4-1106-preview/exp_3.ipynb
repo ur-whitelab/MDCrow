{
 "cells": [
  {
   "cell_type": "code",
   "execution_count": 1,
   "metadata": {},
   "outputs": [],
   "source": [
    "import datetime\n",
    "import os\n",
    "from mdagent import MDAgent\n",
    "import matplotlib.pyplot as plt"
   ]
  },
  {
   "cell_type": "code",
   "execution_count": 2,
   "metadata": {},
   "outputs": [
    {
     "name": "stdout",
     "output_type": "stream",
     "text": [
      "date and time: 2024-07-11\n",
      "time: 15:15:49\n",
      "LLM:  gpt-4-1106-preview \n",
      "Temperature:  0.1\n"
     ]
    }
   ],
   "source": [
    "prompt3 = \"Download the PDB file for PDB ID 1GZX. Then, analyze the secondary structure of the protein and tell me how many chains, sheets, etc. there are.\"\n",
    "llm_var = \"gpt-4-1106-preview\"\n",
    "tools = \"all\"\n",
    "agent = MDAgent(agent_type=\"Structured\", model=llm_var, top_k_tools=tools)\n",
    "now = datetime.datetime.now()\n",
    "date = now.strftime(\"%Y-%m-%d\")\n",
    "print(\"date and time:\",date)\n",
    "time = now.strftime(\"%H:%M:%S\")\n",
    "print(\"time:\",time)\n",
    "print(\"LLM: \",agent.llm.model_name,\"\\nTemperature: \",agent.llm.temperature)"
   ]
  },
  {
   "cell_type": "code",
   "execution_count": 3,
   "metadata": {},
   "outputs": [
    {
     "name": "stdout",
     "output_type": "stream",
     "text": [
      "Thought: To answer the question, I need to first download the PDB file for the given PDB ID (1GZX). After obtaining the file, I will analyze the secondary structure of the protein to determine the number of chains, sheets, and other structural elements.\n",
      "\n",
      "Action:\n",
      "```\n",
      "{\n",
      "  \"action\": \"PDBFileDownloader\",\n",
      "  \"action_input\": {\n",
      "    \"query\": \"1GZX\"\n",
      "  }\n",
      "}\n",
      "```\n",
      "\n",
      "PDB file found with this ID: 1GZX\n"
     ]
    },
    {
     "name": "stderr",
     "output_type": "stream",
     "text": [
      "2024-07-11 15:15:54.482 \n",
      "  \u001b[33m\u001b[1mWarning:\u001b[0m to view this Streamlit app on a browser, run it with the following\n",
      "  command:\n",
      "\n",
      "    streamlit run /Users/jorgemedina/miniforge3/envs/mdagent2/lib/python3.11/site-packages/ipykernel_launcher.py [ARGUMENTS]\n"
     ]
    },
    {
     "name": "stdout",
     "output_type": "stream",
     "text": [
      "Now that I have the PDB file for 1GZX, the next step is to analyze its secondary structure to determine the number of chains, sheets, and other structural elements.\n",
      "\n",
      "Action:\n",
      "```\n",
      "{\n",
      "  \"action\": \"ComputeDSSP\",\n",
      "  \"action_input\": {\n",
      "    \"traj_file\": \"1GZX_151554\"\n",
      "  }\n",
      "}\n",
      "```Final Answer: The protein with PDB ID 1GZX consists of 444 residues forming helices, no residues forming strands, and 130 residues in coil (unstructured) regions. Additionally, there are 213 residues that are not assigned to any secondary structure, which may include ligands, water molecules, or non-standard residues not recognized as part of the protein's secondary structure. There is no specific information on the number of chains provided in the observation, but typically, the PDB file contains this information and can be obtained by examining the file directly.Prompt: Analyze the protein with PDB ID 1GZX and determine the distribution of secondary structures (helices, strands, coils) and any unassigned residues.\n",
      "\n",
      "Step 1: Obtain the protein structure with PDB ID 1GZX.\n",
      "Step 2: Analyze the protein structure to identify the distribution of secondary structures.\n",
      "Step 3: Determine the number of residues forming helices, strands, and coils.\n",
      "Step 4: Identify any residues that are not assigned to any secondary structure.\n",
      "Step 5: Consider the possibility of ligands, water molecules, or non-standard residues in the unassigned residues.\n",
      "Step 6: Note that the information on the number of chains is not provided in the observation.\n",
      "Step 7: Suggest examining the PDB file directly to obtain information on the number of chains.\n",
      "\n",
      "Final Solution: The protein with PDB ID 1GZX consists of 444 residues forming helices, no residues forming strands, and 130 residues in coil (unstructured) regions. Additionally, there are 213 residues that are not assigned to any secondary structure, which may include ligands, water molecules, or non-standard residues not recognized as part of the protein's secondary structure. It is recommended to check the PDB file for information on the number of chains.Your run id is:  MIDKDWGX\n"
     ]
    },
    {
     "data": {
      "text/plain": [
       "(\"Final Answer: The protein with PDB ID 1GZX consists of 444 residues forming helices, no residues forming strands, and 130 residues in coil (unstructured) regions. Additionally, there are 213 residues that are not assigned to any secondary structure, which may include ligands, water molecules, or non-standard residues not recognized as part of the protein's secondary structure. There is no specific information on the number of chains provided in the observation, but typically, the PDB file contains this information and can be obtained by examining the file directly.\",\n",
       " 'MIDKDWGX')"
      ]
     },
     "execution_count": 3,
     "metadata": {},
     "output_type": "execute_result"
    }
   ],
   "source": [
    "agent.run(prompt3)"
   ]
  },
  {
   "cell_type": "code",
   "execution_count": 4,
   "metadata": {},
   "outputs": [
    {
     "name": "stdout",
     "output_type": "stream",
     "text": [
      "date and time: 2024-07-11\n",
      "time: 15:16:08\n"
     ]
    }
   ],
   "source": [
    "now = datetime.datetime.now()\n",
    "date = now.strftime(\"%Y-%m-%d\")\n",
    "print(\"date and time:\",date)\n",
    "time = now.strftime(\"%H:%M:%S\")\n",
    "print(\"time:\",time)"
   ]
  },
  {
   "cell_type": "code",
   "execution_count": 5,
   "metadata": {},
   "outputs": [
    {
     "name": "stdout",
     "output_type": "stream",
     "text": [
      "Files found in registry: 1GZX_151554: PDB file downloaded from RSCB, PDBFile ID: 1GZX_151554, rec0_151559: dssp values for trajectory with id: 1GZX_151554\n"
     ]
    }
   ],
   "source": [
    "registry = agent.path_registry\n",
    "print(registry.list_path_names_and_descriptions())"
   ]
  },
  {
   "cell_type": "code",
   "execution_count": null,
   "metadata": {},
   "outputs": [],
   "source": [
    "# import mdtraj as md\n",
    "# path = registry.get_mapped_path(\"1GZX_161339\")\n",
    "# traj = md.load(path)\n",
    "# top = traj.topology\n",
    "# number_of_chains = top.n_chains\n",
    "# secondary_structure = md.compute_dssp(traj,simplified=True)\n",
    "# print(\"Number of chains: \",number_of_chains)\n",
    "# print(\"Number of sheets: \",len([i for i in secondary_structure[0] if i == 'E']))\n",
    "# print(\"Number of helices: \",len([i for i in secondary_structure[0] if i == 'H']))\n",
    "# print(\"Number of coils: \",len([i for i in secondary_structure[0] if i == 'C']))\n"
   ]
  },
  {
   "cell_type": "markdown",
   "metadata": {},
   "source": [
    "# Experiment Result:\n",
    "### Completed without Exception or TimeOut Errors ✅\n",
    "### Attempted all necessary steps ✅\n",
    "### Logic make sense ✅\n",
    "### Correct Answer  ✅"
   ]
  },
  {
   "cell_type": "code",
   "execution_count": null,
   "metadata": {},
   "outputs": [],
   "source": []
  }
 ],
 "metadata": {
  "kernelspec": {
   "display_name": "mdagent2",
   "language": "python",
   "name": "python3"
  },
  "language_info": {
   "codemirror_mode": {
    "name": "ipython",
    "version": 3
   },
   "file_extension": ".py",
   "mimetype": "text/x-python",
   "name": "python",
   "nbconvert_exporter": "python",
   "pygments_lexer": "ipython3",
   "version": "3.11.9"
  }
 },
 "nbformat": 4,
 "nbformat_minor": 2
}
