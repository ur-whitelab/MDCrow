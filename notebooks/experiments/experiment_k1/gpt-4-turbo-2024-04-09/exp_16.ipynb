{
 "cells": [
  {
   "cell_type": "code",
   "execution_count": 1,
   "id": "8ff706fd-c267-4d05-af58-9a3848cce8ff",
   "metadata": {},
   "outputs": [],
   "source": [
    "from mdagent import MDAgent"
   ]
  },
  {
   "cell_type": "code",
   "execution_count": 2,
   "id": "cd7345fc-ea7d-4125-a3c4-9ac399ab5838",
   "metadata": {},
   "outputs": [
    {
     "name": "stdout",
     "output_type": "stream",
     "text": [
      "date: 2024-07-10\n",
      "time: 21:41:30\n"
     ]
    }
   ],
   "source": [
    "import datetime\n",
    "\n",
    "start = datetime.datetime.now()\n",
    "date = start.strftime(\"%Y-%m-%d\")\n",
    "print(\"date:\",date)\n",
    "time = start.strftime(\"%H:%M:%S\")\n",
    "print(\"time:\",time)"
   ]
  },
  {
   "cell_type": "code",
   "execution_count": 3,
   "id": "f62bfc17-854b-4152-bb82-7e9e0ec4b854",
   "metadata": {},
   "outputs": [
    {
     "name": "stdout",
     "output_type": "stream",
     "text": [
      "LLM:  gpt-4-turbo-2024-04-09 \n",
      "Temperature:  0.1\n"
     ]
    }
   ],
   "source": [
    "model='gpt-4-turbo-2024-04-09'\n",
    "mda = MDAgent(\n",
    "    agent_type='Structured', \n",
    "    model=model, \n",
    "    tools_model=model,\n",
    "    use_memory=False, \n",
    "    top_k_tools=\"all\"\n",
    ")\n",
    "print(\"LLM: \", mda.llm.model_name,\"\\nTemperature: \", mda.llm.temperature)"
   ]
  },
  {
   "cell_type": "code",
   "execution_count": 4,
   "id": "ad2f6f66-e6b8-4244-b908-68fbebbf6e8b",
   "metadata": {},
   "outputs": [
    {
     "name": "stdout",
     "output_type": "stream",
     "text": [
      "Thought: To simulate Trypsin (1TRN) for 1ns at 300K and compute the Solvent Accessible Surface Area (SASA), I need to set up and run a molecular dynamics simulation using the provided PDB ID. After the simulation, I will compute the SASA for the resulting trajectory.\n",
      "\n",
      "Action: SetUpandRunFunction\n",
      "Action Input: {\"pdb_id\":\"1TRN\",\"forcefield_files\":[\"amber99sb.xml\"],\"system_params\":{\"nonbondedMethod\":\"PME\",\"nonbondedCutoff\":\"1.0 * nanometers\",\"constraints\":\"HBonds\",\"rigidWater\":true,\"constraintTolerance\":0.00001,\"solvate\":true},\"integrator_params\":{\"integrator_type\":\"LangevinMiddle\",\"Temperature\":\"300 * kelvin\",\"Friction\":\"1.0 / picoseconds\",\"Timestep\":\"0.002 * picoseconds\",\"Pressure\":\"1.0 * bar\"},\"simulation_params\":{\"Ensemble\":\"NVT\",\"Number of Steps\":500000,\"record_interval_steps\":5000,\"record_params\":[\"step\",\"potentialEnergy\",\"temperature\"]}}"
     ]
    }
   ],
   "source": [
    "prompt = '''Simulate Trypsin (1TRN) for 1ns at 300K and compute SASA.'''\n",
    "answer = mda.run(prompt)"
   ]
  },
  {
   "cell_type": "code",
   "execution_count": 5,
   "id": "a31fd85f-9466-41da-ada4-0b9f86427723",
   "metadata": {},
   "outputs": [
    {
     "name": "stdout",
     "output_type": "stream",
     "text": [
      "duration: 0.13 minutes\n"
     ]
    }
   ],
   "source": [
    "end = datetime.datetime.now()\n",
    "elapsed = end - start\n",
    "print(f\"duration: {elapsed.total_seconds()/60:.2f} minutes\")"
   ]
  },
  {
   "cell_type": "code",
   "execution_count": 6,
   "id": "91126107-efe6-44d0-95b6-21161bba63ac",
   "metadata": {},
   "outputs": [
    {
     "name": "stdout",
     "output_type": "stream",
     "text": [
      "No names found. The JSON file is empty or does not contain name mappings.\n"
     ]
    }
   ],
   "source": [
    "registry = mda.path_registry\n",
    "all_names = registry.list_path_names()\n",
    "print(all_names)"
   ]
  },
  {
   "cell_type": "markdown",
   "id": "060376c3-1ce9-4c67-bb70-8471d8e42f75",
   "metadata": {},
   "source": [
    "# Experiment Result:\n",
    "\n",
    "1. Completed without Exception or TimeOut Errors ✅\n",
    "2. Attempted all necessary steps ❌\n",
    "3. No hallucination ❌\n",
    "4. Logic make sense ❌\n",
    "5. Correct Answer ❌\n",
    "6. Number of steps completed: 0️⃣\n",
    "7. % steps completed: 0️⃣%"
   ]
  }
 ],
 "metadata": {
  "kernelspec": {
   "display_name": "mdagent",
   "language": "python",
   "name": "mdagent"
  },
  "language_info": {
   "codemirror_mode": {
    "name": "ipython",
    "version": 3
   },
   "file_extension": ".py",
   "mimetype": "text/x-python",
   "name": "python",
   "nbconvert_exporter": "python",
   "pygments_lexer": "ipython3",
   "version": "3.12.4"
  }
 },
 "nbformat": 4,
 "nbformat_minor": 5
}
