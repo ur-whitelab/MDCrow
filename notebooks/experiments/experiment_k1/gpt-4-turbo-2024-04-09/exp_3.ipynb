{
 "cells": [
  {
   "cell_type": "code",
   "execution_count": 1,
   "metadata": {},
   "outputs": [],
   "source": [
    "import datetime\n",
    "import os\n",
    "from mdagent import MDAgent\n",
    "import matplotlib.pyplot as plt"
   ]
  },
  {
   "cell_type": "code",
   "execution_count": 2,
   "metadata": {},
   "outputs": [
    {
     "name": "stdout",
     "output_type": "stream",
     "text": [
      "date and time: 2024-09-09\n",
      "time: 10:25:50\n",
      "LLM:  gpt-4-turbo-2024-04-09 \n",
      "Temperature:  0.1\n"
     ]
    }
   ],
   "source": [
    "prompt3 = \"Download the PDB file for protein 1GZX. Then, analyze the secondary structure of the protein and provide information on how many helices, sheets, and other components are present.\"\n",
    "llm_var = \"gpt-4-turbo-2024-04-09\"\n",
    "tools = \"all\"\n",
    "agent = MDAgent(agent_type=\"Structured\", model=llm_var, top_k_tools=tools)\n",
    "now = datetime.datetime.now()\n",
    "date = now.strftime(\"%Y-%m-%d\")\n",
    "print(\"date and time:\",date)\n",
    "time = now.strftime(\"%H:%M:%S\")\n",
    "print(\"time:\",time)\n",
    "print(\"LLM: \",agent.llm.model_name,\"\\nTemperature: \",agent.llm.temperature)"
   ]
  },
  {
   "cell_type": "code",
   "execution_count": 3,
   "metadata": {},
   "outputs": [
    {
     "name": "stdout",
     "output_type": "stream",
     "text": [
      "Thought: To address the question, I need to first download the PDB file for the protein with PDB ID \"1GZX\". After obtaining the file, I will analyze its secondary structure to determine the number of helices, sheets, and other structural components.\n",
      "\n",
      "Action:\n",
      "```json\n",
      "{\n",
      "    \"action\": \"PDBFileDownloader\",\n",
      "    \"action_input\": {\n",
      "        \"query\": \"1GZX\"\n",
      "    }\n",
      "}\n",
      "```PDB file found with this ID: 1GZX\n",
      "Now that I have the PDB file for protein 1GZX, I will proceed to analyze its secondary structure using the ComputeDSSP tool. This will allow me to determine the number of helices, sheets, and other structural components present in the protein.\n",
      "\n",
      "Action:\n",
      "```json\n",
      "{\n",
      "    \"action\": \"ComputeDSSP\",\n",
      "    \"action_input\": {\n",
      "        \"traj_file\": \"1GZX_102555\",\n",
      "        \"target_frames\": \"all\"\n",
      "    }\n",
      "}\n",
      "```Final Answer: The analysis of the secondary structure of protein 1GZX reveals that it contains 444 residues in helical structures, no residues in beta strands, 130 residues in coil configurations, and 213 residues that are not assigned or are not protein residues. This indicates a predominance of helical structures within this protein."
     ]
    },
    {
     "data": {
      "text/plain": [
       "({'input': '\\n    You are an expert molecular dynamics scientist, and\\n    your task is to respond to the question or\\n    solve the problem to the best of your ability using\\n    the provided tools.\\n\\n    You can only respond with a single complete\\n    \\'Thought, Action, Action Input\\' format\\n    OR a single \\'Final Answer\\' format.\\n\\n    Complete format:\\n    Thought: (reflect on your progress and decide what to do next)\\n    Action:\\n    ```\\n    {\\n        \"action\": (the action name, it should be the name of a tool),\\n        \"action_input\": (the input string for the action)\\n    }\\n    \\'\\'\\'\\n\\n    OR\\n\\n    Final Answer: (the final response to the original input\\n    question, once all steps are complete)\\n\\n    You are required to use the tools provided,\\n    using the most specific tool\\n    available for each action.\\n    Your final answer should contain all information\\n    necessary to answer the question and its subquestions.\\n    Before you finish, reflect on your progress and make\\n    sure you have addressed the question in its entirety.\\n\\n    If you are asked to continue\\n    or reference previous runs,\\n    the context will be provided to you.\\n    If context is provided, you should assume\\n    you are continuing a chat.\\n\\n    Here is the input:\\n    Previous Context: None\\n    Question: Download the PDB file for protein 1GZX. Then, analyze the secondary structure of the protein and provide information on how many helices, sheets, and other components are present. ',\n",
       "  'output': 'Final Answer: The analysis of the secondary structure of protein 1GZX reveals that it contains 444 residues in helical structures, no residues in beta strands, 130 residues in coil configurations, and 213 residues that are not assigned or are not protein residues. This indicates a predominance of helical structures within this protein.'},\n",
       " 'KR0OLUUN')"
      ]
     },
     "execution_count": 3,
     "metadata": {},
     "output_type": "execute_result"
    }
   ],
   "source": [
    "agent.run(prompt3)"
   ]
  },
  {
   "cell_type": "code",
   "execution_count": 4,
   "metadata": {},
   "outputs": [
    {
     "name": "stdout",
     "output_type": "stream",
     "text": [
      "date and time: 2024-09-09\n",
      "time: 10:26:03\n"
     ]
    }
   ],
   "source": [
    "now = datetime.datetime.now()\n",
    "date = now.strftime(\"%Y-%m-%d\")\n",
    "print(\"date and time:\",date)\n",
    "time = now.strftime(\"%H:%M:%S\")\n",
    "print(\"time:\",time)"
   ]
  },
  {
   "cell_type": "code",
   "execution_count": 5,
   "metadata": {},
   "outputs": [
    {
     "name": "stdout",
     "output_type": "stream",
     "text": [
      "Files found in registry: 1GZX_102555: PDB file downloaded from RSCB, PDBFile ID: 1GZX_102555, rec0_102559: dssp values for trajectory with id: 1GZX_102555\n"
     ]
    }
   ],
   "source": [
    "registry = agent.path_registry\n",
    "print(registry.list_path_names_and_descriptions())"
   ]
  },
  {
   "cell_type": "code",
   "execution_count": 7,
   "metadata": {},
   "outputs": [
    {
     "name": "stdout",
     "output_type": "stream",
     "text": [
      "Number of chains:  12\n",
      "Number of sheets:  0\n",
      "Number of helices:  444\n",
      "Number of coils:  130\n"
     ]
    }
   ],
   "source": [
    "import mdtraj as md\n",
    "path = registry.get_mapped_path(\"1GZX_102555\")\n",
    "traj = md.load(path)\n",
    "top = traj.topology\n",
    "number_of_chains = top.n_chains\n",
    "secondary_structure = md.compute_dssp(traj,simplified=True)\n",
    "print(\"Number of chains: \",number_of_chains)\n",
    "print(\"Number of sheets: \",len([i for i in secondary_structure[0] if i == 'E']))\n",
    "print(\"Number of helices: \",len([i for i in secondary_structure[0] if i == 'H']))\n",
    "print(\"Number of coils: \",len([i for i in secondary_structure[0] if i == 'C']))\n"
   ]
  },
  {
   "cell_type": "markdown",
   "metadata": {},
   "source": [
    "# Experiment Result:\n",
    "### Completed without Exception or TimeOut Errors ✅\n",
    "### Attempted all necessary steps ✅\n",
    "### No Hallucination ✅\n",
    "### Process/Plan makes sense ✅\n",
    "### Correct Answer  ✅\n",
    "### Number of steps completed: 2\n",
    "### % steps completed: 100%"
   ]
  },
  {
   "cell_type": "code",
   "execution_count": null,
   "metadata": {},
   "outputs": [],
   "source": []
  }
 ],
 "metadata": {
  "kernelspec": {
   "display_name": "mdagent2",
   "language": "python",
   "name": "python3"
  },
  "language_info": {
   "codemirror_mode": {
    "name": "ipython",
    "version": 3
   },
   "file_extension": ".py",
   "mimetype": "text/x-python",
   "name": "python",
   "nbconvert_exporter": "python",
   "pygments_lexer": "ipython3",
   "version": "3.11.9"
  }
 },
 "nbformat": 4,
 "nbformat_minor": 4
}
