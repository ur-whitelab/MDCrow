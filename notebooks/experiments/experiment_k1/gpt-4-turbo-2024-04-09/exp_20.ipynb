{
 "cells": [
  {
   "cell_type": "code",
   "execution_count": null,
   "id": "8ff706fd-c267-4d05-af58-9a3848cce8ff",
   "metadata": {},
   "outputs": [],
   "source": [
    "from mdagent import MDAgent"
   ]
  },
  {
   "cell_type": "code",
   "execution_count": null,
   "id": "b0d4ea60-212d-4a24-ad8f-0673323701cf",
   "metadata": {},
   "outputs": [],
   "source": [
    "import datetime\n",
    "\n",
    "start = datetime.datetime.now()\n",
    "date = start.strftime(\"%Y-%m-%d\")\n",
    "print(\"date:\",date)\n",
    "time = start.strftime(\"%H:%M:%S\")\n",
    "print(\"time:\",time)"
   ]
  },
  {
   "cell_type": "code",
   "execution_count": null,
   "id": "f62bfc17-854b-4152-bb82-7e9e0ec4b854",
   "metadata": {},
   "outputs": [],
   "source": [
    "model='gpt-4-turbo-2024-04-09'\n",
    "mda = MDAgent(\n",
    "    agent_type='Structured', \n",
    "    model=model, \n",
    "    tools_model=model,\n",
    "    use_memory=False, \n",
    "    top_k_tools=\"all\"\n",
    ")\n",
    "print(\"LLM: \", mda.llm.model_name,\"\\nTemperature: \", mda.llm.temperature)"
   ]
  },
  {
   "cell_type": "code",
   "execution_count": null,
   "id": "ad2f6f66-e6b8-4244-b908-68fbebbf6e8b",
   "metadata": {},
   "outputs": [],
   "source": [
    "prompt = '''Simulate 1MBN in water and in methanol solutions.'''\n",
    "answer = mda.run(prompt)"
   ]
  },
  {
   "cell_type": "code",
   "execution_count": null,
   "id": "a31fd85f-9466-41da-ada4-0b9f86427723",
   "metadata": {},
   "outputs": [],
   "source": [
    "end = datetime.datetime.now()\n",
    "elapsed = end - start\n",
    "print(f\"duration: {elapsed.total_seconds()/60:.2f} minutes\")"
   ]
  },
  {
   "cell_type": "code",
   "execution_count": null,
   "id": "1c69c417-e7a3-48cf-bb3e-46a52ea8e710",
   "metadata": {},
   "outputs": [],
   "source": [
    "registry = mda.path_registry\n",
    "all_names = registry.list_path_names()\n",
    "print(all_names)"
   ]
  },
  {
   "cell_type": "markdown",
   "id": "0e3cb28f-f60d-467b-8aa8-1842046d46d5",
   "metadata": {},
   "source": [
    "# Experiment Result:\n",
    "\n",
    "1. Completed without Exception or TimeOut Errors ✅\n",
    "2. Attempted all necessary steps ❌\n",
    "3. No hallucination ❌\n",
    "4. Logic make sense ❌\n",
    "5. Correct Answer ❌\n",
    "6. Number of steps completed: 0️⃣\n",
    "7. % steps completed: 0️⃣%"
   ]
  },
  {
   "cell_type": "code",
   "execution_count": null,
   "id": "08505bf4-7d5a-4e4d-b895-5e69172d869f",
   "metadata": {},
   "outputs": [],
   "source": []
  }
 ],
 "metadata": {
  "kernelspec": {
   "display_name": "mdagent",
   "language": "python",
   "name": "mdagent"
  },
  "language_info": {
   "codemirror_mode": {
    "name": "ipython",
    "version": 3
   },
   "file_extension": ".py",
   "mimetype": "text/x-python",
   "name": "python",
   "nbconvert_exporter": "python",
   "pygments_lexer": "ipython3",
   "version": "3.12.4"
  }
 },
 "nbformat": 4,
 "nbformat_minor": 5
}
