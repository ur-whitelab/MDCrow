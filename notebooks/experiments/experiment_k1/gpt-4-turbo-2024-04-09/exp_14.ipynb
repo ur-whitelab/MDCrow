{
 "cells": [
  {
   "cell_type": "code",
   "execution_count": null,
   "id": "8ff706fd-c267-4d05-af58-9a3848cce8ff",
   "metadata": {},
   "outputs": [],
   "source": [
    "from mdagent import MDAgent"
   ]
  },
  {
   "cell_type": "code",
   "execution_count": null,
   "id": "02c5c1ac-426e-44fa-90d2-8dd1a1eefe9c",
   "metadata": {},
   "outputs": [],
   "source": [
    "#todays date and time\n",
    "import datetime\n",
    "\n",
    "start = datetime.datetime.now()\n",
    "date = start.strftime(\"%Y-%m-%d\")\n",
    "print(\"date:\",date)\n",
    "time = start.strftime(\"%H:%M:%S\")\n",
    "print(\"time:\",time)"
   ]
  },
  {
   "cell_type": "code",
   "execution_count": null,
   "id": "f62bfc17-854b-4152-bb82-7e9e0ec4b854",
   "metadata": {},
   "outputs": [],
   "source": [
    "model='gpt-4-turbo-2024-04-09'\n",
    "mda = MDAgent(\n",
    "    agent_type='Structured', \n",
    "    model=model, \n",
    "    tools_model=model,\n",
    "    use_memory=False, \n",
    "    top_k_tools=\"all\"\n",
    ")\n",
    "print(\"LLM: \", mda.llm.model_name,\"\\nTemperature: \", mda.llm.temperature)"
   ]
  },
  {
   "cell_type": "code",
   "execution_count": null,
   "id": "ad2f6f66-e6b8-4244-b908-68fbebbf6e8b",
   "metadata": {},
   "outputs": [],
   "source": [
    "prompt = '''Compare the RMSF of 1UBQ at high pressure and low pressure. \n",
    "Perform the simulation for 1 ns and vary only the pressure.'''\n",
    "answer = mda.run(prompt)"
   ]
  },
  {
   "cell_type": "code",
   "execution_count": null,
   "id": "a31fd85f-9466-41da-ada4-0b9f86427723",
   "metadata": {},
   "outputs": [],
   "source": [
    "end = datetime.datetime.now()\n",
    "elapsed = end - start\n",
    "print(f\"duration: {elapsed.total_seconds()/60:.2f} minutes\")"
   ]
  },
  {
   "cell_type": "markdown",
   "id": "60aa4648-6eee-4661-91fc-eebdcb2dc390",
   "metadata": {},
   "source": [
    "# Confirms files are made or downloaded"
   ]
  },
  {
   "cell_type": "code",
   "execution_count": null,
   "id": "ef004eff-6853-42b2-ae3d-20913a20354a",
   "metadata": {},
   "outputs": [],
   "source": [
    "registry = mda.path_registry\n",
    "all_names = registry.list_path_names()\n",
    "print(all_names)"
   ]
  },
  {
   "cell_type": "code",
   "execution_count": null,
   "id": "ffc8fd78-9cb4-4ce0-bbdc-5eb9ca6cb28f",
   "metadata": {},
   "outputs": [],
   "source": [
    "# # ensure all files exist\n",
    "# file_ids = [....]\n",
    "# assert all(f in all_names for f in file_ids), \"Not all file ids are present in path registry\"\n",
    "\n",
    "# for f in file_ids:\n",
    "#     match = re.search(rf\"{f}_\\d+\", all_names)\n",
    "#     if match is None: \n",
    "#         print(f\"this file id {f} is not in path registry\")\n",
    "#     file_id = match.group(0)\n",
    "#     path = registry.get_mapped_path(file_id)\n",
    "#     if not os.path.exists(path):\n",
    "#         print(f\"the file for {file_id} doesn't exist\")"
   ]
  },
  {
   "cell_type": "code",
   "execution_count": null,
   "id": "a520d2bc-65c2-421c-b64a-890bb49a1f06",
   "metadata": {},
   "outputs": [],
   "source": [
    "# print parameters for both simulations (from files or agent output)"
   ]
  },
  {
   "cell_type": "code",
   "execution_count": null,
   "id": "b57157c0-9e63-4f35-8f8f-8d8e2fd772ca",
   "metadata": {},
   "outputs": [],
   "source": [
    "# print rmsf inputs from output, match them with two trajs"
   ]
  },
  {
   "cell_type": "markdown",
   "id": "adc2562f-ae0b-4c27-95d1-3da04f9e5919",
   "metadata": {},
   "source": [
    "# Experiment Result:\n",
    "\n",
    "1. Completed without Exception or TimeOut Errors ✅\n",
    "2. Attempted all necessary steps ❌\n",
    "3. No hallucination ❌\n",
    "4. Logic make sense ❌\n",
    "5. Correct Answer ❌\n",
    "6. Number of steps completed: 0️⃣\n",
    "7. % steps completed: 0️⃣%"
   ]
  }
 ],
 "metadata": {
  "kernelspec": {
   "display_name": "mdagent",
   "language": "python",
   "name": "mdagent"
  },
  "language_info": {
   "codemirror_mode": {
    "name": "ipython",
    "version": 3
   },
   "file_extension": ".py",
   "mimetype": "text/x-python",
   "name": "python",
   "nbconvert_exporter": "python",
   "pygments_lexer": "ipython3",
   "version": "3.12.4"
  }
 },
 "nbformat": 4,
 "nbformat_minor": 5
}
