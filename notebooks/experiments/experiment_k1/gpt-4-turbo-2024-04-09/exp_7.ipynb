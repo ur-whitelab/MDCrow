{
 "cells": [
  {
   "cell_type": "code",
   "execution_count": 1,
   "metadata": {},
   "outputs": [],
   "source": [
    "import datetime\n",
    "import os\n",
    "from mdagent import MDAgent\n",
    "import matplotlib.pyplot as plt"
   ]
  },
  {
   "cell_type": "code",
   "execution_count": 2,
   "metadata": {},
   "outputs": [
    {
     "name": "stdout",
     "output_type": "stream",
     "text": [
      "date and time: 2024-09-09\n",
      "time: 10:31:58\n",
      "LLM:  gpt-4-turbo-2024-04-09 \n",
      "Temperature:  0.1\n"
     ]
    }
   ],
   "source": [
    "prompt7 = \"Simulate 1ZNI for 1 ns at a temperature of 300 K.\"\n",
    "llm_var = \"gpt-4-turbo-2024-04-09\"\n",
    "tools = \"all\"\n",
    "agent = MDAgent(agent_type=\"Structured\", model=llm_var, top_k_tools=tools)\n",
    "now = datetime.datetime.now()\n",
    "date = now.strftime(\"%Y-%m-%d\")\n",
    "print(\"date and time:\",date)\n",
    "time = now.strftime(\"%H:%M:%S\")\n",
    "print(\"time:\",time)\n",
    "print(\"LLM: \",agent.llm.model_name,\"\\nTemperature: \",agent.llm.temperature)"
   ]
  },
  {
   "cell_type": "code",
   "execution_count": 3,
   "metadata": {},
   "outputs": [
    {
     "name": "stdout",
     "output_type": "stream",
     "text": [
      "Thought: To simulate the protein with PDB ID 1ZNI for 1 nanosecond at 300 K, I need to set up and run a molecular dynamics simulation. I will use the SetUpandRunFunction tool to perform this task, specifying the necessary parameters for the simulation.\n",
      "\n",
      "Action:\n",
      "```json\n",
      "{\n",
      "    \"action\": \"SetUpandRunFunction\",\n",
      "    \"action_input\": {\n",
      "        \"pdb_id\": \"1ZNI\",\n",
      "        \"forcefield_files\": [\"amber99sb.xml\", \"tip3p.xml\"],\n",
      "        \"save\": true,\n",
      "        \"system_params\": {\n",
      "            \"nonbondedMethod\": \"PME\",\n",
      "            \"nonbondedCutoff\": \"1 * nanometers\",\n",
      "            \"constraints\": \"HBonds\",\n",
      "            \"rigidWater\": true,\n",
      "            \"solvate\": true\n",
      "        },\n",
      "        \"integrator_params\": {\n",
      "            \"integrator_type\": \"LangevinMiddle\",\n",
      "            \"Temperature\": \"300 * kelvin\",\n",
      "            \"Friction\": \"1.0 / picoseconds\",\n",
      "            \"Timestep\": \"0.002 * picoseconds\"\n",
      "        },\n",
      "        \"simulation_params\": {\n",
      "            \"Ensemble\": \"NVT\",\n",
      "            \"Number of Steps\": 500000,\n",
      "            \"record_interval_steps\": 5000,\n",
      "            \"record_params\": [\"step\", \"potentialEnergy\", \"temperature\"]\n",
      "        }\n",
      "    }\n",
      "}\n",
      "```Setting default ewaldErrorTolerance: 0.0005 \n",
      "error found: constraintTolerance must be specified if rigidWater is True\n",
      " Correct this and try again. \n",
      " Everthing else is fine\n",
      "To successfully simulate the protein with PDB ID 1ZNI for 1 nanosecond at 300 K, I need to correct the previous setup by specifying the constraintTolerance parameter, as it is required when rigidWater is set to True. I will adjust the system parameters accordingly and rerun the simulation using the SetUpandRunFunction tool.\n",
      "\n",
      "Action:\n",
      "```json\n",
      "{\n",
      "    \"action\": \"SetUpandRunFunction\",\n",
      "    \"action_input\": {\n",
      "        \"pdb_id\": \"1ZNI\",\n",
      "        \"forcefield_files\": [\"amber99sb.xml\", \"tip3p.xml\"],\n",
      "        \"save\": true,\n",
      "        \"system_params\": {\n",
      "            \"nonbondedMethod\": \"PME\",\n",
      "            \"nonbondedCutoff\": \"1 * nanometers\",\n",
      "            \"constraints\": \"HBonds\",\n",
      "            \"rigidWater\": true,\n",
      "            \"solvate\": true,\n",
      "            \"constraintTolerance\": \"0.00001\"\n",
      "        },\n",
      "        \"integrator_params\": {\n",
      "            \"integrator_type\": \"LangevinMiddle\",\n",
      "            \"Temperature\": \"300 * kelvin\",\n",
      "            \"Friction\": \"1.0 / picoseconds\",\n",
      "            \"Timestep\": \"0.002 * picoseconds\"\n",
      "        },\n",
      "        \"simulation_params\": {\n",
      "            \"Ensemble\": \"NVT\",\n",
      "            \"Number of Steps\": 500000,\n",
      "            \"record_interval_steps\": 5000,\n",
      "            \"record_params\": [\"step\", \"potentialEnergy\", \"temperature\"]\n",
      "        }\n",
      "    }\n",
      "}\n",
      "```Setting default ewaldErrorTolerance: 0.0005 \n",
      "To successfully simulate the protein with PDB ID 1ZNI for 1 nanosecond at 300 K, I need to first download the PDB file for 1ZNI using the PDBFileDownloader tool. This will provide me with the file ID necessary to use in the SetUpandRunFunction tool.\n",
      "\n",
      "Action:\n",
      "```json\n",
      "{\n",
      "    \"action\": \"PDBFileDownloader\",\n",
      "    \"action_input\": {\n",
      "        \"query\": \"1ZNI\"\n",
      "    }\n",
      "}\n",
      "```PDB file found with this ID: 1ZNI\n",
      "Now that I have successfully downloaded the PDB file for 1ZNI with the file ID \"1ZNI_103236\", I can proceed to set up and run the molecular dynamics simulation using the correct file ID. I will use the SetUpandRunFunction tool again, this time with the correct file ID and the previously determined parameters, ensuring that all necessary conditions such as temperature, constraints, and solvation are properly configured.\n",
      "\n",
      "Action:\n",
      "```json\n",
      "{\n",
      "    \"action\": \"SetUpandRunFunction\",\n",
      "    \"action_input\": {\n",
      "        \"pdb_id\": \"1ZNI_103236\",\n",
      "        \"forcefield_files\": [\"amber99sb.xml\", \"tip3p.xml\"],\n",
      "        \"save\": true,\n",
      "        \"system_params\": {\n",
      "            \"nonbondedMethod\": \"PME\",\n",
      "            \"nonbondedCutoff\": \"1 * nanometers\",\n",
      "            \"constraints\": \"HBonds\",\n",
      "            \"rigidWater\": true,\n",
      "            \"solvate\": true,\n",
      "            \"constraintTolerance\": \"0.00001\"\n",
      "        },\n",
      "        \"integrator_params\": {\n",
      "            \"integrator_type\": \"LangevinMiddle\",\n",
      "            \"Temperature\": \"300 * kelvin\",\n",
      "            \"Friction\": \"1.0 / picoseconds\",\n",
      "            \"Timestep\": \"0.002 * picoseconds\"\n",
      "        },\n",
      "        \"simulation_params\": {\n",
      "            \"Ensemble\": \"NVT\",\n",
      "            \"Number of Steps\": 500000,\n",
      "            \"record_interval_steps\": 5000,\n",
      "            \"record_params\": [\"step\", \"potentialEnergy\", \"temperature\"]\n",
      "        }\n",
      "    }\n",
      "}\n",
      "```Setting default ewaldErrorTolerance: 0.0005 \n",
      "Building system...\n",
      "About to create system...\n",
      "Attempts at creating system: 0/3\n",
      "Error adding solvent ValueError – No template found for residue 1 (GLY).  The set of atoms is similar to GLY, but it is missing 3 hydrogen atoms.  For more information, see https://github.com/openmm/openmm/wiki/Frequently-Asked-Questions#template\n",
      "Residue code: GLY\n",
      "Residue code not in solvent list. Adding forcefield                         not supported.\n",
      "To successfully simulate the protein with PDB ID 1ZNI for 1 nanosecond at 300 K, I need to address the issue of missing hydrogen atoms in the PDB file. I will use the CleaningToolFunction to add the missing hydrogen atoms, replace nonstandard residues, and prepare the file properly for simulation.\n",
      "\n",
      "Action:\n",
      "```json\n",
      "{\n",
      "    \"action\": \"CleaningToolFunction\",\n",
      "    \"action_input\": {\n",
      "        \"pdb_id\": \"1ZNI_103236\",\n",
      "        \"replace_nonstandard_residues\": true,\n",
      "        \"add_missing_atoms\": true,\n",
      "        \"remove_heterogens\": true,\n",
      "        \"remove_water\": true,\n",
      "        \"add_hydrogens\": true,\n",
      "        \"add_hydrogens_ph\": 7.0\n",
      "    }\n",
      "}\n",
      "```file path: /Users/jorgemedina/Desktop/md-agent/ckpt/ckpt_322/pdb/1ZNI_raw_20240909_103236.pdb\n",
      "Now that the PDB file for 1ZNI has been successfully cleaned and prepared with the file ID \"1ZNI_103300\", I can proceed to set up and run the molecular dynamics simulation using the corrected file ID. I will use the SetUpandRunFunction tool again, ensuring that all necessary conditions such as temperature, constraints, and solvation are properly configured with the cleaned file.\n",
      "\n",
      "Action:\n",
      "```json\n",
      "{\n",
      "    \"action\": \"SetUpandRunFunction\",\n",
      "    \"action_input\": {\n",
      "        \"pdb_id\": \"1ZNI_103300\",\n",
      "        \"forcefield_files\": [\"amber99sb.xml\", \"tip3p.xml\"],\n",
      "        \"save\": true,\n",
      "        \"system_params\": {\n",
      "            \"nonbondedMethod\": \"PME\",\n",
      "            \"nonbondedCutoff\": \"1 * nanometers\",\n",
      "            \"constraints\": \"HBonds\",\n",
      "            \"rigidWater\": true,\n",
      "            \"solvate\": true,\n",
      "            \"constraintTolerance\": \"0.00001\"\n",
      "        },\n",
      "        \"integrator_params\": {\n",
      "            \"integrator_type\": \"LangevinMiddle\",\n",
      "            \"Temperature\": \"300 * kelvin\",\n",
      "            \"Friction\": \"1.0 / picoseconds\",\n",
      "            \"Timestep\": \"0.002 * picoseconds\"\n",
      "        },\n",
      "        \"simulation_params\": {\n",
      "            \"Ensemble\": \"NVT\",\n",
      "            \"Number of Steps\": 500000,\n",
      "            \"record_interval_steps\": 5000,\n",
      "            \"record_params\": [\"step\", \"potentialEnergy\", \"temperature\"]\n",
      "        }\n",
      "    }\n",
      "}\n",
      "```Setting default ewaldErrorTolerance: 0.0005 \n",
      "Building system...\n",
      "About to create system...\n",
      "Attempts at creating system: 0/3\n",
      "System built successfully\n",
      "<openmm.openmm.System; proxy of <Swig Object of type 'OpenMM::System *' at 0x301a23f90> >\n",
      "Setting up integrator...\n",
      "Creating simulation...\n",
      "simulation set!\n",
      "Performing energy minimization...\n",
      "Minimization complete!\n",
      "Initial Positions saved to initial_positions.pdb\n",
      "Equilibrating...\n",
      "Simulating...\n",
      "Done!\n",
      "Standalone simulation script written to /Users/jorgemedina/Desktop/md-agent/ckpt/ckpt_322/simulations/NVT_1ZNI_103300_20240909_103311.py\n",
      "['exp_11.ipynb', 'TRAJ_sim0_104637_1TRN_104626_20240909_104657.dcd', 'LOG_sim0_103311_1ZNI_103300_20240909_103315.txt', 'exp_13.ipynb', 'exp_22_gpt-4-turbo-2024-04-09.out', 'TOP_sim0_102718_1XQ8_102708_20240909_102752.pdb', 'exp_9.ipynb', 'exp_17.ipynb', 'exp_3_gpt-4-turbo-2024-04-09.out', 'exp_15.ipynb', 'exp_24_gpt-4-turbo-2024-04-09.out', 'exp_2_gpt-4-turbo-2024-04-09.out', 'exp_12.ipynb', 'exp_2_gpt-4-turbo-2024-04-09 1.out', 'exp_10.ipynb', 'TRAJ_sim0_103311_1ZNI_103300_20240909_103315.dcd', 'exp_14.ipynb', 'exp_5_gpt-4-turbo-2024-04-09.out', 'exp_16.ipynb', 'exp_8.ipynb', 'LOG_sim0_104637_1TRN_104626_20240909_104657.txt', 'exp_23_gpt-4-turbo-2024-04-09.out', 'TOP_sim0_103647_1ZNI_103634_20240909_103655.pdb', 'exp_16_gpt-4-turbo-2024-04-09.out', 'TRAJ_sim0_102718_1XQ8_102708_20240909_102752.dcd', 'exp_4.ipynb', 'exp_18.ipynb', 'exp_6.ipynb', 'LOG_sim0_103647_1ZNI_103634_20240909_103655.txt', 'exp_21.ipynb', 'exp_2.ipynb', 'TOP_sim0_104637_1TRN_104626_20240909_104657.pdb', 'exp_23.ipynb', 'exp_7.ipynb', 'exp_19.ipynb', 'exp_24.ipynb', 'TOP_sim0_103311_1ZNI_103300_20240909_103315.pdb', 'exp_19_gpt-4-turbo-2024-04-09.out', 'exp_25 copy.ipynb', 'TRAJ_sim0_103647_1ZNI_103634_20240909_103655.dcd', 'exp_6_gpt-4-turbo-2024-04-09.out', 'exp_5.ipynb', 'exp_22.ipynb', 'exp_1.ipynb', 'LOG_sim0_102718_1XQ8_102708_20240909_102752.txt', 'exp_3.ipynb', 'exp_20.ipynb']\n",
      "Final Answer: The molecular dynamics simulation of the protein with PDB ID 1ZNI for 1 nanosecond at 300 K has been successfully completed. The simulation involved several steps including downloading the PDB file, cleaning it to add missing hydrogen atoms and remove heterogens, and setting up the simulation with appropriate parameters for temperature, solvation, and constraints. The simulation produced a trajectory, a state log, and PDB frames, which are saved under the following IDs: 'rec0_103315', 'rec1_103315', and 'rec2_103315'. A standalone script for the simulation was also created with the ID 'sim0_103311', and the initial topology file is saved under 'top_sim0_103311' in the files/pdb/ directory."
     ]
    },
    {
     "data": {
      "text/plain": [
       "({'input': '\\n    You are an expert molecular dynamics scientist, and\\n    your task is to respond to the question or\\n    solve the problem to the best of your ability using\\n    the provided tools.\\n\\n    You can only respond with a single complete\\n    \\'Thought, Action, Action Input\\' format\\n    OR a single \\'Final Answer\\' format.\\n\\n    Complete format:\\n    Thought: (reflect on your progress and decide what to do next)\\n    Action:\\n    ```\\n    {\\n        \"action\": (the action name, it should be the name of a tool),\\n        \"action_input\": (the input string for the action)\\n    }\\n    \\'\\'\\'\\n\\n    OR\\n\\n    Final Answer: (the final response to the original input\\n    question, once all steps are complete)\\n\\n    You are required to use the tools provided,\\n    using the most specific tool\\n    available for each action.\\n    Your final answer should contain all information\\n    necessary to answer the question and its subquestions.\\n    Before you finish, reflect on your progress and make\\n    sure you have addressed the question in its entirety.\\n\\n    If you are asked to continue\\n    or reference previous runs,\\n    the context will be provided to you.\\n    If context is provided, you should assume\\n    you are continuing a chat.\\n\\n    Here is the input:\\n    Previous Context: None\\n    Question: Simulate 1ZNI for 1 ns at a temperature of 300 K. ',\n",
       "  'output': \"Final Answer: The molecular dynamics simulation of the protein with PDB ID 1ZNI for 1 nanosecond at 300 K has been successfully completed. The simulation involved several steps including downloading the PDB file, cleaning it to add missing hydrogen atoms and remove heterogens, and setting up the simulation with appropriate parameters for temperature, solvation, and constraints. The simulation produced a trajectory, a state log, and PDB frames, which are saved under the following IDs: 'rec0_103315', 'rec1_103315', and 'rec2_103315'. A standalone script for the simulation was also created with the ID 'sim0_103311', and the initial topology file is saved under 'top_sim0_103311' in the files/pdb/ directory.\"},\n",
       " '7FOIXQZD')"
      ]
     },
     "execution_count": 3,
     "metadata": {},
     "output_type": "execute_result"
    }
   ],
   "source": [
    "agent.run(prompt7)"
   ]
  },
  {
   "cell_type": "code",
   "execution_count": 4,
   "metadata": {},
   "outputs": [
    {
     "name": "stdout",
     "output_type": "stream",
     "text": [
      "Files found in registry: 1ZNI_103236: PDB file downloaded from RSCB, PDBFile ID: 1ZNI_103236, 1ZNI_103300: Cleaned File:  Removed Heterogens, and Water Removed.  Replaced Nonstandard Residues. Added Hydrogens at pH 7.0. Missing Atoms Added and replaces nonstandard residues. , top_sim0_103311: Initial positions for simulation sim0_103311, sim0_103311: Basic Simulation of Protein 1ZNI_103300, rec0_103315: Simulation trajectory for protein 1ZNI_103300 and simulation sim0_103311, rec1_103315: Simulation state log for protein 1ZNI_103300 and simulation sim0_103311, rec2_103315: Simulation pdb frames for protein 1ZNI_103300 and simulation sim0_103311\n"
     ]
    }
   ],
   "source": [
    "registry = agent.path_registry\n",
    "print(registry.list_path_names_and_descriptions())"
   ]
  },
  {
   "cell_type": "code",
   "execution_count": 5,
   "metadata": {},
   "outputs": [
    {
     "name": "stdout",
     "output_type": "stream",
     "text": [
      "date and time: 2024-09-09\n",
      "time: 21:02:33\n"
     ]
    }
   ],
   "source": [
    "now = datetime.datetime.now()\n",
    "date = now.strftime(\"%Y-%m-%d\")\n",
    "print(\"date and time:\",date)\n",
    "time = now.strftime(\"%H:%M:%S\")\n",
    "print(\"time:\",time)"
   ]
  },
  {
   "cell_type": "code",
   "execution_count": 7,
   "metadata": {},
   "outputs": [
    {
     "name": "stdout",
     "output_type": "stream",
     "text": [
      "Files found in registry: 1ZNI_103236: PDB file downloaded from RSCB\n",
      " PDBFile ID: 1ZNI_103236\n",
      " 1ZNI_103300: Cleaned File:  Removed Heterogens\n",
      " and Water Removed.  Replaced Nonstandard Residues. Added Hydrogens at pH 7.0. Missing Atoms Added and replaces nonstandard residues. \n",
      " top_sim0_103311: Initial positions for simulation sim0_103311\n",
      " sim0_103311: Basic Simulation of Protein 1ZNI_103300\n",
      " rec0_103315: Simulation trajectory for protein 1ZNI_103300 and simulation sim0_103311\n",
      " rec1_103315: Simulation state log for protein 1ZNI_103300 and simulation sim0_103311\n",
      " rec2_103315: Simulation pdb frames for protein 1ZNI_103300 and simulation sim0_103311\n"
     ]
    }
   ],
   "source": [
    "registry = agent.path_registry\n",
    "print((\"\\n\").join(registry.list_path_names_and_descriptions().split(\",\")))"
   ]
  },
  {
   "cell_type": "code",
   "execution_count": 8,
   "metadata": {},
   "outputs": [],
   "source": [
    "import os \n",
    "\n",
    "assert os.path.exists(registry.get_mapped_path(\"top_sim0_103311\")) \n",
    "assert os.path.exists(registry.get_mapped_path(\"rec0_103315\"))"
   ]
  },
  {
   "cell_type": "markdown",
   "metadata": {},
   "source": [
    "# Experiment Result:\n",
    "### Completed without Exception or TimeOut Errors ✅\n",
    "### Attempted all necessary steps ✅\n",
    "### No hallucination ✅\n",
    "### Logic make sense ✅\n",
    "### Correct Answer ✅\n",
    "### Number of steps completed: 2\n",
    "### % steps completed: 100%"
   ]
  },
  {
   "cell_type": "code",
   "execution_count": null,
   "metadata": {},
   "outputs": [],
   "source": []
  }
 ],
 "metadata": {
  "kernelspec": {
   "display_name": "mdagent2",
   "language": "python",
   "name": "python3"
  },
  "language_info": {
   "codemirror_mode": {
    "name": "ipython",
    "version": 3
   },
   "file_extension": ".py",
   "mimetype": "text/x-python",
   "name": "python",
   "nbconvert_exporter": "python",
   "pygments_lexer": "ipython3",
   "version": "3.11.9"
  }
 },
 "nbformat": 4,
 "nbformat_minor": 4
}
