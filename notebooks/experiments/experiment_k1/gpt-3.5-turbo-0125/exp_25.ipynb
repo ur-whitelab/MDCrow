{
 "cells": [
  {
   "cell_type": "code",
   "execution_count": 1,
   "metadata": {},
   "outputs": [],
   "source": [
    "import datetime\n",
    "import os\n",
    "from mdagent import MDAgent\n",
    "import matplotlib.pyplot as plt"
   ]
  },
  {
   "cell_type": "code",
   "execution_count": 2,
   "metadata": {},
   "outputs": [
    {
     "name": "stdout",
     "output_type": "stream",
     "text": [
      "date and time: 2024-07-10\n",
      "time: 23:51:04\n",
      "LLM:  gpt-3.5-turbo-0125 \n",
      "Temperature:  0.1\n"
     ]
    }
   ],
   "source": [
    "prompt25 = \"Make an rdf analysis of both oxygenated and deoxygenated hemoglobin structures\"\n",
    "llm_var = \"gpt-3.5-turbo-0125\"\n",
    "tools = \"all\"\n",
    "agent = MDAgent(agent_type=\"Structured\", model=llm_var, top_k_tools=tools)\n",
    "now = datetime.datetime.now()\n",
    "date = now.strftime(\"%Y-%m-%d\")\n",
    "print(\"date and time:\",date)\n",
    "time = now.strftime(\"%H:%M:%S\")\n",
    "print(\"time:\",time)\n",
    "print(\"LLM: \",agent.llm.model_name,\"\\nTemperature: \",agent.llm.temperature)"
   ]
  },
  {
   "cell_type": "code",
   "execution_count": 3,
   "metadata": {},
   "outputs": [
    {
     "name": "stdout",
     "output_type": "stream",
     "text": [
      "Thought: To analyze the radial distribution function (RDF) of both oxygenated and deoxygenated hemoglobin structures, I should use the RDFTool to calculate the RDF with respect to water molecules for each structure.\n",
      "\n",
      "Action: RDFTool\n",
      "Action Input: {\"input\": {\"trajectory_fileid_oxygenated\": \"hemoglobin_oxygenated_traj_file_id\", \"topology_fileid_oxygenated\": \"hemoglobin_oxygenated_top_file_id\", \"trajectory_fileid_deoxygenated\": \"hemoglobin_deoxygenated_traj_file_id\", \"topology_fileid_deoxygenated\": \"hemoglobin_deoxygenated_top_file_id\"}}\n",
      "\n",
      "The agent's initial thought was to analyze the radial distribution function (RDF) of both oxygenated and deoxygenated hemoglobin structures using the RDFTool. The agent took action by inputting the necessary trajectory and topology file IDs for both the oxygenated and deoxygenated hemoglobin structures into the RDFTool. The final solution was to calculate the RDF with respect to water molecules for each structure using the RDFTool.Your run id is:  I94U3MLB\n"
     ]
    },
    {
     "data": {
      "text/plain": [
       "('Thought: To analyze the radial distribution function (RDF) of both oxygenated and deoxygenated hemoglobin structures, I should use the RDFTool to calculate the RDF with respect to water molecules for each structure.\\n\\nAction: RDFTool\\nAction Input: {\"input\": {\"trajectory_fileid_oxygenated\": \"hemoglobin_oxygenated_traj_file_id\", \"topology_fileid_oxygenated\": \"hemoglobin_oxygenated_top_file_id\", \"trajectory_fileid_deoxygenated\": \"hemoglobin_deoxygenated_traj_file_id\", \"topology_fileid_deoxygenated\": \"hemoglobin_deoxygenated_top_file_id\"}}\\n\\n',\n",
       " 'I94U3MLB')"
      ]
     },
     "execution_count": 3,
     "metadata": {},
     "output_type": "execute_result"
    }
   ],
   "source": [
    "agent.run(prompt25)"
   ]
  },
  {
   "cell_type": "code",
   "execution_count": 4,
   "metadata": {},
   "outputs": [
    {
     "name": "stdout",
     "output_type": "stream",
     "text": [
      "date and time: 2024-07-10\n",
      "time: 23:51:08\n",
      "No names found. The JSON file is empty or does not contain name mappings.\n"
     ]
    }
   ],
   "source": [
    "now = datetime.datetime.now()\n",
    "date = now.strftime(\"%Y-%m-%d\")\n",
    "print(\"date and time:\",date)\n",
    "time = now.strftime(\"%H:%M:%S\")\n",
    "print(\"time:\",time)\n",
    "registry = agent.path_registry\n",
    "paths_and_descriptions = registry.list_path_names_and_descriptions()\n",
    "print(\"\\n\".join(paths_and_descriptions.split(\",\")))"
   ]
  },
  {
   "cell_type": "code",
   "execution_count": null,
   "metadata": {},
   "outputs": [],
   "source": [
    "# path_oxygenated = registry.get_mapped_path(\"fig0_231854\")\n",
    "# path_deoxygenated = registry.get_mapped_path(\"fig0_231857\")\n",
    "# assert os.path.exists(path_oxygenated), 'Path not found'\n",
    "# assert os.path.exists(path_deoxygenated), 'Path not found'\n",
    "# assert path_oxygenated != path_deoxygenated, 'Paths are the same'"
   ]
  },
  {
   "cell_type": "markdown",
   "metadata": {},
   "source": [
    "# Experiment Result:\n",
    "### Completed without Exception or TimeOut Errors ✅\n",
    "### Attempted all necessary steps ❌\n",
    "### Logic make sense ❌\n",
    "### Correct Answer  ❌"
   ]
  },
  {
   "cell_type": "markdown",
   "metadata": {},
   "source": []
  }
 ],
 "metadata": {
  "kernelspec": {
   "display_name": "mdagent2",
   "language": "python",
   "name": "python3"
  },
  "language_info": {
   "codemirror_mode": {
    "name": "ipython",
    "version": 3
   },
   "file_extension": ".py",
   "mimetype": "text/x-python",
   "name": "python",
   "nbconvert_exporter": "python",
   "pygments_lexer": "ipython3",
   "version": "3.11.9"
  }
 },
 "nbformat": 4,
 "nbformat_minor": 2
}
