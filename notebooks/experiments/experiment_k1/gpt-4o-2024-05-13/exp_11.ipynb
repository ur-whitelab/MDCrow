{
 "cells": [
  {
   "cell_type": "code",
   "execution_count": null,
   "id": "b0fcba3a",
   "metadata": {},
   "outputs": [],
   "source": [
    "import time \n",
    "time.sleep(4000)"
   ]
  },
  {
   "cell_type": "code",
   "execution_count": null,
   "id": "39451d99-005f-40b2-867e-fb955d63647d",
   "metadata": {},
   "outputs": [],
   "source": [
    "from mdagent import MDAgent"
   ]
  },
  {
   "cell_type": "code",
   "execution_count": null,
   "id": "d808d0af-27f5-4e95-87bf-beb2d72c9108",
   "metadata": {},
   "outputs": [],
   "source": [
    "#todays date and time\n",
    "import datetime\n",
    "\n",
    "start = datetime.datetime.now()\n",
    "date = start.strftime(\"%Y-%m-%d\")\n",
    "print(\"date:\",date)\n",
    "time = start.strftime(\"%H:%M:%S\")\n",
    "print(\"time:\",time)"
   ]
  },
  {
   "cell_type": "code",
   "execution_count": null,
   "id": "82be5f35-3197-49c7-9955-6707529f8691",
   "metadata": {},
   "outputs": [],
   "source": [
    "model='gpt-4o-2024-05-13'"
   ]
  },
  {
   "cell_type": "code",
   "execution_count": null,
   "id": "4b12fdc0-25be-4835-9e70-b3ea299bac9d",
   "metadata": {},
   "outputs": [],
   "source": [
    "mda = MDAgent(\n",
    "    agent_type='Structured', \n",
    "    model=model, \n",
    "    tools_model=model,\n",
    "    use_memory=False, \n",
    "    top_k_tools=\"all\"\n",
    ")\n",
    "\n",
    "print(\"LLM: \", mda.llm.model_name,\"\\nTemperature: \", mda.llm.temperature)"
   ]
  },
  {
   "cell_type": "code",
   "execution_count": null,
   "id": "fe11721e-c775-40d3-9332-9f80820ccc95",
   "metadata": {},
   "outputs": [],
   "source": [
    "prompt = '''Simulate protein 1ZNI at 300K for 1ns and calculate RMSD.'''\n",
    "answer = mda.run(prompt)"
   ]
  },
  {
   "cell_type": "code",
   "execution_count": null,
   "id": "81d4d4a1-091e-49db-8272-33c2a11a984b",
   "metadata": {},
   "outputs": [],
   "source": [
    "end = datetime.datetime.now()\n",
    "elapsed = end - start\n",
    "print(f\"duration: {elapsed.total_seconds()/60:.2f} minutes\")"
   ]
  },
  {
   "cell_type": "markdown",
   "id": "1aab27b9-d320-46b3-805b-b953040b11e2",
   "metadata": {},
   "source": [
    "# Confirm that the file was downloaded and the counts were correct"
   ]
  },
  {
   "cell_type": "code",
   "execution_count": null,
   "id": "0ba860e5-1dd0-4fcc-aa2f-d5e7f975cbae",
   "metadata": {},
   "outputs": [],
   "source": [
    "registry = mda.path_registry\n",
    "all_names = registry.list_path_names()\n",
    "print(all_names)"
   ]
  },
  {
   "cell_type": "code",
   "execution_count": null,
   "id": "88df24af-5df3-421c-96a5-895a09161eb0",
   "metadata": {},
   "outputs": [],
   "source": [
    "# ensure all files are in path registry\n",
    "assert all(n in all_names for n in ['1ZNI', 'rmsd', 'sim0', 'top_sim0', 'fig0']), \"Not all file ids are present in path registry\""
   ]
  },
  {
   "cell_type": "code",
   "execution_count": null,
   "id": "21eb1565-59bf-4c0a-a25a-fbd6feda405e",
   "metadata": {},
   "outputs": [],
   "source": [
    "# let's see if we can't grab the plot\n",
    "import re\n",
    "import os\n",
    "match = re.search(rf\"fig0_\\d+\", all_names)\n",
    "plot_path = registry.get_mapped_path(match.group(0))\n",
    "assert os.path.exists(plot_path)"
   ]
  },
  {
   "cell_type": "code",
   "execution_count": null,
   "id": "ac6db7f4-0d84-4716-a04d-0ccdab56a36f",
   "metadata": {},
   "outputs": [],
   "source": [
    "from IPython.display import Image\n",
    "plot_path = registry.get_mapped_path('fig0_073719')\n",
    "Image(filename=plot_path)"
   ]
  },
  {
   "attachments": {},
   "cell_type": "markdown",
   "id": "790b786b-95e1-4359-a76b-55c20b4cb261",
   "metadata": {},
   "source": [
    "# Experiment Result:\n",
    "### Completed without Exception or TimeOut Errors ✅\n",
    "### Attempted all necessary steps ✅\n",
    "### Logic make sense ✅\n",
    "### Correct Answer  ✅"
   ]
  },
  {
   "cell_type": "markdown",
   "id": "7d032e29",
   "metadata": {},
   "source": []
  }
 ],
 "metadata": {
  "kernelspec": {
   "display_name": "mdagent2",
   "language": "python",
   "name": "python3"
  },
  "language_info": {
   "codemirror_mode": {
    "name": "ipython",
    "version": 3
   },
   "file_extension": ".py",
   "mimetype": "text/x-python",
   "name": "python",
   "nbconvert_exporter": "python",
   "pygments_lexer": "ipython3",
   "version": "3.11.9"
  }
 },
 "nbformat": 4,
 "nbformat_minor": 5
}
