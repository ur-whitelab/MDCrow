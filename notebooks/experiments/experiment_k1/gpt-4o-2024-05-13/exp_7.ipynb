{
 "cells": [
  {
   "cell_type": "code",
   "execution_count": 2,
   "metadata": {},
   "outputs": [],
   "source": [
    "import datetime\n",
    "import os\n",
    "from mdagent import MDAgent\n",
    "import matplotlib.pyplot as plt"
   ]
  },
  {
   "cell_type": "code",
   "execution_count": 3,
   "metadata": {},
   "outputs": [
    {
     "name": "stdout",
     "output_type": "stream",
     "text": [
      "date and time: 2024-09-08\n",
      "time: 15:36:01\n",
      "LLM:  gpt-4o-2024-08-06 \n",
      "Temperature:  0.1\n"
     ]
    }
   ],
   "source": [
    "prompt7 = \"Simulate 1ZNI for 1 ns at a temperature of 300 K.\"\n",
    "llm_var = \"gpt-4o-2024-08-06\"\n",
    "tools = \"all\"\n",
    "agent = MDAgent(agent_type=\"Structured\", model=llm_var, top_k_tools=tools,ckpt_dir='ckpt_26')\n",
    "now = datetime.datetime.now()\n",
    "date = now.strftime(\"%Y-%m-%d\")\n",
    "print(\"date and time:\",date)\n",
    "time = now.strftime(\"%H:%M:%S\")\n",
    "print(\"time:\",time)\n",
    "print(\"LLM: \",agent.llm.model_name,\"\\nTemperature: \",agent.llm.temperature)"
   ]
  },
  {
   "cell_type": "code",
   "execution_count": null,
   "metadata": {},
   "outputs": [],
   "source": [
    "# agent.run(prompt7)"
   ]
  },
  {
   "cell_type": "markdown",
   "metadata": {},
   "source": [
    "## Final Answer\n",
    "\n",
    "```json\n",
    "{\n",
    "  \"action\": \"Final Answer\",\n",
    "  \"action_input\": \"The simulation of the protein 1ZNI for 1 ns at a temperature of 300 K has been successfully completed. The simulation trajectory, state log, and PDB frames have been generated. Additionally, a standalone script for the simulation has been written with the ID sim0_110125. The initial topology file is saved with the ID top_sim0_110125 in the files/pdb/ directory.\"\n",
    "}\n",
    "```Files found in registry: 1ZNI_110103: PDB file downloaded from RSCB, PDBFile ID: 1ZNI_110103, 1ZNI_110113: Cleaned File:  Removed Heterogens, and Water Removed.  Replaced Nonstandard Residues. Added Hydrogens at pH 7.0. Missing Atoms Added and replaces nonstandard residues. , top_sim0_110125: Initial positions for simulation sim0_110125, sim0_110125: Basic Simulation of Protein 1ZNI_110113, rec0_110127: Simulation trajectory for protein 1ZNI_110113 and simulation sim0_110125, rec1_110127: Simulation state log for protein 1ZNI_110113 and simulation sim0_110125, rec2_110127: Simulation pdb frames for protein 1ZNI_110113 and simulation sim0_110125 \n",
    "\n",
    "\n",
    "Checkpint directory:  /gpfs/fs2/scratch/jmedina9/mdagent/md-agent/ckpt/ckpt_26"
   ]
  },
  {
   "cell_type": "code",
   "execution_count": 4,
   "metadata": {},
   "outputs": [
    {
     "name": "stdout",
     "output_type": "stream",
     "text": [
      "date and time: 2024-09-08\n",
      "time: 15:36:09\n"
     ]
    }
   ],
   "source": [
    "now = datetime.datetime.now()\n",
    "date = now.strftime(\"%Y-%m-%d\")\n",
    "print(\"date and time:\",date)\n",
    "time = now.strftime(\"%H:%M:%S\")\n",
    "print(\"time:\",time)"
   ]
  },
  {
   "cell_type": "code",
   "execution_count": 6,
   "metadata": {},
   "outputs": [
    {
     "name": "stdout",
     "output_type": "stream",
     "text": [
      "Files found in registry: 1ZNI_110103: PDB file downloaded from RSCB\n",
      " PDBFile ID: 1ZNI_110103\n",
      " 1ZNI_110113: Cleaned File:  Removed Heterogens\n",
      " and Water Removed.  Replaced Nonstandard Residues. Added Hydrogens at pH 7.0. Missing Atoms Added and replaces nonstandard residues. \n",
      " top_sim0_110125: Initial positions for simulation sim0_110125\n",
      " sim0_110125: Basic Simulation of Protein 1ZNI_110113\n",
      " rec0_110127: Simulation trajectory for protein 1ZNI_110113 and simulation sim0_110125\n",
      " rec1_110127: Simulation state log for protein 1ZNI_110113 and simulation sim0_110125\n",
      " rec2_110127: Simulation pdb frames for protein 1ZNI_110113 and simulation sim0_110125\n"
     ]
    }
   ],
   "source": [
    "registry = agent.path_registry\n",
    "paths_and_descriptions = registry.list_path_names_and_descriptions()\n",
    "print(\"\\n\".join(paths_and_descriptions.split(\",\")))"
   ]
  },
  {
   "cell_type": "code",
   "execution_count": 7,
   "metadata": {},
   "outputs": [],
   "source": [
    "assert os.path.exists(registry.ckpt_dir + registry.get_mapped_path(\"1ZNI_110113\").split(\"ckpt_26\")[1]), \"Checkpoint file not found\"\n",
    "assert os.path.exists(registry.ckpt_dir + registry.get_mapped_path(\"top_sim0_110125\").split(\"ckpt_26\")[1]), \"Checkpoint file not found\"\n",
    "assert os.path.exists(registry.ckpt_dir + registry.get_mapped_path(\"rec0_110127\").split(\"ckpt_26\")[1]), \"Checkpoint file not found\""
   ]
  },
  {
   "cell_type": "markdown",
   "metadata": {},
   "source": [
    "# Experiment Result:\n",
    "### Completed without Exception or TimeOut Errors ✅\n",
    "### Attempted all necessary steps ✅\n",
    "### No Hallucinations ✅ \n",
    "### Logic make sense ✅\n",
    "### Correct Answer  ✅\n",
    "### Number of steps completed: 2\n",
    "### % steps completed: 100%"
   ]
  },
  {
   "cell_type": "code",
   "execution_count": null,
   "metadata": {},
   "outputs": [],
   "source": []
  },
  {
   "cell_type": "code",
   "execution_count": null,
   "metadata": {},
   "outputs": [],
   "source": []
  },
  {
   "cell_type": "code",
   "execution_count": null,
   "metadata": {},
   "outputs": [],
   "source": []
  }
 ],
 "metadata": {
  "kernelspec": {
   "display_name": "mdagent2",
   "language": "python",
   "name": "python3"
  },
  "language_info": {
   "codemirror_mode": {
    "name": "ipython",
    "version": 3
   },
   "file_extension": ".py",
   "mimetype": "text/x-python",
   "name": "python",
   "nbconvert_exporter": "python",
   "pygments_lexer": "ipython3",
   "version": "3.11.9"
  }
 },
 "nbformat": 4,
 "nbformat_minor": 2
}
