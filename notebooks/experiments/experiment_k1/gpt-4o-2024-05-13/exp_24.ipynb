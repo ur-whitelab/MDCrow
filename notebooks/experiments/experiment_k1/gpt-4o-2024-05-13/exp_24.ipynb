{
 "cells": [
  {
   "cell_type": "code",
   "execution_count": 1,
   "metadata": {},
   "outputs": [],
   "source": [
    "import datetime\n",
    "import os\n",
    "from mdagent import MDAgent\n",
    "import matplotlib.pyplot as plt"
   ]
  },
  {
   "cell_type": "code",
   "execution_count": 2,
   "metadata": {},
   "outputs": [
    {
     "name": "stdout",
     "output_type": "stream",
     "text": [
      "date and time: 2024-07-10\n",
      "time: 23:04:46\n",
      "LLM:  gpt-4o-2024-05-13 \n",
      "Temperature:  0.1\n"
     ]
    }
   ],
   "source": [
    "prompt24 = \"Analyze the rdf of the simulation of 1A3N solvated in water\"\n",
    "llm_var = \"gpt-4o-2024-05-13\"\n",
    "tools = \"all\"\n",
    "agent = MDAgent(agent_type=\"Structured\", model=llm_var, top_k_tools=tools)\n",
    "now = datetime.datetime.now()\n",
    "date = now.strftime(\"%Y-%m-%d\")\n",
    "print(\"date and time:\",date)\n",
    "time = now.strftime(\"%H:%M:%S\")\n",
    "print(\"time:\",time)\n",
    "print(\"LLM: \",agent.llm.model_name,\"\\nTemperature: \",agent.llm.temperature)"
   ]
  },
  {
   "cell_type": "code",
   "execution_count": 3,
   "metadata": {},
   "outputs": [
    {
     "name": "stdout",
     "output_type": "stream",
     "text": [
      "Thought: To analyze the radial distribution function (RDF) of the simulation of the protein 1A3N solvated in water, I need to ensure that I have the necessary trajectory and topology files. I will use the RDFTool to perform this analysis.\n",
      "\n",
      "Action:\n",
      "```\n",
      "{\n",
      "  \"action\": \"RDFTool\",\n",
      "  \"action_input\": {\n",
      "    \"input\": {\n",
      "      \"pdb_id\": \"1A3N\"\n",
      "    }\n",
      "  }\n",
      "}\n",
      "```Error in Inputs in RDF tool:  Incorrect Inputs: Trajectory file ID ('trajectory_fileid')is required\n",
      "To analyze the radial distribution function (RDF) of the simulation of the protein 1A3N solvated in water, I need to provide the correct trajectory file ID along with the topology file ID. Let's list the available paths to identify the correct file IDs.\n",
      "\n",
      "Action:\n",
      "```\n",
      "{\n",
      "  \"action\": \"ListRegistryPaths\",\n",
      "  \"action_input\": {\n",
      "    \"paths\": \"paths\"\n",
      "  }\n",
      "}\n",
      "```To analyze the radial distribution function (RDF) of the simulation of the protein 1A3N solvated in water, I need to first download the necessary PDB file and then set up and run a short simulation to generate the required trajectory and topology files. After that, I can use the RDFTool to perform the analysis.\n",
      "\n",
      "Action:\n",
      "```\n",
      "{\n",
      "  \"action\": \"PDBFileDownloader\",\n",
      "  \"action_input\": {\n",
      "    \"query\": \"1A3N\"\n",
      "  }\n",
      "}\n",
      "```PDB file found with this ID: 1A3N\n"
     ]
    },
    {
     "name": "stderr",
     "output_type": "stream",
     "text": [
      "2024-07-10 23:04:54.205 \n",
      "  \u001b[33m\u001b[1mWarning:\u001b[0m to view this Streamlit app on a browser, run it with the following\n",
      "  command:\n",
      "\n",
      "    streamlit run /Users/jorgemedina/miniforge3/envs/mdagent2/lib/python3.11/site-packages/ipykernel_launcher.py [ARGUMENTS]\n"
     ]
    },
    {
     "name": "stdout",
     "output_type": "stream",
     "text": [
      "To proceed with the analysis of the radial distribution function (RDF) for the protein 1A3N solvated in water, I need to set up and run a short simulation to generate the required trajectory and topology files. After that, I can use the RDFTool to perform the analysis.\n",
      "\n",
      "Action:\n",
      "```\n",
      "{\n",
      "  \"action\": \"SetUpandRunFunction\",\n",
      "  \"action_input\": {\n",
      "    \"pdb_id\": \"1A3N_230454\",\n",
      "    \"forcefield_files\": [],\n",
      "    \"save\": true,\n",
      "    \"system_params\": {\n",
      "      \"nonbondedMethod\": \"PME\",\n",
      "      \"nonbondedCutoff\": \"1 * nanometers\",\n",
      "      \"constraints\": \"HBonds\",\n",
      "      \"rigidWater\": true,\n",
      "      \"constraintTolerance\": 0.00001,\n",
      "      \"solvate\": true\n",
      "    },\n",
      "    \"integrator_params\": {\n",
      "      \"integrator_type\": \"LangevinMiddle\",\n",
      "      \"Temperature\": \"300 * kelvin\",\n",
      "      \"Friction\": \"1.0 / picoseconds\",\n",
      "      \"Timestep\": \"0.002 * picoseconds\",\n",
      "      \"Pressure\": \"1.0 * bar\"\n",
      "    },\n",
      "    \"simulation_params\": {\n",
      "      \"Ensemble\": \"NPT\",\n",
      "      \"Number of Steps\": 5000,\n",
      "      \"record_interval_steps\": 100,\n",
      "      \"record_params\": [\"step\", \"potentialEnergy\", \"temperature\"]\n",
      "    }\n",
      "  }\n",
      "}\n",
      "```\n",
      "Setting default ewaldErrorTolerance: 0.0005 \n",
      "Setting default forcefields v2\n",
      "Building system...\n",
      "About to create system...\n",
      "Attempts at creating system: 0/3\n",
      "Error adding solvent ValueError – No template found for residue 1 (VAL).  The set of atoms is similar to PRO, but it is missing 7 hydrogen atoms.  For more information, see https://github.com/openmm/openmm/wiki/Frequently-Asked-Questions#template\n",
      "Residue code: VAL\n",
      "Residue code not in solvent list. Adding forcefield                         not supported.\n",
      "To proceed with the analysis of the radial distribution function (RDF) for the protein 1A3N solvated in water, I need to address the issue with the missing hydrogen atoms in the VAL residue. I will use the CleaningToolFunction to add the missing atoms and hydrogens to the PDB file. After that, I will set up and run the simulation again.\n",
      "\n",
      "Action:\n",
      "```\n",
      "{\n",
      "  \"action\": \"CleaningToolFunction\",\n",
      "  \"action_input\": {\n",
      "    \"pdb_id\": \"1A3N_230454\",\n",
      "    \"replace_nonstandard_residues\": true,\n",
      "    \"add_missing_atoms\": true,\n",
      "    \"remove_heterogens\": true,\n",
      "    \"remove_water\": false,\n",
      "    \"add_hydrogens\": true,\n",
      "    \"add_hydrogens_ph\": 7.0\n",
      "  }\n",
      "}\n",
      "```file path: /Users/jorgemedina/Desktop/md-agent/ckpt/ckpt_107/pdb/1A3N_raw_20240710_230454.pdb\n",
      "To proceed with the analysis of the radial distribution function (RDF) for the protein 1A3N solvated in water, I will now set up and run a short simulation using the cleaned PDB file. This will generate the required trajectory and topology files. After that, I can use the RDFTool to perform the analysis.\n",
      "\n",
      "Action:\n",
      "```\n",
      "{\n",
      "  \"action\": \"SetUpandRunFunction\",\n",
      "  \"action_input\": {\n",
      "    \"pdb_id\": \"1A3N_230519\",\n",
      "    \"forcefield_files\": [],\n",
      "    \"save\": true,\n",
      "    \"system_params\": {\n",
      "      \"nonbondedMethod\": \"PME\",\n",
      "      \"nonbondedCutoff\": \"1 * nanometers\",\n",
      "      \"constraints\": \"HBonds\",\n",
      "      \"rigidWater\": true,\n",
      "      \"constraintTolerance\": 0.00001,\n",
      "      \"solvate\": true\n",
      "    },\n",
      "    \"integrator_params\": {\n",
      "      \"integrator_type\": \"LangevinMiddle\",\n",
      "      \"Temperature\": \"300 * kelvin\",\n",
      "      \"Friction\": \"1.0 / picoseconds\",\n",
      "      \"Timestep\": \"0.002 * picoseconds\",\n",
      "      \"Pressure\": \"1.0 * bar\"\n",
      "    },\n",
      "    \"simulation_params\": {\n",
      "      \"Ensemble\": \"NPT\",\n",
      "      \"Number of Steps\": 5000,\n",
      "      \"record_interval_steps\": 100,\n",
      "      \"record_params\": [\"step\", \"potentialEnergy\", \"temperature\"]\n",
      "    }\n",
      "  }\n",
      "}\n",
      "```Setting default ewaldErrorTolerance: 0.0005 \n",
      "Setting default forcefields v2\n",
      "Building system...\n",
      "About to create system...\n",
      "Attempts at creating system: 0/3\n",
      "System built successfully\n",
      "<openmm.openmm.System; proxy of <Swig Object of type 'OpenMM::System *' at 0x302a899e0> >\n",
      "Setting up integrator...\n",
      "Creating simulation...\n",
      "simulation set!\n",
      "Performing energy minimization...\n",
      "Minimization complete!\n",
      "Initial Positions saved to initial_positions.pdb\n",
      "Equilibrating...\n",
      "Simulating...\n",
      "Done!\n",
      "Standalone simulation script written to /Users/jorgemedina/Desktop/md-agent/ckpt/ckpt_107/simulations/NPT_1A3N_230519_20240710_230525.py\n",
      "['TRAJ_sim0_230525_1A3N_230519_20240710_230532.dcd', 'exp_17.ipynb', 'TOP_sim0_203045_1C3W_203041_20240710_203056.pdb', 'TOP_sim0_210859_2YXF_210850_20240710_210901.pdb', 'LOG_sim0_230525_1A3N_230519_20240710_230532.txt', 'exp_8.ipynb', 'exp_4.ipynb', 'TRAJ_sim0_203045_1C3W_203041_20240710_203056.dcd', 'LOG_sim0_210859_2YXF_210850_20240710_210901.txt', 'exp_25.ipynb', 'exp_18.ipynb', 'exp_6.ipynb', 'exp_21.ipynb', 'exp_2.ipynb', 'exp_23.ipynb', 'TOP_sim0_230525_1A3N_230519_20240710_230532.pdb', 'exp_7.ipynb', 'exp_19.ipynb', 'exp_24.ipynb', 'exp_5.ipynb', 'LOG_sim0_203045_1C3W_203041_20240710_203056.txt', 'TRAJ_sim0_210859_2YXF_210850_20240710_210901.dcd', 'exp_22.ipynb', 'exp_1.ipynb', 'exp_3.ipynb', 'packmol.inp', 'exp_20.ipynb']\n",
      "To analyze the radial distribution function (RDF) of the simulation of the protein 1A3N solvated in water, I now have the necessary trajectory and topology files generated from the simulation. I will use the RDFTool to perform this analysis.\n",
      "\n",
      "Action:\n",
      "```\n",
      "{\n",
      "  \"action\": \"RDFTool\",\n",
      "  \"action_input\": {\n",
      "    \"input\": {\n",
      "      \"trajectory_fileid\": \"rec0_230532\",\n",
      "      \"topology_fileid\": \"top_sim0_230525\"\n",
      "    }\n",
      "  }\n",
      "}\n",
      "```The radial distribution function (RDF) analysis for the simulation of the protein 1A3N solvated in water has been successfully completed. The RDF plot has been generated and is available for review.\n",
      "\n",
      "Final Answer: The RDF analysis for the simulation of the protein 1A3N solvated in water has been successfully completed. The RDF plot has been generated and saved as `fig0_231508`. This plot provides insights into the spatial distribution of water molecules around the protein, which is crucial for understanding solvation effects and protein-water interactions.Prompt: Conduct RDF analysis for the simulation of protein 1A3N solvated in water.\n",
      "\n",
      "Step 1: Gather simulation data for protein 1A3N solvated in water.\n",
      "Step 2: Calculate pair correlation function to determine RDF.\n",
      "Step 3: Generate RDF plot.\n",
      "Step 4: Review and analyze RDF plot.\n",
      "Step 5: Save RDF plot as `fig0_231508`.\n",
      "\n",
      "Final Solution: The RDF analysis for the simulation of the protein 1A3N solvated in water has been successfully completed. The RDF plot has been generated and saved as `fig0_231508`. This plot provides insights into the spatial distribution of water molecules around the protein, which is crucial for understanding solvation effects and protein-water interactions.Your run id is:  5I7VMFV0\n"
     ]
    },
    {
     "data": {
      "text/plain": [
       "('The radial distribution function (RDF) analysis for the simulation of the protein 1A3N solvated in water has been successfully completed. The RDF plot has been generated and is available for review.\\n\\nFinal Answer: The RDF analysis for the simulation of the protein 1A3N solvated in water has been successfully completed. The RDF plot has been generated and saved as `fig0_231508`. This plot provides insights into the spatial distribution of water molecules around the protein, which is crucial for understanding solvation effects and protein-water interactions.',\n",
       " '5I7VMFV0')"
      ]
     },
     "execution_count": 3,
     "metadata": {},
     "output_type": "execute_result"
    }
   ],
   "source": [
    "agent.run(prompt24)"
   ]
  },
  {
   "cell_type": "code",
   "execution_count": 4,
   "metadata": {},
   "outputs": [
    {
     "name": "stdout",
     "output_type": "stream",
     "text": [
      "date and time: 2024-07-10\n",
      "time: 23:15:13\n",
      "Files found in registry: 1A3N_230454: PDB file downloaded from RSCB\n",
      " PDBFile ID: 1A3N_230454\n",
      " 1A3N_230519: Cleaned File:  Removed Heterogens\n",
      " and Water Kept.  Replaced Nonstandard Residues. Added Hydrogens at pH 7.0. Missing Atoms Added and replaces nonstandard residues. \n",
      " top_sim0_230525: Initial positions for simulation sim0_230525\n",
      " sim0_230525: Basic Simulation of Protein 1A3N_230519\n",
      " rec0_230532: Simulation trajectory for protein 1A3N_230519 and simulation sim0_230525\n",
      " rec1_230532: Simulation state log for protein 1A3N_230519 and simulation sim0_230525\n",
      " rec2_230532: Simulation pdb frames for protein 1A3N_230519 and simulation sim0_230525\n",
      " fig0_231508: RDF plot for the trajectory file with id: rec0_230532\n"
     ]
    }
   ],
   "source": [
    "now = datetime.datetime.now()\n",
    "date = now.strftime(\"%Y-%m-%d\")\n",
    "print(\"date and time:\",date)\n",
    "time = now.strftime(\"%H:%M:%S\")\n",
    "print(\"time:\",time)\n",
    "registry = agent.path_registry\n",
    "paths_and_descriptions = registry.list_path_names_and_descriptions()\n",
    "print(\"\\n\".join(paths_and_descriptions.split(\",\")))"
   ]
  },
  {
   "cell_type": "code",
   "execution_count": 6,
   "metadata": {},
   "outputs": [],
   "source": [
    "path_traj = registry.get_mapped_path(\"rec0_230532\")\n",
    "path_top = registry.get_mapped_path(\"top_sim0_230525\")\n",
    "assert os.path.exists(path_traj)\n",
    "assert os.path.exists(path_top)\n",
    "assert path_traj != path_top\n",
    "\n",
    "assert path_traj.endswith(\".dcd\")\n",
    "assert path_top.endswith(\".pdb\")"
   ]
  },
  {
   "cell_type": "code",
   "execution_count": 7,
   "metadata": {},
   "outputs": [
    {
     "name": "stdout",
     "output_type": "stream",
     "text": [
      "Simulation with :24374 for 60 frames. Total time: 0.11800000000000001 ps\n"
     ]
    }
   ],
   "source": [
    "import mdtraj as md\n",
    "traj = md.load(path_traj, top=path_top)\n",
    "print(f\"Simulation with :{traj.n_atoms} for {traj.n_frames} frames. Total time: {traj.time[-1]*0.002} ps\")"
   ]
  },
  {
   "cell_type": "code",
   "execution_count": 12,
   "metadata": {},
   "outputs": [
    {
     "data": {
      "image/png": "[encoded data removed]",
      "text/plain": [
       "<IPython.core.display.Image object>"
      ]
     },
     "execution_count": 12,
     "metadata": {},
     "output_type": "execute_result"
    }
   ],
   "source": [
    "rdf_path = registry.get_mapped_path(\"fig0_231508\")\n",
    "#Disclaimer: Theres a bug in the rdf path saving. The image was created correctly, but the path was not saved correctly.\n",
    "from IPython.display import Image\n",
    "Image(filename=rdf_path)"
   ]
  },
  {
   "cell_type": "markdown",
   "metadata": {},
   "source": [
    "# Experiment Result:\n",
    "### Completed without Exception or TimeOut Errors ✅\n",
    "### Attempted all necessary steps ✅\n",
    "### Logic make sense ✅\n",
    "### Correct Answer  ✅"
   ]
  }
 ],
 "metadata": {
  "kernelspec": {
   "display_name": "mdagent2",
   "language": "python",
   "name": "python3"
  },
  "language_info": {
   "codemirror_mode": {
    "name": "ipython",
    "version": 3
   },
   "file_extension": ".py",
   "mimetype": "text/x-python",
   "name": "python",
   "nbconvert_exporter": "python",
   "pygments_lexer": "ipython3",
   "version": "3.11.9"
  }
 },
 "nbformat": 4,
 "nbformat_minor": 2
}
