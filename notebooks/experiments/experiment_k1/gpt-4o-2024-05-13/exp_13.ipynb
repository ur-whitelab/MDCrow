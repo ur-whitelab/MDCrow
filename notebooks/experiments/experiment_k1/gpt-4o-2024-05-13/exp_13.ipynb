{
 "cells": [
  {
   "cell_type": "code",
   "execution_count": 1,
   "id": "c149e53e",
   "metadata": {},
   "outputs": [],
   "source": [
    "import time\n",
    "time.sleep(7200)"
   ]
  },
  {
   "cell_type": "code",
   "execution_count": 2,
   "id": "8ff706fd-c267-4d05-af58-9a3848cce8ff",
   "metadata": {},
   "outputs": [],
   "source": [
    "from mdagent import MDAgent"
   ]
  },
  {
   "cell_type": "code",
   "execution_count": 3,
   "id": "02c5c1ac-426e-44fa-90d2-8dd1a1eefe9c",
   "metadata": {},
   "outputs": [
    {
     "name": "stdout",
     "output_type": "stream",
     "text": [
      "date: 2024-07-11\n",
      "time: 02:24:59\n"
     ]
    }
   ],
   "source": [
    "#todays date and time\n",
    "import datetime\n",
    "\n",
    "start = datetime.datetime.now()\n",
    "date = start.strftime(\"%Y-%m-%d\")\n",
    "print(\"date:\",date)\n",
    "time = start.strftime(\"%H:%M:%S\")\n",
    "print(\"time:\",time)"
   ]
  },
  {
   "cell_type": "code",
   "execution_count": 4,
   "id": "f62bfc17-854b-4152-bb82-7e9e0ec4b854",
   "metadata": {},
   "outputs": [
    {
     "name": "stdout",
     "output_type": "stream",
     "text": [
      "LLM:  gpt-4o \n",
      "Temperature:  0.1\n"
     ]
    }
   ],
   "source": [
    "model='gpt-4o-2024-05-13'\n",
    "mda = MDAgent(\n",
    "    agent_type='Structured', \n",
    "    model=model, \n",
    "    tools_model=model,\n",
    "    use_memory=False, \n",
    "    top_k_tools=\"all\"\n",
    ")\n",
    "print(\"LLM: \", mda.llm.model_name,\"\\nTemperature: \", mda.llm.temperature)"
   ]
  },
  {
   "cell_type": "code",
   "execution_count": 5,
   "id": "ad2f6f66-e6b8-4244-b908-68fbebbf6e8b",
   "metadata": {},
   "outputs": [
    {
     "name": "stdout",
     "output_type": "stream",
     "text": [
      "Thought: To simulate fibronectin (PDB ID 1FNF) for 1 nanosecond (ns), I need to download the PDB file, set up the simulation parameters, and run the simulation. The appropriate temperature for the simulation will be determined from the literature.\n",
      "\n",
      "Action: \n",
      "```\n",
      "{\n",
      "  \"action\": \"PDBFileDownloader\",\n",
      "  \"action_input\": \"1FNF\"\n",
      "}\n",
      "```PDB file found with this ID: 1FNF\n"
     ]
    },
    {
     "name": "stderr",
     "output_type": "stream",
     "text": [
      "2024-07-11 02:25:03.138 \n",
      "  \u001b[33m\u001b[1mWarning:\u001b[0m to view this Streamlit app on a browser, run it with the following\n",
      "  command:\n",
      "\n",
      "    streamlit run /Users/jorgemedina/miniforge3/envs/mdagent2/lib/python3.11/site-packages/ipykernel_launcher.py [ARGUMENTS]\n"
     ]
    },
    {
     "name": "stdout",
     "output_type": "stream",
     "text": [
      "To proceed with the simulation of fibronectin (PDB ID 1FNF) for 1 nanosecond (ns), I need to determine an appropriate temperature from the literature. Once I have the temperature, I can set up and run the simulation.\n",
      "\n",
      "Action:\n",
      "```\n",
      "{\n",
      "  \"action\": \"LiteratureSearch\",\n",
      "  \"action_input\": \"appropriate temperature for molecular dynamics simulation of fibronectin\"\n",
      "}\n",
      "```\"Optimal temperature for molecular dynamics simulation of fibronectin\"\n",
      "Search: \"Optimal temperature for molecular dynamics simulation of fibronectin\"\n",
      "To proceed with the simulation of fibronectin (PDB ID 1FNF) for 1 nanosecond (ns), I will use a commonly accepted temperature for protein simulations, which is 300 K (27°C). This temperature is widely used in molecular dynamics simulations of proteins.\n",
      "\n",
      "Next, I will set up and run the simulation using the provided PDB file and the specified temperature.\n",
      "\n",
      "Action:\n",
      "```\n",
      "{\n",
      "  \"action\": \"SetUpandRunFunction\",\n",
      "  \"action_input\": {\n",
      "    \"pdb_id\": \"1FNF_022503\",\n",
      "    \"forcefield_files\": [],\n",
      "    \"save\": true,\n",
      "    \"system_params\": {\n",
      "      \"nonbondedMethod\": \"PME\",\n",
      "      \"nonbondedCutoff\": \"1.0 * nanometers\",\n",
      "      \"constraints\": \"HBonds\",\n",
      "      \"rigidWater\": true,\n",
      "      \"constraintTolerance\": \"0.00001\",\n",
      "      \"solvate\": true\n",
      "    },\n",
      "    \"integrator_params\": {\n",
      "      \"integrator_type\": \"LangevinMiddle\",\n",
      "      \"Temperature\": \"300 * kelvin\",\n",
      "      \"Friction\": \"1.0 / picoseconds\",\n",
      "      \"Timestep\": \"0.002 * picoseconds\",\n",
      "      \"Pressure\": \"1.0 * bar\"\n",
      "    },\n",
      "    \"simulation_params\": {\n",
      "      \"Ensemble\": \"NPT\",\n",
      "      \"Number of Steps\": 500000,\n",
      "      \"record_interval_steps\": 5000,\n",
      "      \"record_params\": [\"step\", \"potentialEnergy\", \"temperature\"]\n",
      "    }\n",
      "  }\n",
      "}\n",
      "```Setting default ewaldErrorTolerance: 0.0005 \n",
      "Setting default forcefields v2\n",
      "Building system...\n",
      "About to create system...\n",
      "Attempts at creating system: 0/3\n",
      "Error adding solvent ValueError – No template found for residue 1 (PRO).  The set of atoms is similar to PRO, but it is missing 5 hydrogen atoms.  For more information, see https://github.com/openmm/openmm/wiki/Frequently-Asked-Questions#template\n",
      "Residue code: PRO\n",
      "Residue code not in solvent list. Adding forcefield                         not supported.\n",
      "The simulation setup failed due to missing hydrogen atoms in the PRO residue of the PDB file. To resolve this, I need to clean the PDB file by adding the missing atoms and hydrogens. After cleaning the file, I will proceed with setting up and running the simulation again.\n",
      "\n",
      "Action:\n",
      "```\n",
      "{\n",
      "  \"action\": \"CleaningToolFunction\",\n",
      "  \"action_input\": {\n",
      "    \"pdb_id\": \"1FNF_022503\",\n",
      "    \"replace_nonstandard_residues\": true,\n",
      "    \"add_missing_atoms\": true,\n",
      "    \"remove_heterogens\": true,\n",
      "    \"remove_water\": false,\n",
      "    \"add_hydrogens\": true,\n",
      "    \"add_hydrogens_ph\": 7.0\n",
      "  }\n",
      "}\n",
      "```file path: /Users/jorgemedina/Desktop/md-agent/ckpt/ckpt_122/pdb/1FNF_raw_20240711_022503.pdb\n",
      "The PDB file for fibronectin (PDB ID 1FNF) has been successfully cleaned, and the missing atoms and hydrogens have been added. Now, I will proceed with setting up and running the simulation for 1 nanosecond (ns) using the cleaned PDB file.\n",
      "\n",
      "Action:\n",
      "```\n",
      "{\n",
      "  \"action\": \"SetUpandRunFunction\",\n",
      "  \"action_input\": {\n",
      "    \"pdb_id\": \"1FNF_022524\",\n",
      "    \"forcefield_files\": [],\n",
      "    \"save\": true,\n",
      "    \"system_params\": {\n",
      "      \"nonbondedMethod\": \"PME\",\n",
      "      \"nonbondedCutoff\": \"1.0 * nanometers\",\n",
      "      \"constraints\": \"HBonds\",\n",
      "      \"rigidWater\": true,\n",
      "      \"constraintTolerance\": \"0.00001\",\n",
      "      \"solvate\": true\n",
      "    },\n",
      "    \"integrator_params\": {\n",
      "      \"integrator_type\": \"LangevinMiddle\",\n",
      "      \"Temperature\": \"300 * kelvin\",\n",
      "      \"Friction\": \"1.0 / picoseconds\",\n",
      "      \"Timestep\": \"0.002 * picoseconds\",\n",
      "      \"Pressure\": \"1.0 * bar\"\n",
      "    },\n",
      "    \"simulation_params\": {\n",
      "      \"Ensemble\": \"NPT\",\n",
      "      \"Number of Steps\": 500000,\n",
      "      \"record_interval_steps\": 5000,\n",
      "      \"record_params\": [\"step\", \"potentialEnergy\", \"temperature\"]\n",
      "    }\n",
      "  }\n",
      "}\n",
      "```\n",
      "Setting default ewaldErrorTolerance: 0.0005 \n",
      "Setting default forcefields v2\n",
      "Building system...\n",
      "About to create system...\n",
      "Attempts at creating system: 0/3\n",
      "System built successfully\n",
      "<openmm.openmm.System; proxy of <Swig Object of type 'OpenMM::System *' at 0x16aa90c90> >\n",
      "Setting up integrator...\n",
      "Creating simulation...\n",
      "simulation set!\n",
      "Performing energy minimization...\n",
      "Minimization complete!\n",
      "Initial Positions saved to initial_positions.pdb\n",
      "Equilibrating...\n",
      "Simulating...\n",
      "Done!\n",
      "Standalone simulation script written to /Users/jorgemedina/Desktop/md-agent/ckpt/ckpt_122/simulations/NPT_1FNF_022524_20240711_022529.py\n",
      "['TOP_sim0_022529_1FNF_022524_20240711_022535.pdb', 'LOG_sim0_013025_1ZNI_013020_20240711_013030.txt', 'exp_9.ipynb', 'exp_17.ipynb', 'exp_15.ipynb', 'TOP_sim0_015645_1TRN_015641_20240711_015653.pdb', 'exp_14.ipynb', 'exp_16.ipynb', 'exp_8.ipynb', 'TRAJ_sim0_013025_1ZNI_013020_20240711_013030.dcd', 'LOG_sim0_015645_1TRN_015641_20240711_015653.txt', 'exp_4.ipynb', 'exp_25.ipynb', 'exp_18.ipynb', 'exp_6.ipynb', 'TRAJ_sim0_022529_1FNF_022524_20240711_022535.dcd', 'exp_21.ipynb', 'quinny_exp_10.ipynb', 'exp_2.ipynb', 'quinny_exp_12.ipynb', 'exp_23.ipynb', 'exp_7.ipynb', 'exp_19.ipynb', 'exp_24.ipynb', 'LOG_sim0_022529_1FNF_022524_20240711_022535.txt', 'TOP_sim0_013025_1ZNI_013020_20240711_013030.pdb', 'exp_5.ipynb', 'quinny_exp_13.ipynb', 'exp_22.ipynb', 'exp_1.ipynb', 'TRAJ_sim0_015645_1TRN_015641_20240711_015653.dcd', 'exp_3.ipynb', 'packmol.inp', 'exp_20.ipynb', 'quinny_exp_11.ipynb']\n",
      "The simulation of fibronectin (PDB ID 1FNF) for 1 nanosecond (ns) at 300 K has been successfully completed. The following files have been generated:\n",
      "\n",
      "1. **Simulation trajectory**: rec0_022535\n",
      "2. **Simulation state log**: rec1_022535\n",
      "3. **Simulation PDB frames**: rec2_022535\n",
      "\n",
      "Additionally, a standalone script for reproducing the simulation has been written with the ID: sim0_022529. The initial topology file ID is top_sim0_022529, saved in files/pdb/.\n",
      "\n",
      "Final Answer: The simulation of fibronectin (PDB ID 1FNF) for 1 nanosecond at 300 K has been successfully completed. The generated files include the simulation trajectory, state log, and PDB frames. A standalone script for reproducing the simulation is also available."
     ]
    }
   ],
   "source": [
    "prompt = '''Simulate fibronectin (PDB ID 1FNF) for 1ns. Use an appropriate temperature from literature.'''\n",
    "answer = mda.run(prompt)"
   ]
  },
  {
   "cell_type": "code",
   "execution_count": 6,
   "id": "a31fd85f-9466-41da-ada4-0b9f86427723",
   "metadata": {},
   "outputs": [
    {
     "name": "stdout",
     "output_type": "stream",
     "text": [
      "duration: 382.03 minutes\n"
     ]
    }
   ],
   "source": [
    "end = datetime.datetime.now()\n",
    "elapsed = end - start\n",
    "print(f\"duration: {elapsed.total_seconds()/60:.2f} minutes\")"
   ]
  },
  {
   "cell_type": "code",
   "execution_count": 7,
   "id": "55572852-a00c-498a-a60a-b366dc6a7db5",
   "metadata": {},
   "outputs": [
    {
     "name": "stdout",
     "output_type": "stream",
     "text": [
      "Names found in registry: 1FNF_022503, 1FNF_022524, top_sim0_022529, sim0_022529, rec0_022535, rec1_022535, rec2_022535\n"
     ]
    }
   ],
   "source": [
    "registry = mda.path_registry\n",
    "all_names = registry.list_path_names()\n",
    "print(all_names)"
   ]
  },
  {
   "cell_type": "code",
   "execution_count": 8,
   "id": "e5233722-daa3-457c-9e94-9f3905025270",
   "metadata": {},
   "outputs": [],
   "source": [
    "# ensure all files are in path registry\n",
    "assert all(n in all_names for n in ['1FNF','sim0', 'top_sim0', 'rec0']), \"Not all file ids are present in path registry\""
   ]
  },
  {
   "cell_type": "markdown",
   "id": "59c9a2d8",
   "metadata": {},
   "source": [
    "# Experiment Result:\n",
    "### Completed without Exception or TimeOut Errors ✅\n",
    "### Attempted all necessary steps ✅\n",
    "### Logic make sense ✅\n",
    "### Correct Answer  ✅"
   ]
  },
  {
   "cell_type": "code",
   "execution_count": null,
   "id": "6f8c7c13",
   "metadata": {},
   "outputs": [],
   "source": []
  }
 ],
 "metadata": {
  "kernelspec": {
   "display_name": "mdagent2",
   "language": "python",
   "name": "python3"
  },
  "language_info": {
   "codemirror_mode": {
    "name": "ipython",
    "version": 3
   },
   "file_extension": ".py",
   "mimetype": "text/x-python",
   "name": "python",
   "nbconvert_exporter": "python",
   "pygments_lexer": "ipython3",
   "version": "3.11.9"
  }
 },
 "nbformat": 4,
 "nbformat_minor": 5
}
