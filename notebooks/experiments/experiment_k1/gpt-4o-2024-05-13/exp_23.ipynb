{
 "cells": [
  {
   "cell_type": "code",
   "execution_count": 1,
   "metadata": {},
   "outputs": [],
   "source": [
    "import datetime\n",
    "import os\n",
    "from mdagent import MDAgent\n",
    "import matplotlib.pyplot as plt"
   ]
  },
  {
   "cell_type": "code",
   "execution_count": 2,
   "metadata": {},
   "outputs": [
    {
     "name": "stdout",
     "output_type": "stream",
     "text": [
      "date and time: 2024-07-10\n",
      "time: 22:40:35\n",
      "LLM:  gpt-4o-2024-05-13 \n",
      "Temperature:  0.1\n"
     ]
    }
   ],
   "source": [
    "prompt23 = \"Perform a short simulation of protein 1PQ2\"\n",
    "llm_var = \"gpt-4o-2024-05-13\"\n",
    "tools = \"all\"\n",
    "agent = MDAgent(agent_type=\"Structured\", model=llm_var, top_k_tools=tools)\n",
    "now = datetime.datetime.now()\n",
    "date = now.strftime(\"%Y-%m-%d\")\n",
    "print(\"date and time:\",date)\n",
    "time = now.strftime(\"%H:%M:%S\")\n",
    "print(\"time:\",time)\n",
    "print(\"LLM: \",agent.llm.model_name,\"\\nTemperature: \",agent.llm.temperature)"
   ]
  },
  {
   "cell_type": "code",
   "execution_count": 3,
   "metadata": {},
   "outputs": [
    {
     "name": "stdout",
     "output_type": "stream",
     "text": [
      "Thought: To perform a short simulation of the protein 1PQ2, I will need to set up the simulation parameters, including the forcefield files, system parameters, integrator parameters, and simulation parameters. I will use the `SetUpandRunFunction` tool to accomplish this.\n",
      "\n",
      "Action: \n",
      "```\n",
      "{\n",
      "  \"action\": \"SetUpandRunFunction\",\n",
      "  \"action_input\": {\n",
      "    \"pdb_id\": \"1PQ2\",\n",
      "    \"forcefield_files\": [],\n",
      "    \"save\": true,\n",
      "    \"system_params\": {\n",
      "      \"nonbondedMethod\": \"NoCutoff\",\n",
      "      \"nonbondedCutoff\": \"1 * nanometers\",\n",
      "      \"ewaldErrorTolerance\": null,\n",
      "      \"constraints\": \"None\",\n",
      "      \"rigidWater\": false,\n",
      "      \"constraintTolerance\": null,\n",
      "      \"solvate\": false\n",
      "    },\n",
      "    \"integrator_params\": {\n",
      "      \"integrator_type\": \"LangevinMiddle\",\n",
      "      \"Temperature\": \"300 * kelvin\",\n",
      "      \"Friction\": \"1.0 / picoseconds\",\n",
      "      \"Timestep\": \"0.002 * picoseconds\",\n",
      "      \"Pressure\": \"1.0 * bar\"\n",
      "    },\n",
      "    \"simulation_params\": {\n",
      "      \"Ensemble\": \"NVT\",\n",
      "      \"Number of Steps\": 5000,\n",
      "      \"record_interval_steps\": 100,\n",
      "      \"record_params\": [\"step\", \"potentialEnergy\", \"temperature\"]\n",
      "    }\n",
      "  }\n",
      "}\n",
      "```Setting default forcefields v2\n"
     ]
    },
    {
     "name": "stderr",
     "output_type": "stream",
     "text": [
      "2024-07-10 22:40:41.735 \n",
      "  \u001b[33m\u001b[1mWarning:\u001b[0m to view this Streamlit app on a browser, run it with the following\n",
      "  command:\n",
      "\n",
      "    streamlit run /Users/jorgemedina/miniforge3/envs/mdagent2/lib/python3.11/site-packages/ipykernel_launcher.py [ARGUMENTS]\n"
     ]
    },
    {
     "name": "stdout",
     "output_type": "stream",
     "text": [
      "error found: Invalid ewaldErrorTolerance: float() argument must be a string or a real number, not 'NoneType'. If you are using null or None, just dont include it as part of the parameters.\n",
      "Invalid constraintTolerance: float() argument must be a string or a real number, not 'NoneType'. If constraintTolerance is null or None, just dont include as part of the parameters.\n",
      "\n",
      " Correct this and try again. \n",
      " Everthing else is fine\n",
      "To correct the errors, I will remove the `ewaldErrorTolerance` and `constraintTolerance` parameters from the input since they are not required when set to `None`. I will then proceed to set up and run the simulation again.\n",
      "\n",
      "Action:\n",
      "```\n",
      "{\n",
      "  \"action\": \"SetUpandRunFunction\",\n",
      "  \"action_input\": {\n",
      "    \"pdb_id\": \"1PQ2\",\n",
      "    \"forcefield_files\": [],\n",
      "    \"save\": true,\n",
      "    \"system_params\": {\n",
      "      \"nonbondedMethod\": \"NoCutoff\",\n",
      "      \"nonbondedCutoff\": \"1 * nanometers\",\n",
      "      \"constraints\": \"None\",\n",
      "      \"rigidWater\": false,\n",
      "      \"solvate\": false\n",
      "    },\n",
      "    \"integrator_params\": {\n",
      "      \"integrator_type\": \"LangevinMiddle\",\n",
      "      \"Temperature\": \"300 * kelvin\",\n",
      "      \"Friction\": \"1.0 / picoseconds\",\n",
      "      \"Timestep\": \"0.002 * picoseconds\",\n",
      "      \"Pressure\": \"1.0 * bar\"\n",
      "    },\n",
      "    \"simulation_params\": {\n",
      "      \"Ensemble\": \"NVT\",\n",
      "      \"Number of Steps\": 5000,\n",
      "      \"record_interval_steps\": 100,\n",
      "      \"record_params\": [\"step\", \"potentialEnergy\", \"temperature\"]\n",
      "    }\n",
      "  }\n",
      "}\n",
      "```Setting default forcefields v2\n",
      "To correct the issue, I need to download the PDB file for protein 1PQ2 first and then use the file ID in the simulation setup.\n",
      "\n",
      "Action:\n",
      "```\n",
      "{\n",
      "  \"action\": \"PDBFileDownloader\",\n",
      "  \"action_input\": \"1PQ2\"\n",
      "}\n",
      "```PDB file found with this ID: 1PQ2\n",
      "Now that I have the file ID for the downloaded PDB file (1PQ2_224046), I can proceed to set up and run the simulation using this file ID.\n",
      "\n",
      "Action:\n",
      "```\n",
      "{\n",
      "  \"action\": \"SetUpandRunFunction\",\n",
      "  \"action_input\": {\n",
      "    \"pdb_id\": \"1PQ2_224046\",\n",
      "    \"forcefield_files\": [],\n",
      "    \"save\": true,\n",
      "    \"system_params\": {\n",
      "      \"nonbondedMethod\": \"NoCutoff\",\n",
      "      \"nonbondedCutoff\": \"1 * nanometers\",\n",
      "      \"constraints\": \"None\",\n",
      "      \"rigidWater\": false,\n",
      "      \"solvate\": false\n",
      "    },\n",
      "    \"integrator_params\": {\n",
      "      \"integrator_type\": \"LangevinMiddle\",\n",
      "      \"Temperature\": \"300 * kelvin\",\n",
      "      \"Friction\": \"1.0 / picoseconds\",\n",
      "      \"Timestep\": \"0.002 * picoseconds\",\n",
      "      \"Pressure\": \"1.0 * bar\"\n",
      "    },\n",
      "    \"simulation_params\": {\n",
      "      \"Ensemble\": \"NVT\",\n",
      "      \"Number of Steps\": 5000,\n",
      "      \"record_interval_steps\": 100,\n",
      "      \"record_params\": [\"step\", \"potentialEnergy\", \"temperature\"]\n",
      "    }\n",
      "  }\n",
      "}\n",
      "```Setting default forcefields v2\n",
      "Building system...\n",
      "About to create system...\n",
      "Attempts at creating system: 0/3\n",
      "adding system without solvent\n",
      "Trying to add component to Forcefield...\n",
      "Residue code: LYS\n",
      "Residue code not in solvent list. Adding forcefield                         not supported.\n",
      "The error indicates that there is an issue with the residue template for LYS (Lysine) in the PDB file. To resolve this, I will use the `CleaningToolFunction` to replace nonstandard residues, add missing atoms, and add hydrogens to the PDB file. After cleaning the PDB file, I will attempt to set up and run the simulation again.\n",
      "\n",
      "Action:\n",
      "```\n",
      "{\n",
      "  \"action\": \"CleaningToolFunction\",\n",
      "  \"action_input\": {\n",
      "    \"pdb_id\": \"1PQ2_224046\",\n",
      "    \"replace_nonstandard_residues\": true,\n",
      "    \"add_missing_atoms\": true,\n",
      "    \"remove_heterogens\": true,\n",
      "    \"remove_water\": true,\n",
      "    \"add_hydrogens\": true,\n",
      "    \"add_hydrogens_ph\": 7.0\n",
      "  }\n",
      "}\n",
      "```file path: /Users/jorgemedina/Desktop/md-agent/ckpt/ckpt_106/pdb/1PQ2_raw_20240710_224046.pdb\n",
      "Now that the PDB file has been successfully cleaned and the new file ID is 1PQ2_224116, I will proceed to set up and run the simulation using this cleaned file.\n",
      "\n",
      "Action:\n",
      "```\n",
      "{\n",
      "  \"action\": \"SetUpandRunFunction\",\n",
      "  \"action_input\": {\n",
      "    \"pdb_id\": \"1PQ2_224116\",\n",
      "    \"forcefield_files\": [],\n",
      "    \"save\": true,\n",
      "    \"system_params\": {\n",
      "      \"nonbondedMethod\": \"NoCutoff\",\n",
      "      \"nonbondedCutoff\": \"1 * nanometers\",\n",
      "      \"constraints\": \"None\",\n",
      "      \"rigidWater\": false,\n",
      "      \"solvate\": false\n",
      "    },\n",
      "    \"integrator_params\": {\n",
      "      \"integrator_type\": \"LangevinMiddle\",\n",
      "      \"Temperature\": \"300 * kelvin\",\n",
      "      \"Friction\": \"1.0 / picoseconds\",\n",
      "      \"Timestep\": \"0.002 * picoseconds\",\n",
      "      \"Pressure\": \"1.0 * bar\"\n",
      "    },\n",
      "    \"simulation_params\": {\n",
      "      \"Ensemble\": \"NVT\",\n",
      "      \"Number of Steps\": 5000,\n",
      "      \"record_interval_steps\": 100,\n",
      "      \"record_params\": [\"step\", \"potentialEnergy\", \"temperature\"]\n",
      "    }\n",
      "  }\n",
      "}\n",
      "```\n",
      "Setting default forcefields v2\n",
      "Building system...\n",
      "About to create system...\n",
      "Attempts at creating system: 0/3\n",
      "adding system without solvent\n",
      "System built successfully\n",
      "<openmm.openmm.System; proxy of <Swig Object of type 'OpenMM::System *' at 0x30759dfe0> >\n",
      "Setting up integrator...\n",
      "Creating simulation...\n",
      "simulation set!\n",
      "Performing energy minimization...\n",
      "Minimization complete!\n",
      "Initial Positions saved to initial_positions.pdb\n",
      "Equilibrating...\n",
      "Simulating...\n",
      "Done!\n",
      "Standalone simulation script written to /Users/jorgemedina/Desktop/md-agent/ckpt/ckpt_106/simulations/NVT_1PQ2_224116_20240710_224121.py\n",
      "['exp_17.ipynb', 'TOP_sim0_203045_1C3W_203041_20240710_203056.pdb', 'TOP_sim0_224121_1PQ2_224116_20240710_224123.pdb', 'TOP_sim0_210859_2YXF_210850_20240710_210901.pdb', 'exp_8.ipynb', 'exp_4.ipynb', 'TRAJ_sim0_203045_1C3W_203041_20240710_203056.dcd', 'LOG_sim0_210859_2YXF_210850_20240710_210901.txt', 'exp_25.ipynb', 'exp_18.ipynb', 'TRAJ_sim0_224121_1PQ2_224116_20240710_224123.dcd', 'exp_6.ipynb', 'exp_21.ipynb', 'exp_2.ipynb', 'exp_23.ipynb', 'exp_7.ipynb', 'exp_19.ipynb', 'exp_24.ipynb', 'exp_5.ipynb', 'LOG_sim0_203045_1C3W_203041_20240710_203056.txt', 'TRAJ_sim0_210859_2YXF_210850_20240710_210901.dcd', 'exp_22.ipynb', 'exp_1.ipynb', 'LOG_sim0_224121_1PQ2_224116_20240710_224123.txt', 'exp_3.ipynb', 'packmol.inp', 'exp_20.ipynb']\n",
      "The short simulation of protein 1PQ2 has been successfully completed. Here are the details of the simulation:\n",
      "\n",
      "- **Simulation Trajectory File ID**: rec0_224123\n",
      "- **Simulation State Log File ID**: rec1_224123\n",
      "- **Simulation PDB Frames File ID**: rec2_224123\n",
      "- **Standalone Script File ID**: sim0_224121\n",
      "- **Initial Topology File ID**: top_sim0_224121\n",
      "\n",
      "You can use these file IDs to further analyze the simulation results or to reproduce the simulation using the standalone script.\n",
      "\n",
      "Final Answer: The short simulation of protein 1PQ2 has been successfully completed. The relevant file IDs for the simulation trajectory, state log, PDB frames, standalone script, and initial topology are provided for further analysis or reproduction of the simulation.The agent successfully completed a short simulation of protein 1PQ2. The simulation trajectory file ID is rec0_224123, the simulation state log file ID is rec1_224123, the simulation PDB frames file ID is rec2_224123, the standalone script file ID is sim0_224121, and the initial topology file ID is top_sim0_224121. These file IDs can be used for further analysis or to reproduce the simulation using the standalone script.Your run id is:  WQTUA5RD\n"
     ]
    },
    {
     "data": {
      "text/plain": [
       "('The short simulation of protein 1PQ2 has been successfully completed. Here are the details of the simulation:\\n\\n- **Simulation Trajectory File ID**: rec0_224123\\n- **Simulation State Log File ID**: rec1_224123\\n- **Simulation PDB Frames File ID**: rec2_224123\\n- **Standalone Script File ID**: sim0_224121\\n- **Initial Topology File ID**: top_sim0_224121\\n\\nYou can use these file IDs to further analyze the simulation results or to reproduce the simulation using the standalone script.\\n\\nFinal Answer: The short simulation of protein 1PQ2 has been successfully completed. The relevant file IDs for the simulation trajectory, state log, PDB frames, standalone script, and initial topology are provided for further analysis or reproduction of the simulation.',\n",
       " 'WQTUA5RD')"
      ]
     },
     "execution_count": 3,
     "metadata": {},
     "output_type": "execute_result"
    }
   ],
   "source": [
    "agent.run(prompt23)"
   ]
  },
  {
   "cell_type": "code",
   "execution_count": 4,
   "metadata": {},
   "outputs": [
    {
     "name": "stdout",
     "output_type": "stream",
     "text": [
      "date and time: 2024-07-10\n",
      "time: 22:57:08\n",
      "Files found in registry: 1PQ2_224046: PDB file downloaded from RSCB\n",
      " PDBFile ID: 1PQ2_224046\n",
      " 1PQ2_224116: Cleaned File:  Removed Heterogens\n",
      " and Water Removed.  Replaced Nonstandard Residues. Added Hydrogens at pH 7.0. Missing Atoms Added and replaces nonstandard residues. \n",
      " top_sim0_224121: Initial positions for simulation sim0_224121\n",
      " sim0_224121: Basic Simulation of Protein 1PQ2_224116\n",
      " rec0_224123: Simulation trajectory for protein 1PQ2_224116 and simulation sim0_224121\n",
      " rec1_224123: Simulation state log for protein 1PQ2_224116 and simulation sim0_224121\n",
      " rec2_224123: Simulation pdb frames for protein 1PQ2_224116 and simulation sim0_224121\n"
     ]
    }
   ],
   "source": [
    "now = datetime.datetime.now()\n",
    "date = now.strftime(\"%Y-%m-%d\")\n",
    "print(\"date and time:\",date)\n",
    "time = now.strftime(\"%H:%M:%S\")\n",
    "print(\"time:\",time)\n",
    "registry = agent.path_registry\n",
    "paths_and_descriptions = registry.list_path_names_and_descriptions()\n",
    "print(\"\\n\".join(paths_and_descriptions.split(\",\")))"
   ]
  },
  {
   "cell_type": "code",
   "execution_count": 6,
   "metadata": {},
   "outputs": [
    {
     "name": "stdout",
     "output_type": "stream",
     "text": [
      "Simulation with :15234 for 60 frames. Total time: 0.11800000000000001 ps\n"
     ]
    }
   ],
   "source": [
    "trajectory_path = registry.get_mapped_path(\"rec0_224123\")\n",
    "topology_path = registry.get_mapped_path(\"top_sim0_224121\")\n",
    "assert os.path.exists(trajectory_path), \"Trajectory file not found\"\n",
    "assert os.path.exists(topology_path), \"Topology file not found\"\n",
    "\n",
    "import mdtraj as md\n",
    "traj = md.load(trajectory_path, top=topology_path)\n",
    "print(f\"Simulation with :{traj.n_atoms} for {traj.n_frames} frames. Total time: {traj.time[-1]*0.002} ps\")"
   ]
  },
  {
   "cell_type": "markdown",
   "metadata": {},
   "source": [
    "# Experiment Result:\n",
    "### Completed without Exception or TimeOut Errors ✅  \n",
    "### Attempted all necessary steps ✅  \n",
    "### Logic make sense  ✅  \n",
    "### Correct Answer  ✅  "
   ]
  },
  {
   "cell_type": "markdown",
   "metadata": {},
   "source": []
  }
 ],
 "metadata": {
  "kernelspec": {
   "display_name": "mdagent2",
   "language": "python",
   "name": "python3"
  },
  "language_info": {
   "codemirror_mode": {
    "name": "ipython",
    "version": 3
   },
   "file_extension": ".py",
   "mimetype": "text/x-python",
   "name": "python",
   "nbconvert_exporter": "python",
   "pygments_lexer": "ipython3",
   "version": "3.11.9"
  }
 },
 "nbformat": 4,
 "nbformat_minor": 2
}
