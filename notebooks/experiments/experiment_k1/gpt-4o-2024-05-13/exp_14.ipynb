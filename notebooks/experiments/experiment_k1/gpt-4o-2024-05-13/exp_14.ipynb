{
 "cells": [
  {
   "cell_type": "code",
   "execution_count": 1,
   "metadata": {},
   "outputs": [],
   "source": [
    "import datetime\n",
    "import os\n",
    "from mdagent import MDAgent\n",
    "import matplotlib.pyplot as plt"
   ]
  },
  {
   "cell_type": "code",
   "execution_count": 2,
   "metadata": {},
   "outputs": [
    {
     "name": "stdout",
     "output_type": "stream",
     "text": [
      "date and time: 2024-09-08\n",
      "time: 16:19:14\n",
      "LLM:  gpt-4o-2024-08-06 \n",
      "Temperature:  0.1\n"
     ]
    }
   ],
   "source": [
    "prompt14 = \"Simulate oxygenated hemoglobin (1A3N) and deoxygenated hemoglobin (6BB5).\"\n",
    "llm_var = \"gpt-4o-2024-08-06\"\n",
    "tools = \"all\"\n",
    "agent = MDAgent(agent_type=\"Structured\", model=llm_var, top_k_tools=tools, ckpt_dir=\"ckpt_33\")\n",
    "now = datetime.datetime.now()\n",
    "date = now.strftime(\"%Y-%m-%d\")\n",
    "print(\"date and time:\",date)\n",
    "time = now.strftime(\"%H:%M:%S\")\n",
    "print(\"time:\",time)\n",
    "print(\"LLM: \",agent.llm.model_name,\"\\nTemperature: \",agent.llm.temperature)"
   ]
  },
  {
   "cell_type": "code",
   "execution_count": 3,
   "metadata": {},
   "outputs": [],
   "source": [
    "# agent.run(prompt14)"
   ]
  },
  {
   "cell_type": "markdown",
   "metadata": {},
   "source": [
    "### Final Answer\n",
    "```json\n",
    "{\n",
    "  \"action\": \"Final Answer\",\n",
    "  \"action_input\": \"The simulations for both oxygenated hemoglobin (1A3N) and deoxygenated hemoglobin (6BB5) have been successfully completed. For 1A3N, the simulation trajectory, state log, and PDB frames are available with IDs rec0_110913, rec1_110913, and rec2_110913, respectively. The standalone script for this simulation is saved with ID sim0_110909. For 6BB5, the simulation trajectory, state log, and PDB frames are available with IDs rec0_112702, rec1_112702, and rec2_112702, respectively. The standalone script for this simulation is saved with ID sim0_112655.\"\n",
    "}\n",
    "```\n",
    "\n",
    "\n",
    "Checkpint directory:  /gpfs/fs2/scratch/jmedina9/mdagent/md-agent/ckpt/ckpt_33"
   ]
  },
  {
   "cell_type": "code",
   "execution_count": 4,
   "metadata": {},
   "outputs": [
    {
     "name": "stdout",
     "output_type": "stream",
     "text": [
      "date and time: 2024-09-08\n",
      "time: 16:19:14\n",
      "Files found in registry: 1A3N_110831: PDB file downloaded from RSCB\n",
      " PDBFile ID: 1A3N_110831\n",
      " 6BB5_110833: PDB file downloaded from RSCB\n",
      " PDBFile ID: 6BB5_110833\n",
      " 1A3N_110903: Cleaned File:  Removed Heterogens\n",
      " and Water Removed.  Replaced Nonstandard Residues. Added Hydrogens at pH 7.0. Missing Atoms Added and replaces nonstandard residues. \n",
      " top_sim0_110909: Initial positions for simulation sim0_110909\n",
      " sim0_110909: Basic Simulation of Protein 1A3N_110903\n",
      " rec0_110913: Simulation trajectory for protein 1A3N_110903 and simulation sim0_110909\n",
      " rec1_110913: Simulation state log for protein 1A3N_110903 and simulation sim0_110909\n",
      " rec2_110913: Simulation pdb frames for protein 1A3N_110903 and simulation sim0_110909\n",
      " 6BB5_112650: Cleaned File:  Removed Heterogens\n",
      " and Water Removed.  Replaced Nonstandard Residues. Added Hydrogens at pH 7.0. Missing Atoms Added and replaces nonstandard residues. \n",
      " top_sim0_112655: Initial positions for simulation sim0_112655\n",
      " sim0_112655: Basic Simulation of Protein 6BB5_112650\n",
      " rec0_112702: Simulation trajectory for protein 6BB5_112650 and simulation sim0_112655\n",
      " rec1_112702: Simulation state log for protein 6BB5_112650 and simulation sim0_112655\n",
      " rec2_112702: Simulation pdb frames for protein 6BB5_112650 and simulation sim0_112655\n"
     ]
    }
   ],
   "source": [
    "now = datetime.datetime.now()\n",
    "date = now.strftime(\"%Y-%m-%d\")\n",
    "print(\"date and time:\",date)\n",
    "time = now.strftime(\"%H:%M:%S\")\n",
    "print(\"time:\",time)\n",
    "registry = agent.path_registry\n",
    "paths_and_descriptions = registry.list_path_names_and_descriptions()\n",
    "print(\"\\n\".join(paths_and_descriptions.split(\",\")))"
   ]
  },
  {
   "cell_type": "code",
   "execution_count": 6,
   "metadata": {},
   "outputs": [],
   "source": [
    "assert os.path.exists(registry.ckpt_dir + registry.get_mapped_path(\"6BB5_110833\").split(\"ckpt_33\")[1]), \"Checkpoint file not found\"\n",
    "assert os.path.exists(registry.ckpt_dir + registry.get_mapped_path(\"top_sim0_110909\").split(\"ckpt_33\")[1]), \"Checkpoint file not found\"\n",
    "assert os.path.exists(registry.ckpt_dir + registry.get_mapped_path(\"rec0_110913\").split(\"ckpt_33\")[1]), \"Checkpoint file not found\""
   ]
  },
  {
   "cell_type": "markdown",
   "metadata": {},
   "source": [
    "# Experiment Result:\n",
    "### Completed without Exception or TimeOut Errors ✅\n",
    "### Attempted all necessary steps ✅\n",
    "### Logic make sense ✅\n",
    "### Correct Answer  ✅\n",
    "### Number of steps completed: 4\n",
    "### % steps completed: 100%"
   ]
  },
  {
   "cell_type": "code",
   "execution_count": null,
   "metadata": {},
   "outputs": [],
   "source": []
  }
 ],
 "metadata": {
  "kernelspec": {
   "display_name": "mdagent2",
   "language": "python",
   "name": "python3"
  },
  "language_info": {
   "codemirror_mode": {
    "name": "ipython",
    "version": 3
   },
   "file_extension": ".py",
   "mimetype": "text/x-python",
   "name": "python",
   "nbconvert_exporter": "python",
   "pygments_lexer": "ipython3",
   "version": "3.11.9"
  }
 },
 "nbformat": 4,
 "nbformat_minor": 2
}
