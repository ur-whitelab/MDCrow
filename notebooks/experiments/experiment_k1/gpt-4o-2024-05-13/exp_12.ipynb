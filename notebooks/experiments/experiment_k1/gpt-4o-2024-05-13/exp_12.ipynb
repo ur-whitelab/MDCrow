{
 "cells": [
  {
   "cell_type": "code",
   "execution_count": 1,
   "id": "8ff706fd-c267-4d05-af58-9a3848cce8ff",
   "metadata": {},
   "outputs": [],
   "source": [
    "from mdagent import MDAgent"
   ]
  },
  {
   "cell_type": "code",
   "execution_count": 2,
   "id": "c86c88a1-f5f8-473a-8342-7364252bcfba",
   "metadata": {},
   "outputs": [
    {
     "name": "stdout",
     "output_type": "stream",
     "text": [
      "date: 2024-09-08\n",
      "time: 16:11:42\n"
     ]
    }
   ],
   "source": [
    "#todays date and time\n",
    "import datetime\n",
    "\n",
    "start = datetime.datetime.now()\n",
    "date = start.strftime(\"%Y-%m-%d\")\n",
    "print(\"date:\",date)\n",
    "time = start.strftime(\"%H:%M:%S\")\n",
    "print(\"time:\",time)"
   ]
  },
  {
   "cell_type": "code",
   "execution_count": 5,
   "id": "f62bfc17-854b-4152-bb82-7e9e0ec4b854",
   "metadata": {},
   "outputs": [
    {
     "name": "stdout",
     "output_type": "stream",
     "text": [
      "LLM:  gpt-4o-2024-08-06 \n",
      "Temperature:  0.1\n"
     ]
    }
   ],
   "source": [
    "model='gpt-4o-2024-08-06'\n",
    "mda = MDAgent(\n",
    "    agent_type='Structured', \n",
    "    model=model, \n",
    "    tools_model=model,\n",
    "    use_memory=False, \n",
    "    top_k_tools=\"all\"\n",
    ")\n",
    "print(\"LLM: \", mda.llm.model_name,\"\\nTemperature: \", mda.llm.temperature)"
   ]
  },
  {
   "cell_type": "code",
   "execution_count": 6,
   "id": "ad2f6f66-e6b8-4244-b908-68fbebbf6e8b",
   "metadata": {},
   "outputs": [
    {
     "name": "stdout",
     "output_type": "stream",
     "text": [
      "Thought: To simulate fibronectin (PDB ID 1FNF) for 1 ns, I need to download the PDB file first. Then, I will set up the simulation parameters, including the temperature, which I will obtain from the literature. After setting up the simulation, I will run it using the appropriate tools.\n",
      "\n",
      "Action:\n",
      "```\n",
      "{\n",
      "  \"action\": \"PDBFileDownloader\",\n",
      "  \"action_input\": {\n",
      "    \"query\": \"1FNF\"\n",
      "  }\n",
      "}\n",
      "```PDB file found with this ID: 1FNF\n",
      "To proceed with the simulation of fibronectin (PDB ID 1FNF) for 1 ns, I need to determine an appropriate temperature from the literature. After that, I will set up and run the simulation using the downloaded PDB file.\n",
      "\n",
      "Action:\n",
      "```\n",
      "{\n",
      "  \"action\": \"LiteratureSearch\",\n",
      "  \"action_input\": {\n",
      "    \"query\": \"appropriate temperature for fibronectin molecular dynamics simulation\"\n",
      "  }\n",
      "}\n",
      "```\"Fibronectin molecular dynamics simulation optimal temperature scholarly papers\"\n",
      "Search: \"Fibronectin molecular dynamics simulation optimal temperature scholarly papers\"\n",
      "\n",
      "Found 3 papers but couldn't load 1\n",
      "To proceed with the simulation of fibronectin (PDB ID 1FNF) for 1 ns, I need to determine an appropriate temperature for the simulation. Since the literature search did not yield a specific temperature, I will use a common temperature for protein simulations, which is typically around 300 K (27°C), as it is close to physiological conditions. Now, I will set up and run the simulation using the downloaded PDB file and the chosen temperature.\n",
      "\n",
      "Action:\n",
      "```\n",
      "{\n",
      "  \"action\": \"SetUpandRunFunction\",\n",
      "  \"action_input\": {\n",
      "    \"pdb_id\": \"1FNF_161153\",\n",
      "    \"forcefield_files\": [\"amber99sb.xml\", \"tip3p.xml\"],\n",
      "    \"save\": true,\n",
      "    \"system_params\": {\n",
      "      \"nonbondedMethod\": \"PME\",\n",
      "      \"nonbondedCutoff\": \"1.0 * nanometers\",\n",
      "      \"ewaldErrorTolerance\": \"0.0005\",\n",
      "      \"constraints\": \"HBonds\",\n",
      "      \"rigidWater\": true,\n",
      "      \"constraintTolerance\": \"0.00001\",\n",
      "      \"solvate\": true\n",
      "    },\n",
      "    \"integrator_params\": {\n",
      "      \"integrator_type\": \"LangevinMiddle\",\n",
      "      \"Temperature\": \"300 * kelvin\",\n",
      "      \"Friction\": \"1.0 / picoseconds\",\n",
      "      \"Timestep\": \"0.002 * picoseconds\",\n",
      "      \"Pressure\": \"1.0 * bar\"\n",
      "    },\n",
      "    \"simulation_params\": {\n",
      "      \"Ensemble\": \"NPT\",\n",
      "      \"Number of Steps\": 500000,\n",
      "      \"record_interval_steps\": 5000,\n",
      "      \"record_params\": [\"step\", \"potentialEnergy\", \"temperature\"]\n",
      "    }\n",
      "  }\n",
      "}\n",
      "```Building system...\n",
      "About to create system...\n",
      "Attempts at creating system: 0/3\n",
      "Error adding solvent ValueError – No template found for residue 1 (PRO).  The set of atoms is similar to PRO, but it is missing 5 hydrogen atoms.  For more information, see https://github.com/openmm/openmm/wiki/Frequently-Asked-Questions#template\n",
      "Residue code: PRO\n",
      "Residue code not in solvent list. Adding forcefield                         not supported.\n",
      "To address the issue with missing hydrogen atoms in the PRO residue, I need to clean the PDB file by adding the missing atoms. After cleaning the file, I will attempt to set up and run the simulation again.\n",
      "\n",
      "Action:\n",
      "```json\n",
      "{\n",
      "  \"action\": \"CleaningToolFunction\",\n",
      "  \"action_input\": {\n",
      "    \"pdb_id\": \"1FNF_161153\",\n",
      "    \"replace_nonstandard_residues\": true,\n",
      "    \"add_missing_atoms\": true,\n",
      "    \"remove_heterogens\": true,\n",
      "    \"remove_water\": true,\n",
      "    \"add_hydrogens\": true,\n",
      "    \"add_hydrogens_ph\": 7.0\n",
      "  }\n",
      "}\n",
      "```file path: /Users/jorgemedina/Desktop/md-agent/ckpt/ckpt_313/pdb/1FNF_raw_20240908_161153.pdb\n",
      "To proceed with the simulation of fibronectin (PDB ID 1FNF) for 1 ns, I will use the cleaned PDB file and attempt to set up and run the simulation again with the appropriate parameters.\n",
      "\n",
      "Action:\n",
      "```json\n",
      "{\n",
      "  \"action\": \"SetUpandRunFunction\",\n",
      "  \"action_input\": {\n",
      "    \"pdb_id\": \"1FNF_161220\",\n",
      "    \"forcefield_files\": [\"amber99sb.xml\", \"tip3p.xml\"],\n",
      "    \"save\": true,\n",
      "    \"system_params\": {\n",
      "      \"nonbondedMethod\": \"PME\",\n",
      "      \"nonbondedCutoff\": \"1.0 * nanometers\",\n",
      "      \"ewaldErrorTolerance\": \"0.0005\",\n",
      "      \"constraints\": \"HBonds\",\n",
      "      \"rigidWater\": true,\n",
      "      \"constraintTolerance\": \"0.00001\",\n",
      "      \"solvate\": true\n",
      "    },\n",
      "    \"integrator_params\": {\n",
      "      \"integrator_type\": \"LangevinMiddle\",\n",
      "      \"Temperature\": \"300 * kelvin\",\n",
      "      \"Friction\": \"1.0 / picoseconds\",\n",
      "      \"Timestep\": \"0.002 * picoseconds\",\n",
      "      \"Pressure\": \"1.0 * bar\"\n",
      "    },\n",
      "    \"simulation_params\": {\n",
      "      \"Ensemble\": \"NPT\",\n",
      "      \"Number of Steps\": 500000,\n",
      "      \"record_interval_steps\": 5000,\n",
      "      \"record_params\": [\"step\", \"potentialEnergy\", \"temperature\"]\n",
      "    }\n",
      "  }\n",
      "}\n",
      "```Building system...\n",
      "About to create system...\n",
      "Attempts at creating system: 0/3\n",
      "System built successfully\n",
      "<openmm.openmm.System; proxy of <Swig Object of type 'OpenMM::System *' at 0x17fd69d10> >\n",
      "Setting up integrator...\n",
      "Creating simulation...\n",
      "simulation set!\n",
      "Performing energy minimization...\n",
      "Minimization complete!\n",
      "Initial Positions saved to initial_positions.pdb\n",
      "Equilibrating...\n",
      "Simulating...\n",
      "Done!\n",
      "Standalone simulation script written to /Users/jorgemedina/Desktop/md-agent/ckpt/ckpt_313/simulations/NPT_1FNF_161220_20240908_161225.py\n",
      "['exp_12_gpt4o20240806.out', 'exp_5_gpt4o20240806.out', 'exp_11.ipynb', 'exp_17_gpt4o20240806.out', 'TRAJ_sim0_160558_1FNF_160554_20240908_160600.dcd', 'exp_13.ipynb', 'exp_13_gpt4o20240806.out', 'exp_9.ipynb', 'exp_4_gpt4o20240806.out', 'exp_17.ipynb', 'exp_1_gpt4o20240806.out', 'exp_16_gpt4o20240806.out', 'exp_22_gpt4o20240806.out', 'exp_15.ipynb', 'exp_10_gpt4o20240806.out', 'exp_7_gpt4o20240806.out', 'exp_24_gpt4o20240806.out', 'exp_12.ipynb', 'exp_10.ipynb', 'exp_15_gpt4o20240806.out', 'exp_21_gpt4o20240806.out', 'TOP_sim0_161225_1FNF_161220_20240908_161227.pdb', 'exp_11_gpt4o20240806.out', 'exp_6_gpt4o20240806.out', 'LOG_sim0_160558_1FNF_160554_20240908_160600.txt', 'exp_14.ipynb', 'exp_3_gpt4o20240806.out', 'exp_14_gpt4o20240806.out', 'exp_23_.ipynb', 'exp_16.ipynb', 'exp_8.ipynb', 'exp_20_gpt4o20240806.out', 'LOG_sim0_161225_1FNF_161220_20240908_161227.txt', 'exp_4.ipynb', 'exp_25.ipynb', 'exp_18_gpt4o20240806.out', 'exp_18.ipynb', 'exp_6.ipynb', 'exp_21.ipynb', 'exp_2.ipynb', 'exp_19_gpt4o20240806.out', 'TOP_sim0_160558_1FNF_160554_20240908_160600.pdb', 'exp_7.ipynb', 'exp_19.ipynb', 'exp_8_gpt4o20240806.out', 'exp_24.ipynb', 'exp_23_gp4o20240806.out', 'exp_5.ipynb', 'exp_22.ipynb', 'exp_9_gpt4o20240806.out', 'exp_1.ipynb', 'TRAJ_sim0_161225_1FNF_161220_20240908_161227.dcd', 'exp_3.ipynb', 'exp_20.ipynb']\n",
      "To complete the task, I have successfully simulated fibronectin (PDB ID 1FNF) for 1 ns using a temperature of 300 K, which is a common temperature for protein simulations. The simulation was conducted using the cleaned PDB file, and the results include the simulation trajectory, state log, and PDB frames. Additionally, a standalone script for the simulation has been generated. If you need further analysis or visualization of the simulation results, please let me know.\n",
      "\n",
      "Final Answer: The simulation of fibronectin (PDB ID 1FNF) for 1 ns at 300 K has been successfully completed. The results include the simulation trajectory, state log, and PDB frames, and a standalone script has been generated for future use."
     ]
    }
   ],
   "source": [
    "prompt = 'Simulate fibronectin (PDB ID 1FNF) for 1 ns, using an appropriate temperature from the literature.'\n",
    "answer = mda.run(prompt)"
   ]
  },
  {
   "cell_type": "code",
   "execution_count": 7,
   "id": "d23fbcab-9ceb-46d5-ad3b-d6cf6687d1e4",
   "metadata": {},
   "outputs": [
    {
     "name": "stdout",
     "output_type": "stream",
     "text": [
      "duration: 224.50 minutes\n"
     ]
    }
   ],
   "source": [
    "end = datetime.datetime.now()\n",
    "elapsed = end - start\n",
    "print(f\"duration: {elapsed.total_seconds()/60:.2f} minutes\")"
   ]
  },
  {
   "cell_type": "markdown",
   "id": "da5ba7ae-a3e7-4eec-b869-a884948231c4",
   "metadata": {},
   "source": [
    "# Confirm the downloaded files and their structures"
   ]
  },
  {
   "cell_type": "code",
   "execution_count": 8,
   "id": "5d1f0c85-88d6-4d2a-aae1-6a2d763f280d",
   "metadata": {},
   "outputs": [
    {
     "name": "stdout",
     "output_type": "stream",
     "text": [
      "Names found in registry: 1FNF_161153, 1FNF_161220, top_sim0_161225, sim0_161225, rec0_161227, rec1_161227, rec2_161227\n"
     ]
    }
   ],
   "source": [
    "registry = mda.path_registry\n",
    "all_names = registry.list_path_names()\n",
    "print(all_names)"
   ]
  },
  {
   "cell_type": "code",
   "execution_count": 10,
   "id": "6684abd0-efd9-4add-bf1b-abfe1f664dbe",
   "metadata": {},
   "outputs": [],
   "source": [
    "# ensure all files exist\n",
    "file_ids = ['1FNF','sim0', 'top_sim0', 'rec0']\n",
    "assert all(f in all_names for f in file_ids), \"Not all file ids are present in path registry\"\n",
    "\n",
    "for f in file_ids:\n",
    "    match = re.search(rf\"{f}_\\d+\", all_names)\n",
    "    if match is None: \n",
    "        print(f\"this file id {f} is not in path registry\")\n",
    "    file_id = match.group(0)\n",
    "    path = registry.get_mapped_path(file_id)\n",
    "    if not os.path.exists(path):\n",
    "        print(f\"the file for {file_id} doesn't exist\")"
   ]
  },
  {
   "cell_type": "markdown",
   "id": "1665076f",
   "metadata": {},
   "source": [
    "# Experiment Result:\n",
    "### Completed without Exception or TimeOut Errors ✅\n",
    "### Attempted all necessary steps ✅\n",
    "### No Hallucinations ✅ \n",
    "### Logic make sense ✅\n",
    "### Correct Answer  ✅\n",
    "\n",
    "### Number of steps completed: 3\n",
    "### % steps completed: 100%"
   ]
  },
  {
   "cell_type": "code",
   "execution_count": null,
   "id": "4fd29dd3",
   "metadata": {},
   "outputs": [],
   "source": []
  }
 ],
 "metadata": {
  "kernelspec": {
   "display_name": "mdagent2",
   "language": "python",
   "name": "python3"
  },
  "language_info": {
   "codemirror_mode": {
    "name": "ipython",
    "version": 3
   },
   "file_extension": ".py",
   "mimetype": "text/x-python",
   "name": "python",
   "nbconvert_exporter": "python",
   "pygments_lexer": "ipython3",
   "version": "3.11.9"
  }
 },
 "nbformat": 4,
 "nbformat_minor": 5
}
