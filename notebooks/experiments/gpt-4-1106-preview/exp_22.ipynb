{
 "cells": [
  {
   "cell_type": "code",
   "execution_count": 1,
   "metadata": {},
   "outputs": [],
   "source": [
    "import datetime\n",
    "import os\n",
    "from mdagent import MDAgent\n",
    "import matplotlib.pyplot as plt"
   ]
  },
  {
   "cell_type": "code",
   "execution_count": 2,
   "metadata": {},
   "outputs": [
    {
     "name": "stdout",
     "output_type": "stream",
     "text": [
      "date and time: 2024-07-11\n",
      "time: 16:51:25\n",
      "LLM:  gpt-4-1106-preview \n",
      "Temperature:  0.1\n"
     ]
    }
   ],
   "source": [
    "prompt22 = \"Download and clean protein 1A3N\"\n",
    "llm_var = \"gpt-4-1106-preview\"\n",
    "tools = \"all\"\n",
    "agent = MDAgent(agent_type=\"Structured\", model=llm_var, top_k_tools=tools)\n",
    "now = datetime.datetime.now()\n",
    "date = now.strftime(\"%Y-%m-%d\")\n",
    "print(\"date and time:\",date)\n",
    "time = now.strftime(\"%H:%M:%S\")\n",
    "print(\"time:\",time)\n",
    "print(\"LLM: \",agent.llm.model_name,\"\\nTemperature: \",agent.llm.temperature)"
   ]
  },
  {
   "cell_type": "code",
   "execution_count": 3,
   "metadata": {},
   "outputs": [
    {
     "name": "stdout",
     "output_type": "stream",
     "text": [
      "Thought: The task is to download and clean the protein with PDB ID 1A3N. To accomplish this, I will use the PDBFileDownloader tool to download the protein file and then use the CleaningToolFunction to clean the downloaded file.\n",
      "\n",
      "Action:\n",
      "```\n",
      "{\n",
      "  \"action\": \"PDBFileDownloader\",\n",
      "  \"action_input\": {\n",
      "    \"query\": \"1A3N\"\n",
      "  }\n",
      "}\n",
      "```PDB file found with this ID: 1A3N\n"
     ]
    },
    {
     "name": "stderr",
     "output_type": "stream",
     "text": [
      "2024-07-11 16:51:31.547 \n",
      "  \u001b[33m\u001b[1mWarning:\u001b[0m to view this Streamlit app on a browser, run it with the following\n",
      "  command:\n",
      "\n",
      "    streamlit run /Users/jorgemedina/miniforge3/envs/mdagent2/lib/python3.11/site-packages/ipykernel_launcher.py [ARGUMENTS]\n"
     ]
    },
    {
     "name": "stdout",
     "output_type": "stream",
     "text": [
      "Now that the PDB file for protein 1A3N has been downloaded, the next step is to clean the file. I will use the CleaningToolFunction to remove heterogens, add missing atoms and hydrogens, replace nonstandard residues, and remove water. This will provide a cleaned version of the protein structure.\n",
      "\n",
      "Action:\n",
      "```\n",
      "{\n",
      "  \"action\": \"CleaningToolFunction\",\n",
      "  \"action_input\": {\n",
      "    \"pdb_id\": \"1A3N_165131\",\n",
      "    \"replace_nonstandard_residues\": true,\n",
      "    \"add_missing_atoms\": true,\n",
      "    \"remove_heterogens\": true,\n",
      "    \"remove_water\": true,\n",
      "    \"add_hydrogens\": true,\n",
      "    \"add_hydrogens_ph\": 7.0\n",
      "  }\n",
      "}\n",
      "```file path: /Users/jorgemedina/Desktop/md-agent/ckpt/ckpt_155/pdb/1A3N_raw_20240711_165131.pdb\n",
      "Final Answer: The protein with PDB ID 1A3N has been successfully downloaded and cleaned. The cleaning process involved removing heterogens, adding missing atoms and hydrogens, replacing nonstandard residues, and removing water. The cleaned file is now available with the file ID 1A3N_165149.Prompt: The agent was tasked with downloading and cleaning a protein with PDB ID 1A3N.\n",
      "\n",
      "Step 1: The agent attempted to download the protein with PDB ID 1A3N from the database.\n",
      "\n",
      "Step 2: The agent encountered heterogens in the downloaded protein file and removed them.\n",
      "\n",
      "Step 3: The agent noticed missing atoms and hydrogens in the protein structure and added them to ensure completeness.\n",
      "\n",
      "Step 4: The agent identified nonstandard residues in the protein and replaced them with standard residues.\n",
      "\n",
      "Step 5: The agent found water molecules in the protein file and removed them to focus solely on the protein structure.\n",
      "\n",
      "Final Solution: The agent successfully downloaded and cleaned the protein with PDB ID 1A3N. The cleaned file is now available with the file ID 1A3N_165149, ready for further analysis or use in research.Your run id is:  WWSQRHKX\n"
     ]
    },
    {
     "data": {
      "text/plain": [
       "('Final Answer: The protein with PDB ID 1A3N has been successfully downloaded and cleaned. The cleaning process involved removing heterogens, adding missing atoms and hydrogens, replacing nonstandard residues, and removing water. The cleaned file is now available with the file ID 1A3N_165149.',\n",
       " 'WWSQRHKX')"
      ]
     },
     "execution_count": 3,
     "metadata": {},
     "output_type": "execute_result"
    }
   ],
   "source": [
    "agent.run(prompt22)"
   ]
  },
  {
   "cell_type": "code",
   "execution_count": 4,
   "metadata": {},
   "outputs": [
    {
     "name": "stdout",
     "output_type": "stream",
     "text": [
      "date and time: 2024-07-11\n",
      "time: 16:51:54\n",
      "Files found in registry: 1A3N_165131: PDB file downloaded from RSCB\n",
      " PDBFile ID: 1A3N_165131\n",
      " 1A3N_165149: Cleaned File:  Removed Heterogens\n",
      " and Water Removed.  Replaced Nonstandard Residues. Added Hydrogens at pH 7.0. Missing Atoms Added and replaces nonstandard residues. \n"
     ]
    }
   ],
   "source": [
    "now = datetime.datetime.now()\n",
    "date = now.strftime(\"%Y-%m-%d\")\n",
    "print(\"date and time:\",date)\n",
    "time = now.strftime(\"%H:%M:%S\")\n",
    "print(\"time:\",time)\n",
    "registry = agent.path_registry\n",
    "paths_and_descriptions = registry.list_path_names_and_descriptions()\n",
    "print(\"\\n\".join(paths_and_descriptions.split(\",\")))"
   ]
  },
  {
   "cell_type": "code",
   "execution_count": 6,
   "metadata": {},
   "outputs": [],
   "source": [
    "path_before = registry.get_mapped_path(\"1A3N_165131\")\n",
    "path_after = registry.get_mapped_path(\"1A3N_165149\")\n",
    "assert os.path.exists(path_before)\n",
    "assert os.path.exists(path_after)\n",
    "assert path_before != path_after"
   ]
  },
  {
   "cell_type": "code",
   "execution_count": 7,
   "metadata": {},
   "outputs": [],
   "source": [
    "import mdtraj as md\n",
    "raw_file = md.load(path_before)\n",
    "clean_file = md.load(path_after)"
   ]
  },
  {
   "cell_type": "code",
   "execution_count": 8,
   "metadata": {},
   "outputs": [
    {
     "name": "stdout",
     "output_type": "stream",
     "text": [
      "Residues before: {'PRO', 'MET', 'TYR', 'TRP', 'HOH', 'ALA', 'GLU', 'HEM', 'GLN', 'VAL', 'SER', 'LEU', 'ARG', 'ASN', 'PHE', 'ASP', 'GLY', 'CYS', 'THR', 'HIS', 'LYS'}\n",
      "Residues after: {'PRO', 'MET', 'TYR', 'TRP', 'ALA', 'GLU', 'GLN', 'VAL', 'SER', 'LEU', 'ARG', 'ASN', 'PHE', 'ASP', 'GLY', 'CYS', 'THR', 'HIS', 'LYS'}\n",
      "Residues removed: {'HOH', 'HEM'}\n"
     ]
    }
   ],
   "source": [
    "#residues before\n",
    "residues_before = set([str(res)[:3] for res in raw_file.top.residues])\n",
    "residues_after = set([str(res)[:3] for res in clean_file.top.residues])\n",
    "print(\"Residues before:\",residues_before)\n",
    "print(\"Residues after:\",residues_after)\n",
    "print(\"Residues removed:\",residues_before - residues_after)"
   ]
  },
  {
   "cell_type": "markdown",
   "metadata": {},
   "source": [
    "# Experiment Result:\n",
    "### Completed without Exception or TimeOut Errors ✅\n",
    "### Attempted all necessary steps ✅\n",
    "### Logic make sense ✅\n",
    "### Correct Answer  ✅"
   ]
  },
  {
   "cell_type": "markdown",
   "metadata": {},
   "source": []
  }
 ],
 "metadata": {
  "kernelspec": {
   "display_name": "mdagent2",
   "language": "python",
   "name": "python3"
  },
  "language_info": {
   "codemirror_mode": {
    "name": "ipython",
    "version": 3
   },
   "file_extension": ".py",
   "mimetype": "text/x-python",
   "name": "python",
   "nbconvert_exporter": "python",
   "pygments_lexer": "ipython3",
   "version": "3.11.9"
  }
 },
 "nbformat": 4,
 "nbformat_minor": 2
}
