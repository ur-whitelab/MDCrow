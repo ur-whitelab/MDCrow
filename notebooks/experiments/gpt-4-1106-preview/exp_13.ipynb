{
 "cells": [
  {
   "cell_type": "code",
   "execution_count": 1,
   "id": "8ff706fd-c267-4d05-af58-9a3848cce8ff",
   "metadata": {},
   "outputs": [],
   "source": [
    "from mdagent import MDAgent"
   ]
  },
  {
   "cell_type": "code",
   "execution_count": 2,
   "id": "02c5c1ac-426e-44fa-90d2-8dd1a1eefe9c",
   "metadata": {},
   "outputs": [
    {
     "name": "stdout",
     "output_type": "stream",
     "text": [
      "date: 2024-07-11\n",
      "time: 15:42:49\n"
     ]
    }
   ],
   "source": [
    "#todays date and time\n",
    "import datetime\n",
    "\n",
    "start = datetime.datetime.now()\n",
    "date = start.strftime(\"%Y-%m-%d\")\n",
    "print(\"date:\",date)\n",
    "time = start.strftime(\"%H:%M:%S\")\n",
    "print(\"time:\",time)"
   ]
  },
  {
   "cell_type": "code",
   "execution_count": 3,
   "id": "f62bfc17-854b-4152-bb82-7e9e0ec4b854",
   "metadata": {},
   "outputs": [
    {
     "name": "stdout",
     "output_type": "stream",
     "text": [
      "LLM:  gpt-4-1106-preview \n",
      "Temperature:  0.1\n"
     ]
    }
   ],
   "source": [
    "model = \"gpt-4-1106-preview\"\n",
    "mda = MDAgent(\n",
    "    agent_type='Structured', \n",
    "    model=model, \n",
    "    tools_model=model,\n",
    "    use_memory=False, \n",
    "    top_k_tools=\"all\"\n",
    ")\n",
    "print(\"LLM: \", mda.llm.model_name,\"\\nTemperature: \", mda.llm.temperature)"
   ]
  },
  {
   "cell_type": "code",
   "execution_count": 4,
   "id": "ad2f6f66-e6b8-4244-b908-68fbebbf6e8b",
   "metadata": {},
   "outputs": [
    {
     "name": "stdout",
     "output_type": "stream",
     "text": [
      "Thought: To simulate fibronectin (PDB ID 1FNF) for 1ns, I need to first find an appropriate temperature for the simulation from the literature. Once I have the temperature, I can proceed to set up and run the simulation using the SetUpandRunFunction tool.\n",
      "\n",
      "Action: LiteratureSearch\n",
      "Action Input: What is the appropriate temperature for simulating fibronectin molecular dynamics?"
     ]
    }
   ],
   "source": [
    "prompt = '''Simulate fibronectin (PDB ID 1FNF) for 1ns. Use an appropriate temperature from literature.'''\n",
    "answer = mda.run(prompt)"
   ]
  },
  {
   "cell_type": "code",
   "execution_count": 5,
   "id": "a31fd85f-9466-41da-ada4-0b9f86427723",
   "metadata": {},
   "outputs": [
    {
     "name": "stdout",
     "output_type": "stream",
     "text": [
      "duration: 0.08 minutes\n"
     ]
    }
   ],
   "source": [
    "end = datetime.datetime.now()\n",
    "elapsed = end - start\n",
    "print(f\"duration: {elapsed.total_seconds()/60:.2f} minutes\")"
   ]
  },
  {
   "cell_type": "code",
   "execution_count": 6,
   "id": "55572852-a00c-498a-a60a-b366dc6a7db5",
   "metadata": {},
   "outputs": [
    {
     "name": "stdout",
     "output_type": "stream",
     "text": [
      "No names found. The JSON file is empty or does not contain name mappings.\n"
     ]
    }
   ],
   "source": [
    "registry = mda.path_registry\n",
    "all_names = registry.list_path_names()\n",
    "print(all_names)"
   ]
  },
  {
   "cell_type": "code",
   "execution_count": 7,
   "id": "e5233722-daa3-457c-9e94-9f3905025270",
   "metadata": {},
   "outputs": [
    {
     "ename": "AssertionError",
     "evalue": "Not all file ids are present in path registry",
     "output_type": "error",
     "traceback": [
      "\u001b[0;31m---------------------------------------------------------------------------\u001b[0m",
      "\u001b[0;31mAssertionError\u001b[0m                            Traceback (most recent call last)",
      "Cell \u001b[0;32mIn[7], line 2\u001b[0m\n\u001b[1;32m      1\u001b[0m \u001b[38;5;66;03m# ensure all files are in path registry\u001b[39;00m\n\u001b[0;32m----> 2\u001b[0m \u001b[38;5;28;01massert\u001b[39;00m \u001b[38;5;28mall\u001b[39m(n \u001b[38;5;129;01min\u001b[39;00m all_names \u001b[38;5;28;01mfor\u001b[39;00m n \u001b[38;5;129;01min\u001b[39;00m [\u001b[38;5;124m'\u001b[39m\u001b[38;5;124m1FNF\u001b[39m\u001b[38;5;124m'\u001b[39m,\u001b[38;5;124m'\u001b[39m\u001b[38;5;124msim0\u001b[39m\u001b[38;5;124m'\u001b[39m, \u001b[38;5;124m'\u001b[39m\u001b[38;5;124mtop_sim0\u001b[39m\u001b[38;5;124m'\u001b[39m, \u001b[38;5;124m'\u001b[39m\u001b[38;5;124mrec0\u001b[39m\u001b[38;5;124m'\u001b[39m]), \u001b[38;5;124m\"\u001b[39m\u001b[38;5;124mNot all file ids are present in path registry\u001b[39m\u001b[38;5;124m\"\u001b[39m\n",
      "\u001b[0;31mAssertionError\u001b[0m: Not all file ids are present in path registry"
     ]
    }
   ],
   "source": [
    "# ensure all files are in path registry\n",
    "assert all(n in all_names for n in ['1FNF','sim0', 'top_sim0', 'rec0']), \"Not all file ids are present in path registry\""
   ]
  },
  {
   "cell_type": "markdown",
   "id": "59c9a2d8",
   "metadata": {},
   "source": [
    "# Experiment Result:\n",
    "### Completed without Exception or TimeOut Errors ✅\n",
    "### Attempted all necessary steps ❌\n",
    "### Logic make sense ❌\n",
    "### Correct Answer  ❌"
   ]
  },
  {
   "cell_type": "code",
   "execution_count": null,
   "id": "6f8c7c13",
   "metadata": {},
   "outputs": [],
   "source": []
  }
 ],
 "metadata": {
  "kernelspec": {
   "display_name": "mdagent2",
   "language": "python",
   "name": "python3"
  },
  "language_info": {
   "codemirror_mode": {
    "name": "ipython",
    "version": 3
   },
   "file_extension": ".py",
   "mimetype": "text/x-python",
   "name": "python",
   "nbconvert_exporter": "python",
   "pygments_lexer": "ipython3",
   "version": "3.11.9"
  }
 },
 "nbformat": 4,
 "nbformat_minor": 5
}
