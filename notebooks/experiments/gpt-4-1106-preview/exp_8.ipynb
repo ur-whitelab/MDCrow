{
 "cells": [
  {
   "cell_type": "code",
   "execution_count": 1,
   "metadata": {},
   "outputs": [],
   "source": [
    "import datetime\n",
    "import os\n",
    "from mdagent import MDAgent\n",
    "import matplotlib.pyplot as plt"
   ]
  },
  {
   "cell_type": "code",
   "execution_count": 2,
   "metadata": {},
   "outputs": [
    {
     "name": "stdout",
     "output_type": "stream",
     "text": [
      "date and time: 2024-07-11\n",
      "time: 15:32:33\n",
      "LLM:  gpt-4-1106-preview \n",
      "Temperature:  0.1\n"
     ]
    }
   ],
   "source": [
    "prompt8 = \"Simulate 4RMB at 100K, 200K, and 300K. Then plot the radius of gyration over time for all three simulations. Lastly, compare the change in secondary structure for the three analyses throughout the simulation.\"\n",
    "llm_var = \"gpt-4-1106-preview\"\n",
    "tools = \"all\"\n",
    "agent = MDAgent(agent_type=\"Structured\", model=llm_var, top_k_tools=tools)\n",
    "now = datetime.datetime.now()\n",
    "date = now.strftime(\"%Y-%m-%d\")\n",
    "print(\"date and time:\",date)\n",
    "time = now.strftime(\"%H:%M:%S\")\n",
    "print(\"time:\",time)\n",
    "print(\"LLM: \",agent.llm.model_name,\"\\nTemperature: \",agent.llm.temperature)"
   ]
  },
  {
   "cell_type": "code",
   "execution_count": 3,
   "metadata": {},
   "outputs": [
    {
     "name": "stdout",
     "output_type": "stream",
     "text": [
      "Thought: To address the question, I need to perform molecular dynamics simulations of the protein with PDB ID 4RMB at three different temperatures (100K, 200K, and 300K). After the simulations, I will plot the radius of gyration over time for each simulation and compare the change in secondary structure throughout the simulations. The first step is to set up and run the simulations at the specified temperatures. I will use the SetUpandRunFunction tool to perform the simulations one by one, starting with the simulation at 100K.\n",
      "\n",
      "Action: SetUpandRunFunction\n",
      "Action Input: {\n",
      "  \"pdb_id\": \"4RMB\",\n",
      "  \"forcefield_files\": [\"amber99sbildn.xml\", \"tip3p.xml\"],\n",
      "  \"system_params\": {\n",
      "    \"nonbondedMethod\": \"PME\",\n",
      "    \"nonbondedCutoff\": \"1 * nanometers\",\n",
      "    \"constraints\": \"HBonds\",\n",
      "    \"rigidWater\": true,\n",
      "    \"solvate\": true\n",
      "  },\n",
      "  \"integrator_params\": {\n",
      "    \"integrator_type\": \"LangevinMiddle\",\n",
      "    \"Temperature\": \"100 * kelvin\",\n",
      "    \"Friction\": \"1.0 / picoseconds\",\n",
      "    \"Timestep\": \"0.002 * picoseconds\"\n",
      "  },\n",
      "  \"simulation_params\": {\n",
      "    \"Ensemble\": \"NVT\",\n",
      "    \"Number of Steps\": 5000,\n",
      "    \"record_interval_steps\": 50\n",
      "  }\n",
      "}The agent's thought process involved the goal of performing molecular dynamics simulations of the protein with PDB ID 4RMB at three different temperatures (100K, 200K, and 300K). The agent planned to plot the radius of gyration over time for each simulation and compare the change in secondary structure throughout the simulations. The first step was to set up and run the simulations at the specified temperatures using the SetUpandRunFunction tool.\n",
      "\n",
      "The agent used the SetUpandRunFunction tool with specific input parameters for the simulation, including forcefield files, system parameters, integrator parameters, and simulation parameters. The agent started with the simulation at 100K and set up the simulation for the specified protein with the necessary parameters for the molecular dynamics simulation.\n",
      "\n",
      "The agent's final solution involved setting up and running the molecular dynamics simulations at 100K for the protein with PDB ID 4RMB. The agent planned to repeat this process for simulations at 200K and 300K to complete the comparison of the protein's behavior at different temperatures. The agent's goal was to analyze the radius of gyration and changes in secondary structure over time to gain insights into the protein's dynamics at different temperatures.Your run id is:  AAKFMZWK\n"
     ]
    },
    {
     "data": {
      "text/plain": [
       "('Thought: To address the question, I need to perform molecular dynamics simulations of the protein with PDB ID 4RMB at three different temperatures (100K, 200K, and 300K). After the simulations, I will plot the radius of gyration over time for each simulation and compare the change in secondary structure throughout the simulations. The first step is to set up and run the simulations at the specified temperatures. I will use the SetUpandRunFunction tool to perform the simulations one by one, starting with the simulation at 100K.\\n\\nAction: SetUpandRunFunction\\nAction Input: {\\n  \"pdb_id\": \"4RMB\",\\n  \"forcefield_files\": [\"amber99sbildn.xml\", \"tip3p.xml\"],\\n  \"system_params\": {\\n    \"nonbondedMethod\": \"PME\",\\n    \"nonbondedCutoff\": \"1 * nanometers\",\\n    \"constraints\": \"HBonds\",\\n    \"rigidWater\": true,\\n    \"solvate\": true\\n  },\\n  \"integrator_params\": {\\n    \"integrator_type\": \"LangevinMiddle\",\\n    \"Temperature\": \"100 * kelvin\",\\n    \"Friction\": \"1.0 / picoseconds\",\\n    \"Timestep\": \"0.002 * picoseconds\"\\n  },\\n  \"simulation_params\": {\\n    \"Ensemble\": \"NVT\",\\n    \"Number of Steps\": 5000,\\n    \"record_interval_steps\": 50\\n  }\\n}',\n",
       " 'AAKFMZWK')"
      ]
     },
     "execution_count": 3,
     "metadata": {},
     "output_type": "execute_result"
    }
   ],
   "source": [
    "agent.run(prompt8)"
   ]
  },
  {
   "cell_type": "code",
   "execution_count": 4,
   "metadata": {},
   "outputs": [
    {
     "name": "stdout",
     "output_type": "stream",
     "text": [
      "No names found. The JSON file is empty or does not contain name mappings.\n"
     ]
    }
   ],
   "source": [
    "registry = agent.path_registry\n",
    "print(registry.list_path_names_and_descriptions())"
   ]
  },
  {
   "cell_type": "code",
   "execution_count": 5,
   "metadata": {},
   "outputs": [
    {
     "name": "stdout",
     "output_type": "stream",
     "text": [
      "date and time: 2024-07-11\n",
      "time: 15:32:50\n"
     ]
    }
   ],
   "source": [
    "now = datetime.datetime.now()\n",
    "date = now.strftime(\"%Y-%m-%d\")\n",
    "print(\"date and time:\",date)\n",
    "time = now.strftime(\"%H:%M:%S\")\n",
    "print(\"time:\",time)"
   ]
  },
  {
   "cell_type": "code",
   "execution_count": 6,
   "metadata": {},
   "outputs": [
    {
     "name": "stdout",
     "output_type": "stream",
     "text": [
      "No names found. The JSON file is empty or does not contain name mappings.\n"
     ]
    }
   ],
   "source": [
    "paths_and_descriptions = registry.list_path_names_and_descriptions()\n",
    "print(\"\\n\".join(paths_and_descriptions.split(\",\")))"
   ]
  },
  {
   "cell_type": "markdown",
   "metadata": {},
   "source": [
    "### correct input for DSSP in the three calls. \n",
    "### Incorrect use of radius of gyration tool. Use the original PDB "
   ]
  },
  {
   "cell_type": "code",
   "execution_count": null,
   "metadata": {},
   "outputs": [],
   "source": [
    "# from IPython.display import Image\n",
    "# path_1 = registry.get_mapped_path(\"fig0_183814\")\n",
    "# path_2 = registry.get_mapped_path(\"fig0_183819\")\n",
    "# path_3 = registry.get_mapped_path(\"fig0_183825\")\n",
    "\n",
    "# Image(filename=path_1)"
   ]
  },
  {
   "cell_type": "code",
   "execution_count": null,
   "metadata": {},
   "outputs": [],
   "source": [
    "# Image(filename=path_2)"
   ]
  },
  {
   "cell_type": "code",
   "execution_count": 8,
   "metadata": {},
   "outputs": [],
   "source": [
    "# Image(filename=path_3)"
   ]
  },
  {
   "cell_type": "markdown",
   "metadata": {},
   "source": [
    "# Experiment Result:\n",
    "### Completed without Exception or TimeOut Errors ✅\n",
    "### Attempted all necessary steps ❌\n",
    "### Logic make sense ❌\n",
    "### Correct Answer  ❌"
   ]
  },
  {
   "cell_type": "code",
   "execution_count": null,
   "metadata": {},
   "outputs": [],
   "source": []
  }
 ],
 "metadata": {
  "kernelspec": {
   "display_name": "mdagent2",
   "language": "python",
   "name": "python3"
  },
  "language_info": {
   "codemirror_mode": {
    "name": "ipython",
    "version": 3
   },
   "file_extension": ".py",
   "mimetype": "text/x-python",
   "name": "python",
   "nbconvert_exporter": "python",
   "pygments_lexer": "ipython3",
   "version": "3.11.9"
  }
 },
 "nbformat": 4,
 "nbformat_minor": 2
}
