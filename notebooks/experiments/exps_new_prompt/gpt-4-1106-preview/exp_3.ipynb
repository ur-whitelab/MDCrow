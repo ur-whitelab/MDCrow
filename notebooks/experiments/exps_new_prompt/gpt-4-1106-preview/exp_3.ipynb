{
 "cells": [
  {
   "cell_type": "code",
   "execution_count": 1,
   "metadata": {},
   "outputs": [],
   "source": [
    "import datetime\n",
    "import os\n",
    "from mdagent import MDAgent"
   ]
  },
  {
   "cell_type": "code",
   "execution_count": 2,
   "metadata": {},
   "outputs": [
    {
     "name": "stdout",
     "output_type": "stream",
     "text": [
      "date and time: 2024-08-06\n",
      "time: 20:34:42\n",
      "LLM:  gpt-4-1106-preview \n",
      "Temperature:  0.1\n"
     ]
    }
   ],
   "source": [
    "prompt3 = \"Download the PDB file for PDB ID 1GZX. Then, analyze the secondary structure of the protein and tell me how many chains, sheets, etc. there are.\"\n",
    "llm_var = \"gpt-4-1106-preview\"\n",
    "tools = \"all\"\n",
    "agent = MDAgent(agent_type=\"Structured\", model=llm_var, top_k_tools=tools)\n",
    "now = datetime.datetime.now()\n",
    "date = now.strftime(\"%Y-%m-%d\")\n",
    "print(\"date and time:\",date)\n",
    "time = now.strftime(\"%H:%M:%S\")\n",
    "print(\"time:\",time)\n",
    "print(\"LLM: \",agent.llm.model_name,\"\\nTemperature: \",agent.llm.temperature)"
   ]
  },
  {
   "cell_type": "code",
   "execution_count": 3,
   "metadata": {},
   "outputs": [
    {
     "name": "stdout",
     "output_type": "stream",
     "text": [
      "\n",
      "\n",
      "\u001b[1m> Entering new AgentExecutor chain...\u001b[0m\n",
      "Thought: To answer the question, I need to first download the PDB file for the given PDB ID (1GZX). After obtaining the file, I will need to analyze its secondary structure to determine the number of chains, sheets, and other structural elements. I will start by downloading the PDB file using the PDBFileDownloader tool.\n",
      "\n",
      "Action:\n",
      "```\n",
      "{\n",
      "    \"action\": \"PDBFileDownloader\",\n",
      "    \"action_input\": {\n",
      "        \"query\": \"1GZX\"\n",
      "    }\n",
      "}\n",
      "```\u001b[32;1m\u001b[1;3mThought: To answer the question, I need to first download the PDB file for the given PDB ID (1GZX). After obtaining the file, I will need to analyze its secondary structure to determine the number of chains, sheets, and other structural elements. I will start by downloading the PDB file using the PDBFileDownloader tool.\n",
      "\n",
      "Action:\n",
      "```\n",
      "{\n",
      "    \"action\": \"PDBFileDownloader\",\n",
      "    \"action_input\": {\n",
      "        \"query\": \"1GZX\"\n",
      "    }\n",
      "}\n",
      "```\u001b[0mPDB file found with this ID: 1GZX\n"
     ]
    },
    {
     "name": "stderr",
     "output_type": "stream",
     "text": [
      "2024-08-06 20:34:49.174 \n",
      "  \u001b[33m\u001b[1mWarning:\u001b[0m to view this Streamlit app on a browser, run it with the following\n",
      "  command:\n",
      "\n",
      "    streamlit run /opt/anaconda3/envs/llama-mdagent/lib/python3.11/site-packages/ipykernel_launcher.py [ARGUMENTS]\n"
     ]
    },
    {
     "name": "stdout",
     "output_type": "stream",
     "text": [
      "\n",
      "Observation: \u001b[38;5;200m\u001b[1;3mSucceeded. Downloaded the PDB file:1GZX_203449\u001b[0m\n",
      "Thought:Now that I have the PDB file for 1GZX, I will use the ComputeDSSP tool to analyze the secondary structure of the protein. This will provide information on the number of chains, sheets, helices, and turns in the protein structure.\n",
      "\n",
      "Action:\n",
      "```\n",
      "{\n",
      "    \"action\": \"ComputeDSSP\",\n",
      "    \"action_input\": {\n",
      "        \"traj_file\": \"1GZX_203449\"\n",
      "    }\n",
      "}\n",
      "```\u001b[32;1m\u001b[1;3mNow that I have the PDB file for 1GZX, I will use the ComputeDSSP tool to analyze the secondary structure of the protein. This will provide information on the number of chains, sheets, helices, and turns in the protein structure.\n",
      "\n",
      "Action:\n",
      "```\n",
      "{\n",
      "    \"action\": \"ComputeDSSP\",\n",
      "    \"action_input\": {\n",
      "        \"traj_file\": \"1GZX_203449\"\n",
      "    }\n",
      "}\n",
      "```\u001b[0m\n",
      "Observation: \u001b[36;1m\u001b[1;3m{'helix': 444, 'strand': 0, 'coil': 130, 'not assigned, not a protein residue': 213}\u001b[0m\n",
      "Thought:The analysis of the secondary structure of the protein with PDB ID 1GZX has been completed. The results indicate that there are 444 residues in helices, no residues in strands (indicating there are no beta-sheets), and 130 residues in coils. Additionally, there are 213 residues that are not assigned and not considered protein residues, which could include ligands, water molecules, or other non-protein entities.\n",
      "\n",
      "To provide a complete answer, I need to determine the number of chains in the protein structure. I will use the SummarizeProteinStructure tool to obtain this information.\n",
      "\n",
      "Action:\n",
      "```\n",
      "{\n",
      "    \"action\": \"SummarizeProteinStructure\",\n",
      "    \"action_input\": {\n",
      "        \"traj_file\": \"1GZX_203449\"\n",
      "    }\n",
      "}\n",
      "```\u001b[32;1m\u001b[1;3mThe analysis of the secondary structure of the protein with PDB ID 1GZX has been completed. The results indicate that there are 444 residues in helices, no residues in strands (indicating there are no beta-sheets), and 130 residues in coils. Additionally, there are 213 residues that are not assigned and not considered protein residues, which could include ligands, water molecules, or other non-protein entities.\n",
      "\n",
      "To provide a complete answer, I need to determine the number of chains in the protein structure. I will use the SummarizeProteinStructure tool to obtain this information.\n",
      "\n",
      "Action:\n",
      "```\n",
      "{\n",
      "    \"action\": \"SummarizeProteinStructure\",\n",
      "    \"action_input\": {\n",
      "        \"traj_file\": \"1GZX_203449\"\n",
      "    }\n",
      "}\n",
      "```\u001b[0m\n",
      "Observation: \u001b[36;1m\u001b[1;3m{'n_atoms': 4769, 'n_residues': 787, 'n_chains': 12, 'n_frames': 1, 'n_bonds': 4716}\u001b[0m\n",
      "Thought:Final Answer: The protein with PDB ID 1GZX consists of 12 chains. The secondary structure analysis revealed that there are 444 residues in helices, no residues in strands (indicating there are no beta-sheets), and 130 residues in coils. There are also 213 residues that are not assigned and not considered protein residues, which could include ligands, water molecules, or other non-protein entities. The protein structure has a total of 4769 atoms, 787 residues, and 4716 bonds.\u001b[32;1m\u001b[1;3mFinal Answer: The protein with PDB ID 1GZX consists of 12 chains. The secondary structure analysis revealed that there are 444 residues in helices, no residues in strands (indicating there are no beta-sheets), and 130 residues in coils. There are also 213 residues that are not assigned and not considered protein residues, which could include ligands, water molecules, or other non-protein entities. The protein structure has a total of 4769 atoms, 787 residues, and 4716 bonds.\u001b[0m\n",
      "\n",
      "\u001b[1m> Finished chain.\u001b[0m\n",
      "Prompt:\n",
      "Download the PDB file for PDB ID 1GZX. Then, analyze the secondary structure of the protein and tell me how many chains, sheets, etc. there are.\n",
      "\n",
      "History of Agent's Attempts to Solve the Problem:\n",
      "\n",
      "1. The agent was given the task to download the PDB file for PDB ID 1GZX and analyze its secondary structure to determine the number of chains, sheets, and other structural features.\n",
      "\n",
      "2. The agent did not provide a step-by-step account of the process but directly provided a final answer.\n",
      "\n",
      "Final Solution:\n",
      "The agent concluded that the protein with PDB ID 1GZX consists of 12 chains. The secondary structure analysis revealed that there are 444 residues in helices, no residues in strands (indicating there are no beta-sheets), and 130 residues in coils. Additionally, there are 213 residues that are not assigned to any secondary structure and are not considered protein residues, which could include ligands, water molecules, or other non-protein entities. The protein structure has a total of 4769 atoms, 787 residues, and 4716 bonds.\n",
      "\n",
      "Other Relevant Details:\n",
      "- The agent's response format indicates that they used the most specific tool available for each action as required.\n",
      "- The final answer provided by the agent contains all the information necessary to answer the original question in its entirety, including the number of chains, helices, coils, and unassigned residues, as well as the total number of atoms, residues, and bonds in the protein structure.\n",
      "- There is no record of the agent reflecting on their progress, as the history only includes the final answer. However, the final answer suggests that the agent successfully completed the task.Your run id is:  0ED8ATC1\n"
     ]
    },
    {
     "data": {
      "text/plain": [
       "({'input': '\\n    You are an expert molecular dynamics scientist and\\n    your task is to respond to the question or\\n    solve the problem to the best of your ability using\\n    the provided tools.\\n\\n    You can only respond with a single complete\\n    Thought, Action, Action Input\\' format\\n    OR a single \\'Final Answer\\' format.\\n\\n    Complete format:\\n    Thought: (reflect on your progress and decide what \" \"to do next)\\n    Action:\\n    ```\\n    {\\n        action: (the action name, should be the name of a tool),\\n        action_input: (the input string to the action)\\n    }\\n    \\'\\'\\'\\n\\n    OR\\n\\n    Final Answer: (the final response to the original input\\n    question, when all steps are complete)\\n\\n    You are required to use the tools provided,\\n    using the most specific tool\\n    available for each action.\\n    Your final answer should contain all information\\n    necessary to answer the question and subquestions.\\n    Before you finish, reflect on your progress and make\\n    sure you have addressed the question in its entirety.\\n\\n    If you are asked to continue\\n    or reference previous runs,\\n    the context will be provided to you.\\n    If context is provided, you should assume\\n    you are continuing a chat.\\n\\n    Here is the input:\\n    Previous Context: None\\n    Question: Download the PDB file for PDB ID 1GZX. Then, analyze the secondary structure of the protein and tell me how many chains, sheets, etc. there are. ',\n",
       "  'output': 'Final Answer: The protein with PDB ID 1GZX consists of 12 chains. The secondary structure analysis revealed that there are 444 residues in helices, no residues in strands (indicating there are no beta-sheets), and 130 residues in coils. There are also 213 residues that are not assigned and not considered protein residues, which could include ligands, water molecules, or other non-protein entities. The protein structure has a total of 4769 atoms, 787 residues, and 4716 bonds.'},\n",
       " '0ED8ATC1')"
      ]
     },
     "execution_count": 3,
     "metadata": {},
     "output_type": "execute_result"
    }
   ],
   "source": [
    "agent.run(prompt3)"
   ]
  },
  {
   "cell_type": "code",
   "execution_count": 4,
   "metadata": {},
   "outputs": [
    {
     "name": "stdout",
     "output_type": "stream",
     "text": [
      "date and time: 2024-08-06\n",
      "time: 20:35:15\n"
     ]
    }
   ],
   "source": [
    "now = datetime.datetime.now()\n",
    "date = now.strftime(\"%Y-%m-%d\")\n",
    "print(\"date and time:\",date)\n",
    "time = now.strftime(\"%H:%M:%S\")\n",
    "print(\"time:\",time)"
   ]
  },
  {
   "cell_type": "code",
   "execution_count": 5,
   "metadata": {},
   "outputs": [
    {
     "name": "stdout",
     "output_type": "stream",
     "text": [
      "Files found in registry: 1GZX_203449: PDB file downloaded from RSCB, PDBFile ID: 1GZX_203449, rec0_203454: dssp values for trajectory with id: 1GZX_203449\n"
     ]
    }
   ],
   "source": [
    "registry = agent.path_registry\n",
    "print(registry.list_path_names_and_descriptions())"
   ]
  },
  {
   "cell_type": "code",
   "execution_count": 7,
   "metadata": {},
   "outputs": [
    {
     "name": "stdout",
     "output_type": "stream",
     "text": [
      "Number of chains:  12\n",
      "Number of sheets:  0\n",
      "Number of helices:  444\n",
      "Number of coils:  130\n"
     ]
    }
   ],
   "source": [
    "import mdtraj as md\n",
    "path = registry.get_mapped_path(\"1GZX_203449\")\n",
    "traj = md.load(path)\n",
    "top = traj.topology\n",
    "number_of_chains = top.n_chains\n",
    "secondary_structure = md.compute_dssp(traj,simplified=True)\n",
    "print(\"Number of chains: \",number_of_chains)\n",
    "print(\"Number of sheets: \",len([i for i in secondary_structure[0] if i == 'E']))\n",
    "print(\"Number of helices: \",len([i for i in secondary_structure[0] if i == 'H']))\n",
    "print(\"Number of coils: \",len([i for i in secondary_structure[0] if i == 'C']))\n"
   ]
  },
  {
   "cell_type": "markdown",
   "metadata": {},
   "source": [
    "# Experiment Result: \n",
    "### Completed without Exception or TimeOut Errors  ✅\n",
    "### Attempted all necessary steps ✅\n",
    "### Completed without Hallucination ✅\n",
    "### Logic make sense  ✅\n",
    "### Correct Answer  ✅ "
   ]
  }
 ],
 "metadata": {
  "kernelspec": {
   "display_name": "mdagent2",
   "language": "python",
   "name": "python3"
  },
  "language_info": {
   "codemirror_mode": {
    "name": "ipython",
    "version": 3
   },
   "file_extension": ".py",
   "mimetype": "text/x-python",
   "name": "python",
   "nbconvert_exporter": "python",
   "pygments_lexer": "ipython3",
   "version": "3.11.8"
  }
 },
 "nbformat": 4,
 "nbformat_minor": 2
}
