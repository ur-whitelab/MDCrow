{
 "cells": [
  {
   "cell_type": "code",
   "execution_count": 1,
   "metadata": {},
   "outputs": [],
   "source": [
    "import datetime\n",
    "import os\n",
    "from mdagent import MDAgent"
   ]
  },
  {
   "cell_type": "code",
   "execution_count": 2,
   "metadata": {},
   "outputs": [
    {
     "name": "stdout",
     "output_type": "stream",
     "text": [
      "date and time: 2024-08-06\n",
      "time: 12:18:40\n",
      "LLM:  accounts/fireworks/models/llama-v3p1-405b-instruct \n",
      "Temperature:  0.1\n"
     ]
    }
   ],
   "source": [
    "prompt5 = \"Simulate 1XQ8 for 1ns at temperate 300K. Then tell me if the secondary structure changed from before the simulation to after.\"\n",
    "llm_var = \"llama-v3p1-405b-instruct\"\n",
    "tools = \"all\"\n",
    "agent = MDAgent(agent_type=\"Structured\", model=llm_var, top_k_tools=tools)\n",
    "now = datetime.datetime.now()\n",
    "date = now.strftime(\"%Y-%m-%d\")\n",
    "print(\"date and time:\",date)\n",
    "time = now.strftime(\"%H:%M:%S\")\n",
    "print(\"time:\",time)\n",
    "print(\"LLM: \",agent.llm.model_name,\"\\nTemperature: \",agent.llm.temperature)"
   ]
  },
  {
   "cell_type": "code",
   "execution_count": 3,
   "metadata": {},
   "outputs": [
    {
     "name": "stdout",
     "output_type": "stream",
     "text": [
      "\n",
      "\n",
      "\u001b[1m> Entering new AgentExecutor chain...\u001b[0m\n",
      "Thought: First, I need to set up and run a simulation of the protein 1XQ8 for 1ns at 300K. Then, I will analyze the secondary structure of the protein before and after the simulation to see if it has changed.\n",
      "\n",
      "Action:\n",
      "```\n",
      "{\n",
      "  \"action\": \"SetUpandRunFunction\",\n",
      "  \"action_input\": {\n",
      "    \"pdb_id\": \"1XQ8\",\n",
      "    \"forcefield_files\": [\"amber99sbildn.xml\"],\n",
      "    \"save\": true,\n",
      "    \"system_params\": {\n",
      "      \"nonbondedMethod\": \"NoCutoff\",\n",
      "      \"constraints\": \"None\",\n",
      "      \"rigidWater\": false\n",
      "    },\n",
      "    \"integrator_params\": {\n",
      "      \"integrator_type\": \"LangevinMiddle\",\n",
      "      \"Temperature\": \"300 * kelvin\",\n",
      "      \"Friction\": \"1.0 / picoseconds\",\n",
      "      \"Timestep\": \"0.002 * picoseconds\"\n",
      "    },\n",
      "    \"simulation_params\": {\n",
      "      \"Ensemble\": \"NVT\",\n",
      "      \"Number of Steps\": 500000,\n",
      "      \"record_interval_steps\": 1000,\n",
      "      \"record_params\": [\"step\", \"potentialEnergy\", \"temperature\"]\n",
      "    }\n",
      "  }\n",
      "}\n",
      "```\u001b[32;1m\u001b[1;3mThought: First, I need to set up and run a simulation of the protein 1XQ8 for 1ns at 300K. Then, I will analyze the secondary structure of the protein before and after the simulation to see if it has changed.\n",
      "\n",
      "Action:\n",
      "```\n",
      "{\n",
      "  \"action\": \"SetUpandRunFunction\",\n",
      "  \"action_input\": {\n",
      "    \"pdb_id\": \"1XQ8\",\n",
      "    \"forcefield_files\": [\"amber99sbildn.xml\"],\n",
      "    \"save\": true,\n",
      "    \"system_params\": {\n",
      "      \"nonbondedMethod\": \"NoCutoff\",\n",
      "      \"constraints\": \"None\",\n",
      "      \"rigidWater\": false\n",
      "    },\n",
      "    \"integrator_params\": {\n",
      "      \"integrator_type\": \"LangevinMiddle\",\n",
      "      \"Temperature\": \"300 * kelvin\",\n",
      "      \"Friction\": \"1.0 / picoseconds\",\n",
      "      \"Timestep\": \"0.002 * picoseconds\"\n",
      "    },\n",
      "    \"simulation_params\": {\n",
      "      \"Ensemble\": \"NVT\",\n",
      "      \"Number of Steps\": 500000,\n",
      "      \"record_interval_steps\": 1000,\n",
      "      \"record_params\": [\"step\", \"potentialEnergy\", \"temperature\"]\n",
      "    }\n",
      "  }\n",
      "}\n",
      "```\u001b[0m\n",
      "Observation: \u001b[33;1m\u001b[1;3mFailed. No pdb_id found in input, use the file id not the file name\u001b[0m\n",
      "Thought:Thought: I need to download the PDB file for 1XQ8 and get its file ID to use in the simulation setup.\n",
      "\n",
      "Action:\n",
      "```\n",
      "{\n",
      "  \"action\": \"PDBFileDownloader\",\n",
      "  \"action_input\": {\n",
      "    \"query\": \"1XQ8\"\n",
      "  }\n",
      "}\n",
      "```\u001b[32;1m\u001b[1;3mThought: I need to download the PDB file for 1XQ8 and get its file ID to use in the simulation setup.\n",
      "\n",
      "Action:\n",
      "```\n",
      "{\n",
      "  \"action\": \"PDBFileDownloader\",\n",
      "  \"action_input\": {\n",
      "    \"query\": \"1XQ8\"\n",
      "  }\n",
      "}\n",
      "```\u001b[0mPDB file found with this ID: 1XQ8\n"
     ]
    },
    {
     "name": "stderr",
     "output_type": "stream",
     "text": [
      "2024-08-06 12:18:57.707 \n",
      "  \u001b[33m\u001b[1mWarning:\u001b[0m to view this Streamlit app on a browser, run it with the following\n",
      "  command:\n",
      "\n",
      "    streamlit run /opt/anaconda3/envs/llama-mdagent/lib/python3.11/site-packages/ipykernel_launcher.py [ARGUMENTS]\n"
     ]
    },
    {
     "name": "stdout",
     "output_type": "stream",
     "text": [
      "\n",
      "Observation: \u001b[38;5;200m\u001b[1;3mSucceeded. Downloaded the PDB file:1XQ8_121858\u001b[0m\n",
      "Thought:Thought: Now that I have the PDB file ID, I can set up and run the simulation of 1XQ8 for 1ns at 300K.\n",
      "\n",
      "Action:\n",
      "```\n",
      "{\n",
      "  \"action\": \"SetUpandRunFunction\",\n",
      "  \"action_input\": {\n",
      "    \"pdb_id\": \"1XQ8_121858\",\n",
      "    \"forcefield_files\": [\"amber99sbildn.xml\"],\n",
      "    \"save\": true,\n",
      "    \"system_params\": {\n",
      "      \"nonbondedMethod\": \"NoCutoff\",\n",
      "      \"constraints\": \"None\",\n",
      "      \"rigidWater\": false\n",
      "    },\n",
      "    \"integrator_params\": {\n",
      "      \"integrator_type\": \"LangevinMiddle\",\n",
      "      \"Temperature\": \"300 * kelvin\",\n",
      "      \"Friction\": \"1.0 / picoseconds\",\n",
      "      \"Timestep\": \"0.002 * picoseconds\"\n",
      "    },\n",
      "    \"simulation_params\": {\n",
      "      \"Ensemble\": \"NVT\",\n",
      "      \"Number of Steps\": 500000,\n",
      "      \"record_interval_steps\": 1000,\n",
      "      \"record_params\": [\"step\", \"potentialEnergy\", \"temperature\"]\n",
      "    }\n",
      "  }\n",
      "}\n",
      "```\u001b[32;1m\u001b[1;3mThought: Now that I have the PDB file ID, I can set up and run the simulation of 1XQ8 for 1ns at 300K.\n",
      "\n",
      "Action:\n",
      "```\n",
      "{\n",
      "  \"action\": \"SetUpandRunFunction\",\n",
      "  \"action_input\": {\n",
      "    \"pdb_id\": \"1XQ8_121858\",\n",
      "    \"forcefield_files\": [\"amber99sbildn.xml\"],\n",
      "    \"save\": true,\n",
      "    \"system_params\": {\n",
      "      \"nonbondedMethod\": \"NoCutoff\",\n",
      "      \"constraints\": \"None\",\n",
      "      \"rigidWater\": false\n",
      "    },\n",
      "    \"integrator_params\": {\n",
      "      \"integrator_type\": \"LangevinMiddle\",\n",
      "      \"Temperature\": \"300 * kelvin\",\n",
      "      \"Friction\": \"1.0 / picoseconds\",\n",
      "      \"Timestep\": \"0.002 * picoseconds\"\n",
      "    },\n",
      "    \"simulation_params\": {\n",
      "      \"Ensemble\": \"NVT\",\n",
      "      \"Number of Steps\": 500000,\n",
      "      \"record_interval_steps\": 1000,\n",
      "      \"record_params\": [\"step\", \"potentialEnergy\", \"temperature\"]\n",
      "    }\n",
      "  }\n",
      "}\n",
      "```\u001b[0mBuilding system...\n",
      "About to create system...\n",
      "Attempts at creating system: 0/3\n",
      "adding system without solvent\n",
      "System built successfully\n",
      "<openmm.openmm.System; proxy of <Swig Object of type 'OpenMM::System *' at 0x193607090> >\n",
      "Setting up integrator...\n",
      "Creating simulation...\n",
      "simulation set!\n",
      "Performing energy minimization...\n",
      "Minimization complete!\n",
      "Initial Positions saved to initial_positions.pdb\n",
      "Equilibrating...\n",
      "Simulating...\n",
      "Done!\n",
      "Standalone simulation script written to /Users/quinny/repos/md-agent/ckpt/ckpt_73/simulations/NVT_1XQ8_121858_20240806_121908.py\n",
      "['TRAJ_sim0_121819_1MBN_121810_20240806_121819.dcd', 'TRAJ_sim0_121908_1XQ8_121858_20240806_121909.dcd', 'LOG_sim0_112747_1MBN_112741_20240806_112748.txt', 'LOG_sim0_121908_1XQ8_121858_20240806_121909.txt', 'TRAJ_sim0_112747_1MBN_112741_20240806_112748.dcd', 'LOG_sim0_121819_1MBN_121810_20240806_121819.txt', 'exp_4.ipynb', 'exp_6.ipynb', 'TOP_sim0_121819_1MBN_121810_20240806_121819.pdb', 'exp_2.ipynb', 'TOP_sim0_121908_1XQ8_121858_20240806_121909.pdb', 'exp_7.ipynb', 'TOP_sim0_112747_1MBN_112741_20240806_112748.pdb', 'exp_5.ipynb', 'exp_1.ipynb', 'exp_3.ipynb']\n",
      "\n",
      "Observation: \u001b[33;1m\u001b[1;3mSucceeded. Simulation done! \n",
      " Summary: \n",
      "[('rec0_121909', 'Simulation trajectory for protein 1XQ8_121858 and simulation sim0_121908'), ('rec1_121909', 'Simulation state log for protein 1XQ8_121858 and simulation sim0_121908'), ('rec2_121909', 'Simulation pdb frames for protein 1XQ8_121858 and simulation sim0_121908')]\n",
      "Standalone script written ID: sim0_121908.\n",
      "The initial topology file ID is top_sim0_121908 saved in files/pdb/\u001b[0m\n",
      "Thought:Thought: Now that the simulation is complete, I need to analyze the secondary structure of the protein before and after the simulation to see if it has changed.\n",
      "\n",
      "Action:\n",
      "```\n",
      "{\n",
      "  \"action\": \"ComputeDSSP\",\n",
      "  \"action_input\": {\n",
      "    \"traj_file\": \"rec0_121909\",\n",
      "    \"top_file\": \"top_sim0_121908\"\n",
      "  }\n",
      "}\n",
      "```\u001b[32;1m\u001b[1;3mThought: Now that the simulation is complete, I need to analyze the secondary structure of the protein before and after the simulation to see if it has changed.\n",
      "\n",
      "Action:\n",
      "```\n",
      "{\n",
      "  \"action\": \"ComputeDSSP\",\n",
      "  \"action_input\": {\n",
      "    \"traj_file\": \"rec0_121909\",\n",
      "    \"top_file\": \"top_sim0_121908\"\n",
      "  }\n",
      "}\n",
      "```\u001b[0m"
     ]
    },
    {
     "name": "stderr",
     "output_type": "stream",
     "text": [
      "/opt/anaconda3/envs/llama-mdagent/lib/python3.11/site-packages/mdtraj/formats/pdb/pdbfile.py:200: UserWarning: Unlikely unit cell vectors detected in PDB file likely resulting from a dummy CRYST1 record. Discarding unit cell vectors.\n",
      "  warnings.warn('Unlikely unit cell vectors detected in PDB file likely '\n"
     ]
    },
    {
     "name": "stdout",
     "output_type": "stream",
     "text": [
      "\n",
      "Observation: \u001b[36;1m\u001b[1;3m{'helix': 19761, 'strand': 589, 'coil': 49790, 'not assigned, not a protein residue': 0}\u001b[0m\n",
      "Thought:Thought: Now that I have the secondary structure analysis of the protein after the simulation, I need to compare it to the secondary structure before the simulation to see if it has changed.\n",
      "\n",
      "Action:\n",
      "```\n",
      "{\n",
      "  \"action\": \"ComputeDSSP\",\n",
      "  \"action_input\": {\n",
      "    \"traj_file\": \"1XQ8_121858\",\n",
      "    \"top_file\": \"1XQ8_121858\"\n",
      "  }\n",
      "}\n",
      "```\n",
      "\u001b[32;1m\u001b[1;3mThought: Now that I have the secondary structure analysis of the protein after the simulation, I need to compare it to the secondary structure before the simulation to see if it has changed.\n",
      "\n",
      "Action:\n",
      "```\n",
      "{\n",
      "  \"action\": \"ComputeDSSP\",\n",
      "  \"action_input\": {\n",
      "    \"traj_file\": \"1XQ8_121858\",\n",
      "    \"top_file\": \"1XQ8_121858\"\n",
      "  }\n",
      "}\n",
      "```\n",
      "\u001b[0m"
     ]
    },
    {
     "name": "stderr",
     "output_type": "stream",
     "text": [
      "/opt/anaconda3/envs/llama-mdagent/lib/python3.11/site-packages/mdtraj/formats/pdb/pdbfile.py:200: UserWarning: Unlikely unit cell vectors detected in PDB file likely resulting from a dummy CRYST1 record. Discarding unit cell vectors.\n",
      "  warnings.warn('Unlikely unit cell vectors detected in PDB file likely '\n"
     ]
    },
    {
     "name": "stdout",
     "output_type": "stream",
     "text": [
      "\n",
      "Observation: \u001b[36;1m\u001b[1;3m{'helix': 83, 'strand': 2, 'coil': 55, 'not assigned, not a protein residue': 0}\u001b[0m\n",
      "Thought:Thought: Now that I have the secondary structure analysis of the protein before and after the simulation, I can compare the results to see if the secondary structure has changed.\n",
      "\n",
      "Action:\n",
      "```\n",
      "{\n",
      "  \"action\": \"Final Answer\",\n",
      "  \"action_input\": \"The secondary structure of the protein 1XQ8 has changed from before the simulation to after. The initial structure had 83 helix, 2 strand, and 55 coil residues, while the final structure had 19761 helix, 589 strand, and 49790 coil residues.\"\n",
      "}\n",
      "```\u001b[32;1m\u001b[1;3mThought: Now that I have the secondary structure analysis of the protein before and after the simulation, I can compare the results to see if the secondary structure has changed.\n",
      "\n",
      "Action:\n",
      "```\n",
      "{\n",
      "  \"action\": \"Final Answer\",\n",
      "  \"action_input\": \"The secondary structure of the protein 1XQ8 has changed from before the simulation to after. The initial structure had 83 helix, 2 strand, and 55 coil residues, while the final structure had 19761 helix, 589 strand, and 49790 coil residues.\"\n",
      "}\n",
      "```\u001b[0m\n",
      "\n",
      "\u001b[1m> Finished chain.\u001b[0m\n",
      "Here is a summary of the agent's attempts to solve the problem:\n",
      "\n",
      "**Prompt:** Simulate 1XQ8 for 1ns at temperature 300K. Then tell me if the secondary structure changed from before the simulation to after.\n",
      "\n",
      "**Step 1:** (No explicit Thought or Action is provided, but it can be inferred that the agent decided to run a molecular dynamics simulation using a specific tool.)\n",
      "\n",
      "**Action:** \n",
      "``` \n",
      "{\n",
      "    action: 'run_simulation',\n",
      "    action_input: '1XQ8, 1ns, 300K'\n",
      "}\n",
      "```\n",
      "\n",
      "**Step 2:** (No explicit Thought or Action is provided, but it can be inferred that the agent analyzed the secondary structure of the protein before and after the simulation.)\n",
      "\n",
      "**Action:** \n",
      "``` \n",
      "{\n",
      "    action: 'analyze_secondary_structure',\n",
      "    action_input: 'initial_structure, final_structure'\n",
      "}\n",
      "```\n",
      "\n",
      "**Final Answer:** The secondary structure of the protein 1XQ8 has changed from before the simulation to after. The initial structure had 83 helix, 2 strand, and 55 coil residues, while the final structure had 19761 helix, 589 strand, and 49790 coil residues.\n",
      "\n",
      "Note that the agent's thought process and specific actions are not explicitly stated, but can be inferred from the output. The agent successfully simulated the protein 1XQ8 for 1ns at 300K and analyzed the secondary structure before and after the simulation, providing a clear answer to the question.Your run id is:  9S0RCVI8\n"
     ]
    },
    {
     "data": {
      "text/plain": [
       "({'input': '\\n    You are an expert molecular dynamics scientist and\\n    your task is to respond to the question or\\n    solve the problem to the best of your ability using\\n    the provided tools.\\n\\n    You can only respond with a single complete\\n    Thought, Action, Action Input\\' format\\n    OR a single \\'Final Answer\\' format.\\n\\n    Complete format:\\n    Thought: (reflect on your progress and decide what \" \"to do next)\\n    Action: \\n    ```\\n    {\\n        action: (the action name, should be the name of a tool),\\n        action_input: (the input string to the action)\\n    }\\n    \\'\\'\\'\\n\\n    OR\\n\\n    Final Answer: (the final response to the original input\\n    question, when all steps are complete)\\n\\n    You are required to use the tools provided,\\n    using the most specific tool\\n    available for each action.\\n    Your final answer should contain all information\\n    necessary to answer the question and subquestions.\\n    Before you finish, reflect on your progress and make\\n    sure you have addressed the question in its entirety.\\n\\n    If you are asked to continue\\n    or reference previous runs,\\n    the context will be provided to you.\\n    If context is provided, you should assume\\n    you are continuing a chat.\\n\\n    Here is the input:\\n    Previous Context: None\\n    Question: Simulate 1XQ8 for 1ns at temperate 300K. Then tell me if the secondary structure changed from before the simulation to after. ',\n",
       "  'output': 'The secondary structure of the protein 1XQ8 has changed from before the simulation to after. The initial structure had 83 helix, 2 strand, and 55 coil residues, while the final structure had 19761 helix, 589 strand, and 49790 coil residues.'},\n",
       " '9S0RCVI8')"
      ]
     },
     "execution_count": 3,
     "metadata": {},
     "output_type": "execute_result"
    }
   ],
   "source": [
    "agent.run(prompt5)"
   ]
  },
  {
   "cell_type": "code",
   "execution_count": 4,
   "metadata": {},
   "outputs": [
    {
     "name": "stdout",
     "output_type": "stream",
     "text": [
      "Files found in registry: 1XQ8_121858: PDB file downloaded from RSCB, PDBFile ID: 1XQ8_121858, top_sim0_121908: Initial positions for simulation sim0_121908, sim0_121908: Basic Simulation of Protein 1XQ8_121858, rec0_121909: Simulation trajectory for protein 1XQ8_121858 and simulation sim0_121908, rec1_121909: Simulation state log for protein 1XQ8_121858 and simulation sim0_121908, rec2_121909: Simulation pdb frames for protein 1XQ8_121858 and simulation sim0_121908, rec0_140051: dssp values for trajectory with id: rec0_121909, rec0_140055: dssp values for trajectory with id: 1XQ8_121858\n"
     ]
    }
   ],
   "source": [
    "registry = agent.path_registry\n",
    "print(registry.list_path_names_and_descriptions())"
   ]
  },
  {
   "cell_type": "code",
   "execution_count": 5,
   "metadata": {},
   "outputs": [
    {
     "name": "stdout",
     "output_type": "stream",
     "text": [
      "date and time: 2024-08-06\n",
      "time: 14:01:03\n"
     ]
    }
   ],
   "source": [
    "now = datetime.datetime.now()\n",
    "date = now.strftime(\"%Y-%m-%d\")\n",
    "print(\"date and time:\",date)\n",
    "time = now.strftime(\"%H:%M:%S\")\n",
    "print(\"time:\",time)"
   ]
  },
  {
   "cell_type": "code",
   "execution_count": 6,
   "metadata": {},
   "outputs": [
    {
     "name": "stdout",
     "output_type": "stream",
     "text": [
      "Files found in registry: 1XQ8_121858: PDB file downloaded from RSCB\n",
      " PDBFile ID: 1XQ8_121858\n",
      " top_sim0_121908: Initial positions for simulation sim0_121908\n",
      " sim0_121908: Basic Simulation of Protein 1XQ8_121858\n",
      " rec0_121909: Simulation trajectory for protein 1XQ8_121858 and simulation sim0_121908\n",
      " rec1_121909: Simulation state log for protein 1XQ8_121858 and simulation sim0_121908\n",
      " rec2_121909: Simulation pdb frames for protein 1XQ8_121858 and simulation sim0_121908\n",
      " rec0_140051: dssp values for trajectory with id: rec0_121909\n",
      " rec0_140055: dssp values for trajectory with id: 1XQ8_121858\n"
     ]
    }
   ],
   "source": [
    "registry = agent.path_registry\n",
    "paths_and_descriptions = registry.list_path_names_and_descriptions()\n",
    "print(\"\\n\".join(paths_and_descriptions.split(\",\")))"
   ]
  },
  {
   "cell_type": "code",
   "execution_count": 9,
   "metadata": {},
   "outputs": [
    {
     "name": "stdout",
     "output_type": "stream",
     "text": [
      "Number of initial sheets:  0\n",
      "Number of initial helices:  73\n",
      "Number of initial coils:  67\n",
      "Number of final sheets:  0\n",
      "Number of final helices:  26\n",
      "Number of final coils:  114\n"
     ]
    }
   ],
   "source": [
    "import mdtraj as md\n",
    "import numpy as np\n",
    "\n",
    "traj_path = registry.get_mapped_path(\"rec2_121909\")\n",
    "top_path = registry.get_mapped_path(\"top_sim0_121908\")\n",
    "traj = md.load(traj_path, top=top_path)\n",
    "\n",
    "# Compute the secondary structure of the trajectory\n",
    "dssp_final = md.compute_dssp(traj[-1], simplified=True)\n",
    "dssp_initial = md.compute_dssp(traj[0], simplified=True)\n",
    "\n",
    "print(\"Number of initial sheets: \",len([i for i in dssp_initial[0] if i == 'E']))\n",
    "print(\"Number of initial helices: \",len([i for i in dssp_initial[0] if i == 'H']))\n",
    "print(\"Number of initial coils: \",len([i for i in dssp_initial[0] if i == 'C']))\n",
    "\n",
    "print(\"Number of final sheets: \",len([i for i in dssp_final[0] if i == 'E']))\n",
    "print(\"Number of final helices: \",len([i for i in dssp_final[0] if i == 'H']))\n",
    "print(\"Number of final coils: \",len([i for i in dssp_final[0] if i == 'C']))\n",
    "\n"
   ]
  },
  {
   "cell_type": "code",
   "execution_count": 4,
   "metadata": {},
   "outputs": [
    {
     "name": "stdout",
     "output_type": "stream",
     "text": [
      "Number of sheets in PDB:  2\n",
      "Number of helices in PDB:  83\n",
      "Number of coils in PDB:  55\n"
     ]
    },
    {
     "name": "stderr",
     "output_type": "stream",
     "text": [
      "/opt/anaconda3/envs/llama-mdagent/lib/python3.11/site-packages/mdtraj/formats/pdb/pdbfile.py:200: UserWarning: Unlikely unit cell vectors detected in PDB file likely resulting from a dummy CRYST1 record. Discarding unit cell vectors.\n",
      "  warnings.warn('Unlikely unit cell vectors detected in PDB file likely '\n"
     ]
    }
   ],
   "source": [
    "from mdagent import MDAgent\n",
    "import mdtraj as md\n",
    "\n",
    "agent = MDAgent(ckpt_dir='ckpt_73')\n",
    "registry = agent.path_registry\n",
    "\n",
    "pdb_path = registry.get_mapped_path('1XQ8_121858')\n",
    "\n",
    "traj = md.load(pdb_path)\n",
    "\n",
    "# Compute the secondary structure of the trajectory\n",
    "dssp = md.compute_dssp(traj[0], simplified=True)\n",
    "\n",
    "print(\"Number of sheets in PDB: \",len([i for i in dssp[0] if i == 'E']))\n",
    "print(\"Number of helices in PDB: \",len([i for i in dssp[0] if i == 'H']))\n",
    "print(\"Number of coils in PDB: \",len([i for i in dssp[0] if i == 'C']))\n",
    "\n"
   ]
  },
  {
   "cell_type": "markdown",
   "metadata": {},
   "source": [
    "# Experiment Result: \n",
    "### Completed without Exception or TimeOut Errors  ✅\n",
    "### Attempted all necessary steps ✅\n",
    "### Completed without Hallucination ✅\n",
    "### Logic make sense  ✅\n",
    "### Correct Answer ✅"
   ]
  },
  {
   "cell_type": "markdown",
   "metadata": {},
   "source": [
    "Final answer returns the sum of all secondary structure assignments instead of the last frame. Also, the agent chose to use original PDB as 'before' the simulation and it technically isn't wrong. "
   ]
  }
 ],
 "metadata": {
  "kernelspec": {
   "display_name": "mdagent2",
   "language": "python",
   "name": "python3"
  },
  "language_info": {
   "codemirror_mode": {
    "name": "ipython",
    "version": 3
   },
   "file_extension": ".py",
   "mimetype": "text/x-python",
   "name": "python",
   "nbconvert_exporter": "python",
   "pygments_lexer": "ipython3",
   "version": "3.11.8"
  }
 },
 "nbformat": 4,
 "nbformat_minor": 2
}
