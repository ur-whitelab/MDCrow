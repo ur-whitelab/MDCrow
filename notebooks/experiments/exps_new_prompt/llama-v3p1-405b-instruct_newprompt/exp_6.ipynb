{
 "cells": [
  {
   "cell_type": "code",
   "execution_count": 1,
   "metadata": {},
   "outputs": [],
   "source": [
    "import datetime\n",
    "import os\n",
    "from mdagent import MDAgent"
   ]
  },
  {
   "cell_type": "code",
   "execution_count": 2,
   "metadata": {},
   "outputs": [
    {
     "name": "stdout",
     "output_type": "stream",
     "text": [
      "date and time: 2024-08-06\n",
      "time: 17:18:05\n",
      "LLM:  accounts/fireworks/models/llama-v3p1-405b-instruct \n",
      "Temperature:  0.1\n"
     ]
    }
   ],
   "source": [
    "prompt6 = \"Simulate 1A3N and 7VDE, two PDB IDs for hemoglobin with the same parameters. Find the appropriate parameters from literature. Then, plot the radius of gyration throughout the both simulations.\"\n",
    "llm_var = \"llama-v3p1-405b-instruct\"\n",
    "tools = \"all\"\n",
    "agent = MDAgent(agent_type=\"Structured\", model=llm_var, top_k_tools=tools)\n",
    "now = datetime.datetime.now()\n",
    "date = now.strftime(\"%Y-%m-%d\")\n",
    "print(\"date and time:\",date)\n",
    "time = now.strftime(\"%H:%M:%S\")\n",
    "print(\"time:\",time)\n",
    "print(\"LLM: \",agent.llm.model_name,\"\\nTemperature: \",agent.llm.temperature)"
   ]
  },
  {
   "cell_type": "code",
   "execution_count": 3,
   "metadata": {},
   "outputs": [
    {
     "name": "stdout",
     "output_type": "stream",
     "text": [
      "\n",
      "\n",
      "\u001b[1m> Entering new AgentExecutor chain...\u001b[0m\n",
      "Thought: First, I need to find the appropriate parameters for simulating hemoglobin from literature. Then, I can use these parameters to simulate the two PDB IDs, 1A3N and 7VDE. After the simulations, I will calculate and plot the radius of gyration for both simulations.\n",
      "\n",
      "Action:\n",
      "```\n",
      "{\n",
      "  \"action\": \"LiteratureSearch\",\n",
      "  \"action_input\": \"hemoglobin simulation parameters\"\n",
      "}\n",
      "```\u001b[32;1m\u001b[1;3mThought: First, I need to find the appropriate parameters for simulating hemoglobin from literature. Then, I can use these parameters to simulate the two PDB IDs, 1A3N and 7VDE. After the simulations, I will calculate and plot the radius of gyration for both simulations.\n",
      "\n",
      "Action:\n",
      "```\n",
      "{\n",
      "  \"action\": \"LiteratureSearch\",\n",
      "  \"action_input\": \"hemoglobin simulation parameters\"\n",
      "}\n",
      "```\u001b[0m\"Molecular dynamics simulation parameters for hemoglobin protein structure prediction\"\n",
      "Search: \"Molecular dynamics simulation parameters for hemoglobin protein structure prediction\"\n"
     ]
    },
    {
     "name": "stderr",
     "output_type": "stream",
     "text": [
      "Hit a service limit per status 429 with message {\"message\": \"Too Many Requests. Please wait and try again or apply for a key for higher rate limits. https://www.semanticscholar.org/product/api#api-key-form\", \"code\": \"429\"}, sleeping 0.14-sec before retry 1.\n",
      "Hit a service limit per status 429 with message {\"message\": \"Too Many Requests. Please wait and try again or apply for a key for higher rate limits. https://www.semanticscholar.org/product/api#api-key-form\", \"code\": \"429\"}, sleeping 0.28-sec before retry 2.\n",
      "Hit a service limit per status 429 with message {\"message\": \"Too Many Requests. Please wait and try again or apply for a key for higher rate limits. https://www.semanticscholar.org/product/api#api-key-form\", \"code\": \"429\"}, sleeping 0.48-sec before retry 3.\n",
      "Hit a service limit per status 429 with message {\"message\": \"Too Many Requests. Please wait and try again or apply for a key for higher rate limits. https://www.semanticscholar.org/product/api#api-key-form\", \"code\": \"429\"}, sleeping 0.83-sec before retry 4.\n",
      "\tScraper pubmed failed on paper titled 'Making optimal use of empirical energy functions: Force‐field parameterization in crystal space'.\n",
      "Traceback (most recent call last):\n",
      "  File \"/opt/anaconda3/envs/llama-mdagent/lib/python3.11/site-packages/paperscraper/scraper.py\", line 100, in scrape\n",
      "    result = await asyncio.wait_for(\n",
      "             ^^^^^^^^^^^^^^^^^^^^^^^\n",
      "  File \"/opt/anaconda3/envs/llama-mdagent/lib/python3.11/asyncio/tasks.py\", line 489, in wait_for\n",
      "    return fut.result()\n",
      "           ^^^^^^^^^^^^\n",
      "  File \"/opt/anaconda3/envs/llama-mdagent/lib/python3.11/asyncio/futures.py\", line 203, in result\n",
      "    raise self._exception.with_traceback(self._exception_tb)\n",
      "  File \"/opt/anaconda3/envs/llama-mdagent/lib/python3.11/asyncio/tasks.py\", line 277, in __step\n",
      "    result = coro.send(None)\n",
      "             ^^^^^^^^^^^^^^^\n",
      "  File \"/opt/anaconda3/envs/llama-mdagent/lib/python3.11/site-packages/paperscraper/lib.py\", line 293, in pubmed_scraper\n",
      "    await pubmed_to_pdf(pubmed_id, path, session)\n",
      "  File \"/opt/anaconda3/envs/llama-mdagent/lib/python3.11/site-packages/paperscraper/lib.py\", line 205, in pubmed_to_pdf\n",
      "    raise RuntimeError(f\"No PMC ID found for PubMed ID {pubmed_id}.\")\n",
      "RuntimeError: No PMC ID found for PubMed ID 15390263.\n",
      "\tScraper openaccess failed on paper titled 'Making optimal use of empirical energy functions: Force‐field parameterization in crystal space'.\n",
      "Traceback (most recent call last):\n",
      "  File \"/opt/anaconda3/envs/llama-mdagent/lib/python3.11/site-packages/paperscraper/scraper.py\", line 100, in scrape\n",
      "    result = await asyncio.wait_for(\n",
      "             ^^^^^^^^^^^^^^^^^^^^^^^\n",
      "  File \"/opt/anaconda3/envs/llama-mdagent/lib/python3.11/asyncio/tasks.py\", line 489, in wait_for\n",
      "    return fut.result()\n",
      "           ^^^^^^^^^^^^\n",
      "  File \"/opt/anaconda3/envs/llama-mdagent/lib/python3.11/asyncio/futures.py\", line 203, in result\n",
      "    raise self._exception.with_traceback(self._exception_tb)\n",
      "  File \"/opt/anaconda3/envs/llama-mdagent/lib/python3.11/asyncio/tasks.py\", line 277, in __step\n",
      "    result = coro.send(None)\n",
      "             ^^^^^^^^^^^^^^^\n",
      "  File \"/opt/anaconda3/envs/llama-mdagent/lib/python3.11/site-packages/paperscraper/lib.py\", line 302, in openaccess_scraper\n",
      "    await link_to_pdf(url, path, session)\n",
      "  File \"/opt/anaconda3/envs/llama-mdagent/lib/python3.11/site-packages/paperscraper/lib.py\", line 134, in link_to_pdf\n",
      "    r.raise_for_status()\n",
      "  File \"/opt/anaconda3/envs/llama-mdagent/lib/python3.11/site-packages/aiohttp/client_reqrep.py\", line 1060, in raise_for_status\n",
      "    raise ClientResponseError(\n",
      "aiohttp.client_exceptions.ClientResponseError: 403, message='Forbidden', url=URL('https://onlinelibrary.wiley.com/doi/pdfdirect/10.1002/prot.20251')\n",
      "\tScraper pubmed failed on paper titled 'AGBNP: An analytic implicit solvent model suitable for molecular dynamics simulations and high‐resolution modeling'.\n",
      "Traceback (most recent call last):\n",
      "  File \"/opt/anaconda3/envs/llama-mdagent/lib/python3.11/site-packages/paperscraper/scraper.py\", line 100, in scrape\n",
      "    result = await asyncio.wait_for(\n",
      "             ^^^^^^^^^^^^^^^^^^^^^^^\n",
      "  File \"/opt/anaconda3/envs/llama-mdagent/lib/python3.11/asyncio/tasks.py\", line 489, in wait_for\n",
      "    return fut.result()\n",
      "           ^^^^^^^^^^^^\n",
      "  File \"/opt/anaconda3/envs/llama-mdagent/lib/python3.11/asyncio/futures.py\", line 203, in result\n",
      "    raise self._exception.with_traceback(self._exception_tb)\n",
      "  File \"/opt/anaconda3/envs/llama-mdagent/lib/python3.11/asyncio/tasks.py\", line 277, in __step\n",
      "    result = coro.send(None)\n",
      "             ^^^^^^^^^^^^^^^\n",
      "  File \"/opt/anaconda3/envs/llama-mdagent/lib/python3.11/site-packages/paperscraper/lib.py\", line 293, in pubmed_scraper\n",
      "    await pubmed_to_pdf(pubmed_id, path, session)\n",
      "  File \"/opt/anaconda3/envs/llama-mdagent/lib/python3.11/site-packages/paperscraper/lib.py\", line 205, in pubmed_to_pdf\n",
      "    raise RuntimeError(f\"No PMC ID found for PubMed ID {pubmed_id}.\")\n",
      "RuntimeError: No PMC ID found for PubMed ID 14735568.\n",
      "\tScraper pubmed failed on paper titled 'A coarse‐grained protein force field for folding and structure prediction'.\n",
      "Traceback (most recent call last):\n",
      "  File \"/opt/anaconda3/envs/llama-mdagent/lib/python3.11/site-packages/paperscraper/scraper.py\", line 100, in scrape\n",
      "    result = await asyncio.wait_for(\n",
      "             ^^^^^^^^^^^^^^^^^^^^^^^\n",
      "  File \"/opt/anaconda3/envs/llama-mdagent/lib/python3.11/asyncio/tasks.py\", line 489, in wait_for\n",
      "    return fut.result()\n",
      "           ^^^^^^^^^^^^\n",
      "  File \"/opt/anaconda3/envs/llama-mdagent/lib/python3.11/asyncio/futures.py\", line 203, in result\n",
      "    raise self._exception.with_traceback(self._exception_tb)\n",
      "  File \"/opt/anaconda3/envs/llama-mdagent/lib/python3.11/asyncio/tasks.py\", line 277, in __step\n",
      "    result = coro.send(None)\n",
      "             ^^^^^^^^^^^^^^^\n",
      "  File \"/opt/anaconda3/envs/llama-mdagent/lib/python3.11/site-packages/paperscraper/lib.py\", line 293, in pubmed_scraper\n",
      "    await pubmed_to_pdf(pubmed_id, path, session)\n",
      "  File \"/opt/anaconda3/envs/llama-mdagent/lib/python3.11/site-packages/paperscraper/lib.py\", line 205, in pubmed_to_pdf\n",
      "    raise RuntimeError(f\"No PMC ID found for PubMed ID {pubmed_id}.\")\n",
      "RuntimeError: No PMC ID found for PubMed ID 17600832.\n",
      "\tScraper openaccess failed on paper titled 'Understanding the mechanical response of double-stranded DNA and RNA under constant stretching forces using all-atom molecular dynamics'.\n",
      "Traceback (most recent call last):\n",
      "  File \"/opt/anaconda3/envs/llama-mdagent/lib/python3.11/site-packages/paperscraper/scraper.py\", line 100, in scrape\n",
      "    result = await asyncio.wait_for(\n",
      "             ^^^^^^^^^^^^^^^^^^^^^^^\n",
      "  File \"/opt/anaconda3/envs/llama-mdagent/lib/python3.11/asyncio/tasks.py\", line 489, in wait_for\n",
      "    return fut.result()\n",
      "           ^^^^^^^^^^^^\n",
      "  File \"/opt/anaconda3/envs/llama-mdagent/lib/python3.11/asyncio/futures.py\", line 203, in result\n",
      "    raise self._exception.with_traceback(self._exception_tb)\n",
      "  File \"/opt/anaconda3/envs/llama-mdagent/lib/python3.11/asyncio/tasks.py\", line 277, in __step\n",
      "    result = coro.send(None)\n",
      "             ^^^^^^^^^^^^^^^\n",
      "  File \"/opt/anaconda3/envs/llama-mdagent/lib/python3.11/site-packages/paperscraper/lib.py\", line 302, in openaccess_scraper\n",
      "    await link_to_pdf(url, path, session)\n",
      "  File \"/opt/anaconda3/envs/llama-mdagent/lib/python3.11/site-packages/paperscraper/lib.py\", line 134, in link_to_pdf\n",
      "    r.raise_for_status()\n",
      "  File \"/opt/anaconda3/envs/llama-mdagent/lib/python3.11/site-packages/aiohttp/client_reqrep.py\", line 1060, in raise_for_status\n",
      "    raise ClientResponseError(\n",
      "aiohttp.client_exceptions.ClientResponseError: 403, message='Forbidden', url=URL('https://www.pnas.org/content/pnas/114/27/7049.full.pdf')\n",
      "\tScraper pubmed failed on paper titled 'Princeton_TIGRESS 2.0: High refinement consistency and net gains through support vector machines and molecular dynamics in double‐blind predictions during the CASP11 experiment'.\n",
      "Traceback (most recent call last):\n",
      "  File \"/opt/anaconda3/envs/llama-mdagent/lib/python3.11/site-packages/paperscraper/scraper.py\", line 100, in scrape\n",
      "    result = await asyncio.wait_for(\n",
      "             ^^^^^^^^^^^^^^^^^^^^^^^\n",
      "  File \"/opt/anaconda3/envs/llama-mdagent/lib/python3.11/asyncio/tasks.py\", line 489, in wait_for\n",
      "    return fut.result()\n",
      "           ^^^^^^^^^^^^\n",
      "  File \"/opt/anaconda3/envs/llama-mdagent/lib/python3.11/asyncio/futures.py\", line 203, in result\n",
      "    raise self._exception.with_traceback(self._exception_tb)\n",
      "  File \"/opt/anaconda3/envs/llama-mdagent/lib/python3.11/asyncio/tasks.py\", line 277, in __step\n",
      "    result = coro.send(None)\n",
      "             ^^^^^^^^^^^^^^^\n",
      "  File \"/opt/anaconda3/envs/llama-mdagent/lib/python3.11/site-packages/paperscraper/lib.py\", line 293, in pubmed_scraper\n",
      "    await pubmed_to_pdf(pubmed_id, path, session)\n",
      "  File \"/opt/anaconda3/envs/llama-mdagent/lib/python3.11/site-packages/paperscraper/lib.py\", line 205, in pubmed_to_pdf\n",
      "    raise RuntimeError(f\"No PMC ID found for PubMed ID {pubmed_id}.\")\n",
      "RuntimeError: No PMC ID found for PubMed ID 28241391.\n",
      "\tScraper pubmed failed on paper titled 'A conformational analysis of mouse Nalp3 domain structures by molecular dynamics simulations, and binding site analysis.'.\n",
      "Traceback (most recent call last):\n",
      "  File \"/opt/anaconda3/envs/llama-mdagent/lib/python3.11/site-packages/paperscraper/scraper.py\", line 100, in scrape\n",
      "    result = await asyncio.wait_for(\n",
      "             ^^^^^^^^^^^^^^^^^^^^^^^\n",
      "  File \"/opt/anaconda3/envs/llama-mdagent/lib/python3.11/asyncio/tasks.py\", line 489, in wait_for\n",
      "    return fut.result()\n",
      "           ^^^^^^^^^^^^\n",
      "  File \"/opt/anaconda3/envs/llama-mdagent/lib/python3.11/asyncio/futures.py\", line 203, in result\n",
      "    raise self._exception.with_traceback(self._exception_tb)\n",
      "  File \"/opt/anaconda3/envs/llama-mdagent/lib/python3.11/asyncio/tasks.py\", line 277, in __step\n",
      "    result = coro.send(None)\n",
      "             ^^^^^^^^^^^^^^^\n",
      "  File \"/opt/anaconda3/envs/llama-mdagent/lib/python3.11/site-packages/paperscraper/lib.py\", line 293, in pubmed_scraper\n",
      "    await pubmed_to_pdf(pubmed_id, path, session)\n",
      "  File \"/opt/anaconda3/envs/llama-mdagent/lib/python3.11/site-packages/paperscraper/lib.py\", line 205, in pubmed_to_pdf\n",
      "    raise RuntimeError(f\"No PMC ID found for PubMed ID {pubmed_id}.\")\n",
      "RuntimeError: No PMC ID found for PubMed ID 24595807.\n",
      "\tScraper pubmed failed on paper titled 'Ab Initio Prediction of NMR Spin Relaxation Parameters from Molecular Dynamics Simulations.'.\n",
      "Traceback (most recent call last):\n",
      "  File \"/opt/anaconda3/envs/llama-mdagent/lib/python3.11/site-packages/paperscraper/scraper.py\", line 100, in scrape\n",
      "    result = await asyncio.wait_for(\n",
      "             ^^^^^^^^^^^^^^^^^^^^^^^\n",
      "  File \"/opt/anaconda3/envs/llama-mdagent/lib/python3.11/asyncio/tasks.py\", line 489, in wait_for\n",
      "    return fut.result()\n",
      "           ^^^^^^^^^^^^\n",
      "  File \"/opt/anaconda3/envs/llama-mdagent/lib/python3.11/asyncio/futures.py\", line 203, in result\n",
      "    raise self._exception.with_traceback(self._exception_tb)\n",
      "  File \"/opt/anaconda3/envs/llama-mdagent/lib/python3.11/asyncio/tasks.py\", line 277, in __step\n",
      "    result = coro.send(None)\n",
      "             ^^^^^^^^^^^^^^^\n",
      "  File \"/opt/anaconda3/envs/llama-mdagent/lib/python3.11/site-packages/paperscraper/lib.py\", line 293, in pubmed_scraper\n",
      "    await pubmed_to_pdf(pubmed_id, path, session)\n",
      "  File \"/opt/anaconda3/envs/llama-mdagent/lib/python3.11/site-packages/paperscraper/lib.py\", line 205, in pubmed_to_pdf\n",
      "    raise RuntimeError(f\"No PMC ID found for PubMed ID {pubmed_id}.\")\n",
      "RuntimeError: No PMC ID found for PubMed ID 29294268.\n"
     ]
    },
    {
     "ename": "ValidationError",
     "evalue": "1 validation error for Docs\n  Value error, Could not guess model type for accounts/fireworks/models/llama-v3p1-405b-instruct.  [type=value_error, input_value={'llm': 'accounts/firewor...ama-v3p1-405b-instruct'}, input_type=dict]\n    For further information visit https://errors.pydantic.dev/2.8/v/value_error",
     "output_type": "error",
     "traceback": [
      "\u001b[0;31m---------------------------------------------------------------------------\u001b[0m",
      "\u001b[0;31mValidationError\u001b[0m                           Traceback (most recent call last)",
      "Cell \u001b[0;32mIn[3], line 1\u001b[0m\n\u001b[0;32m----> 1\u001b[0m agent\u001b[38;5;241m.\u001b[39mrun(prompt6)\n",
      "File \u001b[0;32m~/repos/md-agent/mdagent/agent/agent.py:107\u001b[0m, in \u001b[0;36mMDAgent.run\u001b[0;34m(self, user_input, callbacks)\u001b[0m\n\u001b[1;32m    105\u001b[0m     \u001b[38;5;28mself\u001b[39m\u001b[38;5;241m.\u001b[39mprompt \u001b[38;5;241m=\u001b[39m openaifxn_prompt\u001b[38;5;241m.\u001b[39mformat(\u001b[38;5;28minput\u001b[39m\u001b[38;5;241m=\u001b[39muser_input, context\u001b[38;5;241m=\u001b[39mrun_memory)\n\u001b[1;32m    106\u001b[0m \u001b[38;5;28mself\u001b[39m\u001b[38;5;241m.\u001b[39magent \u001b[38;5;241m=\u001b[39m \u001b[38;5;28mself\u001b[39m\u001b[38;5;241m.\u001b[39m_initialize_tools_and_agent(user_input)\n\u001b[0;32m--> 107\u001b[0m model_output \u001b[38;5;241m=\u001b[39m \u001b[38;5;28mself\u001b[39m\u001b[38;5;241m.\u001b[39magent\u001b[38;5;241m.\u001b[39minvoke(\u001b[38;5;28mself\u001b[39m\u001b[38;5;241m.\u001b[39mprompt, callbacks\u001b[38;5;241m=\u001b[39mcallbacks)\n\u001b[1;32m    108\u001b[0m \u001b[38;5;28;01mif\u001b[39;00m \u001b[38;5;28mself\u001b[39m\u001b[38;5;241m.\u001b[39muse_memory:\n\u001b[1;32m    109\u001b[0m     \u001b[38;5;28mself\u001b[39m\u001b[38;5;241m.\u001b[39mmemory\u001b[38;5;241m.\u001b[39mgenerate_agent_summary(model_output)\n",
      "File \u001b[0;32m/opt/anaconda3/envs/llama-mdagent/lib/python3.11/site-packages/langchain/chains/base.py:166\u001b[0m, in \u001b[0;36mChain.invoke\u001b[0;34m(self, input, config, **kwargs)\u001b[0m\n\u001b[1;32m    164\u001b[0m \u001b[38;5;28;01mexcept\u001b[39;00m \u001b[38;5;167;01mBaseException\u001b[39;00m \u001b[38;5;28;01mas\u001b[39;00m e:\n\u001b[1;32m    165\u001b[0m     run_manager\u001b[38;5;241m.\u001b[39mon_chain_error(e)\n\u001b[0;32m--> 166\u001b[0m     \u001b[38;5;28;01mraise\u001b[39;00m e\n\u001b[1;32m    167\u001b[0m run_manager\u001b[38;5;241m.\u001b[39mon_chain_end(outputs)\n\u001b[1;32m    169\u001b[0m \u001b[38;5;28;01mif\u001b[39;00m include_run_info:\n",
      "File \u001b[0;32m/opt/anaconda3/envs/llama-mdagent/lib/python3.11/site-packages/langchain/chains/base.py:156\u001b[0m, in \u001b[0;36mChain.invoke\u001b[0;34m(self, input, config, **kwargs)\u001b[0m\n\u001b[1;32m    153\u001b[0m \u001b[38;5;28;01mtry\u001b[39;00m:\n\u001b[1;32m    154\u001b[0m     \u001b[38;5;28mself\u001b[39m\u001b[38;5;241m.\u001b[39m_validate_inputs(inputs)\n\u001b[1;32m    155\u001b[0m     outputs \u001b[38;5;241m=\u001b[39m (\n\u001b[0;32m--> 156\u001b[0m         \u001b[38;5;28mself\u001b[39m\u001b[38;5;241m.\u001b[39m_call(inputs, run_manager\u001b[38;5;241m=\u001b[39mrun_manager)\n\u001b[1;32m    157\u001b[0m         \u001b[38;5;28;01mif\u001b[39;00m new_arg_supported\n\u001b[1;32m    158\u001b[0m         \u001b[38;5;28;01melse\u001b[39;00m \u001b[38;5;28mself\u001b[39m\u001b[38;5;241m.\u001b[39m_call(inputs)\n\u001b[1;32m    159\u001b[0m     )\n\u001b[1;32m    161\u001b[0m     final_outputs: Dict[\u001b[38;5;28mstr\u001b[39m, Any] \u001b[38;5;241m=\u001b[39m \u001b[38;5;28mself\u001b[39m\u001b[38;5;241m.\u001b[39mprep_outputs(\n\u001b[1;32m    162\u001b[0m         inputs, outputs, return_only_outputs\n\u001b[1;32m    163\u001b[0m     )\n\u001b[1;32m    164\u001b[0m \u001b[38;5;28;01mexcept\u001b[39;00m \u001b[38;5;167;01mBaseException\u001b[39;00m \u001b[38;5;28;01mas\u001b[39;00m e:\n",
      "File \u001b[0;32m/opt/anaconda3/envs/llama-mdagent/lib/python3.11/site-packages/langchain/agents/agent.py:1612\u001b[0m, in \u001b[0;36mAgentExecutor._call\u001b[0;34m(self, inputs, run_manager)\u001b[0m\n\u001b[1;32m   1610\u001b[0m \u001b[38;5;66;03m# We now enter the agent loop (until it returns something).\u001b[39;00m\n\u001b[1;32m   1611\u001b[0m \u001b[38;5;28;01mwhile\u001b[39;00m \u001b[38;5;28mself\u001b[39m\u001b[38;5;241m.\u001b[39m_should_continue(iterations, time_elapsed):\n\u001b[0;32m-> 1612\u001b[0m     next_step_output \u001b[38;5;241m=\u001b[39m \u001b[38;5;28mself\u001b[39m\u001b[38;5;241m.\u001b[39m_take_next_step(\n\u001b[1;32m   1613\u001b[0m         name_to_tool_map,\n\u001b[1;32m   1614\u001b[0m         color_mapping,\n\u001b[1;32m   1615\u001b[0m         inputs,\n\u001b[1;32m   1616\u001b[0m         intermediate_steps,\n\u001b[1;32m   1617\u001b[0m         run_manager\u001b[38;5;241m=\u001b[39mrun_manager,\n\u001b[1;32m   1618\u001b[0m     )\n\u001b[1;32m   1619\u001b[0m     \u001b[38;5;28;01mif\u001b[39;00m \u001b[38;5;28misinstance\u001b[39m(next_step_output, AgentFinish):\n\u001b[1;32m   1620\u001b[0m         \u001b[38;5;28;01mreturn\u001b[39;00m \u001b[38;5;28mself\u001b[39m\u001b[38;5;241m.\u001b[39m_return(\n\u001b[1;32m   1621\u001b[0m             next_step_output, intermediate_steps, run_manager\u001b[38;5;241m=\u001b[39mrun_manager\n\u001b[1;32m   1622\u001b[0m         )\n",
      "File \u001b[0;32m/opt/anaconda3/envs/llama-mdagent/lib/python3.11/site-packages/langchain/agents/agent.py:1318\u001b[0m, in \u001b[0;36mAgentExecutor._take_next_step\u001b[0;34m(self, name_to_tool_map, color_mapping, inputs, intermediate_steps, run_manager)\u001b[0m\n\u001b[1;32m   1309\u001b[0m \u001b[38;5;28;01mdef\u001b[39;00m \u001b[38;5;21m_take_next_step\u001b[39m(\n\u001b[1;32m   1310\u001b[0m     \u001b[38;5;28mself\u001b[39m,\n\u001b[1;32m   1311\u001b[0m     name_to_tool_map: Dict[\u001b[38;5;28mstr\u001b[39m, BaseTool],\n\u001b[0;32m   (...)\u001b[0m\n\u001b[1;32m   1315\u001b[0m     run_manager: Optional[CallbackManagerForChainRun] \u001b[38;5;241m=\u001b[39m \u001b[38;5;28;01mNone\u001b[39;00m,\n\u001b[1;32m   1316\u001b[0m ) \u001b[38;5;241m-\u001b[39m\u001b[38;5;241m>\u001b[39m Union[AgentFinish, List[Tuple[AgentAction, \u001b[38;5;28mstr\u001b[39m]]]:\n\u001b[1;32m   1317\u001b[0m     \u001b[38;5;28;01mreturn\u001b[39;00m \u001b[38;5;28mself\u001b[39m\u001b[38;5;241m.\u001b[39m_consume_next_step(\n\u001b[0;32m-> 1318\u001b[0m         [\n\u001b[1;32m   1319\u001b[0m             a\n\u001b[1;32m   1320\u001b[0m             \u001b[38;5;28;01mfor\u001b[39;00m a \u001b[38;5;129;01min\u001b[39;00m \u001b[38;5;28mself\u001b[39m\u001b[38;5;241m.\u001b[39m_iter_next_step(\n\u001b[1;32m   1321\u001b[0m                 name_to_tool_map,\n\u001b[1;32m   1322\u001b[0m                 color_mapping,\n\u001b[1;32m   1323\u001b[0m                 inputs,\n\u001b[1;32m   1324\u001b[0m                 intermediate_steps,\n\u001b[1;32m   1325\u001b[0m                 run_manager,\n\u001b[1;32m   1326\u001b[0m             )\n\u001b[1;32m   1327\u001b[0m         ]\n\u001b[1;32m   1328\u001b[0m     )\n",
      "File \u001b[0;32m/opt/anaconda3/envs/llama-mdagent/lib/python3.11/site-packages/langchain/agents/agent.py:1318\u001b[0m, in \u001b[0;36m<listcomp>\u001b[0;34m(.0)\u001b[0m\n\u001b[1;32m   1309\u001b[0m \u001b[38;5;28;01mdef\u001b[39;00m \u001b[38;5;21m_take_next_step\u001b[39m(\n\u001b[1;32m   1310\u001b[0m     \u001b[38;5;28mself\u001b[39m,\n\u001b[1;32m   1311\u001b[0m     name_to_tool_map: Dict[\u001b[38;5;28mstr\u001b[39m, BaseTool],\n\u001b[0;32m   (...)\u001b[0m\n\u001b[1;32m   1315\u001b[0m     run_manager: Optional[CallbackManagerForChainRun] \u001b[38;5;241m=\u001b[39m \u001b[38;5;28;01mNone\u001b[39;00m,\n\u001b[1;32m   1316\u001b[0m ) \u001b[38;5;241m-\u001b[39m\u001b[38;5;241m>\u001b[39m Union[AgentFinish, List[Tuple[AgentAction, \u001b[38;5;28mstr\u001b[39m]]]:\n\u001b[1;32m   1317\u001b[0m     \u001b[38;5;28;01mreturn\u001b[39;00m \u001b[38;5;28mself\u001b[39m\u001b[38;5;241m.\u001b[39m_consume_next_step(\n\u001b[0;32m-> 1318\u001b[0m         [\n\u001b[1;32m   1319\u001b[0m             a\n\u001b[1;32m   1320\u001b[0m             \u001b[38;5;28;01mfor\u001b[39;00m a \u001b[38;5;129;01min\u001b[39;00m \u001b[38;5;28mself\u001b[39m\u001b[38;5;241m.\u001b[39m_iter_next_step(\n\u001b[1;32m   1321\u001b[0m                 name_to_tool_map,\n\u001b[1;32m   1322\u001b[0m                 color_mapping,\n\u001b[1;32m   1323\u001b[0m                 inputs,\n\u001b[1;32m   1324\u001b[0m                 intermediate_steps,\n\u001b[1;32m   1325\u001b[0m                 run_manager,\n\u001b[1;32m   1326\u001b[0m             )\n\u001b[1;32m   1327\u001b[0m         ]\n\u001b[1;32m   1328\u001b[0m     )\n",
      "File \u001b[0;32m/opt/anaconda3/envs/llama-mdagent/lib/python3.11/site-packages/langchain/agents/agent.py:1403\u001b[0m, in \u001b[0;36mAgentExecutor._iter_next_step\u001b[0;34m(self, name_to_tool_map, color_mapping, inputs, intermediate_steps, run_manager)\u001b[0m\n\u001b[1;32m   1401\u001b[0m     \u001b[38;5;28;01myield\u001b[39;00m agent_action\n\u001b[1;32m   1402\u001b[0m \u001b[38;5;28;01mfor\u001b[39;00m agent_action \u001b[38;5;129;01min\u001b[39;00m actions:\n\u001b[0;32m-> 1403\u001b[0m     \u001b[38;5;28;01myield\u001b[39;00m \u001b[38;5;28mself\u001b[39m\u001b[38;5;241m.\u001b[39m_perform_agent_action(\n\u001b[1;32m   1404\u001b[0m         name_to_tool_map, color_mapping, agent_action, run_manager\n\u001b[1;32m   1405\u001b[0m     )\n",
      "File \u001b[0;32m/opt/anaconda3/envs/llama-mdagent/lib/python3.11/site-packages/langchain/agents/agent.py:1425\u001b[0m, in \u001b[0;36mAgentExecutor._perform_agent_action\u001b[0;34m(self, name_to_tool_map, color_mapping, agent_action, run_manager)\u001b[0m\n\u001b[1;32m   1423\u001b[0m         tool_run_kwargs[\u001b[38;5;124m\"\u001b[39m\u001b[38;5;124mllm_prefix\u001b[39m\u001b[38;5;124m\"\u001b[39m] \u001b[38;5;241m=\u001b[39m \u001b[38;5;124m\"\u001b[39m\u001b[38;5;124m\"\u001b[39m\n\u001b[1;32m   1424\u001b[0m     \u001b[38;5;66;03m# We then call the tool on the tool input to get an observation\u001b[39;00m\n\u001b[0;32m-> 1425\u001b[0m     observation \u001b[38;5;241m=\u001b[39m tool\u001b[38;5;241m.\u001b[39mrun(\n\u001b[1;32m   1426\u001b[0m         agent_action\u001b[38;5;241m.\u001b[39mtool_input,\n\u001b[1;32m   1427\u001b[0m         verbose\u001b[38;5;241m=\u001b[39m\u001b[38;5;28mself\u001b[39m\u001b[38;5;241m.\u001b[39mverbose,\n\u001b[1;32m   1428\u001b[0m         color\u001b[38;5;241m=\u001b[39mcolor,\n\u001b[1;32m   1429\u001b[0m         callbacks\u001b[38;5;241m=\u001b[39mrun_manager\u001b[38;5;241m.\u001b[39mget_child() \u001b[38;5;28;01mif\u001b[39;00m run_manager \u001b[38;5;28;01melse\u001b[39;00m \u001b[38;5;28;01mNone\u001b[39;00m,\n\u001b[1;32m   1430\u001b[0m         \u001b[38;5;241m*\u001b[39m\u001b[38;5;241m*\u001b[39mtool_run_kwargs,\n\u001b[1;32m   1431\u001b[0m     )\n\u001b[1;32m   1432\u001b[0m \u001b[38;5;28;01melse\u001b[39;00m:\n\u001b[1;32m   1433\u001b[0m     tool_run_kwargs \u001b[38;5;241m=\u001b[39m \u001b[38;5;28mself\u001b[39m\u001b[38;5;241m.\u001b[39magent\u001b[38;5;241m.\u001b[39mtool_run_logging_kwargs()\n",
      "File \u001b[0;32m/opt/anaconda3/envs/llama-mdagent/lib/python3.11/site-packages/langchain_core/tools.py:615\u001b[0m, in \u001b[0;36mBaseTool.run\u001b[0;34m(self, tool_input, verbose, start_color, color, callbacks, tags, metadata, run_name, run_id, config, tool_call_id, **kwargs)\u001b[0m\n\u001b[1;32m    613\u001b[0m \u001b[38;5;28;01mif\u001b[39;00m error_to_raise:\n\u001b[1;32m    614\u001b[0m     run_manager\u001b[38;5;241m.\u001b[39mon_tool_error(error_to_raise)\n\u001b[0;32m--> 615\u001b[0m     \u001b[38;5;28;01mraise\u001b[39;00m error_to_raise\n\u001b[1;32m    616\u001b[0m output \u001b[38;5;241m=\u001b[39m _format_output(content, artifact, tool_call_id, \u001b[38;5;28mself\u001b[39m\u001b[38;5;241m.\u001b[39mname, status)\n\u001b[1;32m    617\u001b[0m run_manager\u001b[38;5;241m.\u001b[39mon_tool_end(output, color\u001b[38;5;241m=\u001b[39mcolor, name\u001b[38;5;241m=\u001b[39m\u001b[38;5;28mself\u001b[39m\u001b[38;5;241m.\u001b[39mname, \u001b[38;5;241m*\u001b[39m\u001b[38;5;241m*\u001b[39mkwargs)\n",
      "File \u001b[0;32m/opt/anaconda3/envs/llama-mdagent/lib/python3.11/site-packages/langchain_core/tools.py:584\u001b[0m, in \u001b[0;36mBaseTool.run\u001b[0;34m(self, tool_input, verbose, start_color, color, callbacks, tags, metadata, run_name, run_id, config, tool_call_id, **kwargs)\u001b[0m\n\u001b[1;32m    582\u001b[0m \u001b[38;5;28;01mif\u001b[39;00m config_param \u001b[38;5;241m:=\u001b[39m _get_runnable_config_param(\u001b[38;5;28mself\u001b[39m\u001b[38;5;241m.\u001b[39m_run):\n\u001b[1;32m    583\u001b[0m     tool_kwargs[config_param] \u001b[38;5;241m=\u001b[39m config\n\u001b[0;32m--> 584\u001b[0m response \u001b[38;5;241m=\u001b[39m context\u001b[38;5;241m.\u001b[39mrun(\u001b[38;5;28mself\u001b[39m\u001b[38;5;241m.\u001b[39m_run, \u001b[38;5;241m*\u001b[39mtool_args, \u001b[38;5;241m*\u001b[39m\u001b[38;5;241m*\u001b[39mtool_kwargs)\n\u001b[1;32m    585\u001b[0m \u001b[38;5;28;01mif\u001b[39;00m \u001b[38;5;28mself\u001b[39m\u001b[38;5;241m.\u001b[39mresponse_format \u001b[38;5;241m==\u001b[39m \u001b[38;5;124m\"\u001b[39m\u001b[38;5;124mcontent_and_artifact\u001b[39m\u001b[38;5;124m\"\u001b[39m:\n\u001b[1;32m    586\u001b[0m     \u001b[38;5;28;01mif\u001b[39;00m \u001b[38;5;129;01mnot\u001b[39;00m \u001b[38;5;28misinstance\u001b[39m(response, \u001b[38;5;28mtuple\u001b[39m) \u001b[38;5;129;01mor\u001b[39;00m \u001b[38;5;28mlen\u001b[39m(response) \u001b[38;5;241m!=\u001b[39m \u001b[38;5;241m2\u001b[39m:\n",
      "File \u001b[0;32m~/repos/md-agent/mdagent/tools/base_tools/util_tools/search_tools.py:83\u001b[0m, in \u001b[0;36mScholar2ResultLLM._run\u001b[0;34m(self, query)\u001b[0m\n\u001b[1;32m     81\u001b[0m \u001b[38;5;28;01mdef\u001b[39;00m \u001b[38;5;21m_run\u001b[39m(\u001b[38;5;28mself\u001b[39m, query) \u001b[38;5;241m-\u001b[39m\u001b[38;5;241m>\u001b[39m \u001b[38;5;28mstr\u001b[39m:\n\u001b[1;32m     82\u001b[0m     nest_asyncio\u001b[38;5;241m.\u001b[39mapply()\n\u001b[0;32m---> 83\u001b[0m     \u001b[38;5;28;01mreturn\u001b[39;00m scholar2result_llm(\u001b[38;5;28mself\u001b[39m\u001b[38;5;241m.\u001b[39mllm, query, \u001b[38;5;28mself\u001b[39m\u001b[38;5;241m.\u001b[39mpath_registry)\n",
      "File \u001b[0;32m~/repos/md-agent/mdagent/tools/base_tools/util_tools/search_tools.py:51\u001b[0m, in \u001b[0;36mscholar2result_llm\u001b[0;34m(llm, query, path_registry, k, max_sources)\u001b[0m\n\u001b[1;32m     49\u001b[0m \u001b[38;5;28;01mif\u001b[39;00m \u001b[38;5;28mlen\u001b[39m(papers) \u001b[38;5;241m==\u001b[39m \u001b[38;5;241m0\u001b[39m:\n\u001b[1;32m     50\u001b[0m     \u001b[38;5;28;01mreturn\u001b[39;00m \u001b[38;5;124m\"\u001b[39m\u001b[38;5;124mFailed. Not enough papers found\u001b[39m\u001b[38;5;124m\"\u001b[39m\n\u001b[0;32m---> 51\u001b[0m docs \u001b[38;5;241m=\u001b[39m paperqa\u001b[38;5;241m.\u001b[39mDocs(llm\u001b[38;5;241m=\u001b[39mllm\u001b[38;5;241m.\u001b[39mmodel_name)\n\u001b[1;32m     52\u001b[0m not_loaded \u001b[38;5;241m=\u001b[39m \u001b[38;5;241m0\u001b[39m\n\u001b[1;32m     53\u001b[0m \u001b[38;5;28;01mfor\u001b[39;00m path, data \u001b[38;5;129;01min\u001b[39;00m papers\u001b[38;5;241m.\u001b[39mitems():\n",
      "File \u001b[0;32m/opt/anaconda3/envs/llama-mdagent/lib/python3.11/site-packages/paperqa/docs.py:126\u001b[0m, in \u001b[0;36mDocs.__init__\u001b[0;34m(self, **data)\u001b[0m\n\u001b[1;32m    124\u001b[0m \u001b[38;5;28;01mif\u001b[39;00m \u001b[38;5;124m\"\u001b[39m\u001b[38;5;124mdoc_index\u001b[39m\u001b[38;5;124m\"\u001b[39m \u001b[38;5;129;01min\u001b[39;00m data:\n\u001b[1;32m    125\u001b[0m     data[\u001b[38;5;124m\"\u001b[39m\u001b[38;5;124mdocs_index\u001b[39m\u001b[38;5;124m\"\u001b[39m] \u001b[38;5;241m=\u001b[39m data\u001b[38;5;241m.\u001b[39mpop(\u001b[38;5;124m\"\u001b[39m\u001b[38;5;124mdoc_index\u001b[39m\u001b[38;5;124m\"\u001b[39m)\n\u001b[0;32m--> 126\u001b[0m \u001b[38;5;28msuper\u001b[39m()\u001b[38;5;241m.\u001b[39m\u001b[38;5;21m__init__\u001b[39m(\u001b[38;5;241m*\u001b[39m\u001b[38;5;241m*\u001b[39mdata)\n\u001b[1;32m    127\u001b[0m \u001b[38;5;28mself\u001b[39m\u001b[38;5;241m.\u001b[39m_client \u001b[38;5;241m=\u001b[39m client\n\u001b[1;32m    128\u001b[0m \u001b[38;5;28mself\u001b[39m\u001b[38;5;241m.\u001b[39m_embedding_client \u001b[38;5;241m=\u001b[39m embedding_client\n",
      "File \u001b[0;32m/opt/anaconda3/envs/llama-mdagent/lib/python3.11/site-packages/pydantic/main.py:193\u001b[0m, in \u001b[0;36mBaseModel.__init__\u001b[0;34m(self, **data)\u001b[0m\n\u001b[1;32m    191\u001b[0m \u001b[38;5;66;03m# `__tracebackhide__` tells pytest and some other tools to omit this function from tracebacks\u001b[39;00m\n\u001b[1;32m    192\u001b[0m __tracebackhide__ \u001b[38;5;241m=\u001b[39m \u001b[38;5;28;01mTrue\u001b[39;00m\n\u001b[0;32m--> 193\u001b[0m \u001b[38;5;28mself\u001b[39m\u001b[38;5;241m.\u001b[39m__pydantic_validator__\u001b[38;5;241m.\u001b[39mvalidate_python(data, self_instance\u001b[38;5;241m=\u001b[39m\u001b[38;5;28mself\u001b[39m)\n",
      "\u001b[0;31mValidationError\u001b[0m: 1 validation error for Docs\n  Value error, Could not guess model type for accounts/fireworks/models/llama-v3p1-405b-instruct.  [type=value_error, input_value={'llm': 'accounts/firewor...ama-v3p1-405b-instruct'}, input_type=dict]\n    For further information visit https://errors.pydantic.dev/2.8/v/value_error"
     ]
    }
   ],
   "source": [
    "agent.run(prompt6)"
   ]
  },
  {
   "cell_type": "code",
   "execution_count": null,
   "metadata": {},
   "outputs": [],
   "source": [
    "registry = agent.path_registry\n",
    "print(registry.list_path_names_and_descriptions())"
   ]
  },
  {
   "cell_type": "code",
   "execution_count": null,
   "metadata": {},
   "outputs": [],
   "source": [
    "now = datetime.datetime.now()\n",
    "date = now.strftime(\"%Y-%m-%d\")\n",
    "print(\"date and time:\",date)\n",
    "time = now.strftime(\"%H:%M:%S\")\n",
    "print(\"time:\",time)"
   ]
  },
  {
   "cell_type": "code",
   "execution_count": null,
   "metadata": {},
   "outputs": [],
   "source": [
    "paths_and_descriptions = registry.list_path_names_and_descriptions()\n",
    "print(\"\\n\".join(paths_and_descriptions.split(\",\")))"
   ]
  },
  {
   "cell_type": "code",
   "execution_count": null,
   "metadata": {},
   "outputs": [],
   "source": [
    "from IPython.display import Image\n",
    "path_1 = registry.get_mapped_path(\"fig0_175712\")\n",
    "path_2 = registry.get_mapped_path(\"fig0_175847\")"
   ]
  },
  {
   "cell_type": "code",
   "execution_count": null,
   "metadata": {},
   "outputs": [],
   "source": [
    "Image(path_1)"
   ]
  },
  {
   "cell_type": "code",
   "execution_count": null,
   "metadata": {},
   "outputs": [],
   "source": [
    "Image(path_2)"
   ]
  },
  {
   "cell_type": "markdown",
   "metadata": {},
   "source": [
    "# Experiment Result: ✅❌\n",
    "### Completed without Exception or TimeOut Errors  \n",
    "### Attempted all necessary steps \n",
    "### Completed without Hallucination \n",
    "### Logic make sense  \n",
    "### Correct Answer "
   ]
  }
 ],
 "metadata": {
  "kernelspec": {
   "display_name": "mdagent2",
   "language": "python",
   "name": "python3"
  },
  "language_info": {
   "codemirror_mode": {
    "name": "ipython",
    "version": 3
   },
   "file_extension": ".py",
   "mimetype": "text/x-python",
   "name": "python",
   "nbconvert_exporter": "python",
   "pygments_lexer": "ipython3",
   "version": "3.11.8"
  }
 },
 "nbformat": 4,
 "nbformat_minor": 2
}
