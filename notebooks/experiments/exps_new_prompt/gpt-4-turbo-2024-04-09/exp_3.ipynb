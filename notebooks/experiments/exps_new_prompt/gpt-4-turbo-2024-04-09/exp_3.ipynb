{
 "cells": [
  {
   "cell_type": "code",
   "execution_count": 1,
   "metadata": {},
   "outputs": [],
   "source": [
    "import datetime\n",
    "import os\n",
    "from mdagent import MDAgent"
   ]
  },
  {
   "cell_type": "code",
   "execution_count": 2,
   "metadata": {},
   "outputs": [
    {
     "name": "stdout",
     "output_type": "stream",
     "text": [
      "date and time: 2024-08-06\n",
      "time: 20:34:45\n",
      "LLM:  gpt-4-turbo-2024-04-09 \n",
      "Temperature:  0.1\n"
     ]
    }
   ],
   "source": [
    "prompt3 = \"Download the PDB file for PDB ID 1GZX. Then, analyze the secondary structure of the protein and tell me how many chains, sheets, etc. there are.\"\n",
    "llm_var = \"gpt-4-turbo-2024-04-09\"\n",
    "tools = \"all\"\n",
    "agent = MDAgent(agent_type=\"Structured\", model=llm_var, top_k_tools=tools)\n",
    "now = datetime.datetime.now()\n",
    "date = now.strftime(\"%Y-%m-%d\")\n",
    "print(\"date and time:\",date)\n",
    "time = now.strftime(\"%H:%M:%S\")\n",
    "print(\"time:\",time)\n",
    "print(\"LLM: \",agent.llm.model_name,\"\\nTemperature: \",agent.llm.temperature)"
   ]
  },
  {
   "cell_type": "code",
   "execution_count": 3,
   "metadata": {},
   "outputs": [
    {
     "name": "stdout",
     "output_type": "stream",
     "text": [
      "\n",
      "\n",
      "\u001b[1m> Entering new AgentExecutor chain...\u001b[0m\n",
      "Thought: To address the question, I need to first download the PDB file for the specified PDB ID (1GZX). After downloading, I will analyze the secondary structure of the protein and summarize the details such as the number of chains, sheets, and other structural components.\n",
      "\n",
      "Action:\n",
      "```json\n",
      "{\n",
      "    \"action\": \"PDBFileDownloader\",\n",
      "    \"action_input\": {\n",
      "        \"query\": \"1GZX\"\n",
      "    }\n",
      "}\n",
      "```\u001b[32;1m\u001b[1;3mThought: To address the question, I need to first download the PDB file for the specified PDB ID (1GZX). After downloading, I will analyze the secondary structure of the protein and summarize the details such as the number of chains, sheets, and other structural components.\n",
      "\n",
      "Action:\n",
      "```json\n",
      "{\n",
      "    \"action\": \"PDBFileDownloader\",\n",
      "    \"action_input\": {\n",
      "        \"query\": \"1GZX\"\n",
      "    }\n",
      "}\n",
      "```\u001b[0mPDB file found with this ID: 1GZX\n"
     ]
    },
    {
     "name": "stderr",
     "output_type": "stream",
     "text": [
      "2024-08-06 20:34:53.390 \n",
      "  \u001b[33m\u001b[1mWarning:\u001b[0m to view this Streamlit app on a browser, run it with the following\n",
      "  command:\n",
      "\n",
      "    streamlit run /opt/anaconda3/envs/llama-mdagent/lib/python3.11/site-packages/ipykernel_launcher.py [ARGUMENTS]\n"
     ]
    },
    {
     "name": "stdout",
     "output_type": "stream",
     "text": [
      "\n",
      "Observation: \u001b[38;5;200m\u001b[1;3mSucceeded. Downloaded the PDB file:1GZX_203454\u001b[0m\n",
      "Thought:Now that the PDB file for 1GZX has been successfully downloaded, the next step is to analyze the secondary structure of the protein. I will use the ComputeDSSP tool to determine the secondary structure elements such as alpha helices, beta sheets, and turns. Additionally, I will use the SummarizeProteinStructure tool to get a summary of the protein structure, including the number of chains, residues, and other relevant details.\n",
      "\n",
      "Action:\n",
      "```json\n",
      "{\n",
      "    \"action\": \"ComputeDSSP\",\n",
      "    \"action_input\": {\n",
      "        \"traj_file\": \"1GZX_203454\"\n",
      "    }\n",
      "}\n",
      "```\u001b[32;1m\u001b[1;3mNow that the PDB file for 1GZX has been successfully downloaded, the next step is to analyze the secondary structure of the protein. I will use the ComputeDSSP tool to determine the secondary structure elements such as alpha helices, beta sheets, and turns. Additionally, I will use the SummarizeProteinStructure tool to get a summary of the protein structure, including the number of chains, residues, and other relevant details.\n",
      "\n",
      "Action:\n",
      "```json\n",
      "{\n",
      "    \"action\": \"ComputeDSSP\",\n",
      "    \"action_input\": {\n",
      "        \"traj_file\": \"1GZX_203454\"\n",
      "    }\n",
      "}\n",
      "```\u001b[0m\n",
      "Observation: \u001b[36;1m\u001b[1;3m{'helix': 444, 'strand': 0, 'coil': 130, 'not assigned, not a protein residue': 213}\u001b[0m\n",
      "Thought:The analysis of the secondary structure of the protein with PDB ID 1GZX reveals the following composition: 444 residues are in helical structures, there are no beta strands, 130 residues are in coil structures, and 213 residues are not assigned or not protein residues. To complete the analysis, I will now use the SummarizeProteinStructure tool to determine the number of chains and other structural components of the protein.\n",
      "\n",
      "Action:\n",
      "```json\n",
      "{\n",
      "    \"action\": \"SummarizeProteinStructure\",\n",
      "    \"action_input\": {\n",
      "        \"traj_file\": \"1GZX_203454\"\n",
      "    }\n",
      "}\n",
      "```\u001b[32;1m\u001b[1;3mThe analysis of the secondary structure of the protein with PDB ID 1GZX reveals the following composition: 444 residues are in helical structures, there are no beta strands, 130 residues are in coil structures, and 213 residues are not assigned or not protein residues. To complete the analysis, I will now use the SummarizeProteinStructure tool to determine the number of chains and other structural components of the protein.\n",
      "\n",
      "Action:\n",
      "```json\n",
      "{\n",
      "    \"action\": \"SummarizeProteinStructure\",\n",
      "    \"action_input\": {\n",
      "        \"traj_file\": \"1GZX_203454\"\n",
      "    }\n",
      "}\n",
      "```\u001b[0m\n",
      "Observation: \u001b[36;1m\u001b[1;3m{'n_atoms': 4769, 'n_residues': 787, 'n_chains': 12, 'n_frames': 1, 'n_bonds': 4716}\u001b[0m\n",
      "Thought:The analysis of the protein with PDB ID 1GZX reveals the following details:\n",
      "- The protein consists of 12 chains.\n",
      "- There are a total of 787 residues.\n",
      "- The secondary structure includes 444 residues in helical structures, no beta strands, and 130 residues in coil structures.\n",
      "- There are 213 residues that are either not assigned or not protein residues.\n",
      "- The protein structure includes 4769 atoms and 4716 bonds.\n",
      "\n",
      "This comprehensive analysis provides a detailed overview of the protein's structural components and secondary structure elements.\u001b[32;1m\u001b[1;3mThe analysis of the protein with PDB ID 1GZX reveals the following details:\n",
      "- The protein consists of 12 chains.\n",
      "- There are a total of 787 residues.\n",
      "- The secondary structure includes 444 residues in helical structures, no beta strands, and 130 residues in coil structures.\n",
      "- There are 213 residues that are either not assigned or not protein residues.\n",
      "- The protein structure includes 4769 atoms and 4716 bonds.\n",
      "\n",
      "This comprehensive analysis provides a detailed overview of the protein's structural components and secondary structure elements.\u001b[0m\n",
      "\n",
      "\u001b[1m> Finished chain.\u001b[0m\n",
      "The task given was to download the PDB file for PDB ID 1GZX, analyze its secondary structure, and provide details on the number of chains, sheets, and other structural components. The agent followed these steps:\n",
      "\n",
      "1. **Thought**: The agent considered the best approach to tackle the problem, deciding to first download the PDB file for the specified ID and then analyze its secondary structure using appropriate molecular dynamics tools.\n",
      "   \n",
      "2. **Action**: The agent likely used a molecular dynamics tool or database to download the PDB file for the protein with PDB ID 1GZX. This step involved specifying the action to download the file and providing the PDB ID as input.\n",
      "\n",
      "3. **Action**: After obtaining the PDB file, the agent proceeded to analyze the secondary structure of the protein. This involved using a tool capable of parsing the PDB file and extracting information about the protein's structure, including the number of chains, helices, sheets, and other relevant details.\n",
      "\n",
      "4. **Final Answer**: The agent summarized the findings from the analysis, providing a detailed report on the protein's structure:\n",
      "   - The protein consists of 12 chains.\n",
      "   - It has a total of 787 residues.\n",
      "   - The secondary structure includes 444 residues in helical structures, no beta strands, and 130 residues in coil structures.\n",
      "   - There are 213 residues that are either not assigned or not protein residues.\n",
      "   - The protein structure includes 4769 atoms and 4716 bonds.\n",
      "\n",
      "This comprehensive analysis provided a detailed overview of the protein's structural components and secondary structure elements, effectively addressing the original question.Your run id is:  D7X5IF3T\n"
     ]
    },
    {
     "data": {
      "text/plain": [
       "({'input': '\\n    You are an expert molecular dynamics scientist and\\n    your task is to respond to the question or\\n    solve the problem to the best of your ability using\\n    the provided tools.\\n\\n    You can only respond with a single complete\\n    Thought, Action, Action Input\\' format\\n    OR a single \\'Final Answer\\' format.\\n\\n    Complete format:\\n    Thought: (reflect on your progress and decide what \" \"to do next)\\n    Action:\\n    ```\\n    {\\n        action: (the action name, should be the name of a tool),\\n        action_input: (the input string to the action)\\n    }\\n    \\'\\'\\'\\n\\n    OR\\n\\n    Final Answer: (the final response to the original input\\n    question, when all steps are complete)\\n\\n    You are required to use the tools provided,\\n    using the most specific tool\\n    available for each action.\\n    Your final answer should contain all information\\n    necessary to answer the question and subquestions.\\n    Before you finish, reflect on your progress and make\\n    sure you have addressed the question in its entirety.\\n\\n    If you are asked to continue\\n    or reference previous runs,\\n    the context will be provided to you.\\n    If context is provided, you should assume\\n    you are continuing a chat.\\n\\n    Here is the input:\\n    Previous Context: None\\n    Question: Download the PDB file for PDB ID 1GZX. Then, analyze the secondary structure of the protein and tell me how many chains, sheets, etc. there are. ',\n",
       "  'output': \"The analysis of the protein with PDB ID 1GZX reveals the following details:\\n- The protein consists of 12 chains.\\n- There are a total of 787 residues.\\n- The secondary structure includes 444 residues in helical structures, no beta strands, and 130 residues in coil structures.\\n- There are 213 residues that are either not assigned or not protein residues.\\n- The protein structure includes 4769 atoms and 4716 bonds.\\n\\nThis comprehensive analysis provides a detailed overview of the protein's structural components and secondary structure elements.\"},\n",
       " 'D7X5IF3T')"
      ]
     },
     "execution_count": 3,
     "metadata": {},
     "output_type": "execute_result"
    }
   ],
   "source": [
    "agent.run(prompt3)"
   ]
  },
  {
   "cell_type": "code",
   "execution_count": 4,
   "metadata": {},
   "outputs": [
    {
     "name": "stdout",
     "output_type": "stream",
     "text": [
      "date and time: 2024-08-06\n",
      "time: 20:35:29\n"
     ]
    }
   ],
   "source": [
    "now = datetime.datetime.now()\n",
    "date = now.strftime(\"%Y-%m-%d\")\n",
    "print(\"date and time:\",date)\n",
    "time = now.strftime(\"%H:%M:%S\")\n",
    "print(\"time:\",time)"
   ]
  },
  {
   "cell_type": "code",
   "execution_count": 5,
   "metadata": {},
   "outputs": [
    {
     "name": "stdout",
     "output_type": "stream",
     "text": [
      "Files found in registry: 1GZX_203454: PDB file downloaded from RSCB, PDBFile ID: 1GZX_203454, rec0_203501: dssp values for trajectory with id: 1GZX_203454\n"
     ]
    }
   ],
   "source": [
    "registry = agent.path_registry\n",
    "print(registry.list_path_names_and_descriptions())"
   ]
  },
  {
   "cell_type": "code",
   "execution_count": 7,
   "metadata": {},
   "outputs": [
    {
     "name": "stdout",
     "output_type": "stream",
     "text": [
      "Number of chains:  12\n",
      "Number of sheets:  0\n",
      "Number of helices:  444\n",
      "Number of coils:  130\n"
     ]
    }
   ],
   "source": [
    "import mdtraj as md\n",
    "path = registry.get_mapped_path(\"1GZX_203454\")\n",
    "traj = md.load(path)\n",
    "top = traj.topology\n",
    "number_of_chains = top.n_chains\n",
    "secondary_structure = md.compute_dssp(traj,simplified=True)\n",
    "print(\"Number of chains: \",number_of_chains)\n",
    "print(\"Number of sheets: \",len([i for i in secondary_structure[0] if i == 'E']))\n",
    "print(\"Number of helices: \",len([i for i in secondary_structure[0] if i == 'H']))\n",
    "print(\"Number of coils: \",len([i for i in secondary_structure[0] if i == 'C']))\n"
   ]
  },
  {
   "cell_type": "markdown",
   "metadata": {},
   "source": [
    "# Experiment Result: \n",
    "### Completed without Exception or TimeOut Errors  ✅\n",
    "### Attempted all necessary steps ✅\n",
    "### Completed without Hallucination ✅\n",
    "### Logic make sense  ✅\n",
    "### Correct Answer  ✅ "
   ]
  }
 ],
 "metadata": {
  "kernelspec": {
   "display_name": "mdagent2",
   "language": "python",
   "name": "python3"
  },
  "language_info": {
   "codemirror_mode": {
    "name": "ipython",
    "version": 3
   },
   "file_extension": ".py",
   "mimetype": "text/x-python",
   "name": "python",
   "nbconvert_exporter": "python",
   "pygments_lexer": "ipython3",
   "version": "3.11.8"
  }
 },
 "nbformat": 4,
 "nbformat_minor": 2
}
