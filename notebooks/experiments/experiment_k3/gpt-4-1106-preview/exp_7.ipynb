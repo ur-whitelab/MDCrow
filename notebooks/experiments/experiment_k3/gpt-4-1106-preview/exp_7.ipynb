{
 "cells": [
  {
   "cell_type": "code",
   "execution_count": 1,
   "metadata": {},
   "outputs": [],
   "source": [
    "import datetime\n",
    "import os\n",
    "from mdagent import MDAgent\n",
    "import matplotlib.pyplot as plt"
   ]
  },
  {
   "cell_type": "code",
   "execution_count": 2,
   "metadata": {},
   "outputs": [
    {
     "name": "stdout",
     "output_type": "stream",
     "text": [
      "date and time: 2024-07-21\n",
      "time: 11:46:17\n",
      "LLM:  gpt-4-1106-preview \n",
      "Temperature:  0.1\n"
     ]
    }
   ],
   "source": [
    "prompt7 = \"Simulate 1ZNI for 1ns at temp=300K.\"\n",
    "llm_var = \"gpt-4-1106-preview\"\n",
    "tools = \"all\"\n",
    "agent = MDAgent(agent_type=\"Structured\", model=llm_var, top_k_tools=tools)\n",
    "now = datetime.datetime.now()\n",
    "date = now.strftime(\"%Y-%m-%d\")\n",
    "print(\"date and time:\",date)\n",
    "time = now.strftime(\"%H:%M:%S\")\n",
    "print(\"time:\",time)\n",
    "print(\"LLM: \",agent.llm.model_name,\"\\nTemperature: \",agent.llm.temperature)"
   ]
  },
  {
   "cell_type": "code",
   "execution_count": 3,
   "metadata": {},
   "outputs": [
    {
     "name": "stdout",
     "output_type": "stream",
     "text": [
      "date and time: 2024-07-21\n",
      "time: 11:46:17\n",
      "LLM:  gpt-4o-2024-05-13 \n",
      "Temperature:  0.1\n"
     ]
    }
   ],
   "source": [
    "prompt7 = \"Simulate 1ZNI for 1ns at temp=300K.\"\n",
    "llm_var = \"gpt-4o-2024-05-13\"\n",
    "tools = \"all\"\n",
    "agent = MDAgent(agent_type=\"Structured\", model=llm_var, top_k_tools=tools)\n",
    "now = datetime.datetime.now()\n",
    "date = now.strftime(\"%Y-%m-%d\")\n",
    "print(\"date and time:\",date)\n",
    "time = now.strftime(\"%H:%M:%S\")\n",
    "print(\"time:\",time)\n",
    "print(\"LLM: \",agent.llm.model_name,\"\\nTemperature: \",agent.llm.temperature)"
   ]
  },
  {
   "cell_type": "code",
   "execution_count": 4,
   "metadata": {},
   "outputs": [
    {
     "name": "stdout",
     "output_type": "stream",
     "text": [
      "Thought: To simulate the protein 1ZNI for 1 nanosecond (1 ns) at a temperature of 300 Kelvin (K), I need to download the PDB file for 1ZNI, set up the simulation parameters, and run the simulation. I will use the SetUpandRunFunction tool to perform the simulation.\n",
      "\n",
      "Action:\n",
      "```\n",
      "{\n",
      "  \"action\": \"SetUpandRunFunction\",\n",
      "  \"action_input\": {\n",
      "    \"pdb_id\": \"1ZNI\",\n",
      "    \"forcefield_files\": [],\n",
      "    \"save\": true,\n",
      "    \"system_params\": {\n",
      "      \"nonbondedMethod\": \"NoCutoff\",\n",
      "      \"constraints\": \"None\",\n",
      "      \"rigidWater\": false,\n",
      "      \"solvate\": false\n",
      "    },\n",
      "    \"integrator_params\": {\n",
      "      \"integrator_type\": \"LangevinMiddle\",\n",
      "      \"Temperature\": \"300 * kelvin\",\n",
      "      \"Friction\": \"1.0 / picoseconds\",\n",
      "      \"Timestep\": \"0.002 * picoseconds\",\n",
      "      \"Pressure\": \"1.0 * bar\"\n",
      "    },\n",
      "    \"simulation_params\": {\n",
      "      \"Ensemble\": \"NVT\",\n",
      "      \"Number of Steps\": 500000,\n",
      "      \"record_interval_steps\": 5000,\n",
      "      \"record_params\": [\"step\", \"potentialEnergy\", \"temperature\"]\n",
      "    }\n",
      "  }\n",
      "}\n",
      "```Setting default forcefields v2\n"
     ]
    },
    {
     "name": "stderr",
     "output_type": "stream",
     "text": [
      "2024-07-21 11:46:21.449 \n",
      "  \u001b[33m\u001b[1mWarning:\u001b[0m to view this Streamlit app on a browser, run it with the following\n",
      "  command:\n",
      "\n",
      "    streamlit run /Users/jorgemedina/miniforge3/envs/mdagent2/lib/python3.11/site-packages/ipykernel_launcher.py [ARGUMENTS]\n"
     ]
    },
    {
     "name": "stdout",
     "output_type": "stream",
     "text": [
      "To simulate the protein 1ZNI for 1 nanosecond (1 ns) at a temperature of 300 Kelvin (K), I need to first download the PDB file for 1ZNI and then set up the simulation parameters. I will use the PDBFileDownloader tool to download the PDB file and then proceed with the simulation setup.\n",
      "\n",
      "Action:\n",
      "```\n",
      "{\n",
      "  \"action\": \"PDBFileDownloader\",\n",
      "  \"action_input\": {\n",
      "    \"query\": \"1ZNI\"\n",
      "  }\n",
      "}\n",
      "```PDB file found with this ID: 1ZNI\n",
      "Now that the PDB file for 1ZNI has been successfully downloaded, I will proceed with setting up and running the simulation for 1 nanosecond (1 ns) at a temperature of 300 Kelvin (K). I will use the file ID `1ZNI_114624` for the simulation setup.\n",
      "\n",
      "Action:\n",
      "```\n",
      "{\n",
      "  \"action\": \"SetUpandRunFunction\",\n",
      "  \"action_input\": {\n",
      "    \"pdb_id\": \"1ZNI_114624\",\n",
      "    \"forcefield_files\": [],\n",
      "    \"save\": true,\n",
      "    \"system_params\": {\n",
      "      \"nonbondedMethod\": \"NoCutoff\",\n",
      "      \"constraints\": \"None\",\n",
      "      \"rigidWater\": false,\n",
      "      \"solvate\": false\n",
      "    },\n",
      "    \"integrator_params\": {\n",
      "      \"integrator_type\": \"LangevinMiddle\",\n",
      "      \"Temperature\": \"300 * kelvin\",\n",
      "      \"Friction\": \"1.0 / picoseconds\",\n",
      "      \"Timestep\": \"0.002 * picoseconds\",\n",
      "      \"Pressure\": \"1.0 * bar\"\n",
      "    },\n",
      "    \"simulation_params\": {\n",
      "      \"Ensemble\": \"NVT\",\n",
      "      \"Number of Steps\": 500000,\n",
      "      \"record_interval_steps\": 5000,\n",
      "      \"record_params\": [\"step\", \"potentialEnergy\", \"temperature\"]\n",
      "    }\n",
      "  }\n",
      "}\n",
      "```Setting default forcefields v2\n",
      "Building system...\n",
      "About to create system...\n",
      "Attempts at creating system: 0/3\n",
      "adding system without solvent\n",
      "Trying to add component to Forcefield...\n",
      "Residue code: GLY\n",
      "Residue code not in solvent list. Adding forcefield                         not supported.\n",
      "To address the issue with the missing hydrogen atoms in the residue GLY, I need to clean the PDB file by adding the missing atoms and hydrogens. I will use the CleaningToolFunction to perform this task.\n",
      "\n",
      "Action:\n",
      "```\n",
      "{\n",
      "  \"action\": \"CleaningToolFunction\",\n",
      "  \"action_input\": {\n",
      "    \"pdb_id\": \"1ZNI_114624\",\n",
      "    \"replace_nonstandard_residues\": true,\n",
      "    \"add_missing_atoms\": true,\n",
      "    \"remove_heterogens\": true,\n",
      "    \"remove_water\": true,\n",
      "    \"add_hydrogens\": true,\n",
      "    \"add_hydrogens_ph\": 7.0\n",
      "  }\n",
      "}\n",
      "```file path: /Users/jorgemedina/Desktop/md-agent/ckpt/ckpt_228/pdb/1ZNI_raw_20240721_114624.pdb\n",
      "Now that the PDB file for 1ZNI has been successfully cleaned and the missing hydrogen atoms have been added, I will proceed with setting up and running the simulation for 1 nanosecond (1 ns) at a temperature of 300 Kelvin (K). I will use the cleaned file ID `1ZNI_114632` for the simulation setup.\n",
      "\n",
      "Action:\n",
      "```\n",
      "{\n",
      "  \"action\": \"SetUpandRunFunction\",\n",
      "  \"action_input\": {\n",
      "    \"pdb_id\": \"1ZNI_114632\",\n",
      "    \"forcefield_files\": [],\n",
      "    \"save\": true,\n",
      "    \"system_params\": {\n",
      "      \"nonbondedMethod\": \"NoCutoff\",\n",
      "      \"constraints\": \"None\",\n",
      "      \"rigidWater\": false,\n",
      "      \"solvate\": false\n",
      "    },\n",
      "    \"integrator_params\": {\n",
      "      \"integrator_type\": \"LangevinMiddle\",\n",
      "      \"Temperature\": \"300 * kelvin\",\n",
      "      \"Friction\": \"1.0 / picoseconds\",\n",
      "      \"Timestep\": \"0.002 * picoseconds\",\n",
      "      \"Pressure\": \"1.0 * bar\"\n",
      "    },\n",
      "    \"simulation_params\": {\n",
      "      \"Ensemble\": \"NVT\",\n",
      "      \"Number of Steps\": 500000,\n",
      "      \"record_interval_steps\": 5000,\n",
      "      \"record_params\": [\"step\", \"potentialEnergy\", \"temperature\"]\n",
      "    }\n",
      "  }\n",
      "}\n",
      "```Setting default forcefields v2\n",
      "Building system...\n",
      "About to create system...\n",
      "Attempts at creating system: 0/3\n",
      "adding system without solvent\n",
      "System built successfully\n",
      "<openmm.openmm.System; proxy of <Swig Object of type 'OpenMM::System *' at 0x1086a1f20> >\n",
      "Setting up integrator...\n",
      "Creating simulation...\n",
      "simulation set!\n",
      "Performing energy minimization...\n",
      "Minimization complete!\n",
      "Initial Positions saved to initial_positions.pdb\n",
      "Equilibrating...\n",
      "Simulating...\n"
     ]
    }
   ],
   "source": [
    "agent.run(prompt7)"
   ]
  },
  {
   "cell_type": "code",
   "execution_count": null,
   "metadata": {},
   "outputs": [
    {
     "name": "stdout",
     "output_type": "stream",
     "text": [
      "Files found in registry: 1ZNI_210144: PDB file downloaded from RSCB, PDBFile ID: 1ZNI_210144, 1ZNI_210153: Cleaned File:  Removed Heterogens, and Water Removed.  Replaced Nonstandard Residues. Added Hydrogens at pH 7.0. Missing Atoms Added and replaces nonstandard residues. , top_sim0_210157: Initial positions for simulation sim0_210157, sim0_210157: Basic Simulation of Protein 1ZNI_210153, rec0_210158: Simulation trajectory for protein 1ZNI_210153 and simulation sim0_210157, rec1_210158: Simulation state log for protein 1ZNI_210153 and simulation sim0_210157, rec2_210158: Simulation pdb frames for protein 1ZNI_210153 and simulation sim0_210157\n"
     ]
    }
   ],
   "source": [
    "registry = agent.path_registry\n",
    "print(registry.list_path_names_and_descriptions())"
   ]
  },
  {
   "cell_type": "code",
   "execution_count": null,
   "metadata": {},
   "outputs": [
    {
     "name": "stdout",
     "output_type": "stream",
     "text": [
      "date and time: 2024-07-17\n",
      "time: 21:25:52\n"
     ]
    }
   ],
   "source": [
    "now = datetime.datetime.now()\n",
    "date = now.strftime(\"%Y-%m-%d\")\n",
    "print(\"date and time:\",date)\n",
    "time = now.strftime(\"%H:%M:%S\")\n",
    "print(\"time:\",time)"
   ]
  },
  {
   "cell_type": "code",
   "execution_count": null,
   "metadata": {},
   "outputs": [
    {
     "name": "stdout",
     "output_type": "stream",
     "text": [
      "Files found in registry: 1ZNI_210144: PDB file downloaded from RSCB\n",
      " PDBFile ID: 1ZNI_210144\n",
      " 1ZNI_210153: Cleaned File:  Removed Heterogens\n",
      " and Water Removed.  Replaced Nonstandard Residues. Added Hydrogens at pH 7.0. Missing Atoms Added and replaces nonstandard residues. \n",
      " top_sim0_210157: Initial positions for simulation sim0_210157\n",
      " sim0_210157: Basic Simulation of Protein 1ZNI_210153\n",
      " rec0_210158: Simulation trajectory for protein 1ZNI_210153 and simulation sim0_210157\n",
      " rec1_210158: Simulation state log for protein 1ZNI_210153 and simulation sim0_210157\n",
      " rec2_210158: Simulation pdb frames for protein 1ZNI_210153 and simulation sim0_210157\n"
     ]
    }
   ],
   "source": [
    "paths_and_descriptions = registry.list_path_names_and_descriptions()\n",
    "print(\"\\n\".join(paths_and_descriptions.split(\",\")))"
   ]
  },
  {
   "cell_type": "markdown",
   "metadata": {},
   "source": [
    "# Experiment Result:\n",
    "### Completed without Exception or TimeOut Errors ✅\n",
    "### Attempted all necessary steps ✅\n",
    "### Logic make sense ✅\n",
    "### Correct Answer  ✅"
   ]
  }
 ],
 "metadata": {
  "kernelspec": {
   "display_name": "mda_jun15",
   "language": "python",
   "name": "python3"
  },
  "language_info": {
   "codemirror_mode": {
    "name": "ipython",
    "version": 3
   },
   "file_extension": ".py",
   "mimetype": "text/x-python",
   "name": "python",
   "nbconvert_exporter": "python",
   "pygments_lexer": "ipython3",
   "version": "3.11.9"
  }
 },
 "nbformat": 4,
 "nbformat_minor": 2
}
