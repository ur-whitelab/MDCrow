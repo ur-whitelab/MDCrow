{
 "cells": [
  {
   "cell_type": "code",
   "execution_count": 8,
   "metadata": {},
   "outputs": [],
   "source": [
    "import datetime\n",
    "import os\n",
    "from mdagent import MDAgent\n",
    "import matplotlib.pyplot as plt"
   ]
  },
  {
   "cell_type": "code",
   "execution_count": null,
   "metadata": {},
   "outputs": [
    {
     "name": "stdout",
     "output_type": "stream",
     "text": [
      "date and time: 2024-07-21\n",
      "time: 11:46:17\n",
      "LLM:  gpt-4o-2024-05-13 \n",
      "Temperature:  0.1\n"
     ]
    }
   ],
   "source": [
    "prompt7 = \"Simulate 1ZNI for 1ns at temp=300K.\"\n",
    "llm_var = \"gpt-4o-2024-05-13\"\n",
    "tools = \"all\"\n",
    "agent = MDAgent(agent_type=\"Structured\", model=llm_var, top_k_tools=tools)\n",
    "now = datetime.datetime.now()\n",
    "date = now.strftime(\"%Y-%m-%d\")\n",
    "print(\"date and time:\",date)\n",
    "time = now.strftime(\"%H:%M:%S\")\n",
    "print(\"time:\",time)\n",
    "print(\"LLM: \",agent.llm.model_name,\"\\nTemperature: \",agent.llm.temperature)"
   ]
  },
  {
   "cell_type": "code",
   "execution_count": 10,
   "metadata": {},
   "outputs": [
    {
     "name": "stdout",
     "output_type": "stream",
     "text": [
      "Thought: To simulate the protein 1ZNI for 1 nanosecond (1ns) at a temperature of 300K, I need to set up and run a molecular dynamics simulation. I will use the SetUpandRunFunction tool to accomplish this. I will specify the PDB ID, forcefield files, and the necessary parameters for the system, integrator, and simulation.\n",
      "\n",
      "Action: \n",
      "```\n",
      "{\n",
      "  \"action\": \"SetUpandRunFunction\",\n",
      "  \"action_input\": {\n",
      "    \"pdb_id\": \"1ZNI\",\n",
      "    \"forcefield_files\": [\"amber99sb.xml\", \"tip3p.xml\"],\n",
      "    \"save\": true,\n",
      "    \"system_params\": {\n",
      "      \"nonbondedMethod\": \"PME\",\n",
      "      \"nonbondedCutoff\": \"1 * nanometers\",\n",
      "      \"ewaldErrorTolerance\": 0.0005,\n",
      "      \"constraints\": \"HBonds\",\n",
      "      \"rigidWater\": true,\n",
      "      \"constraintTolerance\": 0.00001,\n",
      "      \"solvate\": true\n",
      "    },\n",
      "    \"integrator_params\": {\n",
      "      \"integrator_type\": \"LangevinMiddle\",\n",
      "      \"Temperature\": \"300 * kelvin\",\n",
      "      \"Friction\": \"1.0 / picoseconds\",\n",
      "      \"Timestep\": \"0.002 * picoseconds\",\n",
      "      \"Pressure\": \"1.0 * bar\"\n",
      "    },\n",
      "    \"simulation_params\": {\n",
      "      \"Ensemble\": \"NPT\",\n",
      "      \"Number of Steps\": 500000,\n",
      "      \"record_interval_steps\": 5000,\n",
      "      \"record_params\": [\"step\", \"potentialEnergy\", \"temperature\"]\n",
      "    }\n",
      "  }\n",
      "}\n",
      "```Building system...\n",
      "Thought: The error indicates that the file for the PDB ID '1ZNI' was not found. I need to download the PDB file for 1ZNI first and then proceed with the simulation setup.\n",
      "\n",
      "Action:\n",
      "```\n",
      "{\n",
      "  \"action\": \"PDBFileDownloader\",\n",
      "  \"action_input\": \"1ZNI\"\n",
      "}\n",
      "```PDB file found with this ID: 1ZNI\n",
      "Now that the PDB file for 1ZNI has been successfully downloaded, I will proceed with setting up and running the molecular dynamics simulation using the downloaded file.\n",
      "\n",
      "Action:\n",
      "```\n",
      "{\n",
      "  \"action\": \"SetUpandRunFunction\",\n",
      "  \"action_input\": {\n",
      "    \"pdb_id\": \"1ZNI_103747\",\n",
      "    \"forcefield_files\": [\"amber99sb.xml\", \"tip3p.xml\"],\n",
      "    \"save\": true,\n",
      "    \"system_params\": {\n",
      "      \"nonbondedMethod\": \"PME\",\n",
      "      \"nonbondedCutoff\": \"1 * nanometers\",\n",
      "      \"ewaldErrorTolerance\": 0.0005,\n",
      "      \"constraints\": \"HBonds\",\n",
      "      \"rigidWater\": true,\n",
      "      \"constraintTolerance\": 0.00001,\n",
      "      \"solvate\": true\n",
      "    },\n",
      "    \"integrator_params\": {\n",
      "      \"integrator_type\": \"LangevinMiddle\",\n",
      "      \"Temperature\": \"300 * kelvin\",\n",
      "      \"Friction\": \"1.0 / picoseconds\",\n",
      "      \"Timestep\": \"0.002 * picoseconds\",\n",
      "      \"Pressure\": \"1.0 * bar\"\n",
      "    },\n",
      "    \"simulation_params\": {\n",
      "      \"Ensemble\": \"NPT\",\n",
      "      \"Number of Steps\": 500000,\n",
      "      \"record_interval_steps\": 5000,\n",
      "      \"record_params\": [\"step\", \"potentialEnergy\", \"temperature\"]\n",
      "    }\n",
      "  }\n",
      "}\n",
      "```Building system...\n",
      "About to create system...\n",
      "Attempts at creating system: 0/3\n",
      "Error adding solvent ValueError – No template found for residue 1 (GLY).  The set of atoms is similar to GLY, but it is missing 3 hydrogen atoms.  For more information, see https://github.com/openmm/openmm/wiki/Frequently-Asked-Questions#template\n",
      "Residue code: GLY\n",
      "Residue code not in solvent list. Adding forcefield                         not supported.\n",
      "The error indicates that the residue GLY is missing 3 hydrogen atoms. To resolve this, I need to clean the PDB file by adding the missing atoms and hydrogens. I will use the CleaningToolFunction to achieve this.\n",
      "\n",
      "Action:\n",
      "```\n",
      "{\n",
      "  \"action\": \"CleaningToolFunction\",\n",
      "  \"action_input\": {\n",
      "    \"pdb_id\": \"1ZNI_103747\",\n",
      "    \"replace_nonstandard_residues\": true,\n",
      "    \"add_missing_atoms\": true,\n",
      "    \"remove_heterogens\": true,\n",
      "    \"remove_water\": true,\n",
      "    \"add_hydrogens\": true,\n",
      "    \"add_hydrogens_ph\": 7.0\n",
      "  }\n",
      "}\n",
      "```file path: /Users/jorgemedina/Desktop/md-agent/ckpt/ckpt_228/pdb/1ZNI_raw_20240722_103747.pdb\n",
      "The PDB file for 1ZNI has been successfully cleaned. Now, I will proceed with setting up and running the molecular dynamics simulation using the cleaned file.\n",
      "\n",
      "Action:\n",
      "```\n",
      "{\n",
      "  \"action\": \"SetUpandRunFunction\",\n",
      "  \"action_input\": {\n",
      "    \"pdb_id\": \"1ZNI_103759\",\n",
      "    \"forcefield_files\": [\"amber99sb.xml\", \"tip3p.xml\"],\n",
      "    \"save\": true,\n",
      "    \"system_params\": {\n",
      "      \"nonbondedMethod\": \"PME\",\n",
      "      \"nonbondedCutoff\": \"1 * nanometers\",\n",
      "      \"ewaldErrorTolerance\": 0.0005,\n",
      "      \"constraints\": \"HBonds\",\n",
      "      \"rigidWater\": true,\n",
      "      \"constraintTolerance\": 0.00001,\n",
      "      \"solvate\": true\n",
      "    },\n",
      "    \"integrator_params\": {\n",
      "      \"integrator_type\": \"LangevinMiddle\",\n",
      "      \"Temperature\": \"300 * kelvin\",\n",
      "      \"Friction\": \"1.0 / picoseconds\",\n",
      "      \"Timestep\": \"0.002 * picoseconds\",\n",
      "      \"Pressure\": \"1.0 * bar\"\n",
      "    },\n",
      "    \"simulation_params\": {\n",
      "      \"Ensemble\": \"NPT\",\n",
      "      \"Number of Steps\": 500000,\n",
      "      \"record_interval_steps\": 5000,\n",
      "      \"record_params\": [\"step\", \"potentialEnergy\", \"temperature\"]\n",
      "    }\n",
      "  }\n",
      "}\n",
      "```Building system...\n",
      "About to create system...\n",
      "Attempts at creating system: 0/3\n",
      "System built successfully\n",
      "<openmm.openmm.System; proxy of <Swig Object of type 'OpenMM::System *' at 0x171c7df20> >\n",
      "Setting up integrator...\n",
      "Creating simulation...\n",
      "simulation set!\n",
      "Performing energy minimization...\n",
      "Minimization complete!\n",
      "Initial Positions saved to initial_positions.pdb\n",
      "Equilibrating...\n",
      "Simulating...\n"
     ]
    }
   ],
   "source": [
    "agent.run(prompt7)"
   ]
  },
  {
   "cell_type": "code",
   "execution_count": null,
   "metadata": {},
   "outputs": [
    {
     "name": "stdout",
     "output_type": "stream",
     "text": [
      "Files found in registry: 1ZNI_210144: PDB file downloaded from RSCB, PDBFile ID: 1ZNI_210144, 1ZNI_210153: Cleaned File:  Removed Heterogens, and Water Removed.  Replaced Nonstandard Residues. Added Hydrogens at pH 7.0. Missing Atoms Added and replaces nonstandard residues. , top_sim0_210157: Initial positions for simulation sim0_210157, sim0_210157: Basic Simulation of Protein 1ZNI_210153, rec0_210158: Simulation trajectory for protein 1ZNI_210153 and simulation sim0_210157, rec1_210158: Simulation state log for protein 1ZNI_210153 and simulation sim0_210157, rec2_210158: Simulation pdb frames for protein 1ZNI_210153 and simulation sim0_210157\n"
     ]
    }
   ],
   "source": [
    "registry = agent.path_registry\n",
    "print(registry.list_path_names_and_descriptions())"
   ]
  },
  {
   "cell_type": "code",
   "execution_count": null,
   "metadata": {},
   "outputs": [
    {
     "name": "stdout",
     "output_type": "stream",
     "text": [
      "date and time: 2024-07-17\n",
      "time: 21:25:52\n"
     ]
    }
   ],
   "source": [
    "now = datetime.datetime.now()\n",
    "date = now.strftime(\"%Y-%m-%d\")\n",
    "print(\"date and time:\",date)\n",
    "time = now.strftime(\"%H:%M:%S\")\n",
    "print(\"time:\",time)"
   ]
  },
  {
   "cell_type": "code",
   "execution_count": null,
   "metadata": {},
   "outputs": [
    {
     "name": "stdout",
     "output_type": "stream",
     "text": [
      "Files found in registry: 1ZNI_210144: PDB file downloaded from RSCB\n",
      " PDBFile ID: 1ZNI_210144\n",
      " 1ZNI_210153: Cleaned File:  Removed Heterogens\n",
      " and Water Removed.  Replaced Nonstandard Residues. Added Hydrogens at pH 7.0. Missing Atoms Added and replaces nonstandard residues. \n",
      " top_sim0_210157: Initial positions for simulation sim0_210157\n",
      " sim0_210157: Basic Simulation of Protein 1ZNI_210153\n",
      " rec0_210158: Simulation trajectory for protein 1ZNI_210153 and simulation sim0_210157\n",
      " rec1_210158: Simulation state log for protein 1ZNI_210153 and simulation sim0_210157\n",
      " rec2_210158: Simulation pdb frames for protein 1ZNI_210153 and simulation sim0_210157\n"
     ]
    }
   ],
   "source": [
    "paths_and_descriptions = registry.list_path_names_and_descriptions()\n",
    "print(\"\\n\".join(paths_and_descriptions.split(\",\")))"
   ]
  },
  {
   "cell_type": "markdown",
   "metadata": {},
   "source": [
    "# Experiment Result:\n",
    "### Completed without Exception or TimeOut Errors ✅\n",
    "### Attempted all necessary steps ✅\n",
    "### Logic make sense ✅\n",
    "### Correct Answer  ✅"
   ]
  }
 ],
 "metadata": {
  "kernelspec": {
   "display_name": "mda_jun15",
   "language": "python",
   "name": "python3"
  },
  "language_info": {
   "codemirror_mode": {
    "name": "ipython",
    "version": 3
   },
   "file_extension": ".py",
   "mimetype": "text/x-python",
   "name": "python",
   "nbconvert_exporter": "python",
   "pygments_lexer": "ipython3",
   "version": "3.11.9"
  }
 },
 "nbformat": 4,
 "nbformat_minor": 2
}
