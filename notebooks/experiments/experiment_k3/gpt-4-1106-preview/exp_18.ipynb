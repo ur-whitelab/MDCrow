{
 "cells": [
  {
   "cell_type": "code",
   "execution_count": 1,
   "metadata": {},
   "outputs": [],
   "source": [
    "import datetime\n",
    "import os\n",
    "from mdagent import MDAgent\n",
    "import matplotlib.pyplot as plt"
   ]
  },
  {
   "cell_type": "code",
   "execution_count": 2,
   "metadata": {},
   "outputs": [
    {
     "name": "stdout",
     "output_type": "stream",
     "text": [
      "date and time: 2024-07-16\n",
      "time: 21:13:11\n",
      "LLM:  gpt-4-1106-preview \n",
      "Temperature:  0.1\n"
     ]
    }
   ],
   "source": [
    "prompt19 = \"Download the PDB file for 1XQ8. Then, save the visualization for it.\"\n",
    "llm_var = \"gpt-4-1106-preview\"\n",
    "tools = \"all\"\n",
    "agent = MDAgent(agent_type=\"Structured\", model=llm_var, top_k_tools=tools)\n",
    "now = datetime.datetime.now()\n",
    "date = now.strftime(\"%Y-%m-%d\")\n",
    "print(\"date and time:\",date)\n",
    "time = now.strftime(\"%H:%M:%S\")\n",
    "print(\"time:\",time)\n",
    "print(\"LLM: \",agent.llm.model_name,\"\\nTemperature: \",agent.llm.temperature)"
   ]
  },
  {
   "cell_type": "code",
   "execution_count": 3,
   "metadata": {},
   "outputs": [
    {
     "name": "stdout",
     "output_type": "stream",
     "text": [
      "Thought: To fulfill the request, I need to first download the PDB file for the protein with the PDB ID 1XQ8. After obtaining the file, I will then create a visualization of the protein structure.\n",
      "\n",
      "Action:\n",
      "```\n",
      "{\n",
      "  \"action\": \"PDBFileDownloader\",\n",
      "  \"action_input\": {\n",
      "    \"query\": \"1XQ8\"\n",
      "  }\n",
      "}\n",
      "```\n",
      "\n",
      "PDB file found with this ID: 1XQ8\n"
     ]
    },
    {
     "name": "stderr",
     "output_type": "stream",
     "text": [
      "2024-07-16 21:13:18.490 \n",
      "  \u001b[33m\u001b[1mWarning:\u001b[0m to view this Streamlit app on a browser, run it with the following\n",
      "  command:\n",
      "\n",
      "    streamlit run /opt/anaconda3/envs/mda_jun15/lib/python3.12/site-packages/ipykernel_launcher.py [ARGUMENTS]\n"
     ]
    },
    {
     "name": "stdout",
     "output_type": "stream",
     "text": [
      "Now that I have the PDB file for 1XQ8, the next step is to create a visualization of the protein structure. I will use the PDBVisualization tool to generate this visualization.\n",
      "\n",
      "Action:\n",
      "```\n",
      "{\n",
      "  \"action\": \"PDBVisualization\",\n",
      "  \"action_input\": {\n",
      "    \"cif_file_name\": \"1XQ8_211318\"\n",
      "  }\n",
      "}\n",
      "```Error running molrender: [Errno 2] No such file or directory: 'molrender'. Using NGLView instead.\n",
      "Final Answer: The PDB file for 1XQ8 has been successfully downloaded and a visualization of the protein structure has been created as a notebook.Prompt: The agent was tasked with downloading the PDB file for protein 1XQ8 and creating a visualization of its structure.\n",
      "\n",
      "Step 1: The agent searched for the PDB file for protein 1XQ8 on the Protein Data Bank website.\n",
      "\n",
      "Step 2: The agent located the correct PDB file for protein 1XQ8 and initiated the download process.\n",
      "\n",
      "Step 3: The agent successfully downloaded the PDB file for protein 1XQ8 onto their computer.\n",
      "\n",
      "Step 4: The agent used a software tool to create a visualization of the protein structure based on the downloaded PDB file.\n",
      "\n",
      "Final Solution: The agent was able to successfully download the PDB file for protein 1XQ8 and create a visualization of the protein structure as a notebook, completing the task as required.Your run id is:  4Y1RDT2A\n"
     ]
    },
    {
     "data": {
      "text/plain": [
       "('Final Answer: The PDB file for 1XQ8 has been successfully downloaded and a visualization of the protein structure has been created as a notebook.',\n",
       " '4Y1RDT2A')"
      ]
     },
     "execution_count": 3,
     "metadata": {},
     "output_type": "execute_result"
    }
   ],
   "source": [
    "agent.run(prompt19)"
   ]
  },
  {
   "cell_type": "code",
   "execution_count": 4,
   "metadata": {},
   "outputs": [
    {
     "name": "stdout",
     "output_type": "stream",
     "text": [
      "date and time: 2024-07-16\n",
      "time: 21:13:26\n",
      "Files found in registry: 1XQ8_211318: PDB file downloaded from RSCB\n",
      " PDBFile ID: 1XQ8_211318\n",
      " /Users/samanthacox/Desktop/md-agent/ckpt/ckpt_80/figures/1XQ8_raw_20240716_211318_vis.ipynb: Notebook to visualize cif/pdb file 1XQ8_raw_20240716_211318.pdb using nglview.\n"
     ]
    }
   ],
   "source": [
    "now = datetime.datetime.now()\n",
    "date = now.strftime(\"%Y-%m-%d\")\n",
    "print(\"date and time:\",date)\n",
    "time = now.strftime(\"%H:%M:%S\")\n",
    "print(\"time:\",time)\n",
    "registry = agent.path_registry\n",
    "paths_and_descriptions = registry.list_path_names_and_descriptions()\n",
    "print(\"\\n\".join(paths_and_descriptions.split(\",\")))"
   ]
  },
  {
   "cell_type": "markdown",
   "metadata": {},
   "source": [
    "# Experiment Result:\n",
    "### Completed without Exception or TimeOut Errors ✅\n",
    "### Attempted all necessary steps ✅\n",
    "### Logic make sense ✅\n",
    "### Correct Answer  ✅"
   ]
  },
  {
   "cell_type": "code",
   "execution_count": null,
   "metadata": {},
   "outputs": [],
   "source": []
  },
  {
   "cell_type": "code",
   "execution_count": null,
   "metadata": {},
   "outputs": [],
   "source": []
  }
 ],
 "metadata": {
  "kernelspec": {
   "display_name": "mdagent2",
   "language": "python",
   "name": "python3"
  },
  "language_info": {
   "codemirror_mode": {
    "name": "ipython",
    "version": 3
   },
   "file_extension": ".py",
   "mimetype": "text/x-python",
   "name": "python",
   "nbconvert_exporter": "python",
   "pygments_lexer": "ipython3",
   "version": "3.12.4"
  }
 },
 "nbformat": 4,
 "nbformat_minor": 2
}
