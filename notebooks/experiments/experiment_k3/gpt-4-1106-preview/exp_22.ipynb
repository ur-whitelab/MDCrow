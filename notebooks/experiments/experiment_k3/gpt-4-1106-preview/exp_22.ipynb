{
 "cells": [
  {
   "cell_type": "code",
   "execution_count": 1,
   "metadata": {},
   "outputs": [],
   "source": [
    "import datetime\n",
    "import os\n",
    "from mdagent import MDAgent\n",
    "import matplotlib.pyplot as plt"
   ]
  },
  {
   "cell_type": "code",
   "execution_count": 2,
   "metadata": {},
   "outputs": [
    {
     "name": "stdout",
     "output_type": "stream",
     "text": [
      "date and time: 2024-07-16\n",
      "time: 21:53:03\n",
      "LLM:  gpt-4-1106-preview \n",
      "Temperature:  0.1\n"
     ]
    }
   ],
   "source": [
    "prompt22 = \"Download and clean protein 1A3N\"\n",
    "llm_var = \"gpt-4-1106-preview\"\n",
    "tools = \"all\"\n",
    "agent = MDAgent(agent_type=\"Structured\", model=llm_var, top_k_tools=tools)\n",
    "now = datetime.datetime.now()\n",
    "date = now.strftime(\"%Y-%m-%d\")\n",
    "print(\"date and time:\",date)\n",
    "time = now.strftime(\"%H:%M:%S\")\n",
    "print(\"time:\",time)\n",
    "print(\"LLM: \",agent.llm.model_name,\"\\nTemperature: \",agent.llm.temperature)"
   ]
  },
  {
   "cell_type": "code",
   "execution_count": 3,
   "metadata": {},
   "outputs": [
    {
     "name": "stdout",
     "output_type": "stream",
     "text": [
      "Thought: The task is to download and clean the protein with PDB ID 1A3N. I will use the PDBFileDownloader tool to download the protein file and then use the CleaningToolFunction to clean the downloaded file.\n",
      "\n",
      "Action:\n",
      "```json\n",
      "{\n",
      "  \"action\": \"PDBFileDownloader\",\n",
      "  \"action_input\": {\n",
      "    \"query\": \"1A3N\"\n",
      "  }\n",
      "}\n",
      "```PDB file found with this ID: 1A3N\n"
     ]
    },
    {
     "name": "stderr",
     "output_type": "stream",
     "text": [
      "2024-07-16 21:53:09.605 \n",
      "  \u001b[33m\u001b[1mWarning:\u001b[0m to view this Streamlit app on a browser, run it with the following\n",
      "  command:\n",
      "\n",
      "    streamlit run /opt/anaconda3/envs/mda_jun15/lib/python3.12/site-packages/ipykernel_launcher.py [ARGUMENTS]\n"
     ]
    },
    {
     "name": "stdout",
     "output_type": "stream",
     "text": [
      "Now that the PDB file for protein 1A3N has been downloaded, the next step is to clean the protein structure. This involves removing heterogens, adding missing atoms and hydrogens, replacing nonstandard residues, and removing water. I will use the CleaningToolFunction to perform these tasks.\n",
      "\n",
      "Action:\n",
      "```json\n",
      "{\n",
      "  \"action\": \"CleaningToolFunction\",\n",
      "  \"action_input\": {\n",
      "    \"pdb_id\": \"1A3N_215309\",\n",
      "    \"replace_nonstandard_residues\": true,\n",
      "    \"add_missing_atoms\": true,\n",
      "    \"remove_heterogens\": true,\n",
      "    \"remove_water\": true,\n",
      "    \"add_hydrogens\": true,\n",
      "    \"add_hydrogens_ph\": 7.0\n",
      "  }\n",
      "}\n",
      "```file path: /Users/samanthacox/Desktop/md-agent/ckpt/ckpt_93/pdb/1A3N_raw_20240716_215309.pdb\n",
      "Final Answer: The protein with PDB ID 1A3N has been successfully downloaded and cleaned. The cleaning process involved removing heterogens, adding missing atoms and hydrogens, replacing nonstandard residues, and removing water. The cleaned file is now available with the file ID 1A3N_215325.Prompt: Download and clean the protein with PDB ID 1A3N.\n",
      "\n",
      "Step 1: Attempted to download the protein with PDB ID 1A3N, but encountered errors due to missing atoms and hydrogens.\n",
      "\n",
      "Step 2: Added missing atoms and hydrogens to the protein structure.\n",
      "\n",
      "Step 3: Encountered nonstandard residues in the protein structure that needed to be replaced.\n",
      "\n",
      "Step 4: Removed heterogens from the protein structure.\n",
      "\n",
      "Step 5: Removed water molecules from the protein structure.\n",
      "\n",
      "Final Solution: The protein with PDB ID 1A3N has been successfully downloaded and cleaned. The cleaning process involved removing heterogens, adding missing atoms and hydrogens, replacing nonstandard residues, and removing water. The cleaned file is now available with the file ID 1A3N_215325.Your run id is:  HYON021H\n"
     ]
    },
    {
     "data": {
      "text/plain": [
       "('Final Answer: The protein with PDB ID 1A3N has been successfully downloaded and cleaned. The cleaning process involved removing heterogens, adding missing atoms and hydrogens, replacing nonstandard residues, and removing water. The cleaned file is now available with the file ID 1A3N_215325.',\n",
       " 'HYON021H')"
      ]
     },
     "execution_count": 3,
     "metadata": {},
     "output_type": "execute_result"
    }
   ],
   "source": [
    "agent.run(prompt22)"
   ]
  },
  {
   "cell_type": "code",
   "execution_count": 4,
   "metadata": {},
   "outputs": [
    {
     "name": "stdout",
     "output_type": "stream",
     "text": [
      "date and time: 2024-07-16\n",
      "time: 21:53:31\n",
      "Files found in registry: 1A3N_215309: PDB file downloaded from RSCB\n",
      " PDBFile ID: 1A3N_215309\n",
      " 1A3N_215325: Cleaned File:  Removed Heterogens\n",
      " and Water Removed.  Replaced Nonstandard Residues. Added Hydrogens at pH 7.0. Missing Atoms Added and replaces nonstandard residues. \n"
     ]
    }
   ],
   "source": [
    "now = datetime.datetime.now()\n",
    "date = now.strftime(\"%Y-%m-%d\")\n",
    "print(\"date and time:\",date)\n",
    "time = now.strftime(\"%H:%M:%S\")\n",
    "print(\"time:\",time)\n",
    "registry = agent.path_registry\n",
    "paths_and_descriptions = registry.list_path_names_and_descriptions()\n",
    "print(\"\\n\".join(paths_and_descriptions.split(\",\")))"
   ]
  },
  {
   "cell_type": "code",
   "execution_count": 6,
   "metadata": {},
   "outputs": [],
   "source": [
    "path_before = registry.get_mapped_path(\"1A3N_215309\")\n",
    "path_after = registry.get_mapped_path(\"1A3N_215325\")\n",
    "assert os.path.exists(path_before)\n",
    "assert os.path.exists(path_after)\n",
    "assert path_before != path_after"
   ]
  },
  {
   "cell_type": "code",
   "execution_count": 7,
   "metadata": {},
   "outputs": [],
   "source": [
    "import mdtraj as md\n",
    "raw_file = md.load(path_before)\n",
    "clean_file = md.load(path_after)"
   ]
  },
  {
   "cell_type": "code",
   "execution_count": 8,
   "metadata": {},
   "outputs": [
    {
     "name": "stdout",
     "output_type": "stream",
     "text": [
      "Residues before: {'PHE', 'ASN', 'GLU', 'THR', 'ASP', 'MET', 'VAL', 'TYR', 'HIS', 'GLY', 'GLN', 'PRO', 'CYS', 'TRP', 'HOH', 'HEM', 'LYS', 'ALA', 'LEU', 'SER', 'ARG'}\n",
      "Residues after: {'PHE', 'ASN', 'GLU', 'THR', 'ASP', 'MET', 'VAL', 'TYR', 'HIS', 'GLY', 'GLN', 'PRO', 'CYS', 'TRP', 'LYS', 'ALA', 'LEU', 'SER', 'ARG'}\n",
      "Residues removed: {'HEM', 'HOH'}\n"
     ]
    }
   ],
   "source": [
    "#residues before\n",
    "residues_before = set([str(res)[:3] for res in raw_file.top.residues])\n",
    "residues_after = set([str(res)[:3] for res in clean_file.top.residues])\n",
    "print(\"Residues before:\",residues_before)\n",
    "print(\"Residues after:\",residues_after)\n",
    "print(\"Residues removed:\",residues_before - residues_after)"
   ]
  },
  {
   "cell_type": "markdown",
   "metadata": {},
   "source": [
    "# Experiment Result:\n",
    "### Completed without Exception or TimeOut Errors ✅\n",
    "### Attempted all necessary steps ✅\n",
    "### Logic make sense ✅\n",
    "### Correct Answer  ✅"
   ]
  },
  {
   "cell_type": "markdown",
   "metadata": {},
   "source": []
  }
 ],
 "metadata": {
  "kernelspec": {
   "display_name": "mdagent2",
   "language": "python",
   "name": "python3"
  },
  "language_info": {
   "codemirror_mode": {
    "name": "ipython",
    "version": 3
   },
   "file_extension": ".py",
   "mimetype": "text/x-python",
   "name": "python",
   "nbconvert_exporter": "python",
   "pygments_lexer": "ipython3",
   "version": "3.12.4"
  }
 },
 "nbformat": 4,
 "nbformat_minor": 2
}
