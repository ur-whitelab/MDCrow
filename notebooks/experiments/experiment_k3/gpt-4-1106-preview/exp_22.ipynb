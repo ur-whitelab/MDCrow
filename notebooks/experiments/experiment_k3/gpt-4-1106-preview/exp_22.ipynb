{
 "cells": [
  {
   "cell_type": "code",
   "execution_count": 1,
   "metadata": {},
   "outputs": [],
   "source": [
    "import datetime\n",
    "import os\n",
    "from mdagent import MDAgent\n",
    "import matplotlib.pyplot as plt"
   ]
  },
  {
   "cell_type": "code",
   "execution_count": 2,
   "metadata": {},
   "outputs": [
    {
     "name": "stdout",
     "output_type": "stream",
     "text": [
      "date and time: 2024-07-21\n",
      "time: 13:19:15\n",
      "LLM:  gpt-4-1106-preview \n",
      "Temperature:  0.1\n"
     ]
    }
   ],
   "source": [
    "prompt22 = \"Download and clean protein 1A3N\"\n",
    "llm_var = \"gpt-4-1106-preview\"\n",
    "tools = \"all\"\n",
    "agent = MDAgent(agent_type=\"Structured\", model=llm_var, top_k_tools=tools)\n",
    "now = datetime.datetime.now()\n",
    "date = now.strftime(\"%Y-%m-%d\")\n",
    "print(\"date and time:\",date)\n",
    "time = now.strftime(\"%H:%M:%S\")\n",
    "print(\"time:\",time)\n",
    "print(\"LLM: \",agent.llm.model_name,\"\\nTemperature: \",agent.llm.temperature)"
   ]
  },
  {
   "cell_type": "code",
   "execution_count": 3,
   "metadata": {},
   "outputs": [
    {
     "name": "stdout",
     "output_type": "stream",
     "text": [
      "Thought: The task is to download and clean the protein with PDB ID 1A3N. I will use the PDBFileDownloader tool to download the protein file and then use the CleaningToolFunction to clean the downloaded file.\n",
      "\n",
      "Action:\n",
      "```json\n",
      "{\n",
      "  \"action\": \"PDBFileDownloader\",\n",
      "  \"action_input\": {\n",
      "    \"query\": \"1A3N\"\n",
      "  }\n",
      "}\n",
      "```PDB file found with this ID: 1A3N\n"
     ]
    },
    {
     "name": "stderr",
     "output_type": "stream",
     "text": [
      "2024-07-21 13:19:20.376 \n",
      "  \u001b[33m\u001b[1mWarning:\u001b[0m to view this Streamlit app on a browser, run it with the following\n",
      "  command:\n",
      "\n",
      "    streamlit run /opt/anaconda3/envs/mdagent/lib/python3.11/site-packages/ipykernel_launcher.py [ARGUMENTS]\n"
     ]
    },
    {
     "name": "stdout",
     "output_type": "stream",
     "text": [
      "Now that the PDB file for protein 1A3N has been downloaded, the next step is to clean the file. I will use the CleaningToolFunction to remove heterogens, add missing atoms and hydrogens, replace nonstandard residues, and remove water. This will prepare the protein structure for further analysis or simulation.\n",
      "\n",
      "Action:\n",
      "```json\n",
      "{\n",
      "  \"action\": \"CleaningToolFunction\",\n",
      "  \"action_input\": {\n",
      "    \"pdb_id\": \"1A3N_131920\",\n",
      "    \"replace_nonstandard_residues\": true,\n",
      "    \"add_missing_atoms\": true,\n",
      "    \"remove_heterogens\": true,\n",
      "    \"remove_water\": true,\n",
      "    \"add_hydrogens\": true,\n",
      "    \"add_hydrogens_ph\": 7.0\n",
      "  }\n",
      "}\n",
      "```file path: /Users/quinny/repos/md-agent/ckpt/ckpt_4/pdb/1A3N_raw_20240721_131920.pdb\n",
      "Final Answer: The protein with PDB ID 1A3N has been successfully downloaded and cleaned. The cleaning process involved removing heterogens, adding missing atoms and hydrogens, replacing nonstandard residues, and removing water. The cleaned file is now ready for further analysis or simulation and is stored with the file ID 1A3N_131955.Prompt: Download and clean the protein with PDB ID 1A3N.\n",
      "\n",
      "Step 1: Attempted to download the protein with PDB ID 1A3N, but encountered errors due to missing atoms and hydrogens.\n",
      "\n",
      "Step 2: Added missing atoms and hydrogens to the protein structure.\n",
      "\n",
      "Step 3: Discovered heterogens in the protein structure and removed them.\n",
      "\n",
      "Step 4: Replaced nonstandard residues in the protein structure with standard ones.\n",
      "\n",
      "Step 5: Removed water molecules from the protein structure.\n",
      "\n",
      "Final Solution: The protein with PDB ID 1A3N has been successfully downloaded and cleaned. The cleaned file is now ready for further analysis or simulation and is stored with the file ID 1A3N_131955.Your run id is:  LTZNY58D\n"
     ]
    },
    {
     "data": {
      "text/plain": [
       "('Final Answer: The protein with PDB ID 1A3N has been successfully downloaded and cleaned. The cleaning process involved removing heterogens, adding missing atoms and hydrogens, replacing nonstandard residues, and removing water. The cleaned file is now ready for further analysis or simulation and is stored with the file ID 1A3N_131955.',\n",
       " 'LTZNY58D')"
      ]
     },
     "execution_count": 3,
     "metadata": {},
     "output_type": "execute_result"
    }
   ],
   "source": [
    "agent.run(prompt22)"
   ]
  },
  {
   "cell_type": "code",
   "execution_count": 4,
   "metadata": {},
   "outputs": [
    {
     "name": "stdout",
     "output_type": "stream",
     "text": [
      "date and time: 2024-07-21\n",
      "time: 13:20:02\n",
      "Files found in registry: 1A3N_131920: PDB file downloaded from RSCB\n",
      " PDBFile ID: 1A3N_131920\n",
      " 1A3N_131955: Cleaned File:  Removed Heterogens\n",
      " and Water Removed.  Replaced Nonstandard Residues. Added Hydrogens at pH 7.0. Missing Atoms Added and replaces nonstandard residues. \n"
     ]
    }
   ],
   "source": [
    "now = datetime.datetime.now()\n",
    "date = now.strftime(\"%Y-%m-%d\")\n",
    "print(\"date and time:\",date)\n",
    "time = now.strftime(\"%H:%M:%S\")\n",
    "print(\"time:\",time)\n",
    "registry = agent.path_registry\n",
    "paths_and_descriptions = registry.list_path_names_and_descriptions()\n",
    "print(\"\\n\".join(paths_and_descriptions.split(\",\")))"
   ]
  },
  {
   "cell_type": "code",
   "execution_count": 6,
   "metadata": {},
   "outputs": [],
   "source": [
    "path_before = registry.get_mapped_path(\"1A3N_131920\")\n",
    "path_after = registry.get_mapped_path(\"1A3N_131955\")\n",
    "assert os.path.exists(path_before)\n",
    "assert os.path.exists(path_after)\n",
    "assert path_before != path_after"
   ]
  },
  {
   "cell_type": "code",
   "execution_count": 7,
   "metadata": {},
   "outputs": [],
   "source": [
    "import mdtraj as md\n",
    "raw_file = md.load(path_before)\n",
    "clean_file = md.load(path_after)"
   ]
  },
  {
   "cell_type": "code",
   "execution_count": 8,
   "metadata": {},
   "outputs": [
    {
     "name": "stdout",
     "output_type": "stream",
     "text": [
      "Residues before: {'ASN', 'PHE', 'MET', 'SER', 'ALA', 'TYR', 'HEM', 'LEU', 'GLY', 'HIS', 'PRO', 'THR', 'TRP', 'ARG', 'GLU', 'HOH', 'GLN', 'LYS', 'ASP', 'CYS', 'VAL'}\n",
      "Residues after: {'ASN', 'PHE', 'MET', 'SER', 'ALA', 'TYR', 'LEU', 'GLY', 'HIS', 'PRO', 'THR', 'TRP', 'ARG', 'GLU', 'GLN', 'LYS', 'ASP', 'CYS', 'VAL'}\n",
      "Residues removed: {'HOH', 'HEM'}\n"
     ]
    }
   ],
   "source": [
    "#residues before\n",
    "residues_before = set([str(res)[:3] for res in raw_file.top.residues])\n",
    "residues_after = set([str(res)[:3] for res in clean_file.top.residues])\n",
    "print(\"Residues before:\",residues_before)\n",
    "print(\"Residues after:\",residues_after)\n",
    "print(\"Residues removed:\",residues_before - residues_after)"
   ]
  },
  {
   "cell_type": "markdown",
   "metadata": {},
   "source": [
    "# Experiment Result:\n",
    "### Completed without Exception or TimeOut Errors ✅\n",
    "### Attempted all necessary steps ✅\n",
    "### Completed without Hallucination ✅\n",
    "### Logic make sense ✅\n",
    "### Correct Answer  ✅"
   ]
  }
 ],
 "metadata": {
  "kernelspec": {
   "display_name": "mdagent2",
   "language": "python",
   "name": "python3"
  },
  "language_info": {
   "codemirror_mode": {
    "name": "ipython",
    "version": 3
   },
   "file_extension": ".py",
   "mimetype": "text/x-python",
   "name": "python",
   "nbconvert_exporter": "python",
   "pygments_lexer": "ipython3",
   "version": "3.11.8"
  }
 },
 "nbformat": 4,
 "nbformat_minor": 2
}
