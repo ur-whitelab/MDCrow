{
 "cells": [
  {
   "cell_type": "code",
   "execution_count": 1,
   "metadata": {},
   "outputs": [],
   "source": [
    "import datetime\n",
    "import os\n",
    "from mdagent import MDAgent\n",
    "import matplotlib.pyplot as plt"
   ]
  },
  {
   "cell_type": "code",
   "execution_count": 2,
   "metadata": {},
   "outputs": [
    {
     "name": "stdout",
     "output_type": "stream",
     "text": [
      "date and time: 2024-07-21\n",
      "time: 14:35:39\n",
      "LLM:  gpt-4-1106-preview \n",
      "Temperature:  0.1\n"
     ]
    }
   ],
   "source": [
    "prompt14 = \"Compare the RMSF of 1UBQ at high pressure and low pressure. Perform the simulation for 1 ns and vary only the pressure.\"\n",
    "llm_var = \"gpt-4-1106-preview\"\n",
    "tools = \"all\"\n",
    "agent = MDAgent(agent_type=\"Structured\", model=llm_var, top_k_tools=tools)\n",
    "now = datetime.datetime.now()\n",
    "date = now.strftime(\"%Y-%m-%d\")\n",
    "print(\"date and time:\",date)\n",
    "time = now.strftime(\"%H:%M:%S\")\n",
    "print(\"time:\",time)\n",
    "print(\"LLM: \",agent.llm.model_name,\"\\nTemperature: \",agent.llm.temperature)"
   ]
  },
  {
   "cell_type": "code",
   "execution_count": 3,
   "metadata": {},
   "outputs": [
    {
     "name": "stdout",
     "output_type": "stream",
     "text": [
      "Thought: To compare the RMSF (Root Mean Square Fluctuation) of 1UBQ at high and low pressure, I need to perform two separate molecular dynamics simulations, one at high pressure and one at low pressure, each for 1 nanosecond. After the simulations, I will calculate the RMSF for each simulation. First, I need to set up and run the simulations. Since the simulations are likely to take a significant amount of time, I will use the SetUpandRunFunction tool to perform the simulations. I will start with the low-pressure simulation.\n",
      "\n",
      "Action: SetUpandRunFunction\n",
      "Action Input: {\n",
      "  \"pdb_id\": \"1UBQ\",\n",
      "  \"forcefield_files\": [\"amber14-all.xml\", \"amber14/tip3pfb.xml\"],\n",
      "  \"save\": true,\n",
      "  \"system_params\": {\n",
      "    \"nonbondedMethod\": \"PME\",\n",
      "    \"nonbondedCutoff\": \"1 * nanometers\",\n",
      "    \"constraints\": \"HBonds\",\n",
      "    \"rigidWater\": true,\n",
      "    \"constraintTolerance\": 0.00001,\n",
      "    \"solvate\": true\n",
      "  },\n",
      "  \"integrator_params\": {\n",
      "    \"integrator_type\": \"LangevinMiddle\",\n",
      "    \"Temperature\": \"300 * kelvin\",\n",
      "    \"Friction\": \"1.0 / picoseconds\",\n",
      "    \"Timestep\": \"0.002 * picoseconds\",\n",
      "    \"Pressure\": \"1.0 * bar\"  // Low pressure\n",
      "  },\n",
      "  \"simulation_params\": {\n",
      "    \"Ensemble\": \"NPT\",\n",
      "    \"Number of Steps\": 500000,  // 1 ns simulation at 2 fs timestep\n",
      "    \"record_interval_steps\": 5000,\n",
      "    \"record_params\": [\"step\", \"potentialEnergy\", \"temperature\", \"density\"]\n",
      "  }\n",
      "}The agent's thought process involved comparing the RMSF of 1UBQ at high and low pressure through molecular dynamics simulations. The agent decided to run two separate simulations, each for 1 nanosecond, and calculate the RMSF for each. The agent used the SetUpandRunFunction tool to set up and run the simulations, starting with the low-pressure simulation.\n",
      "\n",
      "The agent inputted the necessary parameters for the simulation, including forcefield files, system parameters (such as nonbonded method and constraints), integrator parameters (LangevinMiddle integrator type, temperature, friction, timestep, and pressure set to low pressure), and simulation parameters (NPT ensemble, number of steps, record interval steps, and recorded parameters).\n",
      "\n",
      "After setting up and running the low-pressure simulation, the agent likely repeated the process for the high-pressure simulation. Finally, after completing both simulations and calculating the RMSF for each, the agent would have been able to compare the RMSF of 1UBQ at high and low pressure to analyze the effects of pressure on the protein's fluctuations.Your run id is:  GC76J3TJ\n"
     ]
    },
    {
     "data": {
      "text/plain": [
       "('Thought: To compare the RMSF (Root Mean Square Fluctuation) of 1UBQ at high and low pressure, I need to perform two separate molecular dynamics simulations, one at high pressure and one at low pressure, each for 1 nanosecond. After the simulations, I will calculate the RMSF for each simulation. First, I need to set up and run the simulations. Since the simulations are likely to take a significant amount of time, I will use the SetUpandRunFunction tool to perform the simulations. I will start with the low-pressure simulation.\\n\\nAction: SetUpandRunFunction\\nAction Input: {\\n  \"pdb_id\": \"1UBQ\",\\n  \"forcefield_files\": [\"amber14-all.xml\", \"amber14/tip3pfb.xml\"],\\n  \"save\": true,\\n  \"system_params\": {\\n    \"nonbondedMethod\": \"PME\",\\n    \"nonbondedCutoff\": \"1 * nanometers\",\\n    \"constraints\": \"HBonds\",\\n    \"rigidWater\": true,\\n    \"constraintTolerance\": 0.00001,\\n    \"solvate\": true\\n  },\\n  \"integrator_params\": {\\n    \"integrator_type\": \"LangevinMiddle\",\\n    \"Temperature\": \"300 * kelvin\",\\n    \"Friction\": \"1.0 / picoseconds\",\\n    \"Timestep\": \"0.002 * picoseconds\",\\n    \"Pressure\": \"1.0 * bar\"  // Low pressure\\n  },\\n  \"simulation_params\": {\\n    \"Ensemble\": \"NPT\",\\n    \"Number of Steps\": 500000,  // 1 ns simulation at 2 fs timestep\\n    \"record_interval_steps\": 5000,\\n    \"record_params\": [\"step\", \"potentialEnergy\", \"temperature\", \"density\"]\\n  }\\n}',\n",
       " 'GC76J3TJ')"
      ]
     },
     "execution_count": 3,
     "metadata": {},
     "output_type": "execute_result"
    }
   ],
   "source": [
    "agent.run(prompt14)"
   ]
  },
  {
   "cell_type": "code",
   "execution_count": 4,
   "metadata": {},
   "outputs": [
    {
     "name": "stdout",
     "output_type": "stream",
     "text": [
      "date and time: 2024-07-21\n",
      "time: 14:35:56\n",
      "No names found. The JSON file is empty or does not contain name mappings.\n"
     ]
    }
   ],
   "source": [
    "now = datetime.datetime.now()\n",
    "date = now.strftime(\"%Y-%m-%d\")\n",
    "print(\"date and time:\",date)\n",
    "time = now.strftime(\"%H:%M:%S\")\n",
    "print(\"time:\",time)\n",
    "registry = agent.path_registry\n",
    "paths_and_descriptions = registry.list_path_names_and_descriptions()\n",
    "print(\"\\n\".join(paths_and_descriptions.split(\",\")))"
   ]
  },
  {
   "cell_type": "code",
   "execution_count": 5,
   "metadata": {},
   "outputs": [
    {
     "ename": "AssertionError",
     "evalue": "Path does not exist",
     "output_type": "error",
     "traceback": [
      "\u001b[0;31m---------------------------------------------------------------------------\u001b[0m",
      "\u001b[0;31mAssertionError\u001b[0m                            Traceback (most recent call last)",
      "Cell \u001b[0;32mIn[5], line 6\u001b[0m\n\u001b[1;32m      3\u001b[0m path_1 \u001b[38;5;241m=\u001b[39m registry\u001b[38;5;241m.\u001b[39mget_mapped_path(\u001b[38;5;124m\"\u001b[39m\u001b[38;5;124mfig0_034637\u001b[39m\u001b[38;5;124m\"\u001b[39m)\n\u001b[1;32m      4\u001b[0m path_2 \u001b[38;5;241m=\u001b[39m registry\u001b[38;5;241m.\u001b[39mget_mapped_path(\u001b[38;5;124m\"\u001b[39m\u001b[38;5;124mfig0_034641\u001b[39m\u001b[38;5;124m\"\u001b[39m)\n\u001b[0;32m----> 6\u001b[0m \u001b[38;5;28;01massert\u001b[39;00m os\u001b[38;5;241m.\u001b[39mpath\u001b[38;5;241m.\u001b[39mexists(path_1), \u001b[38;5;124m\"\u001b[39m\u001b[38;5;124mPath does not exist\u001b[39m\u001b[38;5;124m\"\u001b[39m\n\u001b[1;32m      7\u001b[0m \u001b[38;5;28;01massert\u001b[39;00m os\u001b[38;5;241m.\u001b[39mpath\u001b[38;5;241m.\u001b[39mexists(path_2), \u001b[38;5;124m\"\u001b[39m\u001b[38;5;124mPath does not exist\u001b[39m\u001b[38;5;124m\"\u001b[39m\n\u001b[1;32m      9\u001b[0m Image(filename\u001b[38;5;241m=\u001b[39mpath_1)\n",
      "\u001b[0;31mAssertionError\u001b[0m: Path does not exist"
     ]
    }
   ],
   "source": [
    "from IPython.display import Image\n",
    "\n",
    "path_1 = registry.get_mapped_path(\"fig0_034637\")\n",
    "path_2 = registry.get_mapped_path(\"fig0_034641\")\n",
    "\n",
    "assert os.path.exists(path_1), \"Path does not exist\"\n",
    "assert os.path.exists(path_2), \"Path does not exist\"\n",
    "\n",
    "Image(filename=path_1)"
   ]
  },
  {
   "cell_type": "code",
   "execution_count": null,
   "metadata": {},
   "outputs": [],
   "source": [
    "# Image(filename=path_2)"
   ]
  },
  {
   "cell_type": "markdown",
   "metadata": {},
   "source": [
    "# Experiment Result:\n",
    "### Completed without Exception or TimeOut Errors ✅\n",
    "### Attempted all necessary steps ❌\n",
    "### Completed without Hallucination ❌\n",
    "### Logic make sense ❌\n",
    "### Correct Answer  ❌"
   ]
  }
 ],
 "metadata": {
  "kernelspec": {
   "display_name": "mdagent2",
   "language": "python",
   "name": "python3"
  },
  "language_info": {
   "codemirror_mode": {
    "name": "ipython",
    "version": 3
   },
   "file_extension": ".py",
   "mimetype": "text/x-python",
   "name": "python",
   "nbconvert_exporter": "python",
   "pygments_lexer": "ipython3",
   "version": "3.11.8"
  }
 },
 "nbformat": 4,
 "nbformat_minor": 2
}
