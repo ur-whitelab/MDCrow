{
 "cells": [
  {
   "cell_type": "code",
   "execution_count": null,
   "metadata": {},
   "outputs": [],
   "source": [
    "import datetime\n",
    "import os\n",
    "from mdagent import MDAgent\n",
    "import matplotlib.pyplot as plt"
   ]
  },
  {
   "cell_type": "code",
   "execution_count": null,
   "metadata": {},
   "outputs": [],
   "source": [
    "prompt5 = \"Simulate 1XQ8 for 1ns at temperate 300K. Then tell me if the secondary structure changed from before the simulation to after.\"\n",
    "llm_var = \"gpt-4-1106-preview\"\n",
    "tools = \"all\"\n",
    "agent = MDAgent(agent_type=\"Structured\", model=llm_var, top_k_tools=tools)\n",
    "now = datetime.datetime.now()\n",
    "date = now.strftime(\"%Y-%m-%d\")\n",
    "print(\"date and time:\",date)\n",
    "time = now.strftime(\"%H:%M:%S\")\n",
    "print(\"time:\",time)\n",
    "print(\"LLM: \",agent.llm.model_name,\"\\nTemperature: \",agent.llm.temperature)"
   ]
  },
  {
   "cell_type": "code",
   "execution_count": null,
   "metadata": {},
   "outputs": [],
   "source": [
    "agent.run(prompt5)"
   ]
  },
  {
   "cell_type": "code",
   "execution_count": null,
   "metadata": {},
   "outputs": [],
   "source": [
    "now = datetime.datetime.now()\n",
    "date = now.strftime(\"%Y-%m-%d\")\n",
    "print(\"date and time:\",date)\n",
    "time = now.strftime(\"%H:%M:%S\")\n",
    "print(\"time:\",time)"
   ]
  },
  {
   "cell_type": "code",
   "execution_count": null,
   "metadata": {},
   "outputs": [],
   "source": [
    "registry = agent.path_registry\n",
    "paths_and_descriptions = registry.list_path_names_and_descriptions()\n",
    "print(\"\\n\".join(paths_and_descriptions.split(\",\")))"
   ]
  },
  {
   "cell_type": "code",
   "execution_count": null,
   "metadata": {},
   "outputs": [],
   "source": [
    "# import mdtraj as md\n",
    "# import numpy as np\n",
    "\n",
    "# traj_path = registry.get_mapped_path(\"rec2_164856\")\n",
    "# top_path = registry.get_mapped_path(\"top_sim0_164856\")\n",
    "# traj = md.load(traj_path, top=top_path)\n",
    "\n",
    "# # Compute the secondary structure of the trajectory\n",
    "# dssp_final = md.compute_dssp(traj[-1], simplified=True)\n",
    "# dssp_initial = md.compute_dssp(traj[0], simplified=True)\n",
    "\n",
    "# print(\"Number of initial sheets: \",len([i for i in dssp_initial[0] if i == 'E']))\n",
    "# print(\"Number of initial helices: \",len([i for i in dssp_initial[0] if i == 'H']))\n",
    "# print(\"Number of initial coils: \",len([i for i in dssp_initial[0] if i == 'C']))\n",
    "\n",
    "# print(\"Number of final sheets: \",len([i for i in dssp_final[0] if i == 'E']))\n",
    "# print(\"Number of final helices: \",len([i for i in dssp_final[0] if i == 'H']))\n",
    "# print(\"Number of final coils: \",len([i for i in dssp_final[0] if i == 'C']))"
   ]
  },
  {
   "cell_type": "markdown",
   "metadata": {},
   "source": [
    "# Experiment Result:\n",
    "\n",
    "### Completed without Exception or TimeOut Errors ✅\n",
    "\n",
    "### Attempted all necessary steps ❌\n",
    "\n",
    "### Logic make sense ❌\n",
    "- the agent didn't mention downloading or cleaning the pdb file\n",
    "- the agent didn't describe doing SS analysis twice\n",
    "\n",
    "### Correct Answer ❌"
   ]
  },
  {
   "cell_type": "markdown",
   "metadata": {},
   "source": []
  }
 ],
 "metadata": {
  "kernelspec": {
   "display_name": "mda_jun15",
   "language": "python",
   "name": "python3"
  },
  "language_info": {
   "codemirror_mode": {
    "name": "ipython",
    "version": 3
   },
   "file_extension": ".py",
   "mimetype": "text/x-python",
   "name": "python",
   "nbconvert_exporter": "python",
   "pygments_lexer": "ipython3",
   "version": "3.11.9"
  }
 },
 "nbformat": 4,
 "nbformat_minor": 2
}
