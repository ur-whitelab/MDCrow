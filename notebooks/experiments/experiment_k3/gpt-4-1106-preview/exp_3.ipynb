{
 "cells": [
  {
   "cell_type": "code",
   "execution_count": 1,
   "metadata": {},
   "outputs": [],
   "source": [
    "import datetime\n",
    "import os\n",
    "from mdagent import MDAgent\n",
    "import matplotlib.pyplot as plt"
   ]
  },
  {
   "cell_type": "code",
   "execution_count": 2,
   "metadata": {},
   "outputs": [
    {
     "name": "stdout",
     "output_type": "stream",
     "text": [
      "date and time: 2024-07-21\n",
      "time: 10:45:39\n",
      "LLM:  gpt-4-1106-preview \n",
      "Temperature:  0.1\n"
     ]
    }
   ],
   "source": [
    "prompt3 = \"Download the PDB file for PDB ID 1GZX. Then, analyze the secondary structure of the protein and tell me how many chains, sheets, etc. there are.\"\n",
    "llm_var = \"gpt-4-1106-preview\"\n",
    "tools = \"all\"\n",
    "agent = MDAgent(agent_type=\"Structured\", model=llm_var, top_k_tools=tools)\n",
    "now = datetime.datetime.now()\n",
    "date = now.strftime(\"%Y-%m-%d\")\n",
    "print(\"date and time:\",date)\n",
    "time = now.strftime(\"%H:%M:%S\")\n",
    "print(\"time:\",time)\n",
    "print(\"LLM: \",agent.llm.model_name,\"\\nTemperature: \",agent.llm.temperature)"
   ]
  },
  {
   "cell_type": "code",
   "execution_count": 3,
   "metadata": {},
   "outputs": [
    {
     "name": "stdout",
     "output_type": "stream",
     "text": [
      "Thought: To answer the question, I need to first download the PDB file for the given PDB ID (1GZX). After obtaining the file, I will analyze the secondary structure of the protein to determine the number of chains, sheets, and other structural elements.\n",
      "\n",
      "Action:\n",
      "```json\n",
      "{\n",
      "  \"action\": \"PDBFileDownloader\",\n",
      "  \"action_input\": {\n",
      "    \"query\": \"1GZX\"\n",
      "  }\n",
      "}\n",
      "```\n",
      "\n",
      "PDB file found with this ID: 1GZX\n"
     ]
    },
    {
     "name": "stderr",
     "output_type": "stream",
     "text": [
      "2024-07-21 10:45:44.287 \n",
      "  \u001b[33m\u001b[1mWarning:\u001b[0m to view this Streamlit app on a browser, run it with the following\n",
      "  command:\n",
      "\n",
      "    streamlit run /Users/jorgemedina/miniforge3/envs/mdagent2/lib/python3.11/site-packages/ipykernel_launcher.py [ARGUMENTS]\n"
     ]
    },
    {
     "name": "stdout",
     "output_type": "stream",
     "text": [
      "Now that I have the PDB file for 1GZX, I need to analyze its secondary structure to determine the number of chains, sheets, and other structural elements.\n",
      "\n",
      "Action:\n",
      "```json\n",
      "{\n",
      "  \"action\": \"ComputeDSSP\",\n",
      "  \"action_input\": {\n",
      "    \"traj_file\": \"1GZX_104544\"\n",
      "  }\n",
      "}\n",
      "```The analysis of the secondary structure of the protein with PDB ID 1GZX has been completed. The protein consists of 444 residues forming helices, no residues forming strands (sheets), and 130 residues in coil (non-regular secondary structure) conformation. Additionally, there are 213 residues that are not assigned to any secondary structure, which may include ligands, water molecules, or non-standard residues not recognized as part of the protein's secondary structure.\n",
      "\n",
      "To provide a complete answer, I need to determine the number of chains in the protein structure.\n",
      "\n",
      "Action:\n",
      "```json\n",
      "{\n",
      "  \"action\": \"SummarizeProteinStructure\",\n",
      "  \"action_input\": {\n",
      "    \"traj_file\": \"1GZX_104544\"\n",
      "  }\n",
      "}\n",
      "```\n",
      "Final Answer: The protein with PDB ID 1GZX consists of 12 chains. The secondary structure analysis revealed that there are 444 residues forming helices, no residues forming strands (sheets), and 130 residues in coil conformation. Additionally, there are 213 residues that are not assigned to any secondary structure, which may include ligands, water molecules, or non-standard residues not recognized as part of the protein's secondary structure. The protein structure has a total of 4769 atoms, 787 residues, and 4716 bonds across 1 frame in the trajectory file.Prompt: Analyze the protein structure with PDB ID 1GZX and determine the number of chains, residues in helices, residues in strands, residues in coil conformation, and any unassigned residues.\n",
      "\n",
      "Step 1: Retrieve the protein structure with PDB ID 1GZX.\n",
      "Step 2: Analyze the protein structure to determine the number of chains present.\n",
      "Step 3: Perform a secondary structure analysis to identify the number of residues forming helices, strands, and coil conformation.\n",
      "Step 4: Identify any residues that are not assigned to any secondary structure.\n",
      "Step 5: Determine the total number of atoms, residues, and bonds in the protein structure.\n",
      "Step 6: Compile all the information gathered from the analysis.\n",
      "\n",
      "Final Solution: The protein with PDB ID 1GZX consists of 12 chains. The secondary structure analysis revealed that there are 444 residues forming helices, no residues forming strands (sheets), and 130 residues in coil conformation. Additionally, there are 213 residues that are not assigned to any secondary structure, which may include ligands, water molecules, or non-standard residues not recognized as part of the protein's secondary structure. The protein structure has a total of 4769 atoms, 787 residues, and 4716 bonds across 1 frame in the trajectory file.Your run id is:  Q5L9NO1B\n"
     ]
    },
    {
     "data": {
      "text/plain": [
       "(\"Final Answer: The protein with PDB ID 1GZX consists of 12 chains. The secondary structure analysis revealed that there are 444 residues forming helices, no residues forming strands (sheets), and 130 residues in coil conformation. Additionally, there are 213 residues that are not assigned to any secondary structure, which may include ligands, water molecules, or non-standard residues not recognized as part of the protein's secondary structure. The protein structure has a total of 4769 atoms, 787 residues, and 4716 bonds across 1 frame in the trajectory file.\",\n",
       " 'Q5L9NO1B')"
      ]
     },
     "execution_count": 3,
     "metadata": {},
     "output_type": "execute_result"
    }
   ],
   "source": [
    "agent.run(prompt3)"
   ]
  },
  {
   "cell_type": "code",
   "execution_count": 4,
   "metadata": {},
   "outputs": [
    {
     "name": "stdout",
     "output_type": "stream",
     "text": [
      "date and time: 2024-07-21\n",
      "time: 10:46:04\n"
     ]
    }
   ],
   "source": [
    "now = datetime.datetime.now()\n",
    "date = now.strftime(\"%Y-%m-%d\")\n",
    "print(\"date and time:\",date)\n",
    "time = now.strftime(\"%H:%M:%S\")\n",
    "print(\"time:\",time)"
   ]
  },
  {
   "cell_type": "code",
   "execution_count": 5,
   "metadata": {},
   "outputs": [
    {
     "name": "stdout",
     "output_type": "stream",
     "text": [
      "Files found in registry: 1GZX_104544: PDB file downloaded from RSCB, PDBFile ID: 1GZX_104544, rec0_104548: dssp values for trajectory with id: 1GZX_104544\n"
     ]
    }
   ],
   "source": [
    "registry = agent.path_registry\n",
    "print(registry.list_path_names_and_descriptions())"
   ]
  },
  {
   "cell_type": "code",
   "execution_count": 3,
   "metadata": {},
   "outputs": [],
   "source": [
    "from mdagent import MDAgent\n",
    "tools = \"all\"\n",
    "llm_var = \"gpt-4-1106-preview\"\n",
    "agent = MDAgent(agent_type=\"Structured\", model=llm_var, top_k_tools=tools, ckpt_dir = \"ckpt_223\")\n",
    "registry = agent.path_registry\n"
   ]
  },
  {
   "cell_type": "code",
   "execution_count": 4,
   "metadata": {},
   "outputs": [
    {
     "name": "stdout",
     "output_type": "stream",
     "text": [
      "Number of residues in chains:  12\n",
      "Number of residues in sheets:  0\n",
      "Number of residues in helices:  444\n",
      "Number of residues in coils:  130\n"
     ]
    }
   ],
   "source": [
    "import mdtraj as md\n",
    "path = registry.get_mapped_path(\"1GZX_104544\")\n",
    "traj = md.load(path)\n",
    "top = traj.topology\n",
    "number_of_chains = top.n_chains\n",
    "secondary_structure = md.compute_dssp(traj,simplified=True)\n",
    "print(\"Number of residues in chains: \",number_of_chains)\n",
    "print(\"Number of residues in sheets: \",len([i for i in secondary_structure[0] if i == 'E']))\n",
    "print(\"Number of residues in helices: \",len([i for i in secondary_structure[0] if i == 'H']))\n",
    "print(\"Number of residues in coils: \",len([i for i in secondary_structure[0] if i == 'C']))\n"
   ]
  },
  {
   "cell_type": "markdown",
   "metadata": {},
   "source": [
    "# Experiment Result:\n",
    "### Completed without Exception or TimeOut Errors ✅\n",
    "### Attempted all necessary steps ✅\n",
    "### Logic make sense ✅\n",
    "### Correct Answer  ✅"
   ]
  },
  {
   "cell_type": "code",
   "execution_count": null,
   "metadata": {},
   "outputs": [],
   "source": []
  }
 ],
 "metadata": {
  "kernelspec": {
   "display_name": "mdagent2",
   "language": "python",
   "name": "python3"
  },
  "language_info": {
   "codemirror_mode": {
    "name": "ipython",
    "version": 3
   },
   "file_extension": ".py",
   "mimetype": "text/x-python",
   "name": "python",
   "nbconvert_exporter": "python",
   "pygments_lexer": "ipython3",
   "version": "3.11.9"
  }
 },
 "nbformat": 4,
 "nbformat_minor": 2
}
