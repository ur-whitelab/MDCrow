{
 "cells": [
  {
   "cell_type": "code",
   "execution_count": 1,
   "metadata": {},
   "outputs": [],
   "source": [
    "import datetime\n",
    "import os\n",
    "from mdagent import MDAgent\n",
    "import matplotlib.pyplot as plt"
   ]
  },
  {
   "cell_type": "code",
   "execution_count": 2,
   "metadata": {},
   "outputs": [
    {
     "name": "stdout",
     "output_type": "stream",
     "text": [
      "date and time: 2024-07-21\n",
      "time: 15:52:22\n",
      "LLM:  gpt-4o-2024-05-13 \n",
      "Temperature:  0.1\n"
     ]
    }
   ],
   "source": [
    "prompt24 = \"Analyze the rdf of the simulation of 1A3N solvated in water\"\n",
    "llm_var = \"gpt-4o-2024-05-13\"\n",
    "tools = \"all\"\n",
    "agent = MDAgent(agent_type=\"Structured\", model=llm_var, top_k_tools=tools)\n",
    "now = datetime.datetime.now()\n",
    "date = now.strftime(\"%Y-%m-%d\")\n",
    "print(\"date and time:\",date)\n",
    "time = now.strftime(\"%H:%M:%S\")\n",
    "print(\"time:\",time)\n",
    "print(\"LLM: \",agent.llm.model_name,\"\\nTemperature: \",agent.llm.temperature)"
   ]
  },
  {
   "cell_type": "code",
   "execution_count": 3,
   "metadata": {},
   "outputs": [
    {
     "name": "stdout",
     "output_type": "stream",
     "text": [
      "Thought: To analyze the radial distribution function (RDF) of the simulation of the protein 1A3N solvated in water, I need to ensure that I have the necessary trajectory and topology files for the simulation. I will use the RDFTool to perform this analysis.\n",
      "\n",
      "Action:\n",
      "```\n",
      "{\n",
      "  \"action\": \"RDFTool\",\n",
      "  \"action_input\": {\n",
      "    \"input\": {\n",
      "      \"trajectory_fileid\": \"1A3N_trajectory\",\n",
      "      \"topology_fileid\": \"1A3N_topology\"\n",
      "    }\n",
      "  }\n",
      "}\n",
      "```File ID not in Path Registry in RDF tool:  Trajectory File ID not in path registry\n",
      "To proceed with the analysis of the radial distribution function (RDF) for the simulation of the protein 1A3N solvated in water, I need to first ensure that the necessary files are available in the path registry. I will list the available paths to check if the required files are present.\n",
      "\n",
      "Action:\n",
      "```\n",
      "{\n",
      "  \"action\": \"ListRegistryPaths\",\n",
      "  \"action_input\": {\n",
      "    \"paths\": \"paths\"\n",
      "  }\n",
      "}\n",
      "```To proceed with the analysis of the radial distribution function (RDF) for the simulation of the protein 1A3N solvated in water, I need to first download the necessary PDB file for 1A3N. After obtaining the PDB file, I can set up and run a short simulation to generate the required trajectory and topology files.\n",
      "\n",
      "Action:\n",
      "```\n",
      "{\n",
      "  \"action\": \"PDBFileDownloader\",\n",
      "  \"action_input\": {\n",
      "    \"query\": \"1A3N\"\n",
      "  }\n",
      "}\n",
      "```PDB file found with this ID: 1A3N\n"
     ]
    },
    {
     "name": "stderr",
     "output_type": "stream",
     "text": [
      "2024-07-21 15:52:28.404 \n",
      "  \u001b[33m\u001b[1mWarning:\u001b[0m to view this Streamlit app on a browser, run it with the following\n",
      "  command:\n",
      "\n",
      "    streamlit run /Users/jorgemedina/miniforge3/envs/mdagent2/lib/python3.11/site-packages/ipykernel_launcher.py [ARGUMENTS]\n"
     ]
    },
    {
     "name": "stdout",
     "output_type": "stream",
     "text": [
      "To proceed with the analysis of the radial distribution function (RDF) for the simulation of the protein 1A3N solvated in water, I need to set up and run a short simulation to generate the required trajectory and topology files. I will use the `SetUpandRunFunction` tool for this purpose.\n",
      "\n",
      "Action:\n",
      "```\n",
      "{\n",
      "  \"action\": \"SetUpandRunFunction\",\n",
      "  \"action_input\": {\n",
      "    \"pdb_id\": \"1A3N_155228\",\n",
      "    \"forcefield_files\": [],\n",
      "    \"save\": true,\n",
      "    \"system_params\": {\n",
      "      \"nonbondedMethod\": \"CutoffPeriodic\",\n",
      "      \"nonbondedCutoff\": \"1.0 * nanometers\",\n",
      "      \"constraints\": \"HBonds\",\n",
      "      \"rigidWater\": true,\n",
      "      \"constraintTolerance\": 0.00001,\n",
      "      \"solvate\": true\n",
      "    },\n",
      "    \"integrator_params\": {\n",
      "      \"integrator_type\": \"LangevinMiddle\",\n",
      "      \"Temperature\": \"300 * kelvin\",\n",
      "      \"Friction\": \"1.0 / picoseconds\",\n",
      "      \"Timestep\": \"0.002 * picoseconds\",\n",
      "      \"Pressure\": \"1.0 * bar\"\n",
      "    },\n",
      "    \"simulation_params\": {\n",
      "      \"Ensemble\": \"NPT\",\n",
      "      \"Number of Steps\": 5000,\n",
      "      \"record_interval_steps\": 100,\n",
      "      \"record_params\": [\"step\", \"potentialEnergy\", \"temperature\"]\n",
      "    }\n",
      "  }\n",
      "}\n",
      "```\n",
      "Setting default forcefields v2\n",
      "Building system...\n",
      "About to create system...\n",
      "Attempts at creating system: 0/3\n",
      "Error adding solvent ValueError – No template found for residue 1 (VAL).  The set of atoms is similar to PRO, but it is missing 7 hydrogen atoms.  For more information, see https://github.com/openmm/openmm/wiki/Frequently-Asked-Questions#template\n",
      "Residue code: VAL\n",
      "Residue code not in solvent list. Adding forcefield                         not supported.\n",
      "To proceed with the analysis of the radial distribution function (RDF) for the simulation of the protein 1A3N solvated in water, I need to address the issue with the missing hydrogen atoms in the residue VAL. I will use the `CleaningToolFunction` to add the missing atoms and hydrogens to the PDB file. After that, I will attempt to set up and run the simulation again.\n",
      "\n",
      "Action:\n",
      "```\n",
      "{\n",
      "  \"action\": \"CleaningToolFunction\",\n",
      "  \"action_input\": {\n",
      "    \"pdb_id\": \"1A3N_155228\",\n",
      "    \"replace_nonstandard_residues\": true,\n",
      "    \"add_missing_atoms\": true,\n",
      "    \"remove_heterogens\": true,\n",
      "    \"remove_water\": false,\n",
      "    \"add_hydrogens\": true,\n",
      "    \"add_hydrogens_ph\": 7.0\n",
      "  }\n",
      "}\n",
      "```file path: /Users/jorgemedina/Desktop/md-agent/ckpt/ckpt_242/pdb/1A3N_raw_20240721_155228.pdb\n",
      "To proceed with the analysis of the radial distribution function (RDF) for the simulation of the protein 1A3N solvated in water, I will now set up and run a short simulation using the cleaned PDB file. This will generate the required trajectory and topology files.\n",
      "\n",
      "Action:\n",
      "```\n",
      "{\n",
      "  \"action\": \"SetUpandRunFunction\",\n",
      "  \"action_input\": {\n",
      "    \"pdb_id\": \"1A3N_155243\",\n",
      "    \"forcefield_files\": [],\n",
      "    \"save\": true,\n",
      "    \"system_params\": {\n",
      "      \"nonbondedMethod\": \"CutoffPeriodic\",\n",
      "      \"nonbondedCutoff\": \"1.0 * nanometers\",\n",
      "      \"constraints\": \"HBonds\",\n",
      "      \"rigidWater\": true,\n",
      "      \"constraintTolerance\": 0.00001,\n",
      "      \"solvate\": true\n",
      "    },\n",
      "    \"integrator_params\": {\n",
      "      \"integrator_type\": \"LangevinMiddle\",\n",
      "      \"Temperature\": \"300 * kelvin\",\n",
      "      \"Friction\": \"1.0 / picoseconds\",\n",
      "      \"Timestep\": \"0.002 * picoseconds\",\n",
      "      \"Pressure\": \"1.0 * bar\"\n",
      "    },\n",
      "    \"simulation_params\": {\n",
      "      \"Ensemble\": \"NPT\",\n",
      "      \"Number of Steps\": 5000,\n",
      "      \"record_interval_steps\": 100,\n",
      "      \"record_params\": [\"step\", \"potentialEnergy\", \"temperature\"]\n",
      "    }\n",
      "  }\n",
      "}\n",
      "```\n",
      "Setting default forcefields v2\n",
      "Building system...\n",
      "About to create system...\n",
      "Attempts at creating system: 0/3\n",
      "System built successfully\n",
      "<openmm.openmm.System; proxy of <Swig Object of type 'OpenMM::System *' at 0x17fbbf930> >\n",
      "Setting up integrator...\n",
      "Creating simulation...\n",
      "simulation set!\n",
      "Performing energy minimization...\n",
      "Minimization complete!\n",
      "Initial Positions saved to initial_positions.pdb\n",
      "Equilibrating...\n",
      "Simulating...\n",
      "Done!\n",
      "Standalone simulation script written to /Users/jorgemedina/Desktop/md-agent/ckpt/ckpt_242/simulations/NPT_1A3N_155243_20240721_155247.py\n",
      "['TRAJ_sim0_155247_1A3N_155243_20240721_155251.dcd', 'exp_11.ipynb', 'exp_13.ipynb', 'exp_9.ipynb', 'exp_17.ipynb', 'TOP_sim0_124250_1FNF_124243_20240721_124253.pdb', 'TOP_sim0_154426_1FNF_154422_20240721_154427.pdb', 'TRAJ_sim0_155447_2YXF_155444_20240721_155450.dcd', 'exp_15.ipynb', 'exp_12.ipynb', 'exp_10.ipynb', 'LOG_sim0_155447_2YXF_155444_20240721_155450.txt', 'temp_topology.pdb', 'exp_14.ipynb', 'LOG_sim0_155247_1A3N_155243_20240721_155251.txt', 'TOP_sim0_142806_1FNF_124243_20240721_142809.pdb', 'exp_16.ipynb', 'exp_8.ipynb', 'TOP_sim0_155447_2YXF_155444_20240721_155450.pdb', 'exp_4.ipynb', 'TRAJ_sim0_124250_1FNF_124243_20240721_124253.dcd', 'TRAJ_sim0_154426_1FNF_154422_20240721_154427.dcd', 'exp_25.ipynb', 'exp_18.ipynb', 'exp_6.ipynb', 'exp_21.ipynb', 'LOG_sim0_142806_1FNF_124243_20240721_142809.txt', 'TOP_sim0_155247_1A3N_155243_20240721_155251.pdb', 'exp_2.ipynb', 'exp_23.ipynb', 'exp_7.ipynb', 'exp_19.ipynb', 'exp_24.ipynb', 'TRAJ_sim0_142806_1FNF_124243_20240721_142809.dcd', 'exp_5.ipynb', 'exp_22.ipynb', 'exp_1.ipynb', 'exp_3.ipynb', 'LOG_sim0_124250_1FNF_124243_20240721_124253.txt', 'exp_20.ipynb', 'LOG_sim0_154426_1FNF_154422_20240721_154427.txt']\n",
      "To proceed with the analysis of the radial distribution function (RDF) for the simulation of the protein 1A3N solvated in water, I will now use the RDFTool with the generated trajectory and topology files.\n",
      "\n",
      "Action:\n",
      "```\n",
      "{\n",
      "  \"action\": \"RDFTool\",\n",
      "  \"action_input\": {\n",
      "    \"input\": {\n",
      "      \"trajectory_fileid\": \"rec0_155251\",\n",
      "      \"topology_fileid\": \"top_sim0_155247\"\n",
      "    }\n",
      "  }\n",
      "}\n",
      "```The radial distribution function (RDF) analysis for the simulation of the protein 1A3N solvated in water has been successfully completed. The RDF plot has been generated and is available for review.\n",
      "\n",
      "Final Answer: The RDF analysis for the simulation of the protein 1A3N solvated in water has been successfully completed. The RDF plot has been generated and is available for review. The analysis plot ID is fig0_155838.Prompt: Solve the RDF analysis for the simulation of the protein 1A3N solvated in water.\n",
      "\n",
      "Steps:\n",
      "1. Gather data for the simulation of protein 1A3N solvated in water.\n",
      "2. Calculate the radial distribution function (RDF) for the system.\n",
      "3. Generate the RDF plot.\n",
      "4. Review the RDF plot for analysis.\n",
      "5. Final solution: The RDF analysis for the simulation of the protein 1A3N solvated in water has been successfully completed. The RDF plot has been generated and is available for review. The analysis plot ID is fig0_155838.Your run id is:  1ILMDLH0\n"
     ]
    },
    {
     "data": {
      "text/plain": [
       "('The radial distribution function (RDF) analysis for the simulation of the protein 1A3N solvated in water has been successfully completed. The RDF plot has been generated and is available for review.\\n\\nFinal Answer: The RDF analysis for the simulation of the protein 1A3N solvated in water has been successfully completed. The RDF plot has been generated and is available for review. The analysis plot ID is fig0_155838.',\n",
       " '1ILMDLH0')"
      ]
     },
     "execution_count": 3,
     "metadata": {},
     "output_type": "execute_result"
    }
   ],
   "source": [
    "agent.run(prompt24)"
   ]
  },
  {
   "cell_type": "code",
   "execution_count": 4,
   "metadata": {},
   "outputs": [
    {
     "name": "stdout",
     "output_type": "stream",
     "text": [
      "date and time: 2024-07-21\n",
      "time: 15:58:42\n",
      "Files found in registry: 1A3N_155228: PDB file downloaded from RSCB\n",
      " PDBFile ID: 1A3N_155228\n",
      " 1A3N_155243: Cleaned File:  Removed Heterogens\n",
      " and Water Kept.  Replaced Nonstandard Residues. Added Hydrogens at pH 7.0. Missing Atoms Added and replaces nonstandard residues. \n",
      " top_sim0_155247: Initial positions for simulation sim0_155247\n",
      " sim0_155247: Basic Simulation of Protein 1A3N_155243\n",
      " rec0_155251: Simulation trajectory for protein 1A3N_155243 and simulation sim0_155247\n",
      " rec1_155251: Simulation state log for protein 1A3N_155243 and simulation sim0_155247\n",
      " rec2_155251: Simulation pdb frames for protein 1A3N_155243 and simulation sim0_155247\n",
      " fig0_155838: RDF plot for the trajectory file with id: rec0_155251\n"
     ]
    }
   ],
   "source": [
    "now = datetime.datetime.now()\n",
    "date = now.strftime(\"%Y-%m-%d\")\n",
    "print(\"date and time:\",date)\n",
    "time = now.strftime(\"%H:%M:%S\")\n",
    "print(\"time:\",time)\n",
    "registry = agent.path_registry\n",
    "paths_and_descriptions = registry.list_path_names_and_descriptions()\n",
    "print(\"\\n\".join(paths_and_descriptions.split(\",\")))"
   ]
  },
  {
   "cell_type": "code",
   "execution_count": 9,
   "metadata": {},
   "outputs": [],
   "source": [
    "path_traj = registry.get_mapped_path(\"rec0_155251\")\n",
    "path_top = registry.get_mapped_path(\"top_sim0_155247\")\n",
    "assert os.path.exists(path_traj)\n",
    "assert os.path.exists(path_top)\n",
    "assert path_traj != path_top\n",
    "\n",
    "assert path_traj.endswith(\".dcd\")\n",
    "assert path_top.endswith(\".pdb\")"
   ]
  },
  {
   "cell_type": "code",
   "execution_count": 10,
   "metadata": {},
   "outputs": [
    {
     "name": "stdout",
     "output_type": "stream",
     "text": [
      "Simulation with :24308 for 60 frames. Total time: 0.11800000000000001 ps\n"
     ]
    }
   ],
   "source": [
    "import mdtraj as md\n",
    "traj = md.load(path_traj, top=path_top)\n",
    "print(f\"Simulation with :{traj.n_atoms} for {traj.n_frames} frames. Total time: {traj.time[-1]*0.002} ps\")"
   ]
  },
  {
   "cell_type": "code",
   "execution_count": 11,
   "metadata": {},
   "outputs": [
    {
     "data": {
      "image/png": "[encoded data removed]",
      "text/plain": [
       "<IPython.core.display.Image object>"
      ]
     },
     "execution_count": 11,
     "metadata": {},
     "output_type": "execute_result"
    }
   ],
   "source": [
    "rdf_path = registry.get_mapped_path(\"fig0_155838\")\n",
    "#Disclaimer: Theres a bug in the rdf path saving. The image was created correctly, but the path was not saved correctly.\n",
    "from IPython.display import Image\n",
    "Image(filename=rdf_path)"
   ]
  },
  {
   "cell_type": "markdown",
   "metadata": {},
   "source": [
    "# Experiment Result:\n",
    "### Completed without Exception or TimeOut Errors ✅\n",
    "### Attempted all necessary steps ✅\n",
    "### Logic make sense ✅\n",
    "### Correct Answer  ✅"
   ]
  }
 ],
 "metadata": {
  "kernelspec": {
   "display_name": "mdagent2",
   "language": "python",
   "name": "python3"
  },
  "language_info": {
   "codemirror_mode": {
    "name": "ipython",
    "version": 3
   },
   "file_extension": ".py",
   "mimetype": "text/x-python",
   "name": "python",
   "nbconvert_exporter": "python",
   "pygments_lexer": "ipython3",
   "version": "3.11.9"
  }
 },
 "nbformat": 4,
 "nbformat_minor": 2
}
