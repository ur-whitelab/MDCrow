{
 "cells": [
  {
   "cell_type": "code",
   "execution_count": 4,
   "metadata": {},
   "outputs": [],
   "source": [
    "import datetime\n",
    "import os\n",
    "from mdagent import MDAgent\n",
    "import matplotlib.pyplot as plt"
   ]
  },
  {
   "cell_type": "code",
   "execution_count": 5,
   "metadata": {},
   "outputs": [
    {
     "name": "stdout",
     "output_type": "stream",
     "text": [
      "date and time: 2024-07-20\n",
      "time: 21:59:41\n",
      "LLM:  gpt-4o-2024-05-13 \n",
      "Temperature:  0.1\n"
     ]
    }
   ],
   "source": [
    "prompt3 = \"Download the PDB file for PDB ID 1GZX. Then, analyze the secondary structure of the protein and tell me how many chains, sheets, etc. there are.\"\n",
    "llm_var = \"gpt-4o-2024-05-13\"\n",
    "tools = \"all\"\n",
    "agent = MDAgent(agent_type=\"Structured\", model=llm_var, top_k_tools=tools)\n",
    "now = datetime.datetime.now()\n",
    "date = now.strftime(\"%Y-%m-%d\")\n",
    "print(\"date and time:\",date)\n",
    "time = now.strftime(\"%H:%M:%S\")\n",
    "print(\"time:\",time)\n",
    "print(\"LLM: \",agent.llm.model_name,\"\\nTemperature: \",agent.llm.temperature)"
   ]
  },
  {
   "cell_type": "code",
   "execution_count": 6,
   "metadata": {},
   "outputs": [
    {
     "name": "stdout",
     "output_type": "stream",
     "text": [
      "Thought: To address the question, I need to first download the PDB file for PDB ID 1GZX. After obtaining the file, I will analyze the secondary structure of the protein to determine the number of chains, sheets, and other secondary structure elements.\n",
      "\n",
      "Action:\n",
      "```\n",
      "{\n",
      "  \"action\": \"PDBFileDownloader\",\n",
      "  \"action_input\": \"1GZX\"\n",
      "}\n",
      "```PDB file found with this ID: 1GZX\n",
      "Thought: Now that I have downloaded the PDB file for 1GZX, I will proceed to analyze the secondary structure of the protein to determine the number of chains, sheets, and other secondary structure elements.\n",
      "\n",
      "Action:\n",
      "```\n",
      "{\n",
      "  \"action\": \"ComputeDSSP\",\n",
      "  \"action_input\": {\n",
      "    \"traj_file\": \"1GZX_215943\"\n",
      "  }\n",
      "}\n",
      "```To provide a comprehensive answer, I need to determine the number of chains in the protein structure. I will use the `SummarizeProteinStructure` tool to get detailed information about the protein, including the number of chains.\n",
      "\n",
      "Action:\n",
      "```\n",
      "{\n",
      "  \"action\": \"SummarizeProteinStructure\",\n",
      "  \"action_input\": {\n",
      "    \"traj_file\": \"1GZX_215943\"\n",
      "  }\n",
      "}\n",
      "```I have all the necessary information to provide a comprehensive answer to the question.\n",
      "\n",
      "Final Answer: The PDB file for PDB ID 1GZX has been analyzed. The protein structure contains the following secondary structure elements:\n",
      "- Helices: 444\n",
      "- Strands: 0\n",
      "- Coils: 130\n",
      "- Not assigned or not a protein residue: 213\n",
      "\n",
      "Additionally, the protein structure consists of:\n",
      "- Number of atoms: 4769\n",
      "- Number of residues: 787\n",
      "- Number of chains: 12\n",
      "- Number of frames: 1\n",
      "- Number of bonds: 4716The agent was tasked with analyzing the PDB file for PDB ID 1GZX. The agent first identified the secondary structure elements in the protein structure, which included 444 helices, 0 strands, 130 coils, and 213 elements that were either not assigned or not a protein residue. The agent then determined that the protein structure consisted of 4769 atoms, 787 residues, 12 chains, 1 frame, and 4716 bonds. This comprehensive analysis provided a detailed overview of the protein structure in the PDB file.Your run id is:  TR0N2ZVR\n"
     ]
    },
    {
     "data": {
      "text/plain": [
       "('I have all the necessary information to provide a comprehensive answer to the question.\\n\\nFinal Answer: The PDB file for PDB ID 1GZX has been analyzed. The protein structure contains the following secondary structure elements:\\n- Helices: 444\\n- Strands: 0\\n- Coils: 130\\n- Not assigned or not a protein residue: 213\\n\\nAdditionally, the protein structure consists of:\\n- Number of atoms: 4769\\n- Number of residues: 787\\n- Number of chains: 12\\n- Number of frames: 1\\n- Number of bonds: 4716',\n",
       " 'TR0N2ZVR')"
      ]
     },
     "execution_count": 6,
     "metadata": {},
     "output_type": "execute_result"
    }
   ],
   "source": [
    "agent.run(prompt3)"
   ]
  },
  {
   "cell_type": "code",
   "execution_count": 7,
   "metadata": {},
   "outputs": [
    {
     "name": "stdout",
     "output_type": "stream",
     "text": [
      "date and time: 2024-07-20\n",
      "time: 21:59:50\n"
     ]
    }
   ],
   "source": [
    "now = datetime.datetime.now()\n",
    "date = now.strftime(\"%Y-%m-%d\")\n",
    "print(\"date and time:\",date)\n",
    "time = now.strftime(\"%H:%M:%S\")\n",
    "print(\"time:\",time)"
   ]
  },
  {
   "cell_type": "code",
   "execution_count": null,
   "metadata": {},
   "outputs": [
    {
     "name": "stdout",
     "output_type": "stream",
     "text": [
      "Files found in registry: 1GZX_200039: PDB file downloaded from RSCB, PDBFile ID: 1GZX_200039, rec0_200044: dssp values for trajectory with id: 1GZX_200039\n"
     ]
    }
   ],
   "source": [
    "registry = agent.path_registry\n",
    "print(registry.list_path_names_and_descriptions())"
   ]
  },
  {
   "cell_type": "code",
   "execution_count": null,
   "metadata": {},
   "outputs": [
    {
     "name": "stdout",
     "output_type": "stream",
     "text": [
      "Number of residues in chains:  12\n",
      "Number of residues in sheets:  0\n",
      "Number of residues in helices:  444\n",
      "Number of residues in coils:  130\n"
     ]
    }
   ],
   "source": [
    "import mdtraj as md\n",
    "path = registry.get_mapped_path(\"1GZX_200039\")\n",
    "traj = md.load(path)\n",
    "top = traj.topology\n",
    "number_of_chains = top.n_chains\n",
    "secondary_structure = md.compute_dssp(traj,simplified=True)\n",
    "print(\"Number of residues in chains: \",number_of_chains)\n",
    "print(\"Number of residues in sheets: \",len([i for i in secondary_structure[0] if i == 'E']))\n",
    "print(\"Number of residues in helices: \",len([i for i in secondary_structure[0] if i == 'H']))\n",
    "print(\"Number of residues in coils: \",len([i for i in secondary_structure[0] if i == 'C']))\n"
   ]
  },
  {
   "cell_type": "markdown",
   "metadata": {},
   "source": [
    "# Experiment Result:\n",
    "### Completed without Exception or TimeOut Errors ✅\n",
    "### Attempted all necessary steps ✅\n",
    "### Logic make sense ✅\n",
    "### Correct Answer  ✅"
   ]
  }
 ],
 "metadata": {
  "kernelspec": {
   "display_name": "mdagent2",
   "language": "python",
   "name": "python3"
  },
  "language_info": {
   "codemirror_mode": {
    "name": "ipython",
    "version": 3
   },
   "file_extension": ".py",
   "mimetype": "text/x-python",
   "name": "python",
   "nbconvert_exporter": "python",
   "pygments_lexer": "ipython3",
   "version": "3.11.9"
  }
 },
 "nbformat": 4,
 "nbformat_minor": 2
}
