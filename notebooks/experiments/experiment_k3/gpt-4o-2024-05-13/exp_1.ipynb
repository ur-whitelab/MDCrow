{
 "cells": [
  {
   "cell_type": "code",
   "execution_count": 1,
   "metadata": {},
   "outputs": [],
   "source": [
    "import datetime\n",
    "import os\n",
    "from mdagent import MDAgent\n",
    "import matplotlib.pyplot as plt"
   ]
  },
  {
   "cell_type": "code",
   "execution_count": 2,
   "metadata": {},
   "outputs": [
    {
     "name": "stdout",
     "output_type": "stream",
     "text": [
      "date and time: 2024-07-20\n",
      "time: 21:57:56\n"
     ]
    }
   ],
   "source": [
    "#todays date and time\n",
    "now = datetime.datetime.now()\n",
    "date = now.strftime(\"%Y-%m-%d\")\n",
    "print(\"date and time:\",date)\n",
    "time = now.strftime(\"%H:%M:%S\")\n",
    "print(\"time:\",time)"
   ]
  },
  {
   "cell_type": "code",
   "execution_count": 3,
   "metadata": {},
   "outputs": [],
   "source": [
    "prompt1 = \"Simulate pdb  1MBN at two different temperatures: 300K, 400K for 1ns seconds each. Plot RMSD of both over time, and compare the final secondary structures at the end of the simulations.\"\n",
    "llm_var = \"gpt-4o-2024-05-13\"\n",
    "tools = \"all\"\n",
    "agent = MDAgent(agent_type=\"Structured\", model=llm_var, top_k_tools=tools)"
   ]
  },
  {
   "cell_type": "code",
   "execution_count": 4,
   "metadata": {},
   "outputs": [
    {
     "name": "stdout",
     "output_type": "stream",
     "text": [
      "LLM:  gpt-4o-2024-05-13 \n",
      "Temperature:  0.1\n"
     ]
    }
   ],
   "source": [
    "print(\"LLM: \",agent.llm.model_name,\"\\nTemperature: \",agent.llm.temperature)"
   ]
  },
  {
   "cell_type": "code",
   "execution_count": 5,
   "metadata": {},
   "outputs": [
    {
     "name": "stdout",
     "output_type": "stream",
     "text": [
      "Thought: To address the question, I need to perform the following steps:\n",
      "1. Download the PDB file for 1MBN.\n",
      "2. Set up and run two separate simulations for 1MBN at 300K and 400K for 1ns each.\n",
      "3. Compute and plot the RMSD over time for both simulations.\n",
      "4. Compare the final secondary structures at the end of the simulations.\n",
      "\n",
      "First, I will download the PDB file for 1MBN.\n",
      "\n",
      "Action:\n",
      "```\n",
      "{\n",
      "  \"action\": \"PDBFileDownloader\",\n",
      "  \"action_input\": \"1MBN\"\n",
      "}\n",
      "```PDB file found with this ID: 1MBN\n"
     ]
    },
    {
     "name": "stderr",
     "output_type": "stream",
     "text": [
      "2024-07-20 21:57:59.570 \n",
      "  \u001b[33m\u001b[1mWarning:\u001b[0m to view this Streamlit app on a browser, run it with the following\n",
      "  command:\n",
      "\n",
      "    streamlit run /Users/jorgemedina/miniforge3/envs/mdagent2/lib/python3.11/site-packages/ipykernel_launcher.py [ARGUMENTS]\n"
     ]
    },
    {
     "name": "stdout",
     "output_type": "stream",
     "text": [
      "Next, I need to set up and run two separate simulations for 1MBN at 300K and 400K for 1ns each. I will start with the simulation at 300K.\n",
      "\n",
      "Action:\n",
      "```\n",
      "{\n",
      "  \"action\": \"SetUpandRunFunction\",\n",
      "  \"action_input\": {\n",
      "    \"pdb_id\": \"1MBN_215759\",\n",
      "    \"forcefield_files\": [],\n",
      "    \"save\": true,\n",
      "    \"system_params\": {\n",
      "      \"nonbondedMethod\": \"NoCutoff\",\n",
      "      \"constraints\": \"None\",\n",
      "      \"rigidWater\": false,\n",
      "      \"solvate\": false\n",
      "    },\n",
      "    \"integrator_params\": {\n",
      "      \"integrator_type\": \"LangevinMiddle\",\n",
      "      \"Temperature\": \"300 * kelvin\",\n",
      "      \"Friction\": \"1.0 / picoseconds\",\n",
      "      \"Timestep\": \"0.002 * picoseconds\"\n",
      "    },\n",
      "    \"simulation_params\": {\n",
      "      \"Ensemble\": \"NVT\",\n",
      "      \"Number of Steps\": 500000,\n",
      "      \"record_interval_steps\": 5000,\n",
      "      \"record_params\": [\"step\", \"potentialEnergy\", \"temperature\"]\n",
      "    }\n",
      "  }\n",
      "}\n",
      "```\n",
      "Setting default forcefields v2\n",
      "Building system...\n",
      "About to create system...\n",
      "Attempts at creating system: 0/3\n",
      "adding system without solvent\n",
      "Trying to add component to Forcefield...\n",
      "Residue code: VAL\n",
      "Residue code not in solvent list. Adding forcefield                         not supported.\n",
      "To resolve the issue with the missing hydrogen atoms in the residue, I need to clean the PDB file by adding the missing atoms and hydrogens. After that, I will proceed with setting up and running the simulations.\n",
      "\n",
      "Action:\n",
      "```\n",
      "{\n",
      "  \"action\": \"CleaningToolFunction\",\n",
      "  \"action_input\": {\n",
      "    \"pdb_id\": \"1MBN_215759\",\n",
      "    \"replace_nonstandard_residues\": true,\n",
      "    \"add_missing_atoms\": true,\n",
      "    \"remove_heterogens\": true,\n",
      "    \"remove_water\": true,\n",
      "    \"add_hydrogens\": true,\n",
      "    \"add_hydrogens_ph\": 7.0\n",
      "  }\n",
      "}\n",
      "```file path: /Users/jorgemedina/Desktop/md-agent/ckpt/ckpt_1/pdb/1MBN_raw_20240720_215759.pdb\n",
      "Now that the PDB file has been cleaned, I will proceed with setting up and running the simulation for 1MBN at 300K for 1ns.\n",
      "\n",
      "Action:\n",
      "```\n",
      "{\n",
      "  \"action\": \"SetUpandRunFunction\",\n",
      "  \"action_input\": {\n",
      "    \"pdb_id\": \"1MBN_215807\",\n",
      "    \"forcefield_files\": [],\n",
      "    \"save\": true,\n",
      "    \"system_params\": {\n",
      "      \"nonbondedMethod\": \"NoCutoff\",\n",
      "      \"constraints\": \"None\",\n",
      "      \"rigidWater\": false,\n",
      "      \"solvate\": false\n",
      "    },\n",
      "    \"integrator_params\": {\n",
      "      \"integrator_type\": \"LangevinMiddle\",\n",
      "      \"Temperature\": \"300 * kelvin\",\n",
      "      \"Friction\": \"1.0 / picoseconds\",\n",
      "      \"Timestep\": \"0.002 * picoseconds\"\n",
      "    },\n",
      "    \"simulation_params\": {\n",
      "      \"Ensemble\": \"NVT\",\n",
      "      \"Number of Steps\": 500000,\n",
      "      \"record_interval_steps\": 5000,\n",
      "      \"record_params\": [\"step\", \"potentialEnergy\", \"temperature\"]\n",
      "    }\n",
      "  }\n",
      "}\n",
      "```\n",
      "Setting default forcefields v2\n",
      "Building system...\n",
      "About to create system...\n",
      "Attempts at creating system: 0/3\n",
      "adding system without solvent\n",
      "System built successfully\n",
      "<openmm.openmm.System; proxy of <Swig Object of type 'OpenMM::System *' at 0x17d4f2070> >\n",
      "Setting up integrator...\n",
      "Creating simulation...\n",
      "simulation set!\n",
      "Performing energy minimization...\n",
      "Minimization complete!\n",
      "Initial Positions saved to initial_positions.pdb\n",
      "Equilibrating...\n",
      "Simulating...\n",
      "Done!\n",
      "Standalone simulation script written to /Users/jorgemedina/Desktop/md-agent/ckpt/ckpt_1/simulations/NVT_1MBN_215807_20240720_215809.py\n",
      "['exp_11.ipynb', 'TOP_sim0_215809_1MBN_215807_20240720_215810.pdb', 'exp_9.ipynb', 'temp_log.txt', 'exp_12.ipynb', 'exp_10.ipynb', 'temp_topology.pdb', 'exp_8.ipynb', 'exp_4.ipynb', 'exp_18.ipynb', 'exp_6.ipynb', 'TRAJ_sim0_215809_1MBN_215807_20240720_215810.dcd', 'exp_21.ipynb', 'exp_2.ipynb', 'exp_7.ipynb', 'LOG_sim0_215809_1MBN_215807_20240720_215810.txt', 'exp_5.ipynb', 'temp_trajectory.dcd', 'exp_22.ipynb', 'exp_1.ipynb', 'exp_3.ipynb']\n",
      "Thought: Now that the simulation at 300K has been successfully completed, I will proceed with setting up and running the simulation for 1MBN at 400K for 1ns.\n",
      "\n",
      "Action:\n",
      "```\n",
      "{\n",
      "  \"action\": \"SetUpandRunFunction\",\n",
      "  \"action_input\": {\n",
      "    \"pdb_id\": \"1MBN_215807\",\n",
      "    \"forcefield_files\": [],\n",
      "    \"save\": true,\n",
      "    \"system_params\": {\n",
      "      \"nonbondedMethod\": \"NoCutoff\",\n",
      "      \"constraints\": \"None\",\n",
      "      \"rigidWater\": false,\n",
      "      \"solvate\": false\n",
      "    },\n",
      "    \"integrator_params\": {\n",
      "      \"integrator_type\": \"LangevinMiddle\",\n",
      "      \"Temperature\": \"400 * kelvin\",\n",
      "      \"Friction\": \"1.0 / picoseconds\",\n",
      "      \"Timestep\": \"0.002 * picoseconds\"\n",
      "    },\n",
      "    \"simulation_params\": {\n",
      "      \"Ensemble\": \"NVT\",\n",
      "      \"Number of Steps\": 500000,\n",
      "      \"record_interval_steps\": 5000,\n",
      "      \"record_params\": [\"step\", \"potentialEnergy\", \"temperature\"]\n",
      "    }\n",
      "  }\n",
      "}\n",
      "```Setting default forcefields v2\n",
      "Building system...\n",
      "About to create system...\n",
      "Attempts at creating system: 0/3\n",
      "adding system without solvent\n",
      "System built successfully\n",
      "<openmm.openmm.System; proxy of <Swig Object of type 'OpenMM::System *' at 0x179172850> >\n",
      "Setting up integrator...\n",
      "Creating simulation...\n",
      "simulation set!\n",
      "Performing energy minimization...\n",
      "Minimization complete!\n",
      "Initial Positions saved to initial_positions.pdb\n",
      "Equilibrating...\n",
      "Simulating...\n",
      "Done!\n",
      "Standalone simulation script written to /Users/jorgemedina/Desktop/md-agent/ckpt/ckpt_1/simulations/NVT_1MBN_215807_20240720_232350.py\n",
      "['LOG_sim0_232350_1MBN_215807_20240720_232351.txt', 'exp_11.ipynb', 'exp_9.ipynb', 'temp_log.txt', 'exp_12.ipynb', 'exp_10.ipynb', 'temp_topology.pdb', 'TRAJ_sim0_232350_1MBN_215807_20240720_232351.dcd', 'exp_8.ipynb', 'exp_4.ipynb', 'exp_18.ipynb', 'exp_6.ipynb', 'exp_21.ipynb', 'exp_2.ipynb', 'exp_7.ipynb', 'TOP_sim0_232350_1MBN_215807_20240720_232351.pdb', 'exp_5.ipynb', 'temp_trajectory.dcd', 'exp_22.ipynb', 'exp_1.ipynb', 'exp_3.ipynb']\n",
      "Now that both simulations at 300K and 400K have been successfully completed, the next steps are to compute and plot the RMSD over time for both simulations and compare the final secondary structures at the end of the simulations.\n",
      "\n",
      "First, I will compute the RMSD over time for both simulations.\n",
      "\n",
      "Action:\n",
      "```\n",
      "{\n",
      "  \"action\": \"ComputeRMSD\",\n",
      "  \"action_input\": {\n",
      "    \"top_id\": \"top_sim0_215809\",\n",
      "    \"traj_id\": \"rec0_215810\",\n",
      "    \"ref_top_id\": \"top_sim0_215809\",\n",
      "    \"ref_traj_id\": \"rec0_215810\",\n",
      "    \"select\": \"protein\"\n",
      "  }\n",
      "}\n",
      "```Calculating RMSD...\n",
      "Data saved to /Users/jorgemedina/Desktop/md-agent/ckpt/ckpt_1/records/rmsd_215809.csv\n",
      "Plot saved to /Users/jorgemedina/Desktop/md-agent/ckpt/ckpt_1/figures/FIG_rmsd_215809_20240721_001221.png\n",
      "To continue, I need to compute the RMSD over time for the second simulation at 400K. After that, I will compare the final secondary structures at the end of both simulations.\n",
      "\n",
      "Action:\n",
      "```\n",
      "{\n",
      "  \"action\": \"ComputeRMSD\",\n",
      "  \"action_input\": {\n",
      "    \"top_id\": \"top_sim0_232350\",\n",
      "    \"traj_id\": \"rec0_232351\",\n",
      "    \"ref_top_id\": \"top_sim0_232350\",\n",
      "    \"ref_traj_id\": \"rec0_232351\",\n",
      "    \"select\": \"protein\"\n",
      "  }\n",
      "}\n",
      "```Calculating RMSD...\n",
      "Data saved to /Users/jorgemedina/Desktop/md-agent/ckpt/ckpt_1/records/rmsd_232350.csv\n",
      "Plot saved to /Users/jorgemedina/Desktop/md-agent/ckpt/ckpt_1/figures/FIG_rmsd_232350_20240721_001223.png\n",
      "To complete the task, I need to compare the final secondary structures at the end of both simulations. I will compute the DSSP (secondary structure) assignment for the final frames of both simulations.\n",
      "\n",
      "Action:\n",
      "```\n",
      "{\n",
      "  \"action\": \"ComputeDSSP\",\n",
      "  \"action_input\": {\n",
      "    \"traj_file\": \"rec2_215810\",\n",
      "    \"top_file\": \"top_sim0_215809\"\n",
      "  }\n",
      "}\n",
      "```To complete the task, I need to compute the DSSP (secondary structure) assignment for the final frame of the second simulation at 400K. After that, I will compare the results and provide the final answer.\n",
      "\n",
      "Action:\n",
      "```\n",
      "{\n",
      "  \"action\": \"ComputeDSSP\",\n",
      "  \"action_input\": {\n",
      "    \"traj_file\": \"rec2_232351\",\n",
      "    \"top_file\": \"top_sim0_232350\"\n",
      "  }\n",
      "}\n",
      "```The simulations at both 300K and 400K have been successfully completed, and the RMSD over time has been computed and plotted for both temperatures. Additionally, the secondary structures at the end of both simulations have been analyzed using DSSP.\n",
      "\n",
      "Here are the results:\n",
      "\n",
      "### RMSD Plots\n",
      "- **300K Simulation**: The RMSD plot for the 300K simulation is saved with plot ID `fig0_001221`.\n",
      "- **400K Simulation**: The RMSD plot for the 400K simulation is saved with plot ID `fig0_001223`.\n",
      "\n",
      "### Secondary Structure Comparison\n",
      "- **300K Simulation**:\n",
      "  - Helix: 10320\n",
      "  - Strand: 0\n",
      "  - Coil: 4980\n",
      "\n",
      "- **400K Simulation**:\n",
      "  - Helix: 9629\n",
      "  - Strand: 0\n",
      "  - Coil: 5671\n",
      "\n",
      "The results indicate that at 300K, the protein maintains a higher number of helical structures compared to the simulation at 400K, where there is an increase in coil structures. This suggests that the higher temperature leads to a partial unfolding of the protein, reducing the helical content and increasing the coil regions.\n",
      "\n",
      "Final Answer: The simulations at 300K and 400K for 1ns each have been completed. The RMSD plots for both temperatures are available with plot IDs `fig0_001221` (300K) and `fig0_001223` (400K). The secondary structure analysis shows that the protein retains more helical structures at 300K compared to 400K, where there is an increase in coil structures, indicating partial unfolding at the higher temperature.The agent successfully completed simulations at both 300K and 400K for 1ns each. The RMSD plots were generated and saved with plot IDs `fig0_001221` for the 300K simulation and `fig0_001223` for the 400K simulation. Additionally, the secondary structures at the end of each simulation were analyzed using DSSP. The analysis revealed that at 300K, the protein maintained a higher number of helical structures, while at 400K, there was an increase in coil structures, indicating partial unfolding of the protein at the higher temperature.Your run id is:  FHMAZOCI\n"
     ]
    },
    {
     "data": {
      "text/plain": [
       "('The simulations at both 300K and 400K have been successfully completed, and the RMSD over time has been computed and plotted for both temperatures. Additionally, the secondary structures at the end of both simulations have been analyzed using DSSP.\\n\\nHere are the results:\\n\\n### RMSD Plots\\n- **300K Simulation**: The RMSD plot for the 300K simulation is saved with plot ID `fig0_001221`.\\n- **400K Simulation**: The RMSD plot for the 400K simulation is saved with plot ID `fig0_001223`.\\n\\n### Secondary Structure Comparison\\n- **300K Simulation**:\\n  - Helix: 10320\\n  - Strand: 0\\n  - Coil: 4980\\n\\n- **400K Simulation**:\\n  - Helix: 9629\\n  - Strand: 0\\n  - Coil: 5671\\n\\nThe results indicate that at 300K, the protein maintains a higher number of helical structures compared to the simulation at 400K, where there is an increase in coil structures. This suggests that the higher temperature leads to a partial unfolding of the protein, reducing the helical content and increasing the coil regions.\\n\\nFinal Answer: The simulations at 300K and 400K for 1ns each have been completed. The RMSD plots for both temperatures are available with plot IDs `fig0_001221` (300K) and `fig0_001223` (400K). The secondary structure analysis shows that the protein retains more helical structures at 300K compared to 400K, where there is an increase in coil structures, indicating partial unfolding at the higher temperature.',\n",
       " 'FHMAZOCI')"
      ]
     },
     "execution_count": 5,
     "metadata": {},
     "output_type": "execute_result"
    }
   ],
   "source": [
    "agent.run(prompt1)"
   ]
  },
  {
   "cell_type": "code",
   "execution_count": 6,
   "metadata": {},
   "outputs": [
    {
     "name": "stdout",
     "output_type": "stream",
     "text": [
      "date and time: 2024-07-21\n",
      "time: 00:12:41\n"
     ]
    }
   ],
   "source": [
    "#print final date and time\n",
    "now = datetime.datetime.now()\n",
    "date = now.strftime(\"%Y-%m-%d\")\n",
    "print(\"date and time:\",date)\n",
    "time = now.strftime(\"%H:%M:%S\")\n",
    "print(\"time:\",time)"
   ]
  },
  {
   "cell_type": "code",
   "execution_count": 7,
   "metadata": {},
   "outputs": [
    {
     "name": "stdout",
     "output_type": "stream",
     "text": [
      "Files found in registry: 1MBN_215759: PDB file downloaded from RSCB\n",
      " PDBFile ID: 1MBN_215759\n",
      " 1MBN_215807: Cleaned File:  Removed Heterogens\n",
      " and Water Removed.  Replaced Nonstandard Residues. Added Hydrogens at pH 7.0. Missing Atoms Added and replaces nonstandard residues. \n",
      " top_sim0_215809: Initial positions for simulation sim0_215809\n",
      " sim0_215809: Basic Simulation of Protein 1MBN_215807\n",
      " rec0_215810: Simulation trajectory for protein 1MBN_215807 and simulation sim0_215809\n",
      " rec1_215810: Simulation state log for protein 1MBN_215807 and simulation sim0_215809\n",
      " rec2_215810: Simulation pdb frames for protein 1MBN_215807 and simulation sim0_215809\n",
      " top_sim0_232350: Initial positions for simulation sim0_232350\n",
      " sim0_232350: Basic Simulation of Protein 1MBN_215807\n",
      " rec0_232351: Simulation trajectory for protein 1MBN_215807 and simulation sim0_232350\n",
      " rec1_232351: Simulation state log for protein 1MBN_215807 and simulation sim0_232350\n",
      " rec2_232351: Simulation pdb frames for protein 1MBN_215807 and simulation sim0_232350\n",
      " rmsd_215809: RMSD for 215809\n",
      " fig0_001221: RMSD plot for 215809\n",
      " rmsd_232350: RMSD for 232350\n",
      " fig0_001223: RMSD plot for 232350\n",
      " rec0_001229: dssp values for trajectory with id: rec2_215810\n",
      " rec0_001235: dssp values for trajectory with id: rec2_232351\n"
     ]
    }
   ],
   "source": [
    "registry = agent.path_registry\n",
    "paths_and_descriptions = registry.list_path_names_and_descriptions()\n",
    "print(\"\\n\".join(paths_and_descriptions.split(\",\")))"
   ]
  },
  {
   "cell_type": "code",
   "execution_count": null,
   "metadata": {},
   "outputs": [],
   "source": [
    "#plotting rmsd of both simulations\n",
    "from IPython.display import Image\n",
    "rmsd1ID = 'fig0_001223'\n",
    "rmsd2ID = 'fig0_001221'\n",
    "path1 = registry.get_mapped_path(rmsd1ID)\n",
    "path2 = registry.get_mapped_path(rmsd2ID)\n",
    "\n",
    "Image(filename=path1)\n",
    "\n"
   ]
  },
  {
   "cell_type": "code",
   "execution_count": null,
   "metadata": {},
   "outputs": [],
   "source": [
    "Image(filename=path2)"
   ]
  },
  {
   "cell_type": "code",
   "execution_count": null,
   "metadata": {},
   "outputs": [],
   "source": [
    "#secondary structure\n",
    "import mdtraj as md\n",
    "\n",
    "traj1 = \"/Users/samanthacox/Desktop/md-agent/ckpt/ckpt_116/records/TOP_sim0_082254_1MBN_082248_20240718_082255.pdb\"\n",
    "traj = md.load(traj1)\n",
    "top = traj.topology\n",
    "number_of_chains = top.n_chains\n",
    "secondary_structure = md.compute_dssp(traj,simplified=True)\n",
    "print(\"Number of residues in chains: \",number_of_chains)\n",
    "print(\"Number of residues in sheets: \",len([i for i in secondary_structure[0] if i == 'E']))\n",
    "print(\"Number of residues in helices: \",len([i for i in secondary_structure[0] if i == 'H']))\n",
    "print(\"Number of residues in coils: \",len([i for i in secondary_structure[0] if i == 'C']))\n",
    "\n"
   ]
  },
  {
   "cell_type": "code",
   "execution_count": null,
   "metadata": {},
   "outputs": [],
   "source": [
    "traj2=\"/Users/samanthacox/Desktop/md-agent/ckpt/ckpt_116/records/TOP_sim0_095917_1MBN_082248_20240718_095918.pdb\"\n",
    "traj = md.load(traj1)\n",
    "top = traj.topology\n",
    "number_of_chains = top.n_chains\n",
    "secondary_structure = md.compute_dssp(traj,simplified=True)\n",
    "print(\"Number of residues in chains: \",number_of_chains)\n",
    "print(\"Number of residues in sheets: \",len([i for i in secondary_structure[0] if i == 'E']))\n",
    "print(\"Number of residues in helices: \",len([i for i in secondary_structure[0] if i == 'H']))\n",
    "print(\"Number of residues in coils: \",len([i for i in secondary_structure[0] if i == 'C']))\n"
   ]
  },
  {
   "cell_type": "markdown",
   "metadata": {},
   "source": [
    "# Experiment Result:\n",
    "### Completed without Exception or TimeOut Errors  ✅\n",
    "### Attempted all necessary steps ✅\n",
    "### Logic make sense  ✅\n",
    "### Correct Answer   ✅\n"
   ]
  },
  {
   "cell_type": "markdown",
   "metadata": {},
   "source": []
  }
 ],
 "metadata": {
  "kernelspec": {
   "display_name": "mda_jun15",
   "language": "python",
   "name": "python3"
  },
  "language_info": {
   "codemirror_mode": {
    "name": "ipython",
    "version": 3
   },
   "file_extension": ".py",
   "mimetype": "text/x-python",
   "name": "python",
   "nbconvert_exporter": "python",
   "pygments_lexer": "ipython3",
   "version": "3.11.9"
  }
 },
 "nbformat": 4,
 "nbformat_minor": 2
}
