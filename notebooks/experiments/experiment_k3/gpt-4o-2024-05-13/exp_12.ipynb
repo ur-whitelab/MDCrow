{
 "cells": [
  {
   "cell_type": "code",
   "execution_count": 1,
   "id": "8ff706fd-c267-4d05-af58-9a3848cce8ff",
   "metadata": {},
   "outputs": [],
   "source": [
    "from mdagent import MDAgent"
   ]
  },
  {
   "cell_type": "code",
   "execution_count": 2,
   "id": "c86c88a1-f5f8-473a-8342-7364252bcfba",
   "metadata": {},
   "outputs": [
    {
     "name": "stdout",
     "output_type": "stream",
     "text": [
      "date: 2024-07-21\n",
      "time: 07:17:25\n"
     ]
    }
   ],
   "source": [
    "#todays date and time\n",
    "import datetime\n",
    "\n",
    "start = datetime.datetime.now()\n",
    "date = start.strftime(\"%Y-%m-%d\")\n",
    "print(\"date:\",date)\n",
    "time = start.strftime(\"%H:%M:%S\")\n",
    "print(\"time:\",time)"
   ]
  },
  {
   "cell_type": "code",
   "execution_count": 3,
   "id": "f62bfc17-854b-4152-bb82-7e9e0ec4b854",
   "metadata": {},
   "outputs": [
    {
     "name": "stdout",
     "output_type": "stream",
     "text": [
      "LLM:  gpt-4o-2024-05-13 \n",
      "Temperature:  0.1\n"
     ]
    }
   ],
   "source": [
    "model='gpt-4o-2024-05-13'\n",
    "mda = MDAgent(\n",
    "    agent_type='Structured', \n",
    "    model=model, \n",
    "    tools_model=model,\n",
    "    use_memory=False, \n",
    "    top_k_tools=\"all\"\n",
    ")\n",
    "print(\"LLM: \", mda.llm.model_name,\"\\nTemperature: \", mda.llm.temperature)"
   ]
  },
  {
   "cell_type": "code",
   "execution_count": 4,
   "id": "ad2f6f66-e6b8-4244-b908-68fbebbf6e8b",
   "metadata": {},
   "outputs": [
    {
     "name": "stdout",
     "output_type": "stream",
     "text": [
      "Thought: To address the question, I need to first download the PDB files for the proteins 8PFK and 8PFQ. Then, I will analyze and compare their secondary structures, including the number of atoms, secondary structure elements, number of chains, and other relevant details.\n",
      "\n",
      "Action: \n",
      "```\n",
      "{\n",
      "  \"action\": \"PDBFileDownloader\",\n",
      "  \"action_input\": \"8PFK\"\n",
      "}\n",
      "```PDB file found with this ID: 8PFK\n"
     ]
    },
    {
     "name": "stderr",
     "output_type": "stream",
     "text": [
      "2024-07-21 07:17:27.137 \n",
      "  \u001b[33m\u001b[1mWarning:\u001b[0m to view this Streamlit app on a browser, run it with the following\n",
      "  command:\n",
      "\n",
      "    streamlit run /Users/jorgemedina/miniforge3/envs/mdagent2/lib/python3.11/site-packages/ipykernel_launcher.py [ARGUMENTS]\n"
     ]
    },
    {
     "name": "stdout",
     "output_type": "stream",
     "text": [
      "To proceed, I need to download the PDB file for the second protein, 8PFQ. After that, I will analyze and compare the secondary structures of both proteins.\n",
      "\n",
      "Action:\n",
      "```\n",
      "{\n",
      "  \"action\": \"PDBFileDownloader\",\n",
      "  \"action_input\": \"8PFQ\"\n",
      "}\n",
      "```PDB file found with this ID: 8PFQ\n",
      "Now that I have successfully downloaded the PDB files for both proteins 8PFK and 8PFQ, I will proceed to analyze and compare their secondary structures, including the number of atoms, secondary structure elements, number of chains, and other relevant details.\n",
      "\n",
      "Action:\n",
      "```\n",
      "{\n",
      "  \"action\": \"SummarizeProteinStructure\",\n",
      "  \"action_input\": {\n",
      "    \"traj_file\": \"8PFK_071727\"\n",
      "  }\n",
      "}\n",
      "```\n",
      "To complete the comparison, I need to analyze the secondary structure of the second protein, 8PFQ. After obtaining the summary for 8PFQ, I will compare the details of both proteins.\n",
      "\n",
      "Action:\n",
      "```\n",
      "{\n",
      "  \"action\": \"SummarizeProteinStructure\",\n",
      "  \"action_input\": {\n",
      "    \"traj_file\": \"8PFQ_071729\"\n",
      "  }\n",
      "}\n",
      "```\n",
      "I have successfully downloaded the PDB files for both proteins 8PFK and 8PFQ and obtained their structural summaries. Here are the details:\n",
      "\n",
      "- **8PFK:**\n",
      "  - Number of atoms: 487\n",
      "  - Number of residues: 109\n",
      "  - Number of chains: 2\n",
      "  - Number of frames: 1\n",
      "  - Number of bonds: 420\n",
      "\n",
      "- **8PFQ:**\n",
      "  - Number of atoms: 950\n",
      "  - Number of residues: 194\n",
      "  - Number of chains: 6\n",
      "  - Number of frames: 1\n",
      "  - Number of bonds: 833\n",
      "\n",
      "Next, I will analyze the secondary structure of both proteins to provide a detailed comparison.\n",
      "\n",
      "Action:\n",
      "```\n",
      "{\n",
      "  \"action\": \"ComputeDSSP\",\n",
      "  \"action_input\": {\n",
      "    \"traj_file\": \"8PFK_071727\"\n",
      "  }\n",
      "}\n",
      "```\n",
      "To complete the comparison, I need to analyze the secondary structure of the second protein, 8PFQ. After obtaining the secondary structure for 8PFQ, I will provide a detailed comparison of both proteins.\n",
      "\n",
      "Action:\n",
      "```\n",
      "{\n",
      "  \"action\": \"ComputeDSSP\",\n",
      "  \"action_input\": {\n",
      "    \"traj_file\": \"8PFQ_071729\"\n",
      "  }\n",
      "}\n",
      "```\n",
      "I have successfully downloaded the PDB files for both proteins 8PFK and 8PFQ and obtained their structural summaries and secondary structure details. Here are the comprehensive details:\n",
      "\n",
      "- **8PFK:**\n",
      "  - Number of atoms: 487\n",
      "  - Number of residues: 109\n",
      "  - Number of chains: 2\n",
      "  - Number of frames: 1\n",
      "  - Number of bonds: 420\n",
      "  - Secondary structure:\n",
      "    - Helix: 0\n",
      "    - Strand: 0\n",
      "    - Coil: 0\n",
      "    - Not assigned, not a protein residue: 109\n",
      "\n",
      "- **8PFQ:**\n",
      "  - Number of atoms: 950\n",
      "  - Number of residues: 194\n",
      "  - Number of chains: 6\n",
      "  - Number of frames: 1\n",
      "  - Number of bonds: 833\n",
      "  - Secondary structure:\n",
      "    - Helix: 0\n",
      "    - Strand: 0\n",
      "    - Coil: 0\n",
      "    - Not assigned, not a protein residue: 194\n",
      "\n",
      "Both proteins do not have any assigned secondary structure elements (helix, strand, or coil) according to the DSSP analysis. This might indicate that the residues in the provided PDB files are not recognized as standard protein residues or the structures are not well-defined in terms of secondary structure.\n",
      "\n",
      "Final Answer: The comparison of the proteins 8PFK and 8PFQ is as follows:\n",
      "\n",
      "- **8PFK:**\n",
      "  - Number of atoms: 487\n",
      "  - Number of residues: 109\n",
      "  - Number of chains: 2\n",
      "  - Number of frames: 1\n",
      "  - Number of bonds: 420\n",
      "  - Secondary structure: No assigned secondary structure elements\n",
      "\n",
      "- **8PFQ:**\n",
      "  - Number of atoms: 950\n",
      "  - Number of residues: 194\n",
      "  - Number of chains: 6\n",
      "  - Number of frames: 1\n",
      "  - Number of bonds: 833\n",
      "  - Secondary structure: No assigned secondary structure elements"
     ]
    }
   ],
   "source": [
    "prompt = '''Download the PDB files for 8PFK and 8PFQ. Then, compare the secondary structure of the two proteins, \n",
    "including number atoms, secondary structure, number of chains, etc..'''\n",
    "answer = mda.run(prompt)"
   ]
  },
  {
   "cell_type": "code",
   "execution_count": 5,
   "id": "d23fbcab-9ceb-46d5-ad3b-d6cf6687d1e4",
   "metadata": {},
   "outputs": [
    {
     "name": "stdout",
     "output_type": "stream",
     "text": [
      "duration: 0.28 minutes\n"
     ]
    }
   ],
   "source": [
    "end = datetime.datetime.now()\n",
    "elapsed = end - start\n",
    "print(f\"duration: {elapsed.total_seconds()/60:.2f} minutes\")"
   ]
  },
  {
   "cell_type": "markdown",
   "id": "da5ba7ae-a3e7-4eec-b869-a884948231c4",
   "metadata": {},
   "source": [
    "# Confirm the downloaded files and their structures"
   ]
  },
  {
   "cell_type": "code",
   "execution_count": 6,
   "id": "5d1f0c85-88d6-4d2a-aae1-6a2d763f280d",
   "metadata": {},
   "outputs": [
    {
     "name": "stdout",
     "output_type": "stream",
     "text": [
      "Names found in registry: 8PFK_210528, 8PFQ_210530, rec0_210535, rec0_210537\n"
     ]
    }
   ],
   "source": [
    "registry = mda.path_registry\n",
    "all_names = registry.list_path_names()\n",
    "print(all_names)"
   ]
  },
  {
   "cell_type": "code",
   "execution_count": 7,
   "id": "6684abd0-efd9-4add-bf1b-abfe1f664dbe",
   "metadata": {},
   "outputs": [
    {
     "name": "stdout",
     "output_type": "stream",
     "text": [
      "It is asserted that 8PFK and 8PFQ are in path_registry\n",
      "It is asserted these pdb files physically exist\n"
     ]
    }
   ],
   "source": [
    "import re\n",
    "import os\n",
    "pattern1 = re.compile(r\"8PFK_\\d+\")\n",
    "pattern2 = re.compile(r\"8PFQ_\\d+\")\n",
    "match1 = pattern1.search(all_names)\n",
    "match2 = pattern2.search(all_names)\n",
    "assert match1\n",
    "assert match2\n",
    "print('It is asserted that 8PFK and 8PFQ are in path_registry')\n",
    "path1 = registry.get_mapped_path(match1.group(0))\n",
    "path2 = registry.get_mapped_path(match2.group(0))\n",
    "assert os.path.exists(path1)\n",
    "assert os.path.exists(path2)\n",
    "print('It is asserted these pdb files physically exist')"
   ]
  },
  {
   "cell_type": "code",
   "execution_count": 8,
   "id": "5c9a6ace-69e8-4042-9d35-ca598f4d00c2",
   "metadata": {},
   "outputs": [
    {
     "name": "stdout",
     "output_type": "stream",
     "text": [
      "protein 8PFK\n",
      "Number of chains:  2\n",
      "Number of atoms:  487\n",
      "\n",
      "protein 8PFQ\n",
      "Number of chains:  6\n",
      "Number of atoms:  950\n"
     ]
    }
   ],
   "source": [
    "import mdtraj as md\n",
    "traj = md.load(path1)\n",
    "top = traj.topology\n",
    "number_of_chains = top.n_chains\n",
    "number_of_atoms = top.n_atoms\n",
    "print('protein 8PFK')\n",
    "print('Number of chains: ', number_of_chains)\n",
    "print('Number of atoms: ', number_of_atoms)\n",
    "traj = md.load(path2)\n",
    "top = traj.topology\n",
    "number_of_chains = top.n_chains\n",
    "number_of_atoms = top.n_atoms\n",
    "print('\\nprotein 8PFQ')\n",
    "print('Number of chains: ', number_of_chains)\n",
    "print('Number of atoms: ', number_of_atoms)"
   ]
  },
  {
   "cell_type": "markdown",
   "id": "541b835c",
   "metadata": {},
   "source": [
    "# Experiment Result:\n",
    "### Completed without Exception or TimeOut Errors ✅\n",
    "### Attempted all necessary steps ✅\n",
    "### Logic make sense ✅\n",
    "### Correct Answer  ✅"
   ]
  },
  {
   "cell_type": "code",
   "execution_count": null,
   "id": "05a624f4",
   "metadata": {},
   "outputs": [],
   "source": []
  }
 ],
 "metadata": {
  "kernelspec": {
   "display_name": "mda_jun15",
   "language": "python",
   "name": "python3"
  },
  "language_info": {
   "codemirror_mode": {
    "name": "ipython",
    "version": 3
   },
   "file_extension": ".py",
   "mimetype": "text/x-python",
   "name": "python",
   "nbconvert_exporter": "python",
   "pygments_lexer": "ipython3",
   "version": "3.11.9"
  }
 },
 "nbformat": 4,
 "nbformat_minor": 5
}
