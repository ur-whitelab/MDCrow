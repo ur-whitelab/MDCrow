{
 "cells": [
  {
   "cell_type": "code",
   "execution_count": 1,
   "metadata": {},
   "outputs": [],
   "source": [
    "import time\n",
    "time.sleep(800)"
   ]
  },
  {
   "cell_type": "code",
   "execution_count": 2,
   "metadata": {},
   "outputs": [],
   "source": [
    "import datetime\n",
    "import os\n",
    "from mdagent import MDAgent\n",
    "import matplotlib.pyplot as plt"
   ]
  },
  {
   "cell_type": "code",
   "execution_count": 3,
   "metadata": {},
   "outputs": [
    {
     "name": "stdout",
     "output_type": "stream",
     "text": [
      "date and time: 2024-07-22\n",
      "time: 22:13:14\n",
      "LLM:  gpt-3.5-turbo-0125 \n",
      "Temperature:  0.1\n"
     ]
    }
   ],
   "source": [
    "prompt7 = \"Simulate 1ZNI for 1ns at temp=300K.\"\n",
    "llm_var = \"gpt-3.5-turbo-0125\"\n",
    "tools = \"all\"\n",
    "agent = MDAgent(agent_type=\"Structured\", model=llm_var, top_k_tools=tools)\n",
    "now = datetime.datetime.now()\n",
    "date = now.strftime(\"%Y-%m-%d\")\n",
    "print(\"date and time:\",date)\n",
    "time = now.strftime(\"%H:%M:%S\")\n",
    "print(\"time:\",time)\n",
    "print(\"LLM: \",agent.llm.model_name,\"\\nTemperature: \",agent.llm.temperature)"
   ]
  },
  {
   "cell_type": "code",
   "execution_count": 4,
   "metadata": {},
   "outputs": [
    {
     "name": "stdout",
     "output_type": "stream",
     "text": [
      "Thought: To simulate the protein 1ZNI for 1 nanosecond at 300K, I should set up and run a short simulation using the provided parameters.\n",
      "\n",
      "Action: SetUpandRunFunction\n",
      "Action Input: \n",
      "```\n",
      "{\n",
      "  \"pdb_id\": \"1ZNI\",\n",
      "  \"forcefield_files\": [\"amber14/protein.ff14SB.xml\", \"amber14/tip3p.xml\"],\n",
      "  \"save\": true,\n",
      "  \"system_params\": {\n",
      "    \"nonbondedMethod\": \"NoCutoff\",\n",
      "    \"constraints\": \"HBonds\",\n",
      "    \"rigidWater\": true\n",
      "  },\n",
      "  \"integrator_params\": {\n",
      "    \"integrator_type\": \"LangevinMiddle\",\n",
      "    \"Temperature\": \"300 * kelvin\",\n",
      "    \"Friction\": \"1.0 / picoseconds\",\n",
      "    \"Timestep\": \"0.002 * picoseconds\",\n",
      "    \"Pressure\": \"1.0 * bar\"\n",
      "  },\n",
      "  \"simulation_params\": {\n",
      "    \"Ensemble\": \"NVT\",\n",
      "    \"Number of Steps\": 500000,\n",
      "    \"record_interval_steps\": 100,\n",
      "    \"record_params\": [\"step\", \"potentialEnergy\", \"temperature\"]\n",
      "  }\n",
      "}\n",
      "``````\n",
      "{\n",
      "  \"action\": \"SetUpandRunFunction\",\n",
      "  \"action_input\": {\n",
      "    \"pdb_id\": \"1ZNI\",\n",
      "    \"forcefield_files\": [\"amber14/protein.ff14SB.xml\", \"amber14/tip3p.xml\"],\n",
      "    \"save\": true,\n",
      "    \"system_params\": {\n",
      "      \"nonbondedMethod\": \"NoCutoff\",\n",
      "      \"constraints\": \"HBonds\",\n",
      "      \"rigidWater\": true\n",
      "    },\n",
      "    \"integrator_params\": {\n",
      "      \"integrator_type\": \"LangevinMiddle\",\n",
      "      \"Temperature\": \"300 * kelvin\",\n",
      "      \"Friction\": \"1.0 / picoseconds\",\n",
      "      \"Timestep\": \"0.002 * picoseconds\",\n",
      "      \"Pressure\": \"1.0 * bar\"\n",
      "    },\n",
      "    \"simulation_params\": {\n",
      "      \"Ensemble\": \"NVT\",\n",
      "      \"Number of Steps\": 500000,\n",
      "      \"record_interval_steps\": 100,\n",
      "      \"record_params\": [\"step\", \"potentialEnergy\", \"temperature\"]\n",
      "    }\n",
      "  }\n",
      "}\n",
      "```error found: constraintTolerance must be specified if rigidWater is True\n",
      " Correct this and try again. \n",
      " Everthing else is fine\n",
      "Action:  \n",
      "```\n",
      "{\n",
      "  \"action\": \"SetUpandRunFunction\",\n",
      "  \"action_input\": {\n",
      "    \"pdb_id\": \"1ZNI\",\n",
      "    \"forcefield_files\": [\"amber14/protein.ff14SB.xml\", \"amber14/tip3p.xml\"],\n",
      "    \"save\": true,\n",
      "    \"system_params\": {\n",
      "      \"nonbondedMethod\": \"NoCutoff\",\n",
      "      \"constraints\": \"HBonds\",\n",
      "      \"rigidWater\": true,\n",
      "      \"constraintTolerance\": 0.00001\n",
      "    },\n",
      "    \"integrator_params\": {\n",
      "      \"integrator_type\": \"LangevinMiddle\",\n",
      "      \"Temperature\": \"300 * kelvin\",\n",
      "      \"Friction\": \"1.0 / picoseconds\",\n",
      "      \"Timestep\": \"0.002 * picoseconds\",\n",
      "      \"Pressure\": \"1.0 * bar\"\n",
      "    },\n",
      "    \"simulation_params\": {\n",
      "      \"Ensemble\": \"NVT\",\n",
      "      \"Number of Steps\": 500000,\n",
      "      \"record_interval_steps\": 100,\n",
      "      \"record_params\": [\"step\", \"potentialEnergy\", \"temperature\"]\n",
      "    }\n",
      "  }\n",
      "}\n",
      "```Action:\n",
      "```\n",
      "{\n",
      "  \"action\": \"SetUpandRunFunction\",\n",
      "  \"action_input\": {\n",
      "    \"pdb_id\": \"1ZNI\",\n",
      "    \"forcefield_files\": [\"amber14/protein.ff14SB.xml\", \"amber14/tip3p.xml\"],\n",
      "    \"save\": true,\n",
      "    \"system_params\": {\n",
      "      \"nonbondedMethod\": \"NoCutoff\",\n",
      "      \"constraints\": \"HBonds\",\n",
      "      \"rigidWater\": true,\n",
      "      \"constraintTolerance\": 0.00001\n",
      "    },\n",
      "    \"integrator_params\": {\n",
      "      \"integrator_type\": \"LangevinMiddle\",\n",
      "      \"Temperature\": \"300 * kelvin\",\n",
      "      \"Friction\": \"1.0 / picoseconds\",\n",
      "      \"Timestep\": \"0.002 * picoseconds\",\n",
      "      \"Pressure\": \"1.0 * bar\"\n",
      "    },\n",
      "    \"simulation_params\": {\n",
      "      \"Ensemble\": \"NVT\",\n",
      "      \"Number of Steps\": 500000,\n",
      "      \"record_interval_steps\": 100,\n",
      "      \"record_params\": [\"step\", \"potentialEnergy\", \"temperature\"]\n",
      "    }\n",
      "  }\n",
      "}\n",
      "```Action:\n",
      "```\n",
      "{\n",
      "  \"action\": \"PDBFileDownloader\",\n",
      "  \"action_input\": {\n",
      "    \"query\": \"1ZNI\"\n",
      "  }\n",
      "}\n",
      "```PDB file found with this ID: 1ZNI\n"
     ]
    },
    {
     "name": "stderr",
     "output_type": "stream",
     "text": [
      "2024-07-22 22:13:29.270 \n",
      "  \u001b[33m\u001b[1mWarning:\u001b[0m to view this Streamlit app on a browser, run it with the following\n",
      "  command:\n",
      "\n",
      "    streamlit run /Users/jorgemedina/miniforge3/envs/mdagent2/lib/python3.11/site-packages/ipykernel_launcher.py [ARGUMENTS]\n"
     ]
    },
    {
     "name": "stdout",
     "output_type": "stream",
     "text": [
      "Action:\n",
      "```\n",
      "{\n",
      "  \"action\": \"SetUpandRunFunction\",\n",
      "  \"action_input\": {\n",
      "    \"pdb_id\": \"1ZNI_221329\",\n",
      "    \"forcefield_files\": [\"amber14/protein.ff14SB.xml\", \"amber14/tip3p.xml\"],\n",
      "    \"save\": true,\n",
      "    \"system_params\": {\n",
      "      \"nonbondedMethod\": \"NoCutoff\",\n",
      "      \"constraints\": \"HBonds\",\n",
      "      \"rigidWater\": true,\n",
      "      \"constraintTolerance\": 0.00001\n",
      "    },\n",
      "    \"integrator_params\": {\n",
      "      \"integrator_type\": \"LangevinMiddle\",\n",
      "      \"Temperature\": \"300 * kelvin\",\n",
      "      \"Friction\": \"1.0 / picoseconds\",\n",
      "      \"Timestep\": \"0.002 * picoseconds\",\n",
      "      \"Pressure\": \"1.0 * bar\"\n",
      "    },\n",
      "    \"simulation_params\": {\n",
      "      \"Ensemble\": \"NVT\",\n",
      "      \"Number of Steps\": 500000,\n",
      "      \"record_interval_steps\": 100,\n",
      "      \"record_params\": [\"step\", \"potentialEnergy\", \"temperature\"]\n",
      "    }\n",
      "  }\n",
      "}\n",
      "```Building system...\n",
      "About to create system...\n",
      "Attempts at creating system: 0/3\n",
      "adding system without solvent\n",
      "Trying to add component to Forcefield...\n",
      "Residue code: GLY\n",
      "Residue code not in solvent list. Adding forcefield                         not supported.\n",
      "Action:\n",
      "```\n",
      "{\n",
      "  \"action\": \"CleaningToolFunction\",\n",
      "  \"action_input\": {\n",
      "    \"pdb_id\": \"1ZNI_221329\",\n",
      "    \"replace_nonstandard_residues\": true,\n",
      "    \"add_missing_atoms\": true,\n",
      "    \"remove_heterogens\": true,\n",
      "    \"remove_water\": true,\n",
      "    \"add_hydrogens\": true,\n",
      "    \"add_hydrogens_ph\": 7.0\n",
      "  }\n",
      "}\n",
      "```file path: /Users/jorgemedina/Desktop/md-agent/ckpt/ckpt_261/pdb/1ZNI_raw_20240722_221329.pdb\n",
      "Action:\n",
      "```\n",
      "{\n",
      "  \"action\": \"SetUpandRunFunction\",\n",
      "  \"action_input\": {\n",
      "    \"pdb_id\": \"1ZNI_221336\",\n",
      "    \"forcefield_files\": [\"amber14/protein.ff14SB.xml\", \"amber14/tip3p.xml\"],\n",
      "    \"save\": true,\n",
      "    \"system_params\": {\n",
      "      \"nonbondedMethod\": \"NoCutoff\",\n",
      "      \"constraints\": \"HBonds\",\n",
      "      \"rigidWater\": true,\n",
      "      \"constraintTolerance\": 0.00001\n",
      "    },\n",
      "    \"integrator_params\": {\n",
      "      \"integrator_type\": \"LangevinMiddle\",\n",
      "      \"Temperature\": \"300 * kelvin\",\n",
      "      \"Friction\": \"1.0 / picoseconds\",\n",
      "      \"Timestep\": \"0.002 * picoseconds\",\n",
      "      \"Pressure\": \"1.0 * bar\"\n",
      "    },\n",
      "    \"simulation_params\": {\n",
      "      \"Ensemble\": \"NVT\",\n",
      "      \"Number of Steps\": 500000,\n",
      "      \"record_interval_steps\": 100,\n",
      "      \"record_params\": [\"step\", \"potentialEnergy\", \"temperature\"]\n",
      "    }\n",
      "  }\n",
      "}\n",
      "```Building system...\n",
      "About to create system...\n",
      "Attempts at creating system: 0/3\n",
      "adding system without solvent\n",
      "System built successfully\n",
      "<openmm.openmm.System; proxy of <Swig Object of type 'OpenMM::System *' at 0x17d2ac750> >\n",
      "Setting up integrator...\n",
      "Creating simulation...\n",
      "simulation set!\n",
      "Performing energy minimization...\n",
      "Minimization complete!\n",
      "Initial Positions saved to initial_positions.pdb\n",
      "Equilibrating...\n",
      "Simulating...\n",
      "Done!\n",
      "Standalone simulation script written to /Users/jorgemedina/Desktop/md-agent/ckpt/ckpt_261/simulations/NVT_1ZNI_221336_20240722_221341.py\n",
      "['exp_11.ipynb', 'exp_13.ipynb', 'TRAJ_sim0_221341_1ZNI_221336_20240722_221341.dcd', 'exp_9.ipynb', 'exp_17.ipynb', 'exp_15.ipynb', 'exp_12.ipynb', 'exp_10.ipynb', 'exp_14.ipynb', 'LOG_sim0_221341_1ZNI_221336_20240722_221341.txt', 'exp_16.ipynb', 'exp_8.ipynb', 'exp_4.ipynb', 'exp_25.ipynb', 'exp_18.ipynb', 'exp_6.ipynb', 'exp_21.ipynb', 'exp_2.ipynb', 'TOP_sim0_221341_1ZNI_221336_20240722_221341.pdb', 'exp_23.ipynb', 'exp_7.ipynb', 'exp_19.ipynb', 'exp_24.ipynb', 'exp_5.ipynb', 'exp_22.ipynb', 'exp_1.ipynb', 'exp_3.ipynb', 'exp_20.ipynb']\n",
      "Final Answer: The simulation for the protein 1ZNI has been successfully completed for 1ns at a temperature of 300K. The trajectory, simulation state log, and pdb frames are available for further analysis. You can access the results using the following IDs: rec0_221341 (trajectory), rec1_221341 (simulation state log), rec2_221341 (pdb frames). Additionally, a standalone script has been generated with ID sim0_221341 for reproducing or modifying the simulation setup.Prompt: The agent is tasked with running a simulation for the protein 1ZNI for 1ns at a temperature of 300K.\n",
      "\n",
      "Step 1: The agent sets up the simulation parameters for the protein 1ZNI, including the temperature of 300K and the duration of 1ns.\n",
      "\n",
      "Step 2: The agent initiates the simulation and monitors its progress.\n",
      "\n",
      "Step 3: The simulation runs successfully for 1ns, capturing the trajectory of the protein's movement.\n",
      "\n",
      "Step 4: The agent saves the simulation state log, pdb frames, and trajectory for further analysis.\n",
      "\n",
      "Step 5: The agent provides access to the results using the IDs rec0_221341 (trajectory), rec1_221341 (simulation state log), and rec2_221341 (pdb frames).\n",
      "\n",
      "Step 6: A standalone script is generated with the ID sim0_221341, allowing for the reproduction or modification of the simulation setup.\n",
      "\n",
      "Final Solution: The simulation for the protein 1ZNI has been completed successfully, providing valuable data for further analysis. The agent has ensured that the trajectory, simulation state log, pdb frames, and a standalone script are available for future reference and research.Your run id is:  RFYQO6F9\n"
     ]
    },
    {
     "data": {
      "text/plain": [
       "('Final Answer: The simulation for the protein 1ZNI has been successfully completed for 1ns at a temperature of 300K. The trajectory, simulation state log, and pdb frames are available for further analysis. You can access the results using the following IDs: rec0_221341 (trajectory), rec1_221341 (simulation state log), rec2_221341 (pdb frames). Additionally, a standalone script has been generated with ID sim0_221341 for reproducing or modifying the simulation setup.',\n",
       " 'RFYQO6F9')"
      ]
     },
     "execution_count": 4,
     "metadata": {},
     "output_type": "execute_result"
    }
   ],
   "source": [
    "agent.run(prompt7)"
   ]
  },
  {
   "cell_type": "code",
   "execution_count": 6,
   "metadata": {},
   "outputs": [
    {
     "name": "stdout",
     "output_type": "stream",
     "text": [
      "Files found in registry: 1ZNI_235947: PDB file downloaded from RSCB, PDBFile ID: 1ZNI_235947, 1ZNI_235957: Cleaned File:  Removed Heterogens, and Water Kept.  Replaced Nonstandard Residues. Added Hydrogens at pH 7.0. Missing Atoms Added and replaces nonstandard residues. , top_sim0_000001: Initial positions for simulation sim0_000001, top_sim0_000752: Initial positions for simulation sim0_000752, 1ZNI_001022: Cleaned File:  Removed Heterogens, and Water Kept.  Replaced Nonstandard Residues. Added Hydrogens at pH 7.0. Missing Atoms Added and replaces nonstandard residues. , top_sim0_001030: Initial positions for simulation sim0_001030, sim0_001030: Basic Simulation of Protein 1ZNI_001022, rec0_001034: Simulation trajectory for protein 1ZNI_001022 and simulation sim0_001030, rec1_001034: Simulation state log for protein 1ZNI_001022 and simulation sim0_001030, rec2_001034: Simulation pdb frames for protein 1ZNI_001022 and simulation sim0_001030\n"
     ]
    }
   ],
   "source": [
    "registry = agent.path_registry\n",
    "print(registry.list_path_names_and_descriptions())"
   ]
  },
  {
   "cell_type": "code",
   "execution_count": 7,
   "metadata": {},
   "outputs": [
    {
     "name": "stdout",
     "output_type": "stream",
     "text": [
      "date and time: 2024-07-17\n",
      "time: 02:26:45\n"
     ]
    }
   ],
   "source": [
    "now = datetime.datetime.now()\n",
    "date = now.strftime(\"%Y-%m-%d\")\n",
    "print(\"date and time:\",date)\n",
    "time = now.strftime(\"%H:%M:%S\")\n",
    "print(\"time:\",time)"
   ]
  },
  {
   "cell_type": "code",
   "execution_count": 8,
   "metadata": {},
   "outputs": [
    {
     "name": "stdout",
     "output_type": "stream",
     "text": [
      "Files found in registry: 1ZNI_235947: PDB file downloaded from RSCB\n",
      " PDBFile ID: 1ZNI_235947\n",
      " 1ZNI_235957: Cleaned File:  Removed Heterogens\n",
      " and Water Kept.  Replaced Nonstandard Residues. Added Hydrogens at pH 7.0. Missing Atoms Added and replaces nonstandard residues. \n",
      " top_sim0_000001: Initial positions for simulation sim0_000001\n",
      " top_sim0_000752: Initial positions for simulation sim0_000752\n",
      " 1ZNI_001022: Cleaned File:  Removed Heterogens\n",
      " and Water Kept.  Replaced Nonstandard Residues. Added Hydrogens at pH 7.0. Missing Atoms Added and replaces nonstandard residues. \n",
      " top_sim0_001030: Initial positions for simulation sim0_001030\n",
      " sim0_001030: Basic Simulation of Protein 1ZNI_001022\n",
      " rec0_001034: Simulation trajectory for protein 1ZNI_001022 and simulation sim0_001030\n",
      " rec1_001034: Simulation state log for protein 1ZNI_001022 and simulation sim0_001030\n",
      " rec2_001034: Simulation pdb frames for protein 1ZNI_001022 and simulation sim0_001030\n"
     ]
    }
   ],
   "source": [
    "paths_and_descriptions = registry.list_path_names_and_descriptions()\n",
    "print(\"\\n\".join(paths_and_descriptions.split(\",\")))"
   ]
  },
  {
   "cell_type": "markdown",
   "metadata": {},
   "source": [
    "# Experiment Result:\n",
    "### Completed without Exception or TimeOut Errors ✅\n",
    "### Attempted all necessary steps ✅\n",
    "### Complete without hallucination ✅\n",
    "### Logic make sense ✅\n",
    "### Correct Answer  ✅"
   ]
  },
  {
   "cell_type": "markdown",
   "metadata": {},
   "source": []
  }
 ],
 "metadata": {
  "kernelspec": {
   "display_name": "mda_jun15",
   "language": "python",
   "name": "python3"
  },
  "language_info": {
   "codemirror_mode": {
    "name": "ipython",
    "version": 3
   },
   "file_extension": ".py",
   "mimetype": "text/x-python",
   "name": "python",
   "nbconvert_exporter": "python",
   "pygments_lexer": "ipython3",
   "version": "3.11.9"
  }
 },
 "nbformat": 4,
 "nbformat_minor": 2
}
