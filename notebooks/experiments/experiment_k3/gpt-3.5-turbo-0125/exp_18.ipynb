{
 "cells": [
  {
   "cell_type": "code",
   "execution_count": 1,
   "metadata": {},
   "outputs": [],
   "source": [
    "import datetime\n",
    "import os\n",
    "from mdagent import MDAgent"
   ]
  },
  {
   "cell_type": "code",
   "execution_count": 2,
   "metadata": {},
   "outputs": [
    {
     "name": "stdout",
     "output_type": "stream",
     "text": [
      "date and time: 2024-07-21\n",
      "time: 18:21:09\n",
      "LLM:  gpt-3.5-turbo-0125 \n",
      "Temperature:  0.1\n"
     ]
    }
   ],
   "source": [
    "prompt19 = \"Download the PDB file for 1XQ8. Then, save the visualization for it.\"\n",
    "llm_var = \"gpt-3.5-turbo-0125\"\n",
    "tools = \"all\"\n",
    "agent = MDAgent(agent_type=\"Structured\", model=llm_var, top_k_tools=tools)\n",
    "now = datetime.datetime.now()\n",
    "date = now.strftime(\"%Y-%m-%d\")\n",
    "print(\"date and time:\",date)\n",
    "time = now.strftime(\"%H:%M:%S\")\n",
    "print(\"time:\",time)\n",
    "print(\"LLM: \",agent.llm.model_name,\"\\nTemperature: \",agent.llm.temperature)"
   ]
  },
  {
   "cell_type": "code",
   "execution_count": 3,
   "metadata": {},
   "outputs": [
    {
     "name": "stdout",
     "output_type": "stream",
     "text": [
      "Thought: To download the PDB file for 1XQ8 and save its visualization, I can use the PDBFileDownloader tool to get the PDB file and then utilize the PDBVisualization tool to create a visualization.\n",
      "\n",
      "Action: PDBFileDownloader\n",
      "Action Input: {\"query\": \"1XQ8\"}\n",
      "\n",
      "The agent's initial thought was to download the PDB file for 1XQ8 and save its visualization. The agent decided to use the PDBFileDownloader tool to get the PDB file and then utilize the PDBVisualization tool to create a visualization. The agent took the action of using the PDBFileDownloader tool with the input {\"query\": \"1XQ8\"}.Your run id is:  AY0CXV47\n"
     ]
    },
    {
     "data": {
      "text/plain": [
       "('Thought: To download the PDB file for 1XQ8 and save its visualization, I can use the PDBFileDownloader tool to get the PDB file and then utilize the PDBVisualization tool to create a visualization.\\n\\nAction: PDBFileDownloader\\nAction Input: {\"query\": \"1XQ8\"}\\n\\n',\n",
       " 'AY0CXV47')"
      ]
     },
     "execution_count": 3,
     "metadata": {},
     "output_type": "execute_result"
    }
   ],
   "source": [
    "agent.run(prompt19)"
   ]
  },
  {
   "cell_type": "code",
   "execution_count": 4,
   "metadata": {},
   "outputs": [
    {
     "name": "stdout",
     "output_type": "stream",
     "text": [
      "date and time: 2024-07-21\n",
      "time: 18:21:13\n",
      "No names found. The JSON file is empty or does not contain name mappings.\n"
     ]
    }
   ],
   "source": [
    "now = datetime.datetime.now()\n",
    "date = now.strftime(\"%Y-%m-%d\")\n",
    "print(\"date and time:\",date)\n",
    "time = now.strftime(\"%H:%M:%S\")\n",
    "print(\"time:\",time)\n",
    "registry = agent.path_registry\n",
    "paths_and_descriptions = registry.list_path_names_and_descriptions()\n",
    "print(\"\\n\".join(paths_and_descriptions.split(\",\")))"
   ]
  },
  {
   "cell_type": "markdown",
   "metadata": {},
   "source": [
    "# Experiment Result:\n",
    "### Completed without Exception or TimeOut Errors ✅\n",
    "### Attempted all necessary steps ❌\n",
    "### Completed without Hallucination ❌\n",
    "### Logic make sense ❌\n",
    "### Correct Answer  ❌"
   ]
  }
 ],
 "metadata": {
  "kernelspec": {
   "display_name": "mdagent2",
   "language": "python",
   "name": "python3"
  },
  "language_info": {
   "codemirror_mode": {
    "name": "ipython",
    "version": 3
   },
   "file_extension": ".py",
   "mimetype": "text/x-python",
   "name": "python",
   "nbconvert_exporter": "python",
   "pygments_lexer": "ipython3",
   "version": "3.11.8"
  }
 },
 "nbformat": 4,
 "nbformat_minor": 2
}
