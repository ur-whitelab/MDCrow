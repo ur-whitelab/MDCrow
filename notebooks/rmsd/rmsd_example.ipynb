{
 "cells": [
  {
   "cell_type": "code",
   "execution_count": 2,
   "metadata": {},
   "outputs": [
    {
     "data": {
      "text/plain": [
       "True"
      ]
     },
     "execution_count": 2,
     "metadata": {},
     "output_type": "execute_result"
    }
   ],
   "source": [
    "from dotenv import load_dotenv\n",
    "\n",
    "load_dotenv()"
   ]
  },
  {
   "cell_type": "code",
   "execution_count": 3,
   "metadata": {},
   "outputs": [],
   "source": [
    "from mdagent.agent import MDAgent\n",
    "mrkl = MDAgent()"
   ]
  },
  {
   "cell_type": "code",
   "execution_count": 4,
   "metadata": {},
   "outputs": [
    {
     "name": "stdout",
     "output_type": "stream",
     "text": [
      "\n",
      "\n",
      "\u001b[1m> Entering new  chain...\u001b[0m\n",
      "The user wants to download a PDB file with the PDB ID 1ACB and the file type should be cif. I will use the PDBFileDownloader tool to accomplish this task.\n",
      "\n",
      "Action: PDBFileDownloader\n",
      "Action Input: 1ACB cif\u001b[32;1m\u001b[1;3mThe user wants to download a PDB file with the PDB ID 1ACB and the file type should be cif. I will use the PDBFileDownloader tool to accomplish this task.\n",
      "\n",
      "Action: PDBFileDownloader\n",
      "Action Input: 1ACB cif\u001b[0mPDB file found with this ID: 1ACB\n",
      "1ACB.cif is created.\n",
      "\n",
      "Observation: \u001b[36;1m\u001b[1;3mName2PDB tool successfully downloaded the PDB file: 1ACB.cif\u001b[0m\n",
      "Thought:\n",
      "Final Answer: The PDB file with PDB ID 1ACB has been successfully downloaded with the cif file type.\u001b[32;1m\u001b[1;3m\n",
      "Final Answer: The PDB file with PDB ID 1ACB has been successfully downloaded with the cif file type.\u001b[0m\n",
      "\n",
      "\u001b[1m> Finished chain.\u001b[0m\n"
     ]
    }
   ],
   "source": [
    "# specify file type to download (PDB is now default file type)\n",
    "prompt1 = \"Download the PDB file with PDB ID 1ACB with cif as file type\"\n",
    "result = mrkl.run(prompt1)"
   ]
  },
  {
   "cell_type": "code",
   "execution_count": 5,
   "metadata": {},
   "outputs": [
    {
     "name": "stdout",
     "output_type": "stream",
     "text": [
      "1ACB.cif\r\n"
     ]
    }
   ],
   "source": [
    "%ls 1ACB.cif"
   ]
  },
  {
   "cell_type": "code",
   "execution_count": 6,
   "metadata": {},
   "outputs": [
    {
     "name": "stdout",
     "output_type": "stream",
     "text": [
      "\n",
      "\n",
      "\u001b[1m> Entering new  chain...\u001b[0m\n",
      "The first step is to download the PDB file for the given PDB ID. I will use the PDBFileDownloader tool for this purpose.\n",
      "Action: PDBFileDownloader\n",
      "Action Input: 1ACB\u001b[32;1m\u001b[1;3mThe first step is to download the PDB file for the given PDB ID. I will use the PDBFileDownloader tool for this purpose.\n",
      "Action: PDBFileDownloader\n",
      "Action Input: 1ACB\u001b[0mPDB file found with this ID: 1ACB\n",
      "1ACB.pdb is created.\n",
      "\n",
      "Observation: \u001b[36;1m\u001b[1;3mName2PDB tool successfully downloaded the PDB file: 1ACB.pdb\u001b[0m\n",
      "Thought:\n",
      "Thought: Now that we have the PDB file, we can calculate the average distance between the protein and peptide. For this, we can use the PPIDistance tool.\n",
      "Action: PPIDistance\n",
      "Action Input: 1ACB.pdb\u001b[32;1m\u001b[1;3mThought: Now that we have the PDB file, we can calculate the average distance between the protein and peptide. For this, we can use the PPIDistance tool.\n",
      "Action: PPIDistance\n",
      "Action Input: 1ACB.pdb\u001b[0m\n",
      "Observation: \u001b[36;1m\u001b[1;3mRMSD is calculated: 9.732250472399622\u001b[0m\n",
      "Thought:Final Answer: The average distance between the protein and peptide for PDB ID 1ACB is approximately 9.73 units.\u001b[32;1m\u001b[1;3mFinal Answer: The average distance between the protein and peptide for PDB ID 1ACB is approximately 9.73 units.\u001b[0m\n",
      "\n",
      "\u001b[1m> Finished chain.\u001b[0m\n"
     ]
    }
   ],
   "source": [
    "prompt2 = \"Calculate average distance between protein and peptide for PDB ID 1ACB.\"\n",
    "result = mrkl.run(prompt2)"
   ]
  },
  {
   "cell_type": "code",
   "execution_count": 7,
   "metadata": {},
   "outputs": [
    {
     "name": "stdout",
     "output_type": "stream",
     "text": [
      "\n",
      "\n",
      "\u001b[1m> Entering new  chain...\u001b[0m\n",
      "The first step is to download the PDB files for the open and closed AdK using the provided PDB IDs. I will use the PDBFileDownloader tool for this task.\n",
      "Action: PDBFileDownloader\n",
      "Action Input: 4AKE\u001b[32;1m\u001b[1;3mThe first step is to download the PDB files for the open and closed AdK using the provided PDB IDs. I will use the PDBFileDownloader tool for this task.\n",
      "Action: PDBFileDownloader\n",
      "Action Input: 4AKE\u001b[0mPDB file found with this ID: 4AKE\n",
      "4AKE.pdb is created.\n",
      "\n",
      "Observation: \u001b[36;1m\u001b[1;3mName2PDB tool successfully downloaded the PDB file: 4AKE.pdb\u001b[0m\n",
      "Thought:The first PDB file has been downloaded successfully. Now, I need to download the second PDB file using the PDB ID 1AKE.\n",
      "Action: PDBFileDownloader\n",
      "Action Input: 1AKE\u001b[32;1m\u001b[1;3mThe first PDB file has been downloaded successfully. Now, I need to download the second PDB file using the PDB ID 1AKE.\n",
      "Action: PDBFileDownloader\n",
      "Action Input: 1AKE\u001b[0mPDB file found with this ID: 1AKE\n",
      "1AKE.pdb is created.\n",
      "\n",
      "Observation: \u001b[36;1m\u001b[1;3mName2PDB tool successfully downloaded the PDB file: 1AKE.pdb\u001b[0m\n",
      "Thought:The PDB files for both the open and closed AdK have been downloaded successfully. Now, I need to compute the RMSD between these two conformations. I will use the RmsdCompare tool for this task.\n",
      "Action: RmsdCompare\n",
      "Action Input: 4AKE.pdb,1AKE.pdb\u001b[32;1m\u001b[1;3mThe PDB files for both the open and closed AdK have been downloaded successfully. Now, I need to compute the RMSD between these two conformations. I will use the RmsdCompare tool for this task.\n",
      "Action: RmsdCompare\n",
      "Action Input: 4AKE.pdb,1AKE.pdb\u001b[0m\n",
      "Observation: \u001b[33;1m\u001b[1;3mRMSD is calculated: 18.419229728969018\u001b[0m\n",
      "Thought:The RMSD between the open and closed AdK has been calculated successfully. Now, I can provide the final answer.\n",
      "Final Answer: The RMSD between the open (PDB ID: 4AKE) and closed (PDB ID: 1AKE) AdK is approximately 18.42.\u001b[32;1m\u001b[1;3mThe RMSD between the open and closed AdK has been calculated successfully. Now, I can provide the final answer.\n",
      "Final Answer: The RMSD between the open (PDB ID: 4AKE) and closed (PDB ID: 1AKE) AdK is approximately 18.42.\u001b[0m\n",
      "\n",
      "\u001b[1m> Finished chain.\u001b[0m\n"
     ]
    }
   ],
   "source": [
    "prompt3 = 'compute RMSD between open and closed AdK using PDB IDs 4AKE and 1AKE'\n",
    "result = mrkl.run(prompt3)"
   ]
  }
 ],
 "metadata": {
  "kernelspec": {
   "display_name": "Python [conda env:mdagent] *",
   "language": "python",
   "name": "conda-env-mdagent-py"
  },
  "language_info": {
   "codemirror_mode": {
    "name": "ipython",
    "version": 3
   },
   "file_extension": ".py",
   "mimetype": "text/x-python",
   "name": "python",
   "nbconvert_exporter": "python",
   "pygments_lexer": "ipython3",
   "version": "3.11.4"
  }
 },
 "nbformat": 4,
 "nbformat_minor": 2
}
