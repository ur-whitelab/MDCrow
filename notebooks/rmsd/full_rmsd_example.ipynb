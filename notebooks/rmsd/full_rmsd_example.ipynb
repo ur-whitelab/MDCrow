{
 "cells": [
  {
   "cell_type": "code",
   "execution_count": 4,
   "metadata": {},
   "outputs": [
    {
     "data": {
      "text/plain": [
       "True"
      ]
     },
     "execution_count": 4,
     "metadata": {},
     "output_type": "execute_result"
    }
   ],
   "source": [
    "from dotenv import load_dotenv\n",
    "\n",
    "load_dotenv()"
   ]
  },
  {
   "cell_type": "code",
   "execution_count": 5,
   "metadata": {},
   "outputs": [],
   "source": [
    "from mdagent.agent import MDAgent\n",
    "mrkl = MDAgent()"
   ]
  },
  {
   "cell_type": "code",
   "execution_count": 6,
   "metadata": {},
   "outputs": [
    {
     "name": "stdout",
     "output_type": "stream",
     "text": [
      "\n",
      "\n",
      "\u001b[1m> Entering new  chain...\u001b[0m\n",
      "The user wants to download a PDB file with the PDB ID 1ACB, but with a CIF file type. I can use the PDBFileDownloader tool to accomplish this.\n",
      "\n",
      "Action: PDBFileDownloader\n",
      "Action Input: 1ACB cif\u001b[32;1m\u001b[1;3mThe user wants to download a PDB file with the PDB ID 1ACB, but with a CIF file type. I can use the PDBFileDownloader tool to accomplish this.\n",
      "\n",
      "Action: PDBFileDownloader\n",
      "Action Input: 1ACB cif\u001b[0mPDB file found with this ID: 1ACB\n",
      "1ACB.cif is created.\n",
      "\n",
      "Observation: \u001b[36;1m\u001b[1;3mName2PDB tool successfully downloaded the PDB file: 1ACB.cif\u001b[0m\n",
      "Thought:\n",
      "Final Answer: The PDB file with PDB ID 1ACB has been successfully downloaded with the CIF file type. The file is named \"1ACB.cif\".\u001b[32;1m\u001b[1;3m\n",
      "Final Answer: The PDB file with PDB ID 1ACB has been successfully downloaded with the CIF file type. The file is named \"1ACB.cif\".\u001b[0m\n",
      "\n",
      "\u001b[1m> Finished chain.\u001b[0m\n"
     ]
    }
   ],
   "source": [
    "# specify file type to download (PDB is now default file type)\n",
    "prompt1 = \"Download the PDB file with PDB ID 1ACB with cif as file type\"\n",
    "result = mrkl.run(prompt1)"
   ]
  },
  {
   "cell_type": "code",
   "execution_count": 7,
   "metadata": {},
   "outputs": [
    {
     "name": "stdout",
     "output_type": "stream",
     "text": [
      "1ACB.cif\r\n"
     ]
    }
   ],
   "source": [
    "%ls 1ACB.cif"
   ]
  },
  {
   "cell_type": "code",
   "execution_count": 8,
   "metadata": {},
   "outputs": [
    {
     "name": "stdout",
     "output_type": "stream",
     "text": [
      "\n",
      "\n",
      "\u001b[1m> Entering new  chain...\u001b[0m\n",
      "The first step is to download the PDB file for the given PDB ID. I will use the PDBFileDownloader tool for this.\n",
      "\n",
      "Action: PDBFileDownloader\n",
      "Action Input: 1ACB\u001b[32;1m\u001b[1;3mThe first step is to download the PDB file for the given PDB ID. I will use the PDBFileDownloader tool for this.\n",
      "\n",
      "Action: PDBFileDownloader\n",
      "Action Input: 1ACB\u001b[0mPDB file found with this ID: 1ACB\n",
      "1ACB.pdb is created.\n",
      "\n",
      "Observation: \u001b[36;1m\u001b[1;3mName2PDB tool successfully downloaded the PDB file: 1ACB.pdb\u001b[0m\n",
      "Thought:The PDB file has been downloaded successfully. Now, I need to calculate the average distance between the protein and peptide. For this, I will use the PPIDistance tool.\n",
      "\n",
      "Action: PPIDistance\n",
      "Action Input: 1ACB.pdb\u001b[32;1m\u001b[1;3mThe PDB file has been downloaded successfully. Now, I need to calculate the average distance between the protein and peptide. For this, I will use the PPIDistance tool.\n",
      "\n",
      "Action: PPIDistance\n",
      "Action Input: 1ACB.pdb\u001b[0m\n",
      "Observation: \u001b[36;1m\u001b[1;3mRMSD is calculated: 9.732250472399622\u001b[0m\n",
      "Thought:The average distance between the protein and peptide for PDB ID 1ACB has been calculated. Now, I can provide the final answer.\n",
      "\n",
      "Final Answer: The average distance between the protein and peptide for PDB ID 1ACB is approximately 9.73 Angstroms.\u001b[32;1m\u001b[1;3mThe average distance between the protein and peptide for PDB ID 1ACB has been calculated. Now, I can provide the final answer.\n",
      "\n",
      "Final Answer: The average distance between the protein and peptide for PDB ID 1ACB is approximately 9.73 Angstroms.\u001b[0m\n",
      "\n",
      "\u001b[1m> Finished chain.\u001b[0m\n"
     ]
    }
   ],
   "source": [
    "prompt2 = \"Calculate average distance between protein and peptide for PDB ID 1ACB.\"\n",
    "result = mrkl.run(prompt2)"
   ]
  },
  {
   "cell_type": "code",
   "execution_count": 9,
   "metadata": {},
   "outputs": [
    {
     "name": "stdout",
     "output_type": "stream",
     "text": [
      "\n",
      "\n",
      "\u001b[1m> Entering new  chain...\u001b[0m\n",
      "The first step is to download the PDB files for the open and closed AdK using the PDB IDs provided. I will use the PDBFileDownloader tool for this.\n",
      "\n",
      "Action: PDBFileDownloader\n",
      "Action Input: 4AKE\u001b[32;1m\u001b[1;3mThe first step is to download the PDB files for the open and closed AdK using the PDB IDs provided. I will use the PDBFileDownloader tool for this.\n",
      "\n",
      "Action: PDBFileDownloader\n",
      "Action Input: 4AKE\u001b[0mPDB file found with this ID: 4AKE\n",
      "4AKE.pdb is created.\n",
      "\n",
      "Observation: \u001b[36;1m\u001b[1;3mName2PDB tool successfully downloaded the PDB file: 4AKE.pdb\u001b[0m\n",
      "Thought:The first PDB file has been downloaded successfully. Now, I need to download the second PDB file using the PDB ID 1AKE.\n",
      "\n",
      "Action: PDBFileDownloader\n",
      "Action Input: 1AKE\u001b[32;1m\u001b[1;3mThe first PDB file has been downloaded successfully. Now, I need to download the second PDB file using the PDB ID 1AKE.\n",
      "\n",
      "Action: PDBFileDownloader\n",
      "Action Input: 1AKE\u001b[0mPDB file found with this ID: 1AKE\n",
      "1AKE.pdb is created.\n",
      "\n",
      "Observation: \u001b[36;1m\u001b[1;3mName2PDB tool successfully downloaded the PDB file: 1AKE.pdb\u001b[0m\n",
      "Thought:The PDB files for both the open and closed AdK have been downloaded successfully. Now, I need to compute the RMSD between these two conformations. I will use the RmsdCompare tool for this.\n",
      "\n",
      "Action: RmsdCompare\n",
      "Action Input: 4AKE.pdb,1AKE.pdb\u001b[32;1m\u001b[1;3mThe PDB files for both the open and closed AdK have been downloaded successfully. Now, I need to compute the RMSD between these two conformations. I will use the RmsdCompare tool for this.\n",
      "\n",
      "Action: RmsdCompare\n",
      "Action Input: 4AKE.pdb,1AKE.pdb\u001b[0m\n",
      "Observation: \u001b[33;1m\u001b[1;3mRMSD is calculated: 18.419229728969018\u001b[0m\n",
      "Thought:The RMSD between the open and closed AdK has been calculated successfully. Now, I can provide the final answer.\n",
      "\n",
      "Final Answer: The RMSD between the open (PDB ID: 4AKE) and closed (PDB ID: 1AKE) AdK is approximately 18.42.\u001b[32;1m\u001b[1;3mThe RMSD between the open and closed AdK has been calculated successfully. Now, I can provide the final answer.\n",
      "\n",
      "Final Answer: The RMSD between the open (PDB ID: 4AKE) and closed (PDB ID: 1AKE) AdK is approximately 18.42.\u001b[0m\n",
      "\n",
      "\u001b[1m> Finished chain.\u001b[0m\n"
     ]
    }
   ],
   "source": [
    "prompt3 = 'compute RMSD between open and closed AdK using PDB IDs 4AKE and 1AKE'\n",
    "result = mrkl.run(prompt3)"
   ]
  },
  {
   "cell_type": "code",
   "execution_count": 15,
   "metadata": {
    "scrolled": true
   },
   "outputs": [
    {
     "name": "stdout",
     "output_type": "stream",
     "text": [
      "\n",
      "\n",
      "\u001b[1m> Entering new  chain...\u001b[0m\n",
      "The user has provided a trajectory file (adk_dims.dcd) and a pdb file (adk_closed.pdb). They want to calculate the RMSD values for this trajectory and store the data. The most suitable tool for this task is the RmsdTrajectory tool. \n",
      "\n",
      "Action: RmsdTrajectory\n",
      "Action Input: adk_closed.pdb,adk_dims.dcd\u001b[32;1m\u001b[1;3mThe user has provided a trajectory file (adk_dims.dcd) and a pdb file (adk_closed.pdb). They want to calculate the RMSD values for this trajectory and store the data. The most suitable tool for this task is the RmsdTrajectory tool. \n",
      "\n",
      "Action: RmsdTrajectory\n",
      "Action Input: adk_closed.pdb,adk_dims.dcd\u001b[0mCalculated RMSD for each timestep.\n",
      "\n",
      "Observation: \u001b[38;5;200m\u001b[1;3mSucessfully created a file with RMSD values: rmsd_data.csv.\u001b[0m\n",
      "Thought:The RMSD values for the trajectory have been calculated and stored in a file named \"rmsd_data.csv\". \n",
      "\n",
      "Final Answer: The RMSD values for the trajectory have been calculated and stored in a file named \"rmsd_data.csv\".\u001b[32;1m\u001b[1;3mThe RMSD values for the trajectory have been calculated and stored in a file named \"rmsd_data.csv\". \n",
      "\n",
      "Final Answer: The RMSD values for the trajectory have been calculated and stored in a file named \"rmsd_data.csv\".\u001b[0m\n",
      "\n",
      "\u001b[1m> Finished chain.\u001b[0m\n"
     ]
    }
   ],
   "source": [
    "# Note: credits to MDAnalysisTest for local trajectories and pdb files\n",
    "prompt4 = 'I have trajectory file adk_dims.dcd and adk_closed.pdb. Please calculate RMSD values for this trajectory and store the data.'\n",
    "result = mrkl.run(prompt4)"
   ]
  },
  {
   "cell_type": "code",
   "execution_count": 16,
   "metadata": {},
   "outputs": [
    {
     "name": "stdout",
     "output_type": "stream",
     "text": [
      "rmsd_data.csv\r\n"
     ]
    }
   ],
   "source": [
    "!ls rmsd_data.csv"
   ]
  },
  {
   "cell_type": "code",
   "execution_count": 12,
   "metadata": {
    "scrolled": false
   },
   "outputs": [
    {
     "name": "stdout",
     "output_type": "stream",
     "text": [
      "\n",
      "\n",
      "\u001b[1m> Entering new  chain...\u001b[0m\n",
      "The user has provided a trajectory file and a pdb file and wants to calculate the average RMSD for this trajectory. The AvgRmsdTrajectory tool seems to be the most appropriate for this task.\n",
      "\n",
      "Action: AvgRmsdTrajectory\n",
      "Action Input: adk_closed.pdb,adk_dims.dcd\u001b[32;1m\u001b[1;3mThe user has provided a trajectory file and a pdb file and wants to calculate the average RMSD for this trajectory. The AvgRmsdTrajectory tool seems to be the most appropriate for this task.\n",
      "\n",
      "Action: AvgRmsdTrajectory\n",
      "Action Input: adk_closed.pdb,adk_dims.dcd\u001b[0m\n",
      "Observation: \u001b[36;1m\u001b[1;3mRMSD is calculated: 1.8806445751586403\u001b[0m\n",
      "Thought:"
     ]
    },
    {
     "name": "stderr",
     "output_type": "stream",
     "text": [
      "/opt/anaconda3/envs/mdagent/lib/python3.11/site-packages/MDAnalysis/coordinates/DCD.py:165: DeprecationWarning: DCDReader currently makes independent timesteps by copying self.ts while other readers update self.ts inplace. This behavior will be changed in 3.0 to be the same as other readers. Read more at https://github.com/MDAnalysis/mdanalysis/issues/3889 to learn if this change in behavior might affect you.\n",
      "  warnings.warn(\"DCDReader currently makes independent timesteps\"\n"
     ]
    },
    {
     "name": "stdout",
     "output_type": "stream",
     "text": [
      "\n",
      "Final Answer: The average RMSD for the given trajectory is approximately 1.88.\u001b[32;1m\u001b[1;3m\n",
      "Final Answer: The average RMSD for the given trajectory is approximately 1.88.\u001b[0m\n",
      "\n",
      "\u001b[1m> Finished chain.\u001b[0m\n"
     ]
    }
   ],
   "source": [
    "prompt4 = 'I have trajectory file adk_dims.dcd and pdb file adk_closed.pdb. Please calculate average RMSD for this trajectory.'\n",
    "result = mrkl.run(prompt4)"
   ]
  },
  {
   "cell_type": "code",
   "execution_count": 13,
   "metadata": {},
   "outputs": [
    {
     "name": "stdout",
     "output_type": "stream",
     "text": [
      "\n",
      "\n",
      "\u001b[1m> Entering new  chain...\u001b[0m\n",
      "The first step is to use the RmsdCompare tool to calculate the RMSD between the two trajectories. The input for this tool should be the paths to the pdb file, reference file, trajectory, and reference trajectory, in that order.\n",
      "\n",
      "Action: RmsdCompare\n",
      "Action Input: adk_closed.pdb,adk_open.pdb,adk_dims.dcd,adk_open.crd\u001b[32;1m\u001b[1;3mThe first step is to use the RmsdCompare tool to calculate the RMSD between the two trajectories. The input for this tool should be the paths to the pdb file, reference file, trajectory, and reference trajectory, in that order.\n",
      "\n",
      "Action: RmsdCompare\n",
      "Action Input: adk_closed.pdb,adk_open.pdb,adk_dims.dcd,adk_open.crd\u001b[0m\n",
      "Observation: \u001b[33;1m\u001b[1;3mRMSD is calculated: 6.823686867261616\u001b[0m\n",
      "Thought:\n",
      "Final Answer: The RMSD (Root Mean Square Deviation) between the two trajectories of the proteins is approximately 6.82. This value represents the average distance between the atoms of the two protein structures. The higher the RMSD, the more different the two structures are.\u001b[32;1m\u001b[1;3m\n",
      "Final Answer: The RMSD (Root Mean Square Deviation) between the two trajectories of the proteins is approximately 6.82. This value represents the average distance between the atoms of the two protein structures. The higher the RMSD, the more different the two structures are.\u001b[0m\n",
      "\n",
      "\u001b[1m> Finished chain.\u001b[0m\n"
     ]
    }
   ],
   "source": [
    "prompt4 = 'I have trajectory file and pdb file for protein: adk_dims.dcd and adk_closed.pdb.\\\n",
    "I have trajectory and pdb file for reference: adk_open.crd and adk_open.pdb. \\\n",
    "Please calculate RMSD to compare both trajectories.'\n",
    "result = mrkl.run(prompt4)"
   ]
  }
 ],
 "metadata": {
  "kernelspec": {
   "display_name": "Python [conda env:mdagent] *",
   "language": "python",
   "name": "conda-env-mdagent-py"
  },
  "language_info": {
   "codemirror_mode": {
    "name": "ipython",
    "version": 3
   },
   "file_extension": ".py",
   "mimetype": "text/x-python",
   "name": "python",
   "nbconvert_exporter": "python",
   "pygments_lexer": "ipython3",
   "version": "3.11.4"
  }
 },
 "nbformat": 4,
 "nbformat_minor": 2
}
