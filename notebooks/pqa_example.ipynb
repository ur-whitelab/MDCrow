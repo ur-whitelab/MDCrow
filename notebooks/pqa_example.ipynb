{
 "cells": [
  {
   "cell_type": "code",
   "execution_count": 1,
   "id": "c6d6eb3a",
   "metadata": {},
   "outputs": [],
   "source": [
    "import os\n",
    "#API keys\n",
    "os.environ[\"OPENAI_API_KEY\"] = \"<YOUR_API_KEY_HERE>\"\n",
    "os.environ[\"SEMANTIC_API_KEY\"] = \"<YOUR_API_KEY_HERE>\"\n",
    "os.environ[\"PQA_API_KEY\"]=\"<YOUR_API_KEY_HERE>\""
   ]
  },
  {
   "cell_type": "code",
   "execution_count": 2,
   "id": "a433788e",
   "metadata": {},
   "outputs": [],
   "source": [
    "from mdagent.agent import MDAgent, MDTools\n",
    "\n",
    "mdtools = MDTools()"
   ]
  },
  {
   "cell_type": "code",
   "execution_count": 3,
   "id": "8d3cde2d",
   "metadata": {},
   "outputs": [
    {
     "name": "stdout",
     "output_type": "stream",
     "text": [
      "What are the typical time steps and integration algorithms used in MD simulations for the AMBER force field?\n"
     ]
    }
   ],
   "source": [
    "search_task = \"What are the typical time steps and integration algorithms used in MD simulations for the AMBER force field?\" \n",
    "print(search_task)"
   ]
  },
  {
   "cell_type": "code",
   "execution_count": 4,
   "id": "6b591e52",
   "metadata": {},
   "outputs": [
    {
     "name": "stdout",
     "output_type": "stream",
     "text": [
      "\n",
      "\n",
      "\u001b[1m> Entering new RetryAgentExecutor chain...\u001b[0m\n",
      "\u001b[32;1m\u001b[1;3mThought: I need to find information about typical time steps and integration algorithms used in MD simulations for the AMBER force field.\n",
      "Action: LiteratureSearch\n",
      "Action Input: What are the typical time steps and integration algorithms used in MD simulations for the AMBER force field?\u001b[0m\n",
      "Observation: \u001b[36;1m\u001b[1;3mQuestion: What are the typical time steps and integration algorithms used in MD simulations for the AMBER force field?\n",
      "\n",
      "The typical time step used in molecular dynamics (MD) simulations for the AMBER force field is 2 femtoseconds (fs) (Salomón-Ferrer2013RoutineMM pages 28-29; Lee2015CHARMMGUIIG pages 2-3). For constraining bonds to hydrogen atoms, the SHAKE algorithm is commonly used with a relative geometrical tolerance of 10^(-6) Å (Salomón-Ferrer2013RoutineMM pages 28-29; Lee2015CHARMMGUIIG pages 2-3). In the context of temperature control, the Berendsen weak coupling algorithm is often employed with a time constant of τT = 10.0 ps (Salomón-Ferrer2013RoutineMM pages 28-29). It is worth noting that different algorithms, such as simple algorithms and predictor-corrector algorithms, can be used for integrating the equations of motion in MD simulations (González2011ForceFA pages 16-17). However, the specific integration algorithm used for the AMBER force field is not explicitly mentioned in the provided sources.\n",
      "\n",
      "References\n",
      "\n",
      "1. (Salomón-Ferrer2013RoutineMM): Romelia Salomón-Ferrer, A. Götz, D. Poole, S. Le Grand, and R. Walker. Routine microsecond molecular dynamics simulations with amber on gpus. 2. explicit solvent particle mesh ewald. Journal of chemical theory and computation, 9 9:3878-88, 2013. (2190 citations) 10.1021/ct400314y\n",
      "\n",
      "2. (González2011ForceFA): Force fields and molecular dynamics simulations (160 citations) 10.1051/SFN/201112009\n",
      "\n",
      "3. (Lee2015CHARMMGUIIG): Jumin Lee, Xi Cheng, J. Swails, M. S. Yeom, P. Eastman, Justin A. Lemkul, Shuai Wei, Josh Buckner, Jong Cheol Jeong, Yifei Qi, Sunhwan Jo, V. Pande, D. Case, C. Brooks, Alexander D. MacKerell, Jeffery B. Klauda, and W. Im. Charmm-gui input generator for namd, gromacs, amber, openmm, and charmm/openmm simulations using the charmm36 additive force field. Journal of Chemical Theory and Computation, 12:405 - 413, 2015. (1899 citations) 10.1021/acs.jctc.5b00935\n",
      "\n",
      "Tokens Used: 0 Cost: $0.02\u001b[0m\n",
      "Thought:\u001b[32;1m\u001b[1;3mFinal Answer: The typical time step used in MD simulations for the AMBER force field is 2 femtoseconds (fs). The SHAKE algorithm is commonly used for constraining bonds to hydrogen atoms with a relative geometrical tolerance of 10^(-6) Å. The Berendsen weak coupling algorithm is often employed for temperature control with a time constant of τT = 10.0 ps. Different algorithms can be used for integrating the equations of motion in MD simulations, but the specific integration algorithm used for the AMBER force field is not explicitly mentioned in the available literature.\u001b[0m\n",
      "\n",
      "\u001b[1m> Finished chain.\u001b[0m\n"
     ]
    }
   ],
   "source": [
    "mrkl = MDAgent(\n",
    "    mdtools.all_tools,\n",
    "    model=\"gpt-4\",\n",
    "    temp=0.1,\n",
    ")\n",
    "result = mrkl.run(search_task)"
   ]
  }
 ],
 "metadata": {
  "kernelspec": {
   "display_name": "mdagent",
   "language": "python",
   "name": "mdagent"
  },
  "language_info": {
   "codemirror_mode": {
    "name": "ipython",
    "version": 3
   },
   "file_extension": ".py",
   "mimetype": "text/x-python",
   "name": "python",
   "nbconvert_exporter": "python",
   "pygments_lexer": "ipython3",
   "version": "3.10.11"
  }
 },
 "nbformat": 4,
 "nbformat_minor": 5
}
